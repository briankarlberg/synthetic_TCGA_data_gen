{
 "cells": [
  {
   "cell_type": "markdown",
   "id": "7c7b431f-f734-4dff-a6b1-1a1eae3c3639",
   "metadata": {},
   "source": [
    "# Data"
   ]
  },
  {
   "cell_type": "markdown",
   "id": "977c1e7b-7cd6-4217-9763-1bc424474a5c",
   "metadata": {},
   "source": [
    "## Setup, transfer-in code from rep_0.7_luadlusc.v2"
   ]
  },
  {
   "cell_type": "code",
   "execution_count": 6,
   "id": "cfe04eb6-32f8-453b-a400-941440118dcc",
   "metadata": {},
   "outputs": [
    {
     "data": {
      "text/plain": [
       "'/Users/karlberb/Documents/work/sample_count/synthetic_TCGA_data_gen/g_line_curves'"
      ]
     },
     "execution_count": 6,
     "metadata": {},
     "output_type": "execute_result"
    }
   ],
   "source": [
    "pwd"
   ]
  },
  {
   "cell_type": "code",
   "execution_count": 7,
   "id": "b81018e6-148a-4f8d-aa61-3e5afe87419b",
   "metadata": {},
   "outputs": [
    {
     "name": "stdout",
     "output_type": "stream",
     "text": [
      "a_data.ipynb\n"
     ]
    }
   ],
   "source": [
    "ls"
   ]
  },
  {
   "cell_type": "code",
   "execution_count": null,
   "id": "555b7fb3-8556-4651-995a-cde5613bd9dc",
   "metadata": {},
   "outputs": [],
   "source": []
  },
  {
   "cell_type": "markdown",
   "id": "4cadc46a-e1dc-4f9e-80a2-225693df6270",
   "metadata": {},
   "source": [
    "## Count the subtypes"
   ]
  },
  {
   "cell_type": "code",
   "execution_count": 1,
   "id": "29590ce2-cea4-4419-bbd7-536813de6442",
   "metadata": {},
   "outputs": [],
   "source": [
    "import glob"
   ]
  },
  {
   "cell_type": "code",
   "execution_count": 2,
   "id": "1832307c-8edd-4092-b094-ac1d8e0f0997",
   "metadata": {},
   "outputs": [],
   "source": [
    "from collections import Counter"
   ]
  },
  {
   "cell_type": "code",
   "execution_count": 3,
   "id": "c7929010-81e1-4afb-b4dd-5f74b67ec7eb",
   "metadata": {},
   "outputs": [],
   "source": [
    "all_paths = sorted(glob.glob('/Users/karlberb/Documents/work/GDAN_TMP/TMP_v12_20210228/*.tsv'))\n",
    "cv_folds = (\n",
    "    glob.glob(\n",
    "        '/Users/karlberb/Documents/work/GDAN_TMP/TMP_v12_20210228/*CVfolds_5FOLD*.tsv'))\n",
    "molecular_files = list((Counter(all_paths)-Counter(cv_folds)).elements())"
   ]
  },
  {
   "cell_type": "code",
   "execution_count": 4,
   "id": "0a40e8be-250d-44fb-90b7-b8aa57f7a4e3",
   "metadata": {},
   "outputs": [],
   "source": [
    "import pandas as pd"
   ]
  },
  {
   "cell_type": "code",
   "execution_count": 5,
   "id": "7cef3814-6fd0-483a-9e5e-7d348c13706c",
   "metadata": {},
   "outputs": [
    {
     "name": "stdout",
     "output_type": "stream",
     "text": [
      "ACC 76\n",
      "BLCA 399\n",
      "BRCA 995\n",
      "CESC 177\n",
      "COADREAD 449\n",
      "ESCC 86\n",
      "GEA 461\n",
      "HNSC 506\n",
      "KIRCKICH 556\n",
      "KIRP 155\n",
      "LGGGBM 782\n",
      "LIHCCHOL 378\n",
      "LUAD 500\n",
      "LUSC 460\n",
      "MESO 74\n",
      "OV 285\n",
      "PAAD 76\n",
      "PCPG 159\n",
      "PRAD 273\n",
      "SARC 191\n",
      "SKCM 444\n",
      "TGCT 133\n",
      "THCA 486\n",
      "THYM 117\n",
      "UCEC 499\n",
      "UVM 74\n"
     ]
    }
   ],
   "source": [
    "for file in molecular_files:   \n",
    "    df = pd.read_csv(\n",
    "        file,\n",
    "        sep=\"\\t\", index_col=0)\n",
    "    print(df.index.name, len(df))\n",
    "    # break"
   ]
  },
  {
   "cell_type": "code",
   "execution_count": null,
   "id": "1f8519c7-b131-4827-b2f9-d884c61965cc",
   "metadata": {},
   "outputs": [],
   "source": []
  }
 ],
 "metadata": {
  "kernelspec": {
   "display_name": "Python 3 (ipykernel)",
   "language": "python",
   "name": "python3"
  },
  "language_info": {
   "codemirror_mode": {
    "name": "ipython",
    "version": 3
   },
   "file_extension": ".py",
   "mimetype": "text/x-python",
   "name": "python",
   "nbconvert_exporter": "python",
   "pygments_lexer": "ipython3",
   "version": "3.9.13"
  }
 },
 "nbformat": 4,
 "nbformat_minor": 5
}
