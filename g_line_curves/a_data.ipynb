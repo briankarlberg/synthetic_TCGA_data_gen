{
 "cells": [
  {
   "cell_type": "markdown",
   "id": "7c7b431f-f734-4dff-a6b1-1a1eae3c3639",
   "metadata": {},
   "source": [
    "# Data"
   ]
  },
  {
   "cell_type": "markdown",
   "id": "977c1e7b-7cd6-4217-9763-1bc424474a5c",
   "metadata": {},
   "source": [
    "## Setup, transfer-in code from rep_0.7_luadlusc.v2"
   ]
  },
  {
   "cell_type": "code",
   "execution_count": 6,
   "id": "cfe04eb6-32f8-453b-a400-941440118dcc",
   "metadata": {},
   "outputs": [
    {
     "data": {
      "text/plain": [
       "'/Users/karlberb/Documents/work/sample_count/synthetic_TCGA_data_gen/g_line_curves'"
      ]
     },
     "execution_count": 6,
     "metadata": {},
     "output_type": "execute_result"
    }
   ],
   "source": [
    "pwd"
   ]
  },
  {
   "cell_type": "code",
   "execution_count": 7,
   "id": "b81018e6-148a-4f8d-aa61-3e5afe87419b",
   "metadata": {},
   "outputs": [
    {
     "name": "stdout",
     "output_type": "stream",
     "text": [
      "a_data.ipynb\n"
     ]
    }
   ],
   "source": [
    "ls"
   ]
  },
  {
   "cell_type": "code",
   "execution_count": null,
   "id": "555b7fb3-8556-4651-995a-cde5613bd9dc",
   "metadata": {},
   "outputs": [],
   "source": []
  },
  {
   "cell_type": "markdown",
   "id": "4cadc46a-e1dc-4f9e-80a2-225693df6270",
   "metadata": {},
   "source": [
    "## Count the subtypes"
   ]
  },
  {
   "cell_type": "code",
   "execution_count": 2,
   "id": "29590ce2-cea4-4419-bbd7-536813de6442",
   "metadata": {},
   "outputs": [],
   "source": [
    "import glob"
   ]
  },
  {
   "cell_type": "code",
   "execution_count": 3,
   "id": "1832307c-8edd-4092-b094-ac1d8e0f0997",
   "metadata": {},
   "outputs": [],
   "source": [
    "from collections import Counter"
   ]
  },
  {
   "cell_type": "code",
   "execution_count": 4,
   "id": "c7929010-81e1-4afb-b4dd-5f74b67ec7eb",
   "metadata": {},
   "outputs": [],
   "source": [
    "all_paths = sorted(glob.glob('/Users/karlberb/Documents/work/GDAN_TMP/TMP_v12_20210228/*.tsv'))\n",
    "cv_folds = (\n",
    "    glob.glob(\n",
    "        '/Users/karlberb/Documents/work/GDAN_TMP/TMP_v12_20210228/*CVfolds_5FOLD*.tsv'))\n",
    "molecular_files = list((Counter(all_paths)-Counter(cv_folds)).elements())"
   ]
  },
  {
   "cell_type": "code",
   "execution_count": 5,
   "id": "0a40e8be-250d-44fb-90b7-b8aa57f7a4e3",
   "metadata": {},
   "outputs": [],
   "source": [
    "import pandas as pd"
   ]
  },
  {
   "cell_type": "code",
   "execution_count": 6,
   "id": "7cef3814-6fd0-483a-9e5e-7d348c13706c",
   "metadata": {},
   "outputs": [
    {
     "name": "stdout",
     "output_type": "stream",
     "text": [
      "ACC 76\n",
      "BLCA 399\n",
      "BRCA 995\n",
      "CESC 177\n",
      "COADREAD 449\n",
      "ESCC 86\n",
      "GEA 461\n",
      "HNSC 506\n",
      "KIRCKICH 556\n",
      "KIRP 155\n",
      "LGGGBM 782\n",
      "LIHCCHOL 378\n",
      "LUAD 500\n",
      "LUSC 460\n",
      "MESO 74\n",
      "OV 285\n",
      "PAAD 76\n",
      "PCPG 159\n",
      "PRAD 273\n",
      "SARC 191\n",
      "SKCM 444\n",
      "TGCT 133\n",
      "THCA 486\n",
      "THYM 117\n",
      "UCEC 499\n",
      "UVM 74\n"
     ]
    },
    {
     "ename": "NameError",
     "evalue": "name 'df_dict' is not defined",
     "output_type": "error",
     "traceback": [
      "\u001b[0;31m---------------------------------------------------------------------------\u001b[0m",
      "\u001b[0;31mNameError\u001b[0m                                 Traceback (most recent call last)",
      "Cell \u001b[0;32mIn [6], line 10\u001b[0m\n\u001b[1;32m      8\u001b[0m     cohorts\u001b[38;5;241m.\u001b[39mappend(df\u001b[38;5;241m.\u001b[39mindex\u001b[38;5;241m.\u001b[39mname)\n\u001b[1;32m      9\u001b[0m     lens\u001b[38;5;241m.\u001b[39mappend(\u001b[38;5;28mlen\u001b[39m(df))\n\u001b[0;32m---> 10\u001b[0m \u001b[43mdf_dict\u001b[49m[\u001b[38;5;124m'\u001b[39m\u001b[38;5;124mCohorts\u001b[39m\u001b[38;5;124m'\u001b[39m] \u001b[38;5;241m=\u001b[39m cohorts\n\u001b[1;32m     11\u001b[0m df_dict[\u001b[38;5;124m'\u001b[39m\u001b[38;5;124mSample_counts\u001b[39m\u001b[38;5;124m'\u001b[39m] \u001b[38;5;241m=\u001b[39m lens\n\u001b[1;32m     12\u001b[0m lenDF \u001b[38;5;241m=\u001b[39m pd\u001b[38;5;241m.\u001b[39mDataFrame(df_dict)\n",
      "\u001b[0;31mNameError\u001b[0m: name 'df_dict' is not defined"
     ]
    }
   ],
   "source": [
    "cohorts = []\n",
    "lens = []\n",
    "df_dict = {}\n",
    "for file in molecular_files:   \n",
    "    df = pd.read_csv(\n",
    "        file,\n",
    "        sep=\"\\t\", index_col=0)\n",
    "    print(df.index.name, len(df))\n",
    "    cohorts.append(df.index.name)\n",
    "    lens.append(len(df))\n",
    "df_dict['Cohorts'] = cohorts\n",
    "df_dict['Sample_counts'] = lens\n",
    "lenDF = pd.DataFrame(df_dict)\n",
    "    # break"
   ]
  },
  {
   "cell_type": "code",
   "execution_count": 7,
   "id": "73df566a-2024-4709-89f2-a862f9f9522e",
   "metadata": {},
   "outputs": [],
   "source": [
    "df_dict = {}"
   ]
  },
  {
   "cell_type": "code",
   "execution_count": 8,
   "id": "148c45fc-d7e8-43cb-a247-73540ad9635f",
   "metadata": {},
   "outputs": [],
   "source": [
    "df_dict['Cohorts'] = cohorts\n",
    "df_dict['Sample_counts'] = lens"
   ]
  },
  {
   "cell_type": "code",
   "execution_count": 9,
   "id": "cc7a5079-6789-4824-a487-25e309b02c64",
   "metadata": {},
   "outputs": [],
   "source": [
    "lenDF = pd.DataFrame(df_dict)"
   ]
  },
  {
   "cell_type": "code",
   "execution_count": 11,
   "id": "1f8519c7-b131-4827-b2f9-d884c61965cc",
   "metadata": {},
   "outputs": [
    {
     "data": {
      "text/html": [
       "<div>\n",
       "<style scoped>\n",
       "    .dataframe tbody tr th:only-of-type {\n",
       "        vertical-align: middle;\n",
       "    }\n",
       "\n",
       "    .dataframe tbody tr th {\n",
       "        vertical-align: top;\n",
       "    }\n",
       "\n",
       "    .dataframe thead th {\n",
       "        text-align: right;\n",
       "    }\n",
       "</style>\n",
       "<table border=\"1\" class=\"dataframe\">\n",
       "  <thead>\n",
       "    <tr style=\"text-align: right;\">\n",
       "      <th></th>\n",
       "      <th>Cohorts</th>\n",
       "      <th>Sample_counts</th>\n",
       "    </tr>\n",
       "  </thead>\n",
       "  <tbody>\n",
       "    <tr>\n",
       "      <th>25</th>\n",
       "      <td>UVM</td>\n",
       "      <td>74</td>\n",
       "    </tr>\n",
       "    <tr>\n",
       "      <th>14</th>\n",
       "      <td>MESO</td>\n",
       "      <td>74</td>\n",
       "    </tr>\n",
       "    <tr>\n",
       "      <th>16</th>\n",
       "      <td>PAAD</td>\n",
       "      <td>76</td>\n",
       "    </tr>\n",
       "    <tr>\n",
       "      <th>0</th>\n",
       "      <td>ACC</td>\n",
       "      <td>76</td>\n",
       "    </tr>\n",
       "    <tr>\n",
       "      <th>5</th>\n",
       "      <td>ESCC</td>\n",
       "      <td>86</td>\n",
       "    </tr>\n",
       "    <tr>\n",
       "      <th>23</th>\n",
       "      <td>THYM</td>\n",
       "      <td>117</td>\n",
       "    </tr>\n",
       "    <tr>\n",
       "      <th>21</th>\n",
       "      <td>TGCT</td>\n",
       "      <td>133</td>\n",
       "    </tr>\n",
       "    <tr>\n",
       "      <th>9</th>\n",
       "      <td>KIRP</td>\n",
       "      <td>155</td>\n",
       "    </tr>\n",
       "    <tr>\n",
       "      <th>17</th>\n",
       "      <td>PCPG</td>\n",
       "      <td>159</td>\n",
       "    </tr>\n",
       "    <tr>\n",
       "      <th>3</th>\n",
       "      <td>CESC</td>\n",
       "      <td>177</td>\n",
       "    </tr>\n",
       "    <tr>\n",
       "      <th>19</th>\n",
       "      <td>SARC</td>\n",
       "      <td>191</td>\n",
       "    </tr>\n",
       "    <tr>\n",
       "      <th>18</th>\n",
       "      <td>PRAD</td>\n",
       "      <td>273</td>\n",
       "    </tr>\n",
       "    <tr>\n",
       "      <th>15</th>\n",
       "      <td>OV</td>\n",
       "      <td>285</td>\n",
       "    </tr>\n",
       "    <tr>\n",
       "      <th>11</th>\n",
       "      <td>LIHCCHOL</td>\n",
       "      <td>378</td>\n",
       "    </tr>\n",
       "    <tr>\n",
       "      <th>1</th>\n",
       "      <td>BLCA</td>\n",
       "      <td>399</td>\n",
       "    </tr>\n",
       "    <tr>\n",
       "      <th>20</th>\n",
       "      <td>SKCM</td>\n",
       "      <td>444</td>\n",
       "    </tr>\n",
       "    <tr>\n",
       "      <th>4</th>\n",
       "      <td>COADREAD</td>\n",
       "      <td>449</td>\n",
       "    </tr>\n",
       "    <tr>\n",
       "      <th>13</th>\n",
       "      <td>LUSC</td>\n",
       "      <td>460</td>\n",
       "    </tr>\n",
       "    <tr>\n",
       "      <th>6</th>\n",
       "      <td>GEA</td>\n",
       "      <td>461</td>\n",
       "    </tr>\n",
       "    <tr>\n",
       "      <th>22</th>\n",
       "      <td>THCA</td>\n",
       "      <td>486</td>\n",
       "    </tr>\n",
       "    <tr>\n",
       "      <th>24</th>\n",
       "      <td>UCEC</td>\n",
       "      <td>499</td>\n",
       "    </tr>\n",
       "    <tr>\n",
       "      <th>12</th>\n",
       "      <td>LUAD</td>\n",
       "      <td>500</td>\n",
       "    </tr>\n",
       "    <tr>\n",
       "      <th>7</th>\n",
       "      <td>HNSC</td>\n",
       "      <td>506</td>\n",
       "    </tr>\n",
       "    <tr>\n",
       "      <th>8</th>\n",
       "      <td>KIRCKICH</td>\n",
       "      <td>556</td>\n",
       "    </tr>\n",
       "    <tr>\n",
       "      <th>10</th>\n",
       "      <td>LGGGBM</td>\n",
       "      <td>782</td>\n",
       "    </tr>\n",
       "    <tr>\n",
       "      <th>2</th>\n",
       "      <td>BRCA</td>\n",
       "      <td>995</td>\n",
       "    </tr>\n",
       "  </tbody>\n",
       "</table>\n",
       "</div>"
      ],
      "text/plain": [
       "     Cohorts  Sample_counts\n",
       "25       UVM             74\n",
       "14      MESO             74\n",
       "16      PAAD             76\n",
       "0        ACC             76\n",
       "5       ESCC             86\n",
       "23      THYM            117\n",
       "21      TGCT            133\n",
       "9       KIRP            155\n",
       "17      PCPG            159\n",
       "3       CESC            177\n",
       "19      SARC            191\n",
       "18      PRAD            273\n",
       "15        OV            285\n",
       "11  LIHCCHOL            378\n",
       "1       BLCA            399\n",
       "20      SKCM            444\n",
       "4   COADREAD            449\n",
       "13      LUSC            460\n",
       "6        GEA            461\n",
       "22      THCA            486\n",
       "24      UCEC            499\n",
       "12      LUAD            500\n",
       "7       HNSC            506\n",
       "8   KIRCKICH            556\n",
       "10    LGGGBM            782\n",
       "2       BRCA            995"
      ]
     },
     "execution_count": 11,
     "metadata": {},
     "output_type": "execute_result"
    }
   ],
   "source": [
    "lenDF.sort_values('Sample_counts')"
   ]
  },
  {
   "cell_type": "code",
   "execution_count": null,
   "id": "8e0cfe32-ed99-483c-8ab2-ba44805a9e42",
   "metadata": {},
   "outputs": [],
   "source": []
  }
 ],
 "metadata": {
  "kernelspec": {
   "display_name": "Python 3 (ipykernel)",
   "language": "python",
   "name": "python3"
  },
  "language_info": {
   "codemirror_mode": {
    "name": "ipython",
    "version": 3
   },
   "file_extension": ".py",
   "mimetype": "text/x-python",
   "name": "python",
   "nbconvert_exporter": "python",
   "pygments_lexer": "ipython3",
   "version": "3.9.13"
  }
 },
 "nbformat": 4,
 "nbformat_minor": 5
}
