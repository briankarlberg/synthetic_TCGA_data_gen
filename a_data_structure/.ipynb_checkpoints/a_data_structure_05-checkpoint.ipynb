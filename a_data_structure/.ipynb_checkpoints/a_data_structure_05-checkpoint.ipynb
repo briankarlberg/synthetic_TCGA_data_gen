{
 "cells": [
  {
   "cell_type": "markdown",
   "id": "3d639b11-d39b-4fe8-bcd5-e74e5c282890",
   "metadata": {
    "tags": []
   },
   "source": [
    "#### Setup, description"
   ]
  },
  {
   "cell_type": "code",
   "execution_count": 1,
   "id": "5090a644-2b54-43f2-bb36-e3247be90706",
   "metadata": {},
   "outputs": [],
   "source": [
    "# v4, for 1D model, outlier clipping\n",
    "# to 1Dmodel then umap decoded BRCA in d_\n",
    "# Validation of quality of embedding\n",
    "# 2022-10-13 Thursday\n",
    "    # post 1D test at 5 epochs on some clipped outlier data, bladder\n",
    "    # gen BRCA clipped set then run tests\n",
    "\n",
    "# secondary questions:\n",
    "    # where is the float32 conversion happening?"
   ]
  },
  {
   "cell_type": "code",
   "execution_count": 2,
   "id": "e1e9c461-1ba5-4219-ba2f-a740f6a1a779",
   "metadata": {},
   "outputs": [],
   "source": [
    "# from V3 - Run raw vs. decoded samples into a UMAP\n",
    "# Validation of quality of embedding"
   ]
  },
  {
   "cell_type": "code",
   "execution_count": 3,
   "id": "93fbb1fd-f71f-4f5f-886f-9dc3a1e3cf87",
   "metadata": {},
   "outputs": [],
   "source": [
    "# Ops notes\n",
    "# latent space grid: 50 to 500 ?"
   ]
  },
  {
   "cell_type": "code",
   "execution_count": 4,
   "id": "68437f21-740f-4615-8d85-37f6a16a8260",
   "metadata": {},
   "outputs": [
    {
     "data": {
      "text/plain": [
       "'/Users/kirchgae/Development/OHSU/synthetic_TCGA_data_gen/a_data_structure'"
      ]
     },
     "execution_count": 4,
     "metadata": {},
     "output_type": "execute_result"
    }
   ],
   "source": [
    "pwd"
   ]
  },
  {
   "cell_type": "code",
   "execution_count": 5,
   "id": "05d5cc34-e7a6-40ed-854f-634f4570f288",
   "metadata": {},
   "outputs": [
    {
     "name": "stdout",
     "output_type": "stream",
     "text": [
      "Interactive namespace is empty.\n"
     ]
    }
   ],
   "source": [
    "%whos"
   ]
  },
  {
   "cell_type": "code",
   "execution_count": 6,
   "id": "f859bdb2-3e94-4656-aa0e-dc15b1de2c2f",
   "metadata": {},
   "outputs": [],
   "source": [
    "# target dir for the flat normed data: normed_data/\n",
    "    # to the 1D model"
   ]
  },
  {
   "cell_type": "code",
   "execution_count": 7,
   "id": "1eab86d7-c3d6-4223-951b-7c38053dcad0",
   "metadata": {},
   "outputs": [
    {
     "name": "stdout",
     "output_type": "stream",
     "text": [
      "BLCA_test_norm.tsv               a_data_structure_04.ipynb\n",
      "BLCA_train_norm.tsv              a_data_structure_05.ipynb\n",
      "a_data_structure_00-Copy1.ipynb  a_data_structure_1D_BLCA.ipynb\n",
      "a_data_structure_00.ipynb        \u001b[34mgexp_files\u001b[m\u001b[m/\n",
      "a_data_structure_01.ipynb        intersect_00.ipynb\n",
      "a_data_structure_02.ipynb        intersect_template.ipynb\n",
      "a_data_structure_03.ipynb\n"
     ]
    }
   ],
   "source": [
    "ls"
   ]
  },
  {
   "cell_type": "code",
   "execution_count": 8,
   "id": "c20dfbd1-4a23-401b-88cb-15596d923801",
   "metadata": {},
   "outputs": [],
   "source": [
    "# c module latent space sampling note\n",
    "# two methods here - pairwise averaging and rejection method\n",
    "\n",
    "# why not one-hot encode the labels?"
   ]
  },
  {
   "cell_type": "code",
   "execution_count": 9,
   "id": "3388490f-25fd-4534-bc35-71ee4d6d138a",
   "metadata": {},
   "outputs": [
    {
     "name": "stdout",
     "output_type": "stream",
     "text": [
      "Interactive namespace is empty.\n"
     ]
    }
   ],
   "source": [
    "%whos"
   ]
  },
  {
   "cell_type": "code",
   "execution_count": 10,
   "id": "01294c08-d1ab-49ec-96bd-36e483d313f7",
   "metadata": {},
   "outputs": [
    {
     "name": "stdout",
     "output_type": "stream",
     "text": [
      "2022-10-24\n"
     ]
    }
   ],
   "source": [
    "from datetime import datetime\n",
    "date = datetime.today().strftime('%Y-%m-%d')\n",
    "print(date) # write normed raw, to 1D; square wraps to 2D model\n",
    "                    # do outlier clipping? this means a dataset / VAE architechture grid\n",
    "                            # put results to figure drive\n",
    "                            # confirm previous UMAP result was technical artifact sampling uint8 converted samples (?)\n",
    "                    # UMAP post inverse_MinMax (?)\n",
    "                    \n",
    "                    # RobustScaler has inverse_Transform also\n",
    "                    # https://scikit-learn.org/stable/modules/generated/sklearn.preprocessing.RobustScaler.html\n",
    "                    \n",
    "version = 'a_data_structure_05.ipynb' # version controlled repo"
   ]
  },
  {
   "cell_type": "code",
   "execution_count": 11,
   "id": "47c542b3-b49c-4146-b402-2baf5f8f0d1d",
   "metadata": {},
   "outputs": [],
   "source": [
    "import glob as glob\n",
    "import pandas as pd\n",
    "from sklearn.model_selection import train_test_split # run multiple splits? inline with model\n",
    "import numpy as np\n",
    "from sklearn.preprocessing import MinMaxScaler\n",
    "from sklearn.preprocessing import RobustScaler"
   ]
  },
  {
   "cell_type": "code",
   "execution_count": 12,
   "id": "febe4f00-5529-4c57-a012-25e7831cf7a0",
   "metadata": {},
   "outputs": [],
   "source": [
    "# get template code for the MinMax inverse, \n",
    "# to b-module model decoder for d-module UMAP input"
   ]
  },
  {
   "cell_type": "code",
   "execution_count": 13,
   "id": "aa8cbdc0-19f2-4e83-a6d3-60f82534f7a4",
   "metadata": {},
   "outputs": [],
   "source": [
    "# Read 26 cancer gene-expression files, add intersection file reas here\n",
    "gxp_file_paths = sorted(glob.glob('gexp_files/*.tsv'))"
   ]
  },
  {
   "cell_type": "code",
   "execution_count": 14,
   "id": "07018fa3-64f4-4499-98c1-81f6385e4e51",
   "metadata": {
    "tags": []
   },
   "outputs": [
    {
     "data": {
      "text/plain": [
       "['gexp_files/ACC_gxp.tsv',\n",
       " 'gexp_files/BLCA_gxp.tsv',\n",
       " 'gexp_files/BRCA_gxp.tsv',\n",
       " 'gexp_files/CESC_gxp.tsv',\n",
       " 'gexp_files/COADREAD_gxp.tsv',\n",
       " 'gexp_files/ESCC_gxp.tsv',\n",
       " 'gexp_files/GEA_gxp.tsv',\n",
       " 'gexp_files/HNSC_gxp.tsv',\n",
       " 'gexp_files/KIRCKICH_gxp.tsv',\n",
       " 'gexp_files/KIRP_gxp.tsv',\n",
       " 'gexp_files/LGGGBM_gxp.tsv',\n",
       " 'gexp_files/LIHCCHOL_gxp.tsv',\n",
       " 'gexp_files/LUAD_gxp.tsv',\n",
       " 'gexp_files/LUSC_gxp.tsv',\n",
       " 'gexp_files/MESO_gxp.tsv',\n",
       " 'gexp_files/OV_gxp.tsv',\n",
       " 'gexp_files/PAAD_gxp.tsv',\n",
       " 'gexp_files/PCPG_gxp.tsv',\n",
       " 'gexp_files/PRAD_gxp.tsv',\n",
       " 'gexp_files/SARC_gxp.tsv',\n",
       " 'gexp_files/SKCM_gxp.tsv',\n",
       " 'gexp_files/TGCT_gxp.tsv',\n",
       " 'gexp_files/THCA_gxp.tsv',\n",
       " 'gexp_files/THYM_gxp.tsv',\n",
       " 'gexp_files/UCEC_gxp.tsv',\n",
       " 'gexp_files/UVM_gxp.tsv']"
      ]
     },
     "execution_count": 14,
     "metadata": {},
     "output_type": "execute_result"
    }
   ],
   "source": [
    "gxp_file_paths"
   ]
  },
  {
   "cell_type": "code",
   "execution_count": 15,
   "id": "c962dce2-15ef-4c04-9d29-60969862de27",
   "metadata": {},
   "outputs": [],
   "source": [
    "# check pre-train / fine-tune across differing input file feauture counts\n",
    "# add the log conversion prior to normalization\n",
    "# zero-fill is blurring transfer learning performance evaluation, fix with 1Dconv version"
   ]
  },
  {
   "cell_type": "markdown",
   "id": "5e4ffae4-50ef-4a88-8dfc-43f2249327b0",
   "metadata": {},
   "source": [
    "### Resume 1D outlier clipping"
   ]
  },
  {
   "cell_type": "code",
   "execution_count": 16,
   "id": "bbbc6b60-c802-463b-b074-a3d827364597",
   "metadata": {},
   "outputs": [],
   "source": [
    "# idea - only apply log transform to upper segment of vals (?)"
   ]
  },
  {
   "cell_type": "code",
   "execution_count": 17,
   "id": "9083b8b0-1521-4b8c-aef0-ba37b325bee6",
   "metadata": {},
   "outputs": [],
   "source": [
    "# Read bladder, full file, no intersect - to 1D and 2D\n",
    "file  = pd.read_csv(gxp_file_paths[1],\n",
    "                       sep = '\\t',\n",
    "                       index_col = 0)"
   ]
  },
  {
   "cell_type": "code",
   "execution_count": 18,
   "id": "6914ae0f-ab22-4369-a6bf-1f957b2ff98a",
   "metadata": {},
   "outputs": [],
   "source": [
    "blca  = pd.read_csv(gxp_file_paths[1],\n",
    "                       sep = '\\t',\n",
    "                       index_col = 0)"
   ]
  },
  {
   "cell_type": "code",
   "execution_count": 19,
   "id": "78c2791c-58d3-4450-8434-eceab0edf189",
   "metadata": {},
   "outputs": [
    {
     "data": {
      "text/plain": [
       "(399, 20532)"
      ]
     },
     "execution_count": 19,
     "metadata": {},
     "output_type": "execute_result"
    }
   ],
   "source": [
    "blca.shape"
   ]
  },
  {
   "cell_type": "code",
   "execution_count": 20,
   "id": "4c9abea9-50c8-4d4a-b508-a85a7e0fcbf5",
   "metadata": {},
   "outputs": [
    {
     "data": {
      "text/plain": [
       "'BLCA'"
      ]
     },
     "execution_count": 20,
     "metadata": {},
     "output_type": "execute_result"
    }
   ],
   "source": [
    "file.index.name"
   ]
  },
  {
   "cell_type": "code",
   "execution_count": 21,
   "id": "a8459f2c-1f17-4322-a3fc-8a2f415b6098",
   "metadata": {},
   "outputs": [],
   "source": [
    "# add * 1D conv model * then transformer to the grid"
   ]
  },
  {
   "cell_type": "code",
   "execution_count": 22,
   "id": "8dec2500-a5a6-42b2-b345-71290d3cf3ee",
   "metadata": {},
   "outputs": [],
   "source": [
    "# want two models, two cancers, two data types, data structures, ...\n",
    "# get a decent grid going with the auto UMAP"
   ]
  },
  {
   "cell_type": "code",
   "execution_count": 23,
   "id": "0204a6c7-5573-42ea-acd6-1da34fa03962",
   "metadata": {},
   "outputs": [],
   "source": [
    "# BRCA read\n",
    "file  = pd.read_csv(gxp_file_paths[2],\n",
    "                       sep = '\\t',\n",
    "                       index_col = 0)"
   ]
  },
  {
   "cell_type": "code",
   "execution_count": 24,
   "id": "8e0a60a7-3b2f-4d1d-be01-443ade30c31b",
   "metadata": {},
   "outputs": [],
   "source": [
    "brca  = pd.read_csv(gxp_file_paths[2],\n",
    "                       sep = '\\t',\n",
    "                       index_col = 0)"
   ]
  },
  {
   "cell_type": "code",
   "execution_count": 25,
   "id": "24ba274a-8840-47ec-8c23-8fb9f92adb0f",
   "metadata": {},
   "outputs": [
    {
     "data": {
      "text/plain": [
       "'BRCA'"
      ]
     },
     "execution_count": 25,
     "metadata": {},
     "output_type": "execute_result"
    }
   ],
   "source": [
    "file.index.name"
   ]
  },
  {
   "cell_type": "code",
   "execution_count": 26,
   "id": "522116d3-fcbd-43ba-b67b-8c9fa035f4f0",
   "metadata": {},
   "outputs": [
    {
     "ename": "NameError",
     "evalue": "name 'mnist_digits' is not defined",
     "output_type": "error",
     "traceback": [
      "\u001b[0;31m---------------------------------------------------------------------------\u001b[0m",
      "\u001b[0;31mNameError\u001b[0m                                 Traceback (most recent call last)",
      "Cell \u001b[0;32mIn [26], line 7\u001b[0m\n\u001b[1;32m      1\u001b[0m \u001b[38;5;66;03m# First split, then norm - based on MNIST method\u001b[39;00m\n\u001b[1;32m      2\u001b[0m \n\u001b[1;32m      3\u001b[0m     \u001b[38;5;66;03m#   *** Check against the 1D, model 3?\u001b[39;00m\n\u001b[1;32m      4\u001b[0m     \n\u001b[1;32m      5\u001b[0m \u001b[38;5;66;03m# Keras example method:    \u001b[39;00m\n\u001b[1;32m      6\u001b[0m \u001b[38;5;66;03m#https://keras.io/examples/generative/vae/    \u001b[39;00m\n\u001b[0;32m----> 7\u001b[0m mnist_digits \u001b[38;5;241m=\u001b[39m np\u001b[38;5;241m.\u001b[39mexpand_dims(\u001b[43mmnist_digits\u001b[49m, \u001b[38;5;241m-\u001b[39m\u001b[38;5;241m1\u001b[39m)\u001b[38;5;241m.\u001b[39mastype(\u001b[38;5;124m\"\u001b[39m\u001b[38;5;124mfloat32\u001b[39m\u001b[38;5;124m\"\u001b[39m) \u001b[38;5;241m/\u001b[39m \u001b[38;5;241m255\u001b[39m\n",
      "\u001b[0;31mNameError\u001b[0m: name 'mnist_digits' is not defined"
     ]
    }
   ],
   "source": [
    "# First split, then norm - based on MNIST method\n",
    "\n",
    "    #   *** Check against the 1D, model 3?\n",
    "    \n",
    "# Keras example method:    \n",
    "#https://keras.io/examples/generative/vae/    \n",
    "#mnist_digits = np.expand_dims(mnist_digits, -1).astype(\"float32\") / 255"
   ]
  },
  {
   "cell_type": "code",
   "execution_count": 27,
   "id": "19f27b79-417b-4842-a397-efe137b8cea4",
   "metadata": {},
   "outputs": [],
   "source": [
    "train, test = train_test_split(file)"
   ]
  },
  {
   "cell_type": "code",
   "execution_count": 28,
   "id": "7d9e1272-596e-44a3-90ac-7fcefd3700c4",
   "metadata": {},
   "outputs": [
    {
     "data": {
      "text/plain": [
       "(746, 20532)"
      ]
     },
     "execution_count": 28,
     "metadata": {},
     "output_type": "execute_result"
    }
   ],
   "source": [
    "train.shape"
   ]
  },
  {
   "cell_type": "code",
   "execution_count": 29,
   "id": "7c2d4498-3da6-4fe5-8b03-e802b8af9a27",
   "metadata": {},
   "outputs": [
    {
     "data": {
      "text/plain": [
       "(249, 20532)"
      ]
     },
     "execution_count": 29,
     "metadata": {},
     "output_type": "execute_result"
    }
   ],
   "source": [
    "test.shape"
   ]
  },
  {
   "cell_type": "code",
   "execution_count": 30,
   "id": "a1a5ee7c-0259-4eb0-97e4-6a2dc2258914",
   "metadata": {},
   "outputs": [
    {
     "data": {
      "text/html": [
       "<div>\n",
       "<style scoped>\n",
       "    .dataframe tbody tr th:only-of-type {\n",
       "        vertical-align: middle;\n",
       "    }\n",
       "\n",
       "    .dataframe tbody tr th {\n",
       "        vertical-align: top;\n",
       "    }\n",
       "\n",
       "    .dataframe thead th {\n",
       "        text-align: right;\n",
       "    }\n",
       "</style>\n",
       "<table border=\"1\" class=\"dataframe\">\n",
       "  <thead>\n",
       "    <tr style=\"text-align: right;\">\n",
       "      <th></th>\n",
       "      <th>Labels</th>\n",
       "      <th>N:GEXP::?:100130426:</th>\n",
       "      <th>N:GEXP::?:100133144:</th>\n",
       "      <th>N:GEXP::?:100134869:</th>\n",
       "      <th>N:GEXP::?:10357:</th>\n",
       "      <th>N:GEXP::?:10431:</th>\n",
       "      <th>N:GEXP::?:136542:</th>\n",
       "      <th>N:GEXP::?:155060:</th>\n",
       "      <th>N:GEXP::?:26823:</th>\n",
       "      <th>N:GEXP::?:280660:</th>\n",
       "      <th>...</th>\n",
       "      <th>N:GEXP::ZXDA:7789:</th>\n",
       "      <th>N:GEXP::ZXDB:158586:</th>\n",
       "      <th>N:GEXP::ZXDC:79364:</th>\n",
       "      <th>N:GEXP::ZYG11A:440590:</th>\n",
       "      <th>N:GEXP::ZYG11B:79699:</th>\n",
       "      <th>N:GEXP::ZYX:7791:</th>\n",
       "      <th>N:GEXP::ZZEF1:23140:</th>\n",
       "      <th>N:GEXP::ZZZ3:26009:</th>\n",
       "      <th>N:GEXP::psiTPTE22:387590:</th>\n",
       "      <th>N:GEXP::tAKR:389932:</th>\n",
       "    </tr>\n",
       "    <tr>\n",
       "      <th>BRCA</th>\n",
       "      <th></th>\n",
       "      <th></th>\n",
       "      <th></th>\n",
       "      <th></th>\n",
       "      <th></th>\n",
       "      <th></th>\n",
       "      <th></th>\n",
       "      <th></th>\n",
       "      <th></th>\n",
       "      <th></th>\n",
       "      <th></th>\n",
       "      <th></th>\n",
       "      <th></th>\n",
       "      <th></th>\n",
       "      <th></th>\n",
       "      <th></th>\n",
       "      <th></th>\n",
       "      <th></th>\n",
       "      <th></th>\n",
       "      <th></th>\n",
       "      <th></th>\n",
       "    </tr>\n",
       "  </thead>\n",
       "  <tbody>\n",
       "    <tr>\n",
       "      <th>TCGA-BH-A18T</th>\n",
       "      <td>BRCA_3</td>\n",
       "      <td>0.0</td>\n",
       "      <td>7.6319</td>\n",
       "      <td>19.603</td>\n",
       "      <td>142.88</td>\n",
       "      <td>2273.7</td>\n",
       "      <td>0</td>\n",
       "      <td>113.13</td>\n",
       "      <td>0.2993</td>\n",
       "      <td>0.0</td>\n",
       "      <td>...</td>\n",
       "      <td>79.91</td>\n",
       "      <td>544.11</td>\n",
       "      <td>1046.0</td>\n",
       "      <td>501.91</td>\n",
       "      <td>740.14</td>\n",
       "      <td>2229.4</td>\n",
       "      <td>827.23</td>\n",
       "      <td>1254.3</td>\n",
       "      <td>12.57</td>\n",
       "      <td>0.0</td>\n",
       "    </tr>\n",
       "  </tbody>\n",
       "</table>\n",
       "<p>1 rows × 20532 columns</p>\n",
       "</div>"
      ],
      "text/plain": [
       "              Labels  N:GEXP::?:100130426:  N:GEXP::?:100133144:  \\\n",
       "BRCA                                                               \n",
       "TCGA-BH-A18T  BRCA_3                   0.0                7.6319   \n",
       "\n",
       "              N:GEXP::?:100134869:  N:GEXP::?:10357:  N:GEXP::?:10431:  \\\n",
       "BRCA                                                                     \n",
       "TCGA-BH-A18T                19.603            142.88            2273.7   \n",
       "\n",
       "              N:GEXP::?:136542:  N:GEXP::?:155060:  N:GEXP::?:26823:  \\\n",
       "BRCA                                                                   \n",
       "TCGA-BH-A18T                  0             113.13            0.2993   \n",
       "\n",
       "              N:GEXP::?:280660:  ...  N:GEXP::ZXDA:7789:  \\\n",
       "BRCA                             ...                       \n",
       "TCGA-BH-A18T                0.0  ...               79.91   \n",
       "\n",
       "              N:GEXP::ZXDB:158586:  N:GEXP::ZXDC:79364:  \\\n",
       "BRCA                                                      \n",
       "TCGA-BH-A18T                544.11               1046.0   \n",
       "\n",
       "              N:GEXP::ZYG11A:440590:  N:GEXP::ZYG11B:79699:  \\\n",
       "BRCA                                                          \n",
       "TCGA-BH-A18T                  501.91                 740.14   \n",
       "\n",
       "              N:GEXP::ZYX:7791:  N:GEXP::ZZEF1:23140:  N:GEXP::ZZZ3:26009:  \\\n",
       "BRCA                                                                         \n",
       "TCGA-BH-A18T             2229.4                827.23               1254.3   \n",
       "\n",
       "              N:GEXP::psiTPTE22:387590:  N:GEXP::tAKR:389932:  \n",
       "BRCA                                                           \n",
       "TCGA-BH-A18T                      12.57                   0.0  \n",
       "\n",
       "[1 rows x 20532 columns]"
      ]
     },
     "execution_count": 30,
     "metadata": {},
     "output_type": "execute_result"
    }
   ],
   "source": [
    "test.head(1)"
   ]
  },
  {
   "cell_type": "code",
   "execution_count": 31,
   "id": "b7204431-1742-4d8c-a1c3-b4e23ef8692f",
   "metadata": {},
   "outputs": [],
   "source": [
    "import matplotlib.pyplot as plt"
   ]
  },
  {
   "cell_type": "code",
   "execution_count": 32,
   "id": "437af548-0504-409f-8887-a706a956236f",
   "metadata": {},
   "outputs": [],
   "source": [
    "scaler = MinMaxScaler()"
   ]
  },
  {
   "cell_type": "code",
   "execution_count": 33,
   "id": "7e47e3c8-516e-46ee-83f6-da039b8f5ee7",
   "metadata": {},
   "outputs": [],
   "source": [
    "# The difference in the scaling methods from MNIST is that\n",
    "# the MNIST maxes at 256 in both the train and test set\n",
    "# wheras the gene expession is badly skewed with huge outliers\n",
    "# so the max value could toggle back and forth between the train and test\n",
    "# depending on ramdomness in the train / test split"
   ]
  },
  {
   "cell_type": "code",
   "execution_count": 34,
   "id": "816ff0fd-db5d-4a7d-9838-5ec0c2a4d4b5",
   "metadata": {},
   "outputs": [],
   "source": [
    "train_norm = pd.DataFrame(scaler.fit_transform(\n",
    "    train.iloc[:, 1:]), columns = test.columns[1:])"
   ]
  },
  {
   "cell_type": "code",
   "execution_count": 35,
   "id": "91eb2926-d9ae-4c0a-b226-4f0021167364",
   "metadata": {},
   "outputs": [],
   "source": [
    "test_norm = pd.DataFrame(scaler.transform(\n",
    "    test.iloc[:, 1:]), columns = test.columns[1:])"
   ]
  },
  {
   "cell_type": "code",
   "execution_count": 36,
   "id": "438cda94-4835-4158-b249-59a16df32a7d",
   "metadata": {},
   "outputs": [
    {
     "data": {
      "text/html": [
       "<div>\n",
       "<style scoped>\n",
       "    .dataframe tbody tr th:only-of-type {\n",
       "        vertical-align: middle;\n",
       "    }\n",
       "\n",
       "    .dataframe tbody tr th {\n",
       "        vertical-align: top;\n",
       "    }\n",
       "\n",
       "    .dataframe thead th {\n",
       "        text-align: right;\n",
       "    }\n",
       "</style>\n",
       "<table border=\"1\" class=\"dataframe\">\n",
       "  <thead>\n",
       "    <tr style=\"text-align: right;\">\n",
       "      <th></th>\n",
       "      <th>Labels</th>\n",
       "      <th>N:GEXP::?:100130426:</th>\n",
       "      <th>N:GEXP::?:100133144:</th>\n",
       "      <th>N:GEXP::?:100134869:</th>\n",
       "      <th>N:GEXP::?:10357:</th>\n",
       "      <th>N:GEXP::?:10431:</th>\n",
       "      <th>N:GEXP::?:136542:</th>\n",
       "      <th>N:GEXP::?:155060:</th>\n",
       "      <th>N:GEXP::?:26823:</th>\n",
       "      <th>N:GEXP::?:280660:</th>\n",
       "      <th>...</th>\n",
       "      <th>N:GEXP::ZXDA:7789:</th>\n",
       "      <th>N:GEXP::ZXDB:158586:</th>\n",
       "      <th>N:GEXP::ZXDC:79364:</th>\n",
       "      <th>N:GEXP::ZYG11A:440590:</th>\n",
       "      <th>N:GEXP::ZYG11B:79699:</th>\n",
       "      <th>N:GEXP::ZYX:7791:</th>\n",
       "      <th>N:GEXP::ZZEF1:23140:</th>\n",
       "      <th>N:GEXP::ZZZ3:26009:</th>\n",
       "      <th>N:GEXP::psiTPTE22:387590:</th>\n",
       "      <th>N:GEXP::tAKR:389932:</th>\n",
       "    </tr>\n",
       "    <tr>\n",
       "      <th>BRCA</th>\n",
       "      <th></th>\n",
       "      <th></th>\n",
       "      <th></th>\n",
       "      <th></th>\n",
       "      <th></th>\n",
       "      <th></th>\n",
       "      <th></th>\n",
       "      <th></th>\n",
       "      <th></th>\n",
       "      <th></th>\n",
       "      <th></th>\n",
       "      <th></th>\n",
       "      <th></th>\n",
       "      <th></th>\n",
       "      <th></th>\n",
       "      <th></th>\n",
       "      <th></th>\n",
       "      <th></th>\n",
       "      <th></th>\n",
       "      <th></th>\n",
       "      <th></th>\n",
       "    </tr>\n",
       "  </thead>\n",
       "  <tbody>\n",
       "    <tr>\n",
       "      <th>TCGA-3C-AAAU</th>\n",
       "      <td>BRCA_1</td>\n",
       "      <td>0.0</td>\n",
       "      <td>16.364</td>\n",
       "      <td>12.932</td>\n",
       "      <td>52.15</td>\n",
       "      <td>408.08</td>\n",
       "      <td>0</td>\n",
       "      <td>1187.0</td>\n",
       "      <td>0.0</td>\n",
       "      <td>0.0</td>\n",
       "      <td>...</td>\n",
       "      <td>129.59</td>\n",
       "      <td>1007.8</td>\n",
       "      <td>1658.5</td>\n",
       "      <td>258.49</td>\n",
       "      <td>1208.4</td>\n",
       "      <td>3507.2</td>\n",
       "      <td>1894.9</td>\n",
       "      <td>1180.5</td>\n",
       "      <td>1.7233</td>\n",
       "      <td>0.0</td>\n",
       "    </tr>\n",
       "  </tbody>\n",
       "</table>\n",
       "<p>1 rows × 20532 columns</p>\n",
       "</div>"
      ],
      "text/plain": [
       "              Labels  N:GEXP::?:100130426:  N:GEXP::?:100133144:  \\\n",
       "BRCA                                                               \n",
       "TCGA-3C-AAAU  BRCA_1                   0.0                16.364   \n",
       "\n",
       "              N:GEXP::?:100134869:  N:GEXP::?:10357:  N:GEXP::?:10431:  \\\n",
       "BRCA                                                                     \n",
       "TCGA-3C-AAAU                12.932             52.15            408.08   \n",
       "\n",
       "              N:GEXP::?:136542:  N:GEXP::?:155060:  N:GEXP::?:26823:  \\\n",
       "BRCA                                                                   \n",
       "TCGA-3C-AAAU                  0             1187.0               0.0   \n",
       "\n",
       "              N:GEXP::?:280660:  ...  N:GEXP::ZXDA:7789:  \\\n",
       "BRCA                             ...                       \n",
       "TCGA-3C-AAAU                0.0  ...              129.59   \n",
       "\n",
       "              N:GEXP::ZXDB:158586:  N:GEXP::ZXDC:79364:  \\\n",
       "BRCA                                                      \n",
       "TCGA-3C-AAAU                1007.8               1658.5   \n",
       "\n",
       "              N:GEXP::ZYG11A:440590:  N:GEXP::ZYG11B:79699:  \\\n",
       "BRCA                                                          \n",
       "TCGA-3C-AAAU                  258.49                 1208.4   \n",
       "\n",
       "              N:GEXP::ZYX:7791:  N:GEXP::ZZEF1:23140:  N:GEXP::ZZZ3:26009:  \\\n",
       "BRCA                                                                         \n",
       "TCGA-3C-AAAU             3507.2                1894.9               1180.5   \n",
       "\n",
       "              N:GEXP::psiTPTE22:387590:  N:GEXP::tAKR:389932:  \n",
       "BRCA                                                           \n",
       "TCGA-3C-AAAU                     1.7233                   0.0  \n",
       "\n",
       "[1 rows x 20532 columns]"
      ]
     },
     "execution_count": 36,
     "metadata": {},
     "output_type": "execute_result"
    }
   ],
   "source": [
    "file.head(1)"
   ]
  },
  {
   "cell_type": "code",
   "execution_count": 37,
   "id": "99809d65-93da-45c5-bb01-5e3c84977cda",
   "metadata": {},
   "outputs": [
    {
     "data": {
      "text/plain": [
       "(995, 20532)"
      ]
     },
     "execution_count": 37,
     "metadata": {},
     "output_type": "execute_result"
    }
   ],
   "source": [
    "file.shape"
   ]
  },
  {
   "cell_type": "markdown",
   "id": "cbfdb698-282d-4dbc-a5e3-545201d02d48",
   "metadata": {
    "tags": []
   },
   "source": [
    "### Histograms"
   ]
  },
  {
   "cell_type": "code",
   "execution_count": 38,
   "id": "e169ab58-5c18-4a6f-a9e8-cc84b26d1c53",
   "metadata": {},
   "outputs": [],
   "source": [
    "import matplotlib.pyplot as plt\n",
    "import numpy as np\n",
    "from matplotlib import colors\n",
    "from matplotlib.ticker import PercentFormatter\n",
    "\n",
    "# Create a random number generator with a fixed seed for reproducibility\n",
    "rng = np.random.default_rng(19680801)"
   ]
  },
  {
   "cell_type": "code",
   "execution_count": 39,
   "id": "413b5d2f-5515-4422-80e5-a15fcd0c4ee7",
   "metadata": {
    "tags": []
   },
   "outputs": [
    {
     "data": {
      "text/plain": [
       "(array([2.0000e+00, 2.1000e+01, 5.1000e+01, 2.3500e+02, 7.8100e+02,\n",
       "        2.1000e+03, 4.5730e+03, 8.3390e+03, 1.2758e+04, 1.6363e+04,\n",
       "        1.7345e+04, 1.4923e+04, 1.0920e+04, 6.4830e+03, 3.1070e+03,\n",
       "        1.3810e+03, 4.5300e+02, 1.2200e+02, 3.6000e+01, 7.0000e+00]),\n",
       " array([3.20889223, 3.38336526, 3.55783829, 3.73231132, 3.90678435,\n",
       "        4.08125738, 4.25573041, 4.43020344, 4.60467647, 4.7791495 ,\n",
       "        4.95362253, 5.12809556, 5.30256859, 5.47704162, 5.65151465,\n",
       "        5.82598768, 6.00046071, 6.17493374, 6.34940677, 6.5238798 ,\n",
       "        6.69835283]),\n",
       " <BarContainer object of 20 artists>)"
      ]
     },
     "execution_count": 39,
     "metadata": {},
     "output_type": "execute_result"
    },
    {
     "data": {
      "image/png": "[encoded data removed]",
      "text/plain": [
       "<Figure size 640x480 with 2 Axes>"
      ]
     },
     "metadata": {},
     "output_type": "display_data"
    }
   ],
   "source": [
    "N_points = 100000\n",
    "n_bins = 20\n",
    "\n",
    "# Generate two normal distributions\n",
    "dist1 = rng.standard_normal(N_points)\n",
    "dist2 = 0.4 * rng.standard_normal(N_points) + 5\n",
    "\n",
    "fig, axs = plt.subplots(1, 2, sharey=True, tight_layout=True)\n",
    "\n",
    "# We can set the number of bins with the *bins* keyword argument.\n",
    "axs[0].hist(dist1, bins=n_bins)\n",
    "axs[1].hist(dist2, bins=n_bins)"
   ]
  },
  {
   "cell_type": "code",
   "execution_count": 40,
   "id": "e95ac70b-5898-4143-a5a8-c8404d8624dd",
   "metadata": {},
   "outputs": [
    {
     "data": {
      "text/plain": [
       "array([-0.98584721,  0.05040332,  0.96828412, ..., -0.0276232 ,\n",
       "        1.18599853,  0.48812025])"
      ]
     },
     "execution_count": 40,
     "metadata": {},
     "output_type": "execute_result"
    }
   ],
   "source": [
    "dist1"
   ]
  },
  {
   "cell_type": "code",
   "execution_count": 41,
   "id": "7451a486-27af-4240-b1ab-37d9248e86f1",
   "metadata": {},
   "outputs": [
    {
     "data": {
      "text/plain": [
       "(100000,)"
      ]
     },
     "execution_count": 41,
     "metadata": {},
     "output_type": "execute_result"
    }
   ],
   "source": [
    "dist1.shape"
   ]
  },
  {
   "cell_type": "code",
   "execution_count": 42,
   "id": "7d4459d9-e763-4683-a61f-e6cbd39cd816",
   "metadata": {},
   "outputs": [
    {
     "ename": "NameError",
     "evalue": "name 'row_lst' is not defined",
     "output_type": "error",
     "traceback": [
      "\u001b[0;31m---------------------------------------------------------------------------\u001b[0m",
      "\u001b[0;31mNameError\u001b[0m                                 Traceback (most recent call last)",
      "Cell \u001b[0;32mIn [42], line 1\u001b[0m\n\u001b[0;32m----> 1\u001b[0m \u001b[38;5;28mlen\u001b[39m(\u001b[43mrow_lst\u001b[49m)\n",
      "\u001b[0;31mNameError\u001b[0m: name 'row_lst' is not defined"
     ]
    }
   ],
   "source": [
    "len(row_lst)"
   ]
  },
  {
   "cell_type": "code",
   "execution_count": null,
   "id": "938aa7bf-9367-4366-b361-61921e9edbe3",
   "metadata": {},
   "outputs": [],
   "source": [
    "399*20531"
   ]
  },
  {
   "cell_type": "code",
   "execution_count": null,
   "id": "a63416ac-e765-42b5-8d6f-3f1a65d38158",
   "metadata": {
    "tags": []
   },
   "outputs": [],
   "source": [
    "row_lst"
   ]
  },
  {
   "cell_type": "code",
   "execution_count": null,
   "id": "4b0d45ce-581f-4afa-acd1-9bc6278811b3",
   "metadata": {
    "tags": []
   },
   "outputs": [],
   "source": [
    "row_lst = []\n",
    "for i, row_idx in enumerate(blca.index):\n",
    "    row = blca.iloc[i, 1:]\n",
    "    row_lst = row_lst + list(row)\n",
    "    # print(row)\n",
    "    # break"
   ]
  },
  {
   "cell_type": "code",
   "execution_count": 43,
   "id": "b1eaeb3d-29c7-49ef-8fe2-244c3a1a79c0",
   "metadata": {
    "tags": []
   },
   "outputs": [
    {
     "ename": "NameError",
     "evalue": "name 'row_lst' is not defined",
     "output_type": "error",
     "traceback": [
      "\u001b[0;31m---------------------------------------------------------------------------\u001b[0m",
      "\u001b[0;31mNameError\u001b[0m                                 Traceback (most recent call last)",
      "Cell \u001b[0;32mIn [43], line 2\u001b[0m\n\u001b[1;32m      1\u001b[0m fig, axs \u001b[38;5;241m=\u001b[39m plt\u001b[38;5;241m.\u001b[39msubplots(\u001b[38;5;241m1\u001b[39m, \u001b[38;5;241m2\u001b[39m, sharey\u001b[38;5;241m=\u001b[39m\u001b[38;5;28;01mTrue\u001b[39;00m, tight_layout\u001b[38;5;241m=\u001b[39m\u001b[38;5;28;01mTrue\u001b[39;00m)\n\u001b[0;32m----> 2\u001b[0m axs[\u001b[38;5;241m0\u001b[39m]\u001b[38;5;241m.\u001b[39mhist(\u001b[43mrow_lst\u001b[49m, bins\u001b[38;5;241m=\u001b[39m\u001b[38;5;241m30\u001b[39m)\n",
      "\u001b[0;31mNameError\u001b[0m: name 'row_lst' is not defined"
     ]
    },
    {
     "data": {
      "image/png": "[encoded data removed]",
      "text/plain": [
       "<Figure size 640x480 with 2 Axes>"
      ]
     },
     "metadata": {},
     "output_type": "display_data"
    }
   ],
   "source": [
    "fig, axs = plt.subplots(1, 2, sharey=True, tight_layout=True)\n",
    "axs[0].hist(row_lst, bins=30)"
   ]
  },
  {
   "cell_type": "code",
   "execution_count": 44,
   "id": "ff5ecb39-3c31-4e0b-9c91-41a112889335",
   "metadata": {},
   "outputs": [],
   "source": [
    "import scipy"
   ]
  },
  {
   "cell_type": "code",
   "execution_count": 45,
   "id": "92f81a4e-4918-4199-b29c-0230b8fab594",
   "metadata": {},
   "outputs": [
    {
     "ename": "NameError",
     "evalue": "name 'row_lst' is not defined",
     "output_type": "error",
     "traceback": [
      "\u001b[0;31m---------------------------------------------------------------------------\u001b[0m",
      "\u001b[0;31mNameError\u001b[0m                                 Traceback (most recent call last)",
      "Cell \u001b[0;32mIn [45], line 1\u001b[0m\n\u001b[0;32m----> 1\u001b[0m scipy\u001b[38;5;241m.\u001b[39mstats\u001b[38;5;241m.\u001b[39mdescribe(\u001b[43mrow_lst\u001b[49m)\n",
      "\u001b[0;31mNameError\u001b[0m: name 'row_lst' is not defined"
     ]
    }
   ],
   "source": [
    "scipy.stats.describe(row_lst)"
   ]
  },
  {
   "cell_type": "markdown",
   "id": "a8e2676e-1ffa-4dcd-a8de-ec74ec570b39",
   "metadata": {},
   "source": [
    "### Outlier clipping"
   ]
  },
  {
   "cell_type": "code",
   "execution_count": 46,
   "id": "b20bcb7a-1a34-4d76-88bd-55942b863f35",
   "metadata": {},
   "outputs": [
    {
     "ename": "IndentationError",
     "evalue": "unexpected indent (2390165688.py, line 33)",
     "output_type": "error",
     "traceback": [
      "\u001b[0;36m  Cell \u001b[0;32mIn [46], line 33\u001b[0;36m\u001b[0m\n\u001b[0;31m    https://datascience.stackexchange.com/questions/54908/data-normalization-before-or-after-train-test-split\u001b[0m\n\u001b[0m    ^\u001b[0m\n\u001b[0;31mIndentationError\u001b[0m\u001b[0;31m:\u001b[0m unexpected indent\n"
     ]
    }
   ],
   "source": [
    "# keep these in a table, write table\n",
    "\n",
    "    # write companion figures (histograms)\n",
    "\n",
    "    # write files and send to one drive\n",
    "    \n",
    "    # target dir is normalized_data/square for 2D\n",
    "        # and normalized_data/flat for 1D\n",
    "    \n",
    "    # BLCA and BRCA - 2, start with bladder all the way through MinMax\n",
    "    # square and oneD - 2\n",
    "    \n",
    "        # raw - done, in MinMax, Xs are arrarys, ys are .tsvs\n",
    "            # bladder, done with minmax\n",
    "        \n",
    "        # clip at 1M - \n",
    "        # clip at 100k\n",
    "        # clip at 10k\n",
    "        # clip at 1k\n",
    "        # clip at 500\n",
    "        # clip at 250\n",
    "        \n",
    "        # log transform\n",
    "        # log above 1k\n",
    "        \n",
    "        # clip log combinations\n",
    "        \n",
    "    # all of the above should be MinMaxed\n",
    "    \n",
    "    # and Robust scaled\n",
    "    \n",
    "        # sequence of fit, transform, and fit_transform\n",
    "        #https://datascience.stackexchange.com/questions/54908/data-normalization-before-or-after-train-test-split\n",
    "        \n",
    "        # Norming before split is information leakage to test from train"
   ]
  },
  {
   "cell_type": "code",
   "execution_count": 47,
   "id": "1869d027-95e7-4262-b81a-44bfb81e3dae",
   "metadata": {},
   "outputs": [],
   "source": [
    "# wrapped versions in line with flat versions (?)"
   ]
  },
  {
   "cell_type": "code",
   "execution_count": 53,
   "id": "4d720b47-d6f4-48b9-9cb0-062cd82bc529",
   "metadata": {},
   "outputs": [],
   "source": [
    "from pathlib import Path\n",
    "save_path = Path(\"normalized_data/flat\")\n",
    "\n",
    "if not save_path.exists():\n",
    "    save_path.mkdir(parents=True, exist_ok=True)\n",
    "    "
   ]
  },
  {
   "cell_type": "markdown",
   "id": "649b34da-3cb8-4b65-9339-7349f9245eb2",
   "metadata": {
    "tags": []
   },
   "source": [
    "#### BLCA MinMax flat, x and y (control)"
   ]
  },
  {
   "cell_type": "code",
   "execution_count": 54,
   "id": "e7461526-9805-4c97-956b-9749e8792b1f",
   "metadata": {},
   "outputs": [],
   "source": [
    "cohort = 'BLCA'\n",
    "d_shape = 'flat' # or square\n",
    "out_cut = 'no_otlr_cut'\n",
    "method = 'MinMax' # already know its flat by the dir, should probaly just name\n",
    "Xy = 'X'\n",
    "\n",
    "\n",
    "train, test = train_test_split(blca)\n",
    "scaler = MinMaxScaler()\n",
    "\n",
    "# Train\n",
    "train_norm = pd.DataFrame( # check, all train\n",
    "    scaler.fit_transform(train.iloc[:, 1:]), # check, fit\n",
    "    columns = train.columns[1:],\n",
    "    index = train.index)\n",
    "train_norm.to_csv('normalized_data/flat/'+cohort+'_X_train_'+d_shape+'_'+out_cut+'_'+method+'.tsv', sep = '\\t')\n",
    "\n",
    "train_y = pd.DataFrame(train.Labels)\n",
    "train_y.to_csv('normalized_data/flat/'+cohort+'_y_train_'+d_shape+'_'+out_cut+'_'+method+'.tsv', sep = '\\t')\n",
    "\n",
    "# Test\n",
    "test_norm = pd.DataFrame( # check, all test\n",
    "    scaler.transform(test.iloc[:, 1:]), # check, fit\n",
    "    columns = test.columns[1:],\n",
    "    index = test.index)\n",
    "test_norm.to_csv('normalized_data/flat/'+cohort+'_X_test_'+d_shape+'_'+out_cut+'_'+method+'.tsv', sep = '\\t')\n",
    "\n",
    "test_y = pd.DataFrame(test.Labels)\n",
    "test_y.to_csv('normalized_data/flat/'+cohort+'_y_test_'+d_shape+'_'+out_cut+'_'+method+'.tsv', sep = '\\t')"
   ]
  },
  {
   "cell_type": "markdown",
   "id": "b59a028f-e374-4569-89ed-3abd4b8c7938",
   "metadata": {
    "tags": []
   },
   "source": [
    "#### BLCA 1M otlr cut MinMax flat"
   ]
  },
  {
   "cell_type": "code",
   "execution_count": 56,
   "id": "8d5dbfe5-767b-4948-a1d7-22d63e6c71db",
   "metadata": {},
   "outputs": [],
   "source": [
    "cohort = 'BLCA'\n",
    "d_shape = 'flat' # or square\n",
    "out_cut = '1M_otlr_cut' # wont overwrite uncut files\n",
    "method = 'MinMax' # already know its flat by the dir, should probaly just name\n",
    "\n",
    "otlr_thresh = 1000000\n",
    "\n",
    "train, test = train_test_split(blca)\n",
    "\n",
    "train_y = pd.DataFrame(train.Labels)\n",
    "train_y.to_csv('normalized_data/flat/'+cohort+'_y_train_'+d_shape+'_'+out_cut+'_'+method+'.tsv', sep = '\\t')\n",
    "\n",
    "test_y = pd.DataFrame(test.Labels)\n",
    "test_y.to_csv('normalized_data/flat/'+cohort+'_y_test_'+d_shape+'_'+out_cut+'_'+method+'.tsv', sep = '\\t')\n",
    "\n",
    "scaler = MinMaxScaler()\n",
    "\n",
    "# Train\n",
    "train.drop(columns = 'Labels', inplace = True)\n",
    "train.mask(train > otlr_thresh, otlr_thresh, inplace = True)\n",
    "train_norm = pd.DataFrame( # check, all train\n",
    "    scaler.fit_transform(train.iloc[:, 1:]), # check, fit\n",
    "    columns = train.columns[1:],\n",
    "    index = train.index)\n",
    "train_norm.to_csv('normalized_data/flat/'+cohort+'_X_train_'+d_shape+'_'+out_cut+'_'+method+'.tsv', sep = '\\t')\n",
    "\n",
    "# Test\n",
    "test.drop(columns = 'Labels', inplace = True)\n",
    "test.mask(train > otlr_thresh, otlr_thresh, inplace = True)\n",
    "test_norm = pd.DataFrame( # check, all test\n",
    "    scaler.transform(test.iloc[:, 1:]), # check, fit\n",
    "    columns = test.columns[1:],\n",
    "    index = test.index)\n",
    "test_norm.to_csv('normalized_data/flat/'+cohort+'_X_test_'+d_shape+'_'+out_cut+'_'+method+'.tsv', sep = '\\t')"
   ]
  },
  {
   "cell_type": "markdown",
   "id": "d56ea206-d0c1-4b64-a8a0-67b6805127a3",
   "metadata": {
    "tags": []
   },
   "source": [
    "##### outlier devel"
   ]
  },
  {
   "cell_type": "code",
   "execution_count": 57,
   "id": "38312d81-3ad2-4526-bf18-34e1aa1ec4db",
   "metadata": {
    "tags": []
   },
   "outputs": [
    {
     "ename": "KeyError",
     "evalue": "\"['Labels'] not found in axis\"",
     "output_type": "error",
     "traceback": [
      "\u001b[0;31m---------------------------------------------------------------------------\u001b[0m",
      "\u001b[0;31mKeyError\u001b[0m                                  Traceback (most recent call last)",
      "Cell \u001b[0;32mIn [57], line 1\u001b[0m\n\u001b[0;32m----> 1\u001b[0m \u001b[43mtrain\u001b[49m\u001b[38;5;241;43m.\u001b[39;49m\u001b[43mdrop\u001b[49m\u001b[43m(\u001b[49m\u001b[43mcolumns\u001b[49m\u001b[43m \u001b[49m\u001b[38;5;241;43m=\u001b[39;49m\u001b[43m \u001b[49m\u001b[38;5;124;43m'\u001b[39;49m\u001b[38;5;124;43mLabels\u001b[39;49m\u001b[38;5;124;43m'\u001b[39;49m\u001b[43m,\u001b[49m\u001b[43m \u001b[49m\u001b[43minplace\u001b[49m\u001b[43m \u001b[49m\u001b[38;5;241;43m=\u001b[39;49m\u001b[43m \u001b[49m\u001b[38;5;28;43;01mTrue\u001b[39;49;00m\u001b[43m)\u001b[49m\n",
      "File \u001b[0;32m~/Development/OHSU/synthetic_TCGA_data_gen/venv/lib/python3.9/site-packages/pandas/util/_decorators.py:331\u001b[0m, in \u001b[0;36mdeprecate_nonkeyword_arguments.<locals>.decorate.<locals>.wrapper\u001b[0;34m(*args, **kwargs)\u001b[0m\n\u001b[1;32m    325\u001b[0m \u001b[38;5;28;01mif\u001b[39;00m \u001b[38;5;28mlen\u001b[39m(args) \u001b[38;5;241m>\u001b[39m num_allow_args:\n\u001b[1;32m    326\u001b[0m     warnings\u001b[38;5;241m.\u001b[39mwarn(\n\u001b[1;32m    327\u001b[0m         msg\u001b[38;5;241m.\u001b[39mformat(arguments\u001b[38;5;241m=\u001b[39m_format_argument_list(allow_args)),\n\u001b[1;32m    328\u001b[0m         \u001b[38;5;167;01mFutureWarning\u001b[39;00m,\n\u001b[1;32m    329\u001b[0m         stacklevel\u001b[38;5;241m=\u001b[39mfind_stack_level(),\n\u001b[1;32m    330\u001b[0m     )\n\u001b[0;32m--> 331\u001b[0m \u001b[38;5;28;01mreturn\u001b[39;00m \u001b[43mfunc\u001b[49m\u001b[43m(\u001b[49m\u001b[38;5;241;43m*\u001b[39;49m\u001b[43margs\u001b[49m\u001b[43m,\u001b[49m\u001b[43m \u001b[49m\u001b[38;5;241;43m*\u001b[39;49m\u001b[38;5;241;43m*\u001b[39;49m\u001b[43mkwargs\u001b[49m\u001b[43m)\u001b[49m\n",
      "File \u001b[0;32m~/Development/OHSU/synthetic_TCGA_data_gen/venv/lib/python3.9/site-packages/pandas/core/frame.py:5388\u001b[0m, in \u001b[0;36mDataFrame.drop\u001b[0;34m(self, labels, axis, index, columns, level, inplace, errors)\u001b[0m\n\u001b[1;32m   5240\u001b[0m \u001b[38;5;129m@deprecate_nonkeyword_arguments\u001b[39m(version\u001b[38;5;241m=\u001b[39m\u001b[38;5;28;01mNone\u001b[39;00m, allowed_args\u001b[38;5;241m=\u001b[39m[\u001b[38;5;124m\"\u001b[39m\u001b[38;5;124mself\u001b[39m\u001b[38;5;124m\"\u001b[39m, \u001b[38;5;124m\"\u001b[39m\u001b[38;5;124mlabels\u001b[39m\u001b[38;5;124m\"\u001b[39m])\n\u001b[1;32m   5241\u001b[0m \u001b[38;5;28;01mdef\u001b[39;00m \u001b[38;5;21mdrop\u001b[39m(  \u001b[38;5;66;03m# type: ignore[override]\u001b[39;00m\n\u001b[1;32m   5242\u001b[0m     \u001b[38;5;28mself\u001b[39m,\n\u001b[0;32m   (...)\u001b[0m\n\u001b[1;32m   5249\u001b[0m     errors: IgnoreRaise \u001b[38;5;241m=\u001b[39m \u001b[38;5;124m\"\u001b[39m\u001b[38;5;124mraise\u001b[39m\u001b[38;5;124m\"\u001b[39m,\n\u001b[1;32m   5250\u001b[0m ) \u001b[38;5;241m-\u001b[39m\u001b[38;5;241m>\u001b[39m DataFrame \u001b[38;5;241m|\u001b[39m \u001b[38;5;28;01mNone\u001b[39;00m:\n\u001b[1;32m   5251\u001b[0m     \u001b[38;5;124;03m\"\"\"\u001b[39;00m\n\u001b[1;32m   5252\u001b[0m \u001b[38;5;124;03m    Drop specified labels from rows or columns.\u001b[39;00m\n\u001b[1;32m   5253\u001b[0m \n\u001b[0;32m   (...)\u001b[0m\n\u001b[1;32m   5386\u001b[0m \u001b[38;5;124;03m            weight  1.0     0.8\u001b[39;00m\n\u001b[1;32m   5387\u001b[0m \u001b[38;5;124;03m    \"\"\"\u001b[39;00m\n\u001b[0;32m-> 5388\u001b[0m     \u001b[38;5;28;01mreturn\u001b[39;00m \u001b[38;5;28;43msuper\u001b[39;49m\u001b[43m(\u001b[49m\u001b[43m)\u001b[49m\u001b[38;5;241;43m.\u001b[39;49m\u001b[43mdrop\u001b[49m\u001b[43m(\u001b[49m\n\u001b[1;32m   5389\u001b[0m \u001b[43m        \u001b[49m\u001b[43mlabels\u001b[49m\u001b[38;5;241;43m=\u001b[39;49m\u001b[43mlabels\u001b[49m\u001b[43m,\u001b[49m\n\u001b[1;32m   5390\u001b[0m \u001b[43m        \u001b[49m\u001b[43maxis\u001b[49m\u001b[38;5;241;43m=\u001b[39;49m\u001b[43maxis\u001b[49m\u001b[43m,\u001b[49m\n\u001b[1;32m   5391\u001b[0m \u001b[43m        \u001b[49m\u001b[43mindex\u001b[49m\u001b[38;5;241;43m=\u001b[39;49m\u001b[43mindex\u001b[49m\u001b[43m,\u001b[49m\n\u001b[1;32m   5392\u001b[0m \u001b[43m        \u001b[49m\u001b[43mcolumns\u001b[49m\u001b[38;5;241;43m=\u001b[39;49m\u001b[43mcolumns\u001b[49m\u001b[43m,\u001b[49m\n\u001b[1;32m   5393\u001b[0m \u001b[43m        \u001b[49m\u001b[43mlevel\u001b[49m\u001b[38;5;241;43m=\u001b[39;49m\u001b[43mlevel\u001b[49m\u001b[43m,\u001b[49m\n\u001b[1;32m   5394\u001b[0m \u001b[43m        \u001b[49m\u001b[43minplace\u001b[49m\u001b[38;5;241;43m=\u001b[39;49m\u001b[43minplace\u001b[49m\u001b[43m,\u001b[49m\n\u001b[1;32m   5395\u001b[0m \u001b[43m        \u001b[49m\u001b[43merrors\u001b[49m\u001b[38;5;241;43m=\u001b[39;49m\u001b[43merrors\u001b[49m\u001b[43m,\u001b[49m\n\u001b[1;32m   5396\u001b[0m \u001b[43m    \u001b[49m\u001b[43m)\u001b[49m\n",
      "File \u001b[0;32m~/Development/OHSU/synthetic_TCGA_data_gen/venv/lib/python3.9/site-packages/pandas/util/_decorators.py:331\u001b[0m, in \u001b[0;36mdeprecate_nonkeyword_arguments.<locals>.decorate.<locals>.wrapper\u001b[0;34m(*args, **kwargs)\u001b[0m\n\u001b[1;32m    325\u001b[0m \u001b[38;5;28;01mif\u001b[39;00m \u001b[38;5;28mlen\u001b[39m(args) \u001b[38;5;241m>\u001b[39m num_allow_args:\n\u001b[1;32m    326\u001b[0m     warnings\u001b[38;5;241m.\u001b[39mwarn(\n\u001b[1;32m    327\u001b[0m         msg\u001b[38;5;241m.\u001b[39mformat(arguments\u001b[38;5;241m=\u001b[39m_format_argument_list(allow_args)),\n\u001b[1;32m    328\u001b[0m         \u001b[38;5;167;01mFutureWarning\u001b[39;00m,\n\u001b[1;32m    329\u001b[0m         stacklevel\u001b[38;5;241m=\u001b[39mfind_stack_level(),\n\u001b[1;32m    330\u001b[0m     )\n\u001b[0;32m--> 331\u001b[0m \u001b[38;5;28;01mreturn\u001b[39;00m \u001b[43mfunc\u001b[49m\u001b[43m(\u001b[49m\u001b[38;5;241;43m*\u001b[39;49m\u001b[43margs\u001b[49m\u001b[43m,\u001b[49m\u001b[43m \u001b[49m\u001b[38;5;241;43m*\u001b[39;49m\u001b[38;5;241;43m*\u001b[39;49m\u001b[43mkwargs\u001b[49m\u001b[43m)\u001b[49m\n",
      "File \u001b[0;32m~/Development/OHSU/synthetic_TCGA_data_gen/venv/lib/python3.9/site-packages/pandas/core/generic.py:4505\u001b[0m, in \u001b[0;36mNDFrame.drop\u001b[0;34m(self, labels, axis, index, columns, level, inplace, errors)\u001b[0m\n\u001b[1;32m   4503\u001b[0m \u001b[38;5;28;01mfor\u001b[39;00m axis, labels \u001b[38;5;129;01min\u001b[39;00m axes\u001b[38;5;241m.\u001b[39mitems():\n\u001b[1;32m   4504\u001b[0m     \u001b[38;5;28;01mif\u001b[39;00m labels \u001b[38;5;129;01mis\u001b[39;00m \u001b[38;5;129;01mnot\u001b[39;00m \u001b[38;5;28;01mNone\u001b[39;00m:\n\u001b[0;32m-> 4505\u001b[0m         obj \u001b[38;5;241m=\u001b[39m \u001b[43mobj\u001b[49m\u001b[38;5;241;43m.\u001b[39;49m\u001b[43m_drop_axis\u001b[49m\u001b[43m(\u001b[49m\u001b[43mlabels\u001b[49m\u001b[43m,\u001b[49m\u001b[43m \u001b[49m\u001b[43maxis\u001b[49m\u001b[43m,\u001b[49m\u001b[43m \u001b[49m\u001b[43mlevel\u001b[49m\u001b[38;5;241;43m=\u001b[39;49m\u001b[43mlevel\u001b[49m\u001b[43m,\u001b[49m\u001b[43m \u001b[49m\u001b[43merrors\u001b[49m\u001b[38;5;241;43m=\u001b[39;49m\u001b[43merrors\u001b[49m\u001b[43m)\u001b[49m\n\u001b[1;32m   4507\u001b[0m \u001b[38;5;28;01mif\u001b[39;00m inplace:\n\u001b[1;32m   4508\u001b[0m     \u001b[38;5;28mself\u001b[39m\u001b[38;5;241m.\u001b[39m_update_inplace(obj)\n",
      "File \u001b[0;32m~/Development/OHSU/synthetic_TCGA_data_gen/venv/lib/python3.9/site-packages/pandas/core/generic.py:4546\u001b[0m, in \u001b[0;36mNDFrame._drop_axis\u001b[0;34m(self, labels, axis, level, errors, only_slice)\u001b[0m\n\u001b[1;32m   4544\u001b[0m         new_axis \u001b[38;5;241m=\u001b[39m axis\u001b[38;5;241m.\u001b[39mdrop(labels, level\u001b[38;5;241m=\u001b[39mlevel, errors\u001b[38;5;241m=\u001b[39merrors)\n\u001b[1;32m   4545\u001b[0m     \u001b[38;5;28;01melse\u001b[39;00m:\n\u001b[0;32m-> 4546\u001b[0m         new_axis \u001b[38;5;241m=\u001b[39m \u001b[43maxis\u001b[49m\u001b[38;5;241;43m.\u001b[39;49m\u001b[43mdrop\u001b[49m\u001b[43m(\u001b[49m\u001b[43mlabels\u001b[49m\u001b[43m,\u001b[49m\u001b[43m \u001b[49m\u001b[43merrors\u001b[49m\u001b[38;5;241;43m=\u001b[39;49m\u001b[43merrors\u001b[49m\u001b[43m)\u001b[49m\n\u001b[1;32m   4547\u001b[0m     indexer \u001b[38;5;241m=\u001b[39m axis\u001b[38;5;241m.\u001b[39mget_indexer(new_axis)\n\u001b[1;32m   4549\u001b[0m \u001b[38;5;66;03m# Case for non-unique axis\u001b[39;00m\n\u001b[1;32m   4550\u001b[0m \u001b[38;5;28;01melse\u001b[39;00m:\n",
      "File \u001b[0;32m~/Development/OHSU/synthetic_TCGA_data_gen/venv/lib/python3.9/site-packages/pandas/core/indexes/base.py:6975\u001b[0m, in \u001b[0;36mIndex.drop\u001b[0;34m(self, labels, errors)\u001b[0m\n\u001b[1;32m   6973\u001b[0m \u001b[38;5;28;01mif\u001b[39;00m mask\u001b[38;5;241m.\u001b[39many():\n\u001b[1;32m   6974\u001b[0m     \u001b[38;5;28;01mif\u001b[39;00m errors \u001b[38;5;241m!=\u001b[39m \u001b[38;5;124m\"\u001b[39m\u001b[38;5;124mignore\u001b[39m\u001b[38;5;124m\"\u001b[39m:\n\u001b[0;32m-> 6975\u001b[0m         \u001b[38;5;28;01mraise\u001b[39;00m \u001b[38;5;167;01mKeyError\u001b[39;00m(\u001b[38;5;124mf\u001b[39m\u001b[38;5;124m\"\u001b[39m\u001b[38;5;132;01m{\u001b[39;00m\u001b[38;5;28mlist\u001b[39m(labels[mask])\u001b[38;5;132;01m}\u001b[39;00m\u001b[38;5;124m not found in axis\u001b[39m\u001b[38;5;124m\"\u001b[39m)\n\u001b[1;32m   6976\u001b[0m     indexer \u001b[38;5;241m=\u001b[39m indexer[\u001b[38;5;241m~\u001b[39mmask]\n\u001b[1;32m   6977\u001b[0m \u001b[38;5;28;01mreturn\u001b[39;00m \u001b[38;5;28mself\u001b[39m\u001b[38;5;241m.\u001b[39mdelete(indexer)\n",
      "\u001b[0;31mKeyError\u001b[0m: \"['Labels'] not found in axis\""
     ]
    }
   ],
   "source": [
    "train.drop(columns = 'Labels', inplace = True)"
   ]
  },
  {
   "cell_type": "code",
   "execution_count": null,
   "id": "0edeaed6-af42-4879-9c03-f27be291eefd",
   "metadata": {},
   "outputs": [],
   "source": [
    "train.mask(train > 1000000, 1000000, inplace = True)"
   ]
  },
  {
   "cell_type": "code",
   "execution_count": null,
   "id": "917ce238-cb9f-4bdc-90e4-1f872160822f",
   "metadata": {},
   "outputs": [],
   "source": [
    "train.max().max()"
   ]
  },
  {
   "cell_type": "code",
   "execution_count": null,
   "id": "395302bf-1a9c-41a8-b865-008d1693282d",
   "metadata": {},
   "outputs": [],
   "source": [
    ".mask(blca > 1000000, 1000000)"
   ]
  },
  {
   "cell_type": "code",
   "execution_count": null,
   "id": "95464156-203a-4502-9495-c42478ab1b28",
   "metadata": {
    "tags": []
   },
   "outputs": [],
   "source": [
    "train.drop(columns = 'Labels').max().max()"
   ]
  },
  {
   "cell_type": "code",
   "execution_count": null,
   "id": "6acfc344-672b-413f-87b0-b56be565b834",
   "metadata": {},
   "outputs": [],
   "source": [
    "train, test = train_test_split(blca)"
   ]
  },
  {
   "cell_type": "code",
   "execution_count": null,
   "id": "b799263b-08b2-4c36-be5a-d6c4fb7ca415",
   "metadata": {
    "tags": []
   },
   "outputs": [],
   "source": [
    "train.iloc[:,1:].max().max()"
   ]
  },
  {
   "cell_type": "code",
   "execution_count": null,
   "id": "3086d80c-9ab1-455a-af60-1adc7c30f2a7",
   "metadata": {
    "tags": []
   },
   "outputs": [],
   "source": [
    "test.iloc[:,1:].max().max()"
   ]
  },
  {
   "cell_type": "code",
   "execution_count": null,
   "id": "fd341231-f9dd-4521-bdf1-5a826bf07eae",
   "metadata": {},
   "outputs": [],
   "source": [
    "blca.iloc[:,1:].max().max()"
   ]
  },
  {
   "cell_type": "code",
   "execution_count": null,
   "id": "c294d370-b1bf-4a52-8ac4-8127683af669",
   "metadata": {},
   "outputs": [],
   "source": [
    "blcaX = blca.iloc[:,1:].copy()"
   ]
  },
  {
   "cell_type": "code",
   "execution_count": null,
   "id": "738f2f10-0a49-490a-a231-5de069627eeb",
   "metadata": {},
   "outputs": [],
   "source": [
    "blcaX.max().max()"
   ]
  },
  {
   "cell_type": "code",
   "execution_count": null,
   "id": "3a6e89c8-f3f1-4c63-a053-7eef0b318490",
   "metadata": {
    "tags": []
   },
   "outputs": [],
   "source": [
    "blca.iloc[:,1:].mask(blca > 1000000, 1000000)"
   ]
  },
  {
   "cell_type": "code",
   "execution_count": null,
   "id": "ccf63b7a-e574-4f3e-9590-88742e5c3a58",
   "metadata": {},
   "outputs": [],
   "source": [
    "blcaX.mask(blcaX > 1000000, 1000000, inplace = True)"
   ]
  },
  {
   "cell_type": "code",
   "execution_count": null,
   "id": "e093b299-d20c-4a5e-b258-ed2d12c8526d",
   "metadata": {},
   "outputs": [],
   "source": [
    "blcaX.max().max()"
   ]
  },
  {
   "cell_type": "code",
   "execution_count": null,
   "id": "c87bc6b2-0a8b-4b88-aad1-1d649658ef7b",
   "metadata": {},
   "outputs": [],
   "source": [
    "mask_point = 100000"
   ]
  },
  {
   "cell_type": "markdown",
   "id": "a35d3a7d-8017-46bc-964e-f5e5bb338ca7",
   "metadata": {
    "jp-MarkdownHeadingCollapsed": true,
    "tags": []
   },
   "source": [
    "#### BLCA 100k otlr cut MinMax flat"
   ]
  },
  {
   "cell_type": "code",
   "execution_count": null,
   "id": "45913fd7-4d99-43bf-adf0-8554f022b9da",
   "metadata": {},
   "outputs": [],
   "source": [
    "cohort = 'BLCA'\n",
    "d_shape = 'flat' # or square\n",
    "out_cut = '100k_otlr_cut' # wont overwrite uncut files\n",
    "method = 'MinMax' # already know its flat by the dir, should probaly just name\n",
    "\n",
    "otlr_thresh = 100000\n",
    "\n",
    "train, test = train_test_split(blca)\n",
    "\n",
    "train_y = pd.DataFrame(train.Labels)\n",
    "train_y.to_csv('normalized_data/flat/'+cohort+'_y_train_'+d_shape+'_'+out_cut+'_'+method+'.tsv', sep = '\\t')\n",
    "\n",
    "test_y = pd.DataFrame(test.Labels)\n",
    "test_y.to_csv('normalized_data/flat/'+cohort+'_y_test_'+d_shape+'_'+out_cut+'_'+method+'.tsv', sep = '\\t')\n",
    "\n",
    "scaler = MinMaxScaler()\n",
    "\n",
    "# Train\n",
    "train.drop(columns = 'Labels', inplace = True)\n",
    "train.mask(train > otlr_thresh, otlr_thresh, inplace = True)\n",
    "train_norm = pd.DataFrame( # check, all train\n",
    "    scaler.fit_transform(train.iloc[:, 1:]), # check, fit\n",
    "    columns = train.columns[1:],\n",
    "    index = train.index)\n",
    "train_norm.to_csv('normalized_data/flat/'+cohort+'_X_train_'+d_shape+'_'+out_cut+'_'+method+'.tsv', sep = '\\t')\n",
    "\n",
    "# Test\n",
    "test.drop(columns = 'Labels', inplace = True)\n",
    "test.mask(train > otlr_thresh, otlr_thresh, inplace = True)\n",
    "test_norm = pd.DataFrame( # check, all test\n",
    "    scaler.transform(test.iloc[:, 1:]), # check, fit\n",
    "    columns = test.columns[1:],\n",
    "    index = test.index)\n",
    "test_norm.to_csv('normalized_data/flat/'+cohort+'_X_test_'+d_shape+'_'+out_cut+'_'+method+'.tsv', sep = '\\t')"
   ]
  },
  {
   "cell_type": "markdown",
   "id": "17cd369d-2bf1-41a1-9f4f-8b152670c557",
   "metadata": {
    "jp-MarkdownHeadingCollapsed": true,
    "tags": []
   },
   "source": [
    "#### BLCA 10k otlr cut MinMax flat"
   ]
  },
  {
   "cell_type": "code",
   "execution_count": null,
   "id": "99b3846c-50ef-450e-997a-50e0bffb8106",
   "metadata": {
    "jupyter": {
     "source_hidden": true
    },
    "tags": []
   },
   "outputs": [],
   "source": [
    "cohort = 'BLCA'\n",
    "d_shape = 'flat' # or square\n",
    "out_cut = '10k_otlr_cut' # wont overwrite uncut files\n",
    "method = 'MinMax' # already know its flat by the dir, should probaly just name\n",
    "\n",
    "otlr_thresh = 10000\n",
    "\n",
    "train, test = train_test_split(blca)\n",
    "\n",
    "train_y = pd.DataFrame(train.Labels)\n",
    "train_y.to_csv('normalized_data/flat/'+cohort+'_y_train_'+d_shape+'_'+out_cut+'_'+method+'.tsv', sep = '\\t')\n",
    "\n",
    "test_y = pd.DataFrame(test.Labels)\n",
    "test_y.to_csv('normalized_data/flat/'+cohort+'_y_test_'+d_shape+'_'+out_cut+'_'+method+'.tsv', sep = '\\t')\n",
    "\n",
    "scaler = MinMaxScaler()\n",
    "\n",
    "# Train\n",
    "train.drop(columns = 'Labels', inplace = True)\n",
    "train.mask(train > otlr_thresh, otlr_thresh, inplace = True)\n",
    "train_norm = pd.DataFrame( # check, all train\n",
    "    scaler.fit_transform(train.iloc[:, 1:]), # check, fit\n",
    "    columns = train.columns[1:],\n",
    "    index = train.index)\n",
    "train_norm.to_csv('normalized_data/flat/'+cohort+'_X_train_'+d_shape+'_'+out_cut+'_'+method+'.tsv', sep = '\\t')\n",
    "\n",
    "# Test\n",
    "test.drop(columns = 'Labels', inplace = True)\n",
    "test.mask(train > otlr_thresh, otlr_thresh, inplace = True)\n",
    "test_norm = pd.DataFrame( # check, all test\n",
    "    scaler.transform(test.iloc[:, 1:]), # check, fit\n",
    "    columns = test.columns[1:],\n",
    "    index = test.index)\n",
    "test_norm.to_csv('normalized_data/flat/'+cohort+'_X_test_'+d_shape+'_'+out_cut+'_'+method+'.tsv', sep = '\\t')"
   ]
  },
  {
   "cell_type": "markdown",
   "id": "25bd973e-f466-4fd2-90b2-49ebf4c3d710",
   "metadata": {
    "jp-MarkdownHeadingCollapsed": true,
    "tags": []
   },
   "source": [
    "#### BLCA 1k otlr cut MinMax flat"
   ]
  },
  {
   "cell_type": "code",
   "execution_count": null,
   "id": "5322efac-1e95-4939-bc2b-7e6e61c8422e",
   "metadata": {
    "jupyter": {
     "source_hidden": true
    },
    "tags": []
   },
   "outputs": [],
   "source": [
    "cohort = 'BLCA'\n",
    "d_shape = 'flat' # or square\n",
    "out_cut = '1k_otlr_cut' # wont overwrite uncut files\n",
    "method = 'MinMax' # already know its flat by the dir, should probaly just name\n",
    "\n",
    "otlr_thresh = 1000\n",
    "\n",
    "train, test = train_test_split(blca)\n",
    "\n",
    "train_y = pd.DataFrame(train.Labels)\n",
    "train_y.to_csv('normalized_data/flat/'+cohort+'_y_train_'+d_shape+'_'+out_cut+'_'+method+'.tsv', sep = '\\t')\n",
    "\n",
    "test_y = pd.DataFrame(test.Labels)\n",
    "test_y.to_csv('normalized_data/flat/'+cohort+'_y_test_'+d_shape+'_'+out_cut+'_'+method+'.tsv', sep = '\\t')\n",
    "\n",
    "scaler = MinMaxScaler()\n",
    "\n",
    "# Train\n",
    "train.drop(columns = 'Labels', inplace = True)\n",
    "train.mask(train > otlr_thresh, otlr_thresh, inplace = True)\n",
    "train_norm = pd.DataFrame( # check, all train\n",
    "    scaler.fit_transform(train.iloc[:, 1:]), # check, fit\n",
    "    columns = train.columns[1:],\n",
    "    index = train.index)\n",
    "train_norm.to_csv('normalized_data/flat/'+cohort+'_X_train_'+d_shape+'_'+out_cut+'_'+method+'.tsv', sep = '\\t')\n",
    "\n",
    "# Test\n",
    "test.drop(columns = 'Labels', inplace = True)\n",
    "test.mask(train > otlr_thresh, otlr_thresh, inplace = True)\n",
    "test_norm = pd.DataFrame( # check, all test\n",
    "    scaler.transform(test.iloc[:, 1:]), # check, fit\n",
    "    columns = test.columns[1:],\n",
    "    index = test.index)\n",
    "test_norm.to_csv('normalized_data/flat/'+cohort+'_X_test_'+d_shape+'_'+out_cut+'_'+method+'.tsv', sep = '\\t')"
   ]
  },
  {
   "cell_type": "markdown",
   "id": "75166106-3dcb-48f5-b009-538fd2ba52ca",
   "metadata": {
    "jp-MarkdownHeadingCollapsed": true,
    "tags": []
   },
   "source": [
    "#### BLCA 500 otlr cut MinMax flat"
   ]
  },
  {
   "cell_type": "code",
   "execution_count": null,
   "id": "eab03413-e0bd-4b1c-a38d-c3c2bdefdd8d",
   "metadata": {
    "jupyter": {
     "source_hidden": true
    },
    "tags": []
   },
   "outputs": [],
   "source": [
    "cohort = 'BLCA'\n",
    "d_shape = 'flat' # or square\n",
    "out_cut = '500_otlr_cut' # wont overwrite uncut files\n",
    "method = 'MinMax' # already know its flat by the dir, should probaly just name\n",
    "\n",
    "otlr_thresh = 500\n",
    "\n",
    "train, test = train_test_split(blca)\n",
    "\n",
    "train_y = pd.DataFrame(train.Labels)\n",
    "train_y.to_csv('normalized_data/flat/'+cohort+'_y_train_'+d_shape+'_'+out_cut+'_'+method+'.tsv', sep = '\\t')\n",
    "\n",
    "test_y = pd.DataFrame(test.Labels)\n",
    "test_y.to_csv('normalized_data/flat/'+cohort+'_y_test_'+d_shape+'_'+out_cut+'_'+method+'.tsv', sep = '\\t')\n",
    "\n",
    "scaler = MinMaxScaler()\n",
    "\n",
    "# Train\n",
    "train.drop(columns = 'Labels', inplace = True)\n",
    "train.mask(train > otlr_thresh, otlr_thresh, inplace = True)\n",
    "train_norm = pd.DataFrame( # check, all train\n",
    "    scaler.fit_transform(train.iloc[:, 1:]), # check, fit\n",
    "    columns = train.columns[1:],\n",
    "    index = train.index)\n",
    "train_norm.to_csv('normalized_data/flat/'+cohort+'_X_train_'+d_shape+'_'+out_cut+'_'+method+'.tsv', sep = '\\t')\n",
    "\n",
    "# Test\n",
    "test.drop(columns = 'Labels', inplace = True)\n",
    "test.mask(train > otlr_thresh, otlr_thresh, inplace = True)\n",
    "test_norm = pd.DataFrame( # check, all test\n",
    "    scaler.transform(test.iloc[:, 1:]), # check, fit\n",
    "    columns = test.columns[1:],\n",
    "    index = test.index)\n",
    "test_norm.to_csv('normalized_data/flat/'+cohort+'_X_test_'+d_shape+'_'+out_cut+'_'+method+'.tsv', sep = '\\t')"
   ]
  },
  {
   "cell_type": "markdown",
   "id": "593c74b2-5b4f-4b75-9aa3-aa71f2b41e1b",
   "metadata": {
    "tags": []
   },
   "source": [
    "#### BLCA 250 otlr cut MinMax flat"
   ]
  },
  {
   "cell_type": "code",
   "execution_count": null,
   "id": "fef59dde-a031-46a7-bca3-10972c4f20c6",
   "metadata": {
    "tags": []
   },
   "outputs": [],
   "source": [
    "cohort = 'BLCA'\n",
    "d_shape = 'flat' # or square\n",
    "out_cut = '250_otlr_cut' # wont overwrite uncut files\n",
    "method = 'MinMax' # already know its flat by the dir, should probaly just name\n",
    "\n",
    "otlr_thresh = 250\n",
    "\n",
    "train, test = train_test_split(blca)\n",
    "\n",
    "train_y = pd.DataFrame(train.Labels)\n",
    "train_y.to_csv('normalized_data/flat/'+cohort+'_y_train_'+d_shape+'_'+out_cut+'_'+method+'.tsv', sep = '\\t')\n",
    "\n",
    "test_y = pd.DataFrame(test.Labels)\n",
    "test_y.to_csv('normalized_data/flat/'+cohort+'_y_test_'+d_shape+'_'+out_cut+'_'+method+'.tsv', sep = '\\t')\n",
    "\n",
    "scaler = MinMaxScaler()\n",
    "\n",
    "# Train\n",
    "train.drop(columns = 'Labels', inplace = True)\n",
    "train.mask(train > otlr_thresh, otlr_thresh, inplace = True)\n",
    "train_norm = pd.DataFrame( # check, all train\n",
    "    scaler.fit_transform(train.iloc[:, 1:]), # check, fit\n",
    "    columns = train.columns[1:],\n",
    "    index = train.index)\n",
    "train_norm.to_csv('normalized_data/flat/'+cohort+'_X_train_'+d_shape+'_'+out_cut+'_'+method+'.tsv', sep = '\\t')\n",
    "\n",
    "# Test\n",
    "test.drop(columns = 'Labels', inplace = True)\n",
    "test.mask(train > otlr_thresh, otlr_thresh, inplace = True)\n",
    "test_norm = pd.DataFrame( # check, all test\n",
    "    scaler.transform(test.iloc[:, 1:]), # check, fit\n",
    "    columns = test.columns[1:],\n",
    "    index = test.index)\n",
    "test_norm.to_csv('normalized_data/flat/'+cohort+'_X_test_'+d_shape+'_'+out_cut+'_'+method+'.tsv', sep = '\\t')"
   ]
  },
  {
   "cell_type": "markdown",
   "id": "32247b3b-b209-48af-a800-cd515d179e7c",
   "metadata": {
    "tags": []
   },
   "source": [
    "#### BRCA\n",
    "\n",
    "Begin Thursday 2022-10-13  \n",
    "Load pacakages and gexp path above"
   ]
  },
  {
   "cell_type": "markdown",
   "id": "c73411c3-290e-433d-9ab6-e84535344cba",
   "metadata": {},
   "source": [
    "##### MinMax() on raw data, control"
   ]
  },
  {
   "cell_type": "code",
   "execution_count": null,
   "id": "151c4100-d95a-4e7b-bded-0aec1948bd61",
   "metadata": {},
   "outputs": [],
   "source": [
    "# should probably start a Robust Scaler version, use stats plots!"
   ]
  },
  {
   "cell_type": "code",
   "execution_count": null,
   "id": "2d18e919-1146-47a6-8197-2e0b64f049c2",
   "metadata": {},
   "outputs": [],
   "source": [
    "brca = pd.read_csv(gxp_file_paths[2],\n",
    "                       sep = '\\t',\n",
    "                       index_col = 0)"
   ]
  },
  {
   "cell_type": "code",
   "execution_count": null,
   "id": "a79bb77c-6dcc-4ea3-8a31-95159de749b2",
   "metadata": {},
   "outputs": [],
   "source": [
    "cohort = 'BRCA'\n",
    "d_shape = 'flat' # or square\n",
    "out_cut = 'no_otlr_cut'\n",
    "method = 'MinMax' # already know its flat by the dir, should probaly just name"
   ]
  },
  {
   "cell_type": "code",
   "execution_count": null,
   "id": "3b8af4bd-f43b-46da-b0ca-1ea939fbd42e",
   "metadata": {},
   "outputs": [],
   "source": [
    "cohort # to file name"
   ]
  },
  {
   "cell_type": "code",
   "execution_count": null,
   "id": "f0f37a2b-bc4e-4019-9f36-291c092516a5",
   "metadata": {},
   "outputs": [],
   "source": [
    "brca.index.name # to function"
   ]
  },
  {
   "cell_type": "code",
   "execution_count": null,
   "id": "e9d19f60-cfd3-40d3-9133-ef90b5abb41e",
   "metadata": {
    "tags": []
   },
   "outputs": [],
   "source": [
    "# no-outlier threshold, control\n",
    "train, test = train_test_split(brca) # check, taking <brca>, to 1Dmodel fine-tune\n",
    "scaler = MinMaxScaler() # get fresh Scaler object\n",
    "\n",
    "# Train\n",
    "train_norm = pd.DataFrame( # check, all train\n",
    "    scaler.fit_transform(train.iloc[:, 1:]), # check, fit\n",
    "    columns = train.columns[1:],\n",
    "    index = train.index)\n",
    "train_norm.to_csv('normalized_data/flat/'+cohort+'_X_train_'+d_shape+'_'+out_cut+'_'+method+'.tsv', sep = '\\t')\n",
    "\n",
    "train_y = pd.DataFrame(train.Labels)\n",
    "train_y.to_csv('normalized_data/flat/'+cohort+'_y_train_'+d_shape+'_'+out_cut+'_'+method+'.tsv', sep = '\\t')\n",
    "\n",
    "# Test\n",
    "test_norm = pd.DataFrame( # check, all test\n",
    "    scaler.transform(test.iloc[:, 1:]), # check, fit\n",
    "    columns = test.columns[1:],\n",
    "    index = test.index)\n",
    "test_norm.to_csv('normalized_data/flat/'+cohort+'_X_test_'+d_shape+'_'+out_cut+'_'+method+'.tsv', sep = '\\t')\n",
    "\n",
    "test_y = pd.DataFrame(test.Labels)\n",
    "test_y.to_csv('normalized_data/flat/'+cohort+'_y_test_'+d_shape+'_'+out_cut+'_'+method+'.tsv', sep = '\\t')"
   ]
  },
  {
   "cell_type": "code",
   "execution_count": null,
   "id": "562fa2d8-e2d4-4471-a811-049408b2b1da",
   "metadata": {},
   "outputs": [],
   "source": [
    "train_norm.shape"
   ]
  },
  {
   "cell_type": "code",
   "execution_count": null,
   "id": "44ed0ded-266c-45c2-a854-5c6d67870942",
   "metadata": {},
   "outputs": [],
   "source": [
    "import time"
   ]
  },
  {
   "cell_type": "code",
   "execution_count": null,
   "id": "6cc4323f-7428-4d30-99a3-625fb2f994ca",
   "metadata": {},
   "outputs": [],
   "source": [
    "import scipy"
   ]
  },
  {
   "cell_type": "code",
   "execution_count": null,
   "id": "6300fa39-ca50-469e-b4ef-215b12c97ef4",
   "metadata": {},
   "outputs": [],
   "source": [
    "train.index.name"
   ]
  },
  {
   "cell_type": "code",
   "execution_count": null,
   "id": "d592e4ec-6c2b-48fb-bb66-d37ddf146cbf",
   "metadata": {},
   "outputs": [],
   "source": [
    "strt = time.time()\n",
    "row_lst = []\n",
    "for i, row_idx in enumerate(train.index):\n",
    "    row = train.iloc[i, 1:]\n",
    "    row_lst = row_lst + list(row)\n",
    "end = time.time() - strt\n",
    "print(end)\n",
    "print(out_cut)\n",
    "scipy.stats.describe(row_lst)"
   ]
  },
  {
   "cell_type": "code",
   "execution_count": null,
   "id": "3e7ebb93-75bd-4217-8a89-15e004041eeb",
   "metadata": {},
   "outputs": [],
   "source": [
    "# Observation: variance is 18.7 million"
   ]
  },
  {
   "cell_type": "code",
   "execution_count": null,
   "id": "6cd3e681-26f3-4715-bd9c-8b9767324db1",
   "metadata": {},
   "outputs": [],
   "source": [
    "end"
   ]
  },
  {
   "cell_type": "code",
   "execution_count": null,
   "id": "a14ab280-a577-4377-b1df-264a35bc3c25",
   "metadata": {},
   "outputs": [],
   "source": [
    "train_norm.index.name"
   ]
  },
  {
   "cell_type": "code",
   "execution_count": null,
   "id": "81fd91d4-eaa8-4179-8b52-4884c0db3108",
   "metadata": {},
   "outputs": [],
   "source": [
    "# After normalizing BRCA with no outlier cut\n",
    "strt = time.time()\n",
    "row_lst = []\n",
    "for i, row_idx in enumerate(train_norm.index):\n",
    "    row = train_norm.iloc[i, 1:]\n",
    "    row_lst = row_lst + list(row)\n",
    "end = time.time() - strt\n",
    "print(out_cut)\n",
    "scipy.stats.describe(row_lst)"
   ]
  },
  {
   "cell_type": "code",
   "execution_count": null,
   "id": "c2a51467-5aa4-4737-82ad-5763cce5fc36",
   "metadata": {},
   "outputs": [],
   "source": [
    "end"
   ]
  },
  {
   "cell_type": "markdown",
   "id": "daec20e1-6901-46bb-84c5-13fc46a9a000",
   "metadata": {},
   "source": [
    "##### Auto-clip BRCA, end control MinMax"
   ]
  },
  {
   "cell_type": "code",
   "execution_count": null,
   "id": "a119369a-4eff-41a6-b44c-e21c78d719e6",
   "metadata": {},
   "outputs": [],
   "source": [
    "time.time()"
   ]
  },
  {
   "cell_type": "code",
   "execution_count": null,
   "id": "8585e427-163d-47eb-ae1e-c969d39ff661",
   "metadata": {
    "tags": []
   },
   "outputs": [],
   "source": [
    "        # clip at 1M - \n",
    "        # clip at 100k\n",
    "        # clip at 10k\n",
    "        # clip at 1k\n",
    "        # clip at 500\n",
    "        # clip at 250"
   ]
  },
  {
   "cell_type": "code",
   "execution_count": null,
   "id": "406542ca-2533-4955-bf09-14718c889b78",
   "metadata": {},
   "outputs": [],
   "source": [
    "otlr_thresh = 1000000 # six zeros\n",
    "out_cut = '1M_otlr_cut'"
   ]
  },
  {
   "cell_type": "code",
   "execution_count": null,
   "id": "95f78ab4-6690-4071-aebe-5182a569cde3",
   "metadata": {},
   "outputs": [],
   "source": [
    "otlr_thresh = 100000 # five\n",
    "out_cut = '100k_otlr_cut'"
   ]
  },
  {
   "cell_type": "code",
   "execution_count": null,
   "id": "f61b7a25-e6b5-4dd3-95e0-43183154689b",
   "metadata": {},
   "outputs": [],
   "source": [
    "otlr_thresh = 10000 # four\n",
    "out_cut = '10k_otlr_cut'"
   ]
  },
  {
   "cell_type": "code",
   "execution_count": null,
   "id": "e49cb980-13bd-49b9-8abe-356a46800ebc",
   "metadata": {},
   "outputs": [],
   "source": [
    "otlr_thresh = 1000 # three\n",
    "out_cut = '1k_otlr_cut'"
   ]
  },
  {
   "cell_type": "code",
   "execution_count": null,
   "id": "7b522211-13b2-4daa-8ec9-ef0ac6e0efb0",
   "metadata": {},
   "outputs": [],
   "source": [
    "otlr_thresh = 500 # \n",
    "out_cut = '500_otlr_cut'"
   ]
  },
  {
   "cell_type": "code",
   "execution_count": null,
   "id": "6cabf9ff-9b68-4ff0-9cbd-dda53321a0a5",
   "metadata": {},
   "outputs": [],
   "source": [
    "otlr_thresh = 250 # \n",
    "out_cut = '250_otlr_cut'"
   ]
  },
  {
   "cell_type": "code",
   "execution_count": null,
   "id": "d71107c7-d4ea-4294-9aae-b5982345fb33",
   "metadata": {},
   "outputs": [],
   "source": [
    "cohort # to file name"
   ]
  },
  {
   "cell_type": "code",
   "execution_count": null,
   "id": "960ee58f-97e1-4f4c-b9b7-070087432cfb",
   "metadata": {},
   "outputs": [],
   "source": [
    "brca.index.name # to function"
   ]
  },
  {
   "cell_type": "code",
   "execution_count": null,
   "id": "e93ebff5-9dc8-4f9a-880c-f710d8c830d0",
   "metadata": {},
   "outputs": [],
   "source": [
    "print(otlr_thresh)\n",
    "out_cut"
   ]
  },
  {
   "cell_type": "code",
   "execution_count": null,
   "id": "f6d69644-e167-4602-8920-449f45ef83a7",
   "metadata": {},
   "outputs": [],
   "source": [
    "# BRCA\n",
    "train, test = train_test_split(brca) # check 2, this is <brca>, to fine tune *\n",
    "\n",
    "train_y = pd.DataFrame(train.Labels)\n",
    "train_y.to_csv('normalized_data/flat/'+cohort+'_y_train_'+d_shape+'_'+out_cut+'_'+method+'.tsv', sep = '\\t')\n",
    "\n",
    "test_y = pd.DataFrame(test.Labels)\n",
    "test_y.to_csv('normalized_data/flat/'+cohort+'_y_test_'+d_shape+'_'+out_cut+'_'+method+'.tsv', sep = '\\t')\n",
    "\n",
    "scaler = MinMaxScaler()\n",
    "\n",
    "# Train\n",
    "train.drop(columns = 'Labels', inplace = True)\n",
    "train.mask(train > otlr_thresh, otlr_thresh, inplace = True) # should feed the first four moment description\n",
    "train_norm = pd.DataFrame( # check, all train\n",
    "    scaler.fit_transform(train.iloc[:, 1:]), # check, fit\n",
    "    columns = train.columns[1:],\n",
    "    index = train.index)\n",
    "train_norm.to_csv('normalized_data/flat/'+cohort+'_X_train_'+d_shape+'_'+out_cut+'_'+method+'.tsv', sep = '\\t')\n",
    "\n",
    "# Test\n",
    "test.drop(columns = 'Labels', inplace = True)\n",
    "test.mask(test > otlr_thresh, otlr_thresh, inplace = True) # template here for BLCA re-run, just delete\n",
    "test_norm = pd.DataFrame( # check, all test                 # all the individual and mimic semi-auto here\n",
    "    scaler.transform(test.iloc[:, 1:]), # check, fit\n",
    "    columns = test.columns[1:],\n",
    "    index = test.index)\n",
    "test_norm.to_csv('normalized_data/flat/'+cohort+'_X_test_'+d_shape+'_'+out_cut+'_'+method+'.tsv', sep = '\\t')"
   ]
  },
  {
   "cell_type": "code",
   "execution_count": null,
   "id": "6b237094-042a-494b-b39f-5645a8c2db53",
   "metadata": {},
   "outputs": [],
   "source": [
    "# for BLCA stats automation\n",
    "rw_otlr "
   ]
  },
  {
   "cell_type": "code",
   "execution_count": null,
   "id": "1b061ce2-2d91-42db-b838-f00b09e045a2",
   "metadata": {},
   "outputs": [],
   "source": [
    "import matplotlib.pyplot as plt"
   ]
  },
  {
   "cell_type": "code",
   "execution_count": null,
   "id": "ea672abd-cd73-4120-95ca-987a5cf14760",
   "metadata": {},
   "outputs": [],
   "source": [
    "fig, ax = plt.subplots()\n",
    "fig.canvas.draw()\n",
    "\n",
    "labels = [item.get_text() for item in ax.get_xticklabels()]\n",
    "labels = step_vals\n",
    "\n",
    "ax.set_xticklabels(labels)\n",
    "plt.plot(step, var)\n",
    "plt.show()"
   ]
  },
  {
   "cell_type": "code",
   "execution_count": null,
   "id": "7e600f27-0ca1-4df9-b4f7-6d3c7b54efab",
   "metadata": {},
   "outputs": [],
   "source": [
    "plt.plot(step, var)\n",
    "plt.title('BRCA GEXP variance, value ceiling steps')\n",
    "plt.set_xticklabels(step_vals)"
   ]
  },
  {
   "cell_type": "code",
   "execution_count": null,
   "id": "8c01da2b-fb4c-4b61-96dc-a7823cdbed74",
   "metadata": {},
   "outputs": [],
   "source": [
    "var = [17986453, 10203386, 2459423, 163595, 48658, 12851]"
   ]
  },
  {
   "cell_type": "code",
   "execution_count": null,
   "id": "6a312fee-e6f5-4601-a4a2-992ce54fa35d",
   "metadata": {},
   "outputs": [],
   "source": [
    "step = [1,2,3,4,5,6]"
   ]
  },
  {
   "cell_type": "code",
   "execution_count": null,
   "id": "c3afc6ad-b849-4e20-96db-78f0193ee476",
   "metadata": {},
   "outputs": [],
   "source": [
    "step_vals = [1000000,100000,10000,1000,500,250]"
   ]
  },
  {
   "cell_type": "code",
   "execution_count": null,
   "id": "a233cc0b-31b6-4eb7-8849-4c2dfd2bdc25",
   "metadata": {
    "jupyter": {
     "source_hidden": true
    },
    "tags": []
   },
   "outputs": [],
   "source": [
    "row_lst = []\n",
    "for i, row_idx in enumerate(train.index):\n",
    "    row = train.iloc[i, 1:]\n",
    "    row_lst = row_lst + list(row)\n",
    "print(cohort)\n",
    "print('Raw with outlier clip')\n",
    "print(out_cut)\n",
    "scipy.stats.describe(row_lst)"
   ]
  },
  {
   "cell_type": "code",
   "execution_count": null,
   "id": "a674a3b1-f872-4bd6-abbc-24e65c089172",
   "metadata": {
    "jupyter": {
     "source_hidden": true
    },
    "tags": []
   },
   "outputs": [],
   "source": [
    "row_lst = []\n",
    "for i, row_idx in enumerate(train_norm.index):\n",
    "    row = train_norm.iloc[i, 1:]\n",
    "    row_lst = row_lst + list(row)\n",
    "print(cohort)\n",
    "print('Normalized after outlier clip')\n",
    "print(out_cut)\n",
    "scipy.stats.describe(row_lst)"
   ]
  },
  {
   "cell_type": "code",
   "execution_count": null,
   "id": "9fa55a8e-4c8b-4b94-a3e0-34085efa57df",
   "metadata": {
    "jupyter": {
     "source_hidden": true
    },
    "tags": []
   },
   "outputs": [],
   "source": [
    "row_lst = []\n",
    "for i, row_idx in enumerate(train.index):\n",
    "    row = train.iloc[i, 1:]\n",
    "    row_lst = row_lst + list(row)\n",
    "print(cohort)\n",
    "print('Raw with outlier clip')\n",
    "print(out_cut)\n",
    "scipy.stats.describe(row_lst)"
   ]
  },
  {
   "cell_type": "code",
   "execution_count": null,
   "id": "1900d0dc-958d-448f-b296-62892ddad6b2",
   "metadata": {
    "jupyter": {
     "source_hidden": true
    },
    "tags": []
   },
   "outputs": [],
   "source": [
    "row_lst = []\n",
    "for i, row_idx in enumerate(train_norm.index):\n",
    "    row = train_norm.iloc[i, 1:]\n",
    "    row_lst = row_lst + list(row)\n",
    "print(cohort)\n",
    "print('Normalized after outlier clip')\n",
    "print(out_cut)\n",
    "scipy.stats.describe(row_lst)"
   ]
  },
  {
   "cell_type": "code",
   "execution_count": null,
   "id": "c4801adb-5ab2-4bfa-b0b3-f9873a457dfd",
   "metadata": {
    "jupyter": {
     "source_hidden": true
    },
    "tags": []
   },
   "outputs": [],
   "source": [
    "row_lst = []\n",
    "for i, row_idx in enumerate(train.index):\n",
    "    row = train.iloc[i, 1:]\n",
    "    row_lst = row_lst + list(row)\n",
    "print(cohort)\n",
    "print('Raw with outlier clip')\n",
    "print(out_cut)\n",
    "scipy.stats.describe(row_lst)"
   ]
  },
  {
   "cell_type": "code",
   "execution_count": null,
   "id": "8b7f229b-ba8b-4be3-bc5b-b2f3effe082c",
   "metadata": {
    "jupyter": {
     "source_hidden": true
    },
    "tags": []
   },
   "outputs": [],
   "source": [
    "row_lst = []\n",
    "for i, row_idx in enumerate(train_norm.index):\n",
    "    row = train_norm.iloc[i, 1:]\n",
    "    row_lst = row_lst + list(row)\n",
    "print(cohort)\n",
    "print('Normalized after outlier clip')\n",
    "print(out_cut)\n",
    "scipy.stats.describe(row_lst)"
   ]
  },
  {
   "cell_type": "code",
   "execution_count": null,
   "id": "94475d1a-38bb-4d53-8dae-3ee97e6078f9",
   "metadata": {
    "jupyter": {
     "source_hidden": true
    },
    "tags": []
   },
   "outputs": [],
   "source": [
    "row_lst = []\n",
    "for i, row_idx in enumerate(train.index):\n",
    "    row = train.iloc[i, 1:]\n",
    "    row_lst = row_lst + list(row)\n",
    "print(cohort)\n",
    "print('Raw with outlier clip')\n",
    "print(out_cut)\n",
    "scipy.stats.describe(row_lst)"
   ]
  },
  {
   "cell_type": "code",
   "execution_count": null,
   "id": "c5ebb978-8e8b-4788-bc3d-13c9bc5d6ea9",
   "metadata": {
    "jupyter": {
     "source_hidden": true
    },
    "tags": []
   },
   "outputs": [],
   "source": [
    "row_lst = []\n",
    "for i, row_idx in enumerate(train_norm.index):\n",
    "    row = train_norm.iloc[i, 1:]\n",
    "    row_lst = row_lst + list(row)\n",
    "print(cohort)\n",
    "print('Normalized after outlier clip')\n",
    "print(out_cut)\n",
    "scipy.stats.describe(row_lst)"
   ]
  },
  {
   "cell_type": "code",
   "execution_count": null,
   "id": "ca2cdc77-3ea6-4441-b04d-3529ab382d1f",
   "metadata": {
    "jupyter": {
     "source_hidden": true
    },
    "tags": []
   },
   "outputs": [],
   "source": [
    "row_lst = []\n",
    "for i, row_idx in enumerate(train.index):\n",
    "    row = train.iloc[i, 1:]\n",
    "    row_lst = row_lst + list(row)\n",
    "print(cohort)\n",
    "print('Raw with outlier clip')\n",
    "print(out_cut)\n",
    "scipy.stats.describe(row_lst)"
   ]
  },
  {
   "cell_type": "code",
   "execution_count": null,
   "id": "01d18fc2-899c-46f2-9aa9-25f48f6c7be3",
   "metadata": {
    "jupyter": {
     "source_hidden": true
    },
    "tags": []
   },
   "outputs": [],
   "source": [
    "row_lst = []\n",
    "for i, row_idx in enumerate(train_norm.index):\n",
    "    row = train_norm.iloc[i, 1:]\n",
    "    row_lst = row_lst + list(row)\n",
    "print(cohort)\n",
    "print('Normalized after outlier clip')\n",
    "print(out_cut)\n",
    "scipy.stats.describe(row_lst)"
   ]
  },
  {
   "cell_type": "code",
   "execution_count": null,
   "id": "a8af212b-860b-4478-a505-35743f5a7ab7",
   "metadata": {
    "jupyter": {
     "source_hidden": true
    },
    "tags": []
   },
   "outputs": [],
   "source": [
    "row_lst = []\n",
    "for i, row_idx in enumerate(train.index):\n",
    "    row = train.iloc[i, 1:]\n",
    "    row_lst = row_lst + list(row)\n",
    "print(cohort)\n",
    "print('Raw with outlier clip')\n",
    "print(out_cut)\n",
    "scipy.stats.describe(row_lst)"
   ]
  },
  {
   "cell_type": "code",
   "execution_count": null,
   "id": "da5f24ff-82c3-4e11-bafb-5a4fdc3d6ed8",
   "metadata": {
    "jupyter": {
     "source_hidden": true
    },
    "tags": []
   },
   "outputs": [],
   "source": [
    "row_lst = []\n",
    "for i, row_idx in enumerate(train_norm.index):\n",
    "    row = train_norm.iloc[i, 1:]\n",
    "    row_lst = row_lst + list(row)\n",
    "print(cohort)\n",
    "print('Normalized after outlier clip')\n",
    "print(out_cut)\n",
    "scipy.stats.describe(row_lst)"
   ]
  },
  {
   "cell_type": "code",
   "execution_count": null,
   "id": "81ede39b-6c4e-4118-898f-edab5b522368",
   "metadata": {},
   "outputs": [],
   "source": []
  },
  {
   "cell_type": "code",
   "execution_count": null,
   "id": "a0c17df5-5a0e-42ee-bc29-98d111c92f2c",
   "metadata": {},
   "outputs": [],
   "source": [
    "#notes"
   ]
  },
  {
   "cell_type": "code",
   "execution_count": null,
   "id": "168dca77-a713-482d-a97e-3ab338a26d2e",
   "metadata": {},
   "outputs": [],
   "source": [
    "# Apply RobustScaler to Drug Response"
   ]
  },
  {
   "cell_type": "code",
   "execution_count": null,
   "id": "4ad99ea1-2929-48b6-a868-b1a1c8dec959",
   "metadata": {},
   "outputs": [],
   "source": [
    "# old notes"
   ]
  },
  {
   "cell_type": "code",
   "execution_count": null,
   "id": "cc356cb8-9155-4a37-944e-70443eba64d0",
   "metadata": {},
   "outputs": [],
   "source": [
    "# Need to generate in-line with model run\n",
    "# Need to run the UMAP in-line with model too"
   ]
  },
  {
   "cell_type": "markdown",
   "id": "9c680cd3-0f90-4b3e-b57a-4dae02f97c02",
   "metadata": {
    "jp-MarkdownHeadingCollapsed": true,
    "tags": []
   },
   "source": [
    "#### Target output dirs for 2D model data sets\n",
    "sample_gen/synthetic_TCGA_data_gen/a_data_structure/blca_brca_square_full/MinMax  \n",
    "./a_data_structure/blca_brca_square_full/clip_outlrs  \n",
    "./a_data_structure/blca_brca_square_full/log_xfrm  "
   ]
  },
  {
   "cell_type": "code",
   "execution_count": null,
   "id": "28718886-fad7-4304-8d41-183aa15be41a",
   "metadata": {},
   "outputs": [],
   "source": [
    "# target dirs for three sets of square files: blca_brca_flt64_sqrs/\n",
    "    # to the 2D model\n",
    "    \n",
    "# compare pre-post layer error fix on 2D model from original example ?"
   ]
  },
  {
   "cell_type": "markdown",
   "id": "cb6ecb94-78cc-4fa9-a623-02c4ee8a399b",
   "metadata": {},
   "source": [
    "##### Notes"
   ]
  },
  {
   "cell_type": "code",
   "execution_count": null,
   "id": "a8507e48-9c88-468d-9a53-c24f95406a09",
   "metadata": {},
   "outputs": [],
   "source": [
    "# notes\n",
    "    # use the same train test split for all file generations?\n",
    "    \n",
    "    # use multiple train test splits for each file set?"
   ]
  },
  {
   "cell_type": "markdown",
   "id": "b8f5bc96-6ef4-4c83-8dae-b56a3be7ff2f",
   "metadata": {
    "tags": []
   },
   "source": [
    "# Devel"
   ]
  },
  {
   "cell_type": "code",
   "execution_count": null,
   "id": "3e94415f-acc6-406e-9006-5b35cfb8401d",
   "metadata": {},
   "outputs": [],
   "source": [
    "https://www.geeksforgeeks.org/log-and-natural-logarithmic-value-of-a-column-in-pandas-python/ \n",
    "    log(), log2(), and log10() "
   ]
  },
  {
   "cell_type": "code",
   "execution_count": null,
   "id": "c638953b-2730-442d-b46e-7101edca757b",
   "metadata": {},
   "outputs": [],
   "source": [
    "# Improve the statistics on the raw data\n",
    "    # kurtosis, skew\n",
    "    # fine-grained histograms"
   ]
  },
  {
   "cell_type": "code",
   "execution_count": null,
   "id": "38c04953-30d2-4e1c-8ace-586972df8641",
   "metadata": {},
   "outputs": [],
   "source": [
    "https://stats.stackexchange.com/questions/402470/how-can-i-use-scaling-and-log-transforming-together\n",
    "X_train = np.log(X_train)"
   ]
  },
  {
   "cell_type": "code",
   "execution_count": null,
   "id": "2349133b-2b56-4ce9-a450-a6eaca219a34",
   "metadata": {},
   "outputs": [],
   "source": [
    "# Summary of normalization, context of outliers\n",
    "\n",
    "(x_train, _), (x_test, _) = keras.datasets.mnist.load_data()\n",
    "mnist_digits = np.concatenate([x_train, x_test], axis=0)\n",
    "mnist_digits = np.expand_dims(mnist_digits, -1).astype(\"float32\") / 255\n",
    "\n",
    "# vs\n",
    "scaler = MinMaxScaler()\n",
    "train_norm = pd.DataFrame(scaler.fit_transform(\n",
    "    train.iloc[:, 1:]), columns = train.columns[1:]) # <---- error; also, is this where the columns get put on the train_norm object\n",
    "test_norm = pd.DataFrame(scaler.transform(          # column names match though, so should not effect results\n",
    "    test.iloc[:, 1:]), columns = test.columns[1:])  # This seems artificial\n",
    "\n",
    "# try (after running train / test split)\n",
    "train, test = train_test_split(file)\n",
    "scaler = MinMaxScaler()\n",
    "scaler.fit(file)"
   ]
  },
  {
   "cell_type": "code",
   "execution_count": null,
   "id": "ea4bbe50-6f0c-48ad-bf87-2cc555e42ef5",
   "metadata": {},
   "outputs": [],
   "source": [
    "train_norm.to_csv('normed_data/train_norm.tsv',\n",
    "                  sep = '\\t')"
   ]
  },
  {
   "cell_type": "code",
   "execution_count": null,
   "id": "75a747f9-c4e1-4a91-b797-67e74cc66823",
   "metadata": {},
   "outputs": [],
   "source": [
    "test_norm.to_csv('normed_data/test_norm.tsv',\n",
    "                  sep = '\\t')"
   ]
  },
  {
   "cell_type": "code",
   "execution_count": null,
   "id": "c4884767-ad85-4404-80d7-35a61505da38",
   "metadata": {},
   "outputs": [],
   "source": [
    "# function devel"
   ]
  },
  {
   "cell_type": "code",
   "execution_count": null,
   "id": "679b7f85-ac12-4b82-9d49-636a3e00060b",
   "metadata": {},
   "outputs": [],
   "source": [
    "X_list = []\n",
    "y_list = []"
   ]
  },
  {
   "cell_type": "code",
   "execution_count": null,
   "id": "5743a22f-d67e-4bbb-9cff-c56f11366432",
   "metadata": {},
   "outputs": [],
   "source": [
    "for j, sample in enumerate(splt):\n",
    "    break"
   ]
  },
  {
   "cell_type": "code",
   "execution_count": null,
   "id": "e3a6ebb2-dc37-47d9-8161-91376dd1a5fd",
   "metadata": {},
   "outputs": [],
   "source": [
    "sample.shape"
   ]
  },
  {
   "cell_type": "code",
   "execution_count": null,
   "id": "3bd1d6ab-803d-4fc5-87f8-cce256410368",
   "metadata": {},
   "outputs": [],
   "source": [
    "j"
   ]
  },
  {
   "cell_type": "code",
   "execution_count": null,
   "id": "61408542-0d4f-4167-8f82-af6bda5f3a5d",
   "metadata": {},
   "outputs": [],
   "source": [
    "gene_row = list(sample)"
   ]
  },
  {
   "cell_type": "code",
   "execution_count": null,
   "id": "6dfd7bb7-d1a3-4ab5-834a-78de8cf52e82",
   "metadata": {},
   "outputs": [],
   "source": [
    "len(gene_row)"
   ]
  },
  {
   "cell_type": "code",
   "execution_count": null,
   "id": "e5aaaff5-ead2-47c4-a08a-ef64ba62b540",
   "metadata": {},
   "outputs": [],
   "source": [
    "filler = gene_row + (20736 - len(gene_row)) * [0]"
   ]
  },
  {
   "cell_type": "code",
   "execution_count": null,
   "id": "a93c60ab-0ce3-4a60-bd83-7564cda286fd",
   "metadata": {},
   "outputs": [],
   "source": [
    "len(filler)"
   ]
  },
  {
   "cell_type": "code",
   "execution_count": null,
   "id": "ee0b8203-5e3c-48af-99a7-192190ce0bbf",
   "metadata": {},
   "outputs": [],
   "source": [
    "flr_ary = np.array(filler)"
   ]
  },
  {
   "cell_type": "code",
   "execution_count": null,
   "id": "f476d1d3-33d3-4a8a-a7bf-1ac954a03ff4",
   "metadata": {},
   "outputs": [],
   "source": [
    "flr_ary.shape"
   ]
  },
  {
   "cell_type": "code",
   "execution_count": null,
   "id": "e41fb4fb-11aa-4eb1-ae9e-330f9ec1b060",
   "metadata": {},
   "outputs": [],
   "source": [
    "flr_ary_sqr = flr_ary.reshape(144,144,1)"
   ]
  },
  {
   "cell_type": "code",
   "execution_count": null,
   "id": "78e11caf-2f28-4781-bf68-1f74a0ff850c",
   "metadata": {},
   "outputs": [],
   "source": [
    "# Wednesday afternoon, v4 devel, this is for the square"
   ]
  },
  {
   "cell_type": "code",
   "execution_count": null,
   "id": "6f2922c3-722d-44b0-987a-d78ffa689fd4",
   "metadata": {},
   "outputs": [],
   "source": [
    "def wrap(splt):\n",
    "    X_list = []\n",
    "    y_list = []\n",
    "    for j, sample in enumerate(splt.index):\n",
    "        gene_row = list(sample)\n",
    "        filler = gene_row + (20736 - len(gene_row)) * [0]\n",
    "        flr_ary = np.array(filler)\n",
    "        flr_ary_sqr = flr_ary.reshape(144,144,1)\n",
    "        X_list.append(flr_ary_sqr)\n",
    "    return(X)"
   ]
  },
  {
   "cell_type": "code",
   "execution_count": null,
   "id": "abfda7c7-4860-4de9-89b3-f79259f5ea12",
   "metadata": {},
   "outputs": [],
   "source": [
    "# v2 version"
   ]
  },
  {
   "cell_type": "code",
   "execution_count": null,
   "id": "95580844-a3cf-444d-8aed-01952c496bdc",
   "metadata": {},
   "outputs": [],
   "source": [
    "# Wrap BLCA for pretrain, then BRCA\n",
    "# Main question here is whether to run MinMax\n",
    "# on train and test independently\n",
    "    # mirror the invert function regardless\n",
    "\n",
    "print('starting '+file.index.name)\n",
    "\n",
    "train, test = train_test_split(file) # normed above, v3 test\n",
    "\n",
    "# train.iloc[:,1:] = MinMaxScaler().fit_transform(\n",
    "#     train.iloc[:,1:]) # or just run on the file - done\n",
    "\n",
    "# test.iloc[:,1:] = MinMaxScaler().fit_transform(test.iloc[:,1:])\n",
    "\n",
    "trn_empty = [] # append model-formatted numpy arrays of gexp values\n",
    "trn_y_list = []\n",
    "\n",
    "for j, sample in enumerate(train.index): # go through the train object\n",
    "    gene_row = list(train.iloc[j,1:]) # extract sample gene expression\n",
    "\n",
    "    base = np.array(gene_row + (\n",
    "        20736 - len(\n",
    "            # gene_row)) * [0],dtype=np.uint8).reshape(144,144,1)\n",
    "                        gene_row)) * [0]).reshape(144,144,1)\n",
    "\n",
    "    trn_empty.append(base)\n",
    "    y = train.iloc[j,0]\n",
    "    trn_y_list.append(y)\n",
    "X_train_new  = np.array(trn_empty)\n",
    "# formatted = np.array(trn_empty)\n",
    "# formatted = formatted/255 # This normalization for unint 8, pull in the MinMaxScaler\n",
    "        # for data structure version one\n",
    "        # Start version one of this d_struct from here\n",
    "        # Send better f64 files to model b_mod_v1, time for outlier clipping, log x-form, etc\n",
    "\n",
    "      # END version 0 <------------- r0 png loss curve for BLCA in model dir\n",
    "    \n",
    "    # coordinate corrected versions in v2 of data structure and model\n",
    "    \n",
    "# formatted = MinMaxScaler(formatted) # Completly wrong\n",
    "\n",
    "# X_train_new = MinMaxScaler().fit_transform(formatted) # last fail\n",
    "\n",
    "# X_train_new = formatted\n",
    "\n",
    "print('MinMax train loop done')\n",
    "\n",
    "# Start processing the test data, same as above [toggling for MinMax test]\n",
    "\n",
    "tst_empty = []\n",
    "tst_y_list = []\n",
    "\n",
    "test.iloc[:,1:] = MinMaxScaler().fit_transform(test.iloc[:,1:])\n",
    "\n",
    "for j, sample in enumerate(test.index):\n",
    "    gene_row = list(test.iloc[j,1:])\n",
    "    base = np.array(gene_row + (\n",
    "        20736 - len(\n",
    "            # gene_row)) * [0],\n",
    "                        gene_row)) * [0]\n",
    "                    # dtype=np.uint8 # <---\n",
    "                   ).reshape(144,144,1)\n",
    "    tst_empty.append(base)\n",
    "    y = test.iloc[j,0]\n",
    "    tst_y_list.append(y)\n",
    "X_test_new = np.array(tst_empty)\n",
    "# formatted = formatted/255 # test normalization\n",
    "# X_test_new = formatted\n",
    "\n",
    "print('done')"
   ]
  },
  {
   "cell_type": "code",
   "execution_count": null,
   "id": "b21d8cc5-7f4e-408a-8607-8bb934f1d5ba",
   "metadata": {
    "tags": []
   },
   "outputs": [],
   "source": [
    "file.index.name # Still losing index, dont care right now"
   ]
  },
  {
   "cell_type": "code",
   "execution_count": null,
   "id": "756f91a0-5bdf-4c04-b386-a22056cd408d",
   "metadata": {},
   "outputs": [],
   "source": [
    "file.index.name # Check, run 2"
   ]
  },
  {
   "cell_type": "code",
   "execution_count": null,
   "id": "3058e44e-3f0d-4ab0-95c0-011d163789cc",
   "metadata": {},
   "outputs": [],
   "source": [
    "np.save(\n",
    "    'blca_brca_flt64_sqrs/MinMax/'+file.index.name+'_MinMax_X_trn',\n",
    "    X_train_new)\n",
    "\n",
    "np.save(\n",
    "    'blca_brca_flt64_sqrs/MinMax/'+file.index.name+'_MinMax_X_tst.npy', # robust against ext incl\n",
    "        X_test_new)"
   ]
  },
  {
   "cell_type": "code",
   "execution_count": null,
   "id": "f8f51cce-6863-4ddc-b1cc-6db381343437",
   "metadata": {},
   "outputs": [],
   "source": [
    "trn_y_out = pd.DataFrame(trn_y_list,columns = ['Labels'])\n",
    "trn_y_out.to_csv('blca_brca_flt64_sqrs/MinMax/'+file.index.name+'_MinMax_y_trn.tsv',\n",
    "                sep = '\\t',\n",
    "                )\n",
    "tst_y_out = pd.DataFrame(tst_y_list,columns = ['Labels'])\n",
    "tst_y_out.to_csv('blca_brca_flt64_sqrs/MinMax/'+file.index.name+'_MinMax_y_tst.tsv',\n",
    "                sep = '\\t',\n",
    "                )"
   ]
  },
  {
   "cell_type": "code",
   "execution_count": null,
   "id": "cbecaec1-aabf-4845-b3f9-5f6e400bb0f8",
   "metadata": {
    "tags": []
   },
   "outputs": [],
   "source": [
    "X_train_new # looks pretty good"
   ]
  },
  {
   "cell_type": "code",
   "execution_count": null,
   "id": "ad2c6462-bb36-44f7-b28c-64d934698595",
   "metadata": {},
   "outputs": [],
   "source": [
    "# remember to fix the layers on the model per error in original example"
   ]
  },
  {
   "cell_type": "code",
   "execution_count": null,
   "id": "1298bb48-31ea-472b-a038-d3a1fa96e08f",
   "metadata": {},
   "outputs": [],
   "source": [
    "# End the MinMax file write"
   ]
  },
  {
   "cell_type": "code",
   "execution_count": null,
   "id": "9344cad3-ebea-40b2-9b63-cb3ab4d825df",
   "metadata": {},
   "outputs": [],
   "source": [
    "# Original div256_float64 fail from version 00"
   ]
  },
  {
   "cell_type": "code",
   "execution_count": null,
   "id": "682bef71-6772-4172-a023-209d978ecaa8",
   "metadata": {},
   "outputs": [],
   "source": [
    "trn_y_out # Lost index labels, might need for plot eventually"
   ]
  },
  {
   "cell_type": "code",
   "execution_count": null,
   "id": "c009a401-b00f-43c7-97aa-37d631516923",
   "metadata": {},
   "outputs": [],
   "source": [
    "# Write the y's, not used for the UMAP, just keeping ready for sample gen ops"
   ]
  },
  {
   "cell_type": "code",
   "execution_count": null,
   "id": "dbc4bf7e-8dd3-4cf6-ad36-f637da2e9f9d",
   "metadata": {},
   "outputs": [],
   "source": [
    "trn_y_out = pd.DataFrame(trn_y_list,columns = ['Labels'])\n",
    "trn_y_out.to_csv('brca_full_flt64_y_trn.tsv',\n",
    "                sep = '\\t',\n",
    "                )\n",
    "tst_y_out = pd.DataFrame(tst_y_list,columns = ['Labels'])\n",
    "tst_y_out.to_csv('brca_full_flt64_y_tst.tsv',\n",
    "                sep = '\\t',\n",
    "                )"
   ]
  },
  {
   "cell_type": "code",
   "execution_count": null,
   "id": "fe790d25-4be1-4cc4-bc58-ea225fb3c49c",
   "metadata": {},
   "outputs": [],
   "source": [
    "# Bladder"
   ]
  },
  {
   "cell_type": "code",
   "execution_count": null,
   "id": "f8adff1b-17e6-440f-bcb5-52a1193ca70b",
   "metadata": {},
   "outputs": [],
   "source": [
    "len(trn_y_list) # bladder check"
   ]
  },
  {
   "cell_type": "code",
   "execution_count": null,
   "id": "0a10ebfb-611d-456d-bc45-170d78b4d5f1",
   "metadata": {},
   "outputs": [],
   "source": [
    "trn_y_out = pd.DataFrame(trn_y_list, columns = ['Labels'])"
   ]
  },
  {
   "cell_type": "code",
   "execution_count": null,
   "id": "5a2d8558-4f1d-4a64-8e72-c98a57d06cb3",
   "metadata": {},
   "outputs": [],
   "source": [
    "trn_y_out.to_csv('blca_full_flt64_y_trn.tsv',\n",
    "                sep = '\\t',\n",
    "                )"
   ]
  },
  {
   "cell_type": "code",
   "execution_count": null,
   "id": "c68c9d40-a334-46a9-80ab-3d5daf473cd5",
   "metadata": {},
   "outputs": [],
   "source": [
    "tst_y_out = pd.DataFrame(tst_y_list,columns = ['Labels'])\n",
    "tst_y_out.to_csv('blca_full_flt64_y_tst.tsv',\n",
    "                sep = '\\t',\n",
    "                )"
   ]
  },
  {
   "cell_type": "code",
   "execution_count": null,
   "id": "b59bdb83-b021-4840-baee-ec2327c9956d",
   "metadata": {},
   "outputs": [],
   "source": [
    "len(tst_y_out) # BLCA check"
   ]
  },
  {
   "cell_type": "code",
   "execution_count": null,
   "id": "c0dc1b8e-4085-4711-9aac-ca051556a491",
   "metadata": {},
   "outputs": [],
   "source": [
    "# end y zone"
   ]
  },
  {
   "cell_type": "code",
   "execution_count": null,
   "id": "2d97cbac-7c25-488d-b228-bead42bb9f0e",
   "metadata": {},
   "outputs": [],
   "source": [
    "# write brca, no checks, second run, for fine tune, blca devel and inspect below"
   ]
  },
  {
   "cell_type": "markdown",
   "id": "497448d5-34cc-4c56-bb16-039fdfd0dd8a",
   "metadata": {},
   "source": [
    "### X files"
   ]
  },
  {
   "cell_type": "code",
   "execution_count": null,
   "id": "f544ef3f-5efa-44a5-8b9f-8a8661715758",
   "metadata": {},
   "outputs": [],
   "source": [
    "np.save('brca_full_flt64_X_trn', X_train_new)"
   ]
  },
  {
   "cell_type": "code",
   "execution_count": null,
   "id": "8327b262-020f-4754-bf0d-92648d197a7f",
   "metadata": {},
   "outputs": [],
   "source": [
    "np.save('brca_full_flt64_X_tst.npy', X_test_new)"
   ]
  },
  {
   "cell_type": "code",
   "execution_count": null,
   "id": "69af70c9-29a7-4039-85f7-f5108b32b3d9",
   "metadata": {},
   "outputs": [],
   "source": [
    "# End, go to model 2022-10-07 Friday morning"
   ]
  },
  {
   "cell_type": "markdown",
   "id": "c08a7e74-8cdc-40ff-a0c7-848aa3f992d2",
   "metadata": {},
   "source": [
    "#### blca flt 64 devel, inspect, and write-out (run first):"
   ]
  },
  {
   "cell_type": "code",
   "execution_count": null,
   "id": "a6f7ae0b-40dd-4688-8515-13716a795a85",
   "metadata": {},
   "outputs": [],
   "source": [
    "# Start X checks"
   ]
  },
  {
   "cell_type": "code",
   "execution_count": null,
   "id": "8ccac6b8-bdcf-4544-95fd-fba4f9b02f80",
   "metadata": {},
   "outputs": [],
   "source": [
    "X_train_new.shape # main variable trn"
   ]
  },
  {
   "cell_type": "code",
   "execution_count": null,
   "id": "b1c4de05-64a7-46b1-94f6-03329e492deb",
   "metadata": {},
   "outputs": [],
   "source": [
    "X_test_new.shape # main variable tst"
   ]
  },
  {
   "cell_type": "code",
   "execution_count": null,
   "id": "71344baa-6f30-424a-a44b-73b57edd0f3f",
   "metadata": {},
   "outputs": [],
   "source": [
    "type(X_train_new)"
   ]
  },
  {
   "cell_type": "code",
   "execution_count": null,
   "id": "1abceab8-91da-486d-9b98-3186b8f56990",
   "metadata": {},
   "outputs": [],
   "source": [
    "len(X_train_new) # dim pos 0"
   ]
  },
  {
   "cell_type": "code",
   "execution_count": null,
   "id": "8d695de6-8e30-4217-bff8-f444d892c2b4",
   "metadata": {},
   "outputs": [],
   "source": [
    "X_train_new[0].shape # shape of the first sample"
   ]
  },
  {
   "cell_type": "code",
   "execution_count": null,
   "id": "08f289e6-45c6-4ac1-a069-c79efdf77c7e",
   "metadata": {},
   "outputs": [],
   "source": [
    "X_train_new[0][0].shape # first row"
   ]
  },
  {
   "cell_type": "code",
   "execution_count": null,
   "id": "2ca8fb0e-58da-4ba2-8c04-0c18a2a04ce7",
   "metadata": {
    "tags": []
   },
   "outputs": [],
   "source": [
    "X_train_new[0][0] # second element of the shape of this object is one\n",
    "# one list of 144 lists? why is every value a list? because it could be three RBG channels?"
   ]
  },
  {
   "cell_type": "code",
   "execution_count": null,
   "id": "0fa2f7d2-1aee-4c2d-8218-587e8796548a",
   "metadata": {},
   "outputs": [],
   "source": [
    "X_train_new[0][0][0] # first sample, first pixel row, first element"
   ]
  },
  {
   "cell_type": "code",
   "execution_count": null,
   "id": "c698f36f-e41b-4f16-909b-2e902ffee4c7",
   "metadata": {},
   "outputs": [],
   "source": [
    "X_train_new[0][0][37]"
   ]
  },
  {
   "cell_type": "code",
   "execution_count": null,
   "id": "3aa0813f-fc3b-41e6-b437-7c26e2b52eb7",
   "metadata": {},
   "outputs": [],
   "source": [
    "X_train_new[0][0][38] # find an actual gene expression value"
   ]
  },
  {
   "cell_type": "code",
   "execution_count": null,
   "id": "29cfc095-8450-4f2c-98a6-de8857182fd3",
   "metadata": {},
   "outputs": [],
   "source": [
    "X_train_new[0][0][38][0] # pull the singe gene expression value from the RGB list"
   ]
  },
  {
   "cell_type": "code",
   "execution_count": null,
   "id": "54545903-6810-4a61-b3c0-3f432a663809",
   "metadata": {},
   "outputs": [],
   "source": [
    "type(X_train_new[0][0][38][0]) # Correct, send to model set up to take this dtype"
   ]
  },
  {
   "cell_type": "code",
   "execution_count": null,
   "id": "86652044-ec83-4ead-ab43-978c7337f691",
   "metadata": {},
   "outputs": [],
   "source": [
    "np.save('blca_full_flt64_X_trn', X_train_new)"
   ]
  },
  {
   "cell_type": "code",
   "execution_count": null,
   "id": "eba04e77-b9c4-4184-b651-f81ce1ea971d",
   "metadata": {},
   "outputs": [],
   "source": [
    "len(X_test_new)"
   ]
  },
  {
   "cell_type": "code",
   "execution_count": null,
   "id": "5c9c2573-3743-4b8c-ae28-6bd4cbd6c9ed",
   "metadata": {},
   "outputs": [],
   "source": [
    "np.save('blca_full_flt64_X_tst', X_test_new)"
   ]
  },
  {
   "cell_type": "code",
   "execution_count": null,
   "id": "65e0b384-fe8e-434b-bcb5-5c19afd9fd09",
   "metadata": {},
   "outputs": [],
   "source": [
    "# done, with flt 64 wrap for blca and brca"
   ]
  },
  {
   "cell_type": "code",
   "execution_count": null,
   "id": "daf04c07-7e3b-46d7-ab57-12c41985bbf8",
   "metadata": {},
   "outputs": [],
   "source": [
    "# Original uint8 file write, probly back in og img gen dir"
   ]
  },
  {
   "cell_type": "code",
   "execution_count": null,
   "id": "c6573a43-36b3-41cb-a698-21e914d07bd0",
   "metadata": {},
   "outputs": [],
   "source": [
    "BLCA_square.to_csv('nb_A_data_out/'+version+\n",
    "                   date+'_'+\n",
    "                   file.index.name+'_'+\n",
    "                   'square.tsv',\n",
    "                    sep = '\\t',\n",
    "                   )"
   ]
  }
 ],
 "metadata": {
  "kernelspec": {
   "display_name": "Python 3 (ipykernel)",
   "language": "python",
   "name": "python3"
  },
  "language_info": {
   "codemirror_mode": {
    "name": "ipython",
    "version": 3
   },
   "file_extension": ".py",
   "mimetype": "text/x-python",
   "name": "python",
   "nbconvert_exporter": "python",
   "pygments_lexer": "ipython3",
   "version": "3.9.12"
  }
 },
 "nbformat": 4,
 "nbformat_minor": 5
}
