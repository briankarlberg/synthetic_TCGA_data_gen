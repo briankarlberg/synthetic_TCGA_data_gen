{
 "cells": [
  {
   "cell_type": "code",
   "execution_count": null,
   "id": "e1e9c461-1ba5-4219-ba2f-a740f6a1a779",
   "metadata": {},
   "outputs": [],
   "source": [
    "# 11am, apply MinMaxScaler - done, templete for three clean versions\n",
    "    # clip outliers\n",
    "    # do a log transform\n",
    "\n",
    "# Float.64 square wrapper 2022-10-07\n",
    "# Structuring the gene expression data for feed to 2D conv VAE\n",
    "\n",
    "# From v0"
   ]
  },
  {
   "cell_type": "code",
   "execution_count": null,
   "id": "93fbb1fd-f71f-4f5f-886f-9dc3a1e3cf87",
   "metadata": {},
   "outputs": [],
   "source": [
    "# Turn up latent space dimension with grid: 50 to 500\n",
    "    \n",
    "    # UMAP automation (?)"
   ]
  },
  {
   "cell_type": "code",
   "execution_count": null,
   "id": "28718886-fad7-4304-8d41-183aa15be41a",
   "metadata": {},
   "outputs": [],
   "source": [
    "# target dirs for three sets of square files"
   ]
  },
  {
   "cell_type": "code",
   "execution_count": null,
   "id": "c20dfbd1-4a23-401b-88cb-15596d923801",
   "metadata": {},
   "outputs": [],
   "source": [
    "# b_model_ops_00 will read from a_data_structure\n",
    "# that will send to c_latent_synth__00 (want two methods here - pairwise averaging and rejection method)\n",
    "# then UMAP_figs_00"
   ]
  },
  {
   "cell_type": "code",
   "execution_count": null,
   "id": "d48085a6-4b80-4a97-82a5-4317adad53e4",
   "metadata": {},
   "outputs": [],
   "source": [
    "# Start point:\n",
    "# (check for clear memory)"
   ]
  },
  {
   "cell_type": "code",
   "execution_count": 2,
   "id": "3388490f-25fd-4534-bc35-71ee4d6d138a",
   "metadata": {},
   "outputs": [
    {
     "name": "stdout",
     "output_type": "stream",
     "text": [
      "Interactive namespace is empty.\n"
     ]
    }
   ],
   "source": [
    "%whos"
   ]
  },
  {
   "cell_type": "code",
   "execution_count": 3,
   "id": "01294c08-d1ab-49ec-96bd-36e483d313f7",
   "metadata": {},
   "outputs": [],
   "source": [
    "date = '2022-10-07' # Friday, make umap story board\n",
    "version = 'a_data_structure_01.ipynb' # In the controlled repo now"
   ]
  },
  {
   "cell_type": "code",
   "execution_count": 8,
   "id": "47c542b3-b49c-4146-b402-2baf5f8f0d1d",
   "metadata": {},
   "outputs": [],
   "source": [
    "import glob as glob\n",
    "import pandas as pd\n",
    "from sklearn.model_selection import train_test_split\n",
    "import numpy as np"
   ]
  },
  {
   "cell_type": "code",
   "execution_count": 13,
   "id": "febe4f00-5529-4c57-a012-25e7831cf7a0",
   "metadata": {},
   "outputs": [],
   "source": [
    "from sklearn.preprocessing import MinMaxScaler"
   ]
  },
  {
   "cell_type": "code",
   "execution_count": 5,
   "id": "68437f21-740f-4615-8d85-37f6a16a8260",
   "metadata": {},
   "outputs": [
    {
     "data": {
      "text/plain": [
       "'/Users/karlberb/Desktop/RNB00978/sample_count/sample_gen/synthetic_TCGA_data_gen/a_data_structure'"
      ]
     },
     "execution_count": 5,
     "metadata": {},
     "output_type": "execute_result"
    }
   ],
   "source": [
    "pwd"
   ]
  },
  {
   "cell_type": "code",
   "execution_count": 7,
   "id": "02724f80-9906-485b-8823-00f2544420f0",
   "metadata": {},
   "outputs": [
    {
     "name": "stdout",
     "output_type": "stream",
     "text": [
      "Variable   Type    Data/Info\n",
      "----------------------------\n",
      "date       str     2022-10-07\n",
      "version    str     a_data_structure_01.ipynb\n"
     ]
    }
   ],
   "source": [
    "%whos"
   ]
  },
  {
   "cell_type": "code",
   "execution_count": 9,
   "id": "aa8cbdc0-19f2-4e83-a6d3-60f82534f7a4",
   "metadata": {},
   "outputs": [],
   "source": [
    "# Read 26 cancer gene-expression files\n",
    "gxp_file_paths = sorted(glob.glob('/Users/karlberb/work/sample_count/smpl_gen/gexp_files/*.tsv'))"
   ]
  },
  {
   "cell_type": "code",
   "execution_count": null,
   "id": "b219c99f-de83-4f77-ac44-74762c746f53",
   "metadata": {},
   "outputs": [],
   "source": []
  },
  {
   "cell_type": "code",
   "execution_count": null,
   "id": "c962dce2-15ef-4c04-9d29-60969862de27",
   "metadata": {},
   "outputs": [],
   "source": [
    "# check pre-train / fine-tune across differing input file feauture counts\n",
    "# add the log conversion prior to normalization\n",
    "# zero-fill is blurring transfer learning performance evaluation, fix with 1Dconv version"
   ]
  },
  {
   "cell_type": "markdown",
   "id": "9c680cd3-0f90-4b3e-b57a-4dae02f97c02",
   "metadata": {},
   "source": [
    "#### Target output dirs\n",
    "sample_gen/synthetic_TCGA_data_gen/a_data_structure/blca_brca_square_full/MinMax\n",
    "./a_data_structure/blca_brca_square_full/clip_outlrs\n",
    "./a_data_structure/blca_brca_square_full/log_xfrm"
   ]
  },
  {
   "cell_type": "code",
   "execution_count": null,
   "id": "98cf117c-0946-48e2-88a3-236213626ec2",
   "metadata": {},
   "outputs": [],
   "source": [
    "# dirs built, run the latent space grid on all three"
   ]
  },
  {
   "cell_type": "code",
   "execution_count": 10,
   "id": "9083b8b0-1521-4b8c-aef0-ba37b325bee6",
   "metadata": {},
   "outputs": [],
   "source": [
    "# Read bladder, full file, no intersect\n",
    "file  = pd.read_csv(gxp_file_paths[1],\n",
    "                       sep = '\\t',\n",
    "                       index_col = 0)"
   ]
  },
  {
   "cell_type": "code",
   "execution_count": null,
   "id": "a8459f2c-1f17-4322-a3fc-8a2f415b6098",
   "metadata": {},
   "outputs": [],
   "source": [
    "# add * 1D conv model * then transformer to the grid"
   ]
  },
  {
   "cell_type": "code",
   "execution_count": null,
   "id": "8dec2500-a5a6-42b2-b345-71290d3cf3ee",
   "metadata": {},
   "outputs": [],
   "source": [
    "# want two models, two cancers, two data types, data structures, ...\n",
    "# get a decent grid going with the auto UMAP"
   ]
  },
  {
   "cell_type": "code",
   "execution_count": 27,
   "id": "0204a6c7-5573-42ea-acd6-1da34fa03962",
   "metadata": {},
   "outputs": [],
   "source": [
    "# BRCA read\n",
    "file  = pd.read_csv(gxp_file_paths[2],\n",
    "                       sep = '\\t',\n",
    "                       index_col = 0)"
   ]
  },
  {
   "cell_type": "code",
   "execution_count": 28,
   "id": "24ba274a-8840-47ec-8c23-8fb9f92adb0f",
   "metadata": {},
   "outputs": [
    {
     "data": {
      "text/plain": [
       "'BRCA'"
      ]
     },
     "execution_count": 28,
     "metadata": {},
     "output_type": "execute_result"
    }
   ],
   "source": [
    "file.index.name"
   ]
  },
  {
   "cell_type": "code",
   "execution_count": 29,
   "id": "95580844-a3cf-444d-8aed-01952c496bdc",
   "metadata": {},
   "outputs": [
    {
     "name": "stdout",
     "output_type": "stream",
     "text": [
      "starting BRCA\n",
      "MinMax train loop done\n",
      "done\n"
     ]
    }
   ],
   "source": [
    "# Wrap BLCA for pretrain, then BRCA\n",
    "# Main question here is whether to run the MinMax norm function on train and test independently\n",
    "\n",
    "# Shard off from this version to three new verions and delete all these notes\n",
    "    # clean, MinMax vers, clip outliers, log transform\n",
    "    # copy up the file writes, point to MinMax nested dir, SHUTDOWN POINT Version 1\n",
    "    # ---> Start v2, etc, here\n",
    "print('starting '+file.index.name)\n",
    "train, test = train_test_split(file) # no seed, will get a different trn/tst splt each time\n",
    "\n",
    "train.iloc[:,1:] = MinMaxScaler().fit_transform(train.iloc[:,1:]) # or just run on the file\n",
    "# test.iloc[:,1:] = MinMaxScaler().fit_transform(test.iloc[:,1:]) # prior to the trn / tst split\n",
    "\n",
    "trn_empty = [] # append model-formatted numpy arrays of gene expression values\n",
    "trn_y_list = []\n",
    "\n",
    "for j, sample in enumerate(train.index): # okay, start going through the train object\n",
    "    gene_row = list(train.iloc[j,1:]) # extract sample gene expression\n",
    "\n",
    "    base = np.array(gene_row + (\n",
    "        20736 - len(\n",
    "            # gene_row)) * [0],dtype=np.uint8).reshape(144,144,1)\n",
    "                        gene_row)) * [0]).reshape(144,144,1)\n",
    "\n",
    "    trn_empty.append(base)\n",
    "    y = train.iloc[j,0]\n",
    "    trn_y_list.append(y)\n",
    "X_train_new  = np.array(trn_empty)\n",
    "# formatted = np.array(trn_empty)\n",
    "# formatted = formatted/255 # This normalization for unint 8, pull in the MinMaxScaler\n",
    "        # for data structure version one\n",
    "        # Start version one of this d_struct from here\n",
    "        # Send better f64 files to model b_mod_v1, time for outlier clipping, log x-form, etc\n",
    "\n",
    "      # END version 0 <------------- r0 png loss curve for BLCA in model dir\n",
    "    \n",
    "    # coordinate corrected versions in v2 of data structure and model\n",
    "    \n",
    "# formatted = MinMaxScaler(formatted) # Completly wrong\n",
    "\n",
    "# X_train_new = MinMaxScaler().fit_transform(formatted) # last fail\n",
    "\n",
    "# X_train_new = formatted\n",
    "\n",
    "print('MinMax train loop done')\n",
    "\n",
    "# Start processing the test data, same as above [toggling for MinMax test]\n",
    "\n",
    "tst_empty = []\n",
    "tst_y_list = []\n",
    "\n",
    "test.iloc[:,1:] = MinMaxScaler().fit_transform(test.iloc[:,1:])\n",
    "\n",
    "for j, sample in enumerate(test.index):\n",
    "    gene_row = list(test.iloc[j,1:])\n",
    "    base = np.array(gene_row + (\n",
    "        20736 - len(\n",
    "            # gene_row)) * [0],\n",
    "                        gene_row)) * [0]\n",
    "                    # dtype=np.uint8 # <---\n",
    "                   ).reshape(144,144,1)\n",
    "    tst_empty.append(base)\n",
    "    y = test.iloc[j,0]\n",
    "    tst_y_list.append(y)\n",
    "X_test_new = np.array(tst_empty)\n",
    "# formatted = formatted/255 # test normalization\n",
    "# X_test_new = formatted\n",
    "\n",
    "print('done')"
   ]
  },
  {
   "cell_type": "code",
   "execution_count": 24,
   "id": "b21d8cc5-7f4e-408a-8607-8bb934f1d5ba",
   "metadata": {
    "tags": []
   },
   "outputs": [
    {
     "data": {
      "text/plain": [
       "'BLCA'"
      ]
     },
     "execution_count": 24,
     "metadata": {},
     "output_type": "execute_result"
    }
   ],
   "source": [
    "file.index.name # Still losing index, dont care right now"
   ]
  },
  {
   "cell_type": "code",
   "execution_count": 30,
   "id": "756f91a0-5bdf-4c04-b386-a22056cd408d",
   "metadata": {},
   "outputs": [
    {
     "data": {
      "text/plain": [
       "'BRCA'"
      ]
     },
     "execution_count": 30,
     "metadata": {},
     "output_type": "execute_result"
    }
   ],
   "source": [
    "file.index.name # Check, run 2"
   ]
  },
  {
   "cell_type": "code",
   "execution_count": 31,
   "id": "3058e44e-3f0d-4ab0-95c0-011d163789cc",
   "metadata": {},
   "outputs": [],
   "source": [
    "np.save(\n",
    "    'blca_brca_flt64_sqrs/MinMax/'+file.index.name+'_MinMax_X_trn',\n",
    "    X_train_new)\n",
    "\n",
    "np.save(\n",
    "    'blca_brca_flt64_sqrs/MinMax/'+file.index.name+'_MinMax_X_tst.npy', # robust against ext incl\n",
    "        X_test_new)"
   ]
  },
  {
   "cell_type": "code",
   "execution_count": 32,
   "id": "f8f51cce-6863-4ddc-b1cc-6db381343437",
   "metadata": {},
   "outputs": [],
   "source": [
    "trn_y_out = pd.DataFrame(trn_y_list,columns = ['Labels'])\n",
    "trn_y_out.to_csv('blca_brca_flt64_sqrs/MinMax/'+file.index.name+'_MinMax_y_trn.tsv',\n",
    "                sep = '\\t',\n",
    "                )\n",
    "tst_y_out = pd.DataFrame(tst_y_list,columns = ['Labels'])\n",
    "tst_y_out.to_csv('blca_brca_flt64_sqrs/MinMax/'+file.index.name+'_MinMax_y_tst.tsv',\n",
    "                sep = '\\t',\n",
    "                )"
   ]
  },
  {
   "cell_type": "code",
   "execution_count": 21,
   "id": "cbecaec1-aabf-4845-b3f9-5f6e400bb0f8",
   "metadata": {
    "collapsed": true,
    "jupyter": {
     "outputs_hidden": true
    },
    "tags": []
   },
   "outputs": [
    {
     "data": {
      "text/plain": [
       "array([[[[0.00000000e+00],\n",
       "         [1.00325930e-01],\n",
       "         [2.41180480e-01],\n",
       "         ...,\n",
       "         [8.49700757e-02],\n",
       "         [6.30716818e-02],\n",
       "         [1.10217470e-01]],\n",
       "\n",
       "        [[1.14851667e-01],\n",
       "         [1.74943592e-01],\n",
       "         [3.91339207e-01],\n",
       "         ...,\n",
       "         [7.11519344e-02],\n",
       "         [1.39899475e-02],\n",
       "         [0.00000000e+00]],\n",
       "\n",
       "        [[0.00000000e+00],\n",
       "         [1.84413064e-03],\n",
       "         [0.00000000e+00],\n",
       "         ...,\n",
       "         [7.96775513e-02],\n",
       "         [1.97273754e-01],\n",
       "         [1.75369708e-01]],\n",
       "\n",
       "        ...,\n",
       "\n",
       "        [[2.44156677e-01],\n",
       "         [6.40961394e-01],\n",
       "         [2.07762700e-01],\n",
       "         ...,\n",
       "         [3.51270520e-03],\n",
       "         [6.56183074e-02],\n",
       "         [2.60783757e-02]],\n",
       "\n",
       "        [[1.64730188e-01],\n",
       "         [5.34494721e-01],\n",
       "         [2.34988529e-01],\n",
       "         ...,\n",
       "         [0.00000000e+00],\n",
       "         [0.00000000e+00],\n",
       "         [0.00000000e+00]],\n",
       "\n",
       "        [[0.00000000e+00],\n",
       "         [0.00000000e+00],\n",
       "         [0.00000000e+00],\n",
       "         ...,\n",
       "         [0.00000000e+00],\n",
       "         [0.00000000e+00],\n",
       "         [0.00000000e+00]]],\n",
       "\n",
       "\n",
       "       [[[0.00000000e+00],\n",
       "         [1.00034145e-01],\n",
       "         [1.45555699e-01],\n",
       "         ...,\n",
       "         [4.55951078e-01],\n",
       "         [6.98646409e-02],\n",
       "         [7.23574711e-03]],\n",
       "\n",
       "        [[8.38132224e-02],\n",
       "         [9.22800910e-02],\n",
       "         [2.80254296e-01],\n",
       "         ...,\n",
       "         [7.15299064e-02],\n",
       "         [4.29450633e-02],\n",
       "         [0.00000000e+00]],\n",
       "\n",
       "        [[0.00000000e+00],\n",
       "         [9.16326575e-02],\n",
       "         [0.00000000e+00],\n",
       "         ...,\n",
       "         [9.96575172e-02],\n",
       "         [2.75786417e-01],\n",
       "         [1.22811770e-01]],\n",
       "\n",
       "        ...,\n",
       "\n",
       "        [[2.18001154e-01],\n",
       "         [2.51563482e-03],\n",
       "         [2.06716871e-01],\n",
       "         ...,\n",
       "         [2.11885509e-02],\n",
       "         [2.26247911e-01],\n",
       "         [0.00000000e+00]],\n",
       "\n",
       "        [[1.30683864e-01],\n",
       "         [1.71904044e-01],\n",
       "         [1.77533789e-01],\n",
       "         ...,\n",
       "         [0.00000000e+00],\n",
       "         [0.00000000e+00],\n",
       "         [0.00000000e+00]],\n",
       "\n",
       "        [[0.00000000e+00],\n",
       "         [0.00000000e+00],\n",
       "         [0.00000000e+00],\n",
       "         ...,\n",
       "         [0.00000000e+00],\n",
       "         [0.00000000e+00],\n",
       "         [0.00000000e+00]]],\n",
       "\n",
       "\n",
       "       [[[0.00000000e+00],\n",
       "         [0.00000000e+00],\n",
       "         [3.56686255e-02],\n",
       "         ...,\n",
       "         [7.62081206e-02],\n",
       "         [9.26587925e-02],\n",
       "         [1.66480598e-02]],\n",
       "\n",
       "        [[5.49854080e-02],\n",
       "         [1.16583491e-02],\n",
       "         [5.79901526e-02],\n",
       "         ...,\n",
       "         [1.80442797e-01],\n",
       "         [2.82428374e-03],\n",
       "         [0.00000000e+00]],\n",
       "\n",
       "        [[0.00000000e+00],\n",
       "         [1.67802270e-04],\n",
       "         [0.00000000e+00],\n",
       "         ...,\n",
       "         [2.36109759e-01],\n",
       "         [1.71317955e-01],\n",
       "         [1.81073855e-01]],\n",
       "\n",
       "        ...,\n",
       "\n",
       "        [[3.37483172e-01],\n",
       "         [1.11131650e-03],\n",
       "         [1.14455635e-01],\n",
       "         ...,\n",
       "         [9.65085624e-03],\n",
       "         [1.62307900e-01],\n",
       "         [5.97007561e-03]],\n",
       "\n",
       "        [[0.00000000e+00],\n",
       "         [2.55503545e-01],\n",
       "         [2.07346811e-01],\n",
       "         ...,\n",
       "         [0.00000000e+00],\n",
       "         [0.00000000e+00],\n",
       "         [0.00000000e+00]],\n",
       "\n",
       "        [[0.00000000e+00],\n",
       "         [0.00000000e+00],\n",
       "         [0.00000000e+00],\n",
       "         ...,\n",
       "         [0.00000000e+00],\n",
       "         [0.00000000e+00],\n",
       "         [0.00000000e+00]]],\n",
       "\n",
       "\n",
       "       ...,\n",
       "\n",
       "\n",
       "       [[[0.00000000e+00],\n",
       "         [0.00000000e+00],\n",
       "         [1.23031152e-01],\n",
       "         ...,\n",
       "         [8.72703896e-02],\n",
       "         [7.15251420e-02],\n",
       "         [1.28653170e-02]],\n",
       "\n",
       "        [[4.74802951e-02],\n",
       "         [8.17111296e-02],\n",
       "         [1.56407403e-01],\n",
       "         ...,\n",
       "         [3.89021208e-02],\n",
       "         [1.05240984e-02],\n",
       "         [0.00000000e+00]],\n",
       "\n",
       "        [[0.00000000e+00],\n",
       "         [9.59815193e-03],\n",
       "         [0.00000000e+00],\n",
       "         ...,\n",
       "         [6.64293302e-02],\n",
       "         [5.57670592e-02],\n",
       "         [1.87885488e-01]],\n",
       "\n",
       "        ...,\n",
       "\n",
       "        [[2.40400026e-01],\n",
       "         [1.57271932e-01],\n",
       "         [1.37611165e-01],\n",
       "         ...,\n",
       "         [3.60641574e-02],\n",
       "         [1.65926314e-01],\n",
       "         [4.42784720e-01]],\n",
       "\n",
       "        [[2.64414602e-01],\n",
       "         [2.37117328e-01],\n",
       "         [2.23097246e-01],\n",
       "         ...,\n",
       "         [0.00000000e+00],\n",
       "         [0.00000000e+00],\n",
       "         [0.00000000e+00]],\n",
       "\n",
       "        [[0.00000000e+00],\n",
       "         [0.00000000e+00],\n",
       "         [0.00000000e+00],\n",
       "         ...,\n",
       "         [0.00000000e+00],\n",
       "         [0.00000000e+00],\n",
       "         [0.00000000e+00]]],\n",
       "\n",
       "\n",
       "       [[[0.00000000e+00],\n",
       "         [2.17503997e-01],\n",
       "         [3.25018883e-01],\n",
       "         ...,\n",
       "         [8.16658273e-02],\n",
       "         [1.00763170e-01],\n",
       "         [9.45502681e-03]],\n",
       "\n",
       "        [[9.03807707e-02],\n",
       "         [9.38709526e-02],\n",
       "         [6.06783754e-02],\n",
       "         ...,\n",
       "         [1.17078121e-02],\n",
       "         [2.92081032e-02],\n",
       "         [0.00000000e+00]],\n",
       "\n",
       "        [[0.00000000e+00],\n",
       "         [2.84482669e-04],\n",
       "         [0.00000000e+00],\n",
       "         ...,\n",
       "         [4.93235803e-02],\n",
       "         [5.55460558e-02],\n",
       "         [2.34161719e-01]],\n",
       "\n",
       "        ...,\n",
       "\n",
       "        [[2.74979165e-01],\n",
       "         [4.62723554e-03],\n",
       "         [1.80630075e-01],\n",
       "         ...,\n",
       "         [2.50470768e-03],\n",
       "         [2.20687910e-01],\n",
       "         [0.00000000e+00]],\n",
       "\n",
       "        [[1.68435717e-01],\n",
       "         [4.10413988e-02],\n",
       "         [9.18012069e-02],\n",
       "         ...,\n",
       "         [0.00000000e+00],\n",
       "         [0.00000000e+00],\n",
       "         [0.00000000e+00]],\n",
       "\n",
       "        [[0.00000000e+00],\n",
       "         [0.00000000e+00],\n",
       "         [0.00000000e+00],\n",
       "         ...,\n",
       "         [0.00000000e+00],\n",
       "         [0.00000000e+00],\n",
       "         [0.00000000e+00]]],\n",
       "\n",
       "\n",
       "       [[[0.00000000e+00],\n",
       "         [4.99899117e-01],\n",
       "         [3.61531234e-01],\n",
       "         ...,\n",
       "         [2.10714829e-02],\n",
       "         [9.19700619e-02],\n",
       "         [3.10083916e-03]],\n",
       "\n",
       "        [[1.44111497e-01],\n",
       "         [2.71961631e-01],\n",
       "         [1.00000000e+00],\n",
       "         ...,\n",
       "         [3.72752879e-02],\n",
       "         [8.83923117e-03],\n",
       "         [0.00000000e+00]],\n",
       "\n",
       "        [[0.00000000e+00],\n",
       "         [1.06311127e-04],\n",
       "         [0.00000000e+00],\n",
       "         ...,\n",
       "         [5.80901013e-02],\n",
       "         [9.38054525e-02],\n",
       "         [6.29360911e-02]],\n",
       "\n",
       "        ...,\n",
       "\n",
       "        [[2.03064299e-01],\n",
       "         [1.08865084e-02],\n",
       "         [2.13566313e-01],\n",
       "         ...,\n",
       "         [0.00000000e+00],\n",
       "         [6.72951331e-02],\n",
       "         [0.00000000e+00]],\n",
       "\n",
       "        [[3.93492106e-01],\n",
       "         [4.82980694e-01],\n",
       "         [3.87217296e-01],\n",
       "         ...,\n",
       "         [0.00000000e+00],\n",
       "         [0.00000000e+00],\n",
       "         [0.00000000e+00]],\n",
       "\n",
       "        [[0.00000000e+00],\n",
       "         [0.00000000e+00],\n",
       "         [0.00000000e+00],\n",
       "         ...,\n",
       "         [0.00000000e+00],\n",
       "         [0.00000000e+00],\n",
       "         [0.00000000e+00]]]])"
      ]
     },
     "execution_count": 21,
     "metadata": {},
     "output_type": "execute_result"
    }
   ],
   "source": [
    "X_train_new # looks pretty good"
   ]
  },
  {
   "cell_type": "code",
   "execution_count": null,
   "id": "ad2c6462-bb36-44f7-b28c-64d934698595",
   "metadata": {},
   "outputs": [],
   "source": [
    "# remember to fix the layers on the model per error in original example"
   ]
  },
  {
   "cell_type": "code",
   "execution_count": null,
   "id": "1298bb48-31ea-472b-a038-d3a1fa96e08f",
   "metadata": {},
   "outputs": [],
   "source": [
    "# End the MinMax file write"
   ]
  },
  {
   "cell_type": "code",
   "execution_count": null,
   "id": "9344cad3-ebea-40b2-9b63-cb3ab4d825df",
   "metadata": {},
   "outputs": [],
   "source": [
    "# Original div256_float64 fail from version 00"
   ]
  },
  {
   "cell_type": "code",
   "execution_count": 45,
   "id": "682bef71-6772-4172-a023-209d978ecaa8",
   "metadata": {},
   "outputs": [
    {
     "data": {
      "text/html": [
       "<div>\n",
       "<style scoped>\n",
       "    .dataframe tbody tr th:only-of-type {\n",
       "        vertical-align: middle;\n",
       "    }\n",
       "\n",
       "    .dataframe tbody tr th {\n",
       "        vertical-align: top;\n",
       "    }\n",
       "\n",
       "    .dataframe thead th {\n",
       "        text-align: right;\n",
       "    }\n",
       "</style>\n",
       "<table border=\"1\" class=\"dataframe\">\n",
       "  <thead>\n",
       "    <tr style=\"text-align: right;\">\n",
       "      <th></th>\n",
       "      <th>Labels</th>\n",
       "    </tr>\n",
       "  </thead>\n",
       "  <tbody>\n",
       "    <tr>\n",
       "      <th>0</th>\n",
       "      <td>BRCA_2</td>\n",
       "    </tr>\n",
       "    <tr>\n",
       "      <th>1</th>\n",
       "      <td>BRCA_1</td>\n",
       "    </tr>\n",
       "    <tr>\n",
       "      <th>2</th>\n",
       "      <td>BRCA_2</td>\n",
       "    </tr>\n",
       "    <tr>\n",
       "      <th>3</th>\n",
       "      <td>BRCA_2</td>\n",
       "    </tr>\n",
       "    <tr>\n",
       "      <th>4</th>\n",
       "      <td>BRCA_4</td>\n",
       "    </tr>\n",
       "    <tr>\n",
       "      <th>...</th>\n",
       "      <td>...</td>\n",
       "    </tr>\n",
       "    <tr>\n",
       "      <th>741</th>\n",
       "      <td>BRCA_2</td>\n",
       "    </tr>\n",
       "    <tr>\n",
       "      <th>742</th>\n",
       "      <td>BRCA_1</td>\n",
       "    </tr>\n",
       "    <tr>\n",
       "      <th>743</th>\n",
       "      <td>BRCA_1</td>\n",
       "    </tr>\n",
       "    <tr>\n",
       "      <th>744</th>\n",
       "      <td>BRCA_3</td>\n",
       "    </tr>\n",
       "    <tr>\n",
       "      <th>745</th>\n",
       "      <td>BRCA_1</td>\n",
       "    </tr>\n",
       "  </tbody>\n",
       "</table>\n",
       "<p>746 rows × 1 columns</p>\n",
       "</div>"
      ],
      "text/plain": [
       "     Labels\n",
       "0    BRCA_2\n",
       "1    BRCA_1\n",
       "2    BRCA_2\n",
       "3    BRCA_2\n",
       "4    BRCA_4\n",
       "..      ...\n",
       "741  BRCA_2\n",
       "742  BRCA_1\n",
       "743  BRCA_1\n",
       "744  BRCA_3\n",
       "745  BRCA_1\n",
       "\n",
       "[746 rows x 1 columns]"
      ]
     },
     "execution_count": 45,
     "metadata": {},
     "output_type": "execute_result"
    }
   ],
   "source": [
    "trn_y_out # Lost index labels, might need for plot eventually"
   ]
  },
  {
   "cell_type": "code",
   "execution_count": null,
   "id": "c009a401-b00f-43c7-97aa-37d631516923",
   "metadata": {},
   "outputs": [],
   "source": [
    "# Write the y's, not used for the UMAP, just keeping ready for sample gen ops"
   ]
  },
  {
   "cell_type": "code",
   "execution_count": 44,
   "id": "dbc4bf7e-8dd3-4cf6-ad36-f637da2e9f9d",
   "metadata": {},
   "outputs": [],
   "source": [
    "trn_y_out = pd.DataFrame(trn_y_list,columns = ['Labels'])\n",
    "trn_y_out.to_csv('brca_full_flt64_y_trn.tsv',\n",
    "                sep = '\\t',\n",
    "                )\n",
    "tst_y_out = pd.DataFrame(tst_y_list,columns = ['Labels'])\n",
    "tst_y_out.to_csv('brca_full_flt64_y_tst.tsv',\n",
    "                sep = '\\t',\n",
    "                )"
   ]
  },
  {
   "cell_type": "code",
   "execution_count": null,
   "id": "fe790d25-4be1-4cc4-bc58-ea225fb3c49c",
   "metadata": {},
   "outputs": [],
   "source": [
    "# Bladder"
   ]
  },
  {
   "cell_type": "code",
   "execution_count": 8,
   "id": "f8adff1b-17e6-440f-bcb5-52a1193ca70b",
   "metadata": {},
   "outputs": [
    {
     "data": {
      "text/plain": [
       "299"
      ]
     },
     "execution_count": 8,
     "metadata": {},
     "output_type": "execute_result"
    }
   ],
   "source": [
    "len(trn_y_list) # bladder check"
   ]
  },
  {
   "cell_type": "code",
   "execution_count": 9,
   "id": "0a10ebfb-611d-456d-bc45-170d78b4d5f1",
   "metadata": {},
   "outputs": [],
   "source": [
    "trn_y_out = pd.DataFrame(trn_y_list, columns = ['Labels'])"
   ]
  },
  {
   "cell_type": "code",
   "execution_count": 16,
   "id": "5a2d8558-4f1d-4a64-8e72-c98a57d06cb3",
   "metadata": {},
   "outputs": [],
   "source": [
    "trn_y_out.to_csv('blca_full_flt64_y_trn.tsv',\n",
    "                sep = '\\t',\n",
    "                )"
   ]
  },
  {
   "cell_type": "code",
   "execution_count": 17,
   "id": "c68c9d40-a334-46a9-80ab-3d5daf473cd5",
   "metadata": {},
   "outputs": [],
   "source": [
    "tst_y_out = pd.DataFrame(tst_y_list,columns = ['Labels'])\n",
    "tst_y_out.to_csv('blca_full_flt64_y_tst.tsv',\n",
    "                sep = '\\t',\n",
    "                )"
   ]
  },
  {
   "cell_type": "code",
   "execution_count": 14,
   "id": "b59bdb83-b021-4840-baee-ec2327c9956d",
   "metadata": {},
   "outputs": [
    {
     "data": {
      "text/plain": [
       "100"
      ]
     },
     "execution_count": 14,
     "metadata": {},
     "output_type": "execute_result"
    }
   ],
   "source": [
    "len(tst_y_out) # BLCA check"
   ]
  },
  {
   "cell_type": "code",
   "execution_count": null,
   "id": "c0dc1b8e-4085-4711-9aac-ca051556a491",
   "metadata": {},
   "outputs": [],
   "source": [
    "# end y zone"
   ]
  },
  {
   "cell_type": "code",
   "execution_count": null,
   "id": "2d97cbac-7c25-488d-b228-bead42bb9f0e",
   "metadata": {},
   "outputs": [],
   "source": [
    "# write brca, no checks, second run, for fine tune, blca devel and inspect below"
   ]
  },
  {
   "cell_type": "markdown",
   "id": "497448d5-34cc-4c56-bb16-039fdfd0dd8a",
   "metadata": {},
   "source": [
    "### X files"
   ]
  },
  {
   "cell_type": "code",
   "execution_count": 46,
   "id": "f544ef3f-5efa-44a5-8b9f-8a8661715758",
   "metadata": {},
   "outputs": [],
   "source": [
    "np.save('brca_full_flt64_X_trn', X_train_new)"
   ]
  },
  {
   "cell_type": "code",
   "execution_count": 47,
   "id": "8327b262-020f-4754-bf0d-92648d197a7f",
   "metadata": {},
   "outputs": [],
   "source": [
    "np.save('brca_full_flt64_X_tst.npy', X_test_new)"
   ]
  },
  {
   "cell_type": "code",
   "execution_count": null,
   "id": "69af70c9-29a7-4039-85f7-f5108b32b3d9",
   "metadata": {},
   "outputs": [],
   "source": [
    "# End, go to model 2022-10-07 Friday morning"
   ]
  },
  {
   "cell_type": "markdown",
   "id": "c08a7e74-8cdc-40ff-a0c7-848aa3f992d2",
   "metadata": {},
   "source": [
    "#### blca flt 64 devel, inspect, and write-out (run first):"
   ]
  },
  {
   "cell_type": "code",
   "execution_count": null,
   "id": "a6f7ae0b-40dd-4688-8515-13716a795a85",
   "metadata": {},
   "outputs": [],
   "source": [
    "# Start X checks"
   ]
  },
  {
   "cell_type": "code",
   "execution_count": 18,
   "id": "8ccac6b8-bdcf-4544-95fd-fba4f9b02f80",
   "metadata": {},
   "outputs": [
    {
     "data": {
      "text/plain": [
       "(299, 144, 144, 1)"
      ]
     },
     "execution_count": 18,
     "metadata": {},
     "output_type": "execute_result"
    }
   ],
   "source": [
    "X_train_new.shape # main variable trn"
   ]
  },
  {
   "cell_type": "code",
   "execution_count": 19,
   "id": "b1c4de05-64a7-46b1-94f6-03329e492deb",
   "metadata": {},
   "outputs": [
    {
     "data": {
      "text/plain": [
       "(100, 144, 144, 1)"
      ]
     },
     "execution_count": 19,
     "metadata": {},
     "output_type": "execute_result"
    }
   ],
   "source": [
    "X_test_new.shape # main variable tst"
   ]
  },
  {
   "cell_type": "code",
   "execution_count": 20,
   "id": "71344baa-6f30-424a-a44b-73b57edd0f3f",
   "metadata": {},
   "outputs": [
    {
     "data": {
      "text/plain": [
       "numpy.ndarray"
      ]
     },
     "execution_count": 20,
     "metadata": {},
     "output_type": "execute_result"
    }
   ],
   "source": [
    "type(X_train_new)"
   ]
  },
  {
   "cell_type": "code",
   "execution_count": 21,
   "id": "1abceab8-91da-486d-9b98-3186b8f56990",
   "metadata": {},
   "outputs": [
    {
     "data": {
      "text/plain": [
       "299"
      ]
     },
     "execution_count": 21,
     "metadata": {},
     "output_type": "execute_result"
    }
   ],
   "source": [
    "len(X_train_new) # dim pos 0"
   ]
  },
  {
   "cell_type": "code",
   "execution_count": 25,
   "id": "8d695de6-8e30-4217-bff8-f444d892c2b4",
   "metadata": {},
   "outputs": [
    {
     "data": {
      "text/plain": [
       "(144, 144, 1)"
      ]
     },
     "execution_count": 25,
     "metadata": {},
     "output_type": "execute_result"
    }
   ],
   "source": [
    "X_train_new[0].shape # shape of the first sample"
   ]
  },
  {
   "cell_type": "code",
   "execution_count": 28,
   "id": "08f289e6-45c6-4ac1-a069-c79efdf77c7e",
   "metadata": {},
   "outputs": [
    {
     "data": {
      "text/plain": [
       "(144, 1)"
      ]
     },
     "execution_count": 28,
     "metadata": {},
     "output_type": "execute_result"
    }
   ],
   "source": [
    "X_train_new[0][0].shape # first row"
   ]
  },
  {
   "cell_type": "code",
   "execution_count": 29,
   "id": "2ca8fb0e-58da-4ba2-8c04-0c18a2a04ce7",
   "metadata": {
    "collapsed": true,
    "jupyter": {
     "outputs_hidden": true
    },
    "tags": []
   },
   "outputs": [
    {
     "data": {
      "text/plain": [
       "array([[0.00000000e+00],\n",
       "       [3.94470588e-02],\n",
       "       [3.63772549e-02],\n",
       "       [4.39647059e-01],\n",
       "       [3.22552941e+00],\n",
       "       [0.00000000e+00],\n",
       "       [3.79905882e+00],\n",
       "       [5.83294118e-03],\n",
       "       [0.00000000e+00],\n",
       "       [0.00000000e+00],\n",
       "       [0.00000000e+00],\n",
       "       [1.94427451e-02],\n",
       "       [3.49964706e-02],\n",
       "       [0.00000000e+00],\n",
       "       [0.00000000e+00],\n",
       "       [0.00000000e+00],\n",
       "       [0.00000000e+00],\n",
       "       [0.00000000e+00],\n",
       "       [5.83294118e-03],\n",
       "       [1.15490196e+00],\n",
       "       [1.14709804e-01],\n",
       "       [0.00000000e+00],\n",
       "       [2.33270588e+01],\n",
       "       [0.00000000e+00],\n",
       "       [0.00000000e+00],\n",
       "       [0.00000000e+00],\n",
       "       [1.94431373e-03],\n",
       "       [5.71607843e+00],\n",
       "       [0.00000000e+00],\n",
       "       [7.67803922e-02],\n",
       "       [0.00000000e+00],\n",
       "       [0.00000000e+00],\n",
       "       [4.89882353e-01],\n",
       "       [4.97921569e+00],\n",
       "       [3.91960784e+01],\n",
       "       [2.64611765e+00],\n",
       "       [7.77686275e-03],\n",
       "       [0.00000000e+00],\n",
       "       [4.37843137e+00],\n",
       "       [0.00000000e+00],\n",
       "       [3.16525490e+00],\n",
       "       [0.00000000e+00],\n",
       "       [0.00000000e+00],\n",
       "       [0.00000000e+00],\n",
       "       [1.36098039e-02],\n",
       "       [1.24239216e+00],\n",
       "       [2.89890196e+00],\n",
       "       [2.51588235e+00],\n",
       "       [8.50039216e+00],\n",
       "       [3.88862745e-03],\n",
       "       [1.98313725e+00],\n",
       "       [3.08749020e+00],\n",
       "       [1.08976471e+01],\n",
       "       [5.83098039e+00],\n",
       "       [5.17176471e-01],\n",
       "       [1.02266667e+00],\n",
       "       [6.90000000e+00],\n",
       "       [8.74901961e-02],\n",
       "       [1.34541176e+00],\n",
       "       [1.38043137e-01],\n",
       "       [3.03498039e-01],\n",
       "       [1.32207843e-01],\n",
       "       [7.77686275e-03],\n",
       "       [4.08313725e-02],\n",
       "       [5.05294118e+00],\n",
       "       [4.26392157e+00],\n",
       "       [1.94619608e+00],\n",
       "       [2.60529412e-01],\n",
       "       [1.64874510e+00],\n",
       "       [5.05490196e-02],\n",
       "       [1.09266667e+00],\n",
       "       [2.13866667e-02],\n",
       "       [5.83294118e-02],\n",
       "       [1.12376471e+00],\n",
       "       [0.00000000e+00],\n",
       "       [3.69407843e-02],\n",
       "       [5.05490196e-02],\n",
       "       [1.94431373e-03],\n",
       "       [2.19176471e+00],\n",
       "       [1.19572549e+00],\n",
       "       [2.30200000e+00],\n",
       "       [6.46313725e-01],\n",
       "       [2.56058824e+00],\n",
       "       [9.72117647e-03],\n",
       "       [1.94431373e-03],\n",
       "       [5.83294118e-03],\n",
       "       [8.20470588e+00],\n",
       "       [1.94431373e-03],\n",
       "       [1.16070588e+00],\n",
       "       [9.13803922e-01],\n",
       "       [8.46745098e+00],\n",
       "       [0.00000000e+00],\n",
       "       [0.00000000e+00],\n",
       "       [1.36098039e-02],\n",
       "       [7.77686275e-03],\n",
       "       [5.93019608e-01],\n",
       "       [2.29227451e+00],\n",
       "       [5.05490196e-02],\n",
       "       [1.65007843e+01],\n",
       "       [2.89305882e+00],\n",
       "       [5.73372549e+00],\n",
       "       [4.50078431e+00],\n",
       "       [5.55098039e+00],\n",
       "       [5.25333333e+00],\n",
       "       [3.30525490e+00],\n",
       "       [4.86078431e-02],\n",
       "       [1.94431373e-03],\n",
       "       [3.88862745e-03],\n",
       "       [0.00000000e+00],\n",
       "       [2.79780392e+00],\n",
       "       [5.61686275e+00],\n",
       "       [5.83294118e-03],\n",
       "       [2.95062745e+01],\n",
       "       [9.91568627e-01],\n",
       "       [1.67984314e+00],\n",
       "       [5.86588235e+00],\n",
       "       [8.84627451e-01],\n",
       "       [4.86078431e-02],\n",
       "       [4.19764706e+00],\n",
       "       [3.86905882e-01],\n",
       "       [4.79058824e+00],\n",
       "       [2.04149020e+00],\n",
       "       [5.89098039e-01],\n",
       "       [1.25988235e+00],\n",
       "       [5.51725490e+00],\n",
       "       [2.47501961e+00],\n",
       "       [3.51909804e-01],\n",
       "       [1.94427451e-01],\n",
       "       [8.54705882e+00],\n",
       "       [1.93843137e+00],\n",
       "       [1.05886275e+01],\n",
       "       [5.83294118e-02],\n",
       "       [1.70509804e+00],\n",
       "       [1.01686275e+00],\n",
       "       [1.94427451e-02],\n",
       "       [3.88862745e-03],\n",
       "       [5.09411765e+00],\n",
       "       [2.50419608e+00],\n",
       "       [1.06545098e+00],\n",
       "       [5.83294118e-01],\n",
       "       [8.11137255e+00],\n",
       "       [3.00776471e+00],\n",
       "       [9.22352941e+00],\n",
       "       [5.40509804e-01]])"
      ]
     },
     "execution_count": 29,
     "metadata": {},
     "output_type": "execute_result"
    }
   ],
   "source": [
    "X_train_new[0][0] # second element of the shape of this object is one\n",
    "# one list of 144 lists? why is every value a list? because it could be three RBG channels?"
   ]
  },
  {
   "cell_type": "code",
   "execution_count": 34,
   "id": "0fa2f7d2-1aee-4c2d-8218-587e8796548a",
   "metadata": {},
   "outputs": [
    {
     "data": {
      "text/plain": [
       "array([0.])"
      ]
     },
     "execution_count": 34,
     "metadata": {},
     "output_type": "execute_result"
    }
   ],
   "source": [
    "X_train_new[0][0][0] # first sample, first pixel row, first element"
   ]
  },
  {
   "cell_type": "code",
   "execution_count": 33,
   "id": "c698f36f-e41b-4f16-909b-2e902ffee4c7",
   "metadata": {},
   "outputs": [
    {
     "data": {
      "text/plain": [
       "array([0.])"
      ]
     },
     "execution_count": 33,
     "metadata": {},
     "output_type": "execute_result"
    }
   ],
   "source": [
    "X_train_new[0][0][37]"
   ]
  },
  {
   "cell_type": "code",
   "execution_count": 35,
   "id": "3aa0813f-fc3b-41e6-b437-7c26e2b52eb7",
   "metadata": {},
   "outputs": [
    {
     "data": {
      "text/plain": [
       "array([4.37843137])"
      ]
     },
     "execution_count": 35,
     "metadata": {},
     "output_type": "execute_result"
    }
   ],
   "source": [
    "X_train_new[0][0][38] # find an actual gene expression value"
   ]
  },
  {
   "cell_type": "code",
   "execution_count": 36,
   "id": "29cfc095-8450-4f2c-98a6-de8857182fd3",
   "metadata": {},
   "outputs": [
    {
     "data": {
      "text/plain": [
       "4.37843137254902"
      ]
     },
     "execution_count": 36,
     "metadata": {},
     "output_type": "execute_result"
    }
   ],
   "source": [
    "X_train_new[0][0][38][0] # pull the singe gene expression value from the RGB list"
   ]
  },
  {
   "cell_type": "code",
   "execution_count": 37,
   "id": "54545903-6810-4a61-b3c0-3f432a663809",
   "metadata": {},
   "outputs": [
    {
     "data": {
      "text/plain": [
       "numpy.float64"
      ]
     },
     "execution_count": 37,
     "metadata": {},
     "output_type": "execute_result"
    }
   ],
   "source": [
    "type(X_train_new[0][0][38][0]) # Correct, send to model set up to take this dtype"
   ]
  },
  {
   "cell_type": "code",
   "execution_count": 38,
   "id": "86652044-ec83-4ead-ab43-978c7337f691",
   "metadata": {},
   "outputs": [],
   "source": [
    "np.save('blca_full_flt64_X_trn', X_train_new)"
   ]
  },
  {
   "cell_type": "code",
   "execution_count": 39,
   "id": "eba04e77-b9c4-4184-b651-f81ce1ea971d",
   "metadata": {},
   "outputs": [
    {
     "data": {
      "text/plain": [
       "100"
      ]
     },
     "execution_count": 39,
     "metadata": {},
     "output_type": "execute_result"
    }
   ],
   "source": [
    "len(X_test_new)"
   ]
  },
  {
   "cell_type": "code",
   "execution_count": 40,
   "id": "5c9c2573-3743-4b8c-ae28-6bd4cbd6c9ed",
   "metadata": {},
   "outputs": [],
   "source": [
    "np.save('blca_full_flt64_X_tst', X_test_new)"
   ]
  },
  {
   "cell_type": "code",
   "execution_count": null,
   "id": "65e0b384-fe8e-434b-bcb5-5c19afd9fd09",
   "metadata": {},
   "outputs": [],
   "source": [
    "# done, with flt 64 wrap for blca and brca"
   ]
  },
  {
   "cell_type": "code",
   "execution_count": null,
   "id": "daf04c07-7e3b-46d7-ab57-12c41985bbf8",
   "metadata": {},
   "outputs": [],
   "source": [
    "# Original uint8 file write, probly back in og img gen dir"
   ]
  },
  {
   "cell_type": "code",
   "execution_count": null,
   "id": "c6573a43-36b3-41cb-a698-21e914d07bd0",
   "metadata": {},
   "outputs": [],
   "source": [
    "BLCA_square.to_csv('nb_A_data_out/'+version+\n",
    "                   date+'_'+\n",
    "                   file.index.name+'_'+\n",
    "                   'square.tsv',\n",
    "                    sep = '\\t',\n",
    "                   )"
   ]
  }
 ],
 "metadata": {
  "kernelspec": {
   "display_name": "Python 3 (ipykernel)",
   "language": "python",
   "name": "python3"
  },
  "language_info": {
   "codemirror_mode": {
    "name": "ipython",
    "version": 3
   },
   "file_extension": ".py",
   "mimetype": "text/x-python",
   "name": "python",
   "nbconvert_exporter": "python",
   "pygments_lexer": "ipython3",
   "version": "3.9.7"
  }
 },
 "nbformat": 4,
 "nbformat_minor": 5
}
