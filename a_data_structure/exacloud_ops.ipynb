{
 "cells": [
  {
   "cell_type": "code",
   "execution_count": null,
   "id": "08ab6fc2-65ba-4e77-846f-55a317f37237",
   "metadata": {},
   "outputs": [],
   "source": [
    "# Operational setup for Exacloud VAE sample generation"
   ]
  },
  {
   "cell_type": "code",
   "execution_count": null,
   "id": "fccea271-8ace-420b-a529-b6cb35290971",
   "metadata": {},
   "outputs": [],
   "source": [
    "scp /Users/karlberg/work/VAE_devel/1000_samples/data_1000/*.tsv karlberb@exahead1.ohsu.edu:/home/groups/EllrottLab/gdan-tmp/drug_resp/VAE/VAE_DL_II/data"
   ]
  },
  {
   "cell_type": "code",
   "execution_count": null,
   "id": "cc0b0d43-b7c6-4e81-9e17-a0cea279f98e",
   "metadata": {},
   "outputs": [],
   "source": [
    "/home/groups/EllrottLab/sample_count/synthetic_TCGA_data_gen/gexp_files"
   ]
  },
  {
   "cell_type": "code",
   "execution_count": null,
   "id": "f8d0b9a6-d96b-49ea-9daf-be2d10c34820",
   "metadata": {},
   "outputs": [],
   "source": [
    "scp /Users/karlberb/work/sample_count/smpl_gen/gexp_files/BRCA_gxp.tsv karlberb@exahead1.ohsu.edu:/home/groups/EllrottLab/sample_count/synthetic_TCGA_data_gen/gexp_files"
   ]
  },
  {
   "cell_type": "code",
   "execution_count": null,
   "id": "22893a26-0a13-46de-a37d-687d57434fcc",
   "metadata": {},
   "outputs": [],
   "source": [
    "scp /Users/karlberb/work/sample_count/smpl_gen/gexp_files/BRCA_gxp.tsv karlberb@exahead1.ohsu.edu:/home/groups/EllrottLab/sample_count/synthetic_TCGA_data_gen/a_data_structure/normalized_data/flat"
   ]
  },
  {
   "cell_type": "code",
   "execution_count": null,
   "id": "9de99121-12f4-4d61-8a77-10d52075b7a9",
   "metadata": {},
   "outputs": [],
   "source": [
    "scp /Users/karlberb/Desktop/RNB00978/sample_count/sample_gen/synthetic_TCGA_data_gen/a_data_structure/normalized_data/flat/* karlberb@exahead1.ohsu.edu:/home/groups/EllrottLab/sample_count/synthetic_TCGA_data_gen/a_data_structure/normalized_data/flat"
   ]
  }
 ],
 "metadata": {
  "kernelspec": {
   "display_name": "cvae_venv",
   "language": "python",
   "name": "cvae_venv"
  },
  "language_info": {
   "codemirror_mode": {
    "name": "ipython",
    "version": 3
   },
   "file_extension": ".py",
   "mimetype": "text/x-python",
   "name": "python",
   "nbconvert_exporter": "python",
   "pygments_lexer": "ipython3",
   "version": "3.9.7"
  }
 },
 "nbformat": 4,
 "nbformat_minor": 5
}
