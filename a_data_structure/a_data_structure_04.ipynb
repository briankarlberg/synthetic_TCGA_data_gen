{
 "cells": [
  {
   "cell_type": "markdown",
   "id": "3d639b11-d39b-4fe8-bcd5-e74e5c282890",
   "metadata": {
    "tags": []
   },
   "source": [
    "#### Setup, description"
   ]
  },
  {
   "cell_type": "code",
   "execution_count": null,
   "id": "5090a644-2b54-43f2-bb36-e3247be90706",
   "metadata": {},
   "outputs": [],
   "source": [
    "# v4, for 1D model, outlier clipping\n",
    "# to 1Dmodel then umap decoded BRCA in d_\n",
    "# Validation of quality of embedding\n",
    "# 2022-10-13 Thursday\n",
    "    # post 1D test at 5 epochs on some clipped outlier data, bladder\n",
    "    # gen BRCA clipped set then run tests\n",
    "\n",
    "# secondary questions:\n",
    "    # where is the float32 conversion happening?"
   ]
  },
  {
   "cell_type": "code",
   "execution_count": null,
   "id": "e1e9c461-1ba5-4219-ba2f-a740f6a1a779",
   "metadata": {},
   "outputs": [],
   "source": [
    "# from V3 - Run raw vs. decoded samples into a UMAP\n",
    "# Validation of quality of embedding"
   ]
  },
  {
   "cell_type": "code",
   "execution_count": null,
   "id": "93fbb1fd-f71f-4f5f-886f-9dc3a1e3cf87",
   "metadata": {},
   "outputs": [],
   "source": [
    "# Ops notes\n",
    "# latent space grid: 50 to 500 ?"
   ]
  },
  {
   "cell_type": "code",
   "execution_count": 2,
   "id": "68437f21-740f-4615-8d85-37f6a16a8260",
   "metadata": {},
   "outputs": [
    {
     "data": {
      "text/plain": [
       "'/Users/karlberb/Desktop/RNB00978/sample_count/sample_gen/synthetic_TCGA_data_gen/a_data_structure'"
      ]
     },
     "execution_count": 2,
     "metadata": {},
     "output_type": "execute_result"
    }
   ],
   "source": [
    "pwd"
   ]
  },
  {
   "cell_type": "code",
   "execution_count": 1,
   "id": "05d5cc34-e7a6-40ed-854f-634f4570f288",
   "metadata": {},
   "outputs": [
    {
     "name": "stdout",
     "output_type": "stream",
     "text": [
      "Interactive namespace is empty.\n"
     ]
    }
   ],
   "source": [
    "%whos"
   ]
  },
  {
   "cell_type": "code",
   "execution_count": null,
   "id": "f859bdb2-3e94-4656-aa0e-dc15b1de2c2f",
   "metadata": {},
   "outputs": [],
   "source": [
    "# target dir for the flat normed data: normed_data/\n",
    "    # to the 1D model"
   ]
  },
  {
   "cell_type": "code",
   "execution_count": 3,
   "id": "1eab86d7-c3d6-4223-951b-7c38053dcad0",
   "metadata": {},
   "outputs": [
    {
     "name": "stdout",
     "output_type": "stream",
     "text": [
      "a_data_structure_00-Copy1.ipynb  \u001b[34mblca_brca_flt64_sqrs\u001b[m\u001b[m/\n",
      "a_data_structure_00.ipynb        intersect_00.ipynb\n",
      "a_data_structure_01.ipynb        intersect_template.ipynb\n",
      "a_data_structure_02.ipynb        \u001b[34mmir_files\u001b[m\u001b[m/\n",
      "a_data_structure_03.ipynb        \u001b[34mmir_intrsct\u001b[m\u001b[m/\n",
      "a_data_structure_04.ipynb        \u001b[34mnormed_data\u001b[m\u001b[m/\n"
     ]
    }
   ],
   "source": [
    "ls"
   ]
  },
  {
   "cell_type": "code",
   "execution_count": null,
   "id": "c20dfbd1-4a23-401b-88cb-15596d923801",
   "metadata": {},
   "outputs": [],
   "source": [
    "# c module latent space sampling note\n",
    "# two methods here - pairwise averaging and rejection method\n",
    "\n",
    "# why not one-hot encode the labels?"
   ]
  },
  {
   "cell_type": "code",
   "execution_count": 6,
   "id": "3388490f-25fd-4534-bc35-71ee4d6d138a",
   "metadata": {},
   "outputs": [
    {
     "name": "stdout",
     "output_type": "stream",
     "text": [
      "Variable           Type        Data/Info\n",
      "----------------------------------------\n",
      "MinMaxScaler       type        <class 'sklearn.preproces<...>sing._data.MinMaxScaler'>\n",
      "glob               module      <module 'glob' from '/Use<...>3/lib/python3.9/glob.py'>\n",
      "np                 module      <module 'numpy' from '/Us<...>kages/numpy/__init__.py'>\n",
      "pd                 module      <module 'pandas' from '/U<...>ages/pandas/__init__.py'>\n",
      "train_test_split   function    <function train_test_split at 0x7f7ec836b670>\n"
     ]
    }
   ],
   "source": [
    "%whos"
   ]
  },
  {
   "cell_type": "code",
   "execution_count": 4,
   "id": "01294c08-d1ab-49ec-96bd-36e483d313f7",
   "metadata": {},
   "outputs": [],
   "source": [
    "date = '2022-10-13' # write normed raw, to 1D; square wraps to 2D model\n",
    "                    # do outlier clipping? this means a dataset / VAE architechture grid\n",
    "                            # put results to figure drive\n",
    "                            # confirm previous UMAP result was technical artifact sampling uint8 converted samples (?)\n",
    "                    # UMAP post inverse_MinMax (?)\n",
    "                    \n",
    "                    # RobustScaler has inverse_Transform also\n",
    "                    # https://scikit-learn.org/stable/modules/generated/sklearn.preprocessing.RobustScaler.html\n",
    "                    \n",
    "version = 'a_data_structure_04.ipynb' # version controlled repo"
   ]
  },
  {
   "cell_type": "code",
   "execution_count": 5,
   "id": "47c542b3-b49c-4146-b402-2baf5f8f0d1d",
   "metadata": {},
   "outputs": [],
   "source": [
    "import glob as glob\n",
    "import pandas as pd\n",
    "from sklearn.model_selection import train_test_split # run multiple splits? inline with model\n",
    "import numpy as np\n",
    "from sklearn.preprocessing import MinMaxScaler\n",
    "from sklearn.preprocessing import RobustScaler"
   ]
  },
  {
   "cell_type": "code",
   "execution_count": 13,
   "id": "febe4f00-5529-4c57-a012-25e7831cf7a0",
   "metadata": {},
   "outputs": [],
   "source": [
    "# get template code for the MinMax inverse, \n",
    "# to b-module model decoder for d-module UMAP input"
   ]
  },
  {
   "cell_type": "code",
   "execution_count": 6,
   "id": "aa8cbdc0-19f2-4e83-a6d3-60f82534f7a4",
   "metadata": {},
   "outputs": [],
   "source": [
    "# Read 26 cancer gene-expression files, add intersection file reas here\n",
    "gxp_file_paths = sorted(glob.glob('/Users/karlberb/work/sample_count/smpl_gen/gexp_files/*.tsv'))"
   ]
  },
  {
   "cell_type": "code",
   "execution_count": null,
   "id": "07018fa3-64f4-4499-98c1-81f6385e4e51",
   "metadata": {
    "tags": []
   },
   "outputs": [],
   "source": [
    "gxp_file_paths"
   ]
  },
  {
   "cell_type": "code",
   "execution_count": null,
   "id": "c962dce2-15ef-4c04-9d29-60969862de27",
   "metadata": {},
   "outputs": [],
   "source": [
    "# check pre-train / fine-tune across differing input file feauture counts\n",
    "# add the log conversion prior to normalization\n",
    "# zero-fill is blurring transfer learning performance evaluation, fix with 1Dconv version"
   ]
  },
  {
   "cell_type": "markdown",
   "id": "5e4ffae4-50ef-4a88-8dfc-43f2249327b0",
   "metadata": {},
   "source": [
    "### Resume 1D outlier clipping"
   ]
  },
  {
   "cell_type": "code",
   "execution_count": null,
   "id": "bbbc6b60-c802-463b-b074-a3d827364597",
   "metadata": {},
   "outputs": [],
   "source": [
    "# idea - only apply log transform to upper segment of vals (?)"
   ]
  },
  {
   "cell_type": "code",
   "execution_count": 4,
   "id": "9083b8b0-1521-4b8c-aef0-ba37b325bee6",
   "metadata": {},
   "outputs": [],
   "source": [
    "# Read bladder, full file, no intersect - to 1D and 2D\n",
    "file  = pd.read_csv(gxp_file_paths[1],\n",
    "                       sep = '\\t',\n",
    "                       index_col = 0)"
   ]
  },
  {
   "cell_type": "code",
   "execution_count": 20,
   "id": "6914ae0f-ab22-4369-a6bf-1f957b2ff98a",
   "metadata": {},
   "outputs": [],
   "source": [
    "blca  = pd.read_csv(gxp_file_paths[1],\n",
    "                       sep = '\\t',\n",
    "                       index_col = 0)"
   ]
  },
  {
   "cell_type": "code",
   "execution_count": 41,
   "id": "78c2791c-58d3-4450-8434-eceab0edf189",
   "metadata": {},
   "outputs": [
    {
     "data": {
      "text/plain": [
       "(399, 20532)"
      ]
     },
     "execution_count": 41,
     "metadata": {},
     "output_type": "execute_result"
    }
   ],
   "source": [
    "blca.shape"
   ]
  },
  {
   "cell_type": "code",
   "execution_count": 5,
   "id": "4c9abea9-50c8-4d4a-b508-a85a7e0fcbf5",
   "metadata": {},
   "outputs": [
    {
     "data": {
      "text/plain": [
       "'BLCA'"
      ]
     },
     "execution_count": 5,
     "metadata": {},
     "output_type": "execute_result"
    }
   ],
   "source": [
    "file.index.name"
   ]
  },
  {
   "cell_type": "code",
   "execution_count": null,
   "id": "a8459f2c-1f17-4322-a3fc-8a2f415b6098",
   "metadata": {},
   "outputs": [],
   "source": [
    "# add * 1D conv model * then transformer to the grid"
   ]
  },
  {
   "cell_type": "code",
   "execution_count": null,
   "id": "8dec2500-a5a6-42b2-b345-71290d3cf3ee",
   "metadata": {},
   "outputs": [],
   "source": [
    "# want two models, two cancers, two data types, data structures, ...\n",
    "# get a decent grid going with the auto UMAP"
   ]
  },
  {
   "cell_type": "code",
   "execution_count": 9,
   "id": "0204a6c7-5573-42ea-acd6-1da34fa03962",
   "metadata": {},
   "outputs": [],
   "source": [
    "# BRCA read\n",
    "file  = pd.read_csv(gxp_file_paths[2],\n",
    "                       sep = '\\t',\n",
    "                       index_col = 0)"
   ]
  },
  {
   "cell_type": "code",
   "execution_count": null,
   "id": "8e0a60a7-3b2f-4d1d-be01-443ade30c31b",
   "metadata": {},
   "outputs": [],
   "source": [
    "brca  = pd.read_csv(gxp_file_paths[2],\n",
    "                       sep = '\\t',\n",
    "                       index_col = 0)"
   ]
  },
  {
   "cell_type": "code",
   "execution_count": 28,
   "id": "24ba274a-8840-47ec-8c23-8fb9f92adb0f",
   "metadata": {},
   "outputs": [
    {
     "data": {
      "text/plain": [
       "'BRCA'"
      ]
     },
     "execution_count": 28,
     "metadata": {},
     "output_type": "execute_result"
    }
   ],
   "source": [
    "file.index.name"
   ]
  },
  {
   "cell_type": "code",
   "execution_count": null,
   "id": "522116d3-fcbd-43ba-b67b-8c9fa035f4f0",
   "metadata": {},
   "outputs": [],
   "source": [
    "# First split, then norm - based on MNIST method\n",
    "\n",
    "    #   *** Check against the 1D, model 3?\n",
    "    \n",
    "# Keras example method:    \n",
    "https://keras.io/examples/generative/vae/    \n",
    "mnist_digits = np.expand_dims(mnist_digits, -1).astype(\"float32\") / 255"
   ]
  },
  {
   "cell_type": "code",
   "execution_count": 7,
   "id": "19f27b79-417b-4842-a397-efe137b8cea4",
   "metadata": {},
   "outputs": [],
   "source": [
    "train, test = train_test_split(file)"
   ]
  },
  {
   "cell_type": "code",
   "execution_count": 8,
   "id": "7d9e1272-596e-44a3-90ac-7fcefd3700c4",
   "metadata": {},
   "outputs": [
    {
     "data": {
      "text/plain": [
       "(299, 20532)"
      ]
     },
     "execution_count": 8,
     "metadata": {},
     "output_type": "execute_result"
    }
   ],
   "source": [
    "train.shape"
   ]
  },
  {
   "cell_type": "code",
   "execution_count": 9,
   "id": "7c2d4498-3da6-4fe5-8b03-e802b8af9a27",
   "metadata": {},
   "outputs": [
    {
     "data": {
      "text/plain": [
       "(100, 20532)"
      ]
     },
     "execution_count": 9,
     "metadata": {},
     "output_type": "execute_result"
    }
   ],
   "source": [
    "test.shape"
   ]
  },
  {
   "cell_type": "code",
   "execution_count": 13,
   "id": "a1a5ee7c-0259-4eb0-97e4-6a2dc2258914",
   "metadata": {},
   "outputs": [
    {
     "data": {
      "text/html": [
       "<div>\n",
       "<style scoped>\n",
       "    .dataframe tbody tr th:only-of-type {\n",
       "        vertical-align: middle;\n",
       "    }\n",
       "\n",
       "    .dataframe tbody tr th {\n",
       "        vertical-align: top;\n",
       "    }\n",
       "\n",
       "    .dataframe thead th {\n",
       "        text-align: right;\n",
       "    }\n",
       "</style>\n",
       "<table border=\"1\" class=\"dataframe\">\n",
       "  <thead>\n",
       "    <tr style=\"text-align: right;\">\n",
       "      <th></th>\n",
       "      <th>Labels</th>\n",
       "      <th>N:GEXP::?:100130426:</th>\n",
       "      <th>N:GEXP::?:100133144:</th>\n",
       "      <th>N:GEXP::?:100134869:</th>\n",
       "      <th>N:GEXP::?:10357:</th>\n",
       "      <th>N:GEXP::?:10431:</th>\n",
       "      <th>N:GEXP::?:136542:</th>\n",
       "      <th>N:GEXP::?:155060:</th>\n",
       "      <th>N:GEXP::?:26823:</th>\n",
       "      <th>N:GEXP::?:280660:</th>\n",
       "      <th>...</th>\n",
       "      <th>N:GEXP::ZXDA:7789:</th>\n",
       "      <th>N:GEXP::ZXDB:158586:</th>\n",
       "      <th>N:GEXP::ZXDC:79364:</th>\n",
       "      <th>N:GEXP::ZYG11A:440590:</th>\n",
       "      <th>N:GEXP::ZYG11B:79699:</th>\n",
       "      <th>N:GEXP::ZYX:7791:</th>\n",
       "      <th>N:GEXP::ZZEF1:23140:</th>\n",
       "      <th>N:GEXP::ZZZ3:26009:</th>\n",
       "      <th>N:GEXP::psiTPTE22:387590:</th>\n",
       "      <th>N:GEXP::tAKR:389932:</th>\n",
       "    </tr>\n",
       "    <tr>\n",
       "      <th>BLCA</th>\n",
       "      <th></th>\n",
       "      <th></th>\n",
       "      <th></th>\n",
       "      <th></th>\n",
       "      <th></th>\n",
       "      <th></th>\n",
       "      <th></th>\n",
       "      <th></th>\n",
       "      <th></th>\n",
       "      <th></th>\n",
       "      <th></th>\n",
       "      <th></th>\n",
       "      <th></th>\n",
       "      <th></th>\n",
       "      <th></th>\n",
       "      <th></th>\n",
       "      <th></th>\n",
       "      <th></th>\n",
       "      <th></th>\n",
       "      <th></th>\n",
       "      <th></th>\n",
       "    </tr>\n",
       "  </thead>\n",
       "  <tbody>\n",
       "    <tr>\n",
       "      <th>TCGA-DK-AA76</th>\n",
       "      <td>BLCA_2</td>\n",
       "      <td>0.0</td>\n",
       "      <td>14.363</td>\n",
       "      <td>21.978</td>\n",
       "      <td>208.11</td>\n",
       "      <td>694.17</td>\n",
       "      <td>0</td>\n",
       "      <td>291.78</td>\n",
       "      <td>0.0</td>\n",
       "      <td>0.0</td>\n",
       "      <td>...</td>\n",
       "      <td>26.861</td>\n",
       "      <td>489.29</td>\n",
       "      <td>1345.7</td>\n",
       "      <td>7.3735</td>\n",
       "      <td>1593.2</td>\n",
       "      <td>2221.5</td>\n",
       "      <td>1450.5</td>\n",
       "      <td>873.76</td>\n",
       "      <td>166.43</td>\n",
       "      <td>0.5267</td>\n",
       "    </tr>\n",
       "  </tbody>\n",
       "</table>\n",
       "<p>1 rows × 20532 columns</p>\n",
       "</div>"
      ],
      "text/plain": [
       "              Labels  N:GEXP::?:100130426:  N:GEXP::?:100133144:  \\\n",
       "BLCA                                                               \n",
       "TCGA-DK-AA76  BLCA_2                   0.0                14.363   \n",
       "\n",
       "              N:GEXP::?:100134869:  N:GEXP::?:10357:  N:GEXP::?:10431:  \\\n",
       "BLCA                                                                     \n",
       "TCGA-DK-AA76                21.978            208.11            694.17   \n",
       "\n",
       "              N:GEXP::?:136542:  N:GEXP::?:155060:  N:GEXP::?:26823:  \\\n",
       "BLCA                                                                   \n",
       "TCGA-DK-AA76                  0             291.78               0.0   \n",
       "\n",
       "              N:GEXP::?:280660:  ...  N:GEXP::ZXDA:7789:  \\\n",
       "BLCA                             ...                       \n",
       "TCGA-DK-AA76                0.0  ...              26.861   \n",
       "\n",
       "              N:GEXP::ZXDB:158586:  N:GEXP::ZXDC:79364:  \\\n",
       "BLCA                                                      \n",
       "TCGA-DK-AA76                489.29               1345.7   \n",
       "\n",
       "              N:GEXP::ZYG11A:440590:  N:GEXP::ZYG11B:79699:  \\\n",
       "BLCA                                                          \n",
       "TCGA-DK-AA76                  7.3735                 1593.2   \n",
       "\n",
       "              N:GEXP::ZYX:7791:  N:GEXP::ZZEF1:23140:  N:GEXP::ZZZ3:26009:  \\\n",
       "BLCA                                                                         \n",
       "TCGA-DK-AA76             2221.5                1450.5               873.76   \n",
       "\n",
       "              N:GEXP::psiTPTE22:387590:  N:GEXP::tAKR:389932:  \n",
       "BLCA                                                           \n",
       "TCGA-DK-AA76                     166.43                0.5267  \n",
       "\n",
       "[1 rows x 20532 columns]"
      ]
     },
     "execution_count": 13,
     "metadata": {},
     "output_type": "execute_result"
    }
   ],
   "source": [
    "test.head(1)"
   ]
  },
  {
   "cell_type": "code",
   "execution_count": 14,
   "id": "b7204431-1742-4d8c-a1c3-b4e23ef8692f",
   "metadata": {},
   "outputs": [],
   "source": [
    "import matplotlib.pyplot as plt"
   ]
  },
  {
   "cell_type": "code",
   "execution_count": 10,
   "id": "437af548-0504-409f-8887-a706a956236f",
   "metadata": {},
   "outputs": [],
   "source": [
    "scaler = MinMaxScaler()"
   ]
  },
  {
   "cell_type": "code",
   "execution_count": null,
   "id": "7e47e3c8-516e-46ee-83f6-da039b8f5ee7",
   "metadata": {},
   "outputs": [],
   "source": [
    "# The difference in the scaling methods from MNIST is that\n",
    "# the MNIST maxes at 256 in both the train and test set\n",
    "# wheras the gene expession is badly skewed with huge outliers\n",
    "# so the max value could toggle back and forth between the train and test\n",
    "# depending on ramdomness in the train / test split"
   ]
  },
  {
   "cell_type": "code",
   "execution_count": 11,
   "id": "816ff0fd-db5d-4a7d-9838-5ec0c2a4d4b5",
   "metadata": {},
   "outputs": [],
   "source": [
    "train_norm = pd.DataFrame(scaler.fit_transform(\n",
    "    train.iloc[:, 1:]), columns = test.columns[1:])"
   ]
  },
  {
   "cell_type": "code",
   "execution_count": 12,
   "id": "91eb2926-d9ae-4c0a-b226-4f0021167364",
   "metadata": {},
   "outputs": [],
   "source": [
    "test_norm = pd.DataFrame(scaler.transform(\n",
    "    test.iloc[:, 1:]), columns = test.columns[1:])"
   ]
  },
  {
   "cell_type": "code",
   "execution_count": 10,
   "id": "438cda94-4835-4158-b249-59a16df32a7d",
   "metadata": {},
   "outputs": [
    {
     "data": {
      "text/html": [
       "<div>\n",
       "<style scoped>\n",
       "    .dataframe tbody tr th:only-of-type {\n",
       "        vertical-align: middle;\n",
       "    }\n",
       "\n",
       "    .dataframe tbody tr th {\n",
       "        vertical-align: top;\n",
       "    }\n",
       "\n",
       "    .dataframe thead th {\n",
       "        text-align: right;\n",
       "    }\n",
       "</style>\n",
       "<table border=\"1\" class=\"dataframe\">\n",
       "  <thead>\n",
       "    <tr style=\"text-align: right;\">\n",
       "      <th></th>\n",
       "      <th>Labels</th>\n",
       "      <th>N:GEXP::?:100130426:</th>\n",
       "      <th>N:GEXP::?:100133144:</th>\n",
       "      <th>N:GEXP::?:100134869:</th>\n",
       "      <th>N:GEXP::?:10357:</th>\n",
       "      <th>N:GEXP::?:10431:</th>\n",
       "      <th>N:GEXP::?:136542:</th>\n",
       "      <th>N:GEXP::?:155060:</th>\n",
       "      <th>N:GEXP::?:26823:</th>\n",
       "      <th>N:GEXP::?:280660:</th>\n",
       "      <th>...</th>\n",
       "      <th>N:GEXP::ZXDA:7789:</th>\n",
       "      <th>N:GEXP::ZXDB:158586:</th>\n",
       "      <th>N:GEXP::ZXDC:79364:</th>\n",
       "      <th>N:GEXP::ZYG11A:440590:</th>\n",
       "      <th>N:GEXP::ZYG11B:79699:</th>\n",
       "      <th>N:GEXP::ZYX:7791:</th>\n",
       "      <th>N:GEXP::ZZEF1:23140:</th>\n",
       "      <th>N:GEXP::ZZZ3:26009:</th>\n",
       "      <th>N:GEXP::psiTPTE22:387590:</th>\n",
       "      <th>N:GEXP::tAKR:389932:</th>\n",
       "    </tr>\n",
       "    <tr>\n",
       "      <th>BRCA</th>\n",
       "      <th></th>\n",
       "      <th></th>\n",
       "      <th></th>\n",
       "      <th></th>\n",
       "      <th></th>\n",
       "      <th></th>\n",
       "      <th></th>\n",
       "      <th></th>\n",
       "      <th></th>\n",
       "      <th></th>\n",
       "      <th></th>\n",
       "      <th></th>\n",
       "      <th></th>\n",
       "      <th></th>\n",
       "      <th></th>\n",
       "      <th></th>\n",
       "      <th></th>\n",
       "      <th></th>\n",
       "      <th></th>\n",
       "      <th></th>\n",
       "      <th></th>\n",
       "    </tr>\n",
       "  </thead>\n",
       "  <tbody>\n",
       "    <tr>\n",
       "      <th>TCGA-3C-AAAU</th>\n",
       "      <td>BRCA_1</td>\n",
       "      <td>0.0</td>\n",
       "      <td>16.364</td>\n",
       "      <td>12.932</td>\n",
       "      <td>52.15</td>\n",
       "      <td>408.08</td>\n",
       "      <td>0</td>\n",
       "      <td>1187.0</td>\n",
       "      <td>0.0</td>\n",
       "      <td>0.0</td>\n",
       "      <td>...</td>\n",
       "      <td>129.59</td>\n",
       "      <td>1007.8</td>\n",
       "      <td>1658.5</td>\n",
       "      <td>258.49</td>\n",
       "      <td>1208.4</td>\n",
       "      <td>3507.2</td>\n",
       "      <td>1894.9</td>\n",
       "      <td>1180.5</td>\n",
       "      <td>1.7233</td>\n",
       "      <td>0.0</td>\n",
       "    </tr>\n",
       "  </tbody>\n",
       "</table>\n",
       "<p>1 rows × 20532 columns</p>\n",
       "</div>"
      ],
      "text/plain": [
       "              Labels  N:GEXP::?:100130426:  N:GEXP::?:100133144:  \\\n",
       "BRCA                                                               \n",
       "TCGA-3C-AAAU  BRCA_1                   0.0                16.364   \n",
       "\n",
       "              N:GEXP::?:100134869:  N:GEXP::?:10357:  N:GEXP::?:10431:  \\\n",
       "BRCA                                                                     \n",
       "TCGA-3C-AAAU                12.932             52.15            408.08   \n",
       "\n",
       "              N:GEXP::?:136542:  N:GEXP::?:155060:  N:GEXP::?:26823:  \\\n",
       "BRCA                                                                   \n",
       "TCGA-3C-AAAU                  0             1187.0               0.0   \n",
       "\n",
       "              N:GEXP::?:280660:  ...  N:GEXP::ZXDA:7789:  \\\n",
       "BRCA                             ...                       \n",
       "TCGA-3C-AAAU                0.0  ...              129.59   \n",
       "\n",
       "              N:GEXP::ZXDB:158586:  N:GEXP::ZXDC:79364:  \\\n",
       "BRCA                                                      \n",
       "TCGA-3C-AAAU                1007.8               1658.5   \n",
       "\n",
       "              N:GEXP::ZYG11A:440590:  N:GEXP::ZYG11B:79699:  \\\n",
       "BRCA                                                          \n",
       "TCGA-3C-AAAU                  258.49                 1208.4   \n",
       "\n",
       "              N:GEXP::ZYX:7791:  N:GEXP::ZZEF1:23140:  N:GEXP::ZZZ3:26009:  \\\n",
       "BRCA                                                                         \n",
       "TCGA-3C-AAAU             3507.2                1894.9               1180.5   \n",
       "\n",
       "              N:GEXP::psiTPTE22:387590:  N:GEXP::tAKR:389932:  \n",
       "BRCA                                                           \n",
       "TCGA-3C-AAAU                     1.7233                   0.0  \n",
       "\n",
       "[1 rows x 20532 columns]"
      ]
     },
     "execution_count": 10,
     "metadata": {},
     "output_type": "execute_result"
    }
   ],
   "source": [
    "file.head(1)"
   ]
  },
  {
   "cell_type": "code",
   "execution_count": 15,
   "id": "99809d65-93da-45c5-bb01-5e3c84977cda",
   "metadata": {},
   "outputs": [
    {
     "data": {
      "text/plain": [
       "(995, 20532)"
      ]
     },
     "execution_count": 15,
     "metadata": {},
     "output_type": "execute_result"
    }
   ],
   "source": [
    "file.shape"
   ]
  },
  {
   "cell_type": "markdown",
   "id": "cbfdb698-282d-4dbc-a5e3-545201d02d48",
   "metadata": {
    "tags": []
   },
   "source": [
    "### Histograms"
   ]
  },
  {
   "cell_type": "code",
   "execution_count": 16,
   "id": "e169ab58-5c18-4a6f-a9e8-cc84b26d1c53",
   "metadata": {},
   "outputs": [],
   "source": [
    "import matplotlib.pyplot as plt\n",
    "import numpy as np\n",
    "from matplotlib import colors\n",
    "from matplotlib.ticker import PercentFormatter\n",
    "\n",
    "# Create a random number generator with a fixed seed for reproducibility\n",
    "rng = np.random.default_rng(19680801)"
   ]
  },
  {
   "cell_type": "code",
   "execution_count": 17,
   "id": "413b5d2f-5515-4422-80e5-a15fcd0c4ee7",
   "metadata": {
    "tags": []
   },
   "outputs": [
    {
     "data": {
      "text/plain": [
       "(array([2.0000e+00, 2.1000e+01, 5.1000e+01, 2.3500e+02, 7.8100e+02,\n",
       "        2.1000e+03, 4.5730e+03, 8.3390e+03, 1.2758e+04, 1.6363e+04,\n",
       "        1.7345e+04, 1.4923e+04, 1.0920e+04, 6.4830e+03, 3.1070e+03,\n",
       "        1.3810e+03, 4.5300e+02, 1.2200e+02, 3.6000e+01, 7.0000e+00]),\n",
       " array([3.20889223, 3.38336526, 3.55783829, 3.73231132, 3.90678435,\n",
       "        4.08125738, 4.25573041, 4.43020344, 4.60467647, 4.7791495 ,\n",
       "        4.95362253, 5.12809556, 5.30256859, 5.47704162, 5.65151465,\n",
       "        5.82598768, 6.00046071, 6.17493374, 6.34940677, 6.5238798 ,\n",
       "        6.69835283]),\n",
       " <BarContainer object of 20 artists>)"
      ]
     },
     "execution_count": 17,
     "metadata": {},
     "output_type": "execute_result"
    },
    {
     "data": {
      "image/png": "[encoded data removed]",
      "text/plain": [
       "<Figure size 432x288 with 2 Axes>"
      ]
     },
     "metadata": {
      "needs_background": "light"
     },
     "output_type": "display_data"
    }
   ],
   "source": [
    "N_points = 100000\n",
    "n_bins = 20\n",
    "\n",
    "# Generate two normal distributions\n",
    "dist1 = rng.standard_normal(N_points)\n",
    "dist2 = 0.4 * rng.standard_normal(N_points) + 5\n",
    "\n",
    "fig, axs = plt.subplots(1, 2, sharey=True, tight_layout=True)\n",
    "\n",
    "# We can set the number of bins with the *bins* keyword argument.\n",
    "axs[0].hist(dist1, bins=n_bins)\n",
    "axs[1].hist(dist2, bins=n_bins)"
   ]
  },
  {
   "cell_type": "code",
   "execution_count": 22,
   "id": "e95ac70b-5898-4143-a5a8-c8404d8624dd",
   "metadata": {},
   "outputs": [
    {
     "data": {
      "text/plain": [
       "array([-0.98584721,  0.05040332,  0.96828412, ..., -0.0276232 ,\n",
       "        1.18599853,  0.48812025])"
      ]
     },
     "execution_count": 22,
     "metadata": {},
     "output_type": "execute_result"
    }
   ],
   "source": [
    "dist1"
   ]
  },
  {
   "cell_type": "code",
   "execution_count": 19,
   "id": "7451a486-27af-4240-b1ab-37d9248e86f1",
   "metadata": {},
   "outputs": [
    {
     "data": {
      "text/plain": [
       "(100000,)"
      ]
     },
     "execution_count": 19,
     "metadata": {},
     "output_type": "execute_result"
    }
   ],
   "source": [
    "dist1.shape"
   ]
  },
  {
   "cell_type": "code",
   "execution_count": 34,
   "id": "7d4459d9-e763-4683-a61f-e6cbd39cd816",
   "metadata": {},
   "outputs": [
    {
     "data": {
      "text/plain": [
       "8191869"
      ]
     },
     "execution_count": 34,
     "metadata": {},
     "output_type": "execute_result"
    }
   ],
   "source": [
    "len(row_lst)"
   ]
  },
  {
   "cell_type": "code",
   "execution_count": 42,
   "id": "938aa7bf-9367-4366-b361-61921e9edbe3",
   "metadata": {},
   "outputs": [
    {
     "data": {
      "text/plain": [
       "8191869"
      ]
     },
     "execution_count": 42,
     "metadata": {},
     "output_type": "execute_result"
    }
   ],
   "source": [
    "399*20531"
   ]
  },
  {
   "cell_type": "code",
   "execution_count": null,
   "id": "a63416ac-e765-42b5-8d6f-3f1a65d38158",
   "metadata": {
    "tags": []
   },
   "outputs": [],
   "source": [
    "row_lst"
   ]
  },
  {
   "cell_type": "code",
   "execution_count": 32,
   "id": "4b0d45ce-581f-4afa-acd1-9bc6278811b3",
   "metadata": {
    "tags": []
   },
   "outputs": [],
   "source": [
    "row_lst = []\n",
    "for i, row_idx in enumerate(blca.index):\n",
    "    row = blca.iloc[i, 1:]\n",
    "    row_lst = row_lst + list(row)\n",
    "    # print(row)\n",
    "    # break"
   ]
  },
  {
   "cell_type": "code",
   "execution_count": 33,
   "id": "b1eaeb3d-29c7-49ef-8fe2-244c3a1a79c0",
   "metadata": {
    "tags": []
   },
   "outputs": [
    {
     "data": {
      "text/plain": [
       "(array([8.188296e+06, 2.747000e+03, 4.750000e+02, 1.720000e+02,\n",
       "        7.400000e+01, 3.100000e+01, 2.800000e+01, 1.300000e+01,\n",
       "        9.000000e+00, 7.000000e+00, 4.000000e+00, 3.000000e+00,\n",
       "        3.000000e+00, 1.000000e+00, 0.000000e+00, 2.000000e+00,\n",
       "        0.000000e+00, 0.000000e+00, 2.000000e+00, 1.000000e+00,\n",
       "        0.000000e+00, 0.000000e+00, 0.000000e+00, 0.000000e+00,\n",
       "        0.000000e+00, 0.000000e+00, 0.000000e+00, 0.000000e+00,\n",
       "        0.000000e+00, 1.000000e+00]),\n",
       " array([      0.        ,   80943.33333333,  161886.66666667,\n",
       "         242830.        ,  323773.33333333,  404716.66666667,\n",
       "         485660.        ,  566603.33333333,  647546.66666667,\n",
       "         728490.        ,  809433.33333333,  890376.66666667,\n",
       "         971320.        , 1052263.33333333, 1133206.66666667,\n",
       "        1214150.        , 1295093.33333333, 1376036.66666667,\n",
       "        1456980.        , 1537923.33333333, 1618866.66666667,\n",
       "        1699810.        , 1780753.33333333, 1861696.66666667,\n",
       "        1942640.        , 2023583.33333333, 2104526.66666667,\n",
       "        2185470.        , 2266413.33333333, 2347356.66666667,\n",
       "        2428300.        ]),\n",
       " <BarContainer object of 30 artists>)"
      ]
     },
     "execution_count": 33,
     "metadata": {},
     "output_type": "execute_result"
    },
    {
     "data": {
      "image/png": "[encoded data removed]",
      "text/plain": [
       "<Figure size 432x288 with 2 Axes>"
      ]
     },
     "metadata": {
      "needs_background": "light"
     },
     "output_type": "display_data"
    }
   ],
   "source": [
    "fig, axs = plt.subplots(1, 2, sharey=True, tight_layout=True)\n",
    "axs[0].hist(row_lst, bins=30)"
   ]
  },
  {
   "cell_type": "code",
   "execution_count": 37,
   "id": "ff5ecb39-3c31-4e0b-9c91-41a112889335",
   "metadata": {},
   "outputs": [],
   "source": [
    "import scipy"
   ]
  },
  {
   "cell_type": "code",
   "execution_count": 38,
   "id": "92f81a4e-4918-4199-b29c-0230b8fab594",
   "metadata": {},
   "outputs": [
    {
     "data": {
      "text/plain": [
       "DescribeResult(nobs=8191869, minmax=(0.0, 2428300.0), mean=970.4641287884241, variance=23542200.880028173, skewness=75.16590364480143, kurtosis=17232.19879738149)"
      ]
     },
     "execution_count": 38,
     "metadata": {},
     "output_type": "execute_result"
    }
   ],
   "source": [
    "scipy.stats.describe(row_lst)"
   ]
  },
  {
   "cell_type": "markdown",
   "id": "a8e2676e-1ffa-4dcd-a8de-ec74ec570b39",
   "metadata": {},
   "source": [
    "### Outlier clipping"
   ]
  },
  {
   "cell_type": "code",
   "execution_count": null,
   "id": "b20bcb7a-1a34-4d76-88bd-55942b863f35",
   "metadata": {},
   "outputs": [],
   "source": [
    "# keep these in a table, write table\n",
    "\n",
    "    # write companion figures (histograms)\n",
    "\n",
    "    # write files and send to one drive\n",
    "    \n",
    "    # target dir is normalized_data/square for 2D\n",
    "        # and normalized_data/flat for 1D\n",
    "    \n",
    "    # BLCA and BRCA - 2, start with bladder all the way through MinMax\n",
    "    # square and oneD - 2\n",
    "    \n",
    "        # raw - done, in MinMax, Xs are arrarys, ys are .tsvs\n",
    "            # bladder, done with minmax\n",
    "        \n",
    "        # clip at 1M - \n",
    "        # clip at 100k\n",
    "        # clip at 10k\n",
    "        # clip at 1k\n",
    "        # clip at 500\n",
    "        # clip at 250\n",
    "        \n",
    "        # log transform\n",
    "        # log above 1k\n",
    "        \n",
    "        # clip log combinations\n",
    "        \n",
    "    # all of the above should be MinMaxed\n",
    "    \n",
    "    # and Robust scaled\n",
    "    \n",
    "        # sequence of fit, transform, and fit_transform\n",
    "        https://datascience.stackexchange.com/questions/54908/data-normalization-before-or-after-train-test-split\n",
    "        \n",
    "        # Norming before split is information leakage to test from train"
   ]
  },
  {
   "cell_type": "code",
   "execution_count": null,
   "id": "1869d027-95e7-4262-b81a-44bfb81e3dae",
   "metadata": {},
   "outputs": [],
   "source": [
    "# wrapped versions in line with flat versions (?)"
   ]
  },
  {
   "cell_type": "markdown",
   "id": "649b34da-3cb8-4b65-9339-7349f9245eb2",
   "metadata": {
    "jp-MarkdownHeadingCollapsed": true,
    "tags": []
   },
   "source": [
    "#### BLCA MinMax flat, x and y (control)"
   ]
  },
  {
   "cell_type": "code",
   "execution_count": 61,
   "id": "e7461526-9805-4c97-956b-9749e8792b1f",
   "metadata": {},
   "outputs": [],
   "source": [
    "cohort = 'BLCA'\n",
    "d_shape = 'flat' # or square\n",
    "out_cut = 'no_otlr_cut'\n",
    "method = 'MinMax' # already know its flat by the dir, should probaly just name\n",
    "Xy = 'X'\n",
    "\n",
    "train, test = train_test_split(blca)\n",
    "scaler = MinMaxScaler()\n",
    "\n",
    "# Train\n",
    "train_norm = pd.DataFrame( # check, all train\n",
    "    scaler.fit_transform(train.iloc[:, 1:]), # check, fit\n",
    "    columns = train.columns[1:],\n",
    "    index = train.index)\n",
    "train_norm.to_csv('normalized_data/flat/'+cohort+'_X_train_'+d_shape+'_'+out_cut+'_'+method+'.tsv', sep = '\\t')\n",
    "\n",
    "train_y = pd.DataFrame(train.Labels)\n",
    "train_y.to_csv('normalized_data/flat/'+cohort+'_y_train_'+d_shape+'_'+out_cut+'_'+method+'.tsv', sep = '\\t')\n",
    "\n",
    "# Test\n",
    "test_norm = pd.DataFrame( # check, all test\n",
    "    scaler.transform(test.iloc[:, 1:]), # check, fit\n",
    "    columns = test.columns[1:],\n",
    "    index = test.index)\n",
    "test_norm.to_csv('normalized_data/flat/'+cohort+'_X_test_'+d_shape+'_'+out_cut+'_'+method+'.tsv', sep = '\\t')\n",
    "\n",
    "test_y = pd.DataFrame(test.Labels)\n",
    "test_y.to_csv('normalized_data/flat/'+cohort+'_y_test_'+d_shape+'_'+out_cut+'_'+method+'.tsv', sep = '\\t')"
   ]
  },
  {
   "cell_type": "markdown",
   "id": "b59a028f-e374-4569-89ed-3abd4b8c7938",
   "metadata": {
    "jp-MarkdownHeadingCollapsed": true,
    "tags": []
   },
   "source": [
    "#### BLCA 1M otlr cut MinMax flat"
   ]
  },
  {
   "cell_type": "code",
   "execution_count": 121,
   "id": "8d5dbfe5-767b-4948-a1d7-22d63e6c71db",
   "metadata": {},
   "outputs": [],
   "source": [
    "cohort = 'BLCA'\n",
    "d_shape = 'flat' # or square\n",
    "out_cut = '1M_otlr_cut' # wont overwrite uncut files\n",
    "method = 'MinMax' # already know its flat by the dir, should probaly just name\n",
    "\n",
    "otlr_thresh = 1000000\n",
    "\n",
    "train, test = train_test_split(blca)\n",
    "\n",
    "train_y = pd.DataFrame(train.Labels)\n",
    "train_y.to_csv('normalized_data/flat/'+cohort+'_y_train_'+d_shape+'_'+out_cut+'_'+method+'.tsv', sep = '\\t')\n",
    "\n",
    "test_y = pd.DataFrame(test.Labels)\n",
    "test_y.to_csv('normalized_data/flat/'+cohort+'_y_test_'+d_shape+'_'+out_cut+'_'+method+'.tsv', sep = '\\t')\n",
    "\n",
    "scaler = MinMaxScaler()\n",
    "\n",
    "# Train\n",
    "train.drop(columns = 'Labels', inplace = True)\n",
    "train.mask(train > otlr_thresh, otlr_thresh, inplace = True)\n",
    "train_norm = pd.DataFrame( # check, all train\n",
    "    scaler.fit_transform(train.iloc[:, 1:]), # check, fit\n",
    "    columns = train.columns[1:],\n",
    "    index = train.index)\n",
    "train_norm.to_csv('normalized_data/flat/'+cohort+'_X_train_'+d_shape+'_'+out_cut+'_'+method+'.tsv', sep = '\\t')\n",
    "\n",
    "# Test\n",
    "test.drop(columns = 'Labels', inplace = True)\n",
    "test.mask(train > otlr_thresh, otlr_thresh, inplace = True)\n",
    "test_norm = pd.DataFrame( # check, all test\n",
    "    scaler.transform(test.iloc[:, 1:]), # check, fit\n",
    "    columns = test.columns[1:],\n",
    "    index = test.index)\n",
    "test_norm.to_csv('normalized_data/flat/'+cohort+'_X_test_'+d_shape+'_'+out_cut+'_'+method+'.tsv', sep = '\\t')"
   ]
  },
  {
   "cell_type": "markdown",
   "id": "d56ea206-d0c1-4b64-a8a0-67b6805127a3",
   "metadata": {
    "jp-MarkdownHeadingCollapsed": true,
    "tags": []
   },
   "source": [
    "##### outlier devel"
   ]
  },
  {
   "cell_type": "code",
   "execution_count": 118,
   "id": "38312d81-3ad2-4526-bf18-34e1aa1ec4db",
   "metadata": {
    "tags": []
   },
   "outputs": [],
   "source": [
    "train.drop(columns = 'Labels', inplace = True)"
   ]
  },
  {
   "cell_type": "code",
   "execution_count": 119,
   "id": "0edeaed6-af42-4879-9c03-f27be291eefd",
   "metadata": {},
   "outputs": [],
   "source": [
    "train.mask(train > 1000000, 1000000, inplace = True)"
   ]
  },
  {
   "cell_type": "code",
   "execution_count": 120,
   "id": "917ce238-cb9f-4bdc-90e4-1f872160822f",
   "metadata": {},
   "outputs": [
    {
     "data": {
      "text/plain": [
       "1000000.0"
      ]
     },
     "execution_count": 120,
     "metadata": {},
     "output_type": "execute_result"
    }
   ],
   "source": [
    "train.max().max()"
   ]
  },
  {
   "cell_type": "code",
   "execution_count": null,
   "id": "395302bf-1a9c-41a8-b865-008d1693282d",
   "metadata": {},
   "outputs": [],
   "source": [
    ".mask(blca > 1000000, 1000000)"
   ]
  },
  {
   "cell_type": "code",
   "execution_count": 116,
   "id": "95464156-203a-4502-9495-c42478ab1b28",
   "metadata": {
    "tags": []
   },
   "outputs": [
    {
     "data": {
      "text/plain": [
       "2428300.0"
      ]
     },
     "execution_count": 116,
     "metadata": {},
     "output_type": "execute_result"
    }
   ],
   "source": [
    "train.drop(columns = 'Labels').max().max()"
   ]
  },
  {
   "cell_type": "code",
   "execution_count": 108,
   "id": "6acfc344-672b-413f-87b0-b56be565b834",
   "metadata": {},
   "outputs": [],
   "source": [
    "train, test = train_test_split(blca)"
   ]
  },
  {
   "cell_type": "code",
   "execution_count": 111,
   "id": "b799263b-08b2-4c36-be5a-d6c4fb7ca415",
   "metadata": {
    "tags": []
   },
   "outputs": [
    {
     "data": {
      "text/plain": [
       "2428300.0"
      ]
     },
     "execution_count": 111,
     "metadata": {},
     "output_type": "execute_result"
    }
   ],
   "source": [
    "train.iloc[:,1:].max().max()"
   ]
  },
  {
   "cell_type": "code",
   "execution_count": 112,
   "id": "3086d80c-9ab1-455a-af60-1adc7c30f2a7",
   "metadata": {
    "tags": []
   },
   "outputs": [
    {
     "data": {
      "text/plain": [
       "1256300.0"
      ]
     },
     "execution_count": 112,
     "metadata": {},
     "output_type": "execute_result"
    }
   ],
   "source": [
    "test.iloc[:,1:].max().max()"
   ]
  },
  {
   "cell_type": "code",
   "execution_count": 104,
   "id": "fd341231-f9dd-4521-bdf1-5a826bf07eae",
   "metadata": {},
   "outputs": [
    {
     "data": {
      "text/plain": [
       "2428300.0"
      ]
     },
     "execution_count": 104,
     "metadata": {},
     "output_type": "execute_result"
    }
   ],
   "source": [
    "blca.iloc[:,1:].max().max()"
   ]
  },
  {
   "cell_type": "code",
   "execution_count": 97,
   "id": "c294d370-b1bf-4a52-8ac4-8127683af669",
   "metadata": {},
   "outputs": [],
   "source": [
    "blcaX = blca.iloc[:,1:].copy()"
   ]
  },
  {
   "cell_type": "code",
   "execution_count": 87,
   "id": "738f2f10-0a49-490a-a231-5de069627eeb",
   "metadata": {},
   "outputs": [
    {
     "data": {
      "text/plain": [
       "2428300.0"
      ]
     },
     "execution_count": 87,
     "metadata": {},
     "output_type": "execute_result"
    }
   ],
   "source": [
    "blcaX.max().max()"
   ]
  },
  {
   "cell_type": "code",
   "execution_count": 107,
   "id": "3a6e89c8-f3f1-4c63-a053-7eef0b318490",
   "metadata": {
    "collapsed": true,
    "jupyter": {
     "outputs_hidden": true
    },
    "tags": []
   },
   "outputs": [
    {
     "ename": "TypeError",
     "evalue": "'>' not supported between instances of 'str' and 'int'",
     "output_type": "error",
     "traceback": [
      "\u001b[0;31m---------------------------------------------------------------------------\u001b[0m",
      "\u001b[0;31mTypeError\u001b[0m                                 Traceback (most recent call last)",
      "\u001b[0;32m/var/folders/5v/88tvwqd94gs4dfr3h6rt1_w0qd13bg/T/ipykernel_37899/3821988737.py\u001b[0m in \u001b[0;36m<module>\u001b[0;34m\u001b[0m\n\u001b[0;32m----> 1\u001b[0;31m \u001b[0mblca\u001b[0m\u001b[0;34m.\u001b[0m\u001b[0miloc\u001b[0m\u001b[0;34m[\u001b[0m\u001b[0;34m:\u001b[0m\u001b[0;34m,\u001b[0m\u001b[0;36m1\u001b[0m\u001b[0;34m:\u001b[0m\u001b[0;34m]\u001b[0m\u001b[0;34m.\u001b[0m\u001b[0mmask\u001b[0m\u001b[0;34m(\u001b[0m\u001b[0mblca\u001b[0m \u001b[0;34m>\u001b[0m \u001b[0;36m1000000\u001b[0m\u001b[0;34m,\u001b[0m \u001b[0;36m1000000\u001b[0m\u001b[0;34m)\u001b[0m\u001b[0;34m\u001b[0m\u001b[0;34m\u001b[0m\u001b[0m\n\u001b[0m",
      "\u001b[0;32m~/opt/anaconda3/lib/python3.9/site-packages/pandas/core/ops/common.py\u001b[0m in \u001b[0;36mnew_method\u001b[0;34m(self, other)\u001b[0m\n\u001b[1;32m     67\u001b[0m         \u001b[0mother\u001b[0m \u001b[0;34m=\u001b[0m \u001b[0mitem_from_zerodim\u001b[0m\u001b[0;34m(\u001b[0m\u001b[0mother\u001b[0m\u001b[0;34m)\u001b[0m\u001b[0;34m\u001b[0m\u001b[0;34m\u001b[0m\u001b[0m\n\u001b[1;32m     68\u001b[0m \u001b[0;34m\u001b[0m\u001b[0m\n\u001b[0;32m---> 69\u001b[0;31m         \u001b[0;32mreturn\u001b[0m \u001b[0mmethod\u001b[0m\u001b[0;34m(\u001b[0m\u001b[0mself\u001b[0m\u001b[0;34m,\u001b[0m \u001b[0mother\u001b[0m\u001b[0;34m)\u001b[0m\u001b[0;34m\u001b[0m\u001b[0;34m\u001b[0m\u001b[0m\n\u001b[0m\u001b[1;32m     70\u001b[0m \u001b[0;34m\u001b[0m\u001b[0m\n\u001b[1;32m     71\u001b[0m     \u001b[0;32mreturn\u001b[0m \u001b[0mnew_method\u001b[0m\u001b[0;34m\u001b[0m\u001b[0;34m\u001b[0m\u001b[0m\n",
      "\u001b[0;32m~/opt/anaconda3/lib/python3.9/site-packages/pandas/core/arraylike.py\u001b[0m in \u001b[0;36m__gt__\u001b[0;34m(self, other)\u001b[0m\n\u001b[1;32m     46\u001b[0m     \u001b[0;34m@\u001b[0m\u001b[0munpack_zerodim_and_defer\u001b[0m\u001b[0;34m(\u001b[0m\u001b[0;34m\"__gt__\"\u001b[0m\u001b[0;34m)\u001b[0m\u001b[0;34m\u001b[0m\u001b[0;34m\u001b[0m\u001b[0m\n\u001b[1;32m     47\u001b[0m     \u001b[0;32mdef\u001b[0m \u001b[0m__gt__\u001b[0m\u001b[0;34m(\u001b[0m\u001b[0mself\u001b[0m\u001b[0;34m,\u001b[0m \u001b[0mother\u001b[0m\u001b[0;34m)\u001b[0m\u001b[0;34m:\u001b[0m\u001b[0;34m\u001b[0m\u001b[0;34m\u001b[0m\u001b[0m\n\u001b[0;32m---> 48\u001b[0;31m         \u001b[0;32mreturn\u001b[0m \u001b[0mself\u001b[0m\u001b[0;34m.\u001b[0m\u001b[0m_cmp_method\u001b[0m\u001b[0;34m(\u001b[0m\u001b[0mother\u001b[0m\u001b[0;34m,\u001b[0m \u001b[0moperator\u001b[0m\u001b[0;34m.\u001b[0m\u001b[0mgt\u001b[0m\u001b[0;34m)\u001b[0m\u001b[0;34m\u001b[0m\u001b[0;34m\u001b[0m\u001b[0m\n\u001b[0m\u001b[1;32m     49\u001b[0m \u001b[0;34m\u001b[0m\u001b[0m\n\u001b[1;32m     50\u001b[0m     \u001b[0;34m@\u001b[0m\u001b[0munpack_zerodim_and_defer\u001b[0m\u001b[0;34m(\u001b[0m\u001b[0;34m\"__ge__\"\u001b[0m\u001b[0;34m)\u001b[0m\u001b[0;34m\u001b[0m\u001b[0;34m\u001b[0m\u001b[0m\n",
      "\u001b[0;32m~/opt/anaconda3/lib/python3.9/site-packages/pandas/core/frame.py\u001b[0m in \u001b[0;36m_cmp_method\u001b[0;34m(self, other, op)\u001b[0m\n\u001b[1;32m   6852\u001b[0m \u001b[0;34m\u001b[0m\u001b[0m\n\u001b[1;32m   6853\u001b[0m         \u001b[0;31m# See GH#4537 for discussion of scalar op behavior\u001b[0m\u001b[0;34m\u001b[0m\u001b[0;34m\u001b[0m\u001b[0m\n\u001b[0;32m-> 6854\u001b[0;31m         \u001b[0mnew_data\u001b[0m \u001b[0;34m=\u001b[0m \u001b[0mself\u001b[0m\u001b[0;34m.\u001b[0m\u001b[0m_dispatch_frame_op\u001b[0m\u001b[0;34m(\u001b[0m\u001b[0mother\u001b[0m\u001b[0;34m,\u001b[0m \u001b[0mop\u001b[0m\u001b[0;34m,\u001b[0m \u001b[0maxis\u001b[0m\u001b[0;34m=\u001b[0m\u001b[0maxis\u001b[0m\u001b[0;34m)\u001b[0m\u001b[0;34m\u001b[0m\u001b[0;34m\u001b[0m\u001b[0m\n\u001b[0m\u001b[1;32m   6855\u001b[0m         \u001b[0;32mreturn\u001b[0m \u001b[0mself\u001b[0m\u001b[0;34m.\u001b[0m\u001b[0m_construct_result\u001b[0m\u001b[0;34m(\u001b[0m\u001b[0mnew_data\u001b[0m\u001b[0;34m)\u001b[0m\u001b[0;34m\u001b[0m\u001b[0;34m\u001b[0m\u001b[0m\n\u001b[1;32m   6856\u001b[0m \u001b[0;34m\u001b[0m\u001b[0m\n",
      "\u001b[0;32m~/opt/anaconda3/lib/python3.9/site-packages/pandas/core/frame.py\u001b[0m in \u001b[0;36m_dispatch_frame_op\u001b[0;34m(self, right, func, axis)\u001b[0m\n\u001b[1;32m   6891\u001b[0m             \u001b[0;31m# i.e. scalar, faster than checking np.ndim(right) == 0\u001b[0m\u001b[0;34m\u001b[0m\u001b[0;34m\u001b[0m\u001b[0m\n\u001b[1;32m   6892\u001b[0m             \u001b[0;32mwith\u001b[0m \u001b[0mnp\u001b[0m\u001b[0;34m.\u001b[0m\u001b[0merrstate\u001b[0m\u001b[0;34m(\u001b[0m\u001b[0mall\u001b[0m\u001b[0;34m=\u001b[0m\u001b[0;34m\"ignore\"\u001b[0m\u001b[0;34m)\u001b[0m\u001b[0;34m:\u001b[0m\u001b[0;34m\u001b[0m\u001b[0;34m\u001b[0m\u001b[0m\n\u001b[0;32m-> 6893\u001b[0;31m                 \u001b[0mbm\u001b[0m \u001b[0;34m=\u001b[0m \u001b[0mself\u001b[0m\u001b[0;34m.\u001b[0m\u001b[0m_mgr\u001b[0m\u001b[0;34m.\u001b[0m\u001b[0mapply\u001b[0m\u001b[0;34m(\u001b[0m\u001b[0marray_op\u001b[0m\u001b[0;34m,\u001b[0m \u001b[0mright\u001b[0m\u001b[0;34m=\u001b[0m\u001b[0mright\u001b[0m\u001b[0;34m)\u001b[0m\u001b[0;34m\u001b[0m\u001b[0;34m\u001b[0m\u001b[0m\n\u001b[0m\u001b[1;32m   6894\u001b[0m             \u001b[0;32mreturn\u001b[0m \u001b[0mtype\u001b[0m\u001b[0;34m(\u001b[0m\u001b[0mself\u001b[0m\u001b[0;34m)\u001b[0m\u001b[0;34m(\u001b[0m\u001b[0mbm\u001b[0m\u001b[0;34m)\u001b[0m\u001b[0;34m\u001b[0m\u001b[0;34m\u001b[0m\u001b[0m\n\u001b[1;32m   6895\u001b[0m \u001b[0;34m\u001b[0m\u001b[0m\n",
      "\u001b[0;32m~/opt/anaconda3/lib/python3.9/site-packages/pandas/core/internals/managers.py\u001b[0m in \u001b[0;36mapply\u001b[0;34m(self, f, align_keys, ignore_failures, **kwargs)\u001b[0m\n\u001b[1;32m    323\u001b[0m             \u001b[0;32mtry\u001b[0m\u001b[0;34m:\u001b[0m\u001b[0;34m\u001b[0m\u001b[0;34m\u001b[0m\u001b[0m\n\u001b[1;32m    324\u001b[0m                 \u001b[0;32mif\u001b[0m \u001b[0mcallable\u001b[0m\u001b[0;34m(\u001b[0m\u001b[0mf\u001b[0m\u001b[0;34m)\u001b[0m\u001b[0;34m:\u001b[0m\u001b[0;34m\u001b[0m\u001b[0;34m\u001b[0m\u001b[0m\n\u001b[0;32m--> 325\u001b[0;31m                     \u001b[0mapplied\u001b[0m \u001b[0;34m=\u001b[0m \u001b[0mb\u001b[0m\u001b[0;34m.\u001b[0m\u001b[0mapply\u001b[0m\u001b[0;34m(\u001b[0m\u001b[0mf\u001b[0m\u001b[0;34m,\u001b[0m \u001b[0;34m**\u001b[0m\u001b[0mkwargs\u001b[0m\u001b[0;34m)\u001b[0m\u001b[0;34m\u001b[0m\u001b[0;34m\u001b[0m\u001b[0m\n\u001b[0m\u001b[1;32m    326\u001b[0m                 \u001b[0;32melse\u001b[0m\u001b[0;34m:\u001b[0m\u001b[0;34m\u001b[0m\u001b[0;34m\u001b[0m\u001b[0m\n\u001b[1;32m    327\u001b[0m                     \u001b[0mapplied\u001b[0m \u001b[0;34m=\u001b[0m \u001b[0mgetattr\u001b[0m\u001b[0;34m(\u001b[0m\u001b[0mb\u001b[0m\u001b[0;34m,\u001b[0m \u001b[0mf\u001b[0m\u001b[0;34m)\u001b[0m\u001b[0;34m(\u001b[0m\u001b[0;34m**\u001b[0m\u001b[0mkwargs\u001b[0m\u001b[0;34m)\u001b[0m\u001b[0;34m\u001b[0m\u001b[0;34m\u001b[0m\u001b[0m\n",
      "\u001b[0;32m~/opt/anaconda3/lib/python3.9/site-packages/pandas/core/internals/blocks.py\u001b[0m in \u001b[0;36mapply\u001b[0;34m(self, func, **kwargs)\u001b[0m\n\u001b[1;32m    379\u001b[0m         \"\"\"\n\u001b[1;32m    380\u001b[0m         \u001b[0;32mwith\u001b[0m \u001b[0mnp\u001b[0m\u001b[0;34m.\u001b[0m\u001b[0merrstate\u001b[0m\u001b[0;34m(\u001b[0m\u001b[0mall\u001b[0m\u001b[0;34m=\u001b[0m\u001b[0;34m\"ignore\"\u001b[0m\u001b[0;34m)\u001b[0m\u001b[0;34m:\u001b[0m\u001b[0;34m\u001b[0m\u001b[0;34m\u001b[0m\u001b[0m\n\u001b[0;32m--> 381\u001b[0;31m             \u001b[0mresult\u001b[0m \u001b[0;34m=\u001b[0m \u001b[0mfunc\u001b[0m\u001b[0;34m(\u001b[0m\u001b[0mself\u001b[0m\u001b[0;34m.\u001b[0m\u001b[0mvalues\u001b[0m\u001b[0;34m,\u001b[0m \u001b[0;34m**\u001b[0m\u001b[0mkwargs\u001b[0m\u001b[0;34m)\u001b[0m\u001b[0;34m\u001b[0m\u001b[0;34m\u001b[0m\u001b[0m\n\u001b[0m\u001b[1;32m    382\u001b[0m \u001b[0;34m\u001b[0m\u001b[0m\n\u001b[1;32m    383\u001b[0m         \u001b[0;32mreturn\u001b[0m \u001b[0mself\u001b[0m\u001b[0;34m.\u001b[0m\u001b[0m_split_op_result\u001b[0m\u001b[0;34m(\u001b[0m\u001b[0mresult\u001b[0m\u001b[0;34m)\u001b[0m\u001b[0;34m\u001b[0m\u001b[0;34m\u001b[0m\u001b[0m\n",
      "\u001b[0;32m~/opt/anaconda3/lib/python3.9/site-packages/pandas/core/ops/array_ops.py\u001b[0m in \u001b[0;36mcomparison_op\u001b[0;34m(left, right, op)\u001b[0m\n\u001b[1;32m    282\u001b[0m \u001b[0;34m\u001b[0m\u001b[0m\n\u001b[1;32m    283\u001b[0m     \u001b[0;32melif\u001b[0m \u001b[0mis_object_dtype\u001b[0m\u001b[0;34m(\u001b[0m\u001b[0mlvalues\u001b[0m\u001b[0;34m.\u001b[0m\u001b[0mdtype\u001b[0m\u001b[0;34m)\u001b[0m \u001b[0;32mor\u001b[0m \u001b[0misinstance\u001b[0m\u001b[0;34m(\u001b[0m\u001b[0mrvalues\u001b[0m\u001b[0;34m,\u001b[0m \u001b[0mstr\u001b[0m\u001b[0;34m)\u001b[0m\u001b[0;34m:\u001b[0m\u001b[0;34m\u001b[0m\u001b[0;34m\u001b[0m\u001b[0m\n\u001b[0;32m--> 284\u001b[0;31m         \u001b[0mres_values\u001b[0m \u001b[0;34m=\u001b[0m \u001b[0mcomp_method_OBJECT_ARRAY\u001b[0m\u001b[0;34m(\u001b[0m\u001b[0mop\u001b[0m\u001b[0;34m,\u001b[0m \u001b[0mlvalues\u001b[0m\u001b[0;34m,\u001b[0m \u001b[0mrvalues\u001b[0m\u001b[0;34m)\u001b[0m\u001b[0;34m\u001b[0m\u001b[0;34m\u001b[0m\u001b[0m\n\u001b[0m\u001b[1;32m    285\u001b[0m \u001b[0;34m\u001b[0m\u001b[0m\n\u001b[1;32m    286\u001b[0m     \u001b[0;32melse\u001b[0m\u001b[0;34m:\u001b[0m\u001b[0;34m\u001b[0m\u001b[0;34m\u001b[0m\u001b[0m\n",
      "\u001b[0;32m~/opt/anaconda3/lib/python3.9/site-packages/pandas/core/ops/array_ops.py\u001b[0m in \u001b[0;36mcomp_method_OBJECT_ARRAY\u001b[0;34m(op, x, y)\u001b[0m\n\u001b[1;32m     71\u001b[0m         \u001b[0mresult\u001b[0m \u001b[0;34m=\u001b[0m \u001b[0mlibops\u001b[0m\u001b[0;34m.\u001b[0m\u001b[0mvec_compare\u001b[0m\u001b[0;34m(\u001b[0m\u001b[0mx\u001b[0m\u001b[0;34m.\u001b[0m\u001b[0mravel\u001b[0m\u001b[0;34m(\u001b[0m\u001b[0;34m)\u001b[0m\u001b[0;34m,\u001b[0m \u001b[0my\u001b[0m\u001b[0;34m.\u001b[0m\u001b[0mravel\u001b[0m\u001b[0;34m(\u001b[0m\u001b[0;34m)\u001b[0m\u001b[0;34m,\u001b[0m \u001b[0mop\u001b[0m\u001b[0;34m)\u001b[0m\u001b[0;34m\u001b[0m\u001b[0;34m\u001b[0m\u001b[0m\n\u001b[1;32m     72\u001b[0m     \u001b[0;32melse\u001b[0m\u001b[0;34m:\u001b[0m\u001b[0;34m\u001b[0m\u001b[0;34m\u001b[0m\u001b[0m\n\u001b[0;32m---> 73\u001b[0;31m         \u001b[0mresult\u001b[0m \u001b[0;34m=\u001b[0m \u001b[0mlibops\u001b[0m\u001b[0;34m.\u001b[0m\u001b[0mscalar_compare\u001b[0m\u001b[0;34m(\u001b[0m\u001b[0mx\u001b[0m\u001b[0;34m.\u001b[0m\u001b[0mravel\u001b[0m\u001b[0;34m(\u001b[0m\u001b[0;34m)\u001b[0m\u001b[0;34m,\u001b[0m \u001b[0my\u001b[0m\u001b[0;34m,\u001b[0m \u001b[0mop\u001b[0m\u001b[0;34m)\u001b[0m\u001b[0;34m\u001b[0m\u001b[0;34m\u001b[0m\u001b[0m\n\u001b[0m\u001b[1;32m     74\u001b[0m     \u001b[0;32mreturn\u001b[0m \u001b[0mresult\u001b[0m\u001b[0;34m.\u001b[0m\u001b[0mreshape\u001b[0m\u001b[0;34m(\u001b[0m\u001b[0mx\u001b[0m\u001b[0;34m.\u001b[0m\u001b[0mshape\u001b[0m\u001b[0;34m)\u001b[0m\u001b[0;34m\u001b[0m\u001b[0;34m\u001b[0m\u001b[0m\n\u001b[1;32m     75\u001b[0m \u001b[0;34m\u001b[0m\u001b[0m\n",
      "\u001b[0;32m~/opt/anaconda3/lib/python3.9/site-packages/pandas/_libs/ops.pyx\u001b[0m in \u001b[0;36mpandas._libs.ops.scalar_compare\u001b[0;34m()\u001b[0m\n",
      "\u001b[0;31mTypeError\u001b[0m: '>' not supported between instances of 'str' and 'int'"
     ]
    }
   ],
   "source": [
    "blca.iloc[:,1:].mask(blca > 1000000, 1000000)"
   ]
  },
  {
   "cell_type": "code",
   "execution_count": 101,
   "id": "ccf63b7a-e574-4f3e-9590-88742e5c3a58",
   "metadata": {},
   "outputs": [],
   "source": [
    "blcaX.mask(blcaX > 1000000, 1000000, inplace = True)"
   ]
  },
  {
   "cell_type": "code",
   "execution_count": 105,
   "id": "e093b299-d20c-4a5e-b258-ed2d12c8526d",
   "metadata": {},
   "outputs": [
    {
     "data": {
      "text/plain": [
       "1000000.0"
      ]
     },
     "execution_count": 105,
     "metadata": {},
     "output_type": "execute_result"
    }
   ],
   "source": [
    "blcaX.max().max()"
   ]
  },
  {
   "cell_type": "code",
   "execution_count": null,
   "id": "c87bc6b2-0a8b-4b88-aad1-1d649658ef7b",
   "metadata": {},
   "outputs": [],
   "source": [
    "mask_point = 100000"
   ]
  },
  {
   "cell_type": "markdown",
   "id": "a35d3a7d-8017-46bc-964e-f5e5bb338ca7",
   "metadata": {
    "jp-MarkdownHeadingCollapsed": true,
    "tags": []
   },
   "source": [
    "#### BLCA 100k otlr cut MinMax flat"
   ]
  },
  {
   "cell_type": "code",
   "execution_count": 122,
   "id": "45913fd7-4d99-43bf-adf0-8554f022b9da",
   "metadata": {},
   "outputs": [],
   "source": [
    "cohort = 'BLCA'\n",
    "d_shape = 'flat' # or square\n",
    "out_cut = '100k_otlr_cut' # wont overwrite uncut files\n",
    "method = 'MinMax' # already know its flat by the dir, should probaly just name\n",
    "\n",
    "otlr_thresh = 100000\n",
    "\n",
    "train, test = train_test_split(blca)\n",
    "\n",
    "train_y = pd.DataFrame(train.Labels)\n",
    "train_y.to_csv('normalized_data/flat/'+cohort+'_y_train_'+d_shape+'_'+out_cut+'_'+method+'.tsv', sep = '\\t')\n",
    "\n",
    "test_y = pd.DataFrame(test.Labels)\n",
    "test_y.to_csv('normalized_data/flat/'+cohort+'_y_test_'+d_shape+'_'+out_cut+'_'+method+'.tsv', sep = '\\t')\n",
    "\n",
    "scaler = MinMaxScaler()\n",
    "\n",
    "# Train\n",
    "train.drop(columns = 'Labels', inplace = True)\n",
    "train.mask(train > otlr_thresh, otlr_thresh, inplace = True)\n",
    "train_norm = pd.DataFrame( # check, all train\n",
    "    scaler.fit_transform(train.iloc[:, 1:]), # check, fit\n",
    "    columns = train.columns[1:],\n",
    "    index = train.index)\n",
    "train_norm.to_csv('normalized_data/flat/'+cohort+'_X_train_'+d_shape+'_'+out_cut+'_'+method+'.tsv', sep = '\\t')\n",
    "\n",
    "# Test\n",
    "test.drop(columns = 'Labels', inplace = True)\n",
    "test.mask(train > otlr_thresh, otlr_thresh, inplace = True)\n",
    "test_norm = pd.DataFrame( # check, all test\n",
    "    scaler.transform(test.iloc[:, 1:]), # check, fit\n",
    "    columns = test.columns[1:],\n",
    "    index = test.index)\n",
    "test_norm.to_csv('normalized_data/flat/'+cohort+'_X_test_'+d_shape+'_'+out_cut+'_'+method+'.tsv', sep = '\\t')"
   ]
  },
  {
   "cell_type": "markdown",
   "id": "17cd369d-2bf1-41a1-9f4f-8b152670c557",
   "metadata": {
    "jp-MarkdownHeadingCollapsed": true,
    "tags": []
   },
   "source": [
    "#### BLCA 10k otlr cut MinMax flat"
   ]
  },
  {
   "cell_type": "code",
   "execution_count": 123,
   "id": "99b3846c-50ef-450e-997a-50e0bffb8106",
   "metadata": {
    "jupyter": {
     "source_hidden": true
    },
    "tags": []
   },
   "outputs": [],
   "source": [
    "cohort = 'BLCA'\n",
    "d_shape = 'flat' # or square\n",
    "out_cut = '10k_otlr_cut' # wont overwrite uncut files\n",
    "method = 'MinMax' # already know its flat by the dir, should probaly just name\n",
    "\n",
    "otlr_thresh = 10000\n",
    "\n",
    "train, test = train_test_split(blca)\n",
    "\n",
    "train_y = pd.DataFrame(train.Labels)\n",
    "train_y.to_csv('normalized_data/flat/'+cohort+'_y_train_'+d_shape+'_'+out_cut+'_'+method+'.tsv', sep = '\\t')\n",
    "\n",
    "test_y = pd.DataFrame(test.Labels)\n",
    "test_y.to_csv('normalized_data/flat/'+cohort+'_y_test_'+d_shape+'_'+out_cut+'_'+method+'.tsv', sep = '\\t')\n",
    "\n",
    "scaler = MinMaxScaler()\n",
    "\n",
    "# Train\n",
    "train.drop(columns = 'Labels', inplace = True)\n",
    "train.mask(train > otlr_thresh, otlr_thresh, inplace = True)\n",
    "train_norm = pd.DataFrame( # check, all train\n",
    "    scaler.fit_transform(train.iloc[:, 1:]), # check, fit\n",
    "    columns = train.columns[1:],\n",
    "    index = train.index)\n",
    "train_norm.to_csv('normalized_data/flat/'+cohort+'_X_train_'+d_shape+'_'+out_cut+'_'+method+'.tsv', sep = '\\t')\n",
    "\n",
    "# Test\n",
    "test.drop(columns = 'Labels', inplace = True)\n",
    "test.mask(train > otlr_thresh, otlr_thresh, inplace = True)\n",
    "test_norm = pd.DataFrame( # check, all test\n",
    "    scaler.transform(test.iloc[:, 1:]), # check, fit\n",
    "    columns = test.columns[1:],\n",
    "    index = test.index)\n",
    "test_norm.to_csv('normalized_data/flat/'+cohort+'_X_test_'+d_shape+'_'+out_cut+'_'+method+'.tsv', sep = '\\t')"
   ]
  },
  {
   "cell_type": "markdown",
   "id": "25bd973e-f466-4fd2-90b2-49ebf4c3d710",
   "metadata": {
    "jp-MarkdownHeadingCollapsed": true,
    "tags": []
   },
   "source": [
    "#### BLCA 1k otlr cut MinMax flat"
   ]
  },
  {
   "cell_type": "code",
   "execution_count": null,
   "id": "5322efac-1e95-4939-bc2b-7e6e61c8422e",
   "metadata": {
    "jupyter": {
     "source_hidden": true
    },
    "tags": []
   },
   "outputs": [],
   "source": [
    "cohort = 'BLCA'\n",
    "d_shape = 'flat' # or square\n",
    "out_cut = '1k_otlr_cut' # wont overwrite uncut files\n",
    "method = 'MinMax' # already know its flat by the dir, should probaly just name\n",
    "\n",
    "otlr_thresh = 1000\n",
    "\n",
    "train, test = train_test_split(blca)\n",
    "\n",
    "train_y = pd.DataFrame(train.Labels)\n",
    "train_y.to_csv('normalized_data/flat/'+cohort+'_y_train_'+d_shape+'_'+out_cut+'_'+method+'.tsv', sep = '\\t')\n",
    "\n",
    "test_y = pd.DataFrame(test.Labels)\n",
    "test_y.to_csv('normalized_data/flat/'+cohort+'_y_test_'+d_shape+'_'+out_cut+'_'+method+'.tsv', sep = '\\t')\n",
    "\n",
    "scaler = MinMaxScaler()\n",
    "\n",
    "# Train\n",
    "train.drop(columns = 'Labels', inplace = True)\n",
    "train.mask(train > otlr_thresh, otlr_thresh, inplace = True)\n",
    "train_norm = pd.DataFrame( # check, all train\n",
    "    scaler.fit_transform(train.iloc[:, 1:]), # check, fit\n",
    "    columns = train.columns[1:],\n",
    "    index = train.index)\n",
    "train_norm.to_csv('normalized_data/flat/'+cohort+'_X_train_'+d_shape+'_'+out_cut+'_'+method+'.tsv', sep = '\\t')\n",
    "\n",
    "# Test\n",
    "test.drop(columns = 'Labels', inplace = True)\n",
    "test.mask(train > otlr_thresh, otlr_thresh, inplace = True)\n",
    "test_norm = pd.DataFrame( # check, all test\n",
    "    scaler.transform(test.iloc[:, 1:]), # check, fit\n",
    "    columns = test.columns[1:],\n",
    "    index = test.index)\n",
    "test_norm.to_csv('normalized_data/flat/'+cohort+'_X_test_'+d_shape+'_'+out_cut+'_'+method+'.tsv', sep = '\\t')"
   ]
  },
  {
   "cell_type": "markdown",
   "id": "75166106-3dcb-48f5-b009-538fd2ba52ca",
   "metadata": {
    "jp-MarkdownHeadingCollapsed": true,
    "tags": []
   },
   "source": [
    "#### BLCA 500 otlr cut MinMax flat"
   ]
  },
  {
   "cell_type": "code",
   "execution_count": 125,
   "id": "eab03413-e0bd-4b1c-a38d-c3c2bdefdd8d",
   "metadata": {
    "jupyter": {
     "source_hidden": true
    },
    "tags": []
   },
   "outputs": [],
   "source": [
    "cohort = 'BLCA'\n",
    "d_shape = 'flat' # or square\n",
    "out_cut = '500_otlr_cut' # wont overwrite uncut files\n",
    "method = 'MinMax' # already know its flat by the dir, should probaly just name\n",
    "\n",
    "otlr_thresh = 500\n",
    "\n",
    "train, test = train_test_split(blca)\n",
    "\n",
    "train_y = pd.DataFrame(train.Labels)\n",
    "train_y.to_csv('normalized_data/flat/'+cohort+'_y_train_'+d_shape+'_'+out_cut+'_'+method+'.tsv', sep = '\\t')\n",
    "\n",
    "test_y = pd.DataFrame(test.Labels)\n",
    "test_y.to_csv('normalized_data/flat/'+cohort+'_y_test_'+d_shape+'_'+out_cut+'_'+method+'.tsv', sep = '\\t')\n",
    "\n",
    "scaler = MinMaxScaler()\n",
    "\n",
    "# Train\n",
    "train.drop(columns = 'Labels', inplace = True)\n",
    "train.mask(train > otlr_thresh, otlr_thresh, inplace = True)\n",
    "train_norm = pd.DataFrame( # check, all train\n",
    "    scaler.fit_transform(train.iloc[:, 1:]), # check, fit\n",
    "    columns = train.columns[1:],\n",
    "    index = train.index)\n",
    "train_norm.to_csv('normalized_data/flat/'+cohort+'_X_train_'+d_shape+'_'+out_cut+'_'+method+'.tsv', sep = '\\t')\n",
    "\n",
    "# Test\n",
    "test.drop(columns = 'Labels', inplace = True)\n",
    "test.mask(train > otlr_thresh, otlr_thresh, inplace = True)\n",
    "test_norm = pd.DataFrame( # check, all test\n",
    "    scaler.transform(test.iloc[:, 1:]), # check, fit\n",
    "    columns = test.columns[1:],\n",
    "    index = test.index)\n",
    "test_norm.to_csv('normalized_data/flat/'+cohort+'_X_test_'+d_shape+'_'+out_cut+'_'+method+'.tsv', sep = '\\t')"
   ]
  },
  {
   "cell_type": "markdown",
   "id": "593c74b2-5b4f-4b75-9aa3-aa71f2b41e1b",
   "metadata": {
    "tags": []
   },
   "source": [
    "#### BLCA 250 otlr cut MinMax flat"
   ]
  },
  {
   "cell_type": "code",
   "execution_count": 126,
   "id": "fef59dde-a031-46a7-bca3-10972c4f20c6",
   "metadata": {
    "tags": []
   },
   "outputs": [],
   "source": [
    "cohort = 'BLCA'\n",
    "d_shape = 'flat' # or square\n",
    "out_cut = '250_otlr_cut' # wont overwrite uncut files\n",
    "method = 'MinMax' # already know its flat by the dir, should probaly just name\n",
    "\n",
    "otlr_thresh = 250\n",
    "\n",
    "train, test = train_test_split(blca)\n",
    "\n",
    "train_y = pd.DataFrame(train.Labels)\n",
    "train_y.to_csv('normalized_data/flat/'+cohort+'_y_train_'+d_shape+'_'+out_cut+'_'+method+'.tsv', sep = '\\t')\n",
    "\n",
    "test_y = pd.DataFrame(test.Labels)\n",
    "test_y.to_csv('normalized_data/flat/'+cohort+'_y_test_'+d_shape+'_'+out_cut+'_'+method+'.tsv', sep = '\\t')\n",
    "\n",
    "scaler = MinMaxScaler()\n",
    "\n",
    "# Train\n",
    "train.drop(columns = 'Labels', inplace = True)\n",
    "train.mask(train > otlr_thresh, otlr_thresh, inplace = True)\n",
    "train_norm = pd.DataFrame( # check, all train\n",
    "    scaler.fit_transform(train.iloc[:, 1:]), # check, fit\n",
    "    columns = train.columns[1:],\n",
    "    index = train.index)\n",
    "train_norm.to_csv('normalized_data/flat/'+cohort+'_X_train_'+d_shape+'_'+out_cut+'_'+method+'.tsv', sep = '\\t')\n",
    "\n",
    "# Test\n",
    "test.drop(columns = 'Labels', inplace = True)\n",
    "test.mask(train > otlr_thresh, otlr_thresh, inplace = True)\n",
    "test_norm = pd.DataFrame( # check, all test\n",
    "    scaler.transform(test.iloc[:, 1:]), # check, fit\n",
    "    columns = test.columns[1:],\n",
    "    index = test.index)\n",
    "test_norm.to_csv('normalized_data/flat/'+cohort+'_X_test_'+d_shape+'_'+out_cut+'_'+method+'.tsv', sep = '\\t')"
   ]
  },
  {
   "cell_type": "markdown",
   "id": "32247b3b-b209-48af-a800-cd515d179e7c",
   "metadata": {
    "tags": []
   },
   "source": [
    "#### BRCA\n",
    "\n",
    "Begin Thursday 2022-10-13  \n",
    "Load pacakages and gexp path above"
   ]
  },
  {
   "cell_type": "markdown",
   "id": "c73411c3-290e-433d-9ab6-e84535344cba",
   "metadata": {},
   "source": [
    "##### MinMax() on raw data, control"
   ]
  },
  {
   "cell_type": "code",
   "execution_count": null,
   "id": "151c4100-d95a-4e7b-bded-0aec1948bd61",
   "metadata": {},
   "outputs": [],
   "source": [
    "# should probably start a Robust Scaler version, use stats plots!"
   ]
  },
  {
   "cell_type": "code",
   "execution_count": 8,
   "id": "2d18e919-1146-47a6-8197-2e0b64f049c2",
   "metadata": {},
   "outputs": [],
   "source": [
    "brca = pd.read_csv(gxp_file_paths[2],\n",
    "                       sep = '\\t',\n",
    "                       index_col = 0)"
   ]
  },
  {
   "cell_type": "code",
   "execution_count": 10,
   "id": "a79bb77c-6dcc-4ea3-8a31-95159de749b2",
   "metadata": {},
   "outputs": [],
   "source": [
    "cohort = 'BRCA'\n",
    "d_shape = 'flat' # or square\n",
    "out_cut = 'no_otlr_cut'\n",
    "method = 'MinMax' # already know its flat by the dir, should probaly just name"
   ]
  },
  {
   "cell_type": "code",
   "execution_count": 11,
   "id": "3b8af4bd-f43b-46da-b0ca-1ea939fbd42e",
   "metadata": {},
   "outputs": [
    {
     "data": {
      "text/plain": [
       "'BRCA'"
      ]
     },
     "execution_count": 11,
     "metadata": {},
     "output_type": "execute_result"
    }
   ],
   "source": [
    "cohort # to file name"
   ]
  },
  {
   "cell_type": "code",
   "execution_count": 12,
   "id": "f0f37a2b-bc4e-4019-9f36-291c092516a5",
   "metadata": {},
   "outputs": [
    {
     "data": {
      "text/plain": [
       "'BRCA'"
      ]
     },
     "execution_count": 12,
     "metadata": {},
     "output_type": "execute_result"
    }
   ],
   "source": [
    "brca.index.name # to function"
   ]
  },
  {
   "cell_type": "code",
   "execution_count": 13,
   "id": "e9d19f60-cfd3-40d3-9133-ef90b5abb41e",
   "metadata": {
    "tags": []
   },
   "outputs": [],
   "source": [
    "# no-outlier threshold, control\n",
    "train, test = train_test_split(brca) # check, taking <brca>, to 1Dmodel fine-tune\n",
    "scaler = MinMaxScaler() # get fresh Scaler object\n",
    "\n",
    "# Train\n",
    "train_norm = pd.DataFrame( # check, all train\n",
    "    scaler.fit_transform(train.iloc[:, 1:]), # check, fit\n",
    "    columns = train.columns[1:],\n",
    "    index = train.index)\n",
    "train_norm.to_csv('normalized_data/flat/'+cohort+'_X_train_'+d_shape+'_'+out_cut+'_'+method+'.tsv', sep = '\\t')\n",
    "\n",
    "train_y = pd.DataFrame(train.Labels)\n",
    "train_y.to_csv('normalized_data/flat/'+cohort+'_y_train_'+d_shape+'_'+out_cut+'_'+method+'.tsv', sep = '\\t')\n",
    "\n",
    "# Test\n",
    "test_norm = pd.DataFrame( # check, all test\n",
    "    scaler.transform(test.iloc[:, 1:]), # check, fit\n",
    "    columns = test.columns[1:],\n",
    "    index = test.index)\n",
    "test_norm.to_csv('normalized_data/flat/'+cohort+'_X_test_'+d_shape+'_'+out_cut+'_'+method+'.tsv', sep = '\\t')\n",
    "\n",
    "test_y = pd.DataFrame(test.Labels)\n",
    "test_y.to_csv('normalized_data/flat/'+cohort+'_y_test_'+d_shape+'_'+out_cut+'_'+method+'.tsv', sep = '\\t')"
   ]
  },
  {
   "cell_type": "code",
   "execution_count": 16,
   "id": "562fa2d8-e2d4-4471-a811-049408b2b1da",
   "metadata": {},
   "outputs": [
    {
     "data": {
      "text/plain": [
       "(746, 20531)"
      ]
     },
     "execution_count": 16,
     "metadata": {},
     "output_type": "execute_result"
    }
   ],
   "source": [
    "train_norm.shape"
   ]
  },
  {
   "cell_type": "code",
   "execution_count": 22,
   "id": "44ed0ded-266c-45c2-a854-5c6d67870942",
   "metadata": {},
   "outputs": [],
   "source": [
    "import time"
   ]
  },
  {
   "cell_type": "code",
   "execution_count": 20,
   "id": "6cc4323f-7428-4d30-99a3-625fb2f994ca",
   "metadata": {},
   "outputs": [],
   "source": [
    "import scipy"
   ]
  },
  {
   "cell_type": "code",
   "execution_count": 25,
   "id": "6300fa39-ca50-469e-b4ef-215b12c97ef4",
   "metadata": {},
   "outputs": [
    {
     "data": {
      "text/plain": [
       "'BRCA'"
      ]
     },
     "execution_count": 25,
     "metadata": {},
     "output_type": "execute_result"
    }
   ],
   "source": [
    "train.index.name"
   ]
  },
  {
   "cell_type": "code",
   "execution_count": 26,
   "id": "d592e4ec-6c2b-48fb-bb66-d37ddf146cbf",
   "metadata": {},
   "outputs": [
    {
     "name": "stdout",
     "output_type": "stream",
     "text": [
      "no_otlr_cut\n"
     ]
    },
    {
     "data": {
      "text/plain": [
       "DescribeResult(nobs=15316126, minmax=(0.0, 2066000.0), mean=932.9513480047945, variance=18752545.639887463, skewness=78.90418150944474, kurtosis=18625.95286690679)"
      ]
     },
     "execution_count": 26,
     "metadata": {},
     "output_type": "execute_result"
    }
   ],
   "source": [
    "strt = time.time()\n",
    "row_lst = []\n",
    "for i, row_idx in enumerate(train.index):\n",
    "    row = train.iloc[i, 1:]\n",
    "    row_lst = row_lst + list(row)\n",
    "end = time.time() - strt\n",
    "print(end)\n",
    "print(out_cut)\n",
    "scipy.stats.describe(row_lst)"
   ]
  },
  {
   "cell_type": "code",
   "execution_count": null,
   "id": "3e7ebb93-75bd-4217-8a89-15e004041eeb",
   "metadata": {},
   "outputs": [],
   "source": [
    "# Observation: variance is 18.7 million"
   ]
  },
  {
   "cell_type": "code",
   "execution_count": 27,
   "id": "6cd3e681-26f3-4715-bd9c-8b9767324db1",
   "metadata": {},
   "outputs": [
    {
     "data": {
      "text/plain": [
       "87.44524383544922"
      ]
     },
     "execution_count": 27,
     "metadata": {},
     "output_type": "execute_result"
    }
   ],
   "source": [
    "end"
   ]
  },
  {
   "cell_type": "code",
   "execution_count": 18,
   "id": "a14ab280-a577-4377-b1df-264a35bc3c25",
   "metadata": {},
   "outputs": [
    {
     "data": {
      "text/plain": [
       "'BRCA'"
      ]
     },
     "execution_count": 18,
     "metadata": {},
     "output_type": "execute_result"
    }
   ],
   "source": [
    "train_norm.index.name"
   ]
  },
  {
   "cell_type": "code",
   "execution_count": 23,
   "id": "81fd91d4-eaa8-4179-8b52-4884c0db3108",
   "metadata": {},
   "outputs": [
    {
     "name": "stdout",
     "output_type": "stream",
     "text": [
      "no_otlr_cut\n"
     ]
    },
    {
     "data": {
      "text/plain": [
       "DescribeResult(nobs=15315380, minmax=(0.0, 1.0000000000000002), mean=0.11705726648350953, variance=0.01868082859041636, skewness=1.9346505076559235, kurtosis=5.5211249399922515)"
      ]
     },
     "execution_count": 23,
     "metadata": {},
     "output_type": "execute_result"
    }
   ],
   "source": [
    "# After normalizing BRCA with no outlier cut\n",
    "strt = time.time()\n",
    "row_lst = []\n",
    "for i, row_idx in enumerate(train_norm.index):\n",
    "    row = train_norm.iloc[i, 1:]\n",
    "    row_lst = row_lst + list(row)\n",
    "end = time.time() - strt\n",
    "print(out_cut)\n",
    "scipy.stats.describe(row_lst)"
   ]
  },
  {
   "cell_type": "code",
   "execution_count": 24,
   "id": "c2a51467-5aa4-4737-82ad-5763cce5fc36",
   "metadata": {},
   "outputs": [
    {
     "data": {
      "text/plain": [
       "78.27142715454102"
      ]
     },
     "execution_count": 24,
     "metadata": {},
     "output_type": "execute_result"
    }
   ],
   "source": [
    "end"
   ]
  },
  {
   "cell_type": "markdown",
   "id": "daec20e1-6901-46bb-84c5-13fc46a9a000",
   "metadata": {},
   "source": [
    "##### Auto-clip BRCA, end control MinMax"
   ]
  },
  {
   "cell_type": "code",
   "execution_count": null,
   "id": "a119369a-4eff-41a6-b44c-e21c78d719e6",
   "metadata": {},
   "outputs": [],
   "source": [
    "time.time()"
   ]
  },
  {
   "cell_type": "code",
   "execution_count": null,
   "id": "8585e427-163d-47eb-ae1e-c969d39ff661",
   "metadata": {
    "tags": []
   },
   "outputs": [],
   "source": [
    "        # clip at 1M - \n",
    "        # clip at 100k\n",
    "        # clip at 10k\n",
    "        # clip at 1k\n",
    "        # clip at 500\n",
    "        # clip at 250"
   ]
  },
  {
   "cell_type": "code",
   "execution_count": 29,
   "id": "406542ca-2533-4955-bf09-14718c889b78",
   "metadata": {},
   "outputs": [],
   "source": [
    "otlr_thresh = 1000000 # six zeros\n",
    "out_cut = '1M_otlr_cut'"
   ]
  },
  {
   "cell_type": "code",
   "execution_count": 36,
   "id": "95f78ab4-6690-4071-aebe-5182a569cde3",
   "metadata": {},
   "outputs": [],
   "source": [
    "otlr_thresh = 100000 # five\n",
    "out_cut = '100k_otlr_cut'"
   ]
  },
  {
   "cell_type": "code",
   "execution_count": 41,
   "id": "f61b7a25-e6b5-4dd3-95e0-43183154689b",
   "metadata": {},
   "outputs": [],
   "source": [
    "otlr_thresh = 10000 # four\n",
    "out_cut = '10k_otlr_cut'"
   ]
  },
  {
   "cell_type": "code",
   "execution_count": 46,
   "id": "e49cb980-13bd-49b9-8abe-356a46800ebc",
   "metadata": {},
   "outputs": [],
   "source": [
    "otlr_thresh = 1000 # three\n",
    "out_cut = '1k_otlr_cut'"
   ]
  },
  {
   "cell_type": "code",
   "execution_count": 51,
   "id": "7b522211-13b2-4daa-8ec9-ef0ac6e0efb0",
   "metadata": {},
   "outputs": [],
   "source": [
    "otlr_thresh = 500 # \n",
    "out_cut = '500_otlr_cut'"
   ]
  },
  {
   "cell_type": "code",
   "execution_count": 56,
   "id": "6cabf9ff-9b68-4ff0-9cbd-dda53321a0a5",
   "metadata": {},
   "outputs": [],
   "source": [
    "otlr_thresh = 250 # \n",
    "out_cut = '250_otlr_cut'"
   ]
  },
  {
   "cell_type": "code",
   "execution_count": 30,
   "id": "d71107c7-d4ea-4294-9aae-b5982345fb33",
   "metadata": {},
   "outputs": [
    {
     "data": {
      "text/plain": [
       "'BRCA'"
      ]
     },
     "execution_count": 30,
     "metadata": {},
     "output_type": "execute_result"
    }
   ],
   "source": [
    "cohort # to file name"
   ]
  },
  {
   "cell_type": "code",
   "execution_count": 31,
   "id": "960ee58f-97e1-4f4c-b9b7-070087432cfb",
   "metadata": {},
   "outputs": [
    {
     "data": {
      "text/plain": [
       "'BRCA'"
      ]
     },
     "execution_count": 31,
     "metadata": {},
     "output_type": "execute_result"
    }
   ],
   "source": [
    "brca.index.name # to function"
   ]
  },
  {
   "cell_type": "code",
   "execution_count": 57,
   "id": "e93ebff5-9dc8-4f9a-880c-f710d8c830d0",
   "metadata": {},
   "outputs": [
    {
     "name": "stdout",
     "output_type": "stream",
     "text": [
      "250\n"
     ]
    },
    {
     "data": {
      "text/plain": [
       "'250_otlr_cut'"
      ]
     },
     "execution_count": 57,
     "metadata": {},
     "output_type": "execute_result"
    }
   ],
   "source": [
    "print(otlr_thresh)\n",
    "out_cut"
   ]
  },
  {
   "cell_type": "code",
   "execution_count": 58,
   "id": "f6d69644-e167-4602-8920-449f45ef83a7",
   "metadata": {},
   "outputs": [],
   "source": [
    "# BRCA\n",
    "train, test = train_test_split(brca) # check 2, this is <brca>, to fine tune *\n",
    "\n",
    "train_y = pd.DataFrame(train.Labels)\n",
    "train_y.to_csv('normalized_data/flat/'+cohort+'_y_train_'+d_shape+'_'+out_cut+'_'+method+'.tsv', sep = '\\t')\n",
    "\n",
    "test_y = pd.DataFrame(test.Labels)\n",
    "test_y.to_csv('normalized_data/flat/'+cohort+'_y_test_'+d_shape+'_'+out_cut+'_'+method+'.tsv', sep = '\\t')\n",
    "\n",
    "scaler = MinMaxScaler()\n",
    "\n",
    "# Train\n",
    "train.drop(columns = 'Labels', inplace = True)\n",
    "train.mask(train > otlr_thresh, otlr_thresh, inplace = True) # should feed the first four moment description\n",
    "train_norm = pd.DataFrame( # check, all train\n",
    "    scaler.fit_transform(train.iloc[:, 1:]), # check, fit\n",
    "    columns = train.columns[1:],\n",
    "    index = train.index)\n",
    "train_norm.to_csv('normalized_data/flat/'+cohort+'_X_train_'+d_shape+'_'+out_cut+'_'+method+'.tsv', sep = '\\t')\n",
    "\n",
    "# Test\n",
    "test.drop(columns = 'Labels', inplace = True)\n",
    "test.mask(test > otlr_thresh, otlr_thresh, inplace = True) # template here for BLCA re-run, just delete\n",
    "test_norm = pd.DataFrame( # check, all test                 # all the individual and mimic semi-auto here\n",
    "    scaler.transform(test.iloc[:, 1:]), # check, fit\n",
    "    columns = test.columns[1:],\n",
    "    index = test.index)\n",
    "test_norm.to_csv('normalized_data/flat/'+cohort+'_X_test_'+d_shape+'_'+out_cut+'_'+method+'.tsv', sep = '\\t')"
   ]
  },
  {
   "cell_type": "code",
   "execution_count": null,
   "id": "6b237094-042a-494b-b39f-5645a8c2db53",
   "metadata": {},
   "outputs": [],
   "source": [
    "# for BLCA stats automation\n",
    "rw_otlr "
   ]
  },
  {
   "cell_type": "code",
   "execution_count": 64,
   "id": "1b061ce2-2d91-42db-b838-f00b09e045a2",
   "metadata": {},
   "outputs": [],
   "source": [
    "import matplotlib.pyplot as plt"
   ]
  },
  {
   "cell_type": "code",
   "execution_count": 74,
   "id": "ea672abd-cd73-4120-95ca-987a5cf14760",
   "metadata": {},
   "outputs": [
    {
     "name": "stderr",
     "output_type": "stream",
     "text": [
      "/var/folders/5v/88tvwqd94gs4dfr3h6rt1_w0qd13bg/T/ipykernel_59050/3122500769.py:7: UserWarning: FixedFormatter should only be used together with FixedLocator\n",
      "  ax.set_xticklabels(labels)\n"
     ]
    },
    {
     "data": {
      "image/png": "[encoded data removed]",
      "text/plain": [
       "<Figure size 432x288 with 1 Axes>"
      ]
     },
     "metadata": {
      "needs_background": "light"
     },
     "output_type": "display_data"
    }
   ],
   "source": [
    "fig, ax = plt.subplots()\n",
    "fig.canvas.draw()\n",
    "\n",
    "labels = [item.get_text() for item in ax.get_xticklabels()]\n",
    "labels = step_vals\n",
    "\n",
    "ax.set_xticklabels(labels)\n",
    "plt.plot(step, var)\n",
    "plt.show()"
   ]
  },
  {
   "cell_type": "code",
   "execution_count": 72,
   "id": "7e600f27-0ca1-4df9-b4f7-6d3c7b54efab",
   "metadata": {},
   "outputs": [
    {
     "ename": "AttributeError",
     "evalue": "module 'matplotlib.pyplot' has no attribute 'set_xticklabels'",
     "output_type": "error",
     "traceback": [
      "\u001b[0;31m---------------------------------------------------------------------------\u001b[0m",
      "\u001b[0;31mAttributeError\u001b[0m                            Traceback (most recent call last)",
      "\u001b[0;32m/var/folders/5v/88tvwqd94gs4dfr3h6rt1_w0qd13bg/T/ipykernel_59050/1172731244.py\u001b[0m in \u001b[0;36m<module>\u001b[0;34m\u001b[0m\n\u001b[1;32m      1\u001b[0m \u001b[0mplt\u001b[0m\u001b[0;34m.\u001b[0m\u001b[0mplot\u001b[0m\u001b[0;34m(\u001b[0m\u001b[0mstep\u001b[0m\u001b[0;34m,\u001b[0m \u001b[0mvar\u001b[0m\u001b[0;34m)\u001b[0m\u001b[0;34m\u001b[0m\u001b[0;34m\u001b[0m\u001b[0m\n\u001b[1;32m      2\u001b[0m \u001b[0mplt\u001b[0m\u001b[0;34m.\u001b[0m\u001b[0mtitle\u001b[0m\u001b[0;34m(\u001b[0m\u001b[0;34m'BRCA GEXP variance, value ceiling steps'\u001b[0m\u001b[0;34m)\u001b[0m\u001b[0;34m\u001b[0m\u001b[0;34m\u001b[0m\u001b[0m\n\u001b[0;32m----> 3\u001b[0;31m \u001b[0mplt\u001b[0m\u001b[0;34m.\u001b[0m\u001b[0mset_xticklabels\u001b[0m\u001b[0;34m(\u001b[0m\u001b[0mstep_vals\u001b[0m\u001b[0;34m)\u001b[0m\u001b[0;34m\u001b[0m\u001b[0;34m\u001b[0m\u001b[0m\n\u001b[0m",
      "\u001b[0;31mAttributeError\u001b[0m: module 'matplotlib.pyplot' has no attribute 'set_xticklabels'"
     ]
    },
    {
     "data": {
      "image/png": "[encoded data removed]",
      "text/plain": [
       "<Figure size 432x288 with 1 Axes>"
      ]
     },
     "metadata": {
      "needs_background": "light"
     },
     "output_type": "display_data"
    }
   ],
   "source": [
    "plt.plot(step, var)\n",
    "plt.title('BRCA GEXP variance, value ceiling steps')\n",
    "plt.set_xticklabels(step_vals)"
   ]
  },
  {
   "cell_type": "code",
   "execution_count": 62,
   "id": "8c01da2b-fb4c-4b61-96dc-a7823cdbed74",
   "metadata": {},
   "outputs": [],
   "source": [
    "var = [17986453, 10203386, 2459423, 163595, 48658, 12851]"
   ]
  },
  {
   "cell_type": "code",
   "execution_count": 66,
   "id": "6a312fee-e6f5-4601-a4a2-992ce54fa35d",
   "metadata": {},
   "outputs": [],
   "source": [
    "step = [1,2,3,4,5,6]"
   ]
  },
  {
   "cell_type": "code",
   "execution_count": 68,
   "id": "c3afc6ad-b849-4e20-96db-78f0193ee476",
   "metadata": {},
   "outputs": [],
   "source": [
    "step_vals = [1000000,100000,10000,1000,500,250]"
   ]
  },
  {
   "cell_type": "code",
   "execution_count": 59,
   "id": "a233cc0b-31b6-4eb7-8849-4c2dfd2bdc25",
   "metadata": {
    "jupyter": {
     "source_hidden": true
    },
    "tags": []
   },
   "outputs": [
    {
     "name": "stdout",
     "output_type": "stream",
     "text": [
      "BRCA\n",
      "Raw with outlier clip\n",
      "250_otlr_cut\n"
     ]
    },
    {
     "data": {
      "text/plain": [
       "DescribeResult(nobs=15315380, minmax=(0.0, 250.0), mean=140.48840810331146, variance=12851.410580132115, skewness=-0.2049842854800381, kurtosis=-1.8269733832997324)"
      ]
     },
     "execution_count": 59,
     "metadata": {},
     "output_type": "execute_result"
    }
   ],
   "source": [
    "row_lst = []\n",
    "for i, row_idx in enumerate(train.index):\n",
    "    row = train.iloc[i, 1:]\n",
    "    row_lst = row_lst + list(row)\n",
    "print(cohort)\n",
    "print('Raw with outlier clip')\n",
    "print(out_cut)\n",
    "scipy.stats.describe(row_lst)"
   ]
  },
  {
   "cell_type": "code",
   "execution_count": 60,
   "id": "a674a3b1-f872-4bd6-abbc-24e65c089172",
   "metadata": {
    "jupyter": {
     "source_hidden": true
    },
    "tags": []
   },
   "outputs": [
    {
     "name": "stdout",
     "output_type": "stream",
     "text": [
      "BRCA\n",
      "Normalized after outlier clip\n",
      "250_otlr_cut\n"
     ]
    },
    {
     "data": {
      "text/plain": [
       "DescribeResult(nobs=15314634, minmax=(0.0, 1.0000000000000036), mean=0.405619690935507, variance=0.1972103642240764, skewness=0.43836666643625277, kurtosis=-1.6549957552084333)"
      ]
     },
     "execution_count": 60,
     "metadata": {},
     "output_type": "execute_result"
    }
   ],
   "source": [
    "row_lst = []\n",
    "for i, row_idx in enumerate(train_norm.index):\n",
    "    row = train_norm.iloc[i, 1:]\n",
    "    row_lst = row_lst + list(row)\n",
    "print(cohort)\n",
    "print('Normalized after outlier clip')\n",
    "print(out_cut)\n",
    "scipy.stats.describe(row_lst)"
   ]
  },
  {
   "cell_type": "code",
   "execution_count": 54,
   "id": "9fa55a8e-4c8b-4b94-a3e0-34085efa57df",
   "metadata": {
    "jupyter": {
     "source_hidden": true
    },
    "tags": []
   },
   "outputs": [
    {
     "name": "stdout",
     "output_type": "stream",
     "text": [
      "BRCA\n",
      "Raw with outlier clip\n",
      "500_otlr_cut\n"
     ]
    },
    {
     "data": {
      "text/plain": [
       "DescribeResult(nobs=15315380, minmax=(0.0, 500.0), mean=241.05509580375426, variance=48658.35419487813, skewness=0.12213648924580703, kurtosis=-1.7950992896889257)"
      ]
     },
     "execution_count": 54,
     "metadata": {},
     "output_type": "execute_result"
    }
   ],
   "source": [
    "row_lst = []\n",
    "for i, row_idx in enumerate(train.index):\n",
    "    row = train.iloc[i, 1:]\n",
    "    row_lst = row_lst + list(row)\n",
    "print(cohort)\n",
    "print('Raw with outlier clip')\n",
    "print(out_cut)\n",
    "scipy.stats.describe(row_lst)"
   ]
  },
  {
   "cell_type": "code",
   "execution_count": 55,
   "id": "1900d0dc-958d-448f-b296-62892ddad6b2",
   "metadata": {
    "jupyter": {
     "source_hidden": true
    },
    "tags": []
   },
   "outputs": [
    {
     "name": "stdout",
     "output_type": "stream",
     "text": [
      "BRCA\n",
      "Normalized after outlier clip\n",
      "500_otlr_cut\n"
     ]
    },
    {
     "data": {
      "text/plain": [
       "DescribeResult(nobs=15314634, minmax=(0.0, 1.0000000000000036), mean=0.40577322273735605, variance=0.18128754945733846, skewness=0.45839239340651766, kurtosis=-1.5649190249256275)"
      ]
     },
     "execution_count": 55,
     "metadata": {},
     "output_type": "execute_result"
    }
   ],
   "source": [
    "row_lst = []\n",
    "for i, row_idx in enumerate(train_norm.index):\n",
    "    row = train_norm.iloc[i, 1:]\n",
    "    row_lst = row_lst + list(row)\n",
    "print(cohort)\n",
    "print('Normalized after outlier clip')\n",
    "print(out_cut)\n",
    "scipy.stats.describe(row_lst)"
   ]
  },
  {
   "cell_type": "code",
   "execution_count": 49,
   "id": "c4801adb-5ab2-4bfa-b0b3-f9873a457dfd",
   "metadata": {
    "jupyter": {
     "source_hidden": true
    },
    "tags": []
   },
   "outputs": [
    {
     "name": "stdout",
     "output_type": "stream",
     "text": [
      "BRCA\n",
      "Raw with outlier clip\n",
      "1k_otlr_cut\n"
     ]
    },
    {
     "data": {
      "text/plain": [
       "DescribeResult(nobs=15315380, minmax=(0.0, 1000.0), mean=377.8666507538699, variance=163595.88889559446, skewness=0.5756221820470301, kurtosis=-1.3559671987346495)"
      ]
     },
     "execution_count": 49,
     "metadata": {},
     "output_type": "execute_result"
    }
   ],
   "source": [
    "row_lst = []\n",
    "for i, row_idx in enumerate(train.index):\n",
    "    row = train.iloc[i, 1:]\n",
    "    row_lst = row_lst + list(row)\n",
    "print(cohort)\n",
    "print('Raw with outlier clip')\n",
    "print(out_cut)\n",
    "scipy.stats.describe(row_lst)"
   ]
  },
  {
   "cell_type": "code",
   "execution_count": 50,
   "id": "8b7f229b-ba8b-4be3-bc5b-b2f3effe082c",
   "metadata": {
    "jupyter": {
     "source_hidden": true
    },
    "tags": []
   },
   "outputs": [
    {
     "name": "stdout",
     "output_type": "stream",
     "text": [
      "BRCA\n",
      "Normalized after outlier clip\n",
      "1k_otlr_cut\n"
     ]
    },
    {
     "data": {
      "text/plain": [
       "DescribeResult(nobs=15314634, minmax=(0.0, 1.0000000000000009), mean=0.34674516106293196, variance=0.14815790751839125, skewness=0.7665469296574272, kurtosis=-1.0353257269113318)"
      ]
     },
     "execution_count": 50,
     "metadata": {},
     "output_type": "execute_result"
    }
   ],
   "source": [
    "row_lst = []\n",
    "for i, row_idx in enumerate(train_norm.index):\n",
    "    row = train_norm.iloc[i, 1:]\n",
    "    row_lst = row_lst + list(row)\n",
    "print(cohort)\n",
    "print('Normalized after outlier clip')\n",
    "print(out_cut)\n",
    "scipy.stats.describe(row_lst)"
   ]
  },
  {
   "cell_type": "code",
   "execution_count": 44,
   "id": "94475d1a-38bb-4d53-8dae-3ee97e6078f9",
   "metadata": {
    "jupyter": {
     "source_hidden": true
    },
    "tags": []
   },
   "outputs": [
    {
     "name": "stdout",
     "output_type": "stream",
     "text": [
      "BRCA\n",
      "Raw with outlier clip\n",
      "10k_otlr_cut\n"
     ]
    },
    {
     "data": {
      "text/plain": [
       "DescribeResult(nobs=15315380, minmax=(0.0, 10000.0), mean=780.8830791659948, variance=2459423.868119471, skewness=3.7841338184636926, kurtosis=16.553251533898965)"
      ]
     },
     "execution_count": 44,
     "metadata": {},
     "output_type": "execute_result"
    }
   ],
   "source": [
    "row_lst = []\n",
    "for i, row_idx in enumerate(train.index):\n",
    "    row = train.iloc[i, 1:]\n",
    "    row_lst = row_lst + list(row)\n",
    "print(cohort)\n",
    "print('Raw with outlier clip')\n",
    "print(out_cut)\n",
    "scipy.stats.describe(row_lst)"
   ]
  },
  {
   "cell_type": "code",
   "execution_count": 45,
   "id": "c5ebb978-8e8b-4788-bc3d-13c9bc5d6ea9",
   "metadata": {
    "jupyter": {
     "source_hidden": true
    },
    "tags": []
   },
   "outputs": [
    {
     "name": "stdout",
     "output_type": "stream",
     "text": [
      "BRCA\n",
      "Normalized after outlier clip\n",
      "10k_otlr_cut\n"
     ]
    },
    {
     "data": {
      "text/plain": [
       "DescribeResult(nobs=15314634, minmax=(0.0, 1.000000000000007), mean=0.13887578420009583, variance=0.031466282089254685, skewness=2.382276371906509, kurtosis=7.287259460489784)"
      ]
     },
     "execution_count": 45,
     "metadata": {},
     "output_type": "execute_result"
    }
   ],
   "source": [
    "row_lst = []\n",
    "for i, row_idx in enumerate(train_norm.index):\n",
    "    row = train_norm.iloc[i, 1:]\n",
    "    row_lst = row_lst + list(row)\n",
    "print(cohort)\n",
    "print('Normalized after outlier clip')\n",
    "print(out_cut)\n",
    "scipy.stats.describe(row_lst)"
   ]
  },
  {
   "cell_type": "code",
   "execution_count": 39,
   "id": "ca2cdc77-3ea6-4441-b04d-3529ab382d1f",
   "metadata": {
    "jupyter": {
     "source_hidden": true
    },
    "tags": []
   },
   "outputs": [
    {
     "name": "stdout",
     "output_type": "stream",
     "text": [
      "BRCA\n",
      "Raw with outlier clip\n",
      "100k_otlr_cut\n"
     ]
    },
    {
     "data": {
      "text/plain": [
       "DescribeResult(nobs=15315380, minmax=(0.0, 100000.0), mean=916.9001066248707, variance=10203386.90939204, skewness=15.846155242386734, kurtosis=374.3922146229971)"
      ]
     },
     "execution_count": 39,
     "metadata": {},
     "output_type": "execute_result"
    }
   ],
   "source": [
    "row_lst = []\n",
    "for i, row_idx in enumerate(train.index):\n",
    "    row = train.iloc[i, 1:]\n",
    "    row_lst = row_lst + list(row)\n",
    "print(cohort)\n",
    "print('Raw with outlier clip')\n",
    "print(out_cut)\n",
    "scipy.stats.describe(row_lst)"
   ]
  },
  {
   "cell_type": "code",
   "execution_count": 40,
   "id": "01d18fc2-899c-46f2-9aa9-25f48f6c7be3",
   "metadata": {
    "jupyter": {
     "source_hidden": true
    },
    "tags": []
   },
   "outputs": [
    {
     "name": "stdout",
     "output_type": "stream",
     "text": [
      "BRCA\n",
      "Normalized after outlier clip\n",
      "100k_otlr_cut\n"
     ]
    },
    {
     "data": {
      "text/plain": [
       "DescribeResult(nobs=15314634, minmax=(0.0, 1.0000000000000002), mean=0.11715793082062838, variance=0.019056305368105365, skewness=1.9754585328817476, kurtosis=5.750754312993944)"
      ]
     },
     "execution_count": 40,
     "metadata": {},
     "output_type": "execute_result"
    }
   ],
   "source": [
    "row_lst = []\n",
    "for i, row_idx in enumerate(train_norm.index):\n",
    "    row = train_norm.iloc[i, 1:]\n",
    "    row_lst = row_lst + list(row)\n",
    "print(cohort)\n",
    "print('Normalized after outlier clip')\n",
    "print(out_cut)\n",
    "scipy.stats.describe(row_lst)"
   ]
  },
  {
   "cell_type": "code",
   "execution_count": 34,
   "id": "a8af212b-860b-4478-a505-35743f5a7ab7",
   "metadata": {
    "jupyter": {
     "source_hidden": true
    },
    "tags": []
   },
   "outputs": [
    {
     "name": "stdout",
     "output_type": "stream",
     "text": [
      "BRCA\n",
      "Raw with outlier clip\n",
      "1M_otlr_cut\n"
     ]
    },
    {
     "data": {
      "text/plain": [
       "DescribeResult(nobs=15315380, minmax=(0.0, 1000000.0), mean=932.8913369478428, variance=17986453.773315974, skewness=59.314188788254796, kurtosis=8390.732315352583)"
      ]
     },
     "execution_count": 34,
     "metadata": {},
     "output_type": "execute_result"
    }
   ],
   "source": [
    "row_lst = []\n",
    "for i, row_idx in enumerate(train.index):\n",
    "    row = train.iloc[i, 1:]\n",
    "    row_lst = row_lst + list(row)\n",
    "print(cohort)\n",
    "print('Raw with outlier clip')\n",
    "print(out_cut)\n",
    "scipy.stats.describe(row_lst)"
   ]
  },
  {
   "cell_type": "code",
   "execution_count": 35,
   "id": "da5f24ff-82c3-4e11-bafb-5a4fdc3d6ed8",
   "metadata": {
    "jupyter": {
     "source_hidden": true
    },
    "tags": []
   },
   "outputs": [
    {
     "name": "stdout",
     "output_type": "stream",
     "text": [
      "BRCA\n",
      "Normalized after outlier clip\n",
      "1M_otlr_cut\n"
     ]
    },
    {
     "data": {
      "text/plain": [
       "DescribeResult(nobs=15314634, minmax=(0.0, 1.0000000000000002), mean=0.11712291804306872, variance=0.01878651102802238, skewness=1.9362984304645297, kurtosis=5.500601778131932)"
      ]
     },
     "execution_count": 35,
     "metadata": {},
     "output_type": "execute_result"
    }
   ],
   "source": [
    "row_lst = []\n",
    "for i, row_idx in enumerate(train_norm.index):\n",
    "    row = train_norm.iloc[i, 1:]\n",
    "    row_lst = row_lst + list(row)\n",
    "print(cohort)\n",
    "print('Normalized after outlier clip')\n",
    "print(out_cut)\n",
    "scipy.stats.describe(row_lst)"
   ]
  },
  {
   "cell_type": "code",
   "execution_count": null,
   "id": "81ede39b-6c4e-4118-898f-edab5b522368",
   "metadata": {},
   "outputs": [],
   "source": []
  },
  {
   "cell_type": "code",
   "execution_count": null,
   "id": "a0c17df5-5a0e-42ee-bc29-98d111c92f2c",
   "metadata": {},
   "outputs": [],
   "source": [
    "#notes"
   ]
  },
  {
   "cell_type": "code",
   "execution_count": null,
   "id": "168dca77-a713-482d-a97e-3ab338a26d2e",
   "metadata": {},
   "outputs": [],
   "source": [
    "# Apply RobustScaler to Drug Response"
   ]
  },
  {
   "cell_type": "code",
   "execution_count": null,
   "id": "4ad99ea1-2929-48b6-a868-b1a1c8dec959",
   "metadata": {},
   "outputs": [],
   "source": [
    "# old notes"
   ]
  },
  {
   "cell_type": "code",
   "execution_count": null,
   "id": "cc356cb8-9155-4a37-944e-70443eba64d0",
   "metadata": {},
   "outputs": [],
   "source": [
    "# Need to generate in-line with model run\n",
    "# Need to run the UMAP in-line with model too"
   ]
  },
  {
   "cell_type": "markdown",
   "id": "9c680cd3-0f90-4b3e-b57a-4dae02f97c02",
   "metadata": {
    "jp-MarkdownHeadingCollapsed": true,
    "tags": []
   },
   "source": [
    "#### Target output dirs for 2D model data sets\n",
    "sample_gen/synthetic_TCGA_data_gen/a_data_structure/blca_brca_square_full/MinMax  \n",
    "./a_data_structure/blca_brca_square_full/clip_outlrs  \n",
    "./a_data_structure/blca_brca_square_full/log_xfrm  "
   ]
  },
  {
   "cell_type": "code",
   "execution_count": null,
   "id": "28718886-fad7-4304-8d41-183aa15be41a",
   "metadata": {},
   "outputs": [],
   "source": [
    "# target dirs for three sets of square files: blca_brca_flt64_sqrs/\n",
    "    # to the 2D model\n",
    "    \n",
    "# compare pre-post layer error fix on 2D model from original example ?"
   ]
  },
  {
   "cell_type": "markdown",
   "id": "cb6ecb94-78cc-4fa9-a623-02c4ee8a399b",
   "metadata": {},
   "source": [
    "##### Notes"
   ]
  },
  {
   "cell_type": "code",
   "execution_count": null,
   "id": "a8507e48-9c88-468d-9a53-c24f95406a09",
   "metadata": {},
   "outputs": [],
   "source": [
    "# notes\n",
    "    # use the same train test split for all file generations?\n",
    "    \n",
    "    # use multiple train test splits for each file set?"
   ]
  },
  {
   "cell_type": "markdown",
   "id": "b8f5bc96-6ef4-4c83-8dae-b56a3be7ff2f",
   "metadata": {
    "tags": []
   },
   "source": [
    "# Devel"
   ]
  },
  {
   "cell_type": "code",
   "execution_count": null,
   "id": "3e94415f-acc6-406e-9006-5b35cfb8401d",
   "metadata": {},
   "outputs": [],
   "source": [
    "https://www.geeksforgeeks.org/log-and-natural-logarithmic-value-of-a-column-in-pandas-python/ \n",
    "    log(), log2(), and log10() "
   ]
  },
  {
   "cell_type": "code",
   "execution_count": null,
   "id": "c638953b-2730-442d-b46e-7101edca757b",
   "metadata": {},
   "outputs": [],
   "source": [
    "# Improve the statistics on the raw data\n",
    "    # kurtosis, skew\n",
    "    # fine-grained histograms"
   ]
  },
  {
   "cell_type": "code",
   "execution_count": null,
   "id": "38c04953-30d2-4e1c-8ace-586972df8641",
   "metadata": {},
   "outputs": [],
   "source": [
    "https://stats.stackexchange.com/questions/402470/how-can-i-use-scaling-and-log-transforming-together\n",
    "X_train = np.log(X_train)"
   ]
  },
  {
   "cell_type": "code",
   "execution_count": null,
   "id": "2349133b-2b56-4ce9-a450-a6eaca219a34",
   "metadata": {},
   "outputs": [],
   "source": [
    "# Summary of normalization, context of outliers\n",
    "\n",
    "(x_train, _), (x_test, _) = keras.datasets.mnist.load_data()\n",
    "mnist_digits = np.concatenate([x_train, x_test], axis=0)\n",
    "mnist_digits = np.expand_dims(mnist_digits, -1).astype(\"float32\") / 255\n",
    "\n",
    "# vs\n",
    "scaler = MinMaxScaler()\n",
    "train_norm = pd.DataFrame(scaler.fit_transform(\n",
    "    train.iloc[:, 1:]), columns = train.columns[1:]) # <---- error; also, is this where the columns get put on the train_norm object\n",
    "test_norm = pd.DataFrame(scaler.transform(          # column names match though, so should not effect results\n",
    "    test.iloc[:, 1:]), columns = test.columns[1:])  # This seems artificial\n",
    "\n",
    "# try (after running train / test split)\n",
    "train, test = train_test_split(file)\n",
    "scaler = MinMaxScaler()\n",
    "scaler.fit(file)"
   ]
  },
  {
   "cell_type": "code",
   "execution_count": 24,
   "id": "ea4bbe50-6f0c-48ad-bf87-2cc555e42ef5",
   "metadata": {},
   "outputs": [],
   "source": [
    "train_norm.to_csv('normed_data/train_norm.tsv',\n",
    "                  sep = '\\t')"
   ]
  },
  {
   "cell_type": "code",
   "execution_count": 25,
   "id": "75a747f9-c4e1-4a91-b797-67e74cc66823",
   "metadata": {},
   "outputs": [],
   "source": [
    "test_norm.to_csv('normed_data/test_norm.tsv',\n",
    "                  sep = '\\t')"
   ]
  },
  {
   "cell_type": "code",
   "execution_count": null,
   "id": "c4884767-ad85-4404-80d7-35a61505da38",
   "metadata": {},
   "outputs": [],
   "source": [
    "# function devel"
   ]
  },
  {
   "cell_type": "code",
   "execution_count": 25,
   "id": "679b7f85-ac12-4b82-9d49-636a3e00060b",
   "metadata": {},
   "outputs": [],
   "source": [
    "X_list = []\n",
    "y_list = []"
   ]
  },
  {
   "cell_type": "code",
   "execution_count": 27,
   "id": "5743a22f-d67e-4bbb-9cff-c56f11366432",
   "metadata": {},
   "outputs": [],
   "source": [
    "for j, sample in enumerate(splt):\n",
    "    break"
   ]
  },
  {
   "cell_type": "code",
   "execution_count": 30,
   "id": "e3a6ebb2-dc37-47d9-8161-91376dd1a5fd",
   "metadata": {},
   "outputs": [
    {
     "data": {
      "text/plain": [
       "(20531,)"
      ]
     },
     "execution_count": 30,
     "metadata": {},
     "output_type": "execute_result"
    }
   ],
   "source": [
    "sample.shape"
   ]
  },
  {
   "cell_type": "code",
   "execution_count": 28,
   "id": "3bd1d6ab-803d-4fc5-87f8-cce256410368",
   "metadata": {},
   "outputs": [
    {
     "data": {
      "text/plain": [
       "0"
      ]
     },
     "execution_count": 28,
     "metadata": {},
     "output_type": "execute_result"
    }
   ],
   "source": [
    "j"
   ]
  },
  {
   "cell_type": "code",
   "execution_count": 35,
   "id": "61408542-0d4f-4167-8f82-af6bda5f3a5d",
   "metadata": {},
   "outputs": [],
   "source": [
    "gene_row = list(sample)"
   ]
  },
  {
   "cell_type": "code",
   "execution_count": 37,
   "id": "6dfd7bb7-d1a3-4ab5-834a-78de8cf52e82",
   "metadata": {},
   "outputs": [
    {
     "data": {
      "text/plain": [
       "20531"
      ]
     },
     "execution_count": 37,
     "metadata": {},
     "output_type": "execute_result"
    }
   ],
   "source": [
    "len(gene_row)"
   ]
  },
  {
   "cell_type": "code",
   "execution_count": 38,
   "id": "e5aaaff5-ead2-47c4-a08a-ef64ba62b540",
   "metadata": {},
   "outputs": [],
   "source": [
    "filler = gene_row + (20736 - len(gene_row)) * [0]"
   ]
  },
  {
   "cell_type": "code",
   "execution_count": 39,
   "id": "a93c60ab-0ce3-4a60-bd83-7564cda286fd",
   "metadata": {},
   "outputs": [
    {
     "data": {
      "text/plain": [
       "20736"
      ]
     },
     "execution_count": 39,
     "metadata": {},
     "output_type": "execute_result"
    }
   ],
   "source": [
    "len(filler)"
   ]
  },
  {
   "cell_type": "code",
   "execution_count": 40,
   "id": "ee0b8203-5e3c-48af-99a7-192190ce0bbf",
   "metadata": {},
   "outputs": [],
   "source": [
    "flr_ary = np.array(filler)"
   ]
  },
  {
   "cell_type": "code",
   "execution_count": 42,
   "id": "f476d1d3-33d3-4a8a-a7bf-1ac954a03ff4",
   "metadata": {},
   "outputs": [
    {
     "data": {
      "text/plain": [
       "(20736,)"
      ]
     },
     "execution_count": 42,
     "metadata": {},
     "output_type": "execute_result"
    }
   ],
   "source": [
    "flr_ary.shape"
   ]
  },
  {
   "cell_type": "code",
   "execution_count": 44,
   "id": "e41fb4fb-11aa-4eb1-ae9e-330f9ec1b060",
   "metadata": {},
   "outputs": [],
   "source": [
    "flr_ary_sqr = flr_ary.reshape(144,144,1)"
   ]
  },
  {
   "cell_type": "code",
   "execution_count": null,
   "id": "78e11caf-2f28-4781-bf68-1f74a0ff850c",
   "metadata": {},
   "outputs": [],
   "source": [
    "# Wednesday afternoon, v4 devel, this is for the square"
   ]
  },
  {
   "cell_type": "code",
   "execution_count": null,
   "id": "6f2922c3-722d-44b0-987a-d78ffa689fd4",
   "metadata": {},
   "outputs": [],
   "source": [
    "def wrap(splt):\n",
    "    X_list = []\n",
    "    y_list = []\n",
    "    for j, sample in enumerate(splt.index):\n",
    "        gene_row = list(sample)\n",
    "        filler = gene_row + (20736 - len(gene_row)) * [0]\n",
    "        flr_ary = np.array(filler)\n",
    "        flr_ary_sqr = flr_ary.reshape(144,144,1)\n",
    "        X_list.append(flr_ary_sqr)\n",
    "    return(X)"
   ]
  },
  {
   "cell_type": "code",
   "execution_count": null,
   "id": "abfda7c7-4860-4de9-89b3-f79259f5ea12",
   "metadata": {},
   "outputs": [],
   "source": [
    "# v2 version"
   ]
  },
  {
   "cell_type": "code",
   "execution_count": 29,
   "id": "95580844-a3cf-444d-8aed-01952c496bdc",
   "metadata": {},
   "outputs": [
    {
     "name": "stdout",
     "output_type": "stream",
     "text": [
      "starting BRCA\n",
      "MinMax train loop done\n",
      "done\n"
     ]
    }
   ],
   "source": [
    "# Wrap BLCA for pretrain, then BRCA\n",
    "# Main question here is whether to run MinMax\n",
    "# on train and test independently\n",
    "    # mirror the invert function regardless\n",
    "\n",
    "print('starting '+file.index.name)\n",
    "\n",
    "train, test = train_test_split(file) # normed above, v3 test\n",
    "\n",
    "# train.iloc[:,1:] = MinMaxScaler().fit_transform(\n",
    "#     train.iloc[:,1:]) # or just run on the file - done\n",
    "\n",
    "# test.iloc[:,1:] = MinMaxScaler().fit_transform(test.iloc[:,1:])\n",
    "\n",
    "trn_empty = [] # append model-formatted numpy arrays of gexp values\n",
    "trn_y_list = []\n",
    "\n",
    "for j, sample in enumerate(train.index): # go through the train object\n",
    "    gene_row = list(train.iloc[j,1:]) # extract sample gene expression\n",
    "\n",
    "    base = np.array(gene_row + (\n",
    "        20736 - len(\n",
    "            # gene_row)) * [0],dtype=np.uint8).reshape(144,144,1)\n",
    "                        gene_row)) * [0]).reshape(144,144,1)\n",
    "\n",
    "    trn_empty.append(base)\n",
    "    y = train.iloc[j,0]\n",
    "    trn_y_list.append(y)\n",
    "X_train_new  = np.array(trn_empty)\n",
    "# formatted = np.array(trn_empty)\n",
    "# formatted = formatted/255 # This normalization for unint 8, pull in the MinMaxScaler\n",
    "        # for data structure version one\n",
    "        # Start version one of this d_struct from here\n",
    "        # Send better f64 files to model b_mod_v1, time for outlier clipping, log x-form, etc\n",
    "\n",
    "      # END version 0 <------------- r0 png loss curve for BLCA in model dir\n",
    "    \n",
    "    # coordinate corrected versions in v2 of data structure and model\n",
    "    \n",
    "# formatted = MinMaxScaler(formatted) # Completly wrong\n",
    "\n",
    "# X_train_new = MinMaxScaler().fit_transform(formatted) # last fail\n",
    "\n",
    "# X_train_new = formatted\n",
    "\n",
    "print('MinMax train loop done')\n",
    "\n",
    "# Start processing the test data, same as above [toggling for MinMax test]\n",
    "\n",
    "tst_empty = []\n",
    "tst_y_list = []\n",
    "\n",
    "test.iloc[:,1:] = MinMaxScaler().fit_transform(test.iloc[:,1:])\n",
    "\n",
    "for j, sample in enumerate(test.index):\n",
    "    gene_row = list(test.iloc[j,1:])\n",
    "    base = np.array(gene_row + (\n",
    "        20736 - len(\n",
    "            # gene_row)) * [0],\n",
    "                        gene_row)) * [0]\n",
    "                    # dtype=np.uint8 # <---\n",
    "                   ).reshape(144,144,1)\n",
    "    tst_empty.append(base)\n",
    "    y = test.iloc[j,0]\n",
    "    tst_y_list.append(y)\n",
    "X_test_new = np.array(tst_empty)\n",
    "# formatted = formatted/255 # test normalization\n",
    "# X_test_new = formatted\n",
    "\n",
    "print('done')"
   ]
  },
  {
   "cell_type": "code",
   "execution_count": 24,
   "id": "b21d8cc5-7f4e-408a-8607-8bb934f1d5ba",
   "metadata": {
    "tags": []
   },
   "outputs": [
    {
     "data": {
      "text/plain": [
       "'BLCA'"
      ]
     },
     "execution_count": 24,
     "metadata": {},
     "output_type": "execute_result"
    }
   ],
   "source": [
    "file.index.name # Still losing index, dont care right now"
   ]
  },
  {
   "cell_type": "code",
   "execution_count": 30,
   "id": "756f91a0-5bdf-4c04-b386-a22056cd408d",
   "metadata": {},
   "outputs": [
    {
     "data": {
      "text/plain": [
       "'BRCA'"
      ]
     },
     "execution_count": 30,
     "metadata": {},
     "output_type": "execute_result"
    }
   ],
   "source": [
    "file.index.name # Check, run 2"
   ]
  },
  {
   "cell_type": "code",
   "execution_count": 31,
   "id": "3058e44e-3f0d-4ab0-95c0-011d163789cc",
   "metadata": {},
   "outputs": [],
   "source": [
    "np.save(\n",
    "    'blca_brca_flt64_sqrs/MinMax/'+file.index.name+'_MinMax_X_trn',\n",
    "    X_train_new)\n",
    "\n",
    "np.save(\n",
    "    'blca_brca_flt64_sqrs/MinMax/'+file.index.name+'_MinMax_X_tst.npy', # robust against ext incl\n",
    "        X_test_new)"
   ]
  },
  {
   "cell_type": "code",
   "execution_count": 32,
   "id": "f8f51cce-6863-4ddc-b1cc-6db381343437",
   "metadata": {},
   "outputs": [],
   "source": [
    "trn_y_out = pd.DataFrame(trn_y_list,columns = ['Labels'])\n",
    "trn_y_out.to_csv('blca_brca_flt64_sqrs/MinMax/'+file.index.name+'_MinMax_y_trn.tsv',\n",
    "                sep = '\\t',\n",
    "                )\n",
    "tst_y_out = pd.DataFrame(tst_y_list,columns = ['Labels'])\n",
    "tst_y_out.to_csv('blca_brca_flt64_sqrs/MinMax/'+file.index.name+'_MinMax_y_tst.tsv',\n",
    "                sep = '\\t',\n",
    "                )"
   ]
  },
  {
   "cell_type": "code",
   "execution_count": 21,
   "id": "cbecaec1-aabf-4845-b3f9-5f6e400bb0f8",
   "metadata": {
    "collapsed": true,
    "jupyter": {
     "outputs_hidden": true
    },
    "tags": []
   },
   "outputs": [
    {
     "data": {
      "text/plain": [
       "array([[[[0.00000000e+00],\n",
       "         [1.00325930e-01],\n",
       "         [2.41180480e-01],\n",
       "         ...,\n",
       "         [8.49700757e-02],\n",
       "         [6.30716818e-02],\n",
       "         [1.10217470e-01]],\n",
       "\n",
       "        [[1.14851667e-01],\n",
       "         [1.74943592e-01],\n",
       "         [3.91339207e-01],\n",
       "         ...,\n",
       "         [7.11519344e-02],\n",
       "         [1.39899475e-02],\n",
       "         [0.00000000e+00]],\n",
       "\n",
       "        [[0.00000000e+00],\n",
       "         [1.84413064e-03],\n",
       "         [0.00000000e+00],\n",
       "         ...,\n",
       "         [7.96775513e-02],\n",
       "         [1.97273754e-01],\n",
       "         [1.75369708e-01]],\n",
       "\n",
       "        ...,\n",
       "\n",
       "        [[2.44156677e-01],\n",
       "         [6.40961394e-01],\n",
       "         [2.07762700e-01],\n",
       "         ...,\n",
       "         [3.51270520e-03],\n",
       "         [6.56183074e-02],\n",
       "         [2.60783757e-02]],\n",
       "\n",
       "        [[1.64730188e-01],\n",
       "         [5.34494721e-01],\n",
       "         [2.34988529e-01],\n",
       "         ...,\n",
       "         [0.00000000e+00],\n",
       "         [0.00000000e+00],\n",
       "         [0.00000000e+00]],\n",
       "\n",
       "        [[0.00000000e+00],\n",
       "         [0.00000000e+00],\n",
       "         [0.00000000e+00],\n",
       "         ...,\n",
       "         [0.00000000e+00],\n",
       "         [0.00000000e+00],\n",
       "         [0.00000000e+00]]],\n",
       "\n",
       "\n",
       "       [[[0.00000000e+00],\n",
       "         [1.00034145e-01],\n",
       "         [1.45555699e-01],\n",
       "         ...,\n",
       "         [4.55951078e-01],\n",
       "         [6.98646409e-02],\n",
       "         [7.23574711e-03]],\n",
       "\n",
       "        [[8.38132224e-02],\n",
       "         [9.22800910e-02],\n",
       "         [2.80254296e-01],\n",
       "         ...,\n",
       "         [7.15299064e-02],\n",
       "         [4.29450633e-02],\n",
       "         [0.00000000e+00]],\n",
       "\n",
       "        [[0.00000000e+00],\n",
       "         [9.16326575e-02],\n",
       "         [0.00000000e+00],\n",
       "         ...,\n",
       "         [9.96575172e-02],\n",
       "         [2.75786417e-01],\n",
       "         [1.22811770e-01]],\n",
       "\n",
       "        ...,\n",
       "\n",
       "        [[2.18001154e-01],\n",
       "         [2.51563482e-03],\n",
       "         [2.06716871e-01],\n",
       "         ...,\n",
       "         [2.11885509e-02],\n",
       "         [2.26247911e-01],\n",
       "         [0.00000000e+00]],\n",
       "\n",
       "        [[1.30683864e-01],\n",
       "         [1.71904044e-01],\n",
       "         [1.77533789e-01],\n",
       "         ...,\n",
       "         [0.00000000e+00],\n",
       "         [0.00000000e+00],\n",
       "         [0.00000000e+00]],\n",
       "\n",
       "        [[0.00000000e+00],\n",
       "         [0.00000000e+00],\n",
       "         [0.00000000e+00],\n",
       "         ...,\n",
       "         [0.00000000e+00],\n",
       "         [0.00000000e+00],\n",
       "         [0.00000000e+00]]],\n",
       "\n",
       "\n",
       "       [[[0.00000000e+00],\n",
       "         [0.00000000e+00],\n",
       "         [3.56686255e-02],\n",
       "         ...,\n",
       "         [7.62081206e-02],\n",
       "         [9.26587925e-02],\n",
       "         [1.66480598e-02]],\n",
       "\n",
       "        [[5.49854080e-02],\n",
       "         [1.16583491e-02],\n",
       "         [5.79901526e-02],\n",
       "         ...,\n",
       "         [1.80442797e-01],\n",
       "         [2.82428374e-03],\n",
       "         [0.00000000e+00]],\n",
       "\n",
       "        [[0.00000000e+00],\n",
       "         [1.67802270e-04],\n",
       "         [0.00000000e+00],\n",
       "         ...,\n",
       "         [2.36109759e-01],\n",
       "         [1.71317955e-01],\n",
       "         [1.81073855e-01]],\n",
       "\n",
       "        ...,\n",
       "\n",
       "        [[3.37483172e-01],\n",
       "         [1.11131650e-03],\n",
       "         [1.14455635e-01],\n",
       "         ...,\n",
       "         [9.65085624e-03],\n",
       "         [1.62307900e-01],\n",
       "         [5.97007561e-03]],\n",
       "\n",
       "        [[0.00000000e+00],\n",
       "         [2.55503545e-01],\n",
       "         [2.07346811e-01],\n",
       "         ...,\n",
       "         [0.00000000e+00],\n",
       "         [0.00000000e+00],\n",
       "         [0.00000000e+00]],\n",
       "\n",
       "        [[0.00000000e+00],\n",
       "         [0.00000000e+00],\n",
       "         [0.00000000e+00],\n",
       "         ...,\n",
       "         [0.00000000e+00],\n",
       "         [0.00000000e+00],\n",
       "         [0.00000000e+00]]],\n",
       "\n",
       "\n",
       "       ...,\n",
       "\n",
       "\n",
       "       [[[0.00000000e+00],\n",
       "         [0.00000000e+00],\n",
       "         [1.23031152e-01],\n",
       "         ...,\n",
       "         [8.72703896e-02],\n",
       "         [7.15251420e-02],\n",
       "         [1.28653170e-02]],\n",
       "\n",
       "        [[4.74802951e-02],\n",
       "         [8.17111296e-02],\n",
       "         [1.56407403e-01],\n",
       "         ...,\n",
       "         [3.89021208e-02],\n",
       "         [1.05240984e-02],\n",
       "         [0.00000000e+00]],\n",
       "\n",
       "        [[0.00000000e+00],\n",
       "         [9.59815193e-03],\n",
       "         [0.00000000e+00],\n",
       "         ...,\n",
       "         [6.64293302e-02],\n",
       "         [5.57670592e-02],\n",
       "         [1.87885488e-01]],\n",
       "\n",
       "        ...,\n",
       "\n",
       "        [[2.40400026e-01],\n",
       "         [1.57271932e-01],\n",
       "         [1.37611165e-01],\n",
       "         ...,\n",
       "         [3.60641574e-02],\n",
       "         [1.65926314e-01],\n",
       "         [4.42784720e-01]],\n",
       "\n",
       "        [[2.64414602e-01],\n",
       "         [2.37117328e-01],\n",
       "         [2.23097246e-01],\n",
       "         ...,\n",
       "         [0.00000000e+00],\n",
       "         [0.00000000e+00],\n",
       "         [0.00000000e+00]],\n",
       "\n",
       "        [[0.00000000e+00],\n",
       "         [0.00000000e+00],\n",
       "         [0.00000000e+00],\n",
       "         ...,\n",
       "         [0.00000000e+00],\n",
       "         [0.00000000e+00],\n",
       "         [0.00000000e+00]]],\n",
       "\n",
       "\n",
       "       [[[0.00000000e+00],\n",
       "         [2.17503997e-01],\n",
       "         [3.25018883e-01],\n",
       "         ...,\n",
       "         [8.16658273e-02],\n",
       "         [1.00763170e-01],\n",
       "         [9.45502681e-03]],\n",
       "\n",
       "        [[9.03807707e-02],\n",
       "         [9.38709526e-02],\n",
       "         [6.06783754e-02],\n",
       "         ...,\n",
       "         [1.17078121e-02],\n",
       "         [2.92081032e-02],\n",
       "         [0.00000000e+00]],\n",
       "\n",
       "        [[0.00000000e+00],\n",
       "         [2.84482669e-04],\n",
       "         [0.00000000e+00],\n",
       "         ...,\n",
       "         [4.93235803e-02],\n",
       "         [5.55460558e-02],\n",
       "         [2.34161719e-01]],\n",
       "\n",
       "        ...,\n",
       "\n",
       "        [[2.74979165e-01],\n",
       "         [4.62723554e-03],\n",
       "         [1.80630075e-01],\n",
       "         ...,\n",
       "         [2.50470768e-03],\n",
       "         [2.20687910e-01],\n",
       "         [0.00000000e+00]],\n",
       "\n",
       "        [[1.68435717e-01],\n",
       "         [4.10413988e-02],\n",
       "         [9.18012069e-02],\n",
       "         ...,\n",
       "         [0.00000000e+00],\n",
       "         [0.00000000e+00],\n",
       "         [0.00000000e+00]],\n",
       "\n",
       "        [[0.00000000e+00],\n",
       "         [0.00000000e+00],\n",
       "         [0.00000000e+00],\n",
       "         ...,\n",
       "         [0.00000000e+00],\n",
       "         [0.00000000e+00],\n",
       "         [0.00000000e+00]]],\n",
       "\n",
       "\n",
       "       [[[0.00000000e+00],\n",
       "         [4.99899117e-01],\n",
       "         [3.61531234e-01],\n",
       "         ...,\n",
       "         [2.10714829e-02],\n",
       "         [9.19700619e-02],\n",
       "         [3.10083916e-03]],\n",
       "\n",
       "        [[1.44111497e-01],\n",
       "         [2.71961631e-01],\n",
       "         [1.00000000e+00],\n",
       "         ...,\n",
       "         [3.72752879e-02],\n",
       "         [8.83923117e-03],\n",
       "         [0.00000000e+00]],\n",
       "\n",
       "        [[0.00000000e+00],\n",
       "         [1.06311127e-04],\n",
       "         [0.00000000e+00],\n",
       "         ...,\n",
       "         [5.80901013e-02],\n",
       "         [9.38054525e-02],\n",
       "         [6.29360911e-02]],\n",
       "\n",
       "        ...,\n",
       "\n",
       "        [[2.03064299e-01],\n",
       "         [1.08865084e-02],\n",
       "         [2.13566313e-01],\n",
       "         ...,\n",
       "         [0.00000000e+00],\n",
       "         [6.72951331e-02],\n",
       "         [0.00000000e+00]],\n",
       "\n",
       "        [[3.93492106e-01],\n",
       "         [4.82980694e-01],\n",
       "         [3.87217296e-01],\n",
       "         ...,\n",
       "         [0.00000000e+00],\n",
       "         [0.00000000e+00],\n",
       "         [0.00000000e+00]],\n",
       "\n",
       "        [[0.00000000e+00],\n",
       "         [0.00000000e+00],\n",
       "         [0.00000000e+00],\n",
       "         ...,\n",
       "         [0.00000000e+00],\n",
       "         [0.00000000e+00],\n",
       "         [0.00000000e+00]]]])"
      ]
     },
     "execution_count": 21,
     "metadata": {},
     "output_type": "execute_result"
    }
   ],
   "source": [
    "X_train_new # looks pretty good"
   ]
  },
  {
   "cell_type": "code",
   "execution_count": null,
   "id": "ad2c6462-bb36-44f7-b28c-64d934698595",
   "metadata": {},
   "outputs": [],
   "source": [
    "# remember to fix the layers on the model per error in original example"
   ]
  },
  {
   "cell_type": "code",
   "execution_count": null,
   "id": "1298bb48-31ea-472b-a038-d3a1fa96e08f",
   "metadata": {},
   "outputs": [],
   "source": [
    "# End the MinMax file write"
   ]
  },
  {
   "cell_type": "code",
   "execution_count": null,
   "id": "9344cad3-ebea-40b2-9b63-cb3ab4d825df",
   "metadata": {},
   "outputs": [],
   "source": [
    "# Original div256_float64 fail from version 00"
   ]
  },
  {
   "cell_type": "code",
   "execution_count": 45,
   "id": "682bef71-6772-4172-a023-209d978ecaa8",
   "metadata": {},
   "outputs": [
    {
     "data": {
      "text/html": [
       "<div>\n",
       "<style scoped>\n",
       "    .dataframe tbody tr th:only-of-type {\n",
       "        vertical-align: middle;\n",
       "    }\n",
       "\n",
       "    .dataframe tbody tr th {\n",
       "        vertical-align: top;\n",
       "    }\n",
       "\n",
       "    .dataframe thead th {\n",
       "        text-align: right;\n",
       "    }\n",
       "</style>\n",
       "<table border=\"1\" class=\"dataframe\">\n",
       "  <thead>\n",
       "    <tr style=\"text-align: right;\">\n",
       "      <th></th>\n",
       "      <th>Labels</th>\n",
       "    </tr>\n",
       "  </thead>\n",
       "  <tbody>\n",
       "    <tr>\n",
       "      <th>0</th>\n",
       "      <td>BRCA_2</td>\n",
       "    </tr>\n",
       "    <tr>\n",
       "      <th>1</th>\n",
       "      <td>BRCA_1</td>\n",
       "    </tr>\n",
       "    <tr>\n",
       "      <th>2</th>\n",
       "      <td>BRCA_2</td>\n",
       "    </tr>\n",
       "    <tr>\n",
       "      <th>3</th>\n",
       "      <td>BRCA_2</td>\n",
       "    </tr>\n",
       "    <tr>\n",
       "      <th>4</th>\n",
       "      <td>BRCA_4</td>\n",
       "    </tr>\n",
       "    <tr>\n",
       "      <th>...</th>\n",
       "      <td>...</td>\n",
       "    </tr>\n",
       "    <tr>\n",
       "      <th>741</th>\n",
       "      <td>BRCA_2</td>\n",
       "    </tr>\n",
       "    <tr>\n",
       "      <th>742</th>\n",
       "      <td>BRCA_1</td>\n",
       "    </tr>\n",
       "    <tr>\n",
       "      <th>743</th>\n",
       "      <td>BRCA_1</td>\n",
       "    </tr>\n",
       "    <tr>\n",
       "      <th>744</th>\n",
       "      <td>BRCA_3</td>\n",
       "    </tr>\n",
       "    <tr>\n",
       "      <th>745</th>\n",
       "      <td>BRCA_1</td>\n",
       "    </tr>\n",
       "  </tbody>\n",
       "</table>\n",
       "<p>746 rows × 1 columns</p>\n",
       "</div>"
      ],
      "text/plain": [
       "     Labels\n",
       "0    BRCA_2\n",
       "1    BRCA_1\n",
       "2    BRCA_2\n",
       "3    BRCA_2\n",
       "4    BRCA_4\n",
       "..      ...\n",
       "741  BRCA_2\n",
       "742  BRCA_1\n",
       "743  BRCA_1\n",
       "744  BRCA_3\n",
       "745  BRCA_1\n",
       "\n",
       "[746 rows x 1 columns]"
      ]
     },
     "execution_count": 45,
     "metadata": {},
     "output_type": "execute_result"
    }
   ],
   "source": [
    "trn_y_out # Lost index labels, might need for plot eventually"
   ]
  },
  {
   "cell_type": "code",
   "execution_count": null,
   "id": "c009a401-b00f-43c7-97aa-37d631516923",
   "metadata": {},
   "outputs": [],
   "source": [
    "# Write the y's, not used for the UMAP, just keeping ready for sample gen ops"
   ]
  },
  {
   "cell_type": "code",
   "execution_count": 44,
   "id": "dbc4bf7e-8dd3-4cf6-ad36-f637da2e9f9d",
   "metadata": {},
   "outputs": [],
   "source": [
    "trn_y_out = pd.DataFrame(trn_y_list,columns = ['Labels'])\n",
    "trn_y_out.to_csv('brca_full_flt64_y_trn.tsv',\n",
    "                sep = '\\t',\n",
    "                )\n",
    "tst_y_out = pd.DataFrame(tst_y_list,columns = ['Labels'])\n",
    "tst_y_out.to_csv('brca_full_flt64_y_tst.tsv',\n",
    "                sep = '\\t',\n",
    "                )"
   ]
  },
  {
   "cell_type": "code",
   "execution_count": null,
   "id": "fe790d25-4be1-4cc4-bc58-ea225fb3c49c",
   "metadata": {},
   "outputs": [],
   "source": [
    "# Bladder"
   ]
  },
  {
   "cell_type": "code",
   "execution_count": 8,
   "id": "f8adff1b-17e6-440f-bcb5-52a1193ca70b",
   "metadata": {},
   "outputs": [
    {
     "data": {
      "text/plain": [
       "299"
      ]
     },
     "execution_count": 8,
     "metadata": {},
     "output_type": "execute_result"
    }
   ],
   "source": [
    "len(trn_y_list) # bladder check"
   ]
  },
  {
   "cell_type": "code",
   "execution_count": 9,
   "id": "0a10ebfb-611d-456d-bc45-170d78b4d5f1",
   "metadata": {},
   "outputs": [],
   "source": [
    "trn_y_out = pd.DataFrame(trn_y_list, columns = ['Labels'])"
   ]
  },
  {
   "cell_type": "code",
   "execution_count": 16,
   "id": "5a2d8558-4f1d-4a64-8e72-c98a57d06cb3",
   "metadata": {},
   "outputs": [],
   "source": [
    "trn_y_out.to_csv('blca_full_flt64_y_trn.tsv',\n",
    "                sep = '\\t',\n",
    "                )"
   ]
  },
  {
   "cell_type": "code",
   "execution_count": 17,
   "id": "c68c9d40-a334-46a9-80ab-3d5daf473cd5",
   "metadata": {},
   "outputs": [],
   "source": [
    "tst_y_out = pd.DataFrame(tst_y_list,columns = ['Labels'])\n",
    "tst_y_out.to_csv('blca_full_flt64_y_tst.tsv',\n",
    "                sep = '\\t',\n",
    "                )"
   ]
  },
  {
   "cell_type": "code",
   "execution_count": 14,
   "id": "b59bdb83-b021-4840-baee-ec2327c9956d",
   "metadata": {},
   "outputs": [
    {
     "data": {
      "text/plain": [
       "100"
      ]
     },
     "execution_count": 14,
     "metadata": {},
     "output_type": "execute_result"
    }
   ],
   "source": [
    "len(tst_y_out) # BLCA check"
   ]
  },
  {
   "cell_type": "code",
   "execution_count": null,
   "id": "c0dc1b8e-4085-4711-9aac-ca051556a491",
   "metadata": {},
   "outputs": [],
   "source": [
    "# end y zone"
   ]
  },
  {
   "cell_type": "code",
   "execution_count": null,
   "id": "2d97cbac-7c25-488d-b228-bead42bb9f0e",
   "metadata": {},
   "outputs": [],
   "source": [
    "# write brca, no checks, second run, for fine tune, blca devel and inspect below"
   ]
  },
  {
   "cell_type": "markdown",
   "id": "497448d5-34cc-4c56-bb16-039fdfd0dd8a",
   "metadata": {},
   "source": [
    "### X files"
   ]
  },
  {
   "cell_type": "code",
   "execution_count": 46,
   "id": "f544ef3f-5efa-44a5-8b9f-8a8661715758",
   "metadata": {},
   "outputs": [],
   "source": [
    "np.save('brca_full_flt64_X_trn', X_train_new)"
   ]
  },
  {
   "cell_type": "code",
   "execution_count": 47,
   "id": "8327b262-020f-4754-bf0d-92648d197a7f",
   "metadata": {},
   "outputs": [],
   "source": [
    "np.save('brca_full_flt64_X_tst.npy', X_test_new)"
   ]
  },
  {
   "cell_type": "code",
   "execution_count": null,
   "id": "69af70c9-29a7-4039-85f7-f5108b32b3d9",
   "metadata": {},
   "outputs": [],
   "source": [
    "# End, go to model 2022-10-07 Friday morning"
   ]
  },
  {
   "cell_type": "markdown",
   "id": "c08a7e74-8cdc-40ff-a0c7-848aa3f992d2",
   "metadata": {},
   "source": [
    "#### blca flt 64 devel, inspect, and write-out (run first):"
   ]
  },
  {
   "cell_type": "code",
   "execution_count": null,
   "id": "a6f7ae0b-40dd-4688-8515-13716a795a85",
   "metadata": {},
   "outputs": [],
   "source": [
    "# Start X checks"
   ]
  },
  {
   "cell_type": "code",
   "execution_count": 18,
   "id": "8ccac6b8-bdcf-4544-95fd-fba4f9b02f80",
   "metadata": {},
   "outputs": [
    {
     "data": {
      "text/plain": [
       "(299, 144, 144, 1)"
      ]
     },
     "execution_count": 18,
     "metadata": {},
     "output_type": "execute_result"
    }
   ],
   "source": [
    "X_train_new.shape # main variable trn"
   ]
  },
  {
   "cell_type": "code",
   "execution_count": 19,
   "id": "b1c4de05-64a7-46b1-94f6-03329e492deb",
   "metadata": {},
   "outputs": [
    {
     "data": {
      "text/plain": [
       "(100, 144, 144, 1)"
      ]
     },
     "execution_count": 19,
     "metadata": {},
     "output_type": "execute_result"
    }
   ],
   "source": [
    "X_test_new.shape # main variable tst"
   ]
  },
  {
   "cell_type": "code",
   "execution_count": 20,
   "id": "71344baa-6f30-424a-a44b-73b57edd0f3f",
   "metadata": {},
   "outputs": [
    {
     "data": {
      "text/plain": [
       "numpy.ndarray"
      ]
     },
     "execution_count": 20,
     "metadata": {},
     "output_type": "execute_result"
    }
   ],
   "source": [
    "type(X_train_new)"
   ]
  },
  {
   "cell_type": "code",
   "execution_count": 21,
   "id": "1abceab8-91da-486d-9b98-3186b8f56990",
   "metadata": {},
   "outputs": [
    {
     "data": {
      "text/plain": [
       "299"
      ]
     },
     "execution_count": 21,
     "metadata": {},
     "output_type": "execute_result"
    }
   ],
   "source": [
    "len(X_train_new) # dim pos 0"
   ]
  },
  {
   "cell_type": "code",
   "execution_count": 25,
   "id": "8d695de6-8e30-4217-bff8-f444d892c2b4",
   "metadata": {},
   "outputs": [
    {
     "data": {
      "text/plain": [
       "(144, 144, 1)"
      ]
     },
     "execution_count": 25,
     "metadata": {},
     "output_type": "execute_result"
    }
   ],
   "source": [
    "X_train_new[0].shape # shape of the first sample"
   ]
  },
  {
   "cell_type": "code",
   "execution_count": 28,
   "id": "08f289e6-45c6-4ac1-a069-c79efdf77c7e",
   "metadata": {},
   "outputs": [
    {
     "data": {
      "text/plain": [
       "(144, 1)"
      ]
     },
     "execution_count": 28,
     "metadata": {},
     "output_type": "execute_result"
    }
   ],
   "source": [
    "X_train_new[0][0].shape # first row"
   ]
  },
  {
   "cell_type": "code",
   "execution_count": 29,
   "id": "2ca8fb0e-58da-4ba2-8c04-0c18a2a04ce7",
   "metadata": {
    "collapsed": true,
    "jupyter": {
     "outputs_hidden": true
    },
    "tags": []
   },
   "outputs": [
    {
     "data": {
      "text/plain": [
       "array([[0.00000000e+00],\n",
       "       [3.94470588e-02],\n",
       "       [3.63772549e-02],\n",
       "       [4.39647059e-01],\n",
       "       [3.22552941e+00],\n",
       "       [0.00000000e+00],\n",
       "       [3.79905882e+00],\n",
       "       [5.83294118e-03],\n",
       "       [0.00000000e+00],\n",
       "       [0.00000000e+00],\n",
       "       [0.00000000e+00],\n",
       "       [1.94427451e-02],\n",
       "       [3.49964706e-02],\n",
       "       [0.00000000e+00],\n",
       "       [0.00000000e+00],\n",
       "       [0.00000000e+00],\n",
       "       [0.00000000e+00],\n",
       "       [0.00000000e+00],\n",
       "       [5.83294118e-03],\n",
       "       [1.15490196e+00],\n",
       "       [1.14709804e-01],\n",
       "       [0.00000000e+00],\n",
       "       [2.33270588e+01],\n",
       "       [0.00000000e+00],\n",
       "       [0.00000000e+00],\n",
       "       [0.00000000e+00],\n",
       "       [1.94431373e-03],\n",
       "       [5.71607843e+00],\n",
       "       [0.00000000e+00],\n",
       "       [7.67803922e-02],\n",
       "       [0.00000000e+00],\n",
       "       [0.00000000e+00],\n",
       "       [4.89882353e-01],\n",
       "       [4.97921569e+00],\n",
       "       [3.91960784e+01],\n",
       "       [2.64611765e+00],\n",
       "       [7.77686275e-03],\n",
       "       [0.00000000e+00],\n",
       "       [4.37843137e+00],\n",
       "       [0.00000000e+00],\n",
       "       [3.16525490e+00],\n",
       "       [0.00000000e+00],\n",
       "       [0.00000000e+00],\n",
       "       [0.00000000e+00],\n",
       "       [1.36098039e-02],\n",
       "       [1.24239216e+00],\n",
       "       [2.89890196e+00],\n",
       "       [2.51588235e+00],\n",
       "       [8.50039216e+00],\n",
       "       [3.88862745e-03],\n",
       "       [1.98313725e+00],\n",
       "       [3.08749020e+00],\n",
       "       [1.08976471e+01],\n",
       "       [5.83098039e+00],\n",
       "       [5.17176471e-01],\n",
       "       [1.02266667e+00],\n",
       "       [6.90000000e+00],\n",
       "       [8.74901961e-02],\n",
       "       [1.34541176e+00],\n",
       "       [1.38043137e-01],\n",
       "       [3.03498039e-01],\n",
       "       [1.32207843e-01],\n",
       "       [7.77686275e-03],\n",
       "       [4.08313725e-02],\n",
       "       [5.05294118e+00],\n",
       "       [4.26392157e+00],\n",
       "       [1.94619608e+00],\n",
       "       [2.60529412e-01],\n",
       "       [1.64874510e+00],\n",
       "       [5.05490196e-02],\n",
       "       [1.09266667e+00],\n",
       "       [2.13866667e-02],\n",
       "       [5.83294118e-02],\n",
       "       [1.12376471e+00],\n",
       "       [0.00000000e+00],\n",
       "       [3.69407843e-02],\n",
       "       [5.05490196e-02],\n",
       "       [1.94431373e-03],\n",
       "       [2.19176471e+00],\n",
       "       [1.19572549e+00],\n",
       "       [2.30200000e+00],\n",
       "       [6.46313725e-01],\n",
       "       [2.56058824e+00],\n",
       "       [9.72117647e-03],\n",
       "       [1.94431373e-03],\n",
       "       [5.83294118e-03],\n",
       "       [8.20470588e+00],\n",
       "       [1.94431373e-03],\n",
       "       [1.16070588e+00],\n",
       "       [9.13803922e-01],\n",
       "       [8.46745098e+00],\n",
       "       [0.00000000e+00],\n",
       "       [0.00000000e+00],\n",
       "       [1.36098039e-02],\n",
       "       [7.77686275e-03],\n",
       "       [5.93019608e-01],\n",
       "       [2.29227451e+00],\n",
       "       [5.05490196e-02],\n",
       "       [1.65007843e+01],\n",
       "       [2.89305882e+00],\n",
       "       [5.73372549e+00],\n",
       "       [4.50078431e+00],\n",
       "       [5.55098039e+00],\n",
       "       [5.25333333e+00],\n",
       "       [3.30525490e+00],\n",
       "       [4.86078431e-02],\n",
       "       [1.94431373e-03],\n",
       "       [3.88862745e-03],\n",
       "       [0.00000000e+00],\n",
       "       [2.79780392e+00],\n",
       "       [5.61686275e+00],\n",
       "       [5.83294118e-03],\n",
       "       [2.95062745e+01],\n",
       "       [9.91568627e-01],\n",
       "       [1.67984314e+00],\n",
       "       [5.86588235e+00],\n",
       "       [8.84627451e-01],\n",
       "       [4.86078431e-02],\n",
       "       [4.19764706e+00],\n",
       "       [3.86905882e-01],\n",
       "       [4.79058824e+00],\n",
       "       [2.04149020e+00],\n",
       "       [5.89098039e-01],\n",
       "       [1.25988235e+00],\n",
       "       [5.51725490e+00],\n",
       "       [2.47501961e+00],\n",
       "       [3.51909804e-01],\n",
       "       [1.94427451e-01],\n",
       "       [8.54705882e+00],\n",
       "       [1.93843137e+00],\n",
       "       [1.05886275e+01],\n",
       "       [5.83294118e-02],\n",
       "       [1.70509804e+00],\n",
       "       [1.01686275e+00],\n",
       "       [1.94427451e-02],\n",
       "       [3.88862745e-03],\n",
       "       [5.09411765e+00],\n",
       "       [2.50419608e+00],\n",
       "       [1.06545098e+00],\n",
       "       [5.83294118e-01],\n",
       "       [8.11137255e+00],\n",
       "       [3.00776471e+00],\n",
       "       [9.22352941e+00],\n",
       "       [5.40509804e-01]])"
      ]
     },
     "execution_count": 29,
     "metadata": {},
     "output_type": "execute_result"
    }
   ],
   "source": [
    "X_train_new[0][0] # second element of the shape of this object is one\n",
    "# one list of 144 lists? why is every value a list? because it could be three RBG channels?"
   ]
  },
  {
   "cell_type": "code",
   "execution_count": 34,
   "id": "0fa2f7d2-1aee-4c2d-8218-587e8796548a",
   "metadata": {},
   "outputs": [
    {
     "data": {
      "text/plain": [
       "array([0.])"
      ]
     },
     "execution_count": 34,
     "metadata": {},
     "output_type": "execute_result"
    }
   ],
   "source": [
    "X_train_new[0][0][0] # first sample, first pixel row, first element"
   ]
  },
  {
   "cell_type": "code",
   "execution_count": 33,
   "id": "c698f36f-e41b-4f16-909b-2e902ffee4c7",
   "metadata": {},
   "outputs": [
    {
     "data": {
      "text/plain": [
       "array([0.])"
      ]
     },
     "execution_count": 33,
     "metadata": {},
     "output_type": "execute_result"
    }
   ],
   "source": [
    "X_train_new[0][0][37]"
   ]
  },
  {
   "cell_type": "code",
   "execution_count": 35,
   "id": "3aa0813f-fc3b-41e6-b437-7c26e2b52eb7",
   "metadata": {},
   "outputs": [
    {
     "data": {
      "text/plain": [
       "array([4.37843137])"
      ]
     },
     "execution_count": 35,
     "metadata": {},
     "output_type": "execute_result"
    }
   ],
   "source": [
    "X_train_new[0][0][38] # find an actual gene expression value"
   ]
  },
  {
   "cell_type": "code",
   "execution_count": 36,
   "id": "29cfc095-8450-4f2c-98a6-de8857182fd3",
   "metadata": {},
   "outputs": [
    {
     "data": {
      "text/plain": [
       "4.37843137254902"
      ]
     },
     "execution_count": 36,
     "metadata": {},
     "output_type": "execute_result"
    }
   ],
   "source": [
    "X_train_new[0][0][38][0] # pull the singe gene expression value from the RGB list"
   ]
  },
  {
   "cell_type": "code",
   "execution_count": 37,
   "id": "54545903-6810-4a61-b3c0-3f432a663809",
   "metadata": {},
   "outputs": [
    {
     "data": {
      "text/plain": [
       "numpy.float64"
      ]
     },
     "execution_count": 37,
     "metadata": {},
     "output_type": "execute_result"
    }
   ],
   "source": [
    "type(X_train_new[0][0][38][0]) # Correct, send to model set up to take this dtype"
   ]
  },
  {
   "cell_type": "code",
   "execution_count": 38,
   "id": "86652044-ec83-4ead-ab43-978c7337f691",
   "metadata": {},
   "outputs": [],
   "source": [
    "np.save('blca_full_flt64_X_trn', X_train_new)"
   ]
  },
  {
   "cell_type": "code",
   "execution_count": 39,
   "id": "eba04e77-b9c4-4184-b651-f81ce1ea971d",
   "metadata": {},
   "outputs": [
    {
     "data": {
      "text/plain": [
       "100"
      ]
     },
     "execution_count": 39,
     "metadata": {},
     "output_type": "execute_result"
    }
   ],
   "source": [
    "len(X_test_new)"
   ]
  },
  {
   "cell_type": "code",
   "execution_count": 40,
   "id": "5c9c2573-3743-4b8c-ae28-6bd4cbd6c9ed",
   "metadata": {},
   "outputs": [],
   "source": [
    "np.save('blca_full_flt64_X_tst', X_test_new)"
   ]
  },
  {
   "cell_type": "code",
   "execution_count": null,
   "id": "65e0b384-fe8e-434b-bcb5-5c19afd9fd09",
   "metadata": {},
   "outputs": [],
   "source": [
    "# done, with flt 64 wrap for blca and brca"
   ]
  },
  {
   "cell_type": "code",
   "execution_count": null,
   "id": "daf04c07-7e3b-46d7-ab57-12c41985bbf8",
   "metadata": {},
   "outputs": [],
   "source": [
    "# Original uint8 file write, probly back in og img gen dir"
   ]
  },
  {
   "cell_type": "code",
   "execution_count": null,
   "id": "c6573a43-36b3-41cb-a698-21e914d07bd0",
   "metadata": {},
   "outputs": [],
   "source": [
    "BLCA_square.to_csv('nb_A_data_out/'+version+\n",
    "                   date+'_'+\n",
    "                   file.index.name+'_'+\n",
    "                   'square.tsv',\n",
    "                    sep = '\\t',\n",
    "                   )"
   ]
  }
 ],
 "metadata": {
  "kernelspec": {
   "display_name": "Python 3 (ipykernel)",
   "language": "python",
   "name": "python3"
  },
  "language_info": {
   "codemirror_mode": {
    "name": "ipython",
    "version": 3
   },
   "file_extension": ".py",
   "mimetype": "text/x-python",
   "name": "python",
   "nbconvert_exporter": "python",
   "pygments_lexer": "ipython3",
   "version": "3.9.7"
  }
 },
 "nbformat": 4,
 "nbformat_minor": 5
}
