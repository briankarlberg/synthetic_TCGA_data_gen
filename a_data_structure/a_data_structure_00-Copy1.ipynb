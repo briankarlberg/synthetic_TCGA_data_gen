{
 "cells": [
  {
   "cell_type": "code",
   "execution_count": null,
   "id": "e1e9c461-1ba5-4219-ba2f-a740f6a1a779",
   "metadata": {},
   "outputs": [],
   "source": [
    "# From nb_A_data_structure____00.ipynb (in image gen original)\n",
    "# apply to the Casey Greene data"
   ]
  },
  {
   "cell_type": "code",
   "execution_count": null,
   "id": "93fbb1fd-f71f-4f5f-886f-9dc3a1e3cf87",
   "metadata": {},
   "outputs": [],
   "source": [
    "# Library organization strategy\n",
    "A_data_structure\n",
    "B_model_build_train\n",
    "C_synth_latent_gen\n",
    "D_UMAP_fnctn_plot\n",
    "E_ML_classification\n",
    "\n",
    "# other notes:\n",
    "    # latent space dimension goal 50 to 500\n",
    "    # UMAP figures at various points of data transformation"
   ]
  },
  {
   "cell_type": "code",
   "execution_count": null,
   "id": "eb73f511-970f-400c-863b-eb1c5d03780f",
   "metadata": {},
   "outputs": [],
   "source": [
    "# Original notes:\n",
    "# copy in code from synth_VAE_UMAP_00.ipynb ( put together )\n",
    "# cell 145\n",
    "# ---> summ. fig on ipad lab note, 9/6"
   ]
  },
  {
   "cell_type": "code",
   "execution_count": 1,
   "id": "28718886-fad7-4304-8d41-183aa15be41a",
   "metadata": {},
   "outputs": [
    {
     "data": {
      "text/plain": [
       "'/Users/karlberb/Desktop/RNB00978/sample_count/sample_gen/image_gen/a_data_structure'"
      ]
     },
     "execution_count": 1,
     "metadata": {},
     "output_type": "execute_result"
    }
   ],
   "source": [
    "# target dir for square files\n",
    "pwd"
   ]
  },
  {
   "cell_type": "code",
   "execution_count": null,
   "id": "c20dfbd1-4a23-401b-88cb-15596d923801",
   "metadata": {},
   "outputs": [],
   "source": [
    "# b_model_ops_00 will read from a_data_structure\n",
    "# that will send to c_latent_synth__00 (want two methods here - pairwise averaging and rejection method)\n",
    "# then UMAP_figs_00"
   ]
  },
  {
   "cell_type": "code",
   "execution_count": null,
   "id": "d48085a6-4b80-4a97-82a5-4317adad53e4",
   "metadata": {},
   "outputs": [],
   "source": [
    "# Start point"
   ]
  },
  {
   "cell_type": "code",
   "execution_count": 2,
   "id": "01294c08-d1ab-49ec-96bd-36e483d313f7",
   "metadata": {},
   "outputs": [],
   "source": [
    "date = '2022-10-04' # Tuesday, making umap story board\n",
    "version = 'a_data_structure_00.ipynb'"
   ]
  },
  {
   "cell_type": "code",
   "execution_count": 3,
   "id": "47c542b3-b49c-4146-b402-2baf5f8f0d1d",
   "metadata": {},
   "outputs": [],
   "source": [
    "import glob as glob\n",
    "import pandas as pd\n",
    "from sklearn.model_selection import train_test_split\n",
    "import numpy as np"
   ]
  },
  {
   "cell_type": "code",
   "execution_count": 4,
   "id": "68437f21-740f-4615-8d85-37f6a16a8260",
   "metadata": {},
   "outputs": [
    {
     "data": {
      "text/plain": [
       "'/Users/karlberb/Desktop/RNB00978/sample_count/sample_gen/image_gen/a_data_structure'"
      ]
     },
     "execution_count": 4,
     "metadata": {},
     "output_type": "execute_result"
    }
   ],
   "source": [
    "pwd"
   ]
  },
  {
   "cell_type": "code",
   "execution_count": null,
   "id": "998499b8-2ea8-44d7-a050-d894cc8e877e",
   "metadata": {},
   "outputs": [],
   "source": [
    "# Where is the Casey Greene data compile and feature\n",
    "# reduce to 5: med_abs_dev.ipynb"
   ]
  },
  {
   "cell_type": "code",
   "execution_count": 5,
   "id": "60d826d6-3f26-4577-ad6c-3244d1cf8b40",
   "metadata": {},
   "outputs": [
    {
     "name": "stdout",
     "output_type": "stream",
     "text": [
      "a_data_structure_00.ipynb  med_abs_dev.ipynb\n",
      "\u001b[34marchive\u001b[m\u001b[m/\n"
     ]
    }
   ],
   "source": [
    "ls"
   ]
  },
  {
   "cell_type": "code",
   "execution_count": 6,
   "id": "d50beb93-e6ca-47ea-81ed-43f5f30abc30",
   "metadata": {},
   "outputs": [
    {
     "name": "stdout",
     "output_type": "stream",
     "text": [
      "\u001b[34ma_data_structure\u001b[m\u001b[m/ \u001b[34mc_latent_synth\u001b[m\u001b[m/   \u001b[34me_clf\u001b[m\u001b[m/\n",
      "\u001b[34mb_model\u001b[m\u001b[m/          \u001b[34md_UMAP\u001b[m\u001b[m/\n"
     ]
    }
   ],
   "source": [
    "ls .."
   ]
  },
  {
   "cell_type": "code",
   "execution_count": 7,
   "id": "76af6494-4e1b-4401-941e-c10903923373",
   "metadata": {},
   "outputs": [
    {
     "name": "stdout",
     "output_type": "stream",
     "text": [
      "\u001b[34mdense_layer\u001b[m\u001b[m/          sample_gen_ops.ipynb\n",
      "\u001b[34mimage_gen\u001b[m\u001b[m/            \u001b[34mtybalt\u001b[m\u001b[m/\n"
     ]
    }
   ],
   "source": [
    "ls ../.."
   ]
  },
  {
   "cell_type": "code",
   "execution_count": 11,
   "id": "2c886025-e8ca-410c-bb3b-6068a0267e21",
   "metadata": {},
   "outputs": [
    {
     "name": "stdout",
     "output_type": "stream",
     "text": [
      "brca.tsv                 lbld_fl_no_brca.tsv      mn_abs_dvtn_labeled.tsv\n"
     ]
    }
   ],
   "source": [
    "ls ../../dense_layer/data"
   ]
  },
  {
   "cell_type": "code",
   "execution_count": 12,
   "id": "2b55483b-4970-45aa-a4ba-7e87374b9a08",
   "metadata": {},
   "outputs": [],
   "source": [
    "# n24 read\n",
    "file  = pd.read_csv('../../dense_layer/data/lbld_fl_no_brca.tsv',\n",
    "                       sep = '\\t',\n",
    "                       index_col = 0)"
   ]
  },
  {
   "cell_type": "code",
   "execution_count": 27,
   "id": "c2302e2e-1409-4438-80f0-9a34abe0948e",
   "metadata": {},
   "outputs": [
    {
     "data": {
      "text/html": [
       "<div>\n",
       "<style scoped>\n",
       "    .dataframe tbody tr th:only-of-type {\n",
       "        vertical-align: middle;\n",
       "    }\n",
       "\n",
       "    .dataframe tbody tr th {\n",
       "        vertical-align: top;\n",
       "    }\n",
       "\n",
       "    .dataframe thead th {\n",
       "        text-align: right;\n",
       "    }\n",
       "</style>\n",
       "<table border=\"1\" class=\"dataframe\">\n",
       "  <thead>\n",
       "    <tr style=\"text-align: right;\">\n",
       "      <th></th>\n",
       "      <th>Labels</th>\n",
       "      <th>N:GEXP::COL1A1:1277:</th>\n",
       "      <th>N:GEXP::ALB:213:</th>\n",
       "      <th>N:GEXP::FN1:2335:</th>\n",
       "      <th>N:GEXP::GAPDH:2597:</th>\n",
       "      <th>N:GEXP::ACTB:60:</th>\n",
       "      <th>N:GEXP::KRT5:3852:</th>\n",
       "      <th>N:GEXP::FTL:2512:</th>\n",
       "      <th>N:GEXP::EEF1A1:1915:</th>\n",
       "      <th>N:GEXP::B2M:567:</th>\n",
       "      <th>...</th>\n",
       "      <th>N:GEXP::SMURF1:57154:</th>\n",
       "      <th>N:GEXP::GNPNAT1:64841:</th>\n",
       "      <th>N:GEXP::DMXL1:1657:</th>\n",
       "      <th>N:GEXP::AKT3:10000:</th>\n",
       "      <th>N:GEXP::ProSAPiP1:9762:</th>\n",
       "      <th>N:GEXP::RANBP3:8498:</th>\n",
       "      <th>N:GEXP::SIDT2:51092:</th>\n",
       "      <th>N:GEXP::AS3MT:57412:</th>\n",
       "      <th>N:GEXP::ALOX5:240:</th>\n",
       "      <th>N:GEXP::PHF2:5253:</th>\n",
       "    </tr>\n",
       "    <tr>\n",
       "      <th>n24_chrts_ptrn</th>\n",
       "      <th></th>\n",
       "      <th></th>\n",
       "      <th></th>\n",
       "      <th></th>\n",
       "      <th></th>\n",
       "      <th></th>\n",
       "      <th></th>\n",
       "      <th></th>\n",
       "      <th></th>\n",
       "      <th></th>\n",
       "      <th></th>\n",
       "      <th></th>\n",
       "      <th></th>\n",
       "      <th></th>\n",
       "      <th></th>\n",
       "      <th></th>\n",
       "      <th></th>\n",
       "      <th></th>\n",
       "      <th></th>\n",
       "      <th></th>\n",
       "      <th></th>\n",
       "    </tr>\n",
       "  </thead>\n",
       "  <tbody>\n",
       "    <tr>\n",
       "      <th>TCGA-OR-A5J1</th>\n",
       "      <td>ACC_2</td>\n",
       "      <td>485.59</td>\n",
       "      <td>1.4409</td>\n",
       "      <td>1558.6</td>\n",
       "      <td>57986.0</td>\n",
       "      <td>68807.0</td>\n",
       "      <td>0.0</td>\n",
       "      <td>13570.0</td>\n",
       "      <td>33046.0</td>\n",
       "      <td>18943.0</td>\n",
       "      <td>...</td>\n",
       "      <td>2448.6</td>\n",
       "      <td>383.77</td>\n",
       "      <td>640.73</td>\n",
       "      <td>853.03</td>\n",
       "      <td>243.04</td>\n",
       "      <td>3165.2</td>\n",
       "      <td>1013.5</td>\n",
       "      <td>133.53</td>\n",
       "      <td>90.778</td>\n",
       "      <td>1230.1</td>\n",
       "    </tr>\n",
       "  </tbody>\n",
       "</table>\n",
       "<p>1 rows × 5001 columns</p>\n",
       "</div>"
      ],
      "text/plain": [
       "               Labels  N:GEXP::COL1A1:1277:  N:GEXP::ALB:213:  \\\n",
       "n24_chrts_ptrn                                                  \n",
       "TCGA-OR-A5J1    ACC_2                485.59            1.4409   \n",
       "\n",
       "                N:GEXP::FN1:2335:  N:GEXP::GAPDH:2597:  N:GEXP::ACTB:60:  \\\n",
       "n24_chrts_ptrn                                                             \n",
       "TCGA-OR-A5J1               1558.6              57986.0           68807.0   \n",
       "\n",
       "                N:GEXP::KRT5:3852:  N:GEXP::FTL:2512:  N:GEXP::EEF1A1:1915:  \\\n",
       "n24_chrts_ptrn                                                                \n",
       "TCGA-OR-A5J1                   0.0            13570.0               33046.0   \n",
       "\n",
       "                N:GEXP::B2M:567:  ...  N:GEXP::SMURF1:57154:  \\\n",
       "n24_chrts_ptrn                    ...                          \n",
       "TCGA-OR-A5J1             18943.0  ...                 2448.6   \n",
       "\n",
       "                N:GEXP::GNPNAT1:64841:  N:GEXP::DMXL1:1657:  \\\n",
       "n24_chrts_ptrn                                                \n",
       "TCGA-OR-A5J1                    383.77               640.73   \n",
       "\n",
       "                N:GEXP::AKT3:10000:  N:GEXP::ProSAPiP1:9762:  \\\n",
       "n24_chrts_ptrn                                                 \n",
       "TCGA-OR-A5J1                 853.03                   243.04   \n",
       "\n",
       "                N:GEXP::RANBP3:8498:  N:GEXP::SIDT2:51092:  \\\n",
       "n24_chrts_ptrn                                               \n",
       "TCGA-OR-A5J1                  3165.2                1013.5   \n",
       "\n",
       "                N:GEXP::AS3MT:57412:  N:GEXP::ALOX5:240:  N:GEXP::PHF2:5253:  \n",
       "n24_chrts_ptrn                                                                \n",
       "TCGA-OR-A5J1                  133.53              90.778              1230.1  \n",
       "\n",
       "[1 rows x 5001 columns]"
      ]
     },
     "execution_count": 27,
     "metadata": {},
     "output_type": "execute_result"
    }
   ],
   "source": [
    "file.head(1)"
   ]
  },
  {
   "cell_type": "code",
   "execution_count": 29,
   "id": "dfde8206-e15a-4682-b8f6-8ac3bd19b5b3",
   "metadata": {},
   "outputs": [
    {
     "data": {
      "text/plain": [
       "(7014, 5001)"
      ]
     },
     "execution_count": 29,
     "metadata": {},
     "output_type": "execute_result"
    }
   ],
   "source": [
    "file.shape"
   ]
  },
  {
   "cell_type": "code",
   "execution_count": 30,
   "id": "1e990177-0705-4d74-87b6-9ca110c647b9",
   "metadata": {},
   "outputs": [],
   "source": [
    "# BRCA read\n",
    "file_b  = pd.read_csv('../../dense_layer/data/brca.tsv',\n",
    "                       sep = '\\t',\n",
    "                       index_col = 0)"
   ]
  },
  {
   "cell_type": "code",
   "execution_count": 31,
   "id": "372d2dfa-954d-4d14-8584-e3aa841f5fec",
   "metadata": {},
   "outputs": [
    {
     "data": {
      "text/html": [
       "<div>\n",
       "<style scoped>\n",
       "    .dataframe tbody tr th:only-of-type {\n",
       "        vertical-align: middle;\n",
       "    }\n",
       "\n",
       "    .dataframe tbody tr th {\n",
       "        vertical-align: top;\n",
       "    }\n",
       "\n",
       "    .dataframe thead th {\n",
       "        text-align: right;\n",
       "    }\n",
       "</style>\n",
       "<table border=\"1\" class=\"dataframe\">\n",
       "  <thead>\n",
       "    <tr style=\"text-align: right;\">\n",
       "      <th></th>\n",
       "      <th>Labels</th>\n",
       "      <th>N:GEXP::COL1A1:1277:</th>\n",
       "      <th>N:GEXP::ALB:213:</th>\n",
       "      <th>N:GEXP::FN1:2335:</th>\n",
       "      <th>N:GEXP::GAPDH:2597:</th>\n",
       "      <th>N:GEXP::ACTB:60:</th>\n",
       "      <th>N:GEXP::KRT5:3852:</th>\n",
       "      <th>N:GEXP::FTL:2512:</th>\n",
       "      <th>N:GEXP::EEF1A1:1915:</th>\n",
       "      <th>N:GEXP::B2M:567:</th>\n",
       "      <th>...</th>\n",
       "      <th>N:GEXP::SMURF1:57154:</th>\n",
       "      <th>N:GEXP::GNPNAT1:64841:</th>\n",
       "      <th>N:GEXP::DMXL1:1657:</th>\n",
       "      <th>N:GEXP::AKT3:10000:</th>\n",
       "      <th>N:GEXP::ProSAPiP1:9762:</th>\n",
       "      <th>N:GEXP::RANBP3:8498:</th>\n",
       "      <th>N:GEXP::SIDT2:51092:</th>\n",
       "      <th>N:GEXP::AS3MT:57412:</th>\n",
       "      <th>N:GEXP::ALOX5:240:</th>\n",
       "      <th>N:GEXP::PHF2:5253:</th>\n",
       "    </tr>\n",
       "  </thead>\n",
       "  <tbody>\n",
       "    <tr>\n",
       "      <th>TCGA-3C-AAAU</th>\n",
       "      <td>BRCA_1</td>\n",
       "      <td>55574.0</td>\n",
       "      <td>10.34</td>\n",
       "      <td>46117.0</td>\n",
       "      <td>28980.0</td>\n",
       "      <td>41867.0</td>\n",
       "      <td>1.3786</td>\n",
       "      <td>26338.0</td>\n",
       "      <td>30241.0</td>\n",
       "      <td>18597.0</td>\n",
       "      <td>...</td>\n",
       "      <td>1325.6</td>\n",
       "      <td>1210.8</td>\n",
       "      <td>1335.9</td>\n",
       "      <td>205.07</td>\n",
       "      <td>139.59</td>\n",
       "      <td>1466.5</td>\n",
       "      <td>2639.9</td>\n",
       "      <td>287.72</td>\n",
       "      <td>151.31</td>\n",
       "      <td>1258.7</td>\n",
       "    </tr>\n",
       "  </tbody>\n",
       "</table>\n",
       "<p>1 rows × 5001 columns</p>\n",
       "</div>"
      ],
      "text/plain": [
       "              Labels  N:GEXP::COL1A1:1277:  N:GEXP::ALB:213:  \\\n",
       "TCGA-3C-AAAU  BRCA_1               55574.0             10.34   \n",
       "\n",
       "              N:GEXP::FN1:2335:  N:GEXP::GAPDH:2597:  N:GEXP::ACTB:60:  \\\n",
       "TCGA-3C-AAAU            46117.0              28980.0           41867.0   \n",
       "\n",
       "              N:GEXP::KRT5:3852:  N:GEXP::FTL:2512:  N:GEXP::EEF1A1:1915:  \\\n",
       "TCGA-3C-AAAU              1.3786            26338.0               30241.0   \n",
       "\n",
       "              N:GEXP::B2M:567:  ...  N:GEXP::SMURF1:57154:  \\\n",
       "TCGA-3C-AAAU           18597.0  ...                 1325.6   \n",
       "\n",
       "              N:GEXP::GNPNAT1:64841:  N:GEXP::DMXL1:1657:  \\\n",
       "TCGA-3C-AAAU                  1210.8               1335.9   \n",
       "\n",
       "              N:GEXP::AKT3:10000:  N:GEXP::ProSAPiP1:9762:  \\\n",
       "TCGA-3C-AAAU               205.07                   139.59   \n",
       "\n",
       "              N:GEXP::RANBP3:8498:  N:GEXP::SIDT2:51092:  \\\n",
       "TCGA-3C-AAAU                1466.5                2639.9   \n",
       "\n",
       "              N:GEXP::AS3MT:57412:  N:GEXP::ALOX5:240:  N:GEXP::PHF2:5253:  \n",
       "TCGA-3C-AAAU                287.72              151.31              1258.7  \n",
       "\n",
       "[1 rows x 5001 columns]"
      ]
     },
     "execution_count": 31,
     "metadata": {},
     "output_type": "execute_result"
    }
   ],
   "source": [
    "file_b.head(1)"
   ]
  },
  {
   "cell_type": "code",
   "execution_count": 32,
   "id": "aa8cbdc0-19f2-4e83-a6d3-60f82534f7a4",
   "metadata": {},
   "outputs": [
    {
     "data": {
      "text/plain": [
       "(995, 5001)"
      ]
     },
     "execution_count": 32,
     "metadata": {},
     "output_type": "execute_result"
    }
   ],
   "source": [
    "file_b.shape"
   ]
  },
  {
   "cell_type": "code",
   "execution_count": 21,
   "id": "9083b8b0-1521-4b8c-aef0-ba37b325bee6",
   "metadata": {},
   "outputs": [],
   "source": [
    "file.index.name = 'n24_chrts_ptrn'"
   ]
  },
  {
   "cell_type": "code",
   "execution_count": 22,
   "id": "0204a6c7-5573-42ea-acd6-1da34fa03962",
   "metadata": {},
   "outputs": [
    {
     "data": {
      "text/plain": [
       "'n24_chrts_ptrn'"
      ]
     },
     "execution_count": 22,
     "metadata": {},
     "output_type": "execute_result"
    }
   ],
   "source": [
    "file.index.name"
   ]
  },
  {
   "cell_type": "code",
   "execution_count": 23,
   "id": "eb47525b-5b25-4064-8200-dfd51002e2d8",
   "metadata": {},
   "outputs": [],
   "source": [
    "file_b.index.name = 'BRCA'"
   ]
  },
  {
   "cell_type": "code",
   "execution_count": 24,
   "id": "36abd8e0-f458-4247-acbb-be7aaaaf4ccf",
   "metadata": {},
   "outputs": [
    {
     "data": {
      "text/plain": [
       "'BRCA'"
      ]
     },
     "execution_count": 24,
     "metadata": {},
     "output_type": "execute_result"
    }
   ],
   "source": [
    "file_b.index.name"
   ]
  },
  {
   "cell_type": "code",
   "execution_count": null,
   "id": "4612744f-0a5a-4fc8-90c7-2482fa24d3d6",
   "metadata": {},
   "outputs": [],
   "source": [
    "# Where to apply max val clipping?\n",
    "# Steps: test the n24 files on the model 2D - \n",
    "# Remove the unint 8 data typing - different version"
   ]
  },
  {
   "cell_type": "code",
   "execution_count": 33,
   "id": "95580844-a3cf-444d-8aed-01952c496bdc",
   "metadata": {},
   "outputs": [
    {
     "name": "stdout",
     "output_type": "stream",
     "text": [
      "train loop done\n",
      "done\n"
     ]
    }
   ],
   "source": [
    "# Goal is to wrap the n = 24 cohorts pretrain file and then BRCA\n",
    "\n",
    "train, test = train_test_split(file) # no seed, will get a different trn/tst splt each time\n",
    "\n",
    "trn_empty = [] # append model-formatted numpy arrays of gene expression values\n",
    "trn_y_list = []\n",
    "\n",
    "for j, sample in enumerate(train.index): # okay, start going through the train object\n",
    "    gene_row = list(train.iloc[j,1:]) # extract sample gene expression\n",
    "\n",
    "    base = np.array(gene_row + (\n",
    "        20736 - len(\n",
    "            gene_row)) * [0], dtype=np.uint8).reshape(144,144,1)\n",
    "\n",
    "    trn_empty.append(base)\n",
    "    y = train.iloc[j,0]\n",
    "    trn_y_list.append(y)\n",
    "\n",
    "formatted = np.array(trn_empty)\n",
    "formatted = formatted/255 # train normalization - apply to real data(?)\n",
    "                            # this is a new figure point\n",
    "X_train_new = formatted\n",
    "\n",
    "print('train loop done')\n",
    "\n",
    "# Start processing the test data, same as above\n",
    "tst_empty = []\n",
    "tst_y_list = []\n",
    "\n",
    "for j, sample in enumerate(test.index):\n",
    "    gene_row = list(test.iloc[j,1:])\n",
    "    base = np.array(gene_row + (\n",
    "        20736 - len(\n",
    "            gene_row)) * [0],\n",
    "                    dtype=np.uint8 # <------------keep, v2\n",
    "                   ).reshape(144,144,1)\n",
    "    tst_empty.append(base)\n",
    "    y = test.iloc[j,0]\n",
    "    tst_y_list.append(y)\n",
    "formatted = np.array(tst_empty)\n",
    "formatted = formatted/255 # test normalization\n",
    "X_test_new = formatted\n",
    "\n",
    "print('done')"
   ]
  },
  {
   "cell_type": "code",
   "execution_count": 35,
   "id": "f8adff1b-17e6-440f-bcb5-52a1193ca70b",
   "metadata": {},
   "outputs": [
    {
     "data": {
      "text/plain": [
       "5260"
      ]
     },
     "execution_count": 35,
     "metadata": {},
     "output_type": "execute_result"
    }
   ],
   "source": [
    "len(trn_y_list)"
   ]
  },
  {
   "cell_type": "code",
   "execution_count": null,
   "id": "1ccfcf41-7236-434c-bfbd-d1c4afcf8e75",
   "metadata": {
    "tags": []
   },
   "outputs": [],
   "source": [
    "trn_y_list"
   ]
  },
  {
   "cell_type": "code",
   "execution_count": 36,
   "id": "0a10ebfb-611d-456d-bc45-170d78b4d5f1",
   "metadata": {},
   "outputs": [],
   "source": [
    "trn_y_out = pd.DataFrame(trn_y_list, columns = ['Labels'])"
   ]
  },
  {
   "cell_type": "code",
   "execution_count": null,
   "id": "7392290e-89ba-46f8-948d-b3cea97ed3fe",
   "metadata": {
    "tags": []
   },
   "outputs": [],
   "source": [
    "trn_y_out"
   ]
  },
  {
   "cell_type": "code",
   "execution_count": 37,
   "id": "5a2d8558-4f1d-4a64-8e72-c98a57d06cb3",
   "metadata": {},
   "outputs": [],
   "source": [
    "trn_y_out.to_csv('n24_trn_y_5260.tsv',\n",
    "                sep = '\\t',\n",
    "                )"
   ]
  },
  {
   "cell_type": "code",
   "execution_count": 42,
   "id": "b59bdb83-b021-4840-baee-ec2327c9956d",
   "metadata": {},
   "outputs": [
    {
     "data": {
      "text/plain": [
       "1754"
      ]
     },
     "execution_count": 42,
     "metadata": {},
     "output_type": "execute_result"
    }
   ],
   "source": [
    "len(tst_y_out)"
   ]
  },
  {
   "cell_type": "code",
   "execution_count": 43,
   "id": "c68c9d40-a334-46a9-80ab-3d5daf473cd5",
   "metadata": {},
   "outputs": [],
   "source": [
    "tst_y_out = pd.DataFrame(tst_y_list,columns = ['Labels'])\n",
    "tst_y_out.to_csv('n24_tst_y_1754.tsv',\n",
    "                sep = '\\t',\n",
    "                )"
   ]
  },
  {
   "cell_type": "code",
   "execution_count": 39,
   "id": "8ccac6b8-bdcf-4544-95fd-fba4f9b02f80",
   "metadata": {},
   "outputs": [
    {
     "data": {
      "text/plain": [
       "(5260, 144, 144, 1)"
      ]
     },
     "execution_count": 39,
     "metadata": {},
     "output_type": "execute_result"
    }
   ],
   "source": [
    "X_train_new.shape # main variable trn"
   ]
  },
  {
   "cell_type": "code",
   "execution_count": 40,
   "id": "b1c4de05-64a7-46b1-94f6-03329e492deb",
   "metadata": {},
   "outputs": [
    {
     "data": {
      "text/plain": [
       "(1754, 144, 144, 1)"
      ]
     },
     "execution_count": 40,
     "metadata": {},
     "output_type": "execute_result"
    }
   ],
   "source": [
    "X_test_new.shape # main variable tst"
   ]
  },
  {
   "cell_type": "code",
   "execution_count": 41,
   "id": "71344baa-6f30-424a-a44b-73b57edd0f3f",
   "metadata": {},
   "outputs": [
    {
     "data": {
      "text/plain": [
       "numpy.ndarray"
      ]
     },
     "execution_count": 41,
     "metadata": {},
     "output_type": "execute_result"
    }
   ],
   "source": [
    "type(X_train_new)"
   ]
  },
  {
   "cell_type": "code",
   "execution_count": 47,
   "id": "1abceab8-91da-486d-9b98-3186b8f56990",
   "metadata": {},
   "outputs": [
    {
     "data": {
      "text/plain": [
       "5260"
      ]
     },
     "execution_count": 47,
     "metadata": {},
     "output_type": "execute_result"
    }
   ],
   "source": [
    "len(X_train_new)"
   ]
  },
  {
   "cell_type": "code",
   "execution_count": 45,
   "id": "86652044-ec83-4ead-ab43-978c7337f691",
   "metadata": {},
   "outputs": [],
   "source": [
    "np.save('n24_trn_X_5260', X_train_new)"
   ]
  },
  {
   "cell_type": "code",
   "execution_count": 44,
   "id": "eba04e77-b9c4-4184-b651-f81ce1ea971d",
   "metadata": {},
   "outputs": [
    {
     "data": {
      "text/plain": [
       "1754"
      ]
     },
     "execution_count": 44,
     "metadata": {},
     "output_type": "execute_result"
    }
   ],
   "source": [
    "len(X_test_new)"
   ]
  },
  {
   "cell_type": "code",
   "execution_count": 46,
   "id": "5c9c2573-3743-4b8c-ae28-6bd4cbd6c9ed",
   "metadata": {},
   "outputs": [],
   "source": [
    "np.save('n24_tst_X_1754.tsv', X_test_new)"
   ]
  },
  {
   "cell_type": "code",
   "execution_count": null,
   "id": "88d67cc9-7e74-4344-a59b-f5e931bf3bb7",
   "metadata": {},
   "outputs": [],
   "source": [
    "# Done with pretrain cohorts n24\n",
    "# go to model run, b_model_00"
   ]
  },
  {
   "cell_type": "code",
   "execution_count": 9,
   "id": "f544ef3f-5efa-44a5-8b9f-8a8661715758",
   "metadata": {},
   "outputs": [],
   "source": [
    "np.save('nb_A_data_out/BRCA_sqr_trn.npy', X_train_new)"
   ]
  },
  {
   "cell_type": "code",
   "execution_count": 10,
   "id": "8327b262-020f-4754-bf0d-92648d197a7f",
   "metadata": {},
   "outputs": [],
   "source": [
    "np.save('nb_A_data_out/BRCA_sqr_tst.npy', X_test_new)"
   ]
  },
  {
   "cell_type": "code",
   "execution_count": null,
   "id": "65e0b384-fe8e-434b-bcb5-5c19afd9fd09",
   "metadata": {},
   "outputs": [],
   "source": [
    "# done, start nb_B_model_build_train_00.ipynb"
   ]
  },
  {
   "cell_type": "code",
   "execution_count": null,
   "id": "2ea5f777-5461-4a35-8352-76e7c4edea6b",
   "metadata": {},
   "outputs": [],
   "source": [
    "# Original devel:"
   ]
  },
  {
   "cell_type": "code",
   "execution_count": null,
   "id": "d637cc02-14d7-49c5-a559-6313dee70de4",
   "metadata": {},
   "outputs": [],
   "source": [
    "version"
   ]
  },
  {
   "cell_type": "code",
   "execution_count": null,
   "id": "e96e0d9b-c728-4448-a76d-b2eded94b45a",
   "metadata": {},
   "outputs": [],
   "source": [
    "date"
   ]
  },
  {
   "cell_type": "code",
   "execution_count": null,
   "id": "68e947f1-9a4e-4477-96e5-ea8fcb148ebf",
   "metadata": {},
   "outputs": [],
   "source": [
    "nb_A_data_out dir"
   ]
  },
  {
   "cell_type": "code",
   "execution_count": null,
   "id": "c6573a43-36b3-41cb-a698-21e914d07bd0",
   "metadata": {},
   "outputs": [],
   "source": [
    "BLCA_square.to_csv('nb_A_data_out/'+version+\n",
    "                   date+'_'+\n",
    "                   file.index.name+'_'+\n",
    "                   'square.tsv',\n",
    "                    sep = '\\t',\n",
    "                   )"
   ]
  },
  {
   "cell_type": "code",
   "execution_count": null,
   "id": "7ecfc345-4a8a-46e3-bd60-fc949b105601",
   "metadata": {},
   "outputs": [],
   "source": [
    "# cut code and notes"
   ]
  },
  {
   "cell_type": "code",
   "execution_count": null,
   "id": "b2dd8ab4-6e41-44fe-9971-738e7152c97f",
   "metadata": {},
   "outputs": [],
   "source": [
    "file = brca_burn_in"
   ]
  }
 ],
 "metadata": {
  "kernelspec": {
   "display_name": "Python 3 (ipykernel)",
   "language": "python",
   "name": "python3"
  },
  "language_info": {
   "codemirror_mode": {
    "name": "ipython",
    "version": 3
   },
   "file_extension": ".py",
   "mimetype": "text/x-python",
   "name": "python",
   "nbconvert_exporter": "python",
   "pygments_lexer": "ipython3",
   "version": "3.9.7"
  }
 },
 "nbformat": 4,
 "nbformat_minor": 5
}
