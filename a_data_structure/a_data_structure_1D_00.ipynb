{
 "cells": [
  {
   "cell_type": "markdown",
   "id": "3d639b11-d39b-4fe8-bcd5-e74e5c282890",
   "metadata": {
    "tags": []
   },
   "source": [
    "## 1D data structure, v00\n",
    "#### From 1D_BLCA and base series v04\n",
    "This was the outlier clipping\n",
    "\n",
    "Goal is to generate a UMAP on the true raw and MinMax scaled data\n",
    "for BRCA, to compare with the RobustRescale UMAP"
   ]
  },
  {
   "cell_type": "code",
   "execution_count": 3,
   "id": "01294c08-d1ab-49ec-96bd-36e483d313f7",
   "metadata": {},
   "outputs": [],
   "source": [
    "date = '2022-10-24'                 \n",
    "version = 'a_data_structure_1D_00.ipynb'"
   ]
  },
  {
   "cell_type": "code",
   "execution_count": 2,
   "id": "47c542b3-b49c-4146-b402-2baf5f8f0d1d",
   "metadata": {},
   "outputs": [],
   "source": [
    "import glob as glob\n",
    "import pandas as pd\n",
    "from sklearn.model_selection import train_test_split # run multiple splits? inline with model\n",
    "import numpy as np\n",
    "from sklearn.preprocessing import MinMaxScaler\n",
    "from sklearn.preprocessing import RobustScaler"
   ]
  },
  {
   "cell_type": "code",
   "execution_count": 4,
   "id": "aa8cbdc0-19f2-4e83-a6d3-60f82534f7a4",
   "metadata": {},
   "outputs": [],
   "source": [
    "# Read 26 cancer gene-expression files\n",
    "gxp_file_paths = sorted(glob.glob('/Users/karlberb/work/sample_count/smpl_gen/gexp_files/*.tsv'))"
   ]
  },
  {
   "cell_type": "code",
   "execution_count": 5,
   "id": "74c1a2a7-499c-4f2d-90ec-bb7e8e106fdd",
   "metadata": {},
   "outputs": [],
   "source": [
    "brca  = pd.read_csv(gxp_file_paths[2],\n",
    "                       sep = '\\t',\n",
    "                       index_col = 0)"
   ]
  },
  {
   "cell_type": "code",
   "execution_count": null,
   "id": "ac2fc964-29c6-4425-839c-2fbd962e4e80",
   "metadata": {},
   "outputs": [],
   "source": []
  },
  {
   "cell_type": "code",
   "execution_count": null,
   "id": "0880e2b9-d773-4a60-a00f-533ee485bb35",
   "metadata": {},
   "outputs": [],
   "source": [
    "# 1D_BLCA devel"
   ]
  },
  {
   "cell_type": "code",
   "execution_count": null,
   "id": "b7204431-1742-4d8c-a1c3-b4e23ef8692f",
   "metadata": {},
   "outputs": [],
   "source": [
    "import matplotlib.pyplot as plt"
   ]
  },
  {
   "cell_type": "code",
   "execution_count": null,
   "id": "ff5ecb39-3c31-4e0b-9c91-41a112889335",
   "metadata": {},
   "outputs": [],
   "source": [
    "import scipy"
   ]
  },
  {
   "cell_type": "code",
   "execution_count": 22,
   "id": "44ed0ded-266c-45c2-a854-5c6d67870942",
   "metadata": {},
   "outputs": [],
   "source": [
    "import time"
   ]
  },
  {
   "cell_type": "code",
   "execution_count": null,
   "id": "816ff0fd-db5d-4a7d-9838-5ec0c2a4d4b5",
   "metadata": {},
   "outputs": [],
   "source": [
    "train_norm = pd.DataFrame(scaler.fit_transform(\n",
    "    train.iloc[:, 1:]), columns = test.columns[1:])"
   ]
  },
  {
   "cell_type": "code",
   "execution_count": null,
   "id": "91eb2926-d9ae-4c0a-b226-4f0021167364",
   "metadata": {},
   "outputs": [],
   "source": [
    "test_norm = pd.DataFrame(scaler.transform(\n",
    "    test.iloc[:, 1:]), columns = test.columns[1:])"
   ]
  },
  {
   "cell_type": "code",
   "execution_count": null,
   "id": "92f81a4e-4918-4199-b29c-0230b8fab594",
   "metadata": {},
   "outputs": [],
   "source": [
    "scipy.stats.describe(row_lst)"
   ]
  },
  {
   "cell_type": "code",
   "execution_count": null,
   "id": "555ddc5b-b5ed-4da5-86d5-c9b8d107f4d0",
   "metadata": {},
   "outputs": [],
   "source": [
    "# Main"
   ]
  },
  {
   "cell_type": "code",
   "execution_count": null,
   "id": "f0bf49e4-a894-449f-9329-f4628c5d7fa4",
   "metadata": {},
   "outputs": [],
   "source": [
    "gxp_file_paths"
   ]
  },
  {
   "cell_type": "code",
   "execution_count": 22,
   "id": "6914ae0f-ab22-4369-a6bf-1f957b2ff98a",
   "metadata": {},
   "outputs": [],
   "source": [
    "blca  = pd.read_csv(gxp_file_paths[1],\n",
    "                       sep = '\\t',\n",
    "                       index_col = 0)"
   ]
  },
  {
   "cell_type": "code",
   "execution_count": null,
   "id": "66c7297a-8ba9-4847-8dc7-c5e4a923ebab",
   "metadata": {},
   "outputs": [],
   "source": [
    "blca"
   ]
  },
  {
   "cell_type": "code",
   "execution_count": 23,
   "id": "24ba274a-8840-47ec-8c23-8fb9f92adb0f",
   "metadata": {},
   "outputs": [
    {
     "data": {
      "text/plain": [
       "'BLCA'"
      ]
     },
     "execution_count": 23,
     "metadata": {},
     "output_type": "execute_result"
    }
   ],
   "source": [
    "blca.index.name"
   ]
  },
  {
   "cell_type": "markdown",
   "id": "17cd369d-2bf1-41a1-9f4f-8b152670c557",
   "metadata": {
    "tags": []
   },
   "source": [
    "#### BLCA 10k, 1k, 500 auto"
   ]
  },
  {
   "cell_type": "code",
   "execution_count": 52,
   "id": "ccb5ef25-c2c6-4155-9263-c05e6b238c17",
   "metadata": {},
   "outputs": [],
   "source": [
    "cohort = 'BLCA'\n",
    "# cohort = 'BRCA'\n",
    "\n",
    "d_shape = 'flat'\n",
    "method = 'MinMax'"
   ]
  },
  {
   "cell_type": "code",
   "execution_count": 53,
   "id": "43d28009-91e6-475b-bde4-5387f4cd122a",
   "metadata": {},
   "outputs": [],
   "source": [
    "otlr_thresh = 15000\n",
    "out_cut = '15k_otlr_cut'"
   ]
  },
  {
   "cell_type": "code",
   "execution_count": 58,
   "id": "4b822d5f-a297-4c68-a03a-408b7d983966",
   "metadata": {},
   "outputs": [],
   "source": [
    "otlr_thresh = 10000\n",
    "out_cut = '10k_otlr_cut'"
   ]
  },
  {
   "cell_type": "code",
   "execution_count": 56,
   "id": "a0626bda-f37f-4647-9b90-da0373a2413c",
   "metadata": {},
   "outputs": [],
   "source": [
    "otlr_thresh = 5000\n",
    "out_cut = '5k_otlr_cut'"
   ]
  },
  {
   "cell_type": "code",
   "execution_count": null,
   "id": "b95dd72c-9e66-4114-896e-37d7b31ea73e",
   "metadata": {},
   "outputs": [],
   "source": [
    "otlr_thresh = 1000 # three\n",
    "out_cut = '1k_otlr_cut'"
   ]
  },
  {
   "cell_type": "code",
   "execution_count": null,
   "id": "d149c27c-7182-486d-b129-ea313a09944f",
   "metadata": {},
   "outputs": [],
   "source": [
    "otlr_thresh = 500 # \n",
    "out_cut = '500_otlr_cut'"
   ]
  },
  {
   "cell_type": "code",
   "execution_count": 59,
   "id": "e93ebff5-9dc8-4f9a-880c-f710d8c830d0",
   "metadata": {},
   "outputs": [
    {
     "data": {
      "text/plain": [
       "('10k_otlr_cut', 10000, 'BLCA', 'MinMax')"
      ]
     },
     "execution_count": 59,
     "metadata": {},
     "output_type": "execute_result"
    }
   ],
   "source": [
    "out_cut,otlr_thresh,cohort, method"
   ]
  },
  {
   "cell_type": "code",
   "execution_count": 60,
   "id": "041c3616-a7cc-4d51-b20f-b3fbe1af4f7a",
   "metadata": {},
   "outputs": [],
   "source": [
    "# BLCA and BRCA\n",
    "train, test = train_test_split(brca)\n",
    "# train, test = train_test_split(blca) # CHECK, this is <blca>, to pre-train *\n",
    "\n",
    "train_y = pd.DataFrame(train.Labels)\n",
    "train_y.to_csv('normalized_data/flat/'+cohort+'_y_train_'+d_shape+'_'+out_cut+'_'+method+'.tsv', sep = '\\t')\n",
    "\n",
    "test_y = pd.DataFrame(test.Labels)\n",
    "test_y.to_csv('normalized_data/flat/'+cohort+'_y_test_'+d_shape+'_'+out_cut+'_'+method+'.tsv', sep = '\\t')\n",
    "\n",
    "scaler = MinMaxScaler()\n",
    "\n",
    "# Train\n",
    "train.drop(columns = 'Labels', inplace = True)\n",
    "train.mask(train > otlr_thresh, otlr_thresh, inplace = True) # threshold to reset outliers\n",
    "train_norm = pd.DataFrame( # check, all train, copied from BRCA fix\n",
    "    scaler.fit_transform(train), # check, fit\n",
    "    columns = train.columns,\n",
    "    index = train.index)\n",
    "train_norm.to_csv('normalized_data/flat/'+cohort+'_X_train_'+d_shape+'_'+out_cut+'_'+method+'.tsv', sep = '\\t')\n",
    "\n",
    "# Test\n",
    "test.drop(columns = 'Labels', inplace = True)\n",
    "test.mask(test > otlr_thresh, otlr_thresh, inplace = True)\n",
    "test_norm = pd.DataFrame(\n",
    "    scaler.transform(test),\n",
    "    columns = test.columns,\n",
    "    index = test.index)\n",
    "test_norm.to_csv('normalized_data/flat/'+cohort+'_X_test_'+d_shape+'_'+out_cut+'_'+method+'.tsv', sep = '\\t')"
   ]
  },
  {
   "cell_type": "code",
   "execution_count": null,
   "id": "42bbc365-ef64-46fa-825a-ae6a5e4aab48",
   "metadata": {},
   "outputs": [],
   "source": [
    "# 4:30 pm file write time"
   ]
  },
  {
   "cell_type": "code",
   "execution_count": 41,
   "id": "84887ac4-1c11-488a-b425-e79877f8f5d5",
   "metadata": {
    "collapsed": true,
    "jupyter": {
     "outputs_hidden": true
    },
    "tags": []
   },
   "outputs": [
    {
     "data": {
      "text/html": [
       "<div>\n",
       "<style scoped>\n",
       "    .dataframe tbody tr th:only-of-type {\n",
       "        vertical-align: middle;\n",
       "    }\n",
       "\n",
       "    .dataframe tbody tr th {\n",
       "        vertical-align: top;\n",
       "    }\n",
       "\n",
       "    .dataframe thead th {\n",
       "        text-align: right;\n",
       "    }\n",
       "</style>\n",
       "<table border=\"1\" class=\"dataframe\">\n",
       "  <thead>\n",
       "    <tr style=\"text-align: right;\">\n",
       "      <th></th>\n",
       "      <th>N:GEXP::?:100130426:</th>\n",
       "      <th>N:GEXP::?:100133144:</th>\n",
       "      <th>N:GEXP::?:100134869:</th>\n",
       "      <th>N:GEXP::?:10357:</th>\n",
       "      <th>N:GEXP::?:10431:</th>\n",
       "      <th>N:GEXP::?:136542:</th>\n",
       "      <th>N:GEXP::?:155060:</th>\n",
       "      <th>N:GEXP::?:26823:</th>\n",
       "      <th>N:GEXP::?:280660:</th>\n",
       "      <th>N:GEXP::?:317712:</th>\n",
       "      <th>...</th>\n",
       "      <th>N:GEXP::ZXDA:7789:</th>\n",
       "      <th>N:GEXP::ZXDB:158586:</th>\n",
       "      <th>N:GEXP::ZXDC:79364:</th>\n",
       "      <th>N:GEXP::ZYG11A:440590:</th>\n",
       "      <th>N:GEXP::ZYG11B:79699:</th>\n",
       "      <th>N:GEXP::ZYX:7791:</th>\n",
       "      <th>N:GEXP::ZZEF1:23140:</th>\n",
       "      <th>N:GEXP::ZZZ3:26009:</th>\n",
       "      <th>N:GEXP::psiTPTE22:387590:</th>\n",
       "      <th>N:GEXP::tAKR:389932:</th>\n",
       "    </tr>\n",
       "    <tr>\n",
       "      <th>BRCA</th>\n",
       "      <th></th>\n",
       "      <th></th>\n",
       "      <th></th>\n",
       "      <th></th>\n",
       "      <th></th>\n",
       "      <th></th>\n",
       "      <th></th>\n",
       "      <th></th>\n",
       "      <th></th>\n",
       "      <th></th>\n",
       "      <th></th>\n",
       "      <th></th>\n",
       "      <th></th>\n",
       "      <th></th>\n",
       "      <th></th>\n",
       "      <th></th>\n",
       "      <th></th>\n",
       "      <th></th>\n",
       "      <th></th>\n",
       "      <th></th>\n",
       "      <th></th>\n",
       "    </tr>\n",
       "  </thead>\n",
       "  <tbody>\n",
       "    <tr>\n",
       "      <th>TCGA-AN-A0FK</th>\n",
       "      <td>0.0</td>\n",
       "      <td>0.013172</td>\n",
       "      <td>0.025426</td>\n",
       "      <td>0.069447</td>\n",
       "      <td>0.103047</td>\n",
       "      <td>0.0</td>\n",
       "      <td>0.039039</td>\n",
       "      <td>0.000000</td>\n",
       "      <td>0.0</td>\n",
       "      <td>0.0</td>\n",
       "      <td>...</td>\n",
       "      <td>0.304179</td>\n",
       "      <td>0.231455</td>\n",
       "      <td>0.199657</td>\n",
       "      <td>0.010769</td>\n",
       "      <td>0.157606</td>\n",
       "      <td>0.250217</td>\n",
       "      <td>0.117180</td>\n",
       "      <td>0.032547</td>\n",
       "      <td>0.218596</td>\n",
       "      <td>0.000000</td>\n",
       "    </tr>\n",
       "    <tr>\n",
       "      <th>TCGA-AR-A1AL</th>\n",
       "      <td>0.0</td>\n",
       "      <td>0.108561</td>\n",
       "      <td>0.251925</td>\n",
       "      <td>0.059199</td>\n",
       "      <td>0.084038</td>\n",
       "      <td>0.0</td>\n",
       "      <td>0.091804</td>\n",
       "      <td>0.000000</td>\n",
       "      <td>0.0</td>\n",
       "      <td>0.0</td>\n",
       "      <td>...</td>\n",
       "      <td>0.404820</td>\n",
       "      <td>0.142122</td>\n",
       "      <td>0.495779</td>\n",
       "      <td>0.039716</td>\n",
       "      <td>0.297004</td>\n",
       "      <td>0.366667</td>\n",
       "      <td>0.278927</td>\n",
       "      <td>0.171176</td>\n",
       "      <td>0.115382</td>\n",
       "      <td>0.000000</td>\n",
       "    </tr>\n",
       "    <tr>\n",
       "      <th>TCGA-AN-A0FN</th>\n",
       "      <td>0.0</td>\n",
       "      <td>0.000000</td>\n",
       "      <td>0.067005</td>\n",
       "      <td>0.094340</td>\n",
       "      <td>0.138390</td>\n",
       "      <td>0.0</td>\n",
       "      <td>0.068475</td>\n",
       "      <td>0.000000</td>\n",
       "      <td>0.0</td>\n",
       "      <td>0.0</td>\n",
       "      <td>...</td>\n",
       "      <td>0.267098</td>\n",
       "      <td>0.078821</td>\n",
       "      <td>0.188209</td>\n",
       "      <td>0.022437</td>\n",
       "      <td>0.297652</td>\n",
       "      <td>0.389011</td>\n",
       "      <td>0.131106</td>\n",
       "      <td>0.057421</td>\n",
       "      <td>0.031793</td>\n",
       "      <td>0.008385</td>\n",
       "    </tr>\n",
       "    <tr>\n",
       "      <th>TCGA-B6-A0RT</th>\n",
       "      <td>0.0</td>\n",
       "      <td>0.014713</td>\n",
       "      <td>0.140185</td>\n",
       "      <td>0.101375</td>\n",
       "      <td>0.094657</td>\n",
       "      <td>0.0</td>\n",
       "      <td>0.085347</td>\n",
       "      <td>0.400525</td>\n",
       "      <td>0.0</td>\n",
       "      <td>0.0</td>\n",
       "      <td>...</td>\n",
       "      <td>0.289235</td>\n",
       "      <td>0.107054</td>\n",
       "      <td>0.311802</td>\n",
       "      <td>0.370712</td>\n",
       "      <td>0.297815</td>\n",
       "      <td>0.252043</td>\n",
       "      <td>0.266717</td>\n",
       "      <td>0.080538</td>\n",
       "      <td>0.064515</td>\n",
       "      <td>0.007905</td>\n",
       "    </tr>\n",
       "    <tr>\n",
       "      <th>TCGA-AQ-A1H2</th>\n",
       "      <td>0.0</td>\n",
       "      <td>0.080376</td>\n",
       "      <td>0.084635</td>\n",
       "      <td>0.005635</td>\n",
       "      <td>0.138609</td>\n",
       "      <td>0.0</td>\n",
       "      <td>0.044611</td>\n",
       "      <td>0.263391</td>\n",
       "      <td>0.0</td>\n",
       "      <td>0.0</td>\n",
       "      <td>...</td>\n",
       "      <td>0.383360</td>\n",
       "      <td>0.184759</td>\n",
       "      <td>0.322967</td>\n",
       "      <td>0.097998</td>\n",
       "      <td>0.402461</td>\n",
       "      <td>0.065708</td>\n",
       "      <td>0.151420</td>\n",
       "      <td>0.068355</td>\n",
       "      <td>0.001463</td>\n",
       "      <td>0.000000</td>\n",
       "    </tr>\n",
       "    <tr>\n",
       "      <th>...</th>\n",
       "      <td>...</td>\n",
       "      <td>...</td>\n",
       "      <td>...</td>\n",
       "      <td>...</td>\n",
       "      <td>...</td>\n",
       "      <td>...</td>\n",
       "      <td>...</td>\n",
       "      <td>...</td>\n",
       "      <td>...</td>\n",
       "      <td>...</td>\n",
       "      <td>...</td>\n",
       "      <td>...</td>\n",
       "      <td>...</td>\n",
       "      <td>...</td>\n",
       "      <td>...</td>\n",
       "      <td>...</td>\n",
       "      <td>...</td>\n",
       "      <td>...</td>\n",
       "      <td>...</td>\n",
       "      <td>...</td>\n",
       "      <td>...</td>\n",
       "    </tr>\n",
       "    <tr>\n",
       "      <th>TCGA-A8-A091</th>\n",
       "      <td>0.0</td>\n",
       "      <td>0.045826</td>\n",
       "      <td>0.150877</td>\n",
       "      <td>0.075180</td>\n",
       "      <td>0.042892</td>\n",
       "      <td>0.0</td>\n",
       "      <td>0.488234</td>\n",
       "      <td>0.462614</td>\n",
       "      <td>0.0</td>\n",
       "      <td>0.0</td>\n",
       "      <td>...</td>\n",
       "      <td>0.878140</td>\n",
       "      <td>0.325518</td>\n",
       "      <td>0.698001</td>\n",
       "      <td>0.009208</td>\n",
       "      <td>0.399352</td>\n",
       "      <td>0.102693</td>\n",
       "      <td>0.373103</td>\n",
       "      <td>0.190856</td>\n",
       "      <td>0.005731</td>\n",
       "      <td>0.000000</td>\n",
       "    </tr>\n",
       "    <tr>\n",
       "      <th>TCGA-B6-A0IB</th>\n",
       "      <td>0.0</td>\n",
       "      <td>0.059026</td>\n",
       "      <td>0.146371</td>\n",
       "      <td>0.020528</td>\n",
       "      <td>0.220892</td>\n",
       "      <td>0.0</td>\n",
       "      <td>0.073367</td>\n",
       "      <td>0.000000</td>\n",
       "      <td>0.0</td>\n",
       "      <td>0.0</td>\n",
       "      <td>...</td>\n",
       "      <td>0.211276</td>\n",
       "      <td>0.109115</td>\n",
       "      <td>0.322368</td>\n",
       "      <td>0.175345</td>\n",
       "      <td>0.133708</td>\n",
       "      <td>0.163856</td>\n",
       "      <td>0.085125</td>\n",
       "      <td>0.037520</td>\n",
       "      <td>0.001778</td>\n",
       "      <td>0.000000</td>\n",
       "    </tr>\n",
       "    <tr>\n",
       "      <th>TCGA-PL-A8LZ</th>\n",
       "      <td>0.0</td>\n",
       "      <td>0.089240</td>\n",
       "      <td>0.241978</td>\n",
       "      <td>0.107346</td>\n",
       "      <td>0.131751</td>\n",
       "      <td>0.0</td>\n",
       "      <td>0.085237</td>\n",
       "      <td>0.000000</td>\n",
       "      <td>0.0</td>\n",
       "      <td>0.0</td>\n",
       "      <td>...</td>\n",
       "      <td>0.466862</td>\n",
       "      <td>0.152704</td>\n",
       "      <td>0.303959</td>\n",
       "      <td>0.183490</td>\n",
       "      <td>0.270546</td>\n",
       "      <td>0.328170</td>\n",
       "      <td>0.159183</td>\n",
       "      <td>0.080734</td>\n",
       "      <td>0.004324</td>\n",
       "      <td>0.000000</td>\n",
       "    </tr>\n",
       "    <tr>\n",
       "      <th>TCGA-E9-A1R2</th>\n",
       "      <td>0.0</td>\n",
       "      <td>0.114464</td>\n",
       "      <td>0.115984</td>\n",
       "      <td>0.076125</td>\n",
       "      <td>0.139984</td>\n",
       "      <td>0.0</td>\n",
       "      <td>0.319325</td>\n",
       "      <td>0.000000</td>\n",
       "      <td>0.0</td>\n",
       "      <td>0.0</td>\n",
       "      <td>...</td>\n",
       "      <td>0.309281</td>\n",
       "      <td>0.120935</td>\n",
       "      <td>0.433854</td>\n",
       "      <td>0.189653</td>\n",
       "      <td>0.361781</td>\n",
       "      <td>0.205096</td>\n",
       "      <td>0.092070</td>\n",
       "      <td>0.047694</td>\n",
       "      <td>0.008187</td>\n",
       "      <td>0.000000</td>\n",
       "    </tr>\n",
       "    <tr>\n",
       "      <th>TCGA-AR-A24H</th>\n",
       "      <td>0.0</td>\n",
       "      <td>0.415908</td>\n",
       "      <td>0.245235</td>\n",
       "      <td>0.075363</td>\n",
       "      <td>0.108484</td>\n",
       "      <td>0.0</td>\n",
       "      <td>0.066188</td>\n",
       "      <td>0.000000</td>\n",
       "      <td>0.0</td>\n",
       "      <td>0.0</td>\n",
       "      <td>...</td>\n",
       "      <td>0.153957</td>\n",
       "      <td>0.066181</td>\n",
       "      <td>0.285682</td>\n",
       "      <td>0.253497</td>\n",
       "      <td>0.441564</td>\n",
       "      <td>0.031656</td>\n",
       "      <td>0.134228</td>\n",
       "      <td>0.204970</td>\n",
       "      <td>0.001450</td>\n",
       "      <td>0.000000</td>\n",
       "    </tr>\n",
       "  </tbody>\n",
       "</table>\n",
       "<p>746 rows × 20531 columns</p>\n",
       "</div>"
      ],
      "text/plain": [
       "              N:GEXP::?:100130426:  N:GEXP::?:100133144:  \\\n",
       "BRCA                                                       \n",
       "TCGA-AN-A0FK                   0.0              0.013172   \n",
       "TCGA-AR-A1AL                   0.0              0.108561   \n",
       "TCGA-AN-A0FN                   0.0              0.000000   \n",
       "TCGA-B6-A0RT                   0.0              0.014713   \n",
       "TCGA-AQ-A1H2                   0.0              0.080376   \n",
       "...                            ...                   ...   \n",
       "TCGA-A8-A091                   0.0              0.045826   \n",
       "TCGA-B6-A0IB                   0.0              0.059026   \n",
       "TCGA-PL-A8LZ                   0.0              0.089240   \n",
       "TCGA-E9-A1R2                   0.0              0.114464   \n",
       "TCGA-AR-A24H                   0.0              0.415908   \n",
       "\n",
       "              N:GEXP::?:100134869:  N:GEXP::?:10357:  N:GEXP::?:10431:  \\\n",
       "BRCA                                                                     \n",
       "TCGA-AN-A0FK              0.025426          0.069447          0.103047   \n",
       "TCGA-AR-A1AL              0.251925          0.059199          0.084038   \n",
       "TCGA-AN-A0FN              0.067005          0.094340          0.138390   \n",
       "TCGA-B6-A0RT              0.140185          0.101375          0.094657   \n",
       "TCGA-AQ-A1H2              0.084635          0.005635          0.138609   \n",
       "...                            ...               ...               ...   \n",
       "TCGA-A8-A091              0.150877          0.075180          0.042892   \n",
       "TCGA-B6-A0IB              0.146371          0.020528          0.220892   \n",
       "TCGA-PL-A8LZ              0.241978          0.107346          0.131751   \n",
       "TCGA-E9-A1R2              0.115984          0.076125          0.139984   \n",
       "TCGA-AR-A24H              0.245235          0.075363          0.108484   \n",
       "\n",
       "              N:GEXP::?:136542:  N:GEXP::?:155060:  N:GEXP::?:26823:  \\\n",
       "BRCA                                                                   \n",
       "TCGA-AN-A0FK                0.0           0.039039          0.000000   \n",
       "TCGA-AR-A1AL                0.0           0.091804          0.000000   \n",
       "TCGA-AN-A0FN                0.0           0.068475          0.000000   \n",
       "TCGA-B6-A0RT                0.0           0.085347          0.400525   \n",
       "TCGA-AQ-A1H2                0.0           0.044611          0.263391   \n",
       "...                         ...                ...               ...   \n",
       "TCGA-A8-A091                0.0           0.488234          0.462614   \n",
       "TCGA-B6-A0IB                0.0           0.073367          0.000000   \n",
       "TCGA-PL-A8LZ                0.0           0.085237          0.000000   \n",
       "TCGA-E9-A1R2                0.0           0.319325          0.000000   \n",
       "TCGA-AR-A24H                0.0           0.066188          0.000000   \n",
       "\n",
       "              N:GEXP::?:280660:  N:GEXP::?:317712:  ...  N:GEXP::ZXDA:7789:  \\\n",
       "BRCA                                                ...                       \n",
       "TCGA-AN-A0FK                0.0                0.0  ...            0.304179   \n",
       "TCGA-AR-A1AL                0.0                0.0  ...            0.404820   \n",
       "TCGA-AN-A0FN                0.0                0.0  ...            0.267098   \n",
       "TCGA-B6-A0RT                0.0                0.0  ...            0.289235   \n",
       "TCGA-AQ-A1H2                0.0                0.0  ...            0.383360   \n",
       "...                         ...                ...  ...                 ...   \n",
       "TCGA-A8-A091                0.0                0.0  ...            0.878140   \n",
       "TCGA-B6-A0IB                0.0                0.0  ...            0.211276   \n",
       "TCGA-PL-A8LZ                0.0                0.0  ...            0.466862   \n",
       "TCGA-E9-A1R2                0.0                0.0  ...            0.309281   \n",
       "TCGA-AR-A24H                0.0                0.0  ...            0.153957   \n",
       "\n",
       "              N:GEXP::ZXDB:158586:  N:GEXP::ZXDC:79364:  \\\n",
       "BRCA                                                      \n",
       "TCGA-AN-A0FK              0.231455             0.199657   \n",
       "TCGA-AR-A1AL              0.142122             0.495779   \n",
       "TCGA-AN-A0FN              0.078821             0.188209   \n",
       "TCGA-B6-A0RT              0.107054             0.311802   \n",
       "TCGA-AQ-A1H2              0.184759             0.322967   \n",
       "...                            ...                  ...   \n",
       "TCGA-A8-A091              0.325518             0.698001   \n",
       "TCGA-B6-A0IB              0.109115             0.322368   \n",
       "TCGA-PL-A8LZ              0.152704             0.303959   \n",
       "TCGA-E9-A1R2              0.120935             0.433854   \n",
       "TCGA-AR-A24H              0.066181             0.285682   \n",
       "\n",
       "              N:GEXP::ZYG11A:440590:  N:GEXP::ZYG11B:79699:  \\\n",
       "BRCA                                                          \n",
       "TCGA-AN-A0FK                0.010769               0.157606   \n",
       "TCGA-AR-A1AL                0.039716               0.297004   \n",
       "TCGA-AN-A0FN                0.022437               0.297652   \n",
       "TCGA-B6-A0RT                0.370712               0.297815   \n",
       "TCGA-AQ-A1H2                0.097998               0.402461   \n",
       "...                              ...                    ...   \n",
       "TCGA-A8-A091                0.009208               0.399352   \n",
       "TCGA-B6-A0IB                0.175345               0.133708   \n",
       "TCGA-PL-A8LZ                0.183490               0.270546   \n",
       "TCGA-E9-A1R2                0.189653               0.361781   \n",
       "TCGA-AR-A24H                0.253497               0.441564   \n",
       "\n",
       "              N:GEXP::ZYX:7791:  N:GEXP::ZZEF1:23140:  N:GEXP::ZZZ3:26009:  \\\n",
       "BRCA                                                                         \n",
       "TCGA-AN-A0FK           0.250217              0.117180             0.032547   \n",
       "TCGA-AR-A1AL           0.366667              0.278927             0.171176   \n",
       "TCGA-AN-A0FN           0.389011              0.131106             0.057421   \n",
       "TCGA-B6-A0RT           0.252043              0.266717             0.080538   \n",
       "TCGA-AQ-A1H2           0.065708              0.151420             0.068355   \n",
       "...                         ...                   ...                  ...   \n",
       "TCGA-A8-A091           0.102693              0.373103             0.190856   \n",
       "TCGA-B6-A0IB           0.163856              0.085125             0.037520   \n",
       "TCGA-PL-A8LZ           0.328170              0.159183             0.080734   \n",
       "TCGA-E9-A1R2           0.205096              0.092070             0.047694   \n",
       "TCGA-AR-A24H           0.031656              0.134228             0.204970   \n",
       "\n",
       "              N:GEXP::psiTPTE22:387590:  N:GEXP::tAKR:389932:  \n",
       "BRCA                                                           \n",
       "TCGA-AN-A0FK                   0.218596              0.000000  \n",
       "TCGA-AR-A1AL                   0.115382              0.000000  \n",
       "TCGA-AN-A0FN                   0.031793              0.008385  \n",
       "TCGA-B6-A0RT                   0.064515              0.007905  \n",
       "TCGA-AQ-A1H2                   0.001463              0.000000  \n",
       "...                                 ...                   ...  \n",
       "TCGA-A8-A091                   0.005731              0.000000  \n",
       "TCGA-B6-A0IB                   0.001778              0.000000  \n",
       "TCGA-PL-A8LZ                   0.004324              0.000000  \n",
       "TCGA-E9-A1R2                   0.008187              0.000000  \n",
       "TCGA-AR-A24H                   0.001450              0.000000  \n",
       "\n",
       "[746 rows x 20531 columns]"
      ]
     },
     "execution_count": 41,
     "metadata": {},
     "output_type": "execute_result"
    }
   ],
   "source": [
    "train_norm"
   ]
  },
  {
   "cell_type": "code",
   "execution_count": null,
   "id": "88710d4d-f286-471d-832f-1bd983393bc8",
   "metadata": {},
   "outputs": [],
   "source": [
    "# add multiple splits"
   ]
  },
  {
   "cell_type": "code",
   "execution_count": 42,
   "id": "2fde165d-f2af-4c04-a18b-bb9ab88a1b5a",
   "metadata": {},
   "outputs": [],
   "source": [
    "method = 'Robust'\n",
    "out_cut = 'no_cut'"
   ]
  },
  {
   "cell_type": "code",
   "execution_count": 43,
   "id": "4a7a2b67-76d3-45b5-b843-ef4e4027b93d",
   "metadata": {},
   "outputs": [
    {
     "data": {
      "text/plain": [
       "('no_cut', 15000, 'BRCA')"
      ]
     },
     "execution_count": 43,
     "metadata": {},
     "output_type": "execute_result"
    }
   ],
   "source": [
    "out_cut,otlr_thresh,cohort"
   ]
  },
  {
   "cell_type": "code",
   "execution_count": 44,
   "id": "457969b0-3ede-46ef-9380-31c8e32d8d73",
   "metadata": {},
   "outputs": [],
   "source": [
    "# BLCA and BRCA Robust\n",
    "# train, test = train_test_split(blca)\n",
    "train, test = train_test_split(brca)\n",
    "\n",
    "train_y = pd.DataFrame(train.Labels)\n",
    "train_y.to_csv('normalized_data/flat/'+cohort+'_y_train_'+d_shape+'_'+out_cut+'_'+method+'.tsv', sep = '\\t') # robust in file name\n",
    "\n",
    "test_y = pd.DataFrame(test.Labels)\n",
    "test_y.to_csv('normalized_data/flat/'+cohort+'_y_test_'+d_shape+'_'+out_cut+'_'+method+'.tsv', sep = '\\t')\n",
    "\n",
    "scaler = RobustScaler()\n",
    "\n",
    "# Train\n",
    "train.drop(columns = 'Labels', inplace = True)\n",
    "# train.mask(train > otlr_thresh, otlr_thresh, inplace = True) # threshold to reset outliers\n",
    "train_norm = pd.DataFrame( # check, all train, copied from BRCA fix\n",
    "    scaler.fit_transform(train), # check, fit\n",
    "    columns = train.columns,\n",
    "    index = train.index)\n",
    "train_norm.to_csv('normalized_data/flat/'+cohort+'_X_train_'+d_shape+'_'+out_cut+'_'+method+'.tsv', sep = '\\t')\n",
    "\n",
    "# Test\n",
    "test.drop(columns = 'Labels', inplace = True)\n",
    "# test.mask(test > otlr_thresh, otlr_thresh, inplace = True)\n",
    "test_norm = pd.DataFrame(\n",
    "    scaler.transform(test),\n",
    "    columns = test.columns,\n",
    "    index = test.index)\n",
    "test_norm.to_csv('normalized_data/flat/'+cohort+'_X_test_'+d_shape+'_'+out_cut+'_'+method+'.tsv', sep = '\\t')"
   ]
  },
  {
   "cell_type": "code",
   "execution_count": null,
   "id": "bf48d396-00c2-44e7-90c3-380c1c49b7cd",
   "metadata": {},
   "outputs": [],
   "source": [
    "# v4: snippets"
   ]
  },
  {
   "cell_type": "code",
   "execution_count": 61,
   "id": "e7461526-9805-4c97-956b-9749e8792b1f",
   "metadata": {},
   "outputs": [],
   "source": [
    "cohort = 'BLCA' # ERROR, needed to drop indexing when adding column drop\n",
    "d_shape = 'flat' # or square\n",
    "out_cut = 'no_otlr_cut'\n",
    "method = 'MinMax' # already know its flat by the dir, should probaly just name\n",
    "Xy = 'X'\n",
    "\n",
    "train, test = train_test_split(blca)\n",
    "scaler = MinMaxScaler()\n",
    "\n",
    "# Train\n",
    "train_norm = pd.DataFrame( # check, all train\n",
    "    scaler.fit_transform(train.iloc[:, 1:]), # check, fit\n",
    "    columns = train.columns[1:],\n",
    "    index = train.index)\n",
    "train_norm.to_csv('normalized_data/flat/'+cohort+'_X_train_'+d_shape+'_'+out_cut+'_'+method+'.tsv', sep = '\\t')\n",
    "\n",
    "train_y = pd.DataFrame(train.Labels)\n",
    "train_y.to_csv('normalized_data/flat/'+cohort+'_y_train_'+d_shape+'_'+out_cut+'_'+method+'.tsv', sep = '\\t')\n",
    "\n",
    "# Test\n",
    "test_norm = pd.DataFrame( # check, all test\n",
    "    scaler.transform(test.iloc[:, 1:]), # check, fit\n",
    "    columns = test.columns[1:],\n",
    "    index = test.index)\n",
    "test_norm.to_csv('normalized_data/flat/'+cohort+'_X_test_'+d_shape+'_'+out_cut+'_'+method+'.tsv', sep = '\\t')\n",
    "\n",
    "test_y = pd.DataFrame(test.Labels)\n",
    "test_y.to_csv('normalized_data/flat/'+cohort+'_y_test_'+d_shape+'_'+out_cut+'_'+method+'.tsv', sep = '\\t')"
   ]
  },
  {
   "cell_type": "code",
   "execution_count": null,
   "id": "406542ca-2533-4955-bf09-14718c889b78",
   "metadata": {},
   "outputs": [],
   "source": [
    "otlr_thresh = 1000000 # six zeros\n",
    "out_cut = '1M_otlr_cut'"
   ]
  },
  {
   "cell_type": "code",
   "execution_count": null,
   "id": "95f78ab4-6690-4071-aebe-5182a569cde3",
   "metadata": {},
   "outputs": [],
   "source": [
    "otlr_thresh = 100000 # five\n",
    "out_cut = '100k_otlr_cut'"
   ]
  },
  {
   "cell_type": "code",
   "execution_count": null,
   "id": "6cabf9ff-9b68-4ff0-9cbd-dda53321a0a5",
   "metadata": {},
   "outputs": [],
   "source": [
    "otlr_thresh = 250 # \n",
    "out_cut = '250_otlr_cut'"
   ]
  },
  {
   "cell_type": "code",
   "execution_count": null,
   "id": "6b237094-042a-494b-b39f-5645a8c2db53",
   "metadata": {},
   "outputs": [],
   "source": [
    "# for BLCA stats automation\n",
    "rw_otlr_clp = []\n",
    "nrmd_otlr_clp = []"
   ]
  },
  {
   "cell_type": "code",
   "execution_count": 62,
   "id": "8c01da2b-fb4c-4b61-96dc-a7823cdbed74",
   "metadata": {},
   "outputs": [],
   "source": [
    "var = [17986453, 10203386, 2459423, 163595, 48658, 12851]"
   ]
  },
  {
   "cell_type": "code",
   "execution_count": 66,
   "id": "6a312fee-e6f5-4601-a4a2-992ce54fa35d",
   "metadata": {},
   "outputs": [],
   "source": [
    "step = [1,2,3,4,5,6]"
   ]
  },
  {
   "cell_type": "code",
   "execution_count": 68,
   "id": "c3afc6ad-b849-4e20-96db-78f0193ee476",
   "metadata": {},
   "outputs": [],
   "source": [
    "step_vals = [1000000,100000,10000,1000,500,250]"
   ]
  },
  {
   "cell_type": "code",
   "execution_count": null,
   "id": "55462b21-9384-49e2-9ce2-20a33f62c621",
   "metadata": {},
   "outputs": [],
   "source": [
    "# stats plot template in v4"
   ]
  },
  {
   "cell_type": "code",
   "execution_count": null,
   "id": "28718886-fad7-4304-8d41-183aa15be41a",
   "metadata": {},
   "outputs": [],
   "source": [
    "# target dirs for three sets of square files: blca_brca_flt64_sqrs/\n",
    "    # to the 2D model\n",
    "    \n",
    "# compare pre-post layer error fix on 2D model from original example ?"
   ]
  },
  {
   "cell_type": "markdown",
   "id": "cb6ecb94-78cc-4fa9-a623-02c4ee8a399b",
   "metadata": {},
   "source": [
    "##### Notes"
   ]
  },
  {
   "cell_type": "code",
   "execution_count": null,
   "id": "a8507e48-9c88-468d-9a53-c24f95406a09",
   "metadata": {},
   "outputs": [],
   "source": [
    "# notes\n",
    "    # use the same train test split for all file generations?\n",
    "    \n",
    "    # use multiple train test splits for each file set?"
   ]
  },
  {
   "cell_type": "code",
   "execution_count": null,
   "id": "3e94415f-acc6-406e-9006-5b35cfb8401d",
   "metadata": {},
   "outputs": [],
   "source": [
    "https://www.geeksforgeeks.org/log-and-natural-logarithmic-value-of-a-column-in-pandas-python/ \n",
    "    log(), log2(), and log10() "
   ]
  },
  {
   "cell_type": "code",
   "execution_count": null,
   "id": "c638953b-2730-442d-b46e-7101edca757b",
   "metadata": {},
   "outputs": [],
   "source": [
    "# Improve the statistics on the raw data\n",
    "    # kurtosis, skew\n",
    "    # fine-grained histograms"
   ]
  },
  {
   "cell_type": "code",
   "execution_count": null,
   "id": "38c04953-30d2-4e1c-8ace-586972df8641",
   "metadata": {},
   "outputs": [],
   "source": [
    "https://stats.stackexchange.com/questions/402470/how-can-i-use-scaling-and-log-transforming-together\n",
    "X_train = np.log(X_train)"
   ]
  },
  {
   "cell_type": "code",
   "execution_count": null,
   "id": "2349133b-2b56-4ce9-a450-a6eaca219a34",
   "metadata": {},
   "outputs": [],
   "source": [
    "# Summary of normalization, context of outliers\n",
    "\n",
    "(x_train, _), (x_test, _) = keras.datasets.mnist.load_data()\n",
    "mnist_digits = np.concatenate([x_train, x_test], axis=0)\n",
    "mnist_digits = np.expand_dims(mnist_digits, -1).astype(\"float32\") / 255\n",
    "\n",
    "# vs\n",
    "scaler = MinMaxScaler()\n",
    "train_norm = pd.DataFrame(scaler.fit_transform(\n",
    "    train.iloc[:, 1:]), columns = train.columns[1:]) # <---- error; also, is this where the columns get put on the train_norm object\n",
    "test_norm = pd.DataFrame(scaler.transform(          # column names match though, so should not effect results\n",
    "    test.iloc[:, 1:]), columns = test.columns[1:])  # This seems artificial\n",
    "\n",
    "# try (after running train / test split)\n",
    "train, test = train_test_split(file)\n",
    "scaler = MinMaxScaler()\n",
    "scaler.fit(file)"
   ]
  }
 ],
 "metadata": {
  "kernelspec": {
   "display_name": "Python 3 (ipykernel)",
   "language": "python",
   "name": "python3"
  },
  "language_info": {
   "codemirror_mode": {
    "name": "ipython",
    "version": 3
   },
   "file_extension": ".py",
   "mimetype": "text/x-python",
   "name": "python",
   "nbconvert_exporter": "python",
   "pygments_lexer": "ipython3",
   "version": "3.9.7"
  }
 },
 "nbformat": 4,
 "nbformat_minor": 5
}
