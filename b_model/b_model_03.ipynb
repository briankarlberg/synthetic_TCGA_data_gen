{
 "cells": [
  {
   "cell_type": "code",
   "execution_count": null,
   "id": "6fd6b5c4-2b85-430d-a58e-66604a8f5ed9",
   "metadata": {},
   "outputs": [],
   "source": [
    "# v3 start 1D\n",
    "# read from normed_data/"
   ]
  },
  {
   "cell_type": "code",
   "execution_count": 1,
   "id": "fc8d279c-1b7d-45fc-8aaa-ebc7a9c00add",
   "metadata": {},
   "outputs": [
    {
     "name": "stdout",
     "output_type": "stream",
     "text": [
      "Interactive namespace is empty.\n"
     ]
    }
   ],
   "source": [
    "%whos"
   ]
  },
  {
   "cell_type": "code",
   "execution_count": 2,
   "id": "ef5d7f85-ccbb-46d0-b44c-68bcc1c7d338",
   "metadata": {},
   "outputs": [
    {
     "data": {
      "text/plain": [
       "'/Users/karlberb/Desktop/RNB00978/sample_count/sample_gen/synthetic_TCGA_data_gen/b_model'"
      ]
     },
     "execution_count": 2,
     "metadata": {},
     "output_type": "execute_result"
    }
   ],
   "source": [
    "pwd"
   ]
  },
  {
   "cell_type": "code",
   "execution_count": 9,
   "id": "b492e6ad-29c7-4bb1-808b-1502ed009205",
   "metadata": {},
   "outputs": [
    {
     "name": "stdout",
     "output_type": "stream",
     "text": [
      "test_norm.tsv   train_norm.tsv\n"
     ]
    }
   ],
   "source": [
    "ls ../a_data_structure/normed_data/"
   ]
  },
  {
   "cell_type": "code",
   "execution_count": null,
   "id": "ef59478a-6c21-4de8-9882-21a15f5cee12",
   "metadata": {},
   "outputs": [],
   "source": [
    "# ignore new data folder"
   ]
  },
  {
   "cell_type": "code",
   "execution_count": 4,
   "id": "b0496b8f-9d4f-4065-906c-89f412290f9e",
   "metadata": {},
   "outputs": [
    {
     "name": "stderr",
     "output_type": "stream",
     "text": [
      "2022-10-10 12:42:42.875653: I tensorflow/core/platform/cpu_feature_guard.cc:193] This TensorFlow binary is optimized with oneAPI Deep Neural Network Library (oneDNN) to use the following CPU instructions in performance-critical operations:  AVX2 FMA\n",
      "To enable them in other operations, rebuild TensorFlow with the appropriate compiler flags.\n"
     ]
    }
   ],
   "source": [
    "# import glob\n",
    "import tensorflow as tf\n",
    "import numpy as np\n",
    "import pandas as pd"
   ]
  },
  {
   "cell_type": "code",
   "execution_count": 5,
   "id": "93e91379-164d-4aa7-9a57-16facc17ba70",
   "metadata": {},
   "outputs": [
    {
     "name": "stdout",
     "output_type": "stream",
     "text": [
      "Variable   Type      Data/Info\n",
      "------------------------------\n",
      "glob       module    <module 'glob' from '/Use<...>3/lib/python3.9/glob.py'>\n",
      "np         module    <module 'numpy' from '/Us<...>kages/numpy/__init__.py'>\n",
      "pd         module    <module 'pandas' from '/U<...>ages/pandas/__init__.py'>\n",
      "tf         module    <module 'tensorflow' from<...>/tensorflow/__init__.py'>\n"
     ]
    }
   ],
   "source": [
    "%whos"
   ]
  },
  {
   "cell_type": "code",
   "execution_count": null,
   "id": "104cd985-901d-4599-a00a-2edf8476ea8a",
   "metadata": {},
   "outputs": [],
   "source": [
    "# go back for labels, to UMAP"
   ]
  },
  {
   "cell_type": "code",
   "execution_count": 12,
   "id": "9345957d-1c9b-4565-b37a-47820f21d258",
   "metadata": {},
   "outputs": [],
   "source": [
    "train_norm = pd.read_csv('../a_data_structure/normed_data/train_norm.tsv',\n",
    "                  sep = '\\t',\n",
    "                   index_col = 0)"
   ]
  },
  {
   "cell_type": "code",
   "execution_count": 13,
   "id": "573cabb0-c5c3-40c5-afcc-08594d14774c",
   "metadata": {},
   "outputs": [],
   "source": [
    "test_norm = pd.read_csv('../a_data_structure/normed_data/test_norm.tsv',\n",
    "                  sep = '\\t',\n",
    "                   index_col = 0)"
   ]
  },
  {
   "cell_type": "code",
   "execution_count": 15,
   "id": "6cdaf595-54fe-4941-b443-c49d578994ec",
   "metadata": {},
   "outputs": [
    {
     "data": {
      "text/html": [
       "<div>\n",
       "<style scoped>\n",
       "    .dataframe tbody tr th:only-of-type {\n",
       "        vertical-align: middle;\n",
       "    }\n",
       "\n",
       "    .dataframe tbody tr th {\n",
       "        vertical-align: top;\n",
       "    }\n",
       "\n",
       "    .dataframe thead th {\n",
       "        text-align: right;\n",
       "    }\n",
       "</style>\n",
       "<table border=\"1\" class=\"dataframe\">\n",
       "  <thead>\n",
       "    <tr style=\"text-align: right;\">\n",
       "      <th></th>\n",
       "      <th>N:GEXP::?:100130426:</th>\n",
       "      <th>N:GEXP::?:100133144:</th>\n",
       "      <th>N:GEXP::?:100134869:</th>\n",
       "      <th>N:GEXP::?:10357:</th>\n",
       "      <th>N:GEXP::?:10431:</th>\n",
       "      <th>N:GEXP::?:136542:</th>\n",
       "      <th>N:GEXP::?:155060:</th>\n",
       "      <th>N:GEXP::?:26823:</th>\n",
       "      <th>N:GEXP::?:280660:</th>\n",
       "      <th>N:GEXP::?:317712:</th>\n",
       "      <th>...</th>\n",
       "      <th>N:GEXP::ZXDA:7789:</th>\n",
       "      <th>N:GEXP::ZXDB:158586:</th>\n",
       "      <th>N:GEXP::ZXDC:79364:</th>\n",
       "      <th>N:GEXP::ZYG11A:440590:</th>\n",
       "      <th>N:GEXP::ZYG11B:79699:</th>\n",
       "      <th>N:GEXP::ZYX:7791:</th>\n",
       "      <th>N:GEXP::ZZEF1:23140:</th>\n",
       "      <th>N:GEXP::ZZZ3:26009:</th>\n",
       "      <th>N:GEXP::psiTPTE22:387590:</th>\n",
       "      <th>N:GEXP::tAKR:389932:</th>\n",
       "    </tr>\n",
       "  </thead>\n",
       "  <tbody>\n",
       "    <tr>\n",
       "      <th>0</th>\n",
       "      <td>0.0</td>\n",
       "      <td>0.0</td>\n",
       "      <td>0.060688</td>\n",
       "      <td>0.190093</td>\n",
       "      <td>0.120877</td>\n",
       "      <td>0.0</td>\n",
       "      <td>0.064528</td>\n",
       "      <td>0.0</td>\n",
       "      <td>0.0</td>\n",
       "      <td>0.0</td>\n",
       "      <td>...</td>\n",
       "      <td>0.167245</td>\n",
       "      <td>0.226274</td>\n",
       "      <td>0.219092</td>\n",
       "      <td>0.014614</td>\n",
       "      <td>0.376986</td>\n",
       "      <td>0.140468</td>\n",
       "      <td>0.135513</td>\n",
       "      <td>0.186737</td>\n",
       "      <td>0.009614</td>\n",
       "      <td>0.040715</td>\n",
       "    </tr>\n",
       "  </tbody>\n",
       "</table>\n",
       "<p>1 rows × 20531 columns</p>\n",
       "</div>"
      ],
      "text/plain": [
       "   N:GEXP::?:100130426:  N:GEXP::?:100133144:  N:GEXP::?:100134869:  \\\n",
       "0                   0.0                   0.0              0.060688   \n",
       "\n",
       "   N:GEXP::?:10357:  N:GEXP::?:10431:  N:GEXP::?:136542:  N:GEXP::?:155060:  \\\n",
       "0          0.190093          0.120877                0.0           0.064528   \n",
       "\n",
       "   N:GEXP::?:26823:  N:GEXP::?:280660:  N:GEXP::?:317712:  ...  \\\n",
       "0               0.0                0.0                0.0  ...   \n",
       "\n",
       "   N:GEXP::ZXDA:7789:  N:GEXP::ZXDB:158586:  N:GEXP::ZXDC:79364:  \\\n",
       "0            0.167245              0.226274             0.219092   \n",
       "\n",
       "   N:GEXP::ZYG11A:440590:  N:GEXP::ZYG11B:79699:  N:GEXP::ZYX:7791:  \\\n",
       "0                0.014614               0.376986           0.140468   \n",
       "\n",
       "   N:GEXP::ZZEF1:23140:  N:GEXP::ZZZ3:26009:  N:GEXP::psiTPTE22:387590:  \\\n",
       "0              0.135513             0.186737                   0.009614   \n",
       "\n",
       "   N:GEXP::tAKR:389932:  \n",
       "0              0.040715  \n",
       "\n",
       "[1 rows x 20531 columns]"
      ]
     },
     "execution_count": 15,
     "metadata": {},
     "output_type": "execute_result"
    }
   ],
   "source": [
    "train_norm.head(1)"
   ]
  },
  {
   "cell_type": "code",
   "execution_count": 17,
   "id": "6cb14240-f517-4fe6-8947-f7c42a914e45",
   "metadata": {},
   "outputs": [
    {
     "data": {
      "text/plain": [
       "numpy.float64"
      ]
     },
     "execution_count": 17,
     "metadata": {},
     "output_type": "execute_result"
    }
   ],
   "source": [
    "type(train_norm.iloc[0,0])"
   ]
  },
  {
   "cell_type": "code",
   "execution_count": 20,
   "id": "c927f84e-0ae9-4817-bc17-e61d29332c42",
   "metadata": {},
   "outputs": [],
   "source": [
    "from keras.layers import Conv2D"
   ]
  },
  {
   "cell_type": "code",
   "execution_count": 19,
   "id": "9feaca47-3de0-4cc8-8c8b-67ebc05587b7",
   "metadata": {},
   "outputs": [],
   "source": [
    "from keras.layers import Conv1D"
   ]
  },
  {
   "cell_type": "code",
   "execution_count": 21,
   "id": "3870af91-5e03-4d52-b53e-2316cade9dd5",
   "metadata": {},
   "outputs": [],
   "source": [
    "from keras.layers import Dense"
   ]
  },
  {
   "cell_type": "code",
   "execution_count": 23,
   "id": "c4f7a5f8-4a63-47c8-b1e0-9c287fca4f44",
   "metadata": {
    "collapsed": true,
    "jupyter": {
     "outputs_hidden": true
    },
    "tags": []
   },
   "outputs": [
    {
     "data": {
      "text/plain": [
       "'Just your regular densely-connected NN layer.\\n\\n    `Dense` implements the operation:\\n    `output = activation(dot(input, kernel) + bias)`\\n    where `activation` is the element-wise activation function\\n    passed as the `activation` argument, `kernel` is a weights matrix\\n    created by the layer, and `bias` is a bias vector created by the layer\\n    (only applicable if `use_bias` is `True`). These are all attributes of\\n    `Dense`.\\n\\n    Note: If the input to the layer has a rank greater than 2, then `Dense`\\n    computes the dot product between the `inputs` and the `kernel` along the\\n    last axis of the `inputs` and axis 0 of the `kernel` (using `tf.tensordot`).\\n    For example, if input has dimensions `(batch_size, d0, d1)`, then we create\\n    a `kernel` with shape `(d1, units)`, and the `kernel` operates along axis 2\\n    of the `input`, on every sub-tensor of shape `(1, 1, d1)` (there are\\n    `batch_size * d0` such sub-tensors).  The output in this case will have\\n    shape `(batch_size, d0, units)`.\\n\\n    Besides, layer attributes cannot be modified after the layer has been called\\n    once (except the `trainable` attribute).\\n    When a popular kwarg `input_shape` is passed, then keras will create\\n    an input layer to insert before the current layer. This can be treated\\n    equivalent to explicitly defining an `InputLayer`.\\n\\n    Example:\\n\\n    >>> # Create a `Sequential` model and add a Dense layer as the first layer.\\n    >>> model = tf.keras.models.Sequential()\\n    >>> model.add(tf.keras.Input(shape=(16,)))\\n    >>> model.add(tf.keras.layers.Dense(32, activation=\\'relu\\'))\\n    >>> # Now the model will take as input arrays of shape (None, 16)\\n    >>> # and output arrays of shape (None, 32).\\n    >>> # Note that after the first layer, you don\\'t need to specify\\n    >>> # the size of the input anymore:\\n    >>> model.add(tf.keras.layers.Dense(32))\\n    >>> model.output_shape\\n    (None, 32)\\n\\n    Args:\\n      units: Positive integer, dimensionality of the output space.\\n      activation: Activation function to use.\\n        If you don\\'t specify anything, no activation is applied\\n        (ie. \"linear\" activation: `a(x) = x`).\\n      use_bias: Boolean, whether the layer uses a bias vector.\\n      kernel_initializer: Initializer for the `kernel` weights matrix.\\n      bias_initializer: Initializer for the bias vector.\\n      kernel_regularizer: Regularizer function applied to\\n        the `kernel` weights matrix.\\n      bias_regularizer: Regularizer function applied to the bias vector.\\n      activity_regularizer: Regularizer function applied to\\n        the output of the layer (its \"activation\").\\n      kernel_constraint: Constraint function applied to\\n        the `kernel` weights matrix.\\n      bias_constraint: Constraint function applied to the bias vector.\\n\\n    Input shape:\\n      N-D tensor with shape: `(batch_size, ..., input_dim)`.\\n      The most common situation would be\\n      a 2D input with shape `(batch_size, input_dim)`.\\n\\n    Output shape:\\n      N-D tensor with shape: `(batch_size, ..., units)`.\\n      For instance, for a 2D input with shape `(batch_size, input_dim)`,\\n      the output would have shape `(batch_size, units)`.\\n    '"
      ]
     },
     "execution_count": 23,
     "metadata": {},
     "output_type": "execute_result"
    }
   ],
   "source": [
    "Dense.__doc__"
   ]
  },
  {
   "cell_type": "code",
   "execution_count": null,
   "id": "4aa9fa26-153a-4c9b-865a-ce6d87145c44",
   "metadata": {},
   "outputs": [],
   "source": [
    "10 samples, 128 columns"
   ]
  },
  {
   "cell_type": "code",
   "execution_count": 24,
   "id": "d5a82635-6ca0-4e58-9060-d19fa1cdbbeb",
   "metadata": {
    "collapsed": true,
    "jupyter": {
     "outputs_hidden": true
    },
    "tags": []
   },
   "outputs": [
    {
     "data": {
      "text/plain": [
       "'1D convolution layer (e.g. temporal convolution).\\n\\n    This layer creates a convolution kernel that is convolved\\n    with the layer input over a single spatial (or temporal) dimension\\n    to produce a tensor of outputs.\\n    If `use_bias` is True, a bias vector is created and added to the outputs.\\n    Finally, if `activation` is not `None`,\\n    it is applied to the outputs as well.\\n\\n    When using this layer as the first layer in a model,\\n    provide an `input_shape` argument\\n    (tuple of integers or `None`, e.g.\\n    `(10, 128)` for sequences of 10 vectors of 128-dimensional vectors,\\n    or `(None, 128)` for variable-length sequences of 128-dimensional vectors.\\n\\n    Examples:\\n\\n    >>> # The inputs are 128-length vectors with 10 timesteps, and the\\n    >>> # batch size is 4.\\n    >>> input_shape = (4, 10, 128)\\n    >>> x = tf.random.normal(input_shape)\\n    >>> y = tf.keras.layers.Conv1D(\\n    ... 32, 3, activation=\\'relu\\',input_shape=input_shape[1:])(x)\\n    >>> print(y.shape)\\n    (4, 8, 32)\\n\\n    >>> # With extended batch shape [4, 7] (e.g. weather data where batch\\n    >>> # dimensions correspond to spatial location and the third dimension\\n    >>> # corresponds to time.)\\n    >>> input_shape = (4, 7, 10, 128)\\n    >>> x = tf.random.normal(input_shape)\\n    >>> y = tf.keras.layers.Conv1D(\\n    ... 32, 3, activation=\\'relu\\', input_shape=input_shape[2:])(x)\\n    >>> print(y.shape)\\n    (4, 7, 8, 32)\\n\\n    Args:\\n      filters: Integer, the dimensionality of the output space\\n        (i.e. the number of output filters in the convolution).\\n      kernel_size: An integer or tuple/list of a single integer,\\n        specifying the length of the 1D convolution window.\\n      strides: An integer or tuple/list of a single integer,\\n        specifying the stride length of the convolution.\\n        Specifying any stride value != 1 is incompatible with specifying\\n        any `dilation_rate` value != 1.\\n      padding: One of `\"valid\"`, `\"same\"` or `\"causal\"` (case-insensitive).\\n        `\"valid\"` means no padding. `\"same\"` results in padding with zeros\\n        evenly to the left/right or up/down of the input such that output has\\n        the same height/width dimension as the input.\\n        `\"causal\"` results in causal (dilated) convolutions, e.g. `output[t]`\\n        does not depend on `input[t+1:]`. Useful when modeling temporal data\\n        where the model should not violate the temporal order.\\n        See [WaveNet: A Generative Model for Raw Audio, section\\n          2.1](https://arxiv.org/abs/1609.03499).\\n      data_format: A string,\\n        one of `channels_last` (default) or `channels_first`.\\n      dilation_rate: an integer or tuple/list of a single integer, specifying\\n        the dilation rate to use for dilated convolution.\\n        Currently, specifying any `dilation_rate` value != 1 is\\n        incompatible with specifying any `strides` value != 1.\\n      groups: A positive integer specifying the number of groups in which the\\n        input is split along the channel axis. Each group is convolved\\n        separately with `filters / groups` filters. The output is the\\n        concatenation of all the `groups` results along the channel axis.\\n        Input channels and `filters` must both be divisible by `groups`.\\n      activation: Activation function to use.\\n        If you don\\'t specify anything, no activation is applied\\n        (see `keras.activations`).\\n      use_bias: Boolean, whether the layer uses a bias vector.\\n      kernel_initializer: Initializer for the `kernel` weights matrix\\n        (see `keras.initializers`). Defaults to \\'glorot_uniform\\'.\\n      bias_initializer: Initializer for the bias vector\\n        (see `keras.initializers`). Defaults to \\'zeros\\'.\\n      kernel_regularizer: Regularizer function applied to\\n        the `kernel` weights matrix (see `keras.regularizers`).\\n      bias_regularizer: Regularizer function applied to the bias vector\\n        (see `keras.regularizers`).\\n      activity_regularizer: Regularizer function applied to\\n        the output of the layer (its \"activation\")\\n        (see `keras.regularizers`).\\n      kernel_constraint: Constraint function applied to the kernel matrix\\n        (see `keras.constraints`).\\n      bias_constraint: Constraint function applied to the bias vector\\n        (see `keras.constraints`).\\n\\n    Input shape:\\n      3+D tensor with shape: `batch_shape + (steps, input_dim)`\\n\\n    Output shape:\\n      3+D tensor with shape: `batch_shape + (new_steps, filters)`\\n        `steps` value might have changed due to padding or strides.\\n\\n    Returns:\\n      A tensor of rank 3 representing\\n      `activation(conv1d(inputs, kernel) + bias)`.\\n\\n    Raises:\\n      ValueError: when both `strides > 1` and `dilation_rate > 1`.\\n    '"
      ]
     },
     "execution_count": 24,
     "metadata": {},
     "output_type": "execute_result"
    }
   ],
   "source": [
    "Conv1D.__doc__"
   ]
  },
  {
   "cell_type": "code",
   "execution_count": 27,
   "id": "935ed0e1-cd0b-4a86-9103-5ac80be1e584",
   "metadata": {},
   "outputs": [],
   "source": [
    "from keras.layers import Input"
   ]
  },
  {
   "cell_type": "code",
   "execution_count": 28,
   "id": "01c7d38c-5747-4f0d-a071-f5e82a99acca",
   "metadata": {},
   "outputs": [],
   "source": [
    "encoder_input = Input(shape=train_norm.shape)"
   ]
  },
  {
   "cell_type": "code",
   "execution_count": 29,
   "id": "7dbe95bf-88fb-4c2d-a6c0-564580e90331",
   "metadata": {},
   "outputs": [
    {
     "data": {
      "text/plain": [
       "<KerasTensor: shape=(None, 299, 20531) dtype=float32 (created by layer 'input_1')>"
      ]
     },
     "execution_count": 29,
     "metadata": {},
     "output_type": "execute_result"
    }
   ],
   "source": [
    "encoder_input # inferred and inserted batch size"
   ]
  },
  {
   "cell_type": "code",
   "execution_count": null,
   "id": "b16cc463-987e-4d88-972b-9e27f7e0cdf5",
   "metadata": {},
   "outputs": [],
   "source": [
    "# filters go up through encoder layers, outward in detail\n",
    "# e.g. 8 first, then 16 on next layer\n",
    "\n",
    "# "
   ]
  },
  {
   "cell_type": "code",
   "execution_count": 31,
   "id": "5dcf10b1-4b39-409b-9237-1154715ada0b",
   "metadata": {},
   "outputs": [],
   "source": [
    "encoder_conv = Conv1D(filters=8, kernel_size=3)"
   ]
  },
  {
   "cell_type": "code",
   "execution_count": 32,
   "id": "ab7d7020-c500-4a2c-a1e9-c0518a02cbe5",
   "metadata": {},
   "outputs": [
    {
     "name": "stderr",
     "output_type": "stream",
     "text": [
      "2022-10-10 13:12:51.060712: I tensorflow/core/platform/cpu_feature_guard.cc:193] This TensorFlow binary is optimized with oneAPI Deep Neural Network Library (oneDNN) to use the following CPU instructions in performance-critical operations:  AVX2 FMA\n",
      "To enable them in other operations, rebuild TensorFlow with the appropriate compiler flags.\n"
     ]
    }
   ],
   "source": [
    "encoder_conv = Conv1D(filters=8, kernel_size=3)(encoder_input)"
   ]
  },
  {
   "cell_type": "code",
   "execution_count": 33,
   "id": "1265b9e2-4e76-4ae2-9e92-1575bb9a74f0",
   "metadata": {},
   "outputs": [],
   "source": [
    "encoder_conv = Conv1D(filters=8,\n",
    "                      kernel_size=3,\n",
    "                      activation='relu',\n",
    "                      padding='same')(encoder_input) # done"
   ]
  },
  {
   "cell_type": "code",
   "execution_count": null,
   "id": "d7ea076a-c459-4eaa-8979-455892f465c7",
   "metadata": {},
   "outputs": [],
   "source": []
  },
  {
   "cell_type": "code",
   "execution_count": 43,
   "id": "4c580379-6a7c-4c7e-90d8-6851e5c5dade",
   "metadata": {},
   "outputs": [
    {
     "name": "stdout",
     "output_type": "stream",
     "text": [
      "libraries done\n",
      "model built\n"
     ]
    }
   ],
   "source": [
    "# Float.64 on 1Dconv run\n",
    "# from https://becominghuman.ai/using-variational-autoencoder-vae-to-generate-new-images-14328877e88d\n",
    "\n",
    "latent_dim = 100\n",
    "\n",
    "# import numpy as np # clean up imports\n",
    "# import matplotlib.pyplot as plt\n",
    "\n",
    "import tensorflow as tf; tf.compat.v1.disable_eager_execution()\n",
    "\n",
    "from keras import backend as K\n",
    "from keras.layers import (Input, # want float.64 to go into this layer, two input layers (enc and dec)\n",
    "                          Conv1D,\n",
    "                          \n",
    "                          Dense,\n",
    "                          Conv2D,\n",
    "\n",
    "                          Conv2DTranspose,\n",
    "                          Conv1DTranspose,\n",
    "                          Flatten, # might not need to go back to Dense\n",
    "                          \n",
    "                          Lambda,\n",
    "                          Reshape)\n",
    "from keras.models import Model\n",
    "\n",
    "from keras.losses import binary_crossentropy\n",
    "\n",
    "print('libraries done')\n",
    "\n",
    "# np.random.seed(25)\n",
    "\n",
    "tf.executing_eagerly()\n",
    "\n",
    "# Reparameterization, sample from given distribution\n",
    "def compute_latent(x):\n",
    "    batch = K.shape(mu)[0] # mu and sigma defined after encoder is built\n",
    "    dim = K.int_shape(mu)[1]\n",
    "    eps = K.random_normal(shape=(batch,dim))\n",
    "    return mu + K.exp(sigma/2)*eps\n",
    "\n",
    "# Difference between data and reconstructed \n",
    "def kl_reconstruction_loss(true, pred):                                                  \n",
    "    reconstruction_loss = binary_crossentropy(K.flatten(true), K.flatten(pred))\n",
    "    kl_loss = 1 + sigma - K.square(mu) - K.exp(sigma) # mu and sigma input to loss function\n",
    "    kl_loss = K.sum(kl_loss, axis=-1)\n",
    "    kl_loss *= -0.5\n",
    "    return K.mean(reconstruction_loss + kl_loss)\n",
    "\n",
    "# img_height   = train_norm.shape[1] # shape hieght is at postition one\n",
    "# img_width    = train_norm.shape[2]\n",
    "# num_channels = train_norm.shape[3]\n",
    "\n",
    "# input_shape =  (img_height, img_width, num_channels) # shape has three dimensions\n",
    "\n",
    "# flatten inputs, diff between 1D and dense? - have to have same input shapes\n",
    "\n",
    "# encoder_input = Input(shape=input_shape)\n",
    "encoder_input = Input(shape=train_norm.shape)\n",
    "\n",
    "# encoder_conv = Conv1D(filters=8, kernel_size=3, strides=2, \n",
    "#                 padding='same', activation='relu')(encoder_input)\n",
    "encoder_conv = Conv1D(filters=8,\n",
    "                      kernel_size=3,\n",
    "                      activation='relu',\n",
    "                      padding='same')(encoder_input)\n",
    "\n",
    "encoder_conv = Conv1D(filters=16,\n",
    "                      kernel_size=3,\n",
    "                      padding='same',\n",
    "                      activation='relu')(encoder_conv)\n",
    "\n",
    "encoder = Flatten()(encoder_conv)\n",
    "\n",
    "# mu = Dense(latent_dim)(encoder)\n",
    "# sigma = Dense(latent_dim)(encoder)\n",
    "\n",
    "mu = Dense(latent_dim)(encoder)     # mu defined\n",
    "sigma = Dense(latent_dim)(encoder)  # sigma defined\n",
    "                                                                # 2 args to compute lambda\n",
    "latent_space = Lambda(compute_latent, output_shape=(latent_dim,))([mu, sigma])\n",
    "                    \n",
    "conv_shape = K.int_shape(encoder_conv)\n",
    "\n",
    "# Decoder start\n",
    "decoder_input = Input(shape=(latent_dim,)) # input layer again (actually comma none, inferred at run time)\n",
    "\n",
    "# decoder = Dense(conv_shape[1]*conv_shape[2]*conv_shape[3], activation='relu')(decoder_input)\n",
    "decoder = Dense(conv_shape[1]*conv_shape[2], activation='relu')(decoder_input)\n",
    "decoder = Reshape((conv_shape[1], conv_shape[2]))(decoder)\n",
    "\n",
    "decoder_conv = Conv1DTranspose(filters=16,\n",
    "                      kernel_size=3,\n",
    "                      padding='same',\n",
    "                      activation='relu')(decoder)\n",
    "\n",
    "decoder_conv = Conv1DTranspose(filters=8,\n",
    "                      kernel_size=3,\n",
    "                      activation='relu',\n",
    "                      padding='same')(decoder_conv)\n",
    "\n",
    "# decoder = Reshape((conv_shape[1], conv_shape[2], conv_shape[3]))(decoder)\n",
    "\n",
    "# decoder_conv = Conv2DTranspose(filters=16, kernel_size=3, strides=2, \n",
    "#                            padding='same', activation='relu')(decoder)\n",
    "# decoder_conv = Conv2DTranspose(filters=8, kernel_size=3, strides=2, \n",
    "#                            padding='same', activation='relu')(decoder)\n",
    "\n",
    "# decoder_conv =  Conv2DTranspose(filters=num_channels, kernel_size=3, \n",
    "#                           padding='same', activation='sigmoid')(decoder_conv)\n",
    "\n",
    "encoder = Model(encoder_input, latent_space)\n",
    "decoder = Model(decoder_input, decoder_conv)\n",
    "vae = Model(encoder_input, decoder(encoder(encoder_input)))\n",
    "vae.compile(optimizer='adam', loss=kl_reconstruction_loss)  # blank model set for (pre)training\n",
    "print('model built')"
   ]
  },
  {
   "cell_type": "code",
   "execution_count": 44,
   "id": "1344361f-6c06-40ed-83bc-be8951a2874e",
   "metadata": {},
   "outputs": [
    {
     "name": "stdout",
     "output_type": "stream",
     "text": [
      "Model: \"model_3\"\n",
      "__________________________________________________________________________________________________\n",
      " Layer (type)                   Output Shape         Param #     Connected to                     \n",
      "==================================================================================================\n",
      " input_11 (InputLayer)          [(None, 299, 20531)  0           []                               \n",
      "                                ]                                                                 \n",
      "                                                                                                  \n",
      " conv1d_15 (Conv1D)             (None, 299, 8)       492752      ['input_11[0][0]']               \n",
      "                                                                                                  \n",
      " conv1d_16 (Conv1D)             (None, 299, 16)      400         ['conv1d_15[0][0]']              \n",
      "                                                                                                  \n",
      " flatten_5 (Flatten)            (None, 4784)         0           ['conv1d_16[0][0]']              \n",
      "                                                                                                  \n",
      " dense_14 (Dense)               (None, 100)          478500      ['flatten_5[0][0]']              \n",
      "                                                                                                  \n",
      " dense_15 (Dense)               (None, 100)          478500      ['flatten_5[0][0]']              \n",
      "                                                                                                  \n",
      " lambda_6 (Lambda)              (None, 100)          0           ['dense_14[0][0]',               \n",
      "                                                                  'dense_15[0][0]']               \n",
      "                                                                                                  \n",
      "==================================================================================================\n",
      "Total params: 1,450,152\n",
      "Trainable params: 1,450,152\n",
      "Non-trainable params: 0\n",
      "__________________________________________________________________________________________________\n"
     ]
    }
   ],
   "source": [
    "encoder.summary()"
   ]
  },
  {
   "cell_type": "code",
   "execution_count": 45,
   "id": "3e8a2319-5501-4973-9d1e-6f4020599249",
   "metadata": {},
   "outputs": [
    {
     "name": "stdout",
     "output_type": "stream",
     "text": [
      "Model: \"model_4\"\n",
      "_________________________________________________________________\n",
      " Layer (type)                Output Shape              Param #   \n",
      "=================================================================\n",
      " input_12 (InputLayer)       [(None, 100)]             0         \n",
      "                                                                 \n",
      " dense_16 (Dense)            (None, 4784)              483184    \n",
      "                                                                 \n",
      " reshape_1 (Reshape)         (None, 299, 16)           0         \n",
      "                                                                 \n",
      " conv1d_transpose_4 (Conv1DT  (None, 299, 16)          784       \n",
      " ranspose)                                                       \n",
      "                                                                 \n",
      " conv1d_transpose_5 (Conv1DT  (None, 299, 8)           392       \n",
      " ranspose)                                                       \n",
      "                                                                 \n",
      "=================================================================\n",
      "Total params: 484,360\n",
      "Trainable params: 484,360\n",
      "Non-trainable params: 0\n",
      "_________________________________________________________________\n"
     ]
    }
   ],
   "source": [
    "decoder.summary()"
   ]
  },
  {
   "cell_type": "code",
   "execution_count": 41,
   "id": "0808a04d-cb93-430d-a7c2-dac22e67c527",
   "metadata": {},
   "outputs": [
    {
     "data": {
      "text/plain": [
       "TensorShape([None, 4784])"
      ]
     },
     "execution_count": 41,
     "metadata": {},
     "output_type": "execute_result"
    }
   ],
   "source": [
    "decoder.shape"
   ]
  },
  {
   "cell_type": "code",
   "execution_count": 14,
   "id": "b3d3377f-0132-4694-8eac-08857ade594e",
   "metadata": {},
   "outputs": [
    {
     "ename": "AttributeError",
     "evalue": "module 'tensorflow' has no attribute 'utils'",
     "output_type": "error",
     "traceback": [
      "\u001b[0;31m---------------------------------------------------------------------------\u001b[0m",
      "\u001b[0;31mAttributeError\u001b[0m                            Traceback (most recent call last)",
      "Cell \u001b[0;32mIn [14], line 1\u001b[0m\n\u001b[0;32m----> 1\u001b[0m tf\u001b[38;5;241m.\u001b[39mutils\u001b[38;5;241m.\u001b[39mplot_model(encoder)\n",
      "\u001b[0;31mAttributeError\u001b[0m: module 'tensorflow' has no attribute 'utils'"
     ]
    }
   ],
   "source": [
    "tf.utils.plot_model(encoder) # fix, put to sample code"
   ]
  },
  {
   "cell_type": "code",
   "execution_count": 22,
   "id": "27c56243-05f0-4f06-83b0-9541cf6656e2",
   "metadata": {},
   "outputs": [],
   "source": [
    "epochs = 10"
   ]
  },
  {
   "cell_type": "code",
   "execution_count": 17,
   "id": "2ac6a6a9-5798-420f-8476-0bf0984d4206",
   "metadata": {},
   "outputs": [],
   "source": [
    "cohort = 'BLCA, float.64, MinMax'"
   ]
  },
  {
   "cell_type": "code",
   "execution_count": 18,
   "id": "7191fb2f-da91-4aff-a381-30e493ce381c",
   "metadata": {},
   "outputs": [],
   "source": [
    "version = 'b_model_02.ipynb'"
   ]
  },
  {
   "cell_type": "code",
   "execution_count": 19,
   "id": "1301e4bf-f931-4e37-9767-1ee2aefab777",
   "metadata": {},
   "outputs": [],
   "source": [
    "date = '2022-10-09'"
   ]
  },
  {
   "cell_type": "code",
   "execution_count": 12,
   "id": "6116accb-9423-402d-ae80-7297cac0257e",
   "metadata": {},
   "outputs": [
    {
     "name": "stdout",
     "output_type": "stream",
     "text": [
      "README.txt              b_model_01.ipynb\n",
      "b_model_01-Copy1.ipynb  \u001b[34mloss_curves_ignored\u001b[m\u001b[m/\n"
     ]
    }
   ],
   "source": [
    "ls"
   ]
  },
  {
   "cell_type": "code",
   "execution_count": 23,
   "id": "5844e256-de77-4542-a848-571f31162d80",
   "metadata": {},
   "outputs": [],
   "source": [
    "batch_size = 32"
   ]
  },
  {
   "cell_type": "code",
   "execution_count": 24,
   "id": "5d00d395-11b2-4ea3-bc81-db4de9de4150",
   "metadata": {},
   "outputs": [
    {
     "name": "stdout",
     "output_type": "stream",
     "text": [
      "Train on 299 samples, validate on 100 samples\n",
      "Epoch 1/10\n"
     ]
    },
    {
     "name": "stderr",
     "output_type": "stream",
     "text": [
      "2022-10-09 11:09:00.562748: I tensorflow/core/platform/cpu_feature_guard.cc:193] This TensorFlow binary is optimized with oneAPI Deep Neural Network Library (oneDNN) to use the following CPU instructions in performance-critical operations:  AVX2 FMA\n",
      "To enable them in other operations, rebuild TensorFlow with the appropriate compiler flags.\n",
      "2022-10-09 11:09:00.604387: I tensorflow/compiler/mlir/mlir_graph_optimization_pass.cc:354] MLIR V1 optimization pass is not enabled\n"
     ]
    },
    {
     "name": "stdout",
     "output_type": "stream",
     "text": [
      "299/299 [==============================] - ETA: 0s - loss: 11953.1675"
     ]
    },
    {
     "name": "stderr",
     "output_type": "stream",
     "text": [
      "/Users/karlberb/Desktop/RNB00978/sample_count/tf_venv_a/lib/python3.9/site-packages/keras/engine/training_v1.py:2332: UserWarning: `Model.state_updates` will be removed in a future version. This property should not be used in TensorFlow 2.0, as `updates` are applied automatically.\n",
      "  updates = self.state_updates\n"
     ]
    },
    {
     "name": "stdout",
     "output_type": "stream",
     "text": [
      "299/299 [==============================] - 4s 12ms/sample - loss: 11953.1675 - val_loss: 10103.5921\n",
      "Epoch 2/10\n",
      "299/299 [==============================] - 2s 8ms/sample - loss: 8208.1898 - val_loss: 9315.5261\n",
      "Epoch 3/10\n",
      "299/299 [==============================] - 3s 8ms/sample - loss: 7696.3746 - val_loss: 9523.4234\n",
      "Epoch 4/10\n",
      "299/299 [==============================] - 2s 8ms/sample - loss: 7548.8245 - val_loss: 9269.2233\n",
      "Epoch 5/10\n",
      "299/299 [==============================] - 3s 10ms/sample - loss: 7463.1568 - val_loss: 9069.7998\n",
      "Epoch 6/10\n",
      "299/299 [==============================] - 3s 11ms/sample - loss: 7423.4598 - val_loss: 8984.8168\n",
      "Epoch 7/10\n",
      "299/299 [==============================] - 4s 12ms/sample - loss: 7380.0486 - val_loss: 9170.9911\n",
      "Epoch 8/10\n",
      "299/299 [==============================] - 3s 9ms/sample - loss: 7349.0894 - val_loss: 9103.6628\n",
      "Epoch 9/10\n",
      "299/299 [==============================] - 3s 9ms/sample - loss: 7315.5733 - val_loss: 8930.4845\n",
      "Epoch 10/10\n",
      "299/299 [==============================] - 3s 9ms/sample - loss: 7291.0633 - val_loss: 8877.0966\n"
     ]
    },
    {
     "data": {
      "image/png": "[encoded data removed]",
      "text/plain": [
       "<Figure size 640x480 with 1 Axes>"
      ]
     },
     "metadata": {},
     "output_type": "display_data"
    }
   ],
   "source": [
    "\n",
    "history = vae.fit(x=X_train_new, y=X_train_new, epochs=epochs,\n",
    "                  batch_size=batch_size, # why is this set to 32?\n",
    "                  validation_data=(X_test_new, X_test_new))\n",
    "\n",
    "plt.plot(history.history['loss'],label=\"loss\")\n",
    "plt.plot(history.history['val_loss'],label=\"val_loss\")\n",
    "plt.title('VAE embedding loss, '+cohort+' pre-train\\n'+\n",
    "\n",
    "          # file.index.name+', burn-in, n = 495'+\n",
    "\n",
    "          '2D conv, latent dim = '+str(latent_dim))\n",
    "plt.xlabel('Epoch')\n",
    "plt.ylabel('Loss')\n",
    "plt.annotate('test_fraction = .25',\n",
    "            xy=(.4, .8), xycoords='figure fraction',\n",
    "            horizontalalignment='left', verticalalignment='top',\n",
    "            # fontsize=20\n",
    "            )\n",
    "\n",
    "plt.legend(loc=\"lower left\")\n",
    "# plt.savefig('dir_n/cohort_n'+str(epochs)+'_epochs_2022-08-date_version.png')\n",
    "plt.savefig('loss_curves_ignored/'+cohort+'_pretrain_'+\n",
    "\n",
    "            # file.index.name+\n",
    "            # '_brn_n_'+str(len(brca_burn_in))+'_'+\n",
    "\n",
    "            str(epochs)+'_epochs_'+\n",
    "            str(latent_dim)+'_latent_dim_'+\n",
    "            date+'_'+version+'_r0.png')"
   ]
  },
  {
   "cell_type": "code",
   "execution_count": null,
   "id": "94269855-970f-4b86-a539-e3d0d4900ea3",
   "metadata": {},
   "outputs": [],
   "source": [
    "# Encode and decode train, val independently"
   ]
  },
  {
   "cell_type": "code",
   "execution_count": 43,
   "id": "fe52c110-f179-46ba-a070-81b46ef1e2c6",
   "metadata": {},
   "outputs": [
    {
     "name": "stderr",
     "output_type": "stream",
     "text": [
      "/Users/karlberb/Desktop/RNB00978/sample_count/tf_venv_a/lib/python3.9/site-packages/keras/engine/training_v1.py:2356: UserWarning: `Model.state_updates` will be removed in a future version. This property should not be used in TensorFlow 2.0, as `updates` are applied automatically.\n",
      "  updates=self.state_updates,\n"
     ]
    }
   ],
   "source": [
    "tst_ltnt = encoder.predict(X_test_new)"
   ]
  },
  {
   "cell_type": "code",
   "execution_count": 44,
   "id": "bdb0eea2-7a20-4bf1-8a58-e44e8567d992",
   "metadata": {},
   "outputs": [],
   "source": [
    "trn_ltnt = encoder.predict(X_train_new)"
   ]
  },
  {
   "cell_type": "code",
   "execution_count": 45,
   "id": "67b2e16b-a367-4aa0-b02b-bc7cf235aaf3",
   "metadata": {},
   "outputs": [],
   "source": [
    "tst_dec = decoder.predict(tst_ltnt)"
   ]
  },
  {
   "cell_type": "code",
   "execution_count": 46,
   "id": "1a5e6f60-b2db-4246-a892-49f006daf7da",
   "metadata": {},
   "outputs": [],
   "source": [
    "trn_dec = decoder.predict(trn_ltnt)"
   ]
  },
  {
   "cell_type": "code",
   "execution_count": 48,
   "id": "f316b322-5c59-4ca8-a602-f913bb6cae1a",
   "metadata": {},
   "outputs": [
    {
     "data": {
      "text/plain": [
       "(100, 144, 144, 1)"
      ]
     },
     "execution_count": 48,
     "metadata": {},
     "output_type": "execute_result"
    }
   ],
   "source": [
    "tst_dec.shape"
   ]
  },
  {
   "cell_type": "code",
   "execution_count": 51,
   "id": "30c82f3d-175f-4cdd-a409-62b634c4df3b",
   "metadata": {},
   "outputs": [
    {
     "ename": "TypeError",
     "evalue": "flatten() takes from 0 to 1 positional arguments but 2 were given",
     "output_type": "error",
     "traceback": [
      "\u001b[0;31m---------------------------------------------------------------------------\u001b[0m",
      "\u001b[0;31mTypeError\u001b[0m                                 Traceback (most recent call last)",
      "Cell \u001b[0;32mIn [51], line 1\u001b[0m\n\u001b[0;32m----> 1\u001b[0m tst_dec\u001b[38;5;241m.\u001b[39mflatten(\u001b[38;5;241m100\u001b[39m,\u001b[38;5;241m20532\u001b[39m)\n",
      "\u001b[0;31mTypeError\u001b[0m: flatten() takes from 0 to 1 positional arguments but 2 were given"
     ]
    }
   ],
   "source": [
    "tst_dec.flatten(100,20532)"
   ]
  },
  {
   "cell_type": "code",
   "execution_count": 53,
   "id": "e23bc7c8-1e12-41f1-9212-a3f319b8f817",
   "metadata": {},
   "outputs": [
    {
     "data": {
      "text/plain": [
       "array([0.16375491, 0.1794188 , 0.20635223, ..., 0.01227512, 0.0133549 ,\n",
       "       0.01111129], dtype=float32)"
      ]
     },
     "execution_count": 53,
     "metadata": {},
     "output_type": "execute_result"
    }
   ],
   "source": [
    "tst_dec[0].reshape(20736)"
   ]
  },
  {
   "cell_type": "code",
   "execution_count": null,
   "id": "b35e06cd-39d2-465e-9155-d6fece8de622",
   "metadata": {},
   "outputs": [],
   "source": [
    "# train and test are dataframes split off from the original read-in\n",
    "# file, want to put the decoded arrays to dataframe as to send to UMAP"
   ]
  },
  {
   "cell_type": "code",
   "execution_count": null,
   "id": "40e05d0b-6655-43bf-8f09-6958f4ea2f39",
   "metadata": {},
   "outputs": [],
   "source": [
    "# re-running"
   ]
  },
  {
   "cell_type": "code",
   "execution_count": 54,
   "id": "6af6391f-3b57-4005-92b7-68ff712160c2",
   "metadata": {},
   "outputs": [],
   "source": [
    "stor = \n",
    "for i in tst_dec:\n",
    "    break"
   ]
  },
  {
   "cell_type": "code",
   "execution_count": 56,
   "id": "beacad0c-2b35-4edf-ad65-1ccdf9a29727",
   "metadata": {},
   "outputs": [
    {
     "data": {
      "text/plain": [
       "(144, 144, 1)"
      ]
     },
     "execution_count": 56,
     "metadata": {},
     "output_type": "execute_result"
    }
   ],
   "source": [
    "i.shape"
   ]
  },
  {
   "cell_type": "code",
   "execution_count": 57,
   "id": "5499af62-5f7c-4ef0-b4b2-c101c715b9a0",
   "metadata": {},
   "outputs": [
    {
     "data": {
      "text/plain": [
       "(20736,)"
      ]
     },
     "execution_count": 57,
     "metadata": {},
     "output_type": "execute_result"
    }
   ],
   "source": [
    "i.reshape(20736).shape"
   ]
  },
  {
   "cell_type": "code",
   "execution_count": null,
   "id": "e424d91c-e04e-4462-b204-fb62c1812f4d",
   "metadata": {},
   "outputs": [],
   "source": []
  },
  {
   "cell_type": "code",
   "execution_count": null,
   "id": "d904665b-6907-4aa7-b6c8-588345be2aa3",
   "metadata": {},
   "outputs": [],
   "source": [
    "# Attempt to flatten input as alt to re-read input\n",
    "# data structure is reading from gexp original file set"
   ]
  },
  {
   "cell_type": "code",
   "execution_count": 35,
   "id": "fc3b06ac-762e-490a-95a8-86cf2b08a906",
   "metadata": {},
   "outputs": [],
   "source": [
    "tst_flt = X_test_new.reshape(100, 20736).shape"
   ]
  },
  {
   "cell_type": "code",
   "execution_count": 36,
   "id": "30b038db-6f93-4d70-9489-3a430adcdc5b",
   "metadata": {},
   "outputs": [],
   "source": [
    "trn_flt = X_train_new.reshape(299, 20736).shape"
   ]
  },
  {
   "cell_type": "code",
   "execution_count": 37,
   "id": "1ce26627-62bf-4ced-a25e-9cca7894d3f6",
   "metadata": {},
   "outputs": [],
   "source": [
    "tst_frame = pd.DataFrame(tst_flt)"
   ]
  },
  {
   "cell_type": "code",
   "execution_count": 38,
   "id": "731a9f54-46cb-419e-b313-f8af472dd19b",
   "metadata": {},
   "outputs": [],
   "source": [
    "trn_frame = pd.DataFrame(trn_flt)"
   ]
  },
  {
   "cell_type": "code",
   "execution_count": 40,
   "id": "18ae4d32-2c0c-41e9-ac41-d4974b2af1b8",
   "metadata": {},
   "outputs": [],
   "source": [
    "full_data = pd.concat([tst_frame , trn_frame])"
   ]
  },
  {
   "cell_type": "code",
   "execution_count": 41,
   "id": "026edb7c-89b9-4207-b862-f83a3ba7e26e",
   "metadata": {},
   "outputs": [
    {
     "data": {
      "text/html": [
       "<div>\n",
       "<style scoped>\n",
       "    .dataframe tbody tr th:only-of-type {\n",
       "        vertical-align: middle;\n",
       "    }\n",
       "\n",
       "    .dataframe tbody tr th {\n",
       "        vertical-align: top;\n",
       "    }\n",
       "\n",
       "    .dataframe thead th {\n",
       "        text-align: right;\n",
       "    }\n",
       "</style>\n",
       "<table border=\"1\" class=\"dataframe\">\n",
       "  <thead>\n",
       "    <tr style=\"text-align: right;\">\n",
       "      <th></th>\n",
       "      <th>0</th>\n",
       "    </tr>\n",
       "  </thead>\n",
       "  <tbody>\n",
       "    <tr>\n",
       "      <th>0</th>\n",
       "      <td>100</td>\n",
       "    </tr>\n",
       "    <tr>\n",
       "      <th>1</th>\n",
       "      <td>20736</td>\n",
       "    </tr>\n",
       "    <tr>\n",
       "      <th>0</th>\n",
       "      <td>299</td>\n",
       "    </tr>\n",
       "    <tr>\n",
       "      <th>1</th>\n",
       "      <td>20736</td>\n",
       "    </tr>\n",
       "  </tbody>\n",
       "</table>\n",
       "</div>"
      ],
      "text/plain": [
       "       0\n",
       "0    100\n",
       "1  20736\n",
       "0    299\n",
       "1  20736"
      ]
     },
     "execution_count": 41,
     "metadata": {},
     "output_type": "execute_result"
    }
   ],
   "source": [
    "full_data"
   ]
  },
  {
   "cell_type": "code",
   "execution_count": null,
   "id": "57f93785-be80-4cfc-aa56-9a91fa3b18c5",
   "metadata": {},
   "outputs": [],
   "source": [
    "# End flatten fail, go to data structure to get the square wrap function, then reverse it\n",
    "# There is a reshape function in the main"
   ]
  },
  {
   "cell_type": "code",
   "execution_count": null,
   "id": "64e14d14-a47e-49e5-af7f-934cfaab7659",
   "metadata": {},
   "outputs": [],
   "source": []
  }
 ],
 "metadata": {
  "kernelspec": {
   "display_name": "dense_full_env_00",
   "language": "python",
   "name": "dense_full_env_00"
  },
  "language_info": {
   "codemirror_mode": {
    "name": "ipython",
    "version": 3
   },
   "file_extension": ".py",
   "mimetype": "text/x-python",
   "name": "python",
   "nbconvert_exporter": "python",
   "pygments_lexer": "ipython3",
   "version": "3.9.7"
  }
 },
 "nbformat": 4,
 "nbformat_minor": 5
}
