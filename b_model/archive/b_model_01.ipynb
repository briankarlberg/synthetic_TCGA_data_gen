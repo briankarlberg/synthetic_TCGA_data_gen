{
 "cells": [
  {
   "cell_type": "code",
   "execution_count": null,
   "id": "6fd6b5c4-2b85-430d-a58e-66604a8f5ed9",
   "metadata": {},
   "outputs": [],
   "source": [
    "# Friday morning, 2022-10-07\n",
    "# From MNIST model devel \n",
    "# Specify float datatype in 2Dconv model\n",
    "# Previous version confirmed, original 2Dconv model working\n",
    "    # Use the BLCA pre-train, BRCA fine-tine training scheme\n",
    "\n",
    "# read 4 square files\n",
    "    # trn/tst BLCA pretrain cohort\n",
    "        # Test others? - OV? - see intersect_00\n",
    "        # in \n",
    "        '/Users/karlberb/Desktop/RNB00978/sample_count/sample_gen/synthetic_TCGA_data_gen/a_data_structure'\n",
    "        # for the latest 20,5xxk blca, brca feature overlap and micro RNA data devel work\n",
    "        # Get reference queued for pre-train rationale, 2018 TCGA pan-can paper\n",
    "    # trn/tst BRCA\n",
    "    \n",
    "# write decoded sample files, to UMAP"
   ]
  },
  {
   "cell_type": "code",
   "execution_count": 1,
   "id": "fc8d279c-1b7d-45fc-8aaa-ebc7a9c00add",
   "metadata": {},
   "outputs": [
    {
     "name": "stdout",
     "output_type": "stream",
     "text": [
      "Interactive namespace is empty.\n"
     ]
    }
   ],
   "source": [
    "%whos"
   ]
  },
  {
   "cell_type": "code",
   "execution_count": null,
   "id": "dc66becb-867e-4b50-ab20-55856459823f",
   "metadata": {},
   "outputs": [],
   "source": [
    "\tnotes for a_data_structure\n",
    "    Put miRNA prep\n",
    "\t\tAlso redo gexp\n",
    "\t\tApply intersection code to mir\n",
    "\n",
    "        go back to full expression set\n",
    "        /Users/karlberb/work/sample_count/smpl_gen/intrsct (gexp)\n",
    "        \n",
    "        get inrsct template code into a_data_structure\n",
    "        "
   ]
  },
  {
   "cell_type": "code",
   "execution_count": 2,
   "id": "6f7fb677-4aa5-48db-b74c-58f59c05ff15",
   "metadata": {},
   "outputs": [],
   "source": [
    "import glob"
   ]
  },
  {
   "cell_type": "code",
   "execution_count": 3,
   "id": "0a559dc2-6c5c-4464-83c5-896e25695c96",
   "metadata": {},
   "outputs": [],
   "source": [
    "fl_st = sorted(glob.glob('/Users/karlberb/work/sample_count/smpl_gen/intrsct/*'))"
   ]
  },
  {
   "cell_type": "code",
   "execution_count": null,
   "id": "9ac9e289-fe91-41f7-91b5-34f43722a17b",
   "metadata": {},
   "outputs": [],
   "source": [
    "fl_st # This stands for 'file set'"
   ]
  },
  {
   "cell_type": "code",
   "execution_count": 1,
   "id": "ef5d7f85-ccbb-46d0-b44c-68bcc1c7d338",
   "metadata": {},
   "outputs": [
    {
     "data": {
      "text/plain": [
       "'/Users/karlberb/Desktop/RNB00978/sample_count/sample_gen/synthetic_TCGA_data_gen/b_model'"
      ]
     },
     "execution_count": 1,
     "metadata": {},
     "output_type": "execute_result"
    }
   ],
   "source": [
    "pwd"
   ]
  },
  {
   "cell_type": "code",
   "execution_count": 4,
   "id": "100c6f3f-8b0c-4864-b02d-850004372ef2",
   "metadata": {},
   "outputs": [
    {
     "name": "stdout",
     "output_type": "stream",
     "text": [
      "README.txt              b_model_01.ipynb\n",
      "b_model_01-Copy1.ipynb  \u001b[34mloss_curves_ignored\u001b[m\u001b[m/\n"
     ]
    }
   ],
   "source": [
    "ls # send loss curve pngs to this ignore"
   ]
  },
  {
   "cell_type": "code",
   "execution_count": 1,
   "id": "b0496b8f-9d4f-4065-906c-89f412290f9e",
   "metadata": {},
   "outputs": [
    {
     "name": "stderr",
     "output_type": "stream",
     "text": [
      "2022-10-07 13:52:01.085224: I tensorflow/core/platform/cpu_feature_guard.cc:193] This TensorFlow binary is optimized with oneAPI Deep Neural Network Library (oneDNN) to use the following CPU instructions in performance-critical operations:  AVX2 FMA\n",
      "To enable them in other operations, rebuild TensorFlow with the appropriate compiler flags.\n"
     ]
    }
   ],
   "source": [
    "import glob\n",
    "import tensorflow as tf\n",
    "import numpy as np\n",
    "import pandas as pd\n",
    "import tensorflow as tf"
   ]
  },
  {
   "cell_type": "code",
   "execution_count": 2,
   "id": "720ac45d-1d01-4407-9d54-f2398a9152df",
   "metadata": {},
   "outputs": [],
   "source": [
    "fl_st = sorted(glob.glob('/Users/karlberb/work/sample_count/smpl_gen/intrsct/*'))"
   ]
  },
  {
   "cell_type": "code",
   "execution_count": null,
   "id": "2606f779-dbc5-4b4e-bb5e-993f3b378059",
   "metadata": {},
   "outputs": [],
   "source": [
    "# Main goal here is to specify or infer the float.64 dtype\n",
    "# to a 2D layer, already built model with loss function\n",
    "# parallel devel on sequenintial model, use debugging tools in \n",
    "# that API"
   ]
  },
  {
   "cell_type": "code",
   "execution_count": null,
   "id": "b16bc9fa-792a-4f96-a759-cab1c5a92465",
   "metadata": {},
   "outputs": [],
   "source": [
    "# Get original data\n",
    "# Run direct on float.64, 2Dconv layer with data type specced or inferred"
   ]
  },
  {
   "cell_type": "code",
   "execution_count": null,
   "id": "cf6dfb87-194f-48c3-a6b9-1d05922c22be",
   "metadata": {},
   "outputs": [],
   "source": [
    "# just want the intersection data, not the MAD 5k by 8k"
   ]
  },
  {
   "cell_type": "code",
   "execution_count": 6,
   "id": "096861f0-a947-465f-b555-9fe9871c10a2",
   "metadata": {},
   "outputs": [],
   "source": [
    "import tensorflow as tf # kernel check, want all models running on latest\n",
    "# see venv_setup_J_Lab.txt"
   ]
  },
  {
   "cell_type": "code",
   "execution_count": 7,
   "id": "3bfb1a29-4ba9-489b-bda2-7911f580a660",
   "metadata": {},
   "outputs": [
    {
     "data": {
      "text/plain": [
       "'2.10.0'"
      ]
     },
     "execution_count": 7,
     "metadata": {},
     "output_type": "execute_result"
    }
   ],
   "source": [
    "tf.__version__ # good"
   ]
  },
  {
   "cell_type": "code",
   "execution_count": 14,
   "id": "655cb860-3a70-4cf6-8fcc-4205e8a2c842",
   "metadata": {},
   "outputs": [],
   "source": [
    "from keras.layers import (Input, # Input layer exclusive to Functional API?\n",
    " Dense, Conv2D, Conv2DTranspose, Flatten, Lambda, Reshape)"
   ]
  },
  {
   "cell_type": "code",
   "execution_count": 18,
   "id": "cd17351c-4480-4ec0-b299-8cb0969a39ba",
   "metadata": {},
   "outputs": [
    {
     "name": "stdout",
     "output_type": "stream",
     "text": [
      "Variable          Type        Data/Info\n",
      "---------------------------------------\n",
      "Conv2D            type        <class 'keras.layers.conv<...>olutional.conv2d.Conv2D'>\n",
      "Conv2DTranspose   type        <class 'keras.layers.conv<...>anspose.Conv2DTranspose'>\n",
      "Dense             type        <class 'keras.layers.core.dense.Dense'>\n",
      "Flatten           type        <class 'keras.layers.reshaping.flatten.Flatten'>\n",
      "Input             function    <function Input at 0x7fd916fb2a60>\n",
      "Lambda            type        <class 'keras.layers.core.lambda_layer.Lambda'>\n",
      "Reshape           type        <class 'keras.layers.reshaping.reshape.Reshape'>\n",
      "X_test_new        ndarray     100x144x144x1: 2073600 elems, type `float64`, 16588800 bytes (15.8203125 Mb)\n",
      "X_train_new       ndarray     299x144x144x1: 6200064 elems, type `float64`, 49600512 bytes (47.302734375 Mb)\n",
      "date              str         2022-10-06\n",
      "fl_st             list        n=25\n",
      "glob              module      <module 'glob' from '/Use<...>3/lib/python3.9/glob.py'>\n",
      "np                module      <module 'numpy' from '/Us<...>kages/numpy/__init__.py'>\n",
      "pd                module      <module 'pandas' from '/U<...>ages/pandas/__init__.py'>\n",
      "tf                module      <module 'tensorflow' from<...>/tensorflow/__init__.py'>\n"
     ]
    }
   ],
   "source": [
    "%whos"
   ]
  },
  {
   "cell_type": "code",
   "execution_count": null,
   "id": "26ce0a49-7613-4a36-ac08-ade7a247dafc",
   "metadata": {},
   "outputs": [],
   "source": [
    "# Pretrain, this the flt64 on 2D conv\n",
    "\n",
    "# PUT TO UMAP, put to drive ---> end project"
   ]
  },
  {
   "cell_type": "code",
   "execution_count": 21,
   "id": "4cc9a59e-5763-4853-937b-ba679e3fc22f",
   "metadata": {},
   "outputs": [
    {
     "data": {
      "text/plain": [
       "'/Users/karlberb/Desktop/RNB00978/sample_count/sample_gen/synthetic_TCGA_data_gen/b_model'"
      ]
     },
     "execution_count": 21,
     "metadata": {},
     "output_type": "execute_result"
    }
   ],
   "source": [
    "pwd"
   ]
  },
  {
   "cell_type": "code",
   "execution_count": 19,
   "id": "4b33a64a-9732-491f-a55b-e4efa57b40d7",
   "metadata": {},
   "outputs": [
    {
     "name": "stdout",
     "output_type": "stream",
     "text": [
      "b_model_01-Copy1.ipynb  b_model_01.ipynb\n"
     ]
    }
   ],
   "source": [
    "ls"
   ]
  },
  {
   "cell_type": "code",
   "execution_count": 22,
   "id": "dd726c47-5b06-4bb5-8514-80d55c69a1e5",
   "metadata": {},
   "outputs": [
    {
     "name": "stdout",
     "output_type": "stream",
     "text": [
      "README.md          \u001b[34mb_model\u001b[m\u001b[m/           \u001b[34md_UMAP\u001b[m\u001b[m/            \u001b[34mf_archive\u001b[m\u001b[m/\n",
      "\u001b[34ma_data_structure\u001b[m\u001b[m/  \u001b[34mc_latent_sampling\u001b[m\u001b[m/ \u001b[34me_classification\u001b[m\u001b[m/  \u001b[34mg_devel\u001b[m\u001b[m/\n"
     ]
    }
   ],
   "source": [
    "ls .."
   ]
  },
  {
   "cell_type": "code",
   "execution_count": 23,
   "id": "e237470a-d62c-4d7c-836b-1cf29d746734",
   "metadata": {},
   "outputs": [
    {
     "name": "stdout",
     "output_type": "stream",
     "text": [
      "a_data_structure_00-Copy1.ipynb  brca_full_flt64_X_tst.npy\n",
      "a_data_structure_00.ipynb        brca_full_flt64_y_trn.tsv\n",
      "\u001b[34mblca_brca_square_full\u001b[m\u001b[m/           brca_full_flt64_y_tst.tsv\n",
      "blca_full_flt64_X_trn.npy        intersect_00.ipynb\n",
      "blca_full_flt64_X_tst.npy        intersect_template.ipynb\n",
      "blca_full_flt64_y_trn.tsv        \u001b[34mmir_files\u001b[m\u001b[m/\n",
      "blca_full_flt64_y_tst.tsv        \u001b[34mmir_intrsct\u001b[m\u001b[m/\n",
      "brca_full_flt64_X_trn.npy\n"
     ]
    }
   ],
   "source": [
    "ls ../a_data_structure/"
   ]
  },
  {
   "cell_type": "code",
   "execution_count": null,
   "id": "442a3841-f40a-40de-8343-643a22171aec",
   "metadata": {},
   "outputs": [],
   "source": [
    "# Pre-train with Bladder"
   ]
  },
  {
   "cell_type": "code",
   "execution_count": 3,
   "id": "2393dac3-d345-496f-b4e6-82ba3ca4a5d5",
   "metadata": {},
   "outputs": [],
   "source": [
    "X_train_new = np.load(\n",
    "    '/Users/karlberb/Desktop/RNB00978/sample_count/sample_gen/synthetic_TCGA_data_gen/a_data_structure/blca_brca_flt64_sqrs/MinMax/BLCA_MinMax_X_trn.npy')"
   ]
  },
  {
   "cell_type": "code",
   "execution_count": 4,
   "id": "6fec434e-b023-4d77-83dc-7e261b8af69b",
   "metadata": {},
   "outputs": [],
   "source": [
    "X_test_new = np.load(\n",
    "    '/Users/karlberb/Desktop/RNB00978/sample_count/sample_gen/synthetic_TCGA_data_gen/a_data_structure/blca_brca_flt64_sqrs/MinMax/BLCA_MinMax_X_tst.npy')"
   ]
  },
  {
   "cell_type": "code",
   "execution_count": null,
   "id": "9f54ba21-1461-4cbc-af26-1b8d70bf506d",
   "metadata": {},
   "outputs": [],
   "source": [
    "# Fine-tune"
   ]
  },
  {
   "cell_type": "code",
   "execution_count": null,
   "id": "922ac253-766f-44c3-923f-eb3518b08e2d",
   "metadata": {},
   "outputs": [],
   "source": [
    "X_train_new = np.load(\n",
    "    '/Users/karlberb/work/sample_count/smpl_gen/image_gen/nb_A_data_out/BRCA_sqr_trn.npy')"
   ]
  },
  {
   "cell_type": "code",
   "execution_count": null,
   "id": "8f4b5ad2-90ee-4082-856f-7dc2a620a210",
   "metadata": {},
   "outputs": [],
   "source": [
    "X_test_new = np.load(\n",
    "    '/Users/karlberb/work/sample_count/smpl_gen/image_gen/nb_A_data_out/BRCA_sqr_tst.npy')"
   ]
  },
  {
   "cell_type": "code",
   "execution_count": 5,
   "id": "4c580379-6a7c-4c7e-90d8-6851e5c5dade",
   "metadata": {},
   "outputs": [
    {
     "name": "stdout",
     "output_type": "stream",
     "text": [
      "libraries done\n",
      "model built\n"
     ]
    }
   ],
   "source": [
    "# Float.64 on 2Dconv run\n",
    "\n",
    "# Build an image VAE with Keras\n",
    "# Uses X_train_new object in memory to set layer dimensions\n",
    "# from https://becominghuman.ai/using-variational-autoencoder-vae-to-generate-new-images-14328877e88d\n",
    "\n",
    "latent_dim = 500\n",
    "\n",
    "import numpy as np\n",
    "import matplotlib.pyplot as plt\n",
    "import tensorflow as tf; tf.compat.v1.disable_eager_execution()\n",
    "from keras import backend as K\n",
    "from keras.layers import (Input, # want float.64 to go into this object\n",
    "                          # error point, data already converted to UINT8 - fixed with \n",
    "                          # sample_gen/synthetic_TCGA_data_gen/a_data_structure/a_data_structure_00.ipynb\n",
    " Dense, Conv2D, Conv2DTranspose, Flatten, Lambda, Reshape)\n",
    "from keras.models import Model\n",
    "from keras.losses import binary_crossentropy\n",
    "\n",
    "print('libraries done')\n",
    "\n",
    "np.random.seed(25)\n",
    "tf.executing_eagerly()\n",
    "\n",
    "def compute_latent(x):\n",
    "    batch = K.shape(mu)[0] # mu and sigma defined after encoder is built\n",
    "    dim = K.int_shape(mu)[1]\n",
    "    eps = K.random_normal(shape=(batch,dim))\n",
    "    return mu + K.exp(sigma/2)*eps\n",
    "\n",
    "def kl_reconstruction_loss(true, pred):\n",
    "    reconstruction_loss = binary_crossentropy(K.flatten(true), K.flatten(pred)) * img_width * img_height\n",
    "    kl_loss = 1 + sigma - K.square(mu) - K.exp(sigma) # mu and sigma input to loss function\n",
    "    kl_loss = K.sum(kl_loss, axis=-1)\n",
    "    kl_loss *= -0.5\n",
    "    return K.mean(reconstruction_loss + kl_loss)\n",
    "\n",
    "img_height   = X_train_new.shape[1]\n",
    "img_width    = X_train_new.shape[2]\n",
    "num_channels = X_train_new.shape[3]\n",
    "input_shape =  (img_height, img_width, num_channels)\n",
    "\n",
    "encoder_input = Input(shape=input_shape)\n",
    "encoder_conv = Conv2D(filters=8, kernel_size=3, strides=2, \n",
    "                padding='same', activation='relu')(encoder_input)\n",
    "encoder_conv = Conv2D(filters=16, kernel_size=3, strides=2,\n",
    "                padding='same', activation='relu')(encoder_input) # Overwrite (?)\n",
    "encoder = Flatten()(encoder_conv)                                 # see model.summary() in slides\n",
    "\n",
    "mu = Dense(latent_dim)(encoder)     # mu defined\n",
    "sigma = Dense(latent_dim)(encoder)  # sigma defined\n",
    "                                                                # 2 args to compute lambda\n",
    "latent_space = Lambda(compute_latent, output_shape=(latent_dim,))([mu, sigma])\n",
    "                    \n",
    "conv_shape = K.int_shape(encoder_conv)\n",
    "decoder_input = Input(shape=(latent_dim,))\n",
    "decoder = Dense(conv_shape[1]*conv_shape[2]*conv_shape[3], activation='relu')(decoder_input)\n",
    "decoder = Reshape((conv_shape[1], conv_shape[2], conv_shape[3]))(decoder)\n",
    "decoder_conv = Conv2DTranspose(filters=16, kernel_size=3, strides=2, \n",
    "                           padding='same', activation='relu')(decoder)\n",
    "decoder_conv = Conv2DTranspose(filters=8, kernel_size=3, strides=2, \n",
    "                           padding='same', activation='relu')(decoder)\n",
    "decoder_conv =  Conv2DTranspose(filters=num_channels, kernel_size=3, \n",
    "                          padding='same', activation='sigmoid')(decoder_conv)\n",
    "encoder = Model(encoder_input, latent_space)\n",
    "decoder = Model(decoder_input, decoder_conv)\n",
    "vae = Model(encoder_input, decoder(encoder(encoder_input)))\n",
    "vae.compile(optimizer='adam', loss=kl_reconstruction_loss)  # blank model set for (pre)training\n",
    "print('model built')"
   ]
  },
  {
   "cell_type": "code",
   "execution_count": 13,
   "id": "27c56243-05f0-4f06-83b0-9541cf6656e2",
   "metadata": {},
   "outputs": [],
   "source": [
    "epochs = 10"
   ]
  },
  {
   "cell_type": "code",
   "execution_count": 9,
   "id": "2ac6a6a9-5798-420f-8476-0bf0984d4206",
   "metadata": {},
   "outputs": [],
   "source": [
    "cohort = 'BLCA, float.64, MinMax'"
   ]
  },
  {
   "cell_type": "code",
   "execution_count": 10,
   "id": "7191fb2f-da91-4aff-a381-30e493ce381c",
   "metadata": {},
   "outputs": [],
   "source": [
    "version = 'b_model_01.ipynb'"
   ]
  },
  {
   "cell_type": "code",
   "execution_count": 11,
   "id": "1301e4bf-f931-4e37-9767-1ee2aefab777",
   "metadata": {},
   "outputs": [],
   "source": [
    "date = '2022-10-07'"
   ]
  },
  {
   "cell_type": "code",
   "execution_count": 12,
   "id": "6116accb-9423-402d-ae80-7297cac0257e",
   "metadata": {},
   "outputs": [
    {
     "name": "stdout",
     "output_type": "stream",
     "text": [
      "README.txt              b_model_01.ipynb\n",
      "b_model_01-Copy1.ipynb  \u001b[34mloss_curves_ignored\u001b[m\u001b[m/\n"
     ]
    }
   ],
   "source": [
    "ls"
   ]
  },
  {
   "cell_type": "code",
   "execution_count": 7,
   "id": "5d00d395-11b2-4ea3-bc81-db4de9de4150",
   "metadata": {},
   "outputs": [
    {
     "name": "stdout",
     "output_type": "stream",
     "text": [
      "Train on 299 samples, validate on 100 samples\n",
      "Epoch 1/32\n"
     ]
    },
    {
     "name": "stderr",
     "output_type": "stream",
     "text": [
      "2022-10-07 13:54:01.287084: I tensorflow/core/platform/cpu_feature_guard.cc:193] This TensorFlow binary is optimized with oneAPI Deep Neural Network Library (oneDNN) to use the following CPU instructions in performance-critical operations:  AVX2 FMA\n",
      "To enable them in other operations, rebuild TensorFlow with the appropriate compiler flags.\n",
      "2022-10-07 13:54:01.317053: I tensorflow/compiler/mlir/mlir_graph_optimization_pass.cc:354] MLIR V1 optimization pass is not enabled\n"
     ]
    },
    {
     "name": "stdout",
     "output_type": "stream",
     "text": [
      "299/299 [==============================] - ETA: 0s - loss: 12138.5555"
     ]
    },
    {
     "name": "stderr",
     "output_type": "stream",
     "text": [
      "/Users/karlberb/Desktop/RNB00978/sample_count/tf_venv_a/lib/python3.9/site-packages/keras/engine/training_v1.py:2332: UserWarning: `Model.state_updates` will be removed in a future version. This property should not be used in TensorFlow 2.0, as `updates` are applied automatically.\n",
      "  updates = self.state_updates\n"
     ]
    },
    {
     "name": "stdout",
     "output_type": "stream",
     "text": [
      "299/299 [==============================] - 12s 41ms/sample - loss: 12138.5555 - val_loss: 10075.1517\n",
      "Epoch 2/32\n",
      "299/299 [==============================] - 7s 25ms/sample - loss: 8200.0432 - val_loss: 9738.4832\n",
      "Epoch 3/32\n",
      "299/299 [==============================] - 8s 26ms/sample - loss: 7672.7288 - val_loss: 9921.0876\n",
      "Epoch 4/32\n",
      "299/299 [==============================] - 8s 26ms/sample - loss: 7541.8406 - val_loss: 9256.4051\n",
      "Epoch 5/32\n",
      "299/299 [==============================] - 7s 25ms/sample - loss: 7394.0131 - val_loss: 9125.9566\n",
      "Epoch 6/32\n",
      "299/299 [==============================] - 7s 25ms/sample - loss: 7320.2188 - val_loss: 9305.7571\n",
      "Epoch 7/32\n",
      "299/299 [==============================] - 8s 26ms/sample - loss: 7276.0251 - val_loss: 8865.8511\n",
      "Epoch 8/32\n",
      "299/299 [==============================] - 8s 25ms/sample - loss: 7240.8291 - val_loss: 9248.6652\n",
      "Epoch 9/32\n",
      "299/299 [==============================] - 7s 24ms/sample - loss: 7204.6421 - val_loss: 9179.3391\n",
      "Epoch 10/32\n",
      "299/299 [==============================] - 8s 26ms/sample - loss: 7181.2021 - val_loss: 8897.9835\n",
      "Epoch 11/32\n",
      "299/299 [==============================] - 7s 25ms/sample - loss: 7135.1177 - val_loss: 8699.7596\n",
      "Epoch 12/32\n",
      "299/299 [==============================] - 8s 25ms/sample - loss: 7136.4973 - val_loss: 8957.7111\n",
      "Epoch 13/32\n",
      "299/299 [==============================] - 8s 26ms/sample - loss: 7104.0036 - val_loss: 8928.5537\n",
      "Epoch 14/32\n",
      "299/299 [==============================] - 8s 26ms/sample - loss: 7095.1175 - val_loss: 8722.8461\n",
      "Epoch 15/32\n",
      "299/299 [==============================] - 7s 25ms/sample - loss: 7066.5575 - val_loss: 9316.8463\n",
      "Epoch 16/32\n",
      "299/299 [==============================] - 8s 26ms/sample - loss: 7052.8490 - val_loss: 8819.3321\n",
      "Epoch 17/32\n",
      "299/299 [==============================] - 8s 26ms/sample - loss: 7007.8389 - val_loss: 8741.5758\n",
      "Epoch 18/32\n",
      "299/299 [==============================] - 8s 27ms/sample - loss: 6991.0759 - val_loss: 8857.4209\n",
      "Epoch 19/32\n",
      "299/299 [==============================] - 8s 28ms/sample - loss: 6966.3714 - val_loss: 8879.3687\n",
      "Epoch 20/32\n",
      "299/299 [==============================] - 8s 27ms/sample - loss: 6959.7918 - val_loss: 8699.9220\n",
      "Epoch 21/32\n",
      "299/299 [==============================] - 8s 27ms/sample - loss: 6944.3876 - val_loss: 8826.2560\n",
      "Epoch 22/32\n",
      "299/299 [==============================] - 8s 27ms/sample - loss: 6927.3000 - val_loss: 8545.6043\n",
      "Epoch 23/32\n",
      "299/299 [==============================] - 9s 28ms/sample - loss: 6932.2905 - val_loss: 8720.5716\n",
      "Epoch 24/32\n",
      "299/299 [==============================] - 8s 26ms/sample - loss: 6920.9857 - val_loss: 8793.3682\n",
      "Epoch 25/32\n",
      "299/299 [==============================] - 7s 25ms/sample - loss: 6904.9958 - val_loss: 8616.2971\n",
      "Epoch 26/32\n",
      "299/299 [==============================] - 7s 25ms/sample - loss: 6899.6781 - val_loss: 8844.8874\n",
      "Epoch 27/32\n",
      "299/299 [==============================] - 7s 25ms/sample - loss: 6876.3766 - val_loss: 8715.9410\n",
      "Epoch 28/32\n",
      "299/299 [==============================] - 8s 25ms/sample - loss: 6859.0952 - val_loss: 8728.1256\n",
      "Epoch 29/32\n",
      "299/299 [==============================] - 7s 25ms/sample - loss: 6851.1375 - val_loss: 8685.3594\n",
      "Epoch 30/32\n",
      "299/299 [==============================] - 7s 25ms/sample - loss: 6841.3047 - val_loss: 8665.4301\n",
      "Epoch 31/32\n",
      "299/299 [==============================] - 8s 25ms/sample - loss: 6843.2590 - val_loss: 8724.2153\n",
      "Epoch 32/32\n",
      "299/299 [==============================] - 7s 25ms/sample - loss: 6836.3021 - val_loss: 8601.6122\n"
     ]
    },
    {
     "ename": "NameError",
     "evalue": "name 'cohort' is not defined",
     "output_type": "error",
     "traceback": [
      "\u001b[0;31m---------------------------------------------------------------------------\u001b[0m",
      "\u001b[0;31mNameError\u001b[0m                                 Traceback (most recent call last)",
      "Cell \u001b[0;32mIn [7], line 7\u001b[0m\n\u001b[1;32m      5\u001b[0m plt\u001b[38;5;241m.\u001b[39mplot(history\u001b[38;5;241m.\u001b[39mhistory[\u001b[38;5;124m'\u001b[39m\u001b[38;5;124mloss\u001b[39m\u001b[38;5;124m'\u001b[39m],label\u001b[38;5;241m=\u001b[39m\u001b[38;5;124m\"\u001b[39m\u001b[38;5;124mloss\u001b[39m\u001b[38;5;124m\"\u001b[39m)\n\u001b[1;32m      6\u001b[0m plt\u001b[38;5;241m.\u001b[39mplot(history\u001b[38;5;241m.\u001b[39mhistory[\u001b[38;5;124m'\u001b[39m\u001b[38;5;124mval_loss\u001b[39m\u001b[38;5;124m'\u001b[39m],label\u001b[38;5;241m=\u001b[39m\u001b[38;5;124m\"\u001b[39m\u001b[38;5;124mval_loss\u001b[39m\u001b[38;5;124m\"\u001b[39m)\n\u001b[0;32m----> 7\u001b[0m plt\u001b[38;5;241m.\u001b[39mtitle(\u001b[38;5;124m'\u001b[39m\u001b[38;5;124mVAE embedding loss, \u001b[39m\u001b[38;5;124m'\u001b[39m\u001b[38;5;241m+\u001b[39mcohort\u001b[38;5;241m+\u001b[39m\u001b[38;5;124m'\u001b[39m\u001b[38;5;124m pre-train\u001b[39m\u001b[38;5;130;01m\\n\u001b[39;00m\u001b[38;5;124m'\u001b[39m\u001b[38;5;241m+\u001b[39m\n\u001b[1;32m      8\u001b[0m \n\u001b[1;32m      9\u001b[0m           \u001b[38;5;66;03m# file.index.name+', burn-in, n = 495'+\u001b[39;00m\n\u001b[1;32m     10\u001b[0m \n\u001b[1;32m     11\u001b[0m           \u001b[38;5;124m'\u001b[39m\u001b[38;5;124m2D conv, latent dim = \u001b[39m\u001b[38;5;124m'\u001b[39m\u001b[38;5;241m+\u001b[39m\u001b[38;5;28mstr\u001b[39m(latent_dim))\n\u001b[1;32m     12\u001b[0m plt\u001b[38;5;241m.\u001b[39mxlabel(\u001b[38;5;124m'\u001b[39m\u001b[38;5;124mEpoch\u001b[39m\u001b[38;5;124m'\u001b[39m)\n\u001b[1;32m     13\u001b[0m plt\u001b[38;5;241m.\u001b[39mylabel(\u001b[38;5;124m'\u001b[39m\u001b[38;5;124mLoss\u001b[39m\u001b[38;5;124m'\u001b[39m)\n",
      "\u001b[0;31mNameError\u001b[0m: name 'cohort' is not defined"
     ]
    },
    {
     "data": {
      "image/png": "[encoded data removed]",
      "text/plain": [
       "<Figure size 640x480 with 1 Axes>"
      ]
     },
     "metadata": {},
     "output_type": "display_data"
    }
   ],
   "source": [
    "\n",
    "history = vae.fit(x=X_train_new, y=X_train_new, epochs=epochs,\n",
    "                  batch_size=32, # why is this set to 32?\n",
    "                  validation_data=(X_test_new, X_test_new))\n",
    "\n",
    "plt.plot(history.history['loss'],label=\"loss\")\n",
    "plt.plot(history.history['val_loss'],label=\"val_loss\")\n",
    "plt.title('VAE embedding loss, '+cohort+' pre-train\\n'+\n",
    "\n",
    "          # file.index.name+', burn-in, n = 495'+\n",
    "\n",
    "          '2D conv, latent dim = '+str(latent_dim))\n",
    "plt.xlabel('Epoch')\n",
    "plt.ylabel('Loss')\n",
    "plt.annotate('test_fraction = .25',\n",
    "            xy=(.4, .8), xycoords='figure fraction',\n",
    "            horizontalalignment='left', verticalalignment='top',\n",
    "            # fontsize=20\n",
    "            )\n",
    "\n",
    "plt.legend(loc=\"lower left\")\n",
    "# plt.savefig('dir_n/cohort_n'+str(epochs)+'_epochs_2022-08-date_version.png')\n",
    "plt.savefig('loss_curves_ignored/'+cohort+'_pretrain_'+\n",
    "\n",
    "            # file.index.name+\n",
    "            # '_brn_n_'+str(len(brca_burn_in))+'_'+\n",
    "\n",
    "            str(epochs)+'_epochs_'+\n",
    "            str(latent_dim)+'_latent_dim_'+\n",
    "            date+'_'+version+'_r0.png')"
   ]
  },
  {
   "cell_type": "code",
   "execution_count": 18,
   "id": "6e549ee8-9015-4a76-9176-b078d5f45920",
   "metadata": {},
   "outputs": [
    {
     "data": {
      "image/png": "[encoded data removed]",
      "text/plain": [
       "<Figure size 640x480 with 1 Axes>"
      ]
     },
     "metadata": {},
     "output_type": "display_data"
    }
   ],
   "source": [
    "# Fix the plot annotation\n",
    "plt.plot(history.history['loss'],label=\"loss\")\n",
    "plt.plot(history.history['val_loss'],label=\"val_loss\")\n",
    "plt.title('VAE embedding loss, '+cohort+' pre-train\\n'+\n",
    "          \n",
    "          # file.index.name+', burn-in, n = 495'+\n",
    "          \n",
    "          ' latent dim = '+str(latent_dim))\n",
    "plt.xlabel('Epoch')\n",
    "plt.ylabel('Loss')\n",
    "plt.annotate('24 TCGA cohorts\\ntest_fraction = .25, n = 1724\\ntrain on n = 5260 samples'+\n",
    "             '\\nunit8, 2Dconv',\n",
    "            xy=(.4, .8), xycoords='figure fraction',\n",
    "            horizontalalignment='left', verticalalignment='top',\n",
    "            # fontsize=20\n",
    "            )\n",
    "\n",
    "plt.legend(loc=\"center right\")\n",
    "# plt.savefig('dir_n/cohort_n'+str(epochs)+'_epochs_2022-08-date_version.png')\n",
    "plt.savefig(cohort+'_pretrain_'+\n",
    "            \n",
    "            # file.index.name+\n",
    "            # '_brn_n_'+str(len(brca_burn_in))+'_'+\n",
    "            \n",
    "            str(epochs)+'_epochs_'+\n",
    "            str(latent_dim)+'_latent_dim_'+\n",
    "            date+'_'+version+'_r0_p1.png')"
   ]
  }
 ],
 "metadata": {
  "kernelspec": {
   "display_name": "tf_venv_a",
   "language": "python",
   "name": "tf_venv_a"
  },
  "language_info": {
   "codemirror_mode": {
    "name": "ipython",
    "version": 3
   },
   "file_extension": ".py",
   "mimetype": "text/x-python",
   "name": "python",
   "nbconvert_exporter": "python",
   "pygments_lexer": "ipython3",
   "version": "3.9.7"
  }
 },
 "nbformat": 4,
 "nbformat_minor": 5
}
