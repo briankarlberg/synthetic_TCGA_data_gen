{
 "cells": [
  {
   "cell_type": "markdown",
   "id": "46c50a55-39ad-4227-b034-e6bb2df97ea9",
   "metadata": {},
   "source": [
    "#### 1D conv model\n",
    "For devel on BLCA and BRCA gexp data files\n",
    "OneDrive:\n",
    "\n",
    "kernel setup:\n",
    "    local:\n",
    "        hold\n",
    "    Exacloud:\n",
    "        hold"
   ]
  },
  {
   "cell_type": "code",
   "execution_count": null,
   "id": "fc8d279c-1b7d-45fc-8aaa-ebc7a9c00add",
   "metadata": {},
   "outputs": [],
   "source": [
    "%whos"
   ]
  },
  {
   "cell_type": "code",
   "execution_count": 34,
   "id": "b492e6ad-29c7-4bb1-808b-1502ed009205",
   "metadata": {},
   "outputs": [
    {
     "name": "stdout",
     "output_type": "stream",
     "text": [
      "\u001b[34mraw\u001b[m\u001b[m/            test_norm.tsv   train_norm.tsv\n"
     ]
    }
   ],
   "source": [
    "ls ../a_data_structure/normed_data/ # BLCA data"
   ]
  },
  {
   "cell_type": "code",
   "execution_count": 4,
   "id": "b0496b8f-9d4f-4065-906c-89f412290f9e",
   "metadata": {},
   "outputs": [],
   "source": [
    "# import glob\n",
    "# import tensorflow as tf\n",
    "import numpy as np\n",
    "import pandas as pd"
   ]
  },
  {
   "cell_type": "code",
   "execution_count": null,
   "id": "104cd985-901d-4599-a00a-2edf8476ea8a",
   "metadata": {},
   "outputs": [],
   "source": [
    "# go back for labels, to UMAP"
   ]
  },
  {
   "cell_type": "code",
   "execution_count": 5,
   "id": "9345957d-1c9b-4565-b37a-47820f21d258",
   "metadata": {},
   "outputs": [],
   "source": [
    "train_norm = pd.read_csv('../a_data_structure/normed_data/train_norm.tsv',\n",
    "                  sep = '\\t',\n",
    "                   index_col = 0)"
   ]
  },
  {
   "cell_type": "code",
   "execution_count": 6,
   "id": "573cabb0-c5c3-40c5-afcc-08594d14774c",
   "metadata": {},
   "outputs": [],
   "source": [
    "test_norm = pd.read_csv('../a_data_structure/normed_data/test_norm.tsv',\n",
    "                  sep = '\\t',\n",
    "                   index_col = 0)"
   ]
  },
  {
   "cell_type": "code",
   "execution_count": 7,
   "id": "6cdaf595-54fe-4941-b443-c49d578994ec",
   "metadata": {},
   "outputs": [
    {
     "data": {
      "text/html": [
       "<div>\n",
       "<style scoped>\n",
       "    .dataframe tbody tr th:only-of-type {\n",
       "        vertical-align: middle;\n",
       "    }\n",
       "\n",
       "    .dataframe tbody tr th {\n",
       "        vertical-align: top;\n",
       "    }\n",
       "\n",
       "    .dataframe thead th {\n",
       "        text-align: right;\n",
       "    }\n",
       "</style>\n",
       "<table border=\"1\" class=\"dataframe\">\n",
       "  <thead>\n",
       "    <tr style=\"text-align: right;\">\n",
       "      <th></th>\n",
       "      <th>N:GEXP::?:100130426:</th>\n",
       "      <th>N:GEXP::?:100133144:</th>\n",
       "      <th>N:GEXP::?:100134869:</th>\n",
       "      <th>N:GEXP::?:10357:</th>\n",
       "      <th>N:GEXP::?:10431:</th>\n",
       "      <th>N:GEXP::?:136542:</th>\n",
       "      <th>N:GEXP::?:155060:</th>\n",
       "      <th>N:GEXP::?:26823:</th>\n",
       "      <th>N:GEXP::?:280660:</th>\n",
       "      <th>N:GEXP::?:317712:</th>\n",
       "      <th>...</th>\n",
       "      <th>N:GEXP::ZXDA:7789:</th>\n",
       "      <th>N:GEXP::ZXDB:158586:</th>\n",
       "      <th>N:GEXP::ZXDC:79364:</th>\n",
       "      <th>N:GEXP::ZYG11A:440590:</th>\n",
       "      <th>N:GEXP::ZYG11B:79699:</th>\n",
       "      <th>N:GEXP::ZYX:7791:</th>\n",
       "      <th>N:GEXP::ZZEF1:23140:</th>\n",
       "      <th>N:GEXP::ZZZ3:26009:</th>\n",
       "      <th>N:GEXP::psiTPTE22:387590:</th>\n",
       "      <th>N:GEXP::tAKR:389932:</th>\n",
       "    </tr>\n",
       "  </thead>\n",
       "  <tbody>\n",
       "    <tr>\n",
       "      <th>0</th>\n",
       "      <td>0.0</td>\n",
       "      <td>0.0</td>\n",
       "      <td>0.060688</td>\n",
       "      <td>0.190093</td>\n",
       "      <td>0.120877</td>\n",
       "      <td>0.0</td>\n",
       "      <td>0.064528</td>\n",
       "      <td>0.0</td>\n",
       "      <td>0.0</td>\n",
       "      <td>0.0</td>\n",
       "      <td>...</td>\n",
       "      <td>0.167245</td>\n",
       "      <td>0.226274</td>\n",
       "      <td>0.219092</td>\n",
       "      <td>0.014614</td>\n",
       "      <td>0.376986</td>\n",
       "      <td>0.140468</td>\n",
       "      <td>0.135513</td>\n",
       "      <td>0.186737</td>\n",
       "      <td>0.009614</td>\n",
       "      <td>0.040715</td>\n",
       "    </tr>\n",
       "  </tbody>\n",
       "</table>\n",
       "<p>1 rows × 20531 columns</p>\n",
       "</div>"
      ],
      "text/plain": [
       "   N:GEXP::?:100130426:  N:GEXP::?:100133144:  N:GEXP::?:100134869:  \\\n",
       "0                   0.0                   0.0              0.060688   \n",
       "\n",
       "   N:GEXP::?:10357:  N:GEXP::?:10431:  N:GEXP::?:136542:  N:GEXP::?:155060:  \\\n",
       "0          0.190093          0.120877                0.0           0.064528   \n",
       "\n",
       "   N:GEXP::?:26823:  N:GEXP::?:280660:  N:GEXP::?:317712:  ...  \\\n",
       "0               0.0                0.0                0.0  ...   \n",
       "\n",
       "   N:GEXP::ZXDA:7789:  N:GEXP::ZXDB:158586:  N:GEXP::ZXDC:79364:  \\\n",
       "0            0.167245              0.226274             0.219092   \n",
       "\n",
       "   N:GEXP::ZYG11A:440590:  N:GEXP::ZYG11B:79699:  N:GEXP::ZYX:7791:  \\\n",
       "0                0.014614               0.376986           0.140468   \n",
       "\n",
       "   N:GEXP::ZZEF1:23140:  N:GEXP::ZZZ3:26009:  N:GEXP::psiTPTE22:387590:  \\\n",
       "0              0.135513             0.186737                   0.009614   \n",
       "\n",
       "   N:GEXP::tAKR:389932:  \n",
       "0              0.040715  \n",
       "\n",
       "[1 rows x 20531 columns]"
      ]
     },
     "execution_count": 7,
     "metadata": {},
     "output_type": "execute_result"
    }
   ],
   "source": [
    "train_norm.head(1)"
   ]
  },
  {
   "cell_type": "code",
   "execution_count": 8,
   "id": "c7a86925-4276-496a-a08d-0e289c51155a",
   "metadata": {},
   "outputs": [
    {
     "data": {
      "text/plain": [
       "(299, 20531)"
      ]
     },
     "execution_count": 8,
     "metadata": {},
     "output_type": "execute_result"
    }
   ],
   "source": [
    "train_norm.shape"
   ]
  },
  {
   "cell_type": "code",
   "execution_count": 9,
   "id": "6cb14240-f517-4fe6-8947-f7c42a914e45",
   "metadata": {},
   "outputs": [
    {
     "data": {
      "text/plain": [
       "numpy.float64"
      ]
     },
     "execution_count": 9,
     "metadata": {},
     "output_type": "execute_result"
    }
   ],
   "source": [
    "type(train_norm.iloc[0,0])"
   ]
  },
  {
   "cell_type": "code",
   "execution_count": 11,
   "id": "935ed0e1-cd0b-4a86-9103-5ac80be1e584",
   "metadata": {},
   "outputs": [
    {
     "name": "stderr",
     "output_type": "stream",
     "text": [
      "2022-10-10 15:48:21.622646: I tensorflow/core/platform/cpu_feature_guard.cc:193] This TensorFlow binary is optimized with oneAPI Deep Neural Network Library (oneDNN) to use the following CPU instructions in performance-critical operations:  AVX2 FMA\n",
      "To enable them in other operations, rebuild TensorFlow with the appropriate compiler flags.\n"
     ]
    }
   ],
   "source": [
    "from keras.layers import Input # compiling model does not ensure fitting"
   ]
  },
  {
   "cell_type": "code",
   "execution_count": 12,
   "id": "ed1154d6-22f6-4641-abb4-3db41d1abf5b",
   "metadata": {
    "collapsed": true,
    "jupyter": {
     "outputs_hidden": true
    },
    "tags": []
   },
   "outputs": [
    {
     "data": {
      "text/plain": [
       "\"`Input()` is used to instantiate a Keras tensor.\\n\\n    A Keras tensor is a symbolic tensor-like object, which we augment with\\n    certain attributes that allow us to build a Keras model just by knowing the\\n    inputs and outputs of the model.\\n\\n    For instance, if `a`, `b` and `c` are Keras tensors,\\n    it becomes possible to do:\\n    `model = Model(input=[a, b], output=c)`\\n\\n    Args:\\n        shape: A shape tuple (integers), not including the batch size.\\n            For instance, `shape=(32,)` indicates that the expected input\\n            will be batches of 32-dimensional vectors. Elements of this tuple\\n            can be None; 'None' elements represent dimensions where the shape is\\n            not known.\\n        batch_size: optional static batch size (integer).\\n        name: An optional name string for the layer.\\n            Should be unique in a model (do not reuse the same name twice).\\n            It will be autogenerated if it isn't provided.\\n        dtype: The data type expected by the input, as a string\\n            (`float32`, `float64`, `int32`...)\\n        sparse: A boolean specifying whether the placeholder to be created is\\n            sparse. Only one of 'ragged' and 'sparse' can be True. Note that,\\n            if `sparse` is False, sparse tensors can still be passed into the\\n            input - they will be densified with a default value of 0.\\n        tensor: Optional existing tensor to wrap into the `Input` layer.\\n            If set, the layer will use the `tf.TypeSpec` of this tensor rather\\n            than creating a new placeholder tensor.\\n        ragged: A boolean specifying whether the placeholder to be created is\\n            ragged. Only one of 'ragged' and 'sparse' can be True. In this case,\\n            values of 'None' in the 'shape' argument represent ragged\\n            dimensions.  For more information about RaggedTensors, see\\n            [this guide](https://www.tensorflow.org/guide/ragged_tensor).\\n        type_spec: A `tf.TypeSpec` object to create the input placeholder from.\\n            When provided, all other args except name must be None.\\n        **kwargs: deprecated arguments support. Supports `batch_shape` and\\n            `batch_input_shape`.\\n\\n    Returns:\\n      A `tensor`.\\n\\n    Example:\\n\\n    ```python\\n    # this is a logistic regression in Keras\\n    x = Input(shape=(32,))\\n    y = Dense(16, activation='softmax')(x)\\n    model = Model(x, y)\\n    ```\\n\\n    Note that even if eager execution is enabled,\\n    `Input` produces a symbolic tensor-like object (i.e. a placeholder).\\n    This symbolic tensor-like object can be used with lower-level\\n    TensorFlow ops that take tensors as inputs, as such:\\n\\n    ```python\\n    x = Input(shape=(32,))\\n    y = tf.square(x)  # This op will be treated like a layer\\n    model = Model(x, y)\\n    ```\\n\\n    (This behavior does not work for higher-order TensorFlow APIs such as\\n    control flow and being directly watched by a `tf.GradientTape`).\\n\\n    However, the resulting model will not track any variables that were\\n    used as inputs to TensorFlow ops. All variable usages must happen within\\n    Keras layers to make sure they will be tracked by the model's weights.\\n\\n    The Keras Input can also create a placeholder from an arbitrary\\n    `tf.TypeSpec`, e.g:\\n\\n    ```python\\n    x = Input(type_spec=tf.RaggedTensorSpec(shape=[None, None],\\n                                            dtype=tf.float32, ragged_rank=1))\\n    y = x.values\\n    model = Model(x, y)\\n    ```\\n    When passing an arbitrary `tf.TypeSpec`, it must represent the signature of\\n    an entire batch instead of just one example.\\n\\n    Raises:\\n      ValueError: If both `sparse` and `ragged` are provided.\\n      ValueError: If both `shape` and (`batch_input_shape` or `batch_shape`) are\\n        provided.\\n      ValueError: If `shape`, `tensor` and `type_spec` are None.\\n      ValueError: If arguments besides `type_spec` are non-None while\\n        `type_spec` is passed.\\n      ValueError: if any unrecognized parameters are provided.\\n    \""
      ]
     },
     "execution_count": 12,
     "metadata": {},
     "output_type": "execute_result"
    }
   ],
   "source": [
    "Input.__doc__"
   ]
  },
  {
   "cell_type": "code",
   "execution_count": 24,
   "id": "d5a82635-6ca0-4e58-9060-d19fa1cdbbeb",
   "metadata": {
    "collapsed": true,
    "jupyter": {
     "outputs_hidden": true
    },
    "tags": []
   },
   "outputs": [
    {
     "data": {
      "text/plain": [
       "'1D convolution layer (e.g. temporal convolution).\\n\\n    This layer creates a convolution kernel that is convolved\\n    with the layer input over a single spatial (or temporal) dimension\\n    to produce a tensor of outputs.\\n    If `use_bias` is True, a bias vector is created and added to the outputs.\\n    Finally, if `activation` is not `None`,\\n    it is applied to the outputs as well.\\n\\n    When using this layer as the first layer in a model,\\n    provide an `input_shape` argument\\n    (tuple of integers or `None`, e.g.\\n    `(10, 128)` for sequences of 10 vectors of 128-dimensional vectors,\\n    or `(None, 128)` for variable-length sequences of 128-dimensional vectors.\\n\\n    Examples:\\n\\n    >>> # The inputs are 128-length vectors with 10 timesteps, and the\\n    >>> # batch size is 4.\\n    >>> input_shape = (4, 10, 128)\\n    >>> x = tf.random.normal(input_shape)\\n    >>> y = tf.keras.layers.Conv1D(\\n    ... 32, 3, activation=\\'relu\\',input_shape=input_shape[1:])(x)\\n    >>> print(y.shape)\\n    (4, 8, 32)\\n\\n    >>> # With extended batch shape [4, 7] (e.g. weather data where batch\\n    >>> # dimensions correspond to spatial location and the third dimension\\n    >>> # corresponds to time.)\\n    >>> input_shape = (4, 7, 10, 128)\\n    >>> x = tf.random.normal(input_shape)\\n    >>> y = tf.keras.layers.Conv1D(\\n    ... 32, 3, activation=\\'relu\\', input_shape=input_shape[2:])(x)\\n    >>> print(y.shape)\\n    (4, 7, 8, 32)\\n\\n    Args:\\n      filters: Integer, the dimensionality of the output space\\n        (i.e. the number of output filters in the convolution).\\n      kernel_size: An integer or tuple/list of a single integer,\\n        specifying the length of the 1D convolution window.\\n      strides: An integer or tuple/list of a single integer,\\n        specifying the stride length of the convolution.\\n        Specifying any stride value != 1 is incompatible with specifying\\n        any `dilation_rate` value != 1.\\n      padding: One of `\"valid\"`, `\"same\"` or `\"causal\"` (case-insensitive).\\n        `\"valid\"` means no padding. `\"same\"` results in padding with zeros\\n        evenly to the left/right or up/down of the input such that output has\\n        the same height/width dimension as the input.\\n        `\"causal\"` results in causal (dilated) convolutions, e.g. `output[t]`\\n        does not depend on `input[t+1:]`. Useful when modeling temporal data\\n        where the model should not violate the temporal order.\\n        See [WaveNet: A Generative Model for Raw Audio, section\\n          2.1](https://arxiv.org/abs/1609.03499).\\n      data_format: A string,\\n        one of `channels_last` (default) or `channels_first`.\\n      dilation_rate: an integer or tuple/list of a single integer, specifying\\n        the dilation rate to use for dilated convolution.\\n        Currently, specifying any `dilation_rate` value != 1 is\\n        incompatible with specifying any `strides` value != 1.\\n      groups: A positive integer specifying the number of groups in which the\\n        input is split along the channel axis. Each group is convolved\\n        separately with `filters / groups` filters. The output is the\\n        concatenation of all the `groups` results along the channel axis.\\n        Input channels and `filters` must both be divisible by `groups`.\\n      activation: Activation function to use.\\n        If you don\\'t specify anything, no activation is applied\\n        (see `keras.activations`).\\n      use_bias: Boolean, whether the layer uses a bias vector.\\n      kernel_initializer: Initializer for the `kernel` weights matrix\\n        (see `keras.initializers`). Defaults to \\'glorot_uniform\\'.\\n      bias_initializer: Initializer for the bias vector\\n        (see `keras.initializers`). Defaults to \\'zeros\\'.\\n      kernel_regularizer: Regularizer function applied to\\n        the `kernel` weights matrix (see `keras.regularizers`).\\n      bias_regularizer: Regularizer function applied to the bias vector\\n        (see `keras.regularizers`).\\n      activity_regularizer: Regularizer function applied to\\n        the output of the layer (its \"activation\")\\n        (see `keras.regularizers`).\\n      kernel_constraint: Constraint function applied to the kernel matrix\\n        (see `keras.constraints`).\\n      bias_constraint: Constraint function applied to the bias vector\\n        (see `keras.constraints`).\\n\\n    Input shape:\\n      3+D tensor with shape: `batch_shape + (steps, input_dim)`\\n\\n    Output shape:\\n      3+D tensor with shape: `batch_shape + (new_steps, filters)`\\n        `steps` value might have changed due to padding or strides.\\n\\n    Returns:\\n      A tensor of rank 3 representing\\n      `activation(conv1d(inputs, kernel) + bias)`.\\n\\n    Raises:\\n      ValueError: when both `strides > 1` and `dilation_rate > 1`.\\n    '"
      ]
     },
     "execution_count": 24,
     "metadata": {},
     "output_type": "execute_result"
    }
   ],
   "source": [
    "Conv1D.__doc__"
   ]
  },
  {
   "cell_type": "code",
   "execution_count": 13,
   "id": "01c7d38c-5747-4f0d-a071-f5e82a99acca",
   "metadata": {},
   "outputs": [],
   "source": [
    "encoder_input = Input(shape=train_norm.shape)"
   ]
  },
  {
   "cell_type": "code",
   "execution_count": 19,
   "id": "7dbe95bf-88fb-4c2d-a6c0-564580e90331",
   "metadata": {},
   "outputs": [
    {
     "data": {
      "text/plain": [
       "<KerasTensor: shape=(None, 299, 20531) dtype=float32 (created by layer 'input_1')>"
      ]
     },
     "execution_count": 19,
     "metadata": {},
     "output_type": "execute_result"
    }
   ],
   "source": [
    "encoder_input # inferred and inserted batch size"
   ]
  },
  {
   "cell_type": "code",
   "execution_count": 16,
   "id": "f666b000-f2e8-4eb0-9b66-dfc1e64e6bc7",
   "metadata": {},
   "outputs": [],
   "source": [
    "import tensorflow as tf"
   ]
  },
  {
   "cell_type": "code",
   "execution_count": 17,
   "id": "acd5b464-51c9-4179-a448-8a5de5b54ff8",
   "metadata": {},
   "outputs": [
    {
     "ename": "AttributeError",
     "evalue": "module 'tensorflow' has no attribute 'placeholder'",
     "output_type": "error",
     "traceback": [
      "\u001b[0;31m---------------------------------------------------------------------------\u001b[0m",
      "\u001b[0;31mAttributeError\u001b[0m                            Traceback (most recent call last)",
      "Cell \u001b[0;32mIn [17], line 1\u001b[0m\n\u001b[0;32m----> 1\u001b[0m multiplier \u001b[38;5;241m=\u001b[39m tf\u001b[38;5;241m.\u001b[39mplaceholder(shape\u001b[38;5;241m=\u001b[39m(\u001b[38;5;241m1\u001b[39m,), dtype\u001b[38;5;241m=\u001b[39mtf\u001b[38;5;241m.\u001b[39mfloat32)\n",
      "\u001b[0;31mAttributeError\u001b[0m: module 'tensorflow' has no attribute 'placeholder'"
     ]
    }
   ],
   "source": [
    "multiplier = tf.placeholder(shape=(1,), dtype=tf.float32)"
   ]
  },
  {
   "cell_type": "code",
   "execution_count": null,
   "id": "b16cc463-987e-4d88-972b-9e27f7e0cdf5",
   "metadata": {},
   "outputs": [],
   "source": [
    "# filters go up through encoder layers, outward in detail\n",
    "# e.g. 8 first, then 16 on next layer\n",
    "\n",
    "# "
   ]
  },
  {
   "cell_type": "code",
   "execution_count": 31,
   "id": "5dcf10b1-4b39-409b-9237-1154715ada0b",
   "metadata": {},
   "outputs": [],
   "source": [
    "encoder_conv = Conv1D(filters=8, kernel_size=3)"
   ]
  },
  {
   "cell_type": "code",
   "execution_count": 32,
   "id": "ab7d7020-c500-4a2c-a1e9-c0518a02cbe5",
   "metadata": {},
   "outputs": [
    {
     "name": "stderr",
     "output_type": "stream",
     "text": [
      "2022-10-10 13:12:51.060712: I tensorflow/core/platform/cpu_feature_guard.cc:193] This TensorFlow binary is optimized with oneAPI Deep Neural Network Library (oneDNN) to use the following CPU instructions in performance-critical operations:  AVX2 FMA\n",
      "To enable them in other operations, rebuild TensorFlow with the appropriate compiler flags.\n"
     ]
    }
   ],
   "source": [
    "encoder_conv = Conv1D(filters=8, kernel_size=3)(encoder_input)"
   ]
  },
  {
   "cell_type": "code",
   "execution_count": 33,
   "id": "1265b9e2-4e76-4ae2-9e92-1575bb9a74f0",
   "metadata": {},
   "outputs": [],
   "source": [
    "encoder_conv = Conv1D(filters=8,\n",
    "                      kernel_size=3,\n",
    "                      activation='relu',\n",
    "                      padding='same')(encoder_input) # done"
   ]
  },
  {
   "cell_type": "code",
   "execution_count": 60,
   "id": "d7ea076a-c459-4eaa-8979-455892f465c7",
   "metadata": {},
   "outputs": [
    {
     "data": {
      "text/plain": [
       "(299, 20531)"
      ]
     },
     "execution_count": 60,
     "metadata": {},
     "output_type": "execute_result"
    }
   ],
   "source": [
    "train_norm.shape"
   ]
  },
  {
   "cell_type": "code",
   "execution_count": 61,
   "id": "3ec4b00d-9351-4d71-a22d-0b7c4f68d30a",
   "metadata": {},
   "outputs": [
    {
     "data": {
      "text/plain": [
       "<tf.Tensor 'input_11:0' shape=(None, 299, 20531) dtype=float32>"
      ]
     },
     "execution_count": 61,
     "metadata": {},
     "output_type": "execute_result"
    }
   ],
   "source": [
    "encoder_input"
   ]
  },
  {
   "cell_type": "code",
   "execution_count": 62,
   "id": "b9c2a532-b3b3-4d23-a8ce-5b140b9a4c1c",
   "metadata": {},
   "outputs": [
    {
     "ename": "AttributeError",
     "evalue": "'DataFrame' object has no attribute 'reshape'",
     "output_type": "error",
     "traceback": [
      "\u001b[0;31m---------------------------------------------------------------------------\u001b[0m",
      "\u001b[0;31mAttributeError\u001b[0m                            Traceback (most recent call last)",
      "Cell \u001b[0;32mIn [62], line 1\u001b[0m\n\u001b[0;32m----> 1\u001b[0m train_norm\u001b[38;5;241m.\u001b[39mreshape(\u001b[38;5;124m'\u001b[39m\u001b[38;5;124mNone\u001b[39m\u001b[38;5;124m'\u001b[39m, \u001b[38;5;241m299\u001b[39m, \u001b[38;5;241m29531\u001b[39m)\n",
      "File \u001b[0;32m~/Desktop/RNB00978/sample_count/sample_gen/dense_layer/dense_full_env_00/lib/python3.9/site-packages/pandas/core/generic.py:5907\u001b[0m, in \u001b[0;36mNDFrame.__getattr__\u001b[0;34m(self, name)\u001b[0m\n\u001b[1;32m   5900\u001b[0m \u001b[38;5;28;01mif\u001b[39;00m (\n\u001b[1;32m   5901\u001b[0m     name \u001b[38;5;129;01mnot\u001b[39;00m \u001b[38;5;129;01min\u001b[39;00m \u001b[38;5;28mself\u001b[39m\u001b[38;5;241m.\u001b[39m_internal_names_set\n\u001b[1;32m   5902\u001b[0m     \u001b[38;5;129;01mand\u001b[39;00m name \u001b[38;5;129;01mnot\u001b[39;00m \u001b[38;5;129;01min\u001b[39;00m \u001b[38;5;28mself\u001b[39m\u001b[38;5;241m.\u001b[39m_metadata\n\u001b[1;32m   5903\u001b[0m     \u001b[38;5;129;01mand\u001b[39;00m name \u001b[38;5;129;01mnot\u001b[39;00m \u001b[38;5;129;01min\u001b[39;00m \u001b[38;5;28mself\u001b[39m\u001b[38;5;241m.\u001b[39m_accessors\n\u001b[1;32m   5904\u001b[0m     \u001b[38;5;129;01mand\u001b[39;00m \u001b[38;5;28mself\u001b[39m\u001b[38;5;241m.\u001b[39m_info_axis\u001b[38;5;241m.\u001b[39m_can_hold_identifiers_and_holds_name(name)\n\u001b[1;32m   5905\u001b[0m ):\n\u001b[1;32m   5906\u001b[0m     \u001b[38;5;28;01mreturn\u001b[39;00m \u001b[38;5;28mself\u001b[39m[name]\n\u001b[0;32m-> 5907\u001b[0m \u001b[38;5;28;01mreturn\u001b[39;00m \u001b[38;5;28;43mobject\u001b[39;49m\u001b[38;5;241;43m.\u001b[39;49m\u001b[38;5;21;43m__getattribute__\u001b[39;49m\u001b[43m(\u001b[49m\u001b[38;5;28;43mself\u001b[39;49m\u001b[43m,\u001b[49m\u001b[43m \u001b[49m\u001b[43mname\u001b[49m\u001b[43m)\u001b[49m\n",
      "\u001b[0;31mAttributeError\u001b[0m: 'DataFrame' object has no attribute 'reshape'"
     ]
    }
   ],
   "source": [
    "train_norm.reshape('None', 299, 29531)"
   ]
  },
  {
   "cell_type": "code",
   "execution_count": 64,
   "id": "d3a4ca7e-d8dc-45f7-8752-9616b29df666",
   "metadata": {},
   "outputs": [
    {
     "data": {
      "text/plain": [
       "array([[0.        , 0.        , 0.06068844, ..., 0.18673746, 0.0096144 ,\n",
       "        0.04071533],\n",
       "       [0.        , 0.2001788 , 0.10994696, ..., 0.17413426, 0.00171236,\n",
       "        0.        ],\n",
       "       [0.        , 0.17052312, 0.15240276, ..., 0.12215772, 0.00491615,\n",
       "        0.        ],\n",
       "       ...,\n",
       "       [0.        , 0.02402216, 0.05041014, ..., 0.1319427 , 0.00383435,\n",
       "        0.        ],\n",
       "       [0.        , 0.02883224, 0.04229703, ..., 0.15928173, 0.04647292,\n",
       "        0.        ],\n",
       "       [0.        , 0.06031008, 0.09414756, ..., 0.12103451, 0.00174716,\n",
       "        0.        ]])"
      ]
     },
     "execution_count": 64,
     "metadata": {},
     "output_type": "execute_result"
    }
   ],
   "source": [
    "np.array(train_norm)"
   ]
  },
  {
   "cell_type": "code",
   "execution_count": 69,
   "id": "d2b854c7-2496-43dd-9529-6a375213197f",
   "metadata": {},
   "outputs": [
    {
     "data": {
      "text/plain": [
       "(299, 20531)"
      ]
     },
     "execution_count": 69,
     "metadata": {},
     "output_type": "execute_result"
    }
   ],
   "source": [
    "np.array(train_norm).shape"
   ]
  },
  {
   "cell_type": "code",
   "execution_count": 68,
   "id": "e4648ba9-d170-4e1a-a6e3-7c7220352863",
   "metadata": {},
   "outputs": [
    {
     "ename": "ValueError",
     "evalue": "cannot reshape array of size 6138769 into shape (299,29531)",
     "output_type": "error",
     "traceback": [
      "\u001b[0;31m---------------------------------------------------------------------------\u001b[0m",
      "\u001b[0;31mValueError\u001b[0m                                Traceback (most recent call last)",
      "Cell \u001b[0;32mIn [68], line 1\u001b[0m\n\u001b[0;32m----> 1\u001b[0m np\u001b[38;5;241m.\u001b[39marray(train_norm)\u001b[38;5;241m.\u001b[39mreshape(\u001b[38;5;241m299\u001b[39m, \u001b[38;5;241m29531\u001b[39m,)\n",
      "\u001b[0;31mValueError\u001b[0m: cannot reshape array of size 6138769 into shape (299,29531)"
     ]
    }
   ],
   "source": [
    "np.array(train_norm).reshape(299, 29531,)"
   ]
  },
  {
   "cell_type": "code",
   "execution_count": 6,
   "id": "e687f05c-77dc-4695-a4b1-ba3b4ec22fb9",
   "metadata": {},
   "outputs": [
    {
     "data": {
      "text/html": [
       "<div>\n",
       "<style scoped>\n",
       "    .dataframe tbody tr th:only-of-type {\n",
       "        vertical-align: middle;\n",
       "    }\n",
       "\n",
       "    .dataframe tbody tr th {\n",
       "        vertical-align: top;\n",
       "    }\n",
       "\n",
       "    .dataframe thead th {\n",
       "        text-align: right;\n",
       "    }\n",
       "</style>\n",
       "<table border=\"1\" class=\"dataframe\">\n",
       "  <thead>\n",
       "    <tr style=\"text-align: right;\">\n",
       "      <th></th>\n",
       "      <th>N:GEXP::?:100130426:</th>\n",
       "      <th>N:GEXP::?:100133144:</th>\n",
       "      <th>N:GEXP::?:100134869:</th>\n",
       "      <th>N:GEXP::?:10357:</th>\n",
       "      <th>N:GEXP::?:10431:</th>\n",
       "      <th>N:GEXP::?:136542:</th>\n",
       "      <th>N:GEXP::?:155060:</th>\n",
       "      <th>N:GEXP::?:26823:</th>\n",
       "      <th>N:GEXP::?:280660:</th>\n",
       "      <th>N:GEXP::?:317712:</th>\n",
       "      <th>...</th>\n",
       "      <th>N:GEXP::ZXDA:7789:</th>\n",
       "      <th>N:GEXP::ZXDB:158586:</th>\n",
       "      <th>N:GEXP::ZXDC:79364:</th>\n",
       "      <th>N:GEXP::ZYG11A:440590:</th>\n",
       "      <th>N:GEXP::ZYG11B:79699:</th>\n",
       "      <th>N:GEXP::ZYX:7791:</th>\n",
       "      <th>N:GEXP::ZZEF1:23140:</th>\n",
       "      <th>N:GEXP::ZZZ3:26009:</th>\n",
       "      <th>N:GEXP::psiTPTE22:387590:</th>\n",
       "      <th>N:GEXP::tAKR:389932:</th>\n",
       "    </tr>\n",
       "  </thead>\n",
       "  <tbody>\n",
       "    <tr>\n",
       "      <th>0</th>\n",
       "      <td>0.0</td>\n",
       "      <td>0.000000</td>\n",
       "      <td>0.060688</td>\n",
       "      <td>0.190093</td>\n",
       "      <td>0.120877</td>\n",
       "      <td>0.0</td>\n",
       "      <td>0.064528</td>\n",
       "      <td>0.000000</td>\n",
       "      <td>0.0</td>\n",
       "      <td>0.0</td>\n",
       "      <td>...</td>\n",
       "      <td>0.167245</td>\n",
       "      <td>0.226274</td>\n",
       "      <td>0.219092</td>\n",
       "      <td>0.014614</td>\n",
       "      <td>0.376986</td>\n",
       "      <td>0.140468</td>\n",
       "      <td>0.135513</td>\n",
       "      <td>0.186737</td>\n",
       "      <td>0.009614</td>\n",
       "      <td>0.040715</td>\n",
       "    </tr>\n",
       "    <tr>\n",
       "      <th>1</th>\n",
       "      <td>0.0</td>\n",
       "      <td>0.200179</td>\n",
       "      <td>0.109947</td>\n",
       "      <td>0.196140</td>\n",
       "      <td>0.138782</td>\n",
       "      <td>0.0</td>\n",
       "      <td>0.195341</td>\n",
       "      <td>0.000000</td>\n",
       "      <td>0.0</td>\n",
       "      <td>0.0</td>\n",
       "      <td>...</td>\n",
       "      <td>0.175930</td>\n",
       "      <td>0.195435</td>\n",
       "      <td>0.267575</td>\n",
       "      <td>0.001874</td>\n",
       "      <td>0.328280</td>\n",
       "      <td>0.370744</td>\n",
       "      <td>0.176791</td>\n",
       "      <td>0.174134</td>\n",
       "      <td>0.001712</td>\n",
       "      <td>0.000000</td>\n",
       "    </tr>\n",
       "    <tr>\n",
       "      <th>2</th>\n",
       "      <td>0.0</td>\n",
       "      <td>0.170523</td>\n",
       "      <td>0.152403</td>\n",
       "      <td>0.352650</td>\n",
       "      <td>0.102211</td>\n",
       "      <td>0.0</td>\n",
       "      <td>0.181813</td>\n",
       "      <td>0.071964</td>\n",
       "      <td>0.0</td>\n",
       "      <td>0.0</td>\n",
       "      <td>...</td>\n",
       "      <td>0.233610</td>\n",
       "      <td>0.233699</td>\n",
       "      <td>0.206320</td>\n",
       "      <td>0.002135</td>\n",
       "      <td>0.454074</td>\n",
       "      <td>0.167169</td>\n",
       "      <td>0.134349</td>\n",
       "      <td>0.122158</td>\n",
       "      <td>0.004916</td>\n",
       "      <td>0.000000</td>\n",
       "    </tr>\n",
       "    <tr>\n",
       "      <th>3</th>\n",
       "      <td>0.0</td>\n",
       "      <td>0.282052</td>\n",
       "      <td>0.239413</td>\n",
       "      <td>0.130320</td>\n",
       "      <td>0.210394</td>\n",
       "      <td>0.0</td>\n",
       "      <td>0.080955</td>\n",
       "      <td>0.000000</td>\n",
       "      <td>0.0</td>\n",
       "      <td>0.0</td>\n",
       "      <td>...</td>\n",
       "      <td>0.233219</td>\n",
       "      <td>0.405223</td>\n",
       "      <td>0.201969</td>\n",
       "      <td>0.061001</td>\n",
       "      <td>0.204115</td>\n",
       "      <td>0.120439</td>\n",
       "      <td>0.281065</td>\n",
       "      <td>0.137322</td>\n",
       "      <td>0.010770</td>\n",
       "      <td>0.000000</td>\n",
       "    </tr>\n",
       "    <tr>\n",
       "      <th>4</th>\n",
       "      <td>0.0</td>\n",
       "      <td>0.121046</td>\n",
       "      <td>0.031218</td>\n",
       "      <td>0.109394</td>\n",
       "      <td>0.121211</td>\n",
       "      <td>0.0</td>\n",
       "      <td>0.075722</td>\n",
       "      <td>0.094449</td>\n",
       "      <td>0.0</td>\n",
       "      <td>0.0</td>\n",
       "      <td>...</td>\n",
       "      <td>0.288672</td>\n",
       "      <td>0.286166</td>\n",
       "      <td>0.119374</td>\n",
       "      <td>0.001681</td>\n",
       "      <td>0.282114</td>\n",
       "      <td>0.256319</td>\n",
       "      <td>0.261425</td>\n",
       "      <td>0.255244</td>\n",
       "      <td>0.001536</td>\n",
       "      <td>0.000000</td>\n",
       "    </tr>\n",
       "    <tr>\n",
       "      <th>...</th>\n",
       "      <td>...</td>\n",
       "      <td>...</td>\n",
       "      <td>...</td>\n",
       "      <td>...</td>\n",
       "      <td>...</td>\n",
       "      <td>...</td>\n",
       "      <td>...</td>\n",
       "      <td>...</td>\n",
       "      <td>...</td>\n",
       "      <td>...</td>\n",
       "      <td>...</td>\n",
       "      <td>...</td>\n",
       "      <td>...</td>\n",
       "      <td>...</td>\n",
       "      <td>...</td>\n",
       "      <td>...</td>\n",
       "      <td>...</td>\n",
       "      <td>...</td>\n",
       "      <td>...</td>\n",
       "      <td>...</td>\n",
       "      <td>...</td>\n",
       "    </tr>\n",
       "    <tr>\n",
       "      <th>294</th>\n",
       "      <td>0.0</td>\n",
       "      <td>0.109671</td>\n",
       "      <td>0.115990</td>\n",
       "      <td>0.232968</td>\n",
       "      <td>0.086312</td>\n",
       "      <td>0.0</td>\n",
       "      <td>0.056862</td>\n",
       "      <td>0.096083</td>\n",
       "      <td>1.0</td>\n",
       "      <td>0.0</td>\n",
       "      <td>...</td>\n",
       "      <td>0.274292</td>\n",
       "      <td>0.294382</td>\n",
       "      <td>0.528842</td>\n",
       "      <td>0.009122</td>\n",
       "      <td>0.159579</td>\n",
       "      <td>0.220478</td>\n",
       "      <td>0.193469</td>\n",
       "      <td>0.152499</td>\n",
       "      <td>0.006877</td>\n",
       "      <td>0.000000</td>\n",
       "    </tr>\n",
       "    <tr>\n",
       "      <th>295</th>\n",
       "      <td>0.0</td>\n",
       "      <td>0.033081</td>\n",
       "      <td>0.153703</td>\n",
       "      <td>0.533536</td>\n",
       "      <td>0.280695</td>\n",
       "      <td>0.0</td>\n",
       "      <td>0.071780</td>\n",
       "      <td>0.000000</td>\n",
       "      <td>0.0</td>\n",
       "      <td>0.0</td>\n",
       "      <td>...</td>\n",
       "      <td>0.188809</td>\n",
       "      <td>0.216848</td>\n",
       "      <td>0.350675</td>\n",
       "      <td>0.005808</td>\n",
       "      <td>0.067289</td>\n",
       "      <td>0.214540</td>\n",
       "      <td>0.274936</td>\n",
       "      <td>0.169784</td>\n",
       "      <td>0.003184</td>\n",
       "      <td>0.000000</td>\n",
       "    </tr>\n",
       "    <tr>\n",
       "      <th>296</th>\n",
       "      <td>0.0</td>\n",
       "      <td>0.024022</td>\n",
       "      <td>0.050410</td>\n",
       "      <td>0.422522</td>\n",
       "      <td>0.290997</td>\n",
       "      <td>0.0</td>\n",
       "      <td>0.144224</td>\n",
       "      <td>0.073663</td>\n",
       "      <td>0.0</td>\n",
       "      <td>0.0</td>\n",
       "      <td>...</td>\n",
       "      <td>0.092094</td>\n",
       "      <td>0.174669</td>\n",
       "      <td>0.367699</td>\n",
       "      <td>0.065125</td>\n",
       "      <td>0.492677</td>\n",
       "      <td>0.183901</td>\n",
       "      <td>0.092295</td>\n",
       "      <td>0.131943</td>\n",
       "      <td>0.003834</td>\n",
       "      <td>0.000000</td>\n",
       "    </tr>\n",
       "    <tr>\n",
       "      <th>297</th>\n",
       "      <td>0.0</td>\n",
       "      <td>0.028832</td>\n",
       "      <td>0.042297</td>\n",
       "      <td>0.120612</td>\n",
       "      <td>0.129261</td>\n",
       "      <td>0.0</td>\n",
       "      <td>0.778666</td>\n",
       "      <td>0.000000</td>\n",
       "      <td>0.0</td>\n",
       "      <td>0.0</td>\n",
       "      <td>...</td>\n",
       "      <td>0.092756</td>\n",
       "      <td>0.194098</td>\n",
       "      <td>0.268463</td>\n",
       "      <td>0.030101</td>\n",
       "      <td>0.552245</td>\n",
       "      <td>0.150499</td>\n",
       "      <td>0.234981</td>\n",
       "      <td>0.159282</td>\n",
       "      <td>0.046473</td>\n",
       "      <td>0.000000</td>\n",
       "    </tr>\n",
       "    <tr>\n",
       "      <th>298</th>\n",
       "      <td>0.0</td>\n",
       "      <td>0.060310</td>\n",
       "      <td>0.094148</td>\n",
       "      <td>0.125075</td>\n",
       "      <td>0.138585</td>\n",
       "      <td>0.0</td>\n",
       "      <td>0.069587</td>\n",
       "      <td>0.000000</td>\n",
       "      <td>0.0</td>\n",
       "      <td>0.0</td>\n",
       "      <td>...</td>\n",
       "      <td>0.176479</td>\n",
       "      <td>0.208482</td>\n",
       "      <td>0.215105</td>\n",
       "      <td>0.002549</td>\n",
       "      <td>0.060526</td>\n",
       "      <td>0.974323</td>\n",
       "      <td>0.296374</td>\n",
       "      <td>0.121035</td>\n",
       "      <td>0.001747</td>\n",
       "      <td>0.000000</td>\n",
       "    </tr>\n",
       "  </tbody>\n",
       "</table>\n",
       "<p>299 rows × 20531 columns</p>\n",
       "</div>"
      ],
      "text/plain": [
       "     N:GEXP::?:100130426:  N:GEXP::?:100133144:  N:GEXP::?:100134869:  \\\n",
       "0                     0.0              0.000000              0.060688   \n",
       "1                     0.0              0.200179              0.109947   \n",
       "2                     0.0              0.170523              0.152403   \n",
       "3                     0.0              0.282052              0.239413   \n",
       "4                     0.0              0.121046              0.031218   \n",
       "..                    ...                   ...                   ...   \n",
       "294                   0.0              0.109671              0.115990   \n",
       "295                   0.0              0.033081              0.153703   \n",
       "296                   0.0              0.024022              0.050410   \n",
       "297                   0.0              0.028832              0.042297   \n",
       "298                   0.0              0.060310              0.094148   \n",
       "\n",
       "     N:GEXP::?:10357:  N:GEXP::?:10431:  N:GEXP::?:136542:  N:GEXP::?:155060:  \\\n",
       "0            0.190093          0.120877                0.0           0.064528   \n",
       "1            0.196140          0.138782                0.0           0.195341   \n",
       "2            0.352650          0.102211                0.0           0.181813   \n",
       "3            0.130320          0.210394                0.0           0.080955   \n",
       "4            0.109394          0.121211                0.0           0.075722   \n",
       "..                ...               ...                ...                ...   \n",
       "294          0.232968          0.086312                0.0           0.056862   \n",
       "295          0.533536          0.280695                0.0           0.071780   \n",
       "296          0.422522          0.290997                0.0           0.144224   \n",
       "297          0.120612          0.129261                0.0           0.778666   \n",
       "298          0.125075          0.138585                0.0           0.069587   \n",
       "\n",
       "     N:GEXP::?:26823:  N:GEXP::?:280660:  N:GEXP::?:317712:  ...  \\\n",
       "0            0.000000                0.0                0.0  ...   \n",
       "1            0.000000                0.0                0.0  ...   \n",
       "2            0.071964                0.0                0.0  ...   \n",
       "3            0.000000                0.0                0.0  ...   \n",
       "4            0.094449                0.0                0.0  ...   \n",
       "..                ...                ...                ...  ...   \n",
       "294          0.096083                1.0                0.0  ...   \n",
       "295          0.000000                0.0                0.0  ...   \n",
       "296          0.073663                0.0                0.0  ...   \n",
       "297          0.000000                0.0                0.0  ...   \n",
       "298          0.000000                0.0                0.0  ...   \n",
       "\n",
       "     N:GEXP::ZXDA:7789:  N:GEXP::ZXDB:158586:  N:GEXP::ZXDC:79364:  \\\n",
       "0              0.167245              0.226274             0.219092   \n",
       "1              0.175930              0.195435             0.267575   \n",
       "2              0.233610              0.233699             0.206320   \n",
       "3              0.233219              0.405223             0.201969   \n",
       "4              0.288672              0.286166             0.119374   \n",
       "..                  ...                   ...                  ...   \n",
       "294            0.274292              0.294382             0.528842   \n",
       "295            0.188809              0.216848             0.350675   \n",
       "296            0.092094              0.174669             0.367699   \n",
       "297            0.092756              0.194098             0.268463   \n",
       "298            0.176479              0.208482             0.215105   \n",
       "\n",
       "     N:GEXP::ZYG11A:440590:  N:GEXP::ZYG11B:79699:  N:GEXP::ZYX:7791:  \\\n",
       "0                  0.014614               0.376986           0.140468   \n",
       "1                  0.001874               0.328280           0.370744   \n",
       "2                  0.002135               0.454074           0.167169   \n",
       "3                  0.061001               0.204115           0.120439   \n",
       "4                  0.001681               0.282114           0.256319   \n",
       "..                      ...                    ...                ...   \n",
       "294                0.009122               0.159579           0.220478   \n",
       "295                0.005808               0.067289           0.214540   \n",
       "296                0.065125               0.492677           0.183901   \n",
       "297                0.030101               0.552245           0.150499   \n",
       "298                0.002549               0.060526           0.974323   \n",
       "\n",
       "     N:GEXP::ZZEF1:23140:  N:GEXP::ZZZ3:26009:  N:GEXP::psiTPTE22:387590:  \\\n",
       "0                0.135513             0.186737                   0.009614   \n",
       "1                0.176791             0.174134                   0.001712   \n",
       "2                0.134349             0.122158                   0.004916   \n",
       "3                0.281065             0.137322                   0.010770   \n",
       "4                0.261425             0.255244                   0.001536   \n",
       "..                    ...                  ...                        ...   \n",
       "294              0.193469             0.152499                   0.006877   \n",
       "295              0.274936             0.169784                   0.003184   \n",
       "296              0.092295             0.131943                   0.003834   \n",
       "297              0.234981             0.159282                   0.046473   \n",
       "298              0.296374             0.121035                   0.001747   \n",
       "\n",
       "     N:GEXP::tAKR:389932:  \n",
       "0                0.040715  \n",
       "1                0.000000  \n",
       "2                0.000000  \n",
       "3                0.000000  \n",
       "4                0.000000  \n",
       "..                    ...  \n",
       "294              0.000000  \n",
       "295              0.000000  \n",
       "296              0.000000  \n",
       "297              0.000000  \n",
       "298              0.000000  \n",
       "\n",
       "[299 rows x 20531 columns]"
      ]
     },
     "execution_count": 6,
     "metadata": {},
     "output_type": "execute_result"
    }
   ],
   "source": [
    "train_norm"
   ]
  },
  {
   "cell_type": "code",
   "execution_count": 25,
   "id": "728e5875-0098-4c2e-b30f-63cbd00e78df",
   "metadata": {},
   "outputs": [],
   "source": [
    "train_norm_arr = train_norm.to_numpy()\n",
    "train_norm_arr_exp = np.expand_dims(train_norm_arr, axis=-1)"
   ]
  },
  {
   "cell_type": "code",
   "execution_count": 8,
   "id": "b8b3fe24-3483-4211-b96c-a235f9207158",
   "metadata": {},
   "outputs": [
    {
     "data": {
      "text/plain": [
       "(299, 20531, 1)"
      ]
     },
     "execution_count": 8,
     "metadata": {},
     "output_type": "execute_result"
    }
   ],
   "source": [
    "train_norm_arr_exp.shape"
   ]
  },
  {
   "cell_type": "code",
   "execution_count": 17,
   "id": "fb00bbd9-cc27-4423-813c-06323c293e67",
   "metadata": {},
   "outputs": [
    {
     "data": {
      "text/plain": [
       "<tf.Tensor 'input_1:0' shape=(None, 299, 20531, 1) dtype=float32>"
      ]
     },
     "execution_count": 17,
     "metadata": {},
     "output_type": "execute_result"
    }
   ],
   "source": [
    "encoder_input"
   ]
  },
  {
   "cell_type": "code",
   "execution_count": null,
   "id": "190825b8-89a1-42c4-9602-fa6082e21fe8",
   "metadata": {},
   "outputs": [],
   "source": [
    "shape"
   ]
  },
  {
   "cell_type": "code",
   "execution_count": 10,
   "id": "8bd7c4f8-fc42-44ba-8a91-876ff430a3d9",
   "metadata": {
    "collapsed": true,
    "jupyter": {
     "outputs_hidden": true
    },
    "tags": []
   },
   "outputs": [
    {
     "data": {
      "text/html": [
       "<div>\n",
       "<style scoped>\n",
       "    .dataframe tbody tr th:only-of-type {\n",
       "        vertical-align: middle;\n",
       "    }\n",
       "\n",
       "    .dataframe tbody tr th {\n",
       "        vertical-align: top;\n",
       "    }\n",
       "\n",
       "    .dataframe thead th {\n",
       "        text-align: right;\n",
       "    }\n",
       "</style>\n",
       "<table border=\"1\" class=\"dataframe\">\n",
       "  <thead>\n",
       "    <tr style=\"text-align: right;\">\n",
       "      <th></th>\n",
       "      <th>N:GEXP::?:100130426:</th>\n",
       "      <th>N:GEXP::?:100133144:</th>\n",
       "      <th>N:GEXP::?:100134869:</th>\n",
       "      <th>N:GEXP::?:10357:</th>\n",
       "      <th>N:GEXP::?:10431:</th>\n",
       "      <th>N:GEXP::?:136542:</th>\n",
       "      <th>N:GEXP::?:155060:</th>\n",
       "      <th>N:GEXP::?:26823:</th>\n",
       "      <th>N:GEXP::?:280660:</th>\n",
       "      <th>N:GEXP::?:317712:</th>\n",
       "      <th>...</th>\n",
       "      <th>N:GEXP::ZXDA:7789:</th>\n",
       "      <th>N:GEXP::ZXDB:158586:</th>\n",
       "      <th>N:GEXP::ZXDC:79364:</th>\n",
       "      <th>N:GEXP::ZYG11A:440590:</th>\n",
       "      <th>N:GEXP::ZYG11B:79699:</th>\n",
       "      <th>N:GEXP::ZYX:7791:</th>\n",
       "      <th>N:GEXP::ZZEF1:23140:</th>\n",
       "      <th>N:GEXP::ZZZ3:26009:</th>\n",
       "      <th>N:GEXP::psiTPTE22:387590:</th>\n",
       "      <th>N:GEXP::tAKR:389932:</th>\n",
       "    </tr>\n",
       "  </thead>\n",
       "  <tbody>\n",
       "    <tr>\n",
       "      <th>0</th>\n",
       "      <td>0.0</td>\n",
       "      <td>0.000000</td>\n",
       "      <td>0.060688</td>\n",
       "      <td>0.190093</td>\n",
       "      <td>0.120877</td>\n",
       "      <td>0.0</td>\n",
       "      <td>0.064528</td>\n",
       "      <td>0.000000</td>\n",
       "      <td>0.0</td>\n",
       "      <td>0.0</td>\n",
       "      <td>...</td>\n",
       "      <td>0.167245</td>\n",
       "      <td>0.226274</td>\n",
       "      <td>0.219092</td>\n",
       "      <td>0.014614</td>\n",
       "      <td>0.376986</td>\n",
       "      <td>0.140468</td>\n",
       "      <td>0.135513</td>\n",
       "      <td>0.186737</td>\n",
       "      <td>0.009614</td>\n",
       "      <td>0.040715</td>\n",
       "    </tr>\n",
       "    <tr>\n",
       "      <th>1</th>\n",
       "      <td>0.0</td>\n",
       "      <td>0.200179</td>\n",
       "      <td>0.109947</td>\n",
       "      <td>0.196140</td>\n",
       "      <td>0.138782</td>\n",
       "      <td>0.0</td>\n",
       "      <td>0.195341</td>\n",
       "      <td>0.000000</td>\n",
       "      <td>0.0</td>\n",
       "      <td>0.0</td>\n",
       "      <td>...</td>\n",
       "      <td>0.175930</td>\n",
       "      <td>0.195435</td>\n",
       "      <td>0.267575</td>\n",
       "      <td>0.001874</td>\n",
       "      <td>0.328280</td>\n",
       "      <td>0.370744</td>\n",
       "      <td>0.176791</td>\n",
       "      <td>0.174134</td>\n",
       "      <td>0.001712</td>\n",
       "      <td>0.000000</td>\n",
       "    </tr>\n",
       "    <tr>\n",
       "      <th>2</th>\n",
       "      <td>0.0</td>\n",
       "      <td>0.170523</td>\n",
       "      <td>0.152403</td>\n",
       "      <td>0.352650</td>\n",
       "      <td>0.102211</td>\n",
       "      <td>0.0</td>\n",
       "      <td>0.181813</td>\n",
       "      <td>0.071964</td>\n",
       "      <td>0.0</td>\n",
       "      <td>0.0</td>\n",
       "      <td>...</td>\n",
       "      <td>0.233610</td>\n",
       "      <td>0.233699</td>\n",
       "      <td>0.206320</td>\n",
       "      <td>0.002135</td>\n",
       "      <td>0.454074</td>\n",
       "      <td>0.167169</td>\n",
       "      <td>0.134349</td>\n",
       "      <td>0.122158</td>\n",
       "      <td>0.004916</td>\n",
       "      <td>0.000000</td>\n",
       "    </tr>\n",
       "    <tr>\n",
       "      <th>3</th>\n",
       "      <td>0.0</td>\n",
       "      <td>0.282052</td>\n",
       "      <td>0.239413</td>\n",
       "      <td>0.130320</td>\n",
       "      <td>0.210394</td>\n",
       "      <td>0.0</td>\n",
       "      <td>0.080955</td>\n",
       "      <td>0.000000</td>\n",
       "      <td>0.0</td>\n",
       "      <td>0.0</td>\n",
       "      <td>...</td>\n",
       "      <td>0.233219</td>\n",
       "      <td>0.405223</td>\n",
       "      <td>0.201969</td>\n",
       "      <td>0.061001</td>\n",
       "      <td>0.204115</td>\n",
       "      <td>0.120439</td>\n",
       "      <td>0.281065</td>\n",
       "      <td>0.137322</td>\n",
       "      <td>0.010770</td>\n",
       "      <td>0.000000</td>\n",
       "    </tr>\n",
       "    <tr>\n",
       "      <th>4</th>\n",
       "      <td>0.0</td>\n",
       "      <td>0.121046</td>\n",
       "      <td>0.031218</td>\n",
       "      <td>0.109394</td>\n",
       "      <td>0.121211</td>\n",
       "      <td>0.0</td>\n",
       "      <td>0.075722</td>\n",
       "      <td>0.094449</td>\n",
       "      <td>0.0</td>\n",
       "      <td>0.0</td>\n",
       "      <td>...</td>\n",
       "      <td>0.288672</td>\n",
       "      <td>0.286166</td>\n",
       "      <td>0.119374</td>\n",
       "      <td>0.001681</td>\n",
       "      <td>0.282114</td>\n",
       "      <td>0.256319</td>\n",
       "      <td>0.261425</td>\n",
       "      <td>0.255244</td>\n",
       "      <td>0.001536</td>\n",
       "      <td>0.000000</td>\n",
       "    </tr>\n",
       "    <tr>\n",
       "      <th>...</th>\n",
       "      <td>...</td>\n",
       "      <td>...</td>\n",
       "      <td>...</td>\n",
       "      <td>...</td>\n",
       "      <td>...</td>\n",
       "      <td>...</td>\n",
       "      <td>...</td>\n",
       "      <td>...</td>\n",
       "      <td>...</td>\n",
       "      <td>...</td>\n",
       "      <td>...</td>\n",
       "      <td>...</td>\n",
       "      <td>...</td>\n",
       "      <td>...</td>\n",
       "      <td>...</td>\n",
       "      <td>...</td>\n",
       "      <td>...</td>\n",
       "      <td>...</td>\n",
       "      <td>...</td>\n",
       "      <td>...</td>\n",
       "      <td>...</td>\n",
       "    </tr>\n",
       "    <tr>\n",
       "      <th>294</th>\n",
       "      <td>0.0</td>\n",
       "      <td>0.109671</td>\n",
       "      <td>0.115990</td>\n",
       "      <td>0.232968</td>\n",
       "      <td>0.086312</td>\n",
       "      <td>0.0</td>\n",
       "      <td>0.056862</td>\n",
       "      <td>0.096083</td>\n",
       "      <td>1.0</td>\n",
       "      <td>0.0</td>\n",
       "      <td>...</td>\n",
       "      <td>0.274292</td>\n",
       "      <td>0.294382</td>\n",
       "      <td>0.528842</td>\n",
       "      <td>0.009122</td>\n",
       "      <td>0.159579</td>\n",
       "      <td>0.220478</td>\n",
       "      <td>0.193469</td>\n",
       "      <td>0.152499</td>\n",
       "      <td>0.006877</td>\n",
       "      <td>0.000000</td>\n",
       "    </tr>\n",
       "    <tr>\n",
       "      <th>295</th>\n",
       "      <td>0.0</td>\n",
       "      <td>0.033081</td>\n",
       "      <td>0.153703</td>\n",
       "      <td>0.533536</td>\n",
       "      <td>0.280695</td>\n",
       "      <td>0.0</td>\n",
       "      <td>0.071780</td>\n",
       "      <td>0.000000</td>\n",
       "      <td>0.0</td>\n",
       "      <td>0.0</td>\n",
       "      <td>...</td>\n",
       "      <td>0.188809</td>\n",
       "      <td>0.216848</td>\n",
       "      <td>0.350675</td>\n",
       "      <td>0.005808</td>\n",
       "      <td>0.067289</td>\n",
       "      <td>0.214540</td>\n",
       "      <td>0.274936</td>\n",
       "      <td>0.169784</td>\n",
       "      <td>0.003184</td>\n",
       "      <td>0.000000</td>\n",
       "    </tr>\n",
       "    <tr>\n",
       "      <th>296</th>\n",
       "      <td>0.0</td>\n",
       "      <td>0.024022</td>\n",
       "      <td>0.050410</td>\n",
       "      <td>0.422522</td>\n",
       "      <td>0.290997</td>\n",
       "      <td>0.0</td>\n",
       "      <td>0.144224</td>\n",
       "      <td>0.073663</td>\n",
       "      <td>0.0</td>\n",
       "      <td>0.0</td>\n",
       "      <td>...</td>\n",
       "      <td>0.092094</td>\n",
       "      <td>0.174669</td>\n",
       "      <td>0.367699</td>\n",
       "      <td>0.065125</td>\n",
       "      <td>0.492677</td>\n",
       "      <td>0.183901</td>\n",
       "      <td>0.092295</td>\n",
       "      <td>0.131943</td>\n",
       "      <td>0.003834</td>\n",
       "      <td>0.000000</td>\n",
       "    </tr>\n",
       "    <tr>\n",
       "      <th>297</th>\n",
       "      <td>0.0</td>\n",
       "      <td>0.028832</td>\n",
       "      <td>0.042297</td>\n",
       "      <td>0.120612</td>\n",
       "      <td>0.129261</td>\n",
       "      <td>0.0</td>\n",
       "      <td>0.778666</td>\n",
       "      <td>0.000000</td>\n",
       "      <td>0.0</td>\n",
       "      <td>0.0</td>\n",
       "      <td>...</td>\n",
       "      <td>0.092756</td>\n",
       "      <td>0.194098</td>\n",
       "      <td>0.268463</td>\n",
       "      <td>0.030101</td>\n",
       "      <td>0.552245</td>\n",
       "      <td>0.150499</td>\n",
       "      <td>0.234981</td>\n",
       "      <td>0.159282</td>\n",
       "      <td>0.046473</td>\n",
       "      <td>0.000000</td>\n",
       "    </tr>\n",
       "    <tr>\n",
       "      <th>298</th>\n",
       "      <td>0.0</td>\n",
       "      <td>0.060310</td>\n",
       "      <td>0.094148</td>\n",
       "      <td>0.125075</td>\n",
       "      <td>0.138585</td>\n",
       "      <td>0.0</td>\n",
       "      <td>0.069587</td>\n",
       "      <td>0.000000</td>\n",
       "      <td>0.0</td>\n",
       "      <td>0.0</td>\n",
       "      <td>...</td>\n",
       "      <td>0.176479</td>\n",
       "      <td>0.208482</td>\n",
       "      <td>0.215105</td>\n",
       "      <td>0.002549</td>\n",
       "      <td>0.060526</td>\n",
       "      <td>0.974323</td>\n",
       "      <td>0.296374</td>\n",
       "      <td>0.121035</td>\n",
       "      <td>0.001747</td>\n",
       "      <td>0.000000</td>\n",
       "    </tr>\n",
       "  </tbody>\n",
       "</table>\n",
       "<p>299 rows × 20531 columns</p>\n",
       "</div>"
      ],
      "text/plain": [
       "     N:GEXP::?:100130426:  N:GEXP::?:100133144:  N:GEXP::?:100134869:  \\\n",
       "0                     0.0              0.000000              0.060688   \n",
       "1                     0.0              0.200179              0.109947   \n",
       "2                     0.0              0.170523              0.152403   \n",
       "3                     0.0              0.282052              0.239413   \n",
       "4                     0.0              0.121046              0.031218   \n",
       "..                    ...                   ...                   ...   \n",
       "294                   0.0              0.109671              0.115990   \n",
       "295                   0.0              0.033081              0.153703   \n",
       "296                   0.0              0.024022              0.050410   \n",
       "297                   0.0              0.028832              0.042297   \n",
       "298                   0.0              0.060310              0.094148   \n",
       "\n",
       "     N:GEXP::?:10357:  N:GEXP::?:10431:  N:GEXP::?:136542:  N:GEXP::?:155060:  \\\n",
       "0            0.190093          0.120877                0.0           0.064528   \n",
       "1            0.196140          0.138782                0.0           0.195341   \n",
       "2            0.352650          0.102211                0.0           0.181813   \n",
       "3            0.130320          0.210394                0.0           0.080955   \n",
       "4            0.109394          0.121211                0.0           0.075722   \n",
       "..                ...               ...                ...                ...   \n",
       "294          0.232968          0.086312                0.0           0.056862   \n",
       "295          0.533536          0.280695                0.0           0.071780   \n",
       "296          0.422522          0.290997                0.0           0.144224   \n",
       "297          0.120612          0.129261                0.0           0.778666   \n",
       "298          0.125075          0.138585                0.0           0.069587   \n",
       "\n",
       "     N:GEXP::?:26823:  N:GEXP::?:280660:  N:GEXP::?:317712:  ...  \\\n",
       "0            0.000000                0.0                0.0  ...   \n",
       "1            0.000000                0.0                0.0  ...   \n",
       "2            0.071964                0.0                0.0  ...   \n",
       "3            0.000000                0.0                0.0  ...   \n",
       "4            0.094449                0.0                0.0  ...   \n",
       "..                ...                ...                ...  ...   \n",
       "294          0.096083                1.0                0.0  ...   \n",
       "295          0.000000                0.0                0.0  ...   \n",
       "296          0.073663                0.0                0.0  ...   \n",
       "297          0.000000                0.0                0.0  ...   \n",
       "298          0.000000                0.0                0.0  ...   \n",
       "\n",
       "     N:GEXP::ZXDA:7789:  N:GEXP::ZXDB:158586:  N:GEXP::ZXDC:79364:  \\\n",
       "0              0.167245              0.226274             0.219092   \n",
       "1              0.175930              0.195435             0.267575   \n",
       "2              0.233610              0.233699             0.206320   \n",
       "3              0.233219              0.405223             0.201969   \n",
       "4              0.288672              0.286166             0.119374   \n",
       "..                  ...                   ...                  ...   \n",
       "294            0.274292              0.294382             0.528842   \n",
       "295            0.188809              0.216848             0.350675   \n",
       "296            0.092094              0.174669             0.367699   \n",
       "297            0.092756              0.194098             0.268463   \n",
       "298            0.176479              0.208482             0.215105   \n",
       "\n",
       "     N:GEXP::ZYG11A:440590:  N:GEXP::ZYG11B:79699:  N:GEXP::ZYX:7791:  \\\n",
       "0                  0.014614               0.376986           0.140468   \n",
       "1                  0.001874               0.328280           0.370744   \n",
       "2                  0.002135               0.454074           0.167169   \n",
       "3                  0.061001               0.204115           0.120439   \n",
       "4                  0.001681               0.282114           0.256319   \n",
       "..                      ...                    ...                ...   \n",
       "294                0.009122               0.159579           0.220478   \n",
       "295                0.005808               0.067289           0.214540   \n",
       "296                0.065125               0.492677           0.183901   \n",
       "297                0.030101               0.552245           0.150499   \n",
       "298                0.002549               0.060526           0.974323   \n",
       "\n",
       "     N:GEXP::ZZEF1:23140:  N:GEXP::ZZZ3:26009:  N:GEXP::psiTPTE22:387590:  \\\n",
       "0                0.135513             0.186737                   0.009614   \n",
       "1                0.176791             0.174134                   0.001712   \n",
       "2                0.134349             0.122158                   0.004916   \n",
       "3                0.281065             0.137322                   0.010770   \n",
       "4                0.261425             0.255244                   0.001536   \n",
       "..                    ...                  ...                        ...   \n",
       "294              0.193469             0.152499                   0.006877   \n",
       "295              0.274936             0.169784                   0.003184   \n",
       "296              0.092295             0.131943                   0.003834   \n",
       "297              0.234981             0.159282                   0.046473   \n",
       "298              0.296374             0.121035                   0.001747   \n",
       "\n",
       "     N:GEXP::tAKR:389932:  \n",
       "0                0.040715  \n",
       "1                0.000000  \n",
       "2                0.000000  \n",
       "3                0.000000  \n",
       "4                0.000000  \n",
       "..                    ...  \n",
       "294              0.000000  \n",
       "295              0.000000  \n",
       "296              0.000000  \n",
       "297              0.000000  \n",
       "298              0.000000  \n",
       "\n",
       "[299 rows x 20531 columns]"
      ]
     },
     "execution_count": 10,
     "metadata": {},
     "output_type": "execute_result"
    }
   ],
   "source": [
    "train_norm"
   ]
  },
  {
   "cell_type": "code",
   "execution_count": 26,
   "id": "6db5f857-8229-45f5-907c-e32cb05336f3",
   "metadata": {},
   "outputs": [],
   "source": [
    "test_norm_arr = test_norm.to_numpy()\n",
    "test_norm_arr_exp = np.expand_dims(test_norm_arr, axis=-1)"
   ]
  },
  {
   "cell_type": "code",
   "execution_count": 16,
   "id": "4c580379-6a7c-4c7e-90d8-6851e5c5dade",
   "metadata": {},
   "outputs": [
    {
     "name": "stdout",
     "output_type": "stream",
     "text": [
      "libraries done\n",
      "model built\n"
     ]
    }
   ],
   "source": [
    "# Float.64 on 1Dconv run\n",
    "# from https://becominghuman.ai/using-variational-autoencoder-vae-to-generate-new-images-14328877e88d\n",
    "\n",
    "# train_norm_arr = train_norm.to_numpy()\n",
    "# train_norm_arr_exp = np.expand_dims(train_norm_arr, axis=-1)\n",
    "\n",
    "# test_norm_arr = test_norm.to_numpy()\n",
    "# test_norm_arr_exp = np.expand_dims(test_norm_arr, axis=-1)\n",
    "\n",
    "latent_dim = 100\n",
    "\n",
    "# import numpy as np # clean up imports\n",
    "# import matplotlib.pyplot as plt\n",
    "\n",
    "import tensorflow as tf; tf.compat.v1.disable_eager_execution()\n",
    "\n",
    "from keras import backend as K\n",
    "from keras.layers import (Input, # want float.64 to go into this layer, two input layers (enc and dec)\n",
    "                          Conv1D,\n",
    "                          \n",
    "                          Dense,\n",
    "                          # Conv2D,\n",
    "\n",
    "                          # Conv2DTranspose,\n",
    "                          Conv1DTranspose,\n",
    "                          Flatten, # might not need to go back to Dense\n",
    "                          \n",
    "                          Lambda,\n",
    "                          Reshape)\n",
    "from keras.models import Model\n",
    "\n",
    "from keras.losses import binary_crossentropy\n",
    "\n",
    "print('libraries done')\n",
    "\n",
    "# np.random.seed(25)\n",
    "\n",
    "tf.executing_eagerly()\n",
    "\n",
    "# Reparameterization, sample from given distribution\n",
    "def compute_latent(x):\n",
    "    batch = K.shape(mu)[0] # mu and sigma defined after encoder is built\n",
    "    dim = K.int_shape(mu)[1]\n",
    "    eps = K.random_normal(shape=(batch,dim))\n",
    "    return mu + K.exp(sigma/2)*eps\n",
    "\n",
    "# Difference between data and reconstructed \n",
    "def kl_reconstruction_loss(true, pred):                                                  \n",
    "    reconstruction_loss = binary_crossentropy(K.flatten(true), K.flatten(pred))\n",
    "    kl_loss = 1 + sigma - K.square(mu) - K.exp(sigma) # mu and sigma input to loss function\n",
    "    kl_loss = K.sum(kl_loss, axis=-1)\n",
    "    kl_loss *= -0.5\n",
    "    return K.mean(reconstruction_loss + kl_loss)\n",
    "\n",
    "# img_height   = train_norm.shape[1] # shape hieght is at postition one\n",
    "# img_width    = train_norm.shape[2]\n",
    "# num_channels = train_norm.shape[3]\n",
    "\n",
    "# input_shape =  (img_height, img_width, num_channels) # shape has three dimensions\n",
    "\n",
    "# flatten inputs, diff between 1D and dense? - have to have same input shapes\n",
    "\n",
    "# encoder_input = Input(shape=input_shape)\n",
    "# encoder_input = Input(shape=train_norm_arr_exp.shape)\n",
    "encoder_input = Input(shape=(train_norm.shape[1],1,))\n",
    "\n",
    "# encoder_conv = Conv1D(filters=8, kernel_size=3, strides=2, \n",
    "#                 padding='same', activation='relu')(encoder_input)\n",
    "encoder_conv = Conv1D(filters=8,\n",
    "                      kernel_size=3,\n",
    "                      activation='relu',\n",
    "                      padding='same')(encoder_input)\n",
    "\n",
    "encoder_conv = Conv1D(filters=16,\n",
    "                      kernel_size=3,\n",
    "                      padding='same',\n",
    "                      activation='relu')(encoder_conv)\n",
    "\n",
    "encoder = Flatten()(encoder_conv)\n",
    "\n",
    "# mu = Dense(latent_dim)(encoder)\n",
    "# sigma = Dense(latent_dim)(encoder)\n",
    "\n",
    "mu = Dense(latent_dim)(encoder)     # mu defined\n",
    "sigma = Dense(latent_dim)(encoder)  # sigma defined\n",
    "                                                                # 2 args to compute lambda\n",
    "latent_space = Lambda(compute_latent, output_shape=(latent_dim,))([mu, sigma])\n",
    "                    \n",
    "conv_shape = K.int_shape(encoder_conv)\n",
    "\n",
    "# Decoder start\n",
    "decoder_input = Input(shape=(latent_dim,)) # input layer again (actually comma none, inferred at run time)\n",
    "\n",
    "# decoder = Dense(conv_shape[1]*conv_shape[2]*conv_shape[3], activation='relu')(decoder_input)\n",
    "decoder = Dense(conv_shape[1]*conv_shape[2], activation='relu')(decoder_input)\n",
    "decoder = Reshape((conv_shape[1], conv_shape[2]))(decoder)\n",
    "\n",
    "decoder_conv = Conv1DTranspose(filters=16,\n",
    "                      kernel_size=3,\n",
    "                      padding='same',\n",
    "                      activation='relu')(decoder)\n",
    "\n",
    "decoder_conv = Conv1DTranspose(filters=8,\n",
    "                      kernel_size=3,\n",
    "                      activation='relu',\n",
    "                      padding='same')(decoder_conv)\n",
    "\n",
    "decoder_conv = Conv1DTranspose(filters=1,\n",
    "                      kernel_size=3,\n",
    "                      activation='relu',\n",
    "                      padding='same')(decoder_conv)\n",
    "\n",
    "# decoder = Reshape((conv_shape[1], conv_shape[2], conv_shape[3]))(decoder)\n",
    "\n",
    "# decoder_conv = Conv2DTranspose(filters=16, kernel_size=3, strides=2, \n",
    "#                            padding='same', activation='relu')(decoder)\n",
    "# decoder_conv = Conv2DTranspose(filters=8, kernel_size=3, strides=2, \n",
    "#                            padding='same', activation='relu')(decoder)\n",
    "\n",
    "# decoder_conv =  Conv2DTranspose(filters=num_channels, kernel_size=3, \n",
    "#                           padding='same', activation='sigmoid')(decoder_conv)\n",
    "\n",
    "encoder = Model(encoder_input, latent_space)\n",
    "decoder = Model(decoder_input, decoder_conv)\n",
    "vae = Model(encoder_input, decoder(encoder(encoder_input)))\n",
    "vae.compile(optimizer='adam', loss=kl_reconstruction_loss)  # blank model set for (pre)training\n",
    "print('model built')"
   ]
  },
  {
   "cell_type": "code",
   "execution_count": 12,
   "id": "75f43214-a379-4e10-b172-61cf0c535948",
   "metadata": {
    "tags": []
   },
   "outputs": [
    {
     "name": "stdout",
     "output_type": "stream",
     "text": [
      "Model: \"model\"\n",
      "__________________________________________________________________________________________________\n",
      " Layer (type)                   Output Shape         Param #     Connected to                     \n",
      "==================================================================================================\n",
      " input_1 (InputLayer)           [(None, 20531, 1)]   0           []                               \n",
      "                                                                                                  \n",
      " conv1d (Conv1D)                (None, 20531, 8)     32          ['input_1[0][0]']                \n",
      "                                                                                                  \n",
      " conv1d_1 (Conv1D)              (None, 20531, 16)    400         ['conv1d[0][0]']                 \n",
      "                                                                                                  \n",
      " flatten (Flatten)              (None, 328496)       0           ['conv1d_1[0][0]']               \n",
      "                                                                                                  \n",
      " dense (Dense)                  (None, 100)          32849700    ['flatten[0][0]']                \n",
      "                                                                                                  \n",
      " dense_1 (Dense)                (None, 100)          32849700    ['flatten[0][0]']                \n",
      "                                                                                                  \n",
      " lambda (Lambda)                (None, 100)          0           ['dense[0][0]',                  \n",
      "                                                                  'dense_1[0][0]']                \n",
      "                                                                                                  \n",
      "==================================================================================================\n",
      "Total params: 65,699,832\n",
      "Trainable params: 65,699,832\n",
      "Non-trainable params: 0\n",
      "__________________________________________________________________________________________________\n"
     ]
    }
   ],
   "source": [
    "encoder.summary() # kernel restart, Layer names reset, shapes same"
   ]
  },
  {
   "cell_type": "code",
   "execution_count": 13,
   "id": "075eb043-2b4a-42af-adb3-06ed6c238a10",
   "metadata": {
    "tags": []
   },
   "outputs": [
    {
     "name": "stdout",
     "output_type": "stream",
     "text": [
      "Model: \"model_1\"\n",
      "_________________________________________________________________\n",
      " Layer (type)                Output Shape              Param #   \n",
      "=================================================================\n",
      " input_2 (InputLayer)        [(None, 100)]             0         \n",
      "                                                                 \n",
      " dense_2 (Dense)             (None, 328496)            33178096  \n",
      "                                                                 \n",
      " reshape (Reshape)           (None, 20531, 16)         0         \n",
      "                                                                 \n",
      " conv1d_transpose (Conv1DTra  (None, 20531, 16)        784       \n",
      " nspose)                                                         \n",
      "                                                                 \n",
      " conv1d_transpose_1 (Conv1DT  (None, 20531, 8)         392       \n",
      " ranspose)                                                       \n",
      "                                                                 \n",
      "=================================================================\n",
      "Total params: 33,179,272\n",
      "Trainable params: 33,179,272\n",
      "Non-trainable params: 0\n",
      "_________________________________________________________________\n"
     ]
    }
   ],
   "source": [
    "decoder.summary() # kernel restart"
   ]
  },
  {
   "cell_type": "code",
   "execution_count": 41,
   "id": "0808a04d-cb93-430d-a7c2-dac22e67c527",
   "metadata": {},
   "outputs": [
    {
     "data": {
      "text/plain": [
       "TensorShape([None, 4784])"
      ]
     },
     "execution_count": 41,
     "metadata": {},
     "output_type": "execute_result"
    }
   ],
   "source": [
    "decoder.shape"
   ]
  },
  {
   "cell_type": "code",
   "execution_count": 46,
   "id": "514b759f-3995-4335-91d9-e5a3d5ce8c2a",
   "metadata": {},
   "outputs": [
    {
     "data": {
      "text/plain": [
       "'/Users/karlberb/Desktop/RNB00978/sample_count/sample_gen/synthetic_TCGA_data_gen/b_model'"
      ]
     },
     "execution_count": 46,
     "metadata": {},
     "output_type": "execute_result"
    }
   ],
   "source": [
    "pwd"
   ]
  },
  {
   "cell_type": "code",
   "execution_count": null,
   "id": "a1724163-ab51-41e3-be93-b1da3f336a2c",
   "metadata": {},
   "outputs": [],
   "source": [
    "# last number is number of filters"
   ]
  },
  {
   "cell_type": "code",
   "execution_count": 14,
   "id": "b3d3377f-0132-4694-8eac-08857ade594e",
   "metadata": {
    "tags": []
   },
   "outputs": [
    {
     "data": {
      "image/png": "[encoded data removed]",
      "text/plain": [
       "<IPython.core.display.Image object>"
      ]
     },
     "execution_count": 14,
     "metadata": {},
     "output_type": "execute_result"
    }
   ],
   "source": [
    "tf.keras.utils.plot_model(\n",
    "    encoder,\n",
    "    show_shapes=True,\n",
    "    to_file='./loss_curves_ignored/1D_enc_v3.png')"
   ]
  },
  {
   "cell_type": "code",
   "execution_count": 17,
   "id": "828eaa86-4ee3-451a-b7a1-c589a4bc3d06",
   "metadata": {
    "tags": []
   },
   "outputs": [
    {
     "data": {
      "image/png": "[encoded data removed]",
      "text/plain": [
       "<IPython.core.display.Image object>"
      ]
     },
     "execution_count": 17,
     "metadata": {},
     "output_type": "execute_result"
    }
   ],
   "source": [
    "tf.keras.utils.plot_model(\n",
    "    decoder,\n",
    "    show_shapes=True,\n",
    "    to_file='./loss_curves_ignored/1D_dec_v3.png')"
   ]
  },
  {
   "cell_type": "code",
   "execution_count": 30,
   "id": "27c56243-05f0-4f06-83b0-9541cf6656e2",
   "metadata": {},
   "outputs": [],
   "source": [
    "epochs = 5"
   ]
  },
  {
   "cell_type": "code",
   "execution_count": 19,
   "id": "2ac6a6a9-5798-420f-8476-0bf0984d4206",
   "metadata": {},
   "outputs": [],
   "source": [
    "cohort = 'BLCA'"
   ]
  },
  {
   "cell_type": "code",
   "execution_count": 20,
   "id": "7191fb2f-da91-4aff-a381-30e493ce381c",
   "metadata": {},
   "outputs": [],
   "source": [
    "version = 'b_model_03.ipynb'"
   ]
  },
  {
   "cell_type": "code",
   "execution_count": 21,
   "id": "1301e4bf-f931-4e37-9767-1ee2aefab777",
   "metadata": {},
   "outputs": [],
   "source": [
    "date = '2022-10-11'"
   ]
  },
  {
   "cell_type": "code",
   "execution_count": null,
   "id": "8eb04b9b-4940-4916-ba59-3b9d2667863a",
   "metadata": {},
   "outputs": [],
   "source": [
    "batch_size = 128"
   ]
  },
  {
   "cell_type": "code",
   "execution_count": null,
   "id": "4b6c85df-c1ec-466e-a0e0-e049865e0370",
   "metadata": {},
   "outputs": [],
   "source": [
    "batch_size = 64"
   ]
  },
  {
   "cell_type": "code",
   "execution_count": 22,
   "id": "5844e256-de77-4542-a848-571f31162d80",
   "metadata": {},
   "outputs": [],
   "source": [
    "batch_size = 32"
   ]
  },
  {
   "cell_type": "code",
   "execution_count": 14,
   "id": "ccc8ef88-d786-4219-99eb-776f64e4e48d",
   "metadata": {},
   "outputs": [
    {
     "data": {
      "text/plain": [
       "pandas.core.frame.DataFrame"
      ]
     },
     "execution_count": 14,
     "metadata": {},
     "output_type": "execute_result"
    }
   ],
   "source": [
    "type(train_norm)"
   ]
  },
  {
   "cell_type": "code",
   "execution_count": 20,
   "id": "298b3cf1-bc63-453b-8178-b19e59ebc08c",
   "metadata": {},
   "outputs": [
    {
     "data": {
      "text/plain": [
       "(299, 20531)"
      ]
     },
     "execution_count": 20,
     "metadata": {},
     "output_type": "execute_result"
    }
   ],
   "source": [
    "train_norm.to_numpy().shape"
   ]
  },
  {
   "cell_type": "code",
   "execution_count": 25,
   "id": "7af6b8cc-1bca-48ae-b846-d480702b0c81",
   "metadata": {},
   "outputs": [],
   "source": [
    "train_norm_arr = train_norm.to_numpy()"
   ]
  },
  {
   "cell_type": "code",
   "execution_count": 27,
   "id": "d92d7d0f-96e2-4cbb-a88c-a321e9fe1118",
   "metadata": {},
   "outputs": [
    {
     "data": {
      "text/plain": [
       "(299, 20531)"
      ]
     },
     "execution_count": 27,
     "metadata": {},
     "output_type": "execute_result"
    }
   ],
   "source": [
    "train_norm_arr.shape"
   ]
  },
  {
   "cell_type": "code",
   "execution_count": 29,
   "id": "0d670ace-00c5-4016-bb56-9969dd75a716",
   "metadata": {},
   "outputs": [],
   "source": [
    "train_norm_arr_exp = np.expand_dims(train_norm_arr, axis=-1)"
   ]
  },
  {
   "cell_type": "code",
   "execution_count": 30,
   "id": "1f0721bc-e9a4-4e4e-af33-a577b6cb51de",
   "metadata": {},
   "outputs": [
    {
     "data": {
      "text/plain": [
       "(299, 20531, 1)"
      ]
     },
     "execution_count": 30,
     "metadata": {},
     "output_type": "execute_result"
    }
   ],
   "source": [
    "train_norm_arr_exp.shape"
   ]
  },
  {
   "cell_type": "code",
   "execution_count": 31,
   "id": "8d79442e-ee84-42cd-8c25-fcbbc4b2bb80",
   "metadata": {},
   "outputs": [
    {
     "name": "stdout",
     "output_type": "stream",
     "text": [
      "Train on 299 samples, validate on 100 samples\n",
      "Epoch 1/5\n",
      "299/299 [==============================] - 15s 49ms/sample - loss: 619.6582 - val_loss: 982014472818810496.0000\n",
      "Epoch 2/5\n",
      "299/299 [==============================] - 14s 47ms/sample - loss: 588.0112 - val_loss: 674568697827552002048.0000\n",
      "Epoch 3/5\n",
      "299/299 [==============================] - 14s 47ms/sample - loss: 559.5328 - val_loss: 6897014429508041728.0000\n",
      "Epoch 4/5\n",
      "299/299 [==============================] - 13s 45ms/sample - loss: 536.3239 - val_loss: 688696744969708160.0000\n",
      "Epoch 5/5\n"
     ]
    },
    {
     "ename": "KeyboardInterrupt",
     "evalue": "",
     "output_type": "error",
     "traceback": [
      "\u001b[0;31m---------------------------------------------------------------------------\u001b[0m",
      "\u001b[0;31mKeyboardInterrupt\u001b[0m                         Traceback (most recent call last)",
      "Cell \u001b[0;32mIn [31], line 11\u001b[0m\n\u001b[1;32m      1\u001b[0m \u001b[38;5;66;03m# Test two, 1D layer model\u001b[39;00m\n\u001b[1;32m      2\u001b[0m \u001b[38;5;66;03m# wants sample count as firtst dimension of shape\u001b[39;00m\n\u001b[1;32m      3\u001b[0m \u001b[38;5;66;03m# strategy is to convert to array then reshape\u001b[39;00m\n\u001b[0;32m   (...)\u001b[0m\n\u001b[1;32m      8\u001b[0m \u001b[38;5;66;03m# test_norm_arr = test_norm.to_numpy()\u001b[39;00m\n\u001b[1;32m      9\u001b[0m \u001b[38;5;66;03m# test_norm_arr_exp = np.expand_dims(test_norm_arr, axis=-1)\u001b[39;00m\n\u001b[0;32m---> 11\u001b[0m history \u001b[38;5;241m=\u001b[39m vae\u001b[38;5;241m.\u001b[39mfit(x\u001b[38;5;241m=\u001b[39mtrain_norm_arr_exp, y\u001b[38;5;241m=\u001b[39mtrain_norm_arr_exp, epochs\u001b[38;5;241m=\u001b[39mepochs,\n\u001b[1;32m     12\u001b[0m                   batch_size\u001b[38;5;241m=\u001b[39mbatch_size,\n\u001b[1;32m     13\u001b[0m                   validation_data\u001b[38;5;241m=\u001b[39m(test_norm_arr_exp, test_norm_arr_exp))\n\u001b[1;32m     15\u001b[0m \u001b[38;5;66;03m# history = vae.fit(x=train_norm, y=train_norm, epochs=epochs,\u001b[39;00m\n\u001b[1;32m     16\u001b[0m \u001b[38;5;66;03m#                   batch_size=batch_size,\u001b[39;00m\n\u001b[1;32m     17\u001b[0m \u001b[38;5;66;03m#                   validation_data=(test_norm, test_norm))\u001b[39;00m\n\u001b[1;32m     19\u001b[0m plt\u001b[38;5;241m.\u001b[39mplot(history\u001b[38;5;241m.\u001b[39mhistory[\u001b[38;5;124m'\u001b[39m\u001b[38;5;124mloss\u001b[39m\u001b[38;5;124m'\u001b[39m],label\u001b[38;5;241m=\u001b[39m\u001b[38;5;124m\"\u001b[39m\u001b[38;5;124mloss\u001b[39m\u001b[38;5;124m\"\u001b[39m)\n",
      "File \u001b[0;32m~/Desktop/RNB00978/sample_count/sample_gen/dense_layer/dense_full_env_00/lib/python3.9/site-packages/keras/engine/training_v1.py:855\u001b[0m, in \u001b[0;36mModel.fit\u001b[0;34m(self, x, y, batch_size, epochs, verbose, callbacks, validation_split, validation_data, shuffle, class_weight, sample_weight, initial_epoch, steps_per_epoch, validation_steps, validation_freq, max_queue_size, workers, use_multiprocessing, **kwargs)\u001b[0m\n\u001b[1;32m    852\u001b[0m \u001b[38;5;28mself\u001b[39m\u001b[38;5;241m.\u001b[39m_check_call_args(\u001b[38;5;124m\"\u001b[39m\u001b[38;5;124mfit\u001b[39m\u001b[38;5;124m\"\u001b[39m)\n\u001b[1;32m    854\u001b[0m func \u001b[38;5;241m=\u001b[39m \u001b[38;5;28mself\u001b[39m\u001b[38;5;241m.\u001b[39m_select_training_loop(x)\n\u001b[0;32m--> 855\u001b[0m \u001b[38;5;28;01mreturn\u001b[39;00m \u001b[43mfunc\u001b[49m\u001b[38;5;241;43m.\u001b[39;49m\u001b[43mfit\u001b[49m\u001b[43m(\u001b[49m\n\u001b[1;32m    856\u001b[0m \u001b[43m    \u001b[49m\u001b[38;5;28;43mself\u001b[39;49m\u001b[43m,\u001b[49m\n\u001b[1;32m    857\u001b[0m \u001b[43m    \u001b[49m\u001b[43mx\u001b[49m\u001b[38;5;241;43m=\u001b[39;49m\u001b[43mx\u001b[49m\u001b[43m,\u001b[49m\n\u001b[1;32m    858\u001b[0m \u001b[43m    \u001b[49m\u001b[43my\u001b[49m\u001b[38;5;241;43m=\u001b[39;49m\u001b[43my\u001b[49m\u001b[43m,\u001b[49m\n\u001b[1;32m    859\u001b[0m \u001b[43m    \u001b[49m\u001b[43mbatch_size\u001b[49m\u001b[38;5;241;43m=\u001b[39;49m\u001b[43mbatch_size\u001b[49m\u001b[43m,\u001b[49m\n\u001b[1;32m    860\u001b[0m \u001b[43m    \u001b[49m\u001b[43mepochs\u001b[49m\u001b[38;5;241;43m=\u001b[39;49m\u001b[43mepochs\u001b[49m\u001b[43m,\u001b[49m\n\u001b[1;32m    861\u001b[0m \u001b[43m    \u001b[49m\u001b[43mverbose\u001b[49m\u001b[38;5;241;43m=\u001b[39;49m\u001b[43mverbose\u001b[49m\u001b[43m,\u001b[49m\n\u001b[1;32m    862\u001b[0m \u001b[43m    \u001b[49m\u001b[43mcallbacks\u001b[49m\u001b[38;5;241;43m=\u001b[39;49m\u001b[43mcallbacks\u001b[49m\u001b[43m,\u001b[49m\n\u001b[1;32m    863\u001b[0m \u001b[43m    \u001b[49m\u001b[43mvalidation_split\u001b[49m\u001b[38;5;241;43m=\u001b[39;49m\u001b[43mvalidation_split\u001b[49m\u001b[43m,\u001b[49m\n\u001b[1;32m    864\u001b[0m \u001b[43m    \u001b[49m\u001b[43mvalidation_data\u001b[49m\u001b[38;5;241;43m=\u001b[39;49m\u001b[43mvalidation_data\u001b[49m\u001b[43m,\u001b[49m\n\u001b[1;32m    865\u001b[0m \u001b[43m    \u001b[49m\u001b[43mshuffle\u001b[49m\u001b[38;5;241;43m=\u001b[39;49m\u001b[43mshuffle\u001b[49m\u001b[43m,\u001b[49m\n\u001b[1;32m    866\u001b[0m \u001b[43m    \u001b[49m\u001b[43mclass_weight\u001b[49m\u001b[38;5;241;43m=\u001b[39;49m\u001b[43mclass_weight\u001b[49m\u001b[43m,\u001b[49m\n\u001b[1;32m    867\u001b[0m \u001b[43m    \u001b[49m\u001b[43msample_weight\u001b[49m\u001b[38;5;241;43m=\u001b[39;49m\u001b[43msample_weight\u001b[49m\u001b[43m,\u001b[49m\n\u001b[1;32m    868\u001b[0m \u001b[43m    \u001b[49m\u001b[43minitial_epoch\u001b[49m\u001b[38;5;241;43m=\u001b[39;49m\u001b[43minitial_epoch\u001b[49m\u001b[43m,\u001b[49m\n\u001b[1;32m    869\u001b[0m \u001b[43m    \u001b[49m\u001b[43msteps_per_epoch\u001b[49m\u001b[38;5;241;43m=\u001b[39;49m\u001b[43msteps_per_epoch\u001b[49m\u001b[43m,\u001b[49m\n\u001b[1;32m    870\u001b[0m \u001b[43m    \u001b[49m\u001b[43mvalidation_steps\u001b[49m\u001b[38;5;241;43m=\u001b[39;49m\u001b[43mvalidation_steps\u001b[49m\u001b[43m,\u001b[49m\n\u001b[1;32m    871\u001b[0m \u001b[43m    \u001b[49m\u001b[43mvalidation_freq\u001b[49m\u001b[38;5;241;43m=\u001b[39;49m\u001b[43mvalidation_freq\u001b[49m\u001b[43m,\u001b[49m\n\u001b[1;32m    872\u001b[0m \u001b[43m    \u001b[49m\u001b[43mmax_queue_size\u001b[49m\u001b[38;5;241;43m=\u001b[39;49m\u001b[43mmax_queue_size\u001b[49m\u001b[43m,\u001b[49m\n\u001b[1;32m    873\u001b[0m \u001b[43m    \u001b[49m\u001b[43mworkers\u001b[49m\u001b[38;5;241;43m=\u001b[39;49m\u001b[43mworkers\u001b[49m\u001b[43m,\u001b[49m\n\u001b[1;32m    874\u001b[0m \u001b[43m    \u001b[49m\u001b[43muse_multiprocessing\u001b[49m\u001b[38;5;241;43m=\u001b[39;49m\u001b[43muse_multiprocessing\u001b[49m\u001b[43m,\u001b[49m\n\u001b[1;32m    875\u001b[0m \u001b[43m\u001b[49m\u001b[43m)\u001b[49m\n",
      "File \u001b[0;32m~/Desktop/RNB00978/sample_count/sample_gen/dense_layer/dense_full_env_00/lib/python3.9/site-packages/keras/engine/training_arrays_v1.py:734\u001b[0m, in \u001b[0;36mArrayLikeTrainingLoop.fit\u001b[0;34m(self, model, x, y, batch_size, epochs, verbose, callbacks, validation_split, validation_data, shuffle, class_weight, sample_weight, initial_epoch, steps_per_epoch, validation_steps, validation_freq, **kwargs)\u001b[0m\n\u001b[1;32m    728\u001b[0m         \u001b[38;5;28;01mraise\u001b[39;00m \u001b[38;5;167;01mValueError\u001b[39;00m(\n\u001b[1;32m    729\u001b[0m             \u001b[38;5;124m\"\u001b[39m\u001b[38;5;124m`validation_steps` should not be specified if \u001b[39m\u001b[38;5;124m\"\u001b[39m\n\u001b[1;32m    730\u001b[0m             \u001b[38;5;124m\"\u001b[39m\u001b[38;5;124m`validation_data` is None.\u001b[39m\u001b[38;5;124m\"\u001b[39m\n\u001b[1;32m    731\u001b[0m         )\n\u001b[1;32m    732\u001b[0m     val_x, val_y, val_sample_weights \u001b[38;5;241m=\u001b[39m \u001b[38;5;28;01mNone\u001b[39;00m, \u001b[38;5;28;01mNone\u001b[39;00m, \u001b[38;5;28;01mNone\u001b[39;00m\n\u001b[0;32m--> 734\u001b[0m \u001b[38;5;28;01mreturn\u001b[39;00m \u001b[43mfit_loop\u001b[49m\u001b[43m(\u001b[49m\n\u001b[1;32m    735\u001b[0m \u001b[43m    \u001b[49m\u001b[43mmodel\u001b[49m\u001b[43m,\u001b[49m\n\u001b[1;32m    736\u001b[0m \u001b[43m    \u001b[49m\u001b[43minputs\u001b[49m\u001b[38;5;241;43m=\u001b[39;49m\u001b[43mx\u001b[49m\u001b[43m,\u001b[49m\n\u001b[1;32m    737\u001b[0m \u001b[43m    \u001b[49m\u001b[43mtargets\u001b[49m\u001b[38;5;241;43m=\u001b[39;49m\u001b[43my\u001b[49m\u001b[43m,\u001b[49m\n\u001b[1;32m    738\u001b[0m \u001b[43m    \u001b[49m\u001b[43msample_weights\u001b[49m\u001b[38;5;241;43m=\u001b[39;49m\u001b[43msample_weights\u001b[49m\u001b[43m,\u001b[49m\n\u001b[1;32m    739\u001b[0m \u001b[43m    \u001b[49m\u001b[43mbatch_size\u001b[49m\u001b[38;5;241;43m=\u001b[39;49m\u001b[43mbatch_size\u001b[49m\u001b[43m,\u001b[49m\n\u001b[1;32m    740\u001b[0m \u001b[43m    \u001b[49m\u001b[43mepochs\u001b[49m\u001b[38;5;241;43m=\u001b[39;49m\u001b[43mepochs\u001b[49m\u001b[43m,\u001b[49m\n\u001b[1;32m    741\u001b[0m \u001b[43m    \u001b[49m\u001b[43mverbose\u001b[49m\u001b[38;5;241;43m=\u001b[39;49m\u001b[43mverbose\u001b[49m\u001b[43m,\u001b[49m\n\u001b[1;32m    742\u001b[0m \u001b[43m    \u001b[49m\u001b[43mcallbacks\u001b[49m\u001b[38;5;241;43m=\u001b[39;49m\u001b[43mcallbacks\u001b[49m\u001b[43m,\u001b[49m\n\u001b[1;32m    743\u001b[0m \u001b[43m    \u001b[49m\u001b[43mval_inputs\u001b[49m\u001b[38;5;241;43m=\u001b[39;49m\u001b[43mval_x\u001b[49m\u001b[43m,\u001b[49m\n\u001b[1;32m    744\u001b[0m \u001b[43m    \u001b[49m\u001b[43mval_targets\u001b[49m\u001b[38;5;241;43m=\u001b[39;49m\u001b[43mval_y\u001b[49m\u001b[43m,\u001b[49m\n\u001b[1;32m    745\u001b[0m \u001b[43m    \u001b[49m\u001b[43mval_sample_weights\u001b[49m\u001b[38;5;241;43m=\u001b[39;49m\u001b[43mval_sample_weights\u001b[49m\u001b[43m,\u001b[49m\n\u001b[1;32m    746\u001b[0m \u001b[43m    \u001b[49m\u001b[43mshuffle\u001b[49m\u001b[38;5;241;43m=\u001b[39;49m\u001b[43mshuffle\u001b[49m\u001b[43m,\u001b[49m\n\u001b[1;32m    747\u001b[0m \u001b[43m    \u001b[49m\u001b[43minitial_epoch\u001b[49m\u001b[38;5;241;43m=\u001b[39;49m\u001b[43minitial_epoch\u001b[49m\u001b[43m,\u001b[49m\n\u001b[1;32m    748\u001b[0m \u001b[43m    \u001b[49m\u001b[43msteps_per_epoch\u001b[49m\u001b[38;5;241;43m=\u001b[39;49m\u001b[43msteps_per_epoch\u001b[49m\u001b[43m,\u001b[49m\n\u001b[1;32m    749\u001b[0m \u001b[43m    \u001b[49m\u001b[43mvalidation_steps\u001b[49m\u001b[38;5;241;43m=\u001b[39;49m\u001b[43mvalidation_steps\u001b[49m\u001b[43m,\u001b[49m\n\u001b[1;32m    750\u001b[0m \u001b[43m    \u001b[49m\u001b[43mvalidation_freq\u001b[49m\u001b[38;5;241;43m=\u001b[39;49m\u001b[43mvalidation_freq\u001b[49m\u001b[43m,\u001b[49m\n\u001b[1;32m    751\u001b[0m \u001b[43m    \u001b[49m\u001b[43msteps_name\u001b[49m\u001b[38;5;241;43m=\u001b[39;49m\u001b[38;5;124;43m\"\u001b[39;49m\u001b[38;5;124;43msteps_per_epoch\u001b[39;49m\u001b[38;5;124;43m\"\u001b[39;49m\u001b[43m,\u001b[49m\n\u001b[1;32m    752\u001b[0m \u001b[43m\u001b[49m\u001b[43m)\u001b[49m\n",
      "File \u001b[0;32m~/Desktop/RNB00978/sample_count/sample_gen/dense_layer/dense_full_env_00/lib/python3.9/site-packages/keras/engine/training_arrays_v1.py:419\u001b[0m, in \u001b[0;36mmodel_iteration\u001b[0;34m(model, inputs, targets, sample_weights, batch_size, epochs, verbose, callbacks, val_inputs, val_targets, val_sample_weights, shuffle, initial_epoch, steps_per_epoch, validation_steps, validation_freq, mode, validation_in_fit, prepared_feed_values_from_dataset, steps_name, **kwargs)\u001b[0m\n\u001b[1;32m    414\u001b[0m callbacks\u001b[38;5;241m.\u001b[39m_call_batch_hook(\n\u001b[1;32m    415\u001b[0m     mode, \u001b[38;5;124m\"\u001b[39m\u001b[38;5;124mbegin\u001b[39m\u001b[38;5;124m\"\u001b[39m, batch_index, batch_logs\n\u001b[1;32m    416\u001b[0m )\n\u001b[1;32m    418\u001b[0m \u001b[38;5;66;03m# Get outputs.\u001b[39;00m\n\u001b[0;32m--> 419\u001b[0m batch_outs \u001b[38;5;241m=\u001b[39m \u001b[43mf\u001b[49m\u001b[43m(\u001b[49m\u001b[43mins_batch\u001b[49m\u001b[43m)\u001b[49m\n\u001b[1;32m    420\u001b[0m \u001b[38;5;28;01mif\u001b[39;00m \u001b[38;5;129;01mnot\u001b[39;00m \u001b[38;5;28misinstance\u001b[39m(batch_outs, \u001b[38;5;28mlist\u001b[39m):\n\u001b[1;32m    421\u001b[0m     batch_outs \u001b[38;5;241m=\u001b[39m [batch_outs]\n",
      "File \u001b[0;32m~/Desktop/RNB00978/sample_count/sample_gen/dense_layer/dense_full_env_00/lib/python3.9/site-packages/keras/backend.py:4577\u001b[0m, in \u001b[0;36mGraphExecutionFunction.__call__\u001b[0;34m(self, inputs)\u001b[0m\n\u001b[1;32m   4567\u001b[0m \u001b[38;5;28;01mif\u001b[39;00m (\n\u001b[1;32m   4568\u001b[0m     \u001b[38;5;28mself\u001b[39m\u001b[38;5;241m.\u001b[39m_callable_fn \u001b[38;5;129;01mis\u001b[39;00m \u001b[38;5;28;01mNone\u001b[39;00m\n\u001b[1;32m   4569\u001b[0m     \u001b[38;5;129;01mor\u001b[39;00m feed_arrays \u001b[38;5;241m!=\u001b[39m \u001b[38;5;28mself\u001b[39m\u001b[38;5;241m.\u001b[39m_feed_arrays\n\u001b[0;32m   (...)\u001b[0m\n\u001b[1;32m   4573\u001b[0m     \u001b[38;5;129;01mor\u001b[39;00m session \u001b[38;5;241m!=\u001b[39m \u001b[38;5;28mself\u001b[39m\u001b[38;5;241m.\u001b[39m_session\n\u001b[1;32m   4574\u001b[0m ):\n\u001b[1;32m   4575\u001b[0m     \u001b[38;5;28mself\u001b[39m\u001b[38;5;241m.\u001b[39m_make_callable(feed_arrays, feed_symbols, symbol_vals, session)\n\u001b[0;32m-> 4577\u001b[0m fetched \u001b[38;5;241m=\u001b[39m \u001b[38;5;28;43mself\u001b[39;49m\u001b[38;5;241;43m.\u001b[39;49m\u001b[43m_callable_fn\u001b[49m\u001b[43m(\u001b[49m\u001b[38;5;241;43m*\u001b[39;49m\u001b[43marray_vals\u001b[49m\u001b[43m,\u001b[49m\u001b[43m \u001b[49m\u001b[43mrun_metadata\u001b[49m\u001b[38;5;241;43m=\u001b[39;49m\u001b[38;5;28;43mself\u001b[39;49m\u001b[38;5;241;43m.\u001b[39;49m\u001b[43mrun_metadata\u001b[49m\u001b[43m)\u001b[49m\n\u001b[1;32m   4578\u001b[0m \u001b[38;5;28mself\u001b[39m\u001b[38;5;241m.\u001b[39m_call_fetch_callbacks(fetched[\u001b[38;5;241m-\u001b[39m\u001b[38;5;28mlen\u001b[39m(\u001b[38;5;28mself\u001b[39m\u001b[38;5;241m.\u001b[39m_fetches) :])\n\u001b[1;32m   4579\u001b[0m output_structure \u001b[38;5;241m=\u001b[39m tf\u001b[38;5;241m.\u001b[39mnest\u001b[38;5;241m.\u001b[39mpack_sequence_as(\n\u001b[1;32m   4580\u001b[0m     \u001b[38;5;28mself\u001b[39m\u001b[38;5;241m.\u001b[39m_outputs_structure,\n\u001b[1;32m   4581\u001b[0m     fetched[: \u001b[38;5;28mlen\u001b[39m(\u001b[38;5;28mself\u001b[39m\u001b[38;5;241m.\u001b[39moutputs)],\n\u001b[1;32m   4582\u001b[0m     expand_composites\u001b[38;5;241m=\u001b[39m\u001b[38;5;28;01mTrue\u001b[39;00m,\n\u001b[1;32m   4583\u001b[0m )\n",
      "File \u001b[0;32m~/Desktop/RNB00978/sample_count/sample_gen/dense_layer/dense_full_env_00/lib/python3.9/site-packages/tensorflow/python/client/session.py:1481\u001b[0m, in \u001b[0;36mBaseSession._Callable.__call__\u001b[0;34m(self, *args, **kwargs)\u001b[0m\n\u001b[1;32m   1479\u001b[0m \u001b[38;5;28;01mtry\u001b[39;00m:\n\u001b[1;32m   1480\u001b[0m   run_metadata_ptr \u001b[38;5;241m=\u001b[39m tf_session\u001b[38;5;241m.\u001b[39mTF_NewBuffer() \u001b[38;5;28;01mif\u001b[39;00m run_metadata \u001b[38;5;28;01melse\u001b[39;00m \u001b[38;5;28;01mNone\u001b[39;00m\n\u001b[0;32m-> 1481\u001b[0m   ret \u001b[38;5;241m=\u001b[39m \u001b[43mtf_session\u001b[49m\u001b[38;5;241;43m.\u001b[39;49m\u001b[43mTF_SessionRunCallable\u001b[49m\u001b[43m(\u001b[49m\u001b[38;5;28;43mself\u001b[39;49m\u001b[38;5;241;43m.\u001b[39;49m\u001b[43m_session\u001b[49m\u001b[38;5;241;43m.\u001b[39;49m\u001b[43m_session\u001b[49m\u001b[43m,\u001b[49m\n\u001b[1;32m   1482\u001b[0m \u001b[43m                                         \u001b[49m\u001b[38;5;28;43mself\u001b[39;49m\u001b[38;5;241;43m.\u001b[39;49m\u001b[43m_handle\u001b[49m\u001b[43m,\u001b[49m\u001b[43m \u001b[49m\u001b[43margs\u001b[49m\u001b[43m,\u001b[49m\n\u001b[1;32m   1483\u001b[0m \u001b[43m                                         \u001b[49m\u001b[43mrun_metadata_ptr\u001b[49m\u001b[43m)\u001b[49m\n\u001b[1;32m   1484\u001b[0m   \u001b[38;5;28;01mif\u001b[39;00m run_metadata:\n\u001b[1;32m   1485\u001b[0m     proto_data \u001b[38;5;241m=\u001b[39m tf_session\u001b[38;5;241m.\u001b[39mTF_GetBuffer(run_metadata_ptr)\n",
      "\u001b[0;31mKeyboardInterrupt\u001b[0m: "
     ]
    }
   ],
   "source": [
    "# Test two, 1D layer model\n",
    "# wants sample count as firtst dimension of shape\n",
    "# strategy is to convert to array then reshape\n",
    "\n",
    "# train_norm_arr = train_norm.to_numpy()\n",
    "# train_norm_arr_exp = np.expand_dims(train_norm_arr, axis=-1)\n",
    "\n",
    "# test_norm_arr = test_norm.to_numpy()\n",
    "# test_norm_arr_exp = np.expand_dims(test_norm_arr, axis=-1)\n",
    "\n",
    "history = vae.fit(x=train_norm_arr_exp, y=train_norm_arr_exp, epochs=epochs,\n",
    "                  batch_size=batch_size,\n",
    "                  validation_data=(test_norm_arr_exp, test_norm_arr_exp))\n",
    "\n",
    "# history = vae.fit(x=train_norm, y=train_norm, epochs=epochs,\n",
    "#                   batch_size=batch_size,\n",
    "#                   validation_data=(test_norm, test_norm))\n",
    "\n",
    "plt.plot(history.history['loss'],label=\"loss\")\n",
    "plt.plot(history.history['val_loss'],label=\"val_loss\")\n",
    "plt.title('VAE embedding loss, '+cohort+' pre-train\\n'+\n",
    "\n",
    "          # file.index.name+', burn-in, n = 495'+\n",
    "\n",
    "          '1D conv, latent dim = '+str(latent_dim))\n",
    "plt.xlabel('Epoch')\n",
    "plt.ylabel('Loss')\n",
    "plt.annotate('test_fraction = .25',\n",
    "            xy=(.4, .8), xycoords='figure fraction',\n",
    "            horizontalalignment='left', verticalalignment='top',\n",
    "            # fontsize=20\n",
    "            )\n",
    "\n",
    "plt.legend(loc=\"lower left\")\n",
    "# plt.savefig('dir_n/cohort_n'+str(epochs)+'_epochs_2022-08-date_version.png')\n",
    "plt.savefig('loss_curves_ignored/'+cohort+'_pretrain_'+\n",
    "\n",
    "            # file.index.name+\n",
    "            # '_brn_n_'+str(len(brca_burn_in))+'_'+\n",
    "\n",
    "            str(epochs)+'_epochs_'+\n",
    "            str(latent_dim)+'_latent_dim_'+\n",
    "            date+'_'+version+'_r0.png')"
   ]
  },
  {
   "cell_type": "code",
   "execution_count": 28,
   "id": "38937e4e-217c-439f-9a6a-a14782c58cec",
   "metadata": {},
   "outputs": [],
   "source": [
    "import matplotlib.pyplot as plt"
   ]
  },
  {
   "cell_type": "code",
   "execution_count": 29,
   "id": "c3ed7d4c-56b2-4530-bf44-781da5769adc",
   "metadata": {},
   "outputs": [
    {
     "data": {
      "image/png": "[encoded data removed]",
      "text/plain": [
       "<Figure size 640x480 with 1 Axes>"
      ]
     },
     "metadata": {},
     "output_type": "display_data"
    }
   ],
   "source": [
    "plt.plot(history.history['loss'],label=\"loss\")\n",
    "plt.plot(history.history['val_loss'],label=\"val_loss\")\n",
    "plt.title('VAE embedding loss, '+cohort+' pre-train\\n'+\n",
    "\n",
    "          # file.index.name+', burn-in, n = 495'+\n",
    "\n",
    "          '1D conv, latent dim = '+str(latent_dim))\n",
    "plt.xlabel('Epoch')\n",
    "plt.ylabel('Loss')\n",
    "plt.annotate('test_fraction = .25',\n",
    "            xy=(.4, .8), xycoords='figure fraction',\n",
    "            horizontalalignment='left', verticalalignment='top',\n",
    "            # fontsize=20\n",
    "            )\n",
    "\n",
    "plt.legend(loc=\"lower left\")\n",
    "# plt.savefig('dir_n/cohort_n'+str(epochs)+'_epochs_2022-08-date_version.png')\n",
    "plt.savefig('loss_curves_ignored/'+cohort+'_pretrain_'+\n",
    "\n",
    "            # file.index.name+\n",
    "            # '_brn_n_'+str(len(brca_burn_in))+'_'+\n",
    "\n",
    "            str(epochs)+'_epochs_'+\n",
    "            str(latent_dim)+'_latent_dim_'+\n",
    "            date+'_'+version+'_r0.png')"
   ]
  },
  {
   "cell_type": "code",
   "execution_count": 59,
   "id": "5d00d395-11b2-4ea3-bc81-db4de9de4150",
   "metadata": {
    "collapsed": true,
    "jupyter": {
     "outputs_hidden": true
    },
    "tags": []
   },
   "outputs": [
    {
     "ename": "ValueError",
     "evalue": "Error when checking input: expected input_11 to have 3 dimensions, but got array with shape (299, 20531)",
     "output_type": "error",
     "traceback": [
      "\u001b[0;31m---------------------------------------------------------------------------\u001b[0m",
      "\u001b[0;31mValueError\u001b[0m                                Traceback (most recent call last)",
      "Cell \u001b[0;32mIn [59], line 2\u001b[0m\n\u001b[1;32m      1\u001b[0m \u001b[38;5;66;03m# Test one, 1D layer model\u001b[39;00m\n\u001b[0;32m----> 2\u001b[0m history \u001b[38;5;241m=\u001b[39m vae\u001b[38;5;241m.\u001b[39mfit(x\u001b[38;5;241m=\u001b[39mtrain_norm, y\u001b[38;5;241m=\u001b[39mtrain_norm, epochs\u001b[38;5;241m=\u001b[39mepochs,\n\u001b[1;32m      3\u001b[0m                   batch_size\u001b[38;5;241m=\u001b[39mbatch_size, \u001b[38;5;66;03m# why is this set to 32?\u001b[39;00m\n\u001b[1;32m      4\u001b[0m                   validation_data\u001b[38;5;241m=\u001b[39m(test_norm, test_norm))\n\u001b[1;32m      6\u001b[0m plt\u001b[38;5;241m.\u001b[39mplot(history\u001b[38;5;241m.\u001b[39mhistory[\u001b[38;5;124m'\u001b[39m\u001b[38;5;124mloss\u001b[39m\u001b[38;5;124m'\u001b[39m],label\u001b[38;5;241m=\u001b[39m\u001b[38;5;124m\"\u001b[39m\u001b[38;5;124mloss\u001b[39m\u001b[38;5;124m\"\u001b[39m)\n\u001b[1;32m      7\u001b[0m plt\u001b[38;5;241m.\u001b[39mplot(history\u001b[38;5;241m.\u001b[39mhistory[\u001b[38;5;124m'\u001b[39m\u001b[38;5;124mtest_loss\u001b[39m\u001b[38;5;124m'\u001b[39m],label\u001b[38;5;241m=\u001b[39m\u001b[38;5;124m\"\u001b[39m\u001b[38;5;124mtest_loss\u001b[39m\u001b[38;5;124m\"\u001b[39m)\n",
      "File \u001b[0;32m~/Desktop/RNB00978/sample_count/sample_gen/dense_layer/dense_full_env_00/lib/python3.9/site-packages/keras/engine/training_v1.py:855\u001b[0m, in \u001b[0;36mModel.fit\u001b[0;34m(self, x, y, batch_size, epochs, verbose, callbacks, validation_split, validation_data, shuffle, class_weight, sample_weight, initial_epoch, steps_per_epoch, validation_steps, validation_freq, max_queue_size, workers, use_multiprocessing, **kwargs)\u001b[0m\n\u001b[1;32m    852\u001b[0m \u001b[38;5;28mself\u001b[39m\u001b[38;5;241m.\u001b[39m_check_call_args(\u001b[38;5;124m\"\u001b[39m\u001b[38;5;124mfit\u001b[39m\u001b[38;5;124m\"\u001b[39m)\n\u001b[1;32m    854\u001b[0m func \u001b[38;5;241m=\u001b[39m \u001b[38;5;28mself\u001b[39m\u001b[38;5;241m.\u001b[39m_select_training_loop(x)\n\u001b[0;32m--> 855\u001b[0m \u001b[38;5;28;01mreturn\u001b[39;00m \u001b[43mfunc\u001b[49m\u001b[38;5;241;43m.\u001b[39;49m\u001b[43mfit\u001b[49m\u001b[43m(\u001b[49m\n\u001b[1;32m    856\u001b[0m \u001b[43m    \u001b[49m\u001b[38;5;28;43mself\u001b[39;49m\u001b[43m,\u001b[49m\n\u001b[1;32m    857\u001b[0m \u001b[43m    \u001b[49m\u001b[43mx\u001b[49m\u001b[38;5;241;43m=\u001b[39;49m\u001b[43mx\u001b[49m\u001b[43m,\u001b[49m\n\u001b[1;32m    858\u001b[0m \u001b[43m    \u001b[49m\u001b[43my\u001b[49m\u001b[38;5;241;43m=\u001b[39;49m\u001b[43my\u001b[49m\u001b[43m,\u001b[49m\n\u001b[1;32m    859\u001b[0m \u001b[43m    \u001b[49m\u001b[43mbatch_size\u001b[49m\u001b[38;5;241;43m=\u001b[39;49m\u001b[43mbatch_size\u001b[49m\u001b[43m,\u001b[49m\n\u001b[1;32m    860\u001b[0m \u001b[43m    \u001b[49m\u001b[43mepochs\u001b[49m\u001b[38;5;241;43m=\u001b[39;49m\u001b[43mepochs\u001b[49m\u001b[43m,\u001b[49m\n\u001b[1;32m    861\u001b[0m \u001b[43m    \u001b[49m\u001b[43mverbose\u001b[49m\u001b[38;5;241;43m=\u001b[39;49m\u001b[43mverbose\u001b[49m\u001b[43m,\u001b[49m\n\u001b[1;32m    862\u001b[0m \u001b[43m    \u001b[49m\u001b[43mcallbacks\u001b[49m\u001b[38;5;241;43m=\u001b[39;49m\u001b[43mcallbacks\u001b[49m\u001b[43m,\u001b[49m\n\u001b[1;32m    863\u001b[0m \u001b[43m    \u001b[49m\u001b[43mvalidation_split\u001b[49m\u001b[38;5;241;43m=\u001b[39;49m\u001b[43mvalidation_split\u001b[49m\u001b[43m,\u001b[49m\n\u001b[1;32m    864\u001b[0m \u001b[43m    \u001b[49m\u001b[43mvalidation_data\u001b[49m\u001b[38;5;241;43m=\u001b[39;49m\u001b[43mvalidation_data\u001b[49m\u001b[43m,\u001b[49m\n\u001b[1;32m    865\u001b[0m \u001b[43m    \u001b[49m\u001b[43mshuffle\u001b[49m\u001b[38;5;241;43m=\u001b[39;49m\u001b[43mshuffle\u001b[49m\u001b[43m,\u001b[49m\n\u001b[1;32m    866\u001b[0m \u001b[43m    \u001b[49m\u001b[43mclass_weight\u001b[49m\u001b[38;5;241;43m=\u001b[39;49m\u001b[43mclass_weight\u001b[49m\u001b[43m,\u001b[49m\n\u001b[1;32m    867\u001b[0m \u001b[43m    \u001b[49m\u001b[43msample_weight\u001b[49m\u001b[38;5;241;43m=\u001b[39;49m\u001b[43msample_weight\u001b[49m\u001b[43m,\u001b[49m\n\u001b[1;32m    868\u001b[0m \u001b[43m    \u001b[49m\u001b[43minitial_epoch\u001b[49m\u001b[38;5;241;43m=\u001b[39;49m\u001b[43minitial_epoch\u001b[49m\u001b[43m,\u001b[49m\n\u001b[1;32m    869\u001b[0m \u001b[43m    \u001b[49m\u001b[43msteps_per_epoch\u001b[49m\u001b[38;5;241;43m=\u001b[39;49m\u001b[43msteps_per_epoch\u001b[49m\u001b[43m,\u001b[49m\n\u001b[1;32m    870\u001b[0m \u001b[43m    \u001b[49m\u001b[43mvalidation_steps\u001b[49m\u001b[38;5;241;43m=\u001b[39;49m\u001b[43mvalidation_steps\u001b[49m\u001b[43m,\u001b[49m\n\u001b[1;32m    871\u001b[0m \u001b[43m    \u001b[49m\u001b[43mvalidation_freq\u001b[49m\u001b[38;5;241;43m=\u001b[39;49m\u001b[43mvalidation_freq\u001b[49m\u001b[43m,\u001b[49m\n\u001b[1;32m    872\u001b[0m \u001b[43m    \u001b[49m\u001b[43mmax_queue_size\u001b[49m\u001b[38;5;241;43m=\u001b[39;49m\u001b[43mmax_queue_size\u001b[49m\u001b[43m,\u001b[49m\n\u001b[1;32m    873\u001b[0m \u001b[43m    \u001b[49m\u001b[43mworkers\u001b[49m\u001b[38;5;241;43m=\u001b[39;49m\u001b[43mworkers\u001b[49m\u001b[43m,\u001b[49m\n\u001b[1;32m    874\u001b[0m \u001b[43m    \u001b[49m\u001b[43muse_multiprocessing\u001b[49m\u001b[38;5;241;43m=\u001b[39;49m\u001b[43muse_multiprocessing\u001b[49m\u001b[43m,\u001b[49m\n\u001b[1;32m    875\u001b[0m \u001b[43m\u001b[49m\u001b[43m)\u001b[49m\n",
      "File \u001b[0;32m~/Desktop/RNB00978/sample_count/sample_gen/dense_layer/dense_full_env_00/lib/python3.9/site-packages/keras/engine/training_arrays_v1.py:698\u001b[0m, in \u001b[0;36mArrayLikeTrainingLoop.fit\u001b[0;34m(self, model, x, y, batch_size, epochs, verbose, callbacks, validation_split, validation_data, shuffle, class_weight, sample_weight, initial_epoch, steps_per_epoch, validation_steps, validation_freq, **kwargs)\u001b[0m\n\u001b[1;32m    674\u001b[0m \u001b[38;5;28;01mdef\u001b[39;00m \u001b[38;5;21mfit\u001b[39m(\n\u001b[1;32m    675\u001b[0m     \u001b[38;5;28mself\u001b[39m,\n\u001b[1;32m    676\u001b[0m     model,\n\u001b[0;32m   (...)\u001b[0m\n\u001b[1;32m    692\u001b[0m     \u001b[38;5;241m*\u001b[39m\u001b[38;5;241m*\u001b[39mkwargs\n\u001b[1;32m    693\u001b[0m ):\n\u001b[1;32m    694\u001b[0m     batch_size \u001b[38;5;241m=\u001b[39m model\u001b[38;5;241m.\u001b[39m_validate_or_infer_batch_size(\n\u001b[1;32m    695\u001b[0m         batch_size, steps_per_epoch, x\n\u001b[1;32m    696\u001b[0m     )\n\u001b[0;32m--> 698\u001b[0m     x, y, sample_weights \u001b[38;5;241m=\u001b[39m \u001b[43mmodel\u001b[49m\u001b[38;5;241;43m.\u001b[39;49m\u001b[43m_standardize_user_data\u001b[49m\u001b[43m(\u001b[49m\n\u001b[1;32m    699\u001b[0m \u001b[43m        \u001b[49m\u001b[43mx\u001b[49m\u001b[43m,\u001b[49m\n\u001b[1;32m    700\u001b[0m \u001b[43m        \u001b[49m\u001b[43my\u001b[49m\u001b[43m,\u001b[49m\n\u001b[1;32m    701\u001b[0m \u001b[43m        \u001b[49m\u001b[43msample_weight\u001b[49m\u001b[38;5;241;43m=\u001b[39;49m\u001b[43msample_weight\u001b[49m\u001b[43m,\u001b[49m\n\u001b[1;32m    702\u001b[0m \u001b[43m        \u001b[49m\u001b[43mclass_weight\u001b[49m\u001b[38;5;241;43m=\u001b[39;49m\u001b[43mclass_weight\u001b[49m\u001b[43m,\u001b[49m\n\u001b[1;32m    703\u001b[0m \u001b[43m        \u001b[49m\u001b[43mbatch_size\u001b[49m\u001b[38;5;241;43m=\u001b[39;49m\u001b[43mbatch_size\u001b[49m\u001b[43m,\u001b[49m\n\u001b[1;32m    704\u001b[0m \u001b[43m        \u001b[49m\u001b[43mcheck_steps\u001b[49m\u001b[38;5;241;43m=\u001b[39;49m\u001b[38;5;28;43;01mTrue\u001b[39;49;00m\u001b[43m,\u001b[49m\n\u001b[1;32m    705\u001b[0m \u001b[43m        \u001b[49m\u001b[43msteps_name\u001b[49m\u001b[38;5;241;43m=\u001b[39;49m\u001b[38;5;124;43m\"\u001b[39;49m\u001b[38;5;124;43msteps_per_epoch\u001b[39;49m\u001b[38;5;124;43m\"\u001b[39;49m\u001b[43m,\u001b[49m\n\u001b[1;32m    706\u001b[0m \u001b[43m        \u001b[49m\u001b[43msteps\u001b[49m\u001b[38;5;241;43m=\u001b[39;49m\u001b[43msteps_per_epoch\u001b[49m\u001b[43m,\u001b[49m\n\u001b[1;32m    707\u001b[0m \u001b[43m        \u001b[49m\u001b[43mvalidation_split\u001b[49m\u001b[38;5;241;43m=\u001b[39;49m\u001b[43mvalidation_split\u001b[49m\u001b[43m,\u001b[49m\n\u001b[1;32m    708\u001b[0m \u001b[43m        \u001b[49m\u001b[43mshuffle\u001b[49m\u001b[38;5;241;43m=\u001b[39;49m\u001b[43mshuffle\u001b[49m\u001b[43m,\u001b[49m\n\u001b[1;32m    709\u001b[0m \u001b[43m    \u001b[49m\u001b[43m)\u001b[49m\n\u001b[1;32m    711\u001b[0m     \u001b[38;5;28;01mif\u001b[39;00m validation_data:\n\u001b[1;32m    712\u001b[0m         val_x, val_y, val_sample_weights \u001b[38;5;241m=\u001b[39m model\u001b[38;5;241m.\u001b[39m_prepare_validation_data(\n\u001b[1;32m    713\u001b[0m             validation_data, batch_size, validation_steps\n\u001b[1;32m    714\u001b[0m         )\n",
      "File \u001b[0;32m~/Desktop/RNB00978/sample_count/sample_gen/dense_layer/dense_full_env_00/lib/python3.9/site-packages/keras/engine/training_v1.py:2649\u001b[0m, in \u001b[0;36mModel._standardize_user_data\u001b[0;34m(self, x, y, sample_weight, class_weight, batch_size, check_steps, steps_name, steps, validation_split, shuffle, extract_tensors_from_dataset)\u001b[0m\n\u001b[1;32m   2640\u001b[0m \u001b[38;5;28;01mif\u001b[39;00m (\n\u001b[1;32m   2641\u001b[0m     \u001b[38;5;129;01mnot\u001b[39;00m run_eagerly\n\u001b[1;32m   2642\u001b[0m     \u001b[38;5;129;01mand\u001b[39;00m is_build_called\n\u001b[0;32m   (...)\u001b[0m\n\u001b[1;32m   2645\u001b[0m     \u001b[38;5;129;01mand\u001b[39;00m \u001b[38;5;28many\u001b[39m(_is_symbolic_tensor(v) \u001b[38;5;28;01mfor\u001b[39;00m v \u001b[38;5;129;01min\u001b[39;00m all_inputs)\n\u001b[1;32m   2646\u001b[0m ):\n\u001b[1;32m   2647\u001b[0m     \u001b[38;5;28;01mreturn\u001b[39;00m [], [], \u001b[38;5;28;01mNone\u001b[39;00m\n\u001b[0;32m-> 2649\u001b[0m \u001b[38;5;28;01mreturn\u001b[39;00m \u001b[38;5;28;43mself\u001b[39;49m\u001b[38;5;241;43m.\u001b[39;49m\u001b[43m_standardize_tensors\u001b[49m\u001b[43m(\u001b[49m\n\u001b[1;32m   2650\u001b[0m \u001b[43m    \u001b[49m\u001b[43mx\u001b[49m\u001b[43m,\u001b[49m\n\u001b[1;32m   2651\u001b[0m \u001b[43m    \u001b[49m\u001b[43my\u001b[49m\u001b[43m,\u001b[49m\n\u001b[1;32m   2652\u001b[0m \u001b[43m    \u001b[49m\u001b[43msample_weight\u001b[49m\u001b[43m,\u001b[49m\n\u001b[1;32m   2653\u001b[0m \u001b[43m    \u001b[49m\u001b[43mrun_eagerly\u001b[49m\u001b[38;5;241;43m=\u001b[39;49m\u001b[43mrun_eagerly\u001b[49m\u001b[43m,\u001b[49m\n\u001b[1;32m   2654\u001b[0m \u001b[43m    \u001b[49m\u001b[43mdict_inputs\u001b[49m\u001b[38;5;241;43m=\u001b[39;49m\u001b[43mdict_inputs\u001b[49m\u001b[43m,\u001b[49m\n\u001b[1;32m   2655\u001b[0m \u001b[43m    \u001b[49m\u001b[43mis_dataset\u001b[49m\u001b[38;5;241;43m=\u001b[39;49m\u001b[43mis_dataset\u001b[49m\u001b[43m,\u001b[49m\n\u001b[1;32m   2656\u001b[0m \u001b[43m    \u001b[49m\u001b[43mclass_weight\u001b[49m\u001b[38;5;241;43m=\u001b[39;49m\u001b[43mclass_weight\u001b[49m\u001b[43m,\u001b[49m\n\u001b[1;32m   2657\u001b[0m \u001b[43m    \u001b[49m\u001b[43mbatch_size\u001b[49m\u001b[38;5;241;43m=\u001b[39;49m\u001b[43mbatch_size\u001b[49m\u001b[43m,\u001b[49m\n\u001b[1;32m   2658\u001b[0m \u001b[43m\u001b[49m\u001b[43m)\u001b[49m\n",
      "File \u001b[0;32m~/Desktop/RNB00978/sample_count/sample_gen/dense_layer/dense_full_env_00/lib/python3.9/site-packages/keras/engine/training_v1.py:2690\u001b[0m, in \u001b[0;36mModel._standardize_tensors\u001b[0;34m(self, x, y, sample_weight, run_eagerly, dict_inputs, is_dataset, class_weight, batch_size)\u001b[0m\n\u001b[1;32m   2687\u001b[0m \u001b[38;5;66;03m# Standardize the inputs.\u001b[39;00m\n\u001b[1;32m   2688\u001b[0m \u001b[38;5;28;01mif\u001b[39;00m \u001b[38;5;129;01mnot\u001b[39;00m \u001b[38;5;28misinstance\u001b[39m(x, (tf\u001b[38;5;241m.\u001b[39mcompat\u001b[38;5;241m.\u001b[39mv1\u001b[38;5;241m.\u001b[39mdata\u001b[38;5;241m.\u001b[39mDataset, tf\u001b[38;5;241m.\u001b[39mdata\u001b[38;5;241m.\u001b[39mDataset)):\n\u001b[1;32m   2689\u001b[0m     \u001b[38;5;66;03m# TODO(fchollet): run static checks with dataset output shape(s).\u001b[39;00m\n\u001b[0;32m-> 2690\u001b[0m     x \u001b[38;5;241m=\u001b[39m \u001b[43mtraining_utils_v1\u001b[49m\u001b[38;5;241;43m.\u001b[39;49m\u001b[43mstandardize_input_data\u001b[49m\u001b[43m(\u001b[49m\n\u001b[1;32m   2691\u001b[0m \u001b[43m        \u001b[49m\u001b[43mx\u001b[49m\u001b[43m,\u001b[49m\n\u001b[1;32m   2692\u001b[0m \u001b[43m        \u001b[49m\u001b[43mfeed_input_names\u001b[49m\u001b[43m,\u001b[49m\n\u001b[1;32m   2693\u001b[0m \u001b[43m        \u001b[49m\u001b[43mfeed_input_shapes\u001b[49m\u001b[43m,\u001b[49m\n\u001b[1;32m   2694\u001b[0m \u001b[43m        \u001b[49m\u001b[43mcheck_batch_axis\u001b[49m\u001b[38;5;241;43m=\u001b[39;49m\u001b[38;5;28;43;01mFalse\u001b[39;49;00m\u001b[43m,\u001b[49m\u001b[43m  \u001b[49m\u001b[38;5;66;43;03m# Don't enforce the batch size.\u001b[39;49;00m\n\u001b[1;32m   2695\u001b[0m \u001b[43m        \u001b[49m\u001b[43mexception_prefix\u001b[49m\u001b[38;5;241;43m=\u001b[39;49m\u001b[38;5;124;43m\"\u001b[39;49m\u001b[38;5;124;43minput\u001b[39;49m\u001b[38;5;124;43m\"\u001b[39;49m\u001b[43m,\u001b[49m\n\u001b[1;32m   2696\u001b[0m \u001b[43m    \u001b[49m\u001b[43m)\u001b[49m\n\u001b[1;32m   2698\u001b[0m \u001b[38;5;66;03m# Get typespecs for the input data and sanitize it if necessary.\u001b[39;00m\n\u001b[1;32m   2699\u001b[0m \u001b[38;5;66;03m# TODO(momernick): This should be capable of doing full input validation\u001b[39;00m\n\u001b[1;32m   2700\u001b[0m \u001b[38;5;66;03m# at all times - validate that this is so and refactor the\u001b[39;00m\n\u001b[1;32m   2701\u001b[0m \u001b[38;5;66;03m# standardization code.\u001b[39;00m\n\u001b[1;32m   2702\u001b[0m \u001b[38;5;28;01mif\u001b[39;00m \u001b[38;5;28misinstance\u001b[39m(x, tf\u001b[38;5;241m.\u001b[39mdata\u001b[38;5;241m.\u001b[39mDataset):\n",
      "File \u001b[0;32m~/Desktop/RNB00978/sample_count/sample_gen/dense_layer/dense_full_env_00/lib/python3.9/site-packages/keras/engine/training_utils_v1.py:714\u001b[0m, in \u001b[0;36mstandardize_input_data\u001b[0;34m(data, names, shapes, check_batch_axis, exception_prefix)\u001b[0m\n\u001b[1;32m    712\u001b[0m shape \u001b[38;5;241m=\u001b[39m shapes[i]\n\u001b[1;32m    713\u001b[0m \u001b[38;5;28;01mif\u001b[39;00m \u001b[38;5;28mlen\u001b[39m(data_shape) \u001b[38;5;241m!=\u001b[39m \u001b[38;5;28mlen\u001b[39m(shape):\n\u001b[0;32m--> 714\u001b[0m     \u001b[38;5;28;01mraise\u001b[39;00m \u001b[38;5;167;01mValueError\u001b[39;00m(\n\u001b[1;32m    715\u001b[0m         \u001b[38;5;124m\"\u001b[39m\u001b[38;5;124mError when checking \u001b[39m\u001b[38;5;124m\"\u001b[39m\n\u001b[1;32m    716\u001b[0m         \u001b[38;5;241m+\u001b[39m exception_prefix\n\u001b[1;32m    717\u001b[0m         \u001b[38;5;241m+\u001b[39m \u001b[38;5;124m\"\u001b[39m\u001b[38;5;124m: expected \u001b[39m\u001b[38;5;124m\"\u001b[39m\n\u001b[1;32m    718\u001b[0m         \u001b[38;5;241m+\u001b[39m names[i]\n\u001b[1;32m    719\u001b[0m         \u001b[38;5;241m+\u001b[39m \u001b[38;5;124m\"\u001b[39m\u001b[38;5;124m to have \u001b[39m\u001b[38;5;124m\"\u001b[39m\n\u001b[1;32m    720\u001b[0m         \u001b[38;5;241m+\u001b[39m \u001b[38;5;28mstr\u001b[39m(\u001b[38;5;28mlen\u001b[39m(shape))\n\u001b[1;32m    721\u001b[0m         \u001b[38;5;241m+\u001b[39m \u001b[38;5;124m\"\u001b[39m\u001b[38;5;124m dimensions, but got array \u001b[39m\u001b[38;5;124m\"\u001b[39m\n\u001b[1;32m    722\u001b[0m         \u001b[38;5;124m\"\u001b[39m\u001b[38;5;124mwith shape \u001b[39m\u001b[38;5;124m\"\u001b[39m \u001b[38;5;241m+\u001b[39m \u001b[38;5;28mstr\u001b[39m(data_shape)\n\u001b[1;32m    723\u001b[0m     )\n\u001b[1;32m    724\u001b[0m \u001b[38;5;28;01mif\u001b[39;00m \u001b[38;5;129;01mnot\u001b[39;00m check_batch_axis:\n\u001b[1;32m    725\u001b[0m     data_shape \u001b[38;5;241m=\u001b[39m data_shape[\u001b[38;5;241m1\u001b[39m:]\n",
      "\u001b[0;31mValueError\u001b[0m: Error when checking input: expected input_11 to have 3 dimensions, but got array with shape (299, 20531)"
     ]
    }
   ],
   "source": [
    "# Test one, 1D layer model\n",
    "history = vae.fit(x=train_norm, y=train_norm, epochs=epochs,\n",
    "                  batch_size=batch_size, # why is this set to 32?\n",
    "                  validation_data=(test_norm, test_norm))\n",
    "\n",
    "plt.plot(history.history['loss'],label=\"loss\")\n",
    "plt.plot(history.history['test_loss'],label=\"test_loss\")\n",
    "plt.title('VAE embedding loss, '+cohort+' pre-train\\n'+\n",
    "\n",
    "          # file.index.name+', burn-in, n = 495'+\n",
    "\n",
    "          '1D conv, latent dim = '+str(latent_dim))\n",
    "plt.xlabel('Epoch')\n",
    "plt.ylabel('Loss')\n",
    "plt.annotate('test_fraction = .25',\n",
    "            xy=(.4, .8), xycoords='figure fraction',\n",
    "            horizontalalignment='left', verticalalignment='top',\n",
    "            # fontsize=20\n",
    "            )\n",
    "\n",
    "plt.legend(loc=\"lower left\")\n",
    "# plt.savefig('dir_n/cohort_n'+str(epochs)+'_epochs_2022-08-date_version.png')\n",
    "plt.savefig('loss_curves_ignored/'+cohort+'_pretrain_'+\n",
    "\n",
    "            # file.index.name+\n",
    "            # '_brn_n_'+str(len(brca_burn_in))+'_'+\n",
    "\n",
    "            str(epochs)+'_epochs_'+\n",
    "            str(latent_dim)+'_latent_dim_'+\n",
    "            date+'_'+version+'_r0.png')"
   ]
  },
  {
   "cell_type": "code",
   "execution_count": null,
   "id": "b7e99e76-67be-4d0c-a943-c7bccc088a1e",
   "metadata": {},
   "outputs": [],
   "source": [
    "# add verbose"
   ]
  },
  {
   "cell_type": "code",
   "execution_count": null,
   "id": "94269855-970f-4b86-a539-e3d0d4900ea3",
   "metadata": {},
   "outputs": [],
   "source": [
    "# Encode and decode train, val independently"
   ]
  },
  {
   "cell_type": "code",
   "execution_count": 43,
   "id": "fe52c110-f179-46ba-a070-81b46ef1e2c6",
   "metadata": {},
   "outputs": [
    {
     "name": "stderr",
     "output_type": "stream",
     "text": [
      "/Users/karlberb/Desktop/RNB00978/sample_count/tf_venv_a/lib/python3.9/site-packages/keras/engine/training_v1.py:2356: UserWarning: `Model.state_updates` will be removed in a future version. This property should not be used in TensorFlow 2.0, as `updates` are applied automatically.\n",
      "  updates=self.state_updates,\n"
     ]
    }
   ],
   "source": [
    "tst_ltnt = encoder.predict(X_test_new)"
   ]
  },
  {
   "cell_type": "code",
   "execution_count": 44,
   "id": "bdb0eea2-7a20-4bf1-8a58-e44e8567d992",
   "metadata": {},
   "outputs": [],
   "source": [
    "trn_ltnt = encoder.predict(X_train_new)"
   ]
  },
  {
   "cell_type": "code",
   "execution_count": 45,
   "id": "67b2e16b-a367-4aa0-b02b-bc7cf235aaf3",
   "metadata": {},
   "outputs": [],
   "source": [
    "tst_dec = decoder.predict(tst_ltnt)"
   ]
  },
  {
   "cell_type": "code",
   "execution_count": 46,
   "id": "1a5e6f60-b2db-4246-a892-49f006daf7da",
   "metadata": {},
   "outputs": [],
   "source": [
    "trn_dec = decoder.predict(trn_ltnt)"
   ]
  },
  {
   "cell_type": "code",
   "execution_count": 48,
   "id": "f316b322-5c59-4ca8-a602-f913bb6cae1a",
   "metadata": {},
   "outputs": [
    {
     "data": {
      "text/plain": [
       "(100, 144, 144, 1)"
      ]
     },
     "execution_count": 48,
     "metadata": {},
     "output_type": "execute_result"
    }
   ],
   "source": [
    "tst_dec.shape"
   ]
  },
  {
   "cell_type": "code",
   "execution_count": 51,
   "id": "30c82f3d-175f-4cdd-a409-62b634c4df3b",
   "metadata": {},
   "outputs": [
    {
     "ename": "TypeError",
     "evalue": "flatten() takes from 0 to 1 positional arguments but 2 were given",
     "output_type": "error",
     "traceback": [
      "\u001b[0;31m---------------------------------------------------------------------------\u001b[0m",
      "\u001b[0;31mTypeError\u001b[0m                                 Traceback (most recent call last)",
      "Cell \u001b[0;32mIn [51], line 1\u001b[0m\n\u001b[0;32m----> 1\u001b[0m tst_dec\u001b[38;5;241m.\u001b[39mflatten(\u001b[38;5;241m100\u001b[39m,\u001b[38;5;241m20532\u001b[39m)\n",
      "\u001b[0;31mTypeError\u001b[0m: flatten() takes from 0 to 1 positional arguments but 2 were given"
     ]
    }
   ],
   "source": [
    "tst_dec.flatten(100,20532)"
   ]
  },
  {
   "cell_type": "code",
   "execution_count": 53,
   "id": "e23bc7c8-1e12-41f1-9212-a3f319b8f817",
   "metadata": {},
   "outputs": [
    {
     "data": {
      "text/plain": [
       "array([0.16375491, 0.1794188 , 0.20635223, ..., 0.01227512, 0.0133549 ,\n",
       "       0.01111129], dtype=float32)"
      ]
     },
     "execution_count": 53,
     "metadata": {},
     "output_type": "execute_result"
    }
   ],
   "source": [
    "tst_dec[0].reshape(20736)"
   ]
  },
  {
   "cell_type": "code",
   "execution_count": null,
   "id": "b35e06cd-39d2-465e-9155-d6fece8de622",
   "metadata": {},
   "outputs": [],
   "source": [
    "# train and test are dataframes split off from the original read-in\n",
    "# file, want to put the decoded arrays to dataframe as to send to UMAP"
   ]
  },
  {
   "cell_type": "code",
   "execution_count": null,
   "id": "40e05d0b-6655-43bf-8f09-6958f4ea2f39",
   "metadata": {},
   "outputs": [],
   "source": [
    "# re-running"
   ]
  },
  {
   "cell_type": "code",
   "execution_count": 54,
   "id": "6af6391f-3b57-4005-92b7-68ff712160c2",
   "metadata": {},
   "outputs": [],
   "source": [
    "stor = \n",
    "for i in tst_dec:\n",
    "    break"
   ]
  },
  {
   "cell_type": "code",
   "execution_count": 56,
   "id": "beacad0c-2b35-4edf-ad65-1ccdf9a29727",
   "metadata": {},
   "outputs": [
    {
     "data": {
      "text/plain": [
       "(144, 144, 1)"
      ]
     },
     "execution_count": 56,
     "metadata": {},
     "output_type": "execute_result"
    }
   ],
   "source": [
    "i.shape"
   ]
  },
  {
   "cell_type": "code",
   "execution_count": 57,
   "id": "5499af62-5f7c-4ef0-b4b2-c101c715b9a0",
   "metadata": {},
   "outputs": [
    {
     "data": {
      "text/plain": [
       "(20736,)"
      ]
     },
     "execution_count": 57,
     "metadata": {},
     "output_type": "execute_result"
    }
   ],
   "source": [
    "i.reshape(20736).shape"
   ]
  },
  {
   "cell_type": "code",
   "execution_count": null,
   "id": "e424d91c-e04e-4462-b204-fb62c1812f4d",
   "metadata": {},
   "outputs": [],
   "source": []
  },
  {
   "cell_type": "code",
   "execution_count": null,
   "id": "d904665b-6907-4aa7-b6c8-588345be2aa3",
   "metadata": {},
   "outputs": [],
   "source": [
    "# Attempt to flatten input as alt to re-read input\n",
    "# data structure is reading from gexp original file set"
   ]
  },
  {
   "cell_type": "code",
   "execution_count": 35,
   "id": "fc3b06ac-762e-490a-95a8-86cf2b08a906",
   "metadata": {},
   "outputs": [],
   "source": [
    "tst_flt = X_test_new.reshape(100, 20736).shape"
   ]
  },
  {
   "cell_type": "code",
   "execution_count": 36,
   "id": "30b038db-6f93-4d70-9489-3a430adcdc5b",
   "metadata": {},
   "outputs": [],
   "source": [
    "trn_flt = X_train_new.reshape(299, 20736).shape"
   ]
  },
  {
   "cell_type": "code",
   "execution_count": 37,
   "id": "1ce26627-62bf-4ced-a25e-9cca7894d3f6",
   "metadata": {},
   "outputs": [],
   "source": [
    "tst_frame = pd.DataFrame(tst_flt)"
   ]
  },
  {
   "cell_type": "code",
   "execution_count": 38,
   "id": "731a9f54-46cb-419e-b313-f8af472dd19b",
   "metadata": {},
   "outputs": [],
   "source": [
    "trn_frame = pd.DataFrame(trn_flt)"
   ]
  },
  {
   "cell_type": "code",
   "execution_count": 40,
   "id": "18ae4d32-2c0c-41e9-ac41-d4974b2af1b8",
   "metadata": {},
   "outputs": [],
   "source": [
    "full_data = pd.concat([tst_frame , trn_frame])"
   ]
  },
  {
   "cell_type": "code",
   "execution_count": 41,
   "id": "026edb7c-89b9-4207-b862-f83a3ba7e26e",
   "metadata": {},
   "outputs": [
    {
     "data": {
      "text/html": [
       "<div>\n",
       "<style scoped>\n",
       "    .dataframe tbody tr th:only-of-type {\n",
       "        vertical-align: middle;\n",
       "    }\n",
       "\n",
       "    .dataframe tbody tr th {\n",
       "        vertical-align: top;\n",
       "    }\n",
       "\n",
       "    .dataframe thead th {\n",
       "        text-align: right;\n",
       "    }\n",
       "</style>\n",
       "<table border=\"1\" class=\"dataframe\">\n",
       "  <thead>\n",
       "    <tr style=\"text-align: right;\">\n",
       "      <th></th>\n",
       "      <th>0</th>\n",
       "    </tr>\n",
       "  </thead>\n",
       "  <tbody>\n",
       "    <tr>\n",
       "      <th>0</th>\n",
       "      <td>100</td>\n",
       "    </tr>\n",
       "    <tr>\n",
       "      <th>1</th>\n",
       "      <td>20736</td>\n",
       "    </tr>\n",
       "    <tr>\n",
       "      <th>0</th>\n",
       "      <td>299</td>\n",
       "    </tr>\n",
       "    <tr>\n",
       "      <th>1</th>\n",
       "      <td>20736</td>\n",
       "    </tr>\n",
       "  </tbody>\n",
       "</table>\n",
       "</div>"
      ],
      "text/plain": [
       "       0\n",
       "0    100\n",
       "1  20736\n",
       "0    299\n",
       "1  20736"
      ]
     },
     "execution_count": 41,
     "metadata": {},
     "output_type": "execute_result"
    }
   ],
   "source": [
    "full_data"
   ]
  },
  {
   "cell_type": "code",
   "execution_count": null,
   "id": "57f93785-be80-4cfc-aa56-9a91fa3b18c5",
   "metadata": {},
   "outputs": [],
   "source": [
    "# End flatten fail, go to data structure to get the square wrap function, then reverse it\n",
    "# There is a reshape function in the main"
   ]
  },
  {
   "cell_type": "code",
   "execution_count": null,
   "id": "64e14d14-a47e-49e5-af7f-934cfaab7659",
   "metadata": {},
   "outputs": [],
   "source": []
  }
 ],
 "metadata": {
  "kernelspec": {
   "display_name": "dense_full_env_00",
   "language": "python",
   "name": "dense_full_env_00"
  },
  "language_info": {
   "codemirror_mode": {
    "name": "ipython",
    "version": 3
   },
   "file_extension": ".py",
   "mimetype": "text/x-python",
   "name": "python",
   "nbconvert_exporter": "python",
   "pygments_lexer": "ipython3",
   "version": "3.9.7"
  }
 },
 "nbformat": 4,
 "nbformat_minor": 5
}
