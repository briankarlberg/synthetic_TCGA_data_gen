{
 "cells": [
  {
   "cell_type": "code",
   "execution_count": null,
   "id": "6fd6b5c4-2b85-430d-a58e-66604a8f5ed9",
   "metadata": {},
   "outputs": [],
   "source": [
    "# V2, square model\n",
    "# take data from a_data_structure/blca_brca_flt64_sqrs/MinMax/BLCA_MinMax_X_trn.npy\n",
    "# write decoded samples for inverse_MinMax\n",
    "    # do the inverse MinMax in the UMAP\n",
    "    # write the decoded samples to... loss curves ignored?\n",
    "    # no, those are all pngs\n",
    "    \n",
    "    \n",
    "    # Restart, cvae venv kernel available\n",
    "    # make a new decoded output dir where?\n",
    "    # put into versino control\n",
    "    \n",
    "    #baseline model, benchmark loss with null model\n",
    "    \n",
    "# check where float datatype in i/o, 2Dconv model\n",
    "\n",
    "    # Using the BLCA pre-train, BRCA fine-tine training scheme\n",
    "\n",
    "# read 4 square files\n",
    "    # trn/tst BLCA pretrain cohort\n",
    "        # Test others? - OV? - see intersect_00\n",
    "        # in \n",
    "        '/Users/karlberb/Desktop/RNB00978/sample_count/sample_gen/synthetic_TCGA_data_gen/a_data_structure'\n",
    "        # for the latest 20,5xxk blca, brca feature overlap and micro RNA data devel work\n",
    "        # Get reference queued for pre-train rationale, 2018 TCGA pan-can paper\n",
    "    # trn/tst BRCA\n",
    "    \n",
    "# write decoded sample files, to UMAP"
   ]
  },
  {
   "cell_type": "code",
   "execution_count": 1,
   "id": "d58c20ad-0a6d-4dfe-a8fa-a88ec69c74e6",
   "metadata": {},
   "outputs": [
    {
     "name": "stdout",
     "output_type": "stream",
     "text": [
      "Interactive namespace is empty.\n"
     ]
    }
   ],
   "source": [
    "%whos"
   ]
  },
  {
   "cell_type": "code",
   "execution_count": 42,
   "id": "fc8d279c-1b7d-45fc-8aaa-ebc7a9c00add",
   "metadata": {},
   "outputs": [
    {
     "name": "stdout",
     "output_type": "stream",
     "text": [
      "Variable                 Type          Data/Info\n",
      "------------------------------------------------\n",
      "Conv2D                   type          <class 'keras.layers.conv<...>olutional.conv2d.Conv2D'>\n",
      "Conv2DTranspose          type          <class 'keras.layers.conv<...>anspose.Conv2DTranspose'>\n",
      "Dense                    type          <class 'keras.layers.core.dense.Dense'>\n",
      "Flatten                  type          <class 'keras.layers.reshaping.flatten.Flatten'>\n",
      "Input                    function      <function Input at 0x7f9971c598b0>\n",
      "K                        module        <module 'keras.backend' f<...>ckages/keras/backend.py'>\n",
      "Lambda                   type          <class 'keras.layers.core.lambda_layer.Lambda'>\n",
      "Model                    type          <class 'keras.engine.training.Model'>\n",
      "Reshape                  type          <class 'keras.layers.reshaping.reshape.Reshape'>\n",
      "X_test_new               ndarray       100x144x144x1: 2073600 elems, type `float64`, 16588800 bytes (15.8203125 Mb)\n",
      "X_train_new              ndarray       299x144x144x1: 6200064 elems, type `float64`, 49600512 bytes (47.302734375 Mb)\n",
      "batch_size               int           32\n",
      "binary_crossentropy      function      <function binary_crossentropy at 0x7f9971c1c940>\n",
      "cohort                   str           BLCA, float.64, MinMax\n",
      "compute_latent           function      <function compute_latent at 0x7f995abafd30>\n",
      "conv_shape               tuple         n=4\n",
      "date                     str           2022-10-09\n",
      "decoder                  Functional    <keras.engine.functional.<...>object at 0x7f995acb68e0>\n",
      "decoder_conv             Tensor        Tensor(\"conv2d_transpose_<...>, 144, 1), dtype=float32)\n",
      "decoder_input            Tensor        Tensor(\"input_2:0\", shape<...>one, 100), dtype=float32)\n",
      "encoder                  Functional    <keras.engine.functional.<...>object at 0x7f995acb6f10>\n",
      "encoder_conv             Tensor        Tensor(\"conv2d_1/Relu:0\",<...>, 72, 16), dtype=float32)\n",
      "encoder_input            Tensor        Tensor(\"input_1:0\", shape<...>, 144, 1), dtype=float32)\n",
      "epochs                   int           10\n",
      "full_data                DataFrame            0\\n0    100\\n1  20736\\n0    299\\n1  20736\n",
      "glob                     module        <module 'glob' from '/Use<...>3/lib/python3.9/glob.py'>\n",
      "history                  History       <keras.callbacks.History <...>object at 0x7f995c9e3ee0>\n",
      "img_height               int           144\n",
      "img_width                int           144\n",
      "input_shape              tuple         n=3\n",
      "kl_reconstruction_loss   function      <function kl_reconstructi<...>n_loss at 0x7f995abafdc0>\n",
      "latent_dim               int           100\n",
      "latent_space             Tensor        Tensor(\"lambda/add:0\", sh<...>one, 100), dtype=float32)\n",
      "mu                       Tensor        Tensor(\"dense/BiasAdd:0\",<...>one, 100), dtype=float32)\n",
      "np                       module        <module 'numpy' from '/Us<...>kages/numpy/__init__.py'>\n",
      "num_channels             int           1\n",
      "pd                       module        <module 'pandas' from '/U<...>ages/pandas/__init__.py'>\n",
      "plt                      module        <module 'matplotlib.pyplo<...>es/matplotlib/pyplot.py'>\n",
      "sigma                    Tensor        Tensor(\"dense_1/BiasAdd:0<...>one, 100), dtype=float32)\n",
      "tf                       module        <module 'tensorflow' from<...>/tensorflow/__init__.py'>\n",
      "trn_flt                  tuple         n=2\n",
      "trn_frame                DataFrame            0\\n0    299\\n1  20736\n",
      "tst_flt                  tuple         n=2\n",
      "tst_frame                DataFrame            0\\n0    100\\n1  20736\n",
      "vae                      Functional    <keras.engine.functional.<...>object at 0x7f995acd9df0>\n",
      "version                  str           b_model_02.ipynb\n"
     ]
    }
   ],
   "source": [
    "%whos"
   ]
  },
  {
   "cell_type": "code",
   "execution_count": 2,
   "id": "56b3f149-4ffb-41b2-8eae-68b3f6fea717",
   "metadata": {},
   "outputs": [
    {
     "data": {
      "text/plain": [
       "'/Users/karlberb/Desktop/RNB00978/sample_count/sample_gen/synthetic_TCGA_data_gen/b_model'"
      ]
     },
     "execution_count": 2,
     "metadata": {},
     "output_type": "execute_result"
    }
   ],
   "source": [
    "pwd"
   ]
  },
  {
   "cell_type": "code",
   "execution_count": 1,
   "id": "ef5d7f85-ccbb-46d0-b44c-68bcc1c7d338",
   "metadata": {},
   "outputs": [
    {
     "data": {
      "text/plain": [
       "'/Users/karlberb/Desktop/RNB00978/sample_count/sample_gen/synthetic_TCGA_data_gen/b_model'"
      ]
     },
     "execution_count": 1,
     "metadata": {},
     "output_type": "execute_result"
    }
   ],
   "source": [
    "pwd"
   ]
  },
  {
   "cell_type": "code",
   "execution_count": null,
   "id": "dc66becb-867e-4b50-ab20-55856459823f",
   "metadata": {},
   "outputs": [],
   "source": [
    "notes for a_data_structure # deleted in version 3 for 1D devel\n",
    "Put miRNA prep\n",
    "    Also redo gexp\n",
    "    Apply intersection code to mir\n",
    "\n",
    "    go back to full expression set\n",
    "    /Users/karlberb/work/sample_count/smpl_gen/intrsct (gexp)\n",
    "\n",
    "    get inrsct template code into a_data_structure"
   ]
  },
  {
   "cell_type": "code",
   "execution_count": null,
   "id": "8d9e42e7-29b4-4714-8241-69959e82dbc1",
   "metadata": {},
   "outputs": [],
   "source": [
    "# Side notes, non-functional API TF CVAE example"
   ]
  },
  {
   "cell_type": "code",
   "execution_count": 3,
   "id": "b0496b8f-9d4f-4065-906c-89f412290f9e",
   "metadata": {},
   "outputs": [
    {
     "name": "stderr",
     "output_type": "stream",
     "text": [
      "2022-10-11 08:51:08.157116: I tensorflow/core/platform/cpu_feature_guard.cc:193] This TensorFlow binary is optimized with oneAPI Deep Neural Network Library (oneDNN) to use the following CPU instructions in performance-critical operations:  AVX2 FMA\n",
      "To enable them in other operations, rebuild TensorFlow with the appropriate compiler flags.\n"
     ]
    }
   ],
   "source": [
    "import glob # Restart v2, template for square model series\n",
    "import tensorflow as tf\n",
    "import numpy as np\n",
    "import pandas as pd\n",
    "import tensorflow as tf"
   ]
  },
  {
   "cell_type": "code",
   "execution_count": 4,
   "id": "0a559dc2-6c5c-4464-83c5-896e25695c96",
   "metadata": {},
   "outputs": [],
   "source": [
    "# No, want full gexp, this is intersection\n",
    "file_set = sorted(glob.glob('/Users/karlberb/work/sample_count/smpl_gen/intrsct/*'))"
   ]
  },
  {
   "cell_type": "code",
   "execution_count": 5,
   "id": "389469cd-1b73-482e-8883-8ffa2ecd5c88",
   "metadata": {},
   "outputs": [
    {
     "name": "stdout",
     "output_type": "stream",
     "text": [
      "1Dconv_devel.ipynb      b_model_01.ipynb        cvae.txt\n",
      "README.txt              b_model_02.ipynb        \u001b[34mloss_curves_ignored\u001b[m\u001b[m/\n",
      "b_model_01-Copy1.ipynb  b_model_03.ipynb\n"
     ]
    }
   ],
   "source": [
    "ls # v2 restart"
   ]
  },
  {
   "cell_type": "code",
   "execution_count": 4,
   "id": "100c6f3f-8b0c-4864-b02d-850004372ef2",
   "metadata": {},
   "outputs": [
    {
     "name": "stdout",
     "output_type": "stream",
     "text": [
      "README.txt              b_model_01.ipynb\n",
      "b_model_01-Copy1.ipynb  \u001b[34mloss_curves_ignored\u001b[m\u001b[m/\n"
     ]
    }
   ],
   "source": [
    "ls # send loss curve pngs to this ignore"
   ]
  },
  {
   "cell_type": "code",
   "execution_count": null,
   "id": "2606f779-dbc5-4b4e-bb5e-993f3b378059",
   "metadata": {},
   "outputs": [],
   "source": [
    "# Check the float.64 dtype\n",
    "# to a 2D layer, already built model with loss function\n",
    "# parallel devel on sequenintial model, use debugging tools in \n",
    "# that API"
   ]
  },
  {
   "cell_type": "code",
   "execution_count": null,
   "id": "b16bc9fa-792a-4f96-a759-cab1c5a92465",
   "metadata": {},
   "outputs": [],
   "source": [
    "# Get original data - \n",
    "# Run direct on float.64, 2Dconv layer with data type specced or inferred"
   ]
  },
  {
   "cell_type": "code",
   "execution_count": null,
   "id": "4e9ca1c5-d923-40f8-aa80-13010862efb6",
   "metadata": {},
   "outputs": [],
   "source": [
    "# kernel check, tf_venv_a"
   ]
  },
  {
   "cell_type": "code",
   "execution_count": 6,
   "id": "3bfb1a29-4ba9-489b-bda2-7911f580a660",
   "metadata": {},
   "outputs": [
    {
     "data": {
      "text/plain": [
       "'2.10.0'"
      ]
     },
     "execution_count": 6,
     "metadata": {},
     "output_type": "execute_result"
    }
   ],
   "source": [
    "tf.__version__ # good"
   ]
  },
  {
   "cell_type": "code",
   "execution_count": null,
   "id": "1420b945-0d08-4cd4-a13f-d21199532a82",
   "metadata": {},
   "outputs": [],
   "source": [
    "# This is v2 restart template for square model"
   ]
  },
  {
   "cell_type": "code",
   "execution_count": 7,
   "id": "168ece02-df7a-4585-83c7-b031d023fb48",
   "metadata": {},
   "outputs": [
    {
     "name": "stdout",
     "output_type": "stream",
     "text": [
      "README.md          \u001b[34mc_latent_sampling\u001b[m\u001b[m/ \u001b[34me_classification\u001b[m\u001b[m/\n",
      "\u001b[34ma_data_structure\u001b[m\u001b[m/  \u001b[34mcvae_venv\u001b[m\u001b[m/         \u001b[34mf_archive\u001b[m\u001b[m/\n",
      "\u001b[34mb_model\u001b[m\u001b[m/           \u001b[34md_UMAP\u001b[m\u001b[m/            \u001b[34mg_devel\u001b[m\u001b[m/\n"
     ]
    }
   ],
   "source": [
    "ls .. # added the tf core model venv, building own model"
   ]
  },
  {
   "cell_type": "code",
   "execution_count": 22,
   "id": "dd726c47-5b06-4bb5-8514-80d55c69a1e5",
   "metadata": {},
   "outputs": [
    {
     "name": "stdout",
     "output_type": "stream",
     "text": [
      "README.md          \u001b[34mb_model\u001b[m\u001b[m/           \u001b[34md_UMAP\u001b[m\u001b[m/            \u001b[34mf_archive\u001b[m\u001b[m/\n",
      "\u001b[34ma_data_structure\u001b[m\u001b[m/  \u001b[34mc_latent_sampling\u001b[m\u001b[m/ \u001b[34me_classification\u001b[m\u001b[m/  \u001b[34mg_devel\u001b[m\u001b[m/\n"
     ]
    }
   ],
   "source": [
    "ls .."
   ]
  },
  {
   "cell_type": "code",
   "execution_count": null,
   "id": "062b3473-4efa-4159-90dd-2a0db5f0559e",
   "metadata": {},
   "outputs": [],
   "source": [
    "# Data files (flt64 sqrs)\n",
    "# generated and kept here, this is version controlled now"
   ]
  },
  {
   "cell_type": "markdown",
   "id": "d2457624-5eff-4155-b86d-46018885ae0e",
   "metadata": {},
   "source": [
    "# Data input for this square model - float 64 squares"
   ]
  },
  {
   "cell_type": "code",
   "execution_count": 5,
   "id": "bb8c1cdd-c632-444e-ba3e-f4448aeb7d2b",
   "metadata": {},
   "outputs": [
    {
     "name": "stdout",
     "output_type": "stream",
     "text": [
      "a_data_structure_00-Copy1.ipynb  intersect_00.ipynb\n",
      "a_data_structure_00.ipynb        intersect_template.ipynb\n",
      "a_data_structure_01.ipynb        \u001b[34mmir_files\u001b[m\u001b[m/\n",
      "a_data_structure_02.ipynb        \u001b[34mmir_intrsct\u001b[m\u001b[m/\n",
      "\u001b[34mblca_brca_flt64_sqrs\u001b[m\u001b[m/\n"
     ]
    }
   ],
   "source": [
    "ls ../a_data_structure/"
   ]
  },
  {
   "cell_type": "code",
   "execution_count": 23,
   "id": "e237470a-d62c-4d7c-836b-1cf29d746734",
   "metadata": {},
   "outputs": [
    {
     "name": "stdout",
     "output_type": "stream",
     "text": [
      "a_data_structure_00-Copy1.ipynb  brca_full_flt64_X_tst.npy\n",
      "a_data_structure_00.ipynb        brca_full_flt64_y_trn.tsv\n",
      "\u001b[34mblca_brca_square_full\u001b[m\u001b[m/           brca_full_flt64_y_tst.tsv\n",
      "blca_full_flt64_X_trn.npy        intersect_00.ipynb\n",
      "blca_full_flt64_X_tst.npy        intersect_template.ipynb\n",
      "blca_full_flt64_y_trn.tsv        \u001b[34mmir_files\u001b[m\u001b[m/\n",
      "blca_full_flt64_y_tst.tsv        \u001b[34mmir_intrsct\u001b[m\u001b[m/\n",
      "brca_full_flt64_X_trn.npy\n"
     ]
    }
   ],
   "source": [
    "ls ../a_data_structure/ # v1, version control data fail\n",
    "\n",
    "# * Fixed with ignore feature on github desktop"
   ]
  },
  {
   "cell_type": "code",
   "execution_count": null,
   "id": "442a3841-f40a-40de-8343-643a22171aec",
   "metadata": {},
   "outputs": [],
   "source": [
    "# Pre-train with Bladder, paths set for v2"
   ]
  },
  {
   "cell_type": "code",
   "execution_count": null,
   "id": "aac70f68-1e36-4a70-897d-abeeb129bb6a",
   "metadata": {},
   "outputs": [],
   "source": [
    "# Check file names, automating plots and everything for next sqaure and 1D\n",
    "# versions"
   ]
  },
  {
   "cell_type": "code",
   "execution_count": 9,
   "id": "2393dac3-d345-496f-b4e6-82ba3ca4a5d5",
   "metadata": {},
   "outputs": [],
   "source": [
    "# Read bladder square array\n",
    "X_train_new = np.load(\n",
    "    '/Users/karlberb/Desktop/RNB00978/sample_count/sample_gen/synthetic_TCGA_data_gen/a_data_structure/blca_brca_flt64_sqrs/MinMax/BLCA_MinMax_X_trn.npy')"
   ]
  },
  {
   "cell_type": "code",
   "execution_count": 10,
   "id": "6fec434e-b023-4d77-83dc-7e261b8af69b",
   "metadata": {},
   "outputs": [],
   "source": [
    "X_test_new = np.load(\n",
    "    '/Users/karlberb/Desktop/RNB00978/sample_count/sample_gen/synthetic_TCGA_data_gen/a_data_structure/blca_brca_flt64_sqrs/MinMax/BLCA_MinMax_X_tst.npy')"
   ]
  },
  {
   "cell_type": "code",
   "execution_count": null,
   "id": "9f54ba21-1461-4cbc-af26-1b8d70bf506d",
   "metadata": {},
   "outputs": [],
   "source": [
    "# Fine-tune, skip, rapid return for second UMAP"
   ]
  },
  {
   "cell_type": "code",
   "execution_count": null,
   "id": "922ac253-766f-44c3-923f-eb3518b08e2d",
   "metadata": {},
   "outputs": [],
   "source": [
    "X_train_new = np.load(\n",
    "    '/Users/karlberb/work/sample_count/smpl_gen/image_gen/nb_A_data_out/BRCA_sqr_trn.npy')"
   ]
  },
  {
   "cell_type": "code",
   "execution_count": null,
   "id": "8f4b5ad2-90ee-4082-856f-7dc2a620a210",
   "metadata": {},
   "outputs": [],
   "source": [
    "X_test_new = np.load(\n",
    "    '/Users/karlberb/work/sample_count/smpl_gen/image_gen/nb_A_data_out/BRCA_sqr_tst.npy')"
   ]
  },
  {
   "cell_type": "code",
   "execution_count": 11,
   "id": "7bf81b11-5b97-4892-91d0-7f7c0518ef36",
   "metadata": {},
   "outputs": [
    {
     "data": {
      "text/plain": [
       "(299, 144, 144, 1)"
      ]
     },
     "execution_count": 11,
     "metadata": {},
     "output_type": "execute_result"
    }
   ],
   "source": [
    "X_train_new.shape"
   ]
  },
  {
   "cell_type": "code",
   "execution_count": 12,
   "id": "ebe4c30e-7df4-4fca-b447-04f7be09d200",
   "metadata": {},
   "outputs": [
    {
     "data": {
      "text/plain": [
       "(100, 144, 144, 1)"
      ]
     },
     "execution_count": 12,
     "metadata": {},
     "output_type": "execute_result"
    }
   ],
   "source": [
    "X_test_new.shape"
   ]
  },
  {
   "cell_type": "code",
   "execution_count": 10,
   "id": "fe33c629-1ae3-47a7-aeb8-a5b084aabe4a",
   "metadata": {},
   "outputs": [
    {
     "data": {
      "text/plain": [
       "20736"
      ]
     },
     "execution_count": 10,
     "metadata": {},
     "output_type": "execute_result"
    }
   ],
   "source": [
    "144*144"
   ]
  },
  {
   "cell_type": "code",
   "execution_count": 9,
   "id": "1035d732-6da2-45da-afb5-05c358cb3af4",
   "metadata": {},
   "outputs": [
    {
     "data": {
      "text/plain": [
       "(299, 144, 144, 1)"
      ]
     },
     "execution_count": 9,
     "metadata": {},
     "output_type": "execute_result"
    }
   ],
   "source": [
    "X_train_new.shape"
   ]
  },
  {
   "cell_type": "code",
   "execution_count": 13,
   "id": "4c580379-6a7c-4c7e-90d8-6851e5c5dade",
   "metadata": {},
   "outputs": [
    {
     "name": "stdout",
     "output_type": "stream",
     "text": [
      "libraries done\n",
      "model built\n"
     ]
    }
   ],
   "source": [
    "# Float.64 on 2Dconv run\n",
    "\n",
    "# Build an image VAE with Keras\n",
    "# Uses X_train_new object in memory to set layer dimensions\n",
    "# from https://becominghuman.ai/using-variational-autoencoder-vae-to-generate-new-images-14328877e88d\n",
    "\n",
    "latent_dim = 100\n",
    "\n",
    "import numpy as np\n",
    "import matplotlib.pyplot as plt\n",
    "import tensorflow as tf; tf.compat.v1.disable_eager_execution()\n",
    "from keras import backend as K\n",
    "from keras.layers import (Input, # want float.64 to go into this object\n",
    "                          # error point, data already converted to UINT8 - fixed with \n",
    "                          # sample_gen/synthetic_TCGA_data_gen/a_data_structure/a_data_structure_00.ipynb\n",
    " Dense, Conv2D, Conv2DTranspose, Flatten, Lambda, Reshape)\n",
    "from keras.models import Model\n",
    "from keras.losses import binary_crossentropy\n",
    "\n",
    "print('libraries done')\n",
    "\n",
    "np.random.seed(25)\n",
    "tf.executing_eagerly()\n",
    "\n",
    "def compute_latent(x):\n",
    "    batch = K.shape(mu)[0] # mu and sigma defined after encoder is built\n",
    "    dim = K.int_shape(mu)[1]\n",
    "    eps = K.random_normal(shape=(batch,dim))\n",
    "    return mu + K.exp(sigma/2)*eps\n",
    "\n",
    "def kl_reconstruction_loss(true, pred):\n",
    "    reconstruction_loss = binary_crossentropy(K.flatten(true), K.flatten(pred)) * img_width * img_height\n",
    "    kl_loss = 1 + sigma - K.square(mu) - K.exp(sigma) # mu and sigma input to loss function\n",
    "    kl_loss = K.sum(kl_loss, axis=-1)\n",
    "    kl_loss *= -0.5\n",
    "    return K.mean(reconstruction_loss + kl_loss)\n",
    "\n",
    "img_height   = X_train_new.shape[1]\n",
    "img_width    = X_train_new.shape[2]\n",
    "num_channels = X_train_new.shape[3]\n",
    "input_shape =  (img_height, img_width, num_channels)\n",
    "\n",
    "encoder_input = Input(shape=input_shape)\n",
    "encoder_conv = Conv2D(filters=8, kernel_size=3, strides=2, \n",
    "                padding='same', activation='relu')(encoder_input)\n",
    "encoder_conv = Conv2D(filters=16, kernel_size=3, strides=2,\n",
    "                padding='same', activation='relu')(encoder_input) # Overwrite (?)\n",
    "encoder = Flatten()(encoder_conv)                                 # see model.summary() in slides\n",
    "\n",
    "mu = Dense(latent_dim)(encoder)     # mu defined\n",
    "sigma = Dense(latent_dim)(encoder)  # sigma defined\n",
    "                                                                # 2 args to compute lambda\n",
    "latent_space = Lambda(compute_latent, output_shape=(latent_dim,))([mu, sigma])\n",
    "                    \n",
    "conv_shape = K.int_shape(encoder_conv)\n",
    "decoder_input = Input(shape=(latent_dim,))\n",
    "decoder = Dense(conv_shape[1]*conv_shape[2]*conv_shape[3], activation='relu')(decoder_input)\n",
    "decoder = Reshape((conv_shape[1], conv_shape[2], conv_shape[3]))(decoder)\n",
    "decoder_conv = Conv2DTranspose(filters=16, kernel_size=3, strides=2, \n",
    "                           padding='same', activation='relu')(decoder)\n",
    "decoder_conv = Conv2DTranspose(filters=8, kernel_size=3, strides=2, \n",
    "                           padding='same', activation='relu')(decoder)\n",
    "decoder_conv =  Conv2DTranspose(filters=num_channels, kernel_size=3, \n",
    "                          padding='same', activation='sigmoid')(decoder_conv)\n",
    "encoder = Model(encoder_input, latent_space)\n",
    "decoder = Model(decoder_input, decoder_conv)\n",
    "vae = Model(encoder_input, decoder(encoder(encoder_input)))\n",
    "vae.compile(optimizer='adam', loss=kl_reconstruction_loss)  # blank model set for (pre)training\n",
    "print('model built')"
   ]
  },
  {
   "cell_type": "code",
   "execution_count": null,
   "id": "d1a435da-f2b2-4b23-a0b7-ae136d983ecf",
   "metadata": {},
   "outputs": [],
   "source": [
    "# Alot of memory use, put the unwrapping code in the UMAP module, d (4/5)"
   ]
  },
  {
   "cell_type": "code",
   "execution_count": 14,
   "id": "b3d3377f-0132-4694-8eac-08857ade594e",
   "metadata": {},
   "outputs": [
    {
     "ename": "AttributeError",
     "evalue": "module 'tensorflow' has no attribute 'utils'",
     "output_type": "error",
     "traceback": [
      "\u001b[0;31m---------------------------------------------------------------------------\u001b[0m",
      "\u001b[0;31mAttributeError\u001b[0m                            Traceback (most recent call last)",
      "Cell \u001b[0;32mIn [14], line 1\u001b[0m\n\u001b[0;32m----> 1\u001b[0m tf\u001b[38;5;241m.\u001b[39mutils\u001b[38;5;241m.\u001b[39mplot_model(encoder)\n",
      "\u001b[0;31mAttributeError\u001b[0m: module 'tensorflow' has no attribute 'utils'"
     ]
    }
   ],
   "source": [
    "tf.utils.plot_model(encoder) # fix, put to sample code\n",
    "\n",
    "# Run a better kernel next time, at least dense 00"
   ]
  },
  {
   "cell_type": "code",
   "execution_count": 15,
   "id": "27c56243-05f0-4f06-83b0-9541cf6656e2",
   "metadata": {},
   "outputs": [],
   "source": [
    "epochs = 10"
   ]
  },
  {
   "cell_type": "code",
   "execution_count": 16,
   "id": "2ac6a6a9-5798-420f-8476-0bf0984d4206",
   "metadata": {},
   "outputs": [],
   "source": [
    "cohort = 'BLCA, float.64, MinMax'"
   ]
  },
  {
   "cell_type": "code",
   "execution_count": 17,
   "id": "7191fb2f-da91-4aff-a381-30e493ce381c",
   "metadata": {},
   "outputs": [],
   "source": [
    "version = 'b_model_02.ipynb'"
   ]
  },
  {
   "cell_type": "code",
   "execution_count": 18,
   "id": "1301e4bf-f931-4e37-9767-1ee2aefab777",
   "metadata": {},
   "outputs": [],
   "source": [
    "date = '2022-10-11' # tuesday"
   ]
  },
  {
   "cell_type": "code",
   "execution_count": 12,
   "id": "6116accb-9423-402d-ae80-7297cac0257e",
   "metadata": {},
   "outputs": [
    {
     "name": "stdout",
     "output_type": "stream",
     "text": [
      "README.txt              b_model_01.ipynb\n",
      "b_model_01-Copy1.ipynb  \u001b[34mloss_curves_ignored\u001b[m\u001b[m/\n"
     ]
    }
   ],
   "source": [
    "ls"
   ]
  },
  {
   "cell_type": "code",
   "execution_count": 19,
   "id": "5844e256-de77-4542-a848-571f31162d80",
   "metadata": {},
   "outputs": [],
   "source": [
    "batch_size = 32 # note in tf cvae re batch normalization"
   ]
  },
  {
   "cell_type": "code",
   "execution_count": null,
   "id": "363478f9-ca7a-4f3f-b951-df41142bd81a",
   "metadata": {},
   "outputs": [],
   "source": []
  },
  {
   "cell_type": "code",
   "execution_count": 20,
   "id": "5d00d395-11b2-4ea3-bc81-db4de9de4150",
   "metadata": {},
   "outputs": [
    {
     "name": "stdout",
     "output_type": "stream",
     "text": [
      "Train on 299 samples, validate on 100 samples\n",
      "Epoch 1/10\n"
     ]
    },
    {
     "name": "stderr",
     "output_type": "stream",
     "text": [
      "2022-10-11 09:08:55.836463: I tensorflow/core/platform/cpu_feature_guard.cc:193] This TensorFlow binary is optimized with oneAPI Deep Neural Network Library (oneDNN) to use the following CPU instructions in performance-critical operations:  AVX2 FMA\n",
      "To enable them in other operations, rebuild TensorFlow with the appropriate compiler flags.\n",
      "2022-10-11 09:08:55.862410: I tensorflow/compiler/mlir/mlir_graph_optimization_pass.cc:354] MLIR V1 optimization pass is not enabled\n"
     ]
    },
    {
     "name": "stdout",
     "output_type": "stream",
     "text": [
      "299/299 [==============================] - ETA: 0s - loss: 11784.7195"
     ]
    },
    {
     "name": "stderr",
     "output_type": "stream",
     "text": [
      "/Users/karlberb/Desktop/RNB00978/sample_count/tf_venv_a/lib/python3.9/site-packages/keras/engine/training_v1.py:2332: UserWarning: `Model.state_updates` will be removed in a future version. This property should not be used in TensorFlow 2.0, as `updates` are applied automatically.\n",
      "  updates = self.state_updates\n"
     ]
    },
    {
     "name": "stdout",
     "output_type": "stream",
     "text": [
      "299/299 [==============================] - 3s 11ms/sample - loss: 11784.7195 - val_loss: 9889.6423\n",
      "Epoch 2/10\n",
      "299/299 [==============================] - 2s 8ms/sample - loss: 8250.2747 - val_loss: 9145.3437\n",
      "Epoch 3/10\n",
      "299/299 [==============================] - 2s 8ms/sample - loss: 7645.3598 - val_loss: 9636.0166\n",
      "Epoch 4/10\n",
      "299/299 [==============================] - 2s 8ms/sample - loss: 7502.8886 - val_loss: 8969.7900\n",
      "Epoch 5/10\n",
      "299/299 [==============================] - 3s 9ms/sample - loss: 7418.1887 - val_loss: 9388.8457\n",
      "Epoch 6/10\n",
      "299/299 [==============================] - 3s 8ms/sample - loss: 7360.5026 - val_loss: 9007.7033\n",
      "Epoch 7/10\n",
      "299/299 [==============================] - 3s 9ms/sample - loss: 7323.4886 - val_loss: 8901.4873\n",
      "Epoch 8/10\n",
      "299/299 [==============================] - 3s 9ms/sample - loss: 7278.1939 - val_loss: 9020.4723\n",
      "Epoch 9/10\n",
      "299/299 [==============================] - 3s 10ms/sample - loss: 7228.7217 - val_loss: 8936.6662\n",
      "Epoch 10/10\n",
      "299/299 [==============================] - 3s 9ms/sample - loss: 7189.5626 - val_loss: 8811.7791\n"
     ]
    },
    {
     "data": {
      "image/png": "[encoded data removed]",
      "text/plain": [
       "<Figure size 640x480 with 1 Axes>"
      ]
     },
     "metadata": {},
     "output_type": "display_data"
    }
   ],
   "source": [
    "\n",
    "history = vae.fit(x=X_train_new, y=X_train_new, epochs=epochs,\n",
    "                  batch_size=batch_size, # why is this set to 32?\n",
    "                  validation_data=(X_test_new, X_test_new))\n",
    "\n",
    "plt.plot(history.history['loss'],label=\"loss\")\n",
    "plt.plot(history.history['val_loss'],label=\"val_loss\")\n",
    "plt.title('VAE embedding loss, '+cohort+' pre-train\\n'+\n",
    "\n",
    "          # file.index.name+', burn-in, n = 495'+\n",
    "\n",
    "          '2D conv, latent dim = '+str(latent_dim))\n",
    "plt.xlabel('Epoch')\n",
    "plt.ylabel('Loss')\n",
    "plt.annotate('test_fraction = .25',\n",
    "            xy=(.4, .8), xycoords='figure fraction',\n",
    "            horizontalalignment='left', verticalalignment='top',\n",
    "            # fontsize=20\n",
    "            )\n",
    "\n",
    "plt.legend(loc=\"lower left\")\n",
    "# plt.savefig('dir_n/cohort_n'+str(epochs)+'_epochs_2022-08-date_version.png')\n",
    "plt.savefig('loss_curves_ignored/'+cohort+'_pretrain_'+\n",
    "\n",
    "            # file.index.name+\n",
    "            # '_brn_n_'+str(len(brca_burn_in))+'_'+\n",
    "\n",
    "            str(epochs)+'_epochs_'+\n",
    "            str(latent_dim)+'_latent_dim_'+\n",
    "            date+'_'+version+'_r0.png')"
   ]
  },
  {
   "cell_type": "code",
   "execution_count": null,
   "id": "94269855-970f-4b86-a539-e3d0d4900ea3",
   "metadata": {},
   "outputs": [],
   "source": [
    "# Encode and decode train, val independently"
   ]
  },
  {
   "cell_type": "code",
   "execution_count": 21,
   "id": "fe52c110-f179-46ba-a070-81b46ef1e2c6",
   "metadata": {},
   "outputs": [
    {
     "name": "stderr",
     "output_type": "stream",
     "text": [
      "/Users/karlberb/Desktop/RNB00978/sample_count/tf_venv_a/lib/python3.9/site-packages/keras/engine/training_v1.py:2356: UserWarning: `Model.state_updates` will be removed in a future version. This property should not be used in TensorFlow 2.0, as `updates` are applied automatically.\n",
      "  updates=self.state_updates,\n"
     ]
    }
   ],
   "source": [
    "tst_ltnt = encoder.predict(X_test_new)"
   ]
  },
  {
   "cell_type": "code",
   "execution_count": 22,
   "id": "bdb0eea2-7a20-4bf1-8a58-e44e8567d992",
   "metadata": {},
   "outputs": [],
   "source": [
    "trn_ltnt = encoder.predict(X_train_new)"
   ]
  },
  {
   "cell_type": "code",
   "execution_count": 23,
   "id": "67b2e16b-a367-4aa0-b02b-bc7cf235aaf3",
   "metadata": {},
   "outputs": [],
   "source": [
    "tst_dec = decoder.predict(tst_ltnt)"
   ]
  },
  {
   "cell_type": "code",
   "execution_count": 24,
   "id": "1a5e6f60-b2db-4246-a892-49f006daf7da",
   "metadata": {},
   "outputs": [],
   "source": [
    "trn_dec = decoder.predict(trn_ltnt)"
   ]
  },
  {
   "cell_type": "code",
   "execution_count": null,
   "id": "e673b1a4-e66c-425d-9907-64e367b87363",
   "metadata": {},
   "outputs": [],
   "source": [
    "# template array save\n",
    "np.save(\n",
    "    'blca_brca_flt64_sqrs/MinMax/'+file.index.name+'_MinMax_X_trn',\n",
    "    X_train_new)"
   ]
  },
  {
   "cell_type": "code",
   "execution_count": 30,
   "id": "cc59922a-6cb0-488b-bd2b-54a50c8c5aea",
   "metadata": {},
   "outputs": [
    {
     "data": {
      "text/plain": [
       "(299, 144, 144, 1)"
      ]
     },
     "execution_count": 30,
     "metadata": {},
     "output_type": "execute_result"
    }
   ],
   "source": [
    "trn_dec.shape"
   ]
  },
  {
   "cell_type": "code",
   "execution_count": 32,
   "id": "9f5c5a7c-2752-4179-a933-e36220b045e0",
   "metadata": {},
   "outputs": [],
   "source": [
    "np.save(\n",
    "    'dec_out_ignrd/'+cohort+'_'+date+'_decoded_train',\n",
    "    trn_dec)"
   ]
  },
  {
   "cell_type": "code",
   "execution_count": 33,
   "id": "d612afc4-6da9-4f84-a82b-410f8c816f58",
   "metadata": {},
   "outputs": [],
   "source": [
    "np.save(\n",
    "    'dec_out_ignrd/'+cohort+'_'+date+'_decoded_test',\n",
    "    tst_dec)"
   ]
  },
  {
   "cell_type": "code",
   "execution_count": 25,
   "id": "ec15c4f6-45a4-475a-9096-332af97895d1",
   "metadata": {},
   "outputs": [
    {
     "data": {
      "text/plain": [
       "'/Users/karlberb/Desktop/RNB00978/sample_count/sample_gen/synthetic_TCGA_data_gen/b_model'"
      ]
     },
     "execution_count": 25,
     "metadata": {},
     "output_type": "execute_result"
    }
   ],
   "source": [
    "pwd"
   ]
  },
  {
   "cell_type": "code",
   "execution_count": 28,
   "id": "8de50bfd-4f47-4316-99f1-43f14da72789",
   "metadata": {},
   "outputs": [
    {
     "name": "stdout",
     "output_type": "stream",
     "text": [
      "1Dconv_devel.ipynb      b_model_01.ipynb        cvae.txt\n",
      "README.txt              b_model_02.ipynb        \u001b[34mdec_out_ignrd\u001b[m\u001b[m/\n",
      "b_model_01-Copy1.ipynb  b_model_03.ipynb        \u001b[34mloss_curves_ignored\u001b[m\u001b[m/\n"
     ]
    }
   ],
   "source": [
    "ls"
   ]
  },
  {
   "cell_type": "code",
   "execution_count": 27,
   "id": "c8b5d229-4f5d-4dd6-bb13-63820058de79",
   "metadata": {},
   "outputs": [],
   "source": [
    "mkdir dec_out_ignrd"
   ]
  },
  {
   "cell_type": "code",
   "execution_count": null,
   "id": "43b98585-4946-4c14-b00c-2807ce40e0fa",
   "metadata": {},
   "outputs": [],
   "source": [
    "# Original flattening attempt for the UMAP"
   ]
  },
  {
   "cell_type": "code",
   "execution_count": 48,
   "id": "f316b322-5c59-4ca8-a602-f913bb6cae1a",
   "metadata": {},
   "outputs": [
    {
     "data": {
      "text/plain": [
       "(100, 144, 144, 1)"
      ]
     },
     "execution_count": 48,
     "metadata": {},
     "output_type": "execute_result"
    }
   ],
   "source": [
    "tst_dec.shape"
   ]
  },
  {
   "cell_type": "code",
   "execution_count": 51,
   "id": "30c82f3d-175f-4cdd-a409-62b634c4df3b",
   "metadata": {},
   "outputs": [
    {
     "ename": "TypeError",
     "evalue": "flatten() takes from 0 to 1 positional arguments but 2 were given",
     "output_type": "error",
     "traceback": [
      "\u001b[0;31m---------------------------------------------------------------------------\u001b[0m",
      "\u001b[0;31mTypeError\u001b[0m                                 Traceback (most recent call last)",
      "Cell \u001b[0;32mIn [51], line 1\u001b[0m\n\u001b[0;32m----> 1\u001b[0m tst_dec\u001b[38;5;241m.\u001b[39mflatten(\u001b[38;5;241m100\u001b[39m,\u001b[38;5;241m20532\u001b[39m)\n",
      "\u001b[0;31mTypeError\u001b[0m: flatten() takes from 0 to 1 positional arguments but 2 were given"
     ]
    }
   ],
   "source": [
    "tst_dec.flatten(100,20532)"
   ]
  },
  {
   "cell_type": "code",
   "execution_count": 53,
   "id": "e23bc7c8-1e12-41f1-9212-a3f319b8f817",
   "metadata": {},
   "outputs": [
    {
     "data": {
      "text/plain": [
       "array([0.16375491, 0.1794188 , 0.20635223, ..., 0.01227512, 0.0133549 ,\n",
       "       0.01111129], dtype=float32)"
      ]
     },
     "execution_count": 53,
     "metadata": {},
     "output_type": "execute_result"
    }
   ],
   "source": [
    "tst_dec[0].reshape(20736)"
   ]
  },
  {
   "cell_type": "code",
   "execution_count": null,
   "id": "b35e06cd-39d2-465e-9155-d6fece8de622",
   "metadata": {},
   "outputs": [],
   "source": [
    "# train and test are dataframes split off from the original read-in\n",
    "# file, want to put the decoded arrays to dataframe as to send to UMAP"
   ]
  },
  {
   "cell_type": "code",
   "execution_count": null,
   "id": "40e05d0b-6655-43bf-8f09-6958f4ea2f39",
   "metadata": {},
   "outputs": [],
   "source": [
    "# re-running"
   ]
  },
  {
   "cell_type": "code",
   "execution_count": 54,
   "id": "6af6391f-3b57-4005-92b7-68ff712160c2",
   "metadata": {},
   "outputs": [],
   "source": [
    "stor = \n",
    "for i in tst_dec:\n",
    "    break"
   ]
  },
  {
   "cell_type": "code",
   "execution_count": 56,
   "id": "beacad0c-2b35-4edf-ad65-1ccdf9a29727",
   "metadata": {},
   "outputs": [
    {
     "data": {
      "text/plain": [
       "(144, 144, 1)"
      ]
     },
     "execution_count": 56,
     "metadata": {},
     "output_type": "execute_result"
    }
   ],
   "source": [
    "i.shape"
   ]
  },
  {
   "cell_type": "code",
   "execution_count": 57,
   "id": "5499af62-5f7c-4ef0-b4b2-c101c715b9a0",
   "metadata": {},
   "outputs": [
    {
     "data": {
      "text/plain": [
       "(20736,)"
      ]
     },
     "execution_count": 57,
     "metadata": {},
     "output_type": "execute_result"
    }
   ],
   "source": [
    "i.reshape(20736).shape"
   ]
  },
  {
   "cell_type": "code",
   "execution_count": null,
   "id": "e424d91c-e04e-4462-b204-fb62c1812f4d",
   "metadata": {},
   "outputs": [],
   "source": []
  },
  {
   "cell_type": "code",
   "execution_count": null,
   "id": "d904665b-6907-4aa7-b6c8-588345be2aa3",
   "metadata": {},
   "outputs": [],
   "source": [
    "# Attempt to flatten input as alt to re-read input\n",
    "# data structure is reading from gexp original file set"
   ]
  },
  {
   "cell_type": "code",
   "execution_count": 35,
   "id": "fc3b06ac-762e-490a-95a8-86cf2b08a906",
   "metadata": {},
   "outputs": [],
   "source": [
    "tst_flt = X_test_new.reshape(100, 20736).shape"
   ]
  },
  {
   "cell_type": "code",
   "execution_count": 36,
   "id": "30b038db-6f93-4d70-9489-3a430adcdc5b",
   "metadata": {},
   "outputs": [],
   "source": [
    "trn_flt = X_train_new.reshape(299, 20736).shape"
   ]
  },
  {
   "cell_type": "code",
   "execution_count": 37,
   "id": "1ce26627-62bf-4ced-a25e-9cca7894d3f6",
   "metadata": {},
   "outputs": [],
   "source": [
    "tst_frame = pd.DataFrame(tst_flt)"
   ]
  },
  {
   "cell_type": "code",
   "execution_count": 38,
   "id": "731a9f54-46cb-419e-b313-f8af472dd19b",
   "metadata": {},
   "outputs": [],
   "source": [
    "trn_frame = pd.DataFrame(trn_flt)"
   ]
  },
  {
   "cell_type": "code",
   "execution_count": 40,
   "id": "18ae4d32-2c0c-41e9-ac41-d4974b2af1b8",
   "metadata": {},
   "outputs": [],
   "source": [
    "full_data = pd.concat([tst_frame , trn_frame])"
   ]
  },
  {
   "cell_type": "code",
   "execution_count": 41,
   "id": "026edb7c-89b9-4207-b862-f83a3ba7e26e",
   "metadata": {},
   "outputs": [
    {
     "data": {
      "text/html": [
       "<div>\n",
       "<style scoped>\n",
       "    .dataframe tbody tr th:only-of-type {\n",
       "        vertical-align: middle;\n",
       "    }\n",
       "\n",
       "    .dataframe tbody tr th {\n",
       "        vertical-align: top;\n",
       "    }\n",
       "\n",
       "    .dataframe thead th {\n",
       "        text-align: right;\n",
       "    }\n",
       "</style>\n",
       "<table border=\"1\" class=\"dataframe\">\n",
       "  <thead>\n",
       "    <tr style=\"text-align: right;\">\n",
       "      <th></th>\n",
       "      <th>0</th>\n",
       "    </tr>\n",
       "  </thead>\n",
       "  <tbody>\n",
       "    <tr>\n",
       "      <th>0</th>\n",
       "      <td>100</td>\n",
       "    </tr>\n",
       "    <tr>\n",
       "      <th>1</th>\n",
       "      <td>20736</td>\n",
       "    </tr>\n",
       "    <tr>\n",
       "      <th>0</th>\n",
       "      <td>299</td>\n",
       "    </tr>\n",
       "    <tr>\n",
       "      <th>1</th>\n",
       "      <td>20736</td>\n",
       "    </tr>\n",
       "  </tbody>\n",
       "</table>\n",
       "</div>"
      ],
      "text/plain": [
       "       0\n",
       "0    100\n",
       "1  20736\n",
       "0    299\n",
       "1  20736"
      ]
     },
     "execution_count": 41,
     "metadata": {},
     "output_type": "execute_result"
    }
   ],
   "source": [
    "full_data"
   ]
  },
  {
   "cell_type": "code",
   "execution_count": null,
   "id": "57f93785-be80-4cfc-aa56-9a91fa3b18c5",
   "metadata": {},
   "outputs": [],
   "source": [
    "# End flatten fail, go to data structure to get the square wrap function, then reverse it\n",
    "# There is a reshape function in the main"
   ]
  },
  {
   "cell_type": "code",
   "execution_count": null,
   "id": "64e14d14-a47e-49e5-af7f-934cfaab7659",
   "metadata": {},
   "outputs": [],
   "source": []
  }
 ],
 "metadata": {
  "kernelspec": {
   "display_name": "tf_venv_a",
   "language": "python",
   "name": "tf_venv_a"
  },
  "language_info": {
   "codemirror_mode": {
    "name": "ipython",
    "version": 3
   },
   "file_extension": ".py",
   "mimetype": "text/x-python",
   "name": "python",
   "nbconvert_exporter": "python",
   "pygments_lexer": "ipython3",
   "version": "3.9.7"
  }
 },
 "nbformat": 4,
 "nbformat_minor": 5
}
