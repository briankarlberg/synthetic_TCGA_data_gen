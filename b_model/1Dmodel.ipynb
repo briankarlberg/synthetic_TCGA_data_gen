{
 "cells": [
  {
   "cell_type": "code",
   "execution_count": null,
   "id": "7c127a8d-b952-4f57-8cfe-e5b3f28a0ed8",
   "metadata": {},
   "outputs": [],
   "source": [
    "# originally, dense_full kernel"
   ]
  },
  {
   "cell_type": "code",
   "execution_count": null,
   "id": "6be1a17b-1a32-4b48-b303-dbd736e5c264",
   "metadata": {},
   "outputs": [],
   "source": [
    "Monday, October 24\n",
    "Sigmoid activation function within the layers\n",
    "    range from 0-1 (check) - rational alignment with the normalization strategy\n",
    "next: (after RobustScaler and UMAP on the 10k outlier clipping) log transform then minmax\n",
    "\n",
    "How about log transform then Robust?"
   ]
  },
  {
   "cell_type": "code",
   "execution_count": null,
   "id": "db0b8b81-14d8-4b2f-9e92-729dddc6e277",
   "metadata": {},
   "outputs": [],
   "source": [
    "review norming strat:\n",
    "    \n",
    "/Users/karlberb/Desktop/RNB00978/sample_count/sample_gen/synthetic_TCGA_data_gen/a_data_structure/normalized_data/flat\n",
    "is location of the Robust data\n",
    "\n",
    "/Users/karlberb/Desktop/RNB00978/sample_count/sample_gen/synthetic_TCGA_data_gen/a_data_structure/a_data_structure_04.ipynb\n",
    "is most recent data prep code"
   ]
  },
  {
   "cell_type": "markdown",
   "id": "46c50a55-39ad-4227-b034-e6bb2df97ea9",
   "metadata": {
    "tags": []
   },
   "source": [
    "### 1D conv model  \n",
    "\n",
    "clipping the gene expression values around 10k worked ok\n",
    "decoded output file names: (cross referece the loss curves)\n",
    "\n",
    "Production run on 3 outlier clipping models  \n",
    "\n",
    "for BRCA and BLCA\n",
    "\n",
    "From 1Dmodel_00.ipynb\n",
    "    Deconstruction notes and 2D to 1D conversion\n",
    "\n",
    "data:\n",
    "../a_data_structure/normalized_data/flat"
   ]
  },
  {
   "cell_type": "markdown",
   "id": "35304104-d2de-4d80-b54a-40f2b48557dc",
   "metadata": {
    "tags": []
   },
   "source": [
    "#### setup"
   ]
  },
  {
   "cell_type": "code",
   "execution_count": 10,
   "id": "6f7f7f95-39ce-426d-9d91-8019624e88c6",
   "metadata": {},
   "outputs": [
    {
     "name": "stdout",
     "output_type": "stream",
     "text": [
      "Variable   Type    Data/Info\n",
      "----------------------------\n",
      "cohort     str     BRCA\n"
     ]
    }
   ],
   "source": [
    "%whos"
   ]
  },
  {
   "cell_type": "code",
   "execution_count": 9,
   "id": "af6c6829-0e82-4bad-859b-2f4757e935a8",
   "metadata": {},
   "outputs": [
    {
     "name": "stdout",
     "output_type": "stream",
     "text": [
      "BLCA_X_test_flat_100k_otlr_cut_MinMax.tsv\n",
      "BLCA_X_test_flat_10k_otlr_cut_MinMax.tsv\n",
      "BLCA_X_test_flat_15k_otlr_cut_MinMax.tsv\n",
      "BLCA_X_test_flat_1M_otlr_cut_MinMax.tsv\n",
      "BLCA_X_test_flat_1k_otlr_cut_MinMax.tsv\n",
      "BLCA_X_test_flat_250_otlr_cut_MinMax.tsv\n",
      "BLCA_X_test_flat_500_otlr_cut_MinMax.tsv\n",
      "BLCA_X_test_flat_5k_otlr_cut_MinMax.tsv\n",
      "BLCA_X_test_flat_no_cut_Robust.tsv\n",
      "BLCA_X_test_flat_no_otlr_cut_MinMax.tsv\n",
      "BLCA_X_train_flat_100k_otlr_cut_MinMax.tsv\n",
      "BLCA_X_train_flat_10k_otlr_cut_MinMax.tsv\n",
      "BLCA_X_train_flat_15k_otlr_cut_MinMax.tsv\n",
      "BLCA_X_train_flat_1M_otlr_cut_MinMax.tsv\n",
      "BLCA_X_train_flat_1k_otlr_cut_MinMax.tsv\n",
      "BLCA_X_train_flat_250_otlr_cut_MinMax.tsv\n",
      "BLCA_X_train_flat_500_otlr_cut_MinMax.tsv\n",
      "BLCA_X_train_flat_5k_otlr_cut_MinMax.tsv\n",
      "BLCA_X_train_flat_no_cut_Robust.tsv\n",
      "BLCA_X_train_flat_no_otlr_cut_MinMax.tsv\n",
      "BLCA_y_test_flat_100k_otlr_cut_MinMax.tsv\n",
      "BLCA_y_test_flat_10k_otlr_cut_MinMax.tsv\n",
      "BLCA_y_test_flat_15k_otlr_cut_MinMax.tsv\n",
      "BLCA_y_test_flat_1M_otlr_cut_MinMax.tsv\n",
      "BLCA_y_test_flat_1k_otlr_cut_MinMax.tsv\n",
      "BLCA_y_test_flat_250_otlr_cut_MinMax.tsv\n",
      "BLCA_y_test_flat_500_otlr_cut_MinMax.tsv\n",
      "BLCA_y_test_flat_5k_otlr_cut_MinMax.tsv\n",
      "BLCA_y_test_flat_no_cut_Robust.tsv\n",
      "BLCA_y_test_flat_no_otlr_cut_MinMax.tsv\n",
      "BLCA_y_train_flat_100k_otlr_cut_MinMax.tsv\n",
      "BLCA_y_train_flat_10k_otlr_cut_MinMax.tsv\n",
      "BLCA_y_train_flat_15k_otlr_cut_MinMax.tsv\n",
      "BLCA_y_train_flat_1M_otlr_cut_MinMax.tsv\n",
      "BLCA_y_train_flat_1k_otlr_cut_MinMax.tsv\n",
      "BLCA_y_train_flat_250_otlr_cut_MinMax.tsv\n",
      "BLCA_y_train_flat_500_otlr_cut_MinMax.tsv\n",
      "BLCA_y_train_flat_5k_otlr_cut_MinMax.tsv\n",
      "BLCA_y_train_flat_no_cut_Robust.tsv\n",
      "BLCA_y_train_flat_no_otlr_cut_MinMax.tsv\n",
      "BRCA_X_test_flat_100k_otlr_cut_MinMax.tsv\n",
      "BRCA_X_test_flat_10k_otlr_cut_MinMax.tsv\n",
      "BRCA_X_test_flat_15k_otlr_cut_MinMax.tsv\n",
      "BRCA_X_test_flat_1M_otlr_cut_MinMax.tsv\n",
      "BRCA_X_test_flat_1k_otlr_cut_MinMax.tsv\n",
      "BRCA_X_test_flat_250_otlr_cut_MinMax.tsv\n",
      "BRCA_X_test_flat_500_otlr_cut_MinMax.tsv\n",
      "BRCA_X_test_flat_5k_otlr_cut_MinMax.tsv\n",
      "BRCA_X_test_flat_no_cut_Robust.tsv\n",
      "BRCA_X_test_flat_no_otlr_cut_MinMax.tsv\n",
      "BRCA_X_train_flat_100k_otlr_cut_MinMax.tsv\n",
      "BRCA_X_train_flat_10k_otlr_cut_MinMax.tsv\n",
      "BRCA_X_train_flat_15k_otlr_cut_MinMax.tsv\n",
      "BRCA_X_train_flat_1M_otlr_cut_MinMax.tsv\n",
      "BRCA_X_train_flat_1k_otlr_cut_MinMax.tsv\n",
      "BRCA_X_train_flat_250_otlr_cut_MinMax.tsv\n",
      "BRCA_X_train_flat_500_otlr_cut_MinMax.tsv\n",
      "BRCA_X_train_flat_5k_otlr_cut_MinMax.tsv\n",
      "BRCA_X_train_flat_no_cut_Robust.tsv\n",
      "BRCA_X_train_flat_no_otlr_cut_MinMax.tsv\n",
      "BRCA_y_test_flat_100k_otlr_cut_MinMax.tsv\n",
      "BRCA_y_test_flat_10k_otlr_cut_MinMax.tsv\n",
      "BRCA_y_test_flat_15k_otlr_cut_MinMax.tsv\n",
      "BRCA_y_test_flat_1M_otlr_cut_MinMax.tsv\n",
      "BRCA_y_test_flat_1k_otlr_cut_MinMax.tsv\n",
      "BRCA_y_test_flat_250_otlr_cut_MinMax.tsv\n",
      "BRCA_y_test_flat_500_otlr_cut_MinMax.tsv\n",
      "BRCA_y_test_flat_5k_otlr_cut_MinMax.tsv\n",
      "BRCA_y_test_flat_no_cut_Robust.tsv\n",
      "BRCA_y_test_flat_no_otlr_cut_MinMax.tsv\n",
      "BRCA_y_train_flat_100k_otlr_cut_MinMax.tsv\n",
      "BRCA_y_train_flat_10k_otlr_cut_MinMax.tsv\n",
      "BRCA_y_train_flat_15k_otlr_cut_MinMax.tsv\n",
      "BRCA_y_train_flat_1M_otlr_cut_MinMax.tsv\n",
      "BRCA_y_train_flat_1k_otlr_cut_MinMax.tsv\n",
      "BRCA_y_train_flat_250_otlr_cut_MinMax.tsv\n",
      "BRCA_y_train_flat_500_otlr_cut_MinMax.tsv\n",
      "BRCA_y_train_flat_5k_otlr_cut_MinMax.tsv\n",
      "BRCA_y_train_flat_no_cut_Robust.tsv\n",
      "BRCA_y_train_flat_no_otlr_cut_MinMax.tsv\n",
      "Untitled.ipynb\n"
     ]
    }
   ],
   "source": [
    "ls ../a_data_structure/normalized_data/flat"
   ]
  },
  {
   "cell_type": "code",
   "execution_count": null,
   "id": "27bb3bc9-32b7-42d1-8f7d-c9bedfbb8ec8",
   "metadata": {},
   "outputs": [],
   "source": [
    "../a_data_structure/normalized_data/flat"
   ]
  },
  {
   "cell_type": "code",
   "execution_count": null,
   "id": "27399f68-1de7-46ab-934b-fee2eb3df938",
   "metadata": {},
   "outputs": [],
   "source": [
    "BLCA_X_test_flat_no_cut_Robust.tsv"
   ]
  },
  {
   "cell_type": "code",
   "execution_count": null,
   "id": "26d79119-5303-4c66-a738-2106cedbce6a",
   "metadata": {},
   "outputs": [],
   "source": [
    "# 8 robust files, by train / test and BLCA, BRCA"
   ]
  },
  {
   "cell_type": "code",
   "execution_count": 5,
   "id": "c9e71b30-f55e-4ee4-ba14-de0bc9bd5ec5",
   "metadata": {},
   "outputs": [
    {
     "data": {
      "text/plain": [
       "14"
      ]
     },
     "execution_count": 5,
     "metadata": {},
     "output_type": "execute_result"
    }
   ],
   "source": [
    "# Run Robust\n",
    "\n",
    "# Get the log transform going\n",
    "\n",
    "# Need to spec out an a_data_structure code file for the log transform stuff"
   ]
  },
  {
   "cell_type": "code",
   "execution_count": null,
   "id": "7d9837fe-a52a-4ada-99bd-34bd0c373e4e",
   "metadata": {},
   "outputs": [],
   "source": [
    "#wheres the target output?\n",
    "\n",
    "Start making Umaps \n",
    "\n",
    "start with robust BRCA"
   ]
  },
  {
   "cell_type": "code",
   "execution_count": 3,
   "id": "c01a0562-f6fb-406c-96d2-466b4d7105d9",
   "metadata": {},
   "outputs": [
    {
     "data": {
      "text/plain": [
       "'/Users/karlberb/Desktop/RNB00978/sample_count/sample_gen/synthetic_TCGA_data_gen/b_model'"
      ]
     },
     "execution_count": 3,
     "metadata": {},
     "output_type": "execute_result"
    }
   ],
   "source": [
    "pwd"
   ]
  },
  {
   "cell_type": "code",
   "execution_count": 4,
   "id": "4bfe930f-f0a3-4d92-9fed-b7b806bf9a31",
   "metadata": {},
   "outputs": [
    {
     "name": "stdout",
     "output_type": "stream",
     "text": [
      "1Dconv_devel.ipynb     b_model_02.ipynb       \u001b[34mdecoded\u001b[m\u001b[m/\n",
      "1Dmodel.ipynb          b_model_03.ipynb       \u001b[34mloss_curves_ignored\u001b[m\u001b[m/\n",
      "README.txt             cvae.txt               scp_up_rbust_sclr.txt\n",
      "\u001b[34marchive\u001b[m\u001b[m/               \u001b[34mdata\u001b[m\u001b[m/\n",
      "b_1Dmodel_00.ipynb     \u001b[34mdec_out_ignrd\u001b[m\u001b[m/\n"
     ]
    }
   ],
   "source": [
    "ls"
   ]
  },
  {
   "cell_type": "code",
   "execution_count": 5,
   "id": "aa9026db-58ad-4447-a09d-971a208f8054",
   "metadata": {},
   "outputs": [
    {
     "name": "stdout",
     "output_type": "stream",
     "text": [
      "1D_dec_model_r0.png\n",
      "1D_dec_v2.png\n",
      "1D_dec_v3.png\n",
      "1D_enc_v3.png\n",
      "1D_model_r0.png\n",
      "1D_model_v2.png\n",
      "1D_model_v3.png\n",
      "BLCA, float.64, MinMax_pretrain_10_epochs_100_latent_dim_2022-10-09_b_model_02.ipynb_r0.png\n",
      "BLCA, float.64, MinMax_pretrain_10_epochs_100_latent_dim_2022-10-11_b_model_02.ipynb_r0.png\n",
      "BLCA10k_outlier_cut_20_epochs_100_latent_dim_2022-10-13_1D_model_otlr_clp.ipynb.png\n",
      "BLCA_100k_outlier_cut_15_epochs_100_latent_dim_2022-10-13_1Dmodel.ipynb.png\n",
      "BLCA_10k_outlier_cut_15_epochs_100_latent_dim_2022-10-13_1Dmodel.ipynb.png\n",
      "BLCA_10k_outlier_cut_5_epochs_100_latent_dim_2022-10-13_1Dmodel.ipynb.png\n",
      "BLCA_10k_outlier_cut_5_epochs_v2_100_latent_dim_2022-10-13_1Dmodel.ipynb.png\n",
      "BLCA_1k_outlier_cut_20_epochs_100_latent_dim_2022-10-13_1Dmodel.ipynb.png\n",
      "BLCA_500_outlier_cut_20_epochs_100_latent_dim_2022-10-13_1Dmodel.ipynb.png\n",
      "BLCA_pretrain_10_epochs_100_latent_dim_2022-10-11_b_model_03.ipynb_r0.png\n",
      "BLCA_pretrain_20_epochs_100_latent_dim_2022-10-13_1D_model_otlr_clp.ipynb_label_check.png\n",
      "BLCA_pretrain_5_epochs_100_latent_dim_2022-10-12_1D_model_r0.ipynb_r0.png\n",
      "BRCA_100k_outlier_cut_15_epochs_100_latent_dim_2022-10-13_1Dmodel.ipynb.png\n",
      "BRCA_10k_outlier_cut_15_epochs_100_latent_dim_2022-10-13_1Dmodel.ipynb.png\n",
      "BRCA_10k_outlier_cut_15_epochs_v2_100_latent_dim_2022-10-13_1Dmodel.ipynb.png\n",
      "BRCA_1k_outlier_cut_15_epochs_100_latent_dim_2022-10-13_1Dmodel.ipynb.png\n",
      "BRCA_500_outlier_cut_10_epochs_100_latent_dim_2022-10-13_1Dmodel.ipynb.png\n",
      "BRCA_fine_tune_10k_outlier_cut_20_epochs_100_latent_dim_2022-10-13_1D_model.ipynb.png\n",
      "BRCA_fine_tune_1k_outlier_cut_10_epochs_100_latent_dim_2022-10-13_1Dmodel.ipynb.png\n",
      "BRCA_v2_outlier_cut:_10k_epochs:_15_latent_dim:_1002022-10-13_1Dmodel.ipynb.png\n",
      "\u001b[34marchive_2022-10-07\u001b[m\u001b[m/\n",
      "\u001b[34mplot_model\u001b[m\u001b[m/\n"
     ]
    }
   ],
   "source": [
    "ls loss_curves_ignored/"
   ]
  },
  {
   "cell_type": "code",
   "execution_count": 6,
   "id": "9b6410db-2477-44df-ad19-a31cd9aaf925",
   "metadata": {},
   "outputs": [
    {
     "data": {
      "text/plain": [
       "'/Users/karlberb/Desktop/RNB00978/sample_count/sample_gen/synthetic_TCGA_data_gen/b_model'"
      ]
     },
     "execution_count": 6,
     "metadata": {},
     "output_type": "execute_result"
    }
   ],
   "source": [
    "pwd"
   ]
  },
  {
   "cell_type": "code",
   "execution_count": null,
   "id": "18ac0122-852c-491e-8b97-49c6cb0d4195",
   "metadata": {},
   "outputs": [],
   "source": [
    "# monday, load robust to memory"
   ]
  },
  {
   "cell_type": "code",
   "execution_count": null,
   "id": "9906748f-86e2-48dc-917c-1e43246ca0fc",
   "metadata": {},
   "outputs": [],
   "source": [
    "%whos"
   ]
  },
  {
   "cell_type": "raw",
   "id": "d1398d32-7d27-4f8d-9b5e-29c39627244a",
   "metadata": {
    "tags": []
   },
   "source": [
    "kernel setup:\n",
    "    \n",
    "    local:\n",
    "        # terminal in project root:\n",
    "        python3 -m venv cvae_venv\n",
    "        source cvae_venv/bin/activate\n",
    "        pip3 install jupyterlab ipykernel matplotlib numpy tensorflow==2.10 keras sklearn pydot graphviz pandas umap-learn imageio tensorflow_probability\n",
    "        which python3\n",
    "        path/to/project_root/cvae_venv/bin/python3 -m ipykernel install --name cvae_venv\n",
    "        # from fresh terminal in project_root, outside venv, select <cvae_venv> kernel at launch\n",
    "        jupyter lab\n",
    "        \n",
    "    Exacloud:\n",
    "        https://wiki.ohsu.edu/display/HACIIAPCS/2022/09/19/JupyterLab+on+Exacloud"
   ]
  },
  {
   "cell_type": "code",
   "execution_count": null,
   "id": "0dec4b8b-6ab8-41f6-91ac-c8a83d2dbae2",
   "metadata": {},
   "outputs": [],
   "source": [
    "# start 500 BLCA - fail, loss explodes after 7 or 8 epochs\n",
    "# skip BRCA fine tune, go to BRCA blank run, need RobustScaler"
   ]
  },
  {
   "cell_type": "code",
   "execution_count": null,
   "id": "be8a66f3-daa6-4268-b3ba-7408b44803da",
   "metadata": {},
   "outputs": [],
   "source": [
    "%whos"
   ]
  },
  {
   "cell_type": "code",
   "execution_count": 12,
   "id": "b0496b8f-9d4f-4065-906c-89f412290f9e",
   "metadata": {},
   "outputs": [],
   "source": [
    "# blank run START, Data import and setup\n",
    "import numpy as np\n",
    "import pandas as pd\n",
    "import matplotlib.pyplot as plt"
   ]
  },
  {
   "cell_type": "code",
   "execution_count": null,
   "id": "05974a53-2704-4918-afb6-a4a0ae9de537",
   "metadata": {},
   "outputs": [],
   "source": [
    "cohort  = 'BLCA'"
   ]
  },
  {
   "cell_type": "code",
   "execution_count": 2,
   "id": "5297f64a-c977-41d5-bfe9-f13cadafd411",
   "metadata": {},
   "outputs": [],
   "source": [
    "cohort  = 'BRCA'"
   ]
  },
  {
   "cell_type": "code",
   "execution_count": null,
   "id": "a5f1dade-0573-419b-8528-ebba57881c38",
   "metadata": {},
   "outputs": [],
   "source": [
    "otlr_cut = '100k'"
   ]
  },
  {
   "cell_type": "code",
   "execution_count": 4,
   "id": "3b5f29e2-7aa9-45a9-85de-0e5e25eccdd7",
   "metadata": {},
   "outputs": [],
   "source": [
    "otlr_cut = '15k'"
   ]
  },
  {
   "cell_type": "code",
   "execution_count": null,
   "id": "fd23eccb-5d95-4dd9-b298-5fbb9ecf1257",
   "metadata": {},
   "outputs": [],
   "source": [
    "otlr_cut = '10k' # starting the BRCA blank run, only run with these vars defined from the start\n",
    "# check the write-out files - three loss and three sets of decoded files"
   ]
  },
  {
   "cell_type": "code",
   "execution_count": null,
   "id": "ccdeaedd-0f3b-4abd-90ce-cd057d157984",
   "metadata": {},
   "outputs": [],
   "source": [
    "otlr_cut = '5k'"
   ]
  },
  {
   "cell_type": "code",
   "execution_count": null,
   "id": "3e61645f-43ba-4c7e-ba6e-8398c830b937",
   "metadata": {},
   "outputs": [],
   "source": [
    "otlr_cut = '1k' # restart kernel, run BLCA blank"
   ]
  },
  {
   "cell_type": "code",
   "execution_count": null,
   "id": "46f9c396-8651-479d-a017-5937bdb75411",
   "metadata": {},
   "outputs": [],
   "source": [
    "otlr_cut = '500' # starting BLCA blank run"
   ]
  },
  {
   "cell_type": "code",
   "execution_count": 5,
   "id": "0d9c172d-85d5-4a97-ad4d-47c5f985c39d",
   "metadata": {},
   "outputs": [
    {
     "data": {
      "text/plain": [
       "('BRCA', '15k')"
      ]
     },
     "execution_count": 5,
     "metadata": {},
     "output_type": "execute_result"
    }
   ],
   "source": [
    "cohort, otlr_cut"
   ]
  },
  {
   "cell_type": "code",
   "execution_count": 6,
   "id": "9182b8eb-d810-4680-9f1a-f1f8a9c35845",
   "metadata": {},
   "outputs": [],
   "source": [
    "# read pre-normalized data\n",
    "train_norm = pd.read_csv('../a_data_structure/normalized_data/flat/'+cohort+'_X_train_flat_'+otlr_cut+'_otlr_cut_MinMax.tsv',\n",
    "                  sep = '\\t',\n",
    "                   index_col = 0)"
   ]
  },
  {
   "cell_type": "code",
   "execution_count": 7,
   "id": "59742e72-80ec-406d-a56b-6755b813e80e",
   "metadata": {},
   "outputs": [],
   "source": [
    "test_norm = pd.read_csv('../a_data_structure/normalized_data/flat/'+cohort+'_X_test_flat_'+otlr_cut+'_otlr_cut_MinMax.tsv',\n",
    "                  sep = '\\t',\n",
    "                   index_col = 0)"
   ]
  },
  {
   "cell_type": "code",
   "execution_count": null,
   "id": "7b464c10-d2dd-4536-884a-41389bd3a41f",
   "metadata": {},
   "outputs": [],
   "source": [
    "BLCA_X_test_flat_no_cut_Robust.tsv"
   ]
  },
  {
   "cell_type": "code",
   "execution_count": 13,
   "id": "3b9cafbb-9b6d-4e7b-bc59-fc203a216ccb",
   "metadata": {},
   "outputs": [],
   "source": [
    "# read robust - this is bladder train; mechanics \n",
    "blca_tst_rbst = pd.read_csv('../a_data_structure/normalized_data/flat/BLCA_X_test_flat_no_cut_Robust.tsv',\n",
    "                  sep = '\\t',\n",
    "                   index_col = 0)"
   ]
  },
  {
   "cell_type": "code",
   "execution_count": 14,
   "id": "06b43cf6-e62b-4ed0-be15-3504d11ffc0c",
   "metadata": {},
   "outputs": [
    {
     "data": {
      "text/html": [
       "<div>\n",
       "<style scoped>\n",
       "    .dataframe tbody tr th:only-of-type {\n",
       "        vertical-align: middle;\n",
       "    }\n",
       "\n",
       "    .dataframe tbody tr th {\n",
       "        vertical-align: top;\n",
       "    }\n",
       "\n",
       "    .dataframe thead th {\n",
       "        text-align: right;\n",
       "    }\n",
       "</style>\n",
       "<table border=\"1\" class=\"dataframe\">\n",
       "  <thead>\n",
       "    <tr style=\"text-align: right;\">\n",
       "      <th></th>\n",
       "      <th>N:GEXP::?:100130426:</th>\n",
       "      <th>N:GEXP::?:100133144:</th>\n",
       "      <th>N:GEXP::?:100134869:</th>\n",
       "      <th>N:GEXP::?:10357:</th>\n",
       "      <th>N:GEXP::?:10431:</th>\n",
       "      <th>N:GEXP::?:136542:</th>\n",
       "      <th>N:GEXP::?:155060:</th>\n",
       "      <th>N:GEXP::?:26823:</th>\n",
       "      <th>N:GEXP::?:280660:</th>\n",
       "      <th>N:GEXP::?:317712:</th>\n",
       "      <th>...</th>\n",
       "      <th>N:GEXP::ZXDA:7789:</th>\n",
       "      <th>N:GEXP::ZXDB:158586:</th>\n",
       "      <th>N:GEXP::ZXDC:79364:</th>\n",
       "      <th>N:GEXP::ZYG11A:440590:</th>\n",
       "      <th>N:GEXP::ZYG11B:79699:</th>\n",
       "      <th>N:GEXP::ZYX:7791:</th>\n",
       "      <th>N:GEXP::ZZEF1:23140:</th>\n",
       "      <th>N:GEXP::ZZZ3:26009:</th>\n",
       "      <th>N:GEXP::psiTPTE22:387590:</th>\n",
       "      <th>N:GEXP::tAKR:389932:</th>\n",
       "    </tr>\n",
       "    <tr>\n",
       "      <th>BLCA</th>\n",
       "      <th></th>\n",
       "      <th></th>\n",
       "      <th></th>\n",
       "      <th></th>\n",
       "      <th></th>\n",
       "      <th></th>\n",
       "      <th></th>\n",
       "      <th></th>\n",
       "      <th></th>\n",
       "      <th></th>\n",
       "      <th></th>\n",
       "      <th></th>\n",
       "      <th></th>\n",
       "      <th></th>\n",
       "      <th></th>\n",
       "      <th></th>\n",
       "      <th></th>\n",
       "      <th></th>\n",
       "      <th></th>\n",
       "      <th></th>\n",
       "      <th></th>\n",
       "    </tr>\n",
       "  </thead>\n",
       "  <tbody>\n",
       "    <tr>\n",
       "      <th>TCGA-G2-AA3B</th>\n",
       "      <td>0.0</td>\n",
       "      <td>-0.317882</td>\n",
       "      <td>-0.675209</td>\n",
       "      <td>0.102417</td>\n",
       "      <td>1.549484</td>\n",
       "      <td>0.0</td>\n",
       "      <td>0.720960</td>\n",
       "      <td>0.000000</td>\n",
       "      <td>0.000</td>\n",
       "      <td>0.0</td>\n",
       "      <td>...</td>\n",
       "      <td>0.937944</td>\n",
       "      <td>3.605809</td>\n",
       "      <td>0.198658</td>\n",
       "      <td>-0.081574</td>\n",
       "      <td>-0.429521</td>\n",
       "      <td>-0.246579</td>\n",
       "      <td>0.246451</td>\n",
       "      <td>-0.552815</td>\n",
       "      <td>-0.412158</td>\n",
       "      <td>0.0</td>\n",
       "    </tr>\n",
       "    <tr>\n",
       "      <th>TCGA-GV-A40E</th>\n",
       "      <td>0.0</td>\n",
       "      <td>-0.085592</td>\n",
       "      <td>-0.733131</td>\n",
       "      <td>-0.180479</td>\n",
       "      <td>-0.094483</td>\n",
       "      <td>0.0</td>\n",
       "      <td>0.107861</td>\n",
       "      <td>0.000000</td>\n",
       "      <td>0.000</td>\n",
       "      <td>0.0</td>\n",
       "      <td>...</td>\n",
       "      <td>-0.515818</td>\n",
       "      <td>-0.381313</td>\n",
       "      <td>-0.863426</td>\n",
       "      <td>0.116032</td>\n",
       "      <td>-0.864714</td>\n",
       "      <td>0.172321</td>\n",
       "      <td>-0.429027</td>\n",
       "      <td>-0.660240</td>\n",
       "      <td>-0.308451</td>\n",
       "      <td>0.0</td>\n",
       "    </tr>\n",
       "    <tr>\n",
       "      <th>TCGA-DK-AA6M</th>\n",
       "      <td>0.0</td>\n",
       "      <td>-0.443624</td>\n",
       "      <td>-0.875483</td>\n",
       "      <td>0.225294</td>\n",
       "      <td>-0.960851</td>\n",
       "      <td>0.0</td>\n",
       "      <td>1.382304</td>\n",
       "      <td>1.137245</td>\n",
       "      <td>0.000</td>\n",
       "      <td>0.0</td>\n",
       "      <td>...</td>\n",
       "      <td>-0.924407</td>\n",
       "      <td>-0.913435</td>\n",
       "      <td>-0.563945</td>\n",
       "      <td>-0.277248</td>\n",
       "      <td>-0.880500</td>\n",
       "      <td>1.310497</td>\n",
       "      <td>-0.088113</td>\n",
       "      <td>-0.482120</td>\n",
       "      <td>-0.198400</td>\n",
       "      <td>0.0</td>\n",
       "    </tr>\n",
       "    <tr>\n",
       "      <th>TCGA-4Z-AA7S</th>\n",
       "      <td>0.0</td>\n",
       "      <td>1.393622</td>\n",
       "      <td>0.473038</td>\n",
       "      <td>-0.156244</td>\n",
       "      <td>-0.454417</td>\n",
       "      <td>0.0</td>\n",
       "      <td>2.840676</td>\n",
       "      <td>0.771539</td>\n",
       "      <td>0.000</td>\n",
       "      <td>0.0</td>\n",
       "      <td>...</td>\n",
       "      <td>1.451683</td>\n",
       "      <td>3.020103</td>\n",
       "      <td>0.987104</td>\n",
       "      <td>-0.127680</td>\n",
       "      <td>1.358554</td>\n",
       "      <td>-0.151734</td>\n",
       "      <td>-0.034674</td>\n",
       "      <td>-0.102255</td>\n",
       "      <td>-0.233252</td>\n",
       "      <td>0.0</td>\n",
       "    </tr>\n",
       "    <tr>\n",
       "      <th>TCGA-GV-A3JV</th>\n",
       "      <td>0.0</td>\n",
       "      <td>-0.390843</td>\n",
       "      <td>0.432070</td>\n",
       "      <td>0.427206</td>\n",
       "      <td>-0.275190</td>\n",
       "      <td>0.0</td>\n",
       "      <td>0.095522</td>\n",
       "      <td>0.000000</td>\n",
       "      <td>0.000</td>\n",
       "      <td>0.0</td>\n",
       "      <td>...</td>\n",
       "      <td>0.243815</td>\n",
       "      <td>5.294463</td>\n",
       "      <td>1.029876</td>\n",
       "      <td>-0.262384</td>\n",
       "      <td>0.921381</td>\n",
       "      <td>-0.426179</td>\n",
       "      <td>1.329312</td>\n",
       "      <td>-0.309062</td>\n",
       "      <td>-0.149393</td>\n",
       "      <td>0.0</td>\n",
       "    </tr>\n",
       "    <tr>\n",
       "      <th>...</th>\n",
       "      <td>...</td>\n",
       "      <td>...</td>\n",
       "      <td>...</td>\n",
       "      <td>...</td>\n",
       "      <td>...</td>\n",
       "      <td>...</td>\n",
       "      <td>...</td>\n",
       "      <td>...</td>\n",
       "      <td>...</td>\n",
       "      <td>...</td>\n",
       "      <td>...</td>\n",
       "      <td>...</td>\n",
       "      <td>...</td>\n",
       "      <td>...</td>\n",
       "      <td>...</td>\n",
       "      <td>...</td>\n",
       "      <td>...</td>\n",
       "      <td>...</td>\n",
       "      <td>...</td>\n",
       "      <td>...</td>\n",
       "      <td>...</td>\n",
       "    </tr>\n",
       "    <tr>\n",
       "      <th>TCGA-XF-A9SM</th>\n",
       "      <td>0.0</td>\n",
       "      <td>-0.618560</td>\n",
       "      <td>-0.541941</td>\n",
       "      <td>0.208853</td>\n",
       "      <td>-0.388403</td>\n",
       "      <td>0.0</td>\n",
       "      <td>-0.182333</td>\n",
       "      <td>0.821615</td>\n",
       "      <td>0.000</td>\n",
       "      <td>0.0</td>\n",
       "      <td>...</td>\n",
       "      <td>0.085023</td>\n",
       "      <td>-0.293247</td>\n",
       "      <td>-0.136716</td>\n",
       "      <td>1.375313</td>\n",
       "      <td>-0.562840</td>\n",
       "      <td>0.405217</td>\n",
       "      <td>0.112349</td>\n",
       "      <td>0.421370</td>\n",
       "      <td>-0.137735</td>\n",
       "      <td>0.0</td>\n",
       "    </tr>\n",
       "    <tr>\n",
       "      <th>TCGA-CU-A0YR</th>\n",
       "      <td>0.0</td>\n",
       "      <td>0.254994</td>\n",
       "      <td>-0.357565</td>\n",
       "      <td>0.970712</td>\n",
       "      <td>1.167588</td>\n",
       "      <td>0.0</td>\n",
       "      <td>-0.799768</td>\n",
       "      <td>0.000000</td>\n",
       "      <td>0.000</td>\n",
       "      <td>0.0</td>\n",
       "      <td>...</td>\n",
       "      <td>-0.160819</td>\n",
       "      <td>0.850909</td>\n",
       "      <td>-0.267350</td>\n",
       "      <td>-0.209826</td>\n",
       "      <td>1.295413</td>\n",
       "      <td>-0.097595</td>\n",
       "      <td>1.228895</td>\n",
       "      <td>-0.202607</td>\n",
       "      <td>-0.077010</td>\n",
       "      <td>0.0</td>\n",
       "    </tr>\n",
       "    <tr>\n",
       "      <th>TCGA-HQ-A2OF</th>\n",
       "      <td>0.0</td>\n",
       "      <td>0.982696</td>\n",
       "      <td>0.109411</td>\n",
       "      <td>0.898374</td>\n",
       "      <td>0.223381</td>\n",
       "      <td>0.0</td>\n",
       "      <td>-0.337955</td>\n",
       "      <td>0.000000</td>\n",
       "      <td>0.000</td>\n",
       "      <td>0.0</td>\n",
       "      <td>...</td>\n",
       "      <td>0.143886</td>\n",
       "      <td>-0.117542</td>\n",
       "      <td>0.180106</td>\n",
       "      <td>0.006476</td>\n",
       "      <td>-0.206146</td>\n",
       "      <td>-0.717338</td>\n",
       "      <td>1.641771</td>\n",
       "      <td>0.215712</td>\n",
       "      <td>1.760650</td>\n",
       "      <td>0.0</td>\n",
       "    </tr>\n",
       "    <tr>\n",
       "      <th>TCGA-DK-A2I2</th>\n",
       "      <td>0.0</td>\n",
       "      <td>-0.490328</td>\n",
       "      <td>-0.753596</td>\n",
       "      <td>-0.662412</td>\n",
       "      <td>0.174366</td>\n",
       "      <td>0.0</td>\n",
       "      <td>-0.450848</td>\n",
       "      <td>0.000000</td>\n",
       "      <td>10.919</td>\n",
       "      <td>0.0</td>\n",
       "      <td>...</td>\n",
       "      <td>-0.595062</td>\n",
       "      <td>-0.477679</td>\n",
       "      <td>-0.854176</td>\n",
       "      <td>0.856641</td>\n",
       "      <td>0.462296</td>\n",
       "      <td>1.090940</td>\n",
       "      <td>-0.702175</td>\n",
       "      <td>1.291685</td>\n",
       "      <td>0.113822</td>\n",
       "      <td>0.0</td>\n",
       "    </tr>\n",
       "    <tr>\n",
       "      <th>TCGA-GV-A3JX</th>\n",
       "      <td>0.0</td>\n",
       "      <td>0.343266</td>\n",
       "      <td>0.026927</td>\n",
       "      <td>0.288620</td>\n",
       "      <td>-1.340327</td>\n",
       "      <td>0.0</td>\n",
       "      <td>0.283080</td>\n",
       "      <td>0.000000</td>\n",
       "      <td>0.000</td>\n",
       "      <td>0.0</td>\n",
       "      <td>...</td>\n",
       "      <td>0.857787</td>\n",
       "      <td>0.218987</td>\n",
       "      <td>0.184228</td>\n",
       "      <td>0.197954</td>\n",
       "      <td>0.335130</td>\n",
       "      <td>0.142487</td>\n",
       "      <td>1.551022</td>\n",
       "      <td>0.706879</td>\n",
       "      <td>-0.056911</td>\n",
       "      <td>0.0</td>\n",
       "    </tr>\n",
       "  </tbody>\n",
       "</table>\n",
       "<p>100 rows × 20531 columns</p>\n",
       "</div>"
      ],
      "text/plain": [
       "              N:GEXP::?:100130426:  N:GEXP::?:100133144:  \\\n",
       "BLCA                                                       \n",
       "TCGA-G2-AA3B                   0.0             -0.317882   \n",
       "TCGA-GV-A40E                   0.0             -0.085592   \n",
       "TCGA-DK-AA6M                   0.0             -0.443624   \n",
       "TCGA-4Z-AA7S                   0.0              1.393622   \n",
       "TCGA-GV-A3JV                   0.0             -0.390843   \n",
       "...                            ...                   ...   \n",
       "TCGA-XF-A9SM                   0.0             -0.618560   \n",
       "TCGA-CU-A0YR                   0.0              0.254994   \n",
       "TCGA-HQ-A2OF                   0.0              0.982696   \n",
       "TCGA-DK-A2I2                   0.0             -0.490328   \n",
       "TCGA-GV-A3JX                   0.0              0.343266   \n",
       "\n",
       "              N:GEXP::?:100134869:  N:GEXP::?:10357:  N:GEXP::?:10431:  \\\n",
       "BLCA                                                                     \n",
       "TCGA-G2-AA3B             -0.675209          0.102417          1.549484   \n",
       "TCGA-GV-A40E             -0.733131         -0.180479         -0.094483   \n",
       "TCGA-DK-AA6M             -0.875483          0.225294         -0.960851   \n",
       "TCGA-4Z-AA7S              0.473038         -0.156244         -0.454417   \n",
       "TCGA-GV-A3JV              0.432070          0.427206         -0.275190   \n",
       "...                            ...               ...               ...   \n",
       "TCGA-XF-A9SM             -0.541941          0.208853         -0.388403   \n",
       "TCGA-CU-A0YR             -0.357565          0.970712          1.167588   \n",
       "TCGA-HQ-A2OF              0.109411          0.898374          0.223381   \n",
       "TCGA-DK-A2I2             -0.753596         -0.662412          0.174366   \n",
       "TCGA-GV-A3JX              0.026927          0.288620         -1.340327   \n",
       "\n",
       "              N:GEXP::?:136542:  N:GEXP::?:155060:  N:GEXP::?:26823:  \\\n",
       "BLCA                                                                   \n",
       "TCGA-G2-AA3B                0.0           0.720960          0.000000   \n",
       "TCGA-GV-A40E                0.0           0.107861          0.000000   \n",
       "TCGA-DK-AA6M                0.0           1.382304          1.137245   \n",
       "TCGA-4Z-AA7S                0.0           2.840676          0.771539   \n",
       "TCGA-GV-A3JV                0.0           0.095522          0.000000   \n",
       "...                         ...                ...               ...   \n",
       "TCGA-XF-A9SM                0.0          -0.182333          0.821615   \n",
       "TCGA-CU-A0YR                0.0          -0.799768          0.000000   \n",
       "TCGA-HQ-A2OF                0.0          -0.337955          0.000000   \n",
       "TCGA-DK-A2I2                0.0          -0.450848          0.000000   \n",
       "TCGA-GV-A3JX                0.0           0.283080          0.000000   \n",
       "\n",
       "              N:GEXP::?:280660:  N:GEXP::?:317712:  ...  N:GEXP::ZXDA:7789:  \\\n",
       "BLCA                                                ...                       \n",
       "TCGA-G2-AA3B              0.000                0.0  ...            0.937944   \n",
       "TCGA-GV-A40E              0.000                0.0  ...           -0.515818   \n",
       "TCGA-DK-AA6M              0.000                0.0  ...           -0.924407   \n",
       "TCGA-4Z-AA7S              0.000                0.0  ...            1.451683   \n",
       "TCGA-GV-A3JV              0.000                0.0  ...            0.243815   \n",
       "...                         ...                ...  ...                 ...   \n",
       "TCGA-XF-A9SM              0.000                0.0  ...            0.085023   \n",
       "TCGA-CU-A0YR              0.000                0.0  ...           -0.160819   \n",
       "TCGA-HQ-A2OF              0.000                0.0  ...            0.143886   \n",
       "TCGA-DK-A2I2             10.919                0.0  ...           -0.595062   \n",
       "TCGA-GV-A3JX              0.000                0.0  ...            0.857787   \n",
       "\n",
       "              N:GEXP::ZXDB:158586:  N:GEXP::ZXDC:79364:  \\\n",
       "BLCA                                                      \n",
       "TCGA-G2-AA3B              3.605809             0.198658   \n",
       "TCGA-GV-A40E             -0.381313            -0.863426   \n",
       "TCGA-DK-AA6M             -0.913435            -0.563945   \n",
       "TCGA-4Z-AA7S              3.020103             0.987104   \n",
       "TCGA-GV-A3JV              5.294463             1.029876   \n",
       "...                            ...                  ...   \n",
       "TCGA-XF-A9SM             -0.293247            -0.136716   \n",
       "TCGA-CU-A0YR              0.850909            -0.267350   \n",
       "TCGA-HQ-A2OF             -0.117542             0.180106   \n",
       "TCGA-DK-A2I2             -0.477679            -0.854176   \n",
       "TCGA-GV-A3JX              0.218987             0.184228   \n",
       "\n",
       "              N:GEXP::ZYG11A:440590:  N:GEXP::ZYG11B:79699:  \\\n",
       "BLCA                                                          \n",
       "TCGA-G2-AA3B               -0.081574              -0.429521   \n",
       "TCGA-GV-A40E                0.116032              -0.864714   \n",
       "TCGA-DK-AA6M               -0.277248              -0.880500   \n",
       "TCGA-4Z-AA7S               -0.127680               1.358554   \n",
       "TCGA-GV-A3JV               -0.262384               0.921381   \n",
       "...                              ...                    ...   \n",
       "TCGA-XF-A9SM                1.375313              -0.562840   \n",
       "TCGA-CU-A0YR               -0.209826               1.295413   \n",
       "TCGA-HQ-A2OF                0.006476              -0.206146   \n",
       "TCGA-DK-A2I2                0.856641               0.462296   \n",
       "TCGA-GV-A3JX                0.197954               0.335130   \n",
       "\n",
       "              N:GEXP::ZYX:7791:  N:GEXP::ZZEF1:23140:  N:GEXP::ZZZ3:26009:  \\\n",
       "BLCA                                                                         \n",
       "TCGA-G2-AA3B          -0.246579              0.246451            -0.552815   \n",
       "TCGA-GV-A40E           0.172321             -0.429027            -0.660240   \n",
       "TCGA-DK-AA6M           1.310497             -0.088113            -0.482120   \n",
       "TCGA-4Z-AA7S          -0.151734             -0.034674            -0.102255   \n",
       "TCGA-GV-A3JV          -0.426179              1.329312            -0.309062   \n",
       "...                         ...                   ...                  ...   \n",
       "TCGA-XF-A9SM           0.405217              0.112349             0.421370   \n",
       "TCGA-CU-A0YR          -0.097595              1.228895            -0.202607   \n",
       "TCGA-HQ-A2OF          -0.717338              1.641771             0.215712   \n",
       "TCGA-DK-A2I2           1.090940             -0.702175             1.291685   \n",
       "TCGA-GV-A3JX           0.142487              1.551022             0.706879   \n",
       "\n",
       "              N:GEXP::psiTPTE22:387590:  N:GEXP::tAKR:389932:  \n",
       "BLCA                                                           \n",
       "TCGA-G2-AA3B                  -0.412158                   0.0  \n",
       "TCGA-GV-A40E                  -0.308451                   0.0  \n",
       "TCGA-DK-AA6M                  -0.198400                   0.0  \n",
       "TCGA-4Z-AA7S                  -0.233252                   0.0  \n",
       "TCGA-GV-A3JV                  -0.149393                   0.0  \n",
       "...                                 ...                   ...  \n",
       "TCGA-XF-A9SM                  -0.137735                   0.0  \n",
       "TCGA-CU-A0YR                  -0.077010                   0.0  \n",
       "TCGA-HQ-A2OF                   1.760650                   0.0  \n",
       "TCGA-DK-A2I2                   0.113822                   0.0  \n",
       "TCGA-GV-A3JX                  -0.056911                   0.0  \n",
       "\n",
       "[100 rows x 20531 columns]"
      ]
     },
     "execution_count": 14,
     "metadata": {},
     "output_type": "execute_result"
    }
   ],
   "source": [
    "blca_tst_rbst # robust scaling read, looks centered on zero, one stdev is 1 (?)"
   ]
  },
  {
   "cell_type": "code",
   "execution_count": null,
   "id": "a6cfa9cd-778e-434d-819b-555f02698684",
   "metadata": {},
   "outputs": [],
   "source": [
    "BRCA_X_train_flat_no_cut_Robust.tsv"
   ]
  },
  {
   "cell_type": "code",
   "execution_count": 15,
   "id": "42e64c09-7014-4df9-aafb-eb5b487d66b0",
   "metadata": {},
   "outputs": [],
   "source": [
    "# read BRCA train, need test, feed to VAE then UMAP, increase throughput *\n",
    "brca_trn_rbst = pd.read_csv('../a_data_structure/normalized_data/flat/BRCA_X_train_flat_no_cut_Robust.tsv',\n",
    "                  sep = '\\t',\n",
    "                   index_col = 0)"
   ]
  },
  {
   "cell_type": "code",
   "execution_count": null,
   "id": "b3605e7a-8ac3-4611-b562-299eb94cb703",
   "metadata": {},
   "outputs": [],
   "source": [
    "# MinMax run"
   ]
  },
  {
   "cell_type": "code",
   "execution_count": 8,
   "id": "22ffa247-7437-4646-bbdc-fcdb14a7d23b",
   "metadata": {},
   "outputs": [
    {
     "data": {
      "text/plain": [
       "(746, 20531)"
      ]
     },
     "execution_count": 8,
     "metadata": {},
     "output_type": "execute_result"
    }
   ],
   "source": [
    "train_norm.shape"
   ]
  },
  {
   "cell_type": "code",
   "execution_count": 9,
   "id": "c65434b6-11de-4d55-a43b-ab29a93112fe",
   "metadata": {},
   "outputs": [
    {
     "data": {
      "text/plain": [
       "(249, 20531)"
      ]
     },
     "execution_count": 9,
     "metadata": {},
     "output_type": "execute_result"
    }
   ],
   "source": [
    "test_norm.shape"
   ]
  },
  {
   "cell_type": "code",
   "execution_count": 18,
   "id": "728e5875-0098-4c2e-b30f-63cbd00e78df",
   "metadata": {},
   "outputs": [],
   "source": [
    "train_norm_arr = train_norm.to_numpy()\n",
    "train_norm_arr_exp = np.expand_dims(train_norm_arr, axis=-1)"
   ]
  },
  {
   "cell_type": "code",
   "execution_count": 19,
   "id": "1e4542dc-eb2f-4616-8f29-06911659ab62",
   "metadata": {},
   "outputs": [
    {
     "data": {
      "text/plain": [
       "(746, 20531)"
      ]
     },
     "execution_count": 19,
     "metadata": {},
     "output_type": "execute_result"
    }
   ],
   "source": [
    "train_norm_arr.shape"
   ]
  },
  {
   "cell_type": "code",
   "execution_count": 20,
   "id": "4209e3cc-5430-4902-b4ca-42fa2a6ed046",
   "metadata": {},
   "outputs": [
    {
     "data": {
      "text/plain": [
       "(746, 20531, 1)"
      ]
     },
     "execution_count": 20,
     "metadata": {},
     "output_type": "execute_result"
    }
   ],
   "source": [
    "train_norm_arr_exp.shape"
   ]
  },
  {
   "cell_type": "code",
   "execution_count": 12,
   "id": "6db5f857-8229-45f5-907c-e32cb05336f3",
   "metadata": {},
   "outputs": [],
   "source": [
    "test_norm_arr = test_norm.to_numpy()\n",
    "test_norm_arr_exp = np.expand_dims(test_norm_arr, axis=-1)"
   ]
  },
  {
   "cell_type": "code",
   "execution_count": 13,
   "id": "be13a239-5e2f-4634-9f66-5e2c56e13ccc",
   "metadata": {},
   "outputs": [
    {
     "data": {
      "text/plain": [
       "(249, 20531)"
      ]
     },
     "execution_count": 13,
     "metadata": {},
     "output_type": "execute_result"
    }
   ],
   "source": [
    "test_norm_arr.shape"
   ]
  },
  {
   "cell_type": "code",
   "execution_count": 14,
   "id": "1511e10d-58c3-4190-b98e-bfd018d7e8cf",
   "metadata": {},
   "outputs": [
    {
     "data": {
      "text/plain": [
       "(249, 20531, 1)"
      ]
     },
     "execution_count": 14,
     "metadata": {},
     "output_type": "execute_result"
    }
   ],
   "source": [
    "test_norm_arr_exp.shape"
   ]
  },
  {
   "cell_type": "code",
   "execution_count": 15,
   "id": "4c580379-6a7c-4c7e-90d8-6851e5c5dade",
   "metadata": {},
   "outputs": [
    {
     "name": "stderr",
     "output_type": "stream",
     "text": [
      "2022-10-13 17:19:20.858754: I tensorflow/core/platform/cpu_feature_guard.cc:193] This TensorFlow binary is optimized with oneAPI Deep Neural Network Library (oneDNN) to use the following CPU instructions in performance-critical operations:  AVX2 FMA\n",
      "To enable them in other operations, rebuild TensorFlow with the appropriate compiler flags.\n"
     ]
    },
    {
     "name": "stdout",
     "output_type": "stream",
     "text": [
      "libraries done\n",
      "model built\n"
     ]
    }
   ],
   "source": [
    "# skip for fine-tune run\n",
    "# 1Dconv, do not rebuild in memory - build from fresh kernel only (blank run)\n",
    "\n",
    "latent_dim = 100\n",
    "\n",
    "import tensorflow as tf; tf.compat.v1.disable_eager_execution()\n",
    "\n",
    "from keras import backend as K\n",
    "from keras.layers import (Input, # want float.64 to go into this layer, two input layers (enc and dec)\n",
    "                          Conv1D,\n",
    "                          Dense,\n",
    "                          Conv1DTranspose,\n",
    "                          Flatten,\n",
    "                          Lambda,\n",
    "                          Reshape)\n",
    "from keras.models import Model\n",
    "\n",
    "from keras.losses import binary_crossentropy\n",
    "\n",
    "print('libraries done')\n",
    "\n",
    "tf.executing_eagerly()\n",
    "\n",
    "def compute_latent(x):\n",
    "    batch = K.shape(mu)[0]\n",
    "    dim = K.int_shape(mu)[1]\n",
    "    eps = K.random_normal(shape=(batch,dim))\n",
    "    return mu + K.exp(sigma/2)*eps\n",
    "\n",
    "def kl_reconstruction_loss(true, pred):                                                  \n",
    "    reconstruction_loss = binary_crossentropy(K.flatten(true), K.flatten(pred))\n",
    "    kl_loss = 1 + sigma - K.square(mu) - K.exp(sigma)\n",
    "    kl_loss = K.sum(kl_loss, axis=-1)\n",
    "    kl_loss *= -0.5\n",
    "    return K.mean(reconstruction_loss + kl_loss)\n",
    "\n",
    "encoder_input = Input(shape=(train_norm.shape[1],1,))\n",
    "\n",
    "encoder_conv = Conv1D(filters=8,\n",
    "                      kernel_size=3,\n",
    "                      activation='relu',\n",
    "                      padding='same')(encoder_input)\n",
    "\n",
    "encoder_conv = Conv1D(filters=16,\n",
    "                      kernel_size=3,\n",
    "                      padding='same',\n",
    "                      activation='relu')(encoder_conv)\n",
    "\n",
    "encoder = Flatten()(encoder_conv)\n",
    "\n",
    "mu = Dense(latent_dim)(encoder)\n",
    "sigma = Dense(latent_dim)(encoder)\n",
    "\n",
    "latent_space = Lambda(compute_latent, output_shape=(latent_dim,))([mu, sigma])\n",
    "                    \n",
    "conv_shape = K.int_shape(encoder_conv)\n",
    "\n",
    "# Decoder start\n",
    "decoder_input = Input(shape=(latent_dim,))\n",
    "\n",
    "decoder = Dense(conv_shape[1]*conv_shape[2], activation='relu')(decoder_input)\n",
    "decoder = Reshape((conv_shape[1], conv_shape[2]))(decoder)\n",
    "\n",
    "decoder_conv = Conv1DTranspose(filters=16,\n",
    "                      kernel_size=3,\n",
    "                      padding='same',\n",
    "                      activation='relu')(decoder)\n",
    "\n",
    "decoder_conv = Conv1DTranspose(filters=8,\n",
    "                      kernel_size=3,\n",
    "                      activation='relu',\n",
    "                      padding='same')(decoder_conv)\n",
    "\n",
    "decoder_conv = Conv1DTranspose(filters=1,\n",
    "                      kernel_size=3,\n",
    "                      activation='relu',\n",
    "                      padding='same')(decoder_conv)\n",
    "\n",
    "encoder = Model(encoder_input, latent_space)\n",
    "decoder = Model(decoder_input, decoder_conv)\n",
    "vae = Model(encoder_input, decoder(encoder(encoder_input)))\n",
    "vae.compile(optimizer='adam', loss=kl_reconstruction_loss)  # blank model set for (pre)training\n",
    "print('model built')"
   ]
  },
  {
   "cell_type": "code",
   "execution_count": null,
   "id": "75f43214-a379-4e10-b172-61cf0c535948",
   "metadata": {
    "tags": []
   },
   "outputs": [],
   "source": [
    "encoder.summary() # kernel restart, Layer names reset, shapes same"
   ]
  },
  {
   "cell_type": "code",
   "execution_count": null,
   "id": "075eb043-2b4a-42af-adb3-06ed6c238a10",
   "metadata": {
    "tags": []
   },
   "outputs": [],
   "source": [
    "decoder.summary() # kernel restart"
   ]
  },
  {
   "cell_type": "code",
   "execution_count": null,
   "id": "a1724163-ab51-41e3-be93-b1da3f336a2c",
   "metadata": {},
   "outputs": [],
   "source": [
    "# last number is number of filters"
   ]
  },
  {
   "cell_type": "code",
   "execution_count": null,
   "id": "f5d9ff1f-2f95-47e5-86b7-d3427d10dd45",
   "metadata": {},
   "outputs": [],
   "source": [
    "tf.keras.utils.plot_model(\n",
    "    encoder,\n",
    "    show_shapes=True,\n",
    "    to_file='./loss_curves_ignored/1D_model_r0.png')"
   ]
  },
  {
   "cell_type": "code",
   "execution_count": null,
   "id": "b3d3377f-0132-4694-8eac-08857ade594e",
   "metadata": {
    "tags": []
   },
   "outputs": [],
   "source": [
    "tf.keras.utils.plot_model(\n",
    "    encoder,\n",
    "    show_shapes=True,\n",
    "    to_file='./loss_curves_ignored/1D_enc_v3.png')"
   ]
  },
  {
   "cell_type": "code",
   "execution_count": null,
   "id": "828eaa86-4ee3-451a-b7a1-c589a4bc3d06",
   "metadata": {
    "tags": []
   },
   "outputs": [],
   "source": [
    "tf.keras.utils.plot_model(\n",
    "    decoder,\n",
    "    show_shapes=True,\n",
    "    to_file='./loss_curves_ignored/1D_dec_model_r0.png')"
   ]
  },
  {
   "cell_type": "code",
   "execution_count": null,
   "id": "68fb10fe-5f3d-4dd1-a300-29853b26b2ab",
   "metadata": {},
   "outputs": [],
   "source": [
    "# tuning thoughts\n",
    "# try with batch size turned down"
   ]
  },
  {
   "cell_type": "code",
   "execution_count": 16,
   "id": "27c56243-05f0-4f06-83b0-9541cf6656e2",
   "metadata": {},
   "outputs": [],
   "source": [
    "epochs = 15         # blank run\n",
    "version = '1Dmodel.ipynb'\n",
    "date = '2022-10-13' # blank run\n",
    "batch_size = 32     # blank run"
   ]
  },
  {
   "cell_type": "code",
   "execution_count": 28,
   "id": "a6a69aa3-3e65-4d43-bfdb-21a547dd5a9a",
   "metadata": {},
   "outputs": [],
   "source": [
    "epochs = 5 # turn down blca pretrain at 10k,\n",
    "            # end otlr cut series, for template RobustScaler"
   ]
  },
  {
   "cell_type": "code",
   "execution_count": 16,
   "id": "577fe135-a2ee-4d0c-8593-6c629e4d349a",
   "metadata": {},
   "outputs": [],
   "source": [
    "epochs = 10 # fine tune, overwrite on BRCA 500, expecting blow up"
   ]
  },
  {
   "cell_type": "code",
   "execution_count": 28,
   "id": "1ad248aa-234d-4628-a701-bb68c4b02b6f",
   "metadata": {},
   "outputs": [],
   "source": [
    "epochs = 15 # fine tune BRCA 10k, erratic pre-train cycles on BLCA"
   ]
  },
  {
   "cell_type": "code",
   "execution_count": null,
   "id": "3377f359-e572-4e84-9566-918ad0b56959",
   "metadata": {},
   "outputs": [],
   "source": [
    "            # fine tune, need to fix, using cohort differently now\n",
    "cohort = 'BRCA_fine_tune'"
   ]
  },
  {
   "cell_type": "code",
   "execution_count": 30,
   "id": "eedc500c-e123-4ba5-99b8-f1681b3f9c62",
   "metadata": {},
   "outputs": [
    {
     "data": {
      "text/plain": [
       "('BRCA', '10k')"
      ]
     },
     "execution_count": 30,
     "metadata": {},
     "output_type": "execute_result"
    }
   ],
   "source": [
    "cohort, otlr_cut # This is going to the fit function"
   ]
  },
  {
   "cell_type": "code",
   "execution_count": 21,
   "id": "8d79442e-ee84-42cd-8c25-fcbbc4b2bb80",
   "metadata": {},
   "outputs": [
    {
     "name": "stdout",
     "output_type": "stream",
     "text": [
      "Train on 746 samples, validate on 249 samples\n",
      "Epoch 1/15\n"
     ]
    },
    {
     "name": "stderr",
     "output_type": "stream",
     "text": [
      "2022-10-13 17:20:21.209051: I tensorflow/core/platform/cpu_feature_guard.cc:193] This TensorFlow binary is optimized with oneAPI Deep Neural Network Library (oneDNN) to use the following CPU instructions in performance-critical operations:  AVX2 FMA\n",
      "To enable them in other operations, rebuild TensorFlow with the appropriate compiler flags.\n",
      "2022-10-13 17:20:21.245518: I tensorflow/compiler/mlir/mlir_graph_optimization_pass.cc:354] MLIR V1 optimization pass is not enabled\n"
     ]
    },
    {
     "name": "stdout",
     "output_type": "stream",
     "text": [
      "746/746 [==============================] - ETA: 0s - loss: 3825.1786"
     ]
    },
    {
     "name": "stderr",
     "output_type": "stream",
     "text": [
      "/Users/karlberb/Desktop/RNB00978/sample_count/sample_gen/dense_layer/dense_full_env_00/lib/python3.9/site-packages/keras/engine/training_v1.py:2332: UserWarning: `Model.state_updates` will be removed in a future version. This property should not be used in TensorFlow 2.0, as `updates` are applied automatically.\n",
      "  updates = self.state_updates\n"
     ]
    },
    {
     "name": "stdout",
     "output_type": "stream",
     "text": [
      "746/746 [==============================] - 24s 32ms/sample - loss: 3825.1786 - val_loss: 207505365.7210\n",
      "Epoch 2/15\n",
      "746/746 [==============================] - 23s 31ms/sample - loss: 885.7370 - val_loss: 60850522051945.4688\n",
      "Epoch 3/15\n",
      "746/746 [==============================] - 22s 29ms/sample - loss: 675.2181 - val_loss: 2525249773676871071881687465984.0000\n",
      "Epoch 4/15\n",
      "746/746 [==============================] - 22s 29ms/sample - loss: 481.9198 - val_loss: inf\n",
      "Epoch 5/15\n",
      "746/746 [==============================] - 24s 32ms/sample - loss: 69.5933 - val_loss: inf\n",
      "Epoch 6/15\n",
      "746/746 [==============================] - 23s 31ms/sample - loss: 50.2267 - val_loss: inf\n",
      "Epoch 7/15\n",
      "746/746 [==============================] - 21s 28ms/sample - loss: 31.9784 - val_loss: nan\n",
      "Epoch 8/15\n",
      "746/746 [==============================] - 23s 31ms/sample - loss: 20.8405 - val_loss: inf\n",
      "Epoch 9/15\n",
      "746/746 [==============================] - 24s 32ms/sample - loss: 17.5336 - val_loss: inf\n",
      "Epoch 10/15\n",
      "384/746 [==============>...............] - ETA: 11s - loss: 14.7194"
     ]
    },
    {
     "ename": "KeyboardInterrupt",
     "evalue": "",
     "output_type": "error",
     "traceback": [
      "\u001b[0;31m---------------------------------------------------------------------------\u001b[0m",
      "\u001b[0;31mKeyboardInterrupt\u001b[0m                         Traceback (most recent call last)",
      "Cell \u001b[0;32mIn [21], line 3\u001b[0m\n\u001b[1;32m      1\u001b[0m \u001b[38;5;66;03m# fit, restart kernel and recompile model between runs; direct fit for BRCA fast follow\u001b[39;00m\n\u001b[0;32m----> 3\u001b[0m history \u001b[38;5;241m=\u001b[39m vae\u001b[38;5;241m.\u001b[39mfit(x\u001b[38;5;241m=\u001b[39mtrain_norm_arr_exp, y\u001b[38;5;241m=\u001b[39mtrain_norm_arr_exp, epochs\u001b[38;5;241m=\u001b[39mepochs,\n\u001b[1;32m      4\u001b[0m                   batch_size\u001b[38;5;241m=\u001b[39mbatch_size,\n\u001b[1;32m      5\u001b[0m                   validation_data\u001b[38;5;241m=\u001b[39m(test_norm_arr_exp, test_norm_arr_exp))\n",
      "File \u001b[0;32m~/Desktop/RNB00978/sample_count/sample_gen/dense_layer/dense_full_env_00/lib/python3.9/site-packages/keras/engine/training_v1.py:855\u001b[0m, in \u001b[0;36mModel.fit\u001b[0;34m(self, x, y, batch_size, epochs, verbose, callbacks, validation_split, validation_data, shuffle, class_weight, sample_weight, initial_epoch, steps_per_epoch, validation_steps, validation_freq, max_queue_size, workers, use_multiprocessing, **kwargs)\u001b[0m\n\u001b[1;32m    852\u001b[0m \u001b[38;5;28mself\u001b[39m\u001b[38;5;241m.\u001b[39m_check_call_args(\u001b[38;5;124m\"\u001b[39m\u001b[38;5;124mfit\u001b[39m\u001b[38;5;124m\"\u001b[39m)\n\u001b[1;32m    854\u001b[0m func \u001b[38;5;241m=\u001b[39m \u001b[38;5;28mself\u001b[39m\u001b[38;5;241m.\u001b[39m_select_training_loop(x)\n\u001b[0;32m--> 855\u001b[0m \u001b[38;5;28;01mreturn\u001b[39;00m \u001b[43mfunc\u001b[49m\u001b[38;5;241;43m.\u001b[39;49m\u001b[43mfit\u001b[49m\u001b[43m(\u001b[49m\n\u001b[1;32m    856\u001b[0m \u001b[43m    \u001b[49m\u001b[38;5;28;43mself\u001b[39;49m\u001b[43m,\u001b[49m\n\u001b[1;32m    857\u001b[0m \u001b[43m    \u001b[49m\u001b[43mx\u001b[49m\u001b[38;5;241;43m=\u001b[39;49m\u001b[43mx\u001b[49m\u001b[43m,\u001b[49m\n\u001b[1;32m    858\u001b[0m \u001b[43m    \u001b[49m\u001b[43my\u001b[49m\u001b[38;5;241;43m=\u001b[39;49m\u001b[43my\u001b[49m\u001b[43m,\u001b[49m\n\u001b[1;32m    859\u001b[0m \u001b[43m    \u001b[49m\u001b[43mbatch_size\u001b[49m\u001b[38;5;241;43m=\u001b[39;49m\u001b[43mbatch_size\u001b[49m\u001b[43m,\u001b[49m\n\u001b[1;32m    860\u001b[0m \u001b[43m    \u001b[49m\u001b[43mepochs\u001b[49m\u001b[38;5;241;43m=\u001b[39;49m\u001b[43mepochs\u001b[49m\u001b[43m,\u001b[49m\n\u001b[1;32m    861\u001b[0m \u001b[43m    \u001b[49m\u001b[43mverbose\u001b[49m\u001b[38;5;241;43m=\u001b[39;49m\u001b[43mverbose\u001b[49m\u001b[43m,\u001b[49m\n\u001b[1;32m    862\u001b[0m \u001b[43m    \u001b[49m\u001b[43mcallbacks\u001b[49m\u001b[38;5;241;43m=\u001b[39;49m\u001b[43mcallbacks\u001b[49m\u001b[43m,\u001b[49m\n\u001b[1;32m    863\u001b[0m \u001b[43m    \u001b[49m\u001b[43mvalidation_split\u001b[49m\u001b[38;5;241;43m=\u001b[39;49m\u001b[43mvalidation_split\u001b[49m\u001b[43m,\u001b[49m\n\u001b[1;32m    864\u001b[0m \u001b[43m    \u001b[49m\u001b[43mvalidation_data\u001b[49m\u001b[38;5;241;43m=\u001b[39;49m\u001b[43mvalidation_data\u001b[49m\u001b[43m,\u001b[49m\n\u001b[1;32m    865\u001b[0m \u001b[43m    \u001b[49m\u001b[43mshuffle\u001b[49m\u001b[38;5;241;43m=\u001b[39;49m\u001b[43mshuffle\u001b[49m\u001b[43m,\u001b[49m\n\u001b[1;32m    866\u001b[0m \u001b[43m    \u001b[49m\u001b[43mclass_weight\u001b[49m\u001b[38;5;241;43m=\u001b[39;49m\u001b[43mclass_weight\u001b[49m\u001b[43m,\u001b[49m\n\u001b[1;32m    867\u001b[0m \u001b[43m    \u001b[49m\u001b[43msample_weight\u001b[49m\u001b[38;5;241;43m=\u001b[39;49m\u001b[43msample_weight\u001b[49m\u001b[43m,\u001b[49m\n\u001b[1;32m    868\u001b[0m \u001b[43m    \u001b[49m\u001b[43minitial_epoch\u001b[49m\u001b[38;5;241;43m=\u001b[39;49m\u001b[43minitial_epoch\u001b[49m\u001b[43m,\u001b[49m\n\u001b[1;32m    869\u001b[0m \u001b[43m    \u001b[49m\u001b[43msteps_per_epoch\u001b[49m\u001b[38;5;241;43m=\u001b[39;49m\u001b[43msteps_per_epoch\u001b[49m\u001b[43m,\u001b[49m\n\u001b[1;32m    870\u001b[0m \u001b[43m    \u001b[49m\u001b[43mvalidation_steps\u001b[49m\u001b[38;5;241;43m=\u001b[39;49m\u001b[43mvalidation_steps\u001b[49m\u001b[43m,\u001b[49m\n\u001b[1;32m    871\u001b[0m \u001b[43m    \u001b[49m\u001b[43mvalidation_freq\u001b[49m\u001b[38;5;241;43m=\u001b[39;49m\u001b[43mvalidation_freq\u001b[49m\u001b[43m,\u001b[49m\n\u001b[1;32m    872\u001b[0m \u001b[43m    \u001b[49m\u001b[43mmax_queue_size\u001b[49m\u001b[38;5;241;43m=\u001b[39;49m\u001b[43mmax_queue_size\u001b[49m\u001b[43m,\u001b[49m\n\u001b[1;32m    873\u001b[0m \u001b[43m    \u001b[49m\u001b[43mworkers\u001b[49m\u001b[38;5;241;43m=\u001b[39;49m\u001b[43mworkers\u001b[49m\u001b[43m,\u001b[49m\n\u001b[1;32m    874\u001b[0m \u001b[43m    \u001b[49m\u001b[43muse_multiprocessing\u001b[49m\u001b[38;5;241;43m=\u001b[39;49m\u001b[43muse_multiprocessing\u001b[49m\u001b[43m,\u001b[49m\n\u001b[1;32m    875\u001b[0m \u001b[43m\u001b[49m\u001b[43m)\u001b[49m\n",
      "File \u001b[0;32m~/Desktop/RNB00978/sample_count/sample_gen/dense_layer/dense_full_env_00/lib/python3.9/site-packages/keras/engine/training_arrays_v1.py:734\u001b[0m, in \u001b[0;36mArrayLikeTrainingLoop.fit\u001b[0;34m(self, model, x, y, batch_size, epochs, verbose, callbacks, validation_split, validation_data, shuffle, class_weight, sample_weight, initial_epoch, steps_per_epoch, validation_steps, validation_freq, **kwargs)\u001b[0m\n\u001b[1;32m    728\u001b[0m         \u001b[38;5;28;01mraise\u001b[39;00m \u001b[38;5;167;01mValueError\u001b[39;00m(\n\u001b[1;32m    729\u001b[0m             \u001b[38;5;124m\"\u001b[39m\u001b[38;5;124m`validation_steps` should not be specified if \u001b[39m\u001b[38;5;124m\"\u001b[39m\n\u001b[1;32m    730\u001b[0m             \u001b[38;5;124m\"\u001b[39m\u001b[38;5;124m`validation_data` is None.\u001b[39m\u001b[38;5;124m\"\u001b[39m\n\u001b[1;32m    731\u001b[0m         )\n\u001b[1;32m    732\u001b[0m     val_x, val_y, val_sample_weights \u001b[38;5;241m=\u001b[39m \u001b[38;5;28;01mNone\u001b[39;00m, \u001b[38;5;28;01mNone\u001b[39;00m, \u001b[38;5;28;01mNone\u001b[39;00m\n\u001b[0;32m--> 734\u001b[0m \u001b[38;5;28;01mreturn\u001b[39;00m \u001b[43mfit_loop\u001b[49m\u001b[43m(\u001b[49m\n\u001b[1;32m    735\u001b[0m \u001b[43m    \u001b[49m\u001b[43mmodel\u001b[49m\u001b[43m,\u001b[49m\n\u001b[1;32m    736\u001b[0m \u001b[43m    \u001b[49m\u001b[43minputs\u001b[49m\u001b[38;5;241;43m=\u001b[39;49m\u001b[43mx\u001b[49m\u001b[43m,\u001b[49m\n\u001b[1;32m    737\u001b[0m \u001b[43m    \u001b[49m\u001b[43mtargets\u001b[49m\u001b[38;5;241;43m=\u001b[39;49m\u001b[43my\u001b[49m\u001b[43m,\u001b[49m\n\u001b[1;32m    738\u001b[0m \u001b[43m    \u001b[49m\u001b[43msample_weights\u001b[49m\u001b[38;5;241;43m=\u001b[39;49m\u001b[43msample_weights\u001b[49m\u001b[43m,\u001b[49m\n\u001b[1;32m    739\u001b[0m \u001b[43m    \u001b[49m\u001b[43mbatch_size\u001b[49m\u001b[38;5;241;43m=\u001b[39;49m\u001b[43mbatch_size\u001b[49m\u001b[43m,\u001b[49m\n\u001b[1;32m    740\u001b[0m \u001b[43m    \u001b[49m\u001b[43mepochs\u001b[49m\u001b[38;5;241;43m=\u001b[39;49m\u001b[43mepochs\u001b[49m\u001b[43m,\u001b[49m\n\u001b[1;32m    741\u001b[0m \u001b[43m    \u001b[49m\u001b[43mverbose\u001b[49m\u001b[38;5;241;43m=\u001b[39;49m\u001b[43mverbose\u001b[49m\u001b[43m,\u001b[49m\n\u001b[1;32m    742\u001b[0m \u001b[43m    \u001b[49m\u001b[43mcallbacks\u001b[49m\u001b[38;5;241;43m=\u001b[39;49m\u001b[43mcallbacks\u001b[49m\u001b[43m,\u001b[49m\n\u001b[1;32m    743\u001b[0m \u001b[43m    \u001b[49m\u001b[43mval_inputs\u001b[49m\u001b[38;5;241;43m=\u001b[39;49m\u001b[43mval_x\u001b[49m\u001b[43m,\u001b[49m\n\u001b[1;32m    744\u001b[0m \u001b[43m    \u001b[49m\u001b[43mval_targets\u001b[49m\u001b[38;5;241;43m=\u001b[39;49m\u001b[43mval_y\u001b[49m\u001b[43m,\u001b[49m\n\u001b[1;32m    745\u001b[0m \u001b[43m    \u001b[49m\u001b[43mval_sample_weights\u001b[49m\u001b[38;5;241;43m=\u001b[39;49m\u001b[43mval_sample_weights\u001b[49m\u001b[43m,\u001b[49m\n\u001b[1;32m    746\u001b[0m \u001b[43m    \u001b[49m\u001b[43mshuffle\u001b[49m\u001b[38;5;241;43m=\u001b[39;49m\u001b[43mshuffle\u001b[49m\u001b[43m,\u001b[49m\n\u001b[1;32m    747\u001b[0m \u001b[43m    \u001b[49m\u001b[43minitial_epoch\u001b[49m\u001b[38;5;241;43m=\u001b[39;49m\u001b[43minitial_epoch\u001b[49m\u001b[43m,\u001b[49m\n\u001b[1;32m    748\u001b[0m \u001b[43m    \u001b[49m\u001b[43msteps_per_epoch\u001b[49m\u001b[38;5;241;43m=\u001b[39;49m\u001b[43msteps_per_epoch\u001b[49m\u001b[43m,\u001b[49m\n\u001b[1;32m    749\u001b[0m \u001b[43m    \u001b[49m\u001b[43mvalidation_steps\u001b[49m\u001b[38;5;241;43m=\u001b[39;49m\u001b[43mvalidation_steps\u001b[49m\u001b[43m,\u001b[49m\n\u001b[1;32m    750\u001b[0m \u001b[43m    \u001b[49m\u001b[43mvalidation_freq\u001b[49m\u001b[38;5;241;43m=\u001b[39;49m\u001b[43mvalidation_freq\u001b[49m\u001b[43m,\u001b[49m\n\u001b[1;32m    751\u001b[0m \u001b[43m    \u001b[49m\u001b[43msteps_name\u001b[49m\u001b[38;5;241;43m=\u001b[39;49m\u001b[38;5;124;43m\"\u001b[39;49m\u001b[38;5;124;43msteps_per_epoch\u001b[39;49m\u001b[38;5;124;43m\"\u001b[39;49m\u001b[43m,\u001b[49m\n\u001b[1;32m    752\u001b[0m \u001b[43m\u001b[49m\u001b[43m)\u001b[49m\n",
      "File \u001b[0;32m~/Desktop/RNB00978/sample_count/sample_gen/dense_layer/dense_full_env_00/lib/python3.9/site-packages/keras/engine/training_arrays_v1.py:419\u001b[0m, in \u001b[0;36mmodel_iteration\u001b[0;34m(model, inputs, targets, sample_weights, batch_size, epochs, verbose, callbacks, val_inputs, val_targets, val_sample_weights, shuffle, initial_epoch, steps_per_epoch, validation_steps, validation_freq, mode, validation_in_fit, prepared_feed_values_from_dataset, steps_name, **kwargs)\u001b[0m\n\u001b[1;32m    414\u001b[0m callbacks\u001b[38;5;241m.\u001b[39m_call_batch_hook(\n\u001b[1;32m    415\u001b[0m     mode, \u001b[38;5;124m\"\u001b[39m\u001b[38;5;124mbegin\u001b[39m\u001b[38;5;124m\"\u001b[39m, batch_index, batch_logs\n\u001b[1;32m    416\u001b[0m )\n\u001b[1;32m    418\u001b[0m \u001b[38;5;66;03m# Get outputs.\u001b[39;00m\n\u001b[0;32m--> 419\u001b[0m batch_outs \u001b[38;5;241m=\u001b[39m \u001b[43mf\u001b[49m\u001b[43m(\u001b[49m\u001b[43mins_batch\u001b[49m\u001b[43m)\u001b[49m\n\u001b[1;32m    420\u001b[0m \u001b[38;5;28;01mif\u001b[39;00m \u001b[38;5;129;01mnot\u001b[39;00m \u001b[38;5;28misinstance\u001b[39m(batch_outs, \u001b[38;5;28mlist\u001b[39m):\n\u001b[1;32m    421\u001b[0m     batch_outs \u001b[38;5;241m=\u001b[39m [batch_outs]\n",
      "File \u001b[0;32m~/Desktop/RNB00978/sample_count/sample_gen/dense_layer/dense_full_env_00/lib/python3.9/site-packages/keras/backend.py:4577\u001b[0m, in \u001b[0;36mGraphExecutionFunction.__call__\u001b[0;34m(self, inputs)\u001b[0m\n\u001b[1;32m   4567\u001b[0m \u001b[38;5;28;01mif\u001b[39;00m (\n\u001b[1;32m   4568\u001b[0m     \u001b[38;5;28mself\u001b[39m\u001b[38;5;241m.\u001b[39m_callable_fn \u001b[38;5;129;01mis\u001b[39;00m \u001b[38;5;28;01mNone\u001b[39;00m\n\u001b[1;32m   4569\u001b[0m     \u001b[38;5;129;01mor\u001b[39;00m feed_arrays \u001b[38;5;241m!=\u001b[39m \u001b[38;5;28mself\u001b[39m\u001b[38;5;241m.\u001b[39m_feed_arrays\n\u001b[0;32m   (...)\u001b[0m\n\u001b[1;32m   4573\u001b[0m     \u001b[38;5;129;01mor\u001b[39;00m session \u001b[38;5;241m!=\u001b[39m \u001b[38;5;28mself\u001b[39m\u001b[38;5;241m.\u001b[39m_session\n\u001b[1;32m   4574\u001b[0m ):\n\u001b[1;32m   4575\u001b[0m     \u001b[38;5;28mself\u001b[39m\u001b[38;5;241m.\u001b[39m_make_callable(feed_arrays, feed_symbols, symbol_vals, session)\n\u001b[0;32m-> 4577\u001b[0m fetched \u001b[38;5;241m=\u001b[39m \u001b[38;5;28;43mself\u001b[39;49m\u001b[38;5;241;43m.\u001b[39;49m\u001b[43m_callable_fn\u001b[49m\u001b[43m(\u001b[49m\u001b[38;5;241;43m*\u001b[39;49m\u001b[43marray_vals\u001b[49m\u001b[43m,\u001b[49m\u001b[43m \u001b[49m\u001b[43mrun_metadata\u001b[49m\u001b[38;5;241;43m=\u001b[39;49m\u001b[38;5;28;43mself\u001b[39;49m\u001b[38;5;241;43m.\u001b[39;49m\u001b[43mrun_metadata\u001b[49m\u001b[43m)\u001b[49m\n\u001b[1;32m   4578\u001b[0m \u001b[38;5;28mself\u001b[39m\u001b[38;5;241m.\u001b[39m_call_fetch_callbacks(fetched[\u001b[38;5;241m-\u001b[39m\u001b[38;5;28mlen\u001b[39m(\u001b[38;5;28mself\u001b[39m\u001b[38;5;241m.\u001b[39m_fetches) :])\n\u001b[1;32m   4579\u001b[0m output_structure \u001b[38;5;241m=\u001b[39m tf\u001b[38;5;241m.\u001b[39mnest\u001b[38;5;241m.\u001b[39mpack_sequence_as(\n\u001b[1;32m   4580\u001b[0m     \u001b[38;5;28mself\u001b[39m\u001b[38;5;241m.\u001b[39m_outputs_structure,\n\u001b[1;32m   4581\u001b[0m     fetched[: \u001b[38;5;28mlen\u001b[39m(\u001b[38;5;28mself\u001b[39m\u001b[38;5;241m.\u001b[39moutputs)],\n\u001b[1;32m   4582\u001b[0m     expand_composites\u001b[38;5;241m=\u001b[39m\u001b[38;5;28;01mTrue\u001b[39;00m,\n\u001b[1;32m   4583\u001b[0m )\n",
      "File \u001b[0;32m~/Desktop/RNB00978/sample_count/sample_gen/dense_layer/dense_full_env_00/lib/python3.9/site-packages/tensorflow/python/client/session.py:1481\u001b[0m, in \u001b[0;36mBaseSession._Callable.__call__\u001b[0;34m(self, *args, **kwargs)\u001b[0m\n\u001b[1;32m   1479\u001b[0m \u001b[38;5;28;01mtry\u001b[39;00m:\n\u001b[1;32m   1480\u001b[0m   run_metadata_ptr \u001b[38;5;241m=\u001b[39m tf_session\u001b[38;5;241m.\u001b[39mTF_NewBuffer() \u001b[38;5;28;01mif\u001b[39;00m run_metadata \u001b[38;5;28;01melse\u001b[39;00m \u001b[38;5;28;01mNone\u001b[39;00m\n\u001b[0;32m-> 1481\u001b[0m   ret \u001b[38;5;241m=\u001b[39m \u001b[43mtf_session\u001b[49m\u001b[38;5;241;43m.\u001b[39;49m\u001b[43mTF_SessionRunCallable\u001b[49m\u001b[43m(\u001b[49m\u001b[38;5;28;43mself\u001b[39;49m\u001b[38;5;241;43m.\u001b[39;49m\u001b[43m_session\u001b[49m\u001b[38;5;241;43m.\u001b[39;49m\u001b[43m_session\u001b[49m\u001b[43m,\u001b[49m\n\u001b[1;32m   1482\u001b[0m \u001b[43m                                         \u001b[49m\u001b[38;5;28;43mself\u001b[39;49m\u001b[38;5;241;43m.\u001b[39;49m\u001b[43m_handle\u001b[49m\u001b[43m,\u001b[49m\u001b[43m \u001b[49m\u001b[43margs\u001b[49m\u001b[43m,\u001b[49m\n\u001b[1;32m   1483\u001b[0m \u001b[43m                                         \u001b[49m\u001b[43mrun_metadata_ptr\u001b[49m\u001b[43m)\u001b[49m\n\u001b[1;32m   1484\u001b[0m   \u001b[38;5;28;01mif\u001b[39;00m run_metadata:\n\u001b[1;32m   1485\u001b[0m     proto_data \u001b[38;5;241m=\u001b[39m tf_session\u001b[38;5;241m.\u001b[39mTF_GetBuffer(run_metadata_ptr)\n",
      "\u001b[0;31mKeyboardInterrupt\u001b[0m: "
     ]
    }
   ],
   "source": [
    "# fit, restart kernel and recompile model between runs; direct fit for BRCA fast follow\n",
    "\n",
    "history = vae.fit(x=train_norm_arr_exp, y=train_norm_arr_exp, epochs=epochs,\n",
    "                  batch_size=batch_size,\n",
    "                  validation_data=(test_norm_arr_exp, test_norm_arr_exp))"
   ]
  },
  {
   "cell_type": "code",
   "execution_count": null,
   "id": "d983b005-41fd-4a75-9692-34b226e313ac",
   "metadata": {},
   "outputs": [],
   "source": []
  },
  {
   "cell_type": "code",
   "execution_count": 31,
   "id": "007cd783-2f5c-4442-8494-9eea05c9dfd9",
   "metadata": {},
   "outputs": [
    {
     "data": {
      "text/plain": [
       "'/Users/karlberb/Desktop/RNB00978/sample_count/sample_gen/synthetic_TCGA_data_gen/b_model'"
      ]
     },
     "execution_count": 31,
     "metadata": {},
     "output_type": "execute_result"
    }
   ],
   "source": [
    "pwd"
   ]
  },
  {
   "cell_type": "code",
   "execution_count": null,
   "id": "8f64c620-d862-4ede-a42e-82e1255afd1d",
   "metadata": {},
   "outputs": [],
   "source": [
    "# Try adding 15k, 5k (?) - secondary priority to RobustScaler"
   ]
  },
  {
   "cell_type": "code",
   "execution_count": null,
   "id": "f0dd7ae1-d8e4-49c6-b6dc-332bf3acdd00",
   "metadata": {},
   "outputs": [],
   "source": [
    "# BRCA blank run loss stepping down within epochs\n",
    "\n",
    "# pre train epochs seems too much at 20\n",
    "# cutting outliers feels injection of artificial signal\n",
    "    # without a doubt, this is a crude technical artifact\n",
    "# need a focused RobustScaler set"
   ]
  },
  {
   "cell_type": "code",
   "execution_count": 17,
   "id": "d5e2a833-6692-4d35-8062-312e1637ac35",
   "metadata": {},
   "outputs": [
    {
     "data": {
      "text/plain": [
       "('1k', 'BRCA')"
      ]
     },
     "execution_count": 17,
     "metadata": {},
     "output_type": "execute_result"
    }
   ],
   "source": [
    "otlr_cut, cohort # completed run variable check for file naming"
   ]
  },
  {
   "cell_type": "code",
   "execution_count": 19,
   "id": "f4a7f784-d334-4be7-8a07-e0a9782f257a",
   "metadata": {},
   "outputs": [
    {
     "data": {
      "text/plain": [
       "('500', 'BRCA')"
      ]
     },
     "execution_count": 19,
     "metadata": {},
     "output_type": "execute_result"
    }
   ],
   "source": [
    "otlr_cut, cohort # completed run variable check for file naming"
   ]
  },
  {
   "cell_type": "code",
   "execution_count": 20,
   "id": "baaed1ac-4f5f-4d23-8f1c-2071365f84d1",
   "metadata": {},
   "outputs": [
    {
     "data": {
      "text/plain": [
       "('100k', 'BRCA')"
      ]
     },
     "execution_count": 20,
     "metadata": {},
     "output_type": "execute_result"
    }
   ],
   "source": [
    "otlr_cut, cohort # completed run variable check for file naming"
   ]
  },
  {
   "cell_type": "code",
   "execution_count": 34,
   "id": "177e75ca-32ec-40b8-8d2e-c97eb7bf7af7",
   "metadata": {},
   "outputs": [
    {
     "data": {
      "text/plain": [
       "('10k', 'BRCA')"
      ]
     },
     "execution_count": 34,
     "metadata": {},
     "output_type": "execute_result"
    }
   ],
   "source": [
    "otlr_cut, cohort # 5 epoch pretrain test"
   ]
  },
  {
   "cell_type": "code",
   "execution_count": null,
   "id": "485759d8-d7c3-4807-8f48-2195bc12401d",
   "metadata": {},
   "outputs": [],
   "source": [
    "otlr_cut, cohort"
   ]
  },
  {
   "cell_type": "code",
   "execution_count": null,
   "id": "7417a541-93ee-439a-9594-fcd7d44ae475",
   "metadata": {},
   "outputs": [],
   "source": [
    "norm = 'MinMax'"
   ]
  },
  {
   "cell_type": "code",
   "execution_count": null,
   "id": "c6f99dbc-523f-4789-b1dd-1491236a3370",
   "metadata": {},
   "outputs": [],
   "source": [
    "norm = 'Robust'"
   ]
  },
  {
   "cell_type": "code",
   "execution_count": 35,
   "id": "094d9c28-3631-4e11-b463-c438ad19d403",
   "metadata": {},
   "outputs": [
    {
     "data": {
      "image/png": "[encoded data removed]",
      "text/plain": [
       "<Figure size 640x480 with 1 Axes>"
      ]
     },
     "metadata": {},
     "output_type": "display_data"
    }
   ],
   "source": [
    "plt.plot(history.history['loss'],label=\"loss\")\n",
    "plt.plot(history.history['val_loss'],label=\"val_loss\")\n",
    "plt.title(cohort+' embedding loss\\n1D convolutional VAE'\n",
    "          # ' pre-train\\n'+\n",
    "         )\n",
    "plt.xlabel('Epoch')\n",
    "plt.ylabel('Loss')\n",
    "plt.annotate('Outliers cut value = '+otlr_cut+\n",
    "             '\\nlatent dim = '+str(latent_dim)+\n",
    "             '\\nBatch size = '+str(batch_size)+\n",
    "             '\\nConvolutional layer count = 2\\nTest ratio = .25\\nNormalization = MinMax',\n",
    "            xy=(.4, .8), xycoords='figure fraction',\n",
    "            horizontalalignment='left', verticalalignment='top',\n",
    "            # fontsize=20\n",
    "            )\n",
    "\n",
    "plt.legend(loc=\"lower left\")\n",
    "plt.savefig('loss_curves_ignored/'+cohort+\n",
    "            '_v2_outlier_cut:_'+otlr_cut+\n",
    "            # '_pretrain_'+\n",
    "             ''+\n",
    "            '_epochs:_'+str(epochs)+\n",
    "            '_latent_dim:_'+str(latent_dim)+\n",
    "            date+'_'+version+'.png')"
   ]
  },
  {
   "cell_type": "code",
   "execution_count": 36,
   "id": "f9b1537f-590e-4ad6-b837-c53104100500",
   "metadata": {},
   "outputs": [
    {
     "name": "stderr",
     "output_type": "stream",
     "text": [
      "/Users/karlberb/Desktop/RNB00978/sample_count/sample_gen/dense_layer/dense_full_env_00/lib/python3.9/site-packages/keras/engine/training_v1.py:2356: UserWarning: `Model.state_updates` will be removed in a future version. This property should not be used in TensorFlow 2.0, as `updates` are applied automatically.\n",
      "  updates=self.state_updates,\n"
     ]
    }
   ],
   "source": [
    "trn_ltnt = encoder.predict(train_norm_arr_exp)"
   ]
  },
  {
   "cell_type": "code",
   "execution_count": 37,
   "id": "fe52c110-f179-46ba-a070-81b46ef1e2c6",
   "metadata": {},
   "outputs": [],
   "source": [
    "tst_ltnt = encoder.predict(test_norm_arr_exp)"
   ]
  },
  {
   "cell_type": "code",
   "execution_count": 38,
   "id": "1a5e6f60-b2db-4246-a892-49f006daf7da",
   "metadata": {},
   "outputs": [],
   "source": [
    "trn_dec = decoder.predict(trn_ltnt)"
   ]
  },
  {
   "cell_type": "code",
   "execution_count": 39,
   "id": "67b2e16b-a367-4aa0-b02b-bc7cf235aaf3",
   "metadata": {},
   "outputs": [],
   "source": [
    "tst_dec = decoder.predict(tst_ltnt)"
   ]
  },
  {
   "cell_type": "code",
   "execution_count": 40,
   "id": "c145d639-6afd-4fc5-a407-5a5e621dfbf9",
   "metadata": {
    "tags": []
   },
   "outputs": [],
   "source": [
    "trn_decDF = pd.DataFrame(np.squeeze(trn_dec)) # hoping the labels map from the raw file, do in UMAP"
   ]
  },
  {
   "cell_type": "code",
   "execution_count": 41,
   "id": "de273ef7-b2ee-4b29-84b8-6d43d3d294b7",
   "metadata": {},
   "outputs": [],
   "source": [
    "tst_decDF = pd.DataFrame(np.squeeze(tst_dec))"
   ]
  },
  {
   "cell_type": "code",
   "execution_count": 42,
   "id": "915aa764-5167-4e5c-b000-ca1a5cd3a275",
   "metadata": {},
   "outputs": [
    {
     "data": {
      "text/plain": [
       "(249, 20530)"
      ]
     },
     "execution_count": 42,
     "metadata": {},
     "output_type": "execute_result"
    }
   ],
   "source": [
    "tst_decDF.shape"
   ]
  },
  {
   "cell_type": "code",
   "execution_count": 62,
   "id": "ffe28730-e104-4f6a-b6da-259944be5626",
   "metadata": {},
   "outputs": [
    {
     "data": {
      "text/plain": [
       "'/Users/karlberb/Desktop/RNB00978/sample_count/sample_gen/synthetic_TCGA_data_gen/b_model'"
      ]
     },
     "execution_count": 62,
     "metadata": {},
     "output_type": "execute_result"
    }
   ],
   "source": [
    "pwd"
   ]
  },
  {
   "cell_type": "code",
   "execution_count": 63,
   "id": "7c62f57d-5b37-40cd-831f-8f0d8e57ba6c",
   "metadata": {},
   "outputs": [
    {
     "name": "stdout",
     "output_type": "stream",
     "text": [
      "1Dconv_devel.ipynb   b_1Dmodel_00.ipynb   \u001b[34mdata\u001b[m\u001b[m/\n",
      "1Dmodel.ipynb        b_model_02.ipynb     \u001b[34mdec_out_ignrd\u001b[m\u001b[m/\n",
      "README.txt           b_model_03.ipynb     \u001b[34mdecoded\u001b[m\u001b[m/\n",
      "\u001b[34marchive\u001b[m\u001b[m/             cvae.txt             \u001b[34mloss_curves_ignored\u001b[m\u001b[m/\n"
     ]
    }
   ],
   "source": [
    "ls"
   ]
  },
  {
   "cell_type": "code",
   "execution_count": 40,
   "id": "21554ea0-2dce-4a33-a95d-4f248251b545",
   "metadata": {},
   "outputs": [],
   "source": [
    "trn_decDF.to_csv('decoded/'+cohort+'_'+\n",
    "            # '_pretrain_'+\n",
    "            otlr_cut+'_outlier_cut_train_'+ # Train <------\n",
    "            str(epochs)+'_epochs_'+\n",
    "            str(latent_dim)+'_latent_dim_'+\n",
    "            date+'_'+version+'.tsv', sep = '\\t')"
   ]
  },
  {
   "cell_type": "code",
   "execution_count": 41,
   "id": "dc70a87d-aa37-413b-a845-179be92d0357",
   "metadata": {},
   "outputs": [],
   "source": [
    "tst_decDF.to_csv('decoded/'+cohort+'_'+\n",
    "            # '_pretrain_'+\n",
    "            otlr_cut+'_outlier_cut_test_'+ # Test <------\n",
    "            str(epochs)+'_epochs_'+\n",
    "            str(latent_dim)+'_latent_dim_'+\n",
    "            date+'_'+version+'.tsv', sep = '\\t')"
   ]
  },
  {
   "cell_type": "code",
   "execution_count": null,
   "id": "611a9fbb-5eff-4188-b4a1-54c578bc14aa",
   "metadata": {},
   "outputs": [],
   "source": [
    "otlr_cut, cohort # file written, done"
   ]
  },
  {
   "cell_type": "code",
   "execution_count": null,
   "id": "90dab5f4-0522-4381-a3b8-0aa6968f66de",
   "metadata": {},
   "outputs": [],
   "source": [
    "otlr_cut, cohort # file written, done"
   ]
  },
  {
   "cell_type": "code",
   "execution_count": 33,
   "id": "4b6e39da-051b-4c56-b73b-dfdf6095b847",
   "metadata": {},
   "outputs": [
    {
     "data": {
      "text/plain": [
       "('10k', 'BRCA')"
      ]
     },
     "execution_count": 33,
     "metadata": {},
     "output_type": "execute_result"
    }
   ],
   "source": [
    "otlr_cut, cohort # file written, done"
   ]
  },
  {
   "cell_type": "code",
   "execution_count": null,
   "id": "bce87141-a31c-4392-978d-dd9715a69e21",
   "metadata": {},
   "outputs": [],
   "source": [
    "# notes:"
   ]
  },
  {
   "cell_type": "code",
   "execution_count": null,
   "id": "f09082dd-49ed-47d5-9da5-e046c8366784",
   "metadata": {},
   "outputs": [],
   "source": [
    "# order of tuning ops:\n",
    "    # right model type, VAE vs transformer\n",
    "    # right layer type, 1D vs 2D conv\n",
    "    # right data normalization scheme - manual outlier cut with MinMax vs. RobustScaler\n",
    "    # right batch_size\n",
    "    # right latent dimension\n",
    "    # right number of epochs, maybe less for pre-train"
   ]
  },
  {
   "cell_type": "code",
   "execution_count": null,
   "id": "b16cc463-987e-4d88-972b-9e27f7e0cdf5",
   "metadata": {},
   "outputs": [],
   "source": [
    "# Concept note:\n",
    "# filters go up through encoder layers, outward in detail\n",
    "# e.g. 8 first, then 16 on next layer"
   ]
  },
  {
   "cell_type": "code",
   "execution_count": null,
   "id": "4b6c85df-c1ec-466e-a0e0-e049865e0370",
   "metadata": {},
   "outputs": [],
   "source": [
    "batch_size = 64"
   ]
  },
  {
   "cell_type": "code",
   "execution_count": null,
   "id": "8eb04b9b-4940-4916-ba59-3b9d2667863a",
   "metadata": {},
   "outputs": [],
   "source": [
    "batch_size = 128"
   ]
  },
  {
   "cell_type": "code",
   "execution_count": 36,
   "id": "9cadb0d2-62ec-45b0-957a-4782de249a23",
   "metadata": {},
   "outputs": [
    {
     "data": {
      "text/plain": [
       "(299, 20530, 1)"
      ]
     },
     "execution_count": 36,
     "metadata": {},
     "output_type": "execute_result"
    }
   ],
   "source": [
    "tst_dec.shape"
   ]
  },
  {
   "cell_type": "code",
   "execution_count": null,
   "id": "2dd2e9a4-1071-4e1f-b754-a1cda8559c0f",
   "metadata": {},
   "outputs": [],
   "source": [
    "# write 2 decoded files per outlier cut step"
   ]
  },
  {
   "cell_type": "code",
   "execution_count": null,
   "id": "b35e06cd-39d2-465e-9155-d6fece8de622",
   "metadata": {},
   "outputs": [],
   "source": [
    "# send to UMAP\n",
    "    # Start with three bladder plots\n",
    "        # 10k, 1k, 500\n",
    "    # Run BRCA fine tune?\n",
    "    # Run lone BRCA UMAP next"
   ]
  },
  {
   "cell_type": "code",
   "execution_count": null,
   "id": "b90327ef-707b-45f0-9208-90c863faecda",
   "metadata": {},
   "outputs": [],
   "source": [
    "# inverse of expand "
   ]
  }
 ],
 "metadata": {
  "kernelspec": {
   "display_name": "dense_full_env_00",
   "language": "python",
   "name": "dense_full_env_00"
  },
  "language_info": {
   "codemirror_mode": {
    "name": "ipython",
    "version": 3
   },
   "file_extension": ".py",
   "mimetype": "text/x-python",
   "name": "python",
   "nbconvert_exporter": "python",
   "pygments_lexer": "ipython3",
   "version": "3.9.7"
  }
 },
 "nbformat": 4,
 "nbformat_minor": 5
}
