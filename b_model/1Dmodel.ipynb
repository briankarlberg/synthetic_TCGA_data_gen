{
 "cells": [
  {
   "cell_type": "markdown",
   "id": "46c50a55-39ad-4227-b034-e6bb2df97ea9",
   "metadata": {},
   "source": [
    "### 1D conv model  \n",
    "\n",
    "Production run on 3 outlier clipping models  \n",
    "\n",
    "for BRCA and BLCA\n",
    "\n",
    "From 1Dmodel_00.ipynb\n",
    "    Deconstruction notes and 2D to 1D conversion\n",
    "\n",
    "data:\n",
    "../a_data_structure/normalized_data/flat"
   ]
  },
  {
   "cell_type": "code",
   "execution_count": null,
   "id": "af6c6829-0e82-4bad-859b-2f4757e935a8",
   "metadata": {},
   "outputs": [],
   "source": [
    "ls ../a_data_structure/normalized_data/flat"
   ]
  },
  {
   "cell_type": "code",
   "execution_count": 5,
   "id": "c9e71b30-f55e-4ee4-ba14-de0bc9bd5ec5",
   "metadata": {},
   "outputs": [
    {
     "data": {
      "text/plain": [
       "14"
      ]
     },
     "execution_count": 5,
     "metadata": {},
     "output_type": "execute_result"
    }
   ],
   "source": [
    "# 7 files per 2 cancers, 14 possible model runs \n",
    "7*2"
   ]
  },
  {
   "cell_type": "raw",
   "id": "d1398d32-7d27-4f8d-9b5e-29c39627244a",
   "metadata": {
    "tags": []
   },
   "source": [
    "kernel setup:\n",
    "    \n",
    "    local:\n",
    "        # terminal in project root:\n",
    "        python3 -m venv cvae_venv\n",
    "        source cvae_venv/bin/activate\n",
    "        pip3 install jupyterlab ipykernel matplotlib numpy tensorflow==2.10 keras sklearn pydot graphviz pandas umap-learn imageio tensorflow_probability\n",
    "        which python3\n",
    "        path/to/project_root/cvae_venv/bin/python3 -m ipykernel install --name cvae_venv\n",
    "        # from fresh terminal in project_root, outside venv, select <cvae_venv> kernel at launch\n",
    "        jupyter lab\n",
    "        \n",
    "    Exacloud:\n",
    "        https://wiki.ohsu.edu/display/HACIIAPCS/2022/09/19/JupyterLab+on+Exacloud"
   ]
  },
  {
   "cell_type": "code",
   "execution_count": null,
   "id": "0dec4b8b-6ab8-41f6-91ac-c8a83d2dbae2",
   "metadata": {},
   "outputs": [],
   "source": [
    "# start 500 BLCA - fail, loss explodes after 7 or 8 epochs\n",
    "# skip BRCA fine tune, go to BRCA blank run, need RobustScaler"
   ]
  },
  {
   "cell_type": "code",
   "execution_count": 1,
   "id": "be8a66f3-daa6-4268-b3ba-7408b44803da",
   "metadata": {},
   "outputs": [
    {
     "name": "stdout",
     "output_type": "stream",
     "text": [
      "Interactive namespace is empty.\n"
     ]
    }
   ],
   "source": [
    "%whos"
   ]
  },
  {
   "cell_type": "code",
   "execution_count": 2,
   "id": "b0496b8f-9d4f-4065-906c-89f412290f9e",
   "metadata": {},
   "outputs": [],
   "source": [
    "# blank run START, Data import and setup\n",
    "import numpy as np\n",
    "import pandas as pd\n",
    "import matplotlib.pyplot as plt"
   ]
  },
  {
   "cell_type": "code",
   "execution_count": 3,
   "id": "05974a53-2704-4918-afb6-a4a0ae9de537",
   "metadata": {},
   "outputs": [],
   "source": [
    "cohort  = 'BLCA'"
   ]
  },
  {
   "cell_type": "code",
   "execution_count": 19,
   "id": "5297f64a-c977-41d5-bfe9-f13cadafd411",
   "metadata": {},
   "outputs": [],
   "source": [
    "cohort  = 'BRCA'"
   ]
  },
  {
   "cell_type": "code",
   "execution_count": null,
   "id": "a5f1dade-0573-419b-8528-ebba57881c38",
   "metadata": {},
   "outputs": [],
   "source": [
    "otlr_cut = '100k'"
   ]
  },
  {
   "cell_type": "code",
   "execution_count": 4,
   "id": "fd23eccb-5d95-4dd9-b298-5fbb9ecf1257",
   "metadata": {},
   "outputs": [],
   "source": [
    "otlr_cut = '10k' # starting the BRCA blank run, only run with these vars defined from the start\n",
    "# check the write-out files - three loss and three sets of decoded files"
   ]
  },
  {
   "cell_type": "code",
   "execution_count": null,
   "id": "3e61645f-43ba-4c7e-ba6e-8398c830b937",
   "metadata": {},
   "outputs": [],
   "source": [
    "otlr_cut = '1k' # restart kernel, run BLCA blank"
   ]
  },
  {
   "cell_type": "code",
   "execution_count": null,
   "id": "46f9c396-8651-479d-a017-5937bdb75411",
   "metadata": {},
   "outputs": [],
   "source": [
    "otlr_cut = '500' # starting BLCA blank run"
   ]
  },
  {
   "cell_type": "code",
   "execution_count": 20,
   "id": "9182b8eb-d810-4680-9f1a-f1f8a9c35845",
   "metadata": {},
   "outputs": [],
   "source": [
    "# read pre-normalized data\n",
    "train_norm = pd.read_csv('../a_data_structure/normalized_data/flat/'+cohort+'_X_train_flat_'+otlr_cut+'_otlr_cut_MinMax.tsv',\n",
    "                  sep = '\\t',\n",
    "                   index_col = 0)"
   ]
  },
  {
   "cell_type": "code",
   "execution_count": 21,
   "id": "59742e72-80ec-406d-a56b-6755b813e80e",
   "metadata": {},
   "outputs": [],
   "source": [
    "test_norm = pd.read_csv('../a_data_structure/normalized_data/flat/'+cohort+'_X_test_flat_'+otlr_cut+'_otlr_cut_MinMax.tsv',\n",
    "                  sep = '\\t',\n",
    "                   index_col = 0)"
   ]
  },
  {
   "cell_type": "code",
   "execution_count": 22,
   "id": "22ffa247-7437-4646-bbdc-fcdb14a7d23b",
   "metadata": {},
   "outputs": [
    {
     "data": {
      "text/plain": [
       "(746, 20530)"
      ]
     },
     "execution_count": 22,
     "metadata": {},
     "output_type": "execute_result"
    }
   ],
   "source": [
    "train_norm.shape"
   ]
  },
  {
   "cell_type": "code",
   "execution_count": 23,
   "id": "c65434b6-11de-4d55-a43b-ab29a93112fe",
   "metadata": {},
   "outputs": [
    {
     "data": {
      "text/plain": [
       "(249, 20530)"
      ]
     },
     "execution_count": 23,
     "metadata": {},
     "output_type": "execute_result"
    }
   ],
   "source": [
    "test_norm.shape"
   ]
  },
  {
   "cell_type": "code",
   "execution_count": 24,
   "id": "728e5875-0098-4c2e-b30f-63cbd00e78df",
   "metadata": {},
   "outputs": [],
   "source": [
    "train_norm_arr = train_norm.to_numpy()\n",
    "train_norm_arr_exp = np.expand_dims(train_norm_arr, axis=-1)"
   ]
  },
  {
   "cell_type": "code",
   "execution_count": 25,
   "id": "1e4542dc-eb2f-4616-8f29-06911659ab62",
   "metadata": {},
   "outputs": [
    {
     "data": {
      "text/plain": [
       "(746, 20530)"
      ]
     },
     "execution_count": 25,
     "metadata": {},
     "output_type": "execute_result"
    }
   ],
   "source": [
    "train_norm_arr.shape"
   ]
  },
  {
   "cell_type": "code",
   "execution_count": 26,
   "id": "4209e3cc-5430-4902-b4ca-42fa2a6ed046",
   "metadata": {},
   "outputs": [
    {
     "data": {
      "text/plain": [
       "(746, 20530, 1)"
      ]
     },
     "execution_count": 26,
     "metadata": {},
     "output_type": "execute_result"
    }
   ],
   "source": [
    "train_norm_arr_exp.shape"
   ]
  },
  {
   "cell_type": "code",
   "execution_count": 27,
   "id": "6db5f857-8229-45f5-907c-e32cb05336f3",
   "metadata": {},
   "outputs": [],
   "source": [
    "test_norm_arr = test_norm.to_numpy()\n",
    "test_norm_arr_exp = np.expand_dims(test_norm_arr, axis=-1)"
   ]
  },
  {
   "cell_type": "code",
   "execution_count": 13,
   "id": "4c580379-6a7c-4c7e-90d8-6851e5c5dade",
   "metadata": {},
   "outputs": [
    {
     "name": "stderr",
     "output_type": "stream",
     "text": [
      "2022-10-13 14:53:38.740580: I tensorflow/core/platform/cpu_feature_guard.cc:193] This TensorFlow binary is optimized with oneAPI Deep Neural Network Library (oneDNN) to use the following CPU instructions in performance-critical operations:  AVX2 FMA\n",
      "To enable them in other operations, rebuild TensorFlow with the appropriate compiler flags.\n"
     ]
    },
    {
     "name": "stdout",
     "output_type": "stream",
     "text": [
      "libraries done\n",
      "model built\n"
     ]
    }
   ],
   "source": [
    "# skip for fine-tune run\n",
    "# 1Dconv, do not rebuild in memory - build from fresh kernel only (blank run)\n",
    "\n",
    "latent_dim = 100\n",
    "\n",
    "import tensorflow as tf; tf.compat.v1.disable_eager_execution()\n",
    "\n",
    "from keras import backend as K\n",
    "from keras.layers import (Input, # want float.64 to go into this layer, two input layers (enc and dec)\n",
    "                          Conv1D,\n",
    "                          Dense,\n",
    "                          Conv1DTranspose,\n",
    "                          Flatten,\n",
    "                          Lambda,\n",
    "                          Reshape)\n",
    "from keras.models import Model\n",
    "\n",
    "from keras.losses import binary_crossentropy\n",
    "\n",
    "print('libraries done')\n",
    "\n",
    "tf.executing_eagerly()\n",
    "\n",
    "def compute_latent(x):\n",
    "    batch = K.shape(mu)[0]\n",
    "    dim = K.int_shape(mu)[1]\n",
    "    eps = K.random_normal(shape=(batch,dim))\n",
    "    return mu + K.exp(sigma/2)*eps\n",
    "\n",
    "def kl_reconstruction_loss(true, pred):                                                  \n",
    "    reconstruction_loss = binary_crossentropy(K.flatten(true), K.flatten(pred))\n",
    "    kl_loss = 1 + sigma - K.square(mu) - K.exp(sigma)\n",
    "    kl_loss = K.sum(kl_loss, axis=-1)\n",
    "    kl_loss *= -0.5\n",
    "    return K.mean(reconstruction_loss + kl_loss)\n",
    "\n",
    "encoder_input = Input(shape=(train_norm.shape[1],1,))\n",
    "\n",
    "encoder_conv = Conv1D(filters=8,\n",
    "                      kernel_size=3,\n",
    "                      activation='relu',\n",
    "                      padding='same')(encoder_input)\n",
    "\n",
    "encoder_conv = Conv1D(filters=16,\n",
    "                      kernel_size=3,\n",
    "                      padding='same',\n",
    "                      activation='relu')(encoder_conv)\n",
    "\n",
    "encoder = Flatten()(encoder_conv)\n",
    "\n",
    "mu = Dense(latent_dim)(encoder)\n",
    "sigma = Dense(latent_dim)(encoder)\n",
    "\n",
    "latent_space = Lambda(compute_latent, output_shape=(latent_dim,))([mu, sigma])\n",
    "                    \n",
    "conv_shape = K.int_shape(encoder_conv)\n",
    "\n",
    "# Decoder start\n",
    "decoder_input = Input(shape=(latent_dim,))\n",
    "\n",
    "decoder = Dense(conv_shape[1]*conv_shape[2], activation='relu')(decoder_input)\n",
    "decoder = Reshape((conv_shape[1], conv_shape[2]))(decoder)\n",
    "\n",
    "decoder_conv = Conv1DTranspose(filters=16,\n",
    "                      kernel_size=3,\n",
    "                      padding='same',\n",
    "                      activation='relu')(decoder)\n",
    "\n",
    "decoder_conv = Conv1DTranspose(filters=8,\n",
    "                      kernel_size=3,\n",
    "                      activation='relu',\n",
    "                      padding='same')(decoder_conv)\n",
    "\n",
    "decoder_conv = Conv1DTranspose(filters=1,\n",
    "                      kernel_size=3,\n",
    "                      activation='relu',\n",
    "                      padding='same')(decoder_conv)\n",
    "\n",
    "encoder = Model(encoder_input, latent_space)\n",
    "decoder = Model(decoder_input, decoder_conv)\n",
    "vae = Model(encoder_input, decoder(encoder(encoder_input)))\n",
    "vae.compile(optimizer='adam', loss=kl_reconstruction_loss)  # blank model set for (pre)training\n",
    "print('model built')"
   ]
  },
  {
   "cell_type": "code",
   "execution_count": null,
   "id": "75f43214-a379-4e10-b172-61cf0c535948",
   "metadata": {
    "tags": []
   },
   "outputs": [],
   "source": [
    "encoder.summary() # kernel restart, Layer names reset, shapes same"
   ]
  },
  {
   "cell_type": "code",
   "execution_count": null,
   "id": "075eb043-2b4a-42af-adb3-06ed6c238a10",
   "metadata": {
    "tags": []
   },
   "outputs": [],
   "source": [
    "decoder.summary() # kernel restart"
   ]
  },
  {
   "cell_type": "code",
   "execution_count": null,
   "id": "a1724163-ab51-41e3-be93-b1da3f336a2c",
   "metadata": {},
   "outputs": [],
   "source": [
    "# last number is number of filters"
   ]
  },
  {
   "cell_type": "code",
   "execution_count": null,
   "id": "f5d9ff1f-2f95-47e5-86b7-d3427d10dd45",
   "metadata": {},
   "outputs": [],
   "source": [
    "tf.keras.utils.plot_model(\n",
    "    encoder,\n",
    "    show_shapes=True,\n",
    "    to_file='./loss_curves_ignored/1D_model_r0.png')"
   ]
  },
  {
   "cell_type": "code",
   "execution_count": null,
   "id": "b3d3377f-0132-4694-8eac-08857ade594e",
   "metadata": {
    "tags": []
   },
   "outputs": [],
   "source": [
    "tf.keras.utils.plot_model(\n",
    "    encoder,\n",
    "    show_shapes=True,\n",
    "    to_file='./loss_curves_ignored/1D_enc_v3.png')"
   ]
  },
  {
   "cell_type": "code",
   "execution_count": null,
   "id": "828eaa86-4ee3-451a-b7a1-c589a4bc3d06",
   "metadata": {
    "tags": []
   },
   "outputs": [],
   "source": [
    "tf.keras.utils.plot_model(\n",
    "    decoder,\n",
    "    show_shapes=True,\n",
    "    to_file='./loss_curves_ignored/1D_dec_model_r0.png')"
   ]
  },
  {
   "cell_type": "code",
   "execution_count": null,
   "id": "68fb10fe-5f3d-4dd1-a300-29853b26b2ab",
   "metadata": {},
   "outputs": [],
   "source": [
    "# tuning thoughts\n",
    "# try with batch size turned down"
   ]
  },
  {
   "cell_type": "code",
   "execution_count": 14,
   "id": "27c56243-05f0-4f06-83b0-9541cf6656e2",
   "metadata": {},
   "outputs": [],
   "source": [
    "epochs = 15         # blank run\n",
    "version = '1Dmodel.ipynb'\n",
    "date = '2022-10-13' # blank run\n",
    "batch_size = 32     # blank run"
   ]
  },
  {
   "cell_type": "code",
   "execution_count": 15,
   "id": "a6a69aa3-3e65-4d43-bfdb-21a547dd5a9a",
   "metadata": {},
   "outputs": [],
   "source": [
    "epochs = 5 # turn down blca pretrain at 10k,\n",
    "            # end otlr cut series, for template RobustScaler"
   ]
  },
  {
   "cell_type": "code",
   "execution_count": 16,
   "id": "577fe135-a2ee-4d0c-8593-6c629e4d349a",
   "metadata": {},
   "outputs": [],
   "source": [
    "epochs = 10 # fine tune, overwrite on BRCA 500, expecting blow up"
   ]
  },
  {
   "cell_type": "code",
   "execution_count": 28,
   "id": "1ad248aa-234d-4628-a701-bb68c4b02b6f",
   "metadata": {},
   "outputs": [],
   "source": [
    "epochs = 15 # fine tune BRCA 10k, erratic pre-train cycles on BLCA"
   ]
  },
  {
   "cell_type": "code",
   "execution_count": null,
   "id": "3377f359-e572-4e84-9566-918ad0b56959",
   "metadata": {},
   "outputs": [],
   "source": [
    "            # fine tune, need to fix, using cohort differently now\n",
    "cohort = 'BRCA_fine_tune'"
   ]
  },
  {
   "cell_type": "code",
   "execution_count": 29,
   "id": "eedc500c-e123-4ba5-99b8-f1681b3f9c62",
   "metadata": {},
   "outputs": [
    {
     "data": {
      "text/plain": [
       "('BRCA', '10k')"
      ]
     },
     "execution_count": 29,
     "metadata": {},
     "output_type": "execute_result"
    }
   ],
   "source": [
    "cohort, otlr_cut # This is going to the fit function"
   ]
  },
  {
   "cell_type": "code",
   "execution_count": 30,
   "id": "8d79442e-ee84-42cd-8c25-fcbbc4b2bb80",
   "metadata": {},
   "outputs": [
    {
     "name": "stdout",
     "output_type": "stream",
     "text": [
      "Train on 746 samples, validate on 249 samples\n",
      "Epoch 1/15\n",
      "746/746 [==============================] - 19s 25ms/sample - loss: 619.0847 - val_loss: 938.7218\n",
      "Epoch 2/15\n",
      "746/746 [==============================] - 20s 27ms/sample - loss: 512.1128 - val_loss: 1498.4901\n",
      "Epoch 3/15\n",
      "746/746 [==============================] - 20s 27ms/sample - loss: 455.9165 - val_loss: 5445.8299\n",
      "Epoch 4/15\n",
      "746/746 [==============================] - 21s 28ms/sample - loss: 419.2608 - val_loss: 6513.9572\n",
      "Epoch 5/15\n",
      "746/746 [==============================] - 20s 27ms/sample - loss: 392.0370 - val_loss: 6449.5495\n",
      "Epoch 6/15\n",
      "746/746 [==============================] - 19s 26ms/sample - loss: 367.5270 - val_loss: 38984.2085\n",
      "Epoch 7/15\n",
      "746/746 [==============================] - 19s 26ms/sample - loss: 344.7604 - val_loss: 12409.4341\n",
      "Epoch 8/15\n",
      "746/746 [==============================] - 20s 26ms/sample - loss: 190.6136 - val_loss: 1524.7403\n",
      "Epoch 9/15\n",
      "746/746 [==============================] - 19s 26ms/sample - loss: 38.0452 - val_loss: 2165.2452\n",
      "Epoch 10/15\n",
      "746/746 [==============================] - 18s 25ms/sample - loss: 32.8201 - val_loss: 13230.8303\n",
      "Epoch 11/15\n",
      "746/746 [==============================] - 19s 25ms/sample - loss: 17.4881 - val_loss: 58482.0365\n",
      "Epoch 12/15\n",
      "746/746 [==============================] - 19s 25ms/sample - loss: 13.7358 - val_loss: 27380.5110\n",
      "Epoch 13/15\n",
      "746/746 [==============================] - 19s 25ms/sample - loss: 10.8017 - val_loss: 37376.4613\n",
      "Epoch 14/15\n",
      "746/746 [==============================] - 19s 26ms/sample - loss: 9.4416 - val_loss: 42398.4499\n",
      "Epoch 15/15\n",
      "746/746 [==============================] - 19s 26ms/sample - loss: 8.7958 - val_loss: 26844.6651\n"
     ]
    }
   ],
   "source": [
    "# fit, restart kernel and recompile model between runs; direct fit for BRCA fast follow\n",
    "\n",
    "history = vae.fit(x=train_norm_arr_exp, y=train_norm_arr_exp, epochs=epochs,\n",
    "                  batch_size=batch_size,\n",
    "                  validation_data=(test_norm_arr_exp, test_norm_arr_exp))"
   ]
  },
  {
   "cell_type": "code",
   "execution_count": 31,
   "id": "007cd783-2f5c-4442-8494-9eea05c9dfd9",
   "metadata": {},
   "outputs": [
    {
     "data": {
      "text/plain": [
       "'/Users/karlberb/Desktop/RNB00978/sample_count/sample_gen/synthetic_TCGA_data_gen/b_model'"
      ]
     },
     "execution_count": 31,
     "metadata": {},
     "output_type": "execute_result"
    }
   ],
   "source": [
    "pwd"
   ]
  },
  {
   "cell_type": "code",
   "execution_count": null,
   "id": "8f64c620-d862-4ede-a42e-82e1255afd1d",
   "metadata": {},
   "outputs": [],
   "source": [
    "# Try adding 15k, 5k (?) - secondary priority to RobustScaler"
   ]
  },
  {
   "cell_type": "code",
   "execution_count": null,
   "id": "f0dd7ae1-d8e4-49c6-b6dc-332bf3acdd00",
   "metadata": {},
   "outputs": [],
   "source": [
    "# BRCA blank run loss stepping down within epochs\n",
    "\n",
    "# pre train epochs seems too much at 20\n",
    "# cutting outliers feels injection of artificial signal\n",
    "    # without a doubt, this is a crude technical artifact\n",
    "# need a focused RobustScaler set"
   ]
  },
  {
   "cell_type": "code",
   "execution_count": 17,
   "id": "d5e2a833-6692-4d35-8062-312e1637ac35",
   "metadata": {},
   "outputs": [
    {
     "data": {
      "text/plain": [
       "('1k', 'BRCA')"
      ]
     },
     "execution_count": 17,
     "metadata": {},
     "output_type": "execute_result"
    }
   ],
   "source": [
    "otlr_cut, cohort # completed run variable check for file naming"
   ]
  },
  {
   "cell_type": "code",
   "execution_count": 19,
   "id": "f4a7f784-d334-4be7-8a07-e0a9782f257a",
   "metadata": {},
   "outputs": [
    {
     "data": {
      "text/plain": [
       "('500', 'BRCA')"
      ]
     },
     "execution_count": 19,
     "metadata": {},
     "output_type": "execute_result"
    }
   ],
   "source": [
    "otlr_cut, cohort # completed run variable check for file naming"
   ]
  },
  {
   "cell_type": "code",
   "execution_count": 20,
   "id": "baaed1ac-4f5f-4d23-8f1c-2071365f84d1",
   "metadata": {},
   "outputs": [
    {
     "data": {
      "text/plain": [
       "('100k', 'BRCA')"
      ]
     },
     "execution_count": 20,
     "metadata": {},
     "output_type": "execute_result"
    }
   ],
   "source": [
    "otlr_cut, cohort # completed run variable check for file naming"
   ]
  },
  {
   "cell_type": "code",
   "execution_count": 15,
   "id": "177e75ca-32ec-40b8-8d2e-c97eb7bf7af7",
   "metadata": {},
   "outputs": [
    {
     "data": {
      "text/plain": [
       "('10k', 'BLCA')"
      ]
     },
     "execution_count": 15,
     "metadata": {},
     "output_type": "execute_result"
    }
   ],
   "source": [
    "otlr_cut, cohort # 5 epoch pretrain test"
   ]
  },
  {
   "cell_type": "code",
   "execution_count": 18,
   "id": "094d9c28-3631-4e11-b463-c438ad19d403",
   "metadata": {},
   "outputs": [
    {
     "data": {
      "image/png": "[encoded data removed]",
      "text/plain": [
       "<Figure size 640x480 with 1 Axes>"
      ]
     },
     "metadata": {},
     "output_type": "display_data"
    }
   ],
   "source": [
    "plt.plot(history.history['loss'],label=\"loss\")\n",
    "plt.plot(history.history['val_loss'],label=\"val_loss\")\n",
    "plt.title(cohort+' embedding loss\\n1D convolutional VAE'\n",
    "          # ' pre-train\\n'+\n",
    "         )\n",
    "plt.xlabel('Epoch')\n",
    "plt.ylabel('Loss')\n",
    "plt.annotate('Outliers cut value = '+otlr_cut+'\\nlatent dim = '+\n",
    "             str(latent_dim)+'\\nBatch size = '+str(batch_size)+\n",
    "             '\\nConvolutional layer count = 2\\nTest ratio = .25',\n",
    "            xy=(.4, .8), xycoords='figure fraction',\n",
    "            horizontalalignment='left', verticalalignment='top',\n",
    "            # fontsize=20\n",
    "            )\n",
    "\n",
    "plt.legend(loc=\"lower left\")\n",
    "plt.savefig('loss_curves_ignored/'+cohort+'_'+\n",
    "            # '_pretrain_'+\n",
    "            otlr_cut+'_outlier_cut_'+\n",
    "            str(epochs)+'_epochs_v2_'+\n",
    "            str(latent_dim)+'_latent_dim_'+\n",
    "            date+'_'+version+'.png')"
   ]
  },
  {
   "cell_type": "code",
   "execution_count": 20,
   "id": "f9b1537f-590e-4ad6-b837-c53104100500",
   "metadata": {},
   "outputs": [
    {
     "name": "stderr",
     "output_type": "stream",
     "text": [
      "/Users/karlberb/Desktop/RNB00978/sample_count/sample_gen/dense_layer/dense_full_env_00/lib/python3.9/site-packages/keras/engine/training_v1.py:2356: UserWarning: `Model.state_updates` will be removed in a future version. This property should not be used in TensorFlow 2.0, as `updates` are applied automatically.\n",
      "  updates=self.state_updates,\n"
     ]
    }
   ],
   "source": [
    "trn_ltnt = encoder.predict(train_norm_arr_exp)"
   ]
  },
  {
   "cell_type": "code",
   "execution_count": 26,
   "id": "fe52c110-f179-46ba-a070-81b46ef1e2c6",
   "metadata": {},
   "outputs": [],
   "source": [
    "tst_ltnt = encoder.predict(test_norm_arr_exp)"
   ]
  },
  {
   "cell_type": "code",
   "execution_count": 27,
   "id": "1a5e6f60-b2db-4246-a892-49f006daf7da",
   "metadata": {},
   "outputs": [],
   "source": [
    "trn_dec = decoder.predict(trn_ltnt)"
   ]
  },
  {
   "cell_type": "code",
   "execution_count": 28,
   "id": "67b2e16b-a367-4aa0-b02b-bc7cf235aaf3",
   "metadata": {},
   "outputs": [],
   "source": [
    "tst_dec = decoder.predict(tst_ltnt)"
   ]
  },
  {
   "cell_type": "code",
   "execution_count": 29,
   "id": "c145d639-6afd-4fc5-a407-5a5e621dfbf9",
   "metadata": {
    "tags": []
   },
   "outputs": [],
   "source": [
    "trn_decDF = pd.DataFrame(np.squeeze(trn_dec)) # hoping the labels map from the raw file, do in UMAP"
   ]
  },
  {
   "cell_type": "code",
   "execution_count": 30,
   "id": "de273ef7-b2ee-4b29-84b8-6d43d3d294b7",
   "metadata": {},
   "outputs": [],
   "source": [
    "tst_decDF = pd.DataFrame(np.squeeze(tst_dec))"
   ]
  },
  {
   "cell_type": "code",
   "execution_count": 62,
   "id": "ffe28730-e104-4f6a-b6da-259944be5626",
   "metadata": {},
   "outputs": [
    {
     "data": {
      "text/plain": [
       "'/Users/karlberb/Desktop/RNB00978/sample_count/sample_gen/synthetic_TCGA_data_gen/b_model'"
      ]
     },
     "execution_count": 62,
     "metadata": {},
     "output_type": "execute_result"
    }
   ],
   "source": [
    "pwd"
   ]
  },
  {
   "cell_type": "code",
   "execution_count": 63,
   "id": "7c62f57d-5b37-40cd-831f-8f0d8e57ba6c",
   "metadata": {},
   "outputs": [
    {
     "name": "stdout",
     "output_type": "stream",
     "text": [
      "1Dconv_devel.ipynb   b_1Dmodel_00.ipynb   \u001b[34mdata\u001b[m\u001b[m/\n",
      "1Dmodel.ipynb        b_model_02.ipynb     \u001b[34mdec_out_ignrd\u001b[m\u001b[m/\n",
      "README.txt           b_model_03.ipynb     \u001b[34mdecoded\u001b[m\u001b[m/\n",
      "\u001b[34marchive\u001b[m\u001b[m/             cvae.txt             \u001b[34mloss_curves_ignored\u001b[m\u001b[m/\n"
     ]
    }
   ],
   "source": [
    "ls"
   ]
  },
  {
   "cell_type": "code",
   "execution_count": 31,
   "id": "21554ea0-2dce-4a33-a95d-4f248251b545",
   "metadata": {},
   "outputs": [],
   "source": [
    "trn_decDF.to_csv('decoded/'+cohort+'_'+\n",
    "            # '_pretrain_'+\n",
    "            otlr_cut+'_outlier_cut_train_'+ # Train <------\n",
    "            str(epochs)+'_epochs_'+\n",
    "            str(latent_dim)+'_latent_dim_'+\n",
    "            date+'_'+version+'.tsv', sep = '\\t')"
   ]
  },
  {
   "cell_type": "code",
   "execution_count": 32,
   "id": "dc70a87d-aa37-413b-a845-179be92d0357",
   "metadata": {},
   "outputs": [],
   "source": [
    "tst_decDF.to_csv('decoded/'+cohort+'_'+\n",
    "            # '_pretrain_'+\n",
    "            otlr_cut+'_outlier_cut_test_'+ # Test <------\n",
    "            str(epochs)+'_epochs_'+\n",
    "            str(latent_dim)+'_latent_dim_'+\n",
    "            date+'_'+version+'.tsv', sep = '\\t')"
   ]
  },
  {
   "cell_type": "code",
   "execution_count": null,
   "id": "611a9fbb-5eff-4188-b4a1-54c578bc14aa",
   "metadata": {},
   "outputs": [],
   "source": [
    "otlr_cut, cohort # file written, done"
   ]
  },
  {
   "cell_type": "code",
   "execution_count": null,
   "id": "90dab5f4-0522-4381-a3b8-0aa6968f66de",
   "metadata": {},
   "outputs": [],
   "source": [
    "otlr_cut, cohort # file written, done"
   ]
  },
  {
   "cell_type": "code",
   "execution_count": 33,
   "id": "4b6e39da-051b-4c56-b73b-dfdf6095b847",
   "metadata": {},
   "outputs": [
    {
     "data": {
      "text/plain": [
       "('10k', 'BRCA')"
      ]
     },
     "execution_count": 33,
     "metadata": {},
     "output_type": "execute_result"
    }
   ],
   "source": [
    "otlr_cut, cohort # file written, done"
   ]
  },
  {
   "cell_type": "code",
   "execution_count": null,
   "id": "30e76ada-5aff-4e80-8306-b510f8cc77be",
   "metadata": {},
   "outputs": [],
   "source": [
    "# end 1k, begin 500 blank run, reset kernel"
   ]
  },
  {
   "cell_type": "code",
   "execution_count": null,
   "id": "bce87141-a31c-4392-978d-dd9715a69e21",
   "metadata": {},
   "outputs": [],
   "source": [
    "# notes:"
   ]
  },
  {
   "cell_type": "code",
   "execution_count": null,
   "id": "f09082dd-49ed-47d5-9da5-e046c8366784",
   "metadata": {},
   "outputs": [],
   "source": [
    "# order of tuning ops:\n",
    "    # right model type, VAE vs transformer\n",
    "    # right layer type, 1D vs 2D conv\n",
    "    # right data normalization scheme - manual outlier cut with MinMax vs. RobustScaler\n",
    "    # right batch_size\n",
    "    # right latent dimension\n",
    "    # right number of epochs, maybe less for pre-train"
   ]
  },
  {
   "cell_type": "code",
   "execution_count": null,
   "id": "b16cc463-987e-4d88-972b-9e27f7e0cdf5",
   "metadata": {},
   "outputs": [],
   "source": [
    "# Concept note:\n",
    "# filters go up through encoder layers, outward in detail\n",
    "# e.g. 8 first, then 16 on next layer"
   ]
  },
  {
   "cell_type": "code",
   "execution_count": null,
   "id": "4b6c85df-c1ec-466e-a0e0-e049865e0370",
   "metadata": {},
   "outputs": [],
   "source": [
    "batch_size = 64"
   ]
  },
  {
   "cell_type": "code",
   "execution_count": null,
   "id": "8eb04b9b-4940-4916-ba59-3b9d2667863a",
   "metadata": {},
   "outputs": [],
   "source": [
    "batch_size = 128"
   ]
  },
  {
   "cell_type": "code",
   "execution_count": 36,
   "id": "9cadb0d2-62ec-45b0-957a-4782de249a23",
   "metadata": {},
   "outputs": [
    {
     "data": {
      "text/plain": [
       "(299, 20530, 1)"
      ]
     },
     "execution_count": 36,
     "metadata": {},
     "output_type": "execute_result"
    }
   ],
   "source": [
    "tst_dec.shape"
   ]
  },
  {
   "cell_type": "code",
   "execution_count": null,
   "id": "2dd2e9a4-1071-4e1f-b754-a1cda8559c0f",
   "metadata": {},
   "outputs": [],
   "source": [
    "# write 2 decoded files per outlier cut step"
   ]
  },
  {
   "cell_type": "code",
   "execution_count": null,
   "id": "b35e06cd-39d2-465e-9155-d6fece8de622",
   "metadata": {},
   "outputs": [],
   "source": [
    "# send to UMAP\n",
    "    # Start with three bladder plots\n",
    "        # 10k, 1k, 500\n",
    "    # Run BRCA fine tune?\n",
    "    # Run lone BRCA UMAP next"
   ]
  },
  {
   "cell_type": "code",
   "execution_count": null,
   "id": "b90327ef-707b-45f0-9208-90c863faecda",
   "metadata": {},
   "outputs": [],
   "source": [
    "# inverse of expand "
   ]
  }
 ],
 "metadata": {
  "kernelspec": {
   "display_name": "dense_full_env_00",
   "language": "python",
   "name": "dense_full_env_00"
  },
  "language_info": {
   "codemirror_mode": {
    "name": "ipython",
    "version": 3
   },
   "file_extension": ".py",
   "mimetype": "text/x-python",
   "name": "python",
   "nbconvert_exporter": "python",
   "pygments_lexer": "ipython3",
   "version": "3.9.7"
  }
 },
 "nbformat": 4,
 "nbformat_minor": 5
}
