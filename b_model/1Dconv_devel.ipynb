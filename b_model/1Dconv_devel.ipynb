{
 "cells": [
  {
   "cell_type": "code",
   "execution_count": 2,
   "id": "b7df5444-d3bb-42fd-819c-056a21fb29c4",
   "metadata": {},
   "outputs": [],
   "source": [
    "import numpy as np"
   ]
  },
  {
   "cell_type": "code",
   "execution_count": null,
   "id": "a5023692-96e8-429a-92b5-69ca3f985c8f",
   "metadata": {},
   "outputs": [],
   "source": [
    "https://stackoverflow.com/questions/65749914/how-to-apply-conv1d-after-dense-or-flatten-layers-valueerror-shapes-1-1-3"
   ]
  },
  {
   "cell_type": "code",
   "execution_count": 3,
   "id": "60eb4dfc-ca03-439d-b233-9dc5c4b3b063",
   "metadata": {},
   "outputs": [],
   "source": [
    "x=np.random.randint(-10,10,(1000,50,1)).astype(float)"
   ]
  },
  {
   "cell_type": "code",
   "execution_count": 5,
   "id": "147d18f2-df81-4207-b4c9-0267a4aafc8d",
   "metadata": {},
   "outputs": [
    {
     "data": {
      "text/plain": [
       "(1000, 50, 1)"
      ]
     },
     "execution_count": 5,
     "metadata": {},
     "output_type": "execute_result"
    }
   ],
   "source": [
    "x.shape # made up data, -10 looks like lower end of range"
   ]
  },
  {
   "cell_type": "raw",
   "id": "d27d03c2-c2ea-4932-8912-3348b99e8189",
   "metadata": {},
   "source": [
    "imageio\n",
    "tensorflow_probability"
   ]
  },
  {
   "cell_type": "code",
   "execution_count": 3,
   "id": "ba0df7ba-c9cf-465e-b00d-52c59f8a61f7",
   "metadata": {},
   "outputs": [
    {
     "name": "stdout",
     "output_type": "stream",
     "text": [
      "Collecting imageio\n",
      "\u001b[?25l  Downloading https://files.pythonhosted.org/packages/c3/73/f37f428748c4f10a7991ac5bff00f113a34bcc0d0a78957d6e1cdc29a94e/imageio-2.9.0.tar.gz (3.3MB)\n",
      "\u001b[K    100% |████████████████████████████████| 3.3MB 1.0MB/s ta 0:00:01\n",
      "\u001b[?25h\u001b[31mimageio requires Python '>=3.5' but the running Python is 2.7.16\u001b[0m\n",
      "\u001b[33mYou are using pip version 18.1, however version 20.3.4 is available.\n",
      "You should consider upgrading via the 'pip install --upgrade pip' command.\u001b[0m\n"
     ]
    }
   ],
   "source": [
    "!pip install imageio"
   ]
  },
  {
   "cell_type": "code",
   "execution_count": 5,
   "id": "5e3324f1-37e1-4354-9605-8d9a713928ed",
   "metadata": {},
   "outputs": [
    {
     "name": "stdout",
     "output_type": "stream",
     "text": [
      "Collecting git+https://github.com/tensorflow/docs\n",
      "  Cloning https://github.com/tensorflow/docs to /private/var/folders/5v/88tvwqd94gs4dfr3h6rt1_w0qd13bg/T/pip-req-build-X0Gghq\n",
      "Collecting astor (from tensorflow-docs==0.0.0.dev0)\n",
      "  Using cached https://files.pythonhosted.org/packages/c3/88/97eef84f48fa04fbd6750e62dcceafba6c63c81b7ac1420856c8dcc0a3f9/astor-0.8.1-py2.py3-none-any.whl\n",
      "Collecting absl-py (from tensorflow-docs==0.0.0.dev0)\n",
      "\u001b[?25l  Downloading https://files.pythonhosted.org/packages/25/d9/22a0b010487da88200c3f0672c67e892b5399b7a13d105d3863511399f6e/absl-py-0.15.0.tar.gz (114kB)\n",
      "\u001b[K    100% |████████████████████████████████| 122kB 1.1MB/s ta 0:00:01\n",
      "\u001b[?25hCollecting jinja2 (from tensorflow-docs==0.0.0.dev0)\n",
      "\u001b[?25l  Downloading https://files.pythonhosted.org/packages/7e/c2/1eece8c95ddbc9b1aeb64f5783a9e07a286de42191b7204d67b7496ddf35/Jinja2-2.11.3-py2.py3-none-any.whl (125kB)\n",
      "\u001b[K    100% |████████████████████████████████| 133kB 1.2MB/s ta 0:00:01\n",
      "\u001b[?25hCollecting nbformat (from tensorflow-docs==0.0.0.dev0)\n",
      "\u001b[?25l  Downloading https://files.pythonhosted.org/packages/da/27/9a654d2b6cc1eaa517d1c5a4405166c7f6d72f04f6e7eea41855fe808a46/nbformat-4.4.0-py2.py3-none-any.whl (155kB)\n",
      "\u001b[K    100% |████████████████████████████████| 163kB 1.6MB/s ta 0:00:01\n",
      "\u001b[?25hCollecting protobuf<3.20,>=3.12.0 (from tensorflow-docs==0.0.0.dev0)\n",
      "\u001b[?25l  Downloading https://files.pythonhosted.org/packages/74/4e/9f3cb458266ef5cdeaa1e72a90b9eda100e3d1803cbd7ec02f0846da83c3/protobuf-3.18.0-py2.py3-none-any.whl (174kB)\n",
      "\u001b[K    100% |████████████████████████████████| 184kB 1.8MB/s ta 0:00:01\n",
      "\u001b[?25hCollecting pyyaml (from tensorflow-docs==0.0.0.dev0)\n",
      "\u001b[?25l  Downloading https://files.pythonhosted.org/packages/42/c5/440fd6200c345c3d522fbe47a52558733c4661aac3c8cf06b7de31bababd/PyYAML-5.4.1-cp27-cp27m-macosx_10_9_x86_64.whl (245kB)\n",
      "\u001b[K    100% |████████████████████████████████| 256kB 1.5MB/s ta 0:00:01\n",
      "\u001b[?25hCollecting six (from absl-py->tensorflow-docs==0.0.0.dev0)\n",
      "  Using cached https://files.pythonhosted.org/packages/d9/5a/e7c31adbe875f2abbb91bd84cf2dc52d792b5a01506781dbcf25c91daf11/six-1.16.0-py2.py3-none-any.whl\n",
      "Collecting enum34 (from absl-py->tensorflow-docs==0.0.0.dev0)\n",
      "  Downloading https://files.pythonhosted.org/packages/6f/2c/a9386903ece2ea85e9807e0e062174dc26fdce8b05f216d00491be29fad5/enum34-1.1.10-py2-none-any.whl\n",
      "Collecting MarkupSafe>=0.23 (from jinja2->tensorflow-docs==0.0.0.dev0)\n",
      "  Downloading https://files.pythonhosted.org/packages/6d/d2/0ccd2c0e2cd93b35e765d9b3205cd6602e6b202b522fc7997531353715b3/MarkupSafe-1.1.1-cp27-cp27m-macosx_10_6_intel.whl\n",
      "Collecting jsonschema!=2.5.0,>=2.4 (from nbformat->tensorflow-docs==0.0.0.dev0)\n",
      "\u001b[?25l  Downloading https://files.pythonhosted.org/packages/9c/99/9789c7fd0bb8876a7d624d903195ce11e5618b421bdb1bf7c975d17a9bc3/jsonschema-4.0.0.tar.gz (290kB)\n",
      "\u001b[K    100% |████████████████████████████████| 296kB 990kB/s ta 0:00:01\n",
      "\u001b[?25h  Installing build dependencies ... \u001b[?25ldone\n",
      "\u001b[?25h    Complete output from command python setup.py egg_info:\n",
      "    Traceback (most recent call last):\n",
      "      File \"<string>\", line 1, in <module>\n",
      "    IOError: [Errno 2] No such file or directory: '/private/var/folders/5v/88tvwqd94gs4dfr3h6rt1_w0qd13bg/T/pip-install-CqdfIz/jsonschema/setup.py'\n",
      "    \n",
      "    ----------------------------------------\n",
      "\u001b[31mCommand \"python setup.py egg_info\" failed with error code 1 in /private/var/folders/5v/88tvwqd94gs4dfr3h6rt1_w0qd13bg/T/pip-install-CqdfIz/jsonschema/\u001b[0m\n",
      "\u001b[33mYou are using pip version 18.1, however version 20.3.4 is available.\n",
      "You should consider upgrading via the 'pip install --upgrade pip' command.\u001b[0m\n"
     ]
    }
   ],
   "source": [
    "!pip install git+https://github.com/tensorflow/docs"
   ]
  },
  {
   "cell_type": "code",
   "execution_count": 1,
   "id": "19bb2548-16b1-470d-a330-1fbc4da42b37",
   "metadata": {},
   "outputs": [
    {
     "ename": "ModuleNotFoundError",
     "evalue": "No module named 'imageio'",
     "output_type": "error",
     "traceback": [
      "\u001b[0;31m---------------------------------------------------------------------------\u001b[0m",
      "\u001b[0;31mModuleNotFoundError\u001b[0m                       Traceback (most recent call last)",
      "Cell \u001b[0;32mIn [1], line 4\u001b[0m\n\u001b[1;32m      1\u001b[0m \u001b[38;5;28;01mfrom\u001b[39;00m \u001b[38;5;21;01mIPython\u001b[39;00m \u001b[38;5;28;01mimport\u001b[39;00m display\n\u001b[1;32m      3\u001b[0m \u001b[38;5;28;01mimport\u001b[39;00m \u001b[38;5;21;01mglob\u001b[39;00m\n\u001b[0;32m----> 4\u001b[0m \u001b[38;5;28;01mimport\u001b[39;00m \u001b[38;5;21;01mimageio\u001b[39;00m\n\u001b[1;32m      5\u001b[0m \u001b[38;5;28;01mimport\u001b[39;00m \u001b[38;5;21;01mmatplotlib\u001b[39;00m\u001b[38;5;21;01m.\u001b[39;00m\u001b[38;5;21;01mpyplot\u001b[39;00m \u001b[38;5;28;01mas\u001b[39;00m \u001b[38;5;21;01mplt\u001b[39;00m\n\u001b[1;32m      6\u001b[0m \u001b[38;5;28;01mimport\u001b[39;00m \u001b[38;5;21;01mnumpy\u001b[39;00m \u001b[38;5;28;01mas\u001b[39;00m \u001b[38;5;21;01mnp\u001b[39;00m\n",
      "\u001b[0;31mModuleNotFoundError\u001b[0m: No module named 'imageio'"
     ]
    }
   ],
   "source": [
    "from IPython import display\n",
    "\n",
    "import glob\n",
    "import imageio\n",
    "import matplotlib.pyplot as plt\n",
    "import numpy as np\n",
    "import PIL\n",
    "import tensorflow as tf\n",
    "import tensorflow_probability as tfp\n",
    "import time"
   ]
  },
  {
   "cell_type": "code",
   "execution_count": 2,
   "id": "a7208703-1c1d-4b1a-96ac-18e529e8e432",
   "metadata": {},
   "outputs": [
    {
     "name": "stderr",
     "output_type": "stream",
     "text": [
      "2022-10-10 17:54:10.923047: I tensorflow/core/platform/cpu_feature_guard.cc:193] This TensorFlow binary is optimized with oneAPI Deep Neural Network Library (oneDNN) to use the following CPU instructions in performance-critical operations:  AVX2 FMA\n",
      "To enable them in other operations, rebuild TensorFlow with the appropriate compiler flags.\n"
     ]
    }
   ],
   "source": [
    "import tensorflow as tf"
   ]
  },
  {
   "cell_type": "code",
   "execution_count": 1,
   "id": "fbb169b1-6eaf-4bca-9222-f31598659e22",
   "metadata": {},
   "outputs": [
    {
     "ename": "ModuleNotFoundError",
     "evalue": "No module named 'tensorflow_probability'",
     "output_type": "error",
     "traceback": [
      "\u001b[0;31m---------------------------------------------------------------------------\u001b[0m",
      "\u001b[0;31mModuleNotFoundError\u001b[0m                       Traceback (most recent call last)",
      "Cell \u001b[0;32mIn [1], line 1\u001b[0m\n\u001b[0;32m----> 1\u001b[0m \u001b[38;5;28;01mimport\u001b[39;00m \u001b[38;5;21;01mtensorflow_probability\u001b[39;00m \u001b[38;5;28;01mas\u001b[39;00m \u001b[38;5;21;01mtfp\u001b[39;00m\n\u001b[1;32m      2\u001b[0m \u001b[38;5;28;01mimport\u001b[39;00m \u001b[38;5;21;01mtime\u001b[39;00m\n",
      "\u001b[0;31mModuleNotFoundError\u001b[0m: No module named 'tensorflow_probability'"
     ]
    }
   ],
   "source": [
    "import tensorflow_probability as tfp\n",
    "import time"
   ]
  },
  {
   "cell_type": "code",
   "execution_count": 12,
   "id": "4926b68c-58c9-4f43-8638-69bb2ee7db71",
   "metadata": {},
   "outputs": [
    {
     "name": "stdout",
     "output_type": "stream",
     "text": [
      "Collecting tensorflow_probability\n",
      "\u001b[?25l  Downloading https://files.pythonhosted.org/packages/79/f9/0581ff3408274fb80f2d7e79d6568662332ba46822fa70cf1eb8959cdf91/tensorflow_probability-0.18.0-py2.py3-none-any.whl (6.6MB)\n",
      "\u001b[K    100% |████████████████████████████████| 6.6MB 1.3MB/s ta 0:00:011\n",
      "\u001b[?25hCollecting gast>=0.3.2 (from tensorflow_probability)\n",
      "  Downloading https://files.pythonhosted.org/packages/48/a3/0bd844c54ae8141642088b7ae09dd38fec2ec7faa9b7d25bb6a23c1f266f/gast-0.5.3.tar.gz\n",
      "Collecting six>=1.10.0 (from tensorflow_probability)\n",
      "  Using cached https://files.pythonhosted.org/packages/d9/5a/e7c31adbe875f2abbb91bd84cf2dc52d792b5a01506781dbcf25c91daf11/six-1.16.0-py2.py3-none-any.whl\n",
      "Collecting dm-tree (from tensorflow_probability)\n",
      "  Downloading https://files.pythonhosted.org/packages/1c/ed/a9848a5d3dff0fc5c9c6f5120ae98c152ff47700a731958ff034a576ee27/dm-tree-0.1.7.tar.gz\n",
      "    Complete output from command python setup.py egg_info:\n",
      "    Traceback (most recent call last):\n",
      "      File \"<string>\", line 1, in <module>\n",
      "      File \"/private/var/folders/5v/88tvwqd94gs4dfr3h6rt1_w0qd13bg/T/pip-install-yyTZqG/dm-tree/setup.py\", line 81\n",
      "        f'CMake must be installed to build the following extensions: {ext_names}'\n",
      "                                                                                ^\n",
      "    SyntaxError: invalid syntax\n",
      "    \n",
      "    ----------------------------------------\n",
      "\u001b[31mCommand \"python setup.py egg_info\" failed with error code 1 in /private/var/folders/5v/88tvwqd94gs4dfr3h6rt1_w0qd13bg/T/pip-install-yyTZqG/dm-tree/\u001b[0m\n",
      "\u001b[33mYou are using pip version 18.1, however version 20.3.4 is available.\n",
      "You should consider upgrading via the 'pip install --upgrade pip' command.\u001b[0m\n"
     ]
    }
   ],
   "source": [
    "!pip install tensorflow_probability # when all else fails"
   ]
  },
  {
   "cell_type": "code",
   "execution_count": 10,
   "id": "41c261e4-b525-45d0-81d7-668e1fb72a47",
   "metadata": {},
   "outputs": [
    {
     "name": "stdout",
     "output_type": "stream",
     "text": [
      "Requirement already satisfied: tensorflow_probability in /Users/karlberb/opt/anaconda3/lib/python3.9/site-packages (0.17.0)\n",
      "Requirement already satisfied: absl-py in /Users/karlberb/opt/anaconda3/lib/python3.9/site-packages (from tensorflow_probability) (0.15.0)\n",
      "Requirement already satisfied: cloudpickle>=1.3 in /Users/karlberb/opt/anaconda3/lib/python3.9/site-packages (from tensorflow_probability) (2.0.0)\n",
      "Requirement already satisfied: numpy>=1.13.3 in /Users/karlberb/opt/anaconda3/lib/python3.9/site-packages (from tensorflow_probability) (1.19.5)\n",
      "Requirement already satisfied: gast>=0.3.2 in /Users/karlberb/opt/anaconda3/lib/python3.9/site-packages (from tensorflow_probability) (0.4.0)\n",
      "Requirement already satisfied: six>=1.10.0 in /Users/karlberb/opt/anaconda3/lib/python3.9/site-packages (from tensorflow_probability) (1.15.0)\n",
      "Requirement already satisfied: dm-tree in /Users/karlberb/opt/anaconda3/lib/python3.9/site-packages (from tensorflow_probability) (0.1.7)\n",
      "Requirement already satisfied: decorator in /Users/karlberb/opt/anaconda3/lib/python3.9/site-packages (from tensorflow_probability) (5.1.0)\n"
     ]
    }
   ],
   "source": [
    "!pip3 install tensorflow_probability"
   ]
  },
  {
   "cell_type": "code",
   "execution_count": null,
   "id": "55af50ea-c8ac-4627-b98c-259eb6f70f2a",
   "metadata": {},
   "outputs": [],
   "source": [
    "# make a cvae kernel"
   ]
  },
  {
   "cell_type": "code",
   "execution_count": 6,
   "id": "ea636dcd-9bbb-48ba-bd2f-13caf82a19de",
   "metadata": {},
   "outputs": [
    {
     "ename": "NameError",
     "evalue": "name 'tf' is not defined",
     "output_type": "error",
     "traceback": [
      "\u001b[0;31m---------------------------------------------------------------------------\u001b[0m",
      "\u001b[0;31mNameError\u001b[0m                                 Traceback (most recent call last)",
      "Cell \u001b[0;32mIn [6], line 1\u001b[0m\n\u001b[0;32m----> 1\u001b[0m \u001b[38;5;28;01mclass\u001b[39;00m \u001b[38;5;21;01mCVAE\u001b[39;00m(tf\u001b[38;5;241m.\u001b[39mkeras\u001b[38;5;241m.\u001b[39mModel):\n\u001b[1;32m      2\u001b[0m   \u001b[38;5;124;03m\"\"\"Convolutional variational autoencoder.\"\"\"\u001b[39;00m\n\u001b[1;32m      4\u001b[0m   \u001b[38;5;28;01mdef\u001b[39;00m \u001b[38;5;21m__init__\u001b[39m(\u001b[38;5;28mself\u001b[39m, latent_dim):\n",
      "\u001b[0;31mNameError\u001b[0m: name 'tf' is not defined"
     ]
    }
   ],
   "source": [
    "class CVAE(tf.keras.Model):\n",
    "  \"\"\"Convolutional variational autoencoder.\"\"\"\n",
    "\n",
    "  def __init__(self, latent_dim):\n",
    "    super(CVAE, self).__init__()\n",
    "    self.latent_dim = latent_dim\n",
    "    self.encoder = tf.keras.Sequential(\n",
    "        [\n",
    "            tf.keras.layers.InputLayer(input_shape=(28, 28, 1)),\n",
    "            tf.keras.layers.Conv2D(\n",
    "                filters=32, kernel_size=3, strides=(2, 2), activation='relu'),\n",
    "            tf.keras.layers.Conv2D(\n",
    "                filters=64, kernel_size=3, strides=(2, 2), activation='relu'),\n",
    "            tf.keras.layers.Flatten(),\n",
    "            # No activation\n",
    "            tf.keras.layers.Dense(latent_dim + latent_dim),\n",
    "        ]\n",
    "    )\n",
    "\n",
    "    self.decoder = tf.keras.Sequential(\n",
    "        [\n",
    "            tf.keras.layers.InputLayer(input_shape=(latent_dim,)),\n",
    "            tf.keras.layers.Dense(units=7*7*32, activation=tf.nn.relu),\n",
    "            tf.keras.layers.Reshape(target_shape=(7, 7, 32)),\n",
    "            tf.keras.layers.Conv2DTranspose(\n",
    "                filters=64, kernel_size=3, strides=2, padding='same',\n",
    "                activation='relu'),\n",
    "            tf.keras.layers.Conv2DTranspose(\n",
    "                filters=32, kernel_size=3, strides=2, padding='same',\n",
    "                activation='relu'),\n",
    "            # No activation\n",
    "            tf.keras.layers.Conv2DTranspose(\n",
    "                filters=1, kernel_size=3, strides=1, padding='same'),\n",
    "        ]\n",
    "    )\n",
    "\n",
    "  @tf.function\n",
    "  def sample(self, eps=None):\n",
    "    if eps is None:\n",
    "      eps = tf.random.normal(shape=(100, self.latent_dim))\n",
    "    return self.decode(eps, apply_sigmoid=True)\n",
    "\n",
    "  def encode(self, x):\n",
    "    mean, logvar = tf.split(self.encoder(x), num_or_size_splits=2, axis=1)\n",
    "    return mean, logvar\n",
    "\n",
    "  def reparameterize(self, mean, logvar):\n",
    "    eps = tf.random.normal(shape=mean.shape)\n",
    "    return eps * tf.exp(logvar * .5) + mean\n",
    "\n",
    "  def decode(self, z, apply_sigmoid=False):\n",
    "    logits = self.decoder(z)\n",
    "    if apply_sigmoid:\n",
    "      probs = tf.sigmoid(logits)\n",
    "      return probs\n",
    "    return logits"
   ]
  },
  {
   "cell_type": "code",
   "execution_count": null,
   "id": "e4f3f863-9cad-4c9f-b604-f4e056d63a57",
   "metadata": {},
   "outputs": [],
   "source": []
  }
 ],
 "metadata": {
  "kernelspec": {
   "display_name": "dense_full_env_00",
   "language": "python",
   "name": "dense_full_env_00"
  },
  "language_info": {
   "codemirror_mode": {
    "name": "ipython",
    "version": 3
   },
   "file_extension": ".py",
   "mimetype": "text/x-python",
   "name": "python",
   "nbconvert_exporter": "python",
   "pygments_lexer": "ipython3",
   "version": "3.9.7"
  }
 },
 "nbformat": 4,
 "nbformat_minor": 5
}
