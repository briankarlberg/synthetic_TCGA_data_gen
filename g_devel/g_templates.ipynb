{
 "cells": [
  {
   "cell_type": "code",
   "execution_count": null,
   "id": "bbbc39fd-a035-4867-a3e2-b807bd53c100",
   "metadata": {},
   "outputs": [],
   "source": [
    "# Generic devel templates"
   ]
  },
  {
   "cell_type": "code",
   "execution_count": null,
   "id": "c169da45-6e50-435f-b950-bf6d9757216a",
   "metadata": {},
   "outputs": [],
   "source": [
    "chrts = []\n",
    "for pth in t1pa_paths:\n",
    "    chrts.append(pth.split('/')[1].split('_')[0])\n",
    "chrts = sorted(list(set(chrts)))"
   ]
  }
 ],
 "metadata": {
  "kernelspec": {
   "display_name": "Python 3 (ipykernel)",
   "language": "python",
   "name": "python3"
  },
  "language_info": {
   "codemirror_mode": {
    "name": "ipython",
    "version": 3
   },
   "file_extension": ".py",
   "mimetype": "text/x-python",
   "name": "python",
   "nbconvert_exporter": "python",
   "pygments_lexer": "ipython3",
   "version": "3.9.13"
  }
 },
 "nbformat": 4,
 "nbformat_minor": 5
}
