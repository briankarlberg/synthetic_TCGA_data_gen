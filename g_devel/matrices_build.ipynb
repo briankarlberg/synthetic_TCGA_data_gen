{
 "cells": [
  {
   "cell_type": "code",
   "execution_count": 2,
   "id": "bf4cee77-35f6-4249-9297-1f707cf64c6a",
   "metadata": {},
   "outputs": [
    {
     "data": {
      "text/plain": [
       "'/Users/karlberb/Desktop/Casey Greene example'"
      ]
     },
     "execution_count": 2,
     "metadata": {},
     "output_type": "execute_result"
    }
   ],
   "source": [
    "pwd"
   ]
  },
  {
   "cell_type": "code",
   "execution_count": 1,
   "id": "064e26b2-5592-44b5-809d-8c6c56a46f3c",
   "metadata": {},
   "outputs": [
    {
     "name": "stdout",
     "output_type": "stream",
     "text": [
      "build_matrices.ipynb  matrices_build.ipynb  vae_test_2.ipynb\n"
     ]
    }
   ],
   "source": [
    "ls"
   ]
  },
  {
   "cell_type": "code",
   "execution_count": null,
   "id": "7f06bebc-8917-4ea0-8ccd-adabe7185367",
   "metadata": {},
   "outputs": [],
   "source": [
    "# Matrices build\n",
    "# Subset GEXP; template for miR\n",
    "# split out from Casey_Greene_baseline.ipynb"
   ]
  },
  {
   "cell_type": "code",
   "execution_count": null,
   "id": "9d0895f4-6269-4ab5-a88b-b64478e257bb",
   "metadata": {},
   "outputs": [],
   "source": [
    "import os\n",
    "import pandas as pd\n",
    "from glob import glob"
   ]
  },
  {
   "cell_type": "code",
   "execution_count": null,
   "id": "b9a5395b-89d4-4067-9ef7-d38cf5df8bd9",
   "metadata": {},
   "outputs": [],
   "source": [
    "# dataDir = \"../../gdan-tmp/TMP_v12_20210228\"\n",
    "dataDir = \"/Users/karlberb/work/tmp/v12/TMP_v12_20210228\""
   ]
  },
  {
   "cell_type": "code",
   "execution_count": null,
   "id": "1e47a46d-df2e-435b-b8de-d5a600752fff",
   "metadata": {},
   "outputs": [],
   "source": [
    "headers = {}\n",
    "for a in glob(os.path.join(dataDir, \"*_v12_20210228.tsv\")): #\n",
    "    name = os.path.basename(a).replace(\"_v12_20210228.tsv\", \"\")\n",
    "    if \"5FOLD\" not in a:\n",
    "        with open(a, \"rt\") as handle:\n",
    "            header = handle.readline()\n",
    "            a = pd.Index( list(a for a in header.rstrip().split(\"\\t\") if a.startswith(\"N:GEXP::\")) )\n",
    "            headers[name] = a"
   ]
  },
  {
   "cell_type": "code",
   "execution_count": null,
   "id": "bd0e1b19-ce21-420f-8ae7-a2735397035c",
   "metadata": {},
   "outputs": [],
   "source": [
    "isect = None\n",
    "for a in headers:\n",
    "    if a not in [\"LGGGBM\"]:\n",
    "        if isect is None:\n",
    "            isect = headers[a]\n",
    "        else:\n",
    "            isect = isect.intersection(headers[a])\n",
    "isect = isect.insert(0, \"Labels\")"
   ]
  },
  {
   "cell_type": "code",
   "execution_count": null,
   "id": "570df19c-b36d-4487-8a5c-d500b26b5388",
   "metadata": {},
   "outputs": [],
   "source": [
    "for a in headers:\n",
    "    if a not in [\"LGGGBM\"]:\n",
    "        ipath = os.path.join(dataDir, a + \"_v12_20210228.tsv\")\n",
    "        opath = os.path.join(outDir, a + \".tsv\")\n",
    "        x = pd.read_csv(ipath, sep=\"\\t\", index_col=0)\n",
    "        x[isect].to_csv(opath, sep=\"\\t\")"
   ]
  }
 ],
 "metadata": {
  "kernelspec": {
   "display_name": "Python 3 (ipykernel)",
   "language": "python",
   "name": "python3"
  },
  "language_info": {
   "codemirror_mode": {
    "name": "ipython",
    "version": 3
   },
   "file_extension": ".py",
   "mimetype": "text/x-python",
   "name": "python",
   "nbconvert_exporter": "python",
   "pygments_lexer": "ipython3",
   "version": "3.9.13"
  }
 },
 "nbformat": 4,
 "nbformat_minor": 5
}
