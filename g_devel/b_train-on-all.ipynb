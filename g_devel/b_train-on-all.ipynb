{
 "cells": [
  {
   "cell_type": "markdown",
   "id": "514d01c4-cabf-40fd-98e8-e9df5648745f",
   "metadata": {
    "tags": []
   },
   "source": [
    "### Train-on-all-but-one, decode-on-one, experiment #2\n",
    "\n",
    "Generate decoded sample files for input to e_ F1 classifiers  \n",
    "Read from normalized-within-cohort, 5k common mean absolute deviation (MAD) data file set\n",
    "\n",
    "Demo version, created 2022-11-17,  \n",
    "from b_train-on-one.ipynb"
   ]
  },
  {
   "cell_type": "code",
   "execution_count": 1,
   "id": "638307b2-32e5-4423-b300-f749209585a6",
   "metadata": {},
   "outputs": [
    {
     "name": "stdout",
     "output_type": "stream",
     "text": [
      "Interactive namespace is empty.\n"
     ]
    }
   ],
   "source": [
    "%whos"
   ]
  },
  {
   "cell_type": "markdown",
   "id": "5c3f7d09-5e8c-4831-abd4-cd8f9cb91756",
   "metadata": {
    "tags": []
   },
   "source": [
    "### Imports"
   ]
  },
  {
   "cell_type": "code",
   "execution_count": 2,
   "id": "1e648491-07f4-4b11-8662-cd654790ed1d",
   "metadata": {
    "tags": []
   },
   "outputs": [],
   "source": [
    "import time\n",
    "\n",
    "import glob as glob\n",
    "\n",
    "import pandas as pd\n",
    "\n",
    "import matplotlib.pyplot as plt\n",
    "\n",
    "import numpy as np\n",
    "\n",
    "import tensorflow as tf\n",
    "from tensorflow import keras\n",
    "from tensorflow.keras import layers\n",
    "from tensorflow.keras.models import Model\n",
    "from tensorflow.keras import backend as K\n",
    "from tensorflow.keras.layers import BatchNormalization, Activation, Layer\n",
    "from tensorflow.keras import metrics, optimizers\n",
    "from tensorflow.keras.losses import binary_crossentropy\n",
    "from tensorflow.keras.callbacks import Callback\n",
    "\n",
    "import tensorflow.compat.v1.keras.backend as K\n",
    "import tensorflow as tf\n",
    "tf.compat.v1.disable_eager_execution()\n",
    "\n",
    "# import umap.umap_ as umap - to d_"
   ]
  },
  {
   "cell_type": "code",
   "execution_count": 5,
   "id": "34278527-e118-4655-bac3-4cc960a2d6a5",
   "metadata": {},
   "outputs": [],
   "source": [
    "# target: g_devel/train-on-all_decoded, then read into the multi-experiment e_RF_DT_org-dec.ipynb\n",
    "\n",
    "# should be renamed e_RF_DT_vae_inp-dec.ipynb"
   ]
  },
  {
   "cell_type": "code",
   "execution_count": 7,
   "id": "70acdab6-7b24-4303-aec4-64941a7f7a0a",
   "metadata": {},
   "outputs": [],
   "source": [
    "plt_v=17 # Train-on-all, experiment 4, using normalize within cohort data: g_devel/data_GEXP_5k_col_norm"
   ]
  },
  {
   "cell_type": "markdown",
   "id": "d365927b-5de7-42f6-8370-d4e16bc67b61",
   "metadata": {
    "tags": []
   },
   "source": [
    "### Build Model"
   ]
  },
  {
   "cell_type": "code",
   "execution_count": 4,
   "id": "38c7d41c-016c-4b0b-80e3-2d9b7387bcae",
   "metadata": {},
   "outputs": [],
   "source": [
    "# Function set for leave one out loop\n",
    "def compute_latent(x): # x:\n",
    "    mu, sigma = x\n",
    "    batch = K.shape(mu)[0]\n",
    "    dim = K.shape(mu)[1]\n",
    "    eps = K.random_normal(shape=(batch,dim), mean=0., stddev=1.0 )\n",
    "    return mu + K.exp(sigma/2)*eps"
   ]
  },
  {
   "cell_type": "code",
   "execution_count": 5,
   "id": "4f5a7bf4-205d-4e47-a241-2497c885ce00",
   "metadata": {},
   "outputs": [],
   "source": [
    "# Set custom layer , will need all this at start of shell script\n",
    "class CustomVariationalLayer(Layer):\n",
    "    \"\"\"\n",
    "    Define a custom layer\n",
    "    \"\"\"\n",
    "    def __init__(self, **kwargs):\n",
    "        self.is_placeholder = True\n",
    "        super(CustomVariationalLayer, self).__init__(**kwargs)\n",
    "\n",
    "    def vae_loss(self, x_input, x_decoded):\n",
    "        reconstruction_loss = original_dim * metrics.binary_crossentropy(x_input, x_decoded)\n",
    "        kl_loss = - 0.5 * K.sum(1 + z_log_var_encoded - K.square(z_mean_encoded) - \n",
    "                                K.exp(z_log_var_encoded), axis=-1)\n",
    "        return K.mean(reconstruction_loss + (K.get_value(beta) * kl_loss))\n",
    "\n",
    "    def call(self, inputs):\n",
    "        x = inputs[0]\n",
    "        x_decoded = inputs[1]\n",
    "        loss = self.vae_loss(x, x_decoded)\n",
    "        self.add_loss(loss, inputs=inputs)\n",
    "        return x"
   ]
  },
  {
   "cell_type": "code",
   "execution_count": 6,
   "id": "2df4077a-5a06-4fb9-be3d-3318cbec88d1",
   "metadata": {},
   "outputs": [],
   "source": [
    "class WarmUpCallback(Callback):\n",
    "    def __init__(self, beta, kappa):\n",
    "        self.beta = beta\n",
    "        self.kappa = kappa\n",
    "\n",
    "    def on_epoch_end(self, epoch, logs={}):\n",
    "        if K.get_value(self.beta) <= 1:\n",
    "            K.set_value(self.beta, K.get_value(self.beta) + self.kappa)"
   ]
  },
  {
   "cell_type": "code",
   "execution_count": null,
   "id": "b089d344-d559-4d3a-852d-f04d232f948a",
   "metadata": {},
   "outputs": [],
   "source": [
    "# guess we need to restack the frames and hold one out\n",
    "# start with getting a cohort list"
   ]
  },
  {
   "cell_type": "code",
   "execution_count": 12,
   "id": "fa4627c8-7bdc-4009-a4c9-0cce655a250a",
   "metadata": {},
   "outputs": [
    {
     "data": {
      "text/plain": [
       "['data_GEXP_5k_col_norm/ACC_gexp_col_norm_5k.tsv',\n",
       " 'data_GEXP_5k_col_norm/BLCA_gexp_col_norm_5k.tsv',\n",
       " 'data_GEXP_5k_col_norm/BRCA_gexp_col_norm_5k.tsv',\n",
       " 'data_GEXP_5k_col_norm/CESC_gexp_col_norm_5k.tsv',\n",
       " 'data_GEXP_5k_col_norm/COADREAD_gexp_col_norm_5k.tsv',\n",
       " 'data_GEXP_5k_col_norm/ESCC_gexp_col_norm_5k.tsv',\n",
       " 'data_GEXP_5k_col_norm/GEA_gexp_col_norm_5k.tsv',\n",
       " 'data_GEXP_5k_col_norm/HNSC_gexp_col_norm_5k.tsv',\n",
       " 'data_GEXP_5k_col_norm/KIRCKICH_gexp_col_norm_5k.tsv',\n",
       " 'data_GEXP_5k_col_norm/KIRP_gexp_col_norm_5k.tsv',\n",
       " 'data_GEXP_5k_col_norm/LIHCCHOL_gexp_col_norm_5k.tsv',\n",
       " 'data_GEXP_5k_col_norm/LUAD_gexp_col_norm_5k.tsv',\n",
       " 'data_GEXP_5k_col_norm/LUSC_gexp_col_norm_5k.tsv',\n",
       " 'data_GEXP_5k_col_norm/MESO_gexp_col_norm_5k.tsv',\n",
       " 'data_GEXP_5k_col_norm/OV_gexp_col_norm_5k.tsv',\n",
       " 'data_GEXP_5k_col_norm/PAAD_gexp_col_norm_5k.tsv',\n",
       " 'data_GEXP_5k_col_norm/PCPG_gexp_col_norm_5k.tsv',\n",
       " 'data_GEXP_5k_col_norm/PRAD_gexp_col_norm_5k.tsv',\n",
       " 'data_GEXP_5k_col_norm/SARC_gexp_col_norm_5k.tsv',\n",
       " 'data_GEXP_5k_col_norm/SKCM_gexp_col_norm_5k.tsv',\n",
       " 'data_GEXP_5k_col_norm/TGCT_gexp_col_norm_5k.tsv',\n",
       " 'data_GEXP_5k_col_norm/THCA_gexp_col_norm_5k.tsv',\n",
       " 'data_GEXP_5k_col_norm/THYM_gexp_col_norm_5k.tsv',\n",
       " 'data_GEXP_5k_col_norm/UCEC_gexp_col_norm_5k.tsv',\n",
       " 'data_GEXP_5k_col_norm/UVM_gexp_col_norm_5k.tsv']"
      ]
     },
     "execution_count": 12,
     "metadata": {},
     "output_type": "execute_result"
    }
   ],
   "source": [
    "nrm_wthn_pths"
   ]
  },
  {
   "cell_type": "code",
   "execution_count": 14,
   "id": "8a8bba27-d188-49ac-9883-4d491908eeb5",
   "metadata": {},
   "outputs": [
    {
     "data": {
      "text/plain": [
       "25"
      ]
     },
     "execution_count": 14,
     "metadata": {},
     "output_type": "execute_result"
    }
   ],
   "source": [
    "len(nrm_wthn_pths)"
   ]
  },
  {
   "cell_type": "code",
   "execution_count": 22,
   "id": "e04f9fdb-de45-449a-806f-dc4ba4940a9e",
   "metadata": {},
   "outputs": [
    {
     "name": "stdout",
     "output_type": "stream",
     "text": [
      "data_GEXP_5k_col_norm/ACC_gexp_col_norm_5k.tsv\n",
      "data_GEXP_5k_col_norm/BLCA_gexp_col_norm_5k.tsv\n",
      "data_GEXP_5k_col_norm/BRCA_gexp_col_norm_5k.tsv\n",
      "data_GEXP_5k_col_norm/CESC_gexp_col_norm_5k.tsv\n",
      "data_GEXP_5k_col_norm/COADREAD_gexp_col_norm_5k.tsv\n",
      "data_GEXP_5k_col_norm/ESCC_gexp_col_norm_5k.tsv\n",
      "data_GEXP_5k_col_norm/GEA_gexp_col_norm_5k.tsv\n",
      "data_GEXP_5k_col_norm/HNSC_gexp_col_norm_5k.tsv\n",
      "data_GEXP_5k_col_norm/KIRCKICH_gexp_col_norm_5k.tsv\n",
      "data_GEXP_5k_col_norm/KIRP_gexp_col_norm_5k.tsv\n",
      "data_GEXP_5k_col_norm/LIHCCHOL_gexp_col_norm_5k.tsv\n",
      "data_GEXP_5k_col_norm/LUAD_gexp_col_norm_5k.tsv\n",
      "data_GEXP_5k_col_norm/LUSC_gexp_col_norm_5k.tsv\n",
      "data_GEXP_5k_col_norm/MESO_gexp_col_norm_5k.tsv\n",
      "data_GEXP_5k_col_norm/OV_gexp_col_norm_5k.tsv\n",
      "data_GEXP_5k_col_norm/PAAD_gexp_col_norm_5k.tsv\n",
      "data_GEXP_5k_col_norm/PCPG_gexp_col_norm_5k.tsv\n",
      "data_GEXP_5k_col_norm/PRAD_gexp_col_norm_5k.tsv\n",
      "data_GEXP_5k_col_norm/SARC_gexp_col_norm_5k.tsv\n",
      "data_GEXP_5k_col_norm/SKCM_gexp_col_norm_5k.tsv\n",
      "data_GEXP_5k_col_norm/TGCT_gexp_col_norm_5k.tsv\n",
      "data_GEXP_5k_col_norm/THCA_gexp_col_norm_5k.tsv\n",
      "data_GEXP_5k_col_norm/THYM_gexp_col_norm_5k.tsv\n",
      "data_GEXP_5k_col_norm/UCEC_gexp_col_norm_5k.tsv\n",
      "data_GEXP_5k_col_norm/UVM_gexp_col_norm_5k.tsv\n"
     ]
    }
   ],
   "source": [
    "full_stack = pd.DataFrame() # Production cell 1, stack up the cancers\n",
    "for path in nrm_wthn_pths:\n",
    "    print(path)\n",
    "    train_df = pd.read_csv(path, sep=\"\\t\", index_col=0)\n",
    "    full_stack = pd.concat( [full_stack, train_df], axis = 0 )\n",
    "    # break"
   ]
  },
  {
   "cell_type": "code",
   "execution_count": 23,
   "id": "e9d847b4-6f6a-4914-924b-6f5d90302572",
   "metadata": {},
   "outputs": [
    {
     "data": {
      "text/html": [
       "<div>\n",
       "<style scoped>\n",
       "    .dataframe tbody tr th:only-of-type {\n",
       "        vertical-align: middle;\n",
       "    }\n",
       "\n",
       "    .dataframe tbody tr th {\n",
       "        vertical-align: top;\n",
       "    }\n",
       "\n",
       "    .dataframe thead th {\n",
       "        text-align: right;\n",
       "    }\n",
       "</style>\n",
       "<table border=\"1\" class=\"dataframe\">\n",
       "  <thead>\n",
       "    <tr style=\"text-align: right;\">\n",
       "      <th></th>\n",
       "      <th>Labels</th>\n",
       "      <th>N:GEXP::ALB:213:</th>\n",
       "      <th>N:GEXP::TG:7038:</th>\n",
       "      <th>N:GEXP::COL1A1:1277:</th>\n",
       "      <th>N:GEXP::FN1:2335:</th>\n",
       "      <th>N:GEXP::KRT5:3852:</th>\n",
       "      <th>N:GEXP::KRT14:3861:</th>\n",
       "      <th>N:GEXP::KRT6A:3853:</th>\n",
       "      <th>N:GEXP::ADAM6:8755:</th>\n",
       "      <th>N:GEXP::SERPINA1:5265:</th>\n",
       "      <th>...</th>\n",
       "      <th>N:GEXP::C14orf1:11161:</th>\n",
       "      <th>N:GEXP::SMCHD1:23347:</th>\n",
       "      <th>N:GEXP::ARL2BP:23568:</th>\n",
       "      <th>N:GEXP::PITPNB:23760:</th>\n",
       "      <th>N:GEXP::KDM5A:5927:</th>\n",
       "      <th>N:GEXP::CNIH:10175:</th>\n",
       "      <th>N:GEXP::ACADS:35:</th>\n",
       "      <th>N:GEXP::YIPF2:78992:</th>\n",
       "      <th>N:GEXP::MEPCE:56257:</th>\n",
       "      <th>N:GEXP::PPARG:5468:</th>\n",
       "    </tr>\n",
       "  </thead>\n",
       "  <tbody>\n",
       "    <tr>\n",
       "      <th>TCGA-OR-A5J1</th>\n",
       "      <td>ACC_2</td>\n",
       "      <td>0.000182</td>\n",
       "      <td>0.360981</td>\n",
       "      <td>0.001892</td>\n",
       "      <td>0.007364</td>\n",
       "      <td>0.000000</td>\n",
       "      <td>0.000000</td>\n",
       "      <td>0.000000</td>\n",
       "      <td>0.000284</td>\n",
       "      <td>0.006090</td>\n",
       "      <td>...</td>\n",
       "      <td>0.246175</td>\n",
       "      <td>0.542221</td>\n",
       "      <td>0.402793</td>\n",
       "      <td>0.335923</td>\n",
       "      <td>0.241655</td>\n",
       "      <td>0.232638</td>\n",
       "      <td>0.137530</td>\n",
       "      <td>0.278195</td>\n",
       "      <td>0.306376</td>\n",
       "      <td>0.078349</td>\n",
       "    </tr>\n",
       "    <tr>\n",
       "      <th>TCGA-OR-A5J2</th>\n",
       "      <td>ACC_2</td>\n",
       "      <td>0.000662</td>\n",
       "      <td>0.028076</td>\n",
       "      <td>0.016630</td>\n",
       "      <td>0.094906</td>\n",
       "      <td>0.001782</td>\n",
       "      <td>0.002093</td>\n",
       "      <td>0.000000</td>\n",
       "      <td>0.052871</td>\n",
       "      <td>0.002012</td>\n",
       "      <td>...</td>\n",
       "      <td>0.057344</td>\n",
       "      <td>0.810534</td>\n",
       "      <td>0.198127</td>\n",
       "      <td>0.339276</td>\n",
       "      <td>1.000000</td>\n",
       "      <td>0.255464</td>\n",
       "      <td>0.184041</td>\n",
       "      <td>0.413199</td>\n",
       "      <td>0.303635</td>\n",
       "      <td>0.039638</td>\n",
       "    </tr>\n",
       "    <tr>\n",
       "      <th>TCGA-OR-A5J3</th>\n",
       "      <td>ACC_3</td>\n",
       "      <td>0.000675</td>\n",
       "      <td>0.504978</td>\n",
       "      <td>0.004538</td>\n",
       "      <td>0.036593</td>\n",
       "      <td>0.002623</td>\n",
       "      <td>0.001027</td>\n",
       "      <td>0.000000</td>\n",
       "      <td>0.002378</td>\n",
       "      <td>0.000851</td>\n",
       "      <td>...</td>\n",
       "      <td>0.457210</td>\n",
       "      <td>0.488562</td>\n",
       "      <td>0.499732</td>\n",
       "      <td>0.410338</td>\n",
       "      <td>0.493998</td>\n",
       "      <td>0.576924</td>\n",
       "      <td>0.231120</td>\n",
       "      <td>0.519779</td>\n",
       "      <td>0.540690</td>\n",
       "      <td>0.028952</td>\n",
       "    </tr>\n",
       "    <tr>\n",
       "      <th>TCGA-OR-A5J5</th>\n",
       "      <td>ACC_3</td>\n",
       "      <td>0.039602</td>\n",
       "      <td>0.519118</td>\n",
       "      <td>0.005965</td>\n",
       "      <td>0.081847</td>\n",
       "      <td>0.000000</td>\n",
       "      <td>0.001342</td>\n",
       "      <td>0.000000</td>\n",
       "      <td>0.000142</td>\n",
       "      <td>0.001235</td>\n",
       "      <td>...</td>\n",
       "      <td>0.145073</td>\n",
       "      <td>0.509690</td>\n",
       "      <td>0.383014</td>\n",
       "      <td>0.394384</td>\n",
       "      <td>0.254431</td>\n",
       "      <td>0.305898</td>\n",
       "      <td>0.222402</td>\n",
       "      <td>0.371465</td>\n",
       "      <td>0.304460</td>\n",
       "      <td>0.073477</td>\n",
       "    </tr>\n",
       "    <tr>\n",
       "      <th>TCGA-OR-A5J6</th>\n",
       "      <td>ACC_1</td>\n",
       "      <td>0.000141</td>\n",
       "      <td>0.017320</td>\n",
       "      <td>0.001465</td>\n",
       "      <td>0.003721</td>\n",
       "      <td>0.000000</td>\n",
       "      <td>0.000000</td>\n",
       "      <td>0.000000</td>\n",
       "      <td>0.007885</td>\n",
       "      <td>0.002986</td>\n",
       "      <td>...</td>\n",
       "      <td>0.083668</td>\n",
       "      <td>0.411400</td>\n",
       "      <td>0.346296</td>\n",
       "      <td>0.393668</td>\n",
       "      <td>0.321142</td>\n",
       "      <td>0.231314</td>\n",
       "      <td>0.780143</td>\n",
       "      <td>0.318338</td>\n",
       "      <td>0.992842</td>\n",
       "      <td>0.742167</td>\n",
       "    </tr>\n",
       "    <tr>\n",
       "      <th>...</th>\n",
       "      <td>...</td>\n",
       "      <td>...</td>\n",
       "      <td>...</td>\n",
       "      <td>...</td>\n",
       "      <td>...</td>\n",
       "      <td>...</td>\n",
       "      <td>...</td>\n",
       "      <td>...</td>\n",
       "      <td>...</td>\n",
       "      <td>...</td>\n",
       "      <td>...</td>\n",
       "      <td>...</td>\n",
       "      <td>...</td>\n",
       "      <td>...</td>\n",
       "      <td>...</td>\n",
       "      <td>...</td>\n",
       "      <td>...</td>\n",
       "      <td>...</td>\n",
       "      <td>...</td>\n",
       "      <td>...</td>\n",
       "      <td>...</td>\n",
       "    </tr>\n",
       "    <tr>\n",
       "      <th>TCGA-WC-AA9E</th>\n",
       "      <td>UVM_3</td>\n",
       "      <td>0.030804</td>\n",
       "      <td>0.005387</td>\n",
       "      <td>0.003946</td>\n",
       "      <td>0.020549</td>\n",
       "      <td>0.102395</td>\n",
       "      <td>0.082625</td>\n",
       "      <td>0.076004</td>\n",
       "      <td>0.019509</td>\n",
       "      <td>0.055003</td>\n",
       "      <td>...</td>\n",
       "      <td>0.393935</td>\n",
       "      <td>0.610252</td>\n",
       "      <td>0.344880</td>\n",
       "      <td>0.686383</td>\n",
       "      <td>0.853623</td>\n",
       "      <td>0.598790</td>\n",
       "      <td>0.528979</td>\n",
       "      <td>0.337590</td>\n",
       "      <td>0.276482</td>\n",
       "      <td>0.037362</td>\n",
       "    </tr>\n",
       "    <tr>\n",
       "      <th>TCGA-YZ-A980</th>\n",
       "      <td>UVM_1</td>\n",
       "      <td>0.028575</td>\n",
       "      <td>0.077464</td>\n",
       "      <td>0.094785</td>\n",
       "      <td>0.145219</td>\n",
       "      <td>0.004130</td>\n",
       "      <td>0.000684</td>\n",
       "      <td>0.001621</td>\n",
       "      <td>0.000118</td>\n",
       "      <td>0.313738</td>\n",
       "      <td>...</td>\n",
       "      <td>0.448846</td>\n",
       "      <td>0.425112</td>\n",
       "      <td>0.702758</td>\n",
       "      <td>0.458945</td>\n",
       "      <td>0.515307</td>\n",
       "      <td>0.449282</td>\n",
       "      <td>0.272083</td>\n",
       "      <td>0.430847</td>\n",
       "      <td>0.303070</td>\n",
       "      <td>0.049678</td>\n",
       "    </tr>\n",
       "    <tr>\n",
       "      <th>TCGA-YZ-A982</th>\n",
       "      <td>UVM_2</td>\n",
       "      <td>0.000000</td>\n",
       "      <td>0.005380</td>\n",
       "      <td>0.007426</td>\n",
       "      <td>0.031989</td>\n",
       "      <td>0.023712</td>\n",
       "      <td>0.011788</td>\n",
       "      <td>0.000000</td>\n",
       "      <td>0.000149</td>\n",
       "      <td>0.295075</td>\n",
       "      <td>...</td>\n",
       "      <td>0.551889</td>\n",
       "      <td>0.250576</td>\n",
       "      <td>0.607254</td>\n",
       "      <td>0.601735</td>\n",
       "      <td>0.518152</td>\n",
       "      <td>0.364811</td>\n",
       "      <td>0.395582</td>\n",
       "      <td>0.302280</td>\n",
       "      <td>0.306822</td>\n",
       "      <td>0.009950</td>\n",
       "    </tr>\n",
       "    <tr>\n",
       "      <th>TCGA-YZ-A983</th>\n",
       "      <td>UVM_3</td>\n",
       "      <td>0.021407</td>\n",
       "      <td>0.475421</td>\n",
       "      <td>0.025232</td>\n",
       "      <td>0.039406</td>\n",
       "      <td>0.179425</td>\n",
       "      <td>0.042036</td>\n",
       "      <td>0.159049</td>\n",
       "      <td>0.000309</td>\n",
       "      <td>0.082759</td>\n",
       "      <td>...</td>\n",
       "      <td>0.341519</td>\n",
       "      <td>0.404413</td>\n",
       "      <td>0.578043</td>\n",
       "      <td>0.483949</td>\n",
       "      <td>0.766207</td>\n",
       "      <td>0.827500</td>\n",
       "      <td>0.300552</td>\n",
       "      <td>0.386852</td>\n",
       "      <td>0.201858</td>\n",
       "      <td>0.024924</td>\n",
       "    </tr>\n",
       "    <tr>\n",
       "      <th>TCGA-YZ-A985</th>\n",
       "      <td>UVM_4</td>\n",
       "      <td>0.000000</td>\n",
       "      <td>0.020688</td>\n",
       "      <td>0.091501</td>\n",
       "      <td>0.056944</td>\n",
       "      <td>0.000000</td>\n",
       "      <td>0.083103</td>\n",
       "      <td>0.000000</td>\n",
       "      <td>0.000098</td>\n",
       "      <td>0.210639</td>\n",
       "      <td>...</td>\n",
       "      <td>0.460037</td>\n",
       "      <td>0.307154</td>\n",
       "      <td>0.747838</td>\n",
       "      <td>0.476131</td>\n",
       "      <td>0.419924</td>\n",
       "      <td>0.282990</td>\n",
       "      <td>0.383709</td>\n",
       "      <td>0.357510</td>\n",
       "      <td>0.666461</td>\n",
       "      <td>0.078435</td>\n",
       "    </tr>\n",
       "  </tbody>\n",
       "</table>\n",
       "<p>8009 rows × 5001 columns</p>\n",
       "</div>"
      ],
      "text/plain": [
       "             Labels  N:GEXP::ALB:213:  N:GEXP::TG:7038:  N:GEXP::COL1A1:1277:  \\\n",
       "TCGA-OR-A5J1  ACC_2          0.000182          0.360981              0.001892   \n",
       "TCGA-OR-A5J2  ACC_2          0.000662          0.028076              0.016630   \n",
       "TCGA-OR-A5J3  ACC_3          0.000675          0.504978              0.004538   \n",
       "TCGA-OR-A5J5  ACC_3          0.039602          0.519118              0.005965   \n",
       "TCGA-OR-A5J6  ACC_1          0.000141          0.017320              0.001465   \n",
       "...             ...               ...               ...                   ...   \n",
       "TCGA-WC-AA9E  UVM_3          0.030804          0.005387              0.003946   \n",
       "TCGA-YZ-A980  UVM_1          0.028575          0.077464              0.094785   \n",
       "TCGA-YZ-A982  UVM_2          0.000000          0.005380              0.007426   \n",
       "TCGA-YZ-A983  UVM_3          0.021407          0.475421              0.025232   \n",
       "TCGA-YZ-A985  UVM_4          0.000000          0.020688              0.091501   \n",
       "\n",
       "              N:GEXP::FN1:2335:  N:GEXP::KRT5:3852:  N:GEXP::KRT14:3861:  \\\n",
       "TCGA-OR-A5J1           0.007364            0.000000             0.000000   \n",
       "TCGA-OR-A5J2           0.094906            0.001782             0.002093   \n",
       "TCGA-OR-A5J3           0.036593            0.002623             0.001027   \n",
       "TCGA-OR-A5J5           0.081847            0.000000             0.001342   \n",
       "TCGA-OR-A5J6           0.003721            0.000000             0.000000   \n",
       "...                         ...                 ...                  ...   \n",
       "TCGA-WC-AA9E           0.020549            0.102395             0.082625   \n",
       "TCGA-YZ-A980           0.145219            0.004130             0.000684   \n",
       "TCGA-YZ-A982           0.031989            0.023712             0.011788   \n",
       "TCGA-YZ-A983           0.039406            0.179425             0.042036   \n",
       "TCGA-YZ-A985           0.056944            0.000000             0.083103   \n",
       "\n",
       "              N:GEXP::KRT6A:3853:  N:GEXP::ADAM6:8755:  \\\n",
       "TCGA-OR-A5J1             0.000000             0.000284   \n",
       "TCGA-OR-A5J2             0.000000             0.052871   \n",
       "TCGA-OR-A5J3             0.000000             0.002378   \n",
       "TCGA-OR-A5J5             0.000000             0.000142   \n",
       "TCGA-OR-A5J6             0.000000             0.007885   \n",
       "...                           ...                  ...   \n",
       "TCGA-WC-AA9E             0.076004             0.019509   \n",
       "TCGA-YZ-A980             0.001621             0.000118   \n",
       "TCGA-YZ-A982             0.000000             0.000149   \n",
       "TCGA-YZ-A983             0.159049             0.000309   \n",
       "TCGA-YZ-A985             0.000000             0.000098   \n",
       "\n",
       "              N:GEXP::SERPINA1:5265:  ...  N:GEXP::C14orf1:11161:  \\\n",
       "TCGA-OR-A5J1                0.006090  ...                0.246175   \n",
       "TCGA-OR-A5J2                0.002012  ...                0.057344   \n",
       "TCGA-OR-A5J3                0.000851  ...                0.457210   \n",
       "TCGA-OR-A5J5                0.001235  ...                0.145073   \n",
       "TCGA-OR-A5J6                0.002986  ...                0.083668   \n",
       "...                              ...  ...                     ...   \n",
       "TCGA-WC-AA9E                0.055003  ...                0.393935   \n",
       "TCGA-YZ-A980                0.313738  ...                0.448846   \n",
       "TCGA-YZ-A982                0.295075  ...                0.551889   \n",
       "TCGA-YZ-A983                0.082759  ...                0.341519   \n",
       "TCGA-YZ-A985                0.210639  ...                0.460037   \n",
       "\n",
       "              N:GEXP::SMCHD1:23347:  N:GEXP::ARL2BP:23568:  \\\n",
       "TCGA-OR-A5J1               0.542221               0.402793   \n",
       "TCGA-OR-A5J2               0.810534               0.198127   \n",
       "TCGA-OR-A5J3               0.488562               0.499732   \n",
       "TCGA-OR-A5J5               0.509690               0.383014   \n",
       "TCGA-OR-A5J6               0.411400               0.346296   \n",
       "...                             ...                    ...   \n",
       "TCGA-WC-AA9E               0.610252               0.344880   \n",
       "TCGA-YZ-A980               0.425112               0.702758   \n",
       "TCGA-YZ-A982               0.250576               0.607254   \n",
       "TCGA-YZ-A983               0.404413               0.578043   \n",
       "TCGA-YZ-A985               0.307154               0.747838   \n",
       "\n",
       "              N:GEXP::PITPNB:23760:  N:GEXP::KDM5A:5927:  N:GEXP::CNIH:10175:  \\\n",
       "TCGA-OR-A5J1               0.335923             0.241655             0.232638   \n",
       "TCGA-OR-A5J2               0.339276             1.000000             0.255464   \n",
       "TCGA-OR-A5J3               0.410338             0.493998             0.576924   \n",
       "TCGA-OR-A5J5               0.394384             0.254431             0.305898   \n",
       "TCGA-OR-A5J6               0.393668             0.321142             0.231314   \n",
       "...                             ...                  ...                  ...   \n",
       "TCGA-WC-AA9E               0.686383             0.853623             0.598790   \n",
       "TCGA-YZ-A980               0.458945             0.515307             0.449282   \n",
       "TCGA-YZ-A982               0.601735             0.518152             0.364811   \n",
       "TCGA-YZ-A983               0.483949             0.766207             0.827500   \n",
       "TCGA-YZ-A985               0.476131             0.419924             0.282990   \n",
       "\n",
       "              N:GEXP::ACADS:35:  N:GEXP::YIPF2:78992:  N:GEXP::MEPCE:56257:  \\\n",
       "TCGA-OR-A5J1           0.137530              0.278195              0.306376   \n",
       "TCGA-OR-A5J2           0.184041              0.413199              0.303635   \n",
       "TCGA-OR-A5J3           0.231120              0.519779              0.540690   \n",
       "TCGA-OR-A5J5           0.222402              0.371465              0.304460   \n",
       "TCGA-OR-A5J6           0.780143              0.318338              0.992842   \n",
       "...                         ...                   ...                   ...   \n",
       "TCGA-WC-AA9E           0.528979              0.337590              0.276482   \n",
       "TCGA-YZ-A980           0.272083              0.430847              0.303070   \n",
       "TCGA-YZ-A982           0.395582              0.302280              0.306822   \n",
       "TCGA-YZ-A983           0.300552              0.386852              0.201858   \n",
       "TCGA-YZ-A985           0.383709              0.357510              0.666461   \n",
       "\n",
       "              N:GEXP::PPARG:5468:  \n",
       "TCGA-OR-A5J1             0.078349  \n",
       "TCGA-OR-A5J2             0.039638  \n",
       "TCGA-OR-A5J3             0.028952  \n",
       "TCGA-OR-A5J5             0.073477  \n",
       "TCGA-OR-A5J6             0.742167  \n",
       "...                           ...  \n",
       "TCGA-WC-AA9E             0.037362  \n",
       "TCGA-YZ-A980             0.049678  \n",
       "TCGA-YZ-A982             0.009950  \n",
       "TCGA-YZ-A983             0.024924  \n",
       "TCGA-YZ-A985             0.078435  \n",
       "\n",
       "[8009 rows x 5001 columns]"
      ]
     },
     "execution_count": 23,
     "metadata": {},
     "output_type": "execute_result"
    }
   ],
   "source": [
    "full_stack"
   ]
  },
  {
   "cell_type": "code",
   "execution_count": 24,
   "id": "83725ea7-7a1f-434a-b90b-10ee98c03de8",
   "metadata": {},
   "outputs": [
    {
     "data": {
      "text/plain": [
       "array(['ACC', 'BLCA', 'BRCA', 'CESC', 'COADREAD', 'ESCC', 'GEA', 'HNSC',\n",
       "       'KIRCKICH', 'KIRP', 'LIHCCHOL', 'LUAD', 'LUSC', 'MESO', 'OV',\n",
       "       'PAAD', 'PCPG', 'PRAD', 'SARC', 'SKCM', 'TGCT', 'THCA', 'THYM',\n",
       "       'UCEC', 'UVM'], dtype=object)"
      ]
     },
     "execution_count": 24,
     "metadata": {},
     "output_type": "execute_result"
    }
   ],
   "source": [
    "full_stack.Labels.str.split('_').str[0].unique()"
   ]
  },
  {
   "cell_type": "code",
   "execution_count": 27,
   "id": "da1c1242-c90c-4a3d-b854-f95bf879643e",
   "metadata": {},
   "outputs": [],
   "source": [
    "c_lst = full_stack.Labels.str.split('_').str[0].unique() # Production cell 2"
   ]
  },
  {
   "cell_type": "code",
   "execution_count": 25,
   "id": "f686f56e-d6c0-4a55-be08-4f0837f2e892",
   "metadata": {},
   "outputs": [
    {
     "data": {
      "text/plain": [
       "TCGA-OR-A5J1     True\n",
       "TCGA-OR-A5J2     True\n",
       "TCGA-OR-A5J3     True\n",
       "TCGA-OR-A5J5     True\n",
       "TCGA-OR-A5J6     True\n",
       "                ...  \n",
       "TCGA-WC-AA9E    False\n",
       "TCGA-YZ-A980    False\n",
       "TCGA-YZ-A982    False\n",
       "TCGA-YZ-A983    False\n",
       "TCGA-YZ-A985    False\n",
       "Name: Labels, Length: 8009, dtype: bool"
      ]
     },
     "execution_count": 25,
     "metadata": {},
     "output_type": "execute_result"
    }
   ],
   "source": [
    "full_stack.Labels.str.contains('ACC') # gives the boolean"
   ]
  },
  {
   "cell_type": "code",
   "execution_count": 26,
   "id": "33342d8d-7938-44b4-b9e4-6f1099d27c6c",
   "metadata": {},
   "outputs": [
    {
     "data": {
      "text/plain": [
       "TCGA-OR-A5J1    False\n",
       "TCGA-OR-A5J2    False\n",
       "TCGA-OR-A5J3    False\n",
       "TCGA-OR-A5J5    False\n",
       "TCGA-OR-A5J6    False\n",
       "                ...  \n",
       "TCGA-WC-AA9E     True\n",
       "TCGA-YZ-A980     True\n",
       "TCGA-YZ-A982     True\n",
       "TCGA-YZ-A983     True\n",
       "TCGA-YZ-A985     True\n",
       "Name: Labels, Length: 8009, dtype: bool"
      ]
     },
     "execution_count": 26,
     "metadata": {},
     "output_type": "execute_result"
    }
   ],
   "source": [
    "~full_stack.Labels.str.contains('ACC') # tilda is friend"
   ]
  },
  {
   "cell_type": "code",
   "execution_count": null,
   "id": "c9d3264b-4e22-43ce-87ed-54b4534988a6",
   "metadata": {},
   "outputs": [],
   "source": []
  },
  {
   "cell_type": "code",
   "execution_count": 28,
   "id": "dec147c4-7647-4f0a-82b1-e6efc7cb74c9",
   "metadata": {},
   "outputs": [],
   "source": [
    "for c in c_lst:\n",
    "    stack_less_one = full_stack[~full_stack.Labels.str.contains(c)]\n",
    "    break"
   ]
  },
  {
   "cell_type": "code",
   "execution_count": 30,
   "id": "1af38a13-55e9-4c5a-abed-8fe9a962e3f4",
   "metadata": {},
   "outputs": [
    {
     "data": {
      "text/plain": [
       "76"
      ]
     },
     "execution_count": 30,
     "metadata": {},
     "output_type": "execute_result"
    }
   ],
   "source": [
    "8009-7933 # sample count for adrenocortical, check"
   ]
  },
  {
   "cell_type": "code",
   "execution_count": 40,
   "id": "ac2fcbb3-e489-4f27-9287-7d0250e80a94",
   "metadata": {},
   "outputs": [
    {
     "data": {
      "text/plain": [
       "array(['ACC', 'BLCA', 'BRCA', 'CESC', 'COADREAD', 'ESCC', 'GEA', 'HNSC',\n",
       "       'KIRCKICH', 'KIRP', 'LIHCCHOL', 'LUAD', 'LUSC', 'MESO', 'OV',\n",
       "       'PAAD', 'PCPG', 'PRAD', 'SARC', 'SKCM', 'TGCT', 'THCA', 'THYM',\n",
       "       'UCEC', 'UVM'], dtype=object)"
      ]
     },
     "execution_count": 40,
     "metadata": {},
     "output_type": "execute_result"
    }
   ],
   "source": [
    "c_lst"
   ]
  },
  {
   "cell_type": "code",
   "execution_count": 41,
   "id": "5ad2f48f-ac0a-4477-ac52-8847e21a9687",
   "metadata": {},
   "outputs": [],
   "source": [
    "c_lst = ['ACC', 'BLCA']"
   ]
  },
  {
   "cell_type": "code",
   "execution_count": 56,
   "id": "bd481491-0fb0-4701-94e2-313a101c5d1f",
   "metadata": {
    "tags": []
   },
   "outputs": [
    {
     "name": "stdout",
     "output_type": "stream",
     "text": [
      "WARNING:tensorflow:Output {0} missing from loss dictionary. We assume this was done on purpose. The fit and evaluate APIs will not be expecting any data to be passed to custom_variational_layer_5.\n"
     ]
    },
    {
     "name": "stderr",
     "output_type": "stream",
     "text": [
      "2022-11-17 13:42:38.615208: I tensorflow/core/grappler/optimizers/custom_graph_optimizer_registry.cc:114] Plugin optimizer for device_type GPU is enabled.\n",
      "2022-11-17 13:42:38.686995: I tensorflow/core/grappler/optimizers/custom_graph_optimizer_registry.cc:114] Plugin optimizer for device_type GPU is enabled.\n",
      "2022-11-17 13:42:38.726154: I tensorflow/core/grappler/optimizers/custom_graph_optimizer_registry.cc:114] Plugin optimizer for device_type GPU is enabled.\n"
     ]
    },
    {
     "name": "stdout",
     "output_type": "stream",
     "text": [
      "Train on 7933 samples\n",
      "Epoch 1/35\n"
     ]
    },
    {
     "name": "stderr",
     "output_type": "stream",
     "text": [
      "2022-11-17 13:42:38.988336: I tensorflow/core/grappler/optimizers/custom_graph_optimizer_registry.cc:114] Plugin optimizer for device_type GPU is enabled.\n",
      "2022-11-17 13:42:39.071863: I tensorflow/core/grappler/optimizers/custom_graph_optimizer_registry.cc:114] Plugin optimizer for device_type GPU is enabled.\n",
      "2022-11-17 13:42:39.106699: I tensorflow/core/grappler/optimizers/custom_graph_optimizer_registry.cc:114] Plugin optimizer for device_type GPU is enabled.\n"
     ]
    },
    {
     "name": "stdout",
     "output_type": "stream",
     "text": [
      "7933/7933 [==============================] - 3s 360us/sample - loss: 2702.9409\n",
      "Epoch 2/35\n",
      " 650/7933 [=>............................] - ETA: 1s - loss: 2457.5661"
     ]
    },
    {
     "name": "stderr",
     "output_type": "stream",
     "text": [
      "2022-11-17 13:42:41.743313: I tensorflow/core/grappler/optimizers/custom_graph_optimizer_registry.cc:114] Plugin optimizer for device_type GPU is enabled.\n"
     ]
    },
    {
     "name": "stdout",
     "output_type": "stream",
     "text": [
      "7933/7933 [==============================] - 2s 266us/sample - loss: 2420.7496\n",
      "Epoch 3/35\n",
      "7933/7933 [==============================] - 2s 267us/sample - loss: 2376.0889\n",
      "Epoch 4/35\n",
      "7933/7933 [==============================] - 2s 264us/sample - loss: 2347.9917\n",
      "Epoch 5/35\n",
      "7933/7933 [==============================] - 2s 262us/sample - loss: 2329.7732\n",
      "Epoch 6/35\n",
      "7933/7933 [==============================] - 2s 265us/sample - loss: 2317.4031\n",
      "Epoch 7/35\n",
      "7933/7933 [==============================] - 2s 264us/sample - loss: 2309.2604\n",
      "Epoch 8/35\n",
      "7933/7933 [==============================] - 2s 271us/sample - loss: 2302.7328\n",
      "Epoch 9/35\n",
      "7933/7933 [==============================] - 2s 273us/sample - loss: 2297.4716\n",
      "Epoch 10/35\n",
      "7933/7933 [==============================] - 2s 266us/sample - loss: 2293.2386\n",
      "Epoch 11/35\n",
      "7933/7933 [==============================] - 2s 265us/sample - loss: 2289.6996\n",
      "Epoch 12/35\n",
      "7933/7933 [==============================] - 2s 285us/sample - loss: 2286.9783\n",
      "Epoch 13/35\n",
      "7933/7933 [==============================] - 2s 269us/sample - loss: 2284.3297\n",
      "Epoch 14/35\n",
      "7933/7933 [==============================] - 2s 263us/sample - loss: 2281.8894\n",
      "Epoch 15/35\n",
      "7933/7933 [==============================] - 2s 272us/sample - loss: 2280.3867\n",
      "Epoch 16/35\n",
      "7933/7933 [==============================] - 2s 267us/sample - loss: 2278.4700\n",
      "Epoch 17/35\n",
      "7933/7933 [==============================] - 2s 271us/sample - loss: 2276.6073\n",
      "Epoch 18/35\n",
      "7933/7933 [==============================] - 2s 269us/sample - loss: 2275.8077\n",
      "Epoch 19/35\n",
      "7933/7933 [==============================] - 2s 268us/sample - loss: 2274.4614\n",
      "Epoch 20/35\n",
      "7933/7933 [==============================] - 2s 270us/sample - loss: 2273.6178\n",
      "Epoch 21/35\n",
      "7933/7933 [==============================] - 2s 280us/sample - loss: 2272.6086\n",
      "Epoch 22/35\n",
      "7933/7933 [==============================] - 2s 267us/sample - loss: 2271.4275\n",
      "Epoch 23/35\n",
      "7933/7933 [==============================] - 2s 269us/sample - loss: 2270.8363\n",
      "Epoch 24/35\n",
      "7933/7933 [==============================] - 2s 270us/sample - loss: 2270.1416\n",
      "Epoch 25/35\n",
      "7933/7933 [==============================] - 2s 276us/sample - loss: 2270.0424\n",
      "Epoch 26/35\n",
      "7933/7933 [==============================] - 2s 273us/sample - loss: 2269.3587\n",
      "Epoch 27/35\n",
      "7933/7933 [==============================] - 2s 268us/sample - loss: 2268.6994\n",
      "Epoch 28/35\n",
      "7933/7933 [==============================] - 2s 267us/sample - loss: 2268.5523\n",
      "Epoch 29/35\n",
      "7933/7933 [==============================] - 2s 271us/sample - loss: 2267.5039\n",
      "Epoch 30/35\n",
      "7933/7933 [==============================] - 2s 271us/sample - loss: 2267.4810\n",
      "Epoch 31/35\n",
      "7933/7933 [==============================] - 2s 272us/sample - loss: 2267.2888\n",
      "Epoch 32/35\n",
      "7933/7933 [==============================] - 2s 265us/sample - loss: 2266.4704\n",
      "Epoch 33/35\n",
      "7933/7933 [==============================] - 2s 273us/sample - loss: 2266.5248\n",
      "Epoch 34/35\n",
      "7933/7933 [==============================] - 2s 276us/sample - loss: 2266.0874\n",
      "Epoch 35/35\n",
      "7933/7933 [==============================] - 2s 265us/sample - loss: 2265.7868\n"
     ]
    },
    {
     "name": "stderr",
     "output_type": "stream",
     "text": [
      "/Users/karlberb/miniforge3/envs/tf_M1_py3dot9/lib/python3.9/site-packages/keras/engine/training_v1.py:2356: UserWarning: `Model.state_updates` will be removed in a future version. This property should not be used in TensorFlow 2.0, as `updates` are applied automatically.\n",
      "  updates=self.state_updates,\n",
      "2022-11-17 13:43:54.603408: I tensorflow/core/grappler/optimizers/custom_graph_optimizer_registry.cc:114] Plugin optimizer for device_type GPU is enabled.\n",
      "2022-11-17 13:43:54.720425: I tensorflow/core/grappler/optimizers/custom_graph_optimizer_registry.cc:114] Plugin optimizer for device_type GPU is enabled.\n"
     ]
    },
    {
     "name": "stdout",
     "output_type": "stream",
     "text": [
      "ACC done\n",
      " \n",
      "WARNING:tensorflow:Output {0} missing from loss dictionary. We assume this was done on purpose. The fit and evaluate APIs will not be expecting any data to be passed to custom_variational_layer_6.\n"
     ]
    },
    {
     "name": "stderr",
     "output_type": "stream",
     "text": [
      "2022-11-17 13:43:55.113409: I tensorflow/core/grappler/optimizers/custom_graph_optimizer_registry.cc:114] Plugin optimizer for device_type GPU is enabled.\n",
      "2022-11-17 13:43:55.199657: I tensorflow/core/grappler/optimizers/custom_graph_optimizer_registry.cc:114] Plugin optimizer for device_type GPU is enabled.\n",
      "2022-11-17 13:43:55.241281: I tensorflow/core/grappler/optimizers/custom_graph_optimizer_registry.cc:114] Plugin optimizer for device_type GPU is enabled.\n"
     ]
    },
    {
     "name": "stdout",
     "output_type": "stream",
     "text": [
      "Train on 7610 samples\n",
      "Epoch 1/35\n"
     ]
    },
    {
     "name": "stderr",
     "output_type": "stream",
     "text": [
      "2022-11-17 13:43:55.458951: I tensorflow/core/grappler/optimizers/custom_graph_optimizer_registry.cc:114] Plugin optimizer for device_type GPU is enabled.\n",
      "2022-11-17 13:43:55.550108: I tensorflow/core/grappler/optimizers/custom_graph_optimizer_registry.cc:114] Plugin optimizer for device_type GPU is enabled.\n",
      "2022-11-17 13:43:55.585797: I tensorflow/core/grappler/optimizers/custom_graph_optimizer_registry.cc:114] Plugin optimizer for device_type GPU is enabled.\n"
     ]
    },
    {
     "name": "stdout",
     "output_type": "stream",
     "text": [
      "7610/7610 [==============================] - 3s 379us/sample - loss: 2719.2452\n",
      "Epoch 2/35\n",
      " 700/7610 [=>............................] - ETA: 1s - loss: 2465.6715"
     ]
    },
    {
     "name": "stderr",
     "output_type": "stream",
     "text": [
      "2022-11-17 13:43:58.249797: I tensorflow/core/grappler/optimizers/custom_graph_optimizer_registry.cc:114] Plugin optimizer for device_type GPU is enabled.\n"
     ]
    },
    {
     "name": "stdout",
     "output_type": "stream",
     "text": [
      "7610/7610 [==============================] - 2s 259us/sample - loss: 2436.3540\n",
      "Epoch 3/35\n",
      "7610/7610 [==============================] - 2s 262us/sample - loss: 2389.8423\n",
      "Epoch 4/35\n",
      "7610/7610 [==============================] - 2s 262us/sample - loss: 2363.3977\n",
      "Epoch 5/35\n",
      "7610/7610 [==============================] - 2s 269us/sample - loss: 2344.7131\n",
      "Epoch 6/35\n",
      "7610/7610 [==============================] - 2s 261us/sample - loss: 2331.7563\n",
      "Epoch 7/35\n",
      "7610/7610 [==============================] - 2s 263us/sample - loss: 2322.9587\n",
      "Epoch 8/35\n",
      "7610/7610 [==============================] - 2s 264us/sample - loss: 2315.8771\n",
      "Epoch 9/35\n",
      "7610/7610 [==============================] - 2s 258us/sample - loss: 2310.1955\n",
      "Epoch 10/35\n",
      "7610/7610 [==============================] - 2s 261us/sample - loss: 2305.8802\n",
      "Epoch 11/35\n",
      "7610/7610 [==============================] - 2s 254us/sample - loss: 2302.1720\n",
      "Epoch 12/35\n",
      "7610/7610 [==============================] - 2s 267us/sample - loss: 2299.2776\n",
      "Epoch 13/35\n",
      "7610/7610 [==============================] - 2s 257us/sample - loss: 2296.5326\n",
      "Epoch 14/35\n",
      "7610/7610 [==============================] - 2s 258us/sample - loss: 2294.1464\n",
      "Epoch 15/35\n",
      "7610/7610 [==============================] - 2s 259us/sample - loss: 2291.4363\n",
      "Epoch 16/35\n",
      "7610/7610 [==============================] - 2s 259us/sample - loss: 2289.7721\n",
      "Epoch 17/35\n",
      "7610/7610 [==============================] - 2s 261us/sample - loss: 2288.1691\n",
      "Epoch 18/35\n",
      "7610/7610 [==============================] - 2s 260us/sample - loss: 2286.8591\n",
      "Epoch 19/35\n",
      "7610/7610 [==============================] - 2s 271us/sample - loss: 2286.0781\n",
      "Epoch 20/35\n",
      "7610/7610 [==============================] - 2s 262us/sample - loss: 2284.7106\n",
      "Epoch 21/35\n",
      "7610/7610 [==============================] - 2s 260us/sample - loss: 2283.7264\n",
      "Epoch 22/35\n",
      "7610/7610 [==============================] - 2s 262us/sample - loss: 2283.0224\n",
      "Epoch 23/35\n",
      "7610/7610 [==============================] - 2s 258us/sample - loss: 2281.9625\n",
      "Epoch 24/35\n",
      "7610/7610 [==============================] - 2s 262us/sample - loss: 2282.0234\n",
      "Epoch 25/35\n",
      "7610/7610 [==============================] - 2s 258us/sample - loss: 2280.7889\n",
      "Epoch 26/35\n",
      "7610/7610 [==============================] - 2s 260us/sample - loss: 2280.3924\n",
      "Epoch 27/35\n",
      "7610/7610 [==============================] - 2s 262us/sample - loss: 2279.3230\n",
      "Epoch 28/35\n",
      "7610/7610 [==============================] - 2s 269us/sample - loss: 2279.4324\n",
      "Epoch 29/35\n",
      "7610/7610 [==============================] - 2s 264us/sample - loss: 2278.2948\n",
      "Epoch 30/35\n",
      "7610/7610 [==============================] - 2s 264us/sample - loss: 2278.1349\n",
      "Epoch 31/35\n",
      "7610/7610 [==============================] - 2s 263us/sample - loss: 2277.7509\n",
      "Epoch 32/35\n",
      "7610/7610 [==============================] - 2s 260us/sample - loss: 2277.2972\n",
      "Epoch 33/35\n",
      "7610/7610 [==============================] - 2s 265us/sample - loss: 2277.0076\n",
      "Epoch 34/35\n",
      "7610/7610 [==============================] - 2s 258us/sample - loss: 2277.0786\n",
      "Epoch 35/35\n",
      "7610/7610 [==============================] - 2s 262us/sample - loss: 2276.7899\n"
     ]
    },
    {
     "name": "stderr",
     "output_type": "stream",
     "text": [
      "/Users/karlberb/miniforge3/envs/tf_M1_py3dot9/lib/python3.9/site-packages/keras/engine/training_v1.py:2356: UserWarning: `Model.state_updates` will be removed in a future version. This property should not be used in TensorFlow 2.0, as `updates` are applied automatically.\n",
      "  updates=self.state_updates,\n",
      "2022-11-17 13:45:06.643880: I tensorflow/core/grappler/optimizers/custom_graph_optimizer_registry.cc:114] Plugin optimizer for device_type GPU is enabled.\n",
      "2022-11-17 13:45:06.806676: I tensorflow/core/grappler/optimizers/custom_graph_optimizer_registry.cc:114] Plugin optimizer for device_type GPU is enabled.\n"
     ]
    },
    {
     "name": "stdout",
     "output_type": "stream",
     "text": [
      "BLCA done\n",
      " \n",
      "WARNING:tensorflow:Output {0} missing from loss dictionary. We assume this was done on purpose. The fit and evaluate APIs will not be expecting any data to be passed to custom_variational_layer_7.\n"
     ]
    },
    {
     "name": "stderr",
     "output_type": "stream",
     "text": [
      "2022-11-17 13:45:08.049548: I tensorflow/core/grappler/optimizers/custom_graph_optimizer_registry.cc:114] Plugin optimizer for device_type GPU is enabled.\n",
      "2022-11-17 13:45:08.147258: I tensorflow/core/grappler/optimizers/custom_graph_optimizer_registry.cc:114] Plugin optimizer for device_type GPU is enabled.\n",
      "2022-11-17 13:45:08.193468: I tensorflow/core/grappler/optimizers/custom_graph_optimizer_registry.cc:114] Plugin optimizer for device_type GPU is enabled.\n"
     ]
    },
    {
     "name": "stdout",
     "output_type": "stream",
     "text": [
      "Train on 7014 samples\n",
      "Epoch 1/35\n"
     ]
    },
    {
     "name": "stderr",
     "output_type": "stream",
     "text": [
      "2022-11-17 13:45:08.469722: I tensorflow/core/grappler/optimizers/custom_graph_optimizer_registry.cc:114] Plugin optimizer for device_type GPU is enabled.\n",
      "2022-11-17 13:45:08.575945: I tensorflow/core/grappler/optimizers/custom_graph_optimizer_registry.cc:114] Plugin optimizer for device_type GPU is enabled.\n",
      "2022-11-17 13:45:08.616576: I tensorflow/core/grappler/optimizers/custom_graph_optimizer_registry.cc:114] Plugin optimizer for device_type GPU is enabled.\n"
     ]
    },
    {
     "name": "stdout",
     "output_type": "stream",
     "text": [
      "7014/7014 [==============================] - 3s 432us/sample - loss: 2766.9083\n",
      "Epoch 2/35\n",
      " 650/7014 [=>............................] - ETA: 1s - loss: 2516.9362"
     ]
    },
    {
     "name": "stderr",
     "output_type": "stream",
     "text": [
      "2022-11-17 13:45:11.379109: I tensorflow/core/grappler/optimizers/custom_graph_optimizer_registry.cc:114] Plugin optimizer for device_type GPU is enabled.\n"
     ]
    },
    {
     "name": "stdout",
     "output_type": "stream",
     "text": [
      "7014/7014 [==============================] - 2s 272us/sample - loss: 2482.7328\n",
      "Epoch 3/35\n",
      "7014/7014 [==============================] - 2s 283us/sample - loss: 2438.7314\n",
      "Epoch 4/35\n",
      "7014/7014 [==============================] - 2s 268us/sample - loss: 2410.6123\n",
      "Epoch 5/35\n",
      "7014/7014 [==============================] - 2s 268us/sample - loss: 2389.9956\n",
      "Epoch 6/35\n",
      "7014/7014 [==============================] - 2s 279us/sample - loss: 2375.8903\n",
      "Epoch 7/35\n",
      "7014/7014 [==============================] - 2s 266us/sample - loss: 2365.9119\n",
      "Epoch 8/35\n",
      "7014/7014 [==============================] - 2s 261us/sample - loss: 2358.2341\n",
      "Epoch 9/35\n",
      "7014/7014 [==============================] - 2s 269us/sample - loss: 2352.0709\n",
      "Epoch 10/35\n",
      "7014/7014 [==============================] - 2s 265us/sample - loss: 2347.2697\n",
      "Epoch 11/35\n",
      "7014/7014 [==============================] - 2s 273us/sample - loss: 2343.2349\n",
      "Epoch 12/35\n",
      "7014/7014 [==============================] - 2s 272us/sample - loss: 2339.7901\n",
      "Epoch 13/35\n",
      "7014/7014 [==============================] - 2s 267us/sample - loss: 2336.6070\n",
      "Epoch 14/35\n",
      "7014/7014 [==============================] - 2s 273us/sample - loss: 2334.1706\n",
      "Epoch 15/35\n",
      "7014/7014 [==============================] - 2s 270us/sample - loss: 2331.6965\n",
      "Epoch 16/35\n",
      "7014/7014 [==============================] - 2s 265us/sample - loss: 2329.9438\n",
      "Epoch 17/35\n",
      "7014/7014 [==============================] - 2s 274us/sample - loss: 2328.1536\n",
      "Epoch 18/35\n",
      "7014/7014 [==============================] - 2s 268us/sample - loss: 2326.7339\n",
      "Epoch 19/35\n",
      "7014/7014 [==============================] - 2s 278us/sample - loss: 2325.3711\n",
      "Epoch 20/35\n",
      "7014/7014 [==============================] - 2s 267us/sample - loss: 2324.4077\n",
      "Epoch 21/35\n",
      "7014/7014 [==============================] - 2s 271us/sample - loss: 2323.0927\n",
      "Epoch 22/35\n",
      "7014/7014 [==============================] - 2s 271us/sample - loss: 2322.0529\n",
      "Epoch 23/35\n",
      "7014/7014 [==============================] - 2s 270us/sample - loss: 2321.3865\n",
      "Epoch 24/35\n",
      "7014/7014 [==============================] - 2s 258us/sample - loss: 2320.7194\n",
      "Epoch 25/35\n",
      "7014/7014 [==============================] - 2s 267us/sample - loss: 2319.9527\n",
      "Epoch 26/35\n",
      "7014/7014 [==============================] - 2s 265us/sample - loss: 2319.1123\n",
      "Epoch 27/35\n",
      "7014/7014 [==============================] - 2s 281us/sample - loss: 2318.9913\n",
      "Epoch 28/35\n",
      "7014/7014 [==============================] - 2s 272us/sample - loss: 2318.2104\n",
      "Epoch 29/35\n",
      "7014/7014 [==============================] - 2s 275us/sample - loss: 2317.5017\n",
      "Epoch 30/35\n",
      "7014/7014 [==============================] - 2s 273us/sample - loss: 2317.1459\n",
      "Epoch 31/35\n",
      "7014/7014 [==============================] - 2s 272us/sample - loss: 2316.8488\n",
      "Epoch 32/35\n",
      "7014/7014 [==============================] - 2s 279us/sample - loss: 2316.6030\n",
      "Epoch 33/35\n",
      "7014/7014 [==============================] - 2s 267us/sample - loss: 2315.8678\n",
      "Epoch 34/35\n",
      "7014/7014 [==============================] - 2s 280us/sample - loss: 2315.4817\n",
      "Epoch 35/35\n",
      "7014/7014 [==============================] - 2s 269us/sample - loss: 2315.3027\n"
     ]
    },
    {
     "name": "stderr",
     "output_type": "stream",
     "text": [
      "/Users/karlberb/miniforge3/envs/tf_M1_py3dot9/lib/python3.9/site-packages/keras/engine/training_v1.py:2356: UserWarning: `Model.state_updates` will be removed in a future version. This property should not be used in TensorFlow 2.0, as `updates` are applied automatically.\n",
      "  updates=self.state_updates,\n",
      "2022-11-17 13:46:16.187658: I tensorflow/core/grappler/optimizers/custom_graph_optimizer_registry.cc:114] Plugin optimizer for device_type GPU is enabled.\n",
      "2022-11-17 13:46:16.413527: I tensorflow/core/grappler/optimizers/custom_graph_optimizer_registry.cc:114] Plugin optimizer for device_type GPU is enabled.\n"
     ]
    },
    {
     "name": "stdout",
     "output_type": "stream",
     "text": [
      "BRCA done\n",
      " \n",
      "WARNING:tensorflow:Output {0} missing from loss dictionary. We assume this was done on purpose. The fit and evaluate APIs will not be expecting any data to be passed to custom_variational_layer_8.\n"
     ]
    },
    {
     "name": "stderr",
     "output_type": "stream",
     "text": [
      "2022-11-17 13:46:19.127379: I tensorflow/core/grappler/optimizers/custom_graph_optimizer_registry.cc:114] Plugin optimizer for device_type GPU is enabled.\n",
      "2022-11-17 13:46:19.241480: I tensorflow/core/grappler/optimizers/custom_graph_optimizer_registry.cc:114] Plugin optimizer for device_type GPU is enabled.\n",
      "2022-11-17 13:46:19.291359: I tensorflow/core/grappler/optimizers/custom_graph_optimizer_registry.cc:114] Plugin optimizer for device_type GPU is enabled.\n"
     ]
    },
    {
     "name": "stdout",
     "output_type": "stream",
     "text": [
      "Train on 7832 samples\n",
      "Epoch 1/35\n"
     ]
    },
    {
     "name": "stderr",
     "output_type": "stream",
     "text": [
      "2022-11-17 13:46:19.545671: I tensorflow/core/grappler/optimizers/custom_graph_optimizer_registry.cc:114] Plugin optimizer for device_type GPU is enabled.\n",
      "2022-11-17 13:46:19.664233: I tensorflow/core/grappler/optimizers/custom_graph_optimizer_registry.cc:114] Plugin optimizer for device_type GPU is enabled.\n",
      "2022-11-17 13:46:19.708415: I tensorflow/core/grappler/optimizers/custom_graph_optimizer_registry.cc:114] Plugin optimizer for device_type GPU is enabled.\n"
     ]
    },
    {
     "name": "stdout",
     "output_type": "stream",
     "text": [
      "7832/7832 [==============================] - 3s 411us/sample - loss: 2696.2161\n",
      "Epoch 2/35\n",
      " 650/7832 [=>............................] - ETA: 1s - loss: 2454.2742"
     ]
    },
    {
     "name": "stderr",
     "output_type": "stream",
     "text": [
      "2022-11-17 13:46:22.640323: I tensorflow/core/grappler/optimizers/custom_graph_optimizer_registry.cc:114] Plugin optimizer for device_type GPU is enabled.\n"
     ]
    },
    {
     "name": "stdout",
     "output_type": "stream",
     "text": [
      "7832/7832 [==============================] - 2s 269us/sample - loss: 2419.4867\n",
      "Epoch 3/35\n",
      "7832/7832 [==============================] - 2s 274us/sample - loss: 2377.5063\n",
      "Epoch 4/35\n",
      "7832/7832 [==============================] - 2s 267us/sample - loss: 2349.6137\n",
      "Epoch 5/35\n",
      "7832/7832 [==============================] - 2s 277us/sample - loss: 2331.4979\n",
      "Epoch 6/35\n",
      "7832/7832 [==============================] - 2s 265us/sample - loss: 2319.7571\n",
      "Epoch 7/35\n",
      "7832/7832 [==============================] - 2s 271us/sample - loss: 2310.4926\n",
      "Epoch 8/35\n",
      "7832/7832 [==============================] - 2s 271us/sample - loss: 2303.9312\n",
      "Epoch 9/35\n",
      "7832/7832 [==============================] - 2s 268us/sample - loss: 2298.3981\n",
      "Epoch 10/35\n",
      "7832/7832 [==============================] - 2s 271us/sample - loss: 2294.4016\n",
      "Epoch 11/35\n",
      "7832/7832 [==============================] - 2s 268us/sample - loss: 2290.2555\n",
      "Epoch 12/35\n",
      "7832/7832 [==============================] - 2s 262us/sample - loss: 2287.2400\n",
      "Epoch 13/35\n",
      "7832/7832 [==============================] - 2s 271us/sample - loss: 2284.3862\n",
      "Epoch 14/35\n",
      "7832/7832 [==============================] - 2s 273us/sample - loss: 2282.3756\n",
      "Epoch 15/35\n",
      "7832/7832 [==============================] - 2s 276us/sample - loss: 2280.7196\n",
      "Epoch 16/35\n",
      "7832/7832 [==============================] - 2s 274us/sample - loss: 2278.9162\n",
      "Epoch 17/35\n",
      "7832/7832 [==============================] - 2s 283us/sample - loss: 2277.3665\n",
      "Epoch 18/35\n",
      "7832/7832 [==============================] - 2s 269us/sample - loss: 2276.5641\n",
      "Epoch 19/35\n",
      "7832/7832 [==============================] - 2s 275us/sample - loss: 2275.1256\n",
      "Epoch 20/35\n",
      "7832/7832 [==============================] - 2s 271us/sample - loss: 2274.4470\n",
      "Epoch 21/35\n",
      "7832/7832 [==============================] - 2s 273us/sample - loss: 2273.3891\n",
      "Epoch 22/35\n",
      "7832/7832 [==============================] - 2s 264us/sample - loss: 2272.8733\n",
      "Epoch 23/35\n",
      "7832/7832 [==============================] - 2s 275us/sample - loss: 2272.2270\n",
      "Epoch 24/35\n",
      "7832/7832 [==============================] - 2s 270us/sample - loss: 2271.2541\n",
      "Epoch 25/35\n",
      "7832/7832 [==============================] - 2s 268us/sample - loss: 2270.4942\n",
      "Epoch 26/35\n",
      "7832/7832 [==============================] - 2s 276us/sample - loss: 2270.1274\n",
      "Epoch 27/35\n",
      "7832/7832 [==============================] - 2s 268us/sample - loss: 2269.5416\n",
      "Epoch 28/35\n",
      "7832/7832 [==============================] - 2s 267us/sample - loss: 2268.7733\n",
      "Epoch 29/35\n",
      "7832/7832 [==============================] - 2s 272us/sample - loss: 2268.4112\n",
      "Epoch 30/35\n",
      "7832/7832 [==============================] - 2s 280us/sample - loss: 2268.4141\n",
      "Epoch 31/35\n",
      "7832/7832 [==============================] - 2s 272us/sample - loss: 2267.9867\n",
      "Epoch 32/35\n",
      "7832/7832 [==============================] - 2s 269us/sample - loss: 2267.0495\n",
      "Epoch 33/35\n",
      "7832/7832 [==============================] - 2s 278us/sample - loss: 2267.0808\n",
      "Epoch 34/35\n",
      "7832/7832 [==============================] - 2s 285us/sample - loss: 2266.7811\n",
      "Epoch 35/35\n",
      "7832/7832 [==============================] - 2s 266us/sample - loss: 2266.6153\n"
     ]
    },
    {
     "name": "stderr",
     "output_type": "stream",
     "text": [
      "/Users/karlberb/miniforge3/envs/tf_M1_py3dot9/lib/python3.9/site-packages/keras/engine/training_v1.py:2356: UserWarning: `Model.state_updates` will be removed in a future version. This property should not be used in TensorFlow 2.0, as `updates` are applied automatically.\n",
      "  updates=self.state_updates,\n",
      "2022-11-17 13:47:35.201961: I tensorflow/core/grappler/optimizers/custom_graph_optimizer_registry.cc:114] Plugin optimizer for device_type GPU is enabled.\n",
      "2022-11-17 13:47:35.370125: I tensorflow/core/grappler/optimizers/custom_graph_optimizer_registry.cc:114] Plugin optimizer for device_type GPU is enabled.\n"
     ]
    },
    {
     "name": "stdout",
     "output_type": "stream",
     "text": [
      "CESC done\n",
      " \n",
      "WARNING:tensorflow:Output {0} missing from loss dictionary. We assume this was done on purpose. The fit and evaluate APIs will not be expecting any data to be passed to custom_variational_layer_9.\n"
     ]
    },
    {
     "name": "stderr",
     "output_type": "stream",
     "text": [
      "2022-11-17 13:47:36.068888: I tensorflow/core/grappler/optimizers/custom_graph_optimizer_registry.cc:114] Plugin optimizer for device_type GPU is enabled.\n",
      "2022-11-17 13:47:36.196605: I tensorflow/core/grappler/optimizers/custom_graph_optimizer_registry.cc:114] Plugin optimizer for device_type GPU is enabled.\n",
      "2022-11-17 13:47:36.249213: I tensorflow/core/grappler/optimizers/custom_graph_optimizer_registry.cc:114] Plugin optimizer for device_type GPU is enabled.\n"
     ]
    },
    {
     "name": "stdout",
     "output_type": "stream",
     "text": [
      "Train on 7560 samples\n",
      "Epoch 1/35\n"
     ]
    },
    {
     "name": "stderr",
     "output_type": "stream",
     "text": [
      "2022-11-17 13:47:36.512871: I tensorflow/core/grappler/optimizers/custom_graph_optimizer_registry.cc:114] Plugin optimizer for device_type GPU is enabled.\n",
      "2022-11-17 13:47:36.647153: I tensorflow/core/grappler/optimizers/custom_graph_optimizer_registry.cc:114] Plugin optimizer for device_type GPU is enabled.\n",
      "2022-11-17 13:47:36.693630: I tensorflow/core/grappler/optimizers/custom_graph_optimizer_registry.cc:114] Plugin optimizer for device_type GPU is enabled.\n"
     ]
    },
    {
     "name": "stdout",
     "output_type": "stream",
     "text": [
      "7560/7560 [==============================] - 3s 393us/sample - loss: 2707.0522\n",
      "Epoch 2/35\n",
      " 700/7560 [=>............................] - ETA: 1s - loss: 2443.3787"
     ]
    },
    {
     "name": "stderr",
     "output_type": "stream",
     "text": [
      "2022-11-17 13:47:39.349209: I tensorflow/core/grappler/optimizers/custom_graph_optimizer_registry.cc:114] Plugin optimizer for device_type GPU is enabled.\n"
     ]
    },
    {
     "name": "stdout",
     "output_type": "stream",
     "text": [
      "7560/7560 [==============================] - 2s 272us/sample - loss: 2413.4917\n",
      "Epoch 3/35\n",
      "7560/7560 [==============================] - 2s 269us/sample - loss: 2369.7413\n",
      "Epoch 4/35\n",
      "7560/7560 [==============================] - 2s 271us/sample - loss: 2342.5643\n",
      "Epoch 5/35\n",
      "7560/7560 [==============================] - 2s 274us/sample - loss: 2323.9615\n",
      "Epoch 6/35\n",
      "7560/7560 [==============================] - 2s 287us/sample - loss: 2312.4092\n",
      "Epoch 7/35\n",
      "7560/7560 [==============================] - 2s 279us/sample - loss: 2303.2751\n",
      "Epoch 8/35\n",
      "7560/7560 [==============================] - 2s 273us/sample - loss: 2296.6716\n",
      "Epoch 9/35\n",
      "7560/7560 [==============================] - 2s 268us/sample - loss: 2291.4201\n",
      "Epoch 10/35\n",
      "7560/7560 [==============================] - 2s 273us/sample - loss: 2287.0960\n",
      "Epoch 11/35\n",
      "7560/7560 [==============================] - 2s 270us/sample - loss: 2283.1208\n",
      "Epoch 12/35\n",
      "7560/7560 [==============================] - 2s 272us/sample - loss: 2280.0776\n",
      "Epoch 13/35\n",
      "7560/7560 [==============================] - 2s 273us/sample - loss: 2277.2750\n",
      "Epoch 14/35\n",
      "7560/7560 [==============================] - 2s 267us/sample - loss: 2274.8738\n",
      "Epoch 15/35\n",
      "7560/7560 [==============================] - 2s 276us/sample - loss: 2272.7163\n",
      "Epoch 16/35\n",
      "7560/7560 [==============================] - 2s 278us/sample - loss: 2271.0363\n",
      "Epoch 17/35\n",
      "7560/7560 [==============================] - 2s 280us/sample - loss: 2269.6497\n",
      "Epoch 18/35\n",
      "7560/7560 [==============================] - 2s 285us/sample - loss: 2268.2467\n",
      "Epoch 19/35\n",
      "7560/7560 [==============================] - 2s 281us/sample - loss: 2267.2819\n",
      "Epoch 20/35\n",
      "7560/7560 [==============================] - 2s 275us/sample - loss: 2266.0696\n",
      "Epoch 21/35\n",
      "7560/7560 [==============================] - 2s 284us/sample - loss: 2264.9576\n",
      "Epoch 22/35\n",
      "7560/7560 [==============================] - 2s 275us/sample - loss: 2263.9021\n",
      "Epoch 23/35\n",
      "7560/7560 [==============================] - 2s 272us/sample - loss: 2263.6077\n",
      "Epoch 24/35\n",
      "7560/7560 [==============================] - 2s 274us/sample - loss: 2262.8058\n",
      "Epoch 25/35\n",
      "7560/7560 [==============================] - 2s 269us/sample - loss: 2261.7472\n",
      "Epoch 26/35\n",
      "7560/7560 [==============================] - 2s 266us/sample - loss: 2261.3322\n",
      "Epoch 27/35\n",
      "7560/7560 [==============================] - 2s 276us/sample - loss: 2260.4738\n",
      "Epoch 28/35\n",
      "7560/7560 [==============================] - 2s 277us/sample - loss: 2260.2619\n",
      "Epoch 29/35\n",
      "7560/7560 [==============================] - 2s 282us/sample - loss: 2259.5900\n",
      "Epoch 30/35\n",
      "7560/7560 [==============================] - 2s 279us/sample - loss: 2259.4021\n",
      "Epoch 31/35\n",
      "7560/7560 [==============================] - 2s 270us/sample - loss: 2258.9414\n",
      "Epoch 32/35\n",
      "7560/7560 [==============================] - 2s 274us/sample - loss: 2258.4764\n",
      "Epoch 33/35\n",
      "7560/7560 [==============================] - 2s 268us/sample - loss: 2258.3917\n",
      "Epoch 34/35\n",
      "7560/7560 [==============================] - 2s 270us/sample - loss: 2257.8603\n",
      "Epoch 35/35\n",
      "7560/7560 [==============================] - 2s 283us/sample - loss: 2257.4127\n"
     ]
    },
    {
     "name": "stderr",
     "output_type": "stream",
     "text": [
      "/Users/karlberb/miniforge3/envs/tf_M1_py3dot9/lib/python3.9/site-packages/keras/engine/training_v1.py:2356: UserWarning: `Model.state_updates` will be removed in a future version. This property should not be used in TensorFlow 2.0, as `updates` are applied automatically.\n",
      "  updates=self.state_updates,\n",
      "2022-11-17 13:48:50.208166: I tensorflow/core/grappler/optimizers/custom_graph_optimizer_registry.cc:114] Plugin optimizer for device_type GPU is enabled.\n",
      "2022-11-17 13:48:50.426596: I tensorflow/core/grappler/optimizers/custom_graph_optimizer_registry.cc:114] Plugin optimizer for device_type GPU is enabled.\n"
     ]
    },
    {
     "name": "stdout",
     "output_type": "stream",
     "text": [
      "COADREAD done\n",
      " \n"
     ]
    },
    {
     "name": "stderr",
     "output_type": "stream",
     "text": [
      "2022-11-17 13:48:51.807844: I tensorflow/core/grappler/optimizers/custom_graph_optimizer_registry.cc:114] Plugin optimizer for device_type GPU is enabled.\n",
      "2022-11-17 13:48:51.941434: I tensorflow/core/grappler/optimizers/custom_graph_optimizer_registry.cc:114] Plugin optimizer for device_type GPU is enabled.\n",
      "2022-11-17 13:48:51.995901: I tensorflow/core/grappler/optimizers/custom_graph_optimizer_registry.cc:114] Plugin optimizer for device_type GPU is enabled.\n"
     ]
    },
    {
     "name": "stdout",
     "output_type": "stream",
     "text": [
      "WARNING:tensorflow:Output {0} missing from loss dictionary. We assume this was done on purpose. The fit and evaluate APIs will not be expecting any data to be passed to custom_variational_layer_10.\n",
      "Train on 7923 samples\n",
      "Epoch 1/35\n"
     ]
    },
    {
     "name": "stderr",
     "output_type": "stream",
     "text": [
      "2022-11-17 13:48:52.262875: I tensorflow/core/grappler/optimizers/custom_graph_optimizer_registry.cc:114] Plugin optimizer for device_type GPU is enabled.\n",
      "2022-11-17 13:48:52.408653: I tensorflow/core/grappler/optimizers/custom_graph_optimizer_registry.cc:114] Plugin optimizer for device_type GPU is enabled.\n",
      "2022-11-17 13:48:52.456334: I tensorflow/core/grappler/optimizers/custom_graph_optimizer_registry.cc:114] Plugin optimizer for device_type GPU is enabled.\n"
     ]
    },
    {
     "name": "stdout",
     "output_type": "stream",
     "text": [
      "7923/7923 [==============================] - 3s 394us/sample - loss: 2696.0665\n",
      "Epoch 2/35\n",
      " 650/7923 [=>............................] - ETA: 1s - loss: 2441.2983"
     ]
    },
    {
     "name": "stderr",
     "output_type": "stream",
     "text": [
      "2022-11-17 13:48:55.242337: I tensorflow/core/grappler/optimizers/custom_graph_optimizer_registry.cc:114] Plugin optimizer for device_type GPU is enabled.\n"
     ]
    },
    {
     "name": "stdout",
     "output_type": "stream",
     "text": [
      "7923/7923 [==============================] - 2s 268us/sample - loss: 2415.5313\n",
      "Epoch 3/35\n",
      "7923/7923 [==============================] - 2s 266us/sample - loss: 2373.3374\n",
      "Epoch 4/35\n",
      "7923/7923 [==============================] - 2s 266us/sample - loss: 2345.7557\n",
      "Epoch 5/35\n",
      "7923/7923 [==============================] - 2s 275us/sample - loss: 2327.8615\n",
      "Epoch 6/35\n",
      "7923/7923 [==============================] - 2s 270us/sample - loss: 2316.3473\n",
      "Epoch 7/35\n",
      "7923/7923 [==============================] - 2s 269us/sample - loss: 2308.0427\n",
      "Epoch 8/35\n",
      "7923/7923 [==============================] - 2s 269us/sample - loss: 2301.5082\n",
      "Epoch 9/35\n",
      "7923/7923 [==============================] - 2s 268us/sample - loss: 2295.9944\n",
      "Epoch 10/35\n",
      "7923/7923 [==============================] - 2s 263us/sample - loss: 2291.7916\n",
      "Epoch 11/35\n",
      "7923/7923 [==============================] - 2s 271us/sample - loss: 2288.5102\n",
      "Epoch 12/35\n",
      "7923/7923 [==============================] - 2s 268us/sample - loss: 2285.7024\n",
      "Epoch 13/35\n",
      "7923/7923 [==============================] - 2s 263us/sample - loss: 2282.3964\n",
      "Epoch 14/35\n",
      "7923/7923 [==============================] - 2s 268us/sample - loss: 2280.2376\n",
      "Epoch 15/35\n",
      "7923/7923 [==============================] - 2s 271us/sample - loss: 2278.2206\n",
      "Epoch 16/35\n",
      "7923/7923 [==============================] - 2s 264us/sample - loss: 2276.5264\n",
      "Epoch 17/35\n",
      "7923/7923 [==============================] - 2s 273us/sample - loss: 2274.8530\n",
      "Epoch 18/35\n",
      "7923/7923 [==============================] - 2s 279us/sample - loss: 2273.8878\n",
      "Epoch 19/35\n",
      "7923/7923 [==============================] - 2s 275us/sample - loss: 2273.0525\n",
      "Epoch 20/35\n",
      "7923/7923 [==============================] - 2s 269us/sample - loss: 2271.8301\n",
      "Epoch 21/35\n",
      "7923/7923 [==============================] - 2s 269us/sample - loss: 2270.7759\n",
      "Epoch 22/35\n",
      "7923/7923 [==============================] - 2s 273us/sample - loss: 2270.0916\n",
      "Epoch 23/35\n",
      "7923/7923 [==============================] - 2s 257us/sample - loss: 2269.6184\n",
      "Epoch 24/35\n",
      "7923/7923 [==============================] - 2s 256us/sample - loss: 2268.5106\n",
      "Epoch 25/35\n",
      "7923/7923 [==============================] - 2s 264us/sample - loss: 2268.1047\n",
      "Epoch 26/35\n",
      "7923/7923 [==============================] - 2s 269us/sample - loss: 2267.6568\n",
      "Epoch 27/35\n",
      "7923/7923 [==============================] - 2s 269us/sample - loss: 2267.1034\n",
      "Epoch 28/35\n",
      "7923/7923 [==============================] - 2s 269us/sample - loss: 2266.6877\n",
      "Epoch 29/35\n",
      "7923/7923 [==============================] - 2s 269us/sample - loss: 2266.0819\n",
      "Epoch 30/35\n",
      "7923/7923 [==============================] - 2s 270us/sample - loss: 2266.0200\n",
      "Epoch 31/35\n",
      "7923/7923 [==============================] - 2s 270us/sample - loss: 2265.0091\n",
      "Epoch 32/35\n",
      "7923/7923 [==============================] - 2s 265us/sample - loss: 2265.3195\n",
      "Epoch 33/35\n",
      "7923/7923 [==============================] - 2s 267us/sample - loss: 2264.7509\n",
      "Epoch 34/35\n",
      "7923/7923 [==============================] - 2s 273us/sample - loss: 2264.3222\n",
      "Epoch 35/35\n",
      "7923/7923 [==============================] - 2s 269us/sample - loss: 2264.4564\n"
     ]
    },
    {
     "name": "stderr",
     "output_type": "stream",
     "text": [
      "/Users/karlberb/miniforge3/envs/tf_M1_py3dot9/lib/python3.9/site-packages/keras/engine/training_v1.py:2356: UserWarning: `Model.state_updates` will be removed in a future version. This property should not be used in TensorFlow 2.0, as `updates` are applied automatically.\n",
      "  updates=self.state_updates,\n",
      "2022-11-17 13:50:07.796676: I tensorflow/core/grappler/optimizers/custom_graph_optimizer_registry.cc:114] Plugin optimizer for device_type GPU is enabled.\n",
      "2022-11-17 13:50:07.984962: I tensorflow/core/grappler/optimizers/custom_graph_optimizer_registry.cc:114] Plugin optimizer for device_type GPU is enabled.\n"
     ]
    },
    {
     "name": "stdout",
     "output_type": "stream",
     "text": [
      "ESCC done\n",
      " \n"
     ]
    },
    {
     "name": "stderr",
     "output_type": "stream",
     "text": [
      "2022-11-17 13:50:08.468855: I tensorflow/core/grappler/optimizers/custom_graph_optimizer_registry.cc:114] Plugin optimizer for device_type GPU is enabled.\n",
      "2022-11-17 13:50:08.618413: I tensorflow/core/grappler/optimizers/custom_graph_optimizer_registry.cc:114] Plugin optimizer for device_type GPU is enabled.\n"
     ]
    },
    {
     "name": "stdout",
     "output_type": "stream",
     "text": [
      "WARNING:tensorflow:Output {0} missing from loss dictionary. We assume this was done on purpose. The fit and evaluate APIs will not be expecting any data to be passed to custom_variational_layer_11.\n",
      "Train on 7548 samples\n",
      "Epoch 1/35\n"
     ]
    },
    {
     "name": "stderr",
     "output_type": "stream",
     "text": [
      "2022-11-17 13:50:08.675988: I tensorflow/core/grappler/optimizers/custom_graph_optimizer_registry.cc:114] Plugin optimizer for device_type GPU is enabled.\n",
      "2022-11-17 13:50:08.953293: I tensorflow/core/grappler/optimizers/custom_graph_optimizer_registry.cc:114] Plugin optimizer for device_type GPU is enabled.\n",
      "2022-11-17 13:50:09.110607: I tensorflow/core/grappler/optimizers/custom_graph_optimizer_registry.cc:114] Plugin optimizer for device_type GPU is enabled.\n",
      "2022-11-17 13:50:09.163527: I tensorflow/core/grappler/optimizers/custom_graph_optimizer_registry.cc:114] Plugin optimizer for device_type GPU is enabled.\n"
     ]
    },
    {
     "name": "stdout",
     "output_type": "stream",
     "text": [
      "7548/7548 [==============================] - 3s 440us/sample - loss: 2720.2425\n",
      "Epoch 2/35\n",
      " 650/7548 [=>............................] - ETA: 1s - loss: 2454.6305"
     ]
    },
    {
     "name": "stderr",
     "output_type": "stream",
     "text": [
      "2022-11-17 13:50:12.120001: I tensorflow/core/grappler/optimizers/custom_graph_optimizer_registry.cc:114] Plugin optimizer for device_type GPU is enabled.\n"
     ]
    },
    {
     "name": "stdout",
     "output_type": "stream",
     "text": [
      "7548/7548 [==============================] - 2s 268us/sample - loss: 2432.2853\n",
      "Epoch 3/35\n",
      "7548/7548 [==============================] - 2s 263us/sample - loss: 2386.4564\n",
      "Epoch 4/35\n",
      "7548/7548 [==============================] - 2s 275us/sample - loss: 2357.9693\n",
      "Epoch 5/35\n",
      "7548/7548 [==============================] - 2s 264us/sample - loss: 2338.8683\n",
      "Epoch 6/35\n",
      "7548/7548 [==============================] - 2s 264us/sample - loss: 2325.7544\n",
      "Epoch 7/35\n",
      "7548/7548 [==============================] - 2s 272us/sample - loss: 2316.7721\n",
      "Epoch 8/35\n",
      "7548/7548 [==============================] - 2s 272us/sample - loss: 2309.6189\n",
      "Epoch 9/35\n",
      "7548/7548 [==============================] - 2s 263us/sample - loss: 2304.0050\n",
      "Epoch 10/35\n",
      "7548/7548 [==============================] - 2s 272us/sample - loss: 2298.8785\n",
      "Epoch 11/35\n",
      "7548/7548 [==============================] - 2s 275us/sample - loss: 2295.0285\n",
      "Epoch 12/35\n",
      "7548/7548 [==============================] - 2s 276us/sample - loss: 2291.4233\n",
      "Epoch 13/35\n",
      "7548/7548 [==============================] - 2s 271us/sample - loss: 2288.7236\n",
      "Epoch 14/35\n",
      "7548/7548 [==============================] - 2s 274us/sample - loss: 2286.3630\n",
      "Epoch 15/35\n",
      "7548/7548 [==============================] - 2s 271us/sample - loss: 2284.0883\n",
      "Epoch 16/35\n",
      "7548/7548 [==============================] - 2s 274us/sample - loss: 2282.4849\n",
      "Epoch 17/35\n",
      "7548/7548 [==============================] - 2s 284us/sample - loss: 2280.6985\n",
      "Epoch 18/35\n",
      "7548/7548 [==============================] - 2s 273us/sample - loss: 2279.3303\n",
      "Epoch 19/35\n",
      "7548/7548 [==============================] - 2s 279us/sample - loss: 2278.3449\n",
      "Epoch 20/35\n",
      "7548/7548 [==============================] - 2s 270us/sample - loss: 2277.5581\n",
      "Epoch 21/35\n",
      "7548/7548 [==============================] - 2s 273us/sample - loss: 2276.0321\n",
      "Epoch 22/35\n",
      "7548/7548 [==============================] - 2s 289us/sample - loss: 2275.2147\n",
      "Epoch 23/35\n",
      "7548/7548 [==============================] - 2s 269us/sample - loss: 2274.5956\n",
      "Epoch 24/35\n",
      "7548/7548 [==============================] - 2s 278us/sample - loss: 2273.9380\n",
      "Epoch 25/35\n",
      "7548/7548 [==============================] - 2s 275us/sample - loss: 2273.0529\n",
      "Epoch 26/35\n",
      "7548/7548 [==============================] - 2s 273us/sample - loss: 2272.6828\n",
      "Epoch 27/35\n",
      "7548/7548 [==============================] - 2s 285us/sample - loss: 2272.4912\n",
      "Epoch 28/35\n",
      "7548/7548 [==============================] - 2s 272us/sample - loss: 2272.0987\n",
      "Epoch 29/35\n",
      "7548/7548 [==============================] - 2s 274us/sample - loss: 2271.2466\n",
      "Epoch 30/35\n",
      "7548/7548 [==============================] - 2s 275us/sample - loss: 2270.7980\n",
      "Epoch 31/35\n",
      "7548/7548 [==============================] - 2s 278us/sample - loss: 2270.2936\n",
      "Epoch 32/35\n",
      "7548/7548 [==============================] - 2s 286us/sample - loss: 2270.2470\n",
      "Epoch 33/35\n",
      "7548/7548 [==============================] - 2s 294us/sample - loss: 2269.9891\n",
      "Epoch 34/35\n",
      "7548/7548 [==============================] - 2s 271us/sample - loss: 2269.3607\n",
      "Epoch 35/35\n",
      "7548/7548 [==============================] - 2s 268us/sample - loss: 2268.8285\n"
     ]
    },
    {
     "name": "stderr",
     "output_type": "stream",
     "text": [
      "/Users/karlberb/miniforge3/envs/tf_M1_py3dot9/lib/python3.9/site-packages/keras/engine/training_v1.py:2356: UserWarning: `Model.state_updates` will be removed in a future version. This property should not be used in TensorFlow 2.0, as `updates` are applied automatically.\n",
      "  updates=self.state_updates,\n",
      "2022-11-17 13:51:22.749330: I tensorflow/core/grappler/optimizers/custom_graph_optimizer_registry.cc:114] Plugin optimizer for device_type GPU is enabled.\n",
      "2022-11-17 13:51:22.990455: I tensorflow/core/grappler/optimizers/custom_graph_optimizer_registry.cc:114] Plugin optimizer for device_type GPU is enabled.\n"
     ]
    },
    {
     "name": "stdout",
     "output_type": "stream",
     "text": [
      "GEA done\n",
      " \n"
     ]
    },
    {
     "name": "stderr",
     "output_type": "stream",
     "text": [
      "2022-11-17 13:51:24.438046: I tensorflow/core/grappler/optimizers/custom_graph_optimizer_registry.cc:114] Plugin optimizer for device_type GPU is enabled.\n",
      "2022-11-17 13:51:24.606937: I tensorflow/core/grappler/optimizers/custom_graph_optimizer_registry.cc:114] Plugin optimizer for device_type GPU is enabled.\n"
     ]
    },
    {
     "name": "stdout",
     "output_type": "stream",
     "text": [
      "WARNING:tensorflow:Output {0} missing from loss dictionary. We assume this was done on purpose. The fit and evaluate APIs will not be expecting any data to be passed to custom_variational_layer_12.\n",
      "Train on 7503 samples\n",
      "Epoch 1/35\n"
     ]
    },
    {
     "name": "stderr",
     "output_type": "stream",
     "text": [
      "2022-11-17 13:51:24.668814: I tensorflow/core/grappler/optimizers/custom_graph_optimizer_registry.cc:114] Plugin optimizer for device_type GPU is enabled.\n",
      "2022-11-17 13:51:24.970636: I tensorflow/core/grappler/optimizers/custom_graph_optimizer_registry.cc:114] Plugin optimizer for device_type GPU is enabled.\n",
      "2022-11-17 13:51:25.146428: I tensorflow/core/grappler/optimizers/custom_graph_optimizer_registry.cc:114] Plugin optimizer for device_type GPU is enabled.\n",
      "2022-11-17 13:51:25.205303: I tensorflow/core/grappler/optimizers/custom_graph_optimizer_registry.cc:114] Plugin optimizer for device_type GPU is enabled.\n"
     ]
    },
    {
     "name": "stdout",
     "output_type": "stream",
     "text": [
      "7503/7503 [==============================] - 3s 464us/sample - loss: 2721.2694\n",
      "Epoch 2/35\n",
      " 550/7503 [=>............................] - ETA: 2s - loss: 2464.6431"
     ]
    },
    {
     "name": "stderr",
     "output_type": "stream",
     "text": [
      "2022-11-17 13:51:28.272221: I tensorflow/core/grappler/optimizers/custom_graph_optimizer_registry.cc:114] Plugin optimizer for device_type GPU is enabled.\n"
     ]
    },
    {
     "name": "stdout",
     "output_type": "stream",
     "text": [
      "7503/7503 [==============================] - 2s 286us/sample - loss: 2434.3053\n",
      "Epoch 3/35\n",
      "7503/7503 [==============================] - 2s 278us/sample - loss: 2389.3714\n",
      "Epoch 4/35\n",
      "7503/7503 [==============================] - 2s 294us/sample - loss: 2362.2407\n",
      "Epoch 5/35\n",
      "7503/7503 [==============================] - 2s 283us/sample - loss: 2342.8526\n",
      "Epoch 6/35\n",
      "7503/7503 [==============================] - 2s 287us/sample - loss: 2329.5648\n",
      "Epoch 7/35\n",
      "7503/7503 [==============================] - 2s 282us/sample - loss: 2320.3357\n",
      "Epoch 8/35\n",
      "7503/7503 [==============================] - 2s 285us/sample - loss: 2312.7152\n",
      "Epoch 9/35\n",
      "7503/7503 [==============================] - 2s 288us/sample - loss: 2307.7903\n",
      "Epoch 10/35\n",
      "7503/7503 [==============================] - 2s 294us/sample - loss: 2302.6542\n",
      "Epoch 11/35\n",
      "7503/7503 [==============================] - 2s 274us/sample - loss: 2298.8562\n",
      "Epoch 12/35\n",
      "7503/7503 [==============================] - 2s 282us/sample - loss: 2296.6391\n",
      "Epoch 13/35\n",
      "7503/7503 [==============================] - 2s 272us/sample - loss: 2293.0469\n",
      "Epoch 14/35\n",
      "7503/7503 [==============================] - 2s 272us/sample - loss: 2290.8679\n",
      "Epoch 15/35\n",
      "7503/7503 [==============================] - 2s 282us/sample - loss: 2288.0864\n",
      "Epoch 16/35\n",
      "7503/7503 [==============================] - 2s 276us/sample - loss: 2286.0488\n",
      "Epoch 17/35\n",
      "7503/7503 [==============================] - 2s 270us/sample - loss: 2284.6036\n",
      "Epoch 18/35\n",
      "7503/7503 [==============================] - 2s 281us/sample - loss: 2283.4949\n",
      "Epoch 19/35\n",
      "7503/7503 [==============================] - 2s 279us/sample - loss: 2281.8625\n",
      "Epoch 20/35\n",
      "7503/7503 [==============================] - 2s 282us/sample - loss: 2281.1843\n",
      "Epoch 21/35\n",
      "7503/7503 [==============================] - 2s 283us/sample - loss: 2280.2323\n",
      "Epoch 22/35\n",
      "7503/7503 [==============================] - 2s 277us/sample - loss: 2279.8670\n",
      "Epoch 23/35\n",
      "7503/7503 [==============================] - 2s 281us/sample - loss: 2278.3531\n",
      "Epoch 24/35\n",
      "7503/7503 [==============================] - 2s 270us/sample - loss: 2277.3431\n",
      "Epoch 25/35\n",
      "7503/7503 [==============================] - 2s 284us/sample - loss: 2276.5577\n",
      "Epoch 26/35\n",
      "7503/7503 [==============================] - 2s 269us/sample - loss: 2276.3094\n",
      "Epoch 27/35\n",
      "7503/7503 [==============================] - 2s 284us/sample - loss: 2275.7272\n",
      "Epoch 28/35\n",
      "7503/7503 [==============================] - 2s 267us/sample - loss: 2276.3107\n",
      "Epoch 29/35\n",
      "7503/7503 [==============================] - 2s 280us/sample - loss: 2275.3512\n",
      "Epoch 30/35\n",
      "7503/7503 [==============================] - 2s 270us/sample - loss: 2274.4217\n",
      "Epoch 31/35\n",
      "7503/7503 [==============================] - 2s 274us/sample - loss: 2273.8657\n",
      "Epoch 32/35\n",
      "7503/7503 [==============================] - 2s 278us/sample - loss: 2273.5421\n",
      "Epoch 33/35\n",
      "7503/7503 [==============================] - 2s 290us/sample - loss: 2273.1965\n",
      "Epoch 34/35\n",
      "7503/7503 [==============================] - 2s 282us/sample - loss: 2272.7798\n",
      "Epoch 35/35\n",
      "7503/7503 [==============================] - 2s 273us/sample - loss: 2272.7896\n"
     ]
    },
    {
     "name": "stderr",
     "output_type": "stream",
     "text": [
      "/Users/karlberb/miniforge3/envs/tf_M1_py3dot9/lib/python3.9/site-packages/keras/engine/training_v1.py:2356: UserWarning: `Model.state_updates` will be removed in a future version. This property should not be used in TensorFlow 2.0, as `updates` are applied automatically.\n",
      "  updates=self.state_updates,\n",
      "2022-11-17 13:52:39.908406: I tensorflow/core/grappler/optimizers/custom_graph_optimizer_registry.cc:114] Plugin optimizer for device_type GPU is enabled.\n",
      "2022-11-17 13:52:40.180686: I tensorflow/core/grappler/optimizers/custom_graph_optimizer_registry.cc:114] Plugin optimizer for device_type GPU is enabled.\n"
     ]
    },
    {
     "name": "stdout",
     "output_type": "stream",
     "text": [
      "HNSC done\n",
      " \n"
     ]
    },
    {
     "name": "stderr",
     "output_type": "stream",
     "text": [
      "2022-11-17 13:52:41.762258: I tensorflow/core/grappler/optimizers/custom_graph_optimizer_registry.cc:114] Plugin optimizer for device_type GPU is enabled.\n",
      "2022-11-17 13:52:41.941782: I tensorflow/core/grappler/optimizers/custom_graph_optimizer_registry.cc:114] Plugin optimizer for device_type GPU is enabled.\n"
     ]
    },
    {
     "name": "stdout",
     "output_type": "stream",
     "text": [
      "WARNING:tensorflow:Output {0} missing from loss dictionary. We assume this was done on purpose. The fit and evaluate APIs will not be expecting any data to be passed to custom_variational_layer_13.\n",
      "Train on 7453 samples\n",
      "Epoch 1/35\n"
     ]
    },
    {
     "name": "stderr",
     "output_type": "stream",
     "text": [
      "2022-11-17 13:52:42.006201: I tensorflow/core/grappler/optimizers/custom_graph_optimizer_registry.cc:114] Plugin optimizer for device_type GPU is enabled.\n",
      "2022-11-17 13:52:42.318703: I tensorflow/core/grappler/optimizers/custom_graph_optimizer_registry.cc:114] Plugin optimizer for device_type GPU is enabled.\n",
      "2022-11-17 13:52:42.511477: I tensorflow/core/grappler/optimizers/custom_graph_optimizer_registry.cc:114] Plugin optimizer for device_type GPU is enabled.\n",
      "2022-11-17 13:52:42.571071: I tensorflow/core/grappler/optimizers/custom_graph_optimizer_registry.cc:114] Plugin optimizer for device_type GPU is enabled.\n"
     ]
    },
    {
     "name": "stdout",
     "output_type": "stream",
     "text": [
      "7453/7453 [==============================] - 3s 469us/sample - loss: 2727.6109\n",
      "Epoch 2/35\n",
      " 400/7453 [>.............................] - ETA: 2s - loss: 2471.3167"
     ]
    },
    {
     "name": "stderr",
     "output_type": "stream",
     "text": [
      "2022-11-17 13:52:45.622091: I tensorflow/core/grappler/optimizers/custom_graph_optimizer_registry.cc:114] Plugin optimizer for device_type GPU is enabled.\n"
     ]
    },
    {
     "name": "stdout",
     "output_type": "stream",
     "text": [
      "7453/7453 [==============================] - 2s 292us/sample - loss: 2438.5165\n",
      "Epoch 3/35\n",
      "7453/7453 [==============================] - 2s 278us/sample - loss: 2394.3261\n",
      "Epoch 4/35\n",
      "7453/7453 [==============================] - 2s 270us/sample - loss: 2368.1342\n",
      "Epoch 5/35\n",
      "7453/7453 [==============================] - 2s 279us/sample - loss: 2349.0045\n",
      "Epoch 6/35\n",
      "7453/7453 [==============================] - 2s 280us/sample - loss: 2335.4036\n",
      "Epoch 7/35\n",
      "7453/7453 [==============================] - 2s 278us/sample - loss: 2326.6884\n",
      "Epoch 8/35\n",
      "7453/7453 [==============================] - 2s 275us/sample - loss: 2320.3001\n",
      "Epoch 9/35\n",
      "7453/7453 [==============================] - 2s 275us/sample - loss: 2315.0047\n",
      "Epoch 10/35\n",
      "7453/7453 [==============================] - 2s 291us/sample - loss: 2309.8001\n",
      "Epoch 11/35\n",
      "7453/7453 [==============================] - 2s 290us/sample - loss: 2306.3780\n",
      "Epoch 12/35\n",
      "7453/7453 [==============================] - 2s 277us/sample - loss: 2302.9717\n",
      "Epoch 13/35\n",
      "7453/7453 [==============================] - 2s 280us/sample - loss: 2300.3296\n",
      "Epoch 14/35\n",
      "7453/7453 [==============================] - 2s 286us/sample - loss: 2297.7590\n",
      "Epoch 15/35\n",
      "7453/7453 [==============================] - 2s 284us/sample - loss: 2296.0340\n",
      "Epoch 16/35\n",
      "7453/7453 [==============================] - 2s 278us/sample - loss: 2294.0976\n",
      "Epoch 17/35\n",
      "7453/7453 [==============================] - 2s 277us/sample - loss: 2292.5765\n",
      "Epoch 18/35\n",
      "7453/7453 [==============================] - 2s 285us/sample - loss: 2290.7305\n",
      "Epoch 19/35\n",
      "7453/7453 [==============================] - 2s 279us/sample - loss: 2289.4927\n",
      "Epoch 20/35\n",
      "7453/7453 [==============================] - 2s 278us/sample - loss: 2289.3294\n",
      "Epoch 21/35\n",
      "7453/7453 [==============================] - 2s 290us/sample - loss: 2287.9201\n",
      "Epoch 22/35\n",
      "7453/7453 [==============================] - 2s 290us/sample - loss: 2286.2482\n",
      "Epoch 23/35\n",
      "7453/7453 [==============================] - 2s 287us/sample - loss: 2285.6829\n",
      "Epoch 24/35\n",
      "7453/7453 [==============================] - 2s 284us/sample - loss: 2284.8342\n",
      "Epoch 25/35\n",
      "7453/7453 [==============================] - 2s 275us/sample - loss: 2283.9705\n",
      "Epoch 26/35\n",
      "7453/7453 [==============================] - 2s 277us/sample - loss: 2283.7101\n",
      "Epoch 27/35\n",
      "7453/7453 [==============================] - 2s 269us/sample - loss: 2282.6726\n",
      "Epoch 28/35\n",
      "7453/7453 [==============================] - 2s 280us/sample - loss: 2282.6943\n",
      "Epoch 29/35\n",
      "7453/7453 [==============================] - 2s 277us/sample - loss: 2281.7313\n",
      "Epoch 30/35\n",
      "7453/7453 [==============================] - 2s 274us/sample - loss: 2281.3626\n",
      "Epoch 31/35\n",
      "7453/7453 [==============================] - 2s 275us/sample - loss: 2281.2366\n",
      "Epoch 32/35\n",
      "7453/7453 [==============================] - 2s 281us/sample - loss: 2280.7397\n",
      "Epoch 33/35\n",
      "7453/7453 [==============================] - 2s 284us/sample - loss: 2280.3581\n",
      "Epoch 34/35\n",
      "7453/7453 [==============================] - 2s 278us/sample - loss: 2280.1032\n",
      "Epoch 35/35\n",
      "7453/7453 [==============================] - 2s 294us/sample - loss: 2280.2092\n"
     ]
    },
    {
     "name": "stderr",
     "output_type": "stream",
     "text": [
      "/Users/karlberb/miniforge3/envs/tf_M1_py3dot9/lib/python3.9/site-packages/keras/engine/training_v1.py:2356: UserWarning: `Model.state_updates` will be removed in a future version. This property should not be used in TensorFlow 2.0, as `updates` are applied automatically.\n",
      "  updates=self.state_updates,\n",
      "2022-11-17 13:53:57.066529: I tensorflow/core/grappler/optimizers/custom_graph_optimizer_registry.cc:114] Plugin optimizer for device_type GPU is enabled.\n",
      "2022-11-17 13:53:57.358329: I tensorflow/core/grappler/optimizers/custom_graph_optimizer_registry.cc:114] Plugin optimizer for device_type GPU is enabled.\n"
     ]
    },
    {
     "name": "stdout",
     "output_type": "stream",
     "text": [
      "KIRCKICH done\n",
      " \n"
     ]
    },
    {
     "name": "stderr",
     "output_type": "stream",
     "text": [
      "2022-11-17 13:53:59.085368: I tensorflow/core/grappler/optimizers/custom_graph_optimizer_registry.cc:114] Plugin optimizer for device_type GPU is enabled.\n",
      "2022-11-17 13:53:59.280464: I tensorflow/core/grappler/optimizers/custom_graph_optimizer_registry.cc:114] Plugin optimizer for device_type GPU is enabled.\n"
     ]
    },
    {
     "name": "stdout",
     "output_type": "stream",
     "text": [
      "WARNING:tensorflow:Output {0} missing from loss dictionary. We assume this was done on purpose. The fit and evaluate APIs will not be expecting any data to be passed to custom_variational_layer_14.\n",
      "Train on 7854 samples\n",
      "Epoch 1/35\n"
     ]
    },
    {
     "name": "stderr",
     "output_type": "stream",
     "text": [
      "2022-11-17 13:53:59.347619: I tensorflow/core/grappler/optimizers/custom_graph_optimizer_registry.cc:114] Plugin optimizer for device_type GPU is enabled.\n",
      "2022-11-17 13:53:59.678699: I tensorflow/core/grappler/optimizers/custom_graph_optimizer_registry.cc:114] Plugin optimizer for device_type GPU is enabled.\n",
      "2022-11-17 13:53:59.880730: I tensorflow/core/grappler/optimizers/custom_graph_optimizer_registry.cc:114] Plugin optimizer for device_type GPU is enabled.\n",
      "2022-11-17 13:53:59.944340: I tensorflow/core/grappler/optimizers/custom_graph_optimizer_registry.cc:114] Plugin optimizer for device_type GPU is enabled.\n"
     ]
    },
    {
     "name": "stdout",
     "output_type": "stream",
     "text": [
      "7854/7854 [==============================] - 4s 494us/sample - loss: 2695.9101\n",
      "Epoch 2/35\n",
      " 650/7854 [=>............................] - ETA: 1s - loss: 2444.4226"
     ]
    },
    {
     "name": "stderr",
     "output_type": "stream",
     "text": [
      "2022-11-17 13:54:03.361231: I tensorflow/core/grappler/optimizers/custom_graph_optimizer_registry.cc:114] Plugin optimizer for device_type GPU is enabled.\n"
     ]
    },
    {
     "name": "stdout",
     "output_type": "stream",
     "text": [
      "7854/7854 [==============================] - 2s 276us/sample - loss: 2413.7302\n",
      "Epoch 3/35\n",
      "7854/7854 [==============================] - 2s 282us/sample - loss: 2371.4814\n",
      "Epoch 4/35\n",
      "7854/7854 [==============================] - 2s 279us/sample - loss: 2346.7635\n",
      "Epoch 5/35\n",
      "7854/7854 [==============================] - 2s 279us/sample - loss: 2329.1849\n",
      "Epoch 6/35\n",
      "7854/7854 [==============================] - 2s 279us/sample - loss: 2316.5287\n",
      "Epoch 7/35\n",
      "7854/7854 [==============================] - 2s 277us/sample - loss: 2307.4988\n",
      "Epoch 8/35\n",
      "7854/7854 [==============================] - 2s 286us/sample - loss: 2301.1397\n",
      "Epoch 9/35\n",
      "7854/7854 [==============================] - 2s 273us/sample - loss: 2296.5833\n",
      "Epoch 10/35\n",
      "7854/7854 [==============================] - 2s 274us/sample - loss: 2292.2121\n",
      "Epoch 11/35\n",
      "7854/7854 [==============================] - 2s 280us/sample - loss: 2288.2278\n",
      "Epoch 12/35\n",
      "7854/7854 [==============================] - 2s 288us/sample - loss: 2285.3432\n",
      "Epoch 13/35\n",
      "7854/7854 [==============================] - 2s 278us/sample - loss: 2282.7280\n",
      "Epoch 14/35\n",
      "7854/7854 [==============================] - 2s 276us/sample - loss: 2281.1716\n",
      "Epoch 15/35\n",
      "7854/7854 [==============================] - 2s 286us/sample - loss: 2279.0185\n",
      "Epoch 16/35\n",
      "7854/7854 [==============================] - 2s 270us/sample - loss: 2277.0202\n",
      "Epoch 17/35\n",
      "7854/7854 [==============================] - 2s 279us/sample - loss: 2275.5098\n",
      "Epoch 18/35\n",
      "7854/7854 [==============================] - 2s 279us/sample - loss: 2274.0034\n",
      "Epoch 19/35\n",
      "7854/7854 [==============================] - 2s 266us/sample - loss: 2272.9132\n",
      "Epoch 20/35\n",
      "7854/7854 [==============================] - 2s 276us/sample - loss: 2271.7360\n",
      "Epoch 21/35\n",
      "7854/7854 [==============================] - 2s 271us/sample - loss: 2271.0533\n",
      "Epoch 22/35\n",
      "7854/7854 [==============================] - 2s 280us/sample - loss: 2269.9445\n",
      "Epoch 23/35\n",
      "7854/7854 [==============================] - 2s 278us/sample - loss: 2269.2563\n",
      "Epoch 24/35\n",
      "7854/7854 [==============================] - 2s 284us/sample - loss: 2268.8674\n",
      "Epoch 25/35\n",
      "7854/7854 [==============================] - 2s 281us/sample - loss: 2267.9178\n",
      "Epoch 26/35\n",
      "7854/7854 [==============================] - 2s 285us/sample - loss: 2267.9438\n",
      "Epoch 27/35\n",
      "7854/7854 [==============================] - 2s 292us/sample - loss: 2266.9971\n",
      "Epoch 28/35\n",
      "7854/7854 [==============================] - 2s 267us/sample - loss: 2266.6099\n",
      "Epoch 29/35\n",
      "7854/7854 [==============================] - 2s 275us/sample - loss: 2266.2797\n",
      "Epoch 30/35\n",
      "7854/7854 [==============================] - 2s 280us/sample - loss: 2265.6986\n",
      "Epoch 31/35\n",
      "7854/7854 [==============================] - 2s 280us/sample - loss: 2265.1607\n",
      "Epoch 32/35\n",
      "7854/7854 [==============================] - 2s 294us/sample - loss: 2264.5513\n",
      "Epoch 33/35\n",
      "7854/7854 [==============================] - 2s 276us/sample - loss: 2264.6888\n",
      "Epoch 34/35\n",
      "7854/7854 [==============================] - 2s 284us/sample - loss: 2264.2975\n",
      "Epoch 35/35\n",
      "7854/7854 [==============================] - 2s 270us/sample - loss: 2264.0476\n"
     ]
    },
    {
     "name": "stderr",
     "output_type": "stream",
     "text": [
      "/Users/karlberb/miniforge3/envs/tf_M1_py3dot9/lib/python3.9/site-packages/keras/engine/training_v1.py:2356: UserWarning: `Model.state_updates` will be removed in a future version. This property should not be used in TensorFlow 2.0, as `updates` are applied automatically.\n",
      "  updates=self.state_updates,\n",
      "2022-11-17 13:55:18.135257: I tensorflow/core/grappler/optimizers/custom_graph_optimizer_registry.cc:114] Plugin optimizer for device_type GPU is enabled.\n",
      "2022-11-17 13:55:18.418749: I tensorflow/core/grappler/optimizers/custom_graph_optimizer_registry.cc:114] Plugin optimizer for device_type GPU is enabled.\n"
     ]
    },
    {
     "name": "stdout",
     "output_type": "stream",
     "text": [
      "KIRP done\n",
      " \n"
     ]
    },
    {
     "name": "stderr",
     "output_type": "stream",
     "text": [
      "2022-11-17 13:55:19.139619: I tensorflow/core/grappler/optimizers/custom_graph_optimizer_registry.cc:114] Plugin optimizer for device_type GPU is enabled.\n"
     ]
    },
    {
     "name": "stdout",
     "output_type": "stream",
     "text": [
      "WARNING:tensorflow:Output {0} missing from loss dictionary. We assume this was done on purpose. The fit and evaluate APIs will not be expecting any data to be passed to custom_variational_layer_15.\n"
     ]
    },
    {
     "name": "stderr",
     "output_type": "stream",
     "text": [
      "2022-11-17 13:55:19.348143: I tensorflow/core/grappler/optimizers/custom_graph_optimizer_registry.cc:114] Plugin optimizer for device_type GPU is enabled.\n",
      "2022-11-17 13:55:19.421600: I tensorflow/core/grappler/optimizers/custom_graph_optimizer_registry.cc:114] Plugin optimizer for device_type GPU is enabled.\n"
     ]
    },
    {
     "name": "stdout",
     "output_type": "stream",
     "text": [
      "Train on 7631 samples\n",
      "Epoch 1/35\n"
     ]
    },
    {
     "name": "stderr",
     "output_type": "stream",
     "text": [
      "2022-11-17 13:55:20.366905: I tensorflow/core/grappler/optimizers/custom_graph_optimizer_registry.cc:114] Plugin optimizer for device_type GPU is enabled.\n",
      "2022-11-17 13:55:20.584834: I tensorflow/core/grappler/optimizers/custom_graph_optimizer_registry.cc:114] Plugin optimizer for device_type GPU is enabled.\n",
      "2022-11-17 13:55:20.654634: I tensorflow/core/grappler/optimizers/custom_graph_optimizer_registry.cc:114] Plugin optimizer for device_type GPU is enabled.\n"
     ]
    },
    {
     "name": "stdout",
     "output_type": "stream",
     "text": [
      "7631/7631 [==============================] - 4s 505us/sample - loss: 2716.7062\n",
      "Epoch 2/35\n",
      " 450/7631 [>.............................] - ETA: 2s - loss: 2482.6472"
     ]
    },
    {
     "name": "stderr",
     "output_type": "stream",
     "text": [
      "2022-11-17 13:55:24.001412: I tensorflow/core/grappler/optimizers/custom_graph_optimizer_registry.cc:114] Plugin optimizer for device_type GPU is enabled.\n"
     ]
    },
    {
     "name": "stdout",
     "output_type": "stream",
     "text": [
      "7631/7631 [==============================] - 2s 283us/sample - loss: 2430.4422\n",
      "Epoch 3/35\n",
      "7631/7631 [==============================] - 2s 290us/sample - loss: 2385.8249\n",
      "Epoch 4/35\n",
      "7631/7631 [==============================] - 2s 286us/sample - loss: 2359.4987\n",
      "Epoch 5/35\n",
      "7631/7631 [==============================] - 2s 273us/sample - loss: 2341.4917\n",
      "Epoch 6/35\n",
      "7631/7631 [==============================] - 2s 284us/sample - loss: 2328.9793\n",
      "Epoch 7/35\n",
      "7631/7631 [==============================] - 2s 282us/sample - loss: 2320.5275\n",
      "Epoch 8/35\n",
      "7631/7631 [==============================] - 2s 282us/sample - loss: 2313.5620\n",
      "Epoch 9/35\n",
      "7631/7631 [==============================] - 2s 297us/sample - loss: 2308.6072\n",
      "Epoch 10/35\n",
      "7631/7631 [==============================] - 2s 293us/sample - loss: 2304.1636\n",
      "Epoch 11/35\n",
      "7631/7631 [==============================] - 2s 287us/sample - loss: 2300.4187\n",
      "Epoch 12/35\n",
      "7631/7631 [==============================] - 2s 288us/sample - loss: 2297.2754\n",
      "Epoch 13/35\n",
      "7631/7631 [==============================] - 2s 275us/sample - loss: 2294.3101\n",
      "Epoch 14/35\n",
      "7631/7631 [==============================] - 2s 289us/sample - loss: 2292.0686\n",
      "Epoch 15/35\n",
      "7631/7631 [==============================] - 2s 282us/sample - loss: 2290.1487\n",
      "Epoch 16/35\n",
      "7631/7631 [==============================] - 2s 282us/sample - loss: 2288.4064\n",
      "Epoch 17/35\n",
      "7631/7631 [==============================] - 2s 287us/sample - loss: 2286.8141\n",
      "Epoch 18/35\n",
      "7631/7631 [==============================] - 2s 286us/sample - loss: 2285.6465\n",
      "Epoch 19/35\n",
      "7631/7631 [==============================] - 2s 287us/sample - loss: 2284.3169\n",
      "Epoch 20/35\n",
      "7631/7631 [==============================] - 2s 296us/sample - loss: 2283.4383\n",
      "Epoch 21/35\n",
      "7631/7631 [==============================] - 2s 287us/sample - loss: 2282.6631\n",
      "Epoch 22/35\n",
      "7631/7631 [==============================] - 2s 293us/sample - loss: 2281.7488\n",
      "Epoch 23/35\n",
      "7631/7631 [==============================] - 2s 282us/sample - loss: 2280.7598\n",
      "Epoch 24/35\n",
      "7631/7631 [==============================] - 2s 283us/sample - loss: 2280.3660\n",
      "Epoch 25/35\n",
      "7631/7631 [==============================] - 2s 273us/sample - loss: 2279.4967\n",
      "Epoch 26/35\n",
      "7631/7631 [==============================] - 2s 282us/sample - loss: 2279.2519\n",
      "Epoch 27/35\n",
      "7631/7631 [==============================] - 2s 292us/sample - loss: 2278.7488\n",
      "Epoch 28/35\n",
      "7631/7631 [==============================] - 2s 280us/sample - loss: 2278.0548\n",
      "Epoch 29/35\n",
      "7631/7631 [==============================] - 2s 280us/sample - loss: 2278.0215\n",
      "Epoch 30/35\n",
      "7631/7631 [==============================] - 2s 275us/sample - loss: 2277.2323\n",
      "Epoch 31/35\n",
      "7631/7631 [==============================] - 2s 273us/sample - loss: 2276.7833\n",
      "Epoch 32/35\n",
      "7631/7631 [==============================] - 2s 282us/sample - loss: 2276.7106\n",
      "Epoch 33/35\n",
      "7631/7631 [==============================] - 2s 283us/sample - loss: 2276.1865\n",
      "Epoch 34/35\n",
      "7631/7631 [==============================] - 2s 276us/sample - loss: 2275.5675\n",
      "Epoch 35/35\n",
      "7631/7631 [==============================] - 2s 273us/sample - loss: 2275.6560\n"
     ]
    },
    {
     "name": "stderr",
     "output_type": "stream",
     "text": [
      "/Users/karlberb/miniforge3/envs/tf_M1_py3dot9/lib/python3.9/site-packages/keras/engine/training_v1.py:2356: UserWarning: `Model.state_updates` will be removed in a future version. This property should not be used in TensorFlow 2.0, as `updates` are applied automatically.\n",
      "  updates=self.state_updates,\n",
      "2022-11-17 13:56:37.917826: I tensorflow/core/grappler/optimizers/custom_graph_optimizer_registry.cc:114] Plugin optimizer for device_type GPU is enabled.\n",
      "2022-11-17 13:56:38.206977: I tensorflow/core/grappler/optimizers/custom_graph_optimizer_registry.cc:114] Plugin optimizer for device_type GPU is enabled.\n"
     ]
    },
    {
     "name": "stdout",
     "output_type": "stream",
     "text": [
      "LIHCCHOL done\n",
      " \n"
     ]
    },
    {
     "name": "stderr",
     "output_type": "stream",
     "text": [
      "2022-11-17 13:56:39.462688: I tensorflow/core/grappler/optimizers/custom_graph_optimizer_registry.cc:114] Plugin optimizer for device_type GPU is enabled.\n"
     ]
    },
    {
     "name": "stdout",
     "output_type": "stream",
     "text": [
      "WARNING:tensorflow:Output {0} missing from loss dictionary. We assume this was done on purpose. The fit and evaluate APIs will not be expecting any data to be passed to custom_variational_layer_16.\n"
     ]
    },
    {
     "name": "stderr",
     "output_type": "stream",
     "text": [
      "2022-11-17 13:56:39.673534: I tensorflow/core/grappler/optimizers/custom_graph_optimizer_registry.cc:114] Plugin optimizer for device_type GPU is enabled.\n",
      "2022-11-17 13:56:39.747174: I tensorflow/core/grappler/optimizers/custom_graph_optimizer_registry.cc:114] Plugin optimizer for device_type GPU is enabled.\n"
     ]
    },
    {
     "name": "stdout",
     "output_type": "stream",
     "text": [
      "Train on 7509 samples\n",
      "Epoch 1/35\n"
     ]
    },
    {
     "name": "stderr",
     "output_type": "stream",
     "text": [
      "2022-11-17 13:56:40.098031: I tensorflow/core/grappler/optimizers/custom_graph_optimizer_registry.cc:114] Plugin optimizer for device_type GPU is enabled.\n",
      "2022-11-17 13:56:40.316771: I tensorflow/core/grappler/optimizers/custom_graph_optimizer_registry.cc:114] Plugin optimizer for device_type GPU is enabled.\n",
      "2022-11-17 13:56:40.384591: I tensorflow/core/grappler/optimizers/custom_graph_optimizer_registry.cc:114] Plugin optimizer for device_type GPU is enabled.\n"
     ]
    },
    {
     "name": "stdout",
     "output_type": "stream",
     "text": [
      "7509/7509 [==============================] - 3s 460us/sample - loss: 2721.7832\n",
      "Epoch 2/35\n",
      " 400/7509 [>.............................] - ETA: 2s - loss: 2466.2824"
     ]
    },
    {
     "name": "stderr",
     "output_type": "stream",
     "text": [
      "2022-11-17 13:56:43.329029: I tensorflow/core/grappler/optimizers/custom_graph_optimizer_registry.cc:114] Plugin optimizer for device_type GPU is enabled.\n"
     ]
    },
    {
     "name": "stdout",
     "output_type": "stream",
     "text": [
      "7509/7509 [==============================] - 2s 283us/sample - loss: 2435.7193\n",
      "Epoch 3/35\n",
      "7509/7509 [==============================] - 2s 297us/sample - loss: 2391.7705\n",
      "Epoch 4/35\n",
      "7509/7509 [==============================] - 2s 293us/sample - loss: 2364.2040\n",
      "Epoch 5/35\n",
      "7509/7509 [==============================] - 2s 290us/sample - loss: 2344.5242\n",
      "Epoch 6/35\n",
      "7509/7509 [==============================] - 2s 280us/sample - loss: 2330.0921\n",
      "Epoch 7/35\n",
      "7509/7509 [==============================] - 2s 285us/sample - loss: 2320.5959\n",
      "Epoch 8/35\n",
      "7509/7509 [==============================] - 2s 281us/sample - loss: 2313.7138\n",
      "Epoch 9/35\n",
      "7509/7509 [==============================] - 2s 277us/sample - loss: 2307.3162\n",
      "Epoch 10/35\n",
      "7509/7509 [==============================] - 2s 279us/sample - loss: 2303.1539\n",
      "Epoch 11/35\n",
      "7509/7509 [==============================] - 2s 281us/sample - loss: 2298.7453\n",
      "Epoch 12/35\n",
      "7509/7509 [==============================] - 2s 279us/sample - loss: 2295.4524\n",
      "Epoch 13/35\n",
      "7509/7509 [==============================] - 2s 284us/sample - loss: 2293.2242\n",
      "Epoch 14/35\n",
      "7509/7509 [==============================] - 2s 284us/sample - loss: 2290.4902\n",
      "Epoch 15/35\n",
      "7509/7509 [==============================] - 2s 288us/sample - loss: 2288.0976\n",
      "Epoch 16/35\n",
      "7509/7509 [==============================] - 2s 272us/sample - loss: 2286.0244\n",
      "Epoch 17/35\n",
      "7509/7509 [==============================] - 2s 282us/sample - loss: 2284.8459\n",
      "Epoch 18/35\n",
      "7509/7509 [==============================] - 2s 277us/sample - loss: 2283.3061\n",
      "Epoch 19/35\n",
      "7509/7509 [==============================] - 2s 283us/sample - loss: 2282.2968\n",
      "Epoch 20/35\n",
      "7509/7509 [==============================] - 2s 277us/sample - loss: 2280.9496\n",
      "Epoch 21/35\n",
      "7509/7509 [==============================] - 2s 282us/sample - loss: 2279.8199\n",
      "Epoch 22/35\n",
      "7509/7509 [==============================] - 2s 279us/sample - loss: 2278.9356\n",
      "Epoch 23/35\n",
      "7509/7509 [==============================] - 2s 276us/sample - loss: 2278.3490\n",
      "Epoch 24/35\n",
      "7509/7509 [==============================] - 2s 284us/sample - loss: 2277.0487\n",
      "Epoch 25/35\n",
      "7509/7509 [==============================] - 2s 282us/sample - loss: 2276.5984\n",
      "Epoch 26/35\n",
      "7509/7509 [==============================] - 2s 288us/sample - loss: 2276.3232\n",
      "Epoch 27/35\n",
      "7509/7509 [==============================] - 2s 277us/sample - loss: 2275.5194\n",
      "Epoch 28/35\n",
      "7509/7509 [==============================] - 2s 279us/sample - loss: 2274.8867\n",
      "Epoch 29/35\n",
      "7509/7509 [==============================] - 2s 282us/sample - loss: 2274.6379\n",
      "Epoch 30/35\n",
      "7509/7509 [==============================] - 2s 281us/sample - loss: 2274.5659\n",
      "Epoch 31/35\n",
      "7509/7509 [==============================] - 2s 277us/sample - loss: 2273.7078\n",
      "Epoch 32/35\n",
      "7509/7509 [==============================] - 2s 275us/sample - loss: 2273.1908\n",
      "Epoch 33/35\n",
      "7509/7509 [==============================] - 2s 282us/sample - loss: 2273.3593\n",
      "Epoch 34/35\n",
      "7509/7509 [==============================] - 2s 286us/sample - loss: 2272.2061\n",
      "Epoch 35/35\n",
      "7509/7509 [==============================] - 2s 275us/sample - loss: 2272.1405\n"
     ]
    },
    {
     "name": "stderr",
     "output_type": "stream",
     "text": [
      "/Users/karlberb/miniforge3/envs/tf_M1_py3dot9/lib/python3.9/site-packages/keras/engine/training_v1.py:2356: UserWarning: `Model.state_updates` will be removed in a future version. This property should not be used in TensorFlow 2.0, as `updates` are applied automatically.\n",
      "  updates=self.state_updates,\n",
      "2022-11-17 13:57:55.581649: I tensorflow/core/grappler/optimizers/custom_graph_optimizer_registry.cc:114] Plugin optimizer for device_type GPU is enabled.\n",
      "2022-11-17 13:57:55.899640: I tensorflow/core/grappler/optimizers/custom_graph_optimizer_registry.cc:114] Plugin optimizer for device_type GPU is enabled.\n"
     ]
    },
    {
     "name": "stdout",
     "output_type": "stream",
     "text": [
      "LUAD done\n",
      " \n"
     ]
    },
    {
     "name": "stderr",
     "output_type": "stream",
     "text": [
      "2022-11-17 13:57:57.498083: I tensorflow/core/grappler/optimizers/custom_graph_optimizer_registry.cc:114] Plugin optimizer for device_type GPU is enabled.\n"
     ]
    },
    {
     "name": "stdout",
     "output_type": "stream",
     "text": [
      "WARNING:tensorflow:Output {0} missing from loss dictionary. We assume this was done on purpose. The fit and evaluate APIs will not be expecting any data to be passed to custom_variational_layer_17.\n"
     ]
    },
    {
     "name": "stderr",
     "output_type": "stream",
     "text": [
      "2022-11-17 13:57:57.720449: I tensorflow/core/grappler/optimizers/custom_graph_optimizer_registry.cc:114] Plugin optimizer for device_type GPU is enabled.\n",
      "2022-11-17 13:57:57.795952: I tensorflow/core/grappler/optimizers/custom_graph_optimizer_registry.cc:114] Plugin optimizer for device_type GPU is enabled.\n"
     ]
    },
    {
     "name": "stdout",
     "output_type": "stream",
     "text": [
      "Train on 7549 samples\n",
      "Epoch 1/35\n"
     ]
    },
    {
     "name": "stderr",
     "output_type": "stream",
     "text": [
      "2022-11-17 13:57:58.153286: I tensorflow/core/grappler/optimizers/custom_graph_optimizer_registry.cc:114] Plugin optimizer for device_type GPU is enabled.\n",
      "2022-11-17 13:57:58.389111: I tensorflow/core/grappler/optimizers/custom_graph_optimizer_registry.cc:114] Plugin optimizer for device_type GPU is enabled.\n",
      "2022-11-17 13:57:58.461759: I tensorflow/core/grappler/optimizers/custom_graph_optimizer_registry.cc:114] Plugin optimizer for device_type GPU is enabled.\n"
     ]
    },
    {
     "name": "stdout",
     "output_type": "stream",
     "text": [
      "7549/7549 [==============================] - 4s 471us/sample - loss: 2716.3737\n",
      "Epoch 2/35\n",
      " 450/7549 [>.............................] - ETA: 1s - loss: 2447.5240"
     ]
    },
    {
     "name": "stderr",
     "output_type": "stream",
     "text": [
      "2022-11-17 13:58:01.472640: I tensorflow/core/grappler/optimizers/custom_graph_optimizer_registry.cc:114] Plugin optimizer for device_type GPU is enabled.\n"
     ]
    },
    {
     "name": "stdout",
     "output_type": "stream",
     "text": [
      "7549/7549 [==============================] - 2s 279us/sample - loss: 2428.8293\n",
      "Epoch 3/35\n",
      "7549/7549 [==============================] - 2s 279us/sample - loss: 2385.5280\n",
      "Epoch 4/35\n",
      "7549/7549 [==============================] - 2s 277us/sample - loss: 2358.4364\n",
      "Epoch 5/35\n",
      "7549/7549 [==============================] - 2s 265us/sample - loss: 2339.6337\n",
      "Epoch 6/35\n",
      "7549/7549 [==============================] - 2s 284us/sample - loss: 2327.2829\n",
      "Epoch 7/35\n",
      "7549/7549 [==============================] - 2s 281us/sample - loss: 2318.1339\n",
      "Epoch 8/35\n",
      "7549/7549 [==============================] - 2s 272us/sample - loss: 2311.2972\n",
      "Epoch 9/35\n",
      "7549/7549 [==============================] - 2s 266us/sample - loss: 2305.5543\n",
      "Epoch 10/35\n",
      "7549/7549 [==============================] - 2s 272us/sample - loss: 2301.0487\n",
      "Epoch 11/35\n",
      "7549/7549 [==============================] - 2s 277us/sample - loss: 2297.5639\n",
      "Epoch 12/35\n",
      "7549/7549 [==============================] - 2s 279us/sample - loss: 2294.5805\n",
      "Epoch 13/35\n",
      "7549/7549 [==============================] - 2s 281us/sample - loss: 2291.4776\n",
      "Epoch 14/35\n",
      "7549/7549 [==============================] - 2s 274us/sample - loss: 2289.2162\n",
      "Epoch 15/35\n",
      "7549/7549 [==============================] - 2s 277us/sample - loss: 2286.9105\n",
      "Epoch 16/35\n",
      "7549/7549 [==============================] - 2s 273us/sample - loss: 2285.4318\n",
      "Epoch 17/35\n",
      "7549/7549 [==============================] - 2s 277us/sample - loss: 2283.7588\n",
      "Epoch 18/35\n",
      "7549/7549 [==============================] - 2s 277us/sample - loss: 2282.4896\n",
      "Epoch 19/35\n",
      "7549/7549 [==============================] - 2s 274us/sample - loss: 2281.1406\n",
      "Epoch 20/35\n",
      "7549/7549 [==============================] - 2s 284us/sample - loss: 2279.9143\n",
      "Epoch 21/35\n",
      "7549/7549 [==============================] - 2s 278us/sample - loss: 2279.0928\n",
      "Epoch 22/35\n",
      "7549/7549 [==============================] - 2s 281us/sample - loss: 2278.3814\n",
      "Epoch 23/35\n",
      "7549/7549 [==============================] - 2s 278us/sample - loss: 2277.5735\n",
      "Epoch 24/35\n",
      "7549/7549 [==============================] - 2s 283us/sample - loss: 2276.6477\n",
      "Epoch 25/35\n",
      "7549/7549 [==============================] - 2s 277us/sample - loss: 2275.9601\n",
      "Epoch 26/35\n",
      "7549/7549 [==============================] - 2s 276us/sample - loss: 2275.4546\n",
      "Epoch 27/35\n",
      "7549/7549 [==============================] - 2s 279us/sample - loss: 2275.0789\n",
      "Epoch 28/35\n",
      "7549/7549 [==============================] - 2s 290us/sample - loss: 2274.3798\n",
      "Epoch 29/35\n",
      "7549/7549 [==============================] - 2s 286us/sample - loss: 2274.0049\n",
      "Epoch 30/35\n",
      "7549/7549 [==============================] - 2s 281us/sample - loss: 2273.2504\n",
      "Epoch 31/35\n",
      "7549/7549 [==============================] - 2s 279us/sample - loss: 2273.3391\n",
      "Epoch 32/35\n",
      "7549/7549 [==============================] - 2s 298us/sample - loss: 2272.8807\n",
      "Epoch 33/35\n",
      "7549/7549 [==============================] - 2s 288us/sample - loss: 2272.3877\n",
      "Epoch 34/35\n",
      "7549/7549 [==============================] - 2s 283us/sample - loss: 2271.9651\n",
      "Epoch 35/35\n",
      "7549/7549 [==============================] - 2s 286us/sample - loss: 2271.7231\n"
     ]
    },
    {
     "name": "stderr",
     "output_type": "stream",
     "text": [
      "/Users/karlberb/miniforge3/envs/tf_M1_py3dot9/lib/python3.9/site-packages/keras/engine/training_v1.py:2356: UserWarning: `Model.state_updates` will be removed in a future version. This property should not be used in TensorFlow 2.0, as `updates` are applied automatically.\n",
      "  updates=self.state_updates,\n",
      "2022-11-17 13:59:13.463665: I tensorflow/core/grappler/optimizers/custom_graph_optimizer_registry.cc:114] Plugin optimizer for device_type GPU is enabled.\n",
      "2022-11-17 13:59:13.803414: I tensorflow/core/grappler/optimizers/custom_graph_optimizer_registry.cc:114] Plugin optimizer for device_type GPU is enabled.\n"
     ]
    },
    {
     "name": "stdout",
     "output_type": "stream",
     "text": [
      "LUSC done\n",
      " \n"
     ]
    },
    {
     "name": "stderr",
     "output_type": "stream",
     "text": [
      "2022-11-17 13:59:15.343989: I tensorflow/core/grappler/optimizers/custom_graph_optimizer_registry.cc:114] Plugin optimizer for device_type GPU is enabled.\n"
     ]
    },
    {
     "name": "stdout",
     "output_type": "stream",
     "text": [
      "WARNING:tensorflow:Output {0} missing from loss dictionary. We assume this was done on purpose. The fit and evaluate APIs will not be expecting any data to be passed to custom_variational_layer_18.\n"
     ]
    },
    {
     "name": "stderr",
     "output_type": "stream",
     "text": [
      "2022-11-17 13:59:15.586481: I tensorflow/core/grappler/optimizers/custom_graph_optimizer_registry.cc:114] Plugin optimizer for device_type GPU is enabled.\n",
      "2022-11-17 13:59:15.672041: I tensorflow/core/grappler/optimizers/custom_graph_optimizer_registry.cc:114] Plugin optimizer for device_type GPU is enabled.\n"
     ]
    },
    {
     "name": "stdout",
     "output_type": "stream",
     "text": [
      "Train on 7935 samples\n",
      "Epoch 1/35\n"
     ]
    },
    {
     "name": "stderr",
     "output_type": "stream",
     "text": [
      "2022-11-17 13:59:16.079544: I tensorflow/core/grappler/optimizers/custom_graph_optimizer_registry.cc:114] Plugin optimizer for device_type GPU is enabled.\n",
      "2022-11-17 13:59:16.341555: I tensorflow/core/grappler/optimizers/custom_graph_optimizer_registry.cc:114] Plugin optimizer for device_type GPU is enabled.\n",
      "2022-11-17 13:59:16.418869: I tensorflow/core/grappler/optimizers/custom_graph_optimizer_registry.cc:114] Plugin optimizer for device_type GPU is enabled.\n"
     ]
    },
    {
     "name": "stdout",
     "output_type": "stream",
     "text": [
      "7935/7935 [==============================] - 4s 500us/sample - loss: 2700.0128\n",
      "Epoch 2/35\n",
      " 450/7935 [>.............................] - ETA: 2s - loss: 2469.7687"
     ]
    },
    {
     "name": "stderr",
     "output_type": "stream",
     "text": [
      "2022-11-17 13:59:19.787515: I tensorflow/core/grappler/optimizers/custom_graph_optimizer_registry.cc:114] Plugin optimizer for device_type GPU is enabled.\n"
     ]
    },
    {
     "name": "stdout",
     "output_type": "stream",
     "text": [
      "7935/7935 [==============================] - 2s 286us/sample - loss: 2416.0128\n",
      "Epoch 3/35\n",
      "7935/7935 [==============================] - 2s 281us/sample - loss: 2372.0399\n",
      "Epoch 4/35\n",
      "7935/7935 [==============================] - 2s 291us/sample - loss: 2344.8683\n",
      "Epoch 5/35\n",
      "7935/7935 [==============================] - 2s 289us/sample - loss: 2326.9725\n",
      "Epoch 6/35\n",
      "7935/7935 [==============================] - 2s 284us/sample - loss: 2315.3131\n",
      "Epoch 7/35\n",
      "7935/7935 [==============================] - 2s 287us/sample - loss: 2306.4910\n",
      "Epoch 8/35\n",
      "7935/7935 [==============================] - 2s 289us/sample - loss: 2300.2269\n",
      "Epoch 9/35\n",
      "7935/7935 [==============================] - 2s 286us/sample - loss: 2295.3180\n",
      "Epoch 10/35\n",
      "7935/7935 [==============================] - 2s 286us/sample - loss: 2290.7441\n",
      "Epoch 11/35\n",
      "7935/7935 [==============================] - 2s 285us/sample - loss: 2287.2831\n",
      "Epoch 12/35\n",
      "7935/7935 [==============================] - 2s 281us/sample - loss: 2284.1590\n",
      "Epoch 13/35\n",
      "7935/7935 [==============================] - 2s 282us/sample - loss: 2281.3648\n",
      "Epoch 14/35\n",
      "7935/7935 [==============================] - 2s 285us/sample - loss: 2279.3132\n",
      "Epoch 15/35\n",
      "7935/7935 [==============================] - 2s 289us/sample - loss: 2277.3063\n",
      "Epoch 16/35\n",
      "7935/7935 [==============================] - 2s 285us/sample - loss: 2275.9086\n",
      "Epoch 17/35\n",
      "7935/7935 [==============================] - 2s 289us/sample - loss: 2274.6080\n",
      "Epoch 18/35\n",
      "7935/7935 [==============================] - 2s 289us/sample - loss: 2272.7467\n",
      "Epoch 19/35\n",
      "7935/7935 [==============================] - 2s 280us/sample - loss: 2271.7318\n",
      "Epoch 20/35\n",
      "7935/7935 [==============================] - 2s 275us/sample - loss: 2271.1460\n",
      "Epoch 21/35\n",
      "7935/7935 [==============================] - 2s 273us/sample - loss: 2270.1490\n",
      "Epoch 22/35\n",
      "7935/7935 [==============================] - 2s 277us/sample - loss: 2269.2086\n",
      "Epoch 23/35\n",
      "7935/7935 [==============================] - 2s 273us/sample - loss: 2268.8815\n",
      "Epoch 24/35\n",
      "7935/7935 [==============================] - 2s 279us/sample - loss: 2268.0930\n",
      "Epoch 25/35\n",
      "7935/7935 [==============================] - 2s 274us/sample - loss: 2267.4990\n",
      "Epoch 26/35\n",
      "7935/7935 [==============================] - 2s 287us/sample - loss: 2266.5917\n",
      "Epoch 27/35\n",
      "7935/7935 [==============================] - 2s 275us/sample - loss: 2266.3642\n",
      "Epoch 28/35\n",
      "7935/7935 [==============================] - 2s 279us/sample - loss: 2266.2071\n",
      "Epoch 29/35\n",
      "7935/7935 [==============================] - 2s 276us/sample - loss: 2265.4084\n",
      "Epoch 30/35\n",
      "7935/7935 [==============================] - 2s 281us/sample - loss: 2265.0465\n",
      "Epoch 31/35\n",
      "7935/7935 [==============================] - 2s 277us/sample - loss: 2264.7475\n",
      "Epoch 32/35\n",
      "7935/7935 [==============================] - 2s 274us/sample - loss: 2264.3898\n",
      "Epoch 33/35\n",
      "7935/7935 [==============================] - 2s 269us/sample - loss: 2263.9507\n",
      "Epoch 34/35\n",
      "7935/7935 [==============================] - 2s 267us/sample - loss: 2263.9568\n",
      "Epoch 35/35\n",
      "7935/7935 [==============================] - 2s 271us/sample - loss: 2263.6675\n"
     ]
    },
    {
     "name": "stderr",
     "output_type": "stream",
     "text": [
      "/Users/karlberb/miniforge3/envs/tf_M1_py3dot9/lib/python3.9/site-packages/keras/engine/training_v1.py:2356: UserWarning: `Model.state_updates` will be removed in a future version. This property should not be used in TensorFlow 2.0, as `updates` are applied automatically.\n",
      "  updates=self.state_updates,\n",
      "2022-11-17 14:00:35.913249: I tensorflow/core/grappler/optimizers/custom_graph_optimizer_registry.cc:114] Plugin optimizer for device_type GPU is enabled.\n",
      "2022-11-17 14:00:36.220759: I tensorflow/core/grappler/optimizers/custom_graph_optimizer_registry.cc:114] Plugin optimizer for device_type GPU is enabled.\n"
     ]
    },
    {
     "name": "stdout",
     "output_type": "stream",
     "text": [
      "MESO done\n",
      " \n"
     ]
    },
    {
     "name": "stderr",
     "output_type": "stream",
     "text": [
      "2022-11-17 14:00:36.773507: I tensorflow/core/grappler/optimizers/custom_graph_optimizer_registry.cc:114] Plugin optimizer for device_type GPU is enabled.\n"
     ]
    },
    {
     "name": "stdout",
     "output_type": "stream",
     "text": [
      "WARNING:tensorflow:Output {0} missing from loss dictionary. We assume this was done on purpose. The fit and evaluate APIs will not be expecting any data to be passed to custom_variational_layer_19.\n"
     ]
    },
    {
     "name": "stderr",
     "output_type": "stream",
     "text": [
      "2022-11-17 14:00:37.027756: I tensorflow/core/grappler/optimizers/custom_graph_optimizer_registry.cc:114] Plugin optimizer for device_type GPU is enabled.\n",
      "2022-11-17 14:00:37.111162: I tensorflow/core/grappler/optimizers/custom_graph_optimizer_registry.cc:114] Plugin optimizer for device_type GPU is enabled.\n"
     ]
    },
    {
     "name": "stdout",
     "output_type": "stream",
     "text": [
      "Train on 7724 samples\n",
      "Epoch 1/35\n"
     ]
    },
    {
     "name": "stderr",
     "output_type": "stream",
     "text": [
      "2022-11-17 14:00:37.507625: I tensorflow/core/grappler/optimizers/custom_graph_optimizer_registry.cc:114] Plugin optimizer for device_type GPU is enabled.\n",
      "2022-11-17 14:00:37.777357: I tensorflow/core/grappler/optimizers/custom_graph_optimizer_registry.cc:114] Plugin optimizer for device_type GPU is enabled.\n",
      "2022-11-17 14:00:37.855567: I tensorflow/core/grappler/optimizers/custom_graph_optimizer_registry.cc:114] Plugin optimizer for device_type GPU is enabled.\n"
     ]
    },
    {
     "name": "stdout",
     "output_type": "stream",
     "text": [
      "7724/7724 [==============================] - 4s 492us/sample - loss: 2706.2009\n",
      "Epoch 2/35\n",
      " 500/7724 [>.............................] - ETA: 2s - loss: 2456.4697"
     ]
    },
    {
     "name": "stderr",
     "output_type": "stream",
     "text": [
      "2022-11-17 14:00:41.038945: I tensorflow/core/grappler/optimizers/custom_graph_optimizer_registry.cc:114] Plugin optimizer for device_type GPU is enabled.\n"
     ]
    },
    {
     "name": "stdout",
     "output_type": "stream",
     "text": [
      "7724/7724 [==============================] - 2s 266us/sample - loss: 2421.0653\n",
      "Epoch 3/35\n",
      "7724/7724 [==============================] - 2s 272us/sample - loss: 2377.0794\n",
      "Epoch 4/35\n",
      "7724/7724 [==============================] - 2s 270us/sample - loss: 2349.3758\n",
      "Epoch 5/35\n",
      "7724/7724 [==============================] - 2s 272us/sample - loss: 2330.0254\n",
      "Epoch 6/35\n",
      "7724/7724 [==============================] - 2s 271us/sample - loss: 2317.0656\n",
      "Epoch 7/35\n",
      "7724/7724 [==============================] - 2s 268us/sample - loss: 2307.9751\n",
      "Epoch 8/35\n",
      "7724/7724 [==============================] - 2s 272us/sample - loss: 2300.5228\n",
      "Epoch 9/35\n",
      "7724/7724 [==============================] - 2s 261us/sample - loss: 2294.6059\n",
      "Epoch 10/35\n",
      "7724/7724 [==============================] - 2s 276us/sample - loss: 2290.2486\n",
      "Epoch 11/35\n",
      "7724/7724 [==============================] - 2s 270us/sample - loss: 2286.5966\n",
      "Epoch 12/35\n",
      "7724/7724 [==============================] - 2s 270us/sample - loss: 2283.4898\n",
      "Epoch 13/35\n",
      "7724/7724 [==============================] - 2s 279us/sample - loss: 2280.9557\n",
      "Epoch 14/35\n",
      "7724/7724 [==============================] - 2s 269us/sample - loss: 2278.4985\n",
      "Epoch 15/35\n",
      "7724/7724 [==============================] - 2s 271us/sample - loss: 2276.7582\n",
      "Epoch 16/35\n",
      "7724/7724 [==============================] - 2s 282us/sample - loss: 2275.3319\n",
      "Epoch 17/35\n",
      "7724/7724 [==============================] - 2s 269us/sample - loss: 2273.6688\n",
      "Epoch 18/35\n",
      "7724/7724 [==============================] - 2s 278us/sample - loss: 2272.3829\n",
      "Epoch 19/35\n",
      "7724/7724 [==============================] - 2s 271us/sample - loss: 2271.0851\n",
      "Epoch 20/35\n",
      "7724/7724 [==============================] - 2s 271us/sample - loss: 2269.9742\n",
      "Epoch 21/35\n",
      "7724/7724 [==============================] - 2s 272us/sample - loss: 2269.0465\n",
      "Epoch 22/35\n",
      "7724/7724 [==============================] - 2s 269us/sample - loss: 2268.2055\n",
      "Epoch 23/35\n",
      "7724/7724 [==============================] - 2s 271us/sample - loss: 2267.4444\n",
      "Epoch 24/35\n",
      "7724/7724 [==============================] - 2s 278us/sample - loss: 2267.1419\n",
      "Epoch 25/35\n",
      "7724/7724 [==============================] - 2s 266us/sample - loss: 2266.5798\n",
      "Epoch 26/35\n",
      "7724/7724 [==============================] - 2s 271us/sample - loss: 2265.8790\n",
      "Epoch 27/35\n",
      "7724/7724 [==============================] - 2s 264us/sample - loss: 2265.0318\n",
      "Epoch 28/35\n",
      "7724/7724 [==============================] - 2s 268us/sample - loss: 2264.6407\n",
      "Epoch 29/35\n",
      "7724/7724 [==============================] - 2s 268us/sample - loss: 2264.4032\n",
      "Epoch 30/35\n",
      "7724/7724 [==============================] - 2s 268us/sample - loss: 2264.0509\n",
      "Epoch 31/35\n",
      "7724/7724 [==============================] - 2s 271us/sample - loss: 2263.4361\n",
      "Epoch 32/35\n",
      "7724/7724 [==============================] - 2s 265us/sample - loss: 2263.1647\n",
      "Epoch 33/35\n",
      "7724/7724 [==============================] - 2s 277us/sample - loss: 2262.8436\n",
      "Epoch 34/35\n",
      "7724/7724 [==============================] - 2s 274us/sample - loss: 2262.4533\n",
      "Epoch 35/35\n",
      "7724/7724 [==============================] - 2s 266us/sample - loss: 2262.1836\n"
     ]
    },
    {
     "name": "stderr",
     "output_type": "stream",
     "text": [
      "/Users/karlberb/miniforge3/envs/tf_M1_py3dot9/lib/python3.9/site-packages/keras/engine/training_v1.py:2356: UserWarning: `Model.state_updates` will be removed in a future version. This property should not be used in TensorFlow 2.0, as `updates` are applied automatically.\n",
      "  updates=self.state_updates,\n",
      "2022-11-17 14:01:52.513208: I tensorflow/core/grappler/optimizers/custom_graph_optimizer_registry.cc:114] Plugin optimizer for device_type GPU is enabled.\n",
      "2022-11-17 14:01:52.866754: I tensorflow/core/grappler/optimizers/custom_graph_optimizer_registry.cc:114] Plugin optimizer for device_type GPU is enabled.\n"
     ]
    },
    {
     "name": "stdout",
     "output_type": "stream",
     "text": [
      "OV done\n",
      " \n"
     ]
    },
    {
     "name": "stderr",
     "output_type": "stream",
     "text": [
      "2022-11-17 14:01:53.951600: I tensorflow/core/grappler/optimizers/custom_graph_optimizer_registry.cc:114] Plugin optimizer for device_type GPU is enabled.\n"
     ]
    },
    {
     "name": "stdout",
     "output_type": "stream",
     "text": [
      "WARNING:tensorflow:Output {0} missing from loss dictionary. We assume this was done on purpose. The fit and evaluate APIs will not be expecting any data to be passed to custom_variational_layer_20.\n"
     ]
    },
    {
     "name": "stderr",
     "output_type": "stream",
     "text": [
      "2022-11-17 14:01:54.221756: I tensorflow/core/grappler/optimizers/custom_graph_optimizer_registry.cc:114] Plugin optimizer for device_type GPU is enabled.\n",
      "2022-11-17 14:01:54.305313: I tensorflow/core/grappler/optimizers/custom_graph_optimizer_registry.cc:114] Plugin optimizer for device_type GPU is enabled.\n"
     ]
    },
    {
     "name": "stdout",
     "output_type": "stream",
     "text": [
      "Train on 7933 samples\n",
      "Epoch 1/35\n"
     ]
    },
    {
     "name": "stderr",
     "output_type": "stream",
     "text": [
      "2022-11-17 14:01:54.744254: I tensorflow/core/grappler/optimizers/custom_graph_optimizer_registry.cc:114] Plugin optimizer for device_type GPU is enabled.\n",
      "2022-11-17 14:01:55.026075: I tensorflow/core/grappler/optimizers/custom_graph_optimizer_registry.cc:114] Plugin optimizer for device_type GPU is enabled.\n",
      "2022-11-17 14:01:55.109220: I tensorflow/core/grappler/optimizers/custom_graph_optimizer_registry.cc:114] Plugin optimizer for device_type GPU is enabled.\n"
     ]
    },
    {
     "name": "stdout",
     "output_type": "stream",
     "text": [
      "7933/7933 [==============================] - 4s 503us/sample - loss: 2696.2418\n",
      "Epoch 2/35\n",
      " 450/7933 [>.............................] - ETA: 2s - loss: 2445.2882"
     ]
    },
    {
     "name": "stderr",
     "output_type": "stream",
     "text": [
      "2022-11-17 14:01:58.441980: I tensorflow/core/grappler/optimizers/custom_graph_optimizer_registry.cc:114] Plugin optimizer for device_type GPU is enabled.\n"
     ]
    },
    {
     "name": "stdout",
     "output_type": "stream",
     "text": [
      "7933/7933 [==============================] - 2s 271us/sample - loss: 2414.7229\n",
      "Epoch 3/35\n",
      "7933/7933 [==============================] - 2s 272us/sample - loss: 2370.6613\n",
      "Epoch 4/35\n",
      "7933/7933 [==============================] - 2s 275us/sample - loss: 2344.3490\n",
      "Epoch 5/35\n",
      "7933/7933 [==============================] - 2s 284us/sample - loss: 2326.2103\n",
      "Epoch 6/35\n",
      "7933/7933 [==============================] - 2s 274us/sample - loss: 2314.3152\n",
      "Epoch 7/35\n",
      "7933/7933 [==============================] - 2s 274us/sample - loss: 2305.7517\n",
      "Epoch 8/35\n",
      "7933/7933 [==============================] - 2s 281us/sample - loss: 2298.8407\n",
      "Epoch 9/35\n",
      "7933/7933 [==============================] - 2s 279us/sample - loss: 2294.0722\n",
      "Epoch 10/35\n",
      "7933/7933 [==============================] - 2s 265us/sample - loss: 2290.0800\n",
      "Epoch 11/35\n",
      "7933/7933 [==============================] - 2s 275us/sample - loss: 2286.2849\n",
      "Epoch 12/35\n",
      "7933/7933 [==============================] - 2s 277us/sample - loss: 2283.2264\n",
      "Epoch 13/35\n",
      "7933/7933 [==============================] - 2s 275us/sample - loss: 2280.7990\n",
      "Epoch 14/35\n",
      "7933/7933 [==============================] - 2s 273us/sample - loss: 2278.3569\n",
      "Epoch 15/35\n",
      "7933/7933 [==============================] - 2s 275us/sample - loss: 2276.6064\n",
      "Epoch 16/35\n",
      "7933/7933 [==============================] - 2s 274us/sample - loss: 2274.9888\n",
      "Epoch 17/35\n",
      "7933/7933 [==============================] - 2s 275us/sample - loss: 2273.6632\n",
      "Epoch 18/35\n",
      "7933/7933 [==============================] - 2s 278us/sample - loss: 2272.0171\n",
      "Epoch 19/35\n",
      "7933/7933 [==============================] - 2s 274us/sample - loss: 2270.9622\n",
      "Epoch 20/35\n",
      "7933/7933 [==============================] - 2s 278us/sample - loss: 2270.3324\n",
      "Epoch 21/35\n",
      "7933/7933 [==============================] - 2s 280us/sample - loss: 2269.0063\n",
      "Epoch 22/35\n",
      "7933/7933 [==============================] - 2s 277us/sample - loss: 2268.2796\n",
      "Epoch 23/35\n",
      "7933/7933 [==============================] - 2s 282us/sample - loss: 2267.1799\n",
      "Epoch 24/35\n",
      "7933/7933 [==============================] - 2s 268us/sample - loss: 2267.0088\n",
      "Epoch 25/35\n",
      "7933/7933 [==============================] - 2s 267us/sample - loss: 2266.2486\n",
      "Epoch 26/35\n",
      "7933/7933 [==============================] - 2s 272us/sample - loss: 2265.8746\n",
      "Epoch 27/35\n",
      "7933/7933 [==============================] - 2s 276us/sample - loss: 2265.3221\n",
      "Epoch 28/35\n",
      "7933/7933 [==============================] - 2s 281us/sample - loss: 2264.6980\n",
      "Epoch 29/35\n",
      "7933/7933 [==============================] - 2s 274us/sample - loss: 2264.0740\n",
      "Epoch 30/35\n",
      "7933/7933 [==============================] - 2s 282us/sample - loss: 2263.8508\n",
      "Epoch 31/35\n",
      "7933/7933 [==============================] - 2s 277us/sample - loss: 2263.2744\n",
      "Epoch 32/35\n",
      "7933/7933 [==============================] - 2s 277us/sample - loss: 2262.9142\n",
      "Epoch 33/35\n",
      "7933/7933 [==============================] - 2s 272us/sample - loss: 2262.8870\n",
      "Epoch 34/35\n",
      "7933/7933 [==============================] - 2s 275us/sample - loss: 2262.4981\n",
      "Epoch 35/35\n",
      "7933/7933 [==============================] - 2s 282us/sample - loss: 2262.1876\n"
     ]
    },
    {
     "name": "stderr",
     "output_type": "stream",
     "text": [
      "/Users/karlberb/miniforge3/envs/tf_M1_py3dot9/lib/python3.9/site-packages/keras/engine/training_v1.py:2356: UserWarning: `Model.state_updates` will be removed in a future version. This property should not be used in TensorFlow 2.0, as `updates` are applied automatically.\n",
      "  updates=self.state_updates,\n",
      "2022-11-17 14:03:13.158682: I tensorflow/core/grappler/optimizers/custom_graph_optimizer_registry.cc:114] Plugin optimizer for device_type GPU is enabled.\n",
      "2022-11-17 14:03:13.500837: I tensorflow/core/grappler/optimizers/custom_graph_optimizer_registry.cc:114] Plugin optimizer for device_type GPU is enabled.\n"
     ]
    },
    {
     "name": "stdout",
     "output_type": "stream",
     "text": [
      "PAAD done\n",
      " \n"
     ]
    },
    {
     "name": "stderr",
     "output_type": "stream",
     "text": [
      "2022-11-17 14:03:14.083449: I tensorflow/core/grappler/optimizers/custom_graph_optimizer_registry.cc:114] Plugin optimizer for device_type GPU is enabled.\n"
     ]
    },
    {
     "name": "stdout",
     "output_type": "stream",
     "text": [
      "WARNING:tensorflow:Output {0} missing from loss dictionary. We assume this was done on purpose. The fit and evaluate APIs will not be expecting any data to be passed to custom_variational_layer_21.\n"
     ]
    },
    {
     "name": "stderr",
     "output_type": "stream",
     "text": [
      "2022-11-17 14:03:14.360750: I tensorflow/core/grappler/optimizers/custom_graph_optimizer_registry.cc:114] Plugin optimizer for device_type GPU is enabled.\n",
      "2022-11-17 14:03:14.449670: I tensorflow/core/grappler/optimizers/custom_graph_optimizer_registry.cc:114] Plugin optimizer for device_type GPU is enabled.\n"
     ]
    },
    {
     "name": "stdout",
     "output_type": "stream",
     "text": [
      "Train on 7850 samples\n",
      "Epoch 1/35\n"
     ]
    },
    {
     "name": "stderr",
     "output_type": "stream",
     "text": [
      "2022-11-17 14:03:14.863380: I tensorflow/core/grappler/optimizers/custom_graph_optimizer_registry.cc:114] Plugin optimizer for device_type GPU is enabled.\n",
      "2022-11-17 14:03:15.152977: I tensorflow/core/grappler/optimizers/custom_graph_optimizer_registry.cc:114] Plugin optimizer for device_type GPU is enabled.\n",
      "2022-11-17 14:03:15.238506: I tensorflow/core/grappler/optimizers/custom_graph_optimizer_registry.cc:114] Plugin optimizer for device_type GPU is enabled.\n"
     ]
    },
    {
     "name": "stdout",
     "output_type": "stream",
     "text": [
      "7850/7850 [==============================] - 4s 474us/sample - loss: 2695.5224\n",
      "Epoch 2/35\n",
      " 500/7850 [>.............................] - ETA: 1s - loss: 2427.4350"
     ]
    },
    {
     "name": "stderr",
     "output_type": "stream",
     "text": [
      "2022-11-17 14:03:18.291228: I tensorflow/core/grappler/optimizers/custom_graph_optimizer_registry.cc:114] Plugin optimizer for device_type GPU is enabled.\n"
     ]
    },
    {
     "name": "stdout",
     "output_type": "stream",
     "text": [
      "7850/7850 [==============================] - 2s 275us/sample - loss: 2412.5163\n",
      "Epoch 3/35\n",
      "7850/7850 [==============================] - 2s 268us/sample - loss: 2369.8412\n",
      "Epoch 4/35\n",
      "7850/7850 [==============================] - 2s 263us/sample - loss: 2343.3399\n",
      "Epoch 5/35\n",
      "7850/7850 [==============================] - 2s 271us/sample - loss: 2325.7172\n",
      "Epoch 6/35\n",
      "7850/7850 [==============================] - 2s 269us/sample - loss: 2314.4808\n",
      "Epoch 7/35\n",
      "7850/7850 [==============================] - 2s 265us/sample - loss: 2305.8094\n",
      "Epoch 8/35\n",
      "7850/7850 [==============================] - 2s 258us/sample - loss: 2299.2967\n",
      "Epoch 9/35\n",
      "7850/7850 [==============================] - 2s 269us/sample - loss: 2294.1139\n",
      "Epoch 10/35\n",
      "7850/7850 [==============================] - 2s 269us/sample - loss: 2289.9682\n",
      "Epoch 11/35\n",
      "7850/7850 [==============================] - 2s 266us/sample - loss: 2286.6024\n",
      "Epoch 12/35\n",
      "7850/7850 [==============================] - 2s 268us/sample - loss: 2283.2865\n",
      "Epoch 13/35\n",
      "7850/7850 [==============================] - 2s 269us/sample - loss: 2280.4072\n",
      "Epoch 14/35\n",
      "7850/7850 [==============================] - 2s 277us/sample - loss: 2277.8229\n",
      "Epoch 15/35\n",
      "7850/7850 [==============================] - 2s 263us/sample - loss: 2276.3290\n",
      "Epoch 16/35\n",
      "7850/7850 [==============================] - 2s 270us/sample - loss: 2274.8796\n",
      "Epoch 17/35\n",
      "7850/7850 [==============================] - 2s 268us/sample - loss: 2273.2782\n",
      "Epoch 18/35\n",
      "7850/7850 [==============================] - 2s 266us/sample - loss: 2271.8722\n",
      "Epoch 19/35\n",
      "7850/7850 [==============================] - 2s 267us/sample - loss: 2270.9792\n",
      "Epoch 20/35\n",
      "7850/7850 [==============================] - 2s 270us/sample - loss: 2269.7030\n",
      "Epoch 21/35\n",
      "7850/7850 [==============================] - 2s 274us/sample - loss: 2268.6376\n",
      "Epoch 22/35\n",
      "7850/7850 [==============================] - 2s 271us/sample - loss: 2267.7834\n",
      "Epoch 23/35\n",
      "7850/7850 [==============================] - 2s 259us/sample - loss: 2267.4140\n",
      "Epoch 24/35\n",
      "7850/7850 [==============================] - 2s 284us/sample - loss: 2266.5839\n",
      "Epoch 25/35\n",
      "7850/7850 [==============================] - 2s 279us/sample - loss: 2265.9556\n",
      "Epoch 26/35\n",
      "7850/7850 [==============================] - 2s 274us/sample - loss: 2265.3959\n",
      "Epoch 27/35\n",
      "7850/7850 [==============================] - 2s 275us/sample - loss: 2264.9996\n",
      "Epoch 28/35\n",
      "7850/7850 [==============================] - 2s 268us/sample - loss: 2264.7126\n",
      "Epoch 29/35\n",
      "7850/7850 [==============================] - 2s 269us/sample - loss: 2264.3612\n",
      "Epoch 30/35\n",
      "7850/7850 [==============================] - 2s 275us/sample - loss: 2263.7708\n",
      "Epoch 31/35\n",
      "7850/7850 [==============================] - 2s 264us/sample - loss: 2263.3969\n",
      "Epoch 32/35\n",
      "7850/7850 [==============================] - 2s 275us/sample - loss: 2263.1143\n",
      "Epoch 33/35\n",
      "7850/7850 [==============================] - 2s 264us/sample - loss: 2262.6804\n",
      "Epoch 34/35\n",
      "7850/7850 [==============================] - 2s 273us/sample - loss: 2262.1642\n",
      "Epoch 35/35\n",
      "7850/7850 [==============================] - 2s 269us/sample - loss: 2261.9686\n"
     ]
    },
    {
     "name": "stderr",
     "output_type": "stream",
     "text": [
      "/Users/karlberb/miniforge3/envs/tf_M1_py3dot9/lib/python3.9/site-packages/keras/engine/training_v1.py:2356: UserWarning: `Model.state_updates` will be removed in a future version. This property should not be used in TensorFlow 2.0, as `updates` are applied automatically.\n",
      "  updates=self.state_updates,\n",
      "2022-11-17 14:04:30.628137: I tensorflow/core/grappler/optimizers/custom_graph_optimizer_registry.cc:114] Plugin optimizer for device_type GPU is enabled.\n",
      "2022-11-17 14:04:30.986671: I tensorflow/core/grappler/optimizers/custom_graph_optimizer_registry.cc:114] Plugin optimizer for device_type GPU is enabled.\n"
     ]
    },
    {
     "name": "stdout",
     "output_type": "stream",
     "text": [
      "PCPG done\n",
      " \n"
     ]
    },
    {
     "name": "stderr",
     "output_type": "stream",
     "text": [
      "2022-11-17 14:04:31.796711: I tensorflow/core/grappler/optimizers/custom_graph_optimizer_registry.cc:114] Plugin optimizer for device_type GPU is enabled.\n"
     ]
    },
    {
     "name": "stdout",
     "output_type": "stream",
     "text": [
      "WARNING:tensorflow:Output {0} missing from loss dictionary. We assume this was done on purpose. The fit and evaluate APIs will not be expecting any data to be passed to custom_variational_layer_22.\n"
     ]
    },
    {
     "name": "stderr",
     "output_type": "stream",
     "text": [
      "2022-11-17 14:04:32.099623: I tensorflow/core/grappler/optimizers/custom_graph_optimizer_registry.cc:114] Plugin optimizer for device_type GPU is enabled.\n",
      "2022-11-17 14:04:32.200158: I tensorflow/core/grappler/optimizers/custom_graph_optimizer_registry.cc:114] Plugin optimizer for device_type GPU is enabled.\n"
     ]
    },
    {
     "name": "stdout",
     "output_type": "stream",
     "text": [
      "Train on 7736 samples\n",
      "Epoch 1/35\n"
     ]
    },
    {
     "name": "stderr",
     "output_type": "stream",
     "text": [
      "2022-11-17 14:04:32.646014: I tensorflow/core/grappler/optimizers/custom_graph_optimizer_registry.cc:114] Plugin optimizer for device_type GPU is enabled.\n",
      "2022-11-17 14:04:32.963708: I tensorflow/core/grappler/optimizers/custom_graph_optimizer_registry.cc:114] Plugin optimizer for device_type GPU is enabled.\n",
      "2022-11-17 14:04:33.050142: I tensorflow/core/grappler/optimizers/custom_graph_optimizer_registry.cc:114] Plugin optimizer for device_type GPU is enabled.\n"
     ]
    },
    {
     "name": "stdout",
     "output_type": "stream",
     "text": [
      "7736/7736 [==============================] - 4s 535us/sample - loss: 2691.9016\n",
      "Epoch 2/35\n",
      " 450/7736 [>.............................] - ETA: 1s - loss: 2428.3678"
     ]
    },
    {
     "name": "stderr",
     "output_type": "stream",
     "text": [
      "2022-11-17 14:04:36.467027: I tensorflow/core/grappler/optimizers/custom_graph_optimizer_registry.cc:114] Plugin optimizer for device_type GPU is enabled.\n"
     ]
    },
    {
     "name": "stdout",
     "output_type": "stream",
     "text": [
      "7736/7736 [==============================] - 2s 281us/sample - loss: 2400.1685\n",
      "Epoch 3/35\n",
      "7736/7736 [==============================] - 2s 278us/sample - loss: 2357.0500\n",
      "Epoch 4/35\n",
      "7736/7736 [==============================] - 2s 278us/sample - loss: 2331.4001\n",
      "Epoch 5/35\n",
      "7736/7736 [==============================] - 2s 275us/sample - loss: 2314.0756\n",
      "Epoch 6/35\n",
      "7736/7736 [==============================] - 2s 273us/sample - loss: 2302.3465\n",
      "Epoch 7/35\n",
      "7736/7736 [==============================] - 2s 273us/sample - loss: 2293.8763\n",
      "Epoch 8/35\n",
      "7736/7736 [==============================] - 2s 276us/sample - loss: 2287.2373\n",
      "Epoch 9/35\n",
      "7736/7736 [==============================] - 2s 285us/sample - loss: 2282.1761\n",
      "Epoch 10/35\n",
      "7736/7736 [==============================] - 2s 272us/sample - loss: 2277.8244\n",
      "Epoch 11/35\n",
      "7736/7736 [==============================] - 2s 278us/sample - loss: 2274.4545\n",
      "Epoch 12/35\n",
      "7736/7736 [==============================] - 2s 277us/sample - loss: 2271.2988\n",
      "Epoch 13/35\n",
      "7736/7736 [==============================] - 2s 275us/sample - loss: 2268.4874\n",
      "Epoch 14/35\n",
      "7736/7736 [==============================] - 2s 282us/sample - loss: 2266.1842\n",
      "Epoch 15/35\n",
      "7736/7736 [==============================] - 2s 272us/sample - loss: 2264.4050\n",
      "Epoch 16/35\n",
      "7736/7736 [==============================] - 2s 275us/sample - loss: 2262.3993\n",
      "Epoch 17/35\n",
      "7736/7736 [==============================] - 2s 274us/sample - loss: 2261.2665\n",
      "Epoch 18/35\n",
      "7736/7736 [==============================] - 2s 279us/sample - loss: 2260.0851\n",
      "Epoch 19/35\n",
      "7736/7736 [==============================] - 2s 282us/sample - loss: 2258.6535\n",
      "Epoch 20/35\n",
      "7736/7736 [==============================] - 2s 295us/sample - loss: 2257.7912\n",
      "Epoch 21/35\n",
      "7736/7736 [==============================] - 2s 273us/sample - loss: 2256.8252\n",
      "Epoch 22/35\n",
      "7736/7736 [==============================] - 2s 285us/sample - loss: 2256.2838\n",
      "Epoch 23/35\n",
      "7736/7736 [==============================] - 2s 281us/sample - loss: 2255.1609\n",
      "Epoch 24/35\n",
      "7736/7736 [==============================] - 2s 280us/sample - loss: 2254.4191\n",
      "Epoch 25/35\n",
      "7736/7736 [==============================] - 2s 278us/sample - loss: 2254.0909\n",
      "Epoch 26/35\n",
      "7736/7736 [==============================] - 2s 274us/sample - loss: 2253.5948\n",
      "Epoch 27/35\n",
      "7736/7736 [==============================] - 2s 274us/sample - loss: 2253.0885\n",
      "Epoch 28/35\n",
      "7736/7736 [==============================] - 2s 277us/sample - loss: 2252.6619\n",
      "Epoch 29/35\n",
      "7736/7736 [==============================] - 2s 279us/sample - loss: 2252.2664\n",
      "Epoch 30/35\n",
      "7736/7736 [==============================] - 2s 274us/sample - loss: 2251.6578\n",
      "Epoch 31/35\n",
      "7736/7736 [==============================] - 2s 285us/sample - loss: 2251.1607\n",
      "Epoch 32/35\n",
      "7736/7736 [==============================] - 2s 276us/sample - loss: 2250.6902\n",
      "Epoch 33/35\n",
      "7736/7736 [==============================] - 2s 270us/sample - loss: 2250.4917\n",
      "Epoch 34/35\n",
      "7736/7736 [==============================] - 2s 271us/sample - loss: 2250.1744\n",
      "Epoch 35/35\n",
      "7736/7736 [==============================] - 2s 278us/sample - loss: 2250.1011\n"
     ]
    },
    {
     "name": "stderr",
     "output_type": "stream",
     "text": [
      "/Users/karlberb/miniforge3/envs/tf_M1_py3dot9/lib/python3.9/site-packages/keras/engine/training_v1.py:2356: UserWarning: `Model.state_updates` will be removed in a future version. This property should not be used in TensorFlow 2.0, as `updates` are applied automatically.\n",
      "  updates=self.state_updates,\n",
      "2022-11-17 14:05:49.858816: I tensorflow/core/grappler/optimizers/custom_graph_optimizer_registry.cc:114] Plugin optimizer for device_type GPU is enabled.\n",
      "2022-11-17 14:05:50.245743: I tensorflow/core/grappler/optimizers/custom_graph_optimizer_registry.cc:114] Plugin optimizer for device_type GPU is enabled.\n"
     ]
    },
    {
     "name": "stdout",
     "output_type": "stream",
     "text": [
      "PRAD done\n",
      " \n"
     ]
    },
    {
     "name": "stderr",
     "output_type": "stream",
     "text": [
      "2022-11-17 14:05:51.382397: I tensorflow/core/grappler/optimizers/custom_graph_optimizer_registry.cc:114] Plugin optimizer for device_type GPU is enabled.\n"
     ]
    },
    {
     "name": "stdout",
     "output_type": "stream",
     "text": [
      "WARNING:tensorflow:Output {0} missing from loss dictionary. We assume this was done on purpose. The fit and evaluate APIs will not be expecting any data to be passed to custom_variational_layer_23.\n"
     ]
    },
    {
     "name": "stderr",
     "output_type": "stream",
     "text": [
      "2022-11-17 14:05:51.697968: I tensorflow/core/grappler/optimizers/custom_graph_optimizer_registry.cc:114] Plugin optimizer for device_type GPU is enabled.\n",
      "2022-11-17 14:05:51.793447: I tensorflow/core/grappler/optimizers/custom_graph_optimizer_registry.cc:114] Plugin optimizer for device_type GPU is enabled.\n"
     ]
    },
    {
     "name": "stdout",
     "output_type": "stream",
     "text": [
      "Train on 7818 samples\n",
      "Epoch 1/35\n"
     ]
    },
    {
     "name": "stderr",
     "output_type": "stream",
     "text": [
      "2022-11-17 14:05:52.233614: I tensorflow/core/grappler/optimizers/custom_graph_optimizer_registry.cc:114] Plugin optimizer for device_type GPU is enabled.\n",
      "2022-11-17 14:05:52.555726: I tensorflow/core/grappler/optimizers/custom_graph_optimizer_registry.cc:114] Plugin optimizer for device_type GPU is enabled.\n",
      "2022-11-17 14:05:52.646180: I tensorflow/core/grappler/optimizers/custom_graph_optimizer_registry.cc:114] Plugin optimizer for device_type GPU is enabled.\n"
     ]
    },
    {
     "name": "stdout",
     "output_type": "stream",
     "text": [
      "7818/7818 [==============================] - 4s 556us/sample - loss: 2705.1084\n",
      "Epoch 2/35\n",
      " 450/7818 [>.............................] - ETA: 2s - loss: 2491.6070"
     ]
    },
    {
     "name": "stderr",
     "output_type": "stream",
     "text": [
      "2022-11-17 14:05:56.265069: I tensorflow/core/grappler/optimizers/custom_graph_optimizer_registry.cc:114] Plugin optimizer for device_type GPU is enabled.\n"
     ]
    },
    {
     "name": "stdout",
     "output_type": "stream",
     "text": [
      "7818/7818 [==============================] - 2s 277us/sample - loss: 2422.7057\n",
      "Epoch 3/35\n",
      "7818/7818 [==============================] - 2s 271us/sample - loss: 2379.2104\n",
      "Epoch 4/35\n",
      "7818/7818 [==============================] - 2s 273us/sample - loss: 2352.9451\n",
      "Epoch 5/35\n",
      "7818/7818 [==============================] - 2s 285us/sample - loss: 2335.1616\n",
      "Epoch 6/35\n",
      "7818/7818 [==============================] - 2s 276us/sample - loss: 2322.7774\n",
      "Epoch 7/35\n",
      "7818/7818 [==============================] - 2s 276us/sample - loss: 2313.9202\n",
      "Epoch 8/35\n",
      "7818/7818 [==============================] - 2s 292us/sample - loss: 2307.4903\n",
      "Epoch 9/35\n",
      "7818/7818 [==============================] - 2s 283us/sample - loss: 2301.6326\n",
      "Epoch 10/35\n",
      "7818/7818 [==============================] - 2s 283us/sample - loss: 2297.7477\n",
      "Epoch 11/35\n",
      "7818/7818 [==============================] - 2s 278us/sample - loss: 2294.1065\n",
      "Epoch 12/35\n",
      "7818/7818 [==============================] - 2s 284us/sample - loss: 2290.6154\n",
      "Epoch 13/35\n",
      "7818/7818 [==============================] - 2s 279us/sample - loss: 2288.1553\n",
      "Epoch 14/35\n",
      "7818/7818 [==============================] - 2s 278us/sample - loss: 2285.9984\n",
      "Epoch 15/35\n",
      "7818/7818 [==============================] - 2s 280us/sample - loss: 2283.8143\n",
      "Epoch 16/35\n",
      "7818/7818 [==============================] - 2s 284us/sample - loss: 2282.4758\n",
      "Epoch 17/35\n",
      "7818/7818 [==============================] - 2s 272us/sample - loss: 2280.7714\n",
      "Epoch 18/35\n",
      "7818/7818 [==============================] - 2s 277us/sample - loss: 2279.4995\n",
      "Epoch 19/35\n",
      "7818/7818 [==============================] - 2s 274us/sample - loss: 2278.4357\n",
      "Epoch 20/35\n",
      "7818/7818 [==============================] - 2s 282us/sample - loss: 2277.5292\n",
      "Epoch 21/35\n",
      "7818/7818 [==============================] - 2s 279us/sample - loss: 2276.3219\n",
      "Epoch 22/35\n",
      "7818/7818 [==============================] - 2s 277us/sample - loss: 2275.4628\n",
      "Epoch 23/35\n",
      "7818/7818 [==============================] - 2s 280us/sample - loss: 2274.8283\n",
      "Epoch 24/35\n",
      "7818/7818 [==============================] - 2s 279us/sample - loss: 2274.1197\n",
      "Epoch 25/35\n",
      "7818/7818 [==============================] - 2s 281us/sample - loss: 2273.5740\n",
      "Epoch 26/35\n",
      "7818/7818 [==============================] - 2s 279us/sample - loss: 2272.9828\n",
      "Epoch 27/35\n",
      "7818/7818 [==============================] - 2s 273us/sample - loss: 2272.5657\n",
      "Epoch 28/35\n",
      "7818/7818 [==============================] - 2s 273us/sample - loss: 2271.9451\n",
      "Epoch 29/35\n",
      "7818/7818 [==============================] - 2s 276us/sample - loss: 2271.8028\n",
      "Epoch 30/35\n",
      "7818/7818 [==============================] - 2s 277us/sample - loss: 2270.7513\n",
      "Epoch 31/35\n",
      "7818/7818 [==============================] - 2s 271us/sample - loss: 2270.7605\n",
      "Epoch 32/35\n",
      "7818/7818 [==============================] - 2s 271us/sample - loss: 2270.7852\n",
      "Epoch 33/35\n",
      "7818/7818 [==============================] - 2s 286us/sample - loss: 2270.3140\n",
      "Epoch 34/35\n",
      "7818/7818 [==============================] - 2s 273us/sample - loss: 2269.8094\n",
      "Epoch 35/35\n",
      "7818/7818 [==============================] - 2s 270us/sample - loss: 2269.6008\n"
     ]
    },
    {
     "name": "stderr",
     "output_type": "stream",
     "text": [
      "/Users/karlberb/miniforge3/envs/tf_M1_py3dot9/lib/python3.9/site-packages/keras/engine/training_v1.py:2356: UserWarning: `Model.state_updates` will be removed in a future version. This property should not be used in TensorFlow 2.0, as `updates` are applied automatically.\n",
      "  updates=self.state_updates,\n",
      "2022-11-17 14:07:10.598165: I tensorflow/core/grappler/optimizers/custom_graph_optimizer_registry.cc:114] Plugin optimizer for device_type GPU is enabled.\n",
      "2022-11-17 14:07:10.976962: I tensorflow/core/grappler/optimizers/custom_graph_optimizer_registry.cc:114] Plugin optimizer for device_type GPU is enabled.\n"
     ]
    },
    {
     "name": "stdout",
     "output_type": "stream",
     "text": [
      "SARC done\n",
      " \n"
     ]
    },
    {
     "name": "stderr",
     "output_type": "stream",
     "text": [
      "2022-11-17 14:07:11.883633: I tensorflow/core/grappler/optimizers/custom_graph_optimizer_registry.cc:114] Plugin optimizer for device_type GPU is enabled.\n"
     ]
    },
    {
     "name": "stdout",
     "output_type": "stream",
     "text": [
      "WARNING:tensorflow:Output {0} missing from loss dictionary. We assume this was done on purpose. The fit and evaluate APIs will not be expecting any data to be passed to custom_variational_layer_24.\n"
     ]
    },
    {
     "name": "stderr",
     "output_type": "stream",
     "text": [
      "2022-11-17 14:07:12.213148: I tensorflow/core/grappler/optimizers/custom_graph_optimizer_registry.cc:114] Plugin optimizer for device_type GPU is enabled.\n",
      "2022-11-17 14:07:12.310840: I tensorflow/core/grappler/optimizers/custom_graph_optimizer_registry.cc:114] Plugin optimizer for device_type GPU is enabled.\n"
     ]
    },
    {
     "name": "stdout",
     "output_type": "stream",
     "text": [
      "Train on 7565 samples\n",
      "Epoch 1/35\n"
     ]
    },
    {
     "name": "stderr",
     "output_type": "stream",
     "text": [
      "2022-11-17 14:07:12.774962: I tensorflow/core/grappler/optimizers/custom_graph_optimizer_registry.cc:114] Plugin optimizer for device_type GPU is enabled.\n",
      "2022-11-17 14:07:13.111307: I tensorflow/core/grappler/optimizers/custom_graph_optimizer_registry.cc:114] Plugin optimizer for device_type GPU is enabled.\n",
      "2022-11-17 14:07:13.204663: I tensorflow/core/grappler/optimizers/custom_graph_optimizer_registry.cc:114] Plugin optimizer for device_type GPU is enabled.\n"
     ]
    },
    {
     "name": "stdout",
     "output_type": "stream",
     "text": [
      "7565/7565 [==============================] - 4s 559us/sample - loss: 2722.2335\n",
      "Epoch 2/35\n",
      " 450/7565 [>.............................] - ETA: 2s - loss: 2485.4361"
     ]
    },
    {
     "name": "stderr",
     "output_type": "stream",
     "text": [
      "2022-11-17 14:07:16.660807: I tensorflow/core/grappler/optimizers/custom_graph_optimizer_registry.cc:114] Plugin optimizer for device_type GPU is enabled.\n"
     ]
    },
    {
     "name": "stdout",
     "output_type": "stream",
     "text": [
      "7565/7565 [==============================] - 2s 286us/sample - loss: 2437.4185\n",
      "Epoch 3/35\n",
      "7565/7565 [==============================] - 2s 281us/sample - loss: 2393.6884\n",
      "Epoch 4/35\n",
      "7565/7565 [==============================] - 2s 280us/sample - loss: 2366.8977\n",
      "Epoch 5/35\n",
      "7565/7565 [==============================] - 2s 278us/sample - loss: 2348.9957\n",
      "Epoch 6/35\n",
      "7565/7565 [==============================] - 2s 277us/sample - loss: 2335.9862\n",
      "Epoch 7/35\n",
      "7565/7565 [==============================] - 2s 278us/sample - loss: 2327.3570\n",
      "Epoch 8/35\n",
      "7565/7565 [==============================] - 2s 275us/sample - loss: 2320.4889\n",
      "Epoch 9/35\n",
      "7565/7565 [==============================] - 2s 276us/sample - loss: 2315.0415\n",
      "Epoch 10/35\n",
      "7565/7565 [==============================] - 2s 283us/sample - loss: 2310.1210\n",
      "Epoch 11/35\n",
      "7565/7565 [==============================] - 2s 281us/sample - loss: 2306.1498\n",
      "Epoch 12/35\n",
      "7565/7565 [==============================] - 2s 276us/sample - loss: 2302.8212\n",
      "Epoch 13/35\n",
      "7565/7565 [==============================] - 2s 278us/sample - loss: 2300.2857\n",
      "Epoch 14/35\n",
      "7565/7565 [==============================] - 2s 269us/sample - loss: 2298.0954\n",
      "Epoch 15/35\n",
      "7565/7565 [==============================] - 2s 278us/sample - loss: 2296.0937\n",
      "Epoch 16/35\n",
      "7565/7565 [==============================] - 2s 271us/sample - loss: 2294.1558\n",
      "Epoch 17/35\n",
      "7565/7565 [==============================] - 2s 278us/sample - loss: 2292.9068\n",
      "Epoch 18/35\n",
      "7565/7565 [==============================] - 2s 283us/sample - loss: 2291.5343\n",
      "Epoch 19/35\n",
      "7565/7565 [==============================] - 2s 275us/sample - loss: 2290.2273\n",
      "Epoch 20/35\n",
      "7565/7565 [==============================] - 2s 282us/sample - loss: 2288.9064\n",
      "Epoch 21/35\n",
      "7565/7565 [==============================] - 2s 273us/sample - loss: 2288.1502\n",
      "Epoch 22/35\n",
      "7565/7565 [==============================] - 2s 271us/sample - loss: 2287.2319\n",
      "Epoch 23/35\n",
      "7565/7565 [==============================] - 2s 270us/sample - loss: 2286.4545\n",
      "Epoch 24/35\n",
      "7565/7565 [==============================] - 2s 283us/sample - loss: 2286.0484\n",
      "Epoch 25/35\n",
      "7565/7565 [==============================] - 2s 276us/sample - loss: 2285.4097\n",
      "Epoch 26/35\n",
      "7565/7565 [==============================] - 2s 273us/sample - loss: 2284.7295\n",
      "Epoch 27/35\n",
      "7565/7565 [==============================] - 2s 286us/sample - loss: 2284.2073\n",
      "Epoch 28/35\n",
      "7565/7565 [==============================] - 2s 274us/sample - loss: 2283.3750\n",
      "Epoch 29/35\n",
      "7565/7565 [==============================] - 2s 276us/sample - loss: 2283.1538\n",
      "Epoch 30/35\n",
      "7565/7565 [==============================] - 2s 276us/sample - loss: 2282.6595\n",
      "Epoch 31/35\n",
      "7565/7565 [==============================] - 2s 286us/sample - loss: 2281.8936\n",
      "Epoch 32/35\n",
      "7565/7565 [==============================] - 2s 284us/sample - loss: 2281.6800\n",
      "Epoch 33/35\n",
      "7565/7565 [==============================] - 2s 274us/sample - loss: 2281.5892\n",
      "Epoch 34/35\n",
      "7565/7565 [==============================] - 2s 282us/sample - loss: 2281.0456\n",
      "Epoch 35/35\n",
      "7565/7565 [==============================] - 2s 279us/sample - loss: 2280.7461\n"
     ]
    },
    {
     "name": "stderr",
     "output_type": "stream",
     "text": [
      "/Users/karlberb/miniforge3/envs/tf_M1_py3dot9/lib/python3.9/site-packages/keras/engine/training_v1.py:2356: UserWarning: `Model.state_updates` will be removed in a future version. This property should not be used in TensorFlow 2.0, as `updates` are applied automatically.\n",
      "  updates=self.state_updates,\n",
      "2022-11-17 14:08:28.579856: I tensorflow/core/grappler/optimizers/custom_graph_optimizer_registry.cc:114] Plugin optimizer for device_type GPU is enabled.\n",
      "2022-11-17 14:08:29.028440: I tensorflow/core/grappler/optimizers/custom_graph_optimizer_registry.cc:114] Plugin optimizer for device_type GPU is enabled.\n"
     ]
    },
    {
     "name": "stdout",
     "output_type": "stream",
     "text": [
      "SKCM done\n",
      " \n"
     ]
    },
    {
     "name": "stderr",
     "output_type": "stream",
     "text": [
      "2022-11-17 14:08:30.590176: I tensorflow/core/grappler/optimizers/custom_graph_optimizer_registry.cc:114] Plugin optimizer for device_type GPU is enabled.\n"
     ]
    },
    {
     "name": "stdout",
     "output_type": "stream",
     "text": [
      "WARNING:tensorflow:Output {0} missing from loss dictionary. We assume this was done on purpose. The fit and evaluate APIs will not be expecting any data to be passed to custom_variational_layer_25.\n"
     ]
    },
    {
     "name": "stderr",
     "output_type": "stream",
     "text": [
      "2022-11-17 14:08:30.935766: I tensorflow/core/grappler/optimizers/custom_graph_optimizer_registry.cc:114] Plugin optimizer for device_type GPU is enabled.\n",
      "2022-11-17 14:08:31.040568: I tensorflow/core/grappler/optimizers/custom_graph_optimizer_registry.cc:114] Plugin optimizer for device_type GPU is enabled.\n"
     ]
    },
    {
     "name": "stdout",
     "output_type": "stream",
     "text": [
      "Train on 7876 samples\n",
      "Epoch 1/35\n"
     ]
    },
    {
     "name": "stderr",
     "output_type": "stream",
     "text": [
      "2022-11-17 14:08:31.511568: I tensorflow/core/grappler/optimizers/custom_graph_optimizer_registry.cc:114] Plugin optimizer for device_type GPU is enabled.\n",
      "2022-11-17 14:08:31.860152: I tensorflow/core/grappler/optimizers/custom_graph_optimizer_registry.cc:114] Plugin optimizer for device_type GPU is enabled.\n",
      "2022-11-17 14:08:31.955838: I tensorflow/core/grappler/optimizers/custom_graph_optimizer_registry.cc:114] Plugin optimizer for device_type GPU is enabled.\n"
     ]
    },
    {
     "name": "stdout",
     "output_type": "stream",
     "text": [
      "7876/7876 [==============================] - 4s 543us/sample - loss: 2696.1880\n",
      "Epoch 2/35\n",
      " 450/7876 [>.............................] - ETA: 1s - loss: 2456.1160"
     ]
    },
    {
     "name": "stderr",
     "output_type": "stream",
     "text": [
      "2022-11-17 14:08:35.445566: I tensorflow/core/grappler/optimizers/custom_graph_optimizer_registry.cc:114] Plugin optimizer for device_type GPU is enabled.\n"
     ]
    },
    {
     "name": "stdout",
     "output_type": "stream",
     "text": [
      "7876/7876 [==============================] - 2s 274us/sample - loss: 2410.5945\n",
      "Epoch 3/35\n",
      "7876/7876 [==============================] - 2s 276us/sample - loss: 2369.4755\n",
      "Epoch 4/35\n",
      "7876/7876 [==============================] - 2s 282us/sample - loss: 2342.5353\n",
      "Epoch 5/35\n",
      "7876/7876 [==============================] - 2s 272us/sample - loss: 2325.5340\n",
      "Epoch 6/35\n",
      "7876/7876 [==============================] - 2s 277us/sample - loss: 2313.9179\n",
      "Epoch 7/35\n",
      "7876/7876 [==============================] - 2s 273us/sample - loss: 2305.5109\n",
      "Epoch 8/35\n",
      "7876/7876 [==============================] - 2s 277us/sample - loss: 2299.4545\n",
      "Epoch 9/35\n",
      "7876/7876 [==============================] - 2s 280us/sample - loss: 2294.3218\n",
      "Epoch 10/35\n",
      "7876/7876 [==============================] - 2s 272us/sample - loss: 2290.2121\n",
      "Epoch 11/35\n",
      "7876/7876 [==============================] - 2s 277us/sample - loss: 2286.5622\n",
      "Epoch 12/35\n",
      "7876/7876 [==============================] - 2s 277us/sample - loss: 2283.3752\n",
      "Epoch 13/35\n",
      "7876/7876 [==============================] - 2s 272us/sample - loss: 2280.4087\n",
      "Epoch 14/35\n",
      "7876/7876 [==============================] - 2s 273us/sample - loss: 2278.5576\n",
      "Epoch 15/35\n",
      "7876/7876 [==============================] - 2s 277us/sample - loss: 2276.7642\n",
      "Epoch 16/35\n",
      "7876/7876 [==============================] - 2s 269us/sample - loss: 2275.1876\n",
      "Epoch 17/35\n",
      "7876/7876 [==============================] - 2s 277us/sample - loss: 2273.5665\n",
      "Epoch 18/35\n",
      "7876/7876 [==============================] - 2s 274us/sample - loss: 2272.5924\n",
      "Epoch 19/35\n",
      "7876/7876 [==============================] - 2s 276us/sample - loss: 2271.0127\n",
      "Epoch 20/35\n",
      "7876/7876 [==============================] - 2s 277us/sample - loss: 2270.2519\n",
      "Epoch 21/35\n",
      "7876/7876 [==============================] - 2s 275us/sample - loss: 2269.3508\n",
      "Epoch 22/35\n",
      "7876/7876 [==============================] - 2s 281us/sample - loss: 2268.3747\n",
      "Epoch 23/35\n",
      "7876/7876 [==============================] - 2s 274us/sample - loss: 2267.7682\n",
      "Epoch 24/35\n",
      "7876/7876 [==============================] - 2s 286us/sample - loss: 2266.9307\n",
      "Epoch 25/35\n",
      "7876/7876 [==============================] - 2s 283us/sample - loss: 2266.6362\n",
      "Epoch 26/35\n",
      "7876/7876 [==============================] - 2s 280us/sample - loss: 2265.8994\n",
      "Epoch 27/35\n",
      "7876/7876 [==============================] - 2s 274us/sample - loss: 2265.5686\n",
      "Epoch 28/35\n",
      "7876/7876 [==============================] - 2s 274us/sample - loss: 2265.0112\n",
      "Epoch 29/35\n",
      "7876/7876 [==============================] - 2s 284us/sample - loss: 2264.1493\n",
      "Epoch 30/35\n",
      "7876/7876 [==============================] - 2s 279us/sample - loss: 2264.2835\n",
      "Epoch 31/35\n",
      "7876/7876 [==============================] - 2s 278us/sample - loss: 2263.9048\n",
      "Epoch 32/35\n",
      "7876/7876 [==============================] - 2s 282us/sample - loss: 2263.5200\n",
      "Epoch 33/35\n",
      "7876/7876 [==============================] - 2s 271us/sample - loss: 2263.0410\n",
      "Epoch 34/35\n",
      "7876/7876 [==============================] - 2s 275us/sample - loss: 2262.7139\n",
      "Epoch 35/35\n",
      "7876/7876 [==============================] - 2s 270us/sample - loss: 2262.6883\n"
     ]
    },
    {
     "name": "stderr",
     "output_type": "stream",
     "text": [
      "/Users/karlberb/miniforge3/envs/tf_M1_py3dot9/lib/python3.9/site-packages/keras/engine/training_v1.py:2356: UserWarning: `Model.state_updates` will be removed in a future version. This property should not be used in TensorFlow 2.0, as `updates` are applied automatically.\n",
      "  updates=self.state_updates,\n",
      "2022-11-17 14:09:49.910550: I tensorflow/core/grappler/optimizers/custom_graph_optimizer_registry.cc:114] Plugin optimizer for device_type GPU is enabled.\n",
      "2022-11-17 14:09:50.332308: I tensorflow/core/grappler/optimizers/custom_graph_optimizer_registry.cc:114] Plugin optimizer for device_type GPU is enabled.\n"
     ]
    },
    {
     "name": "stdout",
     "output_type": "stream",
     "text": [
      "TGCT done\n",
      " \n"
     ]
    },
    {
     "name": "stderr",
     "output_type": "stream",
     "text": [
      "2022-11-17 14:09:51.127212: I tensorflow/core/grappler/optimizers/custom_graph_optimizer_registry.cc:114] Plugin optimizer for device_type GPU is enabled.\n"
     ]
    },
    {
     "name": "stdout",
     "output_type": "stream",
     "text": [
      "WARNING:tensorflow:Output {0} missing from loss dictionary. We assume this was done on purpose. The fit and evaluate APIs will not be expecting any data to be passed to custom_variational_layer_26.\n"
     ]
    },
    {
     "name": "stderr",
     "output_type": "stream",
     "text": [
      "2022-11-17 14:09:51.486829: I tensorflow/core/grappler/optimizers/custom_graph_optimizer_registry.cc:114] Plugin optimizer for device_type GPU is enabled.\n",
      "2022-11-17 14:09:51.592685: I tensorflow/core/grappler/optimizers/custom_graph_optimizer_registry.cc:114] Plugin optimizer for device_type GPU is enabled.\n"
     ]
    },
    {
     "name": "stdout",
     "output_type": "stream",
     "text": [
      "Train on 7523 samples\n",
      "Epoch 1/35\n"
     ]
    },
    {
     "name": "stderr",
     "output_type": "stream",
     "text": [
      "2022-11-17 14:09:52.770753: I tensorflow/core/grappler/optimizers/custom_graph_optimizer_registry.cc:114] Plugin optimizer for device_type GPU is enabled.\n",
      "2022-11-17 14:09:53.135043: I tensorflow/core/grappler/optimizers/custom_graph_optimizer_registry.cc:114] Plugin optimizer for device_type GPU is enabled.\n",
      "2022-11-17 14:09:53.236610: I tensorflow/core/grappler/optimizers/custom_graph_optimizer_registry.cc:114] Plugin optimizer for device_type GPU is enabled.\n"
     ]
    },
    {
     "name": "stdout",
     "output_type": "stream",
     "text": [
      "7523/7523 [==============================] - 4s 562us/sample - loss: 2697.4218\n",
      "Epoch 2/35\n",
      " 450/7523 [>.............................] - ETA: 2s - loss: 2433.1857"
     ]
    },
    {
     "name": "stderr",
     "output_type": "stream",
     "text": [
      "2022-11-17 14:09:56.641442: I tensorflow/core/grappler/optimizers/custom_graph_optimizer_registry.cc:114] Plugin optimizer for device_type GPU is enabled.\n"
     ]
    },
    {
     "name": "stdout",
     "output_type": "stream",
     "text": [
      "7523/7523 [==============================] - 2s 291us/sample - loss: 2401.8026\n",
      "Epoch 3/35\n",
      "7523/7523 [==============================] - 2s 292us/sample - loss: 2359.5537\n",
      "Epoch 4/35\n",
      "7523/7523 [==============================] - 2s 287us/sample - loss: 2333.8490\n",
      "Epoch 5/35\n",
      "7523/7523 [==============================] - 2s 285us/sample - loss: 2316.5933\n",
      "Epoch 6/35\n",
      "7523/7523 [==============================] - 2s 277us/sample - loss: 2303.9620\n",
      "Epoch 7/35\n",
      "7523/7523 [==============================] - 2s 290us/sample - loss: 2295.5830\n",
      "Epoch 8/35\n",
      "7523/7523 [==============================] - 2s 283us/sample - loss: 2288.4878\n",
      "Epoch 9/35\n",
      "7523/7523 [==============================] - 2s 290us/sample - loss: 2283.8184\n",
      "Epoch 10/35\n",
      "7523/7523 [==============================] - 2s 285us/sample - loss: 2279.2597\n",
      "Epoch 11/35\n",
      "7523/7523 [==============================] - 2s 288us/sample - loss: 2275.5600\n",
      "Epoch 12/35\n",
      "7523/7523 [==============================] - 2s 281us/sample - loss: 2272.4780\n",
      "Epoch 13/35\n",
      "7523/7523 [==============================] - 2s 281us/sample - loss: 2269.8277\n",
      "Epoch 14/35\n",
      "7523/7523 [==============================] - 2s 293us/sample - loss: 2267.3813\n",
      "Epoch 15/35\n",
      "7523/7523 [==============================] - 2s 286us/sample - loss: 2265.1640\n",
      "Epoch 16/35\n",
      "7523/7523 [==============================] - 2s 282us/sample - loss: 2263.1670\n",
      "Epoch 17/35\n",
      "7523/7523 [==============================] - 2s 278us/sample - loss: 2262.0358\n",
      "Epoch 18/35\n",
      "7523/7523 [==============================] - 2s 283us/sample - loss: 2260.7178\n",
      "Epoch 19/35\n",
      "7523/7523 [==============================] - 2s 282us/sample - loss: 2259.4032\n",
      "Epoch 20/35\n",
      "7523/7523 [==============================] - 2s 295us/sample - loss: 2258.3958\n",
      "Epoch 21/35\n",
      "7523/7523 [==============================] - 2s 284us/sample - loss: 2257.5454\n",
      "Epoch 22/35\n",
      "7523/7523 [==============================] - 2s 276us/sample - loss: 2256.4794\n",
      "Epoch 23/35\n",
      "7523/7523 [==============================] - 2s 274us/sample - loss: 2255.5333\n",
      "Epoch 24/35\n",
      "7523/7523 [==============================] - 2s 281us/sample - loss: 2255.3050\n",
      "Epoch 25/35\n",
      "7523/7523 [==============================] - 2s 279us/sample - loss: 2254.5451\n",
      "Epoch 26/35\n",
      "7523/7523 [==============================] - 2s 280us/sample - loss: 2253.7988\n",
      "Epoch 27/35\n",
      "7523/7523 [==============================] - 2s 279us/sample - loss: 2253.4747\n",
      "Epoch 28/35\n",
      "7523/7523 [==============================] - 2s 281us/sample - loss: 2252.8152\n",
      "Epoch 29/35\n",
      "7523/7523 [==============================] - 2s 282us/sample - loss: 2252.2986\n",
      "Epoch 30/35\n",
      "7523/7523 [==============================] - 2s 284us/sample - loss: 2251.8809\n",
      "Epoch 31/35\n",
      "7523/7523 [==============================] - 2s 277us/sample - loss: 2251.7340\n",
      "Epoch 32/35\n",
      "7523/7523 [==============================] - 2s 280us/sample - loss: 2251.0278\n",
      "Epoch 33/35\n",
      "7523/7523 [==============================] - 2s 278us/sample - loss: 2251.0711\n",
      "Epoch 34/35\n",
      "7523/7523 [==============================] - 2s 289us/sample - loss: 2250.6239\n",
      "Epoch 35/35\n",
      "7523/7523 [==============================] - 2s 283us/sample - loss: 2250.2993\n"
     ]
    },
    {
     "name": "stderr",
     "output_type": "stream",
     "text": [
      "/Users/karlberb/miniforge3/envs/tf_M1_py3dot9/lib/python3.9/site-packages/keras/engine/training_v1.py:2356: UserWarning: `Model.state_updates` will be removed in a future version. This property should not be used in TensorFlow 2.0, as `updates` are applied automatically.\n",
      "  updates=self.state_updates,\n",
      "2022-11-17 14:11:09.601866: I tensorflow/core/grappler/optimizers/custom_graph_optimizer_registry.cc:114] Plugin optimizer for device_type GPU is enabled.\n",
      "2022-11-17 14:11:10.073185: I tensorflow/core/grappler/optimizers/custom_graph_optimizer_registry.cc:114] Plugin optimizer for device_type GPU is enabled.\n"
     ]
    },
    {
     "name": "stdout",
     "output_type": "stream",
     "text": [
      "THCA done\n",
      " \n"
     ]
    },
    {
     "name": "stderr",
     "output_type": "stream",
     "text": [
      "2022-11-17 14:11:11.753967: I tensorflow/core/grappler/optimizers/custom_graph_optimizer_registry.cc:114] Plugin optimizer for device_type GPU is enabled.\n"
     ]
    },
    {
     "name": "stdout",
     "output_type": "stream",
     "text": [
      "WARNING:tensorflow:Output {0} missing from loss dictionary. We assume this was done on purpose. The fit and evaluate APIs will not be expecting any data to be passed to custom_variational_layer_27.\n"
     ]
    },
    {
     "name": "stderr",
     "output_type": "stream",
     "text": [
      "2022-11-17 14:11:12.125042: I tensorflow/core/grappler/optimizers/custom_graph_optimizer_registry.cc:114] Plugin optimizer for device_type GPU is enabled.\n",
      "2022-11-17 14:11:12.231641: I tensorflow/core/grappler/optimizers/custom_graph_optimizer_registry.cc:114] Plugin optimizer for device_type GPU is enabled.\n"
     ]
    },
    {
     "name": "stdout",
     "output_type": "stream",
     "text": [
      "Train on 7892 samples\n",
      "Epoch 1/35\n"
     ]
    },
    {
     "name": "stderr",
     "output_type": "stream",
     "text": [
      "2022-11-17 14:11:12.739903: I tensorflow/core/grappler/optimizers/custom_graph_optimizer_registry.cc:114] Plugin optimizer for device_type GPU is enabled.\n",
      "2022-11-17 14:11:13.109464: I tensorflow/core/grappler/optimizers/custom_graph_optimizer_registry.cc:114] Plugin optimizer for device_type GPU is enabled.\n",
      "2022-11-17 14:11:13.209632: I tensorflow/core/grappler/optimizers/custom_graph_optimizer_registry.cc:114] Plugin optimizer for device_type GPU is enabled.\n"
     ]
    },
    {
     "name": "stdout",
     "output_type": "stream",
     "text": [
      "7892/7892 [==============================] - 5s 578us/sample - loss: 2698.1772\n",
      "Epoch 2/35\n",
      " 450/7892 [>.............................] - ETA: 2s - loss: 2447.5667"
     ]
    },
    {
     "name": "stderr",
     "output_type": "stream",
     "text": [
      "2022-11-17 14:11:16.927480: I tensorflow/core/grappler/optimizers/custom_graph_optimizer_registry.cc:114] Plugin optimizer for device_type GPU is enabled.\n"
     ]
    },
    {
     "name": "stdout",
     "output_type": "stream",
     "text": [
      "7892/7892 [==============================] - 2s 282us/sample - loss: 2412.7868\n",
      "Epoch 3/35\n",
      "7892/7892 [==============================] - 2s 283us/sample - loss: 2370.4062\n",
      "Epoch 4/35\n",
      "7892/7892 [==============================] - 2s 282us/sample - loss: 2345.2207\n",
      "Epoch 5/35\n",
      "7892/7892 [==============================] - 2s 280us/sample - loss: 2327.9912\n",
      "Epoch 6/35\n",
      "7892/7892 [==============================] - 2s 275us/sample - loss: 2316.1514\n",
      "Epoch 7/35\n",
      "7892/7892 [==============================] - 2s 278us/sample - loss: 2307.4463\n",
      "Epoch 8/35\n",
      "7892/7892 [==============================] - 2s 289us/sample - loss: 2300.9734\n",
      "Epoch 9/35\n",
      "7892/7892 [==============================] - 2s 276us/sample - loss: 2295.8572\n",
      "Epoch 10/35\n",
      "7892/7892 [==============================] - 2s 278us/sample - loss: 2292.0857\n",
      "Epoch 11/35\n",
      "7892/7892 [==============================] - 2s 281us/sample - loss: 2288.6476\n",
      "Epoch 12/35\n",
      "7892/7892 [==============================] - 2s 286us/sample - loss: 2285.3051\n",
      "Epoch 13/35\n",
      "7892/7892 [==============================] - 2s 278us/sample - loss: 2283.0059\n",
      "Epoch 14/35\n",
      "7892/7892 [==============================] - 2s 277us/sample - loss: 2280.9046\n",
      "Epoch 15/35\n",
      "7892/7892 [==============================] - 2s 280us/sample - loss: 2278.9940\n",
      "Epoch 16/35\n",
      "7892/7892 [==============================] - 2s 277us/sample - loss: 2277.3195\n",
      "Epoch 17/35\n",
      "7892/7892 [==============================] - 2s 281us/sample - loss: 2275.8949\n",
      "Epoch 18/35\n",
      "7892/7892 [==============================] - 2s 279us/sample - loss: 2274.6024\n",
      "Epoch 19/35\n",
      "7892/7892 [==============================] - 2s 281us/sample - loss: 2273.1789\n",
      "Epoch 20/35\n",
      "7892/7892 [==============================] - 2s 281us/sample - loss: 2272.4263\n",
      "Epoch 21/35\n",
      "7892/7892 [==============================] - 2s 283us/sample - loss: 2271.3411\n",
      "Epoch 22/35\n",
      "7892/7892 [==============================] - 2s 273us/sample - loss: 2270.5703\n",
      "Epoch 23/35\n",
      "7892/7892 [==============================] - 2s 281us/sample - loss: 2269.9151\n",
      "Epoch 24/35\n",
      "7892/7892 [==============================] - 2s 284us/sample - loss: 2269.7911\n",
      "Epoch 25/35\n",
      "7892/7892 [==============================] - 2s 281us/sample - loss: 2268.8855\n",
      "Epoch 26/35\n",
      "7892/7892 [==============================] - 2s 279us/sample - loss: 2268.6133\n",
      "Epoch 27/35\n",
      "7892/7892 [==============================] - 2s 290us/sample - loss: 2268.0473\n",
      "Epoch 28/35\n",
      "7892/7892 [==============================] - 2s 291us/sample - loss: 2267.3438\n",
      "Epoch 29/35\n",
      "7892/7892 [==============================] - 2s 282us/sample - loss: 2267.0703\n",
      "Epoch 30/35\n",
      "7892/7892 [==============================] - 2s 287us/sample - loss: 2266.4098\n",
      "Epoch 31/35\n",
      "7892/7892 [==============================] - 2s 276us/sample - loss: 2266.3612\n",
      "Epoch 32/35\n",
      "7892/7892 [==============================] - 2s 278us/sample - loss: 2265.7803\n",
      "Epoch 33/35\n",
      "7892/7892 [==============================] - 2s 282us/sample - loss: 2265.2921\n",
      "Epoch 34/35\n",
      "7892/7892 [==============================] - 2s 274us/sample - loss: 2265.0733\n",
      "Epoch 35/35\n",
      "7892/7892 [==============================] - 2s 277us/sample - loss: 2264.8222\n"
     ]
    },
    {
     "name": "stderr",
     "output_type": "stream",
     "text": [
      "/Users/karlberb/miniforge3/envs/tf_M1_py3dot9/lib/python3.9/site-packages/keras/engine/training_v1.py:2356: UserWarning: `Model.state_updates` will be removed in a future version. This property should not be used in TensorFlow 2.0, as `updates` are applied automatically.\n",
      "  updates=self.state_updates,\n",
      "2022-11-17 14:12:32.719911: I tensorflow/core/grappler/optimizers/custom_graph_optimizer_registry.cc:114] Plugin optimizer for device_type GPU is enabled.\n",
      "2022-11-17 14:12:33.183990: I tensorflow/core/grappler/optimizers/custom_graph_optimizer_registry.cc:114] Plugin optimizer for device_type GPU is enabled.\n"
     ]
    },
    {
     "name": "stdout",
     "output_type": "stream",
     "text": [
      "THYM done\n",
      " \n"
     ]
    },
    {
     "name": "stderr",
     "output_type": "stream",
     "text": [
      "2022-11-17 14:12:33.984187: I tensorflow/core/grappler/optimizers/custom_graph_optimizer_registry.cc:114] Plugin optimizer for device_type GPU is enabled.\n"
     ]
    },
    {
     "name": "stdout",
     "output_type": "stream",
     "text": [
      "WARNING:tensorflow:Output {0} missing from loss dictionary. We assume this was done on purpose. The fit and evaluate APIs will not be expecting any data to be passed to custom_variational_layer_28.\n"
     ]
    },
    {
     "name": "stderr",
     "output_type": "stream",
     "text": [
      "2022-11-17 14:12:34.372122: I tensorflow/core/grappler/optimizers/custom_graph_optimizer_registry.cc:114] Plugin optimizer for device_type GPU is enabled.\n",
      "2022-11-17 14:12:34.486715: I tensorflow/core/grappler/optimizers/custom_graph_optimizer_registry.cc:114] Plugin optimizer for device_type GPU is enabled.\n"
     ]
    },
    {
     "name": "stdout",
     "output_type": "stream",
     "text": [
      "Train on 7510 samples\n",
      "Epoch 1/35\n"
     ]
    },
    {
     "name": "stderr",
     "output_type": "stream",
     "text": [
      "2022-11-17 14:12:34.998375: I tensorflow/core/grappler/optimizers/custom_graph_optimizer_registry.cc:114] Plugin optimizer for device_type GPU is enabled.\n",
      "2022-11-17 14:12:35.389832: I tensorflow/core/grappler/optimizers/custom_graph_optimizer_registry.cc:114] Plugin optimizer for device_type GPU is enabled.\n",
      "2022-11-17 14:12:35.497432: I tensorflow/core/grappler/optimizers/custom_graph_optimizer_registry.cc:114] Plugin optimizer for device_type GPU is enabled.\n"
     ]
    },
    {
     "name": "stdout",
     "output_type": "stream",
     "text": [
      "7510/7510 [==============================] - 4s 578us/sample - loss: 2721.9791\n",
      "Epoch 2/35\n",
      " 450/7510 [>.............................] - ETA: 1s - loss: 2476.1316"
     ]
    },
    {
     "name": "stderr",
     "output_type": "stream",
     "text": [
      "2022-11-17 14:12:38.955604: I tensorflow/core/grappler/optimizers/custom_graph_optimizer_registry.cc:114] Plugin optimizer for device_type GPU is enabled.\n"
     ]
    },
    {
     "name": "stdout",
     "output_type": "stream",
     "text": [
      "7510/7510 [==============================] - 2s 271us/sample - loss: 2434.6886\n",
      "Epoch 3/35\n",
      "7510/7510 [==============================] - 2s 284us/sample - loss: 2389.3819\n",
      "Epoch 4/35\n",
      "7510/7510 [==============================] - 2s 279us/sample - loss: 2363.0815\n",
      "Epoch 5/35\n",
      "7510/7510 [==============================] - 2s 275us/sample - loss: 2344.2301\n",
      "Epoch 6/35\n",
      "7510/7510 [==============================] - 2s 283us/sample - loss: 2331.0216\n",
      "Epoch 7/35\n",
      "7510/7510 [==============================] - 2s 274us/sample - loss: 2321.8826\n",
      "Epoch 8/35\n",
      "7510/7510 [==============================] - 2s 284us/sample - loss: 2315.4345\n",
      "Epoch 9/35\n",
      "7510/7510 [==============================] - 2s 287us/sample - loss: 2309.4558\n",
      "Epoch 10/35\n",
      "7510/7510 [==============================] - 2s 280us/sample - loss: 2305.8326\n",
      "Epoch 11/35\n",
      "7510/7510 [==============================] - 2s 281us/sample - loss: 2301.7023\n",
      "Epoch 12/35\n",
      "7510/7510 [==============================] - 2s 281us/sample - loss: 2299.0956\n",
      "Epoch 13/35\n",
      "7510/7510 [==============================] - 2s 283us/sample - loss: 2296.0897\n",
      "Epoch 14/35\n",
      "7510/7510 [==============================] - 2s 292us/sample - loss: 2293.4393\n",
      "Epoch 15/35\n",
      "7510/7510 [==============================] - 2s 283us/sample - loss: 2291.7348\n",
      "Epoch 16/35\n",
      "7510/7510 [==============================] - 2s 285us/sample - loss: 2290.0338\n",
      "Epoch 17/35\n",
      "7510/7510 [==============================] - 2s 288us/sample - loss: 2288.0717\n",
      "Epoch 18/35\n",
      "7510/7510 [==============================] - 2s 281us/sample - loss: 2286.8749\n",
      "Epoch 19/35\n",
      "7510/7510 [==============================] - 2s 281us/sample - loss: 2285.6339\n",
      "Epoch 20/35\n",
      "7510/7510 [==============================] - 2s 283us/sample - loss: 2284.5907\n",
      "Epoch 21/35\n",
      "7510/7510 [==============================] - 2s 279us/sample - loss: 2283.7452\n",
      "Epoch 22/35\n",
      "7510/7510 [==============================] - 2s 279us/sample - loss: 2282.6744\n",
      "Epoch 23/35\n",
      "7510/7510 [==============================] - 2s 279us/sample - loss: 2281.7991\n",
      "Epoch 24/35\n",
      "7510/7510 [==============================] - 2s 279us/sample - loss: 2280.9862\n",
      "Epoch 25/35\n",
      "7510/7510 [==============================] - 2s 277us/sample - loss: 2280.3302\n",
      "Epoch 26/35\n",
      "7510/7510 [==============================] - 2s 278us/sample - loss: 2279.9266\n",
      "Epoch 27/35\n",
      "7510/7510 [==============================] - 2s 285us/sample - loss: 2279.2503\n",
      "Epoch 28/35\n",
      "7510/7510 [==============================] - 2s 283us/sample - loss: 2279.1440\n",
      "Epoch 29/35\n",
      "7510/7510 [==============================] - 2s 282us/sample - loss: 2278.3162\n",
      "Epoch 30/35\n",
      "7510/7510 [==============================] - 2s 288us/sample - loss: 2277.7962\n",
      "Epoch 31/35\n",
      "7510/7510 [==============================] - 2s 287us/sample - loss: 2277.2206\n",
      "Epoch 32/35\n",
      "7510/7510 [==============================] - 2s 286us/sample - loss: 2276.9980\n",
      "Epoch 33/35\n",
      "7510/7510 [==============================] - 2s 290us/sample - loss: 2276.7458\n",
      "Epoch 34/35\n",
      "7510/7510 [==============================] - 2s 283us/sample - loss: 2276.4758\n",
      "Epoch 35/35\n",
      "7510/7510 [==============================] - 2s 289us/sample - loss: 2276.4072\n"
     ]
    },
    {
     "name": "stderr",
     "output_type": "stream",
     "text": [
      "/Users/karlberb/miniforge3/envs/tf_M1_py3dot9/lib/python3.9/site-packages/keras/engine/training_v1.py:2356: UserWarning: `Model.state_updates` will be removed in a future version. This property should not be used in TensorFlow 2.0, as `updates` are applied automatically.\n",
      "  updates=self.state_updates,\n",
      "2022-11-17 14:13:51.540978: I tensorflow/core/grappler/optimizers/custom_graph_optimizer_registry.cc:114] Plugin optimizer for device_type GPU is enabled.\n",
      "2022-11-17 14:13:52.059975: I tensorflow/core/grappler/optimizers/custom_graph_optimizer_registry.cc:114] Plugin optimizer for device_type GPU is enabled.\n"
     ]
    },
    {
     "name": "stdout",
     "output_type": "stream",
     "text": [
      "UCEC done\n",
      " \n"
     ]
    },
    {
     "name": "stderr",
     "output_type": "stream",
     "text": [
      "2022-11-17 14:13:53.822237: I tensorflow/core/grappler/optimizers/custom_graph_optimizer_registry.cc:114] Plugin optimizer for device_type GPU is enabled.\n"
     ]
    },
    {
     "name": "stdout",
     "output_type": "stream",
     "text": [
      "WARNING:tensorflow:Output {0} missing from loss dictionary. We assume this was done on purpose. The fit and evaluate APIs will not be expecting any data to be passed to custom_variational_layer_29.\n"
     ]
    },
    {
     "name": "stderr",
     "output_type": "stream",
     "text": [
      "2022-11-17 14:13:54.216168: I tensorflow/core/grappler/optimizers/custom_graph_optimizer_registry.cc:114] Plugin optimizer for device_type GPU is enabled.\n",
      "2022-11-17 14:13:54.329507: I tensorflow/core/grappler/optimizers/custom_graph_optimizer_registry.cc:114] Plugin optimizer for device_type GPU is enabled.\n"
     ]
    },
    {
     "name": "stdout",
     "output_type": "stream",
     "text": [
      "Train on 7935 samples\n",
      "Epoch 1/35\n"
     ]
    },
    {
     "name": "stderr",
     "output_type": "stream",
     "text": [
      "2022-11-17 14:13:54.849863: I tensorflow/core/grappler/optimizers/custom_graph_optimizer_registry.cc:114] Plugin optimizer for device_type GPU is enabled.\n",
      "2022-11-17 14:13:55.252698: I tensorflow/core/grappler/optimizers/custom_graph_optimizer_registry.cc:114] Plugin optimizer for device_type GPU is enabled.\n",
      "2022-11-17 14:13:55.362732: I tensorflow/core/grappler/optimizers/custom_graph_optimizer_registry.cc:114] Plugin optimizer for device_type GPU is enabled.\n"
     ]
    },
    {
     "name": "stdout",
     "output_type": "stream",
     "text": [
      "7935/7935 [==============================] - 4s 566us/sample - loss: 2698.9256\n",
      "Epoch 2/35\n",
      " 450/7935 [>.............................] - ETA: 2s - loss: 2457.7089"
     ]
    },
    {
     "name": "stderr",
     "output_type": "stream",
     "text": [
      "2022-11-17 14:13:58.943202: I tensorflow/core/grappler/optimizers/custom_graph_optimizer_registry.cc:114] Plugin optimizer for device_type GPU is enabled.\n"
     ]
    },
    {
     "name": "stdout",
     "output_type": "stream",
     "text": [
      "7935/7935 [==============================] - 2s 287us/sample - loss: 2416.0437\n",
      "Epoch 3/35\n",
      "7935/7935 [==============================] - 2s 283us/sample - loss: 2372.7990\n",
      "Epoch 4/35\n",
      "7935/7935 [==============================] - 2s 281us/sample - loss: 2346.5676\n",
      "Epoch 5/35\n",
      "7935/7935 [==============================] - 2s 279us/sample - loss: 2329.3198\n",
      "Epoch 6/35\n",
      "7935/7935 [==============================] - 2s 282us/sample - loss: 2316.7505\n",
      "Epoch 7/35\n",
      "7935/7935 [==============================] - 2s 283us/sample - loss: 2307.8741\n",
      "Epoch 8/35\n",
      "7935/7935 [==============================] - 2s 280us/sample - loss: 2301.0893\n",
      "Epoch 9/35\n",
      "7935/7935 [==============================] - 2s 286us/sample - loss: 2295.8365\n",
      "Epoch 10/35\n",
      "7935/7935 [==============================] - 2s 281us/sample - loss: 2291.6392\n",
      "Epoch 11/35\n",
      "7935/7935 [==============================] - 2s 287us/sample - loss: 2287.7995\n",
      "Epoch 12/35\n",
      "7935/7935 [==============================] - 2s 283us/sample - loss: 2284.7776\n",
      "Epoch 13/35\n",
      "7935/7935 [==============================] - 2s 290us/sample - loss: 2282.0535\n",
      "Epoch 14/35\n",
      "7935/7935 [==============================] - 2s 281us/sample - loss: 2279.7997\n",
      "Epoch 15/35\n",
      "7935/7935 [==============================] - 2s 282us/sample - loss: 2277.5548\n",
      "Epoch 16/35\n",
      "7935/7935 [==============================] - 2s 283us/sample - loss: 2276.3728\n",
      "Epoch 17/35\n",
      "7935/7935 [==============================] - 2s 282us/sample - loss: 2274.3374\n",
      "Epoch 18/35\n",
      "7935/7935 [==============================] - 2s 285us/sample - loss: 2273.0668\n",
      "Epoch 19/35\n",
      "7935/7935 [==============================] - 2s 283us/sample - loss: 2272.4053\n",
      "Epoch 20/35\n",
      "7935/7935 [==============================] - 2s 284us/sample - loss: 2271.2982\n",
      "Epoch 21/35\n",
      "7935/7935 [==============================] - 2s 279us/sample - loss: 2270.4930\n",
      "Epoch 22/35\n",
      "7935/7935 [==============================] - 2s 279us/sample - loss: 2269.8743\n",
      "Epoch 23/35\n",
      "7935/7935 [==============================] - 2s 280us/sample - loss: 2268.7684\n",
      "Epoch 24/35\n",
      "7935/7935 [==============================] - 2s 286us/sample - loss: 2268.4839\n",
      "Epoch 25/35\n",
      "7935/7935 [==============================] - 2s 279us/sample - loss: 2267.6491\n",
      "Epoch 26/35\n",
      "7935/7935 [==============================] - 2s 281us/sample - loss: 2267.3274\n",
      "Epoch 27/35\n",
      "7935/7935 [==============================] - 2s 279us/sample - loss: 2266.5813\n",
      "Epoch 28/35\n",
      "7935/7935 [==============================] - 2s 286us/sample - loss: 2266.0785\n",
      "Epoch 29/35\n",
      "7935/7935 [==============================] - 2s 282us/sample - loss: 2265.8793\n",
      "Epoch 30/35\n",
      "7935/7935 [==============================] - 2s 281us/sample - loss: 2265.3370\n",
      "Epoch 31/35\n",
      "7935/7935 [==============================] - 2s 278us/sample - loss: 2265.2499\n",
      "Epoch 32/35\n",
      "7935/7935 [==============================] - 2s 285us/sample - loss: 2264.7435\n",
      "Epoch 33/35\n",
      "7935/7935 [==============================] - 2s 286us/sample - loss: 2263.8763\n",
      "Epoch 34/35\n",
      "7935/7935 [==============================] - 2s 285us/sample - loss: 2263.9611\n",
      "Epoch 35/35\n",
      "7935/7935 [==============================] - 2s 283us/sample - loss: 2263.6369\n"
     ]
    },
    {
     "name": "stderr",
     "output_type": "stream",
     "text": [
      "/Users/karlberb/miniforge3/envs/tf_M1_py3dot9/lib/python3.9/site-packages/keras/engine/training_v1.py:2356: UserWarning: `Model.state_updates` will be removed in a future version. This property should not be used in TensorFlow 2.0, as `updates` are applied automatically.\n",
      "  updates=self.state_updates,\n",
      "2022-11-17 14:15:15.705817: I tensorflow/core/grappler/optimizers/custom_graph_optimizer_registry.cc:114] Plugin optimizer for device_type GPU is enabled.\n",
      "2022-11-17 14:15:16.168387: I tensorflow/core/grappler/optimizers/custom_graph_optimizer_registry.cc:114] Plugin optimizer for device_type GPU is enabled.\n"
     ]
    },
    {
     "name": "stdout",
     "output_type": "stream",
     "text": [
      "UVM done\n",
      " \n",
      "Train-on-all experiment done\n"
     ]
    }
   ],
   "source": [
    "# Train-on-one using within-cohort normed data\n",
    "# for c in stacked.Labels.str.split('_').str[0].unique():\n",
    "c_lst = full_stack.Labels.str.split('_').str[0].unique()\n",
    "# c_lst = ['ACC', 'BLCA'] # Devel cohort control\n",
    "plt_v = 17\n",
    "nrm_wthn_pths = sorted(glob.glob('data_GEXP_5k_col_norm/*.tsv'))   \n",
    "for c in c_lst:\n",
    "    stack_less_one = full_stack[~full_stack.Labels.str.contains(c)]\n",
    "    decode_df = full_stack[full_stack.Labels.str.contains(c)]\n",
    "    # break\n",
    "    features = stack_less_one.columns[1:]\n",
    "    \n",
    "    original_dim = len(features)\n",
    "    feature_dim = len(features)\n",
    "    latent_dim = 100\n",
    "    \n",
    "    encoder_inputs = keras.Input(shape=(feature_dim,))\n",
    "    z_mean_dense_linear = layers.Dense(latent_dim, kernel_initializer='glorot_uniform', name=\"encoder_1\")(encoder_inputs)\n",
    "    z_mean_dense_batchnorm = layers.BatchNormalization()(z_mean_dense_linear)\n",
    "    z_mean_encoded = layers.Activation('relu')(z_mean_dense_batchnorm)\n",
    "\n",
    "    z_log_var_dense_linear = layers.Dense(latent_dim, kernel_initializer='glorot_uniform', name=\"encoder_2\")(encoder_inputs)\n",
    "    z_log_var_dense_batchnorm = layers.BatchNormalization()(z_log_var_dense_linear)\n",
    "    z_log_var_encoded = layers.Activation('relu')(z_log_var_dense_batchnorm)\n",
    "\n",
    "    latent_space = layers.Lambda(compute_latent, output_shape=(latent_dim,), name=\"latent_space\")([z_mean_encoded, z_log_var_encoded])\n",
    "\n",
    "    decoder_to_reconstruct = layers.Dense(feature_dim, kernel_initializer='glorot_uniform', activation='sigmoid')\n",
    "    decoder_outputs = decoder_to_reconstruct(latent_space)\n",
    "\n",
    "    learning_rate = 0.0005\n",
    "    kappa = 1\n",
    "\n",
    "    beta = K.variable(0)\n",
    "\n",
    "    adam = optimizers.Adam(learning_rate=learning_rate)\n",
    "    vae_layer = CustomVariationalLayer()([encoder_inputs, decoder_outputs])\n",
    "    vae = Model(encoder_inputs, vae_layer)\n",
    "    vae.compile(optimizer=adam, loss=None, loss_weights=[beta])\n",
    "\n",
    "    epochs=35\n",
    "\n",
    "    fit_start = time.time()\n",
    "    history = vae.fit(stack_less_one.iloc[:, 1:],  #       <-------- fit the VAE here\n",
    "                epochs=epochs, batch_size=50, shuffle=True,\n",
    "                callbacks=[WarmUpCallback(beta, kappa)],\n",
    "                     # verbose=0 #  <---------------------- turn this on for production\n",
    "                     )\n",
    "    fit_end = time.time() - fit_start\n",
    "\n",
    "    plt.plot(history.history['loss'],label=\"loss\")\n",
    "\n",
    "    plt.title(\n",
    "        c+' held out from fitting'+\n",
    "        '\\nTybalt VAE train\\n'\n",
    "             )\n",
    "    plt.xlabel('Epoch')\n",
    "    plt.ylabel('Loss')\n",
    "    plt.annotate('Feature set = '+'common MAD 5000k'+\n",
    "                 '\\nLatent dim = '+str(latent_dim)+\n",
    "                 '\\nLayer type = dense'+\n",
    "                 '\\nNormalization = divide by max(),\\n'+\n",
    "                 '                       column-wise,\\n'+\n",
    "                 '                       within each cohort'+\n",
    "                 '\\nFit time = '+str(round(fit_end,2 )),\n",
    "                xy=(.4, .8), xycoords='figure fraction',\n",
    "                horizontalalignment='left', verticalalignment='top',\n",
    "                )\n",
    "\n",
    "    plt.legend(loc=\"lower left\")\n",
    "    plt.savefig(\n",
    "        'train-on-all_loss_plots/'+c+'_held_out_'+\n",
    "        '_fit_on_n=24_cohorts_'+str(plt_v)+'.png', bbox_inches='tight') # version 17, norm within cohort\n",
    "    plt.close()\n",
    "        \n",
    "    encoder = Model(encoder_inputs, z_mean_encoded)\n",
    "    decoder_input = keras.Input(shape=(latent_dim, ))\n",
    "    _x_decoded_mean = decoder_to_reconstruct(decoder_input)\n",
    "    decoder = Model(decoder_input, _x_decoded_mean)\n",
    "\n",
    "    y_df = decode_df.Labels\n",
    "\n",
    "    decoded = pd.DataFrame(decoder.predict(encoder.predict(decode_df.iloc[:, 1:])),\n",
    "                           index=decode_df.index, columns=decode_df.iloc[:, 1:].columns)\n",
    "    \n",
    "    latent_object = pd.DataFrame(encoder.predict(decode_df.iloc[:, 1:]),\n",
    "                 index=decode_df.index,\n",
    "                    # columns=decode_df.iloc[:, 1:].columns # Columns are different because this is latent space\n",
    "            )\n",
    "    latent_object.index.name = c\n",
    "    latent_object.to_csv('train-on-all_latent_objects/trn-on-n24_'+c+'_latent_object.tsv',\n",
    "        sep = '\\t')\n",
    "    # break\n",
    "    decoded_labeled = pd.concat( [pd.DataFrame(y_df), decoded] , axis =1)\n",
    "    decoded_labeled.to_csv(\n",
    "        'train-on-all_decoded/trn-on-n24_'+c+'_decoded,'+\n",
    "        str(round(fit_end,2))+'_fit_time.tsv',\n",
    "        sep = '\\t')\n",
    "\n",
    "    print(str(c) + ' done')\n",
    "    print(' ')\n",
    "    # break\n",
    "print('Train-on-all experiment done')"
   ]
  },
  {
   "cell_type": "code",
   "execution_count": 54,
   "id": "e12b63ae-28eb-4935-a13a-61bbeed51cc3",
   "metadata": {},
   "outputs": [],
   "source": [
    "latent_object.index.name = c"
   ]
  },
  {
   "cell_type": "code",
   "execution_count": 55,
   "id": "c7f41605-4ac9-4de5-98a0-7f30c03e643a",
   "metadata": {},
   "outputs": [
    {
     "data": {
      "text/html": [
       "<div>\n",
       "<style scoped>\n",
       "    .dataframe tbody tr th:only-of-type {\n",
       "        vertical-align: middle;\n",
       "    }\n",
       "\n",
       "    .dataframe tbody tr th {\n",
       "        vertical-align: top;\n",
       "    }\n",
       "\n",
       "    .dataframe thead th {\n",
       "        text-align: right;\n",
       "    }\n",
       "</style>\n",
       "<table border=\"1\" class=\"dataframe\">\n",
       "  <thead>\n",
       "    <tr style=\"text-align: right;\">\n",
       "      <th></th>\n",
       "      <th>0</th>\n",
       "      <th>1</th>\n",
       "      <th>2</th>\n",
       "      <th>3</th>\n",
       "      <th>4</th>\n",
       "      <th>5</th>\n",
       "      <th>6</th>\n",
       "      <th>7</th>\n",
       "      <th>8</th>\n",
       "      <th>9</th>\n",
       "      <th>...</th>\n",
       "      <th>90</th>\n",
       "      <th>91</th>\n",
       "      <th>92</th>\n",
       "      <th>93</th>\n",
       "      <th>94</th>\n",
       "      <th>95</th>\n",
       "      <th>96</th>\n",
       "      <th>97</th>\n",
       "      <th>98</th>\n",
       "      <th>99</th>\n",
       "    </tr>\n",
       "    <tr>\n",
       "      <th>BLCA</th>\n",
       "      <th></th>\n",
       "      <th></th>\n",
       "      <th></th>\n",
       "      <th></th>\n",
       "      <th></th>\n",
       "      <th></th>\n",
       "      <th></th>\n",
       "      <th></th>\n",
       "      <th></th>\n",
       "      <th></th>\n",
       "      <th></th>\n",
       "      <th></th>\n",
       "      <th></th>\n",
       "      <th></th>\n",
       "      <th></th>\n",
       "      <th></th>\n",
       "      <th></th>\n",
       "      <th></th>\n",
       "      <th></th>\n",
       "      <th></th>\n",
       "      <th></th>\n",
       "    </tr>\n",
       "  </thead>\n",
       "  <tbody>\n",
       "    <tr>\n",
       "      <th>TCGA-2F-A9KO</th>\n",
       "      <td>0.000000</td>\n",
       "      <td>0.000000</td>\n",
       "      <td>0.606011</td>\n",
       "      <td>1.346400</td>\n",
       "      <td>0.912834</td>\n",
       "      <td>0.801650</td>\n",
       "      <td>0.000000</td>\n",
       "      <td>0.000000</td>\n",
       "      <td>0.042244</td>\n",
       "      <td>1.362930</td>\n",
       "      <td>...</td>\n",
       "      <td>1.296238</td>\n",
       "      <td>0.006343</td>\n",
       "      <td>0.421620</td>\n",
       "      <td>1.418529</td>\n",
       "      <td>0.787730</td>\n",
       "      <td>0.112657</td>\n",
       "      <td>0.663817</td>\n",
       "      <td>0.119403</td>\n",
       "      <td>0.212188</td>\n",
       "      <td>1.025270</td>\n",
       "    </tr>\n",
       "    <tr>\n",
       "      <th>TCGA-2F-A9KP</th>\n",
       "      <td>0.288308</td>\n",
       "      <td>0.225680</td>\n",
       "      <td>1.369809</td>\n",
       "      <td>1.509376</td>\n",
       "      <td>0.805904</td>\n",
       "      <td>0.040974</td>\n",
       "      <td>0.000000</td>\n",
       "      <td>0.000000</td>\n",
       "      <td>0.578807</td>\n",
       "      <td>0.038450</td>\n",
       "      <td>...</td>\n",
       "      <td>0.838576</td>\n",
       "      <td>0.086969</td>\n",
       "      <td>1.046012</td>\n",
       "      <td>0.640437</td>\n",
       "      <td>0.017200</td>\n",
       "      <td>0.000000</td>\n",
       "      <td>0.805915</td>\n",
       "      <td>0.216522</td>\n",
       "      <td>0.541130</td>\n",
       "      <td>0.743966</td>\n",
       "    </tr>\n",
       "    <tr>\n",
       "      <th>TCGA-2F-A9KQ</th>\n",
       "      <td>0.174633</td>\n",
       "      <td>0.113791</td>\n",
       "      <td>0.500337</td>\n",
       "      <td>1.979563</td>\n",
       "      <td>0.604503</td>\n",
       "      <td>0.557613</td>\n",
       "      <td>0.000000</td>\n",
       "      <td>0.257109</td>\n",
       "      <td>0.785105</td>\n",
       "      <td>0.438577</td>\n",
       "      <td>...</td>\n",
       "      <td>0.824561</td>\n",
       "      <td>0.000000</td>\n",
       "      <td>1.326405</td>\n",
       "      <td>0.762011</td>\n",
       "      <td>0.524845</td>\n",
       "      <td>0.401829</td>\n",
       "      <td>0.781440</td>\n",
       "      <td>0.202172</td>\n",
       "      <td>0.163461</td>\n",
       "      <td>0.468314</td>\n",
       "    </tr>\n",
       "    <tr>\n",
       "      <th>TCGA-2F-A9KR</th>\n",
       "      <td>0.389048</td>\n",
       "      <td>0.000000</td>\n",
       "      <td>0.000000</td>\n",
       "      <td>2.456492</td>\n",
       "      <td>0.667225</td>\n",
       "      <td>0.878729</td>\n",
       "      <td>0.000000</td>\n",
       "      <td>0.432306</td>\n",
       "      <td>1.628833</td>\n",
       "      <td>0.305893</td>\n",
       "      <td>...</td>\n",
       "      <td>1.777221</td>\n",
       "      <td>0.000000</td>\n",
       "      <td>0.462008</td>\n",
       "      <td>1.360465</td>\n",
       "      <td>0.411681</td>\n",
       "      <td>0.000000</td>\n",
       "      <td>1.109046</td>\n",
       "      <td>0.634260</td>\n",
       "      <td>0.341119</td>\n",
       "      <td>0.884869</td>\n",
       "    </tr>\n",
       "    <tr>\n",
       "      <th>TCGA-2F-A9KT</th>\n",
       "      <td>2.024923</td>\n",
       "      <td>0.000000</td>\n",
       "      <td>1.488242</td>\n",
       "      <td>1.318837</td>\n",
       "      <td>1.024441</td>\n",
       "      <td>1.242546</td>\n",
       "      <td>0.000000</td>\n",
       "      <td>1.081394</td>\n",
       "      <td>1.904202</td>\n",
       "      <td>0.000000</td>\n",
       "      <td>...</td>\n",
       "      <td>1.413479</td>\n",
       "      <td>0.322844</td>\n",
       "      <td>0.348878</td>\n",
       "      <td>0.065319</td>\n",
       "      <td>0.000000</td>\n",
       "      <td>0.000000</td>\n",
       "      <td>0.992222</td>\n",
       "      <td>0.409808</td>\n",
       "      <td>0.731071</td>\n",
       "      <td>0.585544</td>\n",
       "    </tr>\n",
       "    <tr>\n",
       "      <th>...</th>\n",
       "      <td>...</td>\n",
       "      <td>...</td>\n",
       "      <td>...</td>\n",
       "      <td>...</td>\n",
       "      <td>...</td>\n",
       "      <td>...</td>\n",
       "      <td>...</td>\n",
       "      <td>...</td>\n",
       "      <td>...</td>\n",
       "      <td>...</td>\n",
       "      <td>...</td>\n",
       "      <td>...</td>\n",
       "      <td>...</td>\n",
       "      <td>...</td>\n",
       "      <td>...</td>\n",
       "      <td>...</td>\n",
       "      <td>...</td>\n",
       "      <td>...</td>\n",
       "      <td>...</td>\n",
       "      <td>...</td>\n",
       "      <td>...</td>\n",
       "    </tr>\n",
       "    <tr>\n",
       "      <th>TCGA-ZF-AA56</th>\n",
       "      <td>0.076250</td>\n",
       "      <td>0.000000</td>\n",
       "      <td>0.939976</td>\n",
       "      <td>2.171430</td>\n",
       "      <td>1.281768</td>\n",
       "      <td>0.914050</td>\n",
       "      <td>0.000000</td>\n",
       "      <td>0.000000</td>\n",
       "      <td>0.920151</td>\n",
       "      <td>0.000000</td>\n",
       "      <td>...</td>\n",
       "      <td>0.615883</td>\n",
       "      <td>0.000000</td>\n",
       "      <td>0.909881</td>\n",
       "      <td>0.824910</td>\n",
       "      <td>0.022802</td>\n",
       "      <td>0.000000</td>\n",
       "      <td>1.874989</td>\n",
       "      <td>0.050035</td>\n",
       "      <td>1.136423</td>\n",
       "      <td>0.450029</td>\n",
       "    </tr>\n",
       "    <tr>\n",
       "      <th>TCGA-ZF-AA58</th>\n",
       "      <td>0.101546</td>\n",
       "      <td>0.000000</td>\n",
       "      <td>1.548029</td>\n",
       "      <td>0.753259</td>\n",
       "      <td>0.669541</td>\n",
       "      <td>0.000000</td>\n",
       "      <td>2.219252</td>\n",
       "      <td>0.719016</td>\n",
       "      <td>0.000000</td>\n",
       "      <td>1.374755</td>\n",
       "      <td>...</td>\n",
       "      <td>0.013495</td>\n",
       "      <td>0.000000</td>\n",
       "      <td>1.067261</td>\n",
       "      <td>0.000000</td>\n",
       "      <td>0.000000</td>\n",
       "      <td>1.216576</td>\n",
       "      <td>0.411895</td>\n",
       "      <td>0.000000</td>\n",
       "      <td>0.156087</td>\n",
       "      <td>0.000000</td>\n",
       "    </tr>\n",
       "    <tr>\n",
       "      <th>TCGA-ZF-AA5H</th>\n",
       "      <td>1.541133</td>\n",
       "      <td>1.062936</td>\n",
       "      <td>2.174954</td>\n",
       "      <td>1.016264</td>\n",
       "      <td>0.912118</td>\n",
       "      <td>0.803701</td>\n",
       "      <td>2.345641</td>\n",
       "      <td>1.474476</td>\n",
       "      <td>0.166684</td>\n",
       "      <td>0.000000</td>\n",
       "      <td>...</td>\n",
       "      <td>0.000000</td>\n",
       "      <td>0.000000</td>\n",
       "      <td>1.174279</td>\n",
       "      <td>0.000000</td>\n",
       "      <td>0.000000</td>\n",
       "      <td>1.799553</td>\n",
       "      <td>1.559334</td>\n",
       "      <td>0.334298</td>\n",
       "      <td>0.159321</td>\n",
       "      <td>0.000000</td>\n",
       "    </tr>\n",
       "    <tr>\n",
       "      <th>TCGA-ZF-AA5N</th>\n",
       "      <td>0.807208</td>\n",
       "      <td>0.000000</td>\n",
       "      <td>2.474444</td>\n",
       "      <td>1.837770</td>\n",
       "      <td>0.869297</td>\n",
       "      <td>0.104512</td>\n",
       "      <td>0.568800</td>\n",
       "      <td>0.788111</td>\n",
       "      <td>0.000000</td>\n",
       "      <td>0.433905</td>\n",
       "      <td>...</td>\n",
       "      <td>0.551629</td>\n",
       "      <td>0.000000</td>\n",
       "      <td>0.918376</td>\n",
       "      <td>0.000000</td>\n",
       "      <td>0.140257</td>\n",
       "      <td>0.223592</td>\n",
       "      <td>1.860273</td>\n",
       "      <td>0.000000</td>\n",
       "      <td>0.544417</td>\n",
       "      <td>0.000000</td>\n",
       "    </tr>\n",
       "    <tr>\n",
       "      <th>TCGA-ZF-AA5P</th>\n",
       "      <td>0.000000</td>\n",
       "      <td>0.000000</td>\n",
       "      <td>1.665622</td>\n",
       "      <td>0.000000</td>\n",
       "      <td>1.426144</td>\n",
       "      <td>0.100391</td>\n",
       "      <td>4.001244</td>\n",
       "      <td>0.000000</td>\n",
       "      <td>0.000000</td>\n",
       "      <td>1.182450</td>\n",
       "      <td>...</td>\n",
       "      <td>0.000000</td>\n",
       "      <td>0.000000</td>\n",
       "      <td>0.000000</td>\n",
       "      <td>0.662137</td>\n",
       "      <td>0.000000</td>\n",
       "      <td>0.000000</td>\n",
       "      <td>0.530275</td>\n",
       "      <td>0.342544</td>\n",
       "      <td>0.522306</td>\n",
       "      <td>0.000000</td>\n",
       "    </tr>\n",
       "  </tbody>\n",
       "</table>\n",
       "<p>399 rows × 100 columns</p>\n",
       "</div>"
      ],
      "text/plain": [
       "                    0         1         2         3         4         5   \\\n",
       "BLCA                                                                       \n",
       "TCGA-2F-A9KO  0.000000  0.000000  0.606011  1.346400  0.912834  0.801650   \n",
       "TCGA-2F-A9KP  0.288308  0.225680  1.369809  1.509376  0.805904  0.040974   \n",
       "TCGA-2F-A9KQ  0.174633  0.113791  0.500337  1.979563  0.604503  0.557613   \n",
       "TCGA-2F-A9KR  0.389048  0.000000  0.000000  2.456492  0.667225  0.878729   \n",
       "TCGA-2F-A9KT  2.024923  0.000000  1.488242  1.318837  1.024441  1.242546   \n",
       "...                ...       ...       ...       ...       ...       ...   \n",
       "TCGA-ZF-AA56  0.076250  0.000000  0.939976  2.171430  1.281768  0.914050   \n",
       "TCGA-ZF-AA58  0.101546  0.000000  1.548029  0.753259  0.669541  0.000000   \n",
       "TCGA-ZF-AA5H  1.541133  1.062936  2.174954  1.016264  0.912118  0.803701   \n",
       "TCGA-ZF-AA5N  0.807208  0.000000  2.474444  1.837770  0.869297  0.104512   \n",
       "TCGA-ZF-AA5P  0.000000  0.000000  1.665622  0.000000  1.426144  0.100391   \n",
       "\n",
       "                    6         7         8         9   ...        90        91  \\\n",
       "BLCA                                                  ...                       \n",
       "TCGA-2F-A9KO  0.000000  0.000000  0.042244  1.362930  ...  1.296238  0.006343   \n",
       "TCGA-2F-A9KP  0.000000  0.000000  0.578807  0.038450  ...  0.838576  0.086969   \n",
       "TCGA-2F-A9KQ  0.000000  0.257109  0.785105  0.438577  ...  0.824561  0.000000   \n",
       "TCGA-2F-A9KR  0.000000  0.432306  1.628833  0.305893  ...  1.777221  0.000000   \n",
       "TCGA-2F-A9KT  0.000000  1.081394  1.904202  0.000000  ...  1.413479  0.322844   \n",
       "...                ...       ...       ...       ...  ...       ...       ...   \n",
       "TCGA-ZF-AA56  0.000000  0.000000  0.920151  0.000000  ...  0.615883  0.000000   \n",
       "TCGA-ZF-AA58  2.219252  0.719016  0.000000  1.374755  ...  0.013495  0.000000   \n",
       "TCGA-ZF-AA5H  2.345641  1.474476  0.166684  0.000000  ...  0.000000  0.000000   \n",
       "TCGA-ZF-AA5N  0.568800  0.788111  0.000000  0.433905  ...  0.551629  0.000000   \n",
       "TCGA-ZF-AA5P  4.001244  0.000000  0.000000  1.182450  ...  0.000000  0.000000   \n",
       "\n",
       "                    92        93        94        95        96        97  \\\n",
       "BLCA                                                                       \n",
       "TCGA-2F-A9KO  0.421620  1.418529  0.787730  0.112657  0.663817  0.119403   \n",
       "TCGA-2F-A9KP  1.046012  0.640437  0.017200  0.000000  0.805915  0.216522   \n",
       "TCGA-2F-A9KQ  1.326405  0.762011  0.524845  0.401829  0.781440  0.202172   \n",
       "TCGA-2F-A9KR  0.462008  1.360465  0.411681  0.000000  1.109046  0.634260   \n",
       "TCGA-2F-A9KT  0.348878  0.065319  0.000000  0.000000  0.992222  0.409808   \n",
       "...                ...       ...       ...       ...       ...       ...   \n",
       "TCGA-ZF-AA56  0.909881  0.824910  0.022802  0.000000  1.874989  0.050035   \n",
       "TCGA-ZF-AA58  1.067261  0.000000  0.000000  1.216576  0.411895  0.000000   \n",
       "TCGA-ZF-AA5H  1.174279  0.000000  0.000000  1.799553  1.559334  0.334298   \n",
       "TCGA-ZF-AA5N  0.918376  0.000000  0.140257  0.223592  1.860273  0.000000   \n",
       "TCGA-ZF-AA5P  0.000000  0.662137  0.000000  0.000000  0.530275  0.342544   \n",
       "\n",
       "                    98        99  \n",
       "BLCA                              \n",
       "TCGA-2F-A9KO  0.212188  1.025270  \n",
       "TCGA-2F-A9KP  0.541130  0.743966  \n",
       "TCGA-2F-A9KQ  0.163461  0.468314  \n",
       "TCGA-2F-A9KR  0.341119  0.884869  \n",
       "TCGA-2F-A9KT  0.731071  0.585544  \n",
       "...                ...       ...  \n",
       "TCGA-ZF-AA56  1.136423  0.450029  \n",
       "TCGA-ZF-AA58  0.156087  0.000000  \n",
       "TCGA-ZF-AA5H  0.159321  0.000000  \n",
       "TCGA-ZF-AA5N  0.544417  0.000000  \n",
       "TCGA-ZF-AA5P  0.522306  0.000000  \n",
       "\n",
       "[399 rows x 100 columns]"
      ]
     },
     "execution_count": 55,
     "metadata": {},
     "output_type": "execute_result"
    }
   ],
   "source": [
    "latent_object"
   ]
  },
  {
   "cell_type": "code",
   "execution_count": null,
   "id": "20ec33ac-cef9-46df-a211-e35ff1078207",
   "metadata": {},
   "outputs": [],
   "source": [
    "# Check decoded and latent files"
   ]
  },
  {
   "cell_type": "code",
   "execution_count": 44,
   "id": "c6a000b6-2a63-4593-8a08-66b42aa103ff",
   "metadata": {},
   "outputs": [],
   "source": [
    "path = '/Users/karlberb/Documents/work/sample_count/synthetic_TCGA_data_gen/g_devel/train-on-all_decoded/trn-on-n24_ACC_decoded32.23_fit_time.tsv'"
   ]
  },
  {
   "cell_type": "code",
   "execution_count": 45,
   "id": "d2976d87-f7c4-4488-a639-a70169ba7cad",
   "metadata": {},
   "outputs": [],
   "source": [
    "check_decoded = pd.read_csv(path, sep=\"\\t\", index_col=0)"
   ]
  },
  {
   "cell_type": "code",
   "execution_count": 46,
   "id": "67746f78-002a-435a-957b-dcee0c99c58f",
   "metadata": {
    "collapsed": true,
    "jupyter": {
     "outputs_hidden": true
    },
    "tags": []
   },
   "outputs": [
    {
     "data": {
      "text/html": [
       "<div>\n",
       "<style scoped>\n",
       "    .dataframe tbody tr th:only-of-type {\n",
       "        vertical-align: middle;\n",
       "    }\n",
       "\n",
       "    .dataframe tbody tr th {\n",
       "        vertical-align: top;\n",
       "    }\n",
       "\n",
       "    .dataframe thead th {\n",
       "        text-align: right;\n",
       "    }\n",
       "</style>\n",
       "<table border=\"1\" class=\"dataframe\">\n",
       "  <thead>\n",
       "    <tr style=\"text-align: right;\">\n",
       "      <th></th>\n",
       "      <th>Labels</th>\n",
       "      <th>N:GEXP::ALB:213:</th>\n",
       "      <th>N:GEXP::TG:7038:</th>\n",
       "      <th>N:GEXP::COL1A1:1277:</th>\n",
       "      <th>N:GEXP::FN1:2335:</th>\n",
       "      <th>N:GEXP::KRT5:3852:</th>\n",
       "      <th>N:GEXP::KRT14:3861:</th>\n",
       "      <th>N:GEXP::KRT6A:3853:</th>\n",
       "      <th>N:GEXP::ADAM6:8755:</th>\n",
       "      <th>N:GEXP::SERPINA1:5265:</th>\n",
       "      <th>...</th>\n",
       "      <th>N:GEXP::C14orf1:11161:</th>\n",
       "      <th>N:GEXP::SMCHD1:23347:</th>\n",
       "      <th>N:GEXP::ARL2BP:23568:</th>\n",
       "      <th>N:GEXP::PITPNB:23760:</th>\n",
       "      <th>N:GEXP::KDM5A:5927:</th>\n",
       "      <th>N:GEXP::CNIH:10175:</th>\n",
       "      <th>N:GEXP::ACADS:35:</th>\n",
       "      <th>N:GEXP::YIPF2:78992:</th>\n",
       "      <th>N:GEXP::MEPCE:56257:</th>\n",
       "      <th>N:GEXP::PPARG:5468:</th>\n",
       "    </tr>\n",
       "  </thead>\n",
       "  <tbody>\n",
       "    <tr>\n",
       "      <th>TCGA-OR-A5J1</th>\n",
       "      <td>ACC_2</td>\n",
       "      <td>0.073418</td>\n",
       "      <td>0.147307</td>\n",
       "      <td>0.031702</td>\n",
       "      <td>0.038209</td>\n",
       "      <td>0.020634</td>\n",
       "      <td>0.019491</td>\n",
       "      <td>0.010490</td>\n",
       "      <td>0.025941</td>\n",
       "      <td>0.078065</td>\n",
       "      <td>...</td>\n",
       "      <td>0.574548</td>\n",
       "      <td>0.389574</td>\n",
       "      <td>0.573389</td>\n",
       "      <td>0.544395</td>\n",
       "      <td>0.360301</td>\n",
       "      <td>0.504379</td>\n",
       "      <td>0.423794</td>\n",
       "      <td>0.447221</td>\n",
       "      <td>0.398944</td>\n",
       "      <td>0.227983</td>\n",
       "    </tr>\n",
       "    <tr>\n",
       "      <th>TCGA-OR-A5J2</th>\n",
       "      <td>ACC_2</td>\n",
       "      <td>0.030036</td>\n",
       "      <td>0.191190</td>\n",
       "      <td>0.127843</td>\n",
       "      <td>0.242458</td>\n",
       "      <td>0.051320</td>\n",
       "      <td>0.042658</td>\n",
       "      <td>0.051765</td>\n",
       "      <td>0.045808</td>\n",
       "      <td>0.148640</td>\n",
       "      <td>...</td>\n",
       "      <td>0.230981</td>\n",
       "      <td>0.529943</td>\n",
       "      <td>0.484048</td>\n",
       "      <td>0.571946</td>\n",
       "      <td>0.695771</td>\n",
       "      <td>0.510007</td>\n",
       "      <td>0.239454</td>\n",
       "      <td>0.531904</td>\n",
       "      <td>0.496191</td>\n",
       "      <td>0.131224</td>\n",
       "    </tr>\n",
       "    <tr>\n",
       "      <th>TCGA-OR-A5J3</th>\n",
       "      <td>ACC_3</td>\n",
       "      <td>0.101574</td>\n",
       "      <td>0.190120</td>\n",
       "      <td>0.133091</td>\n",
       "      <td>0.175249</td>\n",
       "      <td>0.068187</td>\n",
       "      <td>0.073265</td>\n",
       "      <td>0.080703</td>\n",
       "      <td>0.050058</td>\n",
       "      <td>0.206919</td>\n",
       "      <td>...</td>\n",
       "      <td>0.448891</td>\n",
       "      <td>0.301544</td>\n",
       "      <td>0.547895</td>\n",
       "      <td>0.524885</td>\n",
       "      <td>0.425077</td>\n",
       "      <td>0.590461</td>\n",
       "      <td>0.379475</td>\n",
       "      <td>0.595780</td>\n",
       "      <td>0.492072</td>\n",
       "      <td>0.233061</td>\n",
       "    </tr>\n",
       "    <tr>\n",
       "      <th>TCGA-OR-A5J5</th>\n",
       "      <td>ACC_3</td>\n",
       "      <td>0.084666</td>\n",
       "      <td>0.229070</td>\n",
       "      <td>0.125040</td>\n",
       "      <td>0.083362</td>\n",
       "      <td>0.055047</td>\n",
       "      <td>0.052270</td>\n",
       "      <td>0.022353</td>\n",
       "      <td>0.035620</td>\n",
       "      <td>0.044453</td>\n",
       "      <td>...</td>\n",
       "      <td>0.563271</td>\n",
       "      <td>0.402082</td>\n",
       "      <td>0.420828</td>\n",
       "      <td>0.465709</td>\n",
       "      <td>0.420051</td>\n",
       "      <td>0.323115</td>\n",
       "      <td>0.292053</td>\n",
       "      <td>0.473378</td>\n",
       "      <td>0.516511</td>\n",
       "      <td>0.230934</td>\n",
       "    </tr>\n",
       "    <tr>\n",
       "      <th>TCGA-OR-A5J6</th>\n",
       "      <td>ACC_1</td>\n",
       "      <td>0.180645</td>\n",
       "      <td>0.185286</td>\n",
       "      <td>0.051193</td>\n",
       "      <td>0.104497</td>\n",
       "      <td>0.036366</td>\n",
       "      <td>0.043263</td>\n",
       "      <td>0.033034</td>\n",
       "      <td>0.114559</td>\n",
       "      <td>0.342766</td>\n",
       "      <td>...</td>\n",
       "      <td>0.302504</td>\n",
       "      <td>0.256770</td>\n",
       "      <td>0.453744</td>\n",
       "      <td>0.372566</td>\n",
       "      <td>0.359545</td>\n",
       "      <td>0.461527</td>\n",
       "      <td>0.588254</td>\n",
       "      <td>0.413971</td>\n",
       "      <td>0.380170</td>\n",
       "      <td>0.355213</td>\n",
       "    </tr>\n",
       "    <tr>\n",
       "      <th>...</th>\n",
       "      <td>...</td>\n",
       "      <td>...</td>\n",
       "      <td>...</td>\n",
       "      <td>...</td>\n",
       "      <td>...</td>\n",
       "      <td>...</td>\n",
       "      <td>...</td>\n",
       "      <td>...</td>\n",
       "      <td>...</td>\n",
       "      <td>...</td>\n",
       "      <td>...</td>\n",
       "      <td>...</td>\n",
       "      <td>...</td>\n",
       "      <td>...</td>\n",
       "      <td>...</td>\n",
       "      <td>...</td>\n",
       "      <td>...</td>\n",
       "      <td>...</td>\n",
       "      <td>...</td>\n",
       "      <td>...</td>\n",
       "      <td>...</td>\n",
       "    </tr>\n",
       "    <tr>\n",
       "      <th>TCGA-OU-A5PI</th>\n",
       "      <td>ACC_3</td>\n",
       "      <td>0.066576</td>\n",
       "      <td>0.245109</td>\n",
       "      <td>0.052169</td>\n",
       "      <td>0.123841</td>\n",
       "      <td>0.053968</td>\n",
       "      <td>0.047913</td>\n",
       "      <td>0.043481</td>\n",
       "      <td>0.026307</td>\n",
       "      <td>0.045134</td>\n",
       "      <td>...</td>\n",
       "      <td>0.309225</td>\n",
       "      <td>0.453690</td>\n",
       "      <td>0.573917</td>\n",
       "      <td>0.585920</td>\n",
       "      <td>0.590135</td>\n",
       "      <td>0.550293</td>\n",
       "      <td>0.317906</td>\n",
       "      <td>0.330269</td>\n",
       "      <td>0.468219</td>\n",
       "      <td>0.192450</td>\n",
       "    </tr>\n",
       "    <tr>\n",
       "      <th>TCGA-PA-A5YG</th>\n",
       "      <td>ACC_1</td>\n",
       "      <td>0.087232</td>\n",
       "      <td>0.246409</td>\n",
       "      <td>0.092916</td>\n",
       "      <td>0.194300</td>\n",
       "      <td>0.090525</td>\n",
       "      <td>0.074725</td>\n",
       "      <td>0.091646</td>\n",
       "      <td>0.103958</td>\n",
       "      <td>0.186069</td>\n",
       "      <td>...</td>\n",
       "      <td>0.230191</td>\n",
       "      <td>0.390657</td>\n",
       "      <td>0.627422</td>\n",
       "      <td>0.470588</td>\n",
       "      <td>0.510122</td>\n",
       "      <td>0.591726</td>\n",
       "      <td>0.451206</td>\n",
       "      <td>0.492860</td>\n",
       "      <td>0.484135</td>\n",
       "      <td>0.326528</td>\n",
       "    </tr>\n",
       "    <tr>\n",
       "      <th>TCGA-PK-A5H9</th>\n",
       "      <td>ACC_1</td>\n",
       "      <td>0.147418</td>\n",
       "      <td>0.133628</td>\n",
       "      <td>0.043239</td>\n",
       "      <td>0.104964</td>\n",
       "      <td>0.015833</td>\n",
       "      <td>0.018731</td>\n",
       "      <td>0.016373</td>\n",
       "      <td>0.041694</td>\n",
       "      <td>0.169856</td>\n",
       "      <td>...</td>\n",
       "      <td>0.236903</td>\n",
       "      <td>0.428183</td>\n",
       "      <td>0.434133</td>\n",
       "      <td>0.491068</td>\n",
       "      <td>0.517655</td>\n",
       "      <td>0.339661</td>\n",
       "      <td>0.391444</td>\n",
       "      <td>0.229774</td>\n",
       "      <td>0.283653</td>\n",
       "      <td>0.271234</td>\n",
       "    </tr>\n",
       "    <tr>\n",
       "      <th>TCGA-PK-A5HA</th>\n",
       "      <td>ACC_1</td>\n",
       "      <td>0.016393</td>\n",
       "      <td>0.106773</td>\n",
       "      <td>0.089838</td>\n",
       "      <td>0.190512</td>\n",
       "      <td>0.038944</td>\n",
       "      <td>0.037263</td>\n",
       "      <td>0.042446</td>\n",
       "      <td>0.111982</td>\n",
       "      <td>0.197803</td>\n",
       "      <td>...</td>\n",
       "      <td>0.212212</td>\n",
       "      <td>0.423918</td>\n",
       "      <td>0.447059</td>\n",
       "      <td>0.412843</td>\n",
       "      <td>0.499841</td>\n",
       "      <td>0.439405</td>\n",
       "      <td>0.315867</td>\n",
       "      <td>0.452091</td>\n",
       "      <td>0.464136</td>\n",
       "      <td>0.230124</td>\n",
       "    </tr>\n",
       "    <tr>\n",
       "      <th>TCGA-PK-A5HB</th>\n",
       "      <td>ACC_2</td>\n",
       "      <td>0.009518</td>\n",
       "      <td>0.061272</td>\n",
       "      <td>0.096036</td>\n",
       "      <td>0.180268</td>\n",
       "      <td>0.022712</td>\n",
       "      <td>0.028687</td>\n",
       "      <td>0.026444</td>\n",
       "      <td>0.017191</td>\n",
       "      <td>0.076000</td>\n",
       "      <td>...</td>\n",
       "      <td>0.213221</td>\n",
       "      <td>0.400046</td>\n",
       "      <td>0.435489</td>\n",
       "      <td>0.594149</td>\n",
       "      <td>0.517082</td>\n",
       "      <td>0.598386</td>\n",
       "      <td>0.224793</td>\n",
       "      <td>0.446477</td>\n",
       "      <td>0.344505</td>\n",
       "      <td>0.088632</td>\n",
       "    </tr>\n",
       "  </tbody>\n",
       "</table>\n",
       "<p>76 rows × 5001 columns</p>\n",
       "</div>"
      ],
      "text/plain": [
       "             Labels  N:GEXP::ALB:213:  N:GEXP::TG:7038:  N:GEXP::COL1A1:1277:  \\\n",
       "TCGA-OR-A5J1  ACC_2          0.073418          0.147307              0.031702   \n",
       "TCGA-OR-A5J2  ACC_2          0.030036          0.191190              0.127843   \n",
       "TCGA-OR-A5J3  ACC_3          0.101574          0.190120              0.133091   \n",
       "TCGA-OR-A5J5  ACC_3          0.084666          0.229070              0.125040   \n",
       "TCGA-OR-A5J6  ACC_1          0.180645          0.185286              0.051193   \n",
       "...             ...               ...               ...                   ...   \n",
       "TCGA-OU-A5PI  ACC_3          0.066576          0.245109              0.052169   \n",
       "TCGA-PA-A5YG  ACC_1          0.087232          0.246409              0.092916   \n",
       "TCGA-PK-A5H9  ACC_1          0.147418          0.133628              0.043239   \n",
       "TCGA-PK-A5HA  ACC_1          0.016393          0.106773              0.089838   \n",
       "TCGA-PK-A5HB  ACC_2          0.009518          0.061272              0.096036   \n",
       "\n",
       "              N:GEXP::FN1:2335:  N:GEXP::KRT5:3852:  N:GEXP::KRT14:3861:  \\\n",
       "TCGA-OR-A5J1           0.038209            0.020634             0.019491   \n",
       "TCGA-OR-A5J2           0.242458            0.051320             0.042658   \n",
       "TCGA-OR-A5J3           0.175249            0.068187             0.073265   \n",
       "TCGA-OR-A5J5           0.083362            0.055047             0.052270   \n",
       "TCGA-OR-A5J6           0.104497            0.036366             0.043263   \n",
       "...                         ...                 ...                  ...   \n",
       "TCGA-OU-A5PI           0.123841            0.053968             0.047913   \n",
       "TCGA-PA-A5YG           0.194300            0.090525             0.074725   \n",
       "TCGA-PK-A5H9           0.104964            0.015833             0.018731   \n",
       "TCGA-PK-A5HA           0.190512            0.038944             0.037263   \n",
       "TCGA-PK-A5HB           0.180268            0.022712             0.028687   \n",
       "\n",
       "              N:GEXP::KRT6A:3853:  N:GEXP::ADAM6:8755:  \\\n",
       "TCGA-OR-A5J1             0.010490             0.025941   \n",
       "TCGA-OR-A5J2             0.051765             0.045808   \n",
       "TCGA-OR-A5J3             0.080703             0.050058   \n",
       "TCGA-OR-A5J5             0.022353             0.035620   \n",
       "TCGA-OR-A5J6             0.033034             0.114559   \n",
       "...                           ...                  ...   \n",
       "TCGA-OU-A5PI             0.043481             0.026307   \n",
       "TCGA-PA-A5YG             0.091646             0.103958   \n",
       "TCGA-PK-A5H9             0.016373             0.041694   \n",
       "TCGA-PK-A5HA             0.042446             0.111982   \n",
       "TCGA-PK-A5HB             0.026444             0.017191   \n",
       "\n",
       "              N:GEXP::SERPINA1:5265:  ...  N:GEXP::C14orf1:11161:  \\\n",
       "TCGA-OR-A5J1                0.078065  ...                0.574548   \n",
       "TCGA-OR-A5J2                0.148640  ...                0.230981   \n",
       "TCGA-OR-A5J3                0.206919  ...                0.448891   \n",
       "TCGA-OR-A5J5                0.044453  ...                0.563271   \n",
       "TCGA-OR-A5J6                0.342766  ...                0.302504   \n",
       "...                              ...  ...                     ...   \n",
       "TCGA-OU-A5PI                0.045134  ...                0.309225   \n",
       "TCGA-PA-A5YG                0.186069  ...                0.230191   \n",
       "TCGA-PK-A5H9                0.169856  ...                0.236903   \n",
       "TCGA-PK-A5HA                0.197803  ...                0.212212   \n",
       "TCGA-PK-A5HB                0.076000  ...                0.213221   \n",
       "\n",
       "              N:GEXP::SMCHD1:23347:  N:GEXP::ARL2BP:23568:  \\\n",
       "TCGA-OR-A5J1               0.389574               0.573389   \n",
       "TCGA-OR-A5J2               0.529943               0.484048   \n",
       "TCGA-OR-A5J3               0.301544               0.547895   \n",
       "TCGA-OR-A5J5               0.402082               0.420828   \n",
       "TCGA-OR-A5J6               0.256770               0.453744   \n",
       "...                             ...                    ...   \n",
       "TCGA-OU-A5PI               0.453690               0.573917   \n",
       "TCGA-PA-A5YG               0.390657               0.627422   \n",
       "TCGA-PK-A5H9               0.428183               0.434133   \n",
       "TCGA-PK-A5HA               0.423918               0.447059   \n",
       "TCGA-PK-A5HB               0.400046               0.435489   \n",
       "\n",
       "              N:GEXP::PITPNB:23760:  N:GEXP::KDM5A:5927:  N:GEXP::CNIH:10175:  \\\n",
       "TCGA-OR-A5J1               0.544395             0.360301             0.504379   \n",
       "TCGA-OR-A5J2               0.571946             0.695771             0.510007   \n",
       "TCGA-OR-A5J3               0.524885             0.425077             0.590461   \n",
       "TCGA-OR-A5J5               0.465709             0.420051             0.323115   \n",
       "TCGA-OR-A5J6               0.372566             0.359545             0.461527   \n",
       "...                             ...                  ...                  ...   \n",
       "TCGA-OU-A5PI               0.585920             0.590135             0.550293   \n",
       "TCGA-PA-A5YG               0.470588             0.510122             0.591726   \n",
       "TCGA-PK-A5H9               0.491068             0.517655             0.339661   \n",
       "TCGA-PK-A5HA               0.412843             0.499841             0.439405   \n",
       "TCGA-PK-A5HB               0.594149             0.517082             0.598386   \n",
       "\n",
       "              N:GEXP::ACADS:35:  N:GEXP::YIPF2:78992:  N:GEXP::MEPCE:56257:  \\\n",
       "TCGA-OR-A5J1           0.423794              0.447221              0.398944   \n",
       "TCGA-OR-A5J2           0.239454              0.531904              0.496191   \n",
       "TCGA-OR-A5J3           0.379475              0.595780              0.492072   \n",
       "TCGA-OR-A5J5           0.292053              0.473378              0.516511   \n",
       "TCGA-OR-A5J6           0.588254              0.413971              0.380170   \n",
       "...                         ...                   ...                   ...   \n",
       "TCGA-OU-A5PI           0.317906              0.330269              0.468219   \n",
       "TCGA-PA-A5YG           0.451206              0.492860              0.484135   \n",
       "TCGA-PK-A5H9           0.391444              0.229774              0.283653   \n",
       "TCGA-PK-A5HA           0.315867              0.452091              0.464136   \n",
       "TCGA-PK-A5HB           0.224793              0.446477              0.344505   \n",
       "\n",
       "              N:GEXP::PPARG:5468:  \n",
       "TCGA-OR-A5J1             0.227983  \n",
       "TCGA-OR-A5J2             0.131224  \n",
       "TCGA-OR-A5J3             0.233061  \n",
       "TCGA-OR-A5J5             0.230934  \n",
       "TCGA-OR-A5J6             0.355213  \n",
       "...                           ...  \n",
       "TCGA-OU-A5PI             0.192450  \n",
       "TCGA-PA-A5YG             0.326528  \n",
       "TCGA-PK-A5H9             0.271234  \n",
       "TCGA-PK-A5HA             0.230124  \n",
       "TCGA-PK-A5HB             0.088632  \n",
       "\n",
       "[76 rows x 5001 columns]"
      ]
     },
     "execution_count": 46,
     "metadata": {},
     "output_type": "execute_result"
    }
   ],
   "source": [
    "check_decoded"
   ]
  },
  {
   "cell_type": "code",
   "execution_count": 52,
   "id": "60b05945-0c38-42d9-9601-7f4c572dc578",
   "metadata": {},
   "outputs": [],
   "source": [
    "path = 'train-on-all_latent_objects/trn-on-n24_BLCA_latent_object.tsv'"
   ]
  },
  {
   "cell_type": "code",
   "execution_count": 53,
   "id": "b546c8f2-3e72-4909-bea3-e08e8a446ee7",
   "metadata": {},
   "outputs": [
    {
     "data": {
      "text/html": [
       "<div>\n",
       "<style scoped>\n",
       "    .dataframe tbody tr th:only-of-type {\n",
       "        vertical-align: middle;\n",
       "    }\n",
       "\n",
       "    .dataframe tbody tr th {\n",
       "        vertical-align: top;\n",
       "    }\n",
       "\n",
       "    .dataframe thead th {\n",
       "        text-align: right;\n",
       "    }\n",
       "</style>\n",
       "<table border=\"1\" class=\"dataframe\">\n",
       "  <thead>\n",
       "    <tr style=\"text-align: right;\">\n",
       "      <th></th>\n",
       "      <th>0</th>\n",
       "      <th>1</th>\n",
       "      <th>2</th>\n",
       "      <th>3</th>\n",
       "      <th>4</th>\n",
       "      <th>5</th>\n",
       "      <th>6</th>\n",
       "      <th>7</th>\n",
       "      <th>8</th>\n",
       "      <th>9</th>\n",
       "      <th>...</th>\n",
       "      <th>90</th>\n",
       "      <th>91</th>\n",
       "      <th>92</th>\n",
       "      <th>93</th>\n",
       "      <th>94</th>\n",
       "      <th>95</th>\n",
       "      <th>96</th>\n",
       "      <th>97</th>\n",
       "      <th>98</th>\n",
       "      <th>99</th>\n",
       "    </tr>\n",
       "  </thead>\n",
       "  <tbody>\n",
       "    <tr>\n",
       "      <th>TCGA-2F-A9KO</th>\n",
       "      <td>0.000000</td>\n",
       "      <td>0.000000</td>\n",
       "      <td>0.606011</td>\n",
       "      <td>1.346400</td>\n",
       "      <td>0.912834</td>\n",
       "      <td>0.801650</td>\n",
       "      <td>0.000000</td>\n",
       "      <td>0.000000</td>\n",
       "      <td>0.042244</td>\n",
       "      <td>1.362930</td>\n",
       "      <td>...</td>\n",
       "      <td>1.296238</td>\n",
       "      <td>0.006343</td>\n",
       "      <td>0.421620</td>\n",
       "      <td>1.418529</td>\n",
       "      <td>0.787730</td>\n",
       "      <td>0.112657</td>\n",
       "      <td>0.663817</td>\n",
       "      <td>0.119403</td>\n",
       "      <td>0.212188</td>\n",
       "      <td>1.025270</td>\n",
       "    </tr>\n",
       "    <tr>\n",
       "      <th>TCGA-2F-A9KP</th>\n",
       "      <td>0.288308</td>\n",
       "      <td>0.225680</td>\n",
       "      <td>1.369809</td>\n",
       "      <td>1.509376</td>\n",
       "      <td>0.805904</td>\n",
       "      <td>0.040974</td>\n",
       "      <td>0.000000</td>\n",
       "      <td>0.000000</td>\n",
       "      <td>0.578807</td>\n",
       "      <td>0.038450</td>\n",
       "      <td>...</td>\n",
       "      <td>0.838576</td>\n",
       "      <td>0.086969</td>\n",
       "      <td>1.046012</td>\n",
       "      <td>0.640437</td>\n",
       "      <td>0.017200</td>\n",
       "      <td>0.000000</td>\n",
       "      <td>0.805915</td>\n",
       "      <td>0.216522</td>\n",
       "      <td>0.541130</td>\n",
       "      <td>0.743966</td>\n",
       "    </tr>\n",
       "    <tr>\n",
       "      <th>TCGA-2F-A9KQ</th>\n",
       "      <td>0.174633</td>\n",
       "      <td>0.113791</td>\n",
       "      <td>0.500337</td>\n",
       "      <td>1.979564</td>\n",
       "      <td>0.604503</td>\n",
       "      <td>0.557613</td>\n",
       "      <td>0.000000</td>\n",
       "      <td>0.257109</td>\n",
       "      <td>0.785105</td>\n",
       "      <td>0.438577</td>\n",
       "      <td>...</td>\n",
       "      <td>0.824561</td>\n",
       "      <td>0.000000</td>\n",
       "      <td>1.326405</td>\n",
       "      <td>0.762011</td>\n",
       "      <td>0.524845</td>\n",
       "      <td>0.401829</td>\n",
       "      <td>0.781440</td>\n",
       "      <td>0.202172</td>\n",
       "      <td>0.163461</td>\n",
       "      <td>0.468314</td>\n",
       "    </tr>\n",
       "    <tr>\n",
       "      <th>TCGA-2F-A9KR</th>\n",
       "      <td>0.389048</td>\n",
       "      <td>0.000000</td>\n",
       "      <td>0.000000</td>\n",
       "      <td>2.456492</td>\n",
       "      <td>0.667225</td>\n",
       "      <td>0.878729</td>\n",
       "      <td>0.000000</td>\n",
       "      <td>0.432306</td>\n",
       "      <td>1.628833</td>\n",
       "      <td>0.305893</td>\n",
       "      <td>...</td>\n",
       "      <td>1.777221</td>\n",
       "      <td>0.000000</td>\n",
       "      <td>0.462008</td>\n",
       "      <td>1.360465</td>\n",
       "      <td>0.411681</td>\n",
       "      <td>0.000000</td>\n",
       "      <td>1.109046</td>\n",
       "      <td>0.634260</td>\n",
       "      <td>0.341119</td>\n",
       "      <td>0.884869</td>\n",
       "    </tr>\n",
       "    <tr>\n",
       "      <th>TCGA-2F-A9KT</th>\n",
       "      <td>2.024923</td>\n",
       "      <td>0.000000</td>\n",
       "      <td>1.488242</td>\n",
       "      <td>1.318837</td>\n",
       "      <td>1.024441</td>\n",
       "      <td>1.242546</td>\n",
       "      <td>0.000000</td>\n",
       "      <td>1.081394</td>\n",
       "      <td>1.904202</td>\n",
       "      <td>0.000000</td>\n",
       "      <td>...</td>\n",
       "      <td>1.413479</td>\n",
       "      <td>0.322844</td>\n",
       "      <td>0.348878</td>\n",
       "      <td>0.065319</td>\n",
       "      <td>0.000000</td>\n",
       "      <td>0.000000</td>\n",
       "      <td>0.992222</td>\n",
       "      <td>0.409808</td>\n",
       "      <td>0.731071</td>\n",
       "      <td>0.585544</td>\n",
       "    </tr>\n",
       "    <tr>\n",
       "      <th>...</th>\n",
       "      <td>...</td>\n",
       "      <td>...</td>\n",
       "      <td>...</td>\n",
       "      <td>...</td>\n",
       "      <td>...</td>\n",
       "      <td>...</td>\n",
       "      <td>...</td>\n",
       "      <td>...</td>\n",
       "      <td>...</td>\n",
       "      <td>...</td>\n",
       "      <td>...</td>\n",
       "      <td>...</td>\n",
       "      <td>...</td>\n",
       "      <td>...</td>\n",
       "      <td>...</td>\n",
       "      <td>...</td>\n",
       "      <td>...</td>\n",
       "      <td>...</td>\n",
       "      <td>...</td>\n",
       "      <td>...</td>\n",
       "      <td>...</td>\n",
       "    </tr>\n",
       "    <tr>\n",
       "      <th>TCGA-ZF-AA56</th>\n",
       "      <td>0.076250</td>\n",
       "      <td>0.000000</td>\n",
       "      <td>0.939976</td>\n",
       "      <td>2.171430</td>\n",
       "      <td>1.281768</td>\n",
       "      <td>0.914050</td>\n",
       "      <td>0.000000</td>\n",
       "      <td>0.000000</td>\n",
       "      <td>0.920151</td>\n",
       "      <td>0.000000</td>\n",
       "      <td>...</td>\n",
       "      <td>0.615883</td>\n",
       "      <td>0.000000</td>\n",
       "      <td>0.909881</td>\n",
       "      <td>0.824910</td>\n",
       "      <td>0.022802</td>\n",
       "      <td>0.000000</td>\n",
       "      <td>1.874989</td>\n",
       "      <td>0.050035</td>\n",
       "      <td>1.136423</td>\n",
       "      <td>0.450029</td>\n",
       "    </tr>\n",
       "    <tr>\n",
       "      <th>TCGA-ZF-AA58</th>\n",
       "      <td>0.101546</td>\n",
       "      <td>0.000000</td>\n",
       "      <td>1.548029</td>\n",
       "      <td>0.753259</td>\n",
       "      <td>0.669541</td>\n",
       "      <td>0.000000</td>\n",
       "      <td>2.219252</td>\n",
       "      <td>0.719016</td>\n",
       "      <td>0.000000</td>\n",
       "      <td>1.374755</td>\n",
       "      <td>...</td>\n",
       "      <td>0.013495</td>\n",
       "      <td>0.000000</td>\n",
       "      <td>1.067261</td>\n",
       "      <td>0.000000</td>\n",
       "      <td>0.000000</td>\n",
       "      <td>1.216576</td>\n",
       "      <td>0.411895</td>\n",
       "      <td>0.000000</td>\n",
       "      <td>0.156087</td>\n",
       "      <td>0.000000</td>\n",
       "    </tr>\n",
       "    <tr>\n",
       "      <th>TCGA-ZF-AA5H</th>\n",
       "      <td>1.541133</td>\n",
       "      <td>1.062936</td>\n",
       "      <td>2.174954</td>\n",
       "      <td>1.016264</td>\n",
       "      <td>0.912118</td>\n",
       "      <td>0.803701</td>\n",
       "      <td>2.345641</td>\n",
       "      <td>1.474476</td>\n",
       "      <td>0.166684</td>\n",
       "      <td>0.000000</td>\n",
       "      <td>...</td>\n",
       "      <td>0.000000</td>\n",
       "      <td>0.000000</td>\n",
       "      <td>1.174279</td>\n",
       "      <td>0.000000</td>\n",
       "      <td>0.000000</td>\n",
       "      <td>1.799553</td>\n",
       "      <td>1.559334</td>\n",
       "      <td>0.334298</td>\n",
       "      <td>0.159321</td>\n",
       "      <td>0.000000</td>\n",
       "    </tr>\n",
       "    <tr>\n",
       "      <th>TCGA-ZF-AA5N</th>\n",
       "      <td>0.807208</td>\n",
       "      <td>0.000000</td>\n",
       "      <td>2.474444</td>\n",
       "      <td>1.837770</td>\n",
       "      <td>0.869297</td>\n",
       "      <td>0.104512</td>\n",
       "      <td>0.568800</td>\n",
       "      <td>0.788111</td>\n",
       "      <td>0.000000</td>\n",
       "      <td>0.433905</td>\n",
       "      <td>...</td>\n",
       "      <td>0.551629</td>\n",
       "      <td>0.000000</td>\n",
       "      <td>0.918376</td>\n",
       "      <td>0.000000</td>\n",
       "      <td>0.140257</td>\n",
       "      <td>0.223592</td>\n",
       "      <td>1.860273</td>\n",
       "      <td>0.000000</td>\n",
       "      <td>0.544417</td>\n",
       "      <td>0.000000</td>\n",
       "    </tr>\n",
       "    <tr>\n",
       "      <th>TCGA-ZF-AA5P</th>\n",
       "      <td>0.000000</td>\n",
       "      <td>0.000000</td>\n",
       "      <td>1.665623</td>\n",
       "      <td>0.000000</td>\n",
       "      <td>1.426144</td>\n",
       "      <td>0.100391</td>\n",
       "      <td>4.001244</td>\n",
       "      <td>0.000000</td>\n",
       "      <td>0.000000</td>\n",
       "      <td>1.182450</td>\n",
       "      <td>...</td>\n",
       "      <td>0.000000</td>\n",
       "      <td>0.000000</td>\n",
       "      <td>0.000000</td>\n",
       "      <td>0.662137</td>\n",
       "      <td>0.000000</td>\n",
       "      <td>0.000000</td>\n",
       "      <td>0.530275</td>\n",
       "      <td>0.342544</td>\n",
       "      <td>0.522306</td>\n",
       "      <td>0.000000</td>\n",
       "    </tr>\n",
       "  </tbody>\n",
       "</table>\n",
       "<p>399 rows × 100 columns</p>\n",
       "</div>"
      ],
      "text/plain": [
       "                     0         1         2         3         4         5  \\\n",
       "TCGA-2F-A9KO  0.000000  0.000000  0.606011  1.346400  0.912834  0.801650   \n",
       "TCGA-2F-A9KP  0.288308  0.225680  1.369809  1.509376  0.805904  0.040974   \n",
       "TCGA-2F-A9KQ  0.174633  0.113791  0.500337  1.979564  0.604503  0.557613   \n",
       "TCGA-2F-A9KR  0.389048  0.000000  0.000000  2.456492  0.667225  0.878729   \n",
       "TCGA-2F-A9KT  2.024923  0.000000  1.488242  1.318837  1.024441  1.242546   \n",
       "...                ...       ...       ...       ...       ...       ...   \n",
       "TCGA-ZF-AA56  0.076250  0.000000  0.939976  2.171430  1.281768  0.914050   \n",
       "TCGA-ZF-AA58  0.101546  0.000000  1.548029  0.753259  0.669541  0.000000   \n",
       "TCGA-ZF-AA5H  1.541133  1.062936  2.174954  1.016264  0.912118  0.803701   \n",
       "TCGA-ZF-AA5N  0.807208  0.000000  2.474444  1.837770  0.869297  0.104512   \n",
       "TCGA-ZF-AA5P  0.000000  0.000000  1.665623  0.000000  1.426144  0.100391   \n",
       "\n",
       "                     6         7         8         9  ...        90        91  \\\n",
       "TCGA-2F-A9KO  0.000000  0.000000  0.042244  1.362930  ...  1.296238  0.006343   \n",
       "TCGA-2F-A9KP  0.000000  0.000000  0.578807  0.038450  ...  0.838576  0.086969   \n",
       "TCGA-2F-A9KQ  0.000000  0.257109  0.785105  0.438577  ...  0.824561  0.000000   \n",
       "TCGA-2F-A9KR  0.000000  0.432306  1.628833  0.305893  ...  1.777221  0.000000   \n",
       "TCGA-2F-A9KT  0.000000  1.081394  1.904202  0.000000  ...  1.413479  0.322844   \n",
       "...                ...       ...       ...       ...  ...       ...       ...   \n",
       "TCGA-ZF-AA56  0.000000  0.000000  0.920151  0.000000  ...  0.615883  0.000000   \n",
       "TCGA-ZF-AA58  2.219252  0.719016  0.000000  1.374755  ...  0.013495  0.000000   \n",
       "TCGA-ZF-AA5H  2.345641  1.474476  0.166684  0.000000  ...  0.000000  0.000000   \n",
       "TCGA-ZF-AA5N  0.568800  0.788111  0.000000  0.433905  ...  0.551629  0.000000   \n",
       "TCGA-ZF-AA5P  4.001244  0.000000  0.000000  1.182450  ...  0.000000  0.000000   \n",
       "\n",
       "                    92        93        94        95        96        97  \\\n",
       "TCGA-2F-A9KO  0.421620  1.418529  0.787730  0.112657  0.663817  0.119403   \n",
       "TCGA-2F-A9KP  1.046012  0.640437  0.017200  0.000000  0.805915  0.216522   \n",
       "TCGA-2F-A9KQ  1.326405  0.762011  0.524845  0.401829  0.781440  0.202172   \n",
       "TCGA-2F-A9KR  0.462008  1.360465  0.411681  0.000000  1.109046  0.634260   \n",
       "TCGA-2F-A9KT  0.348878  0.065319  0.000000  0.000000  0.992222  0.409808   \n",
       "...                ...       ...       ...       ...       ...       ...   \n",
       "TCGA-ZF-AA56  0.909881  0.824910  0.022802  0.000000  1.874989  0.050035   \n",
       "TCGA-ZF-AA58  1.067261  0.000000  0.000000  1.216576  0.411895  0.000000   \n",
       "TCGA-ZF-AA5H  1.174279  0.000000  0.000000  1.799553  1.559334  0.334298   \n",
       "TCGA-ZF-AA5N  0.918376  0.000000  0.140257  0.223592  1.860273  0.000000   \n",
       "TCGA-ZF-AA5P  0.000000  0.662137  0.000000  0.000000  0.530275  0.342544   \n",
       "\n",
       "                    98        99  \n",
       "TCGA-2F-A9KO  0.212188  1.025270  \n",
       "TCGA-2F-A9KP  0.541130  0.743966  \n",
       "TCGA-2F-A9KQ  0.163461  0.468314  \n",
       "TCGA-2F-A9KR  0.341119  0.884869  \n",
       "TCGA-2F-A9KT  0.731071  0.585544  \n",
       "...                ...       ...  \n",
       "TCGA-ZF-AA56  1.136423  0.450029  \n",
       "TCGA-ZF-AA58  0.156087  0.000000  \n",
       "TCGA-ZF-AA5H  0.159321  0.000000  \n",
       "TCGA-ZF-AA5N  0.544417  0.000000  \n",
       "TCGA-ZF-AA5P  0.522306  0.000000  \n",
       "\n",
       "[399 rows x 100 columns]"
      ]
     },
     "execution_count": 53,
     "metadata": {},
     "output_type": "execute_result"
    }
   ],
   "source": [
    "check_latent = pd.read_csv(path, sep=\"\\t\", index_col=0)\n",
    "check_latent"
   ]
  },
  {
   "cell_type": "code",
   "execution_count": null,
   "id": "cb2cf167-6371-4464-853d-b19c0ecd8c1f",
   "metadata": {},
   "outputs": [],
   "source": []
  }
 ],
 "metadata": {
  "kernelspec": {
   "display_name": "Python 3 (ipykernel)",
   "language": "python",
   "name": "python3"
  },
  "language_info": {
   "codemirror_mode": {
    "name": "ipython",
    "version": 3
   },
   "file_extension": ".py",
   "mimetype": "text/x-python",
   "name": "python",
   "nbconvert_exporter": "python",
   "pygments_lexer": "ipython3",
   "version": "3.9.13"
  }
 },
 "nbformat": 4,
 "nbformat_minor": 5
}
