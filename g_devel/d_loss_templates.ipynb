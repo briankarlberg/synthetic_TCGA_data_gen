{
 "cells": [
  {
   "cell_type": "code",
   "execution_count": null,
   "id": "09f983f2-9c0e-4447-8186-0a6626a7b041",
   "metadata": {},
   "outputs": [],
   "source": [
    "# Templates of loss plots"
   ]
  },
  {
   "cell_type": "code",
   "execution_count": null,
   "id": "5e336114-a036-4afc-ab04-7c6562f7c89d",
   "metadata": {},
   "outputs": [],
   "source": [
    "# Fine tune plots\n",
    "cohort = brca_df.index.name\n",
    "plt.plot(history_fine_tune.history['loss'],label=\"loss\")\n",
    "\n",
    "plt.title(cohort+' loss\\nTybalt VAE fine tune on BLCA pre-train\\n'\n",
    "         )\n",
    "plt.xlabel('Epoch')\n",
    "plt.ylabel('Loss')\n",
    "plt.annotate('Feature set = '+'MAD 5000k'+\n",
    "             '\\nLatent dim = '+str(latent_dim)+\n",
    "             '\\nLayer type = dense'+\n",
    "             '\\nNormalization = divide by max()',\n",
    "            xy=(.4, .8), xycoords='figure fraction',\n",
    "            horizontalalignment='left', verticalalignment='top',\n",
    "            )\n",
    "\n",
    "plt.legend(loc=\"lower left\")\n",
    "plt.savefig('transfer_learning_loss_plots/'+cohort+'_fine_blca_bbox.png',\n",
    "            bbox_inches='tight')"
   ]
  },
  {
   "cell_type": "code",
   "execution_count": null,
   "id": "3673bfb9-d284-4bed-9052-24befcc8a3b1",
   "metadata": {},
   "outputs": [],
   "source": [
    "# Train on one loss plots\n",
    "plt.plot(history.history['loss'],label=\"loss\")\n",
    "\n",
    "plt.title(cohort+' loss\\nTybalt VAE train\\n'\n",
    "         )\n",
    "plt.xlabel('Epoch')\n",
    "plt.ylabel('Loss')\n",
    "plt.annotate('Feature set = '+'MAD 5000k'+\n",
    "             '\\nLatent dim = '+str(latent_dim)+\n",
    "             # '\\nBatch size = '+str(batch_size)+\n",
    "             '\\nLayer type = dense'+\n",
    "             # \\nTest ratio = .25\\n\n",
    "             '\\nNormalization = divide by max()',\n",
    "            xy=(.4, .8), xycoords='figure fraction',\n",
    "            horizontalalignment='left', verticalalignment='top',\n",
    "            # fontsize=20\n",
    "            )\n",
    "\n",
    "plt.legend(loc=\"lower left\")\n",
    "plt.savefig('train-on-one_loss_plots/'+cohort+'_check2.png')"
   ]
  }
 ],
 "metadata": {
  "kernelspec": {
   "display_name": "Python 3 (ipykernel)",
   "language": "python",
   "name": "python3"
  },
  "language_info": {
   "codemirror_mode": {
    "name": "ipython",
    "version": 3
   },
   "file_extension": ".py",
   "mimetype": "text/x-python",
   "name": "python",
   "nbconvert_exporter": "python",
   "pygments_lexer": "ipython3",
   "version": "3.9.13"
  }
 },
 "nbformat": 4,
 "nbformat_minor": 5
}
