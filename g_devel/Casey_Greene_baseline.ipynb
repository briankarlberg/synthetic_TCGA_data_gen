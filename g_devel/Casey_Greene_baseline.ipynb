{
 "cells": [
  {
   "cell_type": "code",
   "execution_count": null,
   "id": "36bb96a3-a342-467b-94a8-55eaf7dff395",
   "metadata": {},
   "outputs": [],
   "source": [
    "# Find activation function type by layer"
   ]
  },
  {
   "cell_type": "code",
   "execution_count": null,
   "id": "e3444d3b-5379-41ff-8d1c-5d834d693a25",
   "metadata": {},
   "outputs": [],
   "source": []
  }
 ],
 "metadata": {
  "kernelspec": {
   "display_name": "cvae_venv",
   "language": "python",
   "name": "cvae_venv"
  },
  "language_info": {
   "codemirror_mode": {
    "name": "ipython",
    "version": 3
   },
   "file_extension": ".py",
   "mimetype": "text/x-python",
   "name": "python",
   "nbconvert_exporter": "python",
   "pygments_lexer": "ipython3",
   "version": "3.9.7"
  }
 },
 "nbformat": 4,
 "nbformat_minor": 5
}
