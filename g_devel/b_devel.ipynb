{
 "cells": [
  {
   "cell_type": "code",
   "execution_count": null,
   "id": "7a2645b0-48f9-4d67-b52f-3aae4e629e38",
   "metadata": {},
   "outputs": [],
   "source": [
    "# From b_train_on_one.ipnb\n",
    "\n",
    "Call fit again without rebuilding model\n",
    "\n",
    "archived to 2022-11-10_no_reset_test"
   ]
  },
  {
   "cell_type": "code",
   "execution_count": null,
   "id": "fdfaaefe-56af-4715-bdb3-6a9883550349",
   "metadata": {},
   "outputs": [],
   "source": [
    "history = vae.fit(primary_subset.iloc[:, 1:],  \n",
    "            epochs=epochs, batch_size=50, shuffle=True,\n",
    "            callbacks=[WarmUpCallback(beta, kappa)],\n",
    "                 verbose=0)\n",
    "fit_end = time.time() - fit_start\n",
    "\n",
    "plt.plot(history.history['loss'],label=\"loss\")\n",
    "\n",
    "plt.title(\n",
    "    c+' loss for direct predict on other cohorts n = 24'+\n",
    "    '\\nTybalt VAE train\\n'\n",
    "         )\n",
    "plt.xlabel('Epoch')\n",
    "plt.ylabel('Loss')\n",
    "plt.annotate('Feature set = '+'common MAD 5000k'+\n",
    "             '\\nLatent dim = '+str(latent_dim)+\n",
    "             '\\nLayer type = dense'+\n",
    "             '\\nNormalization = divide by max()',\n",
    "            xy=(.4, .8), xycoords='figure fraction',\n",
    "            horizontalalignment='left', verticalalignment='top',\n",
    "            )\n",
    "\n",
    "plt.legend(loc=\"lower left\")\n",
    "plt.savefig(\n",
    "    'train-on-one_loss_plots/'+c+'_trained_for_n=24_'+\n",
    "    '_predictions_pltv'+str(plt_v)+'no_reset.png', bbox_inches='tight')\n",
    "plt.close()"
   ]
  }
 ],
 "metadata": {
  "kernelspec": {
   "display_name": "Python 3 (ipykernel)",
   "language": "python",
   "name": "python3"
  },
  "language_info": {
   "codemirror_mode": {
    "name": "ipython",
    "version": 3
   },
   "file_extension": ".py",
   "mimetype": "text/x-python",
   "name": "python",
   "nbconvert_exporter": "python",
   "pygments_lexer": "ipython3",
   "version": "3.9.13"
  }
 },
 "nbformat": 4,
 "nbformat_minor": 5
}
