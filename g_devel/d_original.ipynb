{
 "cells": [
  {
   "cell_type": "code",
   "execution_count": null,
   "id": "508c1405-1dc6-40aa-aedf-db18c9e44a21",
   "metadata": {},
   "outputs": [],
   "source": [
    "# Original plot, read from original F1 file \n",
    "# This is not an overlay plot\n",
    "plt_v=13\n",
    "figure(figsize=(len(bfr.index), 8), dpi=120)\n",
    "plt.scatter(.01, .99, color = 'white')\n",
    "x_tck_lst = []\n",
    "cohort_list = []\n",
    "for idx_pos, idx in enumerate(bfr.index): # Blank frame read\n",
    "\n",
    "    x = idx_pos\n",
    "    ave_mean = []\n",
    "    for rs in list(range(0,re_samp)): # use to step through the columns\n",
    "\n",
    "        adder = .1\n",
    "        x = x+adder\n",
    "        plt.errorbar(\n",
    "            x,\n",
    "            bfr.loc[idx, 'mean'+str(rs)],\n",
    "            yerr=bfr.loc[idx, 'std'+str(rs)], capsize = 2,\n",
    "            color = 'grey')\n",
    "        ave_mean.append(bfr.loc[idx, 'mean'+str(rs)])\n",
    "        \n",
    "    x_points = [x-.5, x]\n",
    "    y_points = [mean(ave_mean), mean(ave_mean)]\n",
    "    plt.plot(x_points, y_points, linestyle='dashed', color = 'blue')\n",
    "    # break\n",
    "    x_tck_lst.append(idx_pos)\n",
    "    cohort_list.append(idx.split('_')[0])\n",
    "plt.xticks(x_tck_lst, labels = cohort_list, rotation = 45)\n",
    "# plt.set_xticklabels(cohort_list)\n",
    "plt.ylabel('F1 score')\n",
    "plt.scatter(25, .25, color = 'white')# BRCA settings    \n",
    "plt.title('Original GEXP data, random forest classifier, cohorts n = 25, 5k MAD feats from 17k intersection genes\\n'+\n",
    "         str(re_samp)+' resamplings per cohort at 100% sampling rate, 5 train-test splits per resampling')\n",
    "plt.annotate(str(re_samp * trn_tst_splts)+' trn tst splts', (x-.2,1.-3))\n",
    "plt.savefig('raw_baseline_plots/cohorts_n=25_v'+str(plt_v)+'.png', dpi = 120)"
   ]
  }
 ],
 "metadata": {
  "kernelspec": {
   "display_name": "Python 3 (ipykernel)",
   "language": "python",
   "name": "python3"
  },
  "language_info": {
   "codemirror_mode": {
    "name": "ipython",
    "version": 3
   },
   "file_extension": ".py",
   "mimetype": "text/x-python",
   "name": "python",
   "nbconvert_exporter": "python",
   "pygments_lexer": "ipython3",
   "version": "3.9.13"
  }
 },
 "nbformat": 4,
 "nbformat_minor": 5
}
