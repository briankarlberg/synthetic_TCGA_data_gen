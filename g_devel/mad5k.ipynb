{
 "cells": [
  {
   "cell_type": "code",
   "execution_count": null,
   "id": "f2f4e6e9-09d6-4e46-b36b-922aba6c698a",
   "metadata": {},
   "outputs": [],
   "source": [
    "# Read in 17k feature file from data\n",
    "# write to data_5k, from b_model_trn_one_prdct_anoth.ipynb"
   ]
  },
  {
   "cell_type": "code",
   "execution_count": 1,
   "id": "7f50e965-6dcb-481c-82ca-19d0794c1f12",
   "metadata": {},
   "outputs": [],
   "source": [
    "import pandas as pd\n",
    "import glob"
   ]
  },
  {
   "cell_type": "code",
   "execution_count": 2,
   "id": "c1de38e4-340b-4095-bc98-92ad93265ccc",
   "metadata": {},
   "outputs": [],
   "source": [
    "paths = sorted(glob.glob('data/*.tsv'))"
   ]
  },
  {
   "cell_type": "code",
   "execution_count": 3,
   "id": "a6caf14a-ae59-4932-9844-d2b90d759097",
   "metadata": {},
   "outputs": [
    {
     "name": "stdout",
     "output_type": "stream",
     "text": [
      "ACC\n",
      " \n",
      "BLCA\n",
      " \n",
      "BRCA\n",
      " \n",
      "CESC\n",
      " \n",
      "COADREAD\n",
      " \n",
      "ESCC\n",
      " \n",
      "GEA\n",
      " \n",
      "HNSC\n",
      " \n",
      "KIRCKICH\n",
      " \n",
      "KIRP\n",
      " \n",
      "LIHCCHOL\n",
      " \n",
      "LUAD\n",
      " \n",
      "LUSC\n",
      " \n",
      "MESO\n",
      " \n",
      "OV\n",
      " \n",
      "PAAD\n",
      " \n",
      "PCPG\n",
      " \n",
      "PRAD\n",
      " \n",
      "SARC\n",
      " \n",
      "SKCM\n",
      " \n",
      "TGCT\n",
      " \n",
      "THCA\n",
      " \n",
      "THYM\n",
      " \n",
      "UCEC\n",
      " \n",
      "UVM\n",
      " \n"
     ]
    }
   ],
   "source": [
    "# Pre cut feature files to 5k, simplify in-line processes\n",
    "for path in paths:\n",
    "    df = pd.read_csv(path, sep=\"\\t\", index_col=0)\n",
    "    cohort = df.index.name\n",
    "    y_df = pd.DataFrame(df.Labels)\n",
    "    print(df.index.name)\n",
    "    # target out is data 5k\n",
    "    features = df.iloc[:, 1:].mad().sort_values(ascending=False)[:5000].index\n",
    "    vals = df[features]\n",
    "    # del(df)\n",
    "\n",
    "    normVals = vals.max()\n",
    "    X_train = (vals / normVals)\n",
    "    # print(normVals)\n",
    "    # break\n",
    "    # DEAL WITH LABELS HERE, for UMAP or classification\n",
    "    X_train = pd.concat( [y_df, X_train] , axis = 1)\n",
    "    # break # M1 devel, removal point on Intel machine\n",
    "    X_train.to_csv('data_5k/'+str(cohort)+'_mad_5k.tsv',\n",
    "                   sep = '\\t')\n",
    "    print(' ')\n",
    "    # break"
   ]
  },
  {
   "cell_type": "code",
   "execution_count": null,
   "id": "85469b37-b719-43bb-b880-0746cbaf2c74",
   "metadata": {},
   "outputs": [],
   "source": []
  }
 ],
 "metadata": {
  "kernelspec": {
   "display_name": "Python 3 (ipykernel)",
   "language": "python",
   "name": "python3"
  },
  "language_info": {
   "codemirror_mode": {
    "name": "ipython",
    "version": 3
   },
   "file_extension": ".py",
   "mimetype": "text/x-python",
   "name": "python",
   "nbconvert_exporter": "python",
   "pygments_lexer": "ipython3",
   "version": "3.9.7"
  }
 },
 "nbformat": 4,
 "nbformat_minor": 5
}
