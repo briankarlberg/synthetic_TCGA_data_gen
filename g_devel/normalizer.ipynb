{
 "cells": [
  {
   "cell_type": "code",
   "execution_count": null,
   "id": "bf4d24fc-9aee-4ca1-bfe3-d4e71e185d89",
   "metadata": {},
   "outputs": [],
   "source": [
    "# Normalizer notebook\n",
    "    # this populates the original_normalized data file\n",
    "    # can feed classical ML or UMAP analysis\n",
    "# read data (raw, original), write to file after normalization\n",
    "# just prior to feeding to VAE\n",
    "\n",
    "# from baseline v4, parallel to overlay notebook\n",
    "    # also want a pure classification notebook"
   ]
  },
  {
   "cell_type": "code",
   "execution_count": 2,
   "id": "db817ca7-8b33-461b-8755-1c3e583e41f0",
   "metadata": {},
   "outputs": [],
   "source": [
    "import pandas as pd\n",
    "import glob as glob"
   ]
  },
  {
   "cell_type": "code",
   "execution_count": 3,
   "id": "dd9e43f2-3438-45ea-844f-dbecc273adc4",
   "metadata": {},
   "outputs": [],
   "source": [
    "paths = sorted(glob.glob('data/*.tsv'))"
   ]
  },
  {
   "cell_type": "code",
   "execution_count": 8,
   "id": "e68ea3f4-a27f-4bbf-94a1-9e25b68ebb8f",
   "metadata": {},
   "outputs": [
    {
     "data": {
      "text/plain": [
       "['data/ACC.tsv',\n",
       " 'data/BLCA.tsv',\n",
       " 'data/BRCA.tsv',\n",
       " 'data/CESC.tsv',\n",
       " 'data/COADREAD.tsv',\n",
       " 'data/ESCC.tsv',\n",
       " 'data/GEA.tsv',\n",
       " 'data/HNSC.tsv',\n",
       " 'data/KIRCKICH.tsv',\n",
       " 'data/KIRP.tsv',\n",
       " 'data/LIHCCHOL.tsv',\n",
       " 'data/LUAD.tsv',\n",
       " 'data/LUSC.tsv',\n",
       " 'data/MESO.tsv',\n",
       " 'data/OV.tsv',\n",
       " 'data/PAAD.tsv',\n",
       " 'data/PCPG.tsv',\n",
       " 'data/PRAD.tsv',\n",
       " 'data/SARC.tsv',\n",
       " 'data/SKCM.tsv',\n",
       " 'data/TGCT.tsv',\n",
       " 'data/THCA.tsv',\n",
       " 'data/THYM.tsv',\n",
       " 'data/UCEC.tsv',\n",
       " 'data/UVM.tsv']"
      ]
     },
     "execution_count": 8,
     "metadata": {},
     "output_type": "execute_result"
    }
   ],
   "source": [
    "paths"
   ]
  },
  {
   "cell_type": "code",
   "execution_count": 9,
   "id": "90e7e8e1-cc7c-4b23-9fca-a77777020f3f",
   "metadata": {},
   "outputs": [
    {
     "name": "stdout",
     "output_type": "stream",
     "text": [
      "ACC\n",
      "BLCA\n",
      "BRCA\n",
      "CESC\n",
      "COADREAD\n",
      "ESCC\n",
      "GEA\n",
      "HNSC\n",
      "KIRCKICH\n",
      "KIRP\n",
      "LIHCCHOL\n",
      "LUAD\n",
      "LUSC\n",
      "MESO\n",
      "OV\n",
      "PAAD\n",
      "PCPG\n",
      "PRAD\n",
      "SARC\n",
      "SKCM\n",
      "TGCT\n",
      "THCA\n",
      "THYM\n",
      "UCEC\n",
      "UVM\n"
     ]
    }
   ],
   "source": [
    "for path in paths:\n",
    "    cohort = path.split('/')[1].split('.')[0]\n",
    "    print(cohort)\n",
    "    \n",
    "    df = pd.read_csv(path, sep=\"\\t\", index_col=0)\n",
    "    features = df.iloc[:, 1:].mad().sort_values(ascending=False)[:5000].index\n",
    "    normVals = df[features].max()\n",
    "    vals = df[features]\n",
    "    X_5k = (vals / normVals)\n",
    "    df = pd.concat( [df.Labels, X_5k] , axis = 1) # Overwrite df with 5k mad feats\n",
    "    df.to_csv('original_normalized/'+cohort+'_original_normalized.tsv', sep = '\\t')\n",
    "    # break"
   ]
  },
  {
   "cell_type": "code",
   "execution_count": null,
   "id": "d8b9335f-3848-45a5-b618-1fe2dc66908e",
   "metadata": {},
   "outputs": [],
   "source": [
    "# End writing normalized files, to UMAP attempt"
   ]
  },
  {
   "cell_type": "code",
   "execution_count": null,
   "id": "86be1adf-09ef-4acf-a27e-1836254c251a",
   "metadata": {},
   "outputs": [],
   "source": [
    "# devel"
   ]
  },
  {
   "cell_type": "code",
   "execution_count": 7,
   "id": "24ec158b-9ea9-441d-a76b-04fdc3469a4c",
   "metadata": {},
   "outputs": [
    {
     "data": {
      "text/plain": [
       "'ACC'"
      ]
     },
     "execution_count": 7,
     "metadata": {},
     "output_type": "execute_result"
    }
   ],
   "source": [
    "cohort"
   ]
  },
  {
   "cell_type": "code",
   "execution_count": 6,
   "id": "31060db1-a3a3-42db-b5b2-b797e7731072",
   "metadata": {},
   "outputs": [
    {
     "name": "stdout",
     "output_type": "stream",
     "text": [
      "Casey_Greene_baseline.ipynb\n",
      "Classical ML on raw vs decoded notes.rtf\n",
      "\u001b[34mRF_BRCA_r0\u001b[m\u001b[m/\n",
      "baseline_00.ipynb\n",
      "baseline_01.ipynb\n",
      "baseline_02.ipynb\n",
      "baseline_03.ipynb\n",
      "baseline_04.ipynb\n",
      "\u001b[34mdata\u001b[m\u001b[m/\n",
      "\u001b[34mdecoded\u001b[m\u001b[m/\n",
      "\u001b[34mdecoded_baseline_F1s\u001b[m\u001b[m/\n",
      "\u001b[34mdecoded_baseline_plots\u001b[m\u001b[m/\n",
      "matrices_build.ipynb\n",
      "normalizer.ipynb\n",
      "\u001b[34moriginal_normalized\u001b[m\u001b[m/\n",
      "overlay.ipynb\n",
      "\u001b[34moverlay_plots\u001b[m\u001b[m/\n",
      "\u001b[34mraw_baseline_F1s\u001b[m\u001b[m/\n",
      "\u001b[34mraw_baseline_plots\u001b[m\u001b[m/\n"
     ]
    }
   ],
   "source": [
    "ls"
   ]
  },
  {
   "cell_type": "code",
   "execution_count": null,
   "id": "96424435-f4d4-4433-a6aa-2e03c50da365",
   "metadata": {},
   "outputs": [],
   "source": []
  }
 ],
 "metadata": {
  "kernelspec": {
   "display_name": "Python 3 (ipykernel)",
   "language": "python",
   "name": "python3"
  },
  "language_info": {
   "codemirror_mode": {
    "name": "ipython",
    "version": 3
   },
   "file_extension": ".py",
   "mimetype": "text/x-python",
   "name": "python",
   "nbconvert_exporter": "python",
   "pygments_lexer": "ipython3",
   "version": "3.9.7"
  }
 },
 "nbformat": 4,
 "nbformat_minor": 5
}
