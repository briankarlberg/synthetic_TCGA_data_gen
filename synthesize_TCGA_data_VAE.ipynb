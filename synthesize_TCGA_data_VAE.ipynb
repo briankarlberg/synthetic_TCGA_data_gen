{
 "cells": [
  {
   "cell_type": "markdown",
   "id": "6466e8e5-0d5c-4da2-b53c-acf814234243",
   "metadata": {},
   "source": [
    "Summary:\n",
    "The Cancer Genome Atlas provides high dimensional multi-omic characterizations of tumor resections yet with limited sample sizes, on the order of 100 or less samples for certain tissues-of-origin. Generation of quality synthetic TCGA omic samples can benefit the development of machine learning subtype prediction methods. Traditional methods of generating synthetic data, such as UMAP, can benchmark development of sample generation methods that learn a joint-distribution such as a VAE. Here, TCGA omic data for 995 BRCA samples labeled with one of four subtypes were subset to 20,531 gene-expression features that were then embeded with a VAE into a latent space dimension of four features. The VAE was trained on all four BRCA subtypes simultaneously to generate the feature embedding. The data split used a test set ratio of 0.25. The trained encoder was then used to predict the four latent feauture values for each of the 746 training samples. The average values of 2500 pairwise combinations within each latent feature within each subtype was calcuated to generate a synthetic latent space representation of archetypal samples for each BRCA TCGA subtype. These four latent feature spaces corresponding to each subtype were then decoded back to the 20,531 dimension gene space using the trained decoder component of the VAE. Frequency analysis of selected gene features from these synthetic TCGA data can then leverage the statistical power increase of generative modeling to identify subtype-specific genes of interest."
   ]
  },
  {
   "cell_type": "code",
   "execution_count": 1,
   "id": "e86eb146-a9cd-4d01-8334-8074bfb37f4b",
   "metadata": {},
   "outputs": [],
   "source": [
    "date = '2022-08-18'\n",
    "version = 'synth_TCGA'"
   ]
  },
  {
   "cell_type": "code",
   "execution_count": 12,
   "id": "adc3a456-2aad-4559-a1cb-959095b6ecfa",
   "metadata": {},
   "outputs": [],
   "source": [
    "import glob as glob\n",
    "import pandas as pd\n",
    "import matplotlib.pyplot as plt\n",
    "import numpy as np\n",
    "import seaborn as sns\n",
    "from sklearn.model_selection import train_test_split\n",
    "import time"
   ]
  },
  {
   "cell_type": "code",
   "execution_count": 3,
   "id": "e7d3e37f-00da-497c-8413-bf0655c64561",
   "metadata": {},
   "outputs": [
    {
     "data": {
      "text/plain": [
       "'../gexp_files/BRCA_gxp.tsv'"
      ]
     },
     "execution_count": 3,
     "metadata": {},
     "output_type": "execute_result"
    }
   ],
   "source": [
    "# BRCA run, step 1, point to subsetted gexp data, 995 samples by 20,531\n",
    "gxp_files = sorted(glob.glob('../gexp_files/*.tsv'))\n",
    "gxp_files[2] # <--- set cancer file n"
   ]
  },
  {
   "cell_type": "code",
   "execution_count": 5,
   "id": "7079f22c-6ba1-40b8-8f21-5b9011837c12",
   "metadata": {},
   "outputs": [
    {
     "name": "stdout",
     "output_type": "stream",
     "text": [
      "file read, comment off for devel\n"
     ]
    }
   ],
   "source": [
    "# BRCA run, step 2, format each expression row as an image sample, scale, x-frm\n",
    "for i in [gxp_files[2]]:\n",
    "    # file  = pd.read_csv(i,         # <--- read cancer file n, comment out for devel reruns\n",
    "    #                    sep = '\\t',\n",
    "    #                    index_col = 0)\n",
    "    print('file read, comment off for devel')\n",
    "    train, test = train_test_split(file)\n",
    "    \n",
    "    trn_empty = [] # append model-formatted numpy arrays of gene expression values\n",
    "    trn_index_key = []\n",
    "    trn_y_list = []\n",
    "    \n",
    "    for j, sample in enumerate(train.index):\n",
    "        gene_row = list(train.iloc[j,1:])\n",
    "        base = np.array(gene_row + (\n",
    "            20736 - len(              # dimension of nearest perfect square   \n",
    "                gene_row)) * [0],\n",
    "                        dtype=np.uint8).reshape(144,144,1)\n",
    "        trn_empty.append(base)\n",
    "        y = train.iloc[j,0]\n",
    "        trn_y_list.append(y)\n",
    "        trn_index_key.append(sample)\n",
    "    formatted = np.array(trn_empty)\n",
    "    formatted = formatted/255 # train normalization\n",
    "    X_train_new = formatted\n",
    "\n",
    "    tst_empty = []\n",
    "    tst_index_key = []\n",
    "    tst_y_list = []\n",
    "    \n",
    "    for j, sample in enumerate(test.index):\n",
    "        gene_row = list(test.iloc[j,1:])\n",
    "        base = np.array(gene_row + (\n",
    "            20736 - len(\n",
    "                gene_row)) * [0],\n",
    "                        dtype=np.uint8).reshape(144,144,1)\n",
    "        tst_empty.append(base)\n",
    "        y = test.iloc[j,0]\n",
    "        tst_y_list.append(y)\n",
    "        tst_index_key.append(sample)\n",
    "    formatted = np.array(tst_empty)\n",
    "    formatted = formatted/255 # test normalization\n",
    "    X_test_new = formatted\n",
    "        \n",
    "    break  "
   ]
  },
  {
   "cell_type": "code",
   "execution_count": 6,
   "id": "bf8783c8-d35c-4cfa-a87e-530533331c56",
   "metadata": {},
   "outputs": [
    {
     "data": {
      "text/plain": [
       "(746, 144, 144, 1)"
      ]
     },
     "execution_count": 6,
     "metadata": {},
     "output_type": "execute_result"
    }
   ],
   "source": [
    "X_train_new.shape"
   ]
  },
  {
   "cell_type": "code",
   "execution_count": 7,
   "id": "4bb740fb-8429-4e90-975f-62c54b11c070",
   "metadata": {},
   "outputs": [
    {
     "data": {
      "text/plain": [
       "(249, 144, 144, 1)"
      ]
     },
     "execution_count": 7,
     "metadata": {},
     "output_type": "execute_result"
    }
   ],
   "source": [
    "X_test_new.shape"
   ]
  },
  {
   "cell_type": "code",
   "execution_count": 8,
   "id": "b54cdb64-dc63-4a12-a5e4-dc89639ef930",
   "metadata": {},
   "outputs": [],
   "source": [
    "latent_dim = 4"
   ]
  },
  {
   "cell_type": "code",
   "execution_count": 9,
   "id": "e8fb3ec4-0b53-4d4d-b62e-d02bc544b5c7",
   "metadata": {},
   "outputs": [],
   "source": [
    "# Build an image VAE with Keras\n",
    "# from https://becominghuman.ai/using-variational-autoencoder-vae-to-generate-new-images-14328877e88d\n",
    "import os\n",
    "import cv2\n",
    "import numpy as np\n",
    "import matplotlib.pyplot as plt\n",
    "import tensorflow as tf; tf.compat.v1.disable_eager_execution()\n",
    "from keras import backend as K\n",
    "from keras.layers import Input, Dense, Conv2D, Conv2DTranspose, Flatten, Lambda, Reshape\n",
    "from keras.models import Model\n",
    "from keras.losses import binary_crossentropy\n",
    "# import mnist\n",
    "np.random.seed(25)\n",
    "tf.executing_eagerly()\n",
    "\n",
    "def compute_latent(x):\n",
    "    batch = K.shape(mu)[0] # mu and sigma defined after encoder is built\n",
    "    dim = K.int_shape(mu)[1]\n",
    "    eps = K.random_normal(shape=(batch,dim))\n",
    "    return mu + K.exp(sigma/2)*eps\n",
    "\n",
    "def kl_reconstruction_loss(true, pred):\n",
    "    reconstruction_loss = binary_crossentropy(K.flatten(true), K.flatten(pred)) * img_width * img_height\n",
    "    kl_loss = 1 + sigma - K.square(mu) - K.exp(sigma) # mu and sigma input to loss function\n",
    "    kl_loss = K.sum(kl_loss, axis=-1)\n",
    "    kl_loss *= -0.5\n",
    "    return K.mean(reconstruction_loss + kl_loss)\n",
    "\n",
    "img_height   = X_train_new.shape[1]\n",
    "img_width    = X_train_new.shape[2]\n",
    "num_channels = X_train_new.shape[3]\n",
    "input_shape =  (img_height, img_width, num_channels)\n",
    "\n",
    "encoder_input = Input(shape=input_shape)\n",
    "encoder_conv = Conv2D(filters=8, kernel_size=3, strides=2, \n",
    "                padding='same', activation='relu')(encoder_input)\n",
    "encoder_conv = Conv2D(filters=16, kernel_size=3, strides=2,\n",
    "                padding='same', activation='relu')(encoder_input) # Overwrite (?)\n",
    "encoder = Flatten()(encoder_conv)                                 # see model.summary() in slides\n",
    "\n",
    "mu = Dense(latent_dim)(encoder)     # mu defined\n",
    "sigma = Dense(latent_dim)(encoder)  # sigma defined\n",
    "                                                                # 2 args to compute lambda\n",
    "latent_space = Lambda(compute_latent, output_shape=(latent_dim,))([mu, sigma])\n",
    "                    \n",
    "conv_shape = K.int_shape(encoder_conv)\n",
    "decoder_input = Input(shape=(latent_dim,))\n",
    "decoder = Dense(conv_shape[1]*conv_shape[2]*conv_shape[3], activation='relu')(decoder_input)\n",
    "decoder = Reshape((conv_shape[1], conv_shape[2], conv_shape[3]))(decoder)\n",
    "decoder_conv = Conv2DTranspose(filters=16, kernel_size=3, strides=2, \n",
    "                           padding='same', activation='relu')(decoder)\n",
    "decoder_conv = Conv2DTranspose(filters=8, kernel_size=3, strides=2, \n",
    "                           padding='same', activation='relu')(decoder)\n",
    "decoder_conv =  Conv2DTranspose(filters=num_channels, kernel_size=3, \n",
    "                          padding='same', activation='sigmoid')(decoder_conv)\n",
    "encoder = Model(encoder_input, latent_space)\n",
    "decoder = Model(decoder_input, decoder_conv)\n",
    "vae = Model(encoder_input, decoder(encoder(encoder_input)))\n",
    "vae.compile(optimizer='adam', loss=kl_reconstruction_loss)  # blank model set for (pre)training"
   ]
  },
  {
   "cell_type": "code",
   "execution_count": 10,
   "id": "006fb114-3db3-42b0-a661-684ed1200edb",
   "metadata": {},
   "outputs": [],
   "source": [
    "epochs = 32 # Number of forward / back pass cycles to set model params with training"
   ]
  },
  {
   "cell_type": "code",
   "execution_count": 11,
   "id": "da696dbf-9c7c-46ba-8115-3d6741c83bff",
   "metadata": {},
   "outputs": [
    {
     "name": "stdout",
     "output_type": "stream",
     "text": [
      "Train on 746 samples, validate on 249 samples\n",
      "Epoch 1/32\n"
     ]
    },
    {
     "name": "stderr",
     "output_type": "stream",
     "text": [
      "2022-08-18 13:39:07.167709: I tensorflow/core/platform/cpu_feature_guard.cc:193] This TensorFlow binary is optimized with oneAPI Deep Neural Network Library (oneDNN) to use the following CPU instructions in performance-critical operations:  AVX2 FMA\n",
      "To enable them in other operations, rebuild TensorFlow with the appropriate compiler flags.\n",
      "2022-08-18 13:39:07.193164: I tensorflow/compiler/mlir/mlir_graph_optimization_pass.cc:354] MLIR V1 optimization pass is not enabled\n"
     ]
    },
    {
     "name": "stdout",
     "output_type": "stream",
     "text": [
      "736/746 [============================>.] - ETA: 0s - loss: 13282.1316"
     ]
    },
    {
     "name": "stderr",
     "output_type": "stream",
     "text": [
      "/Users/karlberb/opt/anaconda3/lib/python3.9/site-packages/keras/engine/training_v1.py:2045: UserWarning: `Model.state_updates` will be removed in a future version. This property should not be used in TensorFlow 2.0, as `updates` are applied automatically.\n",
      "  updates = self.state_updates\n"
     ]
    },
    {
     "name": "stdout",
     "output_type": "stream",
     "text": [
      "746/746 [==============================] - 3s 5ms/sample - loss: 13268.4289 - val_loss: 12123.1658\n",
      "Epoch 2/32\n",
      "746/746 [==============================] - 3s 4ms/sample - loss: 11746.8617 - val_loss: 11344.2825\n",
      "Epoch 3/32\n",
      "746/746 [==============================] - 3s 4ms/sample - loss: 11091.0538 - val_loss: 10834.0824\n",
      "Epoch 4/32\n",
      "746/746 [==============================] - 3s 4ms/sample - loss: 10691.5880 - val_loss: 10549.6990\n",
      "Epoch 5/32\n",
      "746/746 [==============================] - 3s 5ms/sample - loss: 10474.7792 - val_loss: 10394.2416\n",
      "Epoch 6/32\n",
      "746/746 [==============================] - 4s 5ms/sample - loss: 10350.6333 - val_loss: 10300.0038\n",
      "Epoch 7/32\n",
      "746/746 [==============================] - 4s 5ms/sample - loss: 10271.7490 - val_loss: 10236.7187\n",
      "Epoch 8/32\n",
      "746/746 [==============================] - 4s 5ms/sample - loss: 10219.6292 - val_loss: 10193.7691\n",
      "Epoch 9/32\n",
      "746/746 [==============================] - 3s 5ms/sample - loss: 10181.8030 - val_loss: 10161.8202\n",
      "Epoch 10/32\n",
      "746/746 [==============================] - 4s 5ms/sample - loss: 10153.4445 - val_loss: 10134.9446\n",
      "Epoch 11/32\n",
      "746/746 [==============================] - 4s 5ms/sample - loss: 10131.4638 - val_loss: 10117.5981\n",
      "Epoch 12/32\n",
      "746/746 [==============================] - 4s 6ms/sample - loss: 10115.6049 - val_loss: 10099.0239\n",
      "Epoch 13/32\n",
      "746/746 [==============================] - 4s 5ms/sample - loss: 10099.5064 - val_loss: 10093.5525\n",
      "Epoch 14/32\n",
      "746/746 [==============================] - 4s 5ms/sample - loss: 10085.6964 - val_loss: 10081.1703\n",
      "Epoch 15/32\n",
      "746/746 [==============================] - 4s 5ms/sample - loss: 10073.9997 - val_loss: 10062.1884\n",
      "Epoch 16/32\n",
      "746/746 [==============================] - 4s 5ms/sample - loss: 10063.0683 - val_loss: 10051.1788\n",
      "Epoch 17/32\n",
      "746/746 [==============================] - 4s 5ms/sample - loss: 10049.4161 - val_loss: 10039.2746\n",
      "Epoch 18/32\n",
      "746/746 [==============================] - 4s 5ms/sample - loss: 10036.5767 - val_loss: 10039.0309\n",
      "Epoch 19/32\n",
      "746/746 [==============================] - 4s 5ms/sample - loss: 10027.2900 - val_loss: 10015.8726\n",
      "Epoch 20/32\n",
      "746/746 [==============================] - 4s 5ms/sample - loss: 10009.7543 - val_loss: 10003.8789\n",
      "Epoch 21/32\n",
      "746/746 [==============================] - 4s 5ms/sample - loss: 9995.0001 - val_loss: 9987.6147\n",
      "Epoch 22/32\n",
      "746/746 [==============================] - 4s 5ms/sample - loss: 9980.3984 - val_loss: 9976.0096\n",
      "Epoch 23/32\n",
      "746/746 [==============================] - 4s 5ms/sample - loss: 9967.8673 - val_loss: 9966.5832\n",
      "Epoch 24/32\n",
      "746/746 [==============================] - 4s 5ms/sample - loss: 9957.7039 - val_loss: 9957.6878\n",
      "Epoch 25/32\n",
      "746/746 [==============================] - 4s 5ms/sample - loss: 9948.6034 - val_loss: 9947.6042\n",
      "Epoch 26/32\n",
      "746/746 [==============================] - 3s 4ms/sample - loss: 9940.3449 - val_loss: 9941.6899\n",
      "Epoch 27/32\n",
      "746/746 [==============================] - 3s 5ms/sample - loss: 9933.3549 - val_loss: 9936.4722\n",
      "Epoch 28/32\n",
      "746/746 [==============================] - 3s 5ms/sample - loss: 9925.6712 - val_loss: 9928.2868\n",
      "Epoch 29/32\n",
      "746/746 [==============================] - 3s 5ms/sample - loss: 9916.4406 - val_loss: 9923.4169\n",
      "Epoch 30/32\n",
      "746/746 [==============================] - 3s 5ms/sample - loss: 9910.2750 - val_loss: 9919.3212\n",
      "Epoch 31/32\n",
      "746/746 [==============================] - 3s 5ms/sample - loss: 9904.2780 - val_loss: 9917.1976\n",
      "Epoch 32/32\n",
      "746/746 [==============================] - 3s 5ms/sample - loss: 9900.3301 - val_loss: 9913.8013\n"
     ]
    },
    {
     "data": {
      "image/png": "[encoded data removed]",
      "text/plain": [
       "<Figure size 432x288 with 1 Axes>"
      ]
     },
     "metadata": {
      "needs_background": "light"
     },
     "output_type": "display_data"
    }
   ],
   "source": [
    "# TCGA VAE training function\n",
    "history = vae.fit(x=X_train_new, y=X_train_new, epochs=epochs,\n",
    "                                                  # Here is where the validation data goes\n",
    "                  batch_size=32, validation_data=(X_test_new, X_test_new))\n",
    "\n",
    "# Separate plotting from training here            <------- plot only devel break point\n",
    "plt.plot(history.history['loss'],label=\"loss\")\n",
    "plt.plot(history.history['val_loss'],label=\"val_loss\")\n",
    "plt.title('VAE embedding loss, '+\n",
    "          file.index.name+', latent dim = '+str(latent_dim))\n",
    "plt.xlabel('Epoch')\n",
    "plt.ylabel('Loss')\n",
    "plt.annotate('VAE layer type: Conv2dTranspose\\n'\\\n",
    "                'dtype: uint8, normalized\\ntest_size = .25',\n",
    "            xy=(.4, .8), xycoords='figure fraction',\n",
    "            horizontalalignment='left', verticalalignment='top',\n",
    "            # fontsize=20\n",
    "            )\n",
    "\n",
    "plt.legend(loc=\"lower left\")\n",
    "# plt.savefig('dir_n/cohort_n'+str(epochs)+'_epochs_2022-08-date_version.png')\n",
    "plt.savefig('TCGA_VAE_out/'+\n",
    "            file.index.name+'_'+\n",
    "            str(epochs)+'_epochs_'+\n",
    "            str(latent_dim)+'_latent_dim_'+\n",
    "            date+'_'+version+'.png')"
   ]
  },
  {
   "cell_type": "code",
   "execution_count": 14,
   "id": "2e3c9a7a-36df-4b8b-89d0-10ebdde9fef2",
   "metadata": {},
   "outputs": [],
   "source": [
    "# Generate and prep latent feature space for subtype-specfic latent feature generation\n",
    "encoded = encoder.predict(X_train_new)\n",
    "encDF = pd.DataFrame(encoded)\n",
    "encDF.insert(0, 'Labels', trn_y_list) # Adding back labls to subset on subtype"
   ]
  },
  {
   "cell_type": "code",
   "execution_count": 17,
   "id": "34e9229d-b058-4c88-8f0f-347e7a0c0d23",
   "metadata": {},
   "outputs": [
    {
     "data": {
      "text/plain": [
       "Index([0, 1, 2, 3], dtype='object')"
      ]
     },
     "execution_count": 17,
     "metadata": {},
     "output_type": "execute_result"
    }
   ],
   "source": [
    "sub_n.columns[1:] "
   ]
  },
  {
   "cell_type": "code",
   "execution_count": 23,
   "id": "85adaf34-dd41-47f5-93ca-5b190bfc8f21",
   "metadata": {},
   "outputs": [
    {
     "data": {
      "text/plain": [
       "0      3.897506\n",
       "2      5.087799\n",
       "3      5.709345\n",
       "4      3.817804\n",
       "7      3.722259\n",
       "         ...   \n",
       "738    6.795300\n",
       "742    6.748266\n",
       "743    3.437369\n",
       "744    4.897128\n",
       "745    3.538478\n",
       "Name: 0, Length: 401, dtype: float32"
      ]
     },
     "execution_count": 23,
     "metadata": {},
     "output_type": "execute_result"
    }
   ],
   "source": [
    "col"
   ]
  },
  {
   "cell_type": "code",
   "execution_count": 24,
   "id": "496df9b2-0a49-41ff-b046-8318d48ca805",
   "metadata": {},
   "outputs": [
    {
     "data": {
      "text/plain": [
       "Int64Index([  0,   2,   3,   4,   7,   9,  10,  12,  13,  14,\n",
       "            ...\n",
       "            730, 731, 732, 733, 734, 738, 742, 743, 744, 745],\n",
       "           dtype='int64', length=401)"
      ]
     },
     "execution_count": 24,
     "metadata": {},
     "output_type": "execute_result"
    }
   ],
   "source": [
    "col.index # skipping, index from befor train / test split is preserved"
   ]
  },
  {
   "cell_type": "code",
   "execution_count": 26,
   "id": "b0ae54ed-061c-4989-be54-bc8df9a8d11b",
   "metadata": {},
   "outputs": [],
   "source": [
    "import random"
   ]
  },
  {
   "cell_type": "code",
   "execution_count": 30,
   "id": "a550fc0e-470b-48f0-b59c-8dae2cc86c5c",
   "metadata": {},
   "outputs": [
    {
     "data": {
      "text/plain": [
       "2"
      ]
     },
     "execution_count": 30,
     "metadata": {},
     "output_type": "execute_result"
    }
   ],
   "source": [
    "col.index[1]"
   ]
  },
  {
   "cell_type": "code",
   "execution_count": 34,
   "id": "05ea5bc6-b072-4e50-b0a3-239bc02502f8",
   "metadata": {
    "tags": []
   },
   "outputs": [],
   "source": [
    "rdx = random.sample(list(col.index), 1)"
   ]
  },
  {
   "cell_type": "code",
   "execution_count": 35,
   "id": "922db150-b505-4171-acd8-8648bc89b5fc",
   "metadata": {},
   "outputs": [
    {
     "data": {
      "text/plain": [
       "[556]"
      ]
     },
     "execution_count": 35,
     "metadata": {},
     "output_type": "execute_result"
    }
   ],
   "source": [
    "rdx"
   ]
  },
  {
   "cell_type": "code",
   "execution_count": 126,
   "id": "ac6ad1d4-b348-4420-8cb3-1b235d38f737",
   "metadata": {},
   "outputs": [
    {
     "data": {
      "text/plain": [
       "2500"
      ]
     },
     "execution_count": 126,
     "metadata": {},
     "output_type": "execute_result"
    }
   ],
   "source": [
    "(random_samples_per_latent_feature*\n",
    "random_pairs_per_samples)"
   ]
  },
  {
   "cell_type": "code",
   "execution_count": 137,
   "id": "1c9f0acc-d503-441d-9194-7d16d675dcbd",
   "metadata": {},
   "outputs": [
    {
     "name": "stdout",
     "output_type": "stream",
     "text": [
      "BRCA_1\n",
      "starting column  0\n",
      "column run time:  0.6757609844207764\n",
      " \n",
      "starting column  1\n",
      "column run time:  0.634835958480835\n",
      " \n",
      "starting column  2\n",
      "column run time:  0.6436009407043457\n",
      " \n",
      "starting column  3\n",
      "column run time:  0.6373608112335205\n",
      " \n",
      "output dictionary built for this subtype\n",
      "2500 k samples generated for this subtype, converting 2D arrays back to rows\n",
      "starting row converter\n",
      "row converter run time 7.280970096588135\n",
      "file write time 61.396124839782715\n",
      "BRCA_2\n",
      "starting column  0\n",
      "column run time:  0.5926320552825928\n",
      " \n",
      "starting column  1\n",
      "column run time:  0.6469550132751465\n",
      " \n",
      "starting column  2\n",
      "column run time:  0.6508030891418457\n",
      " \n",
      "starting column  3\n",
      "column run time:  0.5940961837768555\n",
      " \n",
      "output dictionary built for this subtype\n",
      "2500 k samples generated for this subtype, converting 2D arrays back to rows\n",
      "starting row converter\n",
      "row converter run time 7.095122814178467\n",
      "file write time 61.66805076599121\n",
      "BRCA_3\n",
      "starting column  0\n",
      "column run time:  0.6130020618438721\n",
      " \n",
      "starting column  1\n",
      "column run time:  0.6161611080169678\n",
      " \n",
      "starting column  2\n",
      "column run time:  0.6033411026000977\n",
      " \n",
      "starting column  3\n",
      "column run time:  0.5986049175262451\n",
      " \n",
      "output dictionary built for this subtype\n",
      "2500 k samples generated for this subtype, converting 2D arrays back to rows\n",
      "starting row converter\n",
      "row converter run time 7.2462499141693115\n",
      "file write time 63.42982721328735\n",
      "BRCA_4\n",
      "starting column  0\n",
      "column run time:  0.6099028587341309\n",
      " \n",
      "starting column  1\n",
      "column run time:  0.6054482460021973\n",
      " \n",
      "starting column  2\n",
      "column run time:  0.6033129692077637\n",
      " \n",
      "starting column  3\n",
      "column run time:  0.6182262897491455\n",
      " \n",
      "output dictionary built for this subtype\n",
      "2500 k samples generated for this subtype, converting 2D arrays back to rows\n",
      "starting row converter\n",
      "row converter run time 7.958997011184692\n",
      "file write time 62.865018129348755\n"
     ]
    }
   ],
   "source": [
    "# Take average of random latent feature pairs to generate synthetic samples\n",
    "random_samples_per_latent_feature = 50\n",
    "random_pairs_per_samples = 50\n",
    "for sb_typ in sorted(encDF.Labels.unique()):\n",
    "    # break\n",
    "    print(sb_typ)\n",
    "    sub_n = encDF[encDF.Labels == sb_typ] # subset on a subtype\n",
    "    \n",
    "    sub_start = time.time()\n",
    "    \n",
    "    synth_TCGA_latent_sub_n = {} # replace with numpy array to directly poplulate with synth samples (?)\n",
    "    \n",
    "    for i in sub_n.columns[1:]: # Table of latent feature values for subtype_n, want exhaustive iteration\n",
    "        print('starting column ', i)\n",
    "        \n",
    "        col = sub_n.loc[:,i]\n",
    "\n",
    "        synthetic_latent_feature_vals = [] # want 5k or so\n",
    "        \n",
    "        col_start = time.time()\n",
    "        # for j, ndx in enumerate(col.index): # sample loop, replace with random sampling\n",
    "        for j in list(range(0, random_samples_per_latent_feature)):\n",
    "            rdx = random.sample(list(col.index), 1)\n",
    "             # break # Break stepping through each sample's latent feature value within this column\n",
    "               \n",
    "            # val = col[ndx] # Take a value from this latent feature column\n",
    "            # col_not = col.drop(ndx)\n",
    "            val = col[rdx]   \n",
    "            col_not = col.drop(rdx)\n",
    "                      \n",
    "            pair_val_list = [] # all pairs for the 'val' latent feature for this sample\n",
    "            # for ndx_not in col_not.index: # Observation: taking the difference of vals seems to tighten the joint dist\n",
    "            for k in list(range(0,random_pairs_per_samples)):\n",
    "                rdx_not = random.sample(list(col_not.index), 1)\n",
    "                      \n",
    "                # val_not = col_not[ndx_not]\n",
    "                val_not = col_not[rdx_not]      \n",
    "                      \n",
    "                # print(val, val_not)\n",
    "                new_val = (val.values + val_not.values) / 2 # Generate a synthetic feature value\n",
    "                pair_val_list.append(new_val[0]) # synthetic feature values for this one latent feature in this one column\n",
    "\n",
    "                # break\n",
    "            synthetic_latent_feature_vals = synthetic_latent_feature_vals + pair_val_list\n",
    "        \n",
    "        col_end = time.time() - col_start\n",
    "        print('column run time: ', col_end)\n",
    "        print(' ')\n",
    "        # break # Break column loop\n",
    "        \n",
    "        synth_TCGA_latent_sub_n[str(i)+'_latent'] = synthetic_latent_feature_vals\n",
    "    \n",
    "    print('output dictionary built for this subtype')\n",
    "    # break # break subtype loop\n",
    "    \n",
    "    synth_TCGA_latent_sub_nDF = pd.DataFrame(synth_TCGA_latent_sub_n)\n",
    "    \n",
    "    sub_end = time.time() - sub_start\n",
    "    \n",
    "    synth_TCGA = decoder.predict(np.array(synth_TCGA_latent_sub_nDF))\n",
    "    print((random_samples_per_latent_feature*\n",
    "          random_pairs_per_samples),\n",
    "          'k samples generated for this subtype,'\\\n",
    "          ' converting 2D arrays back to rows')\n",
    "    flat = {}\n",
    "    idx = -1\n",
    "    \n",
    "    print('starting row converter')\n",
    "    row_time = time.time()\n",
    "    for i in synth_TCGA: # all samples of same subtype at this point\n",
    "        list_out = []\n",
    "        for out_val in i.reshape(20736):\n",
    "            list_out.append(out_val)\n",
    "        idx = idx+1 # sample index\n",
    "        flat[idx] = list_out\n",
    "    print('row converter run time', time.time()-row_time)    \n",
    "        \n",
    "    flatDF = pd.DataFrame(flat)\n",
    "    flatDF = flatDF.T\n",
    "    \n",
    "    write_start = time.time()\n",
    "    flatDF.to_csv('synth_TCGA/flat_out_'+sb_typ+'.tsv',\n",
    "                 sep = '\\t')\n",
    "    # np.save('synth_TCGA/synth_'+sb_typ+'.npy', synth_TCGA)\n",
    "    write_end = time.time() - write_start\n",
    "    print('file write time '+str(write_end))\n",
    "    print(' ')\n",
    "    # break # n = 4 BRCA subtype loop"
   ]
  },
  {
   "cell_type": "code",
   "execution_count": 135,
   "id": "1859bb6a-fd67-437a-8d04-69264b10b9dc",
   "metadata": {},
   "outputs": [],
   "source": [
    "test_read = pd.read_csv('synth_TCGA/flat_out_BRCA_1.tsv',\n",
    "                       sep = '\\t',\n",
    "                       index_col = 0)"
   ]
  },
  {
   "cell_type": "code",
   "execution_count": 136,
   "id": "6d694559-2b5b-4cab-ad0a-a56e904da956",
   "metadata": {},
   "outputs": [
    {
     "data": {
      "text/html": [
       "<div>\n",
       "<style scoped>\n",
       "    .dataframe tbody tr th:only-of-type {\n",
       "        vertical-align: middle;\n",
       "    }\n",
       "\n",
       "    .dataframe tbody tr th {\n",
       "        vertical-align: top;\n",
       "    }\n",
       "\n",
       "    .dataframe thead th {\n",
       "        text-align: right;\n",
       "    }\n",
       "</style>\n",
       "<table border=\"1\" class=\"dataframe\">\n",
       "  <thead>\n",
       "    <tr style=\"text-align: right;\">\n",
       "      <th></th>\n",
       "      <th>0</th>\n",
       "      <th>1</th>\n",
       "      <th>2</th>\n",
       "      <th>3</th>\n",
       "      <th>4</th>\n",
       "      <th>5</th>\n",
       "      <th>6</th>\n",
       "      <th>7</th>\n",
       "      <th>8</th>\n",
       "      <th>9</th>\n",
       "      <th>...</th>\n",
       "      <th>20726</th>\n",
       "      <th>20727</th>\n",
       "      <th>20728</th>\n",
       "      <th>20729</th>\n",
       "      <th>20730</th>\n",
       "      <th>20731</th>\n",
       "      <th>20732</th>\n",
       "      <th>20733</th>\n",
       "      <th>20734</th>\n",
       "      <th>20735</th>\n",
       "    </tr>\n",
       "  </thead>\n",
       "  <tbody>\n",
       "    <tr>\n",
       "      <th>0</th>\n",
       "      <td>0.011428</td>\n",
       "      <td>0.003253</td>\n",
       "      <td>0.040120</td>\n",
       "      <td>0.489319</td>\n",
       "      <td>0.487461</td>\n",
       "      <td>0.000409</td>\n",
       "      <td>0.477514</td>\n",
       "      <td>0.001920</td>\n",
       "      <td>0.004227</td>\n",
       "      <td>0.000056</td>\n",
       "      <td>...</td>\n",
       "      <td>0.000139</td>\n",
       "      <td>0.000421</td>\n",
       "      <td>0.000208</td>\n",
       "      <td>0.000771</td>\n",
       "      <td>0.003387</td>\n",
       "      <td>0.002449</td>\n",
       "      <td>0.000999</td>\n",
       "      <td>0.000148</td>\n",
       "      <td>0.000079</td>\n",
       "      <td>0.002065</td>\n",
       "    </tr>\n",
       "    <tr>\n",
       "      <th>1</th>\n",
       "      <td>0.009801</td>\n",
       "      <td>0.002687</td>\n",
       "      <td>0.038367</td>\n",
       "      <td>0.470500</td>\n",
       "      <td>0.503215</td>\n",
       "      <td>0.000352</td>\n",
       "      <td>0.480132</td>\n",
       "      <td>0.001727</td>\n",
       "      <td>0.006070</td>\n",
       "      <td>0.000047</td>\n",
       "      <td>...</td>\n",
       "      <td>0.000107</td>\n",
       "      <td>0.000266</td>\n",
       "      <td>0.000163</td>\n",
       "      <td>0.000602</td>\n",
       "      <td>0.003042</td>\n",
       "      <td>0.002407</td>\n",
       "      <td>0.000795</td>\n",
       "      <td>0.000155</td>\n",
       "      <td>0.000056</td>\n",
       "      <td>0.001752</td>\n",
       "    </tr>\n",
       "    <tr>\n",
       "      <th>2</th>\n",
       "      <td>0.013625</td>\n",
       "      <td>0.004187</td>\n",
       "      <td>0.048297</td>\n",
       "      <td>0.472674</td>\n",
       "      <td>0.501233</td>\n",
       "      <td>0.000576</td>\n",
       "      <td>0.471887</td>\n",
       "      <td>0.002658</td>\n",
       "      <td>0.006209</td>\n",
       "      <td>0.000062</td>\n",
       "      <td>...</td>\n",
       "      <td>0.000171</td>\n",
       "      <td>0.000421</td>\n",
       "      <td>0.000263</td>\n",
       "      <td>0.000912</td>\n",
       "      <td>0.004983</td>\n",
       "      <td>0.004157</td>\n",
       "      <td>0.001385</td>\n",
       "      <td>0.000194</td>\n",
       "      <td>0.000105</td>\n",
       "      <td>0.002374</td>\n",
       "    </tr>\n",
       "    <tr>\n",
       "      <th>3</th>\n",
       "      <td>0.015521</td>\n",
       "      <td>0.004915</td>\n",
       "      <td>0.052540</td>\n",
       "      <td>0.472192</td>\n",
       "      <td>0.497709</td>\n",
       "      <td>0.000679</td>\n",
       "      <td>0.469988</td>\n",
       "      <td>0.003304</td>\n",
       "      <td>0.007208</td>\n",
       "      <td>0.000078</td>\n",
       "      <td>...</td>\n",
       "      <td>0.000223</td>\n",
       "      <td>0.000566</td>\n",
       "      <td>0.000328</td>\n",
       "      <td>0.001121</td>\n",
       "      <td>0.005533</td>\n",
       "      <td>0.004518</td>\n",
       "      <td>0.001652</td>\n",
       "      <td>0.000214</td>\n",
       "      <td>0.000129</td>\n",
       "      <td>0.002760</td>\n",
       "    </tr>\n",
       "    <tr>\n",
       "      <th>4</th>\n",
       "      <td>0.013582</td>\n",
       "      <td>0.004086</td>\n",
       "      <td>0.046844</td>\n",
       "      <td>0.482375</td>\n",
       "      <td>0.496553</td>\n",
       "      <td>0.000596</td>\n",
       "      <td>0.477280</td>\n",
       "      <td>0.002609</td>\n",
       "      <td>0.006904</td>\n",
       "      <td>0.000088</td>\n",
       "      <td>...</td>\n",
       "      <td>0.000199</td>\n",
       "      <td>0.000520</td>\n",
       "      <td>0.000295</td>\n",
       "      <td>0.001023</td>\n",
       "      <td>0.004449</td>\n",
       "      <td>0.003437</td>\n",
       "      <td>0.001325</td>\n",
       "      <td>0.000246</td>\n",
       "      <td>0.000114</td>\n",
       "      <td>0.002668</td>\n",
       "    </tr>\n",
       "    <tr>\n",
       "      <th>...</th>\n",
       "      <td>...</td>\n",
       "      <td>...</td>\n",
       "      <td>...</td>\n",
       "      <td>...</td>\n",
       "      <td>...</td>\n",
       "      <td>...</td>\n",
       "      <td>...</td>\n",
       "      <td>...</td>\n",
       "      <td>...</td>\n",
       "      <td>...</td>\n",
       "      <td>...</td>\n",
       "      <td>...</td>\n",
       "      <td>...</td>\n",
       "      <td>...</td>\n",
       "      <td>...</td>\n",
       "      <td>...</td>\n",
       "      <td>...</td>\n",
       "      <td>...</td>\n",
       "      <td>...</td>\n",
       "      <td>...</td>\n",
       "      <td>...</td>\n",
       "    </tr>\n",
       "    <tr>\n",
       "      <th>2495</th>\n",
       "      <td>0.029314</td>\n",
       "      <td>0.011216</td>\n",
       "      <td>0.086576</td>\n",
       "      <td>0.458798</td>\n",
       "      <td>0.521895</td>\n",
       "      <td>0.002691</td>\n",
       "      <td>0.493945</td>\n",
       "      <td>0.008631</td>\n",
       "      <td>0.027257</td>\n",
       "      <td>0.000558</td>\n",
       "      <td>...</td>\n",
       "      <td>0.000999</td>\n",
       "      <td>0.001562</td>\n",
       "      <td>0.001358</td>\n",
       "      <td>0.003483</td>\n",
       "      <td>0.013514</td>\n",
       "      <td>0.012292</td>\n",
       "      <td>0.004663</td>\n",
       "      <td>0.001545</td>\n",
       "      <td>0.000581</td>\n",
       "      <td>0.007856</td>\n",
       "    </tr>\n",
       "    <tr>\n",
       "      <th>2496</th>\n",
       "      <td>0.023572</td>\n",
       "      <td>0.008568</td>\n",
       "      <td>0.073058</td>\n",
       "      <td>0.466547</td>\n",
       "      <td>0.514546</td>\n",
       "      <td>0.001698</td>\n",
       "      <td>0.482912</td>\n",
       "      <td>0.005904</td>\n",
       "      <td>0.015067</td>\n",
       "      <td>0.000246</td>\n",
       "      <td>...</td>\n",
       "      <td>0.000549</td>\n",
       "      <td>0.001010</td>\n",
       "      <td>0.000805</td>\n",
       "      <td>0.002271</td>\n",
       "      <td>0.010694</td>\n",
       "      <td>0.009725</td>\n",
       "      <td>0.003350</td>\n",
       "      <td>0.000768</td>\n",
       "      <td>0.000360</td>\n",
       "      <td>0.005357</td>\n",
       "    </tr>\n",
       "    <tr>\n",
       "      <th>2497</th>\n",
       "      <td>0.015925</td>\n",
       "      <td>0.005102</td>\n",
       "      <td>0.053583</td>\n",
       "      <td>0.478395</td>\n",
       "      <td>0.504549</td>\n",
       "      <td>0.000840</td>\n",
       "      <td>0.480052</td>\n",
       "      <td>0.003255</td>\n",
       "      <td>0.008653</td>\n",
       "      <td>0.000117</td>\n",
       "      <td>...</td>\n",
       "      <td>0.000262</td>\n",
       "      <td>0.000593</td>\n",
       "      <td>0.000397</td>\n",
       "      <td>0.001280</td>\n",
       "      <td>0.006041</td>\n",
       "      <td>0.005059</td>\n",
       "      <td>0.001777</td>\n",
       "      <td>0.000370</td>\n",
       "      <td>0.000166</td>\n",
       "      <td>0.003347</td>\n",
       "    </tr>\n",
       "    <tr>\n",
       "      <th>2498</th>\n",
       "      <td>0.016172</td>\n",
       "      <td>0.005220</td>\n",
       "      <td>0.055713</td>\n",
       "      <td>0.467221</td>\n",
       "      <td>0.510979</td>\n",
       "      <td>0.000874</td>\n",
       "      <td>0.482407</td>\n",
       "      <td>0.003483</td>\n",
       "      <td>0.010404</td>\n",
       "      <td>0.000122</td>\n",
       "      <td>...</td>\n",
       "      <td>0.000272</td>\n",
       "      <td>0.000558</td>\n",
       "      <td>0.000407</td>\n",
       "      <td>0.001284</td>\n",
       "      <td>0.006317</td>\n",
       "      <td>0.005471</td>\n",
       "      <td>0.001814</td>\n",
       "      <td>0.000397</td>\n",
       "      <td>0.000163</td>\n",
       "      <td>0.003338</td>\n",
       "    </tr>\n",
       "    <tr>\n",
       "      <th>2499</th>\n",
       "      <td>0.015116</td>\n",
       "      <td>0.004701</td>\n",
       "      <td>0.052202</td>\n",
       "      <td>0.471878</td>\n",
       "      <td>0.507182</td>\n",
       "      <td>0.000788</td>\n",
       "      <td>0.486113</td>\n",
       "      <td>0.003233</td>\n",
       "      <td>0.011009</td>\n",
       "      <td>0.000135</td>\n",
       "      <td>...</td>\n",
       "      <td>0.000266</td>\n",
       "      <td>0.000580</td>\n",
       "      <td>0.000388</td>\n",
       "      <td>0.001252</td>\n",
       "      <td>0.005277</td>\n",
       "      <td>0.004304</td>\n",
       "      <td>0.001570</td>\n",
       "      <td>0.000404</td>\n",
       "      <td>0.000146</td>\n",
       "      <td>0.003309</td>\n",
       "    </tr>\n",
       "  </tbody>\n",
       "</table>\n",
       "<p>2500 rows × 20736 columns</p>\n",
       "</div>"
      ],
      "text/plain": [
       "             0         1         2         3         4         5         6  \\\n",
       "0     0.011428  0.003253  0.040120  0.489319  0.487461  0.000409  0.477514   \n",
       "1     0.009801  0.002687  0.038367  0.470500  0.503215  0.000352  0.480132   \n",
       "2     0.013625  0.004187  0.048297  0.472674  0.501233  0.000576  0.471887   \n",
       "3     0.015521  0.004915  0.052540  0.472192  0.497709  0.000679  0.469988   \n",
       "4     0.013582  0.004086  0.046844  0.482375  0.496553  0.000596  0.477280   \n",
       "...        ...       ...       ...       ...       ...       ...       ...   \n",
       "2495  0.029314  0.011216  0.086576  0.458798  0.521895  0.002691  0.493945   \n",
       "2496  0.023572  0.008568  0.073058  0.466547  0.514546  0.001698  0.482912   \n",
       "2497  0.015925  0.005102  0.053583  0.478395  0.504549  0.000840  0.480052   \n",
       "2498  0.016172  0.005220  0.055713  0.467221  0.510979  0.000874  0.482407   \n",
       "2499  0.015116  0.004701  0.052202  0.471878  0.507182  0.000788  0.486113   \n",
       "\n",
       "             7         8         9  ...     20726     20727     20728  \\\n",
       "0     0.001920  0.004227  0.000056  ...  0.000139  0.000421  0.000208   \n",
       "1     0.001727  0.006070  0.000047  ...  0.000107  0.000266  0.000163   \n",
       "2     0.002658  0.006209  0.000062  ...  0.000171  0.000421  0.000263   \n",
       "3     0.003304  0.007208  0.000078  ...  0.000223  0.000566  0.000328   \n",
       "4     0.002609  0.006904  0.000088  ...  0.000199  0.000520  0.000295   \n",
       "...        ...       ...       ...  ...       ...       ...       ...   \n",
       "2495  0.008631  0.027257  0.000558  ...  0.000999  0.001562  0.001358   \n",
       "2496  0.005904  0.015067  0.000246  ...  0.000549  0.001010  0.000805   \n",
       "2497  0.003255  0.008653  0.000117  ...  0.000262  0.000593  0.000397   \n",
       "2498  0.003483  0.010404  0.000122  ...  0.000272  0.000558  0.000407   \n",
       "2499  0.003233  0.011009  0.000135  ...  0.000266  0.000580  0.000388   \n",
       "\n",
       "         20729     20730     20731     20732     20733     20734     20735  \n",
       "0     0.000771  0.003387  0.002449  0.000999  0.000148  0.000079  0.002065  \n",
       "1     0.000602  0.003042  0.002407  0.000795  0.000155  0.000056  0.001752  \n",
       "2     0.000912  0.004983  0.004157  0.001385  0.000194  0.000105  0.002374  \n",
       "3     0.001121  0.005533  0.004518  0.001652  0.000214  0.000129  0.002760  \n",
       "4     0.001023  0.004449  0.003437  0.001325  0.000246  0.000114  0.002668  \n",
       "...        ...       ...       ...       ...       ...       ...       ...  \n",
       "2495  0.003483  0.013514  0.012292  0.004663  0.001545  0.000581  0.007856  \n",
       "2496  0.002271  0.010694  0.009725  0.003350  0.000768  0.000360  0.005357  \n",
       "2497  0.001280  0.006041  0.005059  0.001777  0.000370  0.000166  0.003347  \n",
       "2498  0.001284  0.006317  0.005471  0.001814  0.000397  0.000163  0.003338  \n",
       "2499  0.001252  0.005277  0.004304  0.001570  0.000404  0.000146  0.003309  \n",
       "\n",
       "[2500 rows x 20736 columns]"
      ]
     },
     "execution_count": 136,
     "metadata": {},
     "output_type": "execute_result"
    }
   ],
   "source": [
    "test_read"
   ]
  },
  {
   "cell_type": "code",
   "execution_count": 130,
   "id": "54fcefbd-9d6c-47a0-ba86-8f5d9c0441f0",
   "metadata": {},
   "outputs": [
    {
     "name": "stdout",
     "output_type": "stream",
     "text": [
      "\u001b[34mdevel\u001b[m\u001b[m/               flat_out_BRCA.tsv    flat_out_BRCA_1.tsv\n"
     ]
    }
   ],
   "source": [
    "ls synth_TCGA"
   ]
  },
  {
   "cell_type": "code",
   "execution_count": 134,
   "id": "868ff496-6d36-4ca4-9260-32243c30ba8d",
   "metadata": {},
   "outputs": [
    {
     "data": {
      "text/html": [
       "<div>\n",
       "<style scoped>\n",
       "    .dataframe tbody tr th:only-of-type {\n",
       "        vertical-align: middle;\n",
       "    }\n",
       "\n",
       "    .dataframe tbody tr th {\n",
       "        vertical-align: top;\n",
       "    }\n",
       "\n",
       "    .dataframe thead th {\n",
       "        text-align: right;\n",
       "    }\n",
       "</style>\n",
       "<table border=\"1\" class=\"dataframe\">\n",
       "  <thead>\n",
       "    <tr style=\"text-align: right;\">\n",
       "      <th></th>\n",
       "      <th>0</th>\n",
       "      <th>1</th>\n",
       "      <th>2</th>\n",
       "      <th>3</th>\n",
       "      <th>4</th>\n",
       "      <th>5</th>\n",
       "      <th>6</th>\n",
       "      <th>7</th>\n",
       "      <th>8</th>\n",
       "      <th>9</th>\n",
       "      <th>...</th>\n",
       "      <th>20726</th>\n",
       "      <th>20727</th>\n",
       "      <th>20728</th>\n",
       "      <th>20729</th>\n",
       "      <th>20730</th>\n",
       "      <th>20731</th>\n",
       "      <th>20732</th>\n",
       "      <th>20733</th>\n",
       "      <th>20734</th>\n",
       "      <th>20735</th>\n",
       "    </tr>\n",
       "  </thead>\n",
       "  <tbody>\n",
       "    <tr>\n",
       "      <th>0</th>\n",
       "      <td>0.011428</td>\n",
       "      <td>0.003253</td>\n",
       "      <td>0.040120</td>\n",
       "      <td>0.489319</td>\n",
       "      <td>0.487461</td>\n",
       "      <td>0.000409</td>\n",
       "      <td>0.477514</td>\n",
       "      <td>0.001920</td>\n",
       "      <td>0.004227</td>\n",
       "      <td>0.000056</td>\n",
       "      <td>...</td>\n",
       "      <td>0.000139</td>\n",
       "      <td>0.000421</td>\n",
       "      <td>0.000208</td>\n",
       "      <td>0.000771</td>\n",
       "      <td>0.003387</td>\n",
       "      <td>0.002449</td>\n",
       "      <td>0.000999</td>\n",
       "      <td>0.000148</td>\n",
       "      <td>0.000079</td>\n",
       "      <td>0.002065</td>\n",
       "    </tr>\n",
       "    <tr>\n",
       "      <th>1</th>\n",
       "      <td>0.009801</td>\n",
       "      <td>0.002687</td>\n",
       "      <td>0.038367</td>\n",
       "      <td>0.470499</td>\n",
       "      <td>0.503215</td>\n",
       "      <td>0.000352</td>\n",
       "      <td>0.480132</td>\n",
       "      <td>0.001727</td>\n",
       "      <td>0.006070</td>\n",
       "      <td>0.000047</td>\n",
       "      <td>...</td>\n",
       "      <td>0.000107</td>\n",
       "      <td>0.000266</td>\n",
       "      <td>0.000163</td>\n",
       "      <td>0.000602</td>\n",
       "      <td>0.003042</td>\n",
       "      <td>0.002407</td>\n",
       "      <td>0.000795</td>\n",
       "      <td>0.000155</td>\n",
       "      <td>0.000056</td>\n",
       "      <td>0.001752</td>\n",
       "    </tr>\n",
       "    <tr>\n",
       "      <th>2</th>\n",
       "      <td>0.013625</td>\n",
       "      <td>0.004187</td>\n",
       "      <td>0.048297</td>\n",
       "      <td>0.472674</td>\n",
       "      <td>0.501233</td>\n",
       "      <td>0.000576</td>\n",
       "      <td>0.471887</td>\n",
       "      <td>0.002658</td>\n",
       "      <td>0.006209</td>\n",
       "      <td>0.000062</td>\n",
       "      <td>...</td>\n",
       "      <td>0.000171</td>\n",
       "      <td>0.000421</td>\n",
       "      <td>0.000263</td>\n",
       "      <td>0.000912</td>\n",
       "      <td>0.004983</td>\n",
       "      <td>0.004157</td>\n",
       "      <td>0.001385</td>\n",
       "      <td>0.000194</td>\n",
       "      <td>0.000105</td>\n",
       "      <td>0.002374</td>\n",
       "    </tr>\n",
       "    <tr>\n",
       "      <th>3</th>\n",
       "      <td>0.015521</td>\n",
       "      <td>0.004915</td>\n",
       "      <td>0.052540</td>\n",
       "      <td>0.472192</td>\n",
       "      <td>0.497709</td>\n",
       "      <td>0.000679</td>\n",
       "      <td>0.469988</td>\n",
       "      <td>0.003304</td>\n",
       "      <td>0.007208</td>\n",
       "      <td>0.000078</td>\n",
       "      <td>...</td>\n",
       "      <td>0.000223</td>\n",
       "      <td>0.000566</td>\n",
       "      <td>0.000328</td>\n",
       "      <td>0.001121</td>\n",
       "      <td>0.005533</td>\n",
       "      <td>0.004518</td>\n",
       "      <td>0.001652</td>\n",
       "      <td>0.000214</td>\n",
       "      <td>0.000129</td>\n",
       "      <td>0.002760</td>\n",
       "    </tr>\n",
       "    <tr>\n",
       "      <th>4</th>\n",
       "      <td>0.013582</td>\n",
       "      <td>0.004086</td>\n",
       "      <td>0.046844</td>\n",
       "      <td>0.482375</td>\n",
       "      <td>0.496552</td>\n",
       "      <td>0.000596</td>\n",
       "      <td>0.477280</td>\n",
       "      <td>0.002609</td>\n",
       "      <td>0.006904</td>\n",
       "      <td>0.000088</td>\n",
       "      <td>...</td>\n",
       "      <td>0.000199</td>\n",
       "      <td>0.000520</td>\n",
       "      <td>0.000295</td>\n",
       "      <td>0.001023</td>\n",
       "      <td>0.004449</td>\n",
       "      <td>0.003437</td>\n",
       "      <td>0.001325</td>\n",
       "      <td>0.000246</td>\n",
       "      <td>0.000114</td>\n",
       "      <td>0.002668</td>\n",
       "    </tr>\n",
       "    <tr>\n",
       "      <th>...</th>\n",
       "      <td>...</td>\n",
       "      <td>...</td>\n",
       "      <td>...</td>\n",
       "      <td>...</td>\n",
       "      <td>...</td>\n",
       "      <td>...</td>\n",
       "      <td>...</td>\n",
       "      <td>...</td>\n",
       "      <td>...</td>\n",
       "      <td>...</td>\n",
       "      <td>...</td>\n",
       "      <td>...</td>\n",
       "      <td>...</td>\n",
       "      <td>...</td>\n",
       "      <td>...</td>\n",
       "      <td>...</td>\n",
       "      <td>...</td>\n",
       "      <td>...</td>\n",
       "      <td>...</td>\n",
       "      <td>...</td>\n",
       "      <td>...</td>\n",
       "    </tr>\n",
       "    <tr>\n",
       "      <th>2495</th>\n",
       "      <td>0.029314</td>\n",
       "      <td>0.011216</td>\n",
       "      <td>0.086576</td>\n",
       "      <td>0.458798</td>\n",
       "      <td>0.521895</td>\n",
       "      <td>0.002691</td>\n",
       "      <td>0.493945</td>\n",
       "      <td>0.008631</td>\n",
       "      <td>0.027257</td>\n",
       "      <td>0.000558</td>\n",
       "      <td>...</td>\n",
       "      <td>0.000999</td>\n",
       "      <td>0.001562</td>\n",
       "      <td>0.001358</td>\n",
       "      <td>0.003483</td>\n",
       "      <td>0.013514</td>\n",
       "      <td>0.012292</td>\n",
       "      <td>0.004663</td>\n",
       "      <td>0.001545</td>\n",
       "      <td>0.000581</td>\n",
       "      <td>0.007856</td>\n",
       "    </tr>\n",
       "    <tr>\n",
       "      <th>2496</th>\n",
       "      <td>0.023572</td>\n",
       "      <td>0.008568</td>\n",
       "      <td>0.073058</td>\n",
       "      <td>0.466547</td>\n",
       "      <td>0.514546</td>\n",
       "      <td>0.001698</td>\n",
       "      <td>0.482912</td>\n",
       "      <td>0.005904</td>\n",
       "      <td>0.015067</td>\n",
       "      <td>0.000246</td>\n",
       "      <td>...</td>\n",
       "      <td>0.000549</td>\n",
       "      <td>0.001010</td>\n",
       "      <td>0.000805</td>\n",
       "      <td>0.002271</td>\n",
       "      <td>0.010694</td>\n",
       "      <td>0.009725</td>\n",
       "      <td>0.003350</td>\n",
       "      <td>0.000768</td>\n",
       "      <td>0.000360</td>\n",
       "      <td>0.005357</td>\n",
       "    </tr>\n",
       "    <tr>\n",
       "      <th>2497</th>\n",
       "      <td>0.015925</td>\n",
       "      <td>0.005102</td>\n",
       "      <td>0.053583</td>\n",
       "      <td>0.478395</td>\n",
       "      <td>0.504549</td>\n",
       "      <td>0.000840</td>\n",
       "      <td>0.480052</td>\n",
       "      <td>0.003255</td>\n",
       "      <td>0.008653</td>\n",
       "      <td>0.000117</td>\n",
       "      <td>...</td>\n",
       "      <td>0.000262</td>\n",
       "      <td>0.000593</td>\n",
       "      <td>0.000397</td>\n",
       "      <td>0.001280</td>\n",
       "      <td>0.006041</td>\n",
       "      <td>0.005059</td>\n",
       "      <td>0.001777</td>\n",
       "      <td>0.000370</td>\n",
       "      <td>0.000166</td>\n",
       "      <td>0.003347</td>\n",
       "    </tr>\n",
       "    <tr>\n",
       "      <th>2498</th>\n",
       "      <td>0.016172</td>\n",
       "      <td>0.005220</td>\n",
       "      <td>0.055713</td>\n",
       "      <td>0.467221</td>\n",
       "      <td>0.510979</td>\n",
       "      <td>0.000874</td>\n",
       "      <td>0.482407</td>\n",
       "      <td>0.003483</td>\n",
       "      <td>0.010404</td>\n",
       "      <td>0.000122</td>\n",
       "      <td>...</td>\n",
       "      <td>0.000272</td>\n",
       "      <td>0.000558</td>\n",
       "      <td>0.000407</td>\n",
       "      <td>0.001284</td>\n",
       "      <td>0.006317</td>\n",
       "      <td>0.005471</td>\n",
       "      <td>0.001814</td>\n",
       "      <td>0.000397</td>\n",
       "      <td>0.000163</td>\n",
       "      <td>0.003338</td>\n",
       "    </tr>\n",
       "    <tr>\n",
       "      <th>2499</th>\n",
       "      <td>0.015116</td>\n",
       "      <td>0.004701</td>\n",
       "      <td>0.052202</td>\n",
       "      <td>0.471878</td>\n",
       "      <td>0.507182</td>\n",
       "      <td>0.000788</td>\n",
       "      <td>0.486113</td>\n",
       "      <td>0.003233</td>\n",
       "      <td>0.011009</td>\n",
       "      <td>0.000135</td>\n",
       "      <td>...</td>\n",
       "      <td>0.000266</td>\n",
       "      <td>0.000580</td>\n",
       "      <td>0.000388</td>\n",
       "      <td>0.001252</td>\n",
       "      <td>0.005277</td>\n",
       "      <td>0.004304</td>\n",
       "      <td>0.001570</td>\n",
       "      <td>0.000404</td>\n",
       "      <td>0.000146</td>\n",
       "      <td>0.003309</td>\n",
       "    </tr>\n",
       "  </tbody>\n",
       "</table>\n",
       "<p>2500 rows × 20736 columns</p>\n",
       "</div>"
      ],
      "text/plain": [
       "         0         1         2         3         4         5         6      \\\n",
       "0     0.011428  0.003253  0.040120  0.489319  0.487461  0.000409  0.477514   \n",
       "1     0.009801  0.002687  0.038367  0.470499  0.503215  0.000352  0.480132   \n",
       "2     0.013625  0.004187  0.048297  0.472674  0.501233  0.000576  0.471887   \n",
       "3     0.015521  0.004915  0.052540  0.472192  0.497709  0.000679  0.469988   \n",
       "4     0.013582  0.004086  0.046844  0.482375  0.496552  0.000596  0.477280   \n",
       "...        ...       ...       ...       ...       ...       ...       ...   \n",
       "2495  0.029314  0.011216  0.086576  0.458798  0.521895  0.002691  0.493945   \n",
       "2496  0.023572  0.008568  0.073058  0.466547  0.514546  0.001698  0.482912   \n",
       "2497  0.015925  0.005102  0.053583  0.478395  0.504549  0.000840  0.480052   \n",
       "2498  0.016172  0.005220  0.055713  0.467221  0.510979  0.000874  0.482407   \n",
       "2499  0.015116  0.004701  0.052202  0.471878  0.507182  0.000788  0.486113   \n",
       "\n",
       "         7         8         9      ...     20726     20727     20728  \\\n",
       "0     0.001920  0.004227  0.000056  ...  0.000139  0.000421  0.000208   \n",
       "1     0.001727  0.006070  0.000047  ...  0.000107  0.000266  0.000163   \n",
       "2     0.002658  0.006209  0.000062  ...  0.000171  0.000421  0.000263   \n",
       "3     0.003304  0.007208  0.000078  ...  0.000223  0.000566  0.000328   \n",
       "4     0.002609  0.006904  0.000088  ...  0.000199  0.000520  0.000295   \n",
       "...        ...       ...       ...  ...       ...       ...       ...   \n",
       "2495  0.008631  0.027257  0.000558  ...  0.000999  0.001562  0.001358   \n",
       "2496  0.005904  0.015067  0.000246  ...  0.000549  0.001010  0.000805   \n",
       "2497  0.003255  0.008653  0.000117  ...  0.000262  0.000593  0.000397   \n",
       "2498  0.003483  0.010404  0.000122  ...  0.000272  0.000558  0.000407   \n",
       "2499  0.003233  0.011009  0.000135  ...  0.000266  0.000580  0.000388   \n",
       "\n",
       "         20729     20730     20731     20732     20733     20734     20735  \n",
       "0     0.000771  0.003387  0.002449  0.000999  0.000148  0.000079  0.002065  \n",
       "1     0.000602  0.003042  0.002407  0.000795  0.000155  0.000056  0.001752  \n",
       "2     0.000912  0.004983  0.004157  0.001385  0.000194  0.000105  0.002374  \n",
       "3     0.001121  0.005533  0.004518  0.001652  0.000214  0.000129  0.002760  \n",
       "4     0.001023  0.004449  0.003437  0.001325  0.000246  0.000114  0.002668  \n",
       "...        ...       ...       ...       ...       ...       ...       ...  \n",
       "2495  0.003483  0.013514  0.012292  0.004663  0.001545  0.000581  0.007856  \n",
       "2496  0.002271  0.010694  0.009725  0.003350  0.000768  0.000360  0.005357  \n",
       "2497  0.001280  0.006041  0.005059  0.001777  0.000370  0.000166  0.003347  \n",
       "2498  0.001284  0.006317  0.005471  0.001814  0.000397  0.000163  0.003338  \n",
       "2499  0.001252  0.005277  0.004304  0.001570  0.000404  0.000146  0.003309  \n",
       "\n",
       "[2500 rows x 20736 columns]"
      ]
     },
     "execution_count": 134,
     "metadata": {},
     "output_type": "execute_result"
    }
   ],
   "source": [
    "flatDF"
   ]
  },
  {
   "cell_type": "code",
   "execution_count": null,
   "id": "6ffc25fa-a757-4421-92c6-8a10f304374b",
   "metadata": {},
   "outputs": [],
   "source": [
    "# Devel"
   ]
  },
  {
   "cell_type": "code",
   "execution_count": 113,
   "id": "c9f91e7f-cc8d-410c-b2ce-9e5d683c6e94",
   "metadata": {},
   "outputs": [
    {
     "data": {
      "text/plain": [
       "(10000, 144, 144, 1)"
      ]
     },
     "execution_count": 113,
     "metadata": {},
     "output_type": "execute_result"
    }
   ],
   "source": [
    "synth_TCGA.shape"
   ]
  },
  {
   "cell_type": "code",
   "execution_count": 111,
   "id": "a4f708fb-e2e5-4627-b7b4-b27ac3d83a5e",
   "metadata": {},
   "outputs": [
    {
     "data": {
      "text/plain": [
       "(10000, 4)"
      ]
     },
     "execution_count": 111,
     "metadata": {},
     "output_type": "execute_result"
    }
   ],
   "source": [
    "np.array(synth_TCGA_latent_sub_nDF).shape"
   ]
  },
  {
   "cell_type": "code",
   "execution_count": 110,
   "id": "60d8fab5-529c-4a50-9baf-4f44bbb6c91a",
   "metadata": {},
   "outputs": [
    {
     "data": {
      "text/plain": [
       "array([[ 4.2167635,  1.8178809, -5.758805 ,  4.8147635],\n",
       "       [ 5.33401  ,  1.1863337, -5.9859824,  3.9155443],\n",
       "       [ 4.428418 , -0.5677565, -5.35021  ,  4.036207 ],\n",
       "       ...,\n",
       "       [ 4.564437 ,  0.6278343, -3.0039349,  3.0404325],\n",
       "       [ 6.048405 ,  1.7043012, -4.6700754,  3.0127733],\n",
       "       [ 4.888307 ,  2.3172226, -4.9403305,  4.386728 ]], dtype=float32)"
      ]
     },
     "execution_count": 110,
     "metadata": {},
     "output_type": "execute_result"
    }
   ],
   "source": [
    "np.array(synth_TCGA_latent_sub_nDF)"
   ]
  },
  {
   "cell_type": "code",
   "execution_count": 108,
   "id": "5fcf00a8-4e92-4925-a62f-8d8ab2dad65f",
   "metadata": {},
   "outputs": [
    {
     "name": "stderr",
     "output_type": "stream",
     "text": [
      "/Users/karlberb/opt/anaconda3/lib/python3.9/site-packages/keras/engine/training_v1.py:2067: UserWarning: `Model.state_updates` will be removed in a future version. This property should not be used in TensorFlow 2.0, as `updates` are applied automatically.\n",
      "  updates=self.state_updates,\n"
     ]
    }
   ],
   "source": [
    "synth_TCGA = decoder.predict(np.array(synth_TCGA_latent_sub_nDF))"
   ]
  },
  {
   "cell_type": "code",
   "execution_count": null,
   "id": "85f7aa8d-67e4-4aa7-9b8e-74acf5a0b01f",
   "metadata": {},
   "outputs": [],
   "source": [
    "# Write-out synthetic samples prior to prediction (?)"
   ]
  },
  {
   "cell_type": "markdown",
   "id": "5840b854-a086-4746-bb3c-a047a82dec77",
   "metadata": {},
   "source": [
    "The following set of cells compare the mean and variance of the actual latent values of the 401 BRCA_1 training samples and 10k latent values of the synthesized BRCA_1 samples. Averging the pairwise values 'tightens' the distribution by picking a point always closer to the mean than the greater value of the pair."
   ]
  },
  {
   "cell_type": "code",
   "execution_count": 103,
   "id": "52bf7523-3940-4338-bbb4-d41fce79c368",
   "metadata": {
    "tags": []
   },
   "outputs": [
    {
     "data": {
      "text/plain": [
       "401"
      ]
     },
     "execution_count": 103,
     "metadata": {},
     "output_type": "execute_result"
    }
   ],
   "source": [
    "len(sub_n) # BRCA_1 training samples"
   ]
  },
  {
   "cell_type": "code",
   "execution_count": 97,
   "id": "a97e4482-f725-484f-9f39-839874e8dcfa",
   "metadata": {},
   "outputs": [
    {
     "name": "stderr",
     "output_type": "stream",
     "text": [
      "/var/folders/5v/88tvwqd94gs4dfr3h6rt1_w0qd13bg/T/ipykernel_17055/2169004526.py:1: FutureWarning: Dropping of nuisance columns in DataFrame reductions (with 'numeric_only=None') is deprecated; in a future version this will raise TypeError.  Select only valid columns before calling the reduction.\n",
      "  sub_n.mean(axis = 0)\n"
     ]
    },
    {
     "data": {
      "text/plain": [
       "0    4.958225\n",
       "1    2.302188\n",
       "2   -4.124426\n",
       "3    2.885818\n",
       "dtype: float32"
      ]
     },
     "execution_count": 97,
     "metadata": {},
     "output_type": "execute_result"
    }
   ],
   "source": [
    "sub_n.mean(axis = 0) # mean of real latent features from training samples"
   ]
  },
  {
   "cell_type": "code",
   "execution_count": 104,
   "id": "ba7e42ba-6f48-4af6-9867-c44bf5cb4789",
   "metadata": {},
   "outputs": [
    {
     "data": {
      "text/plain": [
       "10000"
      ]
     },
     "execution_count": 104,
     "metadata": {},
     "output_type": "execute_result"
    }
   ],
   "source": [
    "len(synthetic_latent_feature_vals) # 10k sythetic BRCA_1 values"
   ]
  },
  {
   "cell_type": "code",
   "execution_count": 105,
   "id": "eb405402-c5a6-46be-924d-c64b7bc4c793",
   "metadata": {},
   "outputs": [
    {
     "data": {
      "text/plain": [
       "0_latent    4.858744\n",
       "1_latent    2.295246\n",
       "2_latent   -3.988985\n",
       "3_latent    2.900736\n",
       "dtype: float32"
      ]
     },
     "execution_count": 105,
     "metadata": {},
     "output_type": "execute_result"
    }
   ],
   "source": [
    "synth_TCGA_latent_sub_nDF.mean(axis = 0) # nearly the same as real latent means above"
   ]
  },
  {
   "cell_type": "code",
   "execution_count": 100,
   "id": "46c7da85-6147-41bc-8b27-acdd1c42a3c0",
   "metadata": {},
   "outputs": [
    {
     "name": "stderr",
     "output_type": "stream",
     "text": [
      "/var/folders/5v/88tvwqd94gs4dfr3h6rt1_w0qd13bg/T/ipykernel_17055/1052470201.py:1: FutureWarning: Dropping of nuisance columns in DataFrame reductions (with 'numeric_only=None') is deprecated; in a future version this will raise TypeError.  Select only valid columns before calling the reduction.\n",
      "  sub_n.std(axis = 0)\n"
     ]
    },
    {
     "data": {
      "text/plain": [
       "0    1.066332\n",
       "1    1.713051\n",
       "2    1.942558\n",
       "3    1.660366\n",
       "dtype: float32"
      ]
     },
     "execution_count": 100,
     "metadata": {},
     "output_type": "execute_result"
    }
   ],
   "source": [
    "sub_n.std(axis = 0) # stdevs of real latent features from training samples"
   ]
  },
  {
   "cell_type": "code",
   "execution_count": 99,
   "id": "a5e3cc0b-4a56-4f8c-9874-c9063f34f774",
   "metadata": {},
   "outputs": [
    {
     "data": {
      "text/plain": [
       "0_latent    0.721570\n",
       "1_latent    1.206479\n",
       "2_latent    1.394161\n",
       "3_latent    1.071198\n",
       "dtype: float32"
      ]
     },
     "execution_count": 99,
     "metadata": {},
     "output_type": "execute_result"
    }
   ],
   "source": [
    "synth_TCGA_latent_sub_nDF.std(axis = 0) # synthetic latent feature stdevs have tighter spread of values around each mean"
   ]
  },
  {
   "cell_type": "code",
   "execution_count": 107,
   "id": "a18576e4-5151-4508-a43f-9f686d53ebb4",
   "metadata": {},
   "outputs": [
    {
     "name": "stderr",
     "output_type": "stream",
     "text": [
      "/var/folders/5v/88tvwqd94gs4dfr3h6rt1_w0qd13bg/T/ipykernel_17055/3114008434.py:1: FutureWarning: Dropping of nuisance columns in DataFrame reductions (with 'numeric_only=None') is deprecated; in a future version this will raise TypeError.  Select only valid columns before calling the reduction.\n",
      "  sub_n.std(axis = 0).values / synth_TCGA_latent_sub_nDF.std(axis = 0).values\n"
     ]
    },
    {
     "data": {
      "text/plain": [
       "array([1.4777946, 1.4198769, 1.3933529, 1.550009 ], dtype=float32)"
      ]
     },
     "execution_count": 107,
     "metadata": {},
     "output_type": "execute_result"
    }
   ],
   "source": [
    "sub_n.std(axis = 0).values / synth_TCGA_latent_sub_nDF.std(axis = 0).values\n",
    "# ratio of stdev reduction is relatively consistent, 1.39 to 1.55"
   ]
  },
  {
   "cell_type": "code",
   "execution_count": 92,
   "id": "ced9f5db-4c92-41ea-9386-502d51ad0f96",
   "metadata": {},
   "outputs": [
    {
     "data": {
      "text/html": [
       "<div>\n",
       "<style scoped>\n",
       "    .dataframe tbody tr th:only-of-type {\n",
       "        vertical-align: middle;\n",
       "    }\n",
       "\n",
       "    .dataframe tbody tr th {\n",
       "        vertical-align: top;\n",
       "    }\n",
       "\n",
       "    .dataframe thead th {\n",
       "        text-align: right;\n",
       "    }\n",
       "</style>\n",
       "<table border=\"1\" class=\"dataframe\">\n",
       "  <thead>\n",
       "    <tr style=\"text-align: right;\">\n",
       "      <th></th>\n",
       "      <th>0_latent</th>\n",
       "      <th>1_latent</th>\n",
       "      <th>2_latent</th>\n",
       "      <th>3_latent</th>\n",
       "    </tr>\n",
       "  </thead>\n",
       "  <tbody>\n",
       "    <tr>\n",
       "      <th>0</th>\n",
       "      <td>4.216763</td>\n",
       "      <td>1.817881</td>\n",
       "      <td>-5.758805</td>\n",
       "      <td>4.814764</td>\n",
       "    </tr>\n",
       "    <tr>\n",
       "      <th>1</th>\n",
       "      <td>5.334010</td>\n",
       "      <td>1.186334</td>\n",
       "      <td>-5.985982</td>\n",
       "      <td>3.915544</td>\n",
       "    </tr>\n",
       "    <tr>\n",
       "      <th>2</th>\n",
       "      <td>4.428418</td>\n",
       "      <td>-0.567756</td>\n",
       "      <td>-5.350210</td>\n",
       "      <td>4.036207</td>\n",
       "    </tr>\n",
       "    <tr>\n",
       "      <th>3</th>\n",
       "      <td>5.782153</td>\n",
       "      <td>0.754092</td>\n",
       "      <td>-6.007211</td>\n",
       "      <td>4.227410</td>\n",
       "    </tr>\n",
       "    <tr>\n",
       "      <th>4</th>\n",
       "      <td>6.078863</td>\n",
       "      <td>1.925956</td>\n",
       "      <td>-3.742669</td>\n",
       "      <td>4.643601</td>\n",
       "    </tr>\n",
       "    <tr>\n",
       "      <th>...</th>\n",
       "      <td>...</td>\n",
       "      <td>...</td>\n",
       "      <td>...</td>\n",
       "      <td>...</td>\n",
       "    </tr>\n",
       "    <tr>\n",
       "      <th>9995</th>\n",
       "      <td>5.399395</td>\n",
       "      <td>1.380816</td>\n",
       "      <td>-4.345580</td>\n",
       "      <td>3.849928</td>\n",
       "    </tr>\n",
       "    <tr>\n",
       "      <th>9996</th>\n",
       "      <td>4.980171</td>\n",
       "      <td>0.897927</td>\n",
       "      <td>-2.996569</td>\n",
       "      <td>3.811306</td>\n",
       "    </tr>\n",
       "    <tr>\n",
       "      <th>9997</th>\n",
       "      <td>4.564437</td>\n",
       "      <td>0.627834</td>\n",
       "      <td>-3.003935</td>\n",
       "      <td>3.040432</td>\n",
       "    </tr>\n",
       "    <tr>\n",
       "      <th>9998</th>\n",
       "      <td>6.048405</td>\n",
       "      <td>1.704301</td>\n",
       "      <td>-4.670075</td>\n",
       "      <td>3.012773</td>\n",
       "    </tr>\n",
       "    <tr>\n",
       "      <th>9999</th>\n",
       "      <td>4.888307</td>\n",
       "      <td>2.317223</td>\n",
       "      <td>-4.940331</td>\n",
       "      <td>4.386728</td>\n",
       "    </tr>\n",
       "  </tbody>\n",
       "</table>\n",
       "<p>10000 rows × 4 columns</p>\n",
       "</div>"
      ],
      "text/plain": [
       "      0_latent  1_latent  2_latent  3_latent\n",
       "0     4.216763  1.817881 -5.758805  4.814764\n",
       "1     5.334010  1.186334 -5.985982  3.915544\n",
       "2     4.428418 -0.567756 -5.350210  4.036207\n",
       "3     5.782153  0.754092 -6.007211  4.227410\n",
       "4     6.078863  1.925956 -3.742669  4.643601\n",
       "...        ...       ...       ...       ...\n",
       "9995  5.399395  1.380816 -4.345580  3.849928\n",
       "9996  4.980171  0.897927 -2.996569  3.811306\n",
       "9997  4.564437  0.627834 -3.003935  3.040432\n",
       "9998  6.048405  1.704301 -4.670075  3.012773\n",
       "9999  4.888307  2.317223 -4.940331  4.386728\n",
       "\n",
       "[10000 rows x 4 columns]"
      ]
     },
     "execution_count": 92,
     "metadata": {},
     "output_type": "execute_result"
    }
   ],
   "source": [
    "synth_TCGA_latent_sub_nDF"
   ]
  },
  {
   "cell_type": "code",
   "execution_count": 91,
   "id": "dea1aa77-e2a7-4d77-bb18-ee36a1eec47a",
   "metadata": {},
   "outputs": [],
   "source": [
    "synth_TCGA_latent_sub_nDF = pd.DataFrame(synth_TCGA_latent_sub_n)"
   ]
  },
  {
   "cell_type": "code",
   "execution_count": null,
   "id": "530bf824-b4f1-4e31-80c1-f20b75d7a49f",
   "metadata": {},
   "outputs": [],
   "source": [
    "# Devel checks"
   ]
  },
  {
   "cell_type": "code",
   "execution_count": 63,
   "id": "16dda72f-f183-4e66-9961-d19726c4a5b3",
   "metadata": {},
   "outputs": [
    {
     "data": {
      "text/plain": [
       "4.958225250244141"
      ]
     },
     "execution_count": 63,
     "metadata": {},
     "output_type": "execute_result"
    }
   ],
   "source": [
    "col.mean()"
   ]
  },
  {
   "cell_type": "code",
   "execution_count": 74,
   "id": "9c372c95-ddc0-42fd-8302-5283f9fa2a62",
   "metadata": {
    "tags": []
   },
   "outputs": [
    {
     "data": {
      "text/plain": [
       "4.987333"
      ]
     },
     "execution_count": 74,
     "metadata": {},
     "output_type": "execute_result"
    }
   ],
   "source": [
    "mean(synthetic_latent_feature_vals)"
   ]
  },
  {
   "cell_type": "code",
   "execution_count": 75,
   "id": "afc8eece-30e8-4b7b-a131-2531c20990df",
   "metadata": {},
   "outputs": [
    {
     "data": {
      "text/plain": [
       "1.0663319826126099"
      ]
     },
     "execution_count": 75,
     "metadata": {},
     "output_type": "execute_result"
    }
   ],
   "source": [
    "col.std()"
   ]
  },
  {
   "cell_type": "code",
   "execution_count": 88,
   "id": "fb3be9ed-f7f0-443e-b573-ed8e0c558c7c",
   "metadata": {},
   "outputs": [
    {
     "data": {
      "text/plain": [
       "0.7608427"
      ]
     },
     "execution_count": 88,
     "metadata": {},
     "output_type": "execute_result"
    }
   ],
   "source": [
    "np.std(synthetic_latent_feature_vals)"
   ]
  },
  {
   "cell_type": "code",
   "execution_count": 89,
   "id": "61ed883f-c9bb-4b9f-b40e-0dd1fb003638",
   "metadata": {},
   "outputs": [
    {
     "data": {
      "text/plain": [
       "10000"
      ]
     },
     "execution_count": 89,
     "metadata": {},
     "output_type": "execute_result"
    }
   ],
   "source": [
    "len(synthetic_latent_feature_vals)"
   ]
  }
 ],
 "metadata": {
  "kernelspec": {
   "display_name": "Python 3 (ipykernel)",
   "language": "python",
   "name": "python3"
  },
  "language_info": {
   "codemirror_mode": {
    "name": "ipython",
    "version": 3
   },
   "file_extension": ".py",
   "mimetype": "text/x-python",
   "name": "python",
   "nbconvert_exporter": "python",
   "pygments_lexer": "ipython3",
   "version": "3.9.7"
  }
 },
 "nbformat": 4,
 "nbformat_minor": 5
}
