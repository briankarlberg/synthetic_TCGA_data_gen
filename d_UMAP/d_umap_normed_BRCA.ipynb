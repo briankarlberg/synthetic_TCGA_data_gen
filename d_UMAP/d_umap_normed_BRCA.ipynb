{
 "cells": [
  {
   "cell_type": "markdown",
   "id": "cf54bfdb-cbbe-401b-a2b4-fcd720fd7b72",
   "metadata": {
    "tags": []
   },
   "source": [
    "#### BRCA UMAP, setup cells\n",
    "\n",
    "Adapted from: d_umap_normed_00.ipynb  \n",
    "Goal is to reduce subtype count and put  \n",
    "scatter plots in a loop"
   ]
  },
  {
   "cell_type": "code",
   "execution_count": null,
   "id": "bda397ad-dac3-48bf-9298-841592f4ffa9",
   "metadata": {},
   "outputs": [],
   "source": [
    "# Data\n",
    "    # raw normed\n",
    "    /Users/karlberb/Desktop/RNB00978/sample_count/sample_gen/synthetic_TCGA_data_gen/a_data_structure/normed_data/test_norm.tsv\n",
    "    # decoded\n",
    "    b_model/decoded/BRCA_10k_outlier_cut_train_15_epochs_100_latent_dim_2022-10-13_1Dmodel.ipynb.tsv"
   ]
  },
  {
   "cell_type": "code",
   "execution_count": 1,
   "id": "cced0ec0-3502-4572-8949-e7a597f91a34",
   "metadata": {},
   "outputs": [
    {
     "name": "stdout",
     "output_type": "stream",
     "text": [
      "Interactive namespace is empty.\n"
     ]
    }
   ],
   "source": [
    "%whos"
   ]
  },
  {
   "cell_type": "code",
   "execution_count": 6,
   "id": "ea54dfe6-1218-4c1e-a90c-5bafffa5cf97",
   "metadata": {},
   "outputs": [
    {
     "name": "stdout",
     "output_type": "stream",
     "text": [
      "BLCA_10k_outlier_cut_test_20_epochs_100_latent_dim_2022-10-13_1D_model.ipynb.tsv\n",
      "BLCA_10k_outlier_cut_train_20_epochs_100_latent_dim_2022-10-13_1D_model.ipynb.tsv\n",
      "BLCA_1k_outlier_cut_test_20_epochs_100_latent_dim_2022-10-13_1Dmodel.ipynb.tsv\n",
      "BLCA_1k_outlier_cut_train_20_epochs_100_latent_dim_2022-10-13_1Dmodel.ipynb.tsv\n",
      "BLCA_500_outlier_cut_test_20_epochs_100_latent_dim_2022-10-13_1Dmodel.ipynb.tsv\n",
      "BLCA_500_outlier_cut_train_20_epochs_100_latent_dim_2022-10-13_1Dmodel.ipynb.tsv\n",
      "BRCA_10k_outlier_cut_test_15_epochs_100_latent_dim_2022-10-13_1Dmodel.ipynb.tsv\n",
      "BRCA_10k_outlier_cut_test_15_epochs_2_100_latent_dim_2022-10-13_1Dmodel.ipynb.tsv\n",
      "BRCA_10k_outlier_cut_train_15_epochs_100_latent_dim_2022-10-13_1Dmodel.ipynb.tsv\n",
      "BRCA_10k_outlier_cut_train_15_epochs_2_100_latent_dim_2022-10-13_1Dmodel.ipynb.tsv\n",
      "BRCA_fine_tune_10k_outlier_cut_test_20_epochs_100_latent_dim_2022-10-13_1D_model.ipynb.tsv\n",
      "BRCA_fine_tune_10k_outlier_cut_train_20_epochs_100_latent_dim_2022-10-13_1D_model.ipynb.tsv\n",
      "BRCA_fine_tune_1k_outlier_cut_test_10_epochs_100_latent_dim_2022-10-13_1Dmodel.ipynb.tsv\n",
      "BRCA_fine_tune_1k_outlier_cut_train_10_epochs_100_latent_dim_2022-10-13_1Dmodel.ipynb.tsv\n"
     ]
    }
   ],
   "source": [
    "ls ../b_model/decoded/"
   ]
  },
  {
   "cell_type": "code",
   "execution_count": 7,
   "id": "b5fc2bfc-7f66-46e4-aca1-6405e373a24b",
   "metadata": {},
   "outputs": [],
   "source": [
    "import umap.umap_ as umap\n",
    "import glob as glob\n",
    "import pandas as pd\n",
    "from sklearn.preprocessing import StandardScaler\n",
    "import matplotlib.pyplot as plt\n",
    "import numpy as np"
   ]
  },
  {
   "cell_type": "code",
   "execution_count": 8,
   "id": "a69a96c1-e3b9-4c22-8ad4-63508ea4abb5",
   "metadata": {},
   "outputs": [],
   "source": [
    "date = '2022_10_13' # Thursday, BRCA plot\n",
    "# prep for run 1D model"
   ]
  },
  {
   "cell_type": "code",
   "execution_count": 9,
   "id": "31c62d1b-3c7a-4cc1-8149-bdbcfac09f7e",
   "metadata": {},
   "outputs": [],
   "source": [
    "version = 'd_umap_normed_BRCA.ipynb' # for file name"
   ]
  },
  {
   "cell_type": "code",
   "execution_count": null,
   "id": "8f070a48-d537-43c2-9166-3d8453475a82",
   "metadata": {},
   "outputs": [],
   "source": [
    "# Raw data is normalized full 20,531 features,\n",
    "# not from 17k feature intersection file set for mass transfer learning"
   ]
  },
  {
   "cell_type": "markdown",
   "id": "81551128-80a2-4e01-be3f-7388c55c66e8",
   "metadata": {
    "tags": []
   },
   "source": [
    "#### Get column headers and unique labels from raw file"
   ]
  },
  {
   "cell_type": "code",
   "execution_count": 98,
   "id": "87e03504-6ae8-4090-b52a-3512b70b33ed",
   "metadata": {},
   "outputs": [],
   "source": [
    "# for the raw data, should also just come from a_data structure\n",
    "gxp_file_paths = sorted(glob.glob('/Users/karlberb/work/sample_count/smpl_gen/gexp_files/*.tsv'))"
   ]
  },
  {
   "cell_type": "code",
   "execution_count": 10,
   "id": "29f859fd-5307-4b62-9924-56c6f9e14b6c",
   "metadata": {},
   "outputs": [],
   "source": [
    "# indexing makes no sense here\n",
    "gxp_file_paths = sorted(glob.glob('../b_model/decoded/BRCA_10k_outlier_cut_train_15_epochs_100_latent_dim_2022-10-13_1Dmodel.ipynb.tsv'))"
   ]
  },
  {
   "cell_type": "code",
   "execution_count": null,
   "id": "fdfaaeb8-768b-49aa-9ce8-dbe90995a3a5",
   "metadata": {},
   "outputs": [],
   "source": [
    "change to have training params vals after names in file name"
   ]
  },
  {
   "cell_type": "code",
   "execution_count": 11,
   "id": "f0e06a82-fc89-4a9a-a9b5-7f1589402402",
   "metadata": {},
   "outputs": [
    {
     "data": {
      "text/plain": [
       "'../b_model/decoded/BRCA_10k_outlier_cut_train_15_epochs_100_latent_dim_2022-10-13_1Dmodel.ipynb.tsv'"
      ]
     },
     "execution_count": 11,
     "metadata": {},
     "output_type": "execute_result"
    }
   ],
   "source": [
    "gxp_file_paths[0]"
   ]
  },
  {
   "cell_type": "code",
   "execution_count": 12,
   "id": "ac1ae0e9-1415-487e-a2cb-9240444515a4",
   "metadata": {},
   "outputs": [],
   "source": [
    "file  = pd.read_csv(gxp_file_paths[0], # read bladder\n",
    "                       sep = '\\t',\n",
    "                       index_col = 0)"
   ]
  },
  {
   "cell_type": "code",
   "execution_count": 16,
   "id": "4fd1173a-cace-4b55-b257-e1f85de88336",
   "metadata": {},
   "outputs": [
    {
     "data": {
      "text/html": [
       "<div>\n",
       "<style scoped>\n",
       "    .dataframe tbody tr th:only-of-type {\n",
       "        vertical-align: middle;\n",
       "    }\n",
       "\n",
       "    .dataframe tbody tr th {\n",
       "        vertical-align: top;\n",
       "    }\n",
       "\n",
       "    .dataframe thead th {\n",
       "        text-align: right;\n",
       "    }\n",
       "</style>\n",
       "<table border=\"1\" class=\"dataframe\">\n",
       "  <thead>\n",
       "    <tr style=\"text-align: right;\">\n",
       "      <th></th>\n",
       "      <th>0</th>\n",
       "      <th>1</th>\n",
       "      <th>2</th>\n",
       "      <th>3</th>\n",
       "      <th>4</th>\n",
       "      <th>5</th>\n",
       "      <th>6</th>\n",
       "      <th>7</th>\n",
       "      <th>8</th>\n",
       "      <th>9</th>\n",
       "      <th>...</th>\n",
       "      <th>20520</th>\n",
       "      <th>20521</th>\n",
       "      <th>20522</th>\n",
       "      <th>20523</th>\n",
       "      <th>20524</th>\n",
       "      <th>20525</th>\n",
       "      <th>20526</th>\n",
       "      <th>20527</th>\n",
       "      <th>20528</th>\n",
       "      <th>20529</th>\n",
       "    </tr>\n",
       "  </thead>\n",
       "  <tbody>\n",
       "    <tr>\n",
       "      <th>0</th>\n",
       "      <td>0.059041</td>\n",
       "      <td>0.201285</td>\n",
       "      <td>0.171720</td>\n",
       "      <td>0.175925</td>\n",
       "      <td>0.018933</td>\n",
       "      <td>0.081434</td>\n",
       "      <td>0.090191</td>\n",
       "      <td>0.000000</td>\n",
       "      <td>0.017570</td>\n",
       "      <td>0.014514</td>\n",
       "      <td>...</td>\n",
       "      <td>0.306067</td>\n",
       "      <td>0.136860</td>\n",
       "      <td>0.316002</td>\n",
       "      <td>0.158963</td>\n",
       "      <td>0.308214</td>\n",
       "      <td>0.395452</td>\n",
       "      <td>0.180101</td>\n",
       "      <td>0.076777</td>\n",
       "      <td>0.036644</td>\n",
       "      <td>0.016295</td>\n",
       "    </tr>\n",
       "    <tr>\n",
       "      <th>1</th>\n",
       "      <td>0.168538</td>\n",
       "      <td>0.276871</td>\n",
       "      <td>0.241487</td>\n",
       "      <td>0.170188</td>\n",
       "      <td>0.000000</td>\n",
       "      <td>0.182744</td>\n",
       "      <td>0.079647</td>\n",
       "      <td>0.046180</td>\n",
       "      <td>0.039592</td>\n",
       "      <td>0.093303</td>\n",
       "      <td>...</td>\n",
       "      <td>0.378605</td>\n",
       "      <td>0.187535</td>\n",
       "      <td>0.394222</td>\n",
       "      <td>0.130547</td>\n",
       "      <td>0.253411</td>\n",
       "      <td>0.267084</td>\n",
       "      <td>0.371329</td>\n",
       "      <td>0.079472</td>\n",
       "      <td>0.212301</td>\n",
       "      <td>0.093712</td>\n",
       "    </tr>\n",
       "    <tr>\n",
       "      <th>2</th>\n",
       "      <td>0.111954</td>\n",
       "      <td>0.239479</td>\n",
       "      <td>0.241789</td>\n",
       "      <td>0.121962</td>\n",
       "      <td>0.000000</td>\n",
       "      <td>0.115514</td>\n",
       "      <td>0.081773</td>\n",
       "      <td>0.017225</td>\n",
       "      <td>0.015988</td>\n",
       "      <td>0.014199</td>\n",
       "      <td>...</td>\n",
       "      <td>0.319850</td>\n",
       "      <td>0.196694</td>\n",
       "      <td>0.353620</td>\n",
       "      <td>0.132088</td>\n",
       "      <td>0.336917</td>\n",
       "      <td>0.381783</td>\n",
       "      <td>0.172512</td>\n",
       "      <td>0.068236</td>\n",
       "      <td>0.037713</td>\n",
       "      <td>0.084995</td>\n",
       "    </tr>\n",
       "    <tr>\n",
       "      <th>3</th>\n",
       "      <td>0.079368</td>\n",
       "      <td>0.173144</td>\n",
       "      <td>0.142807</td>\n",
       "      <td>0.181250</td>\n",
       "      <td>0.000000</td>\n",
       "      <td>0.145682</td>\n",
       "      <td>0.058551</td>\n",
       "      <td>0.010835</td>\n",
       "      <td>0.002035</td>\n",
       "      <td>0.005977</td>\n",
       "      <td>...</td>\n",
       "      <td>0.341313</td>\n",
       "      <td>0.154689</td>\n",
       "      <td>0.295285</td>\n",
       "      <td>0.209929</td>\n",
       "      <td>0.293272</td>\n",
       "      <td>0.410416</td>\n",
       "      <td>0.178978</td>\n",
       "      <td>0.080601</td>\n",
       "      <td>0.053100</td>\n",
       "      <td>0.039381</td>\n",
       "    </tr>\n",
       "    <tr>\n",
       "      <th>4</th>\n",
       "      <td>0.083482</td>\n",
       "      <td>0.188630</td>\n",
       "      <td>0.216589</td>\n",
       "      <td>0.132915</td>\n",
       "      <td>0.015471</td>\n",
       "      <td>0.111117</td>\n",
       "      <td>0.058058</td>\n",
       "      <td>0.006448</td>\n",
       "      <td>0.024672</td>\n",
       "      <td>0.019649</td>\n",
       "      <td>...</td>\n",
       "      <td>0.327062</td>\n",
       "      <td>0.180445</td>\n",
       "      <td>0.302495</td>\n",
       "      <td>0.144747</td>\n",
       "      <td>0.302042</td>\n",
       "      <td>0.318489</td>\n",
       "      <td>0.210451</td>\n",
       "      <td>0.090421</td>\n",
       "      <td>0.135269</td>\n",
       "      <td>0.085747</td>\n",
       "    </tr>\n",
       "    <tr>\n",
       "      <th>...</th>\n",
       "      <td>...</td>\n",
       "      <td>...</td>\n",
       "      <td>...</td>\n",
       "      <td>...</td>\n",
       "      <td>...</td>\n",
       "      <td>...</td>\n",
       "      <td>...</td>\n",
       "      <td>...</td>\n",
       "      <td>...</td>\n",
       "      <td>...</td>\n",
       "      <td>...</td>\n",
       "      <td>...</td>\n",
       "      <td>...</td>\n",
       "      <td>...</td>\n",
       "      <td>...</td>\n",
       "      <td>...</td>\n",
       "      <td>...</td>\n",
       "      <td>...</td>\n",
       "      <td>...</td>\n",
       "      <td>...</td>\n",
       "      <td>...</td>\n",
       "    </tr>\n",
       "    <tr>\n",
       "      <th>741</th>\n",
       "      <td>0.085366</td>\n",
       "      <td>0.211763</td>\n",
       "      <td>0.176950</td>\n",
       "      <td>0.182847</td>\n",
       "      <td>0.005432</td>\n",
       "      <td>0.178157</td>\n",
       "      <td>0.100933</td>\n",
       "      <td>0.029107</td>\n",
       "      <td>0.010542</td>\n",
       "      <td>0.081143</td>\n",
       "      <td>...</td>\n",
       "      <td>0.358877</td>\n",
       "      <td>0.220470</td>\n",
       "      <td>0.373867</td>\n",
       "      <td>0.159281</td>\n",
       "      <td>0.316707</td>\n",
       "      <td>0.232312</td>\n",
       "      <td>0.207591</td>\n",
       "      <td>0.125081</td>\n",
       "      <td>0.109179</td>\n",
       "      <td>0.077201</td>\n",
       "    </tr>\n",
       "    <tr>\n",
       "      <th>742</th>\n",
       "      <td>0.099087</td>\n",
       "      <td>0.138167</td>\n",
       "      <td>0.202273</td>\n",
       "      <td>0.151350</td>\n",
       "      <td>0.014621</td>\n",
       "      <td>0.096302</td>\n",
       "      <td>0.064267</td>\n",
       "      <td>0.002976</td>\n",
       "      <td>0.023268</td>\n",
       "      <td>0.022734</td>\n",
       "      <td>...</td>\n",
       "      <td>0.282576</td>\n",
       "      <td>0.203213</td>\n",
       "      <td>0.292877</td>\n",
       "      <td>0.154165</td>\n",
       "      <td>0.325967</td>\n",
       "      <td>0.355180</td>\n",
       "      <td>0.152026</td>\n",
       "      <td>0.074897</td>\n",
       "      <td>0.042466</td>\n",
       "      <td>0.099906</td>\n",
       "    </tr>\n",
       "    <tr>\n",
       "      <th>743</th>\n",
       "      <td>0.079258</td>\n",
       "      <td>0.235764</td>\n",
       "      <td>0.172629</td>\n",
       "      <td>0.129796</td>\n",
       "      <td>0.012859</td>\n",
       "      <td>0.151443</td>\n",
       "      <td>0.137962</td>\n",
       "      <td>0.000000</td>\n",
       "      <td>0.002625</td>\n",
       "      <td>0.176160</td>\n",
       "      <td>...</td>\n",
       "      <td>0.354493</td>\n",
       "      <td>0.134848</td>\n",
       "      <td>0.414741</td>\n",
       "      <td>0.178931</td>\n",
       "      <td>0.408959</td>\n",
       "      <td>0.236278</td>\n",
       "      <td>0.156291</td>\n",
       "      <td>0.092948</td>\n",
       "      <td>0.102625</td>\n",
       "      <td>0.056419</td>\n",
       "    </tr>\n",
       "    <tr>\n",
       "      <th>744</th>\n",
       "      <td>0.083608</td>\n",
       "      <td>0.154249</td>\n",
       "      <td>0.165227</td>\n",
       "      <td>0.113555</td>\n",
       "      <td>0.000000</td>\n",
       "      <td>0.112890</td>\n",
       "      <td>0.082764</td>\n",
       "      <td>0.025236</td>\n",
       "      <td>0.009595</td>\n",
       "      <td>0.053213</td>\n",
       "      <td>...</td>\n",
       "      <td>0.285801</td>\n",
       "      <td>0.190735</td>\n",
       "      <td>0.311083</td>\n",
       "      <td>0.193582</td>\n",
       "      <td>0.373273</td>\n",
       "      <td>0.343492</td>\n",
       "      <td>0.144842</td>\n",
       "      <td>0.064151</td>\n",
       "      <td>0.047672</td>\n",
       "      <td>0.035467</td>\n",
       "    </tr>\n",
       "    <tr>\n",
       "      <th>745</th>\n",
       "      <td>0.109320</td>\n",
       "      <td>0.240291</td>\n",
       "      <td>0.170933</td>\n",
       "      <td>0.125023</td>\n",
       "      <td>0.013372</td>\n",
       "      <td>0.117527</td>\n",
       "      <td>0.082232</td>\n",
       "      <td>0.031105</td>\n",
       "      <td>0.028175</td>\n",
       "      <td>0.043508</td>\n",
       "      <td>...</td>\n",
       "      <td>0.344934</td>\n",
       "      <td>0.140680</td>\n",
       "      <td>0.333637</td>\n",
       "      <td>0.137382</td>\n",
       "      <td>0.306629</td>\n",
       "      <td>0.328143</td>\n",
       "      <td>0.292228</td>\n",
       "      <td>0.104739</td>\n",
       "      <td>0.180077</td>\n",
       "      <td>0.079239</td>\n",
       "    </tr>\n",
       "  </tbody>\n",
       "</table>\n",
       "<p>746 rows × 20530 columns</p>\n",
       "</div>"
      ],
      "text/plain": [
       "            0         1         2         3         4         5         6  \\\n",
       "0    0.059041  0.201285  0.171720  0.175925  0.018933  0.081434  0.090191   \n",
       "1    0.168538  0.276871  0.241487  0.170188  0.000000  0.182744  0.079647   \n",
       "2    0.111954  0.239479  0.241789  0.121962  0.000000  0.115514  0.081773   \n",
       "3    0.079368  0.173144  0.142807  0.181250  0.000000  0.145682  0.058551   \n",
       "4    0.083482  0.188630  0.216589  0.132915  0.015471  0.111117  0.058058   \n",
       "..        ...       ...       ...       ...       ...       ...       ...   \n",
       "741  0.085366  0.211763  0.176950  0.182847  0.005432  0.178157  0.100933   \n",
       "742  0.099087  0.138167  0.202273  0.151350  0.014621  0.096302  0.064267   \n",
       "743  0.079258  0.235764  0.172629  0.129796  0.012859  0.151443  0.137962   \n",
       "744  0.083608  0.154249  0.165227  0.113555  0.000000  0.112890  0.082764   \n",
       "745  0.109320  0.240291  0.170933  0.125023  0.013372  0.117527  0.082232   \n",
       "\n",
       "            7         8         9  ...     20520     20521     20522  \\\n",
       "0    0.000000  0.017570  0.014514  ...  0.306067  0.136860  0.316002   \n",
       "1    0.046180  0.039592  0.093303  ...  0.378605  0.187535  0.394222   \n",
       "2    0.017225  0.015988  0.014199  ...  0.319850  0.196694  0.353620   \n",
       "3    0.010835  0.002035  0.005977  ...  0.341313  0.154689  0.295285   \n",
       "4    0.006448  0.024672  0.019649  ...  0.327062  0.180445  0.302495   \n",
       "..        ...       ...       ...  ...       ...       ...       ...   \n",
       "741  0.029107  0.010542  0.081143  ...  0.358877  0.220470  0.373867   \n",
       "742  0.002976  0.023268  0.022734  ...  0.282576  0.203213  0.292877   \n",
       "743  0.000000  0.002625  0.176160  ...  0.354493  0.134848  0.414741   \n",
       "744  0.025236  0.009595  0.053213  ...  0.285801  0.190735  0.311083   \n",
       "745  0.031105  0.028175  0.043508  ...  0.344934  0.140680  0.333637   \n",
       "\n",
       "        20523     20524     20525     20526     20527     20528     20529  \n",
       "0    0.158963  0.308214  0.395452  0.180101  0.076777  0.036644  0.016295  \n",
       "1    0.130547  0.253411  0.267084  0.371329  0.079472  0.212301  0.093712  \n",
       "2    0.132088  0.336917  0.381783  0.172512  0.068236  0.037713  0.084995  \n",
       "3    0.209929  0.293272  0.410416  0.178978  0.080601  0.053100  0.039381  \n",
       "4    0.144747  0.302042  0.318489  0.210451  0.090421  0.135269  0.085747  \n",
       "..        ...       ...       ...       ...       ...       ...       ...  \n",
       "741  0.159281  0.316707  0.232312  0.207591  0.125081  0.109179  0.077201  \n",
       "742  0.154165  0.325967  0.355180  0.152026  0.074897  0.042466  0.099906  \n",
       "743  0.178931  0.408959  0.236278  0.156291  0.092948  0.102625  0.056419  \n",
       "744  0.193582  0.373273  0.343492  0.144842  0.064151  0.047672  0.035467  \n",
       "745  0.137382  0.306629  0.328143  0.292228  0.104739  0.180077  0.079239  \n",
       "\n",
       "[746 rows x 20530 columns]"
      ]
     },
     "execution_count": 16,
     "metadata": {},
     "output_type": "execute_result"
    }
   ],
   "source": [
    "file"
   ]
  },
  {
   "cell_type": "code",
   "execution_count": 17,
   "id": "ce9a2b9f-d3f4-44ae-96f6-b9795ede0f80",
   "metadata": {},
   "outputs": [
    {
     "data": {
      "text/plain": [
       "(746, 20530)"
      ]
     },
     "execution_count": 17,
     "metadata": {},
     "output_type": "execute_result"
    }
   ],
   "source": [
    "file.shape"
   ]
  },
  {
   "cell_type": "code",
   "execution_count": null,
   "id": "b53c2001-0ba7-40b4-b541-089ba494f8dc",
   "metadata": {},
   "outputs": [],
   "source": [
    "# lost a gene, should be 531"
   ]
  },
  {
   "cell_type": "code",
   "execution_count": 13,
   "id": "f1323a2a-4df9-4359-9357-725fdaf9ff33",
   "metadata": {},
   "outputs": [],
   "source": [
    "del(gxp_file_paths)"
   ]
  },
  {
   "cell_type": "code",
   "execution_count": 14,
   "id": "4a1dc5d0-a551-487c-96c8-ac64dcc6d96e",
   "metadata": {},
   "outputs": [],
   "source": [
    "col_heads = file.columns"
   ]
  },
  {
   "cell_type": "code",
   "execution_count": 15,
   "id": "98f7cba8-cd6a-49c3-9766-6ac11671a072",
   "metadata": {},
   "outputs": [
    {
     "data": {
      "text/plain": [
       "Index(['0', '1', '2', '3', '4', '5', '6', '7', '8', '9',\n",
       "       ...\n",
       "       '20520', '20521', '20522', '20523', '20524', '20525', '20526', '20527',\n",
       "       '20528', '20529'],\n",
       "      dtype='object', length=20530)"
      ]
     },
     "execution_count": 15,
     "metadata": {},
     "output_type": "execute_result"
    }
   ],
   "source": [
    "col_heads # has Labels"
   ]
  },
  {
   "cell_type": "code",
   "execution_count": 100,
   "id": "8fe4b00d-437d-426c-84ca-9b0aa39218c7",
   "metadata": {},
   "outputs": [],
   "source": [
    "lbl_lst = sorted(file.Labels.unique())"
   ]
  },
  {
   "cell_type": "code",
   "execution_count": 101,
   "id": "41838e87-8e3e-4715-b702-4da5d935f5bc",
   "metadata": {},
   "outputs": [],
   "source": [
    "del(file)"
   ]
  },
  {
   "cell_type": "code",
   "execution_count": null,
   "id": "73add798-2254-4946-a79a-e78ef31198af",
   "metadata": {},
   "outputs": [],
   "source": [
    "# Need to save dataframe max val prior to MinMax to put back to gexp space\n",
    "# Therefore, plot normalized values for now - "
   ]
  },
  {
   "cell_type": "markdown",
   "id": "ddd72d2f-3c2e-4939-a096-417083c90ce9",
   "metadata": {
    "jp-MarkdownHeadingCollapsed": true,
    "tags": []
   },
   "source": [
    "#### General devel"
   ]
  },
  {
   "cell_type": "code",
   "execution_count": 9,
   "id": "ff534dbf-1d01-407c-b1cd-164473ce6ceb",
   "metadata": {},
   "outputs": [
    {
     "data": {
      "text/plain": [
       "array(['BLCA_2', 'BLCA_1', 'BLCA_3', 'BLCA_4', 'BLCA_5', 'BLCA_6'],\n",
       "      dtype=object)"
      ]
     },
     "execution_count": 9,
     "metadata": {},
     "output_type": "execute_result"
    }
   ],
   "source": [
    "file.Labels.unique() # Six subtypes, automate UMAP plot labeling"
   ]
  },
  {
   "cell_type": "code",
   "execution_count": 23,
   "id": "7a0f3367-4ea6-4139-a229-d2ee27e080ea",
   "metadata": {},
   "outputs": [],
   "source": [
    "raw_n = file.copy()"
   ]
  },
  {
   "cell_type": "code",
   "execution_count": null,
   "id": "54d0a1aa-4e93-41e4-9f7e-9106e0901ffc",
   "metadata": {},
   "outputs": [],
   "source": [
    "raw_n"
   ]
  },
  {
   "cell_type": "markdown",
   "id": "bdea88f3-6e50-4f7e-b518-64d4953d74fc",
   "metadata": {
    "jp-MarkdownHeadingCollapsed": true,
    "tags": []
   },
   "source": [
    "#### Normalized raw read; label and column header add  \n",
    "also re-labeling for umap"
   ]
  },
  {
   "cell_type": "code",
   "execution_count": 39,
   "id": "3072c6bf-42cd-4d19-af0b-5cf378d0b5ca",
   "metadata": {},
   "outputs": [],
   "source": [
    "# Train\n",
    "unit = pd.read_csv(\n",
    "    '/Users/karlberb/Desktop/RNB00978/sample_count/sample_gen/synthetic_TCGA_data_gen/a_data_structure/normed_data/train_norm.tsv',\n",
    "        sep = '\\t',\n",
    "        index_col = 0)"
   ]
  },
  {
   "cell_type": "code",
   "execution_count": null,
   "id": "9ca653c5-ee95-4f1a-b20f-2cf9b9a4d7f1",
   "metadata": {},
   "outputs": [],
   "source": [
    "unit # identify step in a_data_structure where the columns are stripped"
   ]
  },
  {
   "cell_type": "code",
   "execution_count": 40,
   "id": "3d91304e-c945-409e-a654-27af153f6ef1",
   "metadata": {},
   "outputs": [],
   "source": [
    "trn_dec_lbls = pd.read_csv('../a_data_structure/blca_brca_flt64_sqrs/MinMax/BLCA_MinMax_y_trn.tsv',\n",
    "                           sep = '\\t',\n",
    "                           index_col = 0)"
   ]
  },
  {
   "cell_type": "code",
   "execution_count": 41,
   "id": "e4273f23-b268-4ef1-b780-d675723fb824",
   "metadata": {},
   "outputs": [],
   "source": [
    "unit.insert(0, 'Labels', trn_dec_lbls.Labels)"
   ]
  },
  {
   "cell_type": "code",
   "execution_count": 30,
   "id": "ecb89135-b346-4c37-8bfb-949bea4f0b41",
   "metadata": {},
   "outputs": [
    {
     "data": {
      "text/plain": [
       "(299, 20532)"
      ]
     },
     "execution_count": 30,
     "metadata": {},
     "output_type": "execute_result"
    }
   ],
   "source": [
    "unit.shape # written prior to zero filling"
   ]
  },
  {
   "cell_type": "code",
   "execution_count": null,
   "id": "0ee5dd7b-82ee-40bd-8b40-f6dcf10486fa",
   "metadata": {},
   "outputs": [],
   "source": [
    "unit"
   ]
  },
  {
   "cell_type": "code",
   "execution_count": 42,
   "id": "688b6e06-8064-4bd2-8aa9-968a1990c87b",
   "metadata": {},
   "outputs": [],
   "source": [
    "umap_labels = [] # BLCA, label auto raw, template for any primary with 6 subs\n",
    "for i in unit.Labels:\n",
    "    if i == unit.Labels.unique()[0]:\n",
    "        umap_labels.append(unit.Labels.unique()[0]+'_train_raw')\n",
    "    if i == unit.Labels.unique()[1]:\n",
    "        umap_labels.append(unit.Labels.unique()[1]+'_train_raw')\n",
    "    if i == unit.Labels.unique()[2]:\n",
    "        umap_labels.append(unit.Labels.unique()[2]+'_train_raw')\n",
    "    if i == unit.Labels.unique()[3]:\n",
    "        umap_labels.append(unit.Labels.unique()[3]+'_train_raw')\n",
    "    if i == unit.Labels.unique()[4]:\n",
    "        umap_labels.append(unit.Labels.unique()[4]+'_train_raw')\n",
    "    if i == unit.Labels.unique()[5]:\n",
    "        umap_labels.append(unit.Labels.unique()[5]+'_train_raw')\n",
    "unit.Labels = umap_labels"
   ]
  },
  {
   "cell_type": "code",
   "execution_count": null,
   "id": "9732df65-54a2-4fc7-9709-4fd13e4936ad",
   "metadata": {},
   "outputs": [],
   "source": [
    "unit"
   ]
  },
  {
   "cell_type": "code",
   "execution_count": 43,
   "id": "4f35b080-b10b-47b7-b7f1-df5a833f2966",
   "metadata": {},
   "outputs": [],
   "source": [
    "nrm_raw_trn = unit"
   ]
  },
  {
   "cell_type": "code",
   "execution_count": 44,
   "id": "3dfff7fc-4ee5-4bb5-9541-70e819094c61",
   "metadata": {},
   "outputs": [],
   "source": [
    "# Test\n",
    "unit = pd.read_csv(\n",
    "    '/Users/karlberb/Desktop/RNB00978/sample_count/sample_gen/synthetic_TCGA_data_gen/a_data_structure/normed_data/test_norm.tsv',\n",
    "        sep = '\\t',\n",
    "        index_col = 0)"
   ]
  },
  {
   "cell_type": "code",
   "execution_count": 45,
   "id": "9df7d6e3-3ee0-46dd-992e-3155523ef6dc",
   "metadata": {},
   "outputs": [],
   "source": [
    "tst_dec_lbls = pd.read_csv('../a_data_structure/blca_brca_flt64_sqrs/MinMax/BLCA_MinMax_y_tst.tsv',\n",
    "                           sep = '\\t',\n",
    "                           index_col = 0)"
   ]
  },
  {
   "cell_type": "code",
   "execution_count": 46,
   "id": "5086de76-e2f7-42dc-81ee-cd7b6e90a7b4",
   "metadata": {},
   "outputs": [],
   "source": [
    "unit.insert(0, 'Labels', tst_dec_lbls.Labels)"
   ]
  },
  {
   "cell_type": "code",
   "execution_count": 47,
   "id": "03199dc1-eb69-4135-b04d-5e0df2e7f345",
   "metadata": {},
   "outputs": [],
   "source": [
    "umap_labels = [] # BLCA, label auto raw, template for any primary with 6 subs\n",
    "for i in unit.Labels:\n",
    "    if i == unit.Labels.unique()[0]:\n",
    "        umap_labels.append(unit.Labels.unique()[0]+'_test_raw')\n",
    "    if i == unit.Labels.unique()[1]:\n",
    "        umap_labels.append(unit.Labels.unique()[1]+'_test_raw')\n",
    "    if i == unit.Labels.unique()[2]:\n",
    "        umap_labels.append(unit.Labels.unique()[2]+'_test_raw')\n",
    "    if i == unit.Labels.unique()[3]:\n",
    "        umap_labels.append(unit.Labels.unique()[3]+'_test_raw')\n",
    "    if i == unit.Labels.unique()[4]:\n",
    "        umap_labels.append(unit.Labels.unique()[4]+'_test_raw')\n",
    "    if i == unit.Labels.unique()[5]:\n",
    "        umap_labels.append(unit.Labels.unique()[5]+'_test_raw')\n",
    "unit.Labels = umap_labels"
   ]
  },
  {
   "cell_type": "code",
   "execution_count": 48,
   "id": "6aa3ba3f-c7f0-4d65-855e-105dfc497858",
   "metadata": {},
   "outputs": [],
   "source": [
    "nrm_raw_tst = unit"
   ]
  },
  {
   "cell_type": "code",
   "execution_count": null,
   "id": "76c37147-ef87-4fb4-9008-41af98369f85",
   "metadata": {},
   "outputs": [],
   "source": [
    "# light colors are even numbers, first set of color pairs\n",
    "    # decoded samples as light colors, train as circles, test as triangles\n",
    "\n",
    "# dark colors are odd numbers, second in color pairs\n",
    "    # normalized raw as dark colors, train as circles, test as triangles"
   ]
  },
  {
   "cell_type": "code",
   "execution_count": null,
   "id": "3e2c9a6a-9636-4705-b189-68c46d7d8df0",
   "metadata": {},
   "outputs": [],
   "source": [
    "# Raw BLCA labeled, get the inverse for the decoded samples (this is in raw gexp space)\n",
    "    # not necassary now that using the normalized raw data"
   ]
  },
  {
   "cell_type": "code",
   "execution_count": null,
   "id": "2385b572-8339-4018-925c-6d065598f794",
   "metadata": {},
   "outputs": [],
   "source": [
    "https://stackoverflow.com/questions/41551165/invert-minmaxscaler-from-scikit-learn\n",
    "scaler.inverse_transform(scaled_data)\n",
    "# Go the VAE and get the full sample set of decoded BLCA"
   ]
  },
  {
   "cell_type": "markdown",
   "id": "d80c55e3-fb3e-46ee-9b4b-68f3ee975d3c",
   "metadata": {
    "jp-MarkdownHeadingCollapsed": true,
    "tags": []
   },
   "source": [
    "#### Decoded sample read and flatten"
   ]
  },
  {
   "cell_type": "code",
   "execution_count": null,
   "id": "4d32f0e1-6d51-45f5-aa9c-b643de4b350b",
   "metadata": {},
   "outputs": [],
   "source": [
    "# Yes, need to redo for normed_00"
   ]
  },
  {
   "cell_type": "code",
   "execution_count": 51,
   "id": "54c2a6ae-be0c-4742-ba3f-5bf45d0161f9",
   "metadata": {},
   "outputs": [],
   "source": [
    "decod_trn = np.load(\n",
    "    '../b_model/dec_out_ignrd/BLCA, float.64, MinMax_2022-10-11_decoded_train.npy')"
   ]
  },
  {
   "cell_type": "code",
   "execution_count": 52,
   "id": "f63c7b36-12a9-4df7-b7a4-4c6c2e4a0f1a",
   "metadata": {},
   "outputs": [],
   "source": [
    "decod_tst = np.load(\n",
    "    '../b_model/dec_out_ignrd/BLCA, float.64, MinMax_2022-10-11_decoded_test.npy')"
   ]
  },
  {
   "cell_type": "code",
   "execution_count": null,
   "id": "cf044d61-672b-4606-85a1-89489d7db257",
   "metadata": {},
   "outputs": [],
   "source": [
    "# steps: flatten the array\n",
    "    # run on the normalized raw data to avoid inverse norming the dec samples now - \n",
    "    # in process, this version"
   ]
  },
  {
   "cell_type": "code",
   "execution_count": 54,
   "id": "03c97942-488a-4e2f-bad8-931a5ed4a7a9",
   "metadata": {},
   "outputs": [
    {
     "data": {
      "text/plain": [
       "(299, 144, 144, 1)"
      ]
     },
     "execution_count": 54,
     "metadata": {},
     "output_type": "execute_result"
    }
   ],
   "source": [
    "decod_trn.shape # This is MinMax normed decoded, make flat"
   ]
  },
  {
   "cell_type": "code",
   "execution_count": 56,
   "id": "88b699d6-3760-4f97-80f6-26c5964632e0",
   "metadata": {},
   "outputs": [
    {
     "data": {
      "text/plain": [
       "20736"
      ]
     },
     "execution_count": 56,
     "metadata": {},
     "output_type": "execute_result"
    }
   ],
   "source": [
    "len(decod_trn[0].flatten()) # need to strip zeros"
   ]
  },
  {
   "cell_type": "code",
   "execution_count": null,
   "id": "f71638e3-85d2-4709-a1e6-05d385f50ead",
   "metadata": {},
   "outputs": [],
   "source": [
    "# devel for loop, loc with one arg sets a row\n",
    "df.loc[len(df.index)] = list(i.flatten())"
   ]
  },
  {
   "cell_type": "code",
   "execution_count": 57,
   "id": "c9867dca-c965-4220-8023-8dc0e0efa8f8",
   "metadata": {},
   "outputs": [],
   "source": [
    "df = pd.DataFrame(columns = list(range(0,len(list(decod_trn[0].flatten())))))"
   ]
  },
  {
   "cell_type": "code",
   "execution_count": 58,
   "id": "01a3edd4-b6fa-4edd-bd6c-7d40cfda4e66",
   "metadata": {},
   "outputs": [
    {
     "data": {
      "text/html": [
       "<div>\n",
       "<style scoped>\n",
       "    .dataframe tbody tr th:only-of-type {\n",
       "        vertical-align: middle;\n",
       "    }\n",
       "\n",
       "    .dataframe tbody tr th {\n",
       "        vertical-align: top;\n",
       "    }\n",
       "\n",
       "    .dataframe thead th {\n",
       "        text-align: right;\n",
       "    }\n",
       "</style>\n",
       "<table border=\"1\" class=\"dataframe\">\n",
       "  <thead>\n",
       "    <tr style=\"text-align: right;\">\n",
       "      <th></th>\n",
       "      <th>0</th>\n",
       "      <th>1</th>\n",
       "      <th>2</th>\n",
       "      <th>3</th>\n",
       "      <th>4</th>\n",
       "      <th>5</th>\n",
       "      <th>6</th>\n",
       "      <th>7</th>\n",
       "      <th>8</th>\n",
       "      <th>9</th>\n",
       "      <th>...</th>\n",
       "      <th>20726</th>\n",
       "      <th>20727</th>\n",
       "      <th>20728</th>\n",
       "      <th>20729</th>\n",
       "      <th>20730</th>\n",
       "      <th>20731</th>\n",
       "      <th>20732</th>\n",
       "      <th>20733</th>\n",
       "      <th>20734</th>\n",
       "      <th>20735</th>\n",
       "    </tr>\n",
       "  </thead>\n",
       "  <tbody>\n",
       "  </tbody>\n",
       "</table>\n",
       "<p>0 rows × 20736 columns</p>\n",
       "</div>"
      ],
      "text/plain": [
       "Empty DataFrame\n",
       "Columns: [0, 1, 2, 3, 4, 5, 6, 7, 8, 9, 10, 11, 12, 13, 14, 15, 16, 17, 18, 19, 20, 21, 22, 23, 24, 25, 26, 27, 28, 29, 30, 31, 32, 33, 34, 35, 36, 37, 38, 39, 40, 41, 42, 43, 44, 45, 46, 47, 48, 49, 50, 51, 52, 53, 54, 55, 56, 57, 58, 59, 60, 61, 62, 63, 64, 65, 66, 67, 68, 69, 70, 71, 72, 73, 74, 75, 76, 77, 78, 79, 80, 81, 82, 83, 84, 85, 86, 87, 88, 89, 90, 91, 92, 93, 94, 95, 96, 97, 98, 99, ...]\n",
       "Index: []\n",
       "\n",
       "[0 rows x 20736 columns]"
      ]
     },
     "execution_count": 58,
     "metadata": {},
     "output_type": "execute_result"
    }
   ],
   "source": [
    "df"
   ]
  },
  {
   "cell_type": "code",
   "execution_count": 59,
   "id": "834eaa52-cb38-4d69-948d-f604539335b5",
   "metadata": {},
   "outputs": [],
   "source": [
    "for i in decod_trn: # Train frame build, this is a flattening function\n",
    "    df.loc[len(df.index)] = list(i.flatten())\n",
    "    # break"
   ]
  },
  {
   "cell_type": "code",
   "execution_count": 60,
   "id": "62c5556a-c13a-4dc9-850a-5b0a7ca6a6fd",
   "metadata": {},
   "outputs": [],
   "source": [
    "decod_trn = df.copy()"
   ]
  },
  {
   "cell_type": "code",
   "execution_count": 65,
   "id": "51c0f9c5-7a20-4613-93bc-c8498bfca37d",
   "metadata": {},
   "outputs": [
    {
     "data": {
      "text/plain": [
       "(299, 20736)"
      ]
     },
     "execution_count": 65,
     "metadata": {},
     "output_type": "execute_result"
    }
   ],
   "source": [
    "decod_trn.shape"
   ]
  },
  {
   "cell_type": "code",
   "execution_count": 64,
   "id": "ba73a384-4905-485f-958e-84cb4321418c",
   "metadata": {},
   "outputs": [
    {
     "data": {
      "text/plain": [
       "(100, 144, 144, 1)"
      ]
     },
     "execution_count": 64,
     "metadata": {},
     "output_type": "execute_result"
    }
   ],
   "source": [
    "decod_tst.shape"
   ]
  },
  {
   "cell_type": "code",
   "execution_count": 67,
   "id": "4cc5c6f1-92ae-443a-8ffa-51f8b35d98e9",
   "metadata": {},
   "outputs": [],
   "source": [
    "df = pd.DataFrame(columns = list(range(0,len(list(decod_tst[0].flatten())))))\n",
    "for i in decod_tst: # Test frame build, label and column install after flatten\n",
    "    df.loc[len(df.index)] = list(i.flatten())\n",
    "decod_tst = df.copy()"
   ]
  },
  {
   "cell_type": "code",
   "execution_count": 68,
   "id": "fc541a65-e0d9-43c5-9d70-3faba68468a4",
   "metadata": {},
   "outputs": [],
   "source": [
    "del(df)"
   ]
  },
  {
   "cell_type": "code",
   "execution_count": 69,
   "id": "36a35dc2-d32a-4f35-adfd-c57dc146f43d",
   "metadata": {},
   "outputs": [],
   "source": [
    "del(df_tst)"
   ]
  },
  {
   "cell_type": "code",
   "execution_count": null,
   "id": "7ca4b56a-55be-418c-b2c7-d4d2bc6744c6",
   "metadata": {},
   "outputs": [],
   "source": [
    "# run the inverse function on both the train and the test here to put\n",
    "# all the way back to gene space"
   ]
  },
  {
   "cell_type": "code",
   "execution_count": null,
   "id": "3dc609de-f8e1-4a45-b2f9-8cc0937998e8",
   "metadata": {},
   "outputs": [],
   "source": [
    "# method overview\n",
    "# need to apply the scaling to the train then the test sequentially\n",
    "    # This would be in the data strucure section, a_\n",
    "# need to reverse this "
   ]
  },
  {
   "cell_type": "raw",
   "id": "4883b799-7c09-4ee8-bb3b-004d044a9f75",
   "metadata": {},
   "source": [
    "####\n",
    "Normalization from the unit8 version\n",
    "####\n",
    "Where is the normalized data multiplied back by 256?"
   ]
  },
  {
   "cell_type": "markdown",
   "id": "894c293d-4c6f-47ae-8d11-a1079b09dcbb",
   "metadata": {
    "jp-MarkdownHeadingCollapsed": true,
    "tags": []
   },
   "source": [
    "#### Devel flatten notes"
   ]
  },
  {
   "cell_type": "code",
   "execution_count": null,
   "id": "8f9f383e-1da7-414f-afaf-792651c5340c",
   "metadata": {},
   "outputs": [],
   "source": [
    "# step in for normed raw after this step"
   ]
  },
  {
   "cell_type": "code",
   "execution_count": 40,
   "id": "9ec6db1f-b817-4700-848f-12d14f5ae97a",
   "metadata": {},
   "outputs": [
    {
     "data": {
      "text/plain": [
       "(144, 144, 1)"
      ]
     },
     "execution_count": 40,
     "metadata": {},
     "output_type": "execute_result"
    }
   ],
   "source": [
    "i.shape"
   ]
  },
  {
   "cell_type": "code",
   "execution_count": 41,
   "id": "e3e925aa-9a4c-4e99-995f-3e2e86c25f1c",
   "metadata": {},
   "outputs": [
    {
     "data": {
      "text/plain": [
       "<function ndarray.flatten>"
      ]
     },
     "execution_count": 41,
     "metadata": {},
     "output_type": "execute_result"
    }
   ],
   "source": [
    "i.flatten"
   ]
  },
  {
   "cell_type": "code",
   "execution_count": null,
   "id": "3082c6e1-6bce-43ea-bcb3-7165913951c8",
   "metadata": {},
   "outputs": [],
   "source": [
    "list(i.flatten())"
   ]
  },
  {
   "cell_type": "code",
   "execution_count": 49,
   "id": "20d56c59-5f32-46d7-8163-c31cca69475d",
   "metadata": {},
   "outputs": [
    {
     "data": {
      "text/plain": [
       "[array([0.07197528, 0.22017251, 0.3071778 , ..., 0.00995339, 0.00097492,\n",
       "        0.00885297], dtype=float32)]"
      ]
     },
     "execution_count": 49,
     "metadata": {},
     "output_type": "execute_result"
    }
   ],
   "source": [
    "[i.flatten()]"
   ]
  },
  {
   "cell_type": "code",
   "execution_count": 42,
   "id": "4b1325e2-27fc-4234-9f59-576ad33f1ee8",
   "metadata": {},
   "outputs": [
    {
     "data": {
      "text/plain": [
       "array([0.07197528, 0.22017251, 0.3071778 , ..., 0.00995339, 0.00097492,\n",
       "       0.00885297], dtype=float32)"
      ]
     },
     "execution_count": 42,
     "metadata": {},
     "output_type": "execute_result"
    }
   ],
   "source": [
    "i.flatten()"
   ]
  },
  {
   "cell_type": "code",
   "execution_count": 43,
   "id": "16e0df4f-0a96-412f-94aa-be816adfe618",
   "metadata": {},
   "outputs": [
    {
     "data": {
      "text/plain": [
       "(20736,)"
      ]
     },
     "execution_count": 43,
     "metadata": {},
     "output_type": "execute_result"
    }
   ],
   "source": [
    "i.flatten().shape"
   ]
  },
  {
   "cell_type": "code",
   "execution_count": 44,
   "id": "416b163d-9cbe-41a0-9847-d3659baae27b",
   "metadata": {},
   "outputs": [
    {
     "data": {
      "text/plain": [
       "tuple"
      ]
     },
     "execution_count": 44,
     "metadata": {},
     "output_type": "execute_result"
    }
   ],
   "source": [
    "type(i.flatten().shape) # the shape is a tuple, not the array"
   ]
  },
  {
   "cell_type": "code",
   "execution_count": 45,
   "id": "e239a9f8-549e-449c-affb-aaab953d8899",
   "metadata": {},
   "outputs": [
    {
     "data": {
      "text/plain": [
       "0.071975276"
      ]
     },
     "execution_count": 45,
     "metadata": {},
     "output_type": "execute_result"
    }
   ],
   "source": [
    "i.flatten()[0]"
   ]
  },
  {
   "cell_type": "code",
   "execution_count": 46,
   "id": "f8f030b7-e63c-478f-b78a-254b8a77522e",
   "metadata": {},
   "outputs": [
    {
     "data": {
      "text/plain": [
       "numpy.ndarray"
      ]
     },
     "execution_count": 46,
     "metadata": {},
     "output_type": "execute_result"
    }
   ],
   "source": [
    "type(i.flatten())"
   ]
  },
  {
   "cell_type": "markdown",
   "id": "12af12b8-12b5-4450-84c3-f84b4536f5c1",
   "metadata": {
    "jp-MarkdownHeadingCollapsed": true,
    "tags": []
   },
   "source": [
    "#### inverse_MinMax"
   ]
  },
  {
   "cell_type": "code",
   "execution_count": null,
   "id": "3ed97b30-1e9a-4083-a698-5f1ff34f685f",
   "metadata": {},
   "outputs": [],
   "source": [
    "# Is there a corresponding two-stage process\n",
    "    # for the fit_transform, then transform"
   ]
  },
  {
   "cell_type": "code",
   "execution_count": null,
   "id": "f67af227-f517-4030-9247-32a9b254e002",
   "metadata": {},
   "outputs": [],
   "source": []
  },
  {
   "cell_type": "markdown",
   "id": "9e2f34d3-853b-4f4a-a395-a57e95d23117",
   "metadata": {
    "jp-MarkdownHeadingCollapsed": true,
    "tags": []
   },
   "source": [
    "#### Resume UMAP devel"
   ]
  },
  {
   "cell_type": "code",
   "execution_count": null,
   "id": "7163774d-ae70-4fd9-89ee-c5531d743fee",
   "metadata": {},
   "outputs": [],
   "source": [
    "BLCA float64 UMAP stack, v00"
   ]
  },
  {
   "cell_type": "raw",
   "id": "4cecab31-cf2c-412c-86db-360ca7751ba3",
   "metadata": {},
   "source": [
    "List of objects to stack:\n",
    "    nrm_raw_trn\n",
    "    nrm_raw_tst\n",
    "    decod_tst\n",
    "    decod_trn"
   ]
  },
  {
   "cell_type": "markdown",
   "id": "a1682f2c-c9c3-4b51-a340-e8c1f54d4304",
   "metadata": {
    "tags": []
   },
   "source": [
    "#### Subtype labels and columns added back to decoded samples\n",
    "Cut zero columns, variable name change"
   ]
  },
  {
   "cell_type": "code",
   "execution_count": 69,
   "id": "feed9f0a-a209-4fc9-9cb3-9c0fc3f37310",
   "metadata": {},
   "outputs": [
    {
     "name": "stdout",
     "output_type": "stream",
     "text": [
      "README.md          \u001b[34mc_latent_sampling\u001b[m\u001b[m/ \u001b[34me_classification\u001b[m\u001b[m/\n",
      "\u001b[34ma_data_structure\u001b[m\u001b[m/  \u001b[34mcvae_venv\u001b[m\u001b[m/         \u001b[34mf_archive\u001b[m\u001b[m/\n",
      "\u001b[34mb_model\u001b[m\u001b[m/           \u001b[34md_UMAP\u001b[m\u001b[m/            \u001b[34mg_devel\u001b[m\u001b[m/\n"
     ]
    }
   ],
   "source": [
    "ls .."
   ]
  },
  {
   "cell_type": "code",
   "execution_count": null,
   "id": "33786b85-f641-418f-ab45-ff1c2c46643f",
   "metadata": {},
   "outputs": [],
   "source": [
    "# Can consolidate the Label install on the decoded samples with the normed raw"
   ]
  },
  {
   "cell_type": "code",
   "execution_count": 82,
   "id": "32f51769-b56a-47c7-ada5-96481d46b606",
   "metadata": {},
   "outputs": [],
   "source": [
    "# to decod_trn\n",
    "trn_dec_lbls = pd.read_csv('../a_data_structure/blca_brca_flt64_sqrs/MinMax/BLCA_MinMax_y_trn.tsv',\n",
    "                           sep = '\\t',\n",
    "                           index_col = 0)"
   ]
  },
  {
   "cell_type": "code",
   "execution_count": 83,
   "id": "f69b4c9a-3038-4772-a428-ea1027d21b3e",
   "metadata": {},
   "outputs": [],
   "source": [
    "tst_dec_lbls = pd.read_csv('../a_data_structure/blca_brca_flt64_sqrs/MinMax/BLCA_MinMax_y_tst.tsv',\n",
    "                           sep = '\\t',\n",
    "                           index_col = 0)"
   ]
  },
  {
   "cell_type": "code",
   "execution_count": null,
   "id": "e19bf07d-1453-4b26-89e1-9f239656bd75",
   "metadata": {},
   "outputs": [],
   "source": [
    "tst_dec_lbls"
   ]
  },
  {
   "cell_type": "code",
   "execution_count": 77,
   "id": "1cf12719-883d-4aab-aa13-8d9615c325b9",
   "metadata": {},
   "outputs": [],
   "source": [
    "decod_trn.insert(0, 'Labels', trn_dec_lbls.Labels)"
   ]
  },
  {
   "cell_type": "code",
   "execution_count": 89,
   "id": "13671fab-a402-48c0-8f03-14e1e14d3da1",
   "metadata": {},
   "outputs": [
    {
     "data": {
      "text/plain": [
       "(299, 20737)"
      ]
     },
     "execution_count": 89,
     "metadata": {},
     "output_type": "execute_result"
    }
   ],
   "source": [
    "decod_trn.shape"
   ]
  },
  {
   "cell_type": "code",
   "execution_count": 78,
   "id": "5ef59e34-9400-4379-934e-a5a3f3f89546",
   "metadata": {},
   "outputs": [],
   "source": [
    "decod_tst.insert(0, 'Labels', tst_dec_lbls.Labels)"
   ]
  },
  {
   "cell_type": "code",
   "execution_count": 88,
   "id": "a74b166d-8ba4-486e-af8b-b397a99049fe",
   "metadata": {},
   "outputs": [
    {
     "data": {
      "text/plain": [
       "(100, 20737)"
      ]
     },
     "execution_count": 88,
     "metadata": {},
     "output_type": "execute_result"
    }
   ],
   "source": [
    "decod_tst.shape # time to cut zeros"
   ]
  },
  {
   "cell_type": "code",
   "execution_count": null,
   "id": "79d5537b-5471-4a27-b5cc-4f8d250733f3",
   "metadata": {},
   "outputs": [],
   "source": [
    "# 20,532 includes the Label column"
   ]
  },
  {
   "cell_type": "code",
   "execution_count": 90,
   "id": "c87105a8-cfac-4134-bd60-3bf986069f20",
   "metadata": {},
   "outputs": [],
   "source": [
    "decod_trn_cut = decod_trn.iloc[:, :20532] # looks pretty good"
   ]
  },
  {
   "cell_type": "code",
   "execution_count": 91,
   "id": "9658947e-0b30-45b5-98e6-8a92b23f9c0e",
   "metadata": {},
   "outputs": [],
   "source": [
    "decod_tst_cut = decod_tst.iloc[:, :20532]"
   ]
  },
  {
   "cell_type": "code",
   "execution_count": 116,
   "id": "ae50b14a-6869-46bf-a308-a75238eb2253",
   "metadata": {},
   "outputs": [
    {
     "data": {
      "text/plain": [
       "(100, 20737)"
      ]
     },
     "execution_count": 116,
     "metadata": {},
     "output_type": "execute_result"
    }
   ],
   "source": [
    "decod_tst.shape"
   ]
  },
  {
   "cell_type": "code",
   "execution_count": 117,
   "id": "5e676234-c784-4481-90a4-35d0d9673211",
   "metadata": {},
   "outputs": [
    {
     "data": {
      "text/plain": [
       "(100, 20532)"
      ]
     },
     "execution_count": 117,
     "metadata": {},
     "output_type": "execute_result"
    }
   ],
   "source": [
    "decod_tst_cut.shape # Variable name error, to concat stacking zone"
   ]
  },
  {
   "cell_type": "code",
   "execution_count": 93,
   "id": "f0dfff78-d759-43ba-a4dd-987550d34236",
   "metadata": {},
   "outputs": [],
   "source": [
    "decod_trn_cut.columns = col_heads"
   ]
  },
  {
   "cell_type": "code",
   "execution_count": 94,
   "id": "6c2ed4b5-925e-43e6-b449-bc9a852393fe",
   "metadata": {},
   "outputs": [],
   "source": [
    "decod_tst_cut.columns = col_heads"
   ]
  },
  {
   "cell_type": "markdown",
   "id": "8c72d7ca-9d1e-4687-a4ed-edcfc20779f3",
   "metadata": {
    "jp-MarkdownHeadingCollapsed": true,
    "tags": []
   },
   "source": [
    "#### Cut zeros"
   ]
  },
  {
   "cell_type": "code",
   "execution_count": null,
   "id": "d89f1cb1-0608-4100-8bf3-bb6be13853d6",
   "metadata": {},
   "outputs": [],
   "source": [
    "# above"
   ]
  },
  {
   "cell_type": "markdown",
   "id": "998c51f9-6fe1-47e4-bb60-dbfd94f1b1fc",
   "metadata": {
    "tags": []
   },
   "source": [
    "#### Column and label inspections"
   ]
  },
  {
   "cell_type": "code",
   "execution_count": null,
   "id": "b7c29f9a-7b66-4564-8913-83050d7290f1",
   "metadata": {},
   "outputs": [],
   "source": [
    "# inspection slice, to devel notes\n",
    "df_trn.iloc[:, 20528:20536]"
   ]
  },
  {
   "cell_type": "code",
   "execution_count": null,
   "id": "74a213bf-7370-4aee-ae00-6c7e657122f7",
   "metadata": {},
   "outputs": [],
   "source": [
    "# want to concat\n",
    "# need columns to concat\n",
    "# need to slice and drop zero cols to get the columns on"
   ]
  },
  {
   "cell_type": "markdown",
   "id": "55abc423-cc74-427f-b152-b0b61d8c073b",
   "metadata": {
    "tags": []
   },
   "source": [
    "#### Label mods for decoded samples, UMAP  \n",
    "from template blocks below, need six - block for BLCA\n",
    "* automate this step to be subtype-count agnostic"
   ]
  },
  {
   "cell_type": "code",
   "execution_count": 102,
   "id": "dd7034d5-1e09-4b29-9b7d-631ca458f586",
   "metadata": {},
   "outputs": [
    {
     "data": {
      "text/plain": [
       "['BLCA_1', 'BLCA_2', 'BLCA_3', 'BLCA_4', 'BLCA_5', 'BLCA_6']"
      ]
     },
     "execution_count": 102,
     "metadata": {},
     "output_type": "execute_result"
    }
   ],
   "source": [
    "lbl_lst"
   ]
  },
  {
   "cell_type": "markdown",
   "id": "66a7bee2-5a67-4cfb-9a68-077c5eec004d",
   "metadata": {
    "jp-MarkdownHeadingCollapsed": true,
    "tags": []
   },
   "source": [
    "#### Train set decoded relabel"
   ]
  },
  {
   "cell_type": "code",
   "execution_count": 95,
   "id": "c72a368e-3729-467d-b15a-bc27ca290d45",
   "metadata": {},
   "outputs": [],
   "source": [
    "trn_tst_set = 'train'"
   ]
  },
  {
   "cell_type": "code",
   "execution_count": 103,
   "id": "2610518c-44e7-4762-965e-54f6fa12001f",
   "metadata": {},
   "outputs": [],
   "source": [
    "umap_labels = [] # BLCA_dec, read from model version 2 output\n",
    "for i in decod_trn_cut.Labels:\n",
    "    if i == lbl_lst[0]:\n",
    "        umap_labels.append(lbl_lst[0]+'_'+trn_tst_set+'_decoded')\n",
    "    if i == lbl_lst[1]:\n",
    "        umap_labels.append(lbl_lst[1]+'_'+trn_tst_set+'_decoded')\n",
    "    if i == lbl_lst[2]:\n",
    "        umap_labels.append(lbl_lst[2]+'_'+trn_tst_set+'_decoded')\n",
    "    if i == lbl_lst[3]:\n",
    "        umap_labels.append(lbl_lst[3]+'_'+trn_tst_set+'_decoded')\n",
    "    if i == lbl_lst[4]:\n",
    "        umap_labels.append(lbl_lst[4]+'_'+trn_tst_set+'_decoded')\n",
    "    if i == lbl_lst[5]:\n",
    "        umap_labels.append(lbl_lst[5]+'_'+trn_tst_set+'_decoded')\n",
    "decod_trn_cut.Labels = umap_labels"
   ]
  },
  {
   "cell_type": "markdown",
   "id": "15b43d7a-6a0d-4c86-9c09-422f72db8529",
   "metadata": {
    "jp-MarkdownHeadingCollapsed": true,
    "tags": []
   },
   "source": [
    "#### Test set decoded relabel"
   ]
  },
  {
   "cell_type": "code",
   "execution_count": 104,
   "id": "e6bd3479-75bc-4097-8cc2-acf4b1a4550b",
   "metadata": {},
   "outputs": [],
   "source": [
    "trn_tst_set = 'test'"
   ]
  },
  {
   "cell_type": "code",
   "execution_count": null,
   "id": "ee60a2be-0a74-44bb-af03-02dedb1d5b12",
   "metadata": {},
   "outputs": [],
   "source": [
    "lbl_lst"
   ]
  },
  {
   "cell_type": "code",
   "execution_count": 105,
   "id": "86b2e31f-06aa-4a06-b947-100365d1e7b3",
   "metadata": {},
   "outputs": [],
   "source": [
    "umap_labels = [] # BLCA_dec, read from model version 2 output\n",
    "for i in decod_tst_cut.Labels:\n",
    "    if i == lbl_lst[0]:\n",
    "        umap_labels.append(lbl_lst[0]+'_'+trn_tst_set+'_decoded')\n",
    "    if i == lbl_lst[1]:\n",
    "        umap_labels.append(lbl_lst[1]+'_'+trn_tst_set+'_decoded')\n",
    "    if i == lbl_lst[2]:\n",
    "        umap_labels.append(lbl_lst[2]+'_'+trn_tst_set+'_decoded')\n",
    "    if i == lbl_lst[3]:\n",
    "        umap_labels.append(lbl_lst[3]+'_'+trn_tst_set+'_decoded')\n",
    "    if i == lbl_lst[4]:\n",
    "        umap_labels.append(lbl_lst[4]+'_'+trn_tst_set+'_decoded')\n",
    "    if i == lbl_lst[5]:\n",
    "        umap_labels.append(lbl_lst[5]+'_'+trn_tst_set+'_decoded')\n",
    "decod_tst_cut.Labels = umap_labels"
   ]
  },
  {
   "cell_type": "code",
   "execution_count": 106,
   "id": "3491455c-25eb-4de5-b6de-de7af31247f9",
   "metadata": {},
   "outputs": [
    {
     "data": {
      "text/html": [
       "<div>\n",
       "<style scoped>\n",
       "    .dataframe tbody tr th:only-of-type {\n",
       "        vertical-align: middle;\n",
       "    }\n",
       "\n",
       "    .dataframe tbody tr th {\n",
       "        vertical-align: top;\n",
       "    }\n",
       "\n",
       "    .dataframe thead th {\n",
       "        text-align: right;\n",
       "    }\n",
       "</style>\n",
       "<table border=\"1\" class=\"dataframe\">\n",
       "  <thead>\n",
       "    <tr style=\"text-align: right;\">\n",
       "      <th></th>\n",
       "      <th>Labels</th>\n",
       "      <th>N:GEXP::?:100130426:</th>\n",
       "      <th>N:GEXP::?:100133144:</th>\n",
       "      <th>N:GEXP::?:100134869:</th>\n",
       "      <th>N:GEXP::?:10357:</th>\n",
       "      <th>N:GEXP::?:10431:</th>\n",
       "      <th>N:GEXP::?:136542:</th>\n",
       "      <th>N:GEXP::?:155060:</th>\n",
       "      <th>N:GEXP::?:26823:</th>\n",
       "      <th>N:GEXP::?:280660:</th>\n",
       "      <th>...</th>\n",
       "      <th>N:GEXP::ZXDA:7789:</th>\n",
       "      <th>N:GEXP::ZXDB:158586:</th>\n",
       "      <th>N:GEXP::ZXDC:79364:</th>\n",
       "      <th>N:GEXP::ZYG11A:440590:</th>\n",
       "      <th>N:GEXP::ZYG11B:79699:</th>\n",
       "      <th>N:GEXP::ZYX:7791:</th>\n",
       "      <th>N:GEXP::ZZEF1:23140:</th>\n",
       "      <th>N:GEXP::ZZZ3:26009:</th>\n",
       "      <th>N:GEXP::psiTPTE22:387590:</th>\n",
       "      <th>N:GEXP::tAKR:389932:</th>\n",
       "    </tr>\n",
       "  </thead>\n",
       "  <tbody>\n",
       "    <tr>\n",
       "      <th>0</th>\n",
       "      <td>BLCA_1_test_decoded</td>\n",
       "      <td>0.072328</td>\n",
       "      <td>0.127542</td>\n",
       "      <td>0.184995</td>\n",
       "      <td>0.392218</td>\n",
       "      <td>0.145170</td>\n",
       "      <td>0.029241</td>\n",
       "      <td>0.126573</td>\n",
       "      <td>0.066299</td>\n",
       "      <td>0.077447</td>\n",
       "      <td>...</td>\n",
       "      <td>0.362772</td>\n",
       "      <td>0.196995</td>\n",
       "      <td>0.165045</td>\n",
       "      <td>0.072829</td>\n",
       "      <td>0.245528</td>\n",
       "      <td>0.498143</td>\n",
       "      <td>0.189962</td>\n",
       "      <td>0.152691</td>\n",
       "      <td>0.031110</td>\n",
       "      <td>0.030984</td>\n",
       "    </tr>\n",
       "    <tr>\n",
       "      <th>1</th>\n",
       "      <td>BLCA_2_test_decoded</td>\n",
       "      <td>0.078728</td>\n",
       "      <td>0.174069</td>\n",
       "      <td>0.250860</td>\n",
       "      <td>0.244179</td>\n",
       "      <td>0.224514</td>\n",
       "      <td>0.016453</td>\n",
       "      <td>0.108669</td>\n",
       "      <td>0.148421</td>\n",
       "      <td>0.069964</td>\n",
       "      <td>...</td>\n",
       "      <td>0.143783</td>\n",
       "      <td>0.139229</td>\n",
       "      <td>0.195271</td>\n",
       "      <td>0.026308</td>\n",
       "      <td>0.171041</td>\n",
       "      <td>0.238253</td>\n",
       "      <td>0.172104</td>\n",
       "      <td>0.039849</td>\n",
       "      <td>0.051891</td>\n",
       "      <td>0.003760</td>\n",
       "    </tr>\n",
       "    <tr>\n",
       "      <th>2</th>\n",
       "      <td>BLCA_1_test_decoded</td>\n",
       "      <td>0.077465</td>\n",
       "      <td>0.160421</td>\n",
       "      <td>0.215225</td>\n",
       "      <td>0.346104</td>\n",
       "      <td>0.171087</td>\n",
       "      <td>0.026541</td>\n",
       "      <td>0.120333</td>\n",
       "      <td>0.096916</td>\n",
       "      <td>0.078194</td>\n",
       "      <td>...</td>\n",
       "      <td>0.299268</td>\n",
       "      <td>0.201798</td>\n",
       "      <td>0.211242</td>\n",
       "      <td>0.055052</td>\n",
       "      <td>0.249683</td>\n",
       "      <td>0.383828</td>\n",
       "      <td>0.207879</td>\n",
       "      <td>0.102618</td>\n",
       "      <td>0.040221</td>\n",
       "      <td>0.016215</td>\n",
       "    </tr>\n",
       "    <tr>\n",
       "      <th>3</th>\n",
       "      <td>BLCA_1_test_decoded</td>\n",
       "      <td>0.057488</td>\n",
       "      <td>0.138257</td>\n",
       "      <td>0.192661</td>\n",
       "      <td>0.354997</td>\n",
       "      <td>0.133912</td>\n",
       "      <td>0.017306</td>\n",
       "      <td>0.096623</td>\n",
       "      <td>0.064002</td>\n",
       "      <td>0.057427</td>\n",
       "      <td>...</td>\n",
       "      <td>0.313807</td>\n",
       "      <td>0.186714</td>\n",
       "      <td>0.196737</td>\n",
       "      <td>0.043132</td>\n",
       "      <td>0.238466</td>\n",
       "      <td>0.396260</td>\n",
       "      <td>0.181082</td>\n",
       "      <td>0.116049</td>\n",
       "      <td>0.027563</td>\n",
       "      <td>0.011541</td>\n",
       "    </tr>\n",
       "    <tr>\n",
       "      <th>4</th>\n",
       "      <td>BLCA_2_test_decoded</td>\n",
       "      <td>0.095813</td>\n",
       "      <td>0.213856</td>\n",
       "      <td>0.278136</td>\n",
       "      <td>0.306420</td>\n",
       "      <td>0.205609</td>\n",
       "      <td>0.025721</td>\n",
       "      <td>0.135871</td>\n",
       "      <td>0.136134</td>\n",
       "      <td>0.087764</td>\n",
       "      <td>...</td>\n",
       "      <td>0.261601</td>\n",
       "      <td>0.213692</td>\n",
       "      <td>0.256863</td>\n",
       "      <td>0.049955</td>\n",
       "      <td>0.285190</td>\n",
       "      <td>0.285934</td>\n",
       "      <td>0.234987</td>\n",
       "      <td>0.089368</td>\n",
       "      <td>0.060051</td>\n",
       "      <td>0.011674</td>\n",
       "    </tr>\n",
       "    <tr>\n",
       "      <th>...</th>\n",
       "      <td>...</td>\n",
       "      <td>...</td>\n",
       "      <td>...</td>\n",
       "      <td>...</td>\n",
       "      <td>...</td>\n",
       "      <td>...</td>\n",
       "      <td>...</td>\n",
       "      <td>...</td>\n",
       "      <td>...</td>\n",
       "      <td>...</td>\n",
       "      <td>...</td>\n",
       "      <td>...</td>\n",
       "      <td>...</td>\n",
       "      <td>...</td>\n",
       "      <td>...</td>\n",
       "      <td>...</td>\n",
       "      <td>...</td>\n",
       "      <td>...</td>\n",
       "      <td>...</td>\n",
       "      <td>...</td>\n",
       "      <td>...</td>\n",
       "    </tr>\n",
       "    <tr>\n",
       "      <th>95</th>\n",
       "      <td>BLCA_5_test_decoded</td>\n",
       "      <td>0.085246</td>\n",
       "      <td>0.226576</td>\n",
       "      <td>0.300975</td>\n",
       "      <td>0.298404</td>\n",
       "      <td>0.189063</td>\n",
       "      <td>0.020079</td>\n",
       "      <td>0.124486</td>\n",
       "      <td>0.129840</td>\n",
       "      <td>0.068367</td>\n",
       "      <td>...</td>\n",
       "      <td>0.267582</td>\n",
       "      <td>0.219069</td>\n",
       "      <td>0.285150</td>\n",
       "      <td>0.046411</td>\n",
       "      <td>0.324342</td>\n",
       "      <td>0.227240</td>\n",
       "      <td>0.241541</td>\n",
       "      <td>0.083926</td>\n",
       "      <td>0.052400</td>\n",
       "      <td>0.008841</td>\n",
       "    </tr>\n",
       "    <tr>\n",
       "      <th>96</th>\n",
       "      <td>BLCA_3_test_decoded</td>\n",
       "      <td>0.077836</td>\n",
       "      <td>0.215259</td>\n",
       "      <td>0.281951</td>\n",
       "      <td>0.279957</td>\n",
       "      <td>0.192045</td>\n",
       "      <td>0.017069</td>\n",
       "      <td>0.117643</td>\n",
       "      <td>0.126523</td>\n",
       "      <td>0.062321</td>\n",
       "      <td>...</td>\n",
       "      <td>0.244571</td>\n",
       "      <td>0.197332</td>\n",
       "      <td>0.257124</td>\n",
       "      <td>0.037257</td>\n",
       "      <td>0.297882</td>\n",
       "      <td>0.222657</td>\n",
       "      <td>0.228219</td>\n",
       "      <td>0.072514</td>\n",
       "      <td>0.048490</td>\n",
       "      <td>0.005912</td>\n",
       "    </tr>\n",
       "    <tr>\n",
       "      <th>97</th>\n",
       "      <td>BLCA_3_test_decoded</td>\n",
       "      <td>0.089532</td>\n",
       "      <td>0.256466</td>\n",
       "      <td>0.319189</td>\n",
       "      <td>0.346839</td>\n",
       "      <td>0.167354</td>\n",
       "      <td>0.022716</td>\n",
       "      <td>0.136471</td>\n",
       "      <td>0.114095</td>\n",
       "      <td>0.070482</td>\n",
       "      <td>...</td>\n",
       "      <td>0.355625</td>\n",
       "      <td>0.265915</td>\n",
       "      <td>0.307015</td>\n",
       "      <td>0.058990</td>\n",
       "      <td>0.405068</td>\n",
       "      <td>0.239128</td>\n",
       "      <td>0.270865</td>\n",
       "      <td>0.137900</td>\n",
       "      <td>0.047045</td>\n",
       "      <td>0.015573</td>\n",
       "    </tr>\n",
       "    <tr>\n",
       "      <th>98</th>\n",
       "      <td>BLCA_1_test_decoded</td>\n",
       "      <td>0.078544</td>\n",
       "      <td>0.163384</td>\n",
       "      <td>0.225810</td>\n",
       "      <td>0.305557</td>\n",
       "      <td>0.187869</td>\n",
       "      <td>0.021976</td>\n",
       "      <td>0.113962</td>\n",
       "      <td>0.110390</td>\n",
       "      <td>0.074631</td>\n",
       "      <td>...</td>\n",
       "      <td>0.226122</td>\n",
       "      <td>0.179306</td>\n",
       "      <td>0.205778</td>\n",
       "      <td>0.044250</td>\n",
       "      <td>0.218913</td>\n",
       "      <td>0.330399</td>\n",
       "      <td>0.190485</td>\n",
       "      <td>0.075801</td>\n",
       "      <td>0.045377</td>\n",
       "      <td>0.009294</td>\n",
       "    </tr>\n",
       "    <tr>\n",
       "      <th>99</th>\n",
       "      <td>BLCA_4_test_decoded</td>\n",
       "      <td>0.082308</td>\n",
       "      <td>0.208788</td>\n",
       "      <td>0.266591</td>\n",
       "      <td>0.335785</td>\n",
       "      <td>0.165412</td>\n",
       "      <td>0.020641</td>\n",
       "      <td>0.118498</td>\n",
       "      <td>0.101545</td>\n",
       "      <td>0.070016</td>\n",
       "      <td>...</td>\n",
       "      <td>0.322933</td>\n",
       "      <td>0.222455</td>\n",
       "      <td>0.260034</td>\n",
       "      <td>0.050649</td>\n",
       "      <td>0.330109</td>\n",
       "      <td>0.288818</td>\n",
       "      <td>0.231014</td>\n",
       "      <td>0.112740</td>\n",
       "      <td>0.040775</td>\n",
       "      <td>0.012639</td>\n",
       "    </tr>\n",
       "  </tbody>\n",
       "</table>\n",
       "<p>100 rows × 20532 columns</p>\n",
       "</div>"
      ],
      "text/plain": [
       "                 Labels  N:GEXP::?:100130426:  N:GEXP::?:100133144:  \\\n",
       "0   BLCA_1_test_decoded              0.072328              0.127542   \n",
       "1   BLCA_2_test_decoded              0.078728              0.174069   \n",
       "2   BLCA_1_test_decoded              0.077465              0.160421   \n",
       "3   BLCA_1_test_decoded              0.057488              0.138257   \n",
       "4   BLCA_2_test_decoded              0.095813              0.213856   \n",
       "..                  ...                   ...                   ...   \n",
       "95  BLCA_5_test_decoded              0.085246              0.226576   \n",
       "96  BLCA_3_test_decoded              0.077836              0.215259   \n",
       "97  BLCA_3_test_decoded              0.089532              0.256466   \n",
       "98  BLCA_1_test_decoded              0.078544              0.163384   \n",
       "99  BLCA_4_test_decoded              0.082308              0.208788   \n",
       "\n",
       "    N:GEXP::?:100134869:  N:GEXP::?:10357:  N:GEXP::?:10431:  \\\n",
       "0               0.184995          0.392218          0.145170   \n",
       "1               0.250860          0.244179          0.224514   \n",
       "2               0.215225          0.346104          0.171087   \n",
       "3               0.192661          0.354997          0.133912   \n",
       "4               0.278136          0.306420          0.205609   \n",
       "..                   ...               ...               ...   \n",
       "95              0.300975          0.298404          0.189063   \n",
       "96              0.281951          0.279957          0.192045   \n",
       "97              0.319189          0.346839          0.167354   \n",
       "98              0.225810          0.305557          0.187869   \n",
       "99              0.266591          0.335785          0.165412   \n",
       "\n",
       "    N:GEXP::?:136542:  N:GEXP::?:155060:  N:GEXP::?:26823:  N:GEXP::?:280660:  \\\n",
       "0            0.029241           0.126573          0.066299           0.077447   \n",
       "1            0.016453           0.108669          0.148421           0.069964   \n",
       "2            0.026541           0.120333          0.096916           0.078194   \n",
       "3            0.017306           0.096623          0.064002           0.057427   \n",
       "4            0.025721           0.135871          0.136134           0.087764   \n",
       "..                ...                ...               ...                ...   \n",
       "95           0.020079           0.124486          0.129840           0.068367   \n",
       "96           0.017069           0.117643          0.126523           0.062321   \n",
       "97           0.022716           0.136471          0.114095           0.070482   \n",
       "98           0.021976           0.113962          0.110390           0.074631   \n",
       "99           0.020641           0.118498          0.101545           0.070016   \n",
       "\n",
       "    ...  N:GEXP::ZXDA:7789:  N:GEXP::ZXDB:158586:  N:GEXP::ZXDC:79364:  \\\n",
       "0   ...            0.362772              0.196995             0.165045   \n",
       "1   ...            0.143783              0.139229             0.195271   \n",
       "2   ...            0.299268              0.201798             0.211242   \n",
       "3   ...            0.313807              0.186714             0.196737   \n",
       "4   ...            0.261601              0.213692             0.256863   \n",
       "..  ...                 ...                   ...                  ...   \n",
       "95  ...            0.267582              0.219069             0.285150   \n",
       "96  ...            0.244571              0.197332             0.257124   \n",
       "97  ...            0.355625              0.265915             0.307015   \n",
       "98  ...            0.226122              0.179306             0.205778   \n",
       "99  ...            0.322933              0.222455             0.260034   \n",
       "\n",
       "    N:GEXP::ZYG11A:440590:  N:GEXP::ZYG11B:79699:  N:GEXP::ZYX:7791:  \\\n",
       "0                 0.072829               0.245528           0.498143   \n",
       "1                 0.026308               0.171041           0.238253   \n",
       "2                 0.055052               0.249683           0.383828   \n",
       "3                 0.043132               0.238466           0.396260   \n",
       "4                 0.049955               0.285190           0.285934   \n",
       "..                     ...                    ...                ...   \n",
       "95                0.046411               0.324342           0.227240   \n",
       "96                0.037257               0.297882           0.222657   \n",
       "97                0.058990               0.405068           0.239128   \n",
       "98                0.044250               0.218913           0.330399   \n",
       "99                0.050649               0.330109           0.288818   \n",
       "\n",
       "    N:GEXP::ZZEF1:23140:  N:GEXP::ZZZ3:26009:  N:GEXP::psiTPTE22:387590:  \\\n",
       "0               0.189962             0.152691                   0.031110   \n",
       "1               0.172104             0.039849                   0.051891   \n",
       "2               0.207879             0.102618                   0.040221   \n",
       "3               0.181082             0.116049                   0.027563   \n",
       "4               0.234987             0.089368                   0.060051   \n",
       "..                   ...                  ...                        ...   \n",
       "95              0.241541             0.083926                   0.052400   \n",
       "96              0.228219             0.072514                   0.048490   \n",
       "97              0.270865             0.137900                   0.047045   \n",
       "98              0.190485             0.075801                   0.045377   \n",
       "99              0.231014             0.112740                   0.040775   \n",
       "\n",
       "    N:GEXP::tAKR:389932:  \n",
       "0               0.030984  \n",
       "1               0.003760  \n",
       "2               0.016215  \n",
       "3               0.011541  \n",
       "4               0.011674  \n",
       "..                   ...  \n",
       "95              0.008841  \n",
       "96              0.005912  \n",
       "97              0.015573  \n",
       "98              0.009294  \n",
       "99              0.012639  \n",
       "\n",
       "[100 rows x 20532 columns]"
      ]
     },
     "execution_count": 106,
     "metadata": {},
     "output_type": "execute_result"
    }
   ],
   "source": [
    "decod_tst_cut"
   ]
  },
  {
   "cell_type": "markdown",
   "id": "1b22c0e6-cee6-4912-8370-1665b404701d",
   "metadata": {
    "tags": []
   },
   "source": [
    "#### Raw sample relabel"
   ]
  },
  {
   "cell_type": "code",
   "execution_count": 105,
   "id": "10823689-5df1-4a8e-982f-f53a6d18433b",
   "metadata": {},
   "outputs": [],
   "source": [
    "lbl_set = 'raw'"
   ]
  },
  {
   "cell_type": "code",
   "execution_count": 108,
   "id": "9b960a8f-0dbb-4f8c-b0a9-b8aee7c9b049",
   "metadata": {},
   "outputs": [],
   "source": [
    "umap_labels = [] # BLCA_dec, read from model version 2 output\n",
    "for i in file.Labels:\n",
    "    if i == sorted(file.Labels.unique())[0]:\n",
    "        umap_labels.append(sorted(file.Labels.unique())[0]+'_'+lbl_set)\n",
    "    if i == sorted(file.Labels.unique())[1]:\n",
    "        umap_labels.append(sorted(file.Labels.unique())[1]+'_'+lbl_set)\n",
    "    if i == sorted(file.Labels.unique())[2]:\n",
    "        umap_labels.append(sorted(file.Labels.unique())[2]+'_'+lbl_set)\n",
    "    if i == sorted(file.Labels.unique())[3]:\n",
    "        umap_labels.append(sorted(file.Labels.unique())[3]+'_'+lbl_set)\n",
    "    if i == sorted(file.Labels.unique())[4]:\n",
    "        umap_labels.append(sorted(file.Labels.unique())[4]+'_'+lbl_set)\n",
    "    if i == sorted(file.Labels.unique())[5]:\n",
    "        umap_labels.append(sorted(file.Labels.unique())[5]+'_'+lbl_set)\n",
    "file.Labels = umap_labels"
   ]
  },
  {
   "cell_type": "code",
   "execution_count": null,
   "id": "9097f4fa-558a-4cb1-88d6-8fc46dd58c4d",
   "metadata": {},
   "outputs": [],
   "source": [
    "* replace with raw_n"
   ]
  },
  {
   "cell_type": "markdown",
   "id": "bfe5f7e8-b476-412c-af39-de33117f13a5",
   "metadata": {
    "jp-MarkdownHeadingCollapsed": true,
    "tags": []
   },
   "source": [
    "#### Stacking ops"
   ]
  },
  {
   "cell_type": "code",
   "execution_count": null,
   "id": "0d116261-b6a3-4041-9da4-fdbb98e6cb4e",
   "metadata": {},
   "outputs": [],
   "source": [
    "List of objects to stack:\n",
    "    nrm_raw_trn\n",
    "    nrm_raw_tst\n",
    "    decod_tst\n",
    "    decod_trn"
   ]
  },
  {
   "cell_type": "code",
   "execution_count": 111,
   "id": "da9a7cfa-358d-4d1b-926b-08f65ea2ae43",
   "metadata": {},
   "outputs": [
    {
     "data": {
      "text/plain": [
       "(299, 20532)"
      ]
     },
     "execution_count": 111,
     "metadata": {},
     "output_type": "execute_result"
    }
   ],
   "source": [
    "nrm_raw_trn.shape"
   ]
  },
  {
   "cell_type": "code",
   "execution_count": 112,
   "id": "23d4e4c4-8645-4a55-93cc-4ad475cd1b99",
   "metadata": {},
   "outputs": [
    {
     "data": {
      "text/plain": [
       "(100, 20532)"
      ]
     },
     "execution_count": 112,
     "metadata": {},
     "output_type": "execute_result"
    }
   ],
   "source": [
    "nrm_raw_tst.shape"
   ]
  },
  {
   "cell_type": "code",
   "execution_count": 113,
   "id": "b471ff5b-44f2-4a52-906f-b95e80dd75bc",
   "metadata": {},
   "outputs": [
    {
     "data": {
      "text/plain": [
       "(100, 20737)"
      ]
     },
     "execution_count": 113,
     "metadata": {},
     "output_type": "execute_result"
    }
   ],
   "source": [
    "decod_tst.shape # fail, cut zeros, this is decod test\n",
    "\n",
    "# Trace back to zero-cut zone, decod test"
   ]
  },
  {
   "cell_type": "code",
   "execution_count": null,
   "id": "e56b109e-874c-4853-97de-ed20498c68bc",
   "metadata": {},
   "outputs": [],
   "source": [
    "decod_tst_cut"
   ]
  },
  {
   "cell_type": "code",
   "execution_count": 119,
   "id": "69e3c9b1-9cd3-4ad8-86e4-19a81114d92e",
   "metadata": {},
   "outputs": [],
   "source": [
    "full_stack = pd.concat([nrm_raw_trn,\n",
    "                        nrm_raw_tst,\n",
    "                        decod_tst_cut,\n",
    "                        decod_trn_cut])\n",
    "\n",
    "# Now the UMAP is getting no zero-filler columns\n",
    "# The data types are float"
   ]
  },
  {
   "cell_type": "code",
   "execution_count": null,
   "id": "9e20a360-55c1-4bc1-b469-f5135ca9e799",
   "metadata": {},
   "outputs": [],
   "source": [
    "# List of optimizations:\n",
    "    Batch size\n",
    "    Data type\n",
    "    Layer count\n",
    "    Filter count\n",
    "    Epochs\n",
    "    Pre-training scheme\n",
    "    Latent dimension\n",
    "    \n",
    "    Paired colormap for 7-subtype cohorts\n",
    "    \n",
    "# Core functioinality:\n",
    "    Two architechtures (defined by Layer-type)\n",
    "    Automated UMAP (defined by taking arbitrary number of subtypes)"
   ]
  },
  {
   "cell_type": "code",
   "execution_count": null,
   "id": "df6129dc-67eb-4db2-bed9-c6d539b2a8f9",
   "metadata": {},
   "outputs": [],
   "source": [
    "# want repeats in index"
   ]
  },
  {
   "cell_type": "code",
   "execution_count": 120,
   "id": "f68fd5d4-fb50-4883-a892-190a6b0f5535",
   "metadata": {},
   "outputs": [
    {
     "data": {
      "text/plain": [
       "(798, 20532)"
      ]
     },
     "execution_count": 120,
     "metadata": {},
     "output_type": "execute_result"
    }
   ],
   "source": [
    "full_stack.shape"
   ]
  },
  {
   "cell_type": "code",
   "execution_count": 123,
   "id": "02bda591-29cc-407c-865b-8d830e7734e8",
   "metadata": {},
   "outputs": [
    {
     "data": {
      "text/html": [
       "<div>\n",
       "<style scoped>\n",
       "    .dataframe tbody tr th:only-of-type {\n",
       "        vertical-align: middle;\n",
       "    }\n",
       "\n",
       "    .dataframe tbody tr th {\n",
       "        vertical-align: top;\n",
       "    }\n",
       "\n",
       "    .dataframe thead th {\n",
       "        text-align: right;\n",
       "    }\n",
       "</style>\n",
       "<table border=\"1\" class=\"dataframe\">\n",
       "  <thead>\n",
       "    <tr style=\"text-align: right;\">\n",
       "      <th></th>\n",
       "      <th>Labels</th>\n",
       "      <th>N:GEXP::?:100130426:</th>\n",
       "      <th>N:GEXP::?:100133144:</th>\n",
       "      <th>N:GEXP::?:100134869:</th>\n",
       "      <th>N:GEXP::?:10357:</th>\n",
       "      <th>N:GEXP::?:10431:</th>\n",
       "      <th>N:GEXP::?:136542:</th>\n",
       "      <th>N:GEXP::?:155060:</th>\n",
       "      <th>N:GEXP::?:26823:</th>\n",
       "      <th>N:GEXP::?:280660:</th>\n",
       "      <th>...</th>\n",
       "      <th>N:GEXP::ZXDA:7789:</th>\n",
       "      <th>N:GEXP::ZXDB:158586:</th>\n",
       "      <th>N:GEXP::ZXDC:79364:</th>\n",
       "      <th>N:GEXP::ZYG11A:440590:</th>\n",
       "      <th>N:GEXP::ZYG11B:79699:</th>\n",
       "      <th>N:GEXP::ZYX:7791:</th>\n",
       "      <th>N:GEXP::ZZEF1:23140:</th>\n",
       "      <th>N:GEXP::ZZZ3:26009:</th>\n",
       "      <th>N:GEXP::psiTPTE22:387590:</th>\n",
       "      <th>N:GEXP::tAKR:389932:</th>\n",
       "    </tr>\n",
       "  </thead>\n",
       "  <tbody>\n",
       "    <tr>\n",
       "      <th>0</th>\n",
       "      <td>BLCA_2_train_raw</td>\n",
       "      <td>0.0</td>\n",
       "      <td>0.0</td>\n",
       "      <td>0.060688</td>\n",
       "      <td>0.190093</td>\n",
       "      <td>0.120877</td>\n",
       "      <td>0.0</td>\n",
       "      <td>0.064528</td>\n",
       "      <td>0.0</td>\n",
       "      <td>0.0</td>\n",
       "      <td>...</td>\n",
       "      <td>0.167245</td>\n",
       "      <td>0.226274</td>\n",
       "      <td>0.219092</td>\n",
       "      <td>0.014614</td>\n",
       "      <td>0.376986</td>\n",
       "      <td>0.140468</td>\n",
       "      <td>0.135513</td>\n",
       "      <td>0.186737</td>\n",
       "      <td>0.009614</td>\n",
       "      <td>0.040715</td>\n",
       "    </tr>\n",
       "  </tbody>\n",
       "</table>\n",
       "<p>1 rows × 20532 columns</p>\n",
       "</div>"
      ],
      "text/plain": [
       "             Labels  N:GEXP::?:100130426:  N:GEXP::?:100133144:  \\\n",
       "0  BLCA_2_train_raw                   0.0                   0.0   \n",
       "\n",
       "   N:GEXP::?:100134869:  N:GEXP::?:10357:  N:GEXP::?:10431:  \\\n",
       "0              0.060688          0.190093          0.120877   \n",
       "\n",
       "   N:GEXP::?:136542:  N:GEXP::?:155060:  N:GEXP::?:26823:  N:GEXP::?:280660:  \\\n",
       "0                0.0           0.064528               0.0                0.0   \n",
       "\n",
       "   ...  N:GEXP::ZXDA:7789:  N:GEXP::ZXDB:158586:  N:GEXP::ZXDC:79364:  \\\n",
       "0  ...            0.167245              0.226274             0.219092   \n",
       "\n",
       "   N:GEXP::ZYG11A:440590:  N:GEXP::ZYG11B:79699:  N:GEXP::ZYX:7791:  \\\n",
       "0                0.014614               0.376986           0.140468   \n",
       "\n",
       "   N:GEXP::ZZEF1:23140:  N:GEXP::ZZZ3:26009:  N:GEXP::psiTPTE22:387590:  \\\n",
       "0              0.135513             0.186737                   0.009614   \n",
       "\n",
       "   N:GEXP::tAKR:389932:  \n",
       "0              0.040715  \n",
       "\n",
       "[1 rows x 20532 columns]"
      ]
     },
     "execution_count": 123,
     "metadata": {},
     "output_type": "execute_result"
    }
   ],
   "source": [
    "full_stack.head(1)"
   ]
  },
  {
   "cell_type": "code",
   "execution_count": 125,
   "id": "ddf2fa7a-7b83-4468-b6d0-e18820a7cf08",
   "metadata": {},
   "outputs": [
    {
     "data": {
      "text/plain": [
       "24"
      ]
     },
     "execution_count": 125,
     "metadata": {},
     "output_type": "execute_result"
    }
   ],
   "source": [
    "len(full_stack.Labels.unique()) #check"
   ]
  },
  {
   "cell_type": "markdown",
   "id": "38ddfdff-7963-44da-a40b-1ac93c1d896e",
   "metadata": {
    "tags": []
   },
   "source": [
    "#### UMAP function"
   ]
  },
  {
   "cell_type": "code",
   "execution_count": 121,
   "id": "a47cfd06-e378-43f2-a3b9-b4606e8eab4f",
   "metadata": {},
   "outputs": [
    {
     "name": "stderr",
     "output_type": "stream",
     "text": [
      "OMP: Info #271: omp_set_nested routine deprecated, please use omp_set_max_active_levels instead.\n"
     ]
    }
   ],
   "source": [
    "n_comps = 2\n",
    "reducer = umap.UMAP(n_components = n_comps)\n",
    "scaled_data = StandardScaler().fit_transform(full_stack.iloc[:,1:])\n",
    "embd = reducer.fit_transform(scaled_data)\n",
    "embdDF = pd.DataFrame(embd)\n",
    "embdDF.columns = ['x', 'y']\n",
    "embdDF.insert(0, 'Labels', list(full_stack.Labels))"
   ]
  },
  {
   "cell_type": "markdown",
   "id": "fcb87251-c81e-4879-82cc-ee37677d83e3",
   "metadata": {
    "tags": []
   },
   "source": [
    "#### Raw / dec UMAP"
   ]
  },
  {
   "cell_type": "code",
   "execution_count": 129,
   "id": "09efab7f-64fd-44e1-bb18-bacc23dc2dfb",
   "metadata": {},
   "outputs": [
    {
     "data": {
      "text/html": [
       "<div>\n",
       "<style scoped>\n",
       "    .dataframe tbody tr th:only-of-type {\n",
       "        vertical-align: middle;\n",
       "    }\n",
       "\n",
       "    .dataframe tbody tr th {\n",
       "        vertical-align: top;\n",
       "    }\n",
       "\n",
       "    .dataframe thead th {\n",
       "        text-align: right;\n",
       "    }\n",
       "</style>\n",
       "<table border=\"1\" class=\"dataframe\">\n",
       "  <thead>\n",
       "    <tr style=\"text-align: right;\">\n",
       "      <th></th>\n",
       "      <th>Labels</th>\n",
       "      <th>x</th>\n",
       "      <th>y</th>\n",
       "    </tr>\n",
       "  </thead>\n",
       "  <tbody>\n",
       "    <tr>\n",
       "      <th>0</th>\n",
       "      <td>BLCA_2_train_raw</td>\n",
       "      <td>9.810587</td>\n",
       "      <td>3.422034</td>\n",
       "    </tr>\n",
       "    <tr>\n",
       "      <th>1</th>\n",
       "      <td>BLCA_3_train_raw</td>\n",
       "      <td>5.442807</td>\n",
       "      <td>4.001378</td>\n",
       "    </tr>\n",
       "    <tr>\n",
       "      <th>2</th>\n",
       "      <td>BLCA_1_train_raw</td>\n",
       "      <td>8.980364</td>\n",
       "      <td>3.815397</td>\n",
       "    </tr>\n",
       "    <tr>\n",
       "      <th>3</th>\n",
       "      <td>BLCA_4_train_raw</td>\n",
       "      <td>8.594315</td>\n",
       "      <td>5.229689</td>\n",
       "    </tr>\n",
       "    <tr>\n",
       "      <th>4</th>\n",
       "      <td>BLCA_2_train_raw</td>\n",
       "      <td>5.889168</td>\n",
       "      <td>1.035568</td>\n",
       "    </tr>\n",
       "    <tr>\n",
       "      <th>...</th>\n",
       "      <td>...</td>\n",
       "      <td>...</td>\n",
       "      <td>...</td>\n",
       "    </tr>\n",
       "    <tr>\n",
       "      <th>793</th>\n",
       "      <td>BLCA_3_train_decoded</td>\n",
       "      <td>6.536886</td>\n",
       "      <td>5.756028</td>\n",
       "    </tr>\n",
       "    <tr>\n",
       "      <th>794</th>\n",
       "      <td>BLCA_1_train_decoded</td>\n",
       "      <td>7.293661</td>\n",
       "      <td>0.075339</td>\n",
       "    </tr>\n",
       "    <tr>\n",
       "      <th>795</th>\n",
       "      <td>BLCA_1_train_decoded</td>\n",
       "      <td>6.953939</td>\n",
       "      <td>1.934811</td>\n",
       "    </tr>\n",
       "    <tr>\n",
       "      <th>796</th>\n",
       "      <td>BLCA_1_train_decoded</td>\n",
       "      <td>6.947011</td>\n",
       "      <td>5.516231</td>\n",
       "    </tr>\n",
       "    <tr>\n",
       "      <th>797</th>\n",
       "      <td>BLCA_2_train_decoded</td>\n",
       "      <td>11.628213</td>\n",
       "      <td>2.013196</td>\n",
       "    </tr>\n",
       "  </tbody>\n",
       "</table>\n",
       "<p>798 rows × 3 columns</p>\n",
       "</div>"
      ],
      "text/plain": [
       "                   Labels          x         y\n",
       "0        BLCA_2_train_raw   9.810587  3.422034\n",
       "1        BLCA_3_train_raw   5.442807  4.001378\n",
       "2        BLCA_1_train_raw   8.980364  3.815397\n",
       "3        BLCA_4_train_raw   8.594315  5.229689\n",
       "4        BLCA_2_train_raw   5.889168  1.035568\n",
       "..                    ...        ...       ...\n",
       "793  BLCA_3_train_decoded   6.536886  5.756028\n",
       "794  BLCA_1_train_decoded   7.293661  0.075339\n",
       "795  BLCA_1_train_decoded   6.953939  1.934811\n",
       "796  BLCA_1_train_decoded   6.947011  5.516231\n",
       "797  BLCA_2_train_decoded  11.628213  2.013196\n",
       "\n",
       "[798 rows x 3 columns]"
      ]
     },
     "execution_count": 129,
     "metadata": {},
     "output_type": "execute_result"
    }
   ],
   "source": [
    "embdDF # looks at least in the ball park"
   ]
  },
  {
   "cell_type": "code",
   "execution_count": 124,
   "id": "dd8dcbf9-fa49-4901-90ed-68dd0195eb42",
   "metadata": {},
   "outputs": [
    {
     "data": {
      "text/plain": [
       "array(['BLCA_2_train_raw', 'BLCA_3_train_raw', 'BLCA_1_train_raw',\n",
       "       'BLCA_4_train_raw', 'BLCA_5_train_raw', 'BLCA_6_train_raw',\n",
       "       'BLCA_1_test_raw', 'BLCA_2_test_raw', 'BLCA_6_test_raw',\n",
       "       'BLCA_4_test_raw', 'BLCA_3_test_raw', 'BLCA_5_test_raw',\n",
       "       'BLCA_1_test_decoded', 'BLCA_2_test_decoded',\n",
       "       'BLCA_6_test_decoded', 'BLCA_4_test_decoded',\n",
       "       'BLCA_3_test_decoded', 'BLCA_5_test_decoded',\n",
       "       'BLCA_2_train_decoded', 'BLCA_3_train_decoded',\n",
       "       'BLCA_1_train_decoded', 'BLCA_4_train_decoded',\n",
       "       'BLCA_5_train_decoded', 'BLCA_6_train_decoded'], dtype=object)"
      ]
     },
     "execution_count": 124,
     "metadata": {},
     "output_type": "execute_result"
    }
   ],
   "source": [
    "full_stack.Labels.unique()"
   ]
  },
  {
   "cell_type": "code",
   "execution_count": null,
   "id": "e1b4ec94-26d1-4252-929a-0c16b6f874df",
   "metadata": {},
   "outputs": [],
   "source": [
    "# BRCA will be 16,\n",
    "    # ideas to automate\n",
    "    # sort to leverage alphabetic properties (?)\n",
    "        # should be robust across cancers because primary type is first in Label\n",
    "    # will need to run in loop by subtype - 4 plots per loop repeat\n",
    "        # because the number of plots per primary type differs\n",
    "        # get subtype number, position 1 in string split to start\n",
    "    \n",
    "    # automating markers should be no problem\n",
    "    \n",
    "    # Plan ahead to incorporate synthetic samples as well\n",
    "        # just swap out a shape / color with train / test, raw / decoded, etc"
   ]
  },
  {
   "cell_type": "code",
   "execution_count": 130,
   "id": "155f7b31-6527-4a7e-a8f1-e4253aa94bb7",
   "metadata": {},
   "outputs": [
    {
     "data": {
      "text/plain": [
       "['BLCA_1_test_decoded',\n",
       " 'BLCA_1_test_raw',\n",
       " 'BLCA_1_train_decoded',\n",
       " 'BLCA_1_train_raw',\n",
       " 'BLCA_2_test_decoded',\n",
       " 'BLCA_2_test_raw',\n",
       " 'BLCA_2_train_decoded',\n",
       " 'BLCA_2_train_raw',\n",
       " 'BLCA_3_test_decoded',\n",
       " 'BLCA_3_test_raw',\n",
       " 'BLCA_3_train_decoded',\n",
       " 'BLCA_3_train_raw',\n",
       " 'BLCA_4_test_decoded',\n",
       " 'BLCA_4_test_raw',\n",
       " 'BLCA_4_train_decoded',\n",
       " 'BLCA_4_train_raw',\n",
       " 'BLCA_5_test_decoded',\n",
       " 'BLCA_5_test_raw',\n",
       " 'BLCA_5_train_decoded',\n",
       " 'BLCA_5_train_raw',\n",
       " 'BLCA_6_test_decoded',\n",
       " 'BLCA_6_test_raw',\n",
       " 'BLCA_6_train_decoded',\n",
       " 'BLCA_6_train_raw']"
      ]
     },
     "execution_count": 130,
     "metadata": {},
     "output_type": "execute_result"
    }
   ],
   "source": [
    "sorted(full_stack.Labels.unique()) # test comes before train alphabetically,\n",
    "\n",
    "# opposite of feed sequence to model; sets label on plot"
   ]
  },
  {
   "cell_type": "code",
   "execution_count": null,
   "id": "8705423e-98ec-498a-98bb-b4e4e5f9acee",
   "metadata": {},
   "outputs": [],
   "source": []
  },
  {
   "cell_type": "code",
   "execution_count": 134,
   "id": "7948233f-ccfd-4ba3-a003-fe139a1b74c2",
   "metadata": {},
   "outputs": [
    {
     "data": {
      "image/png": "[encoded data removed]",
      "text/plain": [
       "<Figure size 720x720 with 1 Axes>"
      ]
     },
     "metadata": {
      "needs_background": "light"
     },
     "output_type": "display_data"
    }
   ],
   "source": [
    "# Raw and decoded BLCA, last manual version, order as tst dc/rw, trn dc/rw next\n",
    "dot_size = 25\n",
    "\n",
    "fig = plt.figure(figsize = (10, 10))\n",
    "\n",
    "# 24 scatter plots\n",
    "\n",
    "# raw first; train first\n",
    "\n",
    "train_raw = 'BLCA_1_train_raw'\n",
    "plt.scatter(embdDF[embdDF.Labels == train_raw].x,\n",
    "            embdDF[embdDF.Labels == train_raw].y,\n",
    "            s=dot_size, color=plt.cm.Paired(1),\n",
    "            marker='o', label = train_raw)\n",
    "\n",
    "train_raw = 'BLCA_2_train_raw'\n",
    "plt.scatter(embdDF[embdDF.Labels == train_raw].x,\n",
    "            embdDF[embdDF.Labels == train_raw].y,\n",
    "            s=dot_size, color=plt.cm.Paired(3),\n",
    "            marker='o', label = train_raw)\n",
    "\n",
    "train_raw = 'BLCA_3_train_raw'\n",
    "plt.scatter(embdDF[embdDF.Labels == train_raw].x,\n",
    "            embdDF[embdDF.Labels == train_raw].y,\n",
    "            s=dot_size, color=plt.cm.Paired(5),\n",
    "            marker='o', label = train_raw)\n",
    "\n",
    "train_raw = 'BLCA_4_train_raw'\n",
    "plt.scatter(embdDF[embdDF.Labels == train_raw].x,\n",
    "            embdDF[embdDF.Labels == train_raw].y,\n",
    "            s=dot_size, color=plt.cm.Paired(7),\n",
    "            marker='o', label = train_raw)\n",
    "\n",
    "train_raw = 'BLCA_5_train_raw'\n",
    "plt.scatter(embdDF[embdDF.Labels == train_raw].x,\n",
    "            embdDF[embdDF.Labels == train_raw].y,\n",
    "            s=dot_size, color=plt.cm.Paired(9),\n",
    "            marker='o', label = train_raw)\n",
    "\n",
    "train_raw = 'BLCA_6_train_raw'\n",
    "plt.scatter(embdDF[embdDF.Labels == train_raw].x,\n",
    "            embdDF[embdDF.Labels == train_raw].y,\n",
    "            s=dot_size, color=plt.cm.Paired(11),\n",
    "            marker='o', label = train_raw)\n",
    "\n",
    "# raw test blocks\n",
    "test_raw = 'BLCA_1_test_raw'\n",
    "plt.scatter(embdDF[embdDF.Labels == test_raw].x,\n",
    "            embdDF[embdDF.Labels == test_raw].y,\n",
    "            s=dot_size, color=plt.cm.Paired(1),\n",
    "            marker='^', label = train_raw)\n",
    "\n",
    "test_raw = 'BLCA_2_test_raw'\n",
    "plt.scatter(embdDF[embdDF.Labels == test_raw].x,\n",
    "            embdDF[embdDF.Labels == test_raw].y,\n",
    "            s=dot_size, color=plt.cm.Paired(3),\n",
    "            marker='^', label = train_raw)\n",
    "\n",
    "test_raw = 'BLCA_3_test_raw'\n",
    "plt.scatter(embdDF[embdDF.Labels == test_raw].x,\n",
    "            embdDF[embdDF.Labels == test_raw].y,\n",
    "            s=dot_size, color=plt.cm.Paired(5),\n",
    "            marker='^', label = train_raw)\n",
    "\n",
    "test_raw = 'BLCA_4_test_raw'\n",
    "plt.scatter(embdDF[embdDF.Labels == test_raw].x,\n",
    "            embdDF[embdDF.Labels == test_raw].y,\n",
    "            s=dot_size, color=plt.cm.Paired(7),\n",
    "            marker='^', label = train_raw)\n",
    "\n",
    "test_raw = 'BLCA_5_test_raw'\n",
    "plt.scatter(embdDF[embdDF.Labels == test_raw].x,\n",
    "            embdDF[embdDF.Labels == test_raw].y,\n",
    "            s=dot_size, color=plt.cm.Paired(9),\n",
    "            marker='^', label = train_raw)\n",
    "\n",
    "test_raw = 'BLCA_6_test_raw'\n",
    "plt.scatter(embdDF[embdDF.Labels == test_raw].x,\n",
    "            embdDF[embdDF.Labels == test_raw].y,\n",
    "            s=dot_size, color=plt.cm.Paired(11),\n",
    "            marker='^', label = train_raw)\n",
    "\n",
    "# Train decoded block\n",
    "plt.scatter(embdDF[embdDF.Labels == 'BLCA_1_train_decoded'].x,\n",
    "            embdDF[embdDF.Labels == 'BLCA_1_train_decoded'].y,\n",
    "            s=dot_size, color=plt.cm.Paired(0), marker='o',\n",
    "            label = 'BLCA_1_train_decoded')\n",
    "\n",
    "plt.scatter(embdDF[embdDF.Labels == 'BLCA_2_train_decoded'].x,\n",
    "            embdDF[embdDF.Labels == 'BLCA_2_train_decoded'].y,\n",
    "            s=dot_size, color=plt.cm.Paired(2), marker='o',\n",
    "            label = 'BLCA_2_train_decoded')\n",
    "\n",
    "plt.scatter(embdDF[embdDF.Labels == 'BLCA_3_train_decoded'].x,\n",
    "            embdDF[embdDF.Labels == 'BLCA_3_train_decoded'].y,\n",
    "            s=dot_size, color=plt.cm.Paired(4), marker='o',\n",
    "            label = 'BLCA_3_train_decoded')\n",
    "\n",
    "plt.scatter(embdDF[embdDF.Labels == 'BLCA_4_train_decoded'].x,\n",
    "            embdDF[embdDF.Labels == 'BLCA_4_train_decoded'].y,\n",
    "            s=dot_size, color=plt.cm.Paired(6), marker='o',\n",
    "            label = 'BLCA_4_train_decoded')\n",
    "\n",
    "plt.scatter(embdDF[embdDF.Labels == 'BLCA_5_train_decoded'].x,\n",
    "            embdDF[embdDF.Labels == 'BLCA_5_train_decoded'].y,\n",
    "            s=dot_size, color=plt.cm.Paired(8), marker='o',\n",
    "            label = 'BLCA_5_train_decoded')\n",
    "\n",
    "plt.scatter(embdDF[embdDF.Labels == 'BLCA_6_train_decoded'].x,\n",
    "            embdDF[embdDF.Labels == 'BLCA_6_train_decoded'].y,\n",
    "            s=dot_size, color=plt.cm.Paired(10), marker='o',\n",
    "            label = 'BLCA_6_train_decoded')\n",
    "\n",
    "# Test decoded block\n",
    "\n",
    "plt.scatter(embdDF[embdDF.Labels == 'BLCA_1_test_decoded'].x,\n",
    "            embdDF[embdDF.Labels == 'BLCA_1_test_decoded'].y,\n",
    "            s=dot_size, color=plt.cm.Paired(0), marker='^',\n",
    "            label = 'BLCA_1_test_decoded')\n",
    "\n",
    "plt.scatter(embdDF[embdDF.Labels == 'BLCA_2_test_decoded'].x,\n",
    "            embdDF[embdDF.Labels == 'BLCA_2_test_decoded'].y,\n",
    "            s=dot_size, color=plt.cm.Paired(2), marker='^',\n",
    "            label = 'BLCA_2_test_decoded')\n",
    "\n",
    "plt.scatter(embdDF[embdDF.Labels == 'BLCA_3_test_decoded'].x,\n",
    "            embdDF[embdDF.Labels == 'BLCA_3_test_decoded'].y,\n",
    "            s=dot_size, color=plt.cm.Paired(4), marker='^',\n",
    "            label = 'BLCA_3_test_decoded')\n",
    "\n",
    "plt.scatter(embdDF[embdDF.Labels == 'BLCA_4_test_decoded'].x,\n",
    "            embdDF[embdDF.Labels == 'BLCA_4_test_decoded'].y,\n",
    "            s=dot_size, color=plt.cm.Paired(6), marker='^',\n",
    "            label = 'BLCA_4_test_decoded')\n",
    "\n",
    "plt.scatter(embdDF[embdDF.Labels == 'BLCA_5_test_decoded'].x,\n",
    "            embdDF[embdDF.Labels == 'BLCA_5_test_decoded'].y,\n",
    "            s=dot_size, color=plt.cm.Paired(8), marker='^',\n",
    "            label = 'BLCA_5_test_decoded')\n",
    "\n",
    "plt.scatter(embdDF[embdDF.Labels == 'BLCA_6_test_decoded'].x,\n",
    "            embdDF[embdDF.Labels == 'BLCA_6_test_decoded'].y,\n",
    "            s=dot_size, color=plt.cm.Paired(10), marker='^',\n",
    "            label = 'BLCA_6_test_decoded')\n",
    "\n",
    "plt.title('BLCA UMAP, training n = 299, test n = 100\\n'+\n",
    "    # 'synthetic n = 995\\n'+\n",
    "    'float dtype, gene expression features n = 20,531')\n",
    "          \n",
    "plt.legend(loc = 'upper left')\n",
    "plt.savefig('out/'+\n",
    "            'BLCA_float64_full_gexp_'+version+'_'+date+'_r1.png')"
   ]
  },
  {
   "cell_type": "code",
   "execution_count": 131,
   "id": "9d190aba-2090-45b8-9caf-4e376fe7825f",
   "metadata": {},
   "outputs": [
    {
     "data": {
      "text/plain": [
       "'2022_10_12'"
      ]
     },
     "execution_count": 131,
     "metadata": {},
     "output_type": "execute_result"
    }
   ],
   "source": [
    "date"
   ]
  },
  {
   "cell_type": "code",
   "execution_count": 124,
   "id": "8618b715-c418-446e-8bfd-b363705fae5d",
   "metadata": {},
   "outputs": [
    {
     "data": {
      "text/plain": [
       "'nb_D_UMAP_fnctn_plot_02.ipynb'"
      ]
     },
     "execution_count": 124,
     "metadata": {},
     "output_type": "execute_result"
    }
   ],
   "source": [
    "version"
   ]
  },
  {
   "cell_type": "code",
   "execution_count": 123,
   "id": "7fdc28a9-5bac-4f5f-9697-1b36ba8ff7ec",
   "metadata": {},
   "outputs": [
    {
     "data": {
      "text/plain": [
       "'/Users/karlberb/Desktop/RNB00978/sample_count/sample_gen/synthetic_TCGA_data_gen/d_UMAP'"
      ]
     },
     "execution_count": 123,
     "metadata": {},
     "output_type": "execute_result"
    }
   ],
   "source": [
    "pwd"
   ]
  },
  {
   "cell_type": "code",
   "execution_count": null,
   "id": "48843109-0ffa-4811-aa31-86ae9e60f6b1",
   "metadata": {},
   "outputs": [],
   "source": [
    "# End\n",
    "\n",
    "# conclusion notes:\n",
    "# correct architechture in 2D model, from original\n",
    "# MNIST medium example"
   ]
  },
  {
   "cell_type": "markdown",
   "id": "a90cee44-3925-4315-b8e6-e776218f5617",
   "metadata": {
    "tags": []
   },
   "source": [
    "# Devel notes"
   ]
  },
  {
   "cell_type": "code",
   "execution_count": 127,
   "id": "767ed3e5-63f9-4926-bd8d-4af020c264b5",
   "metadata": {},
   "outputs": [],
   "source": [
    "x = 1"
   ]
  },
  {
   "cell_type": "code",
   "execution_count": 128,
   "id": "13365e40-dd6f-4c7b-bd6a-170eb983bfbd",
   "metadata": {},
   "outputs": [],
   "source": [
    "y = x + 1"
   ]
  },
  {
   "cell_type": "code",
   "execution_count": null,
   "id": "45ccaad1-1674-4778-9df3-0e153f010f6d",
   "metadata": {},
   "outputs": [],
   "source": [
    "# End mardown test"
   ]
  },
  {
   "cell_type": "markdown",
   "id": "f31091f9-72d7-4748-a2d1-af1f4a3b1d1f",
   "metadata": {
    "jp-MarkdownHeadingCollapsed": true,
    "tags": []
   },
   "source": [
    "#### Install umap.UMAP"
   ]
  },
  {
   "cell_type": "code",
   "execution_count": 116,
   "id": "c9199e52-36a9-4a99-b2ca-cd10759e8a8c",
   "metadata": {
    "collapsed": true,
    "jupyter": {
     "outputs_hidden": true
    },
    "tags": []
   },
   "outputs": [
    {
     "name": "stdout",
     "output_type": "stream",
     "text": [
      "Found existing installation: umap 0.1.1\n",
      "Uninstalling umap-0.1.1:\n",
      "  Would remove:\n",
      "    /Users/karlberb/opt/anaconda3/lib/python3.9/site-packages/umap-0.1.1.dist-info/*\n",
      "    /Users/karlberb/opt/anaconda3/lib/python3.9/site-packages/umap/*\n",
      "  Would not remove (might be manually added):\n",
      "    /Users/karlberb/opt/anaconda3/lib/python3.9/site-packages/umap/__pycache__/layouts.rdist-30.py39.1.nbc\n",
      "    /Users/karlberb/opt/anaconda3/lib/python3.9/site-packages/umap/__pycache__/layouts.rdist-30.py39.2.nbc\n",
      "    /Users/karlberb/opt/anaconda3/lib/python3.9/site-packages/umap/__pycache__/layouts.rdist-30.py39.nbi\n",
      "    /Users/karlberb/opt/anaconda3/lib/python3.9/site-packages/umap/aligned_umap.py\n",
      "    /Users/karlberb/opt/anaconda3/lib/python3.9/site-packages/umap/distances.py\n",
      "    /Users/karlberb/opt/anaconda3/lib/python3.9/site-packages/umap/layouts.py\n",
      "    /Users/karlberb/opt/anaconda3/lib/python3.9/site-packages/umap/parametric_umap.py\n",
      "    /Users/karlberb/opt/anaconda3/lib/python3.9/site-packages/umap/plot.py\n",
      "    /Users/karlberb/opt/anaconda3/lib/python3.9/site-packages/umap/sparse.py\n",
      "    /Users/karlberb/opt/anaconda3/lib/python3.9/site-packages/umap/spectral.py\n",
      "    /Users/karlberb/opt/anaconda3/lib/python3.9/site-packages/umap/umap_.py\n",
      "    /Users/karlberb/opt/anaconda3/lib/python3.9/site-packages/umap/utils.py\n",
      "    /Users/karlberb/opt/anaconda3/lib/python3.9/site-packages/umap/validation.py\n",
      "Proceed (Y/n)? ^C\n",
      "\u001b[31mERROR: Operation cancelled by user\u001b[0m\n",
      "Note: you may need to restart the kernel to use updated packages.\n"
     ]
    }
   ],
   "source": [
    "pip uninstall umap"
   ]
  },
  {
   "cell_type": "code",
   "execution_count": null,
   "id": "a96ff042-4577-40ca-b26f-19b4f6c36b6a",
   "metadata": {},
   "outputs": [],
   "source": [
    "https://stackoverflow.com/questions/57242208/how-to-resolve-the-error-module-umap-has-no-attribute-umap-i-tried-installi"
   ]
  },
  {
   "cell_type": "code",
   "execution_count": 118,
   "id": "39cb9e26-3b64-4994-89bd-4fa4e74921f0",
   "metadata": {},
   "outputs": [],
   "source": [
    "import umap.umap_ as umap"
   ]
  },
  {
   "cell_type": "markdown",
   "id": "22fe2ac2-3b63-4a8a-9fca-60368469ca68",
   "metadata": {
    "jp-MarkdownHeadingCollapsed": true,
    "tags": []
   },
   "source": [
    "#### Continue devel notes"
   ]
  },
  {
   "cell_type": "code",
   "execution_count": null,
   "id": "990b131e-d02b-46e8-a8ff-78a28ca5ce74",
   "metadata": {},
   "outputs": [],
   "source": [
    "new_labels = [] # BLCA_dec, read from model version 2 output\n",
    "for i in train_dec.Labels:\n",
    "    if i == 'BlCA_1':\n",
    "        new_labels.append('BRCA_1_decoded') # h is for hold out\n",
    "    if i == 'BLCA_2':\n",
    "        new_labels.append('BRCA_2_decoded')\n",
    "    if i == 'BLCA_3':\n",
    "        new_labels.append('BRCA_3_decoded')\n",
    "    if i == 'BLCA_4':\n",
    "        new_labels.append('BLCA_4_decoded')\n",
    "    if i == file.Labels.unique()[4]:\n",
    "        new_labels.append(file.Labels.unique()[4]+'_decoded')\n",
    "    if i == file.Labels.unique()[5]:\n",
    "        new_labels.append(file.Labels.unique()[5]+'_decoded')\n",
    "train_dec.Labels = new_labels"
   ]
  },
  {
   "cell_type": "code",
   "execution_count": null,
   "id": "d84b3635-8ef3-4777-ba85-071eb06aecee",
   "metadata": {},
   "outputs": [],
   "source": [
    "to_umap = pd.concat(\n",
    "    [orig, train_dec])"
   ]
  },
  {
   "cell_type": "code",
   "execution_count": null,
   "id": "3c043419-b8b1-45ac-8d96-78793e622a71",
   "metadata": {},
   "outputs": [],
   "source": [
    "new_labels = [] # BRCA\n",
    "for i in train_dec.Labels:\n",
    "    if i == 'BRCA_1':\n",
    "        new_labels.append('BRCA_1_decoded') # h is for hold out\n",
    "    if i == 'BRCA_2':\n",
    "        new_labels.append('BRCA_2_decoded')\n",
    "    if i == 'BRCA_3':\n",
    "        new_labels.append('BRCA_3_decoded')\n",
    "    if i == 'BRCA_4':\n",
    "        new_labels.append('BRCA_4_decoded')\n",
    "train_dec.Labels = new_labels"
   ]
  },
  {
   "cell_type": "code",
   "execution_count": null,
   "id": "c90ed452-de32-40a5-8e9d-14af494b2561",
   "metadata": {},
   "outputs": [],
   "source": [
    "# Original notes, from a previous version"
   ]
  },
  {
   "cell_type": "code",
   "execution_count": null,
   "id": "22a3475c-788c-4fd7-8087-5238f5923fc8",
   "metadata": {},
   "outputs": [],
   "source": [
    "# embDF is from the UMAP whereas encDF is from the VAE\n",
    "# encDF is latent space whereas embDF could be output from the UMAP function that is either based on\n",
    "# precoded (unencoded), encoded, or decoded"
   ]
  },
  {
   "cell_type": "code",
   "execution_count": 62,
   "id": "c0e9fdd1-ae0a-4020-84ef-d7505b0c2197",
   "metadata": {},
   "outputs": [],
   "source": [
    "new_labels = [] # for shapes and colors on plot\n",
    "for i in train_dec.Labels:\n",
    "    if i == 'BRCA_1':\n",
    "        new_labels.append('BRCA_1_decoded') # h is for hold out\n",
    "    if i == 'BRCA_2':\n",
    "        new_labels.append('BRCA_2_decoded')\n",
    "    if i == 'BRCA_3':\n",
    "        new_labels.append('BRCA_3_decoded')\n",
    "    if i == 'BRCA_4':\n",
    "        new_labels.append('BRCA_4_decoded')\n",
    "train_dec.Labels = new_labels"
   ]
  },
  {
   "cell_type": "code",
   "execution_count": 63,
   "id": "af13a224-6c0e-45a6-b2e9-7c7adf2ba611",
   "metadata": {},
   "outputs": [],
   "source": [
    "train_dec.columns = orig.columns"
   ]
  },
  {
   "cell_type": "markdown",
   "id": "5cd74b73-47bf-4f33-8081-6ba2ae150630",
   "metadata": {
    "tags": []
   },
   "source": [
    "#### Concat here, run UMAP calc after"
   ]
  },
  {
   "cell_type": "code",
   "execution_count": null,
   "id": "575e0079-f3b7-45f2-ad97-daf40b0be6cd",
   "metadata": {},
   "outputs": [],
   "source": [
    "# order of ops:\n",
    "    # unint 8 con"
   ]
  },
  {
   "cell_type": "code",
   "execution_count": 64,
   "id": "b7de73af-93e0-4a2f-b3dd-e7b2b8ae0bd1",
   "metadata": {},
   "outputs": [],
   "source": [
    "to_umap = pd.concat(\n",
    "    [orig, train_dec])"
   ]
  },
  {
   "cell_type": "code",
   "execution_count": 65,
   "id": "0c2a71bc-b214-4d45-8818-9f781bd128a5",
   "metadata": {},
   "outputs": [
    {
     "data": {
      "text/plain": [
       "(1741, 20532)"
      ]
     },
     "execution_count": 65,
     "metadata": {},
     "output_type": "execute_result"
    }
   ],
   "source": [
    "to_umap.shape"
   ]
  },
  {
   "cell_type": "code",
   "execution_count": 37,
   "id": "39257fa7-dbaf-4369-9b0b-50480b0618f0",
   "metadata": {},
   "outputs": [
    {
     "data": {
      "text/plain": [
       "746"
      ]
     },
     "execution_count": 37,
     "metadata": {},
     "output_type": "execute_result"
    }
   ],
   "source": [
    "1741 - 995 # check, good, to plot"
   ]
  },
  {
   "cell_type": "code",
   "execution_count": 66,
   "id": "d157d3f1-d71b-4491-b071-4a568c7d8e9d",
   "metadata": {},
   "outputs": [],
   "source": [
    "n_comps = 2\n",
    "reducer = umap.UMAP(n_components = n_comps)\n",
    "scaled_data = StandardScaler().fit_transform(to_umap.iloc[:,1:]) # colmn index here\n",
    "embd = reducer.fit_transform(scaled_data)\n",
    "embdDF = pd.DataFrame(embd)\n",
    "embdDF.columns = ['x', 'y']\n",
    "embdDF.insert(0, 'Labels', list(to_umap.Labels))"
   ]
  },
  {
   "cell_type": "code",
   "execution_count": null,
   "id": "586210f8-649f-4996-bed6-4fbd738ef7b7",
   "metadata": {},
   "outputs": [],
   "source": [
    "# Run the UMAP calculation function after the concat"
   ]
  },
  {
   "cell_type": "code",
   "execution_count": 122,
   "id": "50011d8f-401b-408a-8bbb-8c0af24b53b4",
   "metadata": {},
   "outputs": [
    {
     "data": {
      "text/plain": [
       "(0.6509803921568628, 0.807843137254902, 0.8901960784313725, 1.0)"
      ]
     },
     "execution_count": 122,
     "metadata": {},
     "output_type": "execute_result"
    }
   ],
   "source": [
    "plt.cm.Paired(0)"
   ]
  },
  {
   "cell_type": "code",
   "execution_count": null,
   "id": "34097955-83a4-4e6d-8b35-07bc8ae57e81",
   "metadata": {},
   "outputs": [],
   "source": []
  },
  {
   "cell_type": "code",
   "execution_count": 70,
   "id": "aaed3806-6d4a-42b0-95b3-7a9fdb0e2740",
   "metadata": {},
   "outputs": [
    {
     "data": {
      "image/png": "[encoded data removed]",
      "text/plain": [
       "<Figure size 720x720 with 1 Axes>"
      ]
     },
     "metadata": {
      "needs_background": "light"
     },
     "output_type": "display_data"
    }
   ],
   "source": [
    "# Template to mod for orig enc / dec plot; x and y inserted by mapping function\n",
    "dot_size = 25\n",
    "\n",
    "fig = plt.figure(figsize = (10, 10))\n",
    "\n",
    "plt.scatter(embdDF[embdDF.Labels == 'BRCA_1'].x, embdDF[embdDF.Labels == 'BRCA_1'].y,\n",
    "            s=dot_size, color=plt.cm.Paired(0), marker='o', label = 'BRCA_1')\n",
    "\n",
    "plt.scatter(embdDF[embdDF.Labels == 'BRCA_1_decoded'].x, embdDF[embdDF.Labels == 'BRCA_1_decoded'].y,\n",
    "            s=dot_size, color=plt.cm.Paired(1), marker='o', label = 'BRCA_1 decoded')\n",
    "\n",
    "plt.scatter(embdDF[embdDF.Labels == 'BRCA_2'].x, embdDF[embdDF.Labels == 'BRCA_2'].y,\n",
    "            s=dot_size, color=plt.cm.Paired(2), marker='o', label = 'BRCA_2')\n",
    "\n",
    "plt.scatter(embdDF[embdDF.Labels == 'BRCA_2_decoded'].x, embdDF[embdDF.Labels == 'BRCA_2_decoded'].y,\n",
    "            s=dot_size, color=plt.cm.Paired(3), marker='o', label = 'BRCA_2 decoded')\n",
    "\n",
    "plt.scatter(embdDF[embdDF.Labels == 'BRCA_3'].x, embdDF[embdDF.Labels == 'BRCA_3'].y,\n",
    "            s=dot_size, color=plt.cm.Paired(4), marker='o', label = 'BRCA_3')\n",
    "\n",
    "plt.scatter(embdDF[embdDF.Labels == 'BRCA_3_decoded'].x, embdDF[embdDF.Labels == 'BRCA_3_decoded'].y,\n",
    "            s=dot_size, color=plt.cm.Paired(5), marker='o', label = 'BRCA_3 decoded')\n",
    "\n",
    "plt.scatter(embdDF[embdDF.Labels == 'BRCA_4'].x, embdDF[embdDF.Labels == 'BRCA_4'].y,\n",
    "            s=dot_size, color=plt.cm.Paired(6), marker='o', label = 'BRCA_4')\n",
    "\n",
    "plt.scatter(embdDF[embdDF.Labels == 'BRCA_4_decoded'].x, embdDF[embdDF.Labels == 'BRCA_4_decoded'].y,\n",
    "            s=dot_size, color=plt.cm.Paired(7), marker='o', label = 'BRCA_4 decoded')\n",
    "\n",
    "plt.title('BRCA UMAP, original n = 995\\nand enc / dec train set'+\n",
    "    ' n = 746\\n'+\n",
    "    'uint8 gene expression features n = 20,531')\n",
    "          \n",
    "plt.legend(loc = 'upper right')\n",
    "plt.savefig('nb_D_UMAP_out/'+\n",
    "            'BRCA_org_&_dec_enc_'+version+'_'+date+'.png')"
   ]
  },
  {
   "cell_type": "code",
   "execution_count": null,
   "id": "80022992-a06a-484f-8eac-86b85a5bd38a",
   "metadata": {},
   "outputs": [],
   "source": [
    "# End image_gen notebook"
   ]
  },
  {
   "cell_type": "code",
   "execution_count": 32,
   "id": "520e203d-731c-4bdc-804b-e5ebcac520ff",
   "metadata": {},
   "outputs": [
    {
     "data": {
      "text/html": [
       "<div>\n",
       "<style scoped>\n",
       "    .dataframe tbody tr th:only-of-type {\n",
       "        vertical-align: middle;\n",
       "    }\n",
       "\n",
       "    .dataframe tbody tr th {\n",
       "        vertical-align: top;\n",
       "    }\n",
       "\n",
       "    .dataframe thead th {\n",
       "        text-align: right;\n",
       "    }\n",
       "</style>\n",
       "<table border=\"1\" class=\"dataframe\">\n",
       "  <thead>\n",
       "    <tr style=\"text-align: right;\">\n",
       "      <th></th>\n",
       "      <th>Labels</th>\n",
       "      <th>N:GEXP::?:100130426:</th>\n",
       "      <th>N:GEXP::?:100133144:</th>\n",
       "      <th>N:GEXP::?:100134869:</th>\n",
       "      <th>N:GEXP::?:10357:</th>\n",
       "      <th>N:GEXP::?:10431:</th>\n",
       "      <th>N:GEXP::?:136542:</th>\n",
       "      <th>N:GEXP::?:155060:</th>\n",
       "      <th>N:GEXP::?:26823:</th>\n",
       "      <th>N:GEXP::?:280660:</th>\n",
       "      <th>...</th>\n",
       "      <th>20521</th>\n",
       "      <th>20522</th>\n",
       "      <th>20523</th>\n",
       "      <th>20524</th>\n",
       "      <th>20525</th>\n",
       "      <th>20526</th>\n",
       "      <th>20527</th>\n",
       "      <th>20528</th>\n",
       "      <th>20529</th>\n",
       "      <th>20530</th>\n",
       "    </tr>\n",
       "  </thead>\n",
       "  <tbody>\n",
       "    <tr>\n",
       "      <th>TCGA-3C-AAAU</th>\n",
       "      <td>BRCA_1</td>\n",
       "      <td>0.0</td>\n",
       "      <td>16.0</td>\n",
       "      <td>12.0</td>\n",
       "      <td>52.0</td>\n",
       "      <td>152.0</td>\n",
       "      <td>0.0</td>\n",
       "      <td>163.0</td>\n",
       "      <td>0.0</td>\n",
       "      <td>0.0</td>\n",
       "      <td>...</td>\n",
       "      <td>NaN</td>\n",
       "      <td>NaN</td>\n",
       "      <td>NaN</td>\n",
       "      <td>NaN</td>\n",
       "      <td>NaN</td>\n",
       "      <td>NaN</td>\n",
       "      <td>NaN</td>\n",
       "      <td>NaN</td>\n",
       "      <td>NaN</td>\n",
       "      <td>NaN</td>\n",
       "    </tr>\n",
       "    <tr>\n",
       "      <th>TCGA-3C-AALI</th>\n",
       "      <td>BRCA_4</td>\n",
       "      <td>0.0</td>\n",
       "      <td>9.0</td>\n",
       "      <td>17.0</td>\n",
       "      <td>69.0</td>\n",
       "      <td>51.0</td>\n",
       "      <td>0.0</td>\n",
       "      <td>4.0</td>\n",
       "      <td>1.0</td>\n",
       "      <td>0.0</td>\n",
       "      <td>...</td>\n",
       "      <td>NaN</td>\n",
       "      <td>NaN</td>\n",
       "      <td>NaN</td>\n",
       "      <td>NaN</td>\n",
       "      <td>NaN</td>\n",
       "      <td>NaN</td>\n",
       "      <td>NaN</td>\n",
       "      <td>NaN</td>\n",
       "      <td>NaN</td>\n",
       "      <td>NaN</td>\n",
       "    </tr>\n",
       "  </tbody>\n",
       "</table>\n",
       "<p>2 rows × 41063 columns</p>\n",
       "</div>"
      ],
      "text/plain": [
       "              Labels  N:GEXP::?:100130426:  N:GEXP::?:100133144:  \\\n",
       "TCGA-3C-AAAU  BRCA_1                   0.0                  16.0   \n",
       "TCGA-3C-AALI  BRCA_4                   0.0                   9.0   \n",
       "\n",
       "              N:GEXP::?:100134869:  N:GEXP::?:10357:  N:GEXP::?:10431:  \\\n",
       "TCGA-3C-AAAU                  12.0              52.0             152.0   \n",
       "TCGA-3C-AALI                  17.0              69.0              51.0   \n",
       "\n",
       "              N:GEXP::?:136542:  N:GEXP::?:155060:  N:GEXP::?:26823:  \\\n",
       "TCGA-3C-AAAU                0.0              163.0               0.0   \n",
       "TCGA-3C-AALI                0.0                4.0               1.0   \n",
       "\n",
       "              N:GEXP::?:280660:  ...  20521  20522  20523  20524  20525  \\\n",
       "TCGA-3C-AAAU                0.0  ...    NaN    NaN    NaN    NaN    NaN   \n",
       "TCGA-3C-AALI                0.0  ...    NaN    NaN    NaN    NaN    NaN   \n",
       "\n",
       "              20526  20527  20528  20529  20530  \n",
       "TCGA-3C-AAAU    NaN    NaN    NaN    NaN    NaN  \n",
       "TCGA-3C-AALI    NaN    NaN    NaN    NaN    NaN  \n",
       "\n",
       "[2 rows x 41063 columns]"
      ]
     },
     "execution_count": 32,
     "metadata": {},
     "output_type": "execute_result"
    }
   ],
   "source": [
    "to_umap.head(2)"
   ]
  },
  {
   "cell_type": "markdown",
   "id": "d08f478f-ddfa-474f-9cde-35f725d33081",
   "metadata": {
    "jp-MarkdownHeadingCollapsed": true,
    "tags": []
   },
   "source": [
    "### version 00 notes:\n",
    "\n",
    "This has the triangle markers"
   ]
  },
  {
   "cell_type": "code",
   "execution_count": 2,
   "id": "eb8c1c44-7498-40f2-a3e1-03ffa0d5bfee",
   "metadata": {},
   "outputs": [
    {
     "name": "stderr",
     "output_type": "stream",
     "text": [
      "/Users/karlberb/opt/anaconda3/lib/python3.9/site-packages/IPython/core/interactiveshell.py:3444: DtypeWarning: Columns (0) have mixed types.Specify dtype option on import or set low_memory=False.\n",
      "  exec(code_obj, self.user_global_ns, self.user_ns)\n"
     ]
    }
   ],
   "source": [
    "# output of the pairwise synth vs the real, reference note from version 00\n",
    "stack_1990 = pd.read_csv('synth_VAE_UMAP_00/full_stack_synth_VAE_UMAP_00__2022_08_31.tsv',\n",
    "                           sep = '\\t',\n",
    "                           index_col = 0)"
   ]
  },
  {
   "cell_type": "code",
   "execution_count": null,
   "id": "ceab1219-54e5-4e38-a7a6-a7848046a6fe",
   "metadata": {},
   "outputs": [],
   "source": [
    "# figure 2b(?)"
   ]
  },
  {
   "cell_type": "code",
   "execution_count": null,
   "id": "31037027-7a20-4024-b1ee-4bc29258e370",
   "metadata": {},
   "outputs": [],
   "source": [
    "# run calc, from 2B in\n",
    "# the function wants labels"
   ]
  },
  {
   "cell_type": "code",
   "execution_count": 5,
   "id": "cf4e9496-2958-4592-b13c-07faf869df16",
   "metadata": {},
   "outputs": [
    {
     "name": "stderr",
     "output_type": "stream",
     "text": [
      "OMP: Info #271: omp_set_nested routine deprecated, please use omp_set_max_active_levels instead.\n"
     ]
    }
   ],
   "source": [
    "n_comps = 2\n",
    "reducer = umap.UMAP(n_components = n_comps)\n",
    "scaled_data = StandardScaler().fit_transform(stack_1990.iloc[:,1:]) # colmn index here\n",
    "embd = reducer.fit_transform(scaled_data)\n",
    "embdDF = pd.DataFrame(embd)\n",
    "embdDF.columns = ['x', 'y']\n",
    "embdDF.insert(0, 'Labels', list(stack_1990.Labels))"
   ]
  },
  {
   "cell_type": "code",
   "execution_count": null,
   "id": "ef772eaa-303b-494a-9ef0-acce1fe6861c",
   "metadata": {},
   "outputs": [],
   "source": [
    "# There will only be a Fig 3a now because an embedding has not been done for the PAM50 yet\n",
    "# but where would this go?\n",
    "    # bnb_b_modl_out"
   ]
  },
  {
   "cell_type": "code",
   "execution_count": 6,
   "id": "efc58865-4bbf-4fb8-bca6-e6b945e26c89",
   "metadata": {},
   "outputs": [],
   "source": [
    "mkdir bnb_b_modl_out # for PAM50 run into embedding"
   ]
  },
  {
   "cell_type": "code",
   "execution_count": 25,
   "id": "d10594d9-e30c-4af9-a499-8c245538cf98",
   "metadata": {},
   "outputs": [],
   "source": [
    "version = 'run2'"
   ]
  },
  {
   "cell_type": "code",
   "execution_count": null,
   "id": "41ed9b44-e288-4388-a749-448ad7aa9754",
   "metadata": {},
   "outputs": [],
   "source": [
    "# Fig 3a, train and hold out plus synthetic predictions, full gexp - \n",
    "dot_size = 25\n",
    "\n",
    "fig = plt.figure(figsize = (10, 10))\n",
    "\n",
    "plt.scatter(embdDF[embdDF.Labels == 'BRCA_1'].x, embdDF[embdDF.Labels == 'BRCA_1'].y,\n",
    "            s=dot_size, color=plt.cm.Paired(0), marker='o', label = 'BRCA_1')\n",
    "\n",
    "plt.scatter(embdDF[embdDF.Labels == 'BRCA_1h'].x, embdDF[embdDF.Labels == 'BRCA_1h'].y,\n",
    "            s=dot_size, color=plt.cm.Paired(1), marker='o', label = 'BRCA_1 hold out')\n",
    "\n",
    "plt.scatter(embdDF[embdDF.Labels == 'BRCA_2'].x, embdDF[embdDF.Labels == 'BRCA_2'].y,\n",
    "            s=dot_size, color=plt.cm.Paired(2), marker='o', label = 'BRCA_2')\n",
    "\n",
    "plt.scatter(embdDF[embdDF.Labels == 'BRCA_2h'].x, embdDF[embdDF.Labels == 'BRCA_2h'].y,\n",
    "            s=dot_size, color=plt.cm.Paired(3), marker='o', label = 'BRCA_2 hold out')\n",
    "\n",
    "plt.scatter(embdDF[embdDF.Labels == 'BRCA_3'].x, embdDF[embdDF.Labels == 'BRCA_3'].y,\n",
    "            s=dot_size, color=plt.cm.Paired(4), marker='o', label = 'BRCA_3')\n",
    "\n",
    "plt.scatter(embdDF[embdDF.Labels == 'BRCA_3h'].x, embdDF[embdDF.Labels == 'BRCA_3h'].y,\n",
    "            s=dot_size, color=plt.cm.Paired(5), marker='o', label = 'BRCA_3 hold out')\n",
    "\n",
    "plt.scatter(embdDF[embdDF.Labels == 'BRCA_4'].x, embdDF[embdDF.Labels == 'BRCA_4'].y,\n",
    "            s=dot_size, color=plt.cm.Paired(6), marker='o', label = 'BRCA_4')\n",
    "\n",
    "plt.scatter(embdDF[embdDF.Labels == 'BRCA_4h'].x, embdDF[embdDF.Labels == 'BRCA_4h'].y,\n",
    "            s=dot_size, color=plt.cm.Paired(7), marker='o', label = 'BRCA_4 hold out')\n",
    "\n",
    "# ----------------- Sythetic zone\n",
    "\n",
    "plt.scatter(embdDF[embdDF.Labels == 'BRCA_1_synth'].x, embdDF[embdDF.Labels == 'BRCA_1_synth'].y,\n",
    "            s=dot_size, color=plt.cm.Paired(0), marker='^', label = 'BRCA_1 synthetic')\n",
    "\n",
    "plt.scatter(embdDF[embdDF.Labels == 'BRCA_2_synth'].x, embdDF[embdDF.Labels == 'BRCA_2_synth'].y,\n",
    "            s=dot_size, color=plt.cm.Paired(2), marker='^', label = 'BRCA_2 synthetic')\n",
    "\n",
    "plt.scatter(embdDF[embdDF.Labels == 'BRCA_3_synth'].x, embdDF[embdDF.Labels == 'BRCA_3_synth'].y,\n",
    "            s=dot_size, color=plt.cm.Paired(4), marker='^', label = 'BRCA_3 synthetic')\n",
    "\n",
    "plt.scatter(embdDF[embdDF.Labels == 'BRCA_4_synth'].x, embdDF[embdDF.Labels == 'BRCA_4_synth'].y,\n",
    "            s=dot_size, color=plt.cm.Paired(6), marker='^', label = 'BRCA_4 synthetic')\n",
    "\n",
    "plt.title('BRCA UMAP, training n = 495 and holdout n = 500\\n'+\n",
    "    'synthetic n = 995\\n'+\n",
    "    'uint8 gene expression features n = 20,531')\n",
    "          \n",
    "plt.legend(loc = 'upper left')\n",
    "plt.savefig('nb_d_UMAP_out/'+\n",
    "            'BRCA_trn_hld_syth_uint8_full_gexp_Fig3a_'+version+'_'+date+'.png')"
   ]
  }
 ],
 "metadata": {
  "kernelspec": {
   "display_name": "Python 3 (ipykernel)",
   "language": "python",
   "name": "python3"
  },
  "language_info": {
   "codemirror_mode": {
    "name": "ipython",
    "version": 3
   },
   "file_extension": ".py",
   "mimetype": "text/x-python",
   "name": "python",
   "nbconvert_exporter": "python",
   "pygments_lexer": "ipython3",
   "version": "3.9.7"
  }
 },
 "nbformat": 4,
 "nbformat_minor": 5
}
