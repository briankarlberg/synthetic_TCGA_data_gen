{
 "cells": [
  {
   "cell_type": "markdown",
   "id": "c0b14d4b-97e9-449f-a020-d3de02a8b9e0",
   "metadata": {},
   "source": [
    "# b_model"
   ]
  },
  {
   "cell_type": "code",
   "execution_count": 1,
   "id": "186fd5da-6651-453a-84b2-a9e4e65ae403",
   "metadata": {},
   "outputs": [],
   "source": [
    "# From rep_0.7_luadlusc.ipynb"
   ]
  },
  {
   "cell_type": "code",
   "execution_count": 2,
   "id": "10efabd3-e490-4960-9c68-721921a5a972",
   "metadata": {},
   "outputs": [
    {
     "data": {
      "text/plain": [
       "'/Users/karlberb/Documents/work/sample_count/synthetic_TCGA_data_gen/g_learning_curves'"
      ]
     },
     "execution_count": 2,
     "metadata": {},
     "output_type": "execute_result"
    }
   ],
   "source": [
    "pwd"
   ]
  },
  {
   "cell_type": "code",
   "execution_count": 3,
   "id": "0cb39294-f741-4890-9d40-8b4cd7d38c41",
   "metadata": {},
   "outputs": [
    {
     "name": "stdout",
     "output_type": "stream",
     "text": [
      "DAG_smpl_effct_repo.drawio           learning_curve_schematic.drawio.png\n",
      "DAG_smpl_effct_repo.jpg              learning_curve_schematic_v2.drawio\n",
      "Few_shot.drawio                      learning_curve_schematic_v2.jpg\n",
      "Few_shot.drawio.png                  luadlusc.drawio\n",
      "PDF.ipynb                            luadlusc.drawio.png\n",
      "Zero_shot.drawio                     luadlusc.png\n",
      "Zero_shot.drawio.png                 rep_0.0.ipynb\n",
      "augmented_policy_cloning.jpg         rep_0.1.ipynb\n",
      "augmented_policy_cloning.svg         rep_0.2.ipynb\n",
      "b_model.ipynb                        rep_0.3.ipynb\n",
      "box_and_whiskers.ipynb               rep_0.4.ipynb\n",
      "box_and_whiskers_BRCA.ipynb          rep_0.5.ipynb\n",
      "box_and_whiskers_LGGGBM.ipynb        rep_0.6.ipynb\n",
      "box_curve.ipynb                      rep_0.7.ipynb\n",
      "box_curve_itr1.ipynb                 rep_0.7_hnsc.ipynb\n",
      "bx_crv_itr2.ipynb                    rep_0.7_luadlusc.ipynb\n",
      "bx_crv_itr3.ipynb                    rep_0.7_luadlusc.v2.ipynb\n",
      "bx_crv_itr4.ipynb                    shuffle.ipynb\n",
      "c_latent_sampling.ipynb              six_0.0.ipynb\n",
      "data_aug_deepmind.jpg                val_0.ipynb\n",
      "data_aug_deepmind.svg                val_1.1.ipynb\n",
      "figure_five.ipynb                    val_1.2.ipynb\n",
      "figure_five_v2.ipynb                 val_1.drawio\n",
      "four_way.drawio                      val_1.drawio.png\n",
      "four_way.drawio.png                  val_1.ipynb\n",
      "hnsc.drawio                          val_2.drawio\n",
      "hnsc.drawio.png                      val_2.drawio.png\n",
      "hnsc.png                             val_3.drawio\n",
      "\u001b[34mi_o\u001b[m\u001b[m/                                 val_3.drawio.png\n",
      "lat_0.0.ipynb                        val_five.drawio\n",
      "lat_0.drawio                         val_five.drawio.png\n",
      "lat_0.drawio.png                     val_five.png\n",
      "learning_curve_schematic.drawio\n"
     ]
    }
   ],
   "source": [
    "ls"
   ]
  },
  {
   "cell_type": "code",
   "execution_count": null,
   "id": "31c15b31-92a4-47c3-a619-6b1116c0ac8a",
   "metadata": {},
   "outputs": [],
   "source": []
  },
  {
   "cell_type": "code",
   "execution_count": null,
   "id": "60293785-0125-4683-ba46-041ff23d0a3d",
   "metadata": {},
   "outputs": [],
   "source": []
  },
  {
   "cell_type": "code",
   "execution_count": null,
   "id": "2670001b-6d52-4e83-91c5-929b14a6decc",
   "metadata": {},
   "outputs": [],
   "source": []
  },
  {
   "cell_type": "code",
   "execution_count": null,
   "id": "f8d43fc8-5019-4d0b-9339-7bbeb81d0c2a",
   "metadata": {},
   "outputs": [],
   "source": []
  },
  {
   "cell_type": "code",
   "execution_count": null,
   "id": "b9a347be-7205-4427-9dad-b757220361ff",
   "metadata": {},
   "outputs": [],
   "source": []
  },
  {
   "cell_type": "code",
   "execution_count": null,
   "id": "cffb4642-73f1-4514-9b49-ab9ff4d1cba8",
   "metadata": {},
   "outputs": [],
   "source": []
  },
  {
   "cell_type": "code",
   "execution_count": null,
   "id": "c1da26d6-b2d7-449d-9b0a-23a632e29fff",
   "metadata": {},
   "outputs": [],
   "source": []
  },
  {
   "cell_type": "code",
   "execution_count": null,
   "id": "cd518eb6-f0a8-45bc-87ad-480031bf4adc",
   "metadata": {},
   "outputs": [],
   "source": []
  }
 ],
 "metadata": {
  "kernelspec": {
   "display_name": "Python 3 (ipykernel)",
   "language": "python",
   "name": "python3"
  },
  "language_info": {
   "codemirror_mode": {
    "name": "ipython",
    "version": 3
   },
   "file_extension": ".py",
   "mimetype": "text/x-python",
   "name": "python",
   "nbconvert_exporter": "python",
   "pygments_lexer": "ipython3",
   "version": "3.9.13"
  }
 },
 "nbformat": 4,
 "nbformat_minor": 5
}
