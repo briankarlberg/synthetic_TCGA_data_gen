{
 "cells": [
  {
   "cell_type": "markdown",
   "id": "351da3a5-dafe-41e2-b7ad-3fc0aaec45eb",
   "metadata": {
    "tags": []
   },
   "source": [
    "# Box curve, iteration 1"
   ]
  },
  {
   "cell_type": "markdown",
   "id": "9ab75025-e415-4854-93e6-080dabe37411",
   "metadata": {
    "jp-MarkdownHeadingCollapsed": true,
    "tags": []
   },
   "source": [
    "## Setup, notes, imports"
   ]
  },
  {
   "cell_type": "raw",
   "id": "340bfebb-d986-4a6b-9bf7-67369f0c5dab",
   "metadata": {},
   "source": [
    "2022-12-12 Monday\n",
    "Fix the markdown collapsing header levels\n",
    "    One through five pound keys:\n",
    "        Setup, notes, imports\n",
    "\n",
    "Quality of embedding - phase one\n",
    "    Transfer learn on the whole TCGA,low sample-size fine tuning\n",
    "    Explore hold-in vs. hold-out threshold\n",
    "    \n",
    "Digital cousin - phase two\n",
    "    Switch to the input gene expression mutation method for synthetic sample generation\n",
    "        (pre-encoder synthetic sample generator)\n",
    "    \n",
    "Use the hold-out set as proxy for generalization"
   ]
  },
  {
   "cell_type": "code",
   "execution_count": null,
   "id": "a20892d3-5b2b-4991-ada8-89c273bfbc8f",
   "metadata": {},
   "outputs": [],
   "source": [
    "# 2022-12-09 iteration:\n",
    "# Put boxes to learning curving\n",
    "# Put big font loss plot code to pretrain block\n",
    "\n",
    "# goal for 2022-12-08 iteration:\n",
    "# Change the preceding underscore to a dot for the 'fit_on' cohort - done\n",
    "    # This will be done with ACC"
   ]
  },
  {
   "cell_type": "code",
   "execution_count": null,
   "id": "0385fc3b-a783-47e5-8d19-e641a8a3c003",
   "metadata": {},
   "outputs": [],
   "source": [
    " # run inpt_frame to concat with F1 object off the big font file set"
   ]
  },
  {
   "cell_type": "code",
   "execution_count": 3,
   "id": "56b3d26b-b336-4050-be6d-ebb8509c7aaf",
   "metadata": {},
   "outputs": [
    {
     "name": "stdout",
     "output_type": "stream",
     "text": [
      "Interactive namespace is empty.\n"
     ]
    }
   ],
   "source": [
    "%whos"
   ]
  },
  {
   "cell_type": "code",
   "execution_count": 2,
   "id": "1b6c9f9b-9848-4521-acde-7c5efeff232e",
   "metadata": {
    "tags": []
   },
   "outputs": [
    {
     "name": "stdout",
     "output_type": "stream",
     "text": [
      "No variables match your requested type.\n"
     ]
    }
   ],
   "source": [
    "%whos DataFrame"
   ]
  },
  {
   "cell_type": "code",
   "execution_count": null,
   "id": "9ca8910a-a742-4e43-abeb-4d60cb1065c5",
   "metadata": {},
   "outputs": [],
   "source": [
    "# Tickler\n",
    "    # UMAP\n",
    "    # Scatter plots, gene / sample\n",
    "    # RMSE\n",
    "    # MSigDB"
   ]
  },
  {
   "cell_type": "markdown",
   "id": "768c1a1a-db85-430e-9d9a-568d166d3b9d",
   "metadata": {
    "jp-MarkdownHeadingCollapsed": true,
    "tags": []
   },
   "source": [
    "## Imports"
   ]
  },
  {
   "cell_type": "code",
   "execution_count": null,
   "id": "639da1d6-4d27-48da-bede-dccbb4b82d62",
   "metadata": {},
   "outputs": [],
   "source": [
    "# Working out of Synthetic sample generation manuscript doc\n",
    "# And corresponding figure draft google slides, companion doc, and PaperPile"
   ]
  },
  {
   "cell_type": "code",
   "execution_count": 4,
   "id": "ae58a327-19eb-4ac8-b2e2-e6c1d7309043",
   "metadata": {},
   "outputs": [],
   "source": [
    "import seaborn as sns\n",
    "import pandas as pd\n",
    "import glob as glob\n",
    "from sklearn.model_selection import train_test_split\n",
    "from sklearn.ensemble import RandomForestClassifier\n",
    "# from sklearn.tree import DecisionTreeClassifier\n",
    "# from sklearn.ensemble import ExtraTreesClassifier\n",
    "# from sklearn.linear_model import LogisticRegression\n",
    "from sklearn.metrics import f1_score\n",
    "from statistics import mean\n",
    "from statistics import stdev\n",
    "import matplotlib.pyplot as plt\n",
    "from matplotlib.pyplot import figure\n",
    "import time\n",
    "import numpy as np\n",
    "import tensorflow as tf\n",
    "from tensorflow import keras\n",
    "from tensorflow.keras import layers\n",
    "from tensorflow.keras.models import Model\n",
    "from tensorflow.keras import backend as K\n",
    "from tensorflow.keras.layers import BatchNormalization, Activation, Layer\n",
    "from tensorflow.keras import metrics, optimizers\n",
    "from tensorflow.keras.losses import binary_crossentropy\n",
    "from tensorflow.keras.callbacks import Callback\n",
    "import tensorflow.compat.v1.keras.backend as K\n",
    "import tensorflow as tf\n",
    "tf.compat.v1.disable_eager_execution()\n",
    "from matplotlib import rcParams # This is new; jam the labels up on the box star plot\n",
    "# UMAP is missing (?)"
   ]
  },
  {
   "cell_type": "markdown",
   "id": "511f5094-0c05-49bb-b2d8-dd9b8e04f5ef",
   "metadata": {
    "tags": []
   },
   "source": [
    "## Data"
   ]
  },
  {
   "cell_type": "markdown",
   "id": "0e3da966-b5ff-4763-a4ec-c4f1c9cd2042",
   "metadata": {
    "jp-MarkdownHeadingCollapsed": true,
    "tags": []
   },
   "source": [
    "### Big Results Matrix"
   ]
  },
  {
   "cell_type": "code",
   "execution_count": null,
   "id": "e5249fb2-dffc-4344-9a73-147dae46f4a1",
   "metadata": {},
   "outputs": [],
   "source": [
    "brm = pd.read_csv('/Users/karlberb/Documents/work/GDAN_TMP/big_results_matrix.tsv',\n",
    "                  sep = '\\t',\n",
    "                  index_col = 0)\n",
    "print(len(brm))\n",
    "owf1 = brm[brm.performance_metric == 'overall_weighted_f1']\n",
    "del(brm)"
   ]
  },
  {
   "cell_type": "code",
   "execution_count": null,
   "id": "55109001-b660-476a-9761-55f05af80ffe",
   "metadata": {},
   "outputs": [],
   "source": [
    "412,585 # count of sk learn models?"
   ]
  },
  {
   "cell_type": "code",
   "execution_count": null,
   "id": "65f368e1-e02f-442c-868a-4f5c2eae4521",
   "metadata": {},
   "outputs": [],
   "source": [
    "c = 'ACC'"
   ]
  },
  {
   "cell_type": "code",
   "execution_count": 5,
   "id": "605f9ca1-dbe2-41d2-a5cb-c1bacebb9fd3",
   "metadata": {},
   "outputs": [],
   "source": [
    "c = 'BRCA'"
   ]
  },
  {
   "cell_type": "code",
   "execution_count": 158,
   "id": "208da860-40ab-4108-8e6e-c90330034b2b",
   "metadata": {},
   "outputs": [
    {
     "data": {
      "text/plain": [
       "'BRCA'"
      ]
     },
     "execution_count": 158,
     "metadata": {},
     "output_type": "execute_result"
    }
   ],
   "source": [
    "c"
   ]
  },
  {
   "cell_type": "code",
   "execution_count": 352,
   "id": "8c05f8f7-a546-4e65-ae64-7f520ffb8137",
   "metadata": {},
   "outputs": [],
   "source": [
    "c_owf1 = owf1[owf1.cohort == c]"
   ]
  },
  {
   "cell_type": "code",
   "execution_count": 353,
   "id": "2c8be22e-7406-4a5d-bf14-4d0542177403",
   "metadata": {},
   "outputs": [],
   "source": [
    "c_owf1_sk = c_owf1[c_owf1.model.str.contains('skgrid')]"
   ]
  },
  {
   "cell_type": "code",
   "execution_count": 354,
   "id": "a24c5af0-57a7-4819-b300-dfef3fe667e8",
   "metadata": {},
   "outputs": [
    {
     "data": {
      "text/html": [
       "<div>\n",
       "<style scoped>\n",
       "    .dataframe tbody tr th:only-of-type {\n",
       "        vertical-align: middle;\n",
       "    }\n",
       "\n",
       "    .dataframe tbody tr th {\n",
       "        vertical-align: top;\n",
       "    }\n",
       "\n",
       "    .dataframe thead th {\n",
       "        text-align: right;\n",
       "    }\n",
       "</style>\n",
       "<table border=\"1\" class=\"dataframe\">\n",
       "  <thead>\n",
       "    <tr style=\"text-align: right;\">\n",
       "      <th></th>\n",
       "      <th>cohort</th>\n",
       "      <th>model</th>\n",
       "      <th>performance_metric</th>\n",
       "      <th>Mean</th>\n",
       "      <th>Median</th>\n",
       "      <th>Std</th>\n",
       "      <th>StdMed</th>\n",
       "      <th>SEM</th>\n",
       "      <th>Count</th>\n",
       "      <th>Max</th>\n",
       "      <th>...</th>\n",
       "      <th>subtypes_defined_by_Histology</th>\n",
       "      <th>subtypes_defined_by_iCluster</th>\n",
       "      <th>subtypes_defined_by_COCA</th>\n",
       "      <th>subtypes_defined_by_Other</th>\n",
       "      <th>total_features</th>\n",
       "      <th>GEXP_features</th>\n",
       "      <th>CNVR_features</th>\n",
       "      <th>METH_features</th>\n",
       "      <th>MIR_features</th>\n",
       "      <th>MUTA_features</th>\n",
       "    </tr>\n",
       "    <tr>\n",
       "      <th>featureID</th>\n",
       "      <th></th>\n",
       "      <th></th>\n",
       "      <th></th>\n",
       "      <th></th>\n",
       "      <th></th>\n",
       "      <th></th>\n",
       "      <th></th>\n",
       "      <th></th>\n",
       "      <th></th>\n",
       "      <th></th>\n",
       "      <th></th>\n",
       "      <th></th>\n",
       "      <th></th>\n",
       "      <th></th>\n",
       "      <th></th>\n",
       "      <th></th>\n",
       "      <th></th>\n",
       "      <th></th>\n",
       "      <th></th>\n",
       "      <th></th>\n",
       "      <th></th>\n",
       "    </tr>\n",
       "  </thead>\n",
       "  <tbody>\n",
       "    <tr>\n",
       "      <th>skgrid_ACC_fbedeBIC_perplatformMUTA_ACC</th>\n",
       "      <td>ACC</td>\n",
       "      <td>skgrid_KNeighbors(algorithm=brute,leaf_size=45...</td>\n",
       "      <td>overall_weighted_f1</td>\n",
       "      <td>0.140</td>\n",
       "      <td>0.125</td>\n",
       "      <td>0.0640</td>\n",
       "      <td>0.0658</td>\n",
       "      <td>0.0143</td>\n",
       "      <td>20</td>\n",
       "      <td>0.383333</td>\n",
       "      <td>...</td>\n",
       "      <td>NaN</td>\n",
       "      <td>NaN</td>\n",
       "      <td>NaN</td>\n",
       "      <td>NaN</td>\n",
       "      <td>2</td>\n",
       "      <td>0</td>\n",
       "      <td>0</td>\n",
       "      <td>0</td>\n",
       "      <td>0</td>\n",
       "      <td>2</td>\n",
       "    </tr>\n",
       "    <tr>\n",
       "      <th>skgrid_ACC_fbedeBIC_perplatformMUTA_ACC</th>\n",
       "      <td>ACC</td>\n",
       "      <td>skgrid_KNeighbors(algorithm=kd_tree,leaf_size=...</td>\n",
       "      <td>overall_weighted_f1</td>\n",
       "      <td>0.140</td>\n",
       "      <td>0.125</td>\n",
       "      <td>0.0640</td>\n",
       "      <td>0.0658</td>\n",
       "      <td>0.0143</td>\n",
       "      <td>20</td>\n",
       "      <td>0.383333</td>\n",
       "      <td>...</td>\n",
       "      <td>NaN</td>\n",
       "      <td>NaN</td>\n",
       "      <td>NaN</td>\n",
       "      <td>NaN</td>\n",
       "      <td>2</td>\n",
       "      <td>0</td>\n",
       "      <td>0</td>\n",
       "      <td>0</td>\n",
       "      <td>0</td>\n",
       "      <td>2</td>\n",
       "    </tr>\n",
       "    <tr>\n",
       "      <th>skgrid_ACC_fbedeBIC_perplatformMUTA_ACC</th>\n",
       "      <td>ACC</td>\n",
       "      <td>skgrid_KNeighbors(algorithm=kd_tree,leaf_size=...</td>\n",
       "      <td>overall_weighted_f1</td>\n",
       "      <td>0.140</td>\n",
       "      <td>0.125</td>\n",
       "      <td>0.0640</td>\n",
       "      <td>0.0658</td>\n",
       "      <td>0.0143</td>\n",
       "      <td>20</td>\n",
       "      <td>0.383333</td>\n",
       "      <td>...</td>\n",
       "      <td>NaN</td>\n",
       "      <td>NaN</td>\n",
       "      <td>NaN</td>\n",
       "      <td>NaN</td>\n",
       "      <td>2</td>\n",
       "      <td>0</td>\n",
       "      <td>0</td>\n",
       "      <td>0</td>\n",
       "      <td>0</td>\n",
       "      <td>2</td>\n",
       "    </tr>\n",
       "    <tr>\n",
       "      <th>skgrid_ACC_fbedeBIC_perplatformMUTA_ACC</th>\n",
       "      <td>ACC</td>\n",
       "      <td>skgrid_KNeighbors(algorithm=kd_tree,leaf_size=...</td>\n",
       "      <td>overall_weighted_f1</td>\n",
       "      <td>0.140</td>\n",
       "      <td>0.125</td>\n",
       "      <td>0.0640</td>\n",
       "      <td>0.0658</td>\n",
       "      <td>0.0143</td>\n",
       "      <td>20</td>\n",
       "      <td>0.383333</td>\n",
       "      <td>...</td>\n",
       "      <td>NaN</td>\n",
       "      <td>NaN</td>\n",
       "      <td>NaN</td>\n",
       "      <td>NaN</td>\n",
       "      <td>2</td>\n",
       "      <td>0</td>\n",
       "      <td>0</td>\n",
       "      <td>0</td>\n",
       "      <td>0</td>\n",
       "      <td>2</td>\n",
       "    </tr>\n",
       "    <tr>\n",
       "      <th>skgrid_ACC_fbedeBIC_perplatformMUTA_ACC</th>\n",
       "      <td>ACC</td>\n",
       "      <td>skgrid_KNeighbors(algorithm=brute,leaf_size=45...</td>\n",
       "      <td>overall_weighted_f1</td>\n",
       "      <td>0.140</td>\n",
       "      <td>0.125</td>\n",
       "      <td>0.0640</td>\n",
       "      <td>0.0658</td>\n",
       "      <td>0.0143</td>\n",
       "      <td>20</td>\n",
       "      <td>0.383333</td>\n",
       "      <td>...</td>\n",
       "      <td>NaN</td>\n",
       "      <td>NaN</td>\n",
       "      <td>NaN</td>\n",
       "      <td>NaN</td>\n",
       "      <td>2</td>\n",
       "      <td>0</td>\n",
       "      <td>0</td>\n",
       "      <td>0</td>\n",
       "      <td>0</td>\n",
       "      <td>2</td>\n",
       "    </tr>\n",
       "    <tr>\n",
       "      <th>...</th>\n",
       "      <td>...</td>\n",
       "      <td>...</td>\n",
       "      <td>...</td>\n",
       "      <td>...</td>\n",
       "      <td>...</td>\n",
       "      <td>...</td>\n",
       "      <td>...</td>\n",
       "      <td>...</td>\n",
       "      <td>...</td>\n",
       "      <td>...</td>\n",
       "      <td>...</td>\n",
       "      <td>...</td>\n",
       "      <td>...</td>\n",
       "      <td>...</td>\n",
       "      <td>...</td>\n",
       "      <td>...</td>\n",
       "      <td>...</td>\n",
       "      <td>...</td>\n",
       "      <td>...</td>\n",
       "      <td>...</td>\n",
       "      <td>...</td>\n",
       "    </tr>\n",
       "    <tr>\n",
       "      <th>skgrid_ACC_fbedeBIC_perplatformGEXP_ACC</th>\n",
       "      <td>ACC</td>\n",
       "      <td>skgrid_LogisticRegression(C=0.01,max_iter=500,...</td>\n",
       "      <td>overall_weighted_f1</td>\n",
       "      <td>0.864</td>\n",
       "      <td>0.853</td>\n",
       "      <td>0.0680</td>\n",
       "      <td>0.0689</td>\n",
       "      <td>0.0152</td>\n",
       "      <td>20</td>\n",
       "      <td>1.000000</td>\n",
       "      <td>...</td>\n",
       "      <td>NaN</td>\n",
       "      <td>NaN</td>\n",
       "      <td>NaN</td>\n",
       "      <td>NaN</td>\n",
       "      <td>5</td>\n",
       "      <td>5</td>\n",
       "      <td>0</td>\n",
       "      <td>0</td>\n",
       "      <td>0</td>\n",
       "      <td>0</td>\n",
       "    </tr>\n",
       "    <tr>\n",
       "      <th>skgrid_ACC_fbedeBIC_perplatformALL_ACC</th>\n",
       "      <td>ACC</td>\n",
       "      <td>skgrid_LogisticRegression(C=0.01,max_iter=500,...</td>\n",
       "      <td>overall_weighted_f1</td>\n",
       "      <td>0.864</td>\n",
       "      <td>0.863</td>\n",
       "      <td>0.0782</td>\n",
       "      <td>0.0782</td>\n",
       "      <td>0.0174</td>\n",
       "      <td>20</td>\n",
       "      <td>1.000000</td>\n",
       "      <td>...</td>\n",
       "      <td>NaN</td>\n",
       "      <td>NaN</td>\n",
       "      <td>NaN</td>\n",
       "      <td>NaN</td>\n",
       "      <td>28</td>\n",
       "      <td>5</td>\n",
       "      <td>9</td>\n",
       "      <td>8</td>\n",
       "      <td>4</td>\n",
       "      <td>2</td>\n",
       "    </tr>\n",
       "    <tr>\n",
       "      <th>skgrid_ACC_fbedeBIC_perplatformALL_ACC</th>\n",
       "      <td>ACC</td>\n",
       "      <td>skgrid_ExtraTrees(criterion=entropy,n_estimato...</td>\n",
       "      <td>overall_weighted_f1</td>\n",
       "      <td>0.864</td>\n",
       "      <td>0.864</td>\n",
       "      <td>0.0645</td>\n",
       "      <td>0.0645</td>\n",
       "      <td>0.0144</td>\n",
       "      <td>20</td>\n",
       "      <td>1.000000</td>\n",
       "      <td>...</td>\n",
       "      <td>NaN</td>\n",
       "      <td>NaN</td>\n",
       "      <td>NaN</td>\n",
       "      <td>NaN</td>\n",
       "      <td>28</td>\n",
       "      <td>5</td>\n",
       "      <td>9</td>\n",
       "      <td>8</td>\n",
       "      <td>4</td>\n",
       "      <td>2</td>\n",
       "    </tr>\n",
       "    <tr>\n",
       "      <th>skgrid_ACC_fbedeBIC_perplatformALL_ACC</th>\n",
       "      <td>ACC</td>\n",
       "      <td>skgrid_ExtraTrees(criterion=entropy,n_estimato...</td>\n",
       "      <td>overall_weighted_f1</td>\n",
       "      <td>0.869</td>\n",
       "      <td>0.862</td>\n",
       "      <td>0.0825</td>\n",
       "      <td>0.0827</td>\n",
       "      <td>0.0184</td>\n",
       "      <td>20</td>\n",
       "      <td>1.000000</td>\n",
       "      <td>...</td>\n",
       "      <td>NaN</td>\n",
       "      <td>NaN</td>\n",
       "      <td>NaN</td>\n",
       "      <td>NaN</td>\n",
       "      <td>28</td>\n",
       "      <td>5</td>\n",
       "      <td>9</td>\n",
       "      <td>8</td>\n",
       "      <td>4</td>\n",
       "      <td>2</td>\n",
       "    </tr>\n",
       "    <tr>\n",
       "      <th>skgrid_ACC_fbedeBIC_perplatformALL_ACC</th>\n",
       "      <td>ACC</td>\n",
       "      <td>skgrid_ExtraTrees(criterion=gini,n_estimators=...</td>\n",
       "      <td>overall_weighted_f1</td>\n",
       "      <td>0.879</td>\n",
       "      <td>0.899</td>\n",
       "      <td>0.0753</td>\n",
       "      <td>0.0779</td>\n",
       "      <td>0.0168</td>\n",
       "      <td>20</td>\n",
       "      <td>1.000000</td>\n",
       "      <td>...</td>\n",
       "      <td>NaN</td>\n",
       "      <td>NaN</td>\n",
       "      <td>NaN</td>\n",
       "      <td>NaN</td>\n",
       "      <td>28</td>\n",
       "      <td>5</td>\n",
       "      <td>9</td>\n",
       "      <td>8</td>\n",
       "      <td>4</td>\n",
       "      <td>2</td>\n",
       "    </tr>\n",
       "  </tbody>\n",
       "</table>\n",
       "<p>6209 rows × 35 columns</p>\n",
       "</div>"
      ],
      "text/plain": [
       "                                        cohort  \\\n",
       "featureID                                        \n",
       "skgrid_ACC_fbedeBIC_perplatformMUTA_ACC    ACC   \n",
       "skgrid_ACC_fbedeBIC_perplatformMUTA_ACC    ACC   \n",
       "skgrid_ACC_fbedeBIC_perplatformMUTA_ACC    ACC   \n",
       "skgrid_ACC_fbedeBIC_perplatformMUTA_ACC    ACC   \n",
       "skgrid_ACC_fbedeBIC_perplatformMUTA_ACC    ACC   \n",
       "...                                        ...   \n",
       "skgrid_ACC_fbedeBIC_perplatformGEXP_ACC    ACC   \n",
       "skgrid_ACC_fbedeBIC_perplatformALL_ACC     ACC   \n",
       "skgrid_ACC_fbedeBIC_perplatformALL_ACC     ACC   \n",
       "skgrid_ACC_fbedeBIC_perplatformALL_ACC     ACC   \n",
       "skgrid_ACC_fbedeBIC_perplatformALL_ACC     ACC   \n",
       "\n",
       "                                                                                     model  \\\n",
       "featureID                                                                                    \n",
       "skgrid_ACC_fbedeBIC_perplatformMUTA_ACC  skgrid_KNeighbors(algorithm=brute,leaf_size=45...   \n",
       "skgrid_ACC_fbedeBIC_perplatformMUTA_ACC  skgrid_KNeighbors(algorithm=kd_tree,leaf_size=...   \n",
       "skgrid_ACC_fbedeBIC_perplatformMUTA_ACC  skgrid_KNeighbors(algorithm=kd_tree,leaf_size=...   \n",
       "skgrid_ACC_fbedeBIC_perplatformMUTA_ACC  skgrid_KNeighbors(algorithm=kd_tree,leaf_size=...   \n",
       "skgrid_ACC_fbedeBIC_perplatformMUTA_ACC  skgrid_KNeighbors(algorithm=brute,leaf_size=45...   \n",
       "...                                                                                    ...   \n",
       "skgrid_ACC_fbedeBIC_perplatformGEXP_ACC  skgrid_LogisticRegression(C=0.01,max_iter=500,...   \n",
       "skgrid_ACC_fbedeBIC_perplatformALL_ACC   skgrid_LogisticRegression(C=0.01,max_iter=500,...   \n",
       "skgrid_ACC_fbedeBIC_perplatformALL_ACC   skgrid_ExtraTrees(criterion=entropy,n_estimato...   \n",
       "skgrid_ACC_fbedeBIC_perplatformALL_ACC   skgrid_ExtraTrees(criterion=entropy,n_estimato...   \n",
       "skgrid_ACC_fbedeBIC_perplatformALL_ACC   skgrid_ExtraTrees(criterion=gini,n_estimators=...   \n",
       "\n",
       "                                          performance_metric   Mean  Median  \\\n",
       "featureID                                                                     \n",
       "skgrid_ACC_fbedeBIC_perplatformMUTA_ACC  overall_weighted_f1  0.140   0.125   \n",
       "skgrid_ACC_fbedeBIC_perplatformMUTA_ACC  overall_weighted_f1  0.140   0.125   \n",
       "skgrid_ACC_fbedeBIC_perplatformMUTA_ACC  overall_weighted_f1  0.140   0.125   \n",
       "skgrid_ACC_fbedeBIC_perplatformMUTA_ACC  overall_weighted_f1  0.140   0.125   \n",
       "skgrid_ACC_fbedeBIC_perplatformMUTA_ACC  overall_weighted_f1  0.140   0.125   \n",
       "...                                                      ...    ...     ...   \n",
       "skgrid_ACC_fbedeBIC_perplatformGEXP_ACC  overall_weighted_f1  0.864   0.853   \n",
       "skgrid_ACC_fbedeBIC_perplatformALL_ACC   overall_weighted_f1  0.864   0.863   \n",
       "skgrid_ACC_fbedeBIC_perplatformALL_ACC   overall_weighted_f1  0.864   0.864   \n",
       "skgrid_ACC_fbedeBIC_perplatformALL_ACC   overall_weighted_f1  0.869   0.862   \n",
       "skgrid_ACC_fbedeBIC_perplatformALL_ACC   overall_weighted_f1  0.879   0.899   \n",
       "\n",
       "                                            Std  StdMed     SEM  Count  \\\n",
       "featureID                                                                \n",
       "skgrid_ACC_fbedeBIC_perplatformMUTA_ACC  0.0640  0.0658  0.0143     20   \n",
       "skgrid_ACC_fbedeBIC_perplatformMUTA_ACC  0.0640  0.0658  0.0143     20   \n",
       "skgrid_ACC_fbedeBIC_perplatformMUTA_ACC  0.0640  0.0658  0.0143     20   \n",
       "skgrid_ACC_fbedeBIC_perplatformMUTA_ACC  0.0640  0.0658  0.0143     20   \n",
       "skgrid_ACC_fbedeBIC_perplatformMUTA_ACC  0.0640  0.0658  0.0143     20   \n",
       "...                                         ...     ...     ...    ...   \n",
       "skgrid_ACC_fbedeBIC_perplatformGEXP_ACC  0.0680  0.0689  0.0152     20   \n",
       "skgrid_ACC_fbedeBIC_perplatformALL_ACC   0.0782  0.0782  0.0174     20   \n",
       "skgrid_ACC_fbedeBIC_perplatformALL_ACC   0.0645  0.0645  0.0144     20   \n",
       "skgrid_ACC_fbedeBIC_perplatformALL_ACC   0.0825  0.0827  0.0184     20   \n",
       "skgrid_ACC_fbedeBIC_perplatformALL_ACC   0.0753  0.0779  0.0168     20   \n",
       "\n",
       "                                              Max  ...  \\\n",
       "featureID                                          ...   \n",
       "skgrid_ACC_fbedeBIC_perplatformMUTA_ACC  0.383333  ...   \n",
       "skgrid_ACC_fbedeBIC_perplatformMUTA_ACC  0.383333  ...   \n",
       "skgrid_ACC_fbedeBIC_perplatformMUTA_ACC  0.383333  ...   \n",
       "skgrid_ACC_fbedeBIC_perplatformMUTA_ACC  0.383333  ...   \n",
       "skgrid_ACC_fbedeBIC_perplatformMUTA_ACC  0.383333  ...   \n",
       "...                                           ...  ...   \n",
       "skgrid_ACC_fbedeBIC_perplatformGEXP_ACC  1.000000  ...   \n",
       "skgrid_ACC_fbedeBIC_perplatformALL_ACC   1.000000  ...   \n",
       "skgrid_ACC_fbedeBIC_perplatformALL_ACC   1.000000  ...   \n",
       "skgrid_ACC_fbedeBIC_perplatformALL_ACC   1.000000  ...   \n",
       "skgrid_ACC_fbedeBIC_perplatformALL_ACC   1.000000  ...   \n",
       "\n",
       "                                         subtypes_defined_by_Histology  \\\n",
       "featureID                                                                \n",
       "skgrid_ACC_fbedeBIC_perplatformMUTA_ACC                            NaN   \n",
       "skgrid_ACC_fbedeBIC_perplatformMUTA_ACC                            NaN   \n",
       "skgrid_ACC_fbedeBIC_perplatformMUTA_ACC                            NaN   \n",
       "skgrid_ACC_fbedeBIC_perplatformMUTA_ACC                            NaN   \n",
       "skgrid_ACC_fbedeBIC_perplatformMUTA_ACC                            NaN   \n",
       "...                                                                ...   \n",
       "skgrid_ACC_fbedeBIC_perplatformGEXP_ACC                            NaN   \n",
       "skgrid_ACC_fbedeBIC_perplatformALL_ACC                             NaN   \n",
       "skgrid_ACC_fbedeBIC_perplatformALL_ACC                             NaN   \n",
       "skgrid_ACC_fbedeBIC_perplatformALL_ACC                             NaN   \n",
       "skgrid_ACC_fbedeBIC_perplatformALL_ACC                             NaN   \n",
       "\n",
       "                                         subtypes_defined_by_iCluster  \\\n",
       "featureID                                                               \n",
       "skgrid_ACC_fbedeBIC_perplatformMUTA_ACC                           NaN   \n",
       "skgrid_ACC_fbedeBIC_perplatformMUTA_ACC                           NaN   \n",
       "skgrid_ACC_fbedeBIC_perplatformMUTA_ACC                           NaN   \n",
       "skgrid_ACC_fbedeBIC_perplatformMUTA_ACC                           NaN   \n",
       "skgrid_ACC_fbedeBIC_perplatformMUTA_ACC                           NaN   \n",
       "...                                                               ...   \n",
       "skgrid_ACC_fbedeBIC_perplatformGEXP_ACC                           NaN   \n",
       "skgrid_ACC_fbedeBIC_perplatformALL_ACC                            NaN   \n",
       "skgrid_ACC_fbedeBIC_perplatformALL_ACC                            NaN   \n",
       "skgrid_ACC_fbedeBIC_perplatformALL_ACC                            NaN   \n",
       "skgrid_ACC_fbedeBIC_perplatformALL_ACC                            NaN   \n",
       "\n",
       "                                        subtypes_defined_by_COCA  \\\n",
       "featureID                                                          \n",
       "skgrid_ACC_fbedeBIC_perplatformMUTA_ACC                      NaN   \n",
       "skgrid_ACC_fbedeBIC_perplatformMUTA_ACC                      NaN   \n",
       "skgrid_ACC_fbedeBIC_perplatformMUTA_ACC                      NaN   \n",
       "skgrid_ACC_fbedeBIC_perplatformMUTA_ACC                      NaN   \n",
       "skgrid_ACC_fbedeBIC_perplatformMUTA_ACC                      NaN   \n",
       "...                                                          ...   \n",
       "skgrid_ACC_fbedeBIC_perplatformGEXP_ACC                      NaN   \n",
       "skgrid_ACC_fbedeBIC_perplatformALL_ACC                       NaN   \n",
       "skgrid_ACC_fbedeBIC_perplatformALL_ACC                       NaN   \n",
       "skgrid_ACC_fbedeBIC_perplatformALL_ACC                       NaN   \n",
       "skgrid_ACC_fbedeBIC_perplatformALL_ACC                       NaN   \n",
       "\n",
       "                                        subtypes_defined_by_Other  \\\n",
       "featureID                                                           \n",
       "skgrid_ACC_fbedeBIC_perplatformMUTA_ACC                       NaN   \n",
       "skgrid_ACC_fbedeBIC_perplatformMUTA_ACC                       NaN   \n",
       "skgrid_ACC_fbedeBIC_perplatformMUTA_ACC                       NaN   \n",
       "skgrid_ACC_fbedeBIC_perplatformMUTA_ACC                       NaN   \n",
       "skgrid_ACC_fbedeBIC_perplatformMUTA_ACC                       NaN   \n",
       "...                                                           ...   \n",
       "skgrid_ACC_fbedeBIC_perplatformGEXP_ACC                       NaN   \n",
       "skgrid_ACC_fbedeBIC_perplatformALL_ACC                        NaN   \n",
       "skgrid_ACC_fbedeBIC_perplatformALL_ACC                        NaN   \n",
       "skgrid_ACC_fbedeBIC_perplatformALL_ACC                        NaN   \n",
       "skgrid_ACC_fbedeBIC_perplatformALL_ACC                        NaN   \n",
       "\n",
       "                                        total_features GEXP_features  \\\n",
       "featureID                                                              \n",
       "skgrid_ACC_fbedeBIC_perplatformMUTA_ACC              2             0   \n",
       "skgrid_ACC_fbedeBIC_perplatformMUTA_ACC              2             0   \n",
       "skgrid_ACC_fbedeBIC_perplatformMUTA_ACC              2             0   \n",
       "skgrid_ACC_fbedeBIC_perplatformMUTA_ACC              2             0   \n",
       "skgrid_ACC_fbedeBIC_perplatformMUTA_ACC              2             0   \n",
       "...                                                ...           ...   \n",
       "skgrid_ACC_fbedeBIC_perplatformGEXP_ACC              5             5   \n",
       "skgrid_ACC_fbedeBIC_perplatformALL_ACC              28             5   \n",
       "skgrid_ACC_fbedeBIC_perplatformALL_ACC              28             5   \n",
       "skgrid_ACC_fbedeBIC_perplatformALL_ACC              28             5   \n",
       "skgrid_ACC_fbedeBIC_perplatformALL_ACC              28             5   \n",
       "\n",
       "                                        CNVR_features METH_features  \\\n",
       "featureID                                                             \n",
       "skgrid_ACC_fbedeBIC_perplatformMUTA_ACC             0             0   \n",
       "skgrid_ACC_fbedeBIC_perplatformMUTA_ACC             0             0   \n",
       "skgrid_ACC_fbedeBIC_perplatformMUTA_ACC             0             0   \n",
       "skgrid_ACC_fbedeBIC_perplatformMUTA_ACC             0             0   \n",
       "skgrid_ACC_fbedeBIC_perplatformMUTA_ACC             0             0   \n",
       "...                                               ...           ...   \n",
       "skgrid_ACC_fbedeBIC_perplatformGEXP_ACC             0             0   \n",
       "skgrid_ACC_fbedeBIC_perplatformALL_ACC              9             8   \n",
       "skgrid_ACC_fbedeBIC_perplatformALL_ACC              9             8   \n",
       "skgrid_ACC_fbedeBIC_perplatformALL_ACC              9             8   \n",
       "skgrid_ACC_fbedeBIC_perplatformALL_ACC              9             8   \n",
       "\n",
       "                                        MIR_features  MUTA_features  \n",
       "featureID                                                            \n",
       "skgrid_ACC_fbedeBIC_perplatformMUTA_ACC            0              2  \n",
       "skgrid_ACC_fbedeBIC_perplatformMUTA_ACC            0              2  \n",
       "skgrid_ACC_fbedeBIC_perplatformMUTA_ACC            0              2  \n",
       "skgrid_ACC_fbedeBIC_perplatformMUTA_ACC            0              2  \n",
       "skgrid_ACC_fbedeBIC_perplatformMUTA_ACC            0              2  \n",
       "...                                              ...            ...  \n",
       "skgrid_ACC_fbedeBIC_perplatformGEXP_ACC            0              0  \n",
       "skgrid_ACC_fbedeBIC_perplatformALL_ACC             4              2  \n",
       "skgrid_ACC_fbedeBIC_perplatformALL_ACC             4              2  \n",
       "skgrid_ACC_fbedeBIC_perplatformALL_ACC             4              2  \n",
       "skgrid_ACC_fbedeBIC_perplatformALL_ACC             4              2  \n",
       "\n",
       "[6209 rows x 35 columns]"
      ]
     },
     "execution_count": 354,
     "metadata": {},
     "output_type": "execute_result"
    }
   ],
   "source": [
    "c_owf1_sk.sort_values('Mean') #"
   ]
  },
  {
   "cell_type": "code",
   "execution_count": 356,
   "id": "92f8ffeb-9a07-46d0-88f8-8da46c5a5900",
   "metadata": {},
   "outputs": [
    {
     "data": {
      "text/plain": [
       "6209"
      ]
     },
     "execution_count": 356,
     "metadata": {},
     "output_type": "execute_result"
    }
   ],
   "source": [
    "len(c_owf1_sk.model.unique()) # Looking for classifiers with two hyperparameters to make a heatmap\n",
    "\n",
    "# Could lock a third HP then heatmap then remaining two"
   ]
  },
  {
   "cell_type": "code",
   "execution_count": 358,
   "id": "23ef8c32-8a96-42f4-83bb-a28a8083ec75",
   "metadata": {},
   "outputs": [
    {
     "data": {
      "text/html": [
       "<div>\n",
       "<style scoped>\n",
       "    .dataframe tbody tr th:only-of-type {\n",
       "        vertical-align: middle;\n",
       "    }\n",
       "\n",
       "    .dataframe tbody tr th {\n",
       "        vertical-align: top;\n",
       "    }\n",
       "\n",
       "    .dataframe thead th {\n",
       "        text-align: right;\n",
       "    }\n",
       "</style>\n",
       "<table border=\"1\" class=\"dataframe\">\n",
       "  <thead>\n",
       "    <tr style=\"text-align: right;\">\n",
       "      <th></th>\n",
       "      <th>cohort</th>\n",
       "      <th>model</th>\n",
       "      <th>performance_metric</th>\n",
       "      <th>Mean</th>\n",
       "      <th>Median</th>\n",
       "      <th>Std</th>\n",
       "      <th>StdMed</th>\n",
       "      <th>SEM</th>\n",
       "      <th>Count</th>\n",
       "      <th>Max</th>\n",
       "      <th>...</th>\n",
       "      <th>subtypes_defined_by_Histology</th>\n",
       "      <th>subtypes_defined_by_iCluster</th>\n",
       "      <th>subtypes_defined_by_COCA</th>\n",
       "      <th>subtypes_defined_by_Other</th>\n",
       "      <th>total_features</th>\n",
       "      <th>GEXP_features</th>\n",
       "      <th>CNVR_features</th>\n",
       "      <th>METH_features</th>\n",
       "      <th>MIR_features</th>\n",
       "      <th>MUTA_features</th>\n",
       "    </tr>\n",
       "    <tr>\n",
       "      <th>featureID</th>\n",
       "      <th></th>\n",
       "      <th></th>\n",
       "      <th></th>\n",
       "      <th></th>\n",
       "      <th></th>\n",
       "      <th></th>\n",
       "      <th></th>\n",
       "      <th></th>\n",
       "      <th></th>\n",
       "      <th></th>\n",
       "      <th></th>\n",
       "      <th></th>\n",
       "      <th></th>\n",
       "      <th></th>\n",
       "      <th></th>\n",
       "      <th></th>\n",
       "      <th></th>\n",
       "      <th></th>\n",
       "      <th></th>\n",
       "      <th></th>\n",
       "      <th></th>\n",
       "    </tr>\n",
       "  </thead>\n",
       "  <tbody>\n",
       "    <tr>\n",
       "      <th>skgrid_ACC_fbedeBIC_combined_ACC</th>\n",
       "      <td>ACC</td>\n",
       "      <td>skgrid_BernoulliNB(alpha=0.1)|skgrid_ACC.tsv_s...</td>\n",
       "      <td>overall_weighted_f1</td>\n",
       "      <td>0.335</td>\n",
       "      <td>0.351</td>\n",
       "      <td>0.0725</td>\n",
       "      <td>0.0741</td>\n",
       "      <td>0.0162</td>\n",
       "      <td>20</td>\n",
       "      <td>0.530920</td>\n",
       "      <td>...</td>\n",
       "      <td>NaN</td>\n",
       "      <td>NaN</td>\n",
       "      <td>NaN</td>\n",
       "      <td>NaN</td>\n",
       "      <td>5</td>\n",
       "      <td>3</td>\n",
       "      <td>0</td>\n",
       "      <td>1</td>\n",
       "      <td>1</td>\n",
       "      <td>0</td>\n",
       "    </tr>\n",
       "    <tr>\n",
       "      <th>skgrid_ACC_fbedeBIC_perplatformALL_ACC</th>\n",
       "      <td>ACC</td>\n",
       "      <td>skgrid_BernoulliNB(alpha=0.1)|skgrid_ACC.tsv_s...</td>\n",
       "      <td>overall_weighted_f1</td>\n",
       "      <td>0.647</td>\n",
       "      <td>0.614</td>\n",
       "      <td>0.1180</td>\n",
       "      <td>0.1220</td>\n",
       "      <td>0.0264</td>\n",
       "      <td>20</td>\n",
       "      <td>0.919658</td>\n",
       "      <td>...</td>\n",
       "      <td>NaN</td>\n",
       "      <td>NaN</td>\n",
       "      <td>NaN</td>\n",
       "      <td>NaN</td>\n",
       "      <td>28</td>\n",
       "      <td>5</td>\n",
       "      <td>9</td>\n",
       "      <td>8</td>\n",
       "      <td>4</td>\n",
       "      <td>2</td>\n",
       "    </tr>\n",
       "    <tr>\n",
       "      <th>skgrid_ACC_fbedeBIC_perplatformCNVR_ACC</th>\n",
       "      <td>ACC</td>\n",
       "      <td>skgrid_BernoulliNB(alpha=0.1)|skgrid_ACC.tsv_s...</td>\n",
       "      <td>overall_weighted_f1</td>\n",
       "      <td>0.631</td>\n",
       "      <td>0.621</td>\n",
       "      <td>0.1100</td>\n",
       "      <td>0.1110</td>\n",
       "      <td>0.0247</td>\n",
       "      <td>20</td>\n",
       "      <td>0.842735</td>\n",
       "      <td>...</td>\n",
       "      <td>NaN</td>\n",
       "      <td>NaN</td>\n",
       "      <td>NaN</td>\n",
       "      <td>NaN</td>\n",
       "      <td>9</td>\n",
       "      <td>0</td>\n",
       "      <td>9</td>\n",
       "      <td>0</td>\n",
       "      <td>0</td>\n",
       "      <td>0</td>\n",
       "    </tr>\n",
       "    <tr>\n",
       "      <th>skgrid_ACC_fbedeBIC_perplatformGEXP_ACC</th>\n",
       "      <td>ACC</td>\n",
       "      <td>skgrid_BernoulliNB(alpha=0.1)|skgrid_ACC.tsv_s...</td>\n",
       "      <td>overall_weighted_f1</td>\n",
       "      <td>0.263</td>\n",
       "      <td>0.266</td>\n",
       "      <td>0.0201</td>\n",
       "      <td>0.0202</td>\n",
       "      <td>0.0045</td>\n",
       "      <td>20</td>\n",
       "      <td>0.291498</td>\n",
       "      <td>...</td>\n",
       "      <td>NaN</td>\n",
       "      <td>NaN</td>\n",
       "      <td>NaN</td>\n",
       "      <td>NaN</td>\n",
       "      <td>5</td>\n",
       "      <td>5</td>\n",
       "      <td>0</td>\n",
       "      <td>0</td>\n",
       "      <td>0</td>\n",
       "      <td>0</td>\n",
       "    </tr>\n",
       "    <tr>\n",
       "      <th>skgrid_ACC_fbedeBIC_perplatformMETH_ACC</th>\n",
       "      <td>ACC</td>\n",
       "      <td>skgrid_BernoulliNB(alpha=0.1)|skgrid_ACC.tsv_s...</td>\n",
       "      <td>overall_weighted_f1</td>\n",
       "      <td>0.263</td>\n",
       "      <td>0.266</td>\n",
       "      <td>0.0201</td>\n",
       "      <td>0.0202</td>\n",
       "      <td>0.0045</td>\n",
       "      <td>20</td>\n",
       "      <td>0.291498</td>\n",
       "      <td>...</td>\n",
       "      <td>NaN</td>\n",
       "      <td>NaN</td>\n",
       "      <td>NaN</td>\n",
       "      <td>NaN</td>\n",
       "      <td>8</td>\n",
       "      <td>0</td>\n",
       "      <td>0</td>\n",
       "      <td>8</td>\n",
       "      <td>0</td>\n",
       "      <td>0</td>\n",
       "    </tr>\n",
       "    <tr>\n",
       "      <th>...</th>\n",
       "      <td>...</td>\n",
       "      <td>...</td>\n",
       "      <td>...</td>\n",
       "      <td>...</td>\n",
       "      <td>...</td>\n",
       "      <td>...</td>\n",
       "      <td>...</td>\n",
       "      <td>...</td>\n",
       "      <td>...</td>\n",
       "      <td>...</td>\n",
       "      <td>...</td>\n",
       "      <td>...</td>\n",
       "      <td>...</td>\n",
       "      <td>...</td>\n",
       "      <td>...</td>\n",
       "      <td>...</td>\n",
       "      <td>...</td>\n",
       "      <td>...</td>\n",
       "      <td>...</td>\n",
       "      <td>...</td>\n",
       "      <td>...</td>\n",
       "    </tr>\n",
       "    <tr>\n",
       "      <th>skgrid_ACC_rfe15_perplatformALL_ACC</th>\n",
       "      <td>ACC</td>\n",
       "      <td>skgrid_BernoulliNB(alpha=1.0)|skgrid_ACC.tsv_s...</td>\n",
       "      <td>overall_weighted_f1</td>\n",
       "      <td>0.642</td>\n",
       "      <td>0.648</td>\n",
       "      <td>0.0649</td>\n",
       "      <td>0.0652</td>\n",
       "      <td>0.0145</td>\n",
       "      <td>20</td>\n",
       "      <td>0.746154</td>\n",
       "      <td>...</td>\n",
       "      <td>NaN</td>\n",
       "      <td>NaN</td>\n",
       "      <td>NaN</td>\n",
       "      <td>NaN</td>\n",
       "      <td>60</td>\n",
       "      <td>15</td>\n",
       "      <td>15</td>\n",
       "      <td>15</td>\n",
       "      <td>15</td>\n",
       "      <td>0</td>\n",
       "    </tr>\n",
       "    <tr>\n",
       "      <th>skgrid_ACC_rfe15_perplatformCNVR_ACC</th>\n",
       "      <td>ACC</td>\n",
       "      <td>skgrid_BernoulliNB(alpha=1.0)|skgrid_ACC.tsv_s...</td>\n",
       "      <td>overall_weighted_f1</td>\n",
       "      <td>0.670</td>\n",
       "      <td>0.681</td>\n",
       "      <td>0.0821</td>\n",
       "      <td>0.0828</td>\n",
       "      <td>0.0183</td>\n",
       "      <td>20</td>\n",
       "      <td>0.802083</td>\n",
       "      <td>...</td>\n",
       "      <td>NaN</td>\n",
       "      <td>NaN</td>\n",
       "      <td>NaN</td>\n",
       "      <td>NaN</td>\n",
       "      <td>15</td>\n",
       "      <td>0</td>\n",
       "      <td>15</td>\n",
       "      <td>0</td>\n",
       "      <td>0</td>\n",
       "      <td>0</td>\n",
       "    </tr>\n",
       "    <tr>\n",
       "      <th>skgrid_ACC_rfe15_perplatformGEXP_ACC</th>\n",
       "      <td>ACC</td>\n",
       "      <td>skgrid_BernoulliNB(alpha=1.0)|skgrid_ACC.tsv_s...</td>\n",
       "      <td>overall_weighted_f1</td>\n",
       "      <td>0.263</td>\n",
       "      <td>0.266</td>\n",
       "      <td>0.0201</td>\n",
       "      <td>0.0202</td>\n",
       "      <td>0.0045</td>\n",
       "      <td>20</td>\n",
       "      <td>0.291498</td>\n",
       "      <td>...</td>\n",
       "      <td>NaN</td>\n",
       "      <td>NaN</td>\n",
       "      <td>NaN</td>\n",
       "      <td>NaN</td>\n",
       "      <td>15</td>\n",
       "      <td>15</td>\n",
       "      <td>0</td>\n",
       "      <td>0</td>\n",
       "      <td>0</td>\n",
       "      <td>0</td>\n",
       "    </tr>\n",
       "    <tr>\n",
       "      <th>skgrid_ACC_rfe15_perplatformMETH_ACC</th>\n",
       "      <td>ACC</td>\n",
       "      <td>skgrid_BernoulliNB(alpha=1.0)|skgrid_ACC.tsv_s...</td>\n",
       "      <td>overall_weighted_f1</td>\n",
       "      <td>0.263</td>\n",
       "      <td>0.266</td>\n",
       "      <td>0.0201</td>\n",
       "      <td>0.0202</td>\n",
       "      <td>0.0045</td>\n",
       "      <td>20</td>\n",
       "      <td>0.291498</td>\n",
       "      <td>...</td>\n",
       "      <td>NaN</td>\n",
       "      <td>NaN</td>\n",
       "      <td>NaN</td>\n",
       "      <td>NaN</td>\n",
       "      <td>15</td>\n",
       "      <td>0</td>\n",
       "      <td>0</td>\n",
       "      <td>15</td>\n",
       "      <td>0</td>\n",
       "      <td>0</td>\n",
       "    </tr>\n",
       "    <tr>\n",
       "      <th>skgrid_ACC_rfe15_perplatformMIR_ACC</th>\n",
       "      <td>ACC</td>\n",
       "      <td>skgrid_BernoulliNB(alpha=1.0)|skgrid_ACC.tsv_s...</td>\n",
       "      <td>overall_weighted_f1</td>\n",
       "      <td>0.263</td>\n",
       "      <td>0.266</td>\n",
       "      <td>0.0201</td>\n",
       "      <td>0.0202</td>\n",
       "      <td>0.0045</td>\n",
       "      <td>20</td>\n",
       "      <td>0.291498</td>\n",
       "      <td>...</td>\n",
       "      <td>NaN</td>\n",
       "      <td>NaN</td>\n",
       "      <td>NaN</td>\n",
       "      <td>NaN</td>\n",
       "      <td>15</td>\n",
       "      <td>0</td>\n",
       "      <td>0</td>\n",
       "      <td>0</td>\n",
       "      <td>15</td>\n",
       "      <td>0</td>\n",
       "    </tr>\n",
       "  </tbody>\n",
       "</table>\n",
       "<p>130 rows × 35 columns</p>\n",
       "</div>"
      ],
      "text/plain": [
       "                                        cohort  \\\n",
       "featureID                                        \n",
       "skgrid_ACC_fbedeBIC_combined_ACC           ACC   \n",
       "skgrid_ACC_fbedeBIC_perplatformALL_ACC     ACC   \n",
       "skgrid_ACC_fbedeBIC_perplatformCNVR_ACC    ACC   \n",
       "skgrid_ACC_fbedeBIC_perplatformGEXP_ACC    ACC   \n",
       "skgrid_ACC_fbedeBIC_perplatformMETH_ACC    ACC   \n",
       "...                                        ...   \n",
       "skgrid_ACC_rfe15_perplatformALL_ACC        ACC   \n",
       "skgrid_ACC_rfe15_perplatformCNVR_ACC       ACC   \n",
       "skgrid_ACC_rfe15_perplatformGEXP_ACC       ACC   \n",
       "skgrid_ACC_rfe15_perplatformMETH_ACC       ACC   \n",
       "skgrid_ACC_rfe15_perplatformMIR_ACC        ACC   \n",
       "\n",
       "                                                                                     model  \\\n",
       "featureID                                                                                    \n",
       "skgrid_ACC_fbedeBIC_combined_ACC         skgrid_BernoulliNB(alpha=0.1)|skgrid_ACC.tsv_s...   \n",
       "skgrid_ACC_fbedeBIC_perplatformALL_ACC   skgrid_BernoulliNB(alpha=0.1)|skgrid_ACC.tsv_s...   \n",
       "skgrid_ACC_fbedeBIC_perplatformCNVR_ACC  skgrid_BernoulliNB(alpha=0.1)|skgrid_ACC.tsv_s...   \n",
       "skgrid_ACC_fbedeBIC_perplatformGEXP_ACC  skgrid_BernoulliNB(alpha=0.1)|skgrid_ACC.tsv_s...   \n",
       "skgrid_ACC_fbedeBIC_perplatformMETH_ACC  skgrid_BernoulliNB(alpha=0.1)|skgrid_ACC.tsv_s...   \n",
       "...                                                                                    ...   \n",
       "skgrid_ACC_rfe15_perplatformALL_ACC      skgrid_BernoulliNB(alpha=1.0)|skgrid_ACC.tsv_s...   \n",
       "skgrid_ACC_rfe15_perplatformCNVR_ACC     skgrid_BernoulliNB(alpha=1.0)|skgrid_ACC.tsv_s...   \n",
       "skgrid_ACC_rfe15_perplatformGEXP_ACC     skgrid_BernoulliNB(alpha=1.0)|skgrid_ACC.tsv_s...   \n",
       "skgrid_ACC_rfe15_perplatformMETH_ACC     skgrid_BernoulliNB(alpha=1.0)|skgrid_ACC.tsv_s...   \n",
       "skgrid_ACC_rfe15_perplatformMIR_ACC      skgrid_BernoulliNB(alpha=1.0)|skgrid_ACC.tsv_s...   \n",
       "\n",
       "                                          performance_metric   Mean  Median  \\\n",
       "featureID                                                                     \n",
       "skgrid_ACC_fbedeBIC_combined_ACC         overall_weighted_f1  0.335   0.351   \n",
       "skgrid_ACC_fbedeBIC_perplatformALL_ACC   overall_weighted_f1  0.647   0.614   \n",
       "skgrid_ACC_fbedeBIC_perplatformCNVR_ACC  overall_weighted_f1  0.631   0.621   \n",
       "skgrid_ACC_fbedeBIC_perplatformGEXP_ACC  overall_weighted_f1  0.263   0.266   \n",
       "skgrid_ACC_fbedeBIC_perplatformMETH_ACC  overall_weighted_f1  0.263   0.266   \n",
       "...                                                      ...    ...     ...   \n",
       "skgrid_ACC_rfe15_perplatformALL_ACC      overall_weighted_f1  0.642   0.648   \n",
       "skgrid_ACC_rfe15_perplatformCNVR_ACC     overall_weighted_f1  0.670   0.681   \n",
       "skgrid_ACC_rfe15_perplatformGEXP_ACC     overall_weighted_f1  0.263   0.266   \n",
       "skgrid_ACC_rfe15_perplatformMETH_ACC     overall_weighted_f1  0.263   0.266   \n",
       "skgrid_ACC_rfe15_perplatformMIR_ACC      overall_weighted_f1  0.263   0.266   \n",
       "\n",
       "                                            Std  StdMed     SEM  Count  \\\n",
       "featureID                                                                \n",
       "skgrid_ACC_fbedeBIC_combined_ACC         0.0725  0.0741  0.0162     20   \n",
       "skgrid_ACC_fbedeBIC_perplatformALL_ACC   0.1180  0.1220  0.0264     20   \n",
       "skgrid_ACC_fbedeBIC_perplatformCNVR_ACC  0.1100  0.1110  0.0247     20   \n",
       "skgrid_ACC_fbedeBIC_perplatformGEXP_ACC  0.0201  0.0202  0.0045     20   \n",
       "skgrid_ACC_fbedeBIC_perplatformMETH_ACC  0.0201  0.0202  0.0045     20   \n",
       "...                                         ...     ...     ...    ...   \n",
       "skgrid_ACC_rfe15_perplatformALL_ACC      0.0649  0.0652  0.0145     20   \n",
       "skgrid_ACC_rfe15_perplatformCNVR_ACC     0.0821  0.0828  0.0183     20   \n",
       "skgrid_ACC_rfe15_perplatformGEXP_ACC     0.0201  0.0202  0.0045     20   \n",
       "skgrid_ACC_rfe15_perplatformMETH_ACC     0.0201  0.0202  0.0045     20   \n",
       "skgrid_ACC_rfe15_perplatformMIR_ACC      0.0201  0.0202  0.0045     20   \n",
       "\n",
       "                                              Max  ...  \\\n",
       "featureID                                          ...   \n",
       "skgrid_ACC_fbedeBIC_combined_ACC         0.530920  ...   \n",
       "skgrid_ACC_fbedeBIC_perplatformALL_ACC   0.919658  ...   \n",
       "skgrid_ACC_fbedeBIC_perplatformCNVR_ACC  0.842735  ...   \n",
       "skgrid_ACC_fbedeBIC_perplatformGEXP_ACC  0.291498  ...   \n",
       "skgrid_ACC_fbedeBIC_perplatformMETH_ACC  0.291498  ...   \n",
       "...                                           ...  ...   \n",
       "skgrid_ACC_rfe15_perplatformALL_ACC      0.746154  ...   \n",
       "skgrid_ACC_rfe15_perplatformCNVR_ACC     0.802083  ...   \n",
       "skgrid_ACC_rfe15_perplatformGEXP_ACC     0.291498  ...   \n",
       "skgrid_ACC_rfe15_perplatformMETH_ACC     0.291498  ...   \n",
       "skgrid_ACC_rfe15_perplatformMIR_ACC      0.291498  ...   \n",
       "\n",
       "                                         subtypes_defined_by_Histology  \\\n",
       "featureID                                                                \n",
       "skgrid_ACC_fbedeBIC_combined_ACC                                   NaN   \n",
       "skgrid_ACC_fbedeBIC_perplatformALL_ACC                             NaN   \n",
       "skgrid_ACC_fbedeBIC_perplatformCNVR_ACC                            NaN   \n",
       "skgrid_ACC_fbedeBIC_perplatformGEXP_ACC                            NaN   \n",
       "skgrid_ACC_fbedeBIC_perplatformMETH_ACC                            NaN   \n",
       "...                                                                ...   \n",
       "skgrid_ACC_rfe15_perplatformALL_ACC                                NaN   \n",
       "skgrid_ACC_rfe15_perplatformCNVR_ACC                               NaN   \n",
       "skgrid_ACC_rfe15_perplatformGEXP_ACC                               NaN   \n",
       "skgrid_ACC_rfe15_perplatformMETH_ACC                               NaN   \n",
       "skgrid_ACC_rfe15_perplatformMIR_ACC                                NaN   \n",
       "\n",
       "                                         subtypes_defined_by_iCluster  \\\n",
       "featureID                                                               \n",
       "skgrid_ACC_fbedeBIC_combined_ACC                                  NaN   \n",
       "skgrid_ACC_fbedeBIC_perplatformALL_ACC                            NaN   \n",
       "skgrid_ACC_fbedeBIC_perplatformCNVR_ACC                           NaN   \n",
       "skgrid_ACC_fbedeBIC_perplatformGEXP_ACC                           NaN   \n",
       "skgrid_ACC_fbedeBIC_perplatformMETH_ACC                           NaN   \n",
       "...                                                               ...   \n",
       "skgrid_ACC_rfe15_perplatformALL_ACC                               NaN   \n",
       "skgrid_ACC_rfe15_perplatformCNVR_ACC                              NaN   \n",
       "skgrid_ACC_rfe15_perplatformGEXP_ACC                              NaN   \n",
       "skgrid_ACC_rfe15_perplatformMETH_ACC                              NaN   \n",
       "skgrid_ACC_rfe15_perplatformMIR_ACC                               NaN   \n",
       "\n",
       "                                        subtypes_defined_by_COCA  \\\n",
       "featureID                                                          \n",
       "skgrid_ACC_fbedeBIC_combined_ACC                             NaN   \n",
       "skgrid_ACC_fbedeBIC_perplatformALL_ACC                       NaN   \n",
       "skgrid_ACC_fbedeBIC_perplatformCNVR_ACC                      NaN   \n",
       "skgrid_ACC_fbedeBIC_perplatformGEXP_ACC                      NaN   \n",
       "skgrid_ACC_fbedeBIC_perplatformMETH_ACC                      NaN   \n",
       "...                                                          ...   \n",
       "skgrid_ACC_rfe15_perplatformALL_ACC                          NaN   \n",
       "skgrid_ACC_rfe15_perplatformCNVR_ACC                         NaN   \n",
       "skgrid_ACC_rfe15_perplatformGEXP_ACC                         NaN   \n",
       "skgrid_ACC_rfe15_perplatformMETH_ACC                         NaN   \n",
       "skgrid_ACC_rfe15_perplatformMIR_ACC                          NaN   \n",
       "\n",
       "                                        subtypes_defined_by_Other  \\\n",
       "featureID                                                           \n",
       "skgrid_ACC_fbedeBIC_combined_ACC                              NaN   \n",
       "skgrid_ACC_fbedeBIC_perplatformALL_ACC                        NaN   \n",
       "skgrid_ACC_fbedeBIC_perplatformCNVR_ACC                       NaN   \n",
       "skgrid_ACC_fbedeBIC_perplatformGEXP_ACC                       NaN   \n",
       "skgrid_ACC_fbedeBIC_perplatformMETH_ACC                       NaN   \n",
       "...                                                           ...   \n",
       "skgrid_ACC_rfe15_perplatformALL_ACC                           NaN   \n",
       "skgrid_ACC_rfe15_perplatformCNVR_ACC                          NaN   \n",
       "skgrid_ACC_rfe15_perplatformGEXP_ACC                          NaN   \n",
       "skgrid_ACC_rfe15_perplatformMETH_ACC                          NaN   \n",
       "skgrid_ACC_rfe15_perplatformMIR_ACC                           NaN   \n",
       "\n",
       "                                        total_features GEXP_features  \\\n",
       "featureID                                                              \n",
       "skgrid_ACC_fbedeBIC_combined_ACC                     5             3   \n",
       "skgrid_ACC_fbedeBIC_perplatformALL_ACC              28             5   \n",
       "skgrid_ACC_fbedeBIC_perplatformCNVR_ACC              9             0   \n",
       "skgrid_ACC_fbedeBIC_perplatformGEXP_ACC              5             5   \n",
       "skgrid_ACC_fbedeBIC_perplatformMETH_ACC              8             0   \n",
       "...                                                ...           ...   \n",
       "skgrid_ACC_rfe15_perplatformALL_ACC                 60            15   \n",
       "skgrid_ACC_rfe15_perplatformCNVR_ACC                15             0   \n",
       "skgrid_ACC_rfe15_perplatformGEXP_ACC                15            15   \n",
       "skgrid_ACC_rfe15_perplatformMETH_ACC                15             0   \n",
       "skgrid_ACC_rfe15_perplatformMIR_ACC                 15             0   \n",
       "\n",
       "                                        CNVR_features METH_features  \\\n",
       "featureID                                                             \n",
       "skgrid_ACC_fbedeBIC_combined_ACC                    0             1   \n",
       "skgrid_ACC_fbedeBIC_perplatformALL_ACC              9             8   \n",
       "skgrid_ACC_fbedeBIC_perplatformCNVR_ACC             9             0   \n",
       "skgrid_ACC_fbedeBIC_perplatformGEXP_ACC             0             0   \n",
       "skgrid_ACC_fbedeBIC_perplatformMETH_ACC             0             8   \n",
       "...                                               ...           ...   \n",
       "skgrid_ACC_rfe15_perplatformALL_ACC                15            15   \n",
       "skgrid_ACC_rfe15_perplatformCNVR_ACC               15             0   \n",
       "skgrid_ACC_rfe15_perplatformGEXP_ACC                0             0   \n",
       "skgrid_ACC_rfe15_perplatformMETH_ACC                0            15   \n",
       "skgrid_ACC_rfe15_perplatformMIR_ACC                 0             0   \n",
       "\n",
       "                                        MIR_features  MUTA_features  \n",
       "featureID                                                            \n",
       "skgrid_ACC_fbedeBIC_combined_ACC                   1              0  \n",
       "skgrid_ACC_fbedeBIC_perplatformALL_ACC             4              2  \n",
       "skgrid_ACC_fbedeBIC_perplatformCNVR_ACC            0              0  \n",
       "skgrid_ACC_fbedeBIC_perplatformGEXP_ACC            0              0  \n",
       "skgrid_ACC_fbedeBIC_perplatformMETH_ACC            0              0  \n",
       "...                                              ...            ...  \n",
       "skgrid_ACC_rfe15_perplatformALL_ACC               15              0  \n",
       "skgrid_ACC_rfe15_perplatformCNVR_ACC               0              0  \n",
       "skgrid_ACC_rfe15_perplatformGEXP_ACC               0              0  \n",
       "skgrid_ACC_rfe15_perplatformMETH_ACC               0              0  \n",
       "skgrid_ACC_rfe15_perplatformMIR_ACC               15              0  \n",
       "\n",
       "[130 rows x 35 columns]"
      ]
     },
     "execution_count": 358,
     "metadata": {},
     "output_type": "execute_result"
    }
   ],
   "source": [
    "c_owf1_sk[c_owf1_sk.model.str.contains('BernoulliNB')]"
   ]
  },
  {
   "cell_type": "code",
   "execution_count": 360,
   "id": "eab70e51-08ab-465d-8518-415a20d49acd",
   "metadata": {},
   "outputs": [
    {
     "data": {
      "text/plain": [
       "130"
      ]
     },
     "execution_count": 360,
     "metadata": {},
     "output_type": "execute_result"
    }
   ],
   "source": [
    "len(c_owf1_sk[c_owf1_sk.model.str.contains('BernoulliNB')].model.unique())"
   ]
  },
  {
   "cell_type": "code",
   "execution_count": null,
   "id": "0c63cf7a-f8c5-4835-a2cc-962d84664ff3",
   "metadata": {
    "tags": []
   },
   "outputs": [],
   "source": [
    "c_owf1_sk[c_owf1_sk.model.str.contains('BernoulliNB')].model.unique() # Could use feature set as heatmap axis"
   ]
  },
  {
   "cell_type": "code",
   "execution_count": null,
   "id": "9ddf139d-e9c7-4d0e-8d3e-6283a85ef84e",
   "metadata": {},
   "outputs": [],
   "source": [
    "c_owf1_sk[c_owf1_sk.model.str.contains('GaussianProcess')].model.unique() # Only has kernel varying"
   ]
  },
  {
   "cell_type": "code",
   "execution_count": null,
   "id": "0a810fdd-7b0d-4f79-b752-2cdb628e69ee",
   "metadata": {},
   "outputs": [],
   "source": [
    "c_owf1_sk[c_owf1_sk.model.str.contains('DecisionTree')].model.unique() # criterion is binary, then max depth and sample split across\n",
    "                                                                        # feature sets"
   ]
  },
  {
   "cell_type": "code",
   "execution_count": null,
   "id": "ff4dda95-79de-4ba3-bc6f-bc25ceb0d9a5",
   "metadata": {},
   "outputs": [],
   "source": [
    "class sklearn.tree.DecisionTreeClassifier(*, criterion='gini', # Here\n",
    "                                          splitter='best', max_depth=None, # Here\n",
    "                                          min_samples_split=2, # Here\n",
    "                                          min_samples_leaf=1,\n",
    "                                          min_weight_fraction_leaf=0.0,\n",
    "                                          max_features=None, random_state=None,\n",
    "                                          max_leaf_nodes=None, min_impurity_decrease=0.0,\n",
    "                                          class_weight=None, ccp_alpha=0.0)"
   ]
  },
  {
   "cell_type": "code",
   "execution_count": null,
   "id": "66b2a5e1-6d66-42bf-89c8-ccf10f97ecc4",
   "metadata": {
    "tags": []
   },
   "outputs": [],
   "source": [
    "c_owf1_sk[c_owf1_sk.model.str.contains('ExtraTrees')].model.unique() # criterion is binary, then max depth and sample split across\n",
    "                                                                        # feature sets"
   ]
  },
  {
   "cell_type": "code",
   "execution_count": null,
   "id": "70d5577e-773a-4736-88b5-4f8ebadea045",
   "metadata": {},
   "outputs": [],
   "source": [
    "class sklearn.ensemble.ExtraTreesClassifier(n_estimators=100, *, criterion='gini', # 96 is default (with gini)\n",
    "                                            max_depth=None, min_samples_split=2,\n",
    "                                            min_samples_leaf=1, min_weight_fraction_leaf=0.0,\n",
    "                                            max_features='sqrt', max_leaf_nodes=None,\n",
    "                                            min_impurity_decrease=0.0, bootstrap=False,\n",
    "                                            oob_score=False, n_jobs=None, random_state=None,\n",
    "                                            verbose=0, warm_start=False, class_weight=None,\n",
    "                                            ccp_alpha=0.0, max_samples=None)[source]"
   ]
  },
  {
   "cell_type": "code",
   "execution_count": 368,
   "id": "5ac46e6b-f7c3-4bdd-951b-d0e859b08e7e",
   "metadata": {},
   "outputs": [
    {
     "data": {
      "text/plain": [
       "array(['skgrid_KNeighbors(algorithm=auto,leaf_size=15,n_neighbors=1,p=1)|skgrid_ACC.tsv_skgrid_ACC_fbedeBIC_combined|ACC.tsv_skgrid_ACC_fbedeBIC_combined|2021-01-13|c',\n",
       "       'skgrid_KNeighbors(algorithm=auto,leaf_size=15,n_neighbors=1,p=1)|skgrid_ACC.tsv_skgrid_ACC_fbedeBIC_perplatformALL|ACC.tsv_skgrid_ACC_fbedeBIC_perplatformALL|2021-01-13|c',\n",
       "       'skgrid_KNeighbors(algorithm=auto,leaf_size=15,n_neighbors=1,p=1)|skgrid_ACC.tsv_skgrid_ACC_fbedeBIC_perplatformCNVR|ACC.tsv_skgrid_ACC_fbedeBIC_perplatformCNVR|2021-01-13|c',\n",
       "       ...,\n",
       "       'skgrid_KNeighbors(algorithm=kd_tree,leaf_size=45,n_neighbors=7,p=5)|skgrid_ACC.tsv_skgrid_ACC_rfe15_perplatformGEXP|ACC.tsv_skgrid_ACC_rfe15_perplatformGEXP|2021-01-13|c',\n",
       "       'skgrid_KNeighbors(algorithm=kd_tree,leaf_size=45,n_neighbors=7,p=5)|skgrid_ACC.tsv_skgrid_ACC_rfe15_perplatformMETH|ACC.tsv_skgrid_ACC_rfe15_perplatformMETH|2021-01-13|c',\n",
       "       'skgrid_KNeighbors(algorithm=kd_tree,leaf_size=45,n_neighbors=7,p=5)|skgrid_ACC.tsv_skgrid_ACC_rfe15_perplatformMIR|ACC.tsv_skgrid_ACC_rfe15_perplatformMIR|2021-01-13|c'],\n",
       "      dtype=object)"
      ]
     },
     "execution_count": 368,
     "metadata": {},
     "output_type": "execute_result"
    }
   ],
   "source": [
    "c_owf1_sk[c_owf1_sk.model.str.contains('KNeighbors')].model.unique() # algo, leaf_size, n_neighbs"
   ]
  },
  {
   "cell_type": "code",
   "execution_count": 370,
   "id": "1b3cf43d-cae4-448d-abd2-54b2aead5ad9",
   "metadata": {},
   "outputs": [
    {
     "data": {
      "text/html": [
       "<div>\n",
       "<style scoped>\n",
       "    .dataframe tbody tr th:only-of-type {\n",
       "        vertical-align: middle;\n",
       "    }\n",
       "\n",
       "    .dataframe tbody tr th {\n",
       "        vertical-align: top;\n",
       "    }\n",
       "\n",
       "    .dataframe thead th {\n",
       "        text-align: right;\n",
       "    }\n",
       "</style>\n",
       "<table border=\"1\" class=\"dataframe\">\n",
       "  <thead>\n",
       "    <tr style=\"text-align: right;\">\n",
       "      <th></th>\n",
       "      <th>cohort</th>\n",
       "      <th>model</th>\n",
       "      <th>performance_metric</th>\n",
       "      <th>Mean</th>\n",
       "      <th>Median</th>\n",
       "      <th>Std</th>\n",
       "      <th>StdMed</th>\n",
       "      <th>SEM</th>\n",
       "      <th>Count</th>\n",
       "      <th>Max</th>\n",
       "      <th>...</th>\n",
       "      <th>subtypes_defined_by_Histology</th>\n",
       "      <th>subtypes_defined_by_iCluster</th>\n",
       "      <th>subtypes_defined_by_COCA</th>\n",
       "      <th>subtypes_defined_by_Other</th>\n",
       "      <th>total_features</th>\n",
       "      <th>GEXP_features</th>\n",
       "      <th>CNVR_features</th>\n",
       "      <th>METH_features</th>\n",
       "      <th>MIR_features</th>\n",
       "      <th>MUTA_features</th>\n",
       "    </tr>\n",
       "    <tr>\n",
       "      <th>featureID</th>\n",
       "      <th></th>\n",
       "      <th></th>\n",
       "      <th></th>\n",
       "      <th></th>\n",
       "      <th></th>\n",
       "      <th></th>\n",
       "      <th></th>\n",
       "      <th></th>\n",
       "      <th></th>\n",
       "      <th></th>\n",
       "      <th></th>\n",
       "      <th></th>\n",
       "      <th></th>\n",
       "      <th></th>\n",
       "      <th></th>\n",
       "      <th></th>\n",
       "      <th></th>\n",
       "      <th></th>\n",
       "      <th></th>\n",
       "      <th></th>\n",
       "      <th></th>\n",
       "    </tr>\n",
       "  </thead>\n",
       "  <tbody>\n",
       "    <tr>\n",
       "      <th>skgrid_ACC_rfe15_perplatformMIR_ACC</th>\n",
       "      <td>ACC</td>\n",
       "      <td>skgrid_BernoulliNB(alpha=0.5)|skgrid_ACC.tsv_s...</td>\n",
       "      <td>overall_weighted_f1</td>\n",
       "      <td>0.263</td>\n",
       "      <td>0.266</td>\n",
       "      <td>0.0201</td>\n",
       "      <td>0.0202</td>\n",
       "      <td>0.0045</td>\n",
       "      <td>20</td>\n",
       "      <td>0.291498</td>\n",
       "      <td>...</td>\n",
       "      <td>NaN</td>\n",
       "      <td>NaN</td>\n",
       "      <td>NaN</td>\n",
       "      <td>NaN</td>\n",
       "      <td>15</td>\n",
       "      <td>0</td>\n",
       "      <td>0</td>\n",
       "      <td>0</td>\n",
       "      <td>15</td>\n",
       "      <td>0</td>\n",
       "    </tr>\n",
       "    <tr>\n",
       "      <th>skgrid_ACC_fbedeBIC_perplatformGEXP_ACC</th>\n",
       "      <td>ACC</td>\n",
       "      <td>skgrid_BernoulliNB(alpha=0.7)|skgrid_ACC.tsv_s...</td>\n",
       "      <td>overall_weighted_f1</td>\n",
       "      <td>0.263</td>\n",
       "      <td>0.266</td>\n",
       "      <td>0.0201</td>\n",
       "      <td>0.0202</td>\n",
       "      <td>0.0045</td>\n",
       "      <td>20</td>\n",
       "      <td>0.291498</td>\n",
       "      <td>...</td>\n",
       "      <td>NaN</td>\n",
       "      <td>NaN</td>\n",
       "      <td>NaN</td>\n",
       "      <td>NaN</td>\n",
       "      <td>5</td>\n",
       "      <td>5</td>\n",
       "      <td>0</td>\n",
       "      <td>0</td>\n",
       "      <td>0</td>\n",
       "      <td>0</td>\n",
       "    </tr>\n",
       "    <tr>\n",
       "      <th>skgrid_ACC_rfe15_perplatformMIR_ACC</th>\n",
       "      <td>ACC</td>\n",
       "      <td>skgrid_BernoulliNB(alpha=0.6)|skgrid_ACC.tsv_s...</td>\n",
       "      <td>overall_weighted_f1</td>\n",
       "      <td>0.263</td>\n",
       "      <td>0.266</td>\n",
       "      <td>0.0201</td>\n",
       "      <td>0.0202</td>\n",
       "      <td>0.0045</td>\n",
       "      <td>20</td>\n",
       "      <td>0.291498</td>\n",
       "      <td>...</td>\n",
       "      <td>NaN</td>\n",
       "      <td>NaN</td>\n",
       "      <td>NaN</td>\n",
       "      <td>NaN</td>\n",
       "      <td>15</td>\n",
       "      <td>0</td>\n",
       "      <td>0</td>\n",
       "      <td>0</td>\n",
       "      <td>15</td>\n",
       "      <td>0</td>\n",
       "    </tr>\n",
       "    <tr>\n",
       "      <th>skgrid_ACC_rfe15_perplatformMETH_ACC</th>\n",
       "      <td>ACC</td>\n",
       "      <td>skgrid_BernoulliNB(alpha=0.6)|skgrid_ACC.tsv_s...</td>\n",
       "      <td>overall_weighted_f1</td>\n",
       "      <td>0.263</td>\n",
       "      <td>0.266</td>\n",
       "      <td>0.0201</td>\n",
       "      <td>0.0202</td>\n",
       "      <td>0.0045</td>\n",
       "      <td>20</td>\n",
       "      <td>0.291498</td>\n",
       "      <td>...</td>\n",
       "      <td>NaN</td>\n",
       "      <td>NaN</td>\n",
       "      <td>NaN</td>\n",
       "      <td>NaN</td>\n",
       "      <td>15</td>\n",
       "      <td>0</td>\n",
       "      <td>0</td>\n",
       "      <td>15</td>\n",
       "      <td>0</td>\n",
       "      <td>0</td>\n",
       "    </tr>\n",
       "    <tr>\n",
       "      <th>skgrid_ACC_rfe15_perplatformGEXP_ACC</th>\n",
       "      <td>ACC</td>\n",
       "      <td>skgrid_BernoulliNB(alpha=0.6)|skgrid_ACC.tsv_s...</td>\n",
       "      <td>overall_weighted_f1</td>\n",
       "      <td>0.263</td>\n",
       "      <td>0.266</td>\n",
       "      <td>0.0201</td>\n",
       "      <td>0.0202</td>\n",
       "      <td>0.0045</td>\n",
       "      <td>20</td>\n",
       "      <td>0.291498</td>\n",
       "      <td>...</td>\n",
       "      <td>NaN</td>\n",
       "      <td>NaN</td>\n",
       "      <td>NaN</td>\n",
       "      <td>NaN</td>\n",
       "      <td>15</td>\n",
       "      <td>15</td>\n",
       "      <td>0</td>\n",
       "      <td>0</td>\n",
       "      <td>0</td>\n",
       "      <td>0</td>\n",
       "    </tr>\n",
       "    <tr>\n",
       "      <th>...</th>\n",
       "      <td>...</td>\n",
       "      <td>...</td>\n",
       "      <td>...</td>\n",
       "      <td>...</td>\n",
       "      <td>...</td>\n",
       "      <td>...</td>\n",
       "      <td>...</td>\n",
       "      <td>...</td>\n",
       "      <td>...</td>\n",
       "      <td>...</td>\n",
       "      <td>...</td>\n",
       "      <td>...</td>\n",
       "      <td>...</td>\n",
       "      <td>...</td>\n",
       "      <td>...</td>\n",
       "      <td>...</td>\n",
       "      <td>...</td>\n",
       "      <td>...</td>\n",
       "      <td>...</td>\n",
       "      <td>...</td>\n",
       "      <td>...</td>\n",
       "    </tr>\n",
       "    <tr>\n",
       "      <th>skgrid_ACC_fbedeBIC_perplatformALL_ACC</th>\n",
       "      <td>ACC</td>\n",
       "      <td>skgrid_BernoulliNB(alpha=0.6)|skgrid_ACC.tsv_s...</td>\n",
       "      <td>overall_weighted_f1</td>\n",
       "      <td>0.669</td>\n",
       "      <td>0.668</td>\n",
       "      <td>0.1030</td>\n",
       "      <td>0.1030</td>\n",
       "      <td>0.0232</td>\n",
       "      <td>20</td>\n",
       "      <td>0.918343</td>\n",
       "      <td>...</td>\n",
       "      <td>NaN</td>\n",
       "      <td>NaN</td>\n",
       "      <td>NaN</td>\n",
       "      <td>NaN</td>\n",
       "      <td>28</td>\n",
       "      <td>5</td>\n",
       "      <td>9</td>\n",
       "      <td>8</td>\n",
       "      <td>4</td>\n",
       "      <td>2</td>\n",
       "    </tr>\n",
       "    <tr>\n",
       "      <th>skgrid_ACC_rfe15_perplatformCNVR_ACC</th>\n",
       "      <td>ACC</td>\n",
       "      <td>skgrid_BernoulliNB(alpha=1.0)|skgrid_ACC.tsv_s...</td>\n",
       "      <td>overall_weighted_f1</td>\n",
       "      <td>0.670</td>\n",
       "      <td>0.681</td>\n",
       "      <td>0.0821</td>\n",
       "      <td>0.0828</td>\n",
       "      <td>0.0183</td>\n",
       "      <td>20</td>\n",
       "      <td>0.802083</td>\n",
       "      <td>...</td>\n",
       "      <td>NaN</td>\n",
       "      <td>NaN</td>\n",
       "      <td>NaN</td>\n",
       "      <td>NaN</td>\n",
       "      <td>15</td>\n",
       "      <td>0</td>\n",
       "      <td>15</td>\n",
       "      <td>0</td>\n",
       "      <td>0</td>\n",
       "      <td>0</td>\n",
       "    </tr>\n",
       "    <tr>\n",
       "      <th>skgrid_ACC_rfe15_perplatformALL_ACC</th>\n",
       "      <td>ACC</td>\n",
       "      <td>skgrid_BernoulliNB(alpha=0.1)|skgrid_ACC.tsv_s...</td>\n",
       "      <td>overall_weighted_f1</td>\n",
       "      <td>0.670</td>\n",
       "      <td>0.676</td>\n",
       "      <td>0.0694</td>\n",
       "      <td>0.0696</td>\n",
       "      <td>0.0155</td>\n",
       "      <td>20</td>\n",
       "      <td>0.802083</td>\n",
       "      <td>...</td>\n",
       "      <td>NaN</td>\n",
       "      <td>NaN</td>\n",
       "      <td>NaN</td>\n",
       "      <td>NaN</td>\n",
       "      <td>60</td>\n",
       "      <td>15</td>\n",
       "      <td>15</td>\n",
       "      <td>15</td>\n",
       "      <td>15</td>\n",
       "      <td>0</td>\n",
       "    </tr>\n",
       "    <tr>\n",
       "      <th>skgrid_ACC_rfe15_perplatformALL_ACC</th>\n",
       "      <td>ACC</td>\n",
       "      <td>skgrid_BernoulliNB(alpha=0.2)|skgrid_ACC.tsv_s...</td>\n",
       "      <td>overall_weighted_f1</td>\n",
       "      <td>0.671</td>\n",
       "      <td>0.660</td>\n",
       "      <td>0.0780</td>\n",
       "      <td>0.0787</td>\n",
       "      <td>0.0174</td>\n",
       "      <td>20</td>\n",
       "      <td>0.802083</td>\n",
       "      <td>...</td>\n",
       "      <td>NaN</td>\n",
       "      <td>NaN</td>\n",
       "      <td>NaN</td>\n",
       "      <td>NaN</td>\n",
       "      <td>60</td>\n",
       "      <td>15</td>\n",
       "      <td>15</td>\n",
       "      <td>15</td>\n",
       "      <td>15</td>\n",
       "      <td>0</td>\n",
       "    </tr>\n",
       "    <tr>\n",
       "      <th>skgrid_ACC_fbedeBIC_perplatformALL_ACC</th>\n",
       "      <td>ACC</td>\n",
       "      <td>skgrid_BernoulliNB(alpha=0.5)|skgrid_ACC.tsv_s...</td>\n",
       "      <td>overall_weighted_f1</td>\n",
       "      <td>0.673</td>\n",
       "      <td>0.668</td>\n",
       "      <td>0.0976</td>\n",
       "      <td>0.0977</td>\n",
       "      <td>0.0218</td>\n",
       "      <td>20</td>\n",
       "      <td>0.918343</td>\n",
       "      <td>...</td>\n",
       "      <td>NaN</td>\n",
       "      <td>NaN</td>\n",
       "      <td>NaN</td>\n",
       "      <td>NaN</td>\n",
       "      <td>28</td>\n",
       "      <td>5</td>\n",
       "      <td>9</td>\n",
       "      <td>8</td>\n",
       "      <td>4</td>\n",
       "      <td>2</td>\n",
       "    </tr>\n",
       "  </tbody>\n",
       "</table>\n",
       "<p>130 rows × 35 columns</p>\n",
       "</div>"
      ],
      "text/plain": [
       "                                        cohort  \\\n",
       "featureID                                        \n",
       "skgrid_ACC_rfe15_perplatformMIR_ACC        ACC   \n",
       "skgrid_ACC_fbedeBIC_perplatformGEXP_ACC    ACC   \n",
       "skgrid_ACC_rfe15_perplatformMIR_ACC        ACC   \n",
       "skgrid_ACC_rfe15_perplatformMETH_ACC       ACC   \n",
       "skgrid_ACC_rfe15_perplatformGEXP_ACC       ACC   \n",
       "...                                        ...   \n",
       "skgrid_ACC_fbedeBIC_perplatformALL_ACC     ACC   \n",
       "skgrid_ACC_rfe15_perplatformCNVR_ACC       ACC   \n",
       "skgrid_ACC_rfe15_perplatformALL_ACC        ACC   \n",
       "skgrid_ACC_rfe15_perplatformALL_ACC        ACC   \n",
       "skgrid_ACC_fbedeBIC_perplatformALL_ACC     ACC   \n",
       "\n",
       "                                                                                     model  \\\n",
       "featureID                                                                                    \n",
       "skgrid_ACC_rfe15_perplatformMIR_ACC      skgrid_BernoulliNB(alpha=0.5)|skgrid_ACC.tsv_s...   \n",
       "skgrid_ACC_fbedeBIC_perplatformGEXP_ACC  skgrid_BernoulliNB(alpha=0.7)|skgrid_ACC.tsv_s...   \n",
       "skgrid_ACC_rfe15_perplatformMIR_ACC      skgrid_BernoulliNB(alpha=0.6)|skgrid_ACC.tsv_s...   \n",
       "skgrid_ACC_rfe15_perplatformMETH_ACC     skgrid_BernoulliNB(alpha=0.6)|skgrid_ACC.tsv_s...   \n",
       "skgrid_ACC_rfe15_perplatformGEXP_ACC     skgrid_BernoulliNB(alpha=0.6)|skgrid_ACC.tsv_s...   \n",
       "...                                                                                    ...   \n",
       "skgrid_ACC_fbedeBIC_perplatformALL_ACC   skgrid_BernoulliNB(alpha=0.6)|skgrid_ACC.tsv_s...   \n",
       "skgrid_ACC_rfe15_perplatformCNVR_ACC     skgrid_BernoulliNB(alpha=1.0)|skgrid_ACC.tsv_s...   \n",
       "skgrid_ACC_rfe15_perplatformALL_ACC      skgrid_BernoulliNB(alpha=0.1)|skgrid_ACC.tsv_s...   \n",
       "skgrid_ACC_rfe15_perplatformALL_ACC      skgrid_BernoulliNB(alpha=0.2)|skgrid_ACC.tsv_s...   \n",
       "skgrid_ACC_fbedeBIC_perplatformALL_ACC   skgrid_BernoulliNB(alpha=0.5)|skgrid_ACC.tsv_s...   \n",
       "\n",
       "                                          performance_metric   Mean  Median  \\\n",
       "featureID                                                                     \n",
       "skgrid_ACC_rfe15_perplatformMIR_ACC      overall_weighted_f1  0.263   0.266   \n",
       "skgrid_ACC_fbedeBIC_perplatformGEXP_ACC  overall_weighted_f1  0.263   0.266   \n",
       "skgrid_ACC_rfe15_perplatformMIR_ACC      overall_weighted_f1  0.263   0.266   \n",
       "skgrid_ACC_rfe15_perplatformMETH_ACC     overall_weighted_f1  0.263   0.266   \n",
       "skgrid_ACC_rfe15_perplatformGEXP_ACC     overall_weighted_f1  0.263   0.266   \n",
       "...                                                      ...    ...     ...   \n",
       "skgrid_ACC_fbedeBIC_perplatformALL_ACC   overall_weighted_f1  0.669   0.668   \n",
       "skgrid_ACC_rfe15_perplatformCNVR_ACC     overall_weighted_f1  0.670   0.681   \n",
       "skgrid_ACC_rfe15_perplatformALL_ACC      overall_weighted_f1  0.670   0.676   \n",
       "skgrid_ACC_rfe15_perplatformALL_ACC      overall_weighted_f1  0.671   0.660   \n",
       "skgrid_ACC_fbedeBIC_perplatformALL_ACC   overall_weighted_f1  0.673   0.668   \n",
       "\n",
       "                                            Std  StdMed     SEM  Count  \\\n",
       "featureID                                                                \n",
       "skgrid_ACC_rfe15_perplatformMIR_ACC      0.0201  0.0202  0.0045     20   \n",
       "skgrid_ACC_fbedeBIC_perplatformGEXP_ACC  0.0201  0.0202  0.0045     20   \n",
       "skgrid_ACC_rfe15_perplatformMIR_ACC      0.0201  0.0202  0.0045     20   \n",
       "skgrid_ACC_rfe15_perplatformMETH_ACC     0.0201  0.0202  0.0045     20   \n",
       "skgrid_ACC_rfe15_perplatformGEXP_ACC     0.0201  0.0202  0.0045     20   \n",
       "...                                         ...     ...     ...    ...   \n",
       "skgrid_ACC_fbedeBIC_perplatformALL_ACC   0.1030  0.1030  0.0232     20   \n",
       "skgrid_ACC_rfe15_perplatformCNVR_ACC     0.0821  0.0828  0.0183     20   \n",
       "skgrid_ACC_rfe15_perplatformALL_ACC      0.0694  0.0696  0.0155     20   \n",
       "skgrid_ACC_rfe15_perplatformALL_ACC      0.0780  0.0787  0.0174     20   \n",
       "skgrid_ACC_fbedeBIC_perplatformALL_ACC   0.0976  0.0977  0.0218     20   \n",
       "\n",
       "                                              Max  ...  \\\n",
       "featureID                                          ...   \n",
       "skgrid_ACC_rfe15_perplatformMIR_ACC      0.291498  ...   \n",
       "skgrid_ACC_fbedeBIC_perplatformGEXP_ACC  0.291498  ...   \n",
       "skgrid_ACC_rfe15_perplatformMIR_ACC      0.291498  ...   \n",
       "skgrid_ACC_rfe15_perplatformMETH_ACC     0.291498  ...   \n",
       "skgrid_ACC_rfe15_perplatformGEXP_ACC     0.291498  ...   \n",
       "...                                           ...  ...   \n",
       "skgrid_ACC_fbedeBIC_perplatformALL_ACC   0.918343  ...   \n",
       "skgrid_ACC_rfe15_perplatformCNVR_ACC     0.802083  ...   \n",
       "skgrid_ACC_rfe15_perplatformALL_ACC      0.802083  ...   \n",
       "skgrid_ACC_rfe15_perplatformALL_ACC      0.802083  ...   \n",
       "skgrid_ACC_fbedeBIC_perplatformALL_ACC   0.918343  ...   \n",
       "\n",
       "                                         subtypes_defined_by_Histology  \\\n",
       "featureID                                                                \n",
       "skgrid_ACC_rfe15_perplatformMIR_ACC                                NaN   \n",
       "skgrid_ACC_fbedeBIC_perplatformGEXP_ACC                            NaN   \n",
       "skgrid_ACC_rfe15_perplatformMIR_ACC                                NaN   \n",
       "skgrid_ACC_rfe15_perplatformMETH_ACC                               NaN   \n",
       "skgrid_ACC_rfe15_perplatformGEXP_ACC                               NaN   \n",
       "...                                                                ...   \n",
       "skgrid_ACC_fbedeBIC_perplatformALL_ACC                             NaN   \n",
       "skgrid_ACC_rfe15_perplatformCNVR_ACC                               NaN   \n",
       "skgrid_ACC_rfe15_perplatformALL_ACC                                NaN   \n",
       "skgrid_ACC_rfe15_perplatformALL_ACC                                NaN   \n",
       "skgrid_ACC_fbedeBIC_perplatformALL_ACC                             NaN   \n",
       "\n",
       "                                         subtypes_defined_by_iCluster  \\\n",
       "featureID                                                               \n",
       "skgrid_ACC_rfe15_perplatformMIR_ACC                               NaN   \n",
       "skgrid_ACC_fbedeBIC_perplatformGEXP_ACC                           NaN   \n",
       "skgrid_ACC_rfe15_perplatformMIR_ACC                               NaN   \n",
       "skgrid_ACC_rfe15_perplatformMETH_ACC                              NaN   \n",
       "skgrid_ACC_rfe15_perplatformGEXP_ACC                              NaN   \n",
       "...                                                               ...   \n",
       "skgrid_ACC_fbedeBIC_perplatformALL_ACC                            NaN   \n",
       "skgrid_ACC_rfe15_perplatformCNVR_ACC                              NaN   \n",
       "skgrid_ACC_rfe15_perplatformALL_ACC                               NaN   \n",
       "skgrid_ACC_rfe15_perplatformALL_ACC                               NaN   \n",
       "skgrid_ACC_fbedeBIC_perplatformALL_ACC                            NaN   \n",
       "\n",
       "                                        subtypes_defined_by_COCA  \\\n",
       "featureID                                                          \n",
       "skgrid_ACC_rfe15_perplatformMIR_ACC                          NaN   \n",
       "skgrid_ACC_fbedeBIC_perplatformGEXP_ACC                      NaN   \n",
       "skgrid_ACC_rfe15_perplatformMIR_ACC                          NaN   \n",
       "skgrid_ACC_rfe15_perplatformMETH_ACC                         NaN   \n",
       "skgrid_ACC_rfe15_perplatformGEXP_ACC                         NaN   \n",
       "...                                                          ...   \n",
       "skgrid_ACC_fbedeBIC_perplatformALL_ACC                       NaN   \n",
       "skgrid_ACC_rfe15_perplatformCNVR_ACC                         NaN   \n",
       "skgrid_ACC_rfe15_perplatformALL_ACC                          NaN   \n",
       "skgrid_ACC_rfe15_perplatformALL_ACC                          NaN   \n",
       "skgrid_ACC_fbedeBIC_perplatformALL_ACC                       NaN   \n",
       "\n",
       "                                        subtypes_defined_by_Other  \\\n",
       "featureID                                                           \n",
       "skgrid_ACC_rfe15_perplatformMIR_ACC                           NaN   \n",
       "skgrid_ACC_fbedeBIC_perplatformGEXP_ACC                       NaN   \n",
       "skgrid_ACC_rfe15_perplatformMIR_ACC                           NaN   \n",
       "skgrid_ACC_rfe15_perplatformMETH_ACC                          NaN   \n",
       "skgrid_ACC_rfe15_perplatformGEXP_ACC                          NaN   \n",
       "...                                                           ...   \n",
       "skgrid_ACC_fbedeBIC_perplatformALL_ACC                        NaN   \n",
       "skgrid_ACC_rfe15_perplatformCNVR_ACC                          NaN   \n",
       "skgrid_ACC_rfe15_perplatformALL_ACC                           NaN   \n",
       "skgrid_ACC_rfe15_perplatformALL_ACC                           NaN   \n",
       "skgrid_ACC_fbedeBIC_perplatformALL_ACC                        NaN   \n",
       "\n",
       "                                        total_features GEXP_features  \\\n",
       "featureID                                                              \n",
       "skgrid_ACC_rfe15_perplatformMIR_ACC                 15             0   \n",
       "skgrid_ACC_fbedeBIC_perplatformGEXP_ACC              5             5   \n",
       "skgrid_ACC_rfe15_perplatformMIR_ACC                 15             0   \n",
       "skgrid_ACC_rfe15_perplatformMETH_ACC                15             0   \n",
       "skgrid_ACC_rfe15_perplatformGEXP_ACC                15            15   \n",
       "...                                                ...           ...   \n",
       "skgrid_ACC_fbedeBIC_perplatformALL_ACC              28             5   \n",
       "skgrid_ACC_rfe15_perplatformCNVR_ACC                15             0   \n",
       "skgrid_ACC_rfe15_perplatformALL_ACC                 60            15   \n",
       "skgrid_ACC_rfe15_perplatformALL_ACC                 60            15   \n",
       "skgrid_ACC_fbedeBIC_perplatformALL_ACC              28             5   \n",
       "\n",
       "                                        CNVR_features METH_features  \\\n",
       "featureID                                                             \n",
       "skgrid_ACC_rfe15_perplatformMIR_ACC                 0             0   \n",
       "skgrid_ACC_fbedeBIC_perplatformGEXP_ACC             0             0   \n",
       "skgrid_ACC_rfe15_perplatformMIR_ACC                 0             0   \n",
       "skgrid_ACC_rfe15_perplatformMETH_ACC                0            15   \n",
       "skgrid_ACC_rfe15_perplatformGEXP_ACC                0             0   \n",
       "...                                               ...           ...   \n",
       "skgrid_ACC_fbedeBIC_perplatformALL_ACC              9             8   \n",
       "skgrid_ACC_rfe15_perplatformCNVR_ACC               15             0   \n",
       "skgrid_ACC_rfe15_perplatformALL_ACC                15            15   \n",
       "skgrid_ACC_rfe15_perplatformALL_ACC                15            15   \n",
       "skgrid_ACC_fbedeBIC_perplatformALL_ACC              9             8   \n",
       "\n",
       "                                        MIR_features  MUTA_features  \n",
       "featureID                                                            \n",
       "skgrid_ACC_rfe15_perplatformMIR_ACC               15              0  \n",
       "skgrid_ACC_fbedeBIC_perplatformGEXP_ACC            0              0  \n",
       "skgrid_ACC_rfe15_perplatformMIR_ACC               15              0  \n",
       "skgrid_ACC_rfe15_perplatformMETH_ACC               0              0  \n",
       "skgrid_ACC_rfe15_perplatformGEXP_ACC               0              0  \n",
       "...                                              ...            ...  \n",
       "skgrid_ACC_fbedeBIC_perplatformALL_ACC             4              2  \n",
       "skgrid_ACC_rfe15_perplatformCNVR_ACC               0              0  \n",
       "skgrid_ACC_rfe15_perplatformALL_ACC               15              0  \n",
       "skgrid_ACC_rfe15_perplatformALL_ACC               15              0  \n",
       "skgrid_ACC_fbedeBIC_perplatformALL_ACC             4              2  \n",
       "\n",
       "[130 rows x 35 columns]"
      ]
     },
     "execution_count": 370,
     "metadata": {},
     "output_type": "execute_result"
    }
   ],
   "source": [
    "c_owf1_sk[c_owf1_sk.model.str.contains('BernoulliNB')].sort_values('Mean')"
   ]
  },
  {
   "cell_type": "code",
   "execution_count": 373,
   "id": "72022aad-e538-44ba-9fa0-6471f2699d05",
   "metadata": {},
   "outputs": [
    {
     "data": {
      "text/html": [
       "<div>\n",
       "<style scoped>\n",
       "    .dataframe tbody tr th:only-of-type {\n",
       "        vertical-align: middle;\n",
       "    }\n",
       "\n",
       "    .dataframe tbody tr th {\n",
       "        vertical-align: top;\n",
       "    }\n",
       "\n",
       "    .dataframe thead th {\n",
       "        text-align: right;\n",
       "    }\n",
       "</style>\n",
       "<table border=\"1\" class=\"dataframe\">\n",
       "  <thead>\n",
       "    <tr style=\"text-align: right;\">\n",
       "      <th></th>\n",
       "      <th>cohort</th>\n",
       "      <th>model</th>\n",
       "      <th>performance_metric</th>\n",
       "      <th>Mean</th>\n",
       "      <th>Median</th>\n",
       "      <th>Std</th>\n",
       "      <th>StdMed</th>\n",
       "      <th>SEM</th>\n",
       "      <th>Count</th>\n",
       "      <th>Max</th>\n",
       "      <th>...</th>\n",
       "      <th>subtypes_defined_by_Histology</th>\n",
       "      <th>subtypes_defined_by_iCluster</th>\n",
       "      <th>subtypes_defined_by_COCA</th>\n",
       "      <th>subtypes_defined_by_Other</th>\n",
       "      <th>total_features</th>\n",
       "      <th>GEXP_features</th>\n",
       "      <th>CNVR_features</th>\n",
       "      <th>METH_features</th>\n",
       "      <th>MIR_features</th>\n",
       "      <th>MUTA_features</th>\n",
       "    </tr>\n",
       "    <tr>\n",
       "      <th>featureID</th>\n",
       "      <th></th>\n",
       "      <th></th>\n",
       "      <th></th>\n",
       "      <th></th>\n",
       "      <th></th>\n",
       "      <th></th>\n",
       "      <th></th>\n",
       "      <th></th>\n",
       "      <th></th>\n",
       "      <th></th>\n",
       "      <th></th>\n",
       "      <th></th>\n",
       "      <th></th>\n",
       "      <th></th>\n",
       "      <th></th>\n",
       "      <th></th>\n",
       "      <th></th>\n",
       "      <th></th>\n",
       "      <th></th>\n",
       "      <th></th>\n",
       "      <th></th>\n",
       "    </tr>\n",
       "  </thead>\n",
       "  <tbody>\n",
       "    <tr>\n",
       "      <th>skgrid_ACC_fbedeBIC_perplatformMUTA_ACC</th>\n",
       "      <td>ACC</td>\n",
       "      <td>skgrid_ExtraTrees(criterion=gini,n_estimators=...</td>\n",
       "      <td>overall_weighted_f1</td>\n",
       "      <td>0.540</td>\n",
       "      <td>0.553</td>\n",
       "      <td>0.0663</td>\n",
       "      <td>0.0676</td>\n",
       "      <td>0.0148</td>\n",
       "      <td>20</td>\n",
       "      <td>0.60989</td>\n",
       "      <td>...</td>\n",
       "      <td>NaN</td>\n",
       "      <td>NaN</td>\n",
       "      <td>NaN</td>\n",
       "      <td>NaN</td>\n",
       "      <td>2</td>\n",
       "      <td>0</td>\n",
       "      <td>0</td>\n",
       "      <td>0</td>\n",
       "      <td>0</td>\n",
       "      <td>2</td>\n",
       "    </tr>\n",
       "    <tr>\n",
       "      <th>skgrid_ACC_fbedeBIC_perplatformMUTA_ACC</th>\n",
       "      <td>ACC</td>\n",
       "      <td>skgrid_ExtraTrees(criterion=entropy,n_estimato...</td>\n",
       "      <td>overall_weighted_f1</td>\n",
       "      <td>0.540</td>\n",
       "      <td>0.553</td>\n",
       "      <td>0.0663</td>\n",
       "      <td>0.0676</td>\n",
       "      <td>0.0148</td>\n",
       "      <td>20</td>\n",
       "      <td>0.60989</td>\n",
       "      <td>...</td>\n",
       "      <td>NaN</td>\n",
       "      <td>NaN</td>\n",
       "      <td>NaN</td>\n",
       "      <td>NaN</td>\n",
       "      <td>2</td>\n",
       "      <td>0</td>\n",
       "      <td>0</td>\n",
       "      <td>0</td>\n",
       "      <td>0</td>\n",
       "      <td>2</td>\n",
       "    </tr>\n",
       "    <tr>\n",
       "      <th>skgrid_ACC_fbedeBIC_perplatformMUTA_ACC</th>\n",
       "      <td>ACC</td>\n",
       "      <td>skgrid_ExtraTrees(criterion=gini,n_estimators=...</td>\n",
       "      <td>overall_weighted_f1</td>\n",
       "      <td>0.540</td>\n",
       "      <td>0.553</td>\n",
       "      <td>0.0663</td>\n",
       "      <td>0.0676</td>\n",
       "      <td>0.0148</td>\n",
       "      <td>20</td>\n",
       "      <td>0.60989</td>\n",
       "      <td>...</td>\n",
       "      <td>NaN</td>\n",
       "      <td>NaN</td>\n",
       "      <td>NaN</td>\n",
       "      <td>NaN</td>\n",
       "      <td>2</td>\n",
       "      <td>0</td>\n",
       "      <td>0</td>\n",
       "      <td>0</td>\n",
       "      <td>0</td>\n",
       "      <td>2</td>\n",
       "    </tr>\n",
       "    <tr>\n",
       "      <th>skgrid_ACC_fbedeBIC_perplatformMUTA_ACC</th>\n",
       "      <td>ACC</td>\n",
       "      <td>skgrid_ExtraTrees(criterion=entropy,n_estimato...</td>\n",
       "      <td>overall_weighted_f1</td>\n",
       "      <td>0.540</td>\n",
       "      <td>0.553</td>\n",
       "      <td>0.0663</td>\n",
       "      <td>0.0676</td>\n",
       "      <td>0.0148</td>\n",
       "      <td>20</td>\n",
       "      <td>0.60989</td>\n",
       "      <td>...</td>\n",
       "      <td>NaN</td>\n",
       "      <td>NaN</td>\n",
       "      <td>NaN</td>\n",
       "      <td>NaN</td>\n",
       "      <td>2</td>\n",
       "      <td>0</td>\n",
       "      <td>0</td>\n",
       "      <td>0</td>\n",
       "      <td>0</td>\n",
       "      <td>2</td>\n",
       "    </tr>\n",
       "    <tr>\n",
       "      <th>skgrid_ACC_fbedeBIC_perplatformMUTA_ACC</th>\n",
       "      <td>ACC</td>\n",
       "      <td>skgrid_ExtraTrees(criterion=entropy,n_estimato...</td>\n",
       "      <td>overall_weighted_f1</td>\n",
       "      <td>0.540</td>\n",
       "      <td>0.553</td>\n",
       "      <td>0.0663</td>\n",
       "      <td>0.0676</td>\n",
       "      <td>0.0148</td>\n",
       "      <td>20</td>\n",
       "      <td>0.60989</td>\n",
       "      <td>...</td>\n",
       "      <td>NaN</td>\n",
       "      <td>NaN</td>\n",
       "      <td>NaN</td>\n",
       "      <td>NaN</td>\n",
       "      <td>2</td>\n",
       "      <td>0</td>\n",
       "      <td>0</td>\n",
       "      <td>0</td>\n",
       "      <td>0</td>\n",
       "      <td>2</td>\n",
       "    </tr>\n",
       "    <tr>\n",
       "      <th>...</th>\n",
       "      <td>...</td>\n",
       "      <td>...</td>\n",
       "      <td>...</td>\n",
       "      <td>...</td>\n",
       "      <td>...</td>\n",
       "      <td>...</td>\n",
       "      <td>...</td>\n",
       "      <td>...</td>\n",
       "      <td>...</td>\n",
       "      <td>...</td>\n",
       "      <td>...</td>\n",
       "      <td>...</td>\n",
       "      <td>...</td>\n",
       "      <td>...</td>\n",
       "      <td>...</td>\n",
       "      <td>...</td>\n",
       "      <td>...</td>\n",
       "      <td>...</td>\n",
       "      <td>...</td>\n",
       "      <td>...</td>\n",
       "      <td>...</td>\n",
       "    </tr>\n",
       "    <tr>\n",
       "      <th>skgrid_ACC_fbedeBIC_perplatformALL_ACC</th>\n",
       "      <td>ACC</td>\n",
       "      <td>skgrid_ExtraTrees(criterion=gini,n_estimators=...</td>\n",
       "      <td>overall_weighted_f1</td>\n",
       "      <td>0.857</td>\n",
       "      <td>0.863</td>\n",
       "      <td>0.0703</td>\n",
       "      <td>0.0706</td>\n",
       "      <td>0.0157</td>\n",
       "      <td>20</td>\n",
       "      <td>1.00000</td>\n",
       "      <td>...</td>\n",
       "      <td>NaN</td>\n",
       "      <td>NaN</td>\n",
       "      <td>NaN</td>\n",
       "      <td>NaN</td>\n",
       "      <td>28</td>\n",
       "      <td>5</td>\n",
       "      <td>9</td>\n",
       "      <td>8</td>\n",
       "      <td>4</td>\n",
       "      <td>2</td>\n",
       "    </tr>\n",
       "    <tr>\n",
       "      <th>skgrid_ACC_fbedeBIC_perplatformALL_ACC</th>\n",
       "      <td>ACC</td>\n",
       "      <td>skgrid_ExtraTrees(criterion=entropy,n_estimato...</td>\n",
       "      <td>overall_weighted_f1</td>\n",
       "      <td>0.862</td>\n",
       "      <td>0.868</td>\n",
       "      <td>0.0715</td>\n",
       "      <td>0.0717</td>\n",
       "      <td>0.0159</td>\n",
       "      <td>20</td>\n",
       "      <td>1.00000</td>\n",
       "      <td>...</td>\n",
       "      <td>NaN</td>\n",
       "      <td>NaN</td>\n",
       "      <td>NaN</td>\n",
       "      <td>NaN</td>\n",
       "      <td>28</td>\n",
       "      <td>5</td>\n",
       "      <td>9</td>\n",
       "      <td>8</td>\n",
       "      <td>4</td>\n",
       "      <td>2</td>\n",
       "    </tr>\n",
       "    <tr>\n",
       "      <th>skgrid_ACC_fbedeBIC_perplatformALL_ACC</th>\n",
       "      <td>ACC</td>\n",
       "      <td>skgrid_ExtraTrees(criterion=entropy,n_estimato...</td>\n",
       "      <td>overall_weighted_f1</td>\n",
       "      <td>0.864</td>\n",
       "      <td>0.864</td>\n",
       "      <td>0.0645</td>\n",
       "      <td>0.0645</td>\n",
       "      <td>0.0144</td>\n",
       "      <td>20</td>\n",
       "      <td>1.00000</td>\n",
       "      <td>...</td>\n",
       "      <td>NaN</td>\n",
       "      <td>NaN</td>\n",
       "      <td>NaN</td>\n",
       "      <td>NaN</td>\n",
       "      <td>28</td>\n",
       "      <td>5</td>\n",
       "      <td>9</td>\n",
       "      <td>8</td>\n",
       "      <td>4</td>\n",
       "      <td>2</td>\n",
       "    </tr>\n",
       "    <tr>\n",
       "      <th>skgrid_ACC_fbedeBIC_perplatformALL_ACC</th>\n",
       "      <td>ACC</td>\n",
       "      <td>skgrid_ExtraTrees(criterion=entropy,n_estimato...</td>\n",
       "      <td>overall_weighted_f1</td>\n",
       "      <td>0.869</td>\n",
       "      <td>0.862</td>\n",
       "      <td>0.0825</td>\n",
       "      <td>0.0827</td>\n",
       "      <td>0.0184</td>\n",
       "      <td>20</td>\n",
       "      <td>1.00000</td>\n",
       "      <td>...</td>\n",
       "      <td>NaN</td>\n",
       "      <td>NaN</td>\n",
       "      <td>NaN</td>\n",
       "      <td>NaN</td>\n",
       "      <td>28</td>\n",
       "      <td>5</td>\n",
       "      <td>9</td>\n",
       "      <td>8</td>\n",
       "      <td>4</td>\n",
       "      <td>2</td>\n",
       "    </tr>\n",
       "    <tr>\n",
       "      <th>skgrid_ACC_fbedeBIC_perplatformALL_ACC</th>\n",
       "      <td>ACC</td>\n",
       "      <td>skgrid_ExtraTrees(criterion=gini,n_estimators=...</td>\n",
       "      <td>overall_weighted_f1</td>\n",
       "      <td>0.879</td>\n",
       "      <td>0.899</td>\n",
       "      <td>0.0753</td>\n",
       "      <td>0.0779</td>\n",
       "      <td>0.0168</td>\n",
       "      <td>20</td>\n",
       "      <td>1.00000</td>\n",
       "      <td>...</td>\n",
       "      <td>NaN</td>\n",
       "      <td>NaN</td>\n",
       "      <td>NaN</td>\n",
       "      <td>NaN</td>\n",
       "      <td>28</td>\n",
       "      <td>5</td>\n",
       "      <td>9</td>\n",
       "      <td>8</td>\n",
       "      <td>4</td>\n",
       "      <td>2</td>\n",
       "    </tr>\n",
       "  </tbody>\n",
       "</table>\n",
       "<p>130 rows × 35 columns</p>\n",
       "</div>"
      ],
      "text/plain": [
       "                                        cohort  \\\n",
       "featureID                                        \n",
       "skgrid_ACC_fbedeBIC_perplatformMUTA_ACC    ACC   \n",
       "skgrid_ACC_fbedeBIC_perplatformMUTA_ACC    ACC   \n",
       "skgrid_ACC_fbedeBIC_perplatformMUTA_ACC    ACC   \n",
       "skgrid_ACC_fbedeBIC_perplatformMUTA_ACC    ACC   \n",
       "skgrid_ACC_fbedeBIC_perplatformMUTA_ACC    ACC   \n",
       "...                                        ...   \n",
       "skgrid_ACC_fbedeBIC_perplatformALL_ACC     ACC   \n",
       "skgrid_ACC_fbedeBIC_perplatformALL_ACC     ACC   \n",
       "skgrid_ACC_fbedeBIC_perplatformALL_ACC     ACC   \n",
       "skgrid_ACC_fbedeBIC_perplatformALL_ACC     ACC   \n",
       "skgrid_ACC_fbedeBIC_perplatformALL_ACC     ACC   \n",
       "\n",
       "                                                                                     model  \\\n",
       "featureID                                                                                    \n",
       "skgrid_ACC_fbedeBIC_perplatformMUTA_ACC  skgrid_ExtraTrees(criterion=gini,n_estimators=...   \n",
       "skgrid_ACC_fbedeBIC_perplatformMUTA_ACC  skgrid_ExtraTrees(criterion=entropy,n_estimato...   \n",
       "skgrid_ACC_fbedeBIC_perplatformMUTA_ACC  skgrid_ExtraTrees(criterion=gini,n_estimators=...   \n",
       "skgrid_ACC_fbedeBIC_perplatformMUTA_ACC  skgrid_ExtraTrees(criterion=entropy,n_estimato...   \n",
       "skgrid_ACC_fbedeBIC_perplatformMUTA_ACC  skgrid_ExtraTrees(criterion=entropy,n_estimato...   \n",
       "...                                                                                    ...   \n",
       "skgrid_ACC_fbedeBIC_perplatformALL_ACC   skgrid_ExtraTrees(criterion=gini,n_estimators=...   \n",
       "skgrid_ACC_fbedeBIC_perplatformALL_ACC   skgrid_ExtraTrees(criterion=entropy,n_estimato...   \n",
       "skgrid_ACC_fbedeBIC_perplatformALL_ACC   skgrid_ExtraTrees(criterion=entropy,n_estimato...   \n",
       "skgrid_ACC_fbedeBIC_perplatformALL_ACC   skgrid_ExtraTrees(criterion=entropy,n_estimato...   \n",
       "skgrid_ACC_fbedeBIC_perplatformALL_ACC   skgrid_ExtraTrees(criterion=gini,n_estimators=...   \n",
       "\n",
       "                                          performance_metric   Mean  Median  \\\n",
       "featureID                                                                     \n",
       "skgrid_ACC_fbedeBIC_perplatformMUTA_ACC  overall_weighted_f1  0.540   0.553   \n",
       "skgrid_ACC_fbedeBIC_perplatformMUTA_ACC  overall_weighted_f1  0.540   0.553   \n",
       "skgrid_ACC_fbedeBIC_perplatformMUTA_ACC  overall_weighted_f1  0.540   0.553   \n",
       "skgrid_ACC_fbedeBIC_perplatformMUTA_ACC  overall_weighted_f1  0.540   0.553   \n",
       "skgrid_ACC_fbedeBIC_perplatformMUTA_ACC  overall_weighted_f1  0.540   0.553   \n",
       "...                                                      ...    ...     ...   \n",
       "skgrid_ACC_fbedeBIC_perplatformALL_ACC   overall_weighted_f1  0.857   0.863   \n",
       "skgrid_ACC_fbedeBIC_perplatformALL_ACC   overall_weighted_f1  0.862   0.868   \n",
       "skgrid_ACC_fbedeBIC_perplatformALL_ACC   overall_weighted_f1  0.864   0.864   \n",
       "skgrid_ACC_fbedeBIC_perplatformALL_ACC   overall_weighted_f1  0.869   0.862   \n",
       "skgrid_ACC_fbedeBIC_perplatformALL_ACC   overall_weighted_f1  0.879   0.899   \n",
       "\n",
       "                                            Std  StdMed     SEM  Count  \\\n",
       "featureID                                                                \n",
       "skgrid_ACC_fbedeBIC_perplatformMUTA_ACC  0.0663  0.0676  0.0148     20   \n",
       "skgrid_ACC_fbedeBIC_perplatformMUTA_ACC  0.0663  0.0676  0.0148     20   \n",
       "skgrid_ACC_fbedeBIC_perplatformMUTA_ACC  0.0663  0.0676  0.0148     20   \n",
       "skgrid_ACC_fbedeBIC_perplatformMUTA_ACC  0.0663  0.0676  0.0148     20   \n",
       "skgrid_ACC_fbedeBIC_perplatformMUTA_ACC  0.0663  0.0676  0.0148     20   \n",
       "...                                         ...     ...     ...    ...   \n",
       "skgrid_ACC_fbedeBIC_perplatformALL_ACC   0.0703  0.0706  0.0157     20   \n",
       "skgrid_ACC_fbedeBIC_perplatformALL_ACC   0.0715  0.0717  0.0159     20   \n",
       "skgrid_ACC_fbedeBIC_perplatformALL_ACC   0.0645  0.0645  0.0144     20   \n",
       "skgrid_ACC_fbedeBIC_perplatformALL_ACC   0.0825  0.0827  0.0184     20   \n",
       "skgrid_ACC_fbedeBIC_perplatformALL_ACC   0.0753  0.0779  0.0168     20   \n",
       "\n",
       "                                             Max  ...  \\\n",
       "featureID                                         ...   \n",
       "skgrid_ACC_fbedeBIC_perplatformMUTA_ACC  0.60989  ...   \n",
       "skgrid_ACC_fbedeBIC_perplatformMUTA_ACC  0.60989  ...   \n",
       "skgrid_ACC_fbedeBIC_perplatformMUTA_ACC  0.60989  ...   \n",
       "skgrid_ACC_fbedeBIC_perplatformMUTA_ACC  0.60989  ...   \n",
       "skgrid_ACC_fbedeBIC_perplatformMUTA_ACC  0.60989  ...   \n",
       "...                                          ...  ...   \n",
       "skgrid_ACC_fbedeBIC_perplatformALL_ACC   1.00000  ...   \n",
       "skgrid_ACC_fbedeBIC_perplatformALL_ACC   1.00000  ...   \n",
       "skgrid_ACC_fbedeBIC_perplatformALL_ACC   1.00000  ...   \n",
       "skgrid_ACC_fbedeBIC_perplatformALL_ACC   1.00000  ...   \n",
       "skgrid_ACC_fbedeBIC_perplatformALL_ACC   1.00000  ...   \n",
       "\n",
       "                                         subtypes_defined_by_Histology  \\\n",
       "featureID                                                                \n",
       "skgrid_ACC_fbedeBIC_perplatformMUTA_ACC                            NaN   \n",
       "skgrid_ACC_fbedeBIC_perplatformMUTA_ACC                            NaN   \n",
       "skgrid_ACC_fbedeBIC_perplatformMUTA_ACC                            NaN   \n",
       "skgrid_ACC_fbedeBIC_perplatformMUTA_ACC                            NaN   \n",
       "skgrid_ACC_fbedeBIC_perplatformMUTA_ACC                            NaN   \n",
       "...                                                                ...   \n",
       "skgrid_ACC_fbedeBIC_perplatformALL_ACC                             NaN   \n",
       "skgrid_ACC_fbedeBIC_perplatformALL_ACC                             NaN   \n",
       "skgrid_ACC_fbedeBIC_perplatformALL_ACC                             NaN   \n",
       "skgrid_ACC_fbedeBIC_perplatformALL_ACC                             NaN   \n",
       "skgrid_ACC_fbedeBIC_perplatformALL_ACC                             NaN   \n",
       "\n",
       "                                         subtypes_defined_by_iCluster  \\\n",
       "featureID                                                               \n",
       "skgrid_ACC_fbedeBIC_perplatformMUTA_ACC                           NaN   \n",
       "skgrid_ACC_fbedeBIC_perplatformMUTA_ACC                           NaN   \n",
       "skgrid_ACC_fbedeBIC_perplatformMUTA_ACC                           NaN   \n",
       "skgrid_ACC_fbedeBIC_perplatformMUTA_ACC                           NaN   \n",
       "skgrid_ACC_fbedeBIC_perplatformMUTA_ACC                           NaN   \n",
       "...                                                               ...   \n",
       "skgrid_ACC_fbedeBIC_perplatformALL_ACC                            NaN   \n",
       "skgrid_ACC_fbedeBIC_perplatformALL_ACC                            NaN   \n",
       "skgrid_ACC_fbedeBIC_perplatformALL_ACC                            NaN   \n",
       "skgrid_ACC_fbedeBIC_perplatformALL_ACC                            NaN   \n",
       "skgrid_ACC_fbedeBIC_perplatformALL_ACC                            NaN   \n",
       "\n",
       "                                        subtypes_defined_by_COCA  \\\n",
       "featureID                                                          \n",
       "skgrid_ACC_fbedeBIC_perplatformMUTA_ACC                      NaN   \n",
       "skgrid_ACC_fbedeBIC_perplatformMUTA_ACC                      NaN   \n",
       "skgrid_ACC_fbedeBIC_perplatformMUTA_ACC                      NaN   \n",
       "skgrid_ACC_fbedeBIC_perplatformMUTA_ACC                      NaN   \n",
       "skgrid_ACC_fbedeBIC_perplatformMUTA_ACC                      NaN   \n",
       "...                                                          ...   \n",
       "skgrid_ACC_fbedeBIC_perplatformALL_ACC                       NaN   \n",
       "skgrid_ACC_fbedeBIC_perplatformALL_ACC                       NaN   \n",
       "skgrid_ACC_fbedeBIC_perplatformALL_ACC                       NaN   \n",
       "skgrid_ACC_fbedeBIC_perplatformALL_ACC                       NaN   \n",
       "skgrid_ACC_fbedeBIC_perplatformALL_ACC                       NaN   \n",
       "\n",
       "                                        subtypes_defined_by_Other  \\\n",
       "featureID                                                           \n",
       "skgrid_ACC_fbedeBIC_perplatformMUTA_ACC                       NaN   \n",
       "skgrid_ACC_fbedeBIC_perplatformMUTA_ACC                       NaN   \n",
       "skgrid_ACC_fbedeBIC_perplatformMUTA_ACC                       NaN   \n",
       "skgrid_ACC_fbedeBIC_perplatformMUTA_ACC                       NaN   \n",
       "skgrid_ACC_fbedeBIC_perplatformMUTA_ACC                       NaN   \n",
       "...                                                           ...   \n",
       "skgrid_ACC_fbedeBIC_perplatformALL_ACC                        NaN   \n",
       "skgrid_ACC_fbedeBIC_perplatformALL_ACC                        NaN   \n",
       "skgrid_ACC_fbedeBIC_perplatformALL_ACC                        NaN   \n",
       "skgrid_ACC_fbedeBIC_perplatformALL_ACC                        NaN   \n",
       "skgrid_ACC_fbedeBIC_perplatformALL_ACC                        NaN   \n",
       "\n",
       "                                        total_features GEXP_features  \\\n",
       "featureID                                                              \n",
       "skgrid_ACC_fbedeBIC_perplatformMUTA_ACC              2             0   \n",
       "skgrid_ACC_fbedeBIC_perplatformMUTA_ACC              2             0   \n",
       "skgrid_ACC_fbedeBIC_perplatformMUTA_ACC              2             0   \n",
       "skgrid_ACC_fbedeBIC_perplatformMUTA_ACC              2             0   \n",
       "skgrid_ACC_fbedeBIC_perplatformMUTA_ACC              2             0   \n",
       "...                                                ...           ...   \n",
       "skgrid_ACC_fbedeBIC_perplatformALL_ACC              28             5   \n",
       "skgrid_ACC_fbedeBIC_perplatformALL_ACC              28             5   \n",
       "skgrid_ACC_fbedeBIC_perplatformALL_ACC              28             5   \n",
       "skgrid_ACC_fbedeBIC_perplatformALL_ACC              28             5   \n",
       "skgrid_ACC_fbedeBIC_perplatformALL_ACC              28             5   \n",
       "\n",
       "                                        CNVR_features METH_features  \\\n",
       "featureID                                                             \n",
       "skgrid_ACC_fbedeBIC_perplatformMUTA_ACC             0             0   \n",
       "skgrid_ACC_fbedeBIC_perplatformMUTA_ACC             0             0   \n",
       "skgrid_ACC_fbedeBIC_perplatformMUTA_ACC             0             0   \n",
       "skgrid_ACC_fbedeBIC_perplatformMUTA_ACC             0             0   \n",
       "skgrid_ACC_fbedeBIC_perplatformMUTA_ACC             0             0   \n",
       "...                                               ...           ...   \n",
       "skgrid_ACC_fbedeBIC_perplatformALL_ACC              9             8   \n",
       "skgrid_ACC_fbedeBIC_perplatformALL_ACC              9             8   \n",
       "skgrid_ACC_fbedeBIC_perplatformALL_ACC              9             8   \n",
       "skgrid_ACC_fbedeBIC_perplatformALL_ACC              9             8   \n",
       "skgrid_ACC_fbedeBIC_perplatformALL_ACC              9             8   \n",
       "\n",
       "                                        MIR_features  MUTA_features  \n",
       "featureID                                                            \n",
       "skgrid_ACC_fbedeBIC_perplatformMUTA_ACC            0              2  \n",
       "skgrid_ACC_fbedeBIC_perplatformMUTA_ACC            0              2  \n",
       "skgrid_ACC_fbedeBIC_perplatformMUTA_ACC            0              2  \n",
       "skgrid_ACC_fbedeBIC_perplatformMUTA_ACC            0              2  \n",
       "skgrid_ACC_fbedeBIC_perplatformMUTA_ACC            0              2  \n",
       "...                                              ...            ...  \n",
       "skgrid_ACC_fbedeBIC_perplatformALL_ACC             4              2  \n",
       "skgrid_ACC_fbedeBIC_perplatformALL_ACC             4              2  \n",
       "skgrid_ACC_fbedeBIC_perplatformALL_ACC             4              2  \n",
       "skgrid_ACC_fbedeBIC_perplatformALL_ACC             4              2  \n",
       "skgrid_ACC_fbedeBIC_perplatformALL_ACC             4              2  \n",
       "\n",
       "[130 rows x 35 columns]"
      ]
     },
     "execution_count": 373,
     "metadata": {},
     "output_type": "execute_result"
    }
   ],
   "source": [
    "c_owf1_sk[c_owf1_sk.model.str.contains('ExtraTrees')].sort_values('Mean')"
   ]
  },
  {
   "cell_type": "code",
   "execution_count": null,
   "id": "22204d47-bc7e-46be-90c2-a3e96f9e22be",
   "metadata": {},
   "outputs": [],
   "source": [
    "# combine both grids into single heatmap to normalize colors (?)"
   ]
  },
  {
   "cell_type": "code",
   "execution_count": 159,
   "id": "1a4e1ecc-af6b-40ba-aa78-a6a56fc62d39",
   "metadata": {},
   "outputs": [
    {
     "ename": "NameError",
     "evalue": "name 'c_owf1_sk' is not defined",
     "output_type": "error",
     "traceback": [
      "\u001b[0;31m---------------------------------------------------------------------------\u001b[0m",
      "\u001b[0;31mNameError\u001b[0m                                 Traceback (most recent call last)",
      "Cell \u001b[0;32mIn [159], line 1\u001b[0m\n\u001b[0;32m----> 1\u001b[0m input_to_function \u001b[38;5;241m=\u001b[39m \u001b[43mc_owf1_sk\u001b[49m\n\u001b[1;32m      2\u001b[0m m_lst \u001b[38;5;241m=\u001b[39m []\n\u001b[1;32m      3\u001b[0m \u001b[38;5;28;01mfor\u001b[39;00m m \u001b[38;5;129;01min\u001b[39;00m input_to_function\u001b[38;5;241m.\u001b[39msort_values(\u001b[38;5;124m'\u001b[39m\u001b[38;5;124mMean\u001b[39m\u001b[38;5;124m'\u001b[39m, ascending \u001b[38;5;241m=\u001b[39m \u001b[38;5;28;01mFalse\u001b[39;00m)\u001b[38;5;241m.\u001b[39mmodel:\n",
      "\u001b[0;31mNameError\u001b[0m: name 'c_owf1_sk' is not defined"
     ]
    }
   ],
   "source": [
    "input_to_function = c_owf1_sk\n",
    "m_lst = []\n",
    "for m in input_to_function.sort_values('Mean', ascending = False).model:\n",
    "    m_lst.append(m.split('(')[0])\n",
    "set(m_lst)\n",
    "res_list = [] # *\n",
    "for item in m_lst: \n",
    "    if item not in res_list: \n",
    "        res_list.append(item)\n",
    "# print(file.index.name)\n",
    "res_list"
   ]
  },
  {
   "cell_type": "code",
   "execution_count": 200,
   "id": "f2a14301-6252-4e25-81c2-f6fccf7fac46",
   "metadata": {},
   "outputs": [],
   "source": [
    "feats = pd.read_csv('/Users/karlberb/Documents/work/GDAN_TMP/feature_lists.tsv',\n",
    "                    sep = '\\t', index_col = 0)"
   ]
  },
  {
   "cell_type": "code",
   "execution_count": 245,
   "id": "6a6fa31e-a4be-4d39-a5fb-1c9253aa6a29",
   "metadata": {},
   "outputs": [
    {
     "data": {
      "text/html": [
       "<div>\n",
       "<style scoped>\n",
       "    .dataframe tbody tr th:only-of-type {\n",
       "        vertical-align: middle;\n",
       "    }\n",
       "\n",
       "    .dataframe tbody tr th {\n",
       "        vertical-align: top;\n",
       "    }\n",
       "\n",
       "    .dataframe thead th {\n",
       "        text-align: right;\n",
       "    }\n",
       "</style>\n",
       "<table border=\"1\" class=\"dataframe\">\n",
       "  <thead>\n",
       "    <tr style=\"text-align: right;\">\n",
       "      <th></th>\n",
       "      <th>TCGA_Projects</th>\n",
       "      <th>Features</th>\n",
       "    </tr>\n",
       "    <tr>\n",
       "      <th>Feature_Set_ID</th>\n",
       "      <th></th>\n",
       "      <th></th>\n",
       "    </tr>\n",
       "  </thead>\n",
       "  <tbody>\n",
       "    <tr>\n",
       "      <th>CF_ACC_All_Top_100</th>\n",
       "      <td>ACC</td>\n",
       "      <td>[\"N:GEXP::RERG:85004:\",\"N:METH:cg18873957:NA:N...</td>\n",
       "    </tr>\n",
       "    <tr>\n",
       "      <th>CF_ACC_All_Top_50</th>\n",
       "      <td>ACC</td>\n",
       "      <td>[\"N:GEXP::RERG:85004:\",\"N:METH:cg18873957:NA:N...</td>\n",
       "    </tr>\n",
       "    <tr>\n",
       "      <th>CF_ACC_All_Top_10</th>\n",
       "      <td>ACC</td>\n",
       "      <td>[\"N:GEXP::RERG:85004:\",\"N:METH:cg18873957:NA:N...</td>\n",
       "    </tr>\n",
       "    <tr>\n",
       "      <th>CF_ACC_All_Top_5</th>\n",
       "      <td>ACC</td>\n",
       "      <td>[\"N:GEXP::RERG:85004:\",\"N:METH:cg18873957:NA:N...</td>\n",
       "    </tr>\n",
       "    <tr>\n",
       "      <th>CF_ACC_All_Top_1</th>\n",
       "      <td>ACC</td>\n",
       "      <td>[\"N:GEXP::RERG:85004:\"]</td>\n",
       "    </tr>\n",
       "    <tr>\n",
       "      <th>...</th>\n",
       "      <td>...</td>\n",
       "      <td>...</td>\n",
       "    </tr>\n",
       "    <tr>\n",
       "      <th>jadbio_GEA_MULTIDATATYPE_cumulative_feature_set23</th>\n",
       "      <td>[\"GEA\"]</td>\n",
       "      <td>[\"N:GEXP::MLH1:4292:\",\"N:GEXP::DDX27:55661:\",\"...</td>\n",
       "    </tr>\n",
       "    <tr>\n",
       "      <th>jadbio_GEA_MULTIDATATYPE_cumulative_feature_set24</th>\n",
       "      <td>[\"GEA\"]</td>\n",
       "      <td>[\"N:GEXP::MLH1:4292:\",\"N:GEXP::DDX27:55661:\",\"...</td>\n",
       "    </tr>\n",
       "    <tr>\n",
       "      <th>jadbio_GEA_MULTIDATATYPE_cumulative_feature_set25</th>\n",
       "      <td>[\"GEA\"]</td>\n",
       "      <td>[\"N:GEXP::MLH1:4292:\",\"N:GEXP::DDX27:55661:\",\"...</td>\n",
       "    </tr>\n",
       "    <tr>\n",
       "      <th>jadbio_GEA_METH_feature_set1</th>\n",
       "      <td>[\"GEA\"]</td>\n",
       "      <td>[\"N:METH:cg23764381:ATRNL1:TssU438:Island\",\"N:...</td>\n",
       "    </tr>\n",
       "    <tr>\n",
       "      <th>jadbio_GEA_METH_feature_set2</th>\n",
       "      <td>[\"GEA\"]</td>\n",
       "      <td>[\"N:METH:cg00554682:ZNF804A:TssD38:Island\",\"N:...</td>\n",
       "    </tr>\n",
       "  </tbody>\n",
       "</table>\n",
       "<p>6730 rows × 2 columns</p>\n",
       "</div>"
      ],
      "text/plain": [
       "                                                  TCGA_Projects  \\\n",
       "Feature_Set_ID                                                    \n",
       "CF_ACC_All_Top_100                                          ACC   \n",
       "CF_ACC_All_Top_50                                           ACC   \n",
       "CF_ACC_All_Top_10                                           ACC   \n",
       "CF_ACC_All_Top_5                                            ACC   \n",
       "CF_ACC_All_Top_1                                            ACC   \n",
       "...                                                         ...   \n",
       "jadbio_GEA_MULTIDATATYPE_cumulative_feature_set23       [\"GEA\"]   \n",
       "jadbio_GEA_MULTIDATATYPE_cumulative_feature_set24       [\"GEA\"]   \n",
       "jadbio_GEA_MULTIDATATYPE_cumulative_feature_set25       [\"GEA\"]   \n",
       "jadbio_GEA_METH_feature_set1                            [\"GEA\"]   \n",
       "jadbio_GEA_METH_feature_set2                            [\"GEA\"]   \n",
       "\n",
       "                                                                                            Features  \n",
       "Feature_Set_ID                                                                                        \n",
       "CF_ACC_All_Top_100                                 [\"N:GEXP::RERG:85004:\",\"N:METH:cg18873957:NA:N...  \n",
       "CF_ACC_All_Top_50                                  [\"N:GEXP::RERG:85004:\",\"N:METH:cg18873957:NA:N...  \n",
       "CF_ACC_All_Top_10                                  [\"N:GEXP::RERG:85004:\",\"N:METH:cg18873957:NA:N...  \n",
       "CF_ACC_All_Top_5                                   [\"N:GEXP::RERG:85004:\",\"N:METH:cg18873957:NA:N...  \n",
       "CF_ACC_All_Top_1                                                             [\"N:GEXP::RERG:85004:\"]  \n",
       "...                                                                                              ...  \n",
       "jadbio_GEA_MULTIDATATYPE_cumulative_feature_set23  [\"N:GEXP::MLH1:4292:\",\"N:GEXP::DDX27:55661:\",\"...  \n",
       "jadbio_GEA_MULTIDATATYPE_cumulative_feature_set24  [\"N:GEXP::MLH1:4292:\",\"N:GEXP::DDX27:55661:\",\"...  \n",
       "jadbio_GEA_MULTIDATATYPE_cumulative_feature_set25  [\"N:GEXP::MLH1:4292:\",\"N:GEXP::DDX27:55661:\",\"...  \n",
       "jadbio_GEA_METH_feature_set1                       [\"N:METH:cg23764381:ATRNL1:TssU438:Island\",\"N:...  \n",
       "jadbio_GEA_METH_feature_set2                       [\"N:METH:cg00554682:ZNF804A:TssD38:Island\",\"N:...  \n",
       "\n",
       "[6730 rows x 2 columns]"
      ]
     },
     "execution_count": 245,
     "metadata": {},
     "output_type": "execute_result"
    }
   ],
   "source": [
    "feats"
   ]
  },
  {
   "cell_type": "code",
   "execution_count": 204,
   "id": "7ce0df8c-7f61-49d2-8f35-4e2079df411b",
   "metadata": {},
   "outputs": [
    {
     "data": {
      "text/plain": [
       "array(['ACC', 'BLCA', 'BRCA', 'CESC', 'COADREAD', 'ESCC', 'GEA', 'HNSC',\n",
       "       'KIRCKICH', 'KIRP', 'LGGGBM', 'LIHCCHOL', 'LUAD', 'LUSC', 'MESO',\n",
       "       'OV', 'PAAD', 'PCPG', 'PRAD', 'SARC', 'SKCM', 'TGCT', 'THCA',\n",
       "       'THYM', 'UCEC', 'UVM', '[\"BLCA\"]', '[\"BRCA\"]', '[\"CESC\"]',\n",
       "       '[\"COADREAD\"]', '[\"ESCC\"]', '[\"GEA\"]', '[\"HNSC\"]', '[\"KIRCKICH\"]',\n",
       "       '[\"KIRP\"]', '[\"LGGGBM\"]', '[\"LUAD\"]', '[\"LUSC\"]', '[\"MESO\"]',\n",
       "       '[\"OV\"]', '[\"PAAD\"]', '[\"PCPG\"]', '[\"PRAD\"]', '[\"SARC\"]',\n",
       "       '[\"SKCM\"]', '[\"TGCT\"]', '[\"THCA\"]', '[\"THYM\"]', '[\"UCEC\"]',\n",
       "       '[\"LIHCCHOL\"]', '[\"ACC\"]', '[\"UVM\"]'], dtype=object)"
      ]
     },
     "execution_count": 204,
     "metadata": {},
     "output_type": "execute_result"
    }
   ],
   "source": [
    "feats.TCGA_Projects.unique()"
   ]
  },
  {
   "cell_type": "code",
   "execution_count": 247,
   "id": "11d702cf-9b95-44e8-a882-797dfa37ba6b",
   "metadata": {},
   "outputs": [
    {
     "data": {
      "text/html": [
       "<div>\n",
       "<style scoped>\n",
       "    .dataframe tbody tr th:only-of-type {\n",
       "        vertical-align: middle;\n",
       "    }\n",
       "\n",
       "    .dataframe tbody tr th {\n",
       "        vertical-align: top;\n",
       "    }\n",
       "\n",
       "    .dataframe thead th {\n",
       "        text-align: right;\n",
       "    }\n",
       "</style>\n",
       "<table border=\"1\" class=\"dataframe\">\n",
       "  <thead>\n",
       "    <tr style=\"text-align: right;\">\n",
       "      <th></th>\n",
       "      <th>TCGA_Projects</th>\n",
       "      <th>Features</th>\n",
       "    </tr>\n",
       "    <tr>\n",
       "      <th>Feature_Set_ID</th>\n",
       "      <th></th>\n",
       "      <th></th>\n",
       "    </tr>\n",
       "  </thead>\n",
       "  <tbody>\n",
       "    <tr>\n",
       "      <th>skgrid_BRCA_fbedeBIC_perplatformGEXP</th>\n",
       "      <td>[\"BRCA\"]</td>\n",
       "      <td>[\"N:GEXP::FOXC1:2296:\",\"N:GEXP::CENPA:1058:\",\"...</td>\n",
       "    </tr>\n",
       "  </tbody>\n",
       "</table>\n",
       "</div>"
      ],
      "text/plain": [
       "                                     TCGA_Projects  \\\n",
       "Feature_Set_ID                                       \n",
       "skgrid_BRCA_fbedeBIC_perplatformGEXP      [\"BRCA\"]   \n",
       "\n",
       "                                                                               Features  \n",
       "Feature_Set_ID                                                                           \n",
       "skgrid_BRCA_fbedeBIC_perplatformGEXP  [\"N:GEXP::FOXC1:2296:\",\"N:GEXP::CENPA:1058:\",\"...  "
      ]
     },
     "execution_count": 247,
     "metadata": {},
     "output_type": "execute_result"
    }
   ],
   "source": [
    "feats[feats.index == 'skgrid_BRCA_fbedeBIC_perplatformGEXP'] # * fall back"
   ]
  },
  {
   "cell_type": "markdown",
   "id": "fc75f935-ef66-4431-9207-879751663c6e",
   "metadata": {
    "jp-MarkdownHeadingCollapsed": true,
    "tags": []
   },
   "source": [
    "### Tuned-model heatmap"
   ]
  },
  {
   "cell_type": "code",
   "execution_count": null,
   "id": "413aaec0-74c5-495c-8c55-d7a01e00ff69",
   "metadata": {},
   "outputs": [],
   "source": [
    "# Big results matrix feature set notes:\n",
    "\n",
    "    # Extra Trees (ACC)\n",
    "    # Logistic (LGGGBM)"
   ]
  },
  {
   "cell_type": "markdown",
   "id": "75475e7b-66b6-4897-ade9-45fda0399aa1",
   "metadata": {
    "tags": []
   },
   "source": [
    "### Feature set production"
   ]
  },
  {
   "cell_type": "markdown",
   "id": "48728ffe-7a24-496d-83ed-35b6966ef7b8",
   "metadata": {
    "jp-MarkdownHeadingCollapsed": true,
    "tags": []
   },
   "source": [
    "#### Produce GEXP file set"
   ]
  },
  {
   "cell_type": "code",
   "execution_count": null,
   "id": "38ef8f12-b6c1-43c6-9737-f6d94caa228d",
   "metadata": {},
   "outputs": [],
   "source": [
    "all_paths = sorted(glob.glob('/Users/karlberb/Documents/work/GDAN_TMP/TMP_v12_20210228/*.tsv'))\n",
    "cv_folds = (\n",
    "    glob.glob(\n",
    "        '/Users/karlberb/Documents/work/GDAN_TMP/TMP_v12_20210228/*CVfolds_5FOLD*.tsv'))"
   ]
  },
  {
   "cell_type": "code",
   "execution_count": null,
   "id": "41cb90cc-cd4c-4156-80ce-474e26f09fe4",
   "metadata": {},
   "outputs": [],
   "source": [
    "df = pd.read_csv(\n",
    "    '/Users/karlberb/Documents/work/GDAN_TMP/TMP_v12_20210228/ACC_v12_20210228.tsv',\n",
    "    sep=\"\\t\", index_col=0)\n",
    "col_ndx = df.columns[1:]\n",
    "first_two = []\n",
    "for i in col_ndx:\n",
    "    plc_one_two = i.split(':')\n",
    "    first_two.append(plc_one_two[0] + ':' + plc_one_two[1])\n",
    "datatype_prefixes = list(set(first_two))"
   ]
  },
  {
   "cell_type": "code",
   "execution_count": null,
   "id": "6d0a5121-044b-46c7-8a25-729c2b4d5604",
   "metadata": {},
   "outputs": [],
   "source": [
    "datatype_prefixes"
   ]
  },
  {
   "cell_type": "code",
   "execution_count": null,
   "id": "56ddf283-b16d-4475-9716-142c77b8a2f4",
   "metadata": {},
   "outputs": [],
   "source": [
    "['B:MUTA', 'N:METH', 'N:GEXP', 'I:CNVR', 'N:MIR']"
   ]
  },
  {
   "cell_type": "code",
   "execution_count": null,
   "id": "133a6fd9-51b6-450e-823e-efed1e2f501d",
   "metadata": {},
   "outputs": [],
   "source": [
    "# GEXP production, extract gene expression from the v12 TMP molecular files \n",
    "for pth in molecular_files:\n",
    "    file = pd.read_csv(pth,\n",
    "        sep=\"\\t\", index_col=0)\n",
    "    col_ndx = file.columns[1:]\n",
    "    dtyp_list = [i for i in col_ndx if i.startswith(datatype_prefixes[2])]\n",
    "    print(file.index.name, len(dtyp_list))\n",
    "    dtyp_list = ['Labels'] + dtyp_list\n",
    "    file = file.loc[:, dtyp_list]\n",
    "    file.to_csv('i_o/GEXP/' +\n",
    "                file.index.name + '_GEXP.tsv', sep = '\\t')"
   ]
  },
  {
   "cell_type": "code",
   "execution_count": 67,
   "id": "3068b6c2-3912-4ebb-a519-6c7dc5ce35c0",
   "metadata": {},
   "outputs": [
    {
     "name": "stdout",
     "output_type": "stream",
     "text": [
      "GEXP/ACC_GEXP.tsv\n"
     ]
    }
   ],
   "source": [
    "# Read a gexp-only file, this is input to the intersection function and the within-cohort MAD functions\n",
    "for g_path in sorted(glob.glob('GEXP/*.tsv')):    \n",
    "    print(g_path)\n",
    "    g_file = pd.read_csv(g_path, sep ='\\t', index_col = 0)\n",
    "    break"
   ]
  },
  {
   "cell_type": "raw",
   "id": "5d5ec8f9-33ca-432e-be97-53320455daa1",
   "metadata": {},
   "source": [
    "GEXP_MAD_5k_across - from the GEXP_intersection files\n",
    "GEXP_MAD_5k_across_no_LGGGBM - from the GEXP_intersection_no_LGGGBM files"
   ]
  },
  {
   "cell_type": "code",
   "execution_count": null,
   "id": "63fc38b1-a7d4-4bbb-924b-fb3f02e42168",
   "metadata": {},
   "outputs": [],
   "source": [
    "# across features from the intersection folder\n",
    "# within fetures direct from the GEXP folder"
   ]
  },
  {
   "cell_type": "markdown",
   "id": "d03111cb-dd54-4a42-b730-5850b455197f",
   "metadata": {
    "jp-MarkdownHeadingCollapsed": true,
    "tags": []
   },
   "source": [
    "#### GEXP_intersection"
   ]
  },
  {
   "cell_type": "code",
   "execution_count": null,
   "id": "25babfbe-ec98-4efb-984d-cd3b5e84306c",
   "metadata": {},
   "outputs": [],
   "source": [
    "# Including LGGGBM yields ~12k common gexp features across n = 26 TCGA cohorts"
   ]
  },
  {
   "cell_type": "code",
   "execution_count": 107,
   "id": "46ff2843-01de-4803-a292-42b67787e086",
   "metadata": {
    "collapsed": true,
    "jupyter": {
     "outputs_hidden": true
    },
    "tags": []
   },
   "outputs": [
    {
     "name": "stdout",
     "output_type": "stream",
     "text": [
      "GEXP/ACC_GEXP.tsv\n",
      "GEXP/BLCA_GEXP.tsv\n",
      "GEXP/BRCA_GEXP.tsv\n",
      "GEXP/CESC_GEXP.tsv\n",
      "GEXP/COADREAD_GEXP.tsv\n",
      "GEXP/ESCC_GEXP.tsv\n",
      "GEXP/GEA_GEXP.tsv\n",
      "GEXP/HNSC_GEXP.tsv\n",
      "GEXP/KIRCKICH_GEXP.tsv\n",
      "GEXP/KIRP_GEXP.tsv\n",
      "GEXP/LGGGBM_GEXP.tsv\n",
      "GEXP/LIHCCHOL_GEXP.tsv\n",
      "GEXP/LUAD_GEXP.tsv\n",
      "GEXP/LUSC_GEXP.tsv\n",
      "GEXP/MESO_GEXP.tsv\n",
      "GEXP/OV_GEXP.tsv\n",
      "GEXP/PAAD_GEXP.tsv\n",
      "GEXP/PCPG_GEXP.tsv\n",
      "GEXP/PRAD_GEXP.tsv\n",
      "GEXP/SARC_GEXP.tsv\n",
      "GEXP/SKCM_GEXP.tsv\n",
      "GEXP/TGCT_GEXP.tsv\n",
      "GEXP/THCA_GEXP.tsv\n",
      "GEXP/THYM_GEXP.tsv\n",
      "GEXP/UCEC_GEXP.tsv\n",
      "GEXP/UVM_GEXP.tsv\n"
     ]
    }
   ],
   "source": [
    "# gexp_cols = [] # Get intersection of GEXP across TCGA\n",
    "feat_lists = {}\n",
    "\n",
    "lol_inline = []\n",
    "for gexp_path in sorted(glob.glob('GEXP/*.tsv')):\n",
    "    print(gexp_path)\n",
    "    gexp_file = pd.read_csv(gexp_path, sep = '\\t', index_col = 0)\n",
    "    # feat_lists[gexp_file.index.name] = gexp_file.columns[1:]\n",
    "    \n",
    "    lol_inline.append(gexp_file.columns[1:])\n",
    "    \n",
    "intrsct = set.intersection(*map(set,lol_inline))\n",
    "    \n",
    "# lol = []\n",
    "# for i in feat_lists:\n",
    "#     print(i)\n",
    "#     lol.append(list(feat_lists[i]))    \n",
    "    \n",
    "    \n",
    "    # cols_n = list(gexp_file.columns[1:])\n",
    "    # gexp_cols = gexp_cols + list(gexp_file.columns[1:])"
   ]
  },
  {
   "cell_type": "code",
   "execution_count": 109,
   "id": "011c41a1-23a9-4432-95b0-ff0441293ed4",
   "metadata": {},
   "outputs": [
    {
     "data": {
      "text/plain": [
       "12339"
      ]
     },
     "execution_count": 109,
     "metadata": {},
     "output_type": "execute_result"
    }
   ],
   "source": [
    "len(intrsct)"
   ]
  },
  {
   "cell_type": "code",
   "execution_count": 112,
   "id": "27ef3da8-9f1a-426c-b7a6-5852daf45239",
   "metadata": {},
   "outputs": [],
   "source": [
    "ntrsct_list = list(intrsct) # Convert intersection dict to list"
   ]
  },
  {
   "cell_type": "code",
   "execution_count": null,
   "id": "3337bced-e49e-45ac-bc91-6e16d120f5eb",
   "metadata": {},
   "outputs": [],
   "source": [
    "lbld_ntrsct_list = ['Labels'] + ntrsct_list # Add labels column to intersection list for extraction"
   ]
  },
  {
   "cell_type": "code",
   "execution_count": 120,
   "id": "d3da329f-301e-4829-b7e3-7506c5ac656c",
   "metadata": {},
   "outputs": [
    {
     "name": "stdout",
     "output_type": "stream",
     "text": [
      "\u001b[34mACC_archive\u001b[m\u001b[m/                  \u001b[34mdim10\u001b[m\u001b[m/\n",
      "\u001b[34mGEXP\u001b[m\u001b[m/                         \u001b[34mdim100_run0\u001b[m\u001b[m/\n",
      "\u001b[34mGEXP_MAD_5k_across\u001b[m\u001b[m/           \u001b[34mfigure_five\u001b[m\u001b[m/\n",
      "\u001b[34mGEXP_MAD_5k_across_no_LGGGBM\u001b[m\u001b[m/ \u001b[34mlatent feature inspect\u001b[m\u001b[m/\n",
      "\u001b[34mGEXP_MAD_5k_within\u001b[m\u001b[m/           \u001b[34mlatent_feature_objects\u001b[m\u001b[m/\n",
      "\u001b[34mGEXP_intersection\u001b[m\u001b[m/            \u001b[34mlearning_curves\u001b[m\u001b[m/\n",
      "\u001b[34mGEXP_intersection_no_LGGGBM\u001b[m\u001b[m/  \u001b[34mloss_plots\u001b[m\u001b[m/\n",
      "\u001b[34mPDF_out\u001b[m\u001b[m/                      ops_notes.txt\n",
      "box_and_whiskers.ipynb        \u001b[34mshuffle\u001b[m\u001b[m/\n",
      "\u001b[34mdecoded\u001b[m\u001b[m/                      \u001b[34mstandard_deviation_plots\u001b[m\u001b[m/\n"
     ]
    }
   ],
   "source": [
    "ls # GEXP_intersection/ is the target here"
   ]
  },
  {
   "cell_type": "code",
   "execution_count": 123,
   "id": "6287c712-40b1-4ccb-80f1-9fe91d98c4cb",
   "metadata": {},
   "outputs": [
    {
     "data": {
      "text/plain": [
       "'ACC'"
      ]
     },
     "execution_count": 123,
     "metadata": {},
     "output_type": "execute_result"
    }
   ],
   "source": [
    "gexp_file.index.name"
   ]
  },
  {
   "cell_type": "code",
   "execution_count": null,
   "id": "ab4b0dc8-0052-4ff4-aaa3-9addbfb8e2c8",
   "metadata": {},
   "outputs": [],
   "source": [
    "# Write across-TCGA intersection files\n",
    "for gexp_path in sorted(glob.glob('GEXP/*.tsv')):\n",
    "    print(gexp_path)\n",
    "    gexp_file = pd.read_csv(gexp_path, sep = '\\t', index_col = 0)\n",
    "    intrsct_gexp_file = gexp_file.loc[:, lbld_ntrsct_list]\n",
    "    intrsct_gexp_file.to_csv('GEXP_intersection/' +\n",
    "                gexp_file.index.name + '_GEXP_intrsct.tsv', sep = '\\t')    \n",
    "    # break"
   ]
  },
  {
   "cell_type": "code",
   "execution_count": 8,
   "id": "2092d634-f901-4bf7-b95a-d5e509ef58c9",
   "metadata": {},
   "outputs": [],
   "source": [
    "check_file = pd.read_csv('i_o/GEXP_intersection/BRCA_GEXP_intrsct.tsv',\n",
    "                         sep = '\\t',\n",
    "                         index_col = 0)"
   ]
  },
  {
   "cell_type": "code",
   "execution_count": 10,
   "id": "3bf1dcf9-bf34-47d3-b4f2-3d2a75316391",
   "metadata": {},
   "outputs": [
    {
     "data": {
      "text/plain": [
       "(995, 12340)"
      ]
     },
     "execution_count": 10,
     "metadata": {},
     "output_type": "execute_result"
    }
   ],
   "source": [
    "check_file.shape"
   ]
  },
  {
   "cell_type": "code",
   "execution_count": 9,
   "id": "145d67db-899e-4937-8865-2b5b93c9e87f",
   "metadata": {},
   "outputs": [
    {
     "data": {
      "text/html": [
       "<div>\n",
       "<style scoped>\n",
       "    .dataframe tbody tr th:only-of-type {\n",
       "        vertical-align: middle;\n",
       "    }\n",
       "\n",
       "    .dataframe tbody tr th {\n",
       "        vertical-align: top;\n",
       "    }\n",
       "\n",
       "    .dataframe thead th {\n",
       "        text-align: right;\n",
       "    }\n",
       "</style>\n",
       "<table border=\"1\" class=\"dataframe\">\n",
       "  <thead>\n",
       "    <tr style=\"text-align: right;\">\n",
       "      <th></th>\n",
       "      <th>Labels</th>\n",
       "      <th>N:GEXP::C6orf170:221322:</th>\n",
       "      <th>N:GEXP::MTHFD2:10797:</th>\n",
       "      <th>N:GEXP::ATXN2L:11273:</th>\n",
       "      <th>N:GEXP::ZNF396:252884:</th>\n",
       "      <th>N:GEXP::BDH2:56898:</th>\n",
       "      <th>N:GEXP::DAG1:1605:</th>\n",
       "      <th>N:GEXP::PCDH12:51294:</th>\n",
       "      <th>N:GEXP::SLC20A2:6575:</th>\n",
       "      <th>N:GEXP::APAF1:317:</th>\n",
       "      <th>...</th>\n",
       "      <th>N:GEXP::XYLB:9942:</th>\n",
       "      <th>N:GEXP::ZNF671:79891:</th>\n",
       "      <th>N:GEXP::CCDC69:26112:</th>\n",
       "      <th>N:GEXP::DOK6:220164:</th>\n",
       "      <th>N:GEXP::PAPOLG:64895:</th>\n",
       "      <th>N:GEXP::KIAA1522:57648:</th>\n",
       "      <th>N:GEXP::TM2D1:83941:</th>\n",
       "      <th>N:GEXP::CNNM3:26505:</th>\n",
       "      <th>N:GEXP::DNAJC14:85406:</th>\n",
       "      <th>N:GEXP::ARHGEF10L:55160:</th>\n",
       "    </tr>\n",
       "    <tr>\n",
       "      <th>BRCA</th>\n",
       "      <th></th>\n",
       "      <th></th>\n",
       "      <th></th>\n",
       "      <th></th>\n",
       "      <th></th>\n",
       "      <th></th>\n",
       "      <th></th>\n",
       "      <th></th>\n",
       "      <th></th>\n",
       "      <th></th>\n",
       "      <th></th>\n",
       "      <th></th>\n",
       "      <th></th>\n",
       "      <th></th>\n",
       "      <th></th>\n",
       "      <th></th>\n",
       "      <th></th>\n",
       "      <th></th>\n",
       "      <th></th>\n",
       "      <th></th>\n",
       "      <th></th>\n",
       "    </tr>\n",
       "  </thead>\n",
       "  <tbody>\n",
       "    <tr>\n",
       "      <th>TCGA-3C-AAAU</th>\n",
       "      <td>BRCA_1</td>\n",
       "      <td>68.587</td>\n",
       "      <td>1255.2</td>\n",
       "      <td>3806.1</td>\n",
       "      <td>214.03</td>\n",
       "      <td>77.893</td>\n",
       "      <td>6362.8</td>\n",
       "      <td>325.7</td>\n",
       "      <td>703.79</td>\n",
       "      <td>430.82</td>\n",
       "      <td>...</td>\n",
       "      <td>259.87</td>\n",
       "      <td>300.89</td>\n",
       "      <td>386.36</td>\n",
       "      <td>21.024</td>\n",
       "      <td>218.17</td>\n",
       "      <td>9762.8</td>\n",
       "      <td>381.19</td>\n",
       "      <td>969.52</td>\n",
       "      <td>1056.0</td>\n",
       "      <td>1418.6</td>\n",
       "    </tr>\n",
       "  </tbody>\n",
       "</table>\n",
       "<p>1 rows × 12340 columns</p>\n",
       "</div>"
      ],
      "text/plain": [
       "              Labels  N:GEXP::C6orf170:221322:  N:GEXP::MTHFD2:10797:  \\\n",
       "BRCA                                                                    \n",
       "TCGA-3C-AAAU  BRCA_1                    68.587                 1255.2   \n",
       "\n",
       "              N:GEXP::ATXN2L:11273:  N:GEXP::ZNF396:252884:  \\\n",
       "BRCA                                                          \n",
       "TCGA-3C-AAAU                 3806.1                  214.03   \n",
       "\n",
       "              N:GEXP::BDH2:56898:  N:GEXP::DAG1:1605:  N:GEXP::PCDH12:51294:  \\\n",
       "BRCA                                                                           \n",
       "TCGA-3C-AAAU               77.893              6362.8                  325.7   \n",
       "\n",
       "              N:GEXP::SLC20A2:6575:  N:GEXP::APAF1:317:  ...  \\\n",
       "BRCA                                                     ...   \n",
       "TCGA-3C-AAAU                 703.79              430.82  ...   \n",
       "\n",
       "              N:GEXP::XYLB:9942:  N:GEXP::ZNF671:79891:  \\\n",
       "BRCA                                                      \n",
       "TCGA-3C-AAAU              259.87                 300.89   \n",
       "\n",
       "              N:GEXP::CCDC69:26112:  N:GEXP::DOK6:220164:  \\\n",
       "BRCA                                                        \n",
       "TCGA-3C-AAAU                 386.36                21.024   \n",
       "\n",
       "              N:GEXP::PAPOLG:64895:  N:GEXP::KIAA1522:57648:  \\\n",
       "BRCA                                                           \n",
       "TCGA-3C-AAAU                 218.17                   9762.8   \n",
       "\n",
       "              N:GEXP::TM2D1:83941:  N:GEXP::CNNM3:26505:  \\\n",
       "BRCA                                                       \n",
       "TCGA-3C-AAAU                381.19                969.52   \n",
       "\n",
       "              N:GEXP::DNAJC14:85406:  N:GEXP::ARHGEF10L:55160:  \n",
       "BRCA                                                            \n",
       "TCGA-3C-AAAU                  1056.0                    1418.6  \n",
       "\n",
       "[1 rows x 12340 columns]"
      ]
     },
     "execution_count": 9,
     "metadata": {},
     "output_type": "execute_result"
    }
   ],
   "source": [
    "check_file.head(1)"
   ]
  },
  {
   "cell_type": "markdown",
   "id": "4b8bcad4-e1d5-47ef-b8f4-bb676d6fddbb",
   "metadata": {
    "jp-MarkdownHeadingCollapsed": true,
    "tags": []
   },
   "source": [
    "#### GEXP_intersection no LGGGBM "
   ]
  },
  {
   "cell_type": "code",
   "execution_count": null,
   "id": "4a31bcd2-3e7d-467e-98ca-926613cca081",
   "metadata": {},
   "outputs": [],
   "source": [
    "sorted(glob.glob('i_o/GEXP/*.tsv'))"
   ]
  },
  {
   "cell_type": "code",
   "execution_count": null,
   "id": "1f7c1893-8070-4534-81d9-1cdaf6402942",
   "metadata": {},
   "outputs": [],
   "source": [
    "no_LGGGBM = ['GEXP/ACC_GEXP.tsv', # copy and paste, manully cut LGGGBM path\n",
    " 'GEXP/BLCA_GEXP.tsv',\n",
    " 'GEXP/BRCA_GEXP.tsv',\n",
    " 'GEXP/CESC_GEXP.tsv',\n",
    " 'GEXP/COADREAD_GEXP.tsv',\n",
    " 'GEXP/ESCC_GEXP.tsv',\n",
    " 'GEXP/GEA_GEXP.tsv',\n",
    " 'GEXP/HNSC_GEXP.tsv',\n",
    " 'GEXP/KIRCKICH_GEXP.tsv',\n",
    " 'GEXP/KIRP_GEXP.tsv',\n",
    " # 'GEXP/LGGGBM_GEXP.tsv',\n",
    " 'GEXP/LIHCCHOL_GEXP.tsv',\n",
    " 'GEXP/LUAD_GEXP.tsv',\n",
    " 'GEXP/LUSC_GEXP.tsv',\n",
    " 'GEXP/MESO_GEXP.tsv',\n",
    " 'GEXP/OV_GEXP.tsv',\n",
    " 'GEXP/PAAD_GEXP.tsv',\n",
    " 'GEXP/PCPG_GEXP.tsv',\n",
    " 'GEXP/PRAD_GEXP.tsv',\n",
    " 'GEXP/SARC_GEXP.tsv',\n",
    " 'GEXP/SKCM_GEXP.tsv',\n",
    " 'GEXP/TGCT_GEXP.tsv',\n",
    " 'GEXP/THCA_GEXP.tsv',\n",
    " 'GEXP/THYM_GEXP.tsv',\n",
    " 'GEXP/UCEC_GEXP.tsv',\n",
    " 'GEXP/UVM_GEXP.tsv']"
   ]
  },
  {
   "cell_type": "code",
   "execution_count": 129,
   "id": "632411e2-9570-45c3-a0ba-52b75905774f",
   "metadata": {},
   "outputs": [
    {
     "name": "stdout",
     "output_type": "stream",
     "text": [
      "GEXP/ACC_GEXP.tsv\n",
      "GEXP/BLCA_GEXP.tsv\n",
      "GEXP/BRCA_GEXP.tsv\n",
      "GEXP/CESC_GEXP.tsv\n",
      "GEXP/COADREAD_GEXP.tsv\n",
      "GEXP/ESCC_GEXP.tsv\n",
      "GEXP/GEA_GEXP.tsv\n",
      "GEXP/HNSC_GEXP.tsv\n",
      "GEXP/KIRCKICH_GEXP.tsv\n",
      "GEXP/KIRP_GEXP.tsv\n",
      "GEXP/LIHCCHOL_GEXP.tsv\n",
      "GEXP/LUAD_GEXP.tsv\n",
      "GEXP/LUSC_GEXP.tsv\n",
      "GEXP/MESO_GEXP.tsv\n",
      "GEXP/OV_GEXP.tsv\n",
      "GEXP/PAAD_GEXP.tsv\n",
      "GEXP/PCPG_GEXP.tsv\n",
      "GEXP/PRAD_GEXP.tsv\n",
      "GEXP/SARC_GEXP.tsv\n",
      "GEXP/SKCM_GEXP.tsv\n",
      "GEXP/TGCT_GEXP.tsv\n",
      "GEXP/THCA_GEXP.tsv\n",
      "GEXP/THYM_GEXP.tsv\n",
      "GEXP/UCEC_GEXP.tsv\n",
      "GEXP/UVM_GEXP.tsv\n"
     ]
    }
   ],
   "source": [
    "no_LG_lol_inline = [] # No LGGGBM\n",
    "for gexp_path in no_LGGGBM:\n",
    "    print(gexp_path)\n",
    "    gexp_file = pd.read_csv(gexp_path, sep = '\\t', index_col = 0)\n",
    "    no_LG_lol_inline.append(gexp_file.columns[1:])\n",
    "intrsct = set.intersection(*map(set,no_LG_lol_inline))"
   ]
  },
  {
   "cell_type": "code",
   "execution_count": 134,
   "id": "98ac75a6-69bd-420b-8041-8192fde5f495",
   "metadata": {},
   "outputs": [
    {
     "data": {
      "text/plain": [
       "17176"
      ]
     },
     "execution_count": 134,
     "metadata": {},
     "output_type": "execute_result"
    }
   ],
   "source": [
    "len(intrsct)"
   ]
  },
  {
   "cell_type": "code",
   "execution_count": 135,
   "id": "5d54186a-8086-4018-9cc4-602f1c80ae48",
   "metadata": {},
   "outputs": [],
   "source": [
    "ntrsct_list = list(intrsct)\n",
    "lbld_ntrsct_list = ['Labels'] + ntrsct_list"
   ]
  },
  {
   "cell_type": "code",
   "execution_count": 136,
   "id": "eb642cd2-f50f-4159-a2bd-0786adde9dc3",
   "metadata": {},
   "outputs": [
    {
     "name": "stdout",
     "output_type": "stream",
     "text": [
      "GEXP/ACC_GEXP.tsv\n",
      "GEXP/BLCA_GEXP.tsv\n",
      "GEXP/BRCA_GEXP.tsv\n",
      "GEXP/CESC_GEXP.tsv\n",
      "GEXP/COADREAD_GEXP.tsv\n",
      "GEXP/ESCC_GEXP.tsv\n",
      "GEXP/GEA_GEXP.tsv\n",
      "GEXP/HNSC_GEXP.tsv\n",
      "GEXP/KIRCKICH_GEXP.tsv\n",
      "GEXP/KIRP_GEXP.tsv\n",
      "GEXP/LIHCCHOL_GEXP.tsv\n",
      "GEXP/LUAD_GEXP.tsv\n",
      "GEXP/LUSC_GEXP.tsv\n",
      "GEXP/MESO_GEXP.tsv\n",
      "GEXP/OV_GEXP.tsv\n",
      "GEXP/PAAD_GEXP.tsv\n",
      "GEXP/PCPG_GEXP.tsv\n",
      "GEXP/PRAD_GEXP.tsv\n",
      "GEXP/SARC_GEXP.tsv\n",
      "GEXP/SKCM_GEXP.tsv\n",
      "GEXP/TGCT_GEXP.tsv\n",
      "GEXP/THCA_GEXP.tsv\n",
      "GEXP/THYM_GEXP.tsv\n",
      "GEXP/UCEC_GEXP.tsv\n",
      "GEXP/UVM_GEXP.tsv\n"
     ]
    }
   ],
   "source": [
    "# Write no LGGGBM across-TCGA intersection files\n",
    "for gexp_path in no_LGGGBM:\n",
    "    print(gexp_path)\n",
    "    gexp_file = pd.read_csv(gexp_path, sep = '\\t', index_col = 0)\n",
    "    intrsct_gexp_file = gexp_file.loc[:, lbld_ntrsct_list]\n",
    "    intrsct_gexp_file.to_csv('GEXP_intersection_no_LGGGBM/' +\n",
    "                gexp_file.index.name + '_GEXP_intrsct_no_LGGGBM.tsv', sep = '\\t')    \n",
    "    # break"
   ]
  },
  {
   "cell_type": "code",
   "execution_count": 55,
   "id": "91ad398b-3a5c-41d3-9bad-b77b2579267a",
   "metadata": {},
   "outputs": [],
   "source": [
    "check_file = pd.read_csv('i_o/GEXP_intersection_no_LGGGBM/BRCA_GEXP_intrsct_no_LGGGBM.tsv', sep = '\\t')"
   ]
  },
  {
   "cell_type": "code",
   "execution_count": 15,
   "id": "fb72ab91-7859-4f5a-ab31-6b13650099eb",
   "metadata": {},
   "outputs": [
    {
     "data": {
      "text/plain": [
       "(995, 17178)"
      ]
     },
     "execution_count": 15,
     "metadata": {},
     "output_type": "execute_result"
    }
   ],
   "source": [
    "check_file.shape"
   ]
  },
  {
   "cell_type": "code",
   "execution_count": 56,
   "id": "3a44f72e-8244-40c0-a353-7c5a50236bd7",
   "metadata": {},
   "outputs": [
    {
     "data": {
      "text/html": [
       "<div>\n",
       "<style scoped>\n",
       "    .dataframe tbody tr th:only-of-type {\n",
       "        vertical-align: middle;\n",
       "    }\n",
       "\n",
       "    .dataframe tbody tr th {\n",
       "        vertical-align: top;\n",
       "    }\n",
       "\n",
       "    .dataframe thead th {\n",
       "        text-align: right;\n",
       "    }\n",
       "</style>\n",
       "<table border=\"1\" class=\"dataframe\">\n",
       "  <thead>\n",
       "    <tr style=\"text-align: right;\">\n",
       "      <th></th>\n",
       "      <th>BRCA</th>\n",
       "      <th>Labels</th>\n",
       "      <th>N:GEXP::C6orf170:221322:</th>\n",
       "      <th>N:GEXP::MTHFD2:10797:</th>\n",
       "      <th>N:GEXP::ATXN2L:11273:</th>\n",
       "      <th>N:GEXP::ZNF396:252884:</th>\n",
       "      <th>N:GEXP::BDH2:56898:</th>\n",
       "      <th>N:GEXP::DAG1:1605:</th>\n",
       "      <th>N:GEXP::PCDH12:51294:</th>\n",
       "      <th>N:GEXP::SLC20A2:6575:</th>\n",
       "      <th>...</th>\n",
       "      <th>N:GEXP::ZNF671:79891:</th>\n",
       "      <th>N:GEXP::CCDC69:26112:</th>\n",
       "      <th>N:GEXP::LDLRAD1:388633:</th>\n",
       "      <th>N:GEXP::DOK6:220164:</th>\n",
       "      <th>N:GEXP::PAPOLG:64895:</th>\n",
       "      <th>N:GEXP::KIAA1522:57648:</th>\n",
       "      <th>N:GEXP::TM2D1:83941:</th>\n",
       "      <th>N:GEXP::CNNM3:26505:</th>\n",
       "      <th>N:GEXP::DNAJC14:85406:</th>\n",
       "      <th>N:GEXP::TBC1D2B:23102:</th>\n",
       "    </tr>\n",
       "  </thead>\n",
       "  <tbody>\n",
       "    <tr>\n",
       "      <th>0</th>\n",
       "      <td>TCGA-3C-AAAU</td>\n",
       "      <td>BRCA_1</td>\n",
       "      <td>68.587</td>\n",
       "      <td>1255.2</td>\n",
       "      <td>3806.1</td>\n",
       "      <td>214.03</td>\n",
       "      <td>77.893</td>\n",
       "      <td>6362.8</td>\n",
       "      <td>325.7</td>\n",
       "      <td>703.79</td>\n",
       "      <td>...</td>\n",
       "      <td>300.89</td>\n",
       "      <td>386.36</td>\n",
       "      <td>1.7233</td>\n",
       "      <td>21.024</td>\n",
       "      <td>218.17</td>\n",
       "      <td>9762.8</td>\n",
       "      <td>381.19</td>\n",
       "      <td>969.52</td>\n",
       "      <td>1056.0</td>\n",
       "      <td>1610.6</td>\n",
       "    </tr>\n",
       "  </tbody>\n",
       "</table>\n",
       "<p>1 rows × 17178 columns</p>\n",
       "</div>"
      ],
      "text/plain": [
       "           BRCA  Labels  N:GEXP::C6orf170:221322:  N:GEXP::MTHFD2:10797:  \\\n",
       "0  TCGA-3C-AAAU  BRCA_1                    68.587                 1255.2   \n",
       "\n",
       "   N:GEXP::ATXN2L:11273:  N:GEXP::ZNF396:252884:  N:GEXP::BDH2:56898:  \\\n",
       "0                 3806.1                  214.03               77.893   \n",
       "\n",
       "   N:GEXP::DAG1:1605:  N:GEXP::PCDH12:51294:  N:GEXP::SLC20A2:6575:  ...  \\\n",
       "0              6362.8                  325.7                 703.79  ...   \n",
       "\n",
       "   N:GEXP::ZNF671:79891:  N:GEXP::CCDC69:26112:  N:GEXP::LDLRAD1:388633:  \\\n",
       "0                 300.89                 386.36                   1.7233   \n",
       "\n",
       "   N:GEXP::DOK6:220164:  N:GEXP::PAPOLG:64895:  N:GEXP::KIAA1522:57648:  \\\n",
       "0                21.024                 218.17                   9762.8   \n",
       "\n",
       "   N:GEXP::TM2D1:83941:  N:GEXP::CNNM3:26505:  N:GEXP::DNAJC14:85406:  \\\n",
       "0                381.19                969.52                  1056.0   \n",
       "\n",
       "   N:GEXP::TBC1D2B:23102:  \n",
       "0                  1610.6  \n",
       "\n",
       "[1 rows x 17178 columns]"
      ]
     },
     "execution_count": 56,
     "metadata": {},
     "output_type": "execute_result"
    }
   ],
   "source": [
    "check_file.head(1)"
   ]
  },
  {
   "cell_type": "code",
   "execution_count": null,
   "id": "f915ad07-f703-4aba-b7b0-59f7fe29e120",
   "metadata": {},
   "outputs": [],
   "source": [
    "# End no_LGGGBM intersection file write; three of seven dirs done"
   ]
  },
  {
   "cell_type": "markdown",
   "id": "de4f3826-6146-418f-8805-4eed661377c8",
   "metadata": {
    "jp-MarkdownHeadingCollapsed": true,
    "tags": []
   },
   "source": [
    "#### Within MAD set one - with LGGGBM"
   ]
  },
  {
   "cell_type": "code",
   "execution_count": null,
   "id": "c6a3d03d-b73c-406e-8acc-d96cbb28567d",
   "metadata": {},
   "outputs": [],
   "source": [
    "# Direct from GEXP; do not use for transfer learning\n",
    "# Populate within dir, direct from GEXP because intersection is not relevant\n",
    "    # Scientific question - is it worth it to drop LGGGBM in terms getting quality embeddings?\n",
    "# from a_ series in the g_devel dir"
   ]
  },
  {
   "cell_type": "code",
   "execution_count": 210,
   "id": "0bd57134-d1a0-4cd2-8dfa-0519a400dec6",
   "metadata": {
    "tags": []
   },
   "outputs": [
    {
     "name": "stdout",
     "output_type": "stream",
     "text": [
      "i_o/GEXP/ACC_GEXP.tsv\n",
      "i_o/GEXP/BLCA_GEXP.tsv\n",
      "i_o/GEXP/BRCA_GEXP.tsv\n",
      "i_o/GEXP/CESC_GEXP.tsv\n",
      "i_o/GEXP/COADREAD_GEXP.tsv\n",
      "i_o/GEXP/ESCC_GEXP.tsv\n",
      "i_o/GEXP/GEA_GEXP.tsv\n",
      "i_o/GEXP/HNSC_GEXP.tsv\n",
      "i_o/GEXP/KIRCKICH_GEXP.tsv\n",
      "i_o/GEXP/KIRP_GEXP.tsv\n",
      "i_o/GEXP/LGGGBM_GEXP.tsv\n",
      "i_o/GEXP/LIHCCHOL_GEXP.tsv\n",
      "i_o/GEXP/LUAD_GEXP.tsv\n",
      "i_o/GEXP/LUSC_GEXP.tsv\n",
      "i_o/GEXP/MESO_GEXP.tsv\n",
      "i_o/GEXP/OV_GEXP.tsv\n",
      "i_o/GEXP/PAAD_GEXP.tsv\n",
      "i_o/GEXP/PCPG_GEXP.tsv\n",
      "i_o/GEXP/PRAD_GEXP.tsv\n",
      "i_o/GEXP/SARC_GEXP.tsv\n",
      "i_o/GEXP/SKCM_GEXP.tsv\n",
      "i_o/GEXP/TGCT_GEXP.tsv\n",
      "i_o/GEXP/THCA_GEXP.tsv\n",
      "i_o/GEXP/THYM_GEXP.tsv\n",
      "i_o/GEXP/UCEC_GEXP.tsv\n",
      "i_o/GEXP/UVM_GEXP.tsv\n"
     ]
    }
   ],
   "source": [
    "# Write within-MAD files from the GEXP file set\n",
    "k = 5000\n",
    "for gexp_path in sorted(glob.glob('i_o/GEXP/*.tsv')):\n",
    "\n",
    "    print(gexp_path)\n",
    "    gexp_file = pd.read_csv(gexp_path, sep = '\\t', index_col = 0)\n",
    "    c = gexp_file.index.name\n",
    "    # features = gexp_file.iloc[:, 1:].mad().sort_values(ascending=False)[:5000].index\n",
    "    # features = gexp_file.iloc[:, 1:].(gexp_file - gexp_file.mean()).abs().mean().sort_values(ascending=False)[:5000].index\n",
    "    features = (gexp_file.iloc[:, 1:] - gexp_file.iloc[:, 1:].mean()).abs().mean().sort_values(ascending=False)[:k].index\n",
    "    gexp_file_nk = gexp_file.loc[:, features]\n",
    "    max_col_vals = gexp_file_nk.max()\n",
    "    X_train = (gexp_file_nk / max_col_vals) # Normalization by column\n",
    "    # break    \n",
    "    \n",
    "    X_labeled = pd.concat( [pd.DataFrame(gexp_file.Labels), X_train] ,\n",
    "                     axis = 1)\n",
    "    X_labeled.index.name = c\n",
    "    \n",
    "    X_labeled.to_csv('i_o/GEXP_MAD_5k_within/'+c+'_within_'+str(k)+'k.tsv',\n",
    "                   sep = '\\t')\n",
    "    # break\n",
    "# intrsct = set.intersection(*map(set,lol_inline))"
   ]
  },
  {
   "cell_type": "code",
   "execution_count": 158,
   "id": "2c944fcc-a8c2-4351-bcf4-918e0e65f798",
   "metadata": {},
   "outputs": [],
   "source": [
    "check_file = pd.read_csv('GEXP_MAD_5k_within/'+c+'_within_'+str(k)+'k.tsv',\n",
    "                         sep = '\\t',\n",
    "                         index_col = 0)"
   ]
  },
  {
   "cell_type": "code",
   "execution_count": 159,
   "id": "325c6e9a-1bb0-4c56-ab20-49d8842238dc",
   "metadata": {},
   "outputs": [
    {
     "data": {
      "text/html": [
       "<div>\n",
       "<style scoped>\n",
       "    .dataframe tbody tr th:only-of-type {\n",
       "        vertical-align: middle;\n",
       "    }\n",
       "\n",
       "    .dataframe tbody tr th {\n",
       "        vertical-align: top;\n",
       "    }\n",
       "\n",
       "    .dataframe thead th {\n",
       "        text-align: right;\n",
       "    }\n",
       "</style>\n",
       "<table border=\"1\" class=\"dataframe\">\n",
       "  <thead>\n",
       "    <tr style=\"text-align: right;\">\n",
       "      <th></th>\n",
       "      <th>Labels</th>\n",
       "      <th>N:GEXP::IGF2:3481:</th>\n",
       "      <th>N:GEXP::DLK1:8788:</th>\n",
       "      <th>N:GEXP::CYP17A1:1586:</th>\n",
       "      <th>N:GEXP::APOE:348:</th>\n",
       "      <th>N:GEXP::STAR:6770:</th>\n",
       "      <th>N:GEXP::CYP11B1:1584:</th>\n",
       "      <th>N:GEXP::GAPDH:2597:</th>\n",
       "      <th>N:GEXP::CYP21A2:1589:</th>\n",
       "      <th>N:GEXP::SPARC:6678:</th>\n",
       "      <th>...</th>\n",
       "      <th>N:GEXP::GIYD2:79008:</th>\n",
       "      <th>N:GEXP::PTEN:5728:</th>\n",
       "      <th>N:GEXP::RAI1:10743:</th>\n",
       "      <th>N:GEXP::UBN1:29855:</th>\n",
       "      <th>N:GEXP::C11orf48:79081:</th>\n",
       "      <th>N:GEXP::UFD1L:7353:</th>\n",
       "      <th>N:GEXP::PLEKHM2:23207:</th>\n",
       "      <th>N:GEXP::ATAD3A:55210:</th>\n",
       "      <th>N:GEXP::PLK2:10769:</th>\n",
       "      <th>N:GEXP::TIAL1:7073:</th>\n",
       "    </tr>\n",
       "    <tr>\n",
       "      <th>ACC</th>\n",
       "      <th></th>\n",
       "      <th></th>\n",
       "      <th></th>\n",
       "      <th></th>\n",
       "      <th></th>\n",
       "      <th></th>\n",
       "      <th></th>\n",
       "      <th></th>\n",
       "      <th></th>\n",
       "      <th></th>\n",
       "      <th></th>\n",
       "      <th></th>\n",
       "      <th></th>\n",
       "      <th></th>\n",
       "      <th></th>\n",
       "      <th></th>\n",
       "      <th></th>\n",
       "      <th></th>\n",
       "      <th></th>\n",
       "      <th></th>\n",
       "      <th></th>\n",
       "    </tr>\n",
       "  </thead>\n",
       "  <tbody>\n",
       "    <tr>\n",
       "      <th>TCGA-OR-A5J1</th>\n",
       "      <td>ACC_2</td>\n",
       "      <td>0.179084</td>\n",
       "      <td>0.010742</td>\n",
       "      <td>0.021923</td>\n",
       "      <td>0.038378</td>\n",
       "      <td>0.110853</td>\n",
       "      <td>0.006375</td>\n",
       "      <td>0.163189</td>\n",
       "      <td>0.683056</td>\n",
       "      <td>0.112090</td>\n",
       "      <td>...</td>\n",
       "      <td>0.553085</td>\n",
       "      <td>0.324945</td>\n",
       "      <td>0.287928</td>\n",
       "      <td>0.246264</td>\n",
       "      <td>0.505010</td>\n",
       "      <td>0.435099</td>\n",
       "      <td>0.346972</td>\n",
       "      <td>0.321314</td>\n",
       "      <td>0.170577</td>\n",
       "      <td>0.398191</td>\n",
       "    </tr>\n",
       "    <tr>\n",
       "      <th>TCGA-OR-A5J2</th>\n",
       "      <td>ACC_2</td>\n",
       "      <td>0.179990</td>\n",
       "      <td>0.287300</td>\n",
       "      <td>0.005302</td>\n",
       "      <td>0.009819</td>\n",
       "      <td>0.030127</td>\n",
       "      <td>0.000036</td>\n",
       "      <td>0.126989</td>\n",
       "      <td>0.169569</td>\n",
       "      <td>0.205230</td>\n",
       "      <td>...</td>\n",
       "      <td>0.138774</td>\n",
       "      <td>1.000000</td>\n",
       "      <td>0.676662</td>\n",
       "      <td>0.631863</td>\n",
       "      <td>0.079529</td>\n",
       "      <td>0.222529</td>\n",
       "      <td>0.609245</td>\n",
       "      <td>0.095816</td>\n",
       "      <td>0.166556</td>\n",
       "      <td>0.784324</td>\n",
       "    </tr>\n",
       "    <tr>\n",
       "      <th>TCGA-OR-A5J3</th>\n",
       "      <td>ACC_3</td>\n",
       "      <td>0.021586</td>\n",
       "      <td>0.431374</td>\n",
       "      <td>0.372870</td>\n",
       "      <td>0.031040</td>\n",
       "      <td>0.257731</td>\n",
       "      <td>0.064836</td>\n",
       "      <td>0.762671</td>\n",
       "      <td>0.113664</td>\n",
       "      <td>0.122580</td>\n",
       "      <td>...</td>\n",
       "      <td>0.297219</td>\n",
       "      <td>0.400649</td>\n",
       "      <td>0.393882</td>\n",
       "      <td>0.354852</td>\n",
       "      <td>0.087657</td>\n",
       "      <td>0.514997</td>\n",
       "      <td>0.283717</td>\n",
       "      <td>0.262076</td>\n",
       "      <td>0.462200</td>\n",
       "      <td>0.283512</td>\n",
       "    </tr>\n",
       "    <tr>\n",
       "      <th>TCGA-OR-A5J5</th>\n",
       "      <td>ACC_3</td>\n",
       "      <td>0.107586</td>\n",
       "      <td>0.364419</td>\n",
       "      <td>0.288308</td>\n",
       "      <td>0.009218</td>\n",
       "      <td>0.213982</td>\n",
       "      <td>0.002201</td>\n",
       "      <td>0.359412</td>\n",
       "      <td>0.214880</td>\n",
       "      <td>0.113344</td>\n",
       "      <td>...</td>\n",
       "      <td>0.493671</td>\n",
       "      <td>0.717314</td>\n",
       "      <td>0.263969</td>\n",
       "      <td>0.351571</td>\n",
       "      <td>0.175560</td>\n",
       "      <td>0.561697</td>\n",
       "      <td>0.353537</td>\n",
       "      <td>0.168052</td>\n",
       "      <td>0.133176</td>\n",
       "      <td>0.484654</td>\n",
       "    </tr>\n",
       "    <tr>\n",
       "      <th>TCGA-OR-A5J6</th>\n",
       "      <td>ACC_1</td>\n",
       "      <td>0.472886</td>\n",
       "      <td>0.132366</td>\n",
       "      <td>0.647770</td>\n",
       "      <td>0.252118</td>\n",
       "      <td>0.569321</td>\n",
       "      <td>0.414665</td>\n",
       "      <td>0.128481</td>\n",
       "      <td>0.497277</td>\n",
       "      <td>0.106461</td>\n",
       "      <td>...</td>\n",
       "      <td>0.235103</td>\n",
       "      <td>0.307611</td>\n",
       "      <td>0.068490</td>\n",
       "      <td>0.248789</td>\n",
       "      <td>0.212524</td>\n",
       "      <td>0.288953</td>\n",
       "      <td>0.351005</td>\n",
       "      <td>0.375485</td>\n",
       "      <td>0.066781</td>\n",
       "      <td>0.283900</td>\n",
       "    </tr>\n",
       "    <tr>\n",
       "      <th>...</th>\n",
       "      <td>...</td>\n",
       "      <td>...</td>\n",
       "      <td>...</td>\n",
       "      <td>...</td>\n",
       "      <td>...</td>\n",
       "      <td>...</td>\n",
       "      <td>...</td>\n",
       "      <td>...</td>\n",
       "      <td>...</td>\n",
       "      <td>...</td>\n",
       "      <td>...</td>\n",
       "      <td>...</td>\n",
       "      <td>...</td>\n",
       "      <td>...</td>\n",
       "      <td>...</td>\n",
       "      <td>...</td>\n",
       "      <td>...</td>\n",
       "      <td>...</td>\n",
       "      <td>...</td>\n",
       "      <td>...</td>\n",
       "      <td>...</td>\n",
       "    </tr>\n",
       "    <tr>\n",
       "      <th>TCGA-OU-A5PI</th>\n",
       "      <td>ACC_3</td>\n",
       "      <td>0.005338</td>\n",
       "      <td>0.008791</td>\n",
       "      <td>0.092080</td>\n",
       "      <td>0.012522</td>\n",
       "      <td>0.147812</td>\n",
       "      <td>0.000194</td>\n",
       "      <td>0.251259</td>\n",
       "      <td>0.123380</td>\n",
       "      <td>0.171407</td>\n",
       "      <td>...</td>\n",
       "      <td>0.391721</td>\n",
       "      <td>0.714170</td>\n",
       "      <td>0.022050</td>\n",
       "      <td>0.568111</td>\n",
       "      <td>0.063677</td>\n",
       "      <td>0.461275</td>\n",
       "      <td>0.241950</td>\n",
       "      <td>0.131434</td>\n",
       "      <td>0.159023</td>\n",
       "      <td>0.530964</td>\n",
       "    </tr>\n",
       "    <tr>\n",
       "      <th>TCGA-PA-A5YG</th>\n",
       "      <td>ACC_1</td>\n",
       "      <td>0.037978</td>\n",
       "      <td>0.019161</td>\n",
       "      <td>0.000937</td>\n",
       "      <td>0.005917</td>\n",
       "      <td>0.137388</td>\n",
       "      <td>0.035584</td>\n",
       "      <td>0.278676</td>\n",
       "      <td>0.016930</td>\n",
       "      <td>0.075882</td>\n",
       "      <td>...</td>\n",
       "      <td>0.273267</td>\n",
       "      <td>0.427528</td>\n",
       "      <td>0.215724</td>\n",
       "      <td>0.556177</td>\n",
       "      <td>0.102211</td>\n",
       "      <td>0.305127</td>\n",
       "      <td>0.416120</td>\n",
       "      <td>0.212865</td>\n",
       "      <td>0.112184</td>\n",
       "      <td>0.250428</td>\n",
       "    </tr>\n",
       "    <tr>\n",
       "      <th>TCGA-PK-A5H9</th>\n",
       "      <td>ACC_1</td>\n",
       "      <td>0.346736</td>\n",
       "      <td>0.073886</td>\n",
       "      <td>0.150393</td>\n",
       "      <td>0.139675</td>\n",
       "      <td>0.169064</td>\n",
       "      <td>0.155130</td>\n",
       "      <td>0.054403</td>\n",
       "      <td>0.001877</td>\n",
       "      <td>0.084531</td>\n",
       "      <td>...</td>\n",
       "      <td>0.209672</td>\n",
       "      <td>0.457281</td>\n",
       "      <td>0.148100</td>\n",
       "      <td>0.473769</td>\n",
       "      <td>0.100391</td>\n",
       "      <td>0.256306</td>\n",
       "      <td>0.411907</td>\n",
       "      <td>0.167434</td>\n",
       "      <td>0.095949</td>\n",
       "      <td>0.379815</td>\n",
       "    </tr>\n",
       "    <tr>\n",
       "      <th>TCGA-PK-A5HA</th>\n",
       "      <td>ACC_1</td>\n",
       "      <td>0.177497</td>\n",
       "      <td>0.000300</td>\n",
       "      <td>0.000614</td>\n",
       "      <td>0.008947</td>\n",
       "      <td>0.148900</td>\n",
       "      <td>0.008981</td>\n",
       "      <td>0.197718</td>\n",
       "      <td>0.002743</td>\n",
       "      <td>0.080234</td>\n",
       "      <td>...</td>\n",
       "      <td>0.682951</td>\n",
       "      <td>0.523177</td>\n",
       "      <td>0.215279</td>\n",
       "      <td>0.414230</td>\n",
       "      <td>0.109746</td>\n",
       "      <td>0.266176</td>\n",
       "      <td>0.381927</td>\n",
       "      <td>0.154359</td>\n",
       "      <td>0.142507</td>\n",
       "      <td>0.562747</td>\n",
       "    </tr>\n",
       "    <tr>\n",
       "      <th>TCGA-PK-A5HB</th>\n",
       "      <td>ACC_2</td>\n",
       "      <td>0.088697</td>\n",
       "      <td>0.003648</td>\n",
       "      <td>0.324789</td>\n",
       "      <td>0.002129</td>\n",
       "      <td>0.199853</td>\n",
       "      <td>0.039437</td>\n",
       "      <td>0.120800</td>\n",
       "      <td>0.098339</td>\n",
       "      <td>0.432895</td>\n",
       "      <td>...</td>\n",
       "      <td>0.279984</td>\n",
       "      <td>0.485445</td>\n",
       "      <td>0.230998</td>\n",
       "      <td>0.477339</td>\n",
       "      <td>0.099486</td>\n",
       "      <td>0.566233</td>\n",
       "      <td>0.561698</td>\n",
       "      <td>0.630464</td>\n",
       "      <td>0.232481</td>\n",
       "      <td>0.512684</td>\n",
       "    </tr>\n",
       "  </tbody>\n",
       "</table>\n",
       "<p>76 rows × 5001 columns</p>\n",
       "</div>"
      ],
      "text/plain": [
       "             Labels  N:GEXP::IGF2:3481:  N:GEXP::DLK1:8788:  \\\n",
       "ACC                                                           \n",
       "TCGA-OR-A5J1  ACC_2            0.179084            0.010742   \n",
       "TCGA-OR-A5J2  ACC_2            0.179990            0.287300   \n",
       "TCGA-OR-A5J3  ACC_3            0.021586            0.431374   \n",
       "TCGA-OR-A5J5  ACC_3            0.107586            0.364419   \n",
       "TCGA-OR-A5J6  ACC_1            0.472886            0.132366   \n",
       "...             ...                 ...                 ...   \n",
       "TCGA-OU-A5PI  ACC_3            0.005338            0.008791   \n",
       "TCGA-PA-A5YG  ACC_1            0.037978            0.019161   \n",
       "TCGA-PK-A5H9  ACC_1            0.346736            0.073886   \n",
       "TCGA-PK-A5HA  ACC_1            0.177497            0.000300   \n",
       "TCGA-PK-A5HB  ACC_2            0.088697            0.003648   \n",
       "\n",
       "              N:GEXP::CYP17A1:1586:  N:GEXP::APOE:348:  N:GEXP::STAR:6770:  \\\n",
       "ACC                                                                          \n",
       "TCGA-OR-A5J1               0.021923           0.038378            0.110853   \n",
       "TCGA-OR-A5J2               0.005302           0.009819            0.030127   \n",
       "TCGA-OR-A5J3               0.372870           0.031040            0.257731   \n",
       "TCGA-OR-A5J5               0.288308           0.009218            0.213982   \n",
       "TCGA-OR-A5J6               0.647770           0.252118            0.569321   \n",
       "...                             ...                ...                 ...   \n",
       "TCGA-OU-A5PI               0.092080           0.012522            0.147812   \n",
       "TCGA-PA-A5YG               0.000937           0.005917            0.137388   \n",
       "TCGA-PK-A5H9               0.150393           0.139675            0.169064   \n",
       "TCGA-PK-A5HA               0.000614           0.008947            0.148900   \n",
       "TCGA-PK-A5HB               0.324789           0.002129            0.199853   \n",
       "\n",
       "              N:GEXP::CYP11B1:1584:  N:GEXP::GAPDH:2597:  \\\n",
       "ACC                                                        \n",
       "TCGA-OR-A5J1               0.006375             0.163189   \n",
       "TCGA-OR-A5J2               0.000036             0.126989   \n",
       "TCGA-OR-A5J3               0.064836             0.762671   \n",
       "TCGA-OR-A5J5               0.002201             0.359412   \n",
       "TCGA-OR-A5J6               0.414665             0.128481   \n",
       "...                             ...                  ...   \n",
       "TCGA-OU-A5PI               0.000194             0.251259   \n",
       "TCGA-PA-A5YG               0.035584             0.278676   \n",
       "TCGA-PK-A5H9               0.155130             0.054403   \n",
       "TCGA-PK-A5HA               0.008981             0.197718   \n",
       "TCGA-PK-A5HB               0.039437             0.120800   \n",
       "\n",
       "              N:GEXP::CYP21A2:1589:  N:GEXP::SPARC:6678:  ...  \\\n",
       "ACC                                                       ...   \n",
       "TCGA-OR-A5J1               0.683056             0.112090  ...   \n",
       "TCGA-OR-A5J2               0.169569             0.205230  ...   \n",
       "TCGA-OR-A5J3               0.113664             0.122580  ...   \n",
       "TCGA-OR-A5J5               0.214880             0.113344  ...   \n",
       "TCGA-OR-A5J6               0.497277             0.106461  ...   \n",
       "...                             ...                  ...  ...   \n",
       "TCGA-OU-A5PI               0.123380             0.171407  ...   \n",
       "TCGA-PA-A5YG               0.016930             0.075882  ...   \n",
       "TCGA-PK-A5H9               0.001877             0.084531  ...   \n",
       "TCGA-PK-A5HA               0.002743             0.080234  ...   \n",
       "TCGA-PK-A5HB               0.098339             0.432895  ...   \n",
       "\n",
       "              N:GEXP::GIYD2:79008:  N:GEXP::PTEN:5728:  N:GEXP::RAI1:10743:  \\\n",
       "ACC                                                                           \n",
       "TCGA-OR-A5J1              0.553085            0.324945             0.287928   \n",
       "TCGA-OR-A5J2              0.138774            1.000000             0.676662   \n",
       "TCGA-OR-A5J3              0.297219            0.400649             0.393882   \n",
       "TCGA-OR-A5J5              0.493671            0.717314             0.263969   \n",
       "TCGA-OR-A5J6              0.235103            0.307611             0.068490   \n",
       "...                            ...                 ...                  ...   \n",
       "TCGA-OU-A5PI              0.391721            0.714170             0.022050   \n",
       "TCGA-PA-A5YG              0.273267            0.427528             0.215724   \n",
       "TCGA-PK-A5H9              0.209672            0.457281             0.148100   \n",
       "TCGA-PK-A5HA              0.682951            0.523177             0.215279   \n",
       "TCGA-PK-A5HB              0.279984            0.485445             0.230998   \n",
       "\n",
       "              N:GEXP::UBN1:29855:  N:GEXP::C11orf48:79081:  \\\n",
       "ACC                                                          \n",
       "TCGA-OR-A5J1             0.246264                 0.505010   \n",
       "TCGA-OR-A5J2             0.631863                 0.079529   \n",
       "TCGA-OR-A5J3             0.354852                 0.087657   \n",
       "TCGA-OR-A5J5             0.351571                 0.175560   \n",
       "TCGA-OR-A5J6             0.248789                 0.212524   \n",
       "...                           ...                      ...   \n",
       "TCGA-OU-A5PI             0.568111                 0.063677   \n",
       "TCGA-PA-A5YG             0.556177                 0.102211   \n",
       "TCGA-PK-A5H9             0.473769                 0.100391   \n",
       "TCGA-PK-A5HA             0.414230                 0.109746   \n",
       "TCGA-PK-A5HB             0.477339                 0.099486   \n",
       "\n",
       "              N:GEXP::UFD1L:7353:  N:GEXP::PLEKHM2:23207:  \\\n",
       "ACC                                                         \n",
       "TCGA-OR-A5J1             0.435099                0.346972   \n",
       "TCGA-OR-A5J2             0.222529                0.609245   \n",
       "TCGA-OR-A5J3             0.514997                0.283717   \n",
       "TCGA-OR-A5J5             0.561697                0.353537   \n",
       "TCGA-OR-A5J6             0.288953                0.351005   \n",
       "...                           ...                     ...   \n",
       "TCGA-OU-A5PI             0.461275                0.241950   \n",
       "TCGA-PA-A5YG             0.305127                0.416120   \n",
       "TCGA-PK-A5H9             0.256306                0.411907   \n",
       "TCGA-PK-A5HA             0.266176                0.381927   \n",
       "TCGA-PK-A5HB             0.566233                0.561698   \n",
       "\n",
       "              N:GEXP::ATAD3A:55210:  N:GEXP::PLK2:10769:  N:GEXP::TIAL1:7073:  \n",
       "ACC                                                                            \n",
       "TCGA-OR-A5J1               0.321314             0.170577             0.398191  \n",
       "TCGA-OR-A5J2               0.095816             0.166556             0.784324  \n",
       "TCGA-OR-A5J3               0.262076             0.462200             0.283512  \n",
       "TCGA-OR-A5J5               0.168052             0.133176             0.484654  \n",
       "TCGA-OR-A5J6               0.375485             0.066781             0.283900  \n",
       "...                             ...                  ...                  ...  \n",
       "TCGA-OU-A5PI               0.131434             0.159023             0.530964  \n",
       "TCGA-PA-A5YG               0.212865             0.112184             0.250428  \n",
       "TCGA-PK-A5H9               0.167434             0.095949             0.379815  \n",
       "TCGA-PK-A5HA               0.154359             0.142507             0.562747  \n",
       "TCGA-PK-A5HB               0.630464             0.232481             0.512684  \n",
       "\n",
       "[76 rows x 5001 columns]"
      ]
     },
     "execution_count": 159,
     "metadata": {},
     "output_type": "execute_result"
    }
   ],
   "source": [
    "check_file # Looks normalized, procedd to writing two across file sets"
   ]
  },
  {
   "cell_type": "markdown",
   "id": "ecbbedcc-3a2c-452f-8386-dd9113ae756a",
   "metadata": {
    "tags": []
   },
   "source": [
    "##### Devel inspect"
   ]
  },
  {
   "cell_type": "code",
   "execution_count": 156,
   "id": "c9a85fe4-c41c-47f2-bc58-20008864173e",
   "metadata": {},
   "outputs": [
    {
     "name": "stdout",
     "output_type": "stream",
     "text": [
      "\u001b[34mACC_archive\u001b[m\u001b[m/                  \u001b[34mdim10\u001b[m\u001b[m/\n",
      "\u001b[34mGEXP\u001b[m\u001b[m/                         \u001b[34mdim100_run0\u001b[m\u001b[m/\n",
      "\u001b[34mGEXP_MAD_5k_across\u001b[m\u001b[m/           \u001b[34mfigure_five\u001b[m\u001b[m/\n",
      "\u001b[34mGEXP_MAD_5k_across_no_LGGGBM\u001b[m\u001b[m/ \u001b[34mlatent feature inspect\u001b[m\u001b[m/\n",
      "\u001b[34mGEXP_MAD_5k_within\u001b[m\u001b[m/           \u001b[34mlatent_feature_objects\u001b[m\u001b[m/\n",
      "\u001b[34mGEXP_intersection\u001b[m\u001b[m/            \u001b[34mlearning_curves\u001b[m\u001b[m/\n",
      "\u001b[34mGEXP_intersection_no_LGGGBM\u001b[m\u001b[m/  \u001b[34mloss_plots\u001b[m\u001b[m/\n",
      "\u001b[34mPDF_out\u001b[m\u001b[m/                      ops_notes.txt\n",
      "box_and_whiskers.ipynb        \u001b[34mshuffle\u001b[m\u001b[m/\n",
      "\u001b[34mdecoded\u001b[m\u001b[m/                      \u001b[34mstandard_deviation_plots\u001b[m\u001b[m/\n"
     ]
    }
   ],
   "source": [
    "ls"
   ]
  },
  {
   "cell_type": "code",
   "execution_count": 149,
   "id": "00710b10-0221-40e0-87b1-542415179f05",
   "metadata": {},
   "outputs": [
    {
     "data": {
      "text/plain": [
       "N:GEXP::IGF2:3481:        267024.447448\n",
       "N:GEXP::DLK1:8788:        200257.033546\n",
       "N:GEXP::CYP17A1:1586:     127764.471200\n",
       "N:GEXP::APOE:348:          64460.573639\n",
       "N:GEXP::STAR:6770:         61143.067230\n",
       "                              ...      \n",
       "N:GEXP::UFD1L:7353:          367.569668\n",
       "N:GEXP::PLEKHM2:23207:       367.527299\n",
       "N:GEXP::ATAD3A:55210:        367.311468\n",
       "N:GEXP::PLK2:10769:          367.285935\n",
       "N:GEXP::TIAL1:7073:          367.259643\n",
       "Length: 5000, dtype: float64"
      ]
     },
     "execution_count": 149,
     "metadata": {},
     "output_type": "execute_result"
    }
   ],
   "source": [
    "(gexp_file.iloc[:, 1:] - gexp_file.iloc[:, 1:].mean()).abs().mean().sort_values(ascending=False)[:5000]"
   ]
  },
  {
   "cell_type": "markdown",
   "id": "d1c3f61c-a06d-4c0d-a84a-4b1fc967847d",
   "metadata": {
    "jp-MarkdownHeadingCollapsed": true,
    "tags": []
   },
   "source": [
    "#### Within MAD set two - without LGGGBM"
   ]
  },
  {
   "cell_type": "code",
   "execution_count": null,
   "id": "19599653-7196-4441-b536-51f787ae4c25",
   "metadata": {},
   "outputs": [],
   "source": [
    "# Omit for now\n",
    "\n",
    "# Wthin-cohort MAD not immediatly logical if taken on pan-can intersection genes"
   ]
  },
  {
   "cell_type": "markdown",
   "id": "9435f3da-9afc-4c5e-8bf1-3879b6eedf48",
   "metadata": {
    "jp-MarkdownHeadingCollapsed": true,
    "tags": []
   },
   "source": [
    "#### MAD within intersection set one - with LGGGBM\n",
    "Not run"
   ]
  },
  {
   "cell_type": "code",
   "execution_count": null,
   "id": "df0ed258-fb0c-4949-9b20-9bda39ed8ccf",
   "metadata": {},
   "outputs": [],
   "source": [
    "k = 5000\n",
    "for ntrsct_pth in sorted(glob.glob('GEXP_intersection/*.tsv')):\n",
    "    print(ntrsct_pth)\n",
    "    file = pd.read_csv(ntrsct_pth, sep = '\\t', index_col = 0)\n",
    "    c = file.index.name\n",
    "    features = (file.iloc[:, 1:] - file.iloc[:, 1:].mean()).abs().mean().sort_values(ascending=False)[:k].index\n",
    "    file_nk = file.loc[:, features]\n",
    "    max_col_vals = file_nk.max()\n",
    "    X_train = (file_nk / max_col_vals) # Normalization by column\n",
    "    \n",
    "    X_labeled = pd.concat( [pd.DataFrame(file.Labels), X_train] ,\n",
    "                     axis = 1)\n",
    "    X_labeled.index.name = c\n",
    "    \n",
    "    X_labeled.to_csv('GEXP_MAD_5k_across/'+c+'_across_'+str(k)+'k.tsv',\n",
    "                   sep = '\\t')\n",
    "    # break"
   ]
  },
  {
   "cell_type": "markdown",
   "id": "e7791e80-d3dc-4be0-b63e-fdbd31a3f244",
   "metadata": {
    "jp-MarkdownHeadingCollapsed": true,
    "tags": []
   },
   "source": [
    "#### MAD within intersection set two - without LGGGBM\n",
    "Not run"
   ]
  },
  {
   "cell_type": "markdown",
   "id": "9d62b6e0-a668-4b6f-ad65-2c2658de8324",
   "metadata": {
    "jp-MarkdownHeadingCollapsed": true,
    "tags": []
   },
   "source": [
    "#### Across MAD set one - with LGGGBM"
   ]
  },
  {
   "cell_type": "code",
   "execution_count": null,
   "id": "5b248b70-120d-4eec-9173-af952b6e9b97",
   "metadata": {},
   "outputs": [],
   "source": [
    "# Used for run 1 on box curve - g_learning_curves/i_o/GEXP_MAD_5k_across\n",
    "# stacking required\n",
    "# and read from the intersection file set\n",
    "    # read also from this intersection set for the non-LGGGBM set"
   ]
  },
  {
   "cell_type": "code",
   "execution_count": 72,
   "id": "210de238-5792-41c1-ba5a-a279e1533ff1",
   "metadata": {
    "tags": []
   },
   "outputs": [
    {
     "name": "stdout",
     "output_type": "stream",
     "text": [
      "i_o/GEXP_intersection/ACC_GEXP_intrsct.tsv\n",
      "i_o/GEXP_intersection/BLCA_GEXP_intrsct.tsv\n",
      "i_o/GEXP_intersection/BRCA_GEXP_intrsct.tsv\n",
      "i_o/GEXP_intersection/CESC_GEXP_intrsct.tsv\n",
      "i_o/GEXP_intersection/COADREAD_GEXP_intrsct.tsv\n",
      "i_o/GEXP_intersection/ESCC_GEXP_intrsct.tsv\n",
      "i_o/GEXP_intersection/GEA_GEXP_intrsct.tsv\n",
      "i_o/GEXP_intersection/HNSC_GEXP_intrsct.tsv\n",
      "i_o/GEXP_intersection/KIRCKICH_GEXP_intrsct.tsv\n",
      "i_o/GEXP_intersection/KIRP_GEXP_intrsct.tsv\n",
      "i_o/GEXP_intersection/LGGGBM_GEXP_intrsct.tsv\n",
      "i_o/GEXP_intersection/LIHCCHOL_GEXP_intrsct.tsv\n",
      "i_o/GEXP_intersection/LUAD_GEXP_intrsct.tsv\n",
      "i_o/GEXP_intersection/LUSC_GEXP_intrsct.tsv\n",
      "i_o/GEXP_intersection/MESO_GEXP_intrsct.tsv\n",
      "i_o/GEXP_intersection/OV_GEXP_intrsct.tsv\n",
      "i_o/GEXP_intersection/PAAD_GEXP_intrsct.tsv\n",
      "i_o/GEXP_intersection/PCPG_GEXP_intrsct.tsv\n",
      "i_o/GEXP_intersection/PRAD_GEXP_intrsct.tsv\n",
      "i_o/GEXP_intersection/SARC_GEXP_intrsct.tsv\n",
      "i_o/GEXP_intersection/SKCM_GEXP_intrsct.tsv\n",
      "i_o/GEXP_intersection/TGCT_GEXP_intrsct.tsv\n",
      "i_o/GEXP_intersection/THCA_GEXP_intrsct.tsv\n",
      "i_o/GEXP_intersection/THYM_GEXP_intrsct.tsv\n",
      "i_o/GEXP_intersection/UCEC_GEXP_intrsct.tsv\n",
      "i_o/GEXP_intersection/UVM_GEXP_intrsct.tsv\n"
     ]
    }
   ],
   "source": [
    "k = 5000\n",
    "stack = pd.DataFrame()\n",
    "for ntrsct_pth in sorted(glob.glob('i_o/GEXP_intersection/*.tsv')):\n",
    "    print(ntrsct_pth)\n",
    "    file = pd.read_csv(ntrsct_pth, sep = '\\t', index_col = 0)\n",
    "    stack = pd.concat( [stack, file] , axis = 0)\n",
    "features = (stack.iloc[:, 1:] - stack.iloc[:, 1:].mean()).abs().mean().sort_values(ascending=False)[:k].index\n",
    "stack = pd.concat( [pd.DataFrame(stack.Labels), stack.loc[:, features]] ,\n",
    "                     axis = 1)   "
   ]
  },
  {
   "cell_type": "code",
   "execution_count": 73,
   "id": "50a2b3a1-7874-4ab8-963b-ef285030e707",
   "metadata": {
    "tags": []
   },
   "outputs": [
    {
     "data": {
      "text/html": [
       "<div>\n",
       "<style scoped>\n",
       "    .dataframe tbody tr th:only-of-type {\n",
       "        vertical-align: middle;\n",
       "    }\n",
       "\n",
       "    .dataframe tbody tr th {\n",
       "        vertical-align: top;\n",
       "    }\n",
       "\n",
       "    .dataframe thead th {\n",
       "        text-align: right;\n",
       "    }\n",
       "</style>\n",
       "<table border=\"1\" class=\"dataframe\">\n",
       "  <thead>\n",
       "    <tr style=\"text-align: right;\">\n",
       "      <th></th>\n",
       "      <th>Labels</th>\n",
       "      <th>N:GEXP::COL1A1:1277:</th>\n",
       "      <th>N:GEXP::TG:7038:</th>\n",
       "      <th>N:GEXP::FN1:2335:</th>\n",
       "      <th>N:GEXP::SERPINA1:5265:</th>\n",
       "      <th>N:GEXP::COL3A1:1281:</th>\n",
       "      <th>N:GEXP::COL1A2:1278:</th>\n",
       "      <th>N:GEXP::FTL:2512:</th>\n",
       "      <th>N:GEXP::GAPDH:2597:</th>\n",
       "      <th>N:GEXP::ACTB:60:</th>\n",
       "      <th>...</th>\n",
       "      <th>N:GEXP::DECR2:26063:</th>\n",
       "      <th>N:GEXP::ATPAF1:64756:</th>\n",
       "      <th>N:GEXP::TSPAN17:26262:</th>\n",
       "      <th>N:GEXP::TMEM50B:757:</th>\n",
       "      <th>N:GEXP::TMEM125:128218:</th>\n",
       "      <th>N:GEXP::NMD3:51068:</th>\n",
       "      <th>N:GEXP::HS2ST1:9653:</th>\n",
       "      <th>N:GEXP::CDH13:1012:</th>\n",
       "      <th>N:GEXP::C8orf30A:51236:</th>\n",
       "      <th>N:GEXP::SLC41A3:54946:</th>\n",
       "    </tr>\n",
       "  </thead>\n",
       "  <tbody>\n",
       "    <tr>\n",
       "      <th>TCGA-OR-A5J1</th>\n",
       "      <td>ACC_2</td>\n",
       "      <td>485.59</td>\n",
       "      <td>93.1800</td>\n",
       "      <td>1558.60</td>\n",
       "      <td>229.110</td>\n",
       "      <td>325.65</td>\n",
       "      <td>784.82</td>\n",
       "      <td>13570.0</td>\n",
       "      <td>57986.0</td>\n",
       "      <td>68807.0</td>\n",
       "      <td>...</td>\n",
       "      <td>543.71</td>\n",
       "      <td>2782.40</td>\n",
       "      <td>1488.50</td>\n",
       "      <td>602.83</td>\n",
       "      <td>0.0000</td>\n",
       "      <td>587.42</td>\n",
       "      <td>3538.40</td>\n",
       "      <td>134.970</td>\n",
       "      <td>1564.40</td>\n",
       "      <td>2230.6</td>\n",
       "    </tr>\n",
       "    <tr>\n",
       "      <th>TCGA-OR-A5J2</th>\n",
       "      <td>ACC_2</td>\n",
       "      <td>4269.10</td>\n",
       "      <td>7.2473</td>\n",
       "      <td>20086.00</td>\n",
       "      <td>75.695</td>\n",
       "      <td>13904.00</td>\n",
       "      <td>4204.30</td>\n",
       "      <td>59215.0</td>\n",
       "      <td>45123.0</td>\n",
       "      <td>71065.0</td>\n",
       "      <td>...</td>\n",
       "      <td>1060.50</td>\n",
       "      <td>1687.70</td>\n",
       "      <td>1521.10</td>\n",
       "      <td>690.11</td>\n",
       "      <td>2.4158</td>\n",
       "      <td>1714.40</td>\n",
       "      <td>2311.20</td>\n",
       "      <td>438.870</td>\n",
       "      <td>593.08</td>\n",
       "      <td>8604.6</td>\n",
       "    </tr>\n",
       "    <tr>\n",
       "      <th>TCGA-OR-A5J3</th>\n",
       "      <td>ACC_3</td>\n",
       "      <td>1164.90</td>\n",
       "      <td>130.3500</td>\n",
       "      <td>7744.60</td>\n",
       "      <td>31.995</td>\n",
       "      <td>1450.50</td>\n",
       "      <td>1209.30</td>\n",
       "      <td>56320.0</td>\n",
       "      <td>271000.0</td>\n",
       "      <td>73505.0</td>\n",
       "      <td>...</td>\n",
       "      <td>1410.80</td>\n",
       "      <td>2724.90</td>\n",
       "      <td>4540.40</td>\n",
       "      <td>1583.80</td>\n",
       "      <td>1.1850</td>\n",
       "      <td>627.46</td>\n",
       "      <td>1727.70</td>\n",
       "      <td>293.880</td>\n",
       "      <td>745.96</td>\n",
       "      <td>2741.5</td>\n",
       "    </tr>\n",
       "    <tr>\n",
       "      <th>TCGA-OR-A5J5</th>\n",
       "      <td>ACC_3</td>\n",
       "      <td>1531.40</td>\n",
       "      <td>134.0000</td>\n",
       "      <td>17322.00</td>\n",
       "      <td>46.476</td>\n",
       "      <td>749.03</td>\n",
       "      <td>809.45</td>\n",
       "      <td>40738.0</td>\n",
       "      <td>127710.0</td>\n",
       "      <td>111060.0</td>\n",
       "      <td>...</td>\n",
       "      <td>3687.80</td>\n",
       "      <td>3060.40</td>\n",
       "      <td>3034.90</td>\n",
       "      <td>491.87</td>\n",
       "      <td>0.0000</td>\n",
       "      <td>436.10</td>\n",
       "      <td>1127.80</td>\n",
       "      <td>172.730</td>\n",
       "      <td>1927.20</td>\n",
       "      <td>1626.7</td>\n",
       "    </tr>\n",
       "    <tr>\n",
       "      <th>TCGA-OR-A5J6</th>\n",
       "      <td>ACC_1</td>\n",
       "      <td>376.11</td>\n",
       "      <td>4.4709</td>\n",
       "      <td>787.43</td>\n",
       "      <td>112.330</td>\n",
       "      <td>415.23</td>\n",
       "      <td>1569.80</td>\n",
       "      <td>166900.0</td>\n",
       "      <td>45653.0</td>\n",
       "      <td>52458.0</td>\n",
       "      <td>...</td>\n",
       "      <td>1235.60</td>\n",
       "      <td>2913.20</td>\n",
       "      <td>4461.90</td>\n",
       "      <td>1473.70</td>\n",
       "      <td>1.6766</td>\n",
       "      <td>498.50</td>\n",
       "      <td>1996.80</td>\n",
       "      <td>209.570</td>\n",
       "      <td>1051.80</td>\n",
       "      <td>3639.3</td>\n",
       "    </tr>\n",
       "    <tr>\n",
       "      <th>...</th>\n",
       "      <td>...</td>\n",
       "      <td>...</td>\n",
       "      <td>...</td>\n",
       "      <td>...</td>\n",
       "      <td>...</td>\n",
       "      <td>...</td>\n",
       "      <td>...</td>\n",
       "      <td>...</td>\n",
       "      <td>...</td>\n",
       "      <td>...</td>\n",
       "      <td>...</td>\n",
       "      <td>...</td>\n",
       "      <td>...</td>\n",
       "      <td>...</td>\n",
       "      <td>...</td>\n",
       "      <td>...</td>\n",
       "      <td>...</td>\n",
       "      <td>...</td>\n",
       "      <td>...</td>\n",
       "      <td>...</td>\n",
       "      <td>...</td>\n",
       "    </tr>\n",
       "    <tr>\n",
       "      <th>TCGA-WC-AA9E</th>\n",
       "      <td>UVM_3</td>\n",
       "      <td>76.65</td>\n",
       "      <td>0.8861</td>\n",
       "      <td>403.63</td>\n",
       "      <td>53.611</td>\n",
       "      <td>922.02</td>\n",
       "      <td>3732.40</td>\n",
       "      <td>37423.0</td>\n",
       "      <td>56811.0</td>\n",
       "      <td>69981.0</td>\n",
       "      <td>...</td>\n",
       "      <td>520.16</td>\n",
       "      <td>400.07</td>\n",
       "      <td>998.23</td>\n",
       "      <td>871.95</td>\n",
       "      <td>0.0000</td>\n",
       "      <td>1105.00</td>\n",
       "      <td>386.35</td>\n",
       "      <td>59.814</td>\n",
       "      <td>1312.40</td>\n",
       "      <td>2148.0</td>\n",
       "    </tr>\n",
       "    <tr>\n",
       "      <th>TCGA-YZ-A980</th>\n",
       "      <td>UVM_1</td>\n",
       "      <td>1841.30</td>\n",
       "      <td>12.7420</td>\n",
       "      <td>2852.40</td>\n",
       "      <td>305.800</td>\n",
       "      <td>1208.40</td>\n",
       "      <td>5686.40</td>\n",
       "      <td>48825.0</td>\n",
       "      <td>103200.0</td>\n",
       "      <td>44996.0</td>\n",
       "      <td>...</td>\n",
       "      <td>321.00</td>\n",
       "      <td>1222.00</td>\n",
       "      <td>1394.60</td>\n",
       "      <td>945.34</td>\n",
       "      <td>3.6991</td>\n",
       "      <td>348.13</td>\n",
       "      <td>1054.20</td>\n",
       "      <td>117.960</td>\n",
       "      <td>1072.80</td>\n",
       "      <td>1923.1</td>\n",
       "    </tr>\n",
       "    <tr>\n",
       "      <th>TCGA-YZ-A982</th>\n",
       "      <td>UVM_2</td>\n",
       "      <td>144.25</td>\n",
       "      <td>0.8850</td>\n",
       "      <td>628.32</td>\n",
       "      <td>287.610</td>\n",
       "      <td>152.21</td>\n",
       "      <td>3771.70</td>\n",
       "      <td>73261.0</td>\n",
       "      <td>59826.0</td>\n",
       "      <td>82306.0</td>\n",
       "      <td>...</td>\n",
       "      <td>228.32</td>\n",
       "      <td>387.61</td>\n",
       "      <td>656.64</td>\n",
       "      <td>745.13</td>\n",
       "      <td>0.0000</td>\n",
       "      <td>279.65</td>\n",
       "      <td>274.34</td>\n",
       "      <td>29.203</td>\n",
       "      <td>2958.40</td>\n",
       "      <td>2597.3</td>\n",
       "    </tr>\n",
       "    <tr>\n",
       "      <th>TCGA-YZ-A983</th>\n",
       "      <td>UVM_3</td>\n",
       "      <td>490.15</td>\n",
       "      <td>78.2020</td>\n",
       "      <td>774.01</td>\n",
       "      <td>80.665</td>\n",
       "      <td>592.98</td>\n",
       "      <td>696.43</td>\n",
       "      <td>32539.0</td>\n",
       "      <td>83361.0</td>\n",
       "      <td>37870.0</td>\n",
       "      <td>...</td>\n",
       "      <td>766.63</td>\n",
       "      <td>951.30</td>\n",
       "      <td>891.01</td>\n",
       "      <td>894.70</td>\n",
       "      <td>4.3103</td>\n",
       "      <td>817.12</td>\n",
       "      <td>475.37</td>\n",
       "      <td>38.793</td>\n",
       "      <td>1229.70</td>\n",
       "      <td>3046.8</td>\n",
       "    </tr>\n",
       "    <tr>\n",
       "      <th>TCGA-YZ-A985</th>\n",
       "      <td>UVM_4</td>\n",
       "      <td>1777.50</td>\n",
       "      <td>3.4030</td>\n",
       "      <td>1118.50</td>\n",
       "      <td>205.310</td>\n",
       "      <td>1128.70</td>\n",
       "      <td>1304.50</td>\n",
       "      <td>40780.0</td>\n",
       "      <td>249740.0</td>\n",
       "      <td>54427.0</td>\n",
       "      <td>...</td>\n",
       "      <td>319.88</td>\n",
       "      <td>787.23</td>\n",
       "      <td>598.93</td>\n",
       "      <td>359.58</td>\n",
       "      <td>0.0000</td>\n",
       "      <td>210.99</td>\n",
       "      <td>438.99</td>\n",
       "      <td>35.164</td>\n",
       "      <td>1816.10</td>\n",
       "      <td>1482.6</td>\n",
       "    </tr>\n",
       "  </tbody>\n",
       "</table>\n",
       "<p>8791 rows × 5001 columns</p>\n",
       "</div>"
      ],
      "text/plain": [
       "             Labels  N:GEXP::COL1A1:1277:  N:GEXP::TG:7038:  \\\n",
       "TCGA-OR-A5J1  ACC_2                485.59           93.1800   \n",
       "TCGA-OR-A5J2  ACC_2               4269.10            7.2473   \n",
       "TCGA-OR-A5J3  ACC_3               1164.90          130.3500   \n",
       "TCGA-OR-A5J5  ACC_3               1531.40          134.0000   \n",
       "TCGA-OR-A5J6  ACC_1                376.11            4.4709   \n",
       "...             ...                   ...               ...   \n",
       "TCGA-WC-AA9E  UVM_3                 76.65            0.8861   \n",
       "TCGA-YZ-A980  UVM_1               1841.30           12.7420   \n",
       "TCGA-YZ-A982  UVM_2                144.25            0.8850   \n",
       "TCGA-YZ-A983  UVM_3                490.15           78.2020   \n",
       "TCGA-YZ-A985  UVM_4               1777.50            3.4030   \n",
       "\n",
       "              N:GEXP::FN1:2335:  N:GEXP::SERPINA1:5265:  N:GEXP::COL3A1:1281:  \\\n",
       "TCGA-OR-A5J1            1558.60                 229.110                325.65   \n",
       "TCGA-OR-A5J2           20086.00                  75.695              13904.00   \n",
       "TCGA-OR-A5J3            7744.60                  31.995               1450.50   \n",
       "TCGA-OR-A5J5           17322.00                  46.476                749.03   \n",
       "TCGA-OR-A5J6             787.43                 112.330                415.23   \n",
       "...                         ...                     ...                   ...   \n",
       "TCGA-WC-AA9E             403.63                  53.611                922.02   \n",
       "TCGA-YZ-A980            2852.40                 305.800               1208.40   \n",
       "TCGA-YZ-A982             628.32                 287.610                152.21   \n",
       "TCGA-YZ-A983             774.01                  80.665                592.98   \n",
       "TCGA-YZ-A985            1118.50                 205.310               1128.70   \n",
       "\n",
       "              N:GEXP::COL1A2:1278:  N:GEXP::FTL:2512:  N:GEXP::GAPDH:2597:  \\\n",
       "TCGA-OR-A5J1                784.82            13570.0              57986.0   \n",
       "TCGA-OR-A5J2               4204.30            59215.0              45123.0   \n",
       "TCGA-OR-A5J3               1209.30            56320.0             271000.0   \n",
       "TCGA-OR-A5J5                809.45            40738.0             127710.0   \n",
       "TCGA-OR-A5J6               1569.80           166900.0              45653.0   \n",
       "...                            ...                ...                  ...   \n",
       "TCGA-WC-AA9E               3732.40            37423.0              56811.0   \n",
       "TCGA-YZ-A980               5686.40            48825.0             103200.0   \n",
       "TCGA-YZ-A982               3771.70            73261.0              59826.0   \n",
       "TCGA-YZ-A983                696.43            32539.0              83361.0   \n",
       "TCGA-YZ-A985               1304.50            40780.0             249740.0   \n",
       "\n",
       "              N:GEXP::ACTB:60:  ...  N:GEXP::DECR2:26063:  \\\n",
       "TCGA-OR-A5J1           68807.0  ...                543.71   \n",
       "TCGA-OR-A5J2           71065.0  ...               1060.50   \n",
       "TCGA-OR-A5J3           73505.0  ...               1410.80   \n",
       "TCGA-OR-A5J5          111060.0  ...               3687.80   \n",
       "TCGA-OR-A5J6           52458.0  ...               1235.60   \n",
       "...                        ...  ...                   ...   \n",
       "TCGA-WC-AA9E           69981.0  ...                520.16   \n",
       "TCGA-YZ-A980           44996.0  ...                321.00   \n",
       "TCGA-YZ-A982           82306.0  ...                228.32   \n",
       "TCGA-YZ-A983           37870.0  ...                766.63   \n",
       "TCGA-YZ-A985           54427.0  ...                319.88   \n",
       "\n",
       "              N:GEXP::ATPAF1:64756:  N:GEXP::TSPAN17:26262:  \\\n",
       "TCGA-OR-A5J1                2782.40                 1488.50   \n",
       "TCGA-OR-A5J2                1687.70                 1521.10   \n",
       "TCGA-OR-A5J3                2724.90                 4540.40   \n",
       "TCGA-OR-A5J5                3060.40                 3034.90   \n",
       "TCGA-OR-A5J6                2913.20                 4461.90   \n",
       "...                             ...                     ...   \n",
       "TCGA-WC-AA9E                 400.07                  998.23   \n",
       "TCGA-YZ-A980                1222.00                 1394.60   \n",
       "TCGA-YZ-A982                 387.61                  656.64   \n",
       "TCGA-YZ-A983                 951.30                  891.01   \n",
       "TCGA-YZ-A985                 787.23                  598.93   \n",
       "\n",
       "              N:GEXP::TMEM50B:757:  N:GEXP::TMEM125:128218:  \\\n",
       "TCGA-OR-A5J1                602.83                   0.0000   \n",
       "TCGA-OR-A5J2                690.11                   2.4158   \n",
       "TCGA-OR-A5J3               1583.80                   1.1850   \n",
       "TCGA-OR-A5J5                491.87                   0.0000   \n",
       "TCGA-OR-A5J6               1473.70                   1.6766   \n",
       "...                            ...                      ...   \n",
       "TCGA-WC-AA9E                871.95                   0.0000   \n",
       "TCGA-YZ-A980                945.34                   3.6991   \n",
       "TCGA-YZ-A982                745.13                   0.0000   \n",
       "TCGA-YZ-A983                894.70                   4.3103   \n",
       "TCGA-YZ-A985                359.58                   0.0000   \n",
       "\n",
       "              N:GEXP::NMD3:51068:  N:GEXP::HS2ST1:9653:  N:GEXP::CDH13:1012:  \\\n",
       "TCGA-OR-A5J1               587.42               3538.40              134.970   \n",
       "TCGA-OR-A5J2              1714.40               2311.20              438.870   \n",
       "TCGA-OR-A5J3               627.46               1727.70              293.880   \n",
       "TCGA-OR-A5J5               436.10               1127.80              172.730   \n",
       "TCGA-OR-A5J6               498.50               1996.80              209.570   \n",
       "...                           ...                   ...                  ...   \n",
       "TCGA-WC-AA9E              1105.00                386.35               59.814   \n",
       "TCGA-YZ-A980               348.13               1054.20              117.960   \n",
       "TCGA-YZ-A982               279.65                274.34               29.203   \n",
       "TCGA-YZ-A983               817.12                475.37               38.793   \n",
       "TCGA-YZ-A985               210.99                438.99               35.164   \n",
       "\n",
       "              N:GEXP::C8orf30A:51236:  N:GEXP::SLC41A3:54946:  \n",
       "TCGA-OR-A5J1                  1564.40                  2230.6  \n",
       "TCGA-OR-A5J2                   593.08                  8604.6  \n",
       "TCGA-OR-A5J3                   745.96                  2741.5  \n",
       "TCGA-OR-A5J5                  1927.20                  1626.7  \n",
       "TCGA-OR-A5J6                  1051.80                  3639.3  \n",
       "...                               ...                     ...  \n",
       "TCGA-WC-AA9E                  1312.40                  2148.0  \n",
       "TCGA-YZ-A980                  1072.80                  1923.1  \n",
       "TCGA-YZ-A982                  2958.40                  2597.3  \n",
       "TCGA-YZ-A983                  1229.70                  3046.8  \n",
       "TCGA-YZ-A985                  1816.10                  1482.6  \n",
       "\n",
       "[8791 rows x 5001 columns]"
      ]
     },
     "execution_count": 73,
     "metadata": {},
     "output_type": "execute_result"
    }
   ],
   "source": [
    "stack"
   ]
  },
  {
   "cell_type": "code",
   "execution_count": 74,
   "id": "db7311fa-74fd-441d-b296-3656cc433e0f",
   "metadata": {},
   "outputs": [
    {
     "data": {
      "text/plain": [
       "array(['ACC', 'BLCA', 'BRCA', 'CESC', 'COADREAD', 'ESCC', 'GEA', 'HNSC',\n",
       "       'KIRCKICH', 'KIRP', 'LGGGBM', 'LIHCCHOL', 'LUAD', 'LUSC', 'MESO',\n",
       "       'OV', 'PAAD', 'PCPG', 'PRAD', 'SARC', 'SKCM', 'TGCT', 'THCA',\n",
       "       'THYM', 'UCEC', 'UVM'], dtype=object)"
      ]
     },
     "execution_count": 74,
     "metadata": {},
     "output_type": "execute_result"
    }
   ],
   "source": [
    "stack.Labels.str.split('_').str[0].unique() # Perfect"
   ]
  },
  {
   "cell_type": "code",
   "execution_count": 75,
   "id": "c675fcd9-1d8d-4dfb-9f83-cfa318b80c7f",
   "metadata": {
    "tags": []
   },
   "outputs": [
    {
     "name": "stdout",
     "output_type": "stream",
     "text": [
      "ACC\n",
      "BLCA\n",
      "BRCA\n",
      "CESC\n",
      "COADREAD\n",
      "ESCC\n",
      "GEA\n",
      "HNSC\n",
      "KIRCKICH\n",
      "KIRP\n",
      "LGGGBM\n",
      "LIHCCHOL\n",
      "LUAD\n",
      "LUSC\n",
      "MESO\n",
      "OV\n",
      "PAAD\n",
      "PCPG\n",
      "PRAD\n",
      "SARC\n",
      "SKCM\n",
      "TGCT\n",
      "THCA\n",
      "THYM\n",
      "UCEC\n",
      "UVM\n"
     ]
    }
   ],
   "source": [
    "for c in stack.Labels.str.split('_').str[0].unique():\n",
    "    print(c)\n",
    "    primary_subset = stack[stack.Labels.str.contains(c)]\n",
    "    max_col_vals = primary_subset.iloc[:, 1:].max()\n",
    "    X_train = (primary_subset.iloc[:, 1:] / max_col_vals)\n",
    "    X_labeled = pd.concat( [pd.DataFrame(primary_subset.Labels), X_train] ,\n",
    "                     axis = 1)\n",
    "    X_labeled.index.name = c # good, carry this through, and to file read tests\n",
    "\n",
    "    X_labeled.to_csv('i_o/GEXP_MAD_5k_across/'+c+'_across_5k.tsv',\n",
    "                   sep = '\\t')\n",
    "    # break"
   ]
  },
  {
   "cell_type": "code",
   "execution_count": 166,
   "id": "e0e2c3c0-484a-4a1a-8443-60fb509cf901",
   "metadata": {},
   "outputs": [
    {
     "data": {
      "text/plain": [
       "12340"
      ]
     },
     "execution_count": 166,
     "metadata": {},
     "output_type": "execute_result"
    }
   ],
   "source": [
    "len(file.columns)"
   ]
  },
  {
   "cell_type": "code",
   "execution_count": 49,
   "id": "279006e6-abb5-475c-ab16-5afdc074872c",
   "metadata": {},
   "outputs": [],
   "source": [
    "k2 = 5"
   ]
  },
  {
   "cell_type": "code",
   "execution_count": 50,
   "id": "31510cd7-aaa1-4cf9-bbc6-fbefd73141ec",
   "metadata": {},
   "outputs": [
    {
     "data": {
      "text/plain": [
       "5000"
      ]
     },
     "execution_count": 50,
     "metadata": {},
     "output_type": "execute_result"
    }
   ],
   "source": [
    "k2 * 1000"
   ]
  },
  {
   "cell_type": "code",
   "execution_count": 48,
   "id": "4b210a5f-1899-4d10-8733-52b96c99ac5c",
   "metadata": {},
   "outputs": [
    {
     "data": {
      "text/plain": [
       "5000"
      ]
     },
     "execution_count": 48,
     "metadata": {},
     "output_type": "execute_result"
    }
   ],
   "source": [
    "k"
   ]
  },
  {
   "cell_type": "code",
   "execution_count": 47,
   "id": "1b0a3a0f-1da0-4743-9ee0-f8caa590e5d1",
   "metadata": {},
   "outputs": [],
   "source": [
    "check_file = pd.read_csv('i_o/GEXP_MAD_5k_across/'+c+'_across_5k.tsv',\n",
    "                         sep = '\\t',\n",
    "                         index_col = 0)"
   ]
  },
  {
   "cell_type": "code",
   "execution_count": 51,
   "id": "27d301c9-7a8c-4d31-99f4-da72db964616",
   "metadata": {},
   "outputs": [],
   "source": [
    "k = 5000\n",
    "check_file_lg = pd.read_csv('i_o/GEXP_MAD_5k_across/BRCA_across_'+str(k2)+'k.tsv',\n",
    "                         sep = '\\t',\n",
    "                         index_col = 0)"
   ]
  },
  {
   "cell_type": "code",
   "execution_count": 52,
   "id": "25a73f75-126c-4285-af51-aed6650def65",
   "metadata": {},
   "outputs": [
    {
     "data": {
      "text/plain": [
       "Index(['N:GEXP::C6orf170:221322:', 'N:GEXP::MTHFD2:10797:',\n",
       "       'N:GEXP::ATXN2L:11273:', 'N:GEXP::ZNF396:252884:',\n",
       "       'N:GEXP::BDH2:56898:', 'N:GEXP::DAG1:1605:', 'N:GEXP::PCDH12:51294:',\n",
       "       'N:GEXP::SLC20A2:6575:', 'N:GEXP::APAF1:317:', 'N:GEXP::DNAJA2:10294:',\n",
       "       ...\n",
       "       'N:GEXP::XYLB:9942:', 'N:GEXP::ZNF671:79891:', 'N:GEXP::CCDC69:26112:',\n",
       "       'N:GEXP::DOK6:220164:', 'N:GEXP::PAPOLG:64895:',\n",
       "       'N:GEXP::KIAA1522:57648:', 'N:GEXP::TM2D1:83941:',\n",
       "       'N:GEXP::CNNM3:26505:', 'N:GEXP::DNAJC14:85406:',\n",
       "       'N:GEXP::ARHGEF10L:55160:'],\n",
       "      dtype='object', length=12339)"
      ]
     },
     "execution_count": 52,
     "metadata": {},
     "output_type": "execute_result"
    }
   ],
   "source": [
    "check_file_lg.columns[1:]"
   ]
  },
  {
   "cell_type": "code",
   "execution_count": 53,
   "id": "5a67c25f-68ed-4dc5-adce-6fc24071cb73",
   "metadata": {},
   "outputs": [
    {
     "data": {
      "text/plain": [
       "'BRCA'"
      ]
     },
     "execution_count": 53,
     "metadata": {},
     "output_type": "execute_result"
    }
   ],
   "source": [
    "check_file_lg.index.name"
   ]
  },
  {
   "cell_type": "markdown",
   "id": "e827c73c-691a-4bf3-8b01-daed0de0de11",
   "metadata": {
    "tags": []
   },
   "source": [
    "#### Across MAD set two - without LGGGBM"
   ]
  },
  {
   "cell_type": "code",
   "execution_count": null,
   "id": "4d897e14-354d-45ae-8948-39c931347248",
   "metadata": {},
   "outputs": [],
   "source": [
    "# Comparison feature set for run 1 box curve"
   ]
  },
  {
   "cell_type": "code",
   "execution_count": 82,
   "id": "83267268-6e3e-487d-b251-b78d4afc6226",
   "metadata": {},
   "outputs": [
    {
     "name": "stdout",
     "output_type": "stream",
     "text": [
      "i_o/GEXP_intersection_no_LGGGBM/ACC_GEXP_intrsct_no_LGGGBM.tsv\n",
      "i_o/GEXP_intersection_no_LGGGBM/BLCA_GEXP_intrsct_no_LGGGBM.tsv\n",
      "i_o/GEXP_intersection_no_LGGGBM/BRCA_GEXP_intrsct_no_LGGGBM.tsv\n",
      "i_o/GEXP_intersection_no_LGGGBM/CESC_GEXP_intrsct_no_LGGGBM.tsv\n",
      "i_o/GEXP_intersection_no_LGGGBM/COADREAD_GEXP_intrsct_no_LGGGBM.tsv\n",
      "i_o/GEXP_intersection_no_LGGGBM/ESCC_GEXP_intrsct_no_LGGGBM.tsv\n",
      "i_o/GEXP_intersection_no_LGGGBM/GEA_GEXP_intrsct_no_LGGGBM.tsv\n",
      "i_o/GEXP_intersection_no_LGGGBM/HNSC_GEXP_intrsct_no_LGGGBM.tsv\n",
      "i_o/GEXP_intersection_no_LGGGBM/KIRCKICH_GEXP_intrsct_no_LGGGBM.tsv\n",
      "i_o/GEXP_intersection_no_LGGGBM/KIRP_GEXP_intrsct_no_LGGGBM.tsv\n",
      "i_o/GEXP_intersection_no_LGGGBM/LIHCCHOL_GEXP_intrsct_no_LGGGBM.tsv\n",
      "i_o/GEXP_intersection_no_LGGGBM/LUAD_GEXP_intrsct_no_LGGGBM.tsv\n",
      "i_o/GEXP_intersection_no_LGGGBM/LUSC_GEXP_intrsct_no_LGGGBM.tsv\n",
      "i_o/GEXP_intersection_no_LGGGBM/MESO_GEXP_intrsct_no_LGGGBM.tsv\n",
      "i_o/GEXP_intersection_no_LGGGBM/OV_GEXP_intrsct_no_LGGGBM.tsv\n",
      "i_o/GEXP_intersection_no_LGGGBM/PAAD_GEXP_intrsct_no_LGGGBM.tsv\n",
      "i_o/GEXP_intersection_no_LGGGBM/PCPG_GEXP_intrsct_no_LGGGBM.tsv\n",
      "i_o/GEXP_intersection_no_LGGGBM/PRAD_GEXP_intrsct_no_LGGGBM.tsv\n",
      "i_o/GEXP_intersection_no_LGGGBM/SARC_GEXP_intrsct_no_LGGGBM.tsv\n",
      "i_o/GEXP_intersection_no_LGGGBM/SKCM_GEXP_intrsct_no_LGGGBM.tsv\n",
      "i_o/GEXP_intersection_no_LGGGBM/TGCT_GEXP_intrsct_no_LGGGBM.tsv\n",
      "i_o/GEXP_intersection_no_LGGGBM/THCA_GEXP_intrsct_no_LGGGBM.tsv\n",
      "i_o/GEXP_intersection_no_LGGGBM/THYM_GEXP_intrsct_no_LGGGBM.tsv\n",
      "i_o/GEXP_intersection_no_LGGGBM/UCEC_GEXP_intrsct_no_LGGGBM.tsv\n",
      "i_o/GEXP_intersection_no_LGGGBM/UVM_GEXP_intrsct_no_LGGGBM.tsv\n",
      "ACC\n",
      "BLCA\n",
      "BRCA\n",
      "CESC\n",
      "COADREAD\n",
      "ESCC\n",
      "GEA\n",
      "HNSC\n",
      "KIRCKICH\n",
      "KIRP\n",
      "LIHCCHOL\n",
      "LUAD\n",
      "LUSC\n",
      "MESO\n",
      "OV\n",
      "PAAD\n",
      "PCPG\n",
      "PRAD\n",
      "SARC\n",
      "SKCM\n",
      "TGCT\n",
      "THCA\n",
      "THYM\n",
      "UCEC\n",
      "UVM\n"
     ]
    }
   ],
   "source": [
    "k = 5\n",
    "stack = pd.DataFrame()\n",
    "for ntrsct_pth in sorted(glob.glob('i_o/GEXP_intersection_no_LGGGBM/*.tsv')):\n",
    "    print(ntrsct_pth)\n",
    "    file = pd.read_csv(ntrsct_pth, sep = '\\t', index_col = 0)\n",
    "    stack = pd.concat( [stack, file] , axis = 0)    \n",
    "features = (stack.iloc[:, 1:] - stack.iloc[:, 1:].mean()).abs().mean().sort_values(ascending=False)[:k*1000].index\n",
    "stack = pd.concat( [pd.DataFrame(stack.Labels), stack.loc[:, features]] ,\n",
    "                     axis = 1)\n",
    "for c in stack.Labels.str.split('_').str[0].unique():\n",
    "    print(c)\n",
    "    primary_subset = stack[stack.Labels.str.contains(c)]\n",
    "    max_col_vals = primary_subset.iloc[:, 1:].max()\n",
    "    X_train = (primary_subset.iloc[:, 1:] / max_col_vals)\n",
    "    X_labeled = pd.concat( [pd.DataFrame(primary_subset.Labels), X_train] ,\n",
    "                     axis = 1)\n",
    "    X_labeled.index.name = c\n",
    "    X_labeled.to_csv('i_o/GEXP_MAD_5k_across_no_LGGGBM/'+c+'_across_5k_no_LGGGBM.tsv',\n",
    "                   sep = '\\t')"
   ]
  },
  {
   "cell_type": "code",
   "execution_count": 83,
   "id": "fa69e1bd-0736-4c7c-a70e-47489c7626c9",
   "metadata": {},
   "outputs": [
    {
     "data": {
      "text/plain": [
       "17177"
      ]
     },
     "execution_count": 83,
     "metadata": {},
     "output_type": "execute_result"
    }
   ],
   "source": [
    "len(file.columns)"
   ]
  },
  {
   "cell_type": "code",
   "execution_count": 84,
   "id": "e9b1421a-28e4-485e-b5c2-5440eb528d18",
   "metadata": {},
   "outputs": [],
   "source": [
    "check_file_lg = pd.read_csv('i_o/GEXP_MAD_5k_across/BRCA_across_'+str(k)+'k.tsv',\n",
    "                         sep = '\\t',\n",
    "                         index_col = 0)"
   ]
  },
  {
   "cell_type": "code",
   "execution_count": 85,
   "id": "9ee598f8-5992-48a5-b355-af994750403b",
   "metadata": {},
   "outputs": [
    {
     "data": {
      "text/plain": [
       "(995, 5001)"
      ]
     },
     "execution_count": 85,
     "metadata": {},
     "output_type": "execute_result"
    }
   ],
   "source": [
    "check_file_lg.shape"
   ]
  },
  {
   "cell_type": "code",
   "execution_count": 96,
   "id": "7fefda55-2de0-4671-bb15-c0b4462dda6a",
   "metadata": {},
   "outputs": [
    {
     "data": {
      "text/html": [
       "<div>\n",
       "<style scoped>\n",
       "    .dataframe tbody tr th:only-of-type {\n",
       "        vertical-align: middle;\n",
       "    }\n",
       "\n",
       "    .dataframe tbody tr th {\n",
       "        vertical-align: top;\n",
       "    }\n",
       "\n",
       "    .dataframe thead th {\n",
       "        text-align: right;\n",
       "    }\n",
       "</style>\n",
       "<table border=\"1\" class=\"dataframe\">\n",
       "  <thead>\n",
       "    <tr style=\"text-align: right;\">\n",
       "      <th></th>\n",
       "      <th>Labels</th>\n",
       "      <th>N:GEXP::COL1A1:1277:</th>\n",
       "      <th>N:GEXP::TG:7038:</th>\n",
       "      <th>N:GEXP::FN1:2335:</th>\n",
       "      <th>N:GEXP::SERPINA1:5265:</th>\n",
       "      <th>N:GEXP::COL3A1:1281:</th>\n",
       "      <th>N:GEXP::COL1A2:1278:</th>\n",
       "      <th>N:GEXP::FTL:2512:</th>\n",
       "      <th>N:GEXP::GAPDH:2597:</th>\n",
       "      <th>N:GEXP::ACTB:60:</th>\n",
       "      <th>...</th>\n",
       "      <th>N:GEXP::DECR2:26063:</th>\n",
       "      <th>N:GEXP::ATPAF1:64756:</th>\n",
       "      <th>N:GEXP::TSPAN17:26262:</th>\n",
       "      <th>N:GEXP::TMEM50B:757:</th>\n",
       "      <th>N:GEXP::TMEM125:128218:</th>\n",
       "      <th>N:GEXP::NMD3:51068:</th>\n",
       "      <th>N:GEXP::HS2ST1:9653:</th>\n",
       "      <th>N:GEXP::CDH13:1012:</th>\n",
       "      <th>N:GEXP::C8orf30A:51236:</th>\n",
       "      <th>N:GEXP::SLC41A3:54946:</th>\n",
       "    </tr>\n",
       "    <tr>\n",
       "      <th>BRCA</th>\n",
       "      <th></th>\n",
       "      <th></th>\n",
       "      <th></th>\n",
       "      <th></th>\n",
       "      <th></th>\n",
       "      <th></th>\n",
       "      <th></th>\n",
       "      <th></th>\n",
       "      <th></th>\n",
       "      <th></th>\n",
       "      <th></th>\n",
       "      <th></th>\n",
       "      <th></th>\n",
       "      <th></th>\n",
       "      <th></th>\n",
       "      <th></th>\n",
       "      <th></th>\n",
       "      <th></th>\n",
       "      <th></th>\n",
       "      <th></th>\n",
       "      <th></th>\n",
       "    </tr>\n",
       "  </thead>\n",
       "  <tbody>\n",
       "    <tr>\n",
       "      <th>TCGA-3C-AAAU</th>\n",
       "      <td>BRCA_1</td>\n",
       "      <td>0.031385</td>\n",
       "      <td>0.00934</td>\n",
       "      <td>0.039359</td>\n",
       "      <td>0.046129</td>\n",
       "      <td>0.031442</td>\n",
       "      <td>0.018842</td>\n",
       "      <td>0.087729</td>\n",
       "      <td>0.089627</td>\n",
       "      <td>0.136415</td>\n",
       "      <td>...</td>\n",
       "      <td>0.134333</td>\n",
       "      <td>0.395323</td>\n",
       "      <td>0.211688</td>\n",
       "      <td>0.285639</td>\n",
       "      <td>0.233318</td>\n",
       "      <td>0.203803</td>\n",
       "      <td>0.242757</td>\n",
       "      <td>0.060273</td>\n",
       "      <td>0.172109</td>\n",
       "      <td>0.52624</td>\n",
       "    </tr>\n",
       "  </tbody>\n",
       "</table>\n",
       "<p>1 rows × 5001 columns</p>\n",
       "</div>"
      ],
      "text/plain": [
       "              Labels  N:GEXP::COL1A1:1277:  N:GEXP::TG:7038:  \\\n",
       "BRCA                                                           \n",
       "TCGA-3C-AAAU  BRCA_1              0.031385           0.00934   \n",
       "\n",
       "              N:GEXP::FN1:2335:  N:GEXP::SERPINA1:5265:  N:GEXP::COL3A1:1281:  \\\n",
       "BRCA                                                                            \n",
       "TCGA-3C-AAAU           0.039359                0.046129              0.031442   \n",
       "\n",
       "              N:GEXP::COL1A2:1278:  N:GEXP::FTL:2512:  N:GEXP::GAPDH:2597:  \\\n",
       "BRCA                                                                         \n",
       "TCGA-3C-AAAU              0.018842           0.087729             0.089627   \n",
       "\n",
       "              N:GEXP::ACTB:60:  ...  N:GEXP::DECR2:26063:  \\\n",
       "BRCA                            ...                         \n",
       "TCGA-3C-AAAU          0.136415  ...              0.134333   \n",
       "\n",
       "              N:GEXP::ATPAF1:64756:  N:GEXP::TSPAN17:26262:  \\\n",
       "BRCA                                                          \n",
       "TCGA-3C-AAAU               0.395323                0.211688   \n",
       "\n",
       "              N:GEXP::TMEM50B:757:  N:GEXP::TMEM125:128218:  \\\n",
       "BRCA                                                          \n",
       "TCGA-3C-AAAU              0.285639                 0.233318   \n",
       "\n",
       "              N:GEXP::NMD3:51068:  N:GEXP::HS2ST1:9653:  N:GEXP::CDH13:1012:  \\\n",
       "BRCA                                                                           \n",
       "TCGA-3C-AAAU             0.203803              0.242757             0.060273   \n",
       "\n",
       "              N:GEXP::C8orf30A:51236:  N:GEXP::SLC41A3:54946:  \n",
       "BRCA                                                           \n",
       "TCGA-3C-AAAU                 0.172109                 0.52624  \n",
       "\n",
       "[1 rows x 5001 columns]"
      ]
     },
     "execution_count": 96,
     "metadata": {},
     "output_type": "execute_result"
    }
   ],
   "source": [
    "check_file_lg.head(1)"
   ]
  },
  {
   "cell_type": "code",
   "execution_count": 86,
   "id": "b190e1b7-322b-45af-9bad-6101333917ac",
   "metadata": {},
   "outputs": [],
   "source": [
    "check_file_no_lg = pd.read_csv('i_o/GEXP_MAD_5k_across_no_LGGGBM/BRCA_across_'+str(k)+'k_no_LGGGBM.tsv',\n",
    "                         sep = '\\t',\n",
    "                         index_col = 0)"
   ]
  },
  {
   "cell_type": "code",
   "execution_count": 87,
   "id": "d9657e83-64f4-40b4-80bc-2a13566e389b",
   "metadata": {},
   "outputs": [
    {
     "data": {
      "text/plain": [
       "(995, 5001)"
      ]
     },
     "execution_count": 87,
     "metadata": {},
     "output_type": "execute_result"
    }
   ],
   "source": [
    "check_file_no_lg.shape"
   ]
  },
  {
   "cell_type": "code",
   "execution_count": 94,
   "id": "709e25d5-41c3-4e58-befc-1f95671d926c",
   "metadata": {},
   "outputs": [
    {
     "data": {
      "text/html": [
       "<div>\n",
       "<style scoped>\n",
       "    .dataframe tbody tr th:only-of-type {\n",
       "        vertical-align: middle;\n",
       "    }\n",
       "\n",
       "    .dataframe tbody tr th {\n",
       "        vertical-align: top;\n",
       "    }\n",
       "\n",
       "    .dataframe thead th {\n",
       "        text-align: right;\n",
       "    }\n",
       "</style>\n",
       "<table border=\"1\" class=\"dataframe\">\n",
       "  <thead>\n",
       "    <tr style=\"text-align: right;\">\n",
       "      <th></th>\n",
       "      <th>Labels</th>\n",
       "      <th>N:GEXP::ALB:213:</th>\n",
       "      <th>N:GEXP::TG:7038:</th>\n",
       "      <th>N:GEXP::COL1A1:1277:</th>\n",
       "      <th>N:GEXP::FN1:2335:</th>\n",
       "      <th>N:GEXP::KRT5:3852:</th>\n",
       "      <th>N:GEXP::KRT14:3861:</th>\n",
       "      <th>N:GEXP::KRT6A:3853:</th>\n",
       "      <th>N:GEXP::ADAM6:8755:</th>\n",
       "      <th>N:GEXP::SERPINA1:5265:</th>\n",
       "      <th>...</th>\n",
       "      <th>N:GEXP::C14orf1:11161:</th>\n",
       "      <th>N:GEXP::SMCHD1:23347:</th>\n",
       "      <th>N:GEXP::ARL2BP:23568:</th>\n",
       "      <th>N:GEXP::PITPNB:23760:</th>\n",
       "      <th>N:GEXP::KDM5A:5927:</th>\n",
       "      <th>N:GEXP::CNIH:10175:</th>\n",
       "      <th>N:GEXP::ACADS:35:</th>\n",
       "      <th>N:GEXP::YIPF2:78992:</th>\n",
       "      <th>N:GEXP::MEPCE:56257:</th>\n",
       "      <th>N:GEXP::PPARG:5468:</th>\n",
       "    </tr>\n",
       "    <tr>\n",
       "      <th>BRCA</th>\n",
       "      <th></th>\n",
       "      <th></th>\n",
       "      <th></th>\n",
       "      <th></th>\n",
       "      <th></th>\n",
       "      <th></th>\n",
       "      <th></th>\n",
       "      <th></th>\n",
       "      <th></th>\n",
       "      <th></th>\n",
       "      <th></th>\n",
       "      <th></th>\n",
       "      <th></th>\n",
       "      <th></th>\n",
       "      <th></th>\n",
       "      <th></th>\n",
       "      <th></th>\n",
       "      <th></th>\n",
       "      <th></th>\n",
       "      <th></th>\n",
       "      <th></th>\n",
       "    </tr>\n",
       "  </thead>\n",
       "  <tbody>\n",
       "    <tr>\n",
       "      <th>TCGA-3C-AAAU</th>\n",
       "      <td>BRCA_1</td>\n",
       "      <td>0.000037</td>\n",
       "      <td>0.00934</td>\n",
       "      <td>0.031385</td>\n",
       "      <td>0.039359</td>\n",
       "      <td>0.000004</td>\n",
       "      <td>0.0</td>\n",
       "      <td>0.000001</td>\n",
       "      <td>0.006549</td>\n",
       "      <td>0.046129</td>\n",
       "      <td>...</td>\n",
       "      <td>0.146733</td>\n",
       "      <td>0.378009</td>\n",
       "      <td>0.397913</td>\n",
       "      <td>0.142963</td>\n",
       "      <td>0.177385</td>\n",
       "      <td>0.151151</td>\n",
       "      <td>0.054435</td>\n",
       "      <td>0.171216</td>\n",
       "      <td>0.285434</td>\n",
       "      <td>0.008529</td>\n",
       "    </tr>\n",
       "  </tbody>\n",
       "</table>\n",
       "<p>1 rows × 5001 columns</p>\n",
       "</div>"
      ],
      "text/plain": [
       "              Labels  N:GEXP::ALB:213:  N:GEXP::TG:7038:  \\\n",
       "BRCA                                                       \n",
       "TCGA-3C-AAAU  BRCA_1          0.000037           0.00934   \n",
       "\n",
       "              N:GEXP::COL1A1:1277:  N:GEXP::FN1:2335:  N:GEXP::KRT5:3852:  \\\n",
       "BRCA                                                                        \n",
       "TCGA-3C-AAAU              0.031385           0.039359            0.000004   \n",
       "\n",
       "              N:GEXP::KRT14:3861:  N:GEXP::KRT6A:3853:  N:GEXP::ADAM6:8755:  \\\n",
       "BRCA                                                                          \n",
       "TCGA-3C-AAAU                  0.0             0.000001             0.006549   \n",
       "\n",
       "              N:GEXP::SERPINA1:5265:  ...  N:GEXP::C14orf1:11161:  \\\n",
       "BRCA                                  ...                           \n",
       "TCGA-3C-AAAU                0.046129  ...                0.146733   \n",
       "\n",
       "              N:GEXP::SMCHD1:23347:  N:GEXP::ARL2BP:23568:  \\\n",
       "BRCA                                                         \n",
       "TCGA-3C-AAAU               0.378009               0.397913   \n",
       "\n",
       "              N:GEXP::PITPNB:23760:  N:GEXP::KDM5A:5927:  N:GEXP::CNIH:10175:  \\\n",
       "BRCA                                                                            \n",
       "TCGA-3C-AAAU               0.142963             0.177385             0.151151   \n",
       "\n",
       "              N:GEXP::ACADS:35:  N:GEXP::YIPF2:78992:  N:GEXP::MEPCE:56257:  \\\n",
       "BRCA                                                                          \n",
       "TCGA-3C-AAAU           0.054435              0.171216              0.285434   \n",
       "\n",
       "              N:GEXP::PPARG:5468:  \n",
       "BRCA                               \n",
       "TCGA-3C-AAAU             0.008529  \n",
       "\n",
       "[1 rows x 5001 columns]"
      ]
     },
     "execution_count": 94,
     "metadata": {},
     "output_type": "execute_result"
    }
   ],
   "source": [
    "check_file_no_lg.head(1)"
   ]
  },
  {
   "cell_type": "code",
   "execution_count": 88,
   "id": "6ef79bff-2a2b-46c7-84b4-6116bde28205",
   "metadata": {},
   "outputs": [
    {
     "data": {
      "text/plain": [
       "2"
      ]
     },
     "execution_count": 88,
     "metadata": {},
     "output_type": "execute_result"
    }
   ],
   "source": [
    "np.count_nonzero(check_file_lg.columns[1:] == check_file_no_lg.columns[1:])"
   ]
  },
  {
   "cell_type": "markdown",
   "id": "e8887ec9-c372-45a8-a07a-27e235f20084",
   "metadata": {
    "tags": []
   },
   "source": [
    "## Quality of encoding, transfer learning"
   ]
  },
  {
   "cell_type": "markdown",
   "id": "a174bf54-1750-4eba-a91c-84e5099b9d51",
   "metadata": {
    "tags": []
   },
   "source": [
    "### Setup notes"
   ]
  },
  {
   "cell_type": "code",
   "execution_count": null,
   "id": "548e484d-f9db-4cda-ae33-9862cfa7afa5",
   "metadata": {},
   "outputs": [],
   "source": [
    "# Stitch-in inset loss plots with Inkscape\n",
    "# For TCGA-wide pre-training"
   ]
  },
  {
   "cell_type": "markdown",
   "id": "610fffe8-dfcf-45cf-b56c-e24bcac580c4",
   "metadata": {
    "tags": []
   },
   "source": [
    "### Input objects"
   ]
  },
  {
   "cell_type": "code",
   "execution_count": 114,
   "id": "61096260-0465-4656-a88b-f2d93c670240",
   "metadata": {},
   "outputs": [],
   "source": [
    "file_paths = sorted(\n",
    "    glob.glob(\n",
    "        'i_o/GEXP_MAD_5k_across_no_LGGGBM/*.tsv' # <---- LGGGBM included\n",
    "    ))"
   ]
  },
  {
   "cell_type": "code",
   "execution_count": 5,
   "id": "3710f34b-425a-4b2e-b87e-6f8fc4ab90db",
   "metadata": {},
   "outputs": [],
   "source": [
    "file_paths = sorted(\n",
    "    glob.glob(\n",
    "        'i_o/GEXP_MAD_5k_across/*.tsv' # <---- LGGGBM included\n",
    "    ))"
   ]
  },
  {
   "cell_type": "code",
   "execution_count": 115,
   "id": "358684ed-2bef-47d4-81b9-766580e6fb4d",
   "metadata": {},
   "outputs": [
    {
     "data": {
      "text/plain": [
       "['i_o/GEXP_MAD_5k_across_no_LGGGBM/ACC_across_5k_no_LGGGBM.tsv',\n",
       " 'i_o/GEXP_MAD_5k_across_no_LGGGBM/BLCA_across_5k_no_LGGGBM.tsv',\n",
       " 'i_o/GEXP_MAD_5k_across_no_LGGGBM/BRCA_across_5k_no_LGGGBM.tsv',\n",
       " 'i_o/GEXP_MAD_5k_across_no_LGGGBM/CESC_across_5k_no_LGGGBM.tsv',\n",
       " 'i_o/GEXP_MAD_5k_across_no_LGGGBM/COADREAD_across_5k_no_LGGGBM.tsv',\n",
       " 'i_o/GEXP_MAD_5k_across_no_LGGGBM/ESCC_across_5k_no_LGGGBM.tsv',\n",
       " 'i_o/GEXP_MAD_5k_across_no_LGGGBM/GEA_across_5k_no_LGGGBM.tsv',\n",
       " 'i_o/GEXP_MAD_5k_across_no_LGGGBM/HNSC_across_5k_no_LGGGBM.tsv',\n",
       " 'i_o/GEXP_MAD_5k_across_no_LGGGBM/KIRCKICH_across_5k_no_LGGGBM.tsv',\n",
       " 'i_o/GEXP_MAD_5k_across_no_LGGGBM/KIRP_across_5k_no_LGGGBM.tsv',\n",
       " 'i_o/GEXP_MAD_5k_across_no_LGGGBM/LIHCCHOL_across_5k_no_LGGGBM.tsv',\n",
       " 'i_o/GEXP_MAD_5k_across_no_LGGGBM/LUAD_across_5k_no_LGGGBM.tsv',\n",
       " 'i_o/GEXP_MAD_5k_across_no_LGGGBM/LUSC_across_5k_no_LGGGBM.tsv',\n",
       " 'i_o/GEXP_MAD_5k_across_no_LGGGBM/MESO_across_5k_no_LGGGBM.tsv',\n",
       " 'i_o/GEXP_MAD_5k_across_no_LGGGBM/OV_across_5k_no_LGGGBM.tsv',\n",
       " 'i_o/GEXP_MAD_5k_across_no_LGGGBM/PAAD_across_5k_no_LGGGBM.tsv',\n",
       " 'i_o/GEXP_MAD_5k_across_no_LGGGBM/PCPG_across_5k_no_LGGGBM.tsv',\n",
       " 'i_o/GEXP_MAD_5k_across_no_LGGGBM/PRAD_across_5k_no_LGGGBM.tsv',\n",
       " 'i_o/GEXP_MAD_5k_across_no_LGGGBM/SARC_across_5k_no_LGGGBM.tsv',\n",
       " 'i_o/GEXP_MAD_5k_across_no_LGGGBM/SKCM_across_5k_no_LGGGBM.tsv',\n",
       " 'i_o/GEXP_MAD_5k_across_no_LGGGBM/TGCT_across_5k_no_LGGGBM.tsv',\n",
       " 'i_o/GEXP_MAD_5k_across_no_LGGGBM/THCA_across_5k_no_LGGGBM.tsv',\n",
       " 'i_o/GEXP_MAD_5k_across_no_LGGGBM/THYM_across_5k_no_LGGGBM.tsv',\n",
       " 'i_o/GEXP_MAD_5k_across_no_LGGGBM/UCEC_across_5k_no_LGGGBM.tsv',\n",
       " 'i_o/GEXP_MAD_5k_across_no_LGGGBM/UVM_across_5k_no_LGGGBM.tsv']"
      ]
     },
     "execution_count": 115,
     "metadata": {},
     "output_type": "execute_result"
    }
   ],
   "source": [
    "file_paths"
   ]
  },
  {
   "cell_type": "code",
   "execution_count": 116,
   "id": "61e31008-bbc0-439e-932f-01040c6b0e0f",
   "metadata": {},
   "outputs": [],
   "source": [
    "TCGA_no_BRCA = ['i_o/GEXP_MAD_5k_across_no_LGGGBM/ACC_across_5k_no_LGGGBM.tsv',\n",
    " 'i_o/GEXP_MAD_5k_across_no_LGGGBM/BLCA_across_5k_no_LGGGBM.tsv',\n",
    " # 'i_o/GEXP_MAD_5k_across_no_LGGGBM/BRCA_across_5k_no_LGGGBM.tsv',\n",
    " 'i_o/GEXP_MAD_5k_across_no_LGGGBM/CESC_across_5k_no_LGGGBM.tsv',\n",
    " 'i_o/GEXP_MAD_5k_across_no_LGGGBM/COADREAD_across_5k_no_LGGGBM.tsv',\n",
    " 'i_o/GEXP_MAD_5k_across_no_LGGGBM/ESCC_across_5k_no_LGGGBM.tsv',\n",
    " 'i_o/GEXP_MAD_5k_across_no_LGGGBM/GEA_across_5k_no_LGGGBM.tsv',\n",
    " 'i_o/GEXP_MAD_5k_across_no_LGGGBM/HNSC_across_5k_no_LGGGBM.tsv',\n",
    " 'i_o/GEXP_MAD_5k_across_no_LGGGBM/KIRCKICH_across_5k_no_LGGGBM.tsv',\n",
    " 'i_o/GEXP_MAD_5k_across_no_LGGGBM/KIRP_across_5k_no_LGGGBM.tsv',\n",
    " 'i_o/GEXP_MAD_5k_across_no_LGGGBM/LIHCCHOL_across_5k_no_LGGGBM.tsv',\n",
    " 'i_o/GEXP_MAD_5k_across_no_LGGGBM/LUAD_across_5k_no_LGGGBM.tsv',\n",
    " 'i_o/GEXP_MAD_5k_across_no_LGGGBM/LUSC_across_5k_no_LGGGBM.tsv',\n",
    " 'i_o/GEXP_MAD_5k_across_no_LGGGBM/MESO_across_5k_no_LGGGBM.tsv',\n",
    " 'i_o/GEXP_MAD_5k_across_no_LGGGBM/OV_across_5k_no_LGGGBM.tsv',\n",
    " 'i_o/GEXP_MAD_5k_across_no_LGGGBM/PAAD_across_5k_no_LGGGBM.tsv',\n",
    " 'i_o/GEXP_MAD_5k_across_no_LGGGBM/PCPG_across_5k_no_LGGGBM.tsv',\n",
    " 'i_o/GEXP_MAD_5k_across_no_LGGGBM/PRAD_across_5k_no_LGGGBM.tsv',\n",
    " 'i_o/GEXP_MAD_5k_across_no_LGGGBM/SARC_across_5k_no_LGGGBM.tsv',\n",
    " 'i_o/GEXP_MAD_5k_across_no_LGGGBM/SKCM_across_5k_no_LGGGBM.tsv',\n",
    " 'i_o/GEXP_MAD_5k_across_no_LGGGBM/TGCT_across_5k_no_LGGGBM.tsv',\n",
    " 'i_o/GEXP_MAD_5k_across_no_LGGGBM/THCA_across_5k_no_LGGGBM.tsv',\n",
    " 'i_o/GEXP_MAD_5k_across_no_LGGGBM/THYM_across_5k_no_LGGGBM.tsv',\n",
    " 'i_o/GEXP_MAD_5k_across_no_LGGGBM/UCEC_across_5k_no_LGGGBM.tsv',\n",
    " 'i_o/GEXP_MAD_5k_across_no_LGGGBM/UVM_across_5k_no_LGGGBM.tsv']"
   ]
  },
  {
   "cell_type": "code",
   "execution_count": null,
   "id": "2fdb3d71-551e-49d0-8b3f-3135c0db3b63",
   "metadata": {},
   "outputs": [],
   "source": [
    "# Start transfer train"
   ]
  },
  {
   "cell_type": "code",
   "execution_count": 117,
   "id": "e28cfbd2-bcbb-44bc-bae9-0768be22b3bb",
   "metadata": {},
   "outputs": [
    {
     "name": "stdout",
     "output_type": "stream",
     "text": [
      "i_o/GEXP_MAD_5k_across_no_LGGGBM/ACC_across_5k_no_LGGGBM.tsv\n",
      "i_o/GEXP_MAD_5k_across_no_LGGGBM/BLCA_across_5k_no_LGGGBM.tsv\n",
      "i_o/GEXP_MAD_5k_across_no_LGGGBM/CESC_across_5k_no_LGGGBM.tsv\n",
      "i_o/GEXP_MAD_5k_across_no_LGGGBM/COADREAD_across_5k_no_LGGGBM.tsv\n",
      "i_o/GEXP_MAD_5k_across_no_LGGGBM/ESCC_across_5k_no_LGGGBM.tsv\n",
      "i_o/GEXP_MAD_5k_across_no_LGGGBM/GEA_across_5k_no_LGGGBM.tsv\n",
      "i_o/GEXP_MAD_5k_across_no_LGGGBM/HNSC_across_5k_no_LGGGBM.tsv\n",
      "i_o/GEXP_MAD_5k_across_no_LGGGBM/KIRCKICH_across_5k_no_LGGGBM.tsv\n",
      "i_o/GEXP_MAD_5k_across_no_LGGGBM/KIRP_across_5k_no_LGGGBM.tsv\n",
      "i_o/GEXP_MAD_5k_across_no_LGGGBM/LIHCCHOL_across_5k_no_LGGGBM.tsv\n",
      "i_o/GEXP_MAD_5k_across_no_LGGGBM/LUAD_across_5k_no_LGGGBM.tsv\n",
      "i_o/GEXP_MAD_5k_across_no_LGGGBM/LUSC_across_5k_no_LGGGBM.tsv\n",
      "i_o/GEXP_MAD_5k_across_no_LGGGBM/MESO_across_5k_no_LGGGBM.tsv\n",
      "i_o/GEXP_MAD_5k_across_no_LGGGBM/OV_across_5k_no_LGGGBM.tsv\n",
      "i_o/GEXP_MAD_5k_across_no_LGGGBM/PAAD_across_5k_no_LGGGBM.tsv\n",
      "i_o/GEXP_MAD_5k_across_no_LGGGBM/PCPG_across_5k_no_LGGGBM.tsv\n",
      "i_o/GEXP_MAD_5k_across_no_LGGGBM/PRAD_across_5k_no_LGGGBM.tsv\n",
      "i_o/GEXP_MAD_5k_across_no_LGGGBM/SARC_across_5k_no_LGGGBM.tsv\n",
      "i_o/GEXP_MAD_5k_across_no_LGGGBM/SKCM_across_5k_no_LGGGBM.tsv\n",
      "i_o/GEXP_MAD_5k_across_no_LGGGBM/TGCT_across_5k_no_LGGGBM.tsv\n",
      "i_o/GEXP_MAD_5k_across_no_LGGGBM/THCA_across_5k_no_LGGGBM.tsv\n",
      "i_o/GEXP_MAD_5k_across_no_LGGGBM/THYM_across_5k_no_LGGGBM.tsv\n",
      "i_o/GEXP_MAD_5k_across_no_LGGGBM/UCEC_across_5k_no_LGGGBM.tsv\n",
      "i_o/GEXP_MAD_5k_across_no_LGGGBM/UVM_across_5k_no_LGGGBM.tsv\n"
     ]
    }
   ],
   "source": [
    "tall_stack = pd.DataFrame()\n",
    "for path in TCGA_no_BRCA:\n",
    "    print(path)\n",
    "    file = pd.read_csv(\n",
    "    path, sep = '\\t', index_col = 0)\n",
    "    tall_stack = pd.concat([tall_stack,file],axis = 0)\n",
    "    # break"
   ]
  },
  {
   "cell_type": "code",
   "execution_count": 118,
   "id": "c193dbae-8cc2-462c-b36d-c2936d31086b",
   "metadata": {},
   "outputs": [
    {
     "data": {
      "text/plain": [
       "(7014, 5001)"
      ]
     },
     "execution_count": 118,
     "metadata": {},
     "output_type": "execute_result"
    }
   ],
   "source": [
    "tall_stack.shape"
   ]
  },
  {
   "cell_type": "code",
   "execution_count": 119,
   "id": "80aa4ce7-1aa1-4ae4-be1c-7935ef16e904",
   "metadata": {},
   "outputs": [
    {
     "data": {
      "text/html": [
       "<div>\n",
       "<style scoped>\n",
       "    .dataframe tbody tr th:only-of-type {\n",
       "        vertical-align: middle;\n",
       "    }\n",
       "\n",
       "    .dataframe tbody tr th {\n",
       "        vertical-align: top;\n",
       "    }\n",
       "\n",
       "    .dataframe thead th {\n",
       "        text-align: right;\n",
       "    }\n",
       "</style>\n",
       "<table border=\"1\" class=\"dataframe\">\n",
       "  <thead>\n",
       "    <tr style=\"text-align: right;\">\n",
       "      <th></th>\n",
       "      <th>Labels</th>\n",
       "      <th>N:GEXP::ALB:213:</th>\n",
       "      <th>N:GEXP::TG:7038:</th>\n",
       "      <th>N:GEXP::COL1A1:1277:</th>\n",
       "      <th>N:GEXP::FN1:2335:</th>\n",
       "      <th>N:GEXP::KRT5:3852:</th>\n",
       "      <th>N:GEXP::KRT14:3861:</th>\n",
       "      <th>N:GEXP::KRT6A:3853:</th>\n",
       "      <th>N:GEXP::ADAM6:8755:</th>\n",
       "      <th>N:GEXP::SERPINA1:5265:</th>\n",
       "      <th>...</th>\n",
       "      <th>N:GEXP::C14orf1:11161:</th>\n",
       "      <th>N:GEXP::SMCHD1:23347:</th>\n",
       "      <th>N:GEXP::ARL2BP:23568:</th>\n",
       "      <th>N:GEXP::PITPNB:23760:</th>\n",
       "      <th>N:GEXP::KDM5A:5927:</th>\n",
       "      <th>N:GEXP::CNIH:10175:</th>\n",
       "      <th>N:GEXP::ACADS:35:</th>\n",
       "      <th>N:GEXP::YIPF2:78992:</th>\n",
       "      <th>N:GEXP::MEPCE:56257:</th>\n",
       "      <th>N:GEXP::PPARG:5468:</th>\n",
       "    </tr>\n",
       "  </thead>\n",
       "  <tbody>\n",
       "    <tr>\n",
       "      <th>TCGA-OR-A5J1</th>\n",
       "      <td>ACC_2</td>\n",
       "      <td>0.000182</td>\n",
       "      <td>0.360981</td>\n",
       "      <td>0.001892</td>\n",
       "      <td>0.007364</td>\n",
       "      <td>0.0</td>\n",
       "      <td>0.0</td>\n",
       "      <td>0.0</td>\n",
       "      <td>0.000284</td>\n",
       "      <td>0.00609</td>\n",
       "      <td>...</td>\n",
       "      <td>0.246175</td>\n",
       "      <td>0.542221</td>\n",
       "      <td>0.402793</td>\n",
       "      <td>0.335923</td>\n",
       "      <td>0.241655</td>\n",
       "      <td>0.232638</td>\n",
       "      <td>0.13753</td>\n",
       "      <td>0.278195</td>\n",
       "      <td>0.306376</td>\n",
       "      <td>0.078349</td>\n",
       "    </tr>\n",
       "  </tbody>\n",
       "</table>\n",
       "<p>1 rows × 5001 columns</p>\n",
       "</div>"
      ],
      "text/plain": [
       "             Labels  N:GEXP::ALB:213:  N:GEXP::TG:7038:  N:GEXP::COL1A1:1277:  \\\n",
       "TCGA-OR-A5J1  ACC_2          0.000182          0.360981              0.001892   \n",
       "\n",
       "              N:GEXP::FN1:2335:  N:GEXP::KRT5:3852:  N:GEXP::KRT14:3861:  \\\n",
       "TCGA-OR-A5J1           0.007364                 0.0                  0.0   \n",
       "\n",
       "              N:GEXP::KRT6A:3853:  N:GEXP::ADAM6:8755:  \\\n",
       "TCGA-OR-A5J1                  0.0             0.000284   \n",
       "\n",
       "              N:GEXP::SERPINA1:5265:  ...  N:GEXP::C14orf1:11161:  \\\n",
       "TCGA-OR-A5J1                 0.00609  ...                0.246175   \n",
       "\n",
       "              N:GEXP::SMCHD1:23347:  N:GEXP::ARL2BP:23568:  \\\n",
       "TCGA-OR-A5J1               0.542221               0.402793   \n",
       "\n",
       "              N:GEXP::PITPNB:23760:  N:GEXP::KDM5A:5927:  N:GEXP::CNIH:10175:  \\\n",
       "TCGA-OR-A5J1               0.335923             0.241655             0.232638   \n",
       "\n",
       "              N:GEXP::ACADS:35:  N:GEXP::YIPF2:78992:  N:GEXP::MEPCE:56257:  \\\n",
       "TCGA-OR-A5J1            0.13753              0.278195              0.306376   \n",
       "\n",
       "              N:GEXP::PPARG:5468:  \n",
       "TCGA-OR-A5J1             0.078349  \n",
       "\n",
       "[1 rows x 5001 columns]"
      ]
     },
     "execution_count": 119,
     "metadata": {},
     "output_type": "execute_result"
    }
   ],
   "source": [
    "tall_stack.head(1)"
   ]
  },
  {
   "cell_type": "code",
   "execution_count": 120,
   "id": "2f666d43-4b18-4482-a075-40cc2c6d838e",
   "metadata": {},
   "outputs": [],
   "source": [
    "pre_train_file = tall_stack"
   ]
  },
  {
   "cell_type": "code",
   "execution_count": 121,
   "id": "b7ce8e07-a94a-4236-9c93-6fc217aec1f4",
   "metadata": {},
   "outputs": [],
   "source": [
    "fine_tune_file = pd.read_csv(\n",
    "    file_paths[2], sep = '\\t', index_col = 0)"
   ]
  },
  {
   "cell_type": "code",
   "execution_count": 122,
   "id": "3b0b5be5-6986-414b-8805-9ac4dee4b848",
   "metadata": {},
   "outputs": [
    {
     "data": {
      "text/plain": [
       "'BRCA'"
      ]
     },
     "execution_count": 122,
     "metadata": {},
     "output_type": "execute_result"
    }
   ],
   "source": [
    "fine_tune_file.index.name"
   ]
  },
  {
   "cell_type": "code",
   "execution_count": 123,
   "id": "e9a502ae-782e-41c5-9171-8af6a2a58544",
   "metadata": {},
   "outputs": [],
   "source": [
    "# Insert point for the hold-in splitting \n",
    "    # should probably repeat from this point\n",
    "    # a few times at each step size (40 samples vs. 70, 100, etc)\n",
    "hold_in = fine_tune_file.sample(500)\n",
    "hold_out = fine_tune_file.loc[fine_tune_file[~fine_tune_file.index.isin(hold_in.index)].index, :]"
   ]
  },
  {
   "cell_type": "code",
   "execution_count": 124,
   "id": "d3cc8126-e1ee-4956-acfb-a6ec37278bd9",
   "metadata": {},
   "outputs": [
    {
     "data": {
      "text/plain": [
       "(500, 5001)"
      ]
     },
     "execution_count": 124,
     "metadata": {},
     "output_type": "execute_result"
    }
   ],
   "source": [
    "hold_in.shape"
   ]
  },
  {
   "cell_type": "code",
   "execution_count": 125,
   "id": "54305e11-7974-49ce-bf49-9efceafe67a1",
   "metadata": {},
   "outputs": [
    {
     "data": {
      "text/html": [
       "<div>\n",
       "<style scoped>\n",
       "    .dataframe tbody tr th:only-of-type {\n",
       "        vertical-align: middle;\n",
       "    }\n",
       "\n",
       "    .dataframe tbody tr th {\n",
       "        vertical-align: top;\n",
       "    }\n",
       "\n",
       "    .dataframe thead th {\n",
       "        text-align: right;\n",
       "    }\n",
       "</style>\n",
       "<table border=\"1\" class=\"dataframe\">\n",
       "  <thead>\n",
       "    <tr style=\"text-align: right;\">\n",
       "      <th></th>\n",
       "      <th>Labels</th>\n",
       "      <th>N:GEXP::ALB:213:</th>\n",
       "      <th>N:GEXP::TG:7038:</th>\n",
       "      <th>N:GEXP::COL1A1:1277:</th>\n",
       "      <th>N:GEXP::FN1:2335:</th>\n",
       "      <th>N:GEXP::KRT5:3852:</th>\n",
       "      <th>N:GEXP::KRT14:3861:</th>\n",
       "      <th>N:GEXP::KRT6A:3853:</th>\n",
       "      <th>N:GEXP::ADAM6:8755:</th>\n",
       "      <th>N:GEXP::SERPINA1:5265:</th>\n",
       "      <th>...</th>\n",
       "      <th>N:GEXP::C14orf1:11161:</th>\n",
       "      <th>N:GEXP::SMCHD1:23347:</th>\n",
       "      <th>N:GEXP::ARL2BP:23568:</th>\n",
       "      <th>N:GEXP::PITPNB:23760:</th>\n",
       "      <th>N:GEXP::KDM5A:5927:</th>\n",
       "      <th>N:GEXP::CNIH:10175:</th>\n",
       "      <th>N:GEXP::ACADS:35:</th>\n",
       "      <th>N:GEXP::YIPF2:78992:</th>\n",
       "      <th>N:GEXP::MEPCE:56257:</th>\n",
       "      <th>N:GEXP::PPARG:5468:</th>\n",
       "    </tr>\n",
       "    <tr>\n",
       "      <th>BRCA</th>\n",
       "      <th></th>\n",
       "      <th></th>\n",
       "      <th></th>\n",
       "      <th></th>\n",
       "      <th></th>\n",
       "      <th></th>\n",
       "      <th></th>\n",
       "      <th></th>\n",
       "      <th></th>\n",
       "      <th></th>\n",
       "      <th></th>\n",
       "      <th></th>\n",
       "      <th></th>\n",
       "      <th></th>\n",
       "      <th></th>\n",
       "      <th></th>\n",
       "      <th></th>\n",
       "      <th></th>\n",
       "      <th></th>\n",
       "      <th></th>\n",
       "      <th></th>\n",
       "    </tr>\n",
       "  </thead>\n",
       "  <tbody>\n",
       "    <tr>\n",
       "      <th>TCGA-AR-A24Z</th>\n",
       "      <td>BRCA_2</td>\n",
       "      <td>0.000005</td>\n",
       "      <td>0.002363</td>\n",
       "      <td>0.02052</td>\n",
       "      <td>0.066081</td>\n",
       "      <td>0.000003</td>\n",
       "      <td>5.349506e-07</td>\n",
       "      <td>0.0</td>\n",
       "      <td>0.0019</td>\n",
       "      <td>0.028152</td>\n",
       "      <td>...</td>\n",
       "      <td>0.105447</td>\n",
       "      <td>0.60382</td>\n",
       "      <td>0.158291</td>\n",
       "      <td>0.171607</td>\n",
       "      <td>0.332583</td>\n",
       "      <td>0.325831</td>\n",
       "      <td>0.106901</td>\n",
       "      <td>0.153598</td>\n",
       "      <td>0.102394</td>\n",
       "      <td>0.063102</td>\n",
       "    </tr>\n",
       "  </tbody>\n",
       "</table>\n",
       "<p>1 rows × 5001 columns</p>\n",
       "</div>"
      ],
      "text/plain": [
       "              Labels  N:GEXP::ALB:213:  N:GEXP::TG:7038:  \\\n",
       "BRCA                                                       \n",
       "TCGA-AR-A24Z  BRCA_2          0.000005          0.002363   \n",
       "\n",
       "              N:GEXP::COL1A1:1277:  N:GEXP::FN1:2335:  N:GEXP::KRT5:3852:  \\\n",
       "BRCA                                                                        \n",
       "TCGA-AR-A24Z               0.02052           0.066081            0.000003   \n",
       "\n",
       "              N:GEXP::KRT14:3861:  N:GEXP::KRT6A:3853:  N:GEXP::ADAM6:8755:  \\\n",
       "BRCA                                                                          \n",
       "TCGA-AR-A24Z         5.349506e-07                  0.0               0.0019   \n",
       "\n",
       "              N:GEXP::SERPINA1:5265:  ...  N:GEXP::C14orf1:11161:  \\\n",
       "BRCA                                  ...                           \n",
       "TCGA-AR-A24Z                0.028152  ...                0.105447   \n",
       "\n",
       "              N:GEXP::SMCHD1:23347:  N:GEXP::ARL2BP:23568:  \\\n",
       "BRCA                                                         \n",
       "TCGA-AR-A24Z                0.60382               0.158291   \n",
       "\n",
       "              N:GEXP::PITPNB:23760:  N:GEXP::KDM5A:5927:  N:GEXP::CNIH:10175:  \\\n",
       "BRCA                                                                            \n",
       "TCGA-AR-A24Z               0.171607             0.332583             0.325831   \n",
       "\n",
       "              N:GEXP::ACADS:35:  N:GEXP::YIPF2:78992:  N:GEXP::MEPCE:56257:  \\\n",
       "BRCA                                                                          \n",
       "TCGA-AR-A24Z           0.106901              0.153598              0.102394   \n",
       "\n",
       "              N:GEXP::PPARG:5468:  \n",
       "BRCA                               \n",
       "TCGA-AR-A24Z             0.063102  \n",
       "\n",
       "[1 rows x 5001 columns]"
      ]
     },
     "execution_count": 125,
     "metadata": {},
     "output_type": "execute_result"
    }
   ],
   "source": [
    "hold_in.head(1)"
   ]
  },
  {
   "cell_type": "code",
   "execution_count": 126,
   "id": "694f3e39-4b05-407e-b059-46a8247795ff",
   "metadata": {},
   "outputs": [
    {
     "data": {
      "text/plain": [
       "(495, 5001)"
      ]
     },
     "execution_count": 126,
     "metadata": {},
     "output_type": "execute_result"
    }
   ],
   "source": [
    "hold_out.shape"
   ]
  },
  {
   "cell_type": "markdown",
   "id": "763f92a8-64ba-4242-9d8d-2d0fb9b2027a",
   "metadata": {
    "tags": []
   },
   "source": [
    "### Input F1 Main"
   ]
  },
  {
   "cell_type": "code",
   "execution_count": null,
   "id": "c8b13650-6fd5-40c6-8493-3a3e831113be",
   "metadata": {},
   "outputs": [],
   "source": [
    "# Input variable summary\n",
    "# hold-in, hold-out (fine_tune_file) # Hold-in has precedence over fine-tune\n",
    "# pre_train_file (tall_stack)"
   ]
  },
  {
   "cell_type": "code",
   "execution_count": 131,
   "id": "45f61ea0-5fbd-4825-9ed4-d79ba1406ac7",
   "metadata": {},
   "outputs": [],
   "source": [
    "trn_tst_splts = 75"
   ]
  },
  {
   "cell_type": "code",
   "execution_count": 132,
   "id": "7afce7c1-049b-48a0-becc-f0de1d81ce67",
   "metadata": {},
   "outputs": [
    {
     "name": "stdout",
     "output_type": "stream",
     "text": [
      "Starting a quality of embedding F1 object generation run\n",
      "ten\n",
      "Input to VAE F1 object generated, send to concat with decoded objects\n"
     ]
    }
   ],
   "source": [
    "# Hold-out F1 to red box on quality plot\n",
    "config = 'hold-out'\n",
    "hld_out_frame = pd.DataFrame()\n",
    "print('Starting a quality of embedding F1 object generation run')\n",
    "F1_output = []\n",
    "\n",
    "for r in list(range(0, trn_tst_splts)):\n",
    "    if r == 10:\n",
    "        print('ten')\n",
    "    X = hold_out.iloc[:, 1:] #         <-----------   here, it sees object 'file'\n",
    "    y = hold_out.iloc[:, 0]\n",
    "    X_train, X_test, y_train, y_test = train_test_split(\n",
    "                X, y,\n",
    "                    test_size=0.33,\n",
    "                        )\n",
    "    clf = RandomForestClassifier()\n",
    "    clf.fit(X_train, y_train)\n",
    "\n",
    "    F1_scr = f1_score(y_test, clf.predict(X_test), average='weighted')\n",
    "    F1_output.append(F1_scr)\n",
    "hld_out_frame = pd.DataFrame(F1_output, columns = ['F1s'])\n",
    "hld_out_frame.insert(0, 'train_config', config)\n",
    "\n",
    "print('Input to VAE F1 object generated, send to concat with decoded objects')"
   ]
  },
  {
   "cell_type": "code",
   "execution_count": 130,
   "id": "d6bc5e70-9f7c-4c88-a562-788468adce0b",
   "metadata": {},
   "outputs": [],
   "source": [
    "itr = 'bx_crv'"
   ]
  },
  {
   "cell_type": "markdown",
   "id": "9551d31d-628e-41d6-9812-4cd965cddbd2",
   "metadata": {
    "tags": []
   },
   "source": [
    "##### Main"
   ]
  },
  {
   "cell_type": "code",
   "execution_count": null,
   "id": "9842a82e-b613-4750-bd7d-b900ea3b41c1",
   "metadata": {},
   "outputs": [],
   "source": [
    "# There are three places to take-off for the F1\n",
    "# After the hold_in, after the pre-train, or after the fine-tune"
   ]
  },
  {
   "cell_type": "code",
   "execution_count": 133,
   "id": "951a618b-9efb-4cf8-b141-f1234817ae91",
   "metadata": {},
   "outputs": [
    {
     "name": "stdout",
     "output_type": "stream",
     "text": [
      "Starting a quality of embedding F1 object generation run\n",
      "ten\n",
      "Input to VAE F1 object generated, send to concat with decoded objects\n"
     ]
    }
   ],
   "source": [
    "# Hold-in F1 to blue box on quality plot\n",
    "config = 'hold-in'\n",
    "hld_in_frame = pd.DataFrame()\n",
    "print('Starting a quality of embedding F1 object generation run')\n",
    "F1_output = []\n",
    "\n",
    "for r in list(range(0, trn_tst_splts)):\n",
    "    if r == 10:\n",
    "        print('ten')\n",
    "    X = hold_in.iloc[:, 1:] #         <-----------   here, it sees object 'file'\n",
    "    y = hold_in.iloc[:, 0]\n",
    "    X_train, X_test, y_train, y_test = train_test_split(\n",
    "                X, y,\n",
    "                    test_size=0.33,\n",
    "                        )\n",
    "    clf = RandomForestClassifier()\n",
    "    clf.fit(X_train, y_train)\n",
    "\n",
    "    F1_scr = f1_score(y_test, clf.predict(X_test), average='weighted')\n",
    "    F1_output.append(F1_scr)\n",
    "hld_in_frame = pd.DataFrame(F1_output, columns = ['F1s'])\n",
    "hld_in_frame.insert(0, 'train_config', config)\n",
    "\n",
    "print('Input to VAE F1 object generated, send to concat with decoded objects')"
   ]
  },
  {
   "cell_type": "markdown",
   "id": "4dd035dc-79ec-4c3c-98e8-16f2e6e81a21",
   "metadata": {
    "tags": []
   },
   "source": [
    "## VAE"
   ]
  },
  {
   "cell_type": "markdown",
   "id": "115d62a4-5e95-4b3f-840c-f1c9f3bd9c6b",
   "metadata": {
    "jp-MarkdownHeadingCollapsed": true,
    "tags": []
   },
   "source": [
    "### VAE Setup"
   ]
  },
  {
   "cell_type": "code",
   "execution_count": 32,
   "id": "d00538e5-8516-4662-af8b-61cb2b3a880a",
   "metadata": {},
   "outputs": [],
   "source": [
    "# Function set for leave one out loop\n",
    "def compute_latent(x): # x:\n",
    "    mu, sigma = x\n",
    "    batch = K.shape(mu)[0]\n",
    "    dim = K.shape(mu)[1]\n",
    "    eps = K.random_normal(shape=(batch,dim), mean=0., stddev=1.0 )\n",
    "    return mu + K.exp(sigma/2)*eps\n",
    "\n",
    "# Set custom layer , will need all this at start of shell script\n",
    "class CustomVariationalLayer(Layer):\n",
    "    \"\"\"\n",
    "    Define a custom layer\n",
    "    \"\"\"\n",
    "    def __init__(self, **kwargs):\n",
    "        self.is_placeholder = True\n",
    "        super(CustomVariationalLayer, self).__init__(**kwargs)\n",
    "\n",
    "    def vae_loss(self, x_input, x_decoded):\n",
    "        reconstruction_loss = original_dim * metrics.binary_crossentropy(x_input, x_decoded)\n",
    "        kl_loss = - 0.5 * K.sum(1 + z_log_var_encoded - K.square(z_mean_encoded) - \n",
    "                                K.exp(z_log_var_encoded), axis=-1)\n",
    "        return K.mean(reconstruction_loss + (K.get_value(beta) * kl_loss))\n",
    "\n",
    "    def call(self, inputs):\n",
    "        x = inputs[0]\n",
    "        x_decoded = inputs[1]\n",
    "        loss = self.vae_loss(x, x_decoded)\n",
    "        self.add_loss(loss, inputs=inputs)\n",
    "        return x\n",
    "    \n",
    "class WarmUpCallback(Callback):\n",
    "    def __init__(self, beta, kappa):\n",
    "        self.beta = beta\n",
    "        self.kappa = kappa\n",
    "\n",
    "    def on_epoch_end(self, epoch, logs={}):\n",
    "        if K.get_value(self.beta) <= 1:\n",
    "            K.set_value(self.beta, K.get_value(self.beta) + self.kappa)"
   ]
  },
  {
   "cell_type": "markdown",
   "id": "26cbdee9-5f53-475c-8a76-3b2397ab7aad",
   "metadata": {
    "tags": []
   },
   "source": [
    "### Pre-train VAE"
   ]
  },
  {
   "cell_type": "code",
   "execution_count": 140,
   "id": "df644efd-5e8f-46d6-965e-bb09b1be9c62",
   "metadata": {
    "tags": []
   },
   "outputs": [
    {
     "name": "stderr",
     "output_type": "stream",
     "text": [
      "2022-12-12 23:41:17.975429: I tensorflow/core/grappler/optimizers/custom_graph_optimizer_registry.cc:114] Plugin optimizer for device_type GPU is enabled.\n"
     ]
    },
    {
     "name": "stdout",
     "output_type": "stream",
     "text": [
      "WARNING:tensorflow:Output {0} missing from loss dictionary. We assume this was done on purpose. The fit and evaluate APIs will not be expecting any data to be passed to custom_variational_layer_22.\n"
     ]
    },
    {
     "name": "stderr",
     "output_type": "stream",
     "text": [
      "2022-12-12 23:41:18.287388: I tensorflow/core/grappler/optimizers/custom_graph_optimizer_registry.cc:114] Plugin optimizer for device_type GPU is enabled.\n",
      "2022-12-12 23:41:18.382618: I tensorflow/core/grappler/optimizers/custom_graph_optimizer_registry.cc:114] Plugin optimizer for device_type GPU is enabled.\n",
      "2022-12-12 23:41:18.808818: I tensorflow/core/grappler/optimizers/custom_graph_optimizer_registry.cc:114] Plugin optimizer for device_type GPU is enabled.\n",
      "2022-12-12 23:41:19.141100: I tensorflow/core/grappler/optimizers/custom_graph_optimizer_registry.cc:114] Plugin optimizer for device_type GPU is enabled.\n",
      "2022-12-12 23:41:19.237169: I tensorflow/core/grappler/optimizers/custom_graph_optimizer_registry.cc:114] Plugin optimizer for device_type GPU is enabled.\n",
      "2022-12-12 23:41:19.993497: I tensorflow/core/grappler/optimizers/custom_graph_optimizer_registry.cc:114] Plugin optimizer for device_type GPU is enabled.\n"
     ]
    },
    {
     "data": {
      "image/png": "[encoded data removed]",
      "text/plain": [
       "<Figure size 640x480 with 1 Axes>"
      ]
     },
     "metadata": {},
     "output_type": "display_data"
    }
   ],
   "source": [
    "# Pre-train fitting with MAD 5k taken\n",
    "\n",
    "train_file = hold_in\n",
    "fit_on = 'TCGA n = 25'\n",
    "fit_on_file_write = 'TCGA_n_25'\n",
    "pre_trn = 'NONE'\n",
    "feature_set = 'mad_5k_across'\n",
    "super_v = 'itr1'\n",
    "fine_tune_epochs = 'NA'\n",
    "\n",
    "features = train_file.columns[1:] # Now with pre-fit and fine-tune setup toggles\n",
    "\n",
    "original_dim = len(features)\n",
    "feature_dim = len(features)\n",
    "latent_dim = 100               # Toggle here; to plot labels <--- Latent feature set diminsionality       *******\n",
    "\n",
    "encoder_inputs = keras.Input(shape=(feature_dim,))\n",
    "z_mean_dense_linear = layers.Dense(latent_dim, kernel_initializer='glorot_uniform', name=\"encoder_1\")(encoder_inputs)\n",
    "z_mean_dense_batchnorm = layers.BatchNormalization()(z_mean_dense_linear)\n",
    "z_mean_encoded = layers.Activation('relu')(z_mean_dense_batchnorm)\n",
    "\n",
    "z_log_var_dense_linear = layers.Dense(latent_dim, kernel_initializer='glorot_uniform', name=\"encoder_2\")(encoder_inputs)\n",
    "z_log_var_dense_batchnorm = layers.BatchNormalization()(z_log_var_dense_linear)\n",
    "z_log_var_encoded = layers.Activation('relu')(z_log_var_dense_batchnorm)\n",
    "\n",
    "latent_space = layers.Lambda(compute_latent, output_shape=(latent_dim,), name=\"latent_space\")([z_mean_encoded, z_log_var_encoded])\n",
    "\n",
    "decoder_to_reconstruct = layers.Dense(feature_dim, kernel_initializer='glorot_uniform', activation='sigmoid')\n",
    "decoder_outputs = decoder_to_reconstruct(latent_space)\n",
    "\n",
    "learning_rate = 0.0005\n",
    "kappa = 1\n",
    "\n",
    "beta = K.variable(0)\n",
    "\n",
    "adam = optimizers.Adam(learning_rate=learning_rate)\n",
    "vae_layer = CustomVariationalLayer()([encoder_inputs, decoder_outputs])\n",
    "vae = Model(encoder_inputs, vae_layer)\n",
    "vae.compile(optimizer=adam, loss=None, loss_weights=[beta]) # Take-off point from pre-training to fine-tuning\n",
    "\n",
    "pre_train_epochs = 15 # Easy pre-train: 30, hard pre-train is 60\n",
    "\n",
    "fit_start = time.time()\n",
    "history = vae.fit(train_file.iloc[:, 1:],  #  fit the VAE on object, toggled in the setup\n",
    "            epochs=pre_train_epochs, batch_size=50, shuffle=True,\n",
    "            callbacks=[WarmUpCallback(beta, kappa)],\n",
    "                 verbose=0 #  <---------------------- turn this on for production *************\n",
    "                 )\n",
    "fit_end = time.time() - fit_start\n",
    "\n",
    "plt.plot(history.history['loss'],label=\"loss\",linewidth = 10)\n",
    "\n",
    "plt.title(fit_on+' pre-train', fontsize = 32\n",
    "         )\n",
    "\n",
    "plt.xlabel('Epoch')\n",
    "plt.ylabel('Loss')\n",
    "plt.annotate(str(pre_train_epochs)+' epochs'+\n",
    "             '\\n'+str(latent_dim)+' latent',\n",
    "            xy = (.4, .8), xycoords='figure fraction',\n",
    "            horizontalalignment='left', verticalalignment='top',\n",
    "            fontsize = 32\n",
    "            )\n",
    "\n",
    "# plt.legend(loc=\"lower left\")\n",
    "plt.savefig(\n",
    "    'i_o/'+itr+'/fit.'+fit_on_file_write+'.epochs.'+str(pre_train_epochs)+\n",
    "    '_pre_trained_on.'+pre_trn+'.epochs.'+fine_tune_epochs+\n",
    "    '_latent_dim.'+str(latent_dim)+'_'+ # Do not change latent dim in the middle of transfer training\n",
    "    # '_pltv-'+str(plt_v)+\n",
    "    # 'fitting_epochs.'+str(epochs)+'_'+\n",
    "    feature_set+'_'+super_v+\n",
    "    '.png', bbox_inches='tight')"
   ]
  },
  {
   "cell_type": "code",
   "execution_count": 141,
   "id": "f39b4eef-a4f3-4e93-9632-db0ef59ff0b7",
   "metadata": {
    "tags": []
   },
   "outputs": [
    {
     "name": "stderr",
     "output_type": "stream",
     "text": [
      "/Users/karlberb/miniforge3/envs/tf_M1_py3dot9/lib/python3.9/site-packages/keras/engine/training_v1.py:2356: UserWarning: `Model.state_updates` will be removed in a future version. This property should not be used in TensorFlow 2.0, as `updates` are applied automatically.\n",
      "  updates=self.state_updates,\n",
      "2022-12-12 23:41:37.607121: I tensorflow/core/grappler/optimizers/custom_graph_optimizer_registry.cc:114] Plugin optimizer for device_type GPU is enabled.\n",
      "2022-12-12 23:41:38.002956: I tensorflow/core/grappler/optimizers/custom_graph_optimizer_registry.cc:114] Plugin optimizer for device_type GPU is enabled.\n"
     ]
    },
    {
     "name": "stdout",
     "output_type": "stream",
     "text": [
      "Fine tuning with mad_5k_across feature set experiment done\n"
     ]
    },
    {
     "data": {
      "image/png": "[encoded data removed]",
      "text/plain": [
       "<Figure size 640x480 with 1 Axes>"
      ]
     },
     "metadata": {},
     "output_type": "display_data"
    }
   ],
   "source": [
    "# Fine-tuning\n",
    "# pretrain epochs variable in memory from above, latent dim also set already at this point\n",
    "\n",
    "train_file = hold_in\n",
    "pre_trn = fit_on_file_write\n",
    "fit_on = hold_in.index.name\n",
    "\n",
    "fine_tune_epochs = 80 # Overwrite 'NA' for this variable, from above; fine-tuning easy: 100, hard: 200\n",
    "\n",
    "fit_start = time.time()\n",
    "history = vae.fit(train_file.iloc[:, 1:],  #  fit the VAE on object, toggled in the setup\n",
    "            epochs = fine_tune_epochs, batch_size=50, shuffle=True,\n",
    "            callbacks = [WarmUpCallback(beta, kappa)],\n",
    "                 verbose=0 #  <---------------------- turn this on for production *************\n",
    "                 )\n",
    "\n",
    "fit_end = time.time() - fit_start\n",
    "\n",
    "plt.plot(history.history['loss'],label=\"loss\",linewidth = 10)\n",
    "\n",
    "plt.title(fit_on+' fine-tune', fontsize = 32\n",
    "         )\n",
    "\n",
    "plt.xlabel('Epoch')\n",
    "plt.ylabel('Loss')\n",
    "plt.annotate(str(fine_tune_epochs)+' epochs'+\n",
    "            '\\n'+str(latent_dim)+' latent',       \n",
    "            xy = (.4, .8), xycoords='figure fraction',\n",
    "            horizontalalignment='left', verticalalignment='top',\n",
    "            fontsize = 32\n",
    "            )\n",
    "plt.annotate('Hold-in n = '+str(hold_in.shape[0]),             \n",
    "            xy = (.4, .6), xycoords='figure fraction',\n",
    "            horizontalalignment='left', verticalalignment='top',\n",
    "            fontsize = 26\n",
    "            )\n",
    "\n",
    "# plt.legend(loc=\"lower left\")\n",
    "plt.savefig(\n",
    "    'i_o/'+itr+'/fit.'+fit_on+'.epochs.'+str(fine_tune_epochs)+\n",
    "    '_pre_trained_on.'+pre_trn+'.epochs.'+str(pre_train_epochs)+\n",
    "    '_latent_dim.'+str(latent_dim)+'_'+ # Do not change latent dim in the middle of transfer training\n",
    "    # '_pltv-'+str(plt_v)+\n",
    "    # 'fitting_epochs.'+str(epochs)+'_'+\n",
    "    feature_set+'_'+super_v+\n",
    "    '.png', bbox_inches='tight') # version 18, norm within cohort\n",
    "# plt.close()\n",
    "\n",
    "encoder = Model(encoder_inputs, z_mean_encoded)\n",
    "decoder_input = keras.Input(shape = (latent_dim, ))\n",
    "_x_decoded_mean = decoder_to_reconstruct(decoder_input)\n",
    "decoder = Model(decoder_input, _x_decoded_mean)\n",
    "\n",
    "y_df = train_file.Labels\n",
    "\n",
    "decoded = pd.DataFrame(decoder.predict(encoder.predict(train_file.iloc[:, 1:])),\n",
    "                       index = train_file.index, columns = train_file.iloc[:, 1:].columns)\n",
    "\n",
    "latent_object = pd.DataFrame(encoder.predict(train_file.iloc[:, 1:]),\n",
    "             index=train_file.index,\n",
    "                # columns=decode_df.iloc[:, 1:].columns # Columns are different because this is latent space\n",
    "        )\n",
    "latent_object.index.name = hold_in.index.name\n",
    "latent_object = pd.concat( [pd.DataFrame(y_df), latent_object] , axis =1)\n",
    "latent_object.to_csv(\n",
    "    'i_o/'+itr+'/fit.'+fit_on+'.epochs.'+str(fine_tune_epochs)+\n",
    "    '_pre_trained_on.'+pre_trn+'.epochs.'+str(pre_train_epochs)+\n",
    "    '_latent_object_latent_dim.'+str(latent_dim)+\n",
    "    '_'+feature_set+'_'+super_v+\n",
    "    '.tsv',\n",
    "    sep = '\\t')\n",
    "# break\n",
    "decoded_labeled = pd.concat( [pd.DataFrame(y_df), decoded] , axis =1)\n",
    "decoded_labeled.to_csv(\n",
    "    'i_o/'+itr+'/fit.'+fit_on+'.epochs.'+str(fine_tune_epochs)+\n",
    "    '_pre_trained_on.'+pre_trn+'.epochs.'+str(pre_train_epochs)+\n",
    "    '_decoded_obj_latent_dim.'+str(latent_dim)+\n",
    "    '_'+feature_set+'_'+super_v+\n",
    "    '.tsv',\n",
    "    sep = '\\t')\n",
    "\n",
    "print('Fine tuning with '+feature_set+' feature set experiment done')"
   ]
  },
  {
   "cell_type": "code",
   "execution_count": null,
   "id": "895683f3-b459-422d-8858-d2ec945b5fa1",
   "metadata": {},
   "outputs": [],
   "source": [
    "# Qaulity of encoding section, continued \n",
    "# feature set / classical ML / VAE transfer fitting protocol\n",
    "# read results written from\n",
    "# this section for F1 plot\n",
    "# then repeat for the other cancers\n",
    "\n",
    "# latent feature sampling method, benchmark with mutation version\n",
    "    # Pick number, if not zero, mutate\n",
    "    # \" \" \" pick from uniform distribution\n",
    "\n",
    "# run same hold-in turn down on BLCA then do the full-TCGA pre-train (?)"
   ]
  },
  {
   "cell_type": "markdown",
   "id": "7d2a833d-e651-42fb-bc1a-ab2484075bfd",
   "metadata": {
    "tags": []
   },
   "source": [
    "## Read decoded files for F1s, quality of encoding plots "
   ]
  },
  {
   "cell_type": "code",
   "execution_count": 142,
   "id": "97f7c027-b741-4254-b942-bb8ee9bf1a27",
   "metadata": {},
   "outputs": [
    {
     "name": "stdout",
     "output_type": "stream",
     "text": [
      "fit.BRCA.epochs.100_pre_trained_on.TCGA_n_25.epochs.15_decoded_obj_latent_dim.100_mad_5k_across_itr1.tsv\n",
      "fit.BRCA.epochs.100_pre_trained_on.TCGA_n_25.epochs.15_latent_dim.100_mad_5k_across_itr1.png\n",
      "fit.BRCA.epochs.100_pre_trained_on.TCGA_n_25.epochs.15_latent_object_latent_dim.100_mad_5k_across_itr1.tsv\n",
      "fit.BRCA.epochs.100_pre_trained_on.TCGA_n_25.epochs.30_decoded_obj_latent_dim.100_mad_5k_across_itr1.tsv\n",
      "fit.BRCA.epochs.100_pre_trained_on.TCGA_n_25.epochs.30_latent_dim.100_mad_5k_across_itr1.png\n",
      "fit.BRCA.epochs.100_pre_trained_on.TCGA_n_25.epochs.30_latent_object_latent_dim.100_mad_5k_across_itr1.tsv\n",
      "fit.BRCA.epochs.200_pre_trained_on.TCGA_n_25.epochs.15_decoded_obj_latent_dim.100_mad_5k_across_itr1.tsv\n",
      "fit.BRCA.epochs.200_pre_trained_on.TCGA_n_25.epochs.15_latent_dim.100_mad_5k_across_itr1.png\n",
      "fit.BRCA.epochs.200_pre_trained_on.TCGA_n_25.epochs.15_latent_object_latent_dim.100_mad_5k_across_itr1.tsv\n",
      "fit.BRCA.epochs.200_pre_trained_on.TCGA_n_25.epochs.30_decoded_obj_latent_dim.100_mad_5k_across_itr1.tsv\n",
      "fit.BRCA.epochs.200_pre_trained_on.TCGA_n_25.epochs.30_latent_dim.100_mad_5k_across_itr1.png\n",
      "fit.BRCA.epochs.200_pre_trained_on.TCGA_n_25.epochs.30_latent_object_latent_dim.100_mad_5k_across_itr1.tsv\n",
      "fit.BRCA.epochs.70_pre_trained_on.TCGA_n_25.epochs.12_decoded_obj_latent_dim.100_mad_5k_across_itr1.tsv\n",
      "fit.BRCA.epochs.70_pre_trained_on.TCGA_n_25.epochs.12_latent_dim.100_mad_5k_across_itr1.png\n",
      "fit.BRCA.epochs.70_pre_trained_on.TCGA_n_25.epochs.12_latent_object_latent_dim.100_mad_5k_across_itr1.tsv\n",
      "fit.BRCA.epochs.70_pre_trained_on.TCGA_n_25.epochs.15_decoded_obj_latent_dim.100_mad_5k_across_itr1.tsv\n",
      "fit.BRCA.epochs.70_pre_trained_on.TCGA_n_25.epochs.15_latent_dim.100_mad_5k_across_itr1.png\n",
      "fit.BRCA.epochs.70_pre_trained_on.TCGA_n_25.epochs.15_latent_object_latent_dim.100_mad_5k_across_itr1.tsv\n",
      "fit.BRCA.epochs.80_pre_trained_on.TCGA_n_25.epochs.12_decoded_obj_latent_dim.100_mad_5k_across_itr1.tsv\n",
      "fit.BRCA.epochs.80_pre_trained_on.TCGA_n_25.epochs.12_latent_dim.100_mad_5k_across_itr1.png\n",
      "fit.BRCA.epochs.80_pre_trained_on.TCGA_n_25.epochs.12_latent_object_latent_dim.100_mad_5k_across_itr1.tsv\n",
      "fit.BRCA.epochs.80_pre_trained_on.TCGA_n_25.epochs.15_decoded_obj_latent_dim.100_mad_5k_across_itr1.tsv\n",
      "fit.BRCA.epochs.80_pre_trained_on.TCGA_n_25.epochs.15_latent_dim.100_mad_5k_across_itr1.png\n",
      "fit.BRCA.epochs.80_pre_trained_on.TCGA_n_25.epochs.15_latent_object_latent_dim.100_mad_5k_across_itr1.tsv\n",
      "fit.TCGA_n_25.epochs.12_pre_trained_on.NONE.epochs.NA_latent_dim.100_mad_5k_across_itr1.png\n",
      "fit.TCGA_n_25.epochs.15_pre_trained_on.NONE.epochs.NA_latent_dim.100_mad_5k_across_itr1.png\n",
      "fit.TCGA_n_25.epochs.30_pre_trained_on.NONE.epochs.NA_latent_dim.100_mad_5k_across_itr1.png\n",
      "\u001b[34mquality_encode\u001b[m\u001b[m/\n"
     ]
    }
   ],
   "source": [
    "ls i_o/bx_crv/"
   ]
  },
  {
   "cell_type": "code",
   "execution_count": 143,
   "id": "ed846b21-6504-4b52-9fb8-1cfbf10f7aaf",
   "metadata": {},
   "outputs": [],
   "source": [
    "dec_pths = sorted(glob.glob('i_o/bx_crv/fit.BRCA*decoded*.tsv'))"
   ]
  },
  {
   "cell_type": "code",
   "execution_count": 164,
   "id": "0a2635e4-2752-4e1d-9bb0-435a8367e71c",
   "metadata": {},
   "outputs": [],
   "source": [
    "two_pths = [\n",
    " 'i_o/bx_crv/fit.BRCA.epochs.70_pre_trained_on.TCGA_n_25.epochs.15_decoded_obj_latent_dim.100_mad_5k_across_itr1.tsv',\n",
    " 'i_o/bx_crv/fit.BRCA.epochs.80_pre_trained_on.TCGA_n_25.epochs.15_decoded_obj_latent_dim.100_mad_5k_across_itr1.tsv']"
   ]
  },
  {
   "cell_type": "code",
   "execution_count": 144,
   "id": "d639d175-3cd4-4581-8ad4-4e5dc948f97d",
   "metadata": {},
   "outputs": [
    {
     "data": {
      "text/plain": [
       "['i_o/bx_crv/fit.BRCA.epochs.70_pre_trained_on.TCGA_n_25.epochs.12_decoded_obj_latent_dim.100_mad_5k_across_itr1.tsv',\n",
       " 'i_o/bx_crv/fit.BRCA.epochs.70_pre_trained_on.TCGA_n_25.epochs.15_decoded_obj_latent_dim.100_mad_5k_across_itr1.tsv',\n",
       " 'i_o/bx_crv/fit.BRCA.epochs.80_pre_trained_on.TCGA_n_25.epochs.12_decoded_obj_latent_dim.100_mad_5k_across_itr1.tsv',\n",
       " 'i_o/bx_crv/fit.BRCA.epochs.80_pre_trained_on.TCGA_n_25.epochs.15_decoded_obj_latent_dim.100_mad_5k_across_itr1.tsv']"
      ]
     },
     "execution_count": 144,
     "metadata": {},
     "output_type": "execute_result"
    }
   ],
   "source": [
    "dec_pths"
   ]
  },
  {
   "cell_type": "code",
   "execution_count": 146,
   "id": "01f4a417-86c8-4968-895e-3cf43e62787c",
   "metadata": {},
   "outputs": [
    {
     "name": "stdout",
     "output_type": "stream",
     "text": [
      "i_o/bx_crv/fit.BRCA.epochs.70_pre_trained_on.TCGA_n_25.epochs.12_decoded_obj_latent_dim.100_mad_5k_across_itr1.tsv\n",
      "i_o/bx_crv/fit.BRCA.epochs.70_pre_trained_on.TCGA_n_25.epochs.15_decoded_obj_latent_dim.100_mad_5k_across_itr1.tsv\n",
      "i_o/bx_crv/fit.BRCA.epochs.80_pre_trained_on.TCGA_n_25.epochs.12_decoded_obj_latent_dim.100_mad_5k_across_itr1.tsv\n",
      "i_o/bx_crv/fit.BRCA.epochs.80_pre_trained_on.TCGA_n_25.epochs.15_decoded_obj_latent_dim.100_mad_5k_across_itr1.tsv\n"
     ]
    }
   ],
   "source": [
    "for pth in dec_pths:\n",
    "    print(pth)"
   ]
  },
  {
   "cell_type": "code",
   "execution_count": 147,
   "id": "e651a3b2-eacc-4ea1-8e83-be67cc55e2fe",
   "metadata": {},
   "outputs": [
    {
     "data": {
      "text/plain": [
       "['i',\n",
       " 'o/bx',\n",
       " 'crv/fit.BRCA.epochs.80',\n",
       " 'pre',\n",
       " 'trained',\n",
       " 'on.TCGA',\n",
       " 'n',\n",
       " '25.epochs.15',\n",
       " 'decoded',\n",
       " 'obj',\n",
       " 'latent',\n",
       " 'dim.100',\n",
       " 'mad',\n",
       " '5k',\n",
       " 'across',\n",
       " 'itr1.tsv']"
      ]
     },
     "execution_count": 147,
     "metadata": {},
     "output_type": "execute_result"
    }
   ],
   "source": [
    "pth.split('_')"
   ]
  },
  {
   "cell_type": "code",
   "execution_count": 148,
   "id": "fc49b92e-0ee1-48b7-a953-2efa5ea51aad",
   "metadata": {},
   "outputs": [
    {
     "data": {
      "text/plain": [
       "'80'"
      ]
     },
     "execution_count": 148,
     "metadata": {},
     "output_type": "execute_result"
    }
   ],
   "source": [
    "pth.split('_')[2].split('.')[3]"
   ]
  },
  {
   "cell_type": "code",
   "execution_count": 149,
   "id": "54c94837-a88b-4cbd-a9fd-e30ebf60a397",
   "metadata": {},
   "outputs": [
    {
     "data": {
      "text/plain": [
       "'15_80'"
      ]
     },
     "execution_count": 149,
     "metadata": {},
     "output_type": "execute_result"
    }
   ],
   "source": [
    "pth.split('_')[7].split('.')[2]+'_'+pth.split('_')[2].split('.')[3]"
   ]
  },
  {
   "cell_type": "code",
   "execution_count": 150,
   "id": "acfaa37e-28cc-47ca-b5cc-53a5a2c50eb4",
   "metadata": {},
   "outputs": [
    {
     "data": {
      "text/plain": [
       "'fit.BRCA.epochs.80_pre_trained_on.TCGA_obj_latent'"
      ]
     },
     "execution_count": 150,
     "metadata": {},
     "output_type": "execute_result"
    }
   ],
   "source": [
    "(pth.split('_')[2].split('/')[1]+'_'+\n",
    "pth.split('_')[3]+'_'+pth.split('_')[4]+'_'+pth.split('_')[5]+'_'+\n",
    "pth.split('_')[-7]+'_'+pth.split('_')[-6])"
   ]
  },
  {
   "cell_type": "code",
   "execution_count": 151,
   "id": "72a4f4fa-d587-4185-b200-a2ac1f0fc54d",
   "metadata": {},
   "outputs": [
    {
     "name": "stdout",
     "output_type": "stream",
     "text": [
      "Starting a quality of embedding F1 object generation run\n",
      "Starting a quality of embedding F1 object generation run\n",
      "Starting a quality of embedding F1 object generation run\n",
      "Starting a quality of embedding F1 object generation run\n",
      "Learning curve objects generated, send to concat with input\n"
     ]
    }
   ],
   "source": [
    "# This takes decoded paths\n",
    "\n",
    "trn_tst_splts = 80\n",
    "fig_stack = pd.DataFrame()\n",
    "for pth in dec_pths:\n",
    "    config = pth.split('_')[7].split('.')[2]+'_'+pth.split('_')[2].split('.')[3]\n",
    "    # break\n",
    "    dec = pd.read_csv(pth, sep = '\\t', index_col = 0)\n",
    "\n",
    "    print('Starting a quality of embedding F1 object generation run')\n",
    "    # Need to track the loss plots off the back-end\n",
    "\n",
    "    F1_output = []\n",
    "    for r in list(range(0, trn_tst_splts)):\n",
    "        \n",
    "        X = dec.iloc[:, 1:]\n",
    "        y = dec.iloc[:, 0]\n",
    "        X_train, X_test, y_train, y_test = train_test_split(\n",
    "                X, y,\n",
    "                    test_size=0.33,\n",
    "                        )\n",
    "        clf = RandomForestClassifier()\n",
    "        clf.fit(X_train, y_train)\n",
    "\n",
    "        F1_scr = f1_score(y_test, clf.predict(X_test), average='weighted')\n",
    "        F1_output.append(F1_scr)\n",
    "\n",
    "    loop_frame = pd.DataFrame(F1_output, columns = ['F1s'])\n",
    "    loop_frame.insert(0, 'train_config', config)\n",
    "    fig_stack = pd.concat([fig_stack, loop_frame], axis = 0)\n",
    "    # break\n",
    "print('Learning curve objects generated, send to concat with input')"
   ]
  },
  {
   "cell_type": "code",
   "execution_count": 171,
   "id": "62d1399c-b7c7-4031-9177-531748c52c04",
   "metadata": {},
   "outputs": [],
   "source": [
    "blend_stack = fig_stack[fig_stack.train_config.str.contains('15')].copy()"
   ]
  },
  {
   "cell_type": "code",
   "execution_count": 173,
   "id": "51b09386-8139-43f1-97bf-2f0a742d19ab",
   "metadata": {},
   "outputs": [],
   "source": [
    "blend_stack.train_config = 'blend'"
   ]
  },
  {
   "cell_type": "code",
   "execution_count": 174,
   "id": "ecde511a-612f-4b9c-b77a-562d2cc1b90f",
   "metadata": {},
   "outputs": [
    {
     "data": {
      "text/html": [
       "<div>\n",
       "<style scoped>\n",
       "    .dataframe tbody tr th:only-of-type {\n",
       "        vertical-align: middle;\n",
       "    }\n",
       "\n",
       "    .dataframe tbody tr th {\n",
       "        vertical-align: top;\n",
       "    }\n",
       "\n",
       "    .dataframe thead th {\n",
       "        text-align: right;\n",
       "    }\n",
       "</style>\n",
       "<table border=\"1\" class=\"dataframe\">\n",
       "  <thead>\n",
       "    <tr style=\"text-align: right;\">\n",
       "      <th></th>\n",
       "      <th>train_config</th>\n",
       "      <th>F1s</th>\n",
       "    </tr>\n",
       "  </thead>\n",
       "  <tbody>\n",
       "    <tr>\n",
       "      <th>0</th>\n",
       "      <td>blend</td>\n",
       "      <td>0.882287</td>\n",
       "    </tr>\n",
       "    <tr>\n",
       "      <th>1</th>\n",
       "      <td>blend</td>\n",
       "      <td>0.888099</td>\n",
       "    </tr>\n",
       "    <tr>\n",
       "      <th>2</th>\n",
       "      <td>blend</td>\n",
       "      <td>0.810966</td>\n",
       "    </tr>\n",
       "    <tr>\n",
       "      <th>3</th>\n",
       "      <td>blend</td>\n",
       "      <td>0.795317</td>\n",
       "    </tr>\n",
       "    <tr>\n",
       "      <th>4</th>\n",
       "      <td>blend</td>\n",
       "      <td>0.837787</td>\n",
       "    </tr>\n",
       "    <tr>\n",
       "      <th>...</th>\n",
       "      <td>...</td>\n",
       "      <td>...</td>\n",
       "    </tr>\n",
       "    <tr>\n",
       "      <th>75</th>\n",
       "      <td>blend</td>\n",
       "      <td>0.899978</td>\n",
       "    </tr>\n",
       "    <tr>\n",
       "      <th>76</th>\n",
       "      <td>blend</td>\n",
       "      <td>0.848225</td>\n",
       "    </tr>\n",
       "    <tr>\n",
       "      <th>77</th>\n",
       "      <td>blend</td>\n",
       "      <td>0.889051</td>\n",
       "    </tr>\n",
       "    <tr>\n",
       "      <th>78</th>\n",
       "      <td>blend</td>\n",
       "      <td>0.812503</td>\n",
       "    </tr>\n",
       "    <tr>\n",
       "      <th>79</th>\n",
       "      <td>blend</td>\n",
       "      <td>0.815593</td>\n",
       "    </tr>\n",
       "  </tbody>\n",
       "</table>\n",
       "<p>160 rows × 2 columns</p>\n",
       "</div>"
      ],
      "text/plain": [
       "   train_config       F1s\n",
       "0         blend  0.882287\n",
       "1         blend  0.888099\n",
       "2         blend  0.810966\n",
       "3         blend  0.795317\n",
       "4         blend  0.837787\n",
       "..          ...       ...\n",
       "75        blend  0.899978\n",
       "76        blend  0.848225\n",
       "77        blend  0.889051\n",
       "78        blend  0.812503\n",
       "79        blend  0.815593\n",
       "\n",
       "[160 rows x 2 columns]"
      ]
     },
     "execution_count": 174,
     "metadata": {},
     "output_type": "execute_result"
    }
   ],
   "source": [
    "blend_stack"
   ]
  },
  {
   "cell_type": "code",
   "execution_count": 152,
   "id": "f5e195c3-b657-4b7b-a5eb-3da6f5ff6a04",
   "metadata": {},
   "outputs": [],
   "source": [
    "full_stack = pd.concat(\n",
    "    [hld_out_frame, hld_in_frame, fig_stack], axis = 0)"
   ]
  },
  {
   "cell_type": "markdown",
   "id": "3a28d4fa-f8af-42a1-977f-b5e21752e527",
   "metadata": {
    "jp-MarkdownHeadingCollapsed": true,
    "tags": []
   },
   "source": [
    "##### Color section"
   ]
  },
  {
   "cell_type": "code",
   "execution_count": 108,
   "id": "41bc054a-ccfd-4241-9e5f-b06ba6304d8a",
   "metadata": {},
   "outputs": [
    {
     "data": {
      "text/plain": [
       "(0.7247999999999999, 0.86, 0.33999999999999997)"
      ]
     },
     "execution_count": 108,
     "metadata": {},
     "output_type": "execute_result"
    }
   ],
   "source": [
    "sns.color_palette(\"hls\", 10)[2]"
   ]
  },
  {
   "cell_type": "code",
   "execution_count": 109,
   "id": "4c45c0c2-e9a9-4cf7-a0e1-706d7f47949e",
   "metadata": {},
   "outputs": [],
   "source": [
    "pal = sns.color_palette()"
   ]
  },
  {
   "cell_type": "code",
   "execution_count": 112,
   "id": "63cc65d7-8b3e-478a-986a-22ca17f6d4e4",
   "metadata": {},
   "outputs": [
    {
     "name": "stdout",
     "output_type": "stream",
     "text": [
      "[(0.12156862745098039, 0.4666666666666667, 0.7058823529411765), (1.0, 0.4980392156862745, 0.054901960784313725), (0.17254901960784313, 0.6274509803921569, 0.17254901960784313), (0.8392156862745098, 0.15294117647058825, 0.1568627450980392), (0.5803921568627451, 0.403921568627451, 0.7411764705882353), (0.5490196078431373, 0.33725490196078434, 0.29411764705882354), (0.8901960784313725, 0.4666666666666667, 0.7607843137254902), (0.4980392156862745, 0.4980392156862745, 0.4980392156862745), (0.7372549019607844, 0.7411764705882353, 0.13333333333333333), (0.09019607843137255, 0.7450980392156863, 0.8117647058823529)]\n"
     ]
    }
   ],
   "source": [
    "print(pal)"
   ]
  },
  {
   "cell_type": "code",
   "execution_count": 113,
   "id": "7d79b1d0-95cd-4d14-b7fb-9dc6134e13f9",
   "metadata": {},
   "outputs": [
    {
     "data": {
      "image/png": "[encoded data removed]",
      "text/plain": [
       "<Figure size 300x100 with 1 Axes>"
      ]
     },
     "metadata": {},
     "output_type": "display_data"
    }
   ],
   "source": [
    "sns.palplot(sns.color_palette(\"hls\", 10)[2])"
   ]
  },
  {
   "cell_type": "code",
   "execution_count": 114,
   "id": "9f8116f4-bbc8-4439-ba11-57671691f431",
   "metadata": {},
   "outputs": [
    {
     "data": {
      "image/png": "[encoded data removed]",
      "text/plain": [
       "<Figure size 300x100 with 1 Axes>"
      ]
     },
     "metadata": {},
     "output_type": "display_data"
    }
   ],
   "source": [
    "sns.palplot(sns.color_palette(\"hls\", 10)[4])"
   ]
  },
  {
   "cell_type": "code",
   "execution_count": 115,
   "id": "08ce7652-b38e-4528-81ca-c084390d5ab5",
   "metadata": {},
   "outputs": [
    {
     "data": {
      "image/png": "[encoded data removed]",
      "text/plain": [
       "<Figure size 300x100 with 1 Axes>"
      ]
     },
     "metadata": {},
     "output_type": "display_data"
    }
   ],
   "source": [
    "sns.palplot(sns.color_palette(\"hls\", 10)[6])"
   ]
  },
  {
   "cell_type": "code",
   "execution_count": 124,
   "id": "65a65264-aa6b-478e-9df4-c62a4275fdd4",
   "metadata": {},
   "outputs": [
    {
     "data": {
      "text/plain": [
       "(0.33999999999999997, 0.5167999999999995, 0.86)"
      ]
     },
     "execution_count": 124,
     "metadata": {},
     "output_type": "execute_result"
    }
   ],
   "source": [
    "sns.color_palette(\"hls\", 10)[6]"
   ]
  },
  {
   "cell_type": "markdown",
   "id": "45c19a88-ce84-49a0-ad50-3c93e55c116a",
   "metadata": {
    "tags": []
   },
   "source": [
    "##### Quality of embedding plot"
   ]
  },
  {
   "cell_type": "code",
   "execution_count": 102,
   "id": "c72c061a-5d24-45af-978d-59486b5663df",
   "metadata": {},
   "outputs": [
    {
     "data": {
      "text/html": [
       "<div>\n",
       "<style scoped>\n",
       "    .dataframe tbody tr th:only-of-type {\n",
       "        vertical-align: middle;\n",
       "    }\n",
       "\n",
       "    .dataframe tbody tr th {\n",
       "        vertical-align: top;\n",
       "    }\n",
       "\n",
       "    .dataframe thead th {\n",
       "        text-align: right;\n",
       "    }\n",
       "</style>\n",
       "<table border=\"1\" class=\"dataframe\">\n",
       "  <thead>\n",
       "    <tr style=\"text-align: right;\">\n",
       "      <th></th>\n",
       "      <th>train_config</th>\n",
       "      <th>F1s</th>\n",
       "    </tr>\n",
       "  </thead>\n",
       "  <tbody>\n",
       "    <tr>\n",
       "      <th>0</th>\n",
       "      <td>MAD_5k_across</td>\n",
       "      <td>0.832123</td>\n",
       "    </tr>\n",
       "    <tr>\n",
       "      <th>1</th>\n",
       "      <td>MAD_5k_across</td>\n",
       "      <td>0.801371</td>\n",
       "    </tr>\n",
       "    <tr>\n",
       "      <th>2</th>\n",
       "      <td>MAD_5k_across</td>\n",
       "      <td>0.818201</td>\n",
       "    </tr>\n",
       "    <tr>\n",
       "      <th>3</th>\n",
       "      <td>MAD_5k_across</td>\n",
       "      <td>0.785742</td>\n",
       "    </tr>\n",
       "    <tr>\n",
       "      <th>4</th>\n",
       "      <td>MAD_5k_across</td>\n",
       "      <td>0.821117</td>\n",
       "    </tr>\n",
       "    <tr>\n",
       "      <th>...</th>\n",
       "      <td>...</td>\n",
       "      <td>...</td>\n",
       "    </tr>\n",
       "    <tr>\n",
       "      <th>75</th>\n",
       "      <td>30_200</td>\n",
       "      <td>0.833327</td>\n",
       "    </tr>\n",
       "    <tr>\n",
       "      <th>76</th>\n",
       "      <td>30_200</td>\n",
       "      <td>0.825576</td>\n",
       "    </tr>\n",
       "    <tr>\n",
       "      <th>77</th>\n",
       "      <td>30_200</td>\n",
       "      <td>0.872275</td>\n",
       "    </tr>\n",
       "    <tr>\n",
       "      <th>78</th>\n",
       "      <td>30_200</td>\n",
       "      <td>0.851374</td>\n",
       "    </tr>\n",
       "    <tr>\n",
       "      <th>79</th>\n",
       "      <td>30_200</td>\n",
       "      <td>0.816093</td>\n",
       "    </tr>\n",
       "  </tbody>\n",
       "</table>\n",
       "<p>400 rows × 2 columns</p>\n",
       "</div>"
      ],
      "text/plain": [
       "     train_config       F1s\n",
       "0   MAD_5k_across  0.832123\n",
       "1   MAD_5k_across  0.801371\n",
       "2   MAD_5k_across  0.818201\n",
       "3   MAD_5k_across  0.785742\n",
       "4   MAD_5k_across  0.821117\n",
       "..            ...       ...\n",
       "75         30_200  0.833327\n",
       "76         30_200  0.825576\n",
       "77         30_200  0.872275\n",
       "78         30_200  0.851374\n",
       "79         30_200  0.816093\n",
       "\n",
       "[400 rows x 2 columns]"
      ]
     },
     "execution_count": 102,
     "metadata": {},
     "output_type": "execute_result"
    }
   ],
   "source": [
    "full_stack"
   ]
  },
  {
   "cell_type": "code",
   "execution_count": 153,
   "id": "8f4cd946-0abd-4efa-a15d-cddaeb22ec48",
   "metadata": {},
   "outputs": [
    {
     "data": {
      "text/plain": [
       "array(['hold-out', 'hold-in', '12_70', '15_70', '12_80', '15_80'],\n",
       "      dtype=object)"
      ]
     },
     "execution_count": 153,
     "metadata": {},
     "output_type": "execute_result"
    }
   ],
   "source": [
    "full_stack.train_config.unique()"
   ]
  },
  {
   "cell_type": "code",
   "execution_count": 150,
   "id": "8c697eb5-0903-4f33-a3d2-07eec7f8c22f",
   "metadata": {},
   "outputs": [],
   "source": [
    "Target out:\n",
    "inpt_dec_figures - pointed, check"
   ]
  },
  {
   "cell_type": "markdown",
   "id": "a86c76d3-24fa-48f3-a94d-eb7a4c54eb3b",
   "metadata": {
    "jp-MarkdownHeadingCollapsed": true,
    "tags": []
   },
   "source": [
    "##### Quality of embedding plot template"
   ]
  },
  {
   "cell_type": "code",
   "execution_count": 155,
   "id": "75548eef-956a-4891-87b1-eaf40c43b3d7",
   "metadata": {
    "tags": []
   },
   "outputs": [
    {
     "data": {
      "image/png": "[encoded data removed]",
      "text/plain": [
       "<Figure size 1200x600 with 1 Axes>"
      ]
     },
     "metadata": {},
     "output_type": "display_data"
    }
   ],
   "source": [
    "v_scale = .72\n",
    "low_dim = '50'\n",
    "high_dim = '350'\n",
    "my_pal = {'MAD_5k_across': sns.color_palette(\"hls\", 10)[6],\n",
    "          'dim.150_epochs.200': sns.color_palette(\"hls\", 10)[4],\n",
    "          'dim.150_epochs.400': sns.color_palette(\"hls\", 10)[4],\n",
    "          'dim.250_epochs.200': sns.color_palette(\"hls\", 10)[4],\n",
    "          'dim.250_epochs.400': sns.color_palette(\"hls\", 10)[4],\n",
    "          'dim.350_epochs.200': sns.color_palette(\"hls\", 10)[4],\n",
    "          'dim.350_epochs.400': sns.color_palette(\"hls\", 10)[4],\n",
    "          'dim.50_epochs.200': sns.color_palette(\"hls\", 10)[4],\n",
    "          'dim.50_epochs.400': sns.color_palette(\"hls\", 10)[4]}\n",
    "figure(figsize=(8, 4), dpi=150)\n",
    "ax = sns.boxplot(full_stack, x='train_config', y='F1s',\n",
    "           palette = my_pal)\n",
    "ax.set_xticklabels(ax.get_xticklabels(),rotation=-55,\n",
    "                   ha='left',\n",
    "                   rotation_mode='anchor'\n",
    "                  )\n",
    "rcParams['xtick.major.pad']='.01'\n",
    "# ax2 = ax.twinx()\n",
    "plt.plot(.5, v_scale, color = 'white')\n",
    "plt.plot([-.5,8.5], [inpt_frame.F1s.mean(),\n",
    "                 inpt_frame.F1s.mean()], linestyle='dashed',\n",
    "        color = sns.color_palette(\"hls\", 10)[6])\n",
    "\n",
    "plt.suptitle(file.index.name+' input vs. decoded')\n",
    "plt.title(str(trn_tst_splts)+' train-test splits per feature set',\n",
    "         fontsize = 10)\n",
    "plt.annotate('Input\\nto VAE', (-.0,v_scale),\n",
    "             # fontsize = 15,\n",
    "             ha = 'center',\n",
    "            color = sns.color_palette(\"hls\", 10)[6])          # blue\n",
    "plt.annotate('Decoded', (.2,.1), fontsize = 15) \n",
    "plt.savefig('i_o/box_curve/inpt_dec_figures/BRCA_dim.'+low_dim+'-'+high_dim+'.png', dpi = 150, # < \n",
    "           bbox_inches = 'tight')"
   ]
  },
  {
   "cell_type": "markdown",
   "id": "8573dc09-c280-4ab3-82d6-26e502d079e7",
   "metadata": {},
   "source": [
    "##### Transfer training devel"
   ]
  },
  {
   "cell_type": "code",
   "execution_count": 107,
   "id": "c86e2de7-18ee-4678-8545-c96d6df19c9c",
   "metadata": {},
   "outputs": [
    {
     "data": {
      "text/plain": [
       "'/Users/karlberb/Documents/work/sample_count/synthetic_TCGA_data_gen/g_learning_curves'"
      ]
     },
     "execution_count": 107,
     "metadata": {},
     "output_type": "execute_result"
    }
   ],
   "source": [
    "pwd"
   ]
  },
  {
   "cell_type": "code",
   "execution_count": 108,
   "id": "da442e2d-007b-4cc8-b550-79d33120242f",
   "metadata": {},
   "outputs": [],
   "source": [
    "mkdir i_o/bx_crv/quality_encode"
   ]
  },
  {
   "cell_type": "code",
   "execution_count": 163,
   "id": "b2d5b30d-8718-4290-8017-f54e7618734d",
   "metadata": {},
   "outputs": [
    {
     "data": {
      "text/html": [
       "<svg  width=\"550\" height=\"55\"><rect x=\"0\" y=\"0\" width=\"55\" height=\"55\" style=\"fill:#db5f57;stroke-width:2;stroke:rgb(255,255,255)\"/><rect x=\"55\" y=\"0\" width=\"55\" height=\"55\" style=\"fill:#dbae57;stroke-width:2;stroke:rgb(255,255,255)\"/><rect x=\"110\" y=\"0\" width=\"55\" height=\"55\" style=\"fill:#b9db57;stroke-width:2;stroke:rgb(255,255,255)\"/><rect x=\"165\" y=\"0\" width=\"55\" height=\"55\" style=\"fill:#69db57;stroke-width:2;stroke:rgb(255,255,255)\"/><rect x=\"220\" y=\"0\" width=\"55\" height=\"55\" style=\"fill:#57db94;stroke-width:2;stroke:rgb(255,255,255)\"/><rect x=\"275\" y=\"0\" width=\"55\" height=\"55\" style=\"fill:#57d3db;stroke-width:2;stroke:rgb(255,255,255)\"/><rect x=\"330\" y=\"0\" width=\"55\" height=\"55\" style=\"fill:#5784db;stroke-width:2;stroke:rgb(255,255,255)\"/><rect x=\"385\" y=\"0\" width=\"55\" height=\"55\" style=\"fill:#7957db;stroke-width:2;stroke:rgb(255,255,255)\"/><rect x=\"440\" y=\"0\" width=\"55\" height=\"55\" style=\"fill:#c957db;stroke-width:2;stroke:rgb(255,255,255)\"/><rect x=\"495\" y=\"0\" width=\"55\" height=\"55\" style=\"fill:#db579e;stroke-width:2;stroke:rgb(255,255,255)\"/></svg>"
      ],
      "text/plain": [
       "[(0.86, 0.3712, 0.33999999999999997),\n",
       " (0.86, 0.6832, 0.33999999999999997),\n",
       " (0.7247999999999999, 0.86, 0.33999999999999997),\n",
       " (0.41279999999999994, 0.86, 0.33999999999999997),\n",
       " (0.33999999999999997, 0.86, 0.5792000000000002),\n",
       " (0.33999999999999997, 0.8287999999999999, 0.86),\n",
       " (0.33999999999999997, 0.5167999999999995, 0.86),\n",
       " (0.4752000000000003, 0.33999999999999997, 0.86),\n",
       " (0.7871999999999999, 0.33999999999999997, 0.86),\n",
       " (0.86, 0.33999999999999997, 0.6207999999999999)]"
      ]
     },
     "execution_count": 163,
     "metadata": {},
     "output_type": "execute_result"
    }
   ],
   "source": [
    "sns.color_palette(\"hls\", 10)"
   ]
  },
  {
   "cell_type": "code",
   "execution_count": 155,
   "id": "b13db818-b5fd-48f7-8172-5d3dbd45964f",
   "metadata": {},
   "outputs": [
    {
     "data": {
      "text/plain": [
       "(0.86, 0.3712, 0.33999999999999997)"
      ]
     },
     "execution_count": 155,
     "metadata": {},
     "output_type": "execute_result"
    }
   ],
   "source": [
    "sns.color_palette(\"hls\", 10)[0]"
   ]
  },
  {
   "cell_type": "code",
   "execution_count": 175,
   "id": "114add7e-a049-49f0-9d42-f1360d49d07d",
   "metadata": {},
   "outputs": [],
   "source": [
    "tune_stack = pd.concat( [full_stack, blend_stack] , axis = 0)"
   ]
  },
  {
   "cell_type": "code",
   "execution_count": 178,
   "id": "c4d4c30e-ddb2-4230-815f-1a9c8eb010dc",
   "metadata": {},
   "outputs": [
    {
     "data": {
      "image/png": "[encoded data removed]",
      "text/plain": [
       "<Figure size 1200x600 with 1 Axes>"
      ]
     },
     "metadata": {},
     "output_type": "display_data"
    }
   ],
   "source": [
    "v_scale = .64\n",
    "low_dim = '100'\n",
    "high_dim = '200'\n",
    "my_pal = {'hold-out': sns.color_palette(\"hls\", 10)[0],\n",
    "          'hold-in': sns.color_palette(\"hls\", 10)[6],\n",
    "          '12_70': sns.color_palette(\"hls\", 10)[4],\n",
    "          '15_70': sns.color_palette(\"hls\", 10)[4],\n",
    "          '12_80': sns.color_palette(\"hls\", 10)[4],\n",
    "          '15_80': sns.color_palette(\"hls\", 10)[4],\n",
    "          'blend': sns.color_palette(\"hls\", 10)[8]}\n",
    "\n",
    "figure(figsize=(8, 4), dpi=150)\n",
    "ax = sns.boxplot(tune_stack, x='train_config', y='F1s',\n",
    "           palette = my_pal)\n",
    "ax.set_xticklabels(ax.get_xticklabels(),rotation=-55,\n",
    "                   ha='left',\n",
    "                   rotation_mode='anchor'\n",
    "                  )\n",
    "rcParams['xtick.major.pad']='.01'\n",
    "# ax2 = ax.twinx()\n",
    "plt.plot(.5, v_scale, color = 'white')\n",
    "plt.plot([-.5,6.5], [hld_in_frame.F1s.mean(),\n",
    "                 hld_in_frame.F1s.mean()], linestyle='dashed',\n",
    "        color = sns.color_palette(\"hls\", 10)[6])\n",
    "\n",
    "plt.suptitle(fine_tune_file.index.name+' hold-out, hold-in, and decoded with TCGA n = 25 pre-train')\n",
    "plt.title('Hold-in set n = '+str(len(hold_in)),\n",
    "         fontsize = 10)\n",
    "plt.annotate('Input\\nto VAE', (1,v_scale),\n",
    "             # fontsize = 15,\n",
    "             ha = 'center',\n",
    "            color = sns.color_palette(\"hls\", 10)[6])          # blue\n",
    "plt.annotate('Decoded', (.2,.1), fontsize = 15) \n",
    "plt.savefig('i_o/bx_crv/quality_encode/BRCA.fine_TCGA.pre_r3.png', dpi = 150, # < \n",
    "           bbox_inches = 'tight')"
   ]
  },
  {
   "cell_type": "markdown",
   "id": "f0a88547-e766-4d48-b372-aa16c8ac9515",
   "metadata": {
    "jp-MarkdownHeadingCollapsed": true,
    "tags": []
   },
   "source": [
    "##### Hold-in devel"
   ]
  },
  {
   "cell_type": "code",
   "execution_count": 70,
   "id": "62f81a78-e418-4a75-a865-ac75ce42a0cd",
   "metadata": {},
   "outputs": [
    {
     "data": {
      "text/plain": [
       "BRCA_1    16\n",
       "BRCA_2    11\n",
       "BRCA_3    10\n",
       "BRCA_4     3\n",
       "Name: Labels, dtype: int64"
      ]
     },
     "execution_count": 70,
     "metadata": {},
     "output_type": "execute_result"
    }
   ],
   "source": [
    "hold_in.Labels.value_counts()"
   ]
  },
  {
   "cell_type": "code",
   "execution_count": 71,
   "id": "266377e1-6e13-43cb-b251-ae8209821d4d",
   "metadata": {},
   "outputs": [],
   "source": [
    "hold_in = file.sample(40)\n",
    "hold_out = file.loc[file[~file.index.isin(hold_in.index)].index, :]"
   ]
  },
  {
   "cell_type": "code",
   "execution_count": null,
   "id": "33700844-346a-400d-ad78-2556211776f9",
   "metadata": {},
   "outputs": [],
   "source": [
    "sub_samp_drug_sub[~sub_samp_drug_sub.Cell_line.isin(X.Cell_line)].Cell_line"
   ]
  },
  {
   "cell_type": "markdown",
   "id": "dbba0e8b-5045-49b0-8044-4713916a9cad",
   "metadata": {
    "jp-MarkdownHeadingCollapsed": true,
    "tags": []
   },
   "source": [
    "### Hold-out box curve F1 gen to hue frame"
   ]
  },
  {
   "cell_type": "code",
   "execution_count": 179,
   "id": "474addfc-04aa-4567-ab9f-be89b56ce78f",
   "metadata": {},
   "outputs": [
    {
     "data": {
      "text/plain": [
       "(495, 5001)"
      ]
     },
     "execution_count": 179,
     "metadata": {},
     "output_type": "execute_result"
    }
   ],
   "source": [
    "hold_out.shape"
   ]
  },
  {
   "cell_type": "code",
   "execution_count": 182,
   "id": "a30b2882-d068-4bd5-9fbf-5bc6d75a3a60",
   "metadata": {},
   "outputs": [
    {
     "name": "stdout",
     "output_type": "stream",
     "text": [
      "Hold _in box curve F1\n",
      "10\n",
      "20\n",
      "30\n",
      "40\n",
      "50\n",
      "60\n",
      "70\n",
      "80\n",
      "90\n",
      "100\n",
      "110\n",
      "120\n",
      "130\n",
      "140\n",
      "150\n",
      "160\n",
      "170\n",
      "180\n",
      "190\n",
      "200\n",
      "210\n",
      "220\n",
      "230\n",
      "240\n",
      "250\n",
      "260\n",
      "270\n",
      "280\n",
      "290\n",
      "300\n",
      "Learning curve object generated, send to plot function\n"
     ]
    }
   ],
   "source": [
    "print('Hold _in box curve F1')\n",
    "\n",
    "hld_in_bx_crv = pd.DataFrame()\n",
    "for smp_sz in list(range(10, 301, 10)): # BRCA <--- across run, plot up to 100?\n",
    "    step_frame = pd.DataFrame()\n",
    "    print(smp_sz)\n",
    "    RF_output = []\n",
    "    resmpl_count = 30 # 250\n",
    "    for r in list(range(0, resmpl_count)):\n",
    "        \n",
    "        labeled_sample_subset_frame = hold_in.sample(smp_sz)\n",
    "        X = labeled_sample_subset_frame.iloc[:, 1:]\n",
    "        y = labeled_sample_subset_frame.iloc[:, 0]\n",
    "        X_train, X_test, y_train, y_test = train_test_split(\n",
    "                    X, y,\n",
    "                        test_size=0.33,\n",
    "                            )\n",
    "        RF_clf = RandomForestClassifier(max_depth=2)\n",
    "        RF_clf.fit(X_train, y_train)\n",
    "\n",
    "        RF_F1_scr = f1_score(y_test, RF_clf.predict(X_test), average='weighted')\n",
    "        RF_output.append(RF_F1_scr)\n",
    "\n",
    "#     inpt_RF_F1_means[smp_sz] = round(mean(RF_output), 3)\n",
    "    \n",
    "#     inpt_RF_F1_dct[smp_sz] = RF_output\n",
    "    # break\n",
    "    step_frame['data_phase'] = ['hld_in'] * resmpl_count\n",
    "    step_frame['step_size'] = [smp_sz] * resmpl_count\n",
    "    step_frame['F1_score'] = RF_output\n",
    "    hld_in_bx_crv = pd.concat( [hld_in_bx_crv, step_frame] , axis = 0)    \n",
    "print('Learning curve object generated, send to plot function')"
   ]
  },
  {
   "cell_type": "code",
   "execution_count": 236,
   "id": "5e89e093-da86-4abb-b7d7-ca84a4d68d81",
   "metadata": {},
   "outputs": [],
   "source": [
    "hld_in_bx_crv.data_phase = 'hld-in'"
   ]
  },
  {
   "cell_type": "markdown",
   "id": "3eb15e41-d0d3-4020-8ff4-5c7eab310681",
   "metadata": {
    "jp-MarkdownHeadingCollapsed": true,
    "tags": []
   },
   "source": [
    "### Hold-in box curve F1 gen to hue frame"
   ]
  },
  {
   "cell_type": "code",
   "execution_count": 180,
   "id": "2be55aa5-eb81-46ea-ada3-8e0ea3fc12bd",
   "metadata": {},
   "outputs": [
    {
     "data": {
      "text/plain": [
       "(500, 5001)"
      ]
     },
     "execution_count": 180,
     "metadata": {},
     "output_type": "execute_result"
    }
   ],
   "source": [
    "hold_in.shape"
   ]
  },
  {
   "cell_type": "code",
   "execution_count": 183,
   "id": "339028f6-b385-4fa3-a4d7-e045a5ecbe7e",
   "metadata": {
    "tags": []
   },
   "outputs": [
    {
     "name": "stdout",
     "output_type": "stream",
     "text": [
      "Hold out box curve F1\n",
      "10\n",
      "20\n",
      "30\n",
      "40\n",
      "50\n",
      "60\n",
      "70\n",
      "80\n",
      "90\n",
      "100\n",
      "110\n",
      "120\n",
      "130\n",
      "140\n",
      "150\n",
      "160\n",
      "170\n",
      "180\n",
      "190\n",
      "200\n",
      "210\n",
      "220\n",
      "230\n",
      "240\n",
      "250\n",
      "260\n",
      "270\n",
      "280\n",
      "290\n",
      "300\n",
      "hold out curve done\n"
     ]
    }
   ],
   "source": [
    "print('Hold out box curve F1')\n",
    "\n",
    "hld_out_bx_crv = pd.DataFrame()\n",
    "for smp_sz in list(range(10, 301, 10)): # BRCA <--- across run, plot up to 100?\n",
    "    step_frame = pd.DataFrame()\n",
    "    print(smp_sz)\n",
    "    RF_output = []\n",
    "    resmpl_count = 30 # 250\n",
    "    for r in list(range(0, resmpl_count)):\n",
    "        \n",
    "        labeled_sample_subset_frame = hold_out.sample(smp_sz)\n",
    "        X = labeled_sample_subset_frame.iloc[:, 1:]\n",
    "        y = labeled_sample_subset_frame.iloc[:, 0]\n",
    "        X_train, X_test, y_train, y_test = train_test_split(\n",
    "                    X, y,\n",
    "                        test_size=0.33,\n",
    "                            )\n",
    "        RF_clf = RandomForestClassifier(max_depth=2)\n",
    "        RF_clf.fit(X_train, y_train)\n",
    "\n",
    "        RF_F1_scr = f1_score(y_test, RF_clf.predict(X_test), average='weighted')\n",
    "        RF_output.append(RF_F1_scr)\n",
    "\n",
    "#     inpt_RF_F1_means[smp_sz] = round(mean(RF_output), 3)\n",
    "    \n",
    "#     inpt_RF_F1_dct[smp_sz] = RF_output\n",
    "    # break\n",
    "    step_frame['data_phase'] = ['hld_out'] * resmpl_count\n",
    "    step_frame['step_size'] = [smp_sz] * resmpl_count\n",
    "    step_frame['F1_score'] = RF_output\n",
    "    hld_out_bx_crv = pd.concat( [hld_out_bx_crv, step_frame] , axis = 0)    \n",
    "print('hold out curve done')"
   ]
  },
  {
   "cell_type": "code",
   "execution_count": 237,
   "id": "4ef45ed9-8519-4bc6-98fd-57a09b260970",
   "metadata": {},
   "outputs": [],
   "source": [
    "hld_out_bx_crv.data_phase = 'hld-out'"
   ]
  },
  {
   "cell_type": "markdown",
   "id": "70264ea9-841e-484d-8eae-398bb65e1880",
   "metadata": {
    "tags": []
   },
   "source": [
    "#### Decoded box curve"
   ]
  },
  {
   "cell_type": "code",
   "execution_count": 318,
   "id": "fa37762e-084b-4e55-ba17-cb1b5c35f58b",
   "metadata": {},
   "outputs": [],
   "source": [
    "df_to_clf = pd.read_csv(\n",
    "    'i_o/box_whisk/BRCA_fit_on.BRCA_decoded_latent_dim.120_epochs.80_mad_5k_withinhold_in.tsv',\n",
    "    sep = '\\t', index_col = 0)"
   ]
  },
  {
   "cell_type": "code",
   "execution_count": 153,
   "id": "31095e3d-cd6a-4489-b1a8-10d7453209b2",
   "metadata": {},
   "outputs": [],
   "source": [
    "df_to_clf = pd.read_csv(\n",
    "    'i_o/box_curve/fit.BRCA.epochs.100_pre_trained_on.ACC.epochs.30_decoded_obj_latent_dim.100_mad_5k_across_hold_in.40.tsv',\n",
    "    sep = '\\t', index_col = 0)"
   ]
  },
  {
   "cell_type": "code",
   "execution_count": null,
   "id": "acb3ea98-3372-4b89-9e30-2b593ac63be5",
   "metadata": {},
   "outputs": [],
   "source": [
    "blend_stack"
   ]
  },
  {
   "cell_type": "code",
   "execution_count": 184,
   "id": "3c263e82-474a-4263-97e6-cf620af0f504",
   "metadata": {},
   "outputs": [
    {
     "name": "stdout",
     "output_type": "stream",
     "text": [
      "fit.BRCA.epochs.70_pre_trained_on.TCGA_n_25.epochs.12_decoded_obj_latent_dim.100_mad_5k_across_itr1.tsv\n",
      "fit.BRCA.epochs.70_pre_trained_on.TCGA_n_25.epochs.12_latent_dim.100_mad_5k_across_itr1.png\n",
      "fit.BRCA.epochs.70_pre_trained_on.TCGA_n_25.epochs.12_latent_object_latent_dim.100_mad_5k_across_itr1.tsv\n",
      "fit.BRCA.epochs.70_pre_trained_on.TCGA_n_25.epochs.15_decoded_obj_latent_dim.100_mad_5k_across_itr1.tsv\n",
      "fit.BRCA.epochs.70_pre_trained_on.TCGA_n_25.epochs.15_latent_dim.100_mad_5k_across_itr1.png\n",
      "fit.BRCA.epochs.70_pre_trained_on.TCGA_n_25.epochs.15_latent_object_latent_dim.100_mad_5k_across_itr1.tsv\n",
      "fit.BRCA.epochs.80_pre_trained_on.TCGA_n_25.epochs.12_decoded_obj_latent_dim.100_mad_5k_across_itr1.tsv\n",
      "fit.BRCA.epochs.80_pre_trained_on.TCGA_n_25.epochs.12_latent_dim.100_mad_5k_across_itr1.png\n",
      "fit.BRCA.epochs.80_pre_trained_on.TCGA_n_25.epochs.12_latent_object_latent_dim.100_mad_5k_across_itr1.tsv\n",
      "fit.BRCA.epochs.80_pre_trained_on.TCGA_n_25.epochs.15_decoded_obj_latent_dim.100_mad_5k_across_itr1.tsv\n",
      "fit.BRCA.epochs.80_pre_trained_on.TCGA_n_25.epochs.15_latent_dim.100_mad_5k_across_itr1.png\n",
      "fit.BRCA.epochs.80_pre_trained_on.TCGA_n_25.epochs.15_latent_object_latent_dim.100_mad_5k_across_itr1.tsv\n",
      "fit.TCGA_n_25.epochs.12_pre_trained_on.NONE.epochs.NA_latent_dim.100_mad_5k_across_itr1.png\n",
      "fit.TCGA_n_25.epochs.15_pre_trained_on.NONE.epochs.NA_latent_dim.100_mad_5k_across_itr1.png\n",
      "fit.TCGA_n_25.epochs.30_pre_trained_on.NONE.epochs.NA_latent_dim.100_mad_5k_across_itr1.png\n",
      "\u001b[34mquality_encode\u001b[m\u001b[m/\n",
      "\u001b[34mwith_LGGGBM\u001b[m\u001b[m/\n"
     ]
    }
   ],
   "source": [
    "ls i_o/bx_crv/"
   ]
  },
  {
   "cell_type": "code",
   "execution_count": 187,
   "id": "51727b31-1657-4764-b1c4-8625e5d53c15",
   "metadata": {},
   "outputs": [],
   "source": [
    "df_to_clf = pd.read_csv(\n",
    "    'i_o/bx_crv/fit.BRCA.epochs.70_pre_trained_on.TCGA_n_25.epochs.15_decoded_obj_latent_dim.100_mad_5k_across_itr1.tsv',\n",
    "    sep = '\\t', index_col = 0)"
   ]
  },
  {
   "cell_type": "code",
   "execution_count": 188,
   "id": "3c984e1c-011d-4c9e-ab5d-79d2d62a0d25",
   "metadata": {
    "tags": []
   },
   "outputs": [
    {
     "name": "stdout",
     "output_type": "stream",
     "text": [
      "10\n",
      "20\n",
      "30\n",
      "40\n",
      "50\n",
      "60\n",
      "70\n",
      "80\n",
      "90\n",
      "100\n",
      "110\n",
      "120\n",
      "130\n",
      "140\n",
      "150\n",
      "160\n",
      "170\n",
      "180\n",
      "190\n",
      "200\n",
      "210\n",
      "220\n",
      "230\n",
      "240\n",
      "250\n",
      "260\n",
      "270\n",
      "280\n",
      "290\n",
      "300\n",
      "decoded box curve frame done\n"
     ]
    }
   ],
   "source": [
    "# Superimpose dictionary 2 (decoded) samples build, version super 0, now in figure_five\n",
    "\n",
    "# dec_RF_F1_means = {}\n",
    "# dec_RF_F1_dct = {}\n",
    "\n",
    "dec_RF_F1_frame = pd.DataFrame()\n",
    "\n",
    "for smp_sz in list(range(10, 301, 10)): # BRCA <--- across run, mirror input steps above\n",
    "    step_frame = pd.DataFrame()\n",
    "    print(smp_sz)\n",
    "\n",
    "    RF_output = []\n",
    "    # resmpl_count = 150\n",
    "    for r in list(range(0, resmpl_count)):\n",
    "        \n",
    "        labeled_sample_subset_frame = df_to_clf.sample(smp_sz) # df_to_clf set as decoded object now, not the input\n",
    "        X = labeled_sample_subset_frame.iloc[:, 1:]\n",
    "        y = labeled_sample_subset_frame.iloc[:, 0]\n",
    "        X_train, X_test, y_train, y_test = train_test_split(\n",
    "                    X, y,\n",
    "                        test_size=0.33,\n",
    "                            )\n",
    "        RF_clf = RandomForestClassifier(max_depth=2)\n",
    "        RF_clf.fit(X_train, y_train)\n",
    "\n",
    "        RF_F1_scr = f1_score(y_test, RF_clf.predict(X_test), average='weighted')\n",
    "        RF_output.append(RF_F1_scr)\n",
    "           \n",
    "    # dec_RF_F1_means[smp_sz] = round(mean(RF_output), 3)\n",
    "    # dec_RF_F1_dct[smp_sz] = RF_output # To devel frame below\n",
    "    \n",
    "    step_frame['data_phase'] = ['dec'] * resmpl_count\n",
    "    step_frame['step_size'] = [smp_sz] * resmpl_count\n",
    "    step_frame['F1_score'] = RF_output\n",
    "    dec_RF_F1_frame = pd.concat( [dec_RF_F1_frame, step_frame] , axis = 0)    \n",
    "    \n",
    "print('decoded box curve frame done')"
   ]
  },
  {
   "cell_type": "markdown",
   "id": "18023962-a9b5-4b53-9ad4-57a8fb63765b",
   "metadata": {
    "jp-MarkdownHeadingCollapsed": true,
    "tags": []
   },
   "source": [
    "### Synth learning curve  "
   ]
  },
  {
   "cell_type": "code",
   "execution_count": 189,
   "id": "6e9debea-f8f6-43d9-aad4-bdaca267cd13",
   "metadata": {},
   "outputs": [],
   "source": [
    "latent_obj = pd.read_csv(\n",
    "    'i_o/bx_crv/fit.BRCA.epochs.70_pre_trained_on.TCGA_n_25.epochs.15_latent_object_latent_dim.100_mad_5k_across_itr1.tsv',\n",
    "    sep = '\\t', index_col = 0)"
   ]
  },
  {
   "cell_type": "code",
   "execution_count": null,
   "id": "80d2d00d-9e53-4fa7-bdeb-3c05e05f4d08",
   "metadata": {},
   "outputs": [],
   "source": [
    "# Friday, 3:30 pm, want to balance the sample counts within each subtype\n",
    "# Find the threshold at which to drop or keep under-sampled subtypes: Deliverable\n",
    "# Also, going to toggle-off F1 per no imbalance now"
   ]
  },
  {
   "cell_type": "code",
   "execution_count": null,
   "id": "158034f2-208f-4c89-91ec-cdc78fbb452f",
   "metadata": {},
   "outputs": [],
   "source": [
    "# idea for new notebook name: Digital cousin"
   ]
  },
  {
   "cell_type": "code",
   "execution_count": 99,
   "id": "57f2c714-88eb-4460-b171-7c580bc89cdd",
   "metadata": {},
   "outputs": [
    {
     "data": {
      "text/plain": [
       "['BRCA_1', 'BRCA_2', 'BRCA_3', 'BRCA_4']"
      ]
     },
     "execution_count": 99,
     "metadata": {},
     "output_type": "execute_result"
    }
   ],
   "source": [
    "sorted(latent_obj.Labels.unique())"
   ]
  },
  {
   "cell_type": "markdown",
   "id": "ca7c8367-87d9-4f88-9754-d12a327fc054",
   "metadata": {
    "tags": []
   },
   "source": [
    "##### Synth main"
   ]
  },
  {
   "cell_type": "code",
   "execution_count": 229,
   "id": "2fb4d0f2-54d9-4dbe-b3f8-0bc88ac0877a",
   "metadata": {},
   "outputs": [
    {
     "name": "stdout",
     "output_type": "stream",
     "text": [
      "BRCA_1\n",
      "BRCA_2\n",
      "BRCA_3\n",
      "BRCA_4\n"
     ]
    }
   ],
   "source": [
    "synth_ndx_strt = 0\n",
    "synth_full_frame = pd.DataFrame()\n",
    "\n",
    "for subtype in sorted(latent_obj.Labels.unique()): # Subset the latent feature frame on each subtype\n",
    "    \n",
    "    print(subtype)\n",
    "    \n",
    "    sub = latent_obj[latent_obj.Labels == subtype]\n",
    "    synth_lat_feat_vec = []\n",
    "    \n",
    "    sub_len = len(sub)\n",
    "    synth_sub_len = len(sub)*1  # <------ Toggle the integer at the end of this line to amplify the sample size\n",
    "    \n",
    "    synth_index = ['SYNTH-' + fine_tune_file.index.name + '-' + jtem for jtem in [str(\n",
    "        item).zfill(5) for item in list(range(synth_ndx_strt,\n",
    "                                              synth_sub_len + synth_ndx_strt))]]\n",
    "    \n",
    "    synth_sub_frame = pd.DataFrame(index = synth_index)\n",
    "    synth_sub_frame.insert(0, 'Labels', sub.Labels[0])\n",
    "\n",
    "    for lat_feat in sub.columns[1:]:               # Go through the subtype latent feature set,\n",
    "        lat_col = sub.loc[:, lat_feat]\n",
    "\n",
    "        rand_lat_feat_vals = lat_col.sample(\n",
    "            synth_sub_len, replace = True)\n",
    "        new_vals = []\n",
    "        for val in rand_lat_feat_vals:\n",
    "            new_vals.append(val+rand_lat_feat_vals.mean()*.05*sample(up_or_down,1)[0])\n",
    "        fuzzed = pd.Series(new_vals, index = synth_index)\n",
    "        synth_sub_frame = pd.concat(\n",
    "            [synth_sub_frame, fuzzed], axis = 1)\n",
    "    synth_full_frame = pd.concat(\n",
    "        [synth_full_frame, synth_sub_frame], axis = 0)\n",
    "    synth_ndx_strt = synth_ndx_strt + synth_sub_len"
   ]
  },
  {
   "cell_type": "markdown",
   "id": "91c41913-0c14-46a6-aaba-b067d2fe54db",
   "metadata": {},
   "source": [
    "#### Synth devel"
   ]
  },
  {
   "cell_type": "code",
   "execution_count": 227,
   "id": "408c5e44-eb1d-456a-bf4f-a0592c61b01f",
   "metadata": {},
   "outputs": [],
   "source": [
    "new_vals = []\n",
    "for val in rand_lat_feat_vals:\n",
    "    # print(val)\n",
    "    new_vals.append(val+rand_lat_feat_vals.mean()*.05*sample(up_or_down,1)[0])\n",
    "    # break\n",
    "    \n",
    "fuzzed = pd.Series(new_vals, index = synth_index)"
   ]
  },
  {
   "cell_type": "code",
   "execution_count": 228,
   "id": "d94232e7-c071-46af-a8f0-ab7306880eb1",
   "metadata": {},
   "outputs": [
    {
     "data": {
      "text/plain": [
       "<AxesSubplot: >"
      ]
     },
     "execution_count": 228,
     "metadata": {},
     "output_type": "execute_result"
    },
    {
     "data": {
      "image/png": "[encoded data removed]",
      "text/plain": [
       "<Figure size 640x480 with 1 Axes>"
      ]
     },
     "metadata": {},
     "output_type": "display_data"
    }
   ],
   "source": [
    "fuzzed.hist()"
   ]
  },
  {
   "cell_type": "code",
   "execution_count": 220,
   "id": "117db7af-21b4-4d0c-9510-6b54eb443dfa",
   "metadata": {},
   "outputs": [
    {
     "data": {
      "text/plain": [
       "0.46026550940441174"
      ]
     },
     "execution_count": 220,
     "metadata": {},
     "output_type": "execute_result"
    }
   ],
   "source": [
    "rand_lat_feat_vals.mean()"
   ]
  },
  {
   "cell_type": "code",
   "execution_count": 221,
   "id": "983febc0-1b0a-43f9-b9ff-f7435d99c8bf",
   "metadata": {},
   "outputs": [
    {
     "data": {
      "text/plain": [
       "pandas.core.series.Series"
      ]
     },
     "execution_count": 221,
     "metadata": {},
     "output_type": "execute_result"
    }
   ],
   "source": [
    "type(rand_lat_feat_vals)"
   ]
  },
  {
   "cell_type": "code",
   "execution_count": 216,
   "id": "99d6aa43-2f15-4047-8cb2-c5687a76131a",
   "metadata": {},
   "outputs": [
    {
     "data": {
      "text/plain": [
       "BRCA\n",
       "TCGA-BH-A0BA    1.381983\n",
       "TCGA-A7-A3RF    0.000000\n",
       "TCGA-PL-A8LX    0.000000\n",
       "TCGA-A8-A07J    0.669237\n",
       "TCGA-A8-A06U    1.334681\n",
       "                  ...   \n",
       "TCGA-GM-A3NW    0.087688\n",
       "TCGA-E2-A1IL    0.766139\n",
       "TCGA-AC-A3EH    0.000000\n",
       "TCGA-EW-A2FS    0.000000\n",
       "TCGA-EW-A1P3    0.000000\n",
       "Name: 0, Length: 272, dtype: float64"
      ]
     },
     "execution_count": 216,
     "metadata": {},
     "output_type": "execute_result"
    }
   ],
   "source": [
    "rand_lat_feat_vals"
   ]
  },
  {
   "cell_type": "code",
   "execution_count": 198,
   "id": "f90027b9-c9b0-4571-9212-a88dbc9b17be",
   "metadata": {},
   "outputs": [],
   "source": [
    "up_or_down = [1, -1]"
   ]
  },
  {
   "cell_type": "code",
   "execution_count": 202,
   "id": "5bdeb706-aa6c-4753-a52e-bc505f8ce663",
   "metadata": {},
   "outputs": [],
   "source": [
    "from random import sample"
   ]
  },
  {
   "cell_type": "code",
   "execution_count": 213,
   "id": "6e6269fe-7371-470d-80eb-2c996638ff64",
   "metadata": {},
   "outputs": [
    {
     "data": {
      "text/plain": [
       "-1"
      ]
     },
     "execution_count": 213,
     "metadata": {},
     "output_type": "execute_result"
    }
   ],
   "source": [
    "sign = sample(up_or_down,1)[0]\n",
    "sign"
   ]
  },
  {
   "cell_type": "code",
   "execution_count": 205,
   "id": "2ef5e933-f38e-427c-afc3-21539fd1018e",
   "metadata": {},
   "outputs": [
    {
     "data": {
      "text/plain": [
       "0.5087377233602941"
      ]
     },
     "execution_count": 205,
     "metadata": {},
     "output_type": "execute_result"
    }
   ],
   "source": [
    "lat_col.mean()"
   ]
  },
  {
   "cell_type": "code",
   "execution_count": 217,
   "id": "273535ca-f987-4f32-8a39-b8970065d615",
   "metadata": {},
   "outputs": [
    {
     "data": {
      "text/plain": [
       "<AxesSubplot: >"
      ]
     },
     "execution_count": 217,
     "metadata": {},
     "output_type": "execute_result"
    },
    {
     "data": {
      "image/png": "[encoded data removed]",
      "text/plain": [
       "<Figure size 640x480 with 1 Axes>"
      ]
     },
     "metadata": {},
     "output_type": "display_data"
    }
   ],
   "source": [
    "rand_lat_feat_vals.hist()"
   ]
  },
  {
   "cell_type": "code",
   "execution_count": 206,
   "id": "6327baab-a016-401e-adb5-909a830cc6b5",
   "metadata": {},
   "outputs": [
    {
     "data": {
      "text/plain": [
       "<AxesSubplot: >"
      ]
     },
     "execution_count": 206,
     "metadata": {},
     "output_type": "execute_result"
    },
    {
     "data": {
      "image/png": "[encoded data removed]",
      "text/plain": [
       "<Figure size 640x480 with 1 Axes>"
      ]
     },
     "metadata": {},
     "output_type": "display_data"
    }
   ],
   "source": [
    "lat_col.hist()"
   ]
  },
  {
   "cell_type": "code",
   "execution_count": 145,
   "id": "ee879ec6-2d00-461b-a877-80399ea22c9c",
   "metadata": {},
   "outputs": [
    {
     "data": {
      "text/plain": [
       "(40, 101)"
      ]
     },
     "execution_count": 145,
     "metadata": {},
     "output_type": "execute_result"
    }
   ],
   "source": [
    "synth_full_frame.shape  # hold in samples vs. 100 dim latent space"
   ]
  },
  {
   "cell_type": "code",
   "execution_count": 230,
   "id": "38538002-bbaf-405a-afc9-cdb465dceae6",
   "metadata": {},
   "outputs": [],
   "source": [
    "# Trained decoder still in memory (usually about 5GB at this point)\n",
    "synth_decoded = pd.DataFrame(decoder.predict( # note:\n",
    "    synth_full_frame.iloc[:, 1:]),\n",
    "        index=synth_full_frame.index, # Putting on synthetic index\n",
    "            columns=hold_in.iloc[:, 1:].columns) # Putting on og columns"
   ]
  },
  {
   "cell_type": "code",
   "execution_count": 231,
   "id": "b10b7dca-a0fd-4eeb-8465-b416ae3993bc",
   "metadata": {},
   "outputs": [],
   "source": [
    "synth_decoded_labeled = pd.concat(\n",
    "    [pd.DataFrame(synth_full_frame.Labels),\n",
    "     synth_decoded] , axis =1)"
   ]
  },
  {
   "cell_type": "code",
   "execution_count": 232,
   "id": "2a2c2e69-e1b9-4351-bd79-14304d3c365d",
   "metadata": {},
   "outputs": [],
   "source": [
    "df_to_clf = synth_decoded_labeled"
   ]
  },
  {
   "cell_type": "markdown",
   "id": "77e099db-48ac-4603-a179-93c06163876c",
   "metadata": {
    "tags": []
   },
   "source": [
    "##### Synth F1"
   ]
  },
  {
   "cell_type": "code",
   "execution_count": 234,
   "id": "fb0b9291-231e-4a24-85fb-cd96c6728119",
   "metadata": {},
   "outputs": [
    {
     "name": "stdout",
     "output_type": "stream",
     "text": [
      "10\n",
      "20\n",
      "30\n",
      "40\n",
      "50\n",
      "60\n",
      "70\n",
      "80\n",
      "90\n",
      "100\n",
      "110\n",
      "120\n",
      "130\n",
      "140\n",
      "150\n",
      "160\n",
      "170\n",
      "180\n",
      "190\n",
      "200\n",
      "210\n",
      "220\n",
      "230\n",
      "240\n",
      "250\n",
      "260\n",
      "270\n",
      "280\n",
      "290\n",
      "300\n",
      "synth bx_crv done\n"
     ]
    }
   ],
   "source": [
    "# Superimpose dictionary 2 (decoded) samples build, version super 1\n",
    "synth_RF_F1_frame = pd.DataFrame()\n",
    "# synth_RF_F1_means = {}\n",
    "    \n",
    "for smp_sz in list(range(10, 301, 10)): # BRCA <--- across run, mirror input steps above\n",
    "    step_frame = pd.DataFrame()\n",
    "    print(smp_sz)\n",
    "\n",
    "    RF_output = []\n",
    "    \n",
    "    for r in list(range(0, resmpl_count)):\n",
    "        \n",
    "        labeled_sample_subset_frame = df_to_clf.sample(smp_sz) # df_to_clf set as decoded object now, not the input\n",
    "        X = labeled_sample_subset_frame.iloc[:, 1:]\n",
    "        y = labeled_sample_subset_frame.iloc[:, 0]\n",
    "        X_train, X_test, y_train, y_test = train_test_split(\n",
    "                    X, y,\n",
    "                        test_size=0.33,\n",
    "                            )\n",
    "        RF_clf = RandomForestClassifier(max_depth=2)\n",
    "        RF_clf.fit(X_train, y_train)\n",
    "\n",
    "        RF_F1_scr = f1_score(y_test, RF_clf.predict(X_test), average='weighted')\n",
    "        RF_output.append(RF_F1_scr)\n",
    "        # break\n",
    "    # break\n",
    "    # synth_RF_F1_means[smp_sz] = round(mean(RF_output), 3)\n",
    "    step_frame['data_phase'] = ['synth'] * resmpl_count\n",
    "    step_frame['step_size'] = [smp_sz] * resmpl_count\n",
    "    step_frame['F1_score'] = RF_output\n",
    "    synth_RF_F1_frame = pd.concat( [synth_RF_F1_frame, step_frame] , axis = 0)\n",
    "print('synth bx_crv done')"
   ]
  },
  {
   "cell_type": "code",
   "execution_count": 152,
   "id": "00f3c75a-45b3-45b7-a783-5d8c3c55d75d",
   "metadata": {},
   "outputs": [
    {
     "data": {
      "text/html": [
       "<div>\n",
       "<style scoped>\n",
       "    .dataframe tbody tr th:only-of-type {\n",
       "        vertical-align: middle;\n",
       "    }\n",
       "\n",
       "    .dataframe tbody tr th {\n",
       "        vertical-align: top;\n",
       "    }\n",
       "\n",
       "    .dataframe thead th {\n",
       "        text-align: right;\n",
       "    }\n",
       "</style>\n",
       "<table border=\"1\" class=\"dataframe\">\n",
       "  <thead>\n",
       "    <tr style=\"text-align: right;\">\n",
       "      <th></th>\n",
       "      <th>data_phase</th>\n",
       "      <th>step_size</th>\n",
       "      <th>F1_score</th>\n",
       "    </tr>\n",
       "  </thead>\n",
       "  <tbody>\n",
       "    <tr>\n",
       "      <th>0</th>\n",
       "      <td>synth</td>\n",
       "      <td>10</td>\n",
       "      <td>0.733333</td>\n",
       "    </tr>\n",
       "    <tr>\n",
       "      <th>1</th>\n",
       "      <td>synth</td>\n",
       "      <td>10</td>\n",
       "      <td>0.100000</td>\n",
       "    </tr>\n",
       "    <tr>\n",
       "      <th>2</th>\n",
       "      <td>synth</td>\n",
       "      <td>10</td>\n",
       "      <td>0.000000</td>\n",
       "    </tr>\n",
       "    <tr>\n",
       "      <th>3</th>\n",
       "      <td>synth</td>\n",
       "      <td>10</td>\n",
       "      <td>0.750000</td>\n",
       "    </tr>\n",
       "    <tr>\n",
       "      <th>4</th>\n",
       "      <td>synth</td>\n",
       "      <td>10</td>\n",
       "      <td>0.458333</td>\n",
       "    </tr>\n",
       "    <tr>\n",
       "      <th>...</th>\n",
       "      <td>...</td>\n",
       "      <td>...</td>\n",
       "      <td>...</td>\n",
       "    </tr>\n",
       "    <tr>\n",
       "      <th>5</th>\n",
       "      <td>synth</td>\n",
       "      <td>40</td>\n",
       "      <td>0.602041</td>\n",
       "    </tr>\n",
       "    <tr>\n",
       "      <th>6</th>\n",
       "      <td>synth</td>\n",
       "      <td>40</td>\n",
       "      <td>0.231746</td>\n",
       "    </tr>\n",
       "    <tr>\n",
       "      <th>7</th>\n",
       "      <td>synth</td>\n",
       "      <td>40</td>\n",
       "      <td>0.423469</td>\n",
       "    </tr>\n",
       "    <tr>\n",
       "      <th>8</th>\n",
       "      <td>synth</td>\n",
       "      <td>40</td>\n",
       "      <td>0.398475</td>\n",
       "    </tr>\n",
       "    <tr>\n",
       "      <th>9</th>\n",
       "      <td>synth</td>\n",
       "      <td>40</td>\n",
       "      <td>0.579592</td>\n",
       "    </tr>\n",
       "  </tbody>\n",
       "</table>\n",
       "<p>70 rows × 3 columns</p>\n",
       "</div>"
      ],
      "text/plain": [
       "   data_phase  step_size  F1_score\n",
       "0       synth         10  0.733333\n",
       "1       synth         10  0.100000\n",
       "2       synth         10  0.000000\n",
       "3       synth         10  0.750000\n",
       "4       synth         10  0.458333\n",
       "..        ...        ...       ...\n",
       "5       synth         40  0.602041\n",
       "6       synth         40  0.231746\n",
       "7       synth         40  0.423469\n",
       "8       synth         40  0.398475\n",
       "9       synth         40  0.579592\n",
       "\n",
       "[70 rows x 3 columns]"
      ]
     },
     "execution_count": 152,
     "metadata": {},
     "output_type": "execute_result"
    }
   ],
   "source": [
    "synth_RF_F1_frame"
   ]
  },
  {
   "cell_type": "code",
   "execution_count": 329,
   "id": "57075295-7a00-4d31-bdb6-142a47ff2188",
   "metadata": {},
   "outputs": [],
   "source": [
    "df_to_clf.index.name = 'BRCA'"
   ]
  },
  {
   "cell_type": "markdown",
   "id": "c69e925f-026e-4b74-8133-3d7f3388ad3a",
   "metadata": {},
   "source": [
    "# Box curve"
   ]
  },
  {
   "cell_type": "markdown",
   "id": "97a887ac-638c-42a4-8fb5-3e7becd30701",
   "metadata": {
    "jp-MarkdownHeadingCollapsed": true,
    "tags": []
   },
   "source": [
    "#### Notes - add predictions on hold-out"
   ]
  },
  {
   "cell_type": "code",
   "execution_count": null,
   "id": "db11b379-ae3c-49a8-a0b9-0c162d70620b",
   "metadata": {},
   "outputs": [],
   "source": [
    "synth_RF_F1_frame"
   ]
  },
  {
   "cell_type": "code",
   "execution_count": 164,
   "id": "d4c56997-c6e1-4507-a461-899d7c0e8c3d",
   "metadata": {},
   "outputs": [],
   "source": [
    "box_curve_frame = pd.concat( [inpt_RF_F1_frame, dec_RF_F1_frame, synth_RF_F1_frame] , axis = 0)"
   ]
  },
  {
   "cell_type": "code",
   "execution_count": 251,
   "id": "4f3e77a3-ec42-4d9f-bbd1-7bbe81a3a3a3",
   "metadata": {},
   "outputs": [
    {
     "data": {
      "text/html": [
       "<div>\n",
       "<style scoped>\n",
       "    .dataframe tbody tr th:only-of-type {\n",
       "        vertical-align: middle;\n",
       "    }\n",
       "\n",
       "    .dataframe tbody tr th {\n",
       "        vertical-align: top;\n",
       "    }\n",
       "\n",
       "    .dataframe thead th {\n",
       "        text-align: right;\n",
       "    }\n",
       "</style>\n",
       "<table border=\"1\" class=\"dataframe\">\n",
       "  <thead>\n",
       "    <tr style=\"text-align: right;\">\n",
       "      <th></th>\n",
       "      <th>data_phase</th>\n",
       "      <th>F1_score</th>\n",
       "    </tr>\n",
       "  </thead>\n",
       "  <tbody>\n",
       "    <tr>\n",
       "      <th>0</th>\n",
       "      <td>hold-in</td>\n",
       "      <td>0.863023</td>\n",
       "    </tr>\n",
       "  </tbody>\n",
       "</table>\n",
       "</div>"
      ],
      "text/plain": [
       "  data_phase  F1_score\n",
       "0    hold-in  0.863023"
      ]
     },
     "execution_count": 251,
     "metadata": {},
     "output_type": "execute_result"
    }
   ],
   "source": [
    "hld_in_frame.head(1)"
   ]
  },
  {
   "cell_type": "code",
   "execution_count": 250,
   "id": "403bf1cf-1be5-47b0-bdc2-7ad43b08908f",
   "metadata": {},
   "outputs": [],
   "source": [
    "hld_in_frame.rename(columns = {'train_config':'data_phase',\n",
    "                               'F1s': 'F1_score'}, inplace=True)"
   ]
  },
  {
   "cell_type": "code",
   "execution_count": 255,
   "id": "37b01bee-e866-4823-be6b-315c2e169adc",
   "metadata": {},
   "outputs": [
    {
     "data": {
      "text/html": [
       "<div>\n",
       "<style scoped>\n",
       "    .dataframe tbody tr th:only-of-type {\n",
       "        vertical-align: middle;\n",
       "    }\n",
       "\n",
       "    .dataframe tbody tr th {\n",
       "        vertical-align: top;\n",
       "    }\n",
       "\n",
       "    .dataframe thead th {\n",
       "        text-align: right;\n",
       "    }\n",
       "</style>\n",
       "<table border=\"1\" class=\"dataframe\">\n",
       "  <thead>\n",
       "    <tr style=\"text-align: right;\">\n",
       "      <th></th>\n",
       "      <th>data_phase</th>\n",
       "      <th>F1_score</th>\n",
       "    </tr>\n",
       "  </thead>\n",
       "  <tbody>\n",
       "    <tr>\n",
       "      <th>0</th>\n",
       "      <td>hold-out</td>\n",
       "      <td>0.802379</td>\n",
       "    </tr>\n",
       "  </tbody>\n",
       "</table>\n",
       "</div>"
      ],
      "text/plain": [
       "  data_phase  F1_score\n",
       "0   hold-out  0.802379"
      ]
     },
     "execution_count": 255,
     "metadata": {},
     "output_type": "execute_result"
    }
   ],
   "source": [
    "hld_out_frame.head(1)"
   ]
  },
  {
   "cell_type": "code",
   "execution_count": 252,
   "id": "f6f2d66a-0f26-4483-85fc-41592541ce79",
   "metadata": {},
   "outputs": [],
   "source": [
    "hld_out_frame.rename(columns = {'train_config':'data_phase',\n",
    "                               'F1s': 'F1_score'}, inplace=True)"
   ]
  },
  {
   "cell_type": "code",
   "execution_count": 256,
   "id": "f459e0d8-d7b7-4852-9ce7-99202b1b7066",
   "metadata": {},
   "outputs": [
    {
     "data": {
      "text/html": [
       "<div>\n",
       "<style scoped>\n",
       "    .dataframe tbody tr th:only-of-type {\n",
       "        vertical-align: middle;\n",
       "    }\n",
       "\n",
       "    .dataframe tbody tr th {\n",
       "        vertical-align: top;\n",
       "    }\n",
       "\n",
       "    .dataframe thead th {\n",
       "        text-align: right;\n",
       "    }\n",
       "</style>\n",
       "<table border=\"1\" class=\"dataframe\">\n",
       "  <thead>\n",
       "    <tr style=\"text-align: right;\">\n",
       "      <th></th>\n",
       "      <th>data_phase</th>\n",
       "      <th>step_size</th>\n",
       "      <th>F1_score</th>\n",
       "    </tr>\n",
       "  </thead>\n",
       "  <tbody>\n",
       "    <tr>\n",
       "      <th>0</th>\n",
       "      <td>dec</td>\n",
       "      <td>10</td>\n",
       "      <td>0.642857</td>\n",
       "    </tr>\n",
       "  </tbody>\n",
       "</table>\n",
       "</div>"
      ],
      "text/plain": [
       "  data_phase  step_size  F1_score\n",
       "0        dec         10  0.642857"
      ]
     },
     "execution_count": 256,
     "metadata": {},
     "output_type": "execute_result"
    }
   ],
   "source": [
    "dec_RF_F1_frame.head(1)"
   ]
  },
  {
   "cell_type": "code",
   "execution_count": 257,
   "id": "1a6d9537-7d6c-4bcc-b57b-782f0992cea1",
   "metadata": {},
   "outputs": [
    {
     "data": {
      "text/html": [
       "<div>\n",
       "<style scoped>\n",
       "    .dataframe tbody tr th:only-of-type {\n",
       "        vertical-align: middle;\n",
       "    }\n",
       "\n",
       "    .dataframe tbody tr th {\n",
       "        vertical-align: top;\n",
       "    }\n",
       "\n",
       "    .dataframe thead th {\n",
       "        text-align: right;\n",
       "    }\n",
       "</style>\n",
       "<table border=\"1\" class=\"dataframe\">\n",
       "  <thead>\n",
       "    <tr style=\"text-align: right;\">\n",
       "      <th></th>\n",
       "      <th>data_phase</th>\n",
       "      <th>step_size</th>\n",
       "      <th>F1_score</th>\n",
       "    </tr>\n",
       "  </thead>\n",
       "  <tbody>\n",
       "    <tr>\n",
       "      <th>0</th>\n",
       "      <td>synth</td>\n",
       "      <td>10</td>\n",
       "      <td>0.25</td>\n",
       "    </tr>\n",
       "  </tbody>\n",
       "</table>\n",
       "</div>"
      ],
      "text/plain": [
       "  data_phase  step_size  F1_score\n",
       "0      synth         10      0.25"
      ]
     },
     "execution_count": 257,
     "metadata": {},
     "output_type": "execute_result"
    }
   ],
   "source": [
    "synth_RF_F1_frame.head(1)"
   ]
  },
  {
   "cell_type": "code",
   "execution_count": 258,
   "id": "4fe18d32-1dc5-4393-9726-ad50c88c2a95",
   "metadata": {},
   "outputs": [],
   "source": [
    "box_curve_frame = pd.concat( [hld_out_bx_crv, hld_in_bx_crv, dec_RF_F1_frame, synth_RF_F1_frame] , axis = 0)"
   ]
  },
  {
   "cell_type": "code",
   "execution_count": 259,
   "id": "1db82739-2680-43f3-a6d6-a00c461681c8",
   "metadata": {},
   "outputs": [
    {
     "data": {
      "text/html": [
       "<div>\n",
       "<style scoped>\n",
       "    .dataframe tbody tr th:only-of-type {\n",
       "        vertical-align: middle;\n",
       "    }\n",
       "\n",
       "    .dataframe tbody tr th {\n",
       "        vertical-align: top;\n",
       "    }\n",
       "\n",
       "    .dataframe thead th {\n",
       "        text-align: right;\n",
       "    }\n",
       "</style>\n",
       "<table border=\"1\" class=\"dataframe\">\n",
       "  <thead>\n",
       "    <tr style=\"text-align: right;\">\n",
       "      <th></th>\n",
       "      <th>data_phase</th>\n",
       "      <th>step_size</th>\n",
       "      <th>F1_score</th>\n",
       "    </tr>\n",
       "  </thead>\n",
       "  <tbody>\n",
       "    <tr>\n",
       "      <th>0</th>\n",
       "      <td>hld-out</td>\n",
       "      <td>10</td>\n",
       "      <td>0.642857</td>\n",
       "    </tr>\n",
       "    <tr>\n",
       "      <th>1</th>\n",
       "      <td>hld-out</td>\n",
       "      <td>10</td>\n",
       "      <td>0.500000</td>\n",
       "    </tr>\n",
       "    <tr>\n",
       "      <th>2</th>\n",
       "      <td>hld-out</td>\n",
       "      <td>10</td>\n",
       "      <td>0.100000</td>\n",
       "    </tr>\n",
       "    <tr>\n",
       "      <th>3</th>\n",
       "      <td>hld-out</td>\n",
       "      <td>10</td>\n",
       "      <td>0.125000</td>\n",
       "    </tr>\n",
       "    <tr>\n",
       "      <th>4</th>\n",
       "      <td>hld-out</td>\n",
       "      <td>10</td>\n",
       "      <td>0.375000</td>\n",
       "    </tr>\n",
       "    <tr>\n",
       "      <th>...</th>\n",
       "      <td>...</td>\n",
       "      <td>...</td>\n",
       "      <td>...</td>\n",
       "    </tr>\n",
       "    <tr>\n",
       "      <th>25</th>\n",
       "      <td>synth</td>\n",
       "      <td>300</td>\n",
       "      <td>0.576778</td>\n",
       "    </tr>\n",
       "    <tr>\n",
       "      <th>26</th>\n",
       "      <td>synth</td>\n",
       "      <td>300</td>\n",
       "      <td>0.563458</td>\n",
       "    </tr>\n",
       "    <tr>\n",
       "      <th>27</th>\n",
       "      <td>synth</td>\n",
       "      <td>300</td>\n",
       "      <td>0.576019</td>\n",
       "    </tr>\n",
       "    <tr>\n",
       "      <th>28</th>\n",
       "      <td>synth</td>\n",
       "      <td>300</td>\n",
       "      <td>0.609146</td>\n",
       "    </tr>\n",
       "    <tr>\n",
       "      <th>29</th>\n",
       "      <td>synth</td>\n",
       "      <td>300</td>\n",
       "      <td>0.698158</td>\n",
       "    </tr>\n",
       "  </tbody>\n",
       "</table>\n",
       "<p>3600 rows × 3 columns</p>\n",
       "</div>"
      ],
      "text/plain": [
       "   data_phase  step_size  F1_score\n",
       "0     hld-out         10  0.642857\n",
       "1     hld-out         10  0.500000\n",
       "2     hld-out         10  0.100000\n",
       "3     hld-out         10  0.125000\n",
       "4     hld-out         10  0.375000\n",
       "..        ...        ...       ...\n",
       "25      synth        300  0.576778\n",
       "26      synth        300  0.563458\n",
       "27      synth        300  0.576019\n",
       "28      synth        300  0.609146\n",
       "29      synth        300  0.698158\n",
       "\n",
       "[3600 rows x 3 columns]"
      ]
     },
     "execution_count": 259,
     "metadata": {},
     "output_type": "execute_result"
    }
   ],
   "source": [
    "box_curve_frame"
   ]
  },
  {
   "cell_type": "markdown",
   "id": "0cc106fb-83ac-476c-97e6-c1a93025ae12",
   "metadata": {},
   "source": [
    "### Box crv main"
   ]
  },
  {
   "cell_type": "code",
   "execution_count": 272,
   "id": "dfa98a28-8c94-413a-a111-8f132a164ea9",
   "metadata": {},
   "outputs": [
    {
     "data": {
      "image/png": "[encoded data removed]",
      "text/plain": [
       "<Figure size 1200x600 with 1 Axes>"
      ]
     },
     "metadata": {},
     "output_type": "display_data"
    }
   ],
   "source": [
    "# Box curve - using hue function on data phase and step size\n",
    "# Use a dataframe with input, decoded, and synthetic samples\n",
    "figure(figsize=(8, 4), dpi=150)\n",
    "ax = sns.boxplot(x='step_size', y='F1_score',\n",
    "            hue='data_phase', palette=['red','blue', 'green', 'orange'],\n",
    "            data=box_curve_frame, linewidth = .5)\n",
    "\n",
    "# plt.plot(list(dec_RF_F1_means.keys()),\n",
    "#        dec_RF_F1_means.values(),label='decoded', color = 'green')\n",
    "\n",
    "\n",
    "plt.suptitle('Learning curves, '+fine_tune_file.index.name+', fit on TCGA n = 24')\n",
    "# plt.title('VAE input data: MAD 5K GEXP')\n",
    "plt.title('Hold-out, hold-in, decoded, and synthetic', fontsize = 11) # across or within cohorts\n",
    "plt.ylabel('Mean wighted F1 score')\n",
    "plt.xlabel('Sub-sample size')\n",
    "plt.annotate('Resamplings per step size = '+str(resmpl_count),\n",
    "                xy=(.5, .2), xycoords='figure fraction',\n",
    "                horizontalalignment='left', verticalalignment='top',\n",
    "                )\n",
    "plt.legend(loc=(.25,.05))\n",
    "ax.set_xticklabels(ax.get_xticklabels(),rotation=-55,\n",
    "                   ha='left',\n",
    "                   rotation_mode='anchor'\n",
    "                  )\n",
    "plt.savefig(\n",
    "    'i_o/bx_crv/lrn_crv/tcga_brca_frmt1.png', bbox_inches = 'tight')"
   ]
  },
  {
   "cell_type": "markdown",
   "id": "1beaccfe-e177-46c3-a8ba-60044a1a9ae2",
   "metadata": {
    "tags": []
   },
   "source": [
    "##### Learning curve template"
   ]
  },
  {
   "cell_type": "code",
   "execution_count": 330,
   "id": "8a9aa6aa-8c36-4814-878b-431b95ce88a4",
   "metadata": {},
   "outputs": [
    {
     "data": {
      "image/png": "[encoded data removed]",
      "text/plain": [
       "<Figure size 640x480 with 1 Axes>"
      ]
     },
     "metadata": {},
     "output_type": "display_data"
    }
   ],
   "source": [
    "# Superimpose input, decoded, and synthetic, template for box curve\n",
    "    # Using two dicts:\n",
    "        # inpt_RF_F1_means\n",
    "        # dec_RF_F1_means\n",
    "\n",
    "plt.plot(list(inpt_RF_F1_means.keys()),\n",
    "       inpt_RF_F1_means.values(),label='input', color = 'blue')\n",
    "plt.plot(list(dec_RF_F1_means.keys()),\n",
    "       dec_RF_F1_means.values(),label='decoded', color = 'green')\n",
    "plt.plot(list(synth_RF_F1_means.keys()),\n",
    "       synth_RF_F1_means.values(),label='synthetic', color = 'orange')\n",
    "\n",
    "plt.suptitle('Learning curves, '+df_to_clf.index.name+', decoded, fit on '+\n",
    "             df_to_clf.index.name)\n",
    "# plt.title('VAE input data: MAD 5K GEXP')\n",
    "plt.title('Input, decoded, and synthetic: ' + feature_set) # across or within cohorts\n",
    "plt.ylabel('Mean wighted F1 score')\n",
    "plt.xlabel('Sub-sample size')\n",
    "plt.annotate('Resamplings per step size = '+str(resmpl_count),\n",
    "                xy=(.5, .2), xycoords='figure fraction',\n",
    "                horizontalalignment='left', verticalalignment='top',\n",
    "                )\n",
    "plt.legend(loc=\"lower left\")\n",
    "plt.savefig(\n",
    "    'i_o/box_whisk/'+\n",
    "    str(df_to_clf.index.name)+'.inpt_and_dec_fit_on.'+fit_on +'_'+feature_set+'_'+\n",
    "    str(list(inpt_RF_F1_means.keys())[0])+'-to-'+str(smp_sz)+\n",
    "    '_'+'rsmpls.'+str(resmpl_count)+\n",
    "    '_super_1_synth.png', bbox_inches = 'tight')"
   ]
  },
  {
   "cell_type": "markdown",
   "id": "fb81aa1c-03ea-4df2-a9c1-460225d19f43",
   "metadata": {},
   "source": [
    "### Made-up data"
   ]
  },
  {
   "cell_type": "code",
   "execution_count": null,
   "id": "00769afa-e40e-4fec-ac30-5edd0c3f3480",
   "metadata": {},
   "outputs": [],
   "source": []
  },
  {
   "cell_type": "code",
   "execution_count": null,
   "id": "fd8ca198-b207-47ad-94e8-f704790d1cc4",
   "metadata": {},
   "outputs": [],
   "source": []
  },
  {
   "cell_type": "code",
   "execution_count": null,
   "id": "9a213ac9-0774-4bc0-9254-a3726d7118b9",
   "metadata": {},
   "outputs": [],
   "source": []
  },
  {
   "cell_type": "code",
   "execution_count": null,
   "id": "08726ea6-d771-486b-9acd-356115676416",
   "metadata": {},
   "outputs": [],
   "source": []
  },
  {
   "cell_type": "markdown",
   "id": "31f47998-c9f2-4b21-8d8e-ed028f33b1d1",
   "metadata": {
    "jp-MarkdownHeadingCollapsed": true,
    "tags": []
   },
   "source": [
    "### Hold out - Input, Decoded, and Synth"
   ]
  },
  {
   "cell_type": "code",
   "execution_count": null,
   "id": "da804c62-a0d6-40ca-aac3-3ed49abcbc75",
   "metadata": {},
   "outputs": [],
   "source": [
    "hold out - done\n",
    "decoded hold out - need to use trained encoder, decoder\n",
    "synthetic from decoded hold out\n",
    "\n",
    "print hold out size\n",
    "print hold in size"
   ]
  },
  {
   "cell_type": "markdown",
   "id": "84a457c8-c251-4ea6-9796-1913002edc12",
   "metadata": {
    "tags": []
   },
   "source": [
    "#### Hold out Input F1 object"
   ]
  },
  {
   "cell_type": "code",
   "execution_count": 332,
   "id": "2a0c8cd3-d2de-4396-ab2b-a4ba9a3e3753",
   "metadata": {},
   "outputs": [],
   "source": [
    "df_to_rf = hold_out"
   ]
  },
  {
   "cell_type": "code",
   "execution_count": 333,
   "id": "fa3da3e1-a505-4ba5-a825-79243411a62e",
   "metadata": {
    "collapsed": true,
    "jupyter": {
     "outputs_hidden": true
    },
    "tags": []
   },
   "outputs": [
    {
     "name": "stdout",
     "output_type": "stream",
     "text": [
      "Starting Hold out input learning curve object generation\n",
      "10\n",
      "15\n",
      "20\n",
      "25\n",
      "30\n",
      "35\n",
      "40\n",
      "45\n",
      "50\n",
      "55\n",
      "60\n",
      "65\n",
      "70\n",
      "75\n",
      "80\n",
      "85\n",
      "90\n",
      "95\n",
      "100\n",
      "105\n",
      "110\n",
      "115\n",
      "120\n",
      "125\n",
      "130\n",
      "135\n",
      "140\n",
      "145\n",
      "150\n",
      "Hold-out input Learning curve object generated, send to plot function\n"
     ]
    }
   ],
   "source": [
    "print('Starting Hold out input learning curve object generation')\n",
    "\n",
    "hld_ot_inpt_RF_F1_means = {}\n",
    "for smp_sz in list(range(10, 151, 5)): # BRCA <--- across run, plot up to 100?\n",
    "    \n",
    "    print(smp_sz)\n",
    "    \n",
    "    RF_output = []\n",
    "    resmpl_count = 80 # 250\n",
    "    for r in list(range(0, resmpl_count)):\n",
    "        \n",
    "        labeled_sample_subset_frame = df_to_rf.sample(smp_sz)\n",
    "        X = labeled_sample_subset_frame.iloc[:, 1:]\n",
    "        y = labeled_sample_subset_frame.iloc[:, 0]\n",
    "        X_train, X_test, y_train, y_test = train_test_split(\n",
    "                    X, y,\n",
    "                        test_size=0.33,\n",
    "                            )\n",
    "        RF_clf = RandomForestClassifier(max_depth=2)\n",
    "        RF_clf.fit(X_train, y_train)\n",
    "\n",
    "        RF_F1_scr = f1_score(y_test, RF_clf.predict(X_test), average='weighted')\n",
    "        RF_output.append(RF_F1_scr)\n",
    "\n",
    "    hld_ot_inpt_RF_F1_means[smp_sz] = round(mean(RF_output), 3)\n",
    "    \n",
    "    # INPUT dict - raw F1 scores for error plot <note>\n",
    "    # inpt_RF_F1_dct[smp_sz] = RF_output\n",
    "    # break\n",
    "print('Hold-out input Learning curve object generated, send to plot function')"
   ]
  },
  {
   "cell_type": "code",
   "execution_count": null,
   "id": "9cfa066a-1f86-4604-bcf8-ed608093482a",
   "metadata": {},
   "outputs": [],
   "source": []
  },
  {
   "cell_type": "markdown",
   "id": "90990e4f-85b0-484f-adad-7c0739c7f218",
   "metadata": {
    "tags": []
   },
   "source": [
    "#### Hold out Decoded F1 object"
   ]
  },
  {
   "cell_type": "code",
   "execution_count": 334,
   "id": "3aa20c51-2af6-4e67-b703-9ebd4c2558ed",
   "metadata": {},
   "outputs": [],
   "source": [
    "feature_set = 'mad_5k_within'\n",
    "decode_df = hold_out\n",
    "c = file.index.name\n",
    "fit_on = c\n",
    "super_v = '_hold-out'"
   ]
  },
  {
   "cell_type": "code",
   "execution_count": 335,
   "id": "e4b36487-f4fe-47bc-83b5-b1aa9a4d0980",
   "metadata": {},
   "outputs": [
    {
     "data": {
      "text/plain": [
       "'box_whisk'"
      ]
     },
     "execution_count": 335,
     "metadata": {},
     "output_type": "execute_result"
    }
   ],
   "source": [
    "itr"
   ]
  },
  {
   "cell_type": "code",
   "execution_count": 336,
   "id": "8d8d42fd-a6c9-4029-b7c7-2f169a97081d",
   "metadata": {
    "tags": []
   },
   "outputs": [],
   "source": [
    "# No loss plot, here, not training\n",
    "\n",
    "y_df = decode_df.Labels\n",
    "\n",
    "decoded = pd.DataFrame(decoder.predict(encoder.predict(decode_df.iloc[:, 1:])),\n",
    "                       index=decode_df.index, columns=decode_df.iloc[:, 1:].columns)\n",
    "\n",
    "latent_object = pd.DataFrame(encoder.predict(decode_df.iloc[:, 1:]),\n",
    "             index=decode_df.index,\n",
    "                # columns=decode_df.iloc[:, 1:].columns # Columns are different because this is latent space\n",
    "        )\n",
    "latent_object.index.name = c\n",
    "latent_object = pd.concat( [pd.DataFrame(y_df), latent_object] , axis =1)\n",
    "latent_object.to_csv('i_o/'+itr+'/'+c+'_fit_on.'+fit_on+\n",
    "                     '_latent_object_latent_dim.'+str(latent_dim)+\n",
    "    '_epochs.'+str(epochs)+'_'+feature_set+super_v+\n",
    "    '.tsv',\n",
    "    sep = '\\t')\n",
    "# break\n",
    "decoded_labeled = pd.concat( [pd.DataFrame(y_df), decoded] , axis =1)\n",
    "decoded_labeled.to_csv(\n",
    "    'i_o/'+itr+'/'+c+'_fit_on.'+fit_on+'_decoded_latent_dim.'+\n",
    "    str(latent_dim)+\n",
    "    '_epochs.'+str(epochs)+'_'+feature_set+super_v+\n",
    "    '.tsv',\n",
    "    sep = '\\t')"
   ]
  },
  {
   "cell_type": "code",
   "execution_count": 337,
   "id": "4fe16ea7-4e66-4cde-a98e-93a604b2f8cd",
   "metadata": {},
   "outputs": [],
   "source": [
    "df_to_clf = pd.read_csv(\n",
    "    'i_o/box_whisk/BRCA_fit_on.BRCA_decoded_latent_dim.120_epochs.80_mad_5k_within_hold-out.tsv',\n",
    "    sep = '\\t', index_col = 0)"
   ]
  },
  {
   "cell_type": "code",
   "execution_count": 338,
   "id": "19077e81-0fc7-4dd4-acfc-190744c825c7",
   "metadata": {
    "collapsed": true,
    "jupyter": {
     "outputs_hidden": true
    },
    "tags": []
   },
   "outputs": [
    {
     "name": "stdout",
     "output_type": "stream",
     "text": [
      "10\n",
      "15\n",
      "20\n",
      "25\n",
      "30\n",
      "35\n",
      "40\n",
      "45\n",
      "50\n",
      "55\n",
      "60\n",
      "65\n",
      "70\n",
      "75\n",
      "80\n",
      "85\n",
      "90\n",
      "95\n",
      "100\n",
      "105\n",
      "110\n",
      "115\n",
      "120\n",
      "125\n",
      "130\n",
      "135\n",
      "140\n",
      "145\n",
      "150\n",
      "Second learning curve dictionary for superimpose plot done\n"
     ]
    }
   ],
   "source": [
    "# Superimpose dictionary 2 (decoded) samples build, version super 0, now in figure_five\n",
    "\n",
    "hld_ot_dec_RF_F1_means = {}\n",
    "for smp_sz in list(range(10, 151, 5)): # BRCA <--- across run, mirror input steps above\n",
    "    \n",
    "    print(smp_sz)\n",
    "\n",
    "    RF_output = []\n",
    "    for r in list(range(0, resmpl_count)):\n",
    "        \n",
    "        labeled_sample_subset_frame = df_to_clf.sample(smp_sz) # df_to_clf set as decoded object now, not the input\n",
    "        X = labeled_sample_subset_frame.iloc[:, 1:]\n",
    "        y = labeled_sample_subset_frame.iloc[:, 0]\n",
    "        X_train, X_test, y_train, y_test = train_test_split(\n",
    "                    X, y,\n",
    "                        test_size=0.33,\n",
    "                            )\n",
    "        RF_clf = RandomForestClassifier(max_depth=2)\n",
    "        RF_clf.fit(X_train, y_train)\n",
    "\n",
    "        RF_F1_scr = f1_score(y_test, RF_clf.predict(X_test), average='weighted')\n",
    "        RF_output.append(RF_F1_scr)\n",
    "           \n",
    "    hld_ot_dec_RF_F1_means[smp_sz] = round(mean(RF_output), 3)\n",
    "\n",
    "print('Second learning curve dictionary for superimpose plot done')"
   ]
  },
  {
   "cell_type": "markdown",
   "id": "5145a9ba-176d-4a33-a9b6-80867bd3d4f6",
   "metadata": {},
   "source": [
    "#### Synthetic from Decoded Hold out F1 object"
   ]
  },
  {
   "cell_type": "code",
   "execution_count": 339,
   "id": "cc82ea89-ac89-4a4f-9248-93699d03b069",
   "metadata": {},
   "outputs": [],
   "source": [
    "chrt = 'BRCA'\n",
    "latent_obj = pd.read_csv(\n",
    "    'i_o/box_whisk/BRCA_fit_on.BRCA_latent_object_latent_dim.120_epochs.80_mad_5k_within_hold-out.tsv',\n",
    "        sep = '\\t', index_col = 0)"
   ]
  },
  {
   "cell_type": "code",
   "execution_count": 340,
   "id": "00a442ad-5495-47e3-bfd6-73de70882ba6",
   "metadata": {
    "tags": []
   },
   "outputs": [
    {
     "name": "stdout",
     "output_type": "stream",
     "text": [
      "BRCA_1\n",
      "BRCA_2\n",
      "BRCA_3\n",
      "BRCA_4\n"
     ]
    }
   ],
   "source": [
    "synth_ndx_strt = 0\n",
    "\n",
    "synth_full_frame = pd.DataFrame()\n",
    "\n",
    "for subtype in sorted(latent_obj.Labels.unique()):\n",
    "    print(subtype)\n",
    "    \n",
    "    sub = latent_obj[latent_obj.Labels == subtype]\n",
    "    synth_lat_feat_vec = []\n",
    "    \n",
    "    sub_len = len(sub)\n",
    "    synth_sub_len = len(sub)*2\n",
    "    \n",
    "    synth_index = ['SYNTH-' + chrt + '-' + jtem for jtem in [str(\n",
    "        item).zfill(5) for item in list(range(synth_ndx_strt,\n",
    "                                              synth_sub_len + synth_ndx_strt))]]\n",
    "    \n",
    "    synth_sub_frame = pd.DataFrame(index = synth_index)\n",
    "    synth_sub_frame.insert(0, 'Labels', sub.Labels[0])\n",
    "\n",
    "    for lat_feat in sub.columns[1:]:\n",
    "\n",
    "        lat_col = sub.loc[:, lat_feat]\n",
    "        \n",
    "        rand_lat_feat_vals = lat_col.sample(\n",
    "\n",
    "            synth_sub_len, replace = True,\n",
    "\n",
    "        )\n",
    "        rand_lat_feat_vals.index = synth_index\n",
    "        synth_sub_frame = pd.concat(\n",
    "            [synth_sub_frame, rand_lat_feat_vals], axis = 1)\n",
    "\n",
    "    synth_full_frame = pd.concat(\n",
    "        [synth_full_frame, synth_sub_frame], axis = 0)\n",
    "    synth_ndx_strt = synth_ndx_strt + synth_sub_len"
   ]
  },
  {
   "cell_type": "code",
   "execution_count": 341,
   "id": "a6fd12b4-2221-4508-93db-7a41e1e6b952",
   "metadata": {},
   "outputs": [
    {
     "data": {
      "text/html": [
       "<div>\n",
       "<style scoped>\n",
       "    .dataframe tbody tr th:only-of-type {\n",
       "        vertical-align: middle;\n",
       "    }\n",
       "\n",
       "    .dataframe tbody tr th {\n",
       "        vertical-align: top;\n",
       "    }\n",
       "\n",
       "    .dataframe thead th {\n",
       "        text-align: right;\n",
       "    }\n",
       "</style>\n",
       "<table border=\"1\" class=\"dataframe\">\n",
       "  <thead>\n",
       "    <tr style=\"text-align: right;\">\n",
       "      <th></th>\n",
       "      <th>Labels</th>\n",
       "      <th>0</th>\n",
       "      <th>1</th>\n",
       "      <th>2</th>\n",
       "      <th>3</th>\n",
       "      <th>4</th>\n",
       "      <th>5</th>\n",
       "      <th>6</th>\n",
       "      <th>7</th>\n",
       "      <th>8</th>\n",
       "      <th>...</th>\n",
       "      <th>110</th>\n",
       "      <th>111</th>\n",
       "      <th>112</th>\n",
       "      <th>113</th>\n",
       "      <th>114</th>\n",
       "      <th>115</th>\n",
       "      <th>116</th>\n",
       "      <th>117</th>\n",
       "      <th>118</th>\n",
       "      <th>119</th>\n",
       "    </tr>\n",
       "  </thead>\n",
       "  <tbody>\n",
       "    <tr>\n",
       "      <th>SYNTH-BRCA-00000</th>\n",
       "      <td>BRCA_1</td>\n",
       "      <td>0.305943</td>\n",
       "      <td>0.000000</td>\n",
       "      <td>1.012343</td>\n",
       "      <td>1.511696</td>\n",
       "      <td>1.927185</td>\n",
       "      <td>0.000000</td>\n",
       "      <td>1.368401</td>\n",
       "      <td>0.000000</td>\n",
       "      <td>0.000000</td>\n",
       "      <td>...</td>\n",
       "      <td>1.069443</td>\n",
       "      <td>0.193796</td>\n",
       "      <td>0.347717</td>\n",
       "      <td>0.000000</td>\n",
       "      <td>0.000000</td>\n",
       "      <td>0.312956</td>\n",
       "      <td>0.642466</td>\n",
       "      <td>0.475284</td>\n",
       "      <td>0.819861</td>\n",
       "      <td>0.555516</td>\n",
       "    </tr>\n",
       "    <tr>\n",
       "      <th>SYNTH-BRCA-00001</th>\n",
       "      <td>BRCA_1</td>\n",
       "      <td>0.000000</td>\n",
       "      <td>0.618625</td>\n",
       "      <td>0.431357</td>\n",
       "      <td>0.623724</td>\n",
       "      <td>0.000000</td>\n",
       "      <td>0.000000</td>\n",
       "      <td>0.291508</td>\n",
       "      <td>0.000000</td>\n",
       "      <td>0.000000</td>\n",
       "      <td>...</td>\n",
       "      <td>1.293553</td>\n",
       "      <td>0.000000</td>\n",
       "      <td>0.000000</td>\n",
       "      <td>0.000000</td>\n",
       "      <td>0.000000</td>\n",
       "      <td>0.589808</td>\n",
       "      <td>0.848942</td>\n",
       "      <td>1.477199</td>\n",
       "      <td>0.137750</td>\n",
       "      <td>0.594626</td>\n",
       "    </tr>\n",
       "    <tr>\n",
       "      <th>SYNTH-BRCA-00002</th>\n",
       "      <td>BRCA_1</td>\n",
       "      <td>0.000000</td>\n",
       "      <td>1.963241</td>\n",
       "      <td>0.000000</td>\n",
       "      <td>0.810918</td>\n",
       "      <td>0.000000</td>\n",
       "      <td>0.000000</td>\n",
       "      <td>0.000000</td>\n",
       "      <td>0.030998</td>\n",
       "      <td>0.000000</td>\n",
       "      <td>...</td>\n",
       "      <td>0.000000</td>\n",
       "      <td>0.000000</td>\n",
       "      <td>0.000000</td>\n",
       "      <td>0.000000</td>\n",
       "      <td>0.971468</td>\n",
       "      <td>0.154200</td>\n",
       "      <td>0.957616</td>\n",
       "      <td>0.731654</td>\n",
       "      <td>0.195305</td>\n",
       "      <td>1.340720</td>\n",
       "    </tr>\n",
       "    <tr>\n",
       "      <th>SYNTH-BRCA-00003</th>\n",
       "      <td>BRCA_1</td>\n",
       "      <td>0.794886</td>\n",
       "      <td>0.286624</td>\n",
       "      <td>1.639823</td>\n",
       "      <td>1.502412</td>\n",
       "      <td>0.472589</td>\n",
       "      <td>0.000000</td>\n",
       "      <td>0.000000</td>\n",
       "      <td>0.402419</td>\n",
       "      <td>0.000000</td>\n",
       "      <td>...</td>\n",
       "      <td>0.000000</td>\n",
       "      <td>1.271559</td>\n",
       "      <td>0.000000</td>\n",
       "      <td>0.000000</td>\n",
       "      <td>0.000000</td>\n",
       "      <td>0.671997</td>\n",
       "      <td>2.120403</td>\n",
       "      <td>0.149687</td>\n",
       "      <td>0.344697</td>\n",
       "      <td>0.000000</td>\n",
       "    </tr>\n",
       "    <tr>\n",
       "      <th>SYNTH-BRCA-00004</th>\n",
       "      <td>BRCA_1</td>\n",
       "      <td>0.890828</td>\n",
       "      <td>1.963241</td>\n",
       "      <td>1.533001</td>\n",
       "      <td>1.281164</td>\n",
       "      <td>0.323941</td>\n",
       "      <td>2.469091</td>\n",
       "      <td>0.478906</td>\n",
       "      <td>0.000000</td>\n",
       "      <td>0.000000</td>\n",
       "      <td>...</td>\n",
       "      <td>0.684412</td>\n",
       "      <td>1.413718</td>\n",
       "      <td>0.000000</td>\n",
       "      <td>0.000000</td>\n",
       "      <td>1.286682</td>\n",
       "      <td>0.022155</td>\n",
       "      <td>0.000000</td>\n",
       "      <td>0.032499</td>\n",
       "      <td>0.000000</td>\n",
       "      <td>2.125566</td>\n",
       "    </tr>\n",
       "    <tr>\n",
       "      <th>...</th>\n",
       "      <td>...</td>\n",
       "      <td>...</td>\n",
       "      <td>...</td>\n",
       "      <td>...</td>\n",
       "      <td>...</td>\n",
       "      <td>...</td>\n",
       "      <td>...</td>\n",
       "      <td>...</td>\n",
       "      <td>...</td>\n",
       "      <td>...</td>\n",
       "      <td>...</td>\n",
       "      <td>...</td>\n",
       "      <td>...</td>\n",
       "      <td>...</td>\n",
       "      <td>...</td>\n",
       "      <td>...</td>\n",
       "      <td>...</td>\n",
       "      <td>...</td>\n",
       "      <td>...</td>\n",
       "      <td>...</td>\n",
       "      <td>...</td>\n",
       "    </tr>\n",
       "    <tr>\n",
       "      <th>SYNTH-BRCA-00995</th>\n",
       "      <td>BRCA_4</td>\n",
       "      <td>0.000000</td>\n",
       "      <td>0.857365</td>\n",
       "      <td>0.000000</td>\n",
       "      <td>0.000000</td>\n",
       "      <td>0.000000</td>\n",
       "      <td>0.000000</td>\n",
       "      <td>0.000000</td>\n",
       "      <td>0.000000</td>\n",
       "      <td>1.794510</td>\n",
       "      <td>...</td>\n",
       "      <td>0.000000</td>\n",
       "      <td>0.471138</td>\n",
       "      <td>0.000000</td>\n",
       "      <td>0.846612</td>\n",
       "      <td>1.332895</td>\n",
       "      <td>0.000000</td>\n",
       "      <td>0.815193</td>\n",
       "      <td>0.000000</td>\n",
       "      <td>0.000000</td>\n",
       "      <td>0.298652</td>\n",
       "    </tr>\n",
       "    <tr>\n",
       "      <th>SYNTH-BRCA-00996</th>\n",
       "      <td>BRCA_4</td>\n",
       "      <td>0.000000</td>\n",
       "      <td>1.194510</td>\n",
       "      <td>0.000000</td>\n",
       "      <td>0.000000</td>\n",
       "      <td>0.000000</td>\n",
       "      <td>0.571467</td>\n",
       "      <td>0.473491</td>\n",
       "      <td>0.965749</td>\n",
       "      <td>1.390114</td>\n",
       "      <td>...</td>\n",
       "      <td>0.499132</td>\n",
       "      <td>0.676084</td>\n",
       "      <td>0.561972</td>\n",
       "      <td>0.429470</td>\n",
       "      <td>0.000000</td>\n",
       "      <td>0.000000</td>\n",
       "      <td>0.000000</td>\n",
       "      <td>0.000000</td>\n",
       "      <td>1.337866</td>\n",
       "      <td>0.685839</td>\n",
       "    </tr>\n",
       "    <tr>\n",
       "      <th>SYNTH-BRCA-00997</th>\n",
       "      <td>BRCA_4</td>\n",
       "      <td>0.000000</td>\n",
       "      <td>0.000000</td>\n",
       "      <td>0.000000</td>\n",
       "      <td>0.000000</td>\n",
       "      <td>0.000000</td>\n",
       "      <td>1.416160</td>\n",
       "      <td>0.308208</td>\n",
       "      <td>0.000000</td>\n",
       "      <td>3.432365</td>\n",
       "      <td>...</td>\n",
       "      <td>0.018207</td>\n",
       "      <td>0.000000</td>\n",
       "      <td>0.000000</td>\n",
       "      <td>0.154154</td>\n",
       "      <td>0.000000</td>\n",
       "      <td>0.000000</td>\n",
       "      <td>0.641849</td>\n",
       "      <td>0.267730</td>\n",
       "      <td>1.838134</td>\n",
       "      <td>0.000000</td>\n",
       "    </tr>\n",
       "    <tr>\n",
       "      <th>SYNTH-BRCA-00998</th>\n",
       "      <td>BRCA_4</td>\n",
       "      <td>0.000000</td>\n",
       "      <td>0.975253</td>\n",
       "      <td>0.000000</td>\n",
       "      <td>0.000000</td>\n",
       "      <td>0.000000</td>\n",
       "      <td>1.808364</td>\n",
       "      <td>0.124006</td>\n",
       "      <td>0.004676</td>\n",
       "      <td>2.521417</td>\n",
       "      <td>...</td>\n",
       "      <td>1.110237</td>\n",
       "      <td>0.000000</td>\n",
       "      <td>0.000000</td>\n",
       "      <td>0.000000</td>\n",
       "      <td>0.000000</td>\n",
       "      <td>0.000000</td>\n",
       "      <td>0.877178</td>\n",
       "      <td>0.000000</td>\n",
       "      <td>0.083407</td>\n",
       "      <td>2.452142</td>\n",
       "    </tr>\n",
       "    <tr>\n",
       "      <th>SYNTH-BRCA-00999</th>\n",
       "      <td>BRCA_4</td>\n",
       "      <td>0.000000</td>\n",
       "      <td>0.975253</td>\n",
       "      <td>0.000000</td>\n",
       "      <td>0.000000</td>\n",
       "      <td>0.000000</td>\n",
       "      <td>0.000000</td>\n",
       "      <td>0.928693</td>\n",
       "      <td>0.310091</td>\n",
       "      <td>1.861537</td>\n",
       "      <td>...</td>\n",
       "      <td>0.000000</td>\n",
       "      <td>0.000000</td>\n",
       "      <td>0.000000</td>\n",
       "      <td>0.361479</td>\n",
       "      <td>0.000000</td>\n",
       "      <td>0.000000</td>\n",
       "      <td>0.111538</td>\n",
       "      <td>0.000000</td>\n",
       "      <td>0.000000</td>\n",
       "      <td>0.724142</td>\n",
       "    </tr>\n",
       "  </tbody>\n",
       "</table>\n",
       "<p>1000 rows × 121 columns</p>\n",
       "</div>"
      ],
      "text/plain": [
       "                  Labels         0         1         2         3         4  \\\n",
       "SYNTH-BRCA-00000  BRCA_1  0.305943  0.000000  1.012343  1.511696  1.927185   \n",
       "SYNTH-BRCA-00001  BRCA_1  0.000000  0.618625  0.431357  0.623724  0.000000   \n",
       "SYNTH-BRCA-00002  BRCA_1  0.000000  1.963241  0.000000  0.810918  0.000000   \n",
       "SYNTH-BRCA-00003  BRCA_1  0.794886  0.286624  1.639823  1.502412  0.472589   \n",
       "SYNTH-BRCA-00004  BRCA_1  0.890828  1.963241  1.533001  1.281164  0.323941   \n",
       "...                  ...       ...       ...       ...       ...       ...   \n",
       "SYNTH-BRCA-00995  BRCA_4  0.000000  0.857365  0.000000  0.000000  0.000000   \n",
       "SYNTH-BRCA-00996  BRCA_4  0.000000  1.194510  0.000000  0.000000  0.000000   \n",
       "SYNTH-BRCA-00997  BRCA_4  0.000000  0.000000  0.000000  0.000000  0.000000   \n",
       "SYNTH-BRCA-00998  BRCA_4  0.000000  0.975253  0.000000  0.000000  0.000000   \n",
       "SYNTH-BRCA-00999  BRCA_4  0.000000  0.975253  0.000000  0.000000  0.000000   \n",
       "\n",
       "                         5         6         7         8  ...       110  \\\n",
       "SYNTH-BRCA-00000  0.000000  1.368401  0.000000  0.000000  ...  1.069443   \n",
       "SYNTH-BRCA-00001  0.000000  0.291508  0.000000  0.000000  ...  1.293553   \n",
       "SYNTH-BRCA-00002  0.000000  0.000000  0.030998  0.000000  ...  0.000000   \n",
       "SYNTH-BRCA-00003  0.000000  0.000000  0.402419  0.000000  ...  0.000000   \n",
       "SYNTH-BRCA-00004  2.469091  0.478906  0.000000  0.000000  ...  0.684412   \n",
       "...                    ...       ...       ...       ...  ...       ...   \n",
       "SYNTH-BRCA-00995  0.000000  0.000000  0.000000  1.794510  ...  0.000000   \n",
       "SYNTH-BRCA-00996  0.571467  0.473491  0.965749  1.390114  ...  0.499132   \n",
       "SYNTH-BRCA-00997  1.416160  0.308208  0.000000  3.432365  ...  0.018207   \n",
       "SYNTH-BRCA-00998  1.808364  0.124006  0.004676  2.521417  ...  1.110237   \n",
       "SYNTH-BRCA-00999  0.000000  0.928693  0.310091  1.861537  ...  0.000000   \n",
       "\n",
       "                       111       112       113       114       115       116  \\\n",
       "SYNTH-BRCA-00000  0.193796  0.347717  0.000000  0.000000  0.312956  0.642466   \n",
       "SYNTH-BRCA-00001  0.000000  0.000000  0.000000  0.000000  0.589808  0.848942   \n",
       "SYNTH-BRCA-00002  0.000000  0.000000  0.000000  0.971468  0.154200  0.957616   \n",
       "SYNTH-BRCA-00003  1.271559  0.000000  0.000000  0.000000  0.671997  2.120403   \n",
       "SYNTH-BRCA-00004  1.413718  0.000000  0.000000  1.286682  0.022155  0.000000   \n",
       "...                    ...       ...       ...       ...       ...       ...   \n",
       "SYNTH-BRCA-00995  0.471138  0.000000  0.846612  1.332895  0.000000  0.815193   \n",
       "SYNTH-BRCA-00996  0.676084  0.561972  0.429470  0.000000  0.000000  0.000000   \n",
       "SYNTH-BRCA-00997  0.000000  0.000000  0.154154  0.000000  0.000000  0.641849   \n",
       "SYNTH-BRCA-00998  0.000000  0.000000  0.000000  0.000000  0.000000  0.877178   \n",
       "SYNTH-BRCA-00999  0.000000  0.000000  0.361479  0.000000  0.000000  0.111538   \n",
       "\n",
       "                       117       118       119  \n",
       "SYNTH-BRCA-00000  0.475284  0.819861  0.555516  \n",
       "SYNTH-BRCA-00001  1.477199  0.137750  0.594626  \n",
       "SYNTH-BRCA-00002  0.731654  0.195305  1.340720  \n",
       "SYNTH-BRCA-00003  0.149687  0.344697  0.000000  \n",
       "SYNTH-BRCA-00004  0.032499  0.000000  2.125566  \n",
       "...                    ...       ...       ...  \n",
       "SYNTH-BRCA-00995  0.000000  0.000000  0.298652  \n",
       "SYNTH-BRCA-00996  0.000000  1.337866  0.685839  \n",
       "SYNTH-BRCA-00997  0.267730  1.838134  0.000000  \n",
       "SYNTH-BRCA-00998  0.000000  0.083407  2.452142  \n",
       "SYNTH-BRCA-00999  0.000000  0.000000  0.724142  \n",
       "\n",
       "[1000 rows x 121 columns]"
      ]
     },
     "execution_count": 341,
     "metadata": {},
     "output_type": "execute_result"
    }
   ],
   "source": [
    "synth_full_frame"
   ]
  },
  {
   "cell_type": "code",
   "execution_count": 342,
   "id": "a76b2cf8-38c7-44ad-8803-9b7609db6e09",
   "metadata": {},
   "outputs": [],
   "source": [
    "synth_decoded = pd.DataFrame(decoder.predict(\n",
    "    synth_full_frame.iloc[:, 1:]),\n",
    "        index=synth_full_frame.index,\n",
    "            columns=decode_df.iloc[:, 1:].columns)\n",
    "synth_decoded_labeled = pd.concat(\n",
    "    [pd.DataFrame(synth_full_frame.Labels),\n",
    "     synth_decoded] , axis =1)\n",
    "df_to_clf = synth_decoded_labeled"
   ]
  },
  {
   "cell_type": "code",
   "execution_count": 343,
   "id": "29c4ffa2-ddec-41ca-93b6-fed510f438d3",
   "metadata": {
    "collapsed": true,
    "jupyter": {
     "outputs_hidden": true
    },
    "tags": []
   },
   "outputs": [
    {
     "name": "stdout",
     "output_type": "stream",
     "text": [
      "10\n",
      "15\n",
      "20\n",
      "25\n",
      "30\n",
      "35\n",
      "40\n",
      "45\n",
      "50\n",
      "55\n",
      "60\n",
      "65\n",
      "70\n",
      "75\n",
      "80\n",
      "85\n",
      "90\n",
      "95\n",
      "100\n",
      "105\n",
      "110\n",
      "115\n",
      "120\n",
      "125\n",
      "130\n",
      "135\n",
      "140\n",
      "145\n",
      "150\n",
      "BRCA hold out dict 3 done\n"
     ]
    }
   ],
   "source": [
    "# Hold out synthetic, object 6 for Hold-out plot\n",
    "\n",
    "hld_ot_synth_RF_F1_means = {}\n",
    "    \n",
    "for smp_sz in list(range(10, 151, 5)):\n",
    "    print(smp_sz)\n",
    "    RF_output = []\n",
    "    for r in list(range(0, resmpl_count)):\n",
    "        \n",
    "        labeled_sample_subset_frame = df_to_clf.sample(smp_sz)\n",
    "        X = labeled_sample_subset_frame.iloc[:, 1:]\n",
    "        y = labeled_sample_subset_frame.iloc[:, 0]\n",
    "        X_train, X_test, y_train, y_test = train_test_split(\n",
    "                    X, y,\n",
    "                        test_size=0.33,\n",
    "                            )\n",
    "        RF_clf = RandomForestClassifier(max_depth=2)\n",
    "        RF_clf.fit(X_train, y_train)\n",
    "\n",
    "        RF_F1_scr = f1_score(y_test, RF_clf.predict(X_test), average='weighted')\n",
    "        RF_output.append(RF_F1_scr)\n",
    "           \n",
    "    hld_ot_synth_RF_F1_means[smp_sz] = round(mean(RF_output), 3)\n",
    "\n",
    "print('BRCA hold out dict 3 done')"
   ]
  },
  {
   "cell_type": "code",
   "execution_count": 345,
   "id": "f6bd47ba-6e97-4632-8cc7-16e53a566cea",
   "metadata": {},
   "outputs": [],
   "source": [
    "df_to_clf.index.name = 'BRCA'"
   ]
  },
  {
   "cell_type": "code",
   "execution_count": 350,
   "id": "5ac7e916-00ac-4771-958d-8296dd96c0e1",
   "metadata": {
    "collapsed": true,
    "jupyter": {
     "outputs_hidden": true
    },
    "tags": []
   },
   "outputs": [
    {
     "data": {
      "image/png": "[encoded data removed]",
      "text/plain": [
       "<Figure size 640x480 with 1 Axes>"
      ]
     },
     "metadata": {},
     "output_type": "display_data"
    }
   ],
   "source": [
    "plt.plot(list(inpt_RF_F1_means.keys()),\n",
    "       inpt_RF_F1_means.values(),label='input', color = 'blue')\n",
    "plt.plot(list(dec_RF_F1_means.keys()),\n",
    "       dec_RF_F1_means.values(),label='decoded', color = 'green')\n",
    "plt.plot(list(synth_RF_F1_means.keys()),\n",
    "       synth_RF_F1_means.values(),label='synthetic', color = 'orange')\n",
    "\n",
    "plt.plot(list(hld_ot_inpt_RF_F1_means.keys()),\n",
    "       hld_ot_inpt_RF_F1_means.values(),label='hold out input', color = 'lightblue')\n",
    "plt.plot(list(hld_ot_dec_RF_F1_means.keys()),\n",
    "       hld_ot_dec_RF_F1_means.values(),label='hold out decoded', color = 'lightgreen')\n",
    "plt.plot(list(hld_ot_synth_RF_F1_means.keys()),\n",
    "       hld_ot_synth_RF_F1_means.values(),label='hold out synthetic', color = 'lightsalmon')\n",
    "\n",
    "plt.suptitle('Learning curves, '+df_to_clf.index.name+', decoded, fit on '+\n",
    "             df_to_clf.index.name)\n",
    "# plt.title('VAE input data: MAD 5K GEXP')\n",
    "plt.title('Input, decoded, and synthetic: VAE train vs hold out') # across or within cohorts\n",
    "plt.ylabel('Mean wighted F1 score')\n",
    "plt.xlabel('Sub-sample size')\n",
    "plt.annotate('Resamplings per step size = '+str(resmpl_count),\n",
    "                xy=(.45, .2), xycoords='figure fraction',\n",
    "                horizontalalignment='left', verticalalignment='top',\n",
    "                )\n",
    "\n",
    "plt.annotate('VAE train n = 495, Hold out n = 500',\n",
    "                xy=(.45, .3), xycoords='figure fraction',\n",
    "                horizontalalignment='left', verticalalignment='top',\n",
    "                )\n",
    "\n",
    "plt.annotate('Latent dim = 120, Epochs = 80',\n",
    "                xy=(.45, .25), xycoords='figure fraction',\n",
    "                horizontalalignment='left', verticalalignment='top',\n",
    "                )\n",
    "\n",
    "plt.annotate('Synthetic data ratio: 200%',\n",
    "                xy=(.45, .35), xycoords='figure fraction',\n",
    "                horizontalalignment='left', verticalalignment='top',\n",
    "                )\n",
    "\n",
    "plt.legend(loc=\"lower left\")\n",
    "plt.savefig(\n",
    "    'i_o/box_whisk/'+\n",
    "    str(df_to_clf.index.name)+'.inpt_and_dec_fit_on.'+fit_on +'_'+feature_set+'_'+\n",
    "    str(list(inpt_RF_F1_means.keys())[0])+'-to-'+str(smp_sz)+\n",
    "    '_'+'rsmpls.'+str(resmpl_count)+\n",
    "    '_super_1_synth_hold_out.png', bbox_inches = 'tight')"
   ]
  },
  {
   "cell_type": "markdown",
   "id": "36ac4b5c-dbe1-4c92-8153-9792d5bec1f3",
   "metadata": {
    "jp-MarkdownHeadingCollapsed": true,
    "tags": []
   },
   "source": [
    "### Box curve archive"
   ]
  },
  {
   "cell_type": "code",
   "execution_count": null,
   "id": "617dd6b4-2b46-4f33-84ba-0a6eb0de1de4",
   "metadata": {},
   "outputs": [],
   "source": [
    "# Input template\n",
    "\n",
    "print('starting learning curve generation on labled feature set')\n",
    "# inpt_RF_F1_dct = {}\n",
    "\n",
    "inpt_RF_F1_means = {}\n",
    "# for smp_sz in list(range(10, 70, 5)): # UVM <--- across run, plot up to 100?\n",
    "for smp_sz in list(range(10, 151, 5)): # BRCA <--- across run, plot up to 100?\n",
    "# for smp_sz in list(range(15, 76, 5)): # ACC <---\n",
    "    \n",
    "    print(smp_sz)\n",
    "    \n",
    "    RF_output = []\n",
    "    resmpl_count = 80 # 250\n",
    "    for r in list(range(0, resmpl_count)):\n",
    "        \n",
    "        labeled_sample_subset_frame = df_to_rf.sample(smp_sz)\n",
    "        X = labeled_sample_subset_frame.iloc[:, 1:]\n",
    "        y = labeled_sample_subset_frame.iloc[:, 0]\n",
    "        X_train, X_test, y_train, y_test = train_test_split(\n",
    "                    X, y,\n",
    "                        test_size=0.33,\n",
    "                            )\n",
    "        RF_clf = RandomForestClassifier(max_depth=2)\n",
    "        RF_clf.fit(X_train, y_train)\n",
    "\n",
    "        RF_F1_scr = f1_score(y_test, RF_clf.predict(X_test), average='weighted')\n",
    "        RF_output.append(RF_F1_scr)\n",
    "\n",
    "    inpt_RF_F1_means[smp_sz] = round(mean(RF_output), 3)\n",
    "    \n",
    "    # INPUT dict - raw F1 scores for error plot <note>\n",
    "    # inpt_RF_F1_dct[smp_sz] = RF_output\n",
    "    # break\n",
    "print('Learning curve object generated, send to plot function')"
   ]
  },
  {
   "cell_type": "code",
   "execution_count": null,
   "id": "abfe78a0-937e-4719-894d-a99fd0a78108",
   "metadata": {},
   "outputs": [],
   "source": [
    "# Superimpose dictionary 2 (decoded) samples build, version super 0, now in figure_five\n",
    "\n",
    "dec_RF_F1_means = {}\n",
    "dec_RF_F1_dct = {}\n",
    "\n",
    "for smp_sz in list(range(10, 41, 5)): # BRCA <--- across run, mirror input steps above\n",
    "    \n",
    "    print(smp_sz)\n",
    "\n",
    "    RF_output = []\n",
    "    # resmpl_count = 150\n",
    "    for r in list(range(0, resmpl_count)):\n",
    "        \n",
    "        labeled_sample_subset_frame = df_to_clf.sample(smp_sz) # df_to_clf set as decoded object now, not the input\n",
    "        X = labeled_sample_subset_frame.iloc[:, 1:]\n",
    "        y = labeled_sample_subset_frame.iloc[:, 0]\n",
    "        X_train, X_test, y_train, y_test = train_test_split(\n",
    "                    X, y,\n",
    "                        test_size=0.33,\n",
    "                            )\n",
    "        RF_clf = RandomForestClassifier(max_depth=2)\n",
    "        RF_clf.fit(X_train, y_train)\n",
    "\n",
    "        RF_F1_scr = f1_score(y_test, RF_clf.predict(X_test), average='weighted')\n",
    "        RF_output.append(RF_F1_scr)\n",
    "           \n",
    "    dec_RF_F1_means[smp_sz] = round(mean(RF_output), 3)\n",
    "    dec_RF_F1_dct[smp_sz] = RF_output\n",
    "print('Second learning curve dictionary for superimpose plot done')"
   ]
  },
  {
   "cell_type": "code",
   "execution_count": null,
   "id": "bbccf106-626f-4910-af75-7437b1cbe3a3",
   "metadata": {},
   "outputs": [],
   "source": [
    "# Synthetic sample generator template\n",
    "\n",
    "synth_ndx_strt = 0\n",
    "\n",
    "synth_full_frame = pd.DataFrame() # Storage object\n",
    "\n",
    "# Take the reset starting index position from end of loop to create next synthetic subtype set\n",
    "\n",
    "for subtype in sorted(latent_obj.Labels.unique()): # Subset the latent feature frame on each subtype\n",
    "    \n",
    "    print(subtype)\n",
    "    \n",
    "    # break\n",
    "    \n",
    "    sub = latent_obj[latent_obj.Labels == subtype]\n",
    "    synth_lat_feat_vec = []\n",
    "    \n",
    "    sub_len = len(sub)\n",
    "    synth_sub_len = len(sub)*1\n",
    "    \n",
    "    synth_index = ['SYNTH-' + chrt + '-' + jtem for jtem in [str(\n",
    "        item).zfill(5) for item in list(range(synth_ndx_strt,\n",
    "                                              synth_sub_len + synth_ndx_strt))]]\n",
    "    # break\n",
    "    \n",
    "    synth_sub_frame = pd.DataFrame(index = synth_index) # create synthetic subframe\n",
    "    synth_sub_frame.insert(0, 'Labels', sub.Labels[0])\n",
    "    # break\n",
    "    for lat_feat in sub.columns[1:]:               # Go through the subtype latent feature set,\n",
    "        # print(lat_feat)                            # skipping the Labels column\n",
    "        lat_col = sub.loc[:, lat_feat]\n",
    "        \n",
    "        rand_lat_feat_vals = lat_col.sample(\n",
    "            # len(sub), replace = True, # <note> can toggle replacement off if taking less than number samples\n",
    "            synth_sub_len, replace = True,\n",
    "            # index = synth_index\n",
    "        ) # *\n",
    "        rand_lat_feat_vals.index = synth_index\n",
    "        synth_sub_frame = pd.concat(\n",
    "            [synth_sub_frame, rand_lat_feat_vals], axis = 1)\n",
    "        # break\n",
    "    synth_full_frame = pd.concat(\n",
    "        [synth_full_frame, synth_sub_frame], axis = 0)\n",
    "    # break\n",
    "    \n",
    "    # synth_ndx_strt = synth_ndx_strt + len(sub)\n",
    "    synth_ndx_strt = synth_ndx_strt + synth_sub_len\n",
    "    \n",
    "    # break"
   ]
  },
  {
   "cell_type": "code",
   "execution_count": null,
   "id": "f6484288-07d4-49ec-802d-0811830618a4",
   "metadata": {},
   "outputs": [],
   "source": [
    "# Synthtic learing curve template for box curve, above\n",
    "\n",
    "# dec_RF_F1_means = {}\n",
    "synth_RF_F1_means = {}\n",
    "# for smp_sz in list(range(10, 70, 5)): # UVM <--- figure_five, run 1\n",
    "# for smp_sz in list(range(10, 145, 5)): # UVM <--- figure_five, run 2, this dict will be a different length! \n",
    "    \n",
    "for smp_sz in list(range(10, 151, 5)): # BRCA <--- across run, mirror input steps above\n",
    "    \n",
    "    print(smp_sz)\n",
    "\n",
    "    RF_output = []\n",
    "    # resmpl_count = 150\n",
    "    for r in list(range(0, resmpl_count)):\n",
    "        \n",
    "        labeled_sample_subset_frame = df_to_clf.sample(smp_sz) # df_to_clf set as decoded object now, not the input\n",
    "        X = labeled_sample_subset_frame.iloc[:, 1:]\n",
    "        y = labeled_sample_subset_frame.iloc[:, 0]\n",
    "        X_train, X_test, y_train, y_test = train_test_split(\n",
    "                    X, y,\n",
    "                        test_size=0.33,\n",
    "                            )\n",
    "        RF_clf = RandomForestClassifier(max_depth=2)\n",
    "        RF_clf.fit(X_train, y_train)\n",
    "\n",
    "        RF_F1_scr = f1_score(y_test, RF_clf.predict(X_test), average='weighted')\n",
    "        RF_output.append(RF_F1_scr)\n",
    "           \n",
    "    synth_RF_F1_means[smp_sz] = round(mean(RF_output), 3)\n",
    "\n",
    "print('BRCA dict 3 done')"
   ]
  },
  {
   "cell_type": "code",
   "execution_count": null,
   "id": "493f4c11-6786-4e51-8219-c8f4af8c1e39",
   "metadata": {},
   "outputs": [],
   "source": []
  },
  {
   "cell_type": "code",
   "execution_count": null,
   "id": "721823f4-50b2-41c4-979d-b9231884d922",
   "metadata": {},
   "outputs": [],
   "source": []
  }
 ],
 "metadata": {
  "kernelspec": {
   "display_name": "Python 3 (ipykernel)",
   "language": "python",
   "name": "python3"
  },
  "language_info": {
   "codemirror_mode": {
    "name": "ipython",
    "version": 3
   },
   "file_extension": ".py",
   "mimetype": "text/x-python",
   "name": "python",
   "nbconvert_exporter": "python",
   "pygments_lexer": "ipython3",
   "version": "3.9.13"
  }
 },
 "nbformat": 4,
 "nbformat_minor": 5
}
