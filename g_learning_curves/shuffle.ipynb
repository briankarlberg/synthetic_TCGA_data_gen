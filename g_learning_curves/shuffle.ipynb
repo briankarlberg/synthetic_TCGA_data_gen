{
 "cells": [
  {
   "cell_type": "markdown",
   "id": "b2eb00fc-266f-4163-b4cf-69d0a150ba02",
   "metadata": {
    "tags": []
   },
   "source": [
    "### c_Shuffle latent feature values  \n",
    "Subset subtype, randomly select a value from each latent feature vector  \n",
    "Collect selected values into a synthetic sample latent featue vector  \n",
    "Decode the synthetic latent samples to synthetic gene expression space samples  \n",
    "Predict on mix of real and synthetic data to make a superimposed learning curve  "
   ]
  },
  {
   "cell_type": "code",
   "execution_count": 6,
   "id": "55882223-c7ce-44a9-afb0-a79e3e3000fb",
   "metadata": {},
   "outputs": [
    {
     "name": "stdout",
     "output_type": "stream",
     "text": [
      "Variable                 Type        Data/Info\n",
      "----------------------------------------------\n",
      "DecisionTreeClassifier   ABCMeta     <class 'sklearn.tree._cla<...>.DecisionTreeClassifier'>\n",
      "RandomForestClassifier   ABCMeta     <class 'sklearn.ensemble.<...>.RandomForestClassifier'>\n",
      "f1_score                 function    <function f1_score at 0x12b5e35e0>\n",
      "figure                   function    <function figure at 0x14ac1c790>\n",
      "glob                     module      <module 'glob' from '/Use<...>9/lib/python3.9/glob.py'>\n",
      "mean                     function    <function mean at 0x12f77f0d0>\n",
      "pd                       module      <module 'pandas' from '/U<...>ages/pandas/__init__.py'>\n",
      "plt                      module      <module 'matplotlib.pyplo<...>es/matplotlib/pyplot.py'>\n",
      "stdev                    function    <function stdev at 0x12f77f8b0>\n",
      "train_test_split         function    <function train_test_split at 0x12b525700>\n"
     ]
    }
   ],
   "source": [
    "%whos"
   ]
  },
  {
   "cell_type": "code",
   "execution_count": null,
   "id": "e9e54bb3-2cce-4aca-8964-7b6f2806b175",
   "metadata": {},
   "outputs": [],
   "source": [
    "# i-o dir for write-read of clf out / superimpose in?\n",
    "# i_o/shuffle/latent_feature_sets/ for"
   ]
  },
  {
   "cell_type": "code",
   "execution_count": null,
   "id": "cf797a3d-aceb-4f26-ad81-1d9c89c903bf",
   "metadata": {},
   "outputs": [],
   "source": [
    "# idea: run the learning curve directly on the latent feature set\n",
    "    # i.e. the encoded real samples\n",
    "    # then compare to running the lc on the un-decoded synthetic latent samples"
   ]
  },
  {
   "cell_type": "code",
   "execution_count": null,
   "id": "f8eba780-7ba6-4154-9114-2b4a64140c56",
   "metadata": {},
   "outputs": [],
   "source": [
    "# List of objects to have in memory:\n",
    "    # trained decoder - BRCA - \n",
    "    # RF curve dict on input data - \n",
    "    # RF curve dict on decoded - \n",
    "    # RF curve diect on decoded synth* - "
   ]
  },
  {
   "cell_type": "markdown",
   "id": "a4e1dcd9-ce7b-4317-8907-9d0753b418c3",
   "metadata": {
    "tags": []
   },
   "source": [
    "### Imports, directory setup"
   ]
  },
  {
   "cell_type": "code",
   "execution_count": 5,
   "id": "9b39428d-b745-4313-ad1b-5326920c7450",
   "metadata": {},
   "outputs": [],
   "source": [
    "import pandas as pd\n",
    "import glob as glob\n",
    "\n",
    "from sklearn.model_selection import train_test_split\n",
    "from sklearn.ensemble import RandomForestClassifier\n",
    "from sklearn.tree import DecisionTreeClassifier\n",
    "from sklearn.metrics import f1_score\n",
    "from statistics import mean\n",
    "from statistics import stdev\n",
    "\n",
    "import matplotlib.pyplot as plt\n",
    "from matplotlib.pyplot import figure"
   ]
  },
  {
   "cell_type": "code",
   "execution_count": 1,
   "id": "0d941058-53c5-44f9-8fdb-e9fda979a752",
   "metadata": {},
   "outputs": [
    {
     "data": {
      "text/plain": [
       "'/Users/karlberb/Documents/work/sample_count/synthetic_TCGA_data_gen/g_learning_curves'"
      ]
     },
     "execution_count": 1,
     "metadata": {},
     "output_type": "execute_result"
    }
   ],
   "source": [
    "pwd"
   ]
  },
  {
   "cell_type": "code",
   "execution_count": 3,
   "id": "b659351a-42c5-45db-92a8-b91d2b44f49d",
   "metadata": {},
   "outputs": [
    {
     "name": "stdout",
     "output_type": "stream",
     "text": [
      "PDF.ipynb                            learning_curve_schematic.drawio\n",
      "c_latent_sampling.ipynb              learning_curve_schematic.drawio.png\n",
      "\u001b[34mi_o\u001b[m\u001b[m/                                 shuffle.ipynb\n"
     ]
    }
   ],
   "source": [
    "ls"
   ]
  },
  {
   "cell_type": "markdown",
   "id": "1038cc33-2973-4b0a-beeb-3226529e4b8b",
   "metadata": {
    "tags": []
   },
   "source": [
    "### Target out dir:  \n",
    "---------------\n",
    "### i_o/shuffle  \n",
    "--------------- \n",
    "Original version with decision tree was g_devel  \n",
    "DT is also in 'RF again' section of c_latent_sampling"
   ]
  },
  {
   "cell_type": "code",
   "execution_count": 15,
   "id": "af9efbe6-84ef-472b-bd39-88941511147d",
   "metadata": {},
   "outputs": [],
   "source": [
    "super_v = '_super_1'"
   ]
  },
  {
   "cell_type": "markdown",
   "id": "dc1fe504-92c4-45e2-906b-5761b9ff6a86",
   "metadata": {
    "tags": []
   },
   "source": [
    "### Data\n",
    "MAD5k features either taken within or across the TCGA intersection features (less LGGGBM)  \n",
    "Could also run the full GEXP files, miR, and METH or combos of these as feature sets  \n",
    "See Setup section in <c_latent_sampling.ipynb> for synthetic index generation - done"
   ]
  },
  {
   "cell_type": "code",
   "execution_count": 7,
   "id": "a54c2a1f-8018-4d37-a707-729ba058e919",
   "metadata": {},
   "outputs": [],
   "source": [
    "acrss_pths = sorted(glob.glob('../g_devel/data_GEXP_5k_col_norm/*.tsv'))\n",
    "brca_5k_across = pd.read_csv(acrss_pths[2], sep=\"\\t\", index_col=0)"
   ]
  },
  {
   "cell_type": "code",
   "execution_count": null,
   "id": "6fab77e2-f17a-4ecd-a507-2fcb50f5e104",
   "metadata": {},
   "outputs": [],
   "source": [
    "# acc_5k_across = pd.read_csv(five_k[0], sep=\"\\t\", index_col=0)"
   ]
  },
  {
   "cell_type": "code",
   "execution_count": null,
   "id": "5e727d51-7778-4799-b9d5-0c7729c17c5e",
   "metadata": {},
   "outputs": [],
   "source": [
    "# note: run different feature selection methods here"
   ]
  },
  {
   "cell_type": "code",
   "execution_count": null,
   "id": "b0a5fc92-0687-455c-bc41-e5222f0bb4e0",
   "metadata": {},
   "outputs": [],
   "source": [
    "wthn_pths = sorted(\n",
    "    glob.glob(\n",
    "        '/Users/karlberb/Documents/work/sample_count/synthetic_TCGA_data_gen/g_devel/data_5k/*.tsv'))\n",
    "brca_5k_within = pd.read_csv(\n",
    "    wthn_pths[2], sep = '\\t', index_col = 0)"
   ]
  },
  {
   "cell_type": "code",
   "execution_count": null,
   "id": "c2d4f160-ebce-4a0d-95cb-76c0ec681630",
   "metadata": {},
   "outputs": [],
   "source": [
    "# acc_5k_within = pd.read_csv(\n",
    "#     mad5k_wthn_pths[0], sep = '\\t', index_col = 0)"
   ]
  },
  {
   "cell_type": "markdown",
   "id": "4f79143e-0fc7-44e7-a6ae-1b3b5650a955",
   "metadata": {
    "tags": []
   },
   "source": [
    "### Input GEXP to VAE Learning curve"
   ]
  },
  {
   "cell_type": "markdown",
   "id": "8d79cd47-383e-4287-ae76-4527be5b9afb",
   "metadata": {
    "tags": []
   },
   "source": [
    "#### Cohort and feature set toggles"
   ]
  },
  {
   "cell_type": "code",
   "execution_count": 8,
   "id": "61731966-6ffd-4234-abbe-a25b6aeb2115",
   "metadata": {},
   "outputs": [],
   "source": [
    "df_to_rf = brca_5k_across # <---\n",
    "feature_selection_method = 'across_cohort'"
   ]
  },
  {
   "cell_type": "code",
   "execution_count": null,
   "id": "7c122f4a-d5db-432d-836d-12607469869d",
   "metadata": {},
   "outputs": [],
   "source": [
    "# df_to_rf = acc_5k_across # <---\n",
    "# feature_selection_method = 'across_cohort'\n",
    "\n",
    "# df_to_rf = acc_5k_within # <---\n",
    "# feature_selection_method = 'within_cohort'\n",
    "\n",
    "# df_to_rf = brca_5k_within # <---\n",
    "# feature_selection_method = 'within_cohort'"
   ]
  },
  {
   "cell_type": "markdown",
   "id": "2c84c29a-956d-49ed-976e-52cdb83cc324",
   "metadata": {
    "tags": []
   },
   "source": [
    "#### inpt RF Main"
   ]
  },
  {
   "cell_type": "code",
   "execution_count": 9,
   "id": "71fc0ba4-945a-4401-b840-c0e5f5467dbc",
   "metadata": {},
   "outputs": [
    {
     "name": "stdout",
     "output_type": "stream",
     "text": [
      "starting learning curve generation on labled feature set\n",
      "10\n",
      "15\n",
      "20\n",
      "25\n",
      "30\n",
      "35\n",
      "40\n",
      "45\n",
      "50\n",
      "55\n",
      "60\n",
      "65\n",
      "70\n",
      "75\n",
      "80\n",
      "85\n",
      "90\n",
      "95\n",
      "100\n",
      "105\n",
      "110\n",
      "115\n",
      "120\n",
      "125\n",
      "130\n",
      "135\n",
      "140\n",
      "145\n",
      "150\n",
      "Learning curve object generated, send to plot function\n"
     ]
    }
   ],
   "source": [
    "print('starting learning curve generation on labled feature set')\n",
    "# inpt_RF_F1_dct = {}\n",
    "\n",
    "inpt_RF_F1_means = {}\n",
    "for smp_sz in list(range(10, 151, 5)): # BRCA <--- across run, plot up to 100?\n",
    "# for smp_sz in list(range(15, 76, 5)): # ACC <---\n",
    "    \n",
    "    print(smp_sz)\n",
    "    \n",
    "    RF_output = []\n",
    "    resmpl_count = 250\n",
    "    for r in list(range(0, resmpl_count)):\n",
    "        \n",
    "        labeled_sample_subset_frame = df_to_rf.sample(smp_sz)\n",
    "        X = labeled_sample_subset_frame.iloc[:, 1:]\n",
    "        y = labeled_sample_subset_frame.iloc[:, 0]\n",
    "        X_train, X_test, y_train, y_test = train_test_split(\n",
    "                    X, y,\n",
    "                        test_size=0.33,\n",
    "                            )\n",
    "        RF_clf = RandomForestClassifier(max_depth=2)\n",
    "        RF_clf.fit(X_train, y_train)\n",
    "\n",
    "        RF_F1_scr = f1_score(y_test, RF_clf.predict(X_test), average='weighted')\n",
    "        RF_output.append(RF_F1_scr)\n",
    "\n",
    "    inpt_RF_F1_means[smp_sz] = round(mean(RF_output), 3)\n",
    "    \n",
    "    # INPUT dict - raw F1 scores for error plot <note>\n",
    "    # inpt_RF_F1_dct[smp_sz] = RF_output\n",
    "    # break\n",
    "print('Learning curve object generated, send to plot function')"
   ]
  },
  {
   "cell_type": "code",
   "execution_count": null,
   "id": "baa03494-9c8f-45ab-a9f8-f974df516ee3",
   "metadata": {},
   "outputs": [],
   "source": [
    "# check file naming on input learning curve, below\n",
    "# Run at 100 latent dim"
   ]
  },
  {
   "cell_type": "code",
   "execution_count": 10,
   "id": "29b70404-d1fb-4095-bb59-ff855b59318d",
   "metadata": {},
   "outputs": [
    {
     "data": {
      "image/png": "[encoded data removed]",
      "text/plain": [
       "<Figure size 640x480 with 1 Axes>"
      ]
     },
     "metadata": {},
     "output_type": "display_data"
    }
   ],
   "source": [
    "plt.plot(list(inpt_RF_F1_means.keys()),\n",
    "       inpt_RF_F1_means.values(), label = 'Mean weighted F1')\n",
    "plt.suptitle('Learning curve, '+df_to_rf.index.name+', random forest')\n",
    "plt.title('VAE input data: MAD 5K '+feature_selection_method+' GEXP') # copy and modify \n",
    "plt.ylabel('F1 score')                                                # for decoded naming\n",
    "plt.xlabel('Sub-sample size, resampling with replacement')\n",
    "plt.annotate('Resamplings per step size = '+str(resmpl_count),\n",
    "                xy=(.15, .85), xycoords='figure fraction',\n",
    "                horizontalalignment='left', verticalalignment='top',\n",
    "                )\n",
    "plt.savefig(\n",
    "    'i_o/shuffle/'+\n",
    "    str(df_to_rf.index.name)+'_'+feature_selection_method+'_'+ # add decoded to naming\n",
    "    str(list(inpt_RF_F1_means.keys())[0])+'-to-'+str(smp_sz)+       # for post-VAE plots\n",
    "    '_'+str(resmpl_count)+'-rsmpls'+\n",
    "    '_super_1.png', bbox_inches = 'tight')"
   ]
  },
  {
   "cell_type": "code",
   "execution_count": null,
   "id": "a09c9711-0c90-40e5-a1b6-f8d47a7b02f3",
   "metadata": {},
   "outputs": [],
   "source": [
    "# To template for double-overlay plot\n",
    "    # Use that as template for triple-overlay"
   ]
  },
  {
   "cell_type": "markdown",
   "id": "1e87fe9c-3ed6-4caf-8ac8-8d52e155487e",
   "metadata": {
    "tags": []
   },
   "source": [
    "### VAE"
   ]
  },
  {
   "cell_type": "markdown",
   "id": "3d72d77e-44a7-433c-8844-58ddb0a3dbb8",
   "metadata": {
    "tags": []
   },
   "source": [
    "#### Setup VAE"
   ]
  },
  {
   "cell_type": "code",
   "execution_count": 11,
   "id": "f1f093b5-fdc4-40c9-ba28-d3e76ca4f1a7",
   "metadata": {},
   "outputs": [],
   "source": [
    "import time\n",
    "import numpy as np\n",
    "import tensorflow as tf\n",
    "from tensorflow import keras\n",
    "from tensorflow.keras import layers\n",
    "from tensorflow.keras.models import Model\n",
    "from tensorflow.keras import backend as K\n",
    "from tensorflow.keras.layers import BatchNormalization, Activation, Layer\n",
    "from tensorflow.keras import metrics, optimizers\n",
    "from tensorflow.keras.losses import binary_crossentropy\n",
    "from tensorflow.keras.callbacks import Callback\n",
    "import tensorflow.compat.v1.keras.backend as K\n",
    "import tensorflow as tf\n",
    "tf.compat.v1.disable_eager_execution()"
   ]
  },
  {
   "cell_type": "code",
   "execution_count": 12,
   "id": "2d7ca2bc-a893-449a-845d-ed8b4818d239",
   "metadata": {},
   "outputs": [],
   "source": [
    "# Function set for leave one out loop\n",
    "def compute_latent(x): # x:\n",
    "    mu, sigma = x\n",
    "    batch = K.shape(mu)[0]\n",
    "    dim = K.shape(mu)[1]\n",
    "    eps = K.random_normal(shape=(batch,dim), mean=0., stddev=1.0 )\n",
    "    return mu + K.exp(sigma/2)*eps\n",
    "\n",
    "# Set custom layer , will need all this at start of shell script\n",
    "class CustomVariationalLayer(Layer):\n",
    "    \"\"\"\n",
    "    Define a custom layer\n",
    "    \"\"\"\n",
    "    def __init__(self, **kwargs):\n",
    "        self.is_placeholder = True\n",
    "        super(CustomVariationalLayer, self).__init__(**kwargs)\n",
    "\n",
    "    def vae_loss(self, x_input, x_decoded):\n",
    "        reconstruction_loss = original_dim * metrics.binary_crossentropy(x_input, x_decoded)\n",
    "        kl_loss = - 0.5 * K.sum(1 + z_log_var_encoded - K.square(z_mean_encoded) - \n",
    "                                K.exp(z_log_var_encoded), axis=-1)\n",
    "        return K.mean(reconstruction_loss + (K.get_value(beta) * kl_loss))\n",
    "\n",
    "    def call(self, inputs):\n",
    "        x = inputs[0]\n",
    "        x_decoded = inputs[1]\n",
    "        loss = self.vae_loss(x, x_decoded)\n",
    "        self.add_loss(loss, inputs=inputs)\n",
    "        return x\n",
    "    \n",
    "class WarmUpCallback(Callback):\n",
    "    def __init__(self, beta, kappa):\n",
    "        self.beta = beta\n",
    "        self.kappa = kappa\n",
    "\n",
    "    def on_epoch_end(self, epoch, logs={}):\n",
    "        if K.get_value(self.beta) <= 1:\n",
    "            K.set_value(self.beta, K.get_value(self.beta) + self.kappa)"
   ]
  },
  {
   "cell_type": "markdown",
   "id": "86a6e16a-eee4-4dc5-9c27-17e99ede2251",
   "metadata": {
    "jp-MarkdownHeadingCollapsed": true,
    "tags": []
   },
   "source": [
    "#### Main VAE"
   ]
  },
  {
   "cell_type": "code",
   "execution_count": 23,
   "id": "a5ba1f18-4a97-455b-aa91-fe046ba8be05",
   "metadata": {},
   "outputs": [],
   "source": [
    "feature_set = 'mad_5k_within'\n",
    "decode_df = brca_5k_within\n",
    "c = brca_5k_within.index.name\n",
    "fit_on = 'BRCA'"
   ]
  },
  {
   "cell_type": "code",
   "execution_count": null,
   "id": "8dd219ff-ae25-4cdd-b6c2-810bd1a4c7ee",
   "metadata": {},
   "outputs": [],
   "source": [
    "# Triple superimpose version 1: Across BRCA"
   ]
  },
  {
   "cell_type": "code",
   "execution_count": 13,
   "id": "95da119c-fde7-466c-a0a9-f7f54efd0a4e",
   "metadata": {},
   "outputs": [],
   "source": [
    "feature_set = 'mad_5k_across' # smooth learning curve in original\n",
    "decode_df = brca_5k_across\n",
    "c = brca_5k_across.index.name\n",
    "fit_on = 'BRCA'"
   ]
  },
  {
   "cell_type": "code",
   "execution_count": null,
   "id": "ce21014b-b507-49a8-a479-4d320224c244",
   "metadata": {},
   "outputs": [],
   "source": [
    "# ^ for super v1"
   ]
  },
  {
   "cell_type": "code",
   "execution_count": 27,
   "id": "37910038-2a32-4b04-84a7-3dbcaf6fa1ea",
   "metadata": {},
   "outputs": [],
   "source": [
    "feature_set = 'mad_5k_within'\n",
    "c = 'ACC'\n",
    "fit_on = 'ACC'\n",
    "decode_df = acc_5k_within"
   ]
  },
  {
   "cell_type": "code",
   "execution_count": 29,
   "id": "715e4201-25a0-4145-9ac4-f9efae93db62",
   "metadata": {},
   "outputs": [],
   "source": [
    "feature_set = 'mad_5k_across'\n",
    "c = 'ACC'\n",
    "fit_on = 'ACC'\n",
    "decode_df = acc_5k_across"
   ]
  },
  {
   "cell_type": "code",
   "execution_count": null,
   "id": "3186c919-eea8-4db0-9fda-21549b8f7f44",
   "metadata": {},
   "outputs": [],
   "source": [
    "# <note> batch size\n",
    "# <note> latent dim"
   ]
  },
  {
   "cell_type": "code",
   "execution_count": 16,
   "id": "1a205f75-9e7f-4dc5-addd-4bdb8abbc4ea",
   "metadata": {},
   "outputs": [
    {
     "name": "stdout",
     "output_type": "stream",
     "text": [
      "WARNING:tensorflow:From /Users/karlberb/miniforge3/envs/tf_M1_py3dot9/lib/python3.9/site-packages/keras/layers/normalization/batch_normalization.py:562: _colocate_with (from tensorflow.python.framework.ops) is deprecated and will be removed in a future version.\n",
      "Instructions for updating:\n",
      "Colocations handled automatically by placer.\n",
      "Metal device set to: Apple M1 Max\n",
      "WARNING:tensorflow:Output {0} missing from loss dictionary. We assume this was done on purpose. The fit and evaluate APIs will not be expecting any data to be passed to custom_variational_layer.\n"
     ]
    },
    {
     "name": "stderr",
     "output_type": "stream",
     "text": [
      "2022-11-29 08:09:55.728576: I tensorflow/core/common_runtime/pluggable_device/pluggable_device_factory.cc:306] Could not identify NUMA node of platform GPU ID 0, defaulting to 0. Your kernel may not have been built with NUMA support.\n",
      "2022-11-29 08:09:55.728692: I tensorflow/core/common_runtime/pluggable_device/pluggable_device_factory.cc:272] Created TensorFlow device (/job:localhost/replica:0/task:0/device:GPU:0 with 0 MB memory) -> physical PluggableDevice (device: 0, name: METAL, pci bus id: <undefined>)\n",
      "2022-11-29 08:09:55.732578: I tensorflow/compiler/mlir/mlir_graph_optimization_pass.cc:354] MLIR V1 optimization pass is not enabled\n",
      "2022-11-29 08:09:55.736352: W tensorflow/core/platform/profile_utils/cpu_utils.cc:128] Failed to get CPU frequency: 0 Hz\n",
      "2022-11-29 08:09:55.736950: I tensorflow/core/grappler/optimizers/custom_graph_optimizer_registry.cc:114] Plugin optimizer for device_type GPU is enabled.\n",
      "2022-11-29 08:09:55.750305: I tensorflow/core/grappler/optimizers/custom_graph_optimizer_registry.cc:114] Plugin optimizer for device_type GPU is enabled.\n",
      "2022-11-29 08:09:55.766480: I tensorflow/core/grappler/optimizers/custom_graph_optimizer_registry.cc:114] Plugin optimizer for device_type GPU is enabled.\n",
      "2022-11-29 08:09:55.895425: I tensorflow/core/grappler/optimizers/custom_graph_optimizer_registry.cc:114] Plugin optimizer for device_type GPU is enabled.\n",
      "2022-11-29 08:09:55.915517: I tensorflow/core/grappler/optimizers/custom_graph_optimizer_registry.cc:114] Plugin optimizer for device_type GPU is enabled.\n",
      "2022-11-29 08:09:55.932319: I tensorflow/core/grappler/optimizers/custom_graph_optimizer_registry.cc:114] Plugin optimizer for device_type GPU is enabled.\n",
      "2022-11-29 08:09:56.600346: I tensorflow/core/grappler/optimizers/custom_graph_optimizer_registry.cc:114] Plugin optimizer for device_type GPU is enabled.\n",
      "/Users/karlberb/miniforge3/envs/tf_M1_py3dot9/lib/python3.9/site-packages/keras/engine/training_v1.py:2356: UserWarning: `Model.state_updates` will be removed in a future version. This property should not be used in TensorFlow 2.0, as `updates` are applied automatically.\n",
      "  updates=self.state_updates,\n",
      "2022-11-29 08:10:31.409792: I tensorflow/core/grappler/optimizers/custom_graph_optimizer_registry.cc:114] Plugin optimizer for device_type GPU is enabled.\n",
      "2022-11-29 08:10:31.546575: I tensorflow/core/grappler/optimizers/custom_graph_optimizer_registry.cc:114] Plugin optimizer for device_type GPU is enabled.\n"
     ]
    },
    {
     "name": "stdout",
     "output_type": "stream",
     "text": [
      "Decode cohort trained on self using mad_5k_across feature set experiment done\n"
     ]
    },
    {
     "data": {
      "image/png": "[encoded data removed]",
      "text/plain": [
       "<Figure size 640x480 with 1 Axes>"
      ]
     },
     "metadata": {},
     "output_type": "display_data"
    }
   ],
   "source": [
    "# Decode all samples after training on self with MAD 5k taken\n",
    "  # either within or across cohort\n",
    "# adapted from c_latent_sampling in g_learning curves\n",
    "\n",
    "features = decode_df.columns[1:] # direct decode, will need fitting / dedoding frames\n",
    "\n",
    "original_dim = len(features)\n",
    "feature_dim = len(features)\n",
    "latent_dim = 10               # Toggle here, to plot labels!\n",
    "\n",
    "encoder_inputs = keras.Input(shape=(feature_dim,))\n",
    "z_mean_dense_linear = layers.Dense(latent_dim, kernel_initializer='glorot_uniform', name=\"encoder_1\")(encoder_inputs)\n",
    "z_mean_dense_batchnorm = layers.BatchNormalization()(z_mean_dense_linear)\n",
    "z_mean_encoded = layers.Activation('relu')(z_mean_dense_batchnorm)\n",
    "\n",
    "z_log_var_dense_linear = layers.Dense(latent_dim, kernel_initializer='glorot_uniform', name=\"encoder_2\")(encoder_inputs)\n",
    "z_log_var_dense_batchnorm = layers.BatchNormalization()(z_log_var_dense_linear)\n",
    "z_log_var_encoded = layers.Activation('relu')(z_log_var_dense_batchnorm)\n",
    "\n",
    "latent_space = layers.Lambda(compute_latent, output_shape=(latent_dim,), name=\"latent_space\")([z_mean_encoded, z_log_var_encoded])\n",
    "\n",
    "decoder_to_reconstruct = layers.Dense(feature_dim, kernel_initializer='glorot_uniform', activation='sigmoid')\n",
    "decoder_outputs = decoder_to_reconstruct(latent_space)\n",
    "\n",
    "learning_rate = 0.0005\n",
    "kappa = 1\n",
    "\n",
    "beta = K.variable(0)\n",
    "\n",
    "adam = optimizers.Adam(learning_rate=learning_rate)\n",
    "vae_layer = CustomVariationalLayer()([encoder_inputs, decoder_outputs])\n",
    "vae = Model(encoder_inputs, vae_layer)\n",
    "vae.compile(optimizer=adam, loss=None, loss_weights=[beta])\n",
    "\n",
    "epochs=160\n",
    "\n",
    "fit_start = time.time()\n",
    "history = vae.fit(decode_df.iloc[:, 1:],  #       <-------- fit the VAE on object toggled here\n",
    "            epochs=epochs, batch_size=50, shuffle=True,\n",
    "            callbacks=[WarmUpCallback(beta, kappa)],\n",
    "                 verbose=0 #  <---------------------- turn this on for production *************\n",
    "                 )\n",
    "fit_end = time.time() - fit_start\n",
    "\n",
    "plt.plot(history.history['loss'],label=\"loss\")\n",
    "\n",
    "plt.title(\n",
    "    c+' fit '+\n",
    "    '\\nTybalt VAE\\n'\n",
    "         )\n",
    "plt.xlabel('Epoch')\n",
    "plt.ylabel('Loss')\n",
    "plt.annotate('Feature set = '+feature_set+\n",
    "             '\\nLatent dim = '+str(latent_dim)+\n",
    "             '\\nLayer type = dense'+\n",
    "             '\\nNormalization = divide by max(),\\n'+\n",
    "             '                       column-wise,\\n'+\n",
    "             '                       within cohort'+\n",
    "             '\\nFit time = '+str(round(fit_end,2 ))+'s',\n",
    "            xy=(.4, .8), xycoords='figure fraction',\n",
    "            horizontalalignment='left', verticalalignment='top',\n",
    "            )\n",
    "\n",
    "plt.legend(loc=\"lower left\")\n",
    "plt.savefig(\n",
    "    'i_o/shuffle/'+c+'_'+\n",
    "    'fit_on_'+fit_on+'_latent_dim.'+str(latent_dim)+\n",
    "    # '_pltv-'+str(plt_v)+\n",
    "    '_epochs.'+str(epochs)+'_'+\n",
    "    feature_set+super_v+\n",
    "    '.png', bbox_inches='tight') # version 18, norm within cohort\n",
    "# plt.close()\n",
    "\n",
    "encoder = Model(encoder_inputs, z_mean_encoded)\n",
    "decoder_input = keras.Input(shape=(latent_dim, ))\n",
    "_x_decoded_mean = decoder_to_reconstruct(decoder_input)\n",
    "decoder = Model(decoder_input, _x_decoded_mean)\n",
    "\n",
    "y_df = decode_df.Labels\n",
    "\n",
    "decoded = pd.DataFrame(decoder.predict(encoder.predict(decode_df.iloc[:, 1:])),\n",
    "                       index=decode_df.index, columns=decode_df.iloc[:, 1:].columns)\n",
    "\n",
    "latent_object = pd.DataFrame(encoder.predict(decode_df.iloc[:, 1:]),\n",
    "             index=decode_df.index,\n",
    "                # columns=decode_df.iloc[:, 1:].columns # Columns are different because this is latent space\n",
    "        )\n",
    "latent_object.index.name = c\n",
    "latent_object = pd.concat( [pd.DataFrame(y_df), latent_object] , axis =1)\n",
    "latent_object.to_csv('i_o/shuffle/'+c+'_fit_on.'+fit_on+\n",
    "                     '_latent_object_latent_dim.'+str(latent_dim)+\n",
    "    '_epochs.'+str(epochs)+'_'+feature_set+super_v+\n",
    "    '.tsv',\n",
    "    sep = '\\t')\n",
    "# break\n",
    "decoded_labeled = pd.concat( [pd.DataFrame(y_df), decoded] , axis =1)\n",
    "decoded_labeled.to_csv(\n",
    "    'i_o/shuffle/'+c+'_fit_on.'+fit_on+'_decoded_latent_dim.'+\n",
    "    str(latent_dim)+\n",
    "    '_epochs.'+str(epochs)+'_'+feature_set+super_v+\n",
    "    '.tsv',\n",
    "    sep = '\\t')\n",
    "\n",
    "print('Decode cohort trained on self using '+feature_set+' feature set experiment done')"
   ]
  },
  {
   "cell_type": "markdown",
   "id": "a49f0d30-ae62-4e59-93b7-669505e9c279",
   "metadata": {
    "tags": []
   },
   "source": [
    "### Classify on decoded samples  \n",
    "'RF again' section in c_latent_sampling"
   ]
  },
  {
   "cell_type": "markdown",
   "id": "3fcdadb9-6dea-4fab-9d4f-af478c1a9663",
   "metadata": {
    "jp-MarkdownHeadingCollapsed": true,
    "tags": []
   },
   "source": [
    "#### Decoded clf setup"
   ]
  },
  {
   "cell_type": "code",
   "execution_count": 31,
   "id": "d1f7dec6-631f-4de9-b339-c41ee867912c",
   "metadata": {},
   "outputs": [],
   "source": [
    "df_to_clf = decoded_labeled # across ACC (?)\n"
   ]
  },
  {
   "cell_type": "code",
   "execution_count": 64,
   "id": "7b7c1054-680f-497d-b46c-499238c855b2",
   "metadata": {},
   "outputs": [],
   "source": [
    "df_to_clf = pd.read_csv(\n",
    "    'i_o/shuffle/ACC_fit_on.ACC_decoded_latent_dim.10_epochs.155_mad_5k_across.tsv',\n",
    "    sep = '\\t', index_col = 0)\n",
    "feature_set = 'mad_5k_across'\n",
    "c = 'ACC'\n",
    "fit_on = 'ACC'\n",
    "decode_df = acc_5k_across"
   ]
  },
  {
   "cell_type": "code",
   "execution_count": 41,
   "id": "fcf3c863-6bd4-493b-89b8-017b40b8e3af",
   "metadata": {},
   "outputs": [],
   "source": [
    "df_to_clf = pd.read_csv(\n",
    "    'i_o/shuffle/ACC_fit_on.ACC_decoded_latent_dim.10_epochs.155_mad_5k_within.tsv',\n",
    "    sep = '\\t', index_col = 0)\n",
    "feature_set = 'mad_5k_within'\n",
    "c = 'ACC'\n",
    "fit_on = 'ACC'\n",
    "decode_df = acc_5k_within    "
   ]
  },
  {
   "cell_type": "code",
   "execution_count": 55,
   "id": "07cb7edf-e7b0-4aa6-a860-9779f34036ba",
   "metadata": {},
   "outputs": [],
   "source": [
    "df_to_clf = pd.read_csv(\n",
    "    'i_o/shuffle/BRCA_fit_on.BRCA_decoded_latent_dim.10_epochs.155_mad_5k_within.tsv',\n",
    "    sep = '\\t', index_col = 0)\n",
    "feature_set = 'mad_5k_within'\n",
    "c = 'BRCA'\n",
    "fit_on = 'BRCA'\n",
    "decode_df = brca_5k_within"
   ]
  },
  {
   "cell_type": "code",
   "execution_count": 17,
   "id": "f7cf88c7-cad5-4002-a64c-8cd87977bec7",
   "metadata": {},
   "outputs": [],
   "source": [
    "# BRCA across\n",
    "df_to_clf = pd.read_csv(\n",
    "    'i_o/shuffle/BRCA_fit_on.BRCA_decoded_latent_dim.10_epochs.160_mad_5k_across_super_1.tsv',\n",
    "    sep = '\\t', index_col = 0)\n",
    "feature_set = 'mad_5k_across'\n",
    "c = 'BRCA'\n",
    "fit_on = 'BRCA'\n",
    "decode_df = brca_5k_across"
   ]
  },
  {
   "cell_type": "code",
   "execution_count": 18,
   "id": "8c2c74e1-715e-41f5-bf0c-47312c0734cd",
   "metadata": {},
   "outputs": [
    {
     "data": {
      "text/plain": [
       "(995, 5001)"
      ]
     },
     "execution_count": 18,
     "metadata": {},
     "output_type": "execute_result"
    }
   ],
   "source": [
    "df_to_clf.shape"
   ]
  },
  {
   "cell_type": "markdown",
   "id": "df458fe0-84cd-47c8-9c14-46b99fa72ad8",
   "metadata": {
    "tags": []
   },
   "source": [
    "#### Decoded clf main"
   ]
  },
  {
   "cell_type": "code",
   "execution_count": null,
   "id": "79f91a51-dfd4-44cc-8bbf-429a4f7434f0",
   "metadata": {},
   "outputs": [],
   "source": [
    "for smp_sz in list(range(10, 151, 5)): # BRCA <--- across run, plot up to 100?"
   ]
  },
  {
   "cell_type": "code",
   "execution_count": null,
   "id": "b3aaa455-f964-41b5-b690-a615a8a6549b",
   "metadata": {},
   "outputs": [],
   "source": [
    "# <note> implement active learning"
   ]
  },
  {
   "cell_type": "code",
   "execution_count": null,
   "id": "d7b9ebaa-df84-4b28-bb51-ead25214c633",
   "metadata": {},
   "outputs": [],
   "source": [
    "# <note> using stock RF parameters"
   ]
  },
  {
   "cell_type": "code",
   "execution_count": 20,
   "id": "7654af1d-e4cb-46e2-9d55-3bc53de3b35f",
   "metadata": {
    "collapsed": true,
    "jupyter": {
     "outputs_hidden": true
    },
    "tags": []
   },
   "outputs": [
    {
     "data": {
      "text/plain": [
       "{10: 0.436,\n",
       " 15: 0.471,\n",
       " 20: 0.505,\n",
       " 25: 0.557,\n",
       " 30: 0.583,\n",
       " 35: 0.585,\n",
       " 40: 0.609,\n",
       " 45: 0.64,\n",
       " 50: 0.631,\n",
       " 55: 0.651,\n",
       " 60: 0.656,\n",
       " 65: 0.655,\n",
       " 70: 0.658,\n",
       " 75: 0.667,\n",
       " 80: 0.684,\n",
       " 85: 0.682,\n",
       " 90: 0.683,\n",
       " 95: 0.682,\n",
       " 100: 0.689,\n",
       " 105: 0.688,\n",
       " 110: 0.695,\n",
       " 115: 0.686,\n",
       " 120: 0.702,\n",
       " 125: 0.694,\n",
       " 130: 0.699,\n",
       " 135: 0.704,\n",
       " 140: 0.701,\n",
       " 145: 0.702,\n",
       " 150: 0.702}"
      ]
     },
     "execution_count": 20,
     "metadata": {},
     "output_type": "execute_result"
    }
   ],
   "source": [
    "inpt_RF_F1_means"
   ]
  },
  {
   "cell_type": "code",
   "execution_count": 21,
   "id": "779e64af-c34b-41dd-85db-e57f1075af42",
   "metadata": {},
   "outputs": [
    {
     "name": "stdout",
     "output_type": "stream",
     "text": [
      "10\n",
      "15\n",
      "20\n",
      "25\n",
      "30\n",
      "35\n",
      "40\n",
      "45\n",
      "50\n",
      "55\n",
      "60\n",
      "65\n",
      "70\n",
      "75\n",
      "80\n",
      "85\n",
      "90\n",
      "95\n",
      "100\n",
      "105\n",
      "110\n",
      "115\n",
      "120\n",
      "125\n",
      "130\n",
      "135\n",
      "140\n",
      "145\n",
      "150\n",
      "brca across super 1 done\n"
     ]
    }
   ],
   "source": [
    "# Superimpose dictionary 2 (decoded) samples build, version super 1\n",
    "\n",
    "dec_RF_F1_means = {}\n",
    "\n",
    "for smp_sz in list(range(10, 151, 5)): # BRCA <--- across run, mirror input steps above\n",
    "    \n",
    "    print(smp_sz)\n",
    "\n",
    "    RF_output = []\n",
    "    # resmpl_count = 150\n",
    "    for r in list(range(0, resmpl_count)):\n",
    "        \n",
    "        labeled_sample_subset_frame = df_to_clf.sample(smp_sz) # df_to_clf set as decoded object now, not the input\n",
    "        X = labeled_sample_subset_frame.iloc[:, 1:]\n",
    "        y = labeled_sample_subset_frame.iloc[:, 0]\n",
    "        X_train, X_test, y_train, y_test = train_test_split(\n",
    "                    X, y,\n",
    "                        test_size=0.33,\n",
    "                            )\n",
    "        RF_clf = RandomForestClassifier(max_depth=2)\n",
    "        RF_clf.fit(X_train, y_train)\n",
    "\n",
    "        RF_F1_scr = f1_score(y_test, RF_clf.predict(X_test), average='weighted')\n",
    "        RF_output.append(RF_F1_scr)\n",
    "           \n",
    "    dec_RF_F1_means[smp_sz] = round(mean(RF_output), 3)\n",
    "\n",
    "print('brca across super 1 done')"
   ]
  },
  {
   "cell_type": "code",
   "execution_count": 22,
   "id": "23e06d73-d55f-4729-99ff-4b4b3bca6ac9",
   "metadata": {},
   "outputs": [
    {
     "data": {
      "text/plain": [
       "'mad_5k_across'"
      ]
     },
     "execution_count": 22,
     "metadata": {},
     "output_type": "execute_result"
    }
   ],
   "source": [
    "feature_set"
   ]
  },
  {
   "cell_type": "code",
   "execution_count": 23,
   "id": "6bba870f-f1c9-46c6-83f7-afaea363187d",
   "metadata": {},
   "outputs": [
    {
     "data": {
      "text/plain": [
       "'BRCA'"
      ]
     },
     "execution_count": 23,
     "metadata": {},
     "output_type": "execute_result"
    }
   ],
   "source": [
    "fit_on"
   ]
  },
  {
   "cell_type": "code",
   "execution_count": 24,
   "id": "e072619d-723a-4bd1-aa59-3fdecd33dd8e",
   "metadata": {},
   "outputs": [
    {
     "data": {
      "text/plain": [
       "'BRCA'"
      ]
     },
     "execution_count": 24,
     "metadata": {},
     "output_type": "execute_result"
    }
   ],
   "source": [
    "df_to_clf.index.name"
   ]
  },
  {
   "cell_type": "code",
   "execution_count": 25,
   "id": "1060a785-3517-4889-b4cf-0cbf391f541e",
   "metadata": {},
   "outputs": [
    {
     "data": {
      "text/plain": [
       "29"
      ]
     },
     "execution_count": 25,
     "metadata": {},
     "output_type": "execute_result"
    }
   ],
   "source": [
    "len(inpt_RF_F1_means)"
   ]
  },
  {
   "cell_type": "code",
   "execution_count": 26,
   "id": "d66f4c56-b6b2-4d9e-83a2-a0cf8dfa8603",
   "metadata": {},
   "outputs": [
    {
     "data": {
      "text/plain": [
       "29"
      ]
     },
     "execution_count": 26,
     "metadata": {},
     "output_type": "execute_result"
    }
   ],
   "source": [
    "len(dec_RF_F1_means)"
   ]
  },
  {
   "cell_type": "code",
   "execution_count": 27,
   "id": "6ff0fb89-154c-42ad-8ab7-163be55aeed6",
   "metadata": {},
   "outputs": [
    {
     "data": {
      "image/png": "[encoded data removed]",
      "text/plain": [
       "<Figure size 640x480 with 1 Axes>"
      ]
     },
     "metadata": {},
     "output_type": "display_data"
    }
   ],
   "source": [
    "# Superimpose input on decoded\n",
    "    # Using two dicts:\n",
    "        # inpt_RF_F1_means\n",
    "        # dec_RF_F1_means\n",
    "\n",
    "plt.plot(list(inpt_RF_F1_means.keys()),\n",
    "       inpt_RF_F1_means.values(),label='input')\n",
    "plt.plot(list(dec_RF_F1_means.keys()),\n",
    "       dec_RF_F1_means.values(),label='decoded')\n",
    "# plt.plot(list(dec_RF_F1_means.keys()),\n",
    "#        dec_RF_F1_means.values(),label='decoded')\n",
    "\n",
    "plt.suptitle('Learning curves, '+df_to_clf.index.name+', decoded, fit on '+\n",
    "             df_to_clf.index.name)\n",
    "# plt.title('VAE input data: MAD 5K GEXP')\n",
    "plt.title('Input and decoded: ' + feature_set) # across or within cohorts\n",
    "plt.ylabel('Mean wighted F1 score')\n",
    "plt.xlabel('Sub-sample size')\n",
    "plt.annotate('Resamplings per step size = '+str(resmpl_count),\n",
    "                xy=(.5, .2), xycoords='figure fraction',\n",
    "                horizontalalignment='left', verticalalignment='top',\n",
    "                )\n",
    "plt.legend(loc=\"lower left\")\n",
    "plt.savefig(\n",
    "    'i_o/shuffle/super_1/'+\n",
    "    str(df_to_clf.index.name)+'.inpt_and_dec_fit_on.'+fit_on +'_'+feature_set+'_'+\n",
    "    str(list(inpt_RF_F1_means.keys())[0])+'-to-'+str(smp_sz)+\n",
    "    '_'+'rsmpls.'+str(resmpl_count)+\n",
    "    '_super_1.png', bbox_inches = 'tight')"
   ]
  },
  {
   "cell_type": "code",
   "execution_count": null,
   "id": "66a4d3d3-755e-4082-83bb-e6a1ce9b5d55",
   "metadata": {},
   "outputs": [],
   "source": [
    "# <note> what does this mean for generalization?"
   ]
  },
  {
   "cell_type": "markdown",
   "id": "b3bf8b00-d69f-4b3b-a4ca-10522337c78c",
   "metadata": {
    "tags": []
   },
   "source": [
    "### Shuffle latent feature values  \n",
    "Generate synthetic sample latent feature vector"
   ]
  },
  {
   "cell_type": "markdown",
   "id": "8c32b199-499e-4094-8dd7-3ba9b297268f",
   "metadata": {
    "tags": []
   },
   "source": [
    "#### Synth setup and data templates"
   ]
  },
  {
   "cell_type": "code",
   "execution_count": null,
   "id": "51a4a494-dbd9-4ae7-9604-2c092d6d854a",
   "metadata": {},
   "outputs": [],
   "source": [
    "# devel shuffle:"
   ]
  },
  {
   "cell_type": "code",
   "execution_count": null,
   "id": "fa5dee33-b02c-431e-9198-e27259f77d92",
   "metadata": {},
   "outputs": [],
   "source": [
    "chrt = 'ACC'\n",
    "latent_obj = pd.read_csv(\n",
    "    'i_o/shuffle/latent_feature_sets/ACC_fit_on.ACC_latent_object_latent_dim.10_epochs.155_mad_5k_across.tsv',\n",
    "        sep = '\\t', index_col = 0)"
   ]
  },
  {
   "cell_type": "code",
   "execution_count": null,
   "id": "eb63a007-f2a3-4811-b78c-0374749dd9f9",
   "metadata": {},
   "outputs": [],
   "source": [
    "\n",
    "latent_obj = pd.read_csv(\n",
    "    'i_o/shuffle/latent_feature_sets/i_o/shuffle/ACC_fit_on.ACC_latent_object_latent_dim.10_epochs.155_mad_5k_within.tsv',\n",
    "        sep = '\\t', index_col = 0)"
   ]
  },
  {
   "cell_type": "code",
   "execution_count": null,
   "id": "72e6ee16-1e32-4e9b-99e1-8e4ee7f35716",
   "metadata": {},
   "outputs": [],
   "source": [
    "# Super 1 production:\n",
    "    # Try 100 dims next"
   ]
  },
  {
   "cell_type": "code",
   "execution_count": 28,
   "id": "86f09f99-ef2b-4230-a77b-24f0994f93f8",
   "metadata": {},
   "outputs": [],
   "source": [
    "chrt = 'BRCA'\n",
    "latent_obj = pd.read_csv(\n",
    "    'i_o/shuffle/BRCA_fit_on.BRCA_latent_object_latent_dim.10_epochs.160_mad_5k_across_super_1.tsv',\n",
    "        sep = '\\t', index_col = 0)"
   ]
  },
  {
   "cell_type": "code",
   "execution_count": null,
   "id": "502f1496-8f2a-4821-a3e2-a13209c7d7f5",
   "metadata": {},
   "outputs": [],
   "source": [
    "i_o/shuffle/BRCA_fit_on.BRCA_latent_object_latent_dim.10_epochs.155_mad_5k_across.tsv"
   ]
  },
  {
   "cell_type": "code",
   "execution_count": null,
   "id": "dc0ae862-3224-49da-8728-76320a46ded5",
   "metadata": {},
   "outputs": [],
   "source": [
    "i_o/shuffle/BRCA_fit_on.BRCA_latent_object_latent_dim.10_epochs.155_mad_5k_within.tsv"
   ]
  },
  {
   "cell_type": "markdown",
   "id": "d117cd62-c906-4ab5-94ff-4034d919c656",
   "metadata": {
    "tags": []
   },
   "source": [
    "#### Boilerplate"
   ]
  },
  {
   "cell_type": "code",
   "execution_count": 29,
   "id": "3edf3da3-deaa-4b72-82ad-69272e7d6fde",
   "metadata": {},
   "outputs": [],
   "source": [
    "chrt = 'BRCA'\n",
    "latent_obj = pd.read_csv(\n",
    "    'i_o/shuffle/BRCA_fit_on.BRCA_latent_object_latent_dim.10_epochs.160_mad_5k_across_super_1.tsv',\n",
    "        sep = '\\t', index_col = 0)"
   ]
  },
  {
   "cell_type": "code",
   "execution_count": 30,
   "id": "4cfb9507-9dc8-46ed-a48f-9a646a0e42ed",
   "metadata": {},
   "outputs": [
    {
     "data": {
      "text/plain": [
       "(995, 11)"
      ]
     },
     "execution_count": 30,
     "metadata": {},
     "output_type": "execute_result"
    }
   ],
   "source": [
    "latent_obj.shape # 10 dimensional latent feature object for BRCA across, this goes to triple super plot\n",
    "    # after decoding and learning curve prediction object generation"
   ]
  },
  {
   "cell_type": "markdown",
   "id": "6518f552-68c8-4768-9b3a-d4e53586e185",
   "metadata": {
    "tags": []
   },
   "source": [
    "#### Synth main"
   ]
  },
  {
   "cell_type": "code",
   "execution_count": 42,
   "id": "4c958e67-4f59-4799-a98c-f0f0611f13fe",
   "metadata": {},
   "outputs": [],
   "source": [
    "del(synth_samples_per_subtype)"
   ]
  },
  {
   "cell_type": "code",
   "execution_count": 43,
   "id": "d8c823e1-bc51-4efa-9f3c-9580c73e25ab",
   "metadata": {
    "tags": []
   },
   "outputs": [
    {
     "name": "stdout",
     "output_type": "stream",
     "text": [
      "BRCA_1\n",
      "BRCA_2\n",
      "BRCA_3\n",
      "BRCA_4\n"
     ]
    }
   ],
   "source": [
    "synth_ndx_strt = 0\n",
    "\n",
    "# synth_samples_per_subtype = 100 # no, make dynamic\n",
    "\n",
    "synth_full_frame = pd.DataFrame()\n",
    "\n",
    "# Take the reset starting index position from end of loop to create next synthetic subtype set\n",
    "\n",
    "for subtype in sorted(latent_obj.Labels.unique()): # Subset the latent feature frame on each subtype\n",
    "    \n",
    "    print(subtype)\n",
    "    \n",
    "    # break\n",
    "    \n",
    "    sub = latent_obj[latent_obj.Labels == subtype]\n",
    "    synth_lat_feat_vec = []\n",
    "    \n",
    "    sub_len = len(sub)\n",
    "    \n",
    "    synth_index = ['SYNTH-' + chrt + '-' + jtem for jtem in [str(\n",
    "        item).zfill(5) for item in list(range(synth_ndx_strt,\n",
    "                                              sub_len + synth_ndx_strt))]]\n",
    "    # break\n",
    "    \n",
    "    synth_sub_frame = pd.DataFrame(index = synth_index)\n",
    "    synth_sub_frame.insert(0, 'Labels', sub.Labels[0])\n",
    "    \n",
    "    for lat_feat in sub.columns[1:]:               # Go through the subtype latent feature set,\n",
    "        # print(lat_feat)                            # skipping the Labels column\n",
    "        lat_col = sub.loc[:, lat_feat]\n",
    "        \n",
    "        rand_lat_feat_vals = lat_col.sample(\n",
    "            len(sub), replace = True, # <note> can toggle replacement off if taking less than number samples\n",
    "            # index = synth_index\n",
    "        ) # *\n",
    "        rand_lat_feat_vals.index = synth_index\n",
    "        synth_sub_frame = pd.concat(\n",
    "            [synth_sub_frame, rand_lat_feat_vals], axis = 1)\n",
    "        # break\n",
    "    synth_full_frame = pd.concat(\n",
    "        [synth_full_frame, synth_sub_frame], axis = 0)\n",
    "    # break\n",
    "    synth_ndx_strt = synth_ndx_strt + len(sub)\n",
    "    # break"
   ]
  },
  {
   "cell_type": "code",
   "execution_count": 44,
   "id": "c716daa5-0426-4d98-ad35-6d33c620c7b8",
   "metadata": {},
   "outputs": [
    {
     "data": {
      "text/html": [
       "<div>\n",
       "<style scoped>\n",
       "    .dataframe tbody tr th:only-of-type {\n",
       "        vertical-align: middle;\n",
       "    }\n",
       "\n",
       "    .dataframe tbody tr th {\n",
       "        vertical-align: top;\n",
       "    }\n",
       "\n",
       "    .dataframe thead th {\n",
       "        text-align: right;\n",
       "    }\n",
       "</style>\n",
       "<table border=\"1\" class=\"dataframe\">\n",
       "  <thead>\n",
       "    <tr style=\"text-align: right;\">\n",
       "      <th></th>\n",
       "      <th>Labels</th>\n",
       "      <th>0</th>\n",
       "      <th>1</th>\n",
       "      <th>2</th>\n",
       "      <th>3</th>\n",
       "      <th>4</th>\n",
       "      <th>5</th>\n",
       "      <th>6</th>\n",
       "      <th>7</th>\n",
       "      <th>8</th>\n",
       "      <th>9</th>\n",
       "    </tr>\n",
       "  </thead>\n",
       "  <tbody>\n",
       "    <tr>\n",
       "      <th>SYNTH-BRCA-00000</th>\n",
       "      <td>BRCA_1</td>\n",
       "      <td>0.390813</td>\n",
       "      <td>0.000000</td>\n",
       "      <td>2.292801</td>\n",
       "      <td>0.000000</td>\n",
       "      <td>3.275994</td>\n",
       "      <td>3.128514</td>\n",
       "      <td>5.065894</td>\n",
       "      <td>2.854327</td>\n",
       "      <td>2.230490</td>\n",
       "      <td>2.323371</td>\n",
       "    </tr>\n",
       "    <tr>\n",
       "      <th>SYNTH-BRCA-00001</th>\n",
       "      <td>BRCA_1</td>\n",
       "      <td>0.000000</td>\n",
       "      <td>0.000000</td>\n",
       "      <td>1.100748</td>\n",
       "      <td>1.125745</td>\n",
       "      <td>0.000000</td>\n",
       "      <td>0.000000</td>\n",
       "      <td>1.039768</td>\n",
       "      <td>1.945289</td>\n",
       "      <td>0.354525</td>\n",
       "      <td>2.737834</td>\n",
       "    </tr>\n",
       "    <tr>\n",
       "      <th>SYNTH-BRCA-00002</th>\n",
       "      <td>BRCA_1</td>\n",
       "      <td>0.000000</td>\n",
       "      <td>0.508648</td>\n",
       "      <td>0.000000</td>\n",
       "      <td>0.000000</td>\n",
       "      <td>3.017291</td>\n",
       "      <td>0.343181</td>\n",
       "      <td>0.000000</td>\n",
       "      <td>0.529828</td>\n",
       "      <td>1.695792</td>\n",
       "      <td>1.987387</td>\n",
       "    </tr>\n",
       "    <tr>\n",
       "      <th>SYNTH-BRCA-00003</th>\n",
       "      <td>BRCA_1</td>\n",
       "      <td>1.746946</td>\n",
       "      <td>0.937041</td>\n",
       "      <td>2.024484</td>\n",
       "      <td>1.799238</td>\n",
       "      <td>0.960860</td>\n",
       "      <td>2.037657</td>\n",
       "      <td>0.000000</td>\n",
       "      <td>1.223458</td>\n",
       "      <td>2.646553</td>\n",
       "      <td>1.081152</td>\n",
       "    </tr>\n",
       "    <tr>\n",
       "      <th>SYNTH-BRCA-00004</th>\n",
       "      <td>BRCA_1</td>\n",
       "      <td>0.000000</td>\n",
       "      <td>0.000000</td>\n",
       "      <td>2.059792</td>\n",
       "      <td>1.751955</td>\n",
       "      <td>1.152250</td>\n",
       "      <td>1.448333</td>\n",
       "      <td>0.000000</td>\n",
       "      <td>1.305048</td>\n",
       "      <td>2.778963</td>\n",
       "      <td>2.277759</td>\n",
       "    </tr>\n",
       "    <tr>\n",
       "      <th>...</th>\n",
       "      <td>...</td>\n",
       "      <td>...</td>\n",
       "      <td>...</td>\n",
       "      <td>...</td>\n",
       "      <td>...</td>\n",
       "      <td>...</td>\n",
       "      <td>...</td>\n",
       "      <td>...</td>\n",
       "      <td>...</td>\n",
       "      <td>...</td>\n",
       "      <td>...</td>\n",
       "    </tr>\n",
       "    <tr>\n",
       "      <th>SYNTH-BRCA-00990</th>\n",
       "      <td>BRCA_4</td>\n",
       "      <td>2.012911</td>\n",
       "      <td>1.337201</td>\n",
       "      <td>3.275453</td>\n",
       "      <td>0.683998</td>\n",
       "      <td>0.000000</td>\n",
       "      <td>0.000000</td>\n",
       "      <td>0.000000</td>\n",
       "      <td>1.570898</td>\n",
       "      <td>0.000000</td>\n",
       "      <td>2.361673</td>\n",
       "    </tr>\n",
       "    <tr>\n",
       "      <th>SYNTH-BRCA-00991</th>\n",
       "      <td>BRCA_4</td>\n",
       "      <td>3.478880</td>\n",
       "      <td>1.229306</td>\n",
       "      <td>3.913834</td>\n",
       "      <td>0.522975</td>\n",
       "      <td>0.000000</td>\n",
       "      <td>0.000000</td>\n",
       "      <td>0.000000</td>\n",
       "      <td>1.410941</td>\n",
       "      <td>5.086558</td>\n",
       "      <td>1.534763</td>\n",
       "    </tr>\n",
       "    <tr>\n",
       "      <th>SYNTH-BRCA-00992</th>\n",
       "      <td>BRCA_4</td>\n",
       "      <td>2.320537</td>\n",
       "      <td>1.360246</td>\n",
       "      <td>3.895362</td>\n",
       "      <td>1.588280</td>\n",
       "      <td>0.643470</td>\n",
       "      <td>0.000000</td>\n",
       "      <td>1.760524</td>\n",
       "      <td>3.374522</td>\n",
       "      <td>4.897415</td>\n",
       "      <td>0.000000</td>\n",
       "    </tr>\n",
       "    <tr>\n",
       "      <th>SYNTH-BRCA-00993</th>\n",
       "      <td>BRCA_4</td>\n",
       "      <td>1.309653</td>\n",
       "      <td>1.925288</td>\n",
       "      <td>1.531892</td>\n",
       "      <td>0.000000</td>\n",
       "      <td>0.000000</td>\n",
       "      <td>0.000000</td>\n",
       "      <td>0.000000</td>\n",
       "      <td>0.000000</td>\n",
       "      <td>0.000000</td>\n",
       "      <td>2.361673</td>\n",
       "    </tr>\n",
       "    <tr>\n",
       "      <th>SYNTH-BRCA-00994</th>\n",
       "      <td>BRCA_4</td>\n",
       "      <td>3.153794</td>\n",
       "      <td>2.506060</td>\n",
       "      <td>2.089842</td>\n",
       "      <td>0.000000</td>\n",
       "      <td>0.479067</td>\n",
       "      <td>0.000000</td>\n",
       "      <td>0.000000</td>\n",
       "      <td>4.517319</td>\n",
       "      <td>0.000000</td>\n",
       "      <td>2.596016</td>\n",
       "    </tr>\n",
       "  </tbody>\n",
       "</table>\n",
       "<p>995 rows × 11 columns</p>\n",
       "</div>"
      ],
      "text/plain": [
       "                  Labels         0         1         2         3         4  \\\n",
       "SYNTH-BRCA-00000  BRCA_1  0.390813  0.000000  2.292801  0.000000  3.275994   \n",
       "SYNTH-BRCA-00001  BRCA_1  0.000000  0.000000  1.100748  1.125745  0.000000   \n",
       "SYNTH-BRCA-00002  BRCA_1  0.000000  0.508648  0.000000  0.000000  3.017291   \n",
       "SYNTH-BRCA-00003  BRCA_1  1.746946  0.937041  2.024484  1.799238  0.960860   \n",
       "SYNTH-BRCA-00004  BRCA_1  0.000000  0.000000  2.059792  1.751955  1.152250   \n",
       "...                  ...       ...       ...       ...       ...       ...   \n",
       "SYNTH-BRCA-00990  BRCA_4  2.012911  1.337201  3.275453  0.683998  0.000000   \n",
       "SYNTH-BRCA-00991  BRCA_4  3.478880  1.229306  3.913834  0.522975  0.000000   \n",
       "SYNTH-BRCA-00992  BRCA_4  2.320537  1.360246  3.895362  1.588280  0.643470   \n",
       "SYNTH-BRCA-00993  BRCA_4  1.309653  1.925288  1.531892  0.000000  0.000000   \n",
       "SYNTH-BRCA-00994  BRCA_4  3.153794  2.506060  2.089842  0.000000  0.479067   \n",
       "\n",
       "                         5         6         7         8         9  \n",
       "SYNTH-BRCA-00000  3.128514  5.065894  2.854327  2.230490  2.323371  \n",
       "SYNTH-BRCA-00001  0.000000  1.039768  1.945289  0.354525  2.737834  \n",
       "SYNTH-BRCA-00002  0.343181  0.000000  0.529828  1.695792  1.987387  \n",
       "SYNTH-BRCA-00003  2.037657  0.000000  1.223458  2.646553  1.081152  \n",
       "SYNTH-BRCA-00004  1.448333  0.000000  1.305048  2.778963  2.277759  \n",
       "...                    ...       ...       ...       ...       ...  \n",
       "SYNTH-BRCA-00990  0.000000  0.000000  1.570898  0.000000  2.361673  \n",
       "SYNTH-BRCA-00991  0.000000  0.000000  1.410941  5.086558  1.534763  \n",
       "SYNTH-BRCA-00992  0.000000  1.760524  3.374522  4.897415  0.000000  \n",
       "SYNTH-BRCA-00993  0.000000  0.000000  0.000000  0.000000  2.361673  \n",
       "SYNTH-BRCA-00994  0.000000  0.000000  4.517319  0.000000  2.596016  \n",
       "\n",
       "[995 rows x 11 columns]"
      ]
     },
     "execution_count": 44,
     "metadata": {},
     "output_type": "execute_result"
    }
   ],
   "source": [
    "synth_full_frame # This is an ecoded synthetic object"
   ]
  },
  {
   "cell_type": "markdown",
   "id": "40b868da-13da-4e81-a68c-ab8305cebc0d",
   "metadata": {
    "tags": []
   },
   "source": [
    "#### Sythetic index generation"
   ]
  },
  {
   "cell_type": "code",
   "execution_count": 153,
   "id": "ea85f329-7ed7-453d-bfb5-35453e480604",
   "metadata": {},
   "outputs": [],
   "source": [
    "synth_full_frame.to_csv('i_o/shuffle/synthetic_feature_sets/'+\n",
    "                        chrt+'_'+\n",
    "                        str(synth_samples_per_subtype)+'_per_sbtyp.tsv',\n",
    "                        sep = '\\t')"
   ]
  },
  {
   "cell_type": "code",
   "execution_count": null,
   "id": "6c6aa057-622a-4c93-a960-7cc53b88940e",
   "metadata": {},
   "outputs": [],
   "source": [
    "# write / read the synthetic latent feature object - write part is done, cont blw\n",
    "# then decode it\n",
    "# Then run a random forest on it, custom synthetic subsampling range\n",
    "# Then plot the learning curve"
   ]
  },
  {
   "cell_type": "code",
   "execution_count": 154,
   "id": "96d820c1-064a-4769-a143-2a9c55eca64c",
   "metadata": {},
   "outputs": [],
   "source": [
    "synth_full_frame_test = pd.read_csv('i_o/shuffle/synthetic_feature_sets/'+\n",
    "                        chrt+'_'+\n",
    "                        str(synth_samples_per_subtype)+'_per_sbtyp.tsv',\n",
    "                        sep = '\\t',\n",
    "                                   index_col = 0)"
   ]
  },
  {
   "cell_type": "markdown",
   "id": "763ef59e-c55c-474f-b95b-75c2b26c8c42",
   "metadata": {
    "tags": []
   },
   "source": [
    "### Decode synthetic samples"
   ]
  },
  {
   "cell_type": "code",
   "execution_count": null,
   "id": "4b46387e-85ee-4593-94d8-afb14c0e7c4d",
   "metadata": {},
   "outputs": [],
   "source": [
    "# skipping i-o"
   ]
  },
  {
   "cell_type": "code",
   "execution_count": null,
   "id": "90953154-3d76-4332-8ebf-2e0df6a8f2f5",
   "metadata": {},
   "outputs": [],
   "source": [
    "decode_df"
   ]
  },
  {
   "cell_type": "code",
   "execution_count": 46,
   "id": "731db37c-5f8a-4e62-93f0-538c55f744d3",
   "metadata": {},
   "outputs": [
    {
     "data": {
      "text/plain": [
       "(995, 10)"
      ]
     },
     "execution_count": 46,
     "metadata": {},
     "output_type": "execute_result"
    }
   ],
   "source": [
    "encoder.predict(decode_df.iloc[:, 1:]).shape"
   ]
  },
  {
   "cell_type": "code",
   "execution_count": 47,
   "id": "ec621393-36ff-4319-8eb5-9a24a6abcbf6",
   "metadata": {},
   "outputs": [
    {
     "data": {
      "text/plain": [
       "numpy.ndarray"
      ]
     },
     "execution_count": 47,
     "metadata": {},
     "output_type": "execute_result"
    }
   ],
   "source": [
    "type(encoder.predict(decode_df.iloc[:, 1:]))"
   ]
  },
  {
   "cell_type": "code",
   "execution_count": 48,
   "id": "e944d49f-e719-4c38-9178-112a522d6976",
   "metadata": {},
   "outputs": [
    {
     "data": {
      "text/html": [
       "<div>\n",
       "<style scoped>\n",
       "    .dataframe tbody tr th:only-of-type {\n",
       "        vertical-align: middle;\n",
       "    }\n",
       "\n",
       "    .dataframe tbody tr th {\n",
       "        vertical-align: top;\n",
       "    }\n",
       "\n",
       "    .dataframe thead th {\n",
       "        text-align: right;\n",
       "    }\n",
       "</style>\n",
       "<table border=\"1\" class=\"dataframe\">\n",
       "  <thead>\n",
       "    <tr style=\"text-align: right;\">\n",
       "      <th></th>\n",
       "      <th>0</th>\n",
       "      <th>1</th>\n",
       "      <th>2</th>\n",
       "      <th>3</th>\n",
       "      <th>4</th>\n",
       "      <th>5</th>\n",
       "      <th>6</th>\n",
       "      <th>7</th>\n",
       "      <th>8</th>\n",
       "      <th>9</th>\n",
       "    </tr>\n",
       "  </thead>\n",
       "  <tbody>\n",
       "    <tr>\n",
       "      <th>SYNTH-BRCA-00000</th>\n",
       "      <td>0.390813</td>\n",
       "      <td>0.000000</td>\n",
       "      <td>2.292801</td>\n",
       "      <td>0.000000</td>\n",
       "      <td>3.275994</td>\n",
       "      <td>3.128514</td>\n",
       "      <td>5.065894</td>\n",
       "      <td>2.854327</td>\n",
       "      <td>2.230490</td>\n",
       "      <td>2.323371</td>\n",
       "    </tr>\n",
       "    <tr>\n",
       "      <th>SYNTH-BRCA-00001</th>\n",
       "      <td>0.000000</td>\n",
       "      <td>0.000000</td>\n",
       "      <td>1.100748</td>\n",
       "      <td>1.125745</td>\n",
       "      <td>0.000000</td>\n",
       "      <td>0.000000</td>\n",
       "      <td>1.039768</td>\n",
       "      <td>1.945289</td>\n",
       "      <td>0.354525</td>\n",
       "      <td>2.737834</td>\n",
       "    </tr>\n",
       "    <tr>\n",
       "      <th>SYNTH-BRCA-00002</th>\n",
       "      <td>0.000000</td>\n",
       "      <td>0.508648</td>\n",
       "      <td>0.000000</td>\n",
       "      <td>0.000000</td>\n",
       "      <td>3.017291</td>\n",
       "      <td>0.343181</td>\n",
       "      <td>0.000000</td>\n",
       "      <td>0.529828</td>\n",
       "      <td>1.695792</td>\n",
       "      <td>1.987387</td>\n",
       "    </tr>\n",
       "    <tr>\n",
       "      <th>SYNTH-BRCA-00003</th>\n",
       "      <td>1.746946</td>\n",
       "      <td>0.937041</td>\n",
       "      <td>2.024484</td>\n",
       "      <td>1.799238</td>\n",
       "      <td>0.960860</td>\n",
       "      <td>2.037657</td>\n",
       "      <td>0.000000</td>\n",
       "      <td>1.223458</td>\n",
       "      <td>2.646553</td>\n",
       "      <td>1.081152</td>\n",
       "    </tr>\n",
       "    <tr>\n",
       "      <th>SYNTH-BRCA-00004</th>\n",
       "      <td>0.000000</td>\n",
       "      <td>0.000000</td>\n",
       "      <td>2.059792</td>\n",
       "      <td>1.751955</td>\n",
       "      <td>1.152250</td>\n",
       "      <td>1.448333</td>\n",
       "      <td>0.000000</td>\n",
       "      <td>1.305048</td>\n",
       "      <td>2.778963</td>\n",
       "      <td>2.277759</td>\n",
       "    </tr>\n",
       "    <tr>\n",
       "      <th>...</th>\n",
       "      <td>...</td>\n",
       "      <td>...</td>\n",
       "      <td>...</td>\n",
       "      <td>...</td>\n",
       "      <td>...</td>\n",
       "      <td>...</td>\n",
       "      <td>...</td>\n",
       "      <td>...</td>\n",
       "      <td>...</td>\n",
       "      <td>...</td>\n",
       "    </tr>\n",
       "    <tr>\n",
       "      <th>SYNTH-BRCA-00990</th>\n",
       "      <td>2.012911</td>\n",
       "      <td>1.337201</td>\n",
       "      <td>3.275453</td>\n",
       "      <td>0.683998</td>\n",
       "      <td>0.000000</td>\n",
       "      <td>0.000000</td>\n",
       "      <td>0.000000</td>\n",
       "      <td>1.570898</td>\n",
       "      <td>0.000000</td>\n",
       "      <td>2.361673</td>\n",
       "    </tr>\n",
       "    <tr>\n",
       "      <th>SYNTH-BRCA-00991</th>\n",
       "      <td>3.478880</td>\n",
       "      <td>1.229306</td>\n",
       "      <td>3.913834</td>\n",
       "      <td>0.522975</td>\n",
       "      <td>0.000000</td>\n",
       "      <td>0.000000</td>\n",
       "      <td>0.000000</td>\n",
       "      <td>1.410941</td>\n",
       "      <td>5.086558</td>\n",
       "      <td>1.534763</td>\n",
       "    </tr>\n",
       "    <tr>\n",
       "      <th>SYNTH-BRCA-00992</th>\n",
       "      <td>2.320537</td>\n",
       "      <td>1.360246</td>\n",
       "      <td>3.895362</td>\n",
       "      <td>1.588280</td>\n",
       "      <td>0.643470</td>\n",
       "      <td>0.000000</td>\n",
       "      <td>1.760524</td>\n",
       "      <td>3.374522</td>\n",
       "      <td>4.897415</td>\n",
       "      <td>0.000000</td>\n",
       "    </tr>\n",
       "    <tr>\n",
       "      <th>SYNTH-BRCA-00993</th>\n",
       "      <td>1.309653</td>\n",
       "      <td>1.925288</td>\n",
       "      <td>1.531892</td>\n",
       "      <td>0.000000</td>\n",
       "      <td>0.000000</td>\n",
       "      <td>0.000000</td>\n",
       "      <td>0.000000</td>\n",
       "      <td>0.000000</td>\n",
       "      <td>0.000000</td>\n",
       "      <td>2.361673</td>\n",
       "    </tr>\n",
       "    <tr>\n",
       "      <th>SYNTH-BRCA-00994</th>\n",
       "      <td>3.153794</td>\n",
       "      <td>2.506060</td>\n",
       "      <td>2.089842</td>\n",
       "      <td>0.000000</td>\n",
       "      <td>0.479067</td>\n",
       "      <td>0.000000</td>\n",
       "      <td>0.000000</td>\n",
       "      <td>4.517319</td>\n",
       "      <td>0.000000</td>\n",
       "      <td>2.596016</td>\n",
       "    </tr>\n",
       "  </tbody>\n",
       "</table>\n",
       "<p>995 rows × 10 columns</p>\n",
       "</div>"
      ],
      "text/plain": [
       "                         0         1         2         3         4         5  \\\n",
       "SYNTH-BRCA-00000  0.390813  0.000000  2.292801  0.000000  3.275994  3.128514   \n",
       "SYNTH-BRCA-00001  0.000000  0.000000  1.100748  1.125745  0.000000  0.000000   \n",
       "SYNTH-BRCA-00002  0.000000  0.508648  0.000000  0.000000  3.017291  0.343181   \n",
       "SYNTH-BRCA-00003  1.746946  0.937041  2.024484  1.799238  0.960860  2.037657   \n",
       "SYNTH-BRCA-00004  0.000000  0.000000  2.059792  1.751955  1.152250  1.448333   \n",
       "...                    ...       ...       ...       ...       ...       ...   \n",
       "SYNTH-BRCA-00990  2.012911  1.337201  3.275453  0.683998  0.000000  0.000000   \n",
       "SYNTH-BRCA-00991  3.478880  1.229306  3.913834  0.522975  0.000000  0.000000   \n",
       "SYNTH-BRCA-00992  2.320537  1.360246  3.895362  1.588280  0.643470  0.000000   \n",
       "SYNTH-BRCA-00993  1.309653  1.925288  1.531892  0.000000  0.000000  0.000000   \n",
       "SYNTH-BRCA-00994  3.153794  2.506060  2.089842  0.000000  0.479067  0.000000   \n",
       "\n",
       "                         6         7         8         9  \n",
       "SYNTH-BRCA-00000  5.065894  2.854327  2.230490  2.323371  \n",
       "SYNTH-BRCA-00001  1.039768  1.945289  0.354525  2.737834  \n",
       "SYNTH-BRCA-00002  0.000000  0.529828  1.695792  1.987387  \n",
       "SYNTH-BRCA-00003  0.000000  1.223458  2.646553  1.081152  \n",
       "SYNTH-BRCA-00004  0.000000  1.305048  2.778963  2.277759  \n",
       "...                    ...       ...       ...       ...  \n",
       "SYNTH-BRCA-00990  0.000000  1.570898  0.000000  2.361673  \n",
       "SYNTH-BRCA-00991  0.000000  1.410941  5.086558  1.534763  \n",
       "SYNTH-BRCA-00992  1.760524  3.374522  4.897415  0.000000  \n",
       "SYNTH-BRCA-00993  0.000000  0.000000  0.000000  2.361673  \n",
       "SYNTH-BRCA-00994  0.000000  4.517319  0.000000  2.596016  \n",
       "\n",
       "[995 rows x 10 columns]"
      ]
     },
     "execution_count": 48,
     "metadata": {},
     "output_type": "execute_result"
    }
   ],
   "source": [
    "synth_full_frame.iloc[:, 1:]"
   ]
  },
  {
   "cell_type": "code",
   "execution_count": 50,
   "id": "e98c4da6-68fc-411d-999b-2eb4247fa075",
   "metadata": {},
   "outputs": [],
   "source": [
    "synth_decoded = pd.DataFrame(decoder.predict( # wild part:\n",
    "    synth_full_frame.iloc[:, 1:]\n",
    "                                            ),\n",
    "                       index=synth_full_frame.index, # Putting on synthetic index\n",
    "                             \n",
    "                             columns=decode_df.iloc[:, 1:].columns) # Putting on og columns"
   ]
  },
  {
   "cell_type": "code",
   "execution_count": 51,
   "id": "038e0748-1f8d-48a8-95e1-526a4c2b0a96",
   "metadata": {},
   "outputs": [
    {
     "data": {
      "text/plain": [
       "SYNTH-BRCA-00000    BRCA_1\n",
       "SYNTH-BRCA-00001    BRCA_1\n",
       "SYNTH-BRCA-00002    BRCA_1\n",
       "SYNTH-BRCA-00003    BRCA_1\n",
       "SYNTH-BRCA-00004    BRCA_1\n",
       "                     ...  \n",
       "SYNTH-BRCA-00990    BRCA_4\n",
       "SYNTH-BRCA-00991    BRCA_4\n",
       "SYNTH-BRCA-00992    BRCA_4\n",
       "SYNTH-BRCA-00993    BRCA_4\n",
       "SYNTH-BRCA-00994    BRCA_4\n",
       "Name: Labels, Length: 995, dtype: object"
      ]
     },
     "execution_count": 51,
     "metadata": {},
     "output_type": "execute_result"
    }
   ],
   "source": [
    "synth_full_frame.Labels"
   ]
  },
  {
   "cell_type": "code",
   "execution_count": 52,
   "id": "e43cceb0-8853-48f0-b8a6-08fc734a6cca",
   "metadata": {},
   "outputs": [],
   "source": [
    "synth_decoded_labeled = pd.concat( [pd.DataFrame(synth_full_frame.Labels), synth_decoded] , axis =1)"
   ]
  },
  {
   "cell_type": "code",
   "execution_count": 53,
   "id": "8e655999-0963-41a0-a970-634e5b9d4623",
   "metadata": {},
   "outputs": [
    {
     "data": {
      "text/html": [
       "<div>\n",
       "<style scoped>\n",
       "    .dataframe tbody tr th:only-of-type {\n",
       "        vertical-align: middle;\n",
       "    }\n",
       "\n",
       "    .dataframe tbody tr th {\n",
       "        vertical-align: top;\n",
       "    }\n",
       "\n",
       "    .dataframe thead th {\n",
       "        text-align: right;\n",
       "    }\n",
       "</style>\n",
       "<table border=\"1\" class=\"dataframe\">\n",
       "  <thead>\n",
       "    <tr style=\"text-align: right;\">\n",
       "      <th></th>\n",
       "      <th>Labels</th>\n",
       "      <th>N:GEXP::ALB:213:</th>\n",
       "      <th>N:GEXP::TG:7038:</th>\n",
       "      <th>N:GEXP::COL1A1:1277:</th>\n",
       "      <th>N:GEXP::FN1:2335:</th>\n",
       "      <th>N:GEXP::KRT5:3852:</th>\n",
       "      <th>N:GEXP::KRT14:3861:</th>\n",
       "      <th>N:GEXP::KRT6A:3853:</th>\n",
       "      <th>N:GEXP::ADAM6:8755:</th>\n",
       "      <th>N:GEXP::SERPINA1:5265:</th>\n",
       "      <th>...</th>\n",
       "      <th>N:GEXP::C14orf1:11161:</th>\n",
       "      <th>N:GEXP::SMCHD1:23347:</th>\n",
       "      <th>N:GEXP::ARL2BP:23568:</th>\n",
       "      <th>N:GEXP::PITPNB:23760:</th>\n",
       "      <th>N:GEXP::KDM5A:5927:</th>\n",
       "      <th>N:GEXP::CNIH:10175:</th>\n",
       "      <th>N:GEXP::ACADS:35:</th>\n",
       "      <th>N:GEXP::YIPF2:78992:</th>\n",
       "      <th>N:GEXP::MEPCE:56257:</th>\n",
       "      <th>N:GEXP::PPARG:5468:</th>\n",
       "    </tr>\n",
       "  </thead>\n",
       "  <tbody>\n",
       "    <tr>\n",
       "      <th>SYNTH-BRCA-00000</th>\n",
       "      <td>BRCA_1</td>\n",
       "      <td>0.000012</td>\n",
       "      <td>0.000144</td>\n",
       "      <td>0.024817</td>\n",
       "      <td>0.022086</td>\n",
       "      <td>0.000040</td>\n",
       "      <td>0.000032</td>\n",
       "      <td>0.000007</td>\n",
       "      <td>0.000612</td>\n",
       "      <td>0.001147</td>\n",
       "      <td>...</td>\n",
       "      <td>0.094124</td>\n",
       "      <td>0.104721</td>\n",
       "      <td>0.169636</td>\n",
       "      <td>0.080348</td>\n",
       "      <td>0.052946</td>\n",
       "      <td>0.160961</td>\n",
       "      <td>0.037551</td>\n",
       "      <td>0.054123</td>\n",
       "      <td>0.089139</td>\n",
       "      <td>0.007544</td>\n",
       "    </tr>\n",
       "    <tr>\n",
       "      <th>SYNTH-BRCA-00001</th>\n",
       "      <td>BRCA_1</td>\n",
       "      <td>0.008581</td>\n",
       "      <td>0.022428</td>\n",
       "      <td>0.184535</td>\n",
       "      <td>0.192103</td>\n",
       "      <td>0.014098</td>\n",
       "      <td>0.011539</td>\n",
       "      <td>0.008249</td>\n",
       "      <td>0.051224</td>\n",
       "      <td>0.029526</td>\n",
       "      <td>...</td>\n",
       "      <td>0.227959</td>\n",
       "      <td>0.284521</td>\n",
       "      <td>0.301236</td>\n",
       "      <td>0.240515</td>\n",
       "      <td>0.218895</td>\n",
       "      <td>0.274187</td>\n",
       "      <td>0.140589</td>\n",
       "      <td>0.169843</td>\n",
       "      <td>0.216613</td>\n",
       "      <td>0.108834</td>\n",
       "    </tr>\n",
       "    <tr>\n",
       "      <th>SYNTH-BRCA-00002</th>\n",
       "      <td>BRCA_1</td>\n",
       "      <td>0.018230</td>\n",
       "      <td>0.032683</td>\n",
       "      <td>0.182864</td>\n",
       "      <td>0.217830</td>\n",
       "      <td>0.015063</td>\n",
       "      <td>0.012765</td>\n",
       "      <td>0.009975</td>\n",
       "      <td>0.045974</td>\n",
       "      <td>0.065260</td>\n",
       "      <td>...</td>\n",
       "      <td>0.231786</td>\n",
       "      <td>0.331236</td>\n",
       "      <td>0.330525</td>\n",
       "      <td>0.245590</td>\n",
       "      <td>0.241553</td>\n",
       "      <td>0.313353</td>\n",
       "      <td>0.135238</td>\n",
       "      <td>0.162285</td>\n",
       "      <td>0.206646</td>\n",
       "      <td>0.128832</td>\n",
       "    </tr>\n",
       "    <tr>\n",
       "      <th>SYNTH-BRCA-00003</th>\n",
       "      <td>BRCA_1</td>\n",
       "      <td>0.001349</td>\n",
       "      <td>0.003690</td>\n",
       "      <td>0.032196</td>\n",
       "      <td>0.046734</td>\n",
       "      <td>0.002034</td>\n",
       "      <td>0.001237</td>\n",
       "      <td>0.000650</td>\n",
       "      <td>0.007566</td>\n",
       "      <td>0.009486</td>\n",
       "      <td>...</td>\n",
       "      <td>0.164984</td>\n",
       "      <td>0.308102</td>\n",
       "      <td>0.225005</td>\n",
       "      <td>0.196226</td>\n",
       "      <td>0.192268</td>\n",
       "      <td>0.227603</td>\n",
       "      <td>0.081059</td>\n",
       "      <td>0.113695</td>\n",
       "      <td>0.173557</td>\n",
       "      <td>0.034653</td>\n",
       "    </tr>\n",
       "    <tr>\n",
       "      <th>SYNTH-BRCA-00004</th>\n",
       "      <td>BRCA_1</td>\n",
       "      <td>0.002249</td>\n",
       "      <td>0.004657</td>\n",
       "      <td>0.062201</td>\n",
       "      <td>0.077929</td>\n",
       "      <td>0.001899</td>\n",
       "      <td>0.001323</td>\n",
       "      <td>0.000917</td>\n",
       "      <td>0.008712</td>\n",
       "      <td>0.012443</td>\n",
       "      <td>...</td>\n",
       "      <td>0.180791</td>\n",
       "      <td>0.267140</td>\n",
       "      <td>0.245721</td>\n",
       "      <td>0.181587</td>\n",
       "      <td>0.181975</td>\n",
       "      <td>0.247667</td>\n",
       "      <td>0.092799</td>\n",
       "      <td>0.104881</td>\n",
       "      <td>0.170235</td>\n",
       "      <td>0.046920</td>\n",
       "    </tr>\n",
       "    <tr>\n",
       "      <th>...</th>\n",
       "      <td>...</td>\n",
       "      <td>...</td>\n",
       "      <td>...</td>\n",
       "      <td>...</td>\n",
       "      <td>...</td>\n",
       "      <td>...</td>\n",
       "      <td>...</td>\n",
       "      <td>...</td>\n",
       "      <td>...</td>\n",
       "      <td>...</td>\n",
       "      <td>...</td>\n",
       "      <td>...</td>\n",
       "      <td>...</td>\n",
       "      <td>...</td>\n",
       "      <td>...</td>\n",
       "      <td>...</td>\n",
       "      <td>...</td>\n",
       "      <td>...</td>\n",
       "      <td>...</td>\n",
       "      <td>...</td>\n",
       "      <td>...</td>\n",
       "    </tr>\n",
       "    <tr>\n",
       "      <th>SYNTH-BRCA-00990</th>\n",
       "      <td>BRCA_4</td>\n",
       "      <td>0.003131</td>\n",
       "      <td>0.009643</td>\n",
       "      <td>0.053688</td>\n",
       "      <td>0.083589</td>\n",
       "      <td>0.008500</td>\n",
       "      <td>0.004955</td>\n",
       "      <td>0.003531</td>\n",
       "      <td>0.026723</td>\n",
       "      <td>0.010469</td>\n",
       "      <td>...</td>\n",
       "      <td>0.202701</td>\n",
       "      <td>0.360203</td>\n",
       "      <td>0.270557</td>\n",
       "      <td>0.261342</td>\n",
       "      <td>0.236731</td>\n",
       "      <td>0.246069</td>\n",
       "      <td>0.074257</td>\n",
       "      <td>0.133981</td>\n",
       "      <td>0.195404</td>\n",
       "      <td>0.052408</td>\n",
       "    </tr>\n",
       "    <tr>\n",
       "      <th>SYNTH-BRCA-00991</th>\n",
       "      <td>BRCA_4</td>\n",
       "      <td>0.000637</td>\n",
       "      <td>0.001883</td>\n",
       "      <td>0.020870</td>\n",
       "      <td>0.048191</td>\n",
       "      <td>0.001390</td>\n",
       "      <td>0.000643</td>\n",
       "      <td>0.000370</td>\n",
       "      <td>0.005788</td>\n",
       "      <td>0.002470</td>\n",
       "      <td>...</td>\n",
       "      <td>0.180312</td>\n",
       "      <td>0.327472</td>\n",
       "      <td>0.217180</td>\n",
       "      <td>0.222699</td>\n",
       "      <td>0.194899</td>\n",
       "      <td>0.247915</td>\n",
       "      <td>0.037716</td>\n",
       "      <td>0.078725</td>\n",
       "      <td>0.155843</td>\n",
       "      <td>0.020206</td>\n",
       "    </tr>\n",
       "    <tr>\n",
       "      <th>SYNTH-BRCA-00992</th>\n",
       "      <td>BRCA_4</td>\n",
       "      <td>0.000122</td>\n",
       "      <td>0.000686</td>\n",
       "      <td>0.017729</td>\n",
       "      <td>0.038314</td>\n",
       "      <td>0.000468</td>\n",
       "      <td>0.000223</td>\n",
       "      <td>0.000079</td>\n",
       "      <td>0.002143</td>\n",
       "      <td>0.001315</td>\n",
       "      <td>...</td>\n",
       "      <td>0.155091</td>\n",
       "      <td>0.216939</td>\n",
       "      <td>0.194330</td>\n",
       "      <td>0.175291</td>\n",
       "      <td>0.135411</td>\n",
       "      <td>0.211592</td>\n",
       "      <td>0.034915</td>\n",
       "      <td>0.077526</td>\n",
       "      <td>0.140420</td>\n",
       "      <td>0.009715</td>\n",
       "    </tr>\n",
       "    <tr>\n",
       "      <th>SYNTH-BRCA-00993</th>\n",
       "      <td>BRCA_4</td>\n",
       "      <td>0.022738</td>\n",
       "      <td>0.046086</td>\n",
       "      <td>0.127127</td>\n",
       "      <td>0.146674</td>\n",
       "      <td>0.046886</td>\n",
       "      <td>0.033668</td>\n",
       "      <td>0.026312</td>\n",
       "      <td>0.106734</td>\n",
       "      <td>0.042832</td>\n",
       "      <td>...</td>\n",
       "      <td>0.258898</td>\n",
       "      <td>0.383441</td>\n",
       "      <td>0.312964</td>\n",
       "      <td>0.303377</td>\n",
       "      <td>0.277605</td>\n",
       "      <td>0.278383</td>\n",
       "      <td>0.145625</td>\n",
       "      <td>0.208558</td>\n",
       "      <td>0.254378</td>\n",
       "      <td>0.142579</td>\n",
       "    </tr>\n",
       "    <tr>\n",
       "      <th>SYNTH-BRCA-00994</th>\n",
       "      <td>BRCA_4</td>\n",
       "      <td>0.000312</td>\n",
       "      <td>0.002467</td>\n",
       "      <td>0.035956</td>\n",
       "      <td>0.072263</td>\n",
       "      <td>0.002491</td>\n",
       "      <td>0.001206</td>\n",
       "      <td>0.000538</td>\n",
       "      <td>0.010547</td>\n",
       "      <td>0.001754</td>\n",
       "      <td>...</td>\n",
       "      <td>0.122290</td>\n",
       "      <td>0.402750</td>\n",
       "      <td>0.235299</td>\n",
       "      <td>0.236403</td>\n",
       "      <td>0.219495</td>\n",
       "      <td>0.194204</td>\n",
       "      <td>0.028278</td>\n",
       "      <td>0.087077</td>\n",
       "      <td>0.127018</td>\n",
       "      <td>0.024313</td>\n",
       "    </tr>\n",
       "  </tbody>\n",
       "</table>\n",
       "<p>995 rows × 5001 columns</p>\n",
       "</div>"
      ],
      "text/plain": [
       "                  Labels  N:GEXP::ALB:213:  N:GEXP::TG:7038:  \\\n",
       "SYNTH-BRCA-00000  BRCA_1          0.000012          0.000144   \n",
       "SYNTH-BRCA-00001  BRCA_1          0.008581          0.022428   \n",
       "SYNTH-BRCA-00002  BRCA_1          0.018230          0.032683   \n",
       "SYNTH-BRCA-00003  BRCA_1          0.001349          0.003690   \n",
       "SYNTH-BRCA-00004  BRCA_1          0.002249          0.004657   \n",
       "...                  ...               ...               ...   \n",
       "SYNTH-BRCA-00990  BRCA_4          0.003131          0.009643   \n",
       "SYNTH-BRCA-00991  BRCA_4          0.000637          0.001883   \n",
       "SYNTH-BRCA-00992  BRCA_4          0.000122          0.000686   \n",
       "SYNTH-BRCA-00993  BRCA_4          0.022738          0.046086   \n",
       "SYNTH-BRCA-00994  BRCA_4          0.000312          0.002467   \n",
       "\n",
       "                  N:GEXP::COL1A1:1277:  N:GEXP::FN1:2335:  N:GEXP::KRT5:3852:  \\\n",
       "SYNTH-BRCA-00000              0.024817           0.022086            0.000040   \n",
       "SYNTH-BRCA-00001              0.184535           0.192103            0.014098   \n",
       "SYNTH-BRCA-00002              0.182864           0.217830            0.015063   \n",
       "SYNTH-BRCA-00003              0.032196           0.046734            0.002034   \n",
       "SYNTH-BRCA-00004              0.062201           0.077929            0.001899   \n",
       "...                                ...                ...                 ...   \n",
       "SYNTH-BRCA-00990              0.053688           0.083589            0.008500   \n",
       "SYNTH-BRCA-00991              0.020870           0.048191            0.001390   \n",
       "SYNTH-BRCA-00992              0.017729           0.038314            0.000468   \n",
       "SYNTH-BRCA-00993              0.127127           0.146674            0.046886   \n",
       "SYNTH-BRCA-00994              0.035956           0.072263            0.002491   \n",
       "\n",
       "                  N:GEXP::KRT14:3861:  N:GEXP::KRT6A:3853:  \\\n",
       "SYNTH-BRCA-00000             0.000032             0.000007   \n",
       "SYNTH-BRCA-00001             0.011539             0.008249   \n",
       "SYNTH-BRCA-00002             0.012765             0.009975   \n",
       "SYNTH-BRCA-00003             0.001237             0.000650   \n",
       "SYNTH-BRCA-00004             0.001323             0.000917   \n",
       "...                               ...                  ...   \n",
       "SYNTH-BRCA-00990             0.004955             0.003531   \n",
       "SYNTH-BRCA-00991             0.000643             0.000370   \n",
       "SYNTH-BRCA-00992             0.000223             0.000079   \n",
       "SYNTH-BRCA-00993             0.033668             0.026312   \n",
       "SYNTH-BRCA-00994             0.001206             0.000538   \n",
       "\n",
       "                  N:GEXP::ADAM6:8755:  N:GEXP::SERPINA1:5265:  ...  \\\n",
       "SYNTH-BRCA-00000             0.000612                0.001147  ...   \n",
       "SYNTH-BRCA-00001             0.051224                0.029526  ...   \n",
       "SYNTH-BRCA-00002             0.045974                0.065260  ...   \n",
       "SYNTH-BRCA-00003             0.007566                0.009486  ...   \n",
       "SYNTH-BRCA-00004             0.008712                0.012443  ...   \n",
       "...                               ...                     ...  ...   \n",
       "SYNTH-BRCA-00990             0.026723                0.010469  ...   \n",
       "SYNTH-BRCA-00991             0.005788                0.002470  ...   \n",
       "SYNTH-BRCA-00992             0.002143                0.001315  ...   \n",
       "SYNTH-BRCA-00993             0.106734                0.042832  ...   \n",
       "SYNTH-BRCA-00994             0.010547                0.001754  ...   \n",
       "\n",
       "                  N:GEXP::C14orf1:11161:  N:GEXP::SMCHD1:23347:  \\\n",
       "SYNTH-BRCA-00000                0.094124               0.104721   \n",
       "SYNTH-BRCA-00001                0.227959               0.284521   \n",
       "SYNTH-BRCA-00002                0.231786               0.331236   \n",
       "SYNTH-BRCA-00003                0.164984               0.308102   \n",
       "SYNTH-BRCA-00004                0.180791               0.267140   \n",
       "...                                  ...                    ...   \n",
       "SYNTH-BRCA-00990                0.202701               0.360203   \n",
       "SYNTH-BRCA-00991                0.180312               0.327472   \n",
       "SYNTH-BRCA-00992                0.155091               0.216939   \n",
       "SYNTH-BRCA-00993                0.258898               0.383441   \n",
       "SYNTH-BRCA-00994                0.122290               0.402750   \n",
       "\n",
       "                  N:GEXP::ARL2BP:23568:  N:GEXP::PITPNB:23760:  \\\n",
       "SYNTH-BRCA-00000               0.169636               0.080348   \n",
       "SYNTH-BRCA-00001               0.301236               0.240515   \n",
       "SYNTH-BRCA-00002               0.330525               0.245590   \n",
       "SYNTH-BRCA-00003               0.225005               0.196226   \n",
       "SYNTH-BRCA-00004               0.245721               0.181587   \n",
       "...                                 ...                    ...   \n",
       "SYNTH-BRCA-00990               0.270557               0.261342   \n",
       "SYNTH-BRCA-00991               0.217180               0.222699   \n",
       "SYNTH-BRCA-00992               0.194330               0.175291   \n",
       "SYNTH-BRCA-00993               0.312964               0.303377   \n",
       "SYNTH-BRCA-00994               0.235299               0.236403   \n",
       "\n",
       "                  N:GEXP::KDM5A:5927:  N:GEXP::CNIH:10175:  N:GEXP::ACADS:35:  \\\n",
       "SYNTH-BRCA-00000             0.052946             0.160961           0.037551   \n",
       "SYNTH-BRCA-00001             0.218895             0.274187           0.140589   \n",
       "SYNTH-BRCA-00002             0.241553             0.313353           0.135238   \n",
       "SYNTH-BRCA-00003             0.192268             0.227603           0.081059   \n",
       "SYNTH-BRCA-00004             0.181975             0.247667           0.092799   \n",
       "...                               ...                  ...                ...   \n",
       "SYNTH-BRCA-00990             0.236731             0.246069           0.074257   \n",
       "SYNTH-BRCA-00991             0.194899             0.247915           0.037716   \n",
       "SYNTH-BRCA-00992             0.135411             0.211592           0.034915   \n",
       "SYNTH-BRCA-00993             0.277605             0.278383           0.145625   \n",
       "SYNTH-BRCA-00994             0.219495             0.194204           0.028278   \n",
       "\n",
       "                  N:GEXP::YIPF2:78992:  N:GEXP::MEPCE:56257:  \\\n",
       "SYNTH-BRCA-00000              0.054123              0.089139   \n",
       "SYNTH-BRCA-00001              0.169843              0.216613   \n",
       "SYNTH-BRCA-00002              0.162285              0.206646   \n",
       "SYNTH-BRCA-00003              0.113695              0.173557   \n",
       "SYNTH-BRCA-00004              0.104881              0.170235   \n",
       "...                                ...                   ...   \n",
       "SYNTH-BRCA-00990              0.133981              0.195404   \n",
       "SYNTH-BRCA-00991              0.078725              0.155843   \n",
       "SYNTH-BRCA-00992              0.077526              0.140420   \n",
       "SYNTH-BRCA-00993              0.208558              0.254378   \n",
       "SYNTH-BRCA-00994              0.087077              0.127018   \n",
       "\n",
       "                  N:GEXP::PPARG:5468:  \n",
       "SYNTH-BRCA-00000             0.007544  \n",
       "SYNTH-BRCA-00001             0.108834  \n",
       "SYNTH-BRCA-00002             0.128832  \n",
       "SYNTH-BRCA-00003             0.034653  \n",
       "SYNTH-BRCA-00004             0.046920  \n",
       "...                               ...  \n",
       "SYNTH-BRCA-00990             0.052408  \n",
       "SYNTH-BRCA-00991             0.020206  \n",
       "SYNTH-BRCA-00992             0.009715  \n",
       "SYNTH-BRCA-00993             0.142579  \n",
       "SYNTH-BRCA-00994             0.024313  \n",
       "\n",
       "[995 rows x 5001 columns]"
      ]
     },
     "execution_count": 53,
     "metadata": {},
     "output_type": "execute_result"
    }
   ],
   "source": [
    "synth_decoded_labeled"
   ]
  },
  {
   "cell_type": "code",
   "execution_count": null,
   "id": "96bbef20-7ee5-401a-8693-ca08affa1e32",
   "metadata": {},
   "outputs": [],
   "source": [
    "# to synth_clf object build for super 1 plot"
   ]
  },
  {
   "cell_type": "code",
   "execution_count": null,
   "id": "16460730-8cb5-41fc-9b46-3eb1d6c5e7cb",
   "metadata": {},
   "outputs": [],
   "source": [
    "synth_full_frame"
   ]
  },
  {
   "cell_type": "markdown",
   "id": "d9fdc926-be84-4995-8685-772cbc09c3c0",
   "metadata": {
    "tags": []
   },
   "source": [
    "### Classify on synthetic samples"
   ]
  },
  {
   "cell_type": "code",
   "execution_count": 54,
   "id": "e43b99d7-978f-4ace-96cb-717b70d57dcc",
   "metadata": {},
   "outputs": [],
   "source": [
    "df_to_clf = synth_decoded_labeled"
   ]
  },
  {
   "cell_type": "code",
   "execution_count": 55,
   "id": "1606fb5c-4e7b-4194-a60d-55d0c544177f",
   "metadata": {},
   "outputs": [
    {
     "name": "stdout",
     "output_type": "stream",
     "text": [
      "10\n",
      "15\n",
      "20\n",
      "25\n",
      "30\n",
      "35\n",
      "40\n",
      "45\n",
      "50\n",
      "55\n",
      "60\n",
      "65\n",
      "70\n",
      "75\n",
      "80\n",
      "85\n",
      "90\n",
      "95\n",
      "100\n",
      "105\n",
      "110\n",
      "115\n",
      "120\n",
      "125\n",
      "130\n",
      "135\n",
      "140\n",
      "145\n",
      "150\n",
      "brca_across clf dict 3, super 1 done\n"
     ]
    }
   ],
   "source": [
    "# Superimpose dictionary 2 (decoded) samples build, version super 1\n",
    "\n",
    "# dec_RF_F1_means = {}\n",
    "synth_RF_F1_means = {}\n",
    "\n",
    "for smp_sz in list(range(10, 151, 5)): # BRCA <--- across run, mirror input steps above\n",
    "    \n",
    "    print(smp_sz)\n",
    "\n",
    "    RF_output = []\n",
    "    # resmpl_count = 150\n",
    "    for r in list(range(0, resmpl_count)):\n",
    "        \n",
    "        labeled_sample_subset_frame = df_to_clf.sample(smp_sz) # df_to_clf set as decoded object now, not the input\n",
    "        X = labeled_sample_subset_frame.iloc[:, 1:]\n",
    "        y = labeled_sample_subset_frame.iloc[:, 0]\n",
    "        X_train, X_test, y_train, y_test = train_test_split(\n",
    "                    X, y,\n",
    "                        test_size=0.33,\n",
    "                            )\n",
    "        RF_clf = RandomForestClassifier(max_depth=2)\n",
    "        RF_clf.fit(X_train, y_train)\n",
    "\n",
    "        RF_F1_scr = f1_score(y_test, RF_clf.predict(X_test), average='weighted')\n",
    "        RF_output.append(RF_F1_scr)\n",
    "           \n",
    "    synth_RF_F1_means[smp_sz] = round(mean(RF_output), 3)\n",
    "\n",
    "print('brca_across clf dict 3, super 1 done')"
   ]
  },
  {
   "cell_type": "code",
   "execution_count": 56,
   "id": "e1704085-bf34-4763-8eba-8e13427ae08c",
   "metadata": {},
   "outputs": [],
   "source": [
    "df_to_clf.index.name"
   ]
  },
  {
   "cell_type": "code",
   "execution_count": 58,
   "id": "b2534c6b-c2f0-4a81-9b85-399648b63fac",
   "metadata": {},
   "outputs": [],
   "source": [
    "df_to_clf.index.name = 'BRCA' # go back and insert this somewhere"
   ]
  },
  {
   "cell_type": "code",
   "execution_count": 59,
   "id": "2febca40-7f60-4321-b376-70838355730d",
   "metadata": {},
   "outputs": [
    {
     "data": {
      "text/plain": [
       "'BRCA'"
      ]
     },
     "execution_count": 59,
     "metadata": {},
     "output_type": "execute_result"
    }
   ],
   "source": [
    "df_to_clf.index.name # pre-super"
   ]
  },
  {
   "cell_type": "code",
   "execution_count": 62,
   "id": "e0e1b200-98f0-41a6-b162-c14230e2b763",
   "metadata": {},
   "outputs": [
    {
     "data": {
      "image/png": "[encoded data removed]",
      "text/plain": [
       "<Figure size 640x480 with 1 Axes>"
      ]
     },
     "metadata": {},
     "output_type": "display_data"
    }
   ],
   "source": [
    "# Superimpose input on decoded\n",
    "    # Using two dicts:\n",
    "        # inpt_RF_F1_means\n",
    "        # dec_RF_F1_means\n",
    "\n",
    "plt.plot(list(inpt_RF_F1_means.keys()),\n",
    "       inpt_RF_F1_means.values(),label='input', color = 'blue')\n",
    "plt.plot(list(dec_RF_F1_means.keys()),\n",
    "       dec_RF_F1_means.values(),label='decoded', color = 'green')\n",
    "plt.plot(list(synth_RF_F1_means.keys()),\n",
    "       synth_RF_F1_means.values(),label='synthetic', color = 'orange')\n",
    "\n",
    "plt.suptitle('Learning curves, '+df_to_clf.index.name+', decoded, fit on '+\n",
    "             df_to_clf.index.name)\n",
    "# plt.title('VAE input data: MAD 5K GEXP')\n",
    "plt.title('Input, decoded, and synthetic: ' + feature_set) # across or within cohorts\n",
    "plt.ylabel('Mean wighted F1 score')\n",
    "plt.xlabel('Sub-sample size')\n",
    "plt.annotate('Resamplings per step size = '+str(resmpl_count),\n",
    "                xy=(.5, .2), xycoords='figure fraction',\n",
    "                horizontalalignment='left', verticalalignment='top',\n",
    "                )\n",
    "plt.legend(loc=\"lower left\")\n",
    "plt.savefig(\n",
    "    'i_o/shuffle/super_1/'+\n",
    "    str(df_to_clf.index.name)+'.inpt_and_dec_fit_on.'+fit_on +'_'+feature_set+'_'+\n",
    "    str(list(inpt_RF_F1_means.keys())[0])+'-to-'+str(smp_sz)+\n",
    "    '_'+'rsmpls.'+str(resmpl_count)+\n",
    "    '_super_1_synth.png', bbox_inches = 'tight')"
   ]
  },
  {
   "cell_type": "code",
   "execution_count": null,
   "id": "bf5c9bf8-2d06-46fd-933e-effd1e9c1615",
   "metadata": {},
   "outputs": [],
   "source": [
    "# End shuffle super 1\n",
    "# Main idea: Synthetic data generation demonstrated for improving cancer subtype prediction\n",
    "# could be repurposed for cancer drug response prediction\n",
    "\n",
    "# Case in point: took sample of ~25 subtypes, expanded cohort with synthetic gene experession samples\n",
    "# improved mean F1 weighted subtype classification with synthetic data generationa"
   ]
  },
  {
   "cell_type": "code",
   "execution_count": null,
   "id": "cbbbbd7c-4535-4158-bfef-cc5b1ef90c07",
   "metadata": {},
   "outputs": [],
   "source": [
    "# Next actions: - (priority)\n",
    "    # audit the manuscript - 2\n",
    "    # run on miR and METH data types\n",
    "    # extract best model and feature set from big results matrix\n",
    "    # Do a sample count, sort, and threshold on the 25 cohorts - 1\n",
    "        # include LGGGBM?\n",
    "    # Do some work directly on LGGGBM "
   ]
  },
  {
   "cell_type": "markdown",
   "id": "60fa9787-462c-4dd6-b944-55330cd7a73d",
   "metadata": {
    "tags": []
   },
   "source": [
    "### Shuffle devel"
   ]
  },
  {
   "cell_type": "code",
   "execution_count": null,
   "id": "fe9af534-2d28-4ee0-92ba-4224f753a4db",
   "metadata": {},
   "outputs": [],
   "source": [
    "# End 2022-11-28, Monday afternoon\n",
    "# Build-out the super position plots\n",
    "    # work on file naming\n",
    "# Last line of paper: can do better\n",
    "\n",
    "# Class imbalance is optimization,\n",
    "    # deal with later\n",
    "    # maintaining class imbalanace could return closer to input F1\n",
    "    # because the larger classes might be better defined"
   ]
  },
  {
   "cell_type": "code",
   "execution_count": null,
   "id": "2897bd50-b4df-4f65-b754-cdec553ef792",
   "metadata": {},
   "outputs": [],
   "source": [
    "target ouput dir:\n",
    "i_o/shuffle/synthetic_feature_sets"
   ]
  },
  {
   "cell_type": "code",
   "execution_count": null,
   "id": "30dde3d0-9c84-4800-94f2-e417468ed16d",
   "metadata": {},
   "outputs": [],
   "source": [
    "[str(\n",
    "    item).zfill(\n",
    "    5) for item in list(range(\n",
    "    synth_ndx_strt, synth_samples_per_subtype + synth_ndx_strt,))] # production"
   ]
  },
  {
   "cell_type": "code",
   "execution_count": null,
   "id": "887599c3-bfd4-4d8f-b240-794876daa461",
   "metadata": {
    "tags": []
   },
   "outputs": [],
   "source": [
    "# Oringinal RF only learning curve block \n",
    "\n",
    "\n",
    "# DataFrame to Random Forest TOGGLE\n",
    "\n",
    "# df_to_rf = acc_5k_across # <---\n",
    "# feature_selection_method = 'across_cohort'\n",
    "\n",
    "# df_to_rf = acc_5k_within # <---\n",
    "# feature_selection_method = 'within_cohort'\n",
    "\n",
    "# df_to_rf = brca_5k_within # <---\n",
    "# feature_selection_method = 'within_cohort'\n",
    "\n",
    "print('starting learning curve generation on labled feature set')\n",
    "npt_RF_F1_dct = {}\n",
    "\n",
    "\n",
    "RF_F1_means = {}\n",
    "for smp_sz in list(range(50, 251, 10)): # BRCA <---\n",
    "# for smp_sz in list(range(15, 76, 5)): # ACC <---\n",
    "    \n",
    "    print(smp_sz)\n",
    "    # print(' ')\n",
    "    \n",
    "    stdev_lst = []\n",
    "    mean_lst = []\n",
    "    \n",
    "    RF_output = []\n",
    "    resmpl_count = 150\n",
    "    for r in list(range(0, resmpl_count)):\n",
    "        \n",
    "        labeled_sample_subset_frame = df_to_rf.sample(smp_sz)\n",
    "        X = labeled_sample_subset_frame.iloc[:, 1:]\n",
    "        y = labeled_sample_subset_frame.iloc[:, 0]\n",
    "        X_train, X_test, y_train, y_test = train_test_split(\n",
    "                    X, y,\n",
    "                        test_size=0.33,\n",
    "                            )\n",
    "        RF_clf = RandomForestClassifier(max_depth=2)\n",
    "        RF_clf.fit(X_train, y_train)\n",
    "\n",
    "        RF_F1_scr = f1_score(y_test, RF_clf.predict(X_test), average='weighted')\n",
    "        RF_output.append(RF_F1_scr)\n",
    "        # print(RF_output)\n",
    "        \n",
    "        if len(RF_output) > 1:\n",
    "            stdev_lst.append(stdev(RF_output))\n",
    "            mean_lst.append(mean(RF_output))\n",
    "        # Active learning insertion point    \n",
    "           \n",
    "    RF_F1_means[smp_sz] = round(mean(RF_output), 3)\n",
    "    \n",
    "    # INPUT dict\n",
    "    npt_RF_F1_dct[smp_sz] = RF_output\n",
    "    # break\n",
    "print('Learning curve object generated, send to plot function')"
   ]
  },
  {
   "cell_type": "code",
   "execution_count": null,
   "id": "f0fc6d6b-3a77-42e9-96e6-3a569e874510",
   "metadata": {
    "tags": []
   },
   "outputs": [],
   "source": [
    "# Decision tree inclusion template, simplify with using same variable \n",
    "# for clf in a loop\n",
    "RF_F1_dct = {}\n",
    "RF_F1_means = {}\n",
    "DT_F1_means = {}\n",
    "# for smp_sz in list(range(20, 251, 10)):\n",
    "for smp_sz in list(range(15, 76, 5)):       # Toggle on for ACC  <---------\n",
    "    \n",
    "    print(smp_sz)\n",
    "    # print(' ')\n",
    "    \n",
    "    stdev_lst = []\n",
    "    mean_lst = []\n",
    "    \n",
    "    RF_output = []\n",
    "    DT_output = []\n",
    "    resmpl_count = 150\n",
    "    for r in list(range(0, resmpl_count)):\n",
    "        \n",
    "        labeled_sample_subset_frame = df_to_clf.sample(smp_sz)\n",
    "        X = labeled_sample_subset_frame.iloc[:, 1:]\n",
    "        y = labeled_sample_subset_frame.iloc[:, 0]\n",
    "        X_train, X_test, y_train, y_test = train_test_split(\n",
    "                    X, y,\n",
    "                        test_size=0.33,\n",
    "                            )\n",
    "        RF_clf = RandomForestClassifier(max_depth=2)\n",
    "        DT_clf = DecisionTreeClassifier()\n",
    "        RF_clf.fit(X_train, y_train)\n",
    "        DT_clf.fit(X_train, y_train)\n",
    "\n",
    "        RF_F1_scr = f1_score(y_test, RF_clf.predict(X_test), average='weighted')\n",
    "        DT_F1_scr = f1_score(y_test, DT_clf.predict(X_test), average='weighted')\n",
    "        RF_output.append(RF_F1_scr)\n",
    "        DT_output.append(DT_F1_scr)\n",
    "        \n",
    "        if len(RF_output) > 1:\n",
    "            stdev_lst.append(stdev(RF_output))\n",
    "            mean_lst.append(mean(RF_output)) # running mean for active learning\n",
    "           \n",
    "    RF_F1_means[smp_sz] = round(mean(RF_output), 3)\n",
    "    DT_F1_means[smp_sz] = round(mean(DT_output), 3)\n",
    "    RF_F1_dct[smp_sz] = RF_output\n",
    "print('clf done')"
   ]
  },
  {
   "cell_type": "code",
   "execution_count": 70,
   "id": "23757073-3c85-4750-a7bb-dafa98dde18a",
   "metadata": {
    "tags": []
   },
   "outputs": [
    {
     "data": {
      "image/png": "[encoded data removed]",
      "text/plain": [
       "<Figure size 640x480 with 1 Axes>"
      ]
     },
     "metadata": {},
     "output_type": "display_data"
    }
   ],
   "source": [
    "# DT overlay template\n",
    "clf = 'random forest'\n",
    "plt.plot(list(RF_F1_means.keys()),\n",
    "       RF_F1_means.values(),label=clf)\n",
    "plt.plot(list(DT_F1_means.keys()),\n",
    "       DT_F1_means.values(),label='dt')\n",
    "plt.suptitle('Learning curves, '+df_to_clf.index.name+', decoded, fit on '+\n",
    "             df_to_clf.index.name)\n",
    "# plt.title('VAE input data: MAD 5K GEXP')\n",
    "plt.title('Decoded: ' + feature_set) # across or within cohorts\n",
    "plt.ylabel('F1 score')\n",
    "plt.xlabel('Sub-sample size, resampling with replacement')\n",
    "plt.annotate('Resamplings per step size = '+str(resmpl_count),\n",
    "                xy=(.5, .2), xycoords='figure fraction',\n",
    "                horizontalalignment='left', verticalalignment='top',\n",
    "                )\n",
    "plt.legend(loc=\"lower left\")\n",
    "plt.savefig(\n",
    "    'i_o/shuffle/decoded_curves/'+\n",
    "    str(df_to_clf.index.name)+'.decoded_fit_on.'+fit_on +'_'+feature_set+'_'+\n",
    "    str(list(RF_F1_means.keys())[0])+'-to-'+str(smp_sz)+\n",
    "    '_'+'rsmpls.'+str(resmpl_count)+\n",
    "    '_v0.png', bbox_inches = 'tight')"
   ]
  },
  {
   "cell_type": "code",
   "execution_count": null,
   "id": "596e46bf-c5a6-45bd-9a8f-c6d749225805",
   "metadata": {},
   "outputs": [],
   "source": [
    "# <note> test preserving original subtype sample ratios"
   ]
  },
  {
   "cell_type": "code",
   "execution_count": null,
   "id": "8e919a1d-1f81-4713-890f-588187b7209d",
   "metadata": {},
   "outputs": [],
   "source": [
    "# Syth original\n",
    "\n",
    "synth_ndx_strt = 0\n",
    "synth_samples_per_subtype = 100\n",
    "\n",
    "synth_full_frame = pd.DataFrame()\n",
    "\n",
    "# Take the reset starting index position from end of loop to create next synthetic subtype set\n",
    "for subtype in sorted(latent_obj.Labels.unique()): # Subset the latent feature frame on each subtype\n",
    "    print(subtype)\n",
    "    sub = latent_obj[latent_obj.Labels == subtype]\n",
    "    synth_lat_feat_vec = []\n",
    "    \n",
    "    synth_index = ['SYNTH-' + chrt + '-' + jtem for jtem in [str(\n",
    "        item).zfill(5) for item in list(range(synth_ndx_strt,\n",
    "                                              synth_samples_per_subtype + synth_ndx_strt))]]\n",
    "    # break\n",
    "    \n",
    "    synth_sub_frame = pd.DataFrame(index = synth_index)\n",
    "    synth_sub_frame.insert(0, 'Labels', sub.Labels[0])\n",
    "    for lat_feat in sub.columns[1:]:               # Go through the subtype latent feature set,\n",
    "        # print(lat_feat)                            # skipping the Labels column\n",
    "        lat_col = sub.loc[:, lat_feat]\n",
    "        \n",
    "        rand_lat_feat_vals = lat_col.sample(\n",
    "            synth_samples_per_subtype, replace = True,\n",
    "            # index = synth_index\n",
    "        ) # *\n",
    "        rand_lat_feat_vals.index = synth_index\n",
    "        synth_sub_frame = pd.concat(\n",
    "            [synth_sub_frame, rand_lat_feat_vals], axis = 1)\n",
    "        # break\n",
    "    synth_full_frame = pd.concat(\n",
    "        [synth_full_frame, synth_sub_frame], axis = 0)\n",
    "    # break\n",
    "    synth_ndx_strt = synth_ndx_strt + synth_samples_per_subtype\n",
    "    # break"
   ]
  }
 ],
 "metadata": {
  "kernelspec": {
   "display_name": "Python 3 (ipykernel)",
   "language": "python",
   "name": "python3"
  },
  "language_info": {
   "codemirror_mode": {
    "name": "ipython",
    "version": 3
   },
   "file_extension": ".py",
   "mimetype": "text/x-python",
   "name": "python",
   "nbconvert_exporter": "python",
   "pygments_lexer": "ipython3",
   "version": "3.9.13"
  }
 },
 "nbformat": 4,
 "nbformat_minor": 5
}
