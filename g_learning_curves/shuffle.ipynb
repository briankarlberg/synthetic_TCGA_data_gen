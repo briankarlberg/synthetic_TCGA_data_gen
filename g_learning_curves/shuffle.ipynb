{
 "cells": [
  {
   "cell_type": "markdown",
   "id": "b2eb00fc-266f-4163-b4cf-69d0a150ba02",
   "metadata": {
    "jp-MarkdownHeadingCollapsed": true,
    "tags": []
   },
   "source": [
    "### c_Shuffle latent feature values  \n",
    "Subset subtype, randomly select a value from each latent feature vector  \n",
    "Collect selected values into a synthetic sample latent featue vector\n",
    "Decode the synthetic latent samples to synthetic gene expression space samples\n",
    "Predict on mix of real and synthetic data to make a superimposed learning curve  "
   ]
  },
  {
   "cell_type": "code",
   "execution_count": 6,
   "id": "55882223-c7ce-44a9-afb0-a79e3e3000fb",
   "metadata": {},
   "outputs": [
    {
     "name": "stdout",
     "output_type": "stream",
     "text": [
      "Variable                 Type        Data/Info\n",
      "----------------------------------------------\n",
      "DecisionTreeClassifier   ABCMeta     <class 'sklearn.tree._cla<...>.DecisionTreeClassifier'>\n",
      "RandomForestClassifier   ABCMeta     <class 'sklearn.ensemble.<...>.RandomForestClassifier'>\n",
      "f1_score                 function    <function f1_score at 0x12b5e35e0>\n",
      "figure                   function    <function figure at 0x14ac1c790>\n",
      "glob                     module      <module 'glob' from '/Use<...>9/lib/python3.9/glob.py'>\n",
      "mean                     function    <function mean at 0x12f77f0d0>\n",
      "pd                       module      <module 'pandas' from '/U<...>ages/pandas/__init__.py'>\n",
      "plt                      module      <module 'matplotlib.pyplo<...>es/matplotlib/pyplot.py'>\n",
      "stdev                    function    <function stdev at 0x12f77f8b0>\n",
      "train_test_split         function    <function train_test_split at 0x12b525700>\n"
     ]
    }
   ],
   "source": [
    "%whos"
   ]
  },
  {
   "cell_type": "code",
   "execution_count": null,
   "id": "e9e54bb3-2cce-4aca-8964-7b6f2806b175",
   "metadata": {},
   "outputs": [],
   "source": [
    "# i-o dir for write-read of clf out / superimpose in?\n",
    "# i_o/shuffle/latent_feature_sets/ for"
   ]
  },
  {
   "cell_type": "code",
   "execution_count": null,
   "id": "cf797a3d-aceb-4f26-ad81-1d9c89c903bf",
   "metadata": {},
   "outputs": [],
   "source": [
    "# idea: run the learning curve directly on the latent feature set\n",
    "    # i.e. the encoded real samples\n",
    "    # then compare to running the lc on the un-decoded synthetic latent samples"
   ]
  },
  {
   "cell_type": "code",
   "execution_count": null,
   "id": "f8eba780-7ba6-4154-9114-2b4a64140c56",
   "metadata": {},
   "outputs": [],
   "source": [
    "# List of objects to have in memory:\n",
    "    # trained decoder - BRCA - \n",
    "    # RF curve dict on input data - \n",
    "    # RF curve dict on decoded - \n",
    "    # RF curve diect on decoded synth* - "
   ]
  },
  {
   "cell_type": "markdown",
   "id": "a4e1dcd9-ce7b-4317-8907-9d0753b418c3",
   "metadata": {
    "jp-MarkdownHeadingCollapsed": true,
    "tags": []
   },
   "source": [
    "### Imports, directory setup"
   ]
  },
  {
   "cell_type": "code",
   "execution_count": 5,
   "id": "9b39428d-b745-4313-ad1b-5326920c7450",
   "metadata": {},
   "outputs": [],
   "source": [
    "import pandas as pd\n",
    "import glob as glob\n",
    "\n",
    "from sklearn.model_selection import train_test_split\n",
    "from sklearn.ensemble import RandomForestClassifier\n",
    "from sklearn.tree import DecisionTreeClassifier\n",
    "from sklearn.metrics import f1_score\n",
    "from statistics import mean\n",
    "from statistics import stdev\n",
    "\n",
    "import matplotlib.pyplot as plt\n",
    "from matplotlib.pyplot import figure"
   ]
  },
  {
   "cell_type": "code",
   "execution_count": 1,
   "id": "0d941058-53c5-44f9-8fdb-e9fda979a752",
   "metadata": {},
   "outputs": [
    {
     "data": {
      "text/plain": [
       "'/Users/karlberb/Documents/work/sample_count/synthetic_TCGA_data_gen/g_learning_curves'"
      ]
     },
     "execution_count": 1,
     "metadata": {},
     "output_type": "execute_result"
    }
   ],
   "source": [
    "pwd"
   ]
  },
  {
   "cell_type": "code",
   "execution_count": 3,
   "id": "b659351a-42c5-45db-92a8-b91d2b44f49d",
   "metadata": {},
   "outputs": [
    {
     "name": "stdout",
     "output_type": "stream",
     "text": [
      "PDF.ipynb                            learning_curve_schematic.drawio\n",
      "c_latent_sampling.ipynb              learning_curve_schematic.drawio.png\n",
      "\u001b[34mi_o\u001b[m\u001b[m/                                 shuffle.ipynb\n"
     ]
    }
   ],
   "source": [
    "ls"
   ]
  },
  {
   "cell_type": "markdown",
   "id": "1038cc33-2973-4b0a-beeb-3226529e4b8b",
   "metadata": {
    "jp-MarkdownHeadingCollapsed": true,
    "tags": []
   },
   "source": [
    "### Target out dir:  \n",
    "---------------\n",
    "### i_o/shuffle  \n",
    "--------------- \n",
    "Original version with decision tree was g_devel  \n",
    "DT is also in 'RF again' section of c_latent_sampling"
   ]
  },
  {
   "cell_type": "markdown",
   "id": "dc1fe504-92c4-45e2-906b-5761b9ff6a86",
   "metadata": {
    "tags": []
   },
   "source": [
    "### Data\n",
    "MAD5k features either taken within or across the TCGA intersection features (less LGGGBM)  \n",
    "Could also run the full GEXP files, miR, and METH or combos of these as feature sets  \n",
    "See Setup section in <c_latent_sampling.ipynb> for synthetic index generation - done"
   ]
  },
  {
   "cell_type": "code",
   "execution_count": 7,
   "id": "a54c2a1f-8018-4d37-a707-729ba058e919",
   "metadata": {},
   "outputs": [],
   "source": [
    "acrss_pths = sorted(glob.glob('../g_devel/data_GEXP_5k_col_norm/*.tsv'))\n",
    "brca_5k_across = pd.read_csv(acrss_pths[2], sep=\"\\t\", index_col=0)"
   ]
  },
  {
   "cell_type": "code",
   "execution_count": null,
   "id": "6fab77e2-f17a-4ecd-a507-2fcb50f5e104",
   "metadata": {},
   "outputs": [],
   "source": [
    "# acc_5k_across = pd.read_csv(five_k[0], sep=\"\\t\", index_col=0)"
   ]
  },
  {
   "cell_type": "code",
   "execution_count": null,
   "id": "b0a5fc92-0687-455c-bc41-e5222f0bb4e0",
   "metadata": {},
   "outputs": [],
   "source": [
    "wthn_pths = sorted(\n",
    "    glob.glob(\n",
    "        '/Users/karlberb/Documents/work/sample_count/synthetic_TCGA_data_gen/g_devel/data_5k/*.tsv'))\n",
    "brca_5k_within = pd.read_csv(\n",
    "    wthn_pths[2], sep = '\\t', index_col = 0)"
   ]
  },
  {
   "cell_type": "code",
   "execution_count": null,
   "id": "c2d4f160-ebce-4a0d-95cb-76c0ec681630",
   "metadata": {},
   "outputs": [],
   "source": [
    "# acc_5k_within = pd.read_csv(\n",
    "#     mad5k_wthn_pths[0], sep = '\\t', index_col = 0)"
   ]
  },
  {
   "cell_type": "markdown",
   "id": "4f79143e-0fc7-44e7-a6ae-1b3b5650a955",
   "metadata": {
    "tags": []
   },
   "source": [
    "### Input GEXP to VAE Learning curve"
   ]
  },
  {
   "cell_type": "code",
   "execution_count": 19,
   "id": "71fc0ba4-945a-4401-b840-c0e5f5467dbc",
   "metadata": {},
   "outputs": [
    {
     "name": "stdout",
     "output_type": "stream",
     "text": [
      "starting learning curve generation on labled feature set\n",
      "50\n",
      "60\n",
      "70\n",
      "80\n",
      "90\n",
      "100\n",
      "110\n",
      "120\n",
      "130\n",
      "140\n",
      "150\n",
      "160\n",
      "170\n",
      "180\n",
      "190\n",
      "200\n",
      "210\n",
      "220\n",
      "230\n",
      "240\n",
      "250\n",
      "Learning curve object generated, send to plot function\n"
     ]
    }
   ],
   "source": [
    "# DataFrame to Random Forest TOGGLE\n",
    "\n",
    "# df_to_rf = acc_5k_across # <---\n",
    "# feature_selection_method = 'across_cohort'\n",
    "\n",
    "# df_to_rf = acc_5k_within # <---\n",
    "# feature_selection_method = 'within_cohort'\n",
    "\n",
    "# df_to_rf = brca_5k_across # <---\n",
    "# feature_selection_method = 'across_cohort'\n",
    "\n",
    "df_to_rf = brca_5k_within # <---\n",
    "feature_selection_method = 'within_cohort'\n",
    "\n",
    "print('starting learning curve generation on labled feature set')\n",
    "RF_F1_dct = {}\n",
    "RF_F1_means = {}\n",
    "for smp_sz in list(range(50, 251, 10)): # BRCA <---\n",
    "# for smp_sz in list(range(15, 76, 5)): # ACC <---\n",
    "    \n",
    "    print(smp_sz)\n",
    "    # print(' ')\n",
    "    \n",
    "    stdev_lst = []\n",
    "    mean_lst = []\n",
    "    \n",
    "    RF_output = []\n",
    "    resmpl_count = 150\n",
    "    for r in list(range(0, resmpl_count)):\n",
    "        \n",
    "        labeled_sample_subset_frame = df_to_rf.sample(smp_sz)\n",
    "        X = labeled_sample_subset_frame.iloc[:, 1:]\n",
    "        y = labeled_sample_subset_frame.iloc[:, 0]\n",
    "        X_train, X_test, y_train, y_test = train_test_split(\n",
    "                    X, y,\n",
    "                        test_size=0.33,\n",
    "                            )\n",
    "        RF_clf = RandomForestClassifier(max_depth=2)\n",
    "        RF_clf.fit(X_train, y_train)\n",
    "\n",
    "        RF_F1_scr = f1_score(y_test, RF_clf.predict(X_test), average='weighted')\n",
    "        RF_output.append(RF_F1_scr)\n",
    "        # print(RF_output)\n",
    "        \n",
    "        if len(RF_output) > 1:\n",
    "            stdev_lst.append(stdev(RF_output))\n",
    "            mean_lst.append(mean(RF_output))\n",
    "        # Active learning insertion point    \n",
    "           \n",
    "    RF_F1_means[smp_sz] = round(mean(RF_output), 3)\n",
    "    RF_F1_dct[smp_sz] = RF_output\n",
    "    # break\n",
    "print('Learning curve object generated, send to plot function')"
   ]
  },
  {
   "cell_type": "code",
   "execution_count": 22,
   "id": "29b70404-d1fb-4095-bb59-ff855b59318d",
   "metadata": {},
   "outputs": [
    {
     "data": {
      "image/png": "[encoded data removed]",
      "text/plain": [
       "<Figure size 640x480 with 1 Axes>"
      ]
     },
     "metadata": {},
     "output_type": "display_data"
    }
   ],
   "source": [
    "plt.plot(list(RF_F1_means.keys()),\n",
    "       RF_F1_means.values(), label = 'Stndrd dvtn')\n",
    "plt.suptitle('Learning curve, '+df_to_rf.index.name+', random forest')\n",
    "plt.title('VAE input data: MAD 5K '+feature_selection_method+' GEXP') # copy and modify \n",
    "plt.ylabel('F1 score')                                                # for decoded naming\n",
    "plt.xlabel('Sub-sample size, resampling with replacement')\n",
    "plt.annotate('Resamplings per step size = '+str(resmpl_count),\n",
    "                xy=(.15, .85), xycoords='figure fraction',\n",
    "                horizontalalignment='left', verticalalignment='top',\n",
    "                )\n",
    "plt.savefig(\n",
    "    'i_o/shuffle/'+\n",
    "    str(df_to_rf.index.name)+'_'+feature_selection_method+'_'+ # add decoded to naming\n",
    "    str(list(RF_F1_means.keys())[0])+'-to-'+str(smp_sz)+       # for post-VAE plots\n",
    "    '_'+str(resmpl_count)+'-rsmpls'+\n",
    "    '_v0.png', bbox_inches = 'tight')"
   ]
  },
  {
   "cell_type": "markdown",
   "id": "1e87fe9c-3ed6-4caf-8ac8-8d52e155487e",
   "metadata": {},
   "source": [
    "### VAE"
   ]
  },
  {
   "cell_type": "markdown",
   "id": "3d72d77e-44a7-433c-8844-58ddb0a3dbb8",
   "metadata": {
    "jp-MarkdownHeadingCollapsed": true,
    "tags": []
   },
   "source": [
    "#### Setup VAE"
   ]
  },
  {
   "cell_type": "code",
   "execution_count": 20,
   "id": "f1f093b5-fdc4-40c9-ba28-d3e76ca4f1a7",
   "metadata": {},
   "outputs": [],
   "source": [
    "import time\n",
    "import numpy as np\n",
    "import tensorflow as tf\n",
    "from tensorflow import keras\n",
    "from tensorflow.keras import layers\n",
    "from tensorflow.keras.models import Model\n",
    "from tensorflow.keras import backend as K\n",
    "from tensorflow.keras.layers import BatchNormalization, Activation, Layer\n",
    "from tensorflow.keras import metrics, optimizers\n",
    "from tensorflow.keras.losses import binary_crossentropy\n",
    "from tensorflow.keras.callbacks import Callback\n",
    "import tensorflow.compat.v1.keras.backend as K\n",
    "import tensorflow as tf\n",
    "tf.compat.v1.disable_eager_execution()"
   ]
  },
  {
   "cell_type": "code",
   "execution_count": 21,
   "id": "2d7ca2bc-a893-449a-845d-ed8b4818d239",
   "metadata": {},
   "outputs": [],
   "source": [
    "# Function set for leave one out loop\n",
    "def compute_latent(x): # x:\n",
    "    mu, sigma = x\n",
    "    batch = K.shape(mu)[0]\n",
    "    dim = K.shape(mu)[1]\n",
    "    eps = K.random_normal(shape=(batch,dim), mean=0., stddev=1.0 )\n",
    "    return mu + K.exp(sigma/2)*eps\n",
    "\n",
    "# Set custom layer , will need all this at start of shell script\n",
    "class CustomVariationalLayer(Layer):\n",
    "    \"\"\"\n",
    "    Define a custom layer\n",
    "    \"\"\"\n",
    "    def __init__(self, **kwargs):\n",
    "        self.is_placeholder = True\n",
    "        super(CustomVariationalLayer, self).__init__(**kwargs)\n",
    "\n",
    "    def vae_loss(self, x_input, x_decoded):\n",
    "        reconstruction_loss = original_dim * metrics.binary_crossentropy(x_input, x_decoded)\n",
    "        kl_loss = - 0.5 * K.sum(1 + z_log_var_encoded - K.square(z_mean_encoded) - \n",
    "                                K.exp(z_log_var_encoded), axis=-1)\n",
    "        return K.mean(reconstruction_loss + (K.get_value(beta) * kl_loss))\n",
    "\n",
    "    def call(self, inputs):\n",
    "        x = inputs[0]\n",
    "        x_decoded = inputs[1]\n",
    "        loss = self.vae_loss(x, x_decoded)\n",
    "        self.add_loss(loss, inputs=inputs)\n",
    "        return x\n",
    "    \n",
    "class WarmUpCallback(Callback):\n",
    "    def __init__(self, beta, kappa):\n",
    "        self.beta = beta\n",
    "        self.kappa = kappa\n",
    "\n",
    "    def on_epoch_end(self, epoch, logs={}):\n",
    "        if K.get_value(self.beta) <= 1:\n",
    "            K.set_value(self.beta, K.get_value(self.beta) + self.kappa)"
   ]
  },
  {
   "cell_type": "markdown",
   "id": "86a6e16a-eee4-4dc5-9c27-17e99ede2251",
   "metadata": {
    "jp-MarkdownHeadingCollapsed": true,
    "tags": []
   },
   "source": [
    "#### Main VAE"
   ]
  },
  {
   "cell_type": "code",
   "execution_count": 23,
   "id": "a5ba1f18-4a97-455b-aa91-fe046ba8be05",
   "metadata": {},
   "outputs": [],
   "source": [
    "feature_set = 'mad_5k_within'\n",
    "decode_df = brca_5k_within\n",
    "c = brca_5k_within.index.name\n",
    "fit_on = 'BRCA'"
   ]
  },
  {
   "cell_type": "code",
   "execution_count": 25,
   "id": "95da119c-fde7-466c-a0a9-f7f54efd0a4e",
   "metadata": {},
   "outputs": [],
   "source": [
    "feature_set = 'mad_5k_across' # smooth learning curve in original\n",
    "decode_df = brca_5k_across\n",
    "c = brca_5k_across.index.name\n",
    "fit_on = 'BRCA'"
   ]
  },
  {
   "cell_type": "code",
   "execution_count": 27,
   "id": "37910038-2a32-4b04-84a7-3dbcaf6fa1ea",
   "metadata": {},
   "outputs": [],
   "source": [
    "feature_set = 'mad_5k_within'\n",
    "c = 'ACC'\n",
    "fit_on = 'ACC'\n",
    "decode_df = acc_5k_within"
   ]
  },
  {
   "cell_type": "code",
   "execution_count": 29,
   "id": "715e4201-25a0-4145-9ac4-f9efae93db62",
   "metadata": {},
   "outputs": [],
   "source": [
    "feature_set = 'mad_5k_across'\n",
    "c = 'ACC'\n",
    "fit_on = 'ACC'\n",
    "decode_df = acc_5k_across"
   ]
  },
  {
   "cell_type": "code",
   "execution_count": 30,
   "id": "1a205f75-9e7f-4dc5-addd-4bdb8abbc4ea",
   "metadata": {},
   "outputs": [
    {
     "name": "stdout",
     "output_type": "stream",
     "text": [
      "WARNING:tensorflow:Output {0} missing from loss dictionary. We assume this was done on purpose. The fit and evaluate APIs will not be expecting any data to be passed to custom_variational_layer_3.\n"
     ]
    },
    {
     "name": "stderr",
     "output_type": "stream",
     "text": [
      "2022-11-28 12:25:49.363610: I tensorflow/core/grappler/optimizers/custom_graph_optimizer_registry.cc:114] Plugin optimizer for device_type GPU is enabled.\n",
      "2022-11-28 12:25:49.412155: I tensorflow/core/grappler/optimizers/custom_graph_optimizer_registry.cc:114] Plugin optimizer for device_type GPU is enabled.\n",
      "2022-11-28 12:25:49.436967: I tensorflow/core/grappler/optimizers/custom_graph_optimizer_registry.cc:114] Plugin optimizer for device_type GPU is enabled.\n",
      "2022-11-28 12:25:49.602150: I tensorflow/core/grappler/optimizers/custom_graph_optimizer_registry.cc:114] Plugin optimizer for device_type GPU is enabled.\n",
      "2022-11-28 12:25:49.660054: I tensorflow/core/grappler/optimizers/custom_graph_optimizer_registry.cc:114] Plugin optimizer for device_type GPU is enabled.\n",
      "2022-11-28 12:25:49.685640: I tensorflow/core/grappler/optimizers/custom_graph_optimizer_registry.cc:114] Plugin optimizer for device_type GPU is enabled.\n",
      "2022-11-28 12:25:50.145254: I tensorflow/core/grappler/optimizers/custom_graph_optimizer_registry.cc:114] Plugin optimizer for device_type GPU is enabled.\n",
      "/Users/karlberb/miniforge3/envs/tf_M1_py3dot9/lib/python3.9/site-packages/keras/engine/training_v1.py:2356: UserWarning: `Model.state_updates` will be removed in a future version. This property should not be used in TensorFlow 2.0, as `updates` are applied automatically.\n",
      "  updates=self.state_updates,\n",
      "2022-11-28 12:25:53.590473: I tensorflow/core/grappler/optimizers/custom_graph_optimizer_registry.cc:114] Plugin optimizer for device_type GPU is enabled.\n",
      "2022-11-28 12:25:53.682548: I tensorflow/core/grappler/optimizers/custom_graph_optimizer_registry.cc:114] Plugin optimizer for device_type GPU is enabled.\n"
     ]
    },
    {
     "name": "stdout",
     "output_type": "stream",
     "text": [
      "Decode cohort trained on self using mad_5k_across feature set experiment done\n"
     ]
    },
    {
     "data": {
      "image/png": "[encoded data removed]",
      "text/plain": [
       "<Figure size 640x480 with 1 Axes>"
      ]
     },
     "metadata": {},
     "output_type": "display_data"
    }
   ],
   "source": [
    "# Decode all samples after training on self with MAD 5k taken\n",
    "  # either within or across cohort\n",
    "# adapted from c_latent_sampling in g_learning curves\n",
    "\n",
    "features = decode_df.columns[1:] # direct decode, will need fitting / dedoding frames\n",
    "\n",
    "original_dim = len(features)\n",
    "feature_dim = len(features)\n",
    "latent_dim = 10\n",
    "\n",
    "encoder_inputs = keras.Input(shape=(feature_dim,))\n",
    "z_mean_dense_linear = layers.Dense(latent_dim, kernel_initializer='glorot_uniform', name=\"encoder_1\")(encoder_inputs)\n",
    "z_mean_dense_batchnorm = layers.BatchNormalization()(z_mean_dense_linear)\n",
    "z_mean_encoded = layers.Activation('relu')(z_mean_dense_batchnorm)\n",
    "\n",
    "z_log_var_dense_linear = layers.Dense(latent_dim, kernel_initializer='glorot_uniform', name=\"encoder_2\")(encoder_inputs)\n",
    "z_log_var_dense_batchnorm = layers.BatchNormalization()(z_log_var_dense_linear)\n",
    "z_log_var_encoded = layers.Activation('relu')(z_log_var_dense_batchnorm)\n",
    "\n",
    "latent_space = layers.Lambda(compute_latent, output_shape=(latent_dim,), name=\"latent_space\")([z_mean_encoded, z_log_var_encoded])\n",
    "\n",
    "decoder_to_reconstruct = layers.Dense(feature_dim, kernel_initializer='glorot_uniform', activation='sigmoid')\n",
    "decoder_outputs = decoder_to_reconstruct(latent_space)\n",
    "\n",
    "learning_rate = 0.0005\n",
    "kappa = 1\n",
    "\n",
    "beta = K.variable(0)\n",
    "\n",
    "adam = optimizers.Adam(learning_rate=learning_rate)\n",
    "vae_layer = CustomVariationalLayer()([encoder_inputs, decoder_outputs])\n",
    "vae = Model(encoder_inputs, vae_layer)\n",
    "vae.compile(optimizer=adam, loss=None, loss_weights=[beta])\n",
    "\n",
    "epochs=155\n",
    "\n",
    "fit_start = time.time()\n",
    "history = vae.fit(decode_df.iloc[:, 1:],  #       <-------- fit the VAE on object toggled here\n",
    "            epochs=epochs, batch_size=50, shuffle=True,\n",
    "            callbacks=[WarmUpCallback(beta, kappa)],\n",
    "                 verbose=0 #  <---------------------- turn this on for production *************\n",
    "                 )\n",
    "fit_end = time.time() - fit_start\n",
    "\n",
    "plt.plot(history.history['loss'],label=\"loss\")\n",
    "\n",
    "plt.title(\n",
    "    c+' fit '+\n",
    "    '\\nTybalt VAE\\n'\n",
    "         )\n",
    "plt.xlabel('Epoch')\n",
    "plt.ylabel('Loss')\n",
    "plt.annotate('Feature set = '+feature_set+\n",
    "             '\\nLatent dim = '+str(latent_dim)+\n",
    "             '\\nLayer type = dense'+\n",
    "             '\\nNormalization = divide by max(),\\n'+\n",
    "             '                       column-wise,\\n'+\n",
    "             '                       within cohort'+\n",
    "             '\\nFit time = '+str(round(fit_end,2 ))+'s',\n",
    "            xy=(.4, .8), xycoords='figure fraction',\n",
    "            horizontalalignment='left', verticalalignment='top',\n",
    "            )\n",
    "\n",
    "plt.legend(loc=\"lower left\")\n",
    "plt.savefig(\n",
    "    'i_o/shuffle/'+c+'_'+\n",
    "    'fit_on_'+fit_on+'_latent_dim.'+str(latent_dim)+\n",
    "    # '_pltv-'+str(plt_v)+\n",
    "    '_epochs.'+str(epochs)+'_'+\n",
    "    feature_set+\n",
    "    '.png', bbox_inches='tight') # version 18, norm within cohort\n",
    "# plt.close()\n",
    "\n",
    "encoder = Model(encoder_inputs, z_mean_encoded)\n",
    "decoder_input = keras.Input(shape=(latent_dim, ))\n",
    "_x_decoded_mean = decoder_to_reconstruct(decoder_input)\n",
    "decoder = Model(decoder_input, _x_decoded_mean)\n",
    "\n",
    "y_df = decode_df.Labels\n",
    "\n",
    "decoded = pd.DataFrame(decoder.predict(encoder.predict(decode_df.iloc[:, 1:])),\n",
    "                       index=decode_df.index, columns=decode_df.iloc[:, 1:].columns)\n",
    "\n",
    "latent_object = pd.DataFrame(encoder.predict(decode_df.iloc[:, 1:]),\n",
    "             index=decode_df.index,\n",
    "                # columns=decode_df.iloc[:, 1:].columns # Columns are different because this is latent space\n",
    "        )\n",
    "latent_object.index.name = c\n",
    "latent_object = pd.concat( [pd.DataFrame(y_df), latent_object] , axis =1)\n",
    "latent_object.to_csv('i_o/shuffle/'+c+'_fit_on.'+fit_on+\n",
    "                     '_latent_object_latent_dim.'+str(latent_dim)+\n",
    "    '_epochs.'+str(epochs)+'_'+feature_set+\n",
    "    '.tsv',\n",
    "    sep = '\\t')\n",
    "# break\n",
    "decoded_labeled = pd.concat( [pd.DataFrame(y_df), decoded] , axis =1)\n",
    "decoded_labeled.to_csv(\n",
    "    'i_o/shuffle/'+c+'_fit_on.'+fit_on+'_decoded_latent_dim.'+\n",
    "    str(latent_dim)+\n",
    "    '_epochs.'+str(epochs)+'_'+feature_set+\n",
    "    '.tsv',\n",
    "    sep = '\\t')\n",
    "\n",
    "print('Decode cohort trained on self using '+feature_set+' feature set experiment done')"
   ]
  },
  {
   "cell_type": "markdown",
   "id": "a49f0d30-ae62-4e59-93b7-669505e9c279",
   "metadata": {
    "jp-MarkdownHeadingCollapsed": true,
    "tags": []
   },
   "source": [
    "### Classify on decoded samples  \n",
    "'RF again' section in c_latent_sampling"
   ]
  },
  {
   "cell_type": "code",
   "execution_count": 31,
   "id": "d1f7dec6-631f-4de9-b339-c41ee867912c",
   "metadata": {},
   "outputs": [],
   "source": [
    "df_to_clf = decoded_labeled # across ACC (?)\n"
   ]
  },
  {
   "cell_type": "code",
   "execution_count": 64,
   "id": "7b7c1054-680f-497d-b46c-499238c855b2",
   "metadata": {},
   "outputs": [],
   "source": [
    "df_to_clf = pd.read_csv(\n",
    "    'i_o/shuffle/ACC_fit_on.ACC_decoded_latent_dim.10_epochs.155_mad_5k_across.tsv',\n",
    "    sep = '\\t', index_col = 0)\n",
    "feature_set = 'mad_5k_across'\n",
    "c = 'ACC'\n",
    "fit_on = 'ACC'\n",
    "decode_df = acc_5k_across"
   ]
  },
  {
   "cell_type": "code",
   "execution_count": 41,
   "id": "fcf3c863-6bd4-493b-89b8-017b40b8e3af",
   "metadata": {},
   "outputs": [],
   "source": [
    "df_to_clf = pd.read_csv(\n",
    "    'i_o/shuffle/ACC_fit_on.ACC_decoded_latent_dim.10_epochs.155_mad_5k_within.tsv',\n",
    "    sep = '\\t', index_col = 0)\n",
    "feature_set = 'mad_5k_within'\n",
    "c = 'ACC'\n",
    "fit_on = 'ACC'\n",
    "decode_df = acc_5k_within    "
   ]
  },
  {
   "cell_type": "code",
   "execution_count": 55,
   "id": "07cb7edf-e7b0-4aa6-a860-9779f34036ba",
   "metadata": {},
   "outputs": [],
   "source": [
    "df_to_clf = pd.read_csv(\n",
    "    'i_o/shuffle/BRCA_fit_on.BRCA_decoded_latent_dim.10_epochs.155_mad_5k_within.tsv',\n",
    "    sep = '\\t', index_col = 0)\n",
    "feature_set = 'mad_5k_within'\n",
    "c = 'BRCA'\n",
    "fit_on = 'BRCA'\n",
    "decode_df = brca_5k_within"
   ]
  },
  {
   "cell_type": "code",
   "execution_count": 61,
   "id": "f7cf88c7-cad5-4002-a64c-8cd87977bec7",
   "metadata": {},
   "outputs": [],
   "source": [
    "df_to_clf = pd.read_csv(\n",
    "    'i_o/shuffle/BRCA_fit_on.BRCA_decoded_latent_dim.10_epochs.155_mad_5k_across.tsv',\n",
    "    sep = '\\t', index_col = 0)\n",
    "feature_set = 'mad_5k_across'\n",
    "c = 'BRCA'\n",
    "fit_on = 'BRCA'\n",
    "decode_df = brca_5k_across"
   ]
  },
  {
   "cell_type": "code",
   "execution_count": 66,
   "id": "779e64af-c34b-41dd-85db-e57f1075af42",
   "metadata": {},
   "outputs": [
    {
     "name": "stdout",
     "output_type": "stream",
     "text": [
      "15\n",
      "20\n",
      "25\n",
      "30\n",
      "35\n",
      "40\n",
      "45\n",
      "50\n",
      "55\n",
      "60\n",
      "65\n",
      "70\n",
      "75\n",
      "clf done\n"
     ]
    }
   ],
   "source": [
    "RF_F1_dct = {}\n",
    "RF_F1_means = {}\n",
    "DT_F1_means = {}\n",
    "# for smp_sz in list(range(20, 251, 10)):\n",
    "for smp_sz in list(range(15, 76, 5)):       # Toggle on for ACC  <---------\n",
    "    \n",
    "    print(smp_sz)\n",
    "    # print(' ')\n",
    "    \n",
    "    stdev_lst = []\n",
    "    mean_lst = []\n",
    "    \n",
    "    RF_output = []\n",
    "    DT_output = []\n",
    "    resmpl_count = 150\n",
    "    for r in list(range(0, resmpl_count)):\n",
    "        \n",
    "        labeled_sample_subset_frame = df_to_clf.sample(smp_sz)\n",
    "        X = labeled_sample_subset_frame.iloc[:, 1:]\n",
    "        y = labeled_sample_subset_frame.iloc[:, 0]\n",
    "        X_train, X_test, y_train, y_test = train_test_split(\n",
    "                    X, y,\n",
    "                        test_size=0.33,\n",
    "                            )\n",
    "        RF_clf = RandomForestClassifier(max_depth=2)\n",
    "        DT_clf = DecisionTreeClassifier()\n",
    "        RF_clf.fit(X_train, y_train)\n",
    "        DT_clf.fit(X_train, y_train)\n",
    "\n",
    "        RF_F1_scr = f1_score(y_test, RF_clf.predict(X_test), average='weighted')\n",
    "        DT_F1_scr = f1_score(y_test, DT_clf.predict(X_test), average='weighted')\n",
    "        RF_output.append(RF_F1_scr)\n",
    "        DT_output.append(DT_F1_scr)\n",
    "        \n",
    "        if len(RF_output) > 1:\n",
    "            stdev_lst.append(stdev(RF_output))\n",
    "            mean_lst.append(mean(RF_output)) # running mean for active learning\n",
    "           \n",
    "    RF_F1_means[smp_sz] = round(mean(RF_output), 3)\n",
    "    DT_F1_means[smp_sz] = round(mean(DT_output), 3)\n",
    "    RF_F1_dct[smp_sz] = RF_output\n",
    "print('clf done')"
   ]
  },
  {
   "cell_type": "code",
   "execution_count": 67,
   "id": "23e06d73-d55f-4729-99ff-4b4b3bca6ac9",
   "metadata": {},
   "outputs": [
    {
     "data": {
      "text/plain": [
       "'mad_5k_across'"
      ]
     },
     "execution_count": 67,
     "metadata": {},
     "output_type": "execute_result"
    }
   ],
   "source": [
    "feature_set"
   ]
  },
  {
   "cell_type": "code",
   "execution_count": 68,
   "id": "6bba870f-f1c9-46c6-83f7-afaea363187d",
   "metadata": {},
   "outputs": [
    {
     "data": {
      "text/plain": [
       "'ACC'"
      ]
     },
     "execution_count": 68,
     "metadata": {},
     "output_type": "execute_result"
    }
   ],
   "source": [
    "fit_on"
   ]
  },
  {
   "cell_type": "code",
   "execution_count": 69,
   "id": "e072619d-723a-4bd1-aa59-3fdecd33dd8e",
   "metadata": {},
   "outputs": [
    {
     "data": {
      "text/plain": [
       "'ACC'"
      ]
     },
     "execution_count": 69,
     "metadata": {},
     "output_type": "execute_result"
    }
   ],
   "source": [
    "df_to_clf.index.name"
   ]
  },
  {
   "cell_type": "code",
   "execution_count": 70,
   "id": "23757073-3c85-4750-a7bb-dafa98dde18a",
   "metadata": {
    "tags": []
   },
   "outputs": [
    {
     "data": {
      "image/png": "[encoded data removed]",
      "text/plain": [
       "<Figure size 640x480 with 1 Axes>"
      ]
     },
     "metadata": {},
     "output_type": "display_data"
    }
   ],
   "source": [
    "clf = 'random forest'\n",
    "plt.plot(list(RF_F1_means.keys()),\n",
    "       RF_F1_means.values(),label=clf)\n",
    "plt.plot(list(DT_F1_means.keys()),\n",
    "       DT_F1_means.values(),label='dt')\n",
    "plt.suptitle('Learning curves, '+df_to_clf.index.name+', decoded, fit on '+\n",
    "             df_to_clf.index.name)\n",
    "# plt.title('VAE input data: MAD 5K GEXP')\n",
    "plt.title('Decoded: ' + feature_set) # across or within cohorts\n",
    "plt.ylabel('F1 score')\n",
    "plt.xlabel('Sub-sample size, resampling with replacement')\n",
    "plt.annotate('Resamplings per step size = '+str(resmpl_count),\n",
    "                xy=(.5, .2), xycoords='figure fraction',\n",
    "                horizontalalignment='left', verticalalignment='top',\n",
    "                )\n",
    "plt.legend(loc=\"lower left\")\n",
    "plt.savefig(\n",
    "    'i_o/shuffle/decoded_curves/'+\n",
    "    str(df_to_clf.index.name)+'.decoded_fit_on.'+fit_on +'_'+feature_set+'_'+\n",
    "    str(list(RF_F1_means.keys())[0])+'-to-'+str(smp_sz)+\n",
    "    '_'+'rsmpls.'+str(resmpl_count)+\n",
    "    '_v0.png', bbox_inches = 'tight')"
   ]
  },
  {
   "cell_type": "markdown",
   "id": "b3bf8b00-d69f-4b3b-a4ca-10522337c78c",
   "metadata": {
    "tags": []
   },
   "source": [
    "### Shuffle latent feature values  \n",
    "Generate synthetic sample latent feature vector"
   ]
  },
  {
   "cell_type": "markdown",
   "id": "8c32b199-499e-4094-8dd7-3ba9b297268f",
   "metadata": {
    "jp-MarkdownHeadingCollapsed": true,
    "tags": []
   },
   "source": [
    "#### Synth setup and data"
   ]
  },
  {
   "cell_type": "code",
   "execution_count": 86,
   "id": "fa5dee33-b02c-431e-9198-e27259f77d92",
   "metadata": {},
   "outputs": [],
   "source": [
    "chrt = 'ACC'\n",
    "latent_obj = pd.read_csv(\n",
    "    'i_o/shuffle/latent_feature_sets/ACC_fit_on.ACC_latent_object_latent_dim.10_epochs.155_mad_5k_across.tsv',\n",
    "        sep = '\\t', index_col = 0)"
   ]
  },
  {
   "cell_type": "code",
   "execution_count": null,
   "id": "eb63a007-f2a3-4811-b78c-0374749dd9f9",
   "metadata": {},
   "outputs": [],
   "source": [
    "latent_obj = pd.read_csv(\n",
    "    'i_o/shuffle/latent_feature_sets/i_o/shuffle/ACC_fit_on.ACC_latent_object_latent_dim.10_epochs.155_mad_5k_within.tsv',\n",
    "        sep = '\\t', index_col = 0)"
   ]
  },
  {
   "cell_type": "code",
   "execution_count": null,
   "id": "72e6ee16-1e32-4e9b-99e1-8e4ee7f35716",
   "metadata": {},
   "outputs": [],
   "source": []
  },
  {
   "cell_type": "code",
   "execution_count": null,
   "id": "86f09f99-ef2b-4230-a77b-24f0994f93f8",
   "metadata": {},
   "outputs": [],
   "source": []
  },
  {
   "cell_type": "code",
   "execution_count": null,
   "id": "502f1496-8f2a-4821-a3e2-a13209c7d7f5",
   "metadata": {},
   "outputs": [],
   "source": [
    "i_o/shuffle/BRCA_fit_on.BRCA_latent_object_latent_dim.10_epochs.155_mad_5k_across.tsv"
   ]
  },
  {
   "cell_type": "code",
   "execution_count": null,
   "id": "dc0ae862-3224-49da-8728-76320a46ded5",
   "metadata": {},
   "outputs": [],
   "source": [
    "i_o/shuffle/BRCA_fit_on.BRCA_latent_object_latent_dim.10_epochs.155_mad_5k_within.tsv"
   ]
  },
  {
   "cell_type": "markdown",
   "id": "6518f552-68c8-4768-9b3a-d4e53586e185",
   "metadata": {
    "jp-MarkdownHeadingCollapsed": true,
    "tags": []
   },
   "source": [
    "#### Synth main"
   ]
  },
  {
   "cell_type": "code",
   "execution_count": 146,
   "id": "d8c823e1-bc51-4efa-9f3c-9580c73e25ab",
   "metadata": {},
   "outputs": [
    {
     "name": "stdout",
     "output_type": "stream",
     "text": [
      "ACC_1\n",
      "ACC_2\n",
      "ACC_3\n"
     ]
    }
   ],
   "source": [
    "synth_ndx_strt = 0\n",
    "synth_samples_per_subtype = 100\n",
    "\n",
    "synth_full_frame = pd.DataFrame()\n",
    "\n",
    "# Take the reset starting index position from end of loop to create next synthetic subtype set\n",
    "for subtype in sorted(latent_obj.Labels.unique()): # Subset the latent feature frame on each subtype\n",
    "    print(subtype)\n",
    "    sub = latent_obj[latent_obj.Labels == subtype]\n",
    "    synth_lat_feat_vec = []\n",
    "    \n",
    "    synth_index = ['SYNTH-' + chrt + '-' + jtem for jtem in [str(\n",
    "        item).zfill(5) for item in list(range(synth_ndx_strt,\n",
    "                                              synth_samples_per_subtype + synth_ndx_strt))]]\n",
    "    # break\n",
    "    \n",
    "    synth_sub_frame = pd.DataFrame(index = synth_index)\n",
    "    synth_sub_frame.insert(0, 'Labels', sub.Labels[0])\n",
    "    for lat_feat in sub.columns[1:]:               # Go through the subtype latent feature set,\n",
    "        # print(lat_feat)                            # skipping the Labels column\n",
    "        lat_col = sub.loc[:, lat_feat]\n",
    "        \n",
    "        rand_lat_feat_vals = lat_col.sample(\n",
    "            synth_samples_per_subtype, replace = True,\n",
    "            # index = synth_index\n",
    "        ) # *\n",
    "        rand_lat_feat_vals.index = synth_index\n",
    "        synth_sub_frame = pd.concat(\n",
    "            [synth_sub_frame, rand_lat_feat_vals], axis = 1)\n",
    "        # break\n",
    "    synth_full_frame = pd.concat(\n",
    "        [synth_full_frame, synth_sub_frame], axis = 0)\n",
    "    # break\n",
    "    synth_ndx_strt = synth_ndx_strt + synth_samples_per_subtype\n",
    "    # break"
   ]
  },
  {
   "cell_type": "markdown",
   "id": "40b868da-13da-4e81-a68c-ab8305cebc0d",
   "metadata": {
    "jp-MarkdownHeadingCollapsed": true,
    "tags": []
   },
   "source": [
    "#### Sythetic index generation"
   ]
  },
  {
   "cell_type": "code",
   "execution_count": 149,
   "id": "3a1f3b7e-bcc4-43f8-a973-93800052212b",
   "metadata": {},
   "outputs": [
    {
     "data": {
      "text/html": [
       "<div>\n",
       "<style scoped>\n",
       "    .dataframe tbody tr th:only-of-type {\n",
       "        vertical-align: middle;\n",
       "    }\n",
       "\n",
       "    .dataframe tbody tr th {\n",
       "        vertical-align: top;\n",
       "    }\n",
       "\n",
       "    .dataframe thead th {\n",
       "        text-align: right;\n",
       "    }\n",
       "</style>\n",
       "<table border=\"1\" class=\"dataframe\">\n",
       "  <thead>\n",
       "    <tr style=\"text-align: right;\">\n",
       "      <th></th>\n",
       "      <th>Labels</th>\n",
       "      <th>0</th>\n",
       "      <th>1</th>\n",
       "      <th>2</th>\n",
       "      <th>3</th>\n",
       "      <th>4</th>\n",
       "      <th>5</th>\n",
       "      <th>6</th>\n",
       "      <th>7</th>\n",
       "      <th>8</th>\n",
       "      <th>9</th>\n",
       "    </tr>\n",
       "  </thead>\n",
       "  <tbody>\n",
       "    <tr>\n",
       "      <th>SYNTH-ACC-00000</th>\n",
       "      <td>ACC_1</td>\n",
       "      <td>0.000000</td>\n",
       "      <td>0.000000</td>\n",
       "      <td>0.000000</td>\n",
       "      <td>0.00000</td>\n",
       "      <td>1.382463</td>\n",
       "      <td>0.215958</td>\n",
       "      <td>0.000000</td>\n",
       "      <td>1.076301</td>\n",
       "      <td>1.754582</td>\n",
       "      <td>0.000000</td>\n",
       "    </tr>\n",
       "    <tr>\n",
       "      <th>SYNTH-ACC-00001</th>\n",
       "      <td>ACC_1</td>\n",
       "      <td>0.000000</td>\n",
       "      <td>0.569945</td>\n",
       "      <td>1.356532</td>\n",
       "      <td>0.00000</td>\n",
       "      <td>2.606020</td>\n",
       "      <td>0.000000</td>\n",
       "      <td>0.000000</td>\n",
       "      <td>1.743499</td>\n",
       "      <td>1.290467</td>\n",
       "      <td>1.784984</td>\n",
       "    </tr>\n",
       "    <tr>\n",
       "      <th>SYNTH-ACC-00002</th>\n",
       "      <td>ACC_1</td>\n",
       "      <td>0.000000</td>\n",
       "      <td>0.834944</td>\n",
       "      <td>1.107204</td>\n",
       "      <td>0.00000</td>\n",
       "      <td>1.200183</td>\n",
       "      <td>1.403840</td>\n",
       "      <td>0.000000</td>\n",
       "      <td>1.076301</td>\n",
       "      <td>0.000000</td>\n",
       "      <td>0.000000</td>\n",
       "    </tr>\n",
       "    <tr>\n",
       "      <th>SYNTH-ACC-00003</th>\n",
       "      <td>ACC_1</td>\n",
       "      <td>1.504759</td>\n",
       "      <td>0.446467</td>\n",
       "      <td>0.000000</td>\n",
       "      <td>0.00000</td>\n",
       "      <td>1.594364</td>\n",
       "      <td>1.166025</td>\n",
       "      <td>0.000000</td>\n",
       "      <td>0.000000</td>\n",
       "      <td>1.619147</td>\n",
       "      <td>0.000000</td>\n",
       "    </tr>\n",
       "    <tr>\n",
       "      <th>SYNTH-ACC-00004</th>\n",
       "      <td>ACC_1</td>\n",
       "      <td>1.624353</td>\n",
       "      <td>0.000000</td>\n",
       "      <td>0.785319</td>\n",
       "      <td>0.00000</td>\n",
       "      <td>0.663160</td>\n",
       "      <td>1.403840</td>\n",
       "      <td>0.000000</td>\n",
       "      <td>0.000000</td>\n",
       "      <td>0.000000</td>\n",
       "      <td>1.986486</td>\n",
       "    </tr>\n",
       "    <tr>\n",
       "      <th>...</th>\n",
       "      <td>...</td>\n",
       "      <td>...</td>\n",
       "      <td>...</td>\n",
       "      <td>...</td>\n",
       "      <td>...</td>\n",
       "      <td>...</td>\n",
       "      <td>...</td>\n",
       "      <td>...</td>\n",
       "      <td>...</td>\n",
       "      <td>...</td>\n",
       "      <td>...</td>\n",
       "    </tr>\n",
       "    <tr>\n",
       "      <th>SYNTH-ACC-00295</th>\n",
       "      <td>ACC_3</td>\n",
       "      <td>1.577323</td>\n",
       "      <td>0.000000</td>\n",
       "      <td>1.107048</td>\n",
       "      <td>0.00000</td>\n",
       "      <td>0.000000</td>\n",
       "      <td>1.262425</td>\n",
       "      <td>0.000000</td>\n",
       "      <td>1.076864</td>\n",
       "      <td>1.549840</td>\n",
       "      <td>1.915816</td>\n",
       "    </tr>\n",
       "    <tr>\n",
       "      <th>SYNTH-ACC-00296</th>\n",
       "      <td>ACC_3</td>\n",
       "      <td>0.911690</td>\n",
       "      <td>0.000000</td>\n",
       "      <td>0.000000</td>\n",
       "      <td>1.27617</td>\n",
       "      <td>0.000000</td>\n",
       "      <td>0.045065</td>\n",
       "      <td>0.000000</td>\n",
       "      <td>0.000000</td>\n",
       "      <td>0.000000</td>\n",
       "      <td>2.076759</td>\n",
       "    </tr>\n",
       "    <tr>\n",
       "      <th>SYNTH-ACC-00297</th>\n",
       "      <td>ACC_3</td>\n",
       "      <td>0.911690</td>\n",
       "      <td>0.281017</td>\n",
       "      <td>1.124542</td>\n",
       "      <td>0.00000</td>\n",
       "      <td>1.370883</td>\n",
       "      <td>0.526271</td>\n",
       "      <td>0.000000</td>\n",
       "      <td>1.896240</td>\n",
       "      <td>1.030991</td>\n",
       "      <td>1.915816</td>\n",
       "    </tr>\n",
       "    <tr>\n",
       "      <th>SYNTH-ACC-00298</th>\n",
       "      <td>ACC_3</td>\n",
       "      <td>0.988697</td>\n",
       "      <td>0.000000</td>\n",
       "      <td>1.117186</td>\n",
       "      <td>0.00000</td>\n",
       "      <td>0.000000</td>\n",
       "      <td>1.306307</td>\n",
       "      <td>0.007447</td>\n",
       "      <td>1.724847</td>\n",
       "      <td>1.211778</td>\n",
       "      <td>0.000000</td>\n",
       "    </tr>\n",
       "    <tr>\n",
       "      <th>SYNTH-ACC-00299</th>\n",
       "      <td>ACC_3</td>\n",
       "      <td>0.000000</td>\n",
       "      <td>0.000000</td>\n",
       "      <td>1.509486</td>\n",
       "      <td>0.00000</td>\n",
       "      <td>0.000000</td>\n",
       "      <td>0.000000</td>\n",
       "      <td>0.000000</td>\n",
       "      <td>0.000000</td>\n",
       "      <td>0.000000</td>\n",
       "      <td>2.082103</td>\n",
       "    </tr>\n",
       "  </tbody>\n",
       "</table>\n",
       "<p>300 rows × 11 columns</p>\n",
       "</div>"
      ],
      "text/plain": [
       "                Labels         0         1         2        3         4  \\\n",
       "SYNTH-ACC-00000  ACC_1  0.000000  0.000000  0.000000  0.00000  1.382463   \n",
       "SYNTH-ACC-00001  ACC_1  0.000000  0.569945  1.356532  0.00000  2.606020   \n",
       "SYNTH-ACC-00002  ACC_1  0.000000  0.834944  1.107204  0.00000  1.200183   \n",
       "SYNTH-ACC-00003  ACC_1  1.504759  0.446467  0.000000  0.00000  1.594364   \n",
       "SYNTH-ACC-00004  ACC_1  1.624353  0.000000  0.785319  0.00000  0.663160   \n",
       "...                ...       ...       ...       ...      ...       ...   \n",
       "SYNTH-ACC-00295  ACC_3  1.577323  0.000000  1.107048  0.00000  0.000000   \n",
       "SYNTH-ACC-00296  ACC_3  0.911690  0.000000  0.000000  1.27617  0.000000   \n",
       "SYNTH-ACC-00297  ACC_3  0.911690  0.281017  1.124542  0.00000  1.370883   \n",
       "SYNTH-ACC-00298  ACC_3  0.988697  0.000000  1.117186  0.00000  0.000000   \n",
       "SYNTH-ACC-00299  ACC_3  0.000000  0.000000  1.509486  0.00000  0.000000   \n",
       "\n",
       "                        5         6         7         8         9  \n",
       "SYNTH-ACC-00000  0.215958  0.000000  1.076301  1.754582  0.000000  \n",
       "SYNTH-ACC-00001  0.000000  0.000000  1.743499  1.290467  1.784984  \n",
       "SYNTH-ACC-00002  1.403840  0.000000  1.076301  0.000000  0.000000  \n",
       "SYNTH-ACC-00003  1.166025  0.000000  0.000000  1.619147  0.000000  \n",
       "SYNTH-ACC-00004  1.403840  0.000000  0.000000  0.000000  1.986486  \n",
       "...                   ...       ...       ...       ...       ...  \n",
       "SYNTH-ACC-00295  1.262425  0.000000  1.076864  1.549840  1.915816  \n",
       "SYNTH-ACC-00296  0.045065  0.000000  0.000000  0.000000  2.076759  \n",
       "SYNTH-ACC-00297  0.526271  0.000000  1.896240  1.030991  1.915816  \n",
       "SYNTH-ACC-00298  1.306307  0.007447  1.724847  1.211778  0.000000  \n",
       "SYNTH-ACC-00299  0.000000  0.000000  0.000000  0.000000  2.082103  \n",
       "\n",
       "[300 rows x 11 columns]"
      ]
     },
     "execution_count": 149,
     "metadata": {},
     "output_type": "execute_result"
    }
   ],
   "source": [
    "synth_full_frame"
   ]
  },
  {
   "cell_type": "code",
   "execution_count": 153,
   "id": "ea85f329-7ed7-453d-bfb5-35453e480604",
   "metadata": {},
   "outputs": [],
   "source": [
    "synth_full_frame.to_csv('i_o/shuffle/synthetic_feature_sets/'+\n",
    "                        chrt+'_'+\n",
    "                        str(synth_samples_per_subtype)+'_per_sbtyp.tsv',\n",
    "                        sep = '\\t')"
   ]
  },
  {
   "cell_type": "code",
   "execution_count": null,
   "id": "6c6aa057-622a-4c93-a960-7cc53b88940e",
   "metadata": {},
   "outputs": [],
   "source": [
    "# write / read the synthetic latent feature object - write part is done, cont blw\n",
    "# then decode it\n",
    "# Then run a random forest on it, custom synthetic subsampling range\n",
    "# Then plot the learning curve"
   ]
  },
  {
   "cell_type": "code",
   "execution_count": 154,
   "id": "96d820c1-064a-4769-a143-2a9c55eca64c",
   "metadata": {},
   "outputs": [],
   "source": [
    "synth_full_frame_test = pd.read_csv('i_o/shuffle/synthetic_feature_sets/'+\n",
    "                        chrt+'_'+\n",
    "                        str(synth_samples_per_subtype)+'_per_sbtyp.tsv',\n",
    "                        sep = '\\t',\n",
    "                                   index_col = 0)"
   ]
  },
  {
   "cell_type": "code",
   "execution_count": 155,
   "id": "a66193a5-a871-4b88-8d35-92a8a2da939f",
   "metadata": {},
   "outputs": [
    {
     "data": {
      "text/html": [
       "<div>\n",
       "<style scoped>\n",
       "    .dataframe tbody tr th:only-of-type {\n",
       "        vertical-align: middle;\n",
       "    }\n",
       "\n",
       "    .dataframe tbody tr th {\n",
       "        vertical-align: top;\n",
       "    }\n",
       "\n",
       "    .dataframe thead th {\n",
       "        text-align: right;\n",
       "    }\n",
       "</style>\n",
       "<table border=\"1\" class=\"dataframe\">\n",
       "  <thead>\n",
       "    <tr style=\"text-align: right;\">\n",
       "      <th></th>\n",
       "      <th>Labels</th>\n",
       "      <th>0</th>\n",
       "      <th>1</th>\n",
       "      <th>2</th>\n",
       "      <th>3</th>\n",
       "      <th>4</th>\n",
       "      <th>5</th>\n",
       "      <th>6</th>\n",
       "      <th>7</th>\n",
       "      <th>8</th>\n",
       "      <th>9</th>\n",
       "    </tr>\n",
       "  </thead>\n",
       "  <tbody>\n",
       "    <tr>\n",
       "      <th>SYNTH-ACC-00000</th>\n",
       "      <td>ACC_1</td>\n",
       "      <td>0.000000</td>\n",
       "      <td>0.000000</td>\n",
       "      <td>0.000000</td>\n",
       "      <td>0.00000</td>\n",
       "      <td>1.382463</td>\n",
       "      <td>0.215958</td>\n",
       "      <td>0.000000</td>\n",
       "      <td>1.076301</td>\n",
       "      <td>1.754582</td>\n",
       "      <td>0.000000</td>\n",
       "    </tr>\n",
       "    <tr>\n",
       "      <th>SYNTH-ACC-00001</th>\n",
       "      <td>ACC_1</td>\n",
       "      <td>0.000000</td>\n",
       "      <td>0.569945</td>\n",
       "      <td>1.356532</td>\n",
       "      <td>0.00000</td>\n",
       "      <td>2.606020</td>\n",
       "      <td>0.000000</td>\n",
       "      <td>0.000000</td>\n",
       "      <td>1.743499</td>\n",
       "      <td>1.290467</td>\n",
       "      <td>1.784984</td>\n",
       "    </tr>\n",
       "    <tr>\n",
       "      <th>SYNTH-ACC-00002</th>\n",
       "      <td>ACC_1</td>\n",
       "      <td>0.000000</td>\n",
       "      <td>0.834944</td>\n",
       "      <td>1.107204</td>\n",
       "      <td>0.00000</td>\n",
       "      <td>1.200183</td>\n",
       "      <td>1.403840</td>\n",
       "      <td>0.000000</td>\n",
       "      <td>1.076301</td>\n",
       "      <td>0.000000</td>\n",
       "      <td>0.000000</td>\n",
       "    </tr>\n",
       "    <tr>\n",
       "      <th>SYNTH-ACC-00003</th>\n",
       "      <td>ACC_1</td>\n",
       "      <td>1.504759</td>\n",
       "      <td>0.446467</td>\n",
       "      <td>0.000000</td>\n",
       "      <td>0.00000</td>\n",
       "      <td>1.594364</td>\n",
       "      <td>1.166025</td>\n",
       "      <td>0.000000</td>\n",
       "      <td>0.000000</td>\n",
       "      <td>1.619147</td>\n",
       "      <td>0.000000</td>\n",
       "    </tr>\n",
       "    <tr>\n",
       "      <th>SYNTH-ACC-00004</th>\n",
       "      <td>ACC_1</td>\n",
       "      <td>1.624353</td>\n",
       "      <td>0.000000</td>\n",
       "      <td>0.785319</td>\n",
       "      <td>0.00000</td>\n",
       "      <td>0.663160</td>\n",
       "      <td>1.403840</td>\n",
       "      <td>0.000000</td>\n",
       "      <td>0.000000</td>\n",
       "      <td>0.000000</td>\n",
       "      <td>1.986486</td>\n",
       "    </tr>\n",
       "    <tr>\n",
       "      <th>...</th>\n",
       "      <td>...</td>\n",
       "      <td>...</td>\n",
       "      <td>...</td>\n",
       "      <td>...</td>\n",
       "      <td>...</td>\n",
       "      <td>...</td>\n",
       "      <td>...</td>\n",
       "      <td>...</td>\n",
       "      <td>...</td>\n",
       "      <td>...</td>\n",
       "      <td>...</td>\n",
       "    </tr>\n",
       "    <tr>\n",
       "      <th>SYNTH-ACC-00295</th>\n",
       "      <td>ACC_3</td>\n",
       "      <td>1.577323</td>\n",
       "      <td>0.000000</td>\n",
       "      <td>1.107048</td>\n",
       "      <td>0.00000</td>\n",
       "      <td>0.000000</td>\n",
       "      <td>1.262425</td>\n",
       "      <td>0.000000</td>\n",
       "      <td>1.076864</td>\n",
       "      <td>1.549840</td>\n",
       "      <td>1.915816</td>\n",
       "    </tr>\n",
       "    <tr>\n",
       "      <th>SYNTH-ACC-00296</th>\n",
       "      <td>ACC_3</td>\n",
       "      <td>0.911690</td>\n",
       "      <td>0.000000</td>\n",
       "      <td>0.000000</td>\n",
       "      <td>1.27617</td>\n",
       "      <td>0.000000</td>\n",
       "      <td>0.045065</td>\n",
       "      <td>0.000000</td>\n",
       "      <td>0.000000</td>\n",
       "      <td>0.000000</td>\n",
       "      <td>2.076759</td>\n",
       "    </tr>\n",
       "    <tr>\n",
       "      <th>SYNTH-ACC-00297</th>\n",
       "      <td>ACC_3</td>\n",
       "      <td>0.911690</td>\n",
       "      <td>0.281017</td>\n",
       "      <td>1.124542</td>\n",
       "      <td>0.00000</td>\n",
       "      <td>1.370883</td>\n",
       "      <td>0.526271</td>\n",
       "      <td>0.000000</td>\n",
       "      <td>1.896240</td>\n",
       "      <td>1.030991</td>\n",
       "      <td>1.915816</td>\n",
       "    </tr>\n",
       "    <tr>\n",
       "      <th>SYNTH-ACC-00298</th>\n",
       "      <td>ACC_3</td>\n",
       "      <td>0.988697</td>\n",
       "      <td>0.000000</td>\n",
       "      <td>1.117186</td>\n",
       "      <td>0.00000</td>\n",
       "      <td>0.000000</td>\n",
       "      <td>1.306307</td>\n",
       "      <td>0.007447</td>\n",
       "      <td>1.724847</td>\n",
       "      <td>1.211778</td>\n",
       "      <td>0.000000</td>\n",
       "    </tr>\n",
       "    <tr>\n",
       "      <th>SYNTH-ACC-00299</th>\n",
       "      <td>ACC_3</td>\n",
       "      <td>0.000000</td>\n",
       "      <td>0.000000</td>\n",
       "      <td>1.509486</td>\n",
       "      <td>0.00000</td>\n",
       "      <td>0.000000</td>\n",
       "      <td>0.000000</td>\n",
       "      <td>0.000000</td>\n",
       "      <td>0.000000</td>\n",
       "      <td>0.000000</td>\n",
       "      <td>2.082103</td>\n",
       "    </tr>\n",
       "  </tbody>\n",
       "</table>\n",
       "<p>300 rows × 11 columns</p>\n",
       "</div>"
      ],
      "text/plain": [
       "                Labels         0         1         2        3         4  \\\n",
       "SYNTH-ACC-00000  ACC_1  0.000000  0.000000  0.000000  0.00000  1.382463   \n",
       "SYNTH-ACC-00001  ACC_1  0.000000  0.569945  1.356532  0.00000  2.606020   \n",
       "SYNTH-ACC-00002  ACC_1  0.000000  0.834944  1.107204  0.00000  1.200183   \n",
       "SYNTH-ACC-00003  ACC_1  1.504759  0.446467  0.000000  0.00000  1.594364   \n",
       "SYNTH-ACC-00004  ACC_1  1.624353  0.000000  0.785319  0.00000  0.663160   \n",
       "...                ...       ...       ...       ...      ...       ...   \n",
       "SYNTH-ACC-00295  ACC_3  1.577323  0.000000  1.107048  0.00000  0.000000   \n",
       "SYNTH-ACC-00296  ACC_3  0.911690  0.000000  0.000000  1.27617  0.000000   \n",
       "SYNTH-ACC-00297  ACC_3  0.911690  0.281017  1.124542  0.00000  1.370883   \n",
       "SYNTH-ACC-00298  ACC_3  0.988697  0.000000  1.117186  0.00000  0.000000   \n",
       "SYNTH-ACC-00299  ACC_3  0.000000  0.000000  1.509486  0.00000  0.000000   \n",
       "\n",
       "                        5         6         7         8         9  \n",
       "SYNTH-ACC-00000  0.215958  0.000000  1.076301  1.754582  0.000000  \n",
       "SYNTH-ACC-00001  0.000000  0.000000  1.743499  1.290467  1.784984  \n",
       "SYNTH-ACC-00002  1.403840  0.000000  1.076301  0.000000  0.000000  \n",
       "SYNTH-ACC-00003  1.166025  0.000000  0.000000  1.619147  0.000000  \n",
       "SYNTH-ACC-00004  1.403840  0.000000  0.000000  0.000000  1.986486  \n",
       "...                   ...       ...       ...       ...       ...  \n",
       "SYNTH-ACC-00295  1.262425  0.000000  1.076864  1.549840  1.915816  \n",
       "SYNTH-ACC-00296  0.045065  0.000000  0.000000  0.000000  2.076759  \n",
       "SYNTH-ACC-00297  0.526271  0.000000  1.896240  1.030991  1.915816  \n",
       "SYNTH-ACC-00298  1.306307  0.007447  1.724847  1.211778  0.000000  \n",
       "SYNTH-ACC-00299  0.000000  0.000000  0.000000  0.000000  2.082103  \n",
       "\n",
       "[300 rows x 11 columns]"
      ]
     },
     "execution_count": 155,
     "metadata": {},
     "output_type": "execute_result"
    }
   ],
   "source": [
    "synth_full_frame_test"
   ]
  },
  {
   "cell_type": "markdown",
   "id": "d9fdc926-be84-4995-8685-772cbc09c3c0",
   "metadata": {
    "tags": []
   },
   "source": [
    "### Classify on synthetic samples"
   ]
  },
  {
   "cell_type": "code",
   "execution_count": 156,
   "id": "e43b99d7-978f-4ace-96cb-717b70d57dcc",
   "metadata": {},
   "outputs": [],
   "source": [
    "df_to_clf = synth_full_frame_test"
   ]
  },
  {
   "cell_type": "code",
   "execution_count": 157,
   "id": "1606fb5c-4e7b-4194-a60d-55d0c544177f",
   "metadata": {},
   "outputs": [
    {
     "name": "stdout",
     "output_type": "stream",
     "text": [
      "10\n",
      "15\n",
      "20\n",
      "25\n",
      "30\n",
      "35\n",
      "40\n",
      "45\n",
      "50\n",
      "55\n",
      "60\n",
      "65\n",
      "70\n",
      "75\n",
      "80\n",
      "85\n",
      "90\n",
      "95\n",
      "clf done\n"
     ]
    }
   ],
   "source": [
    "# RF_F1_dct = {} # is this vestigial from some early high-resolution plot?\n",
    "\n",
    "RF_F1_means = {}\n",
    "# DT_F1_means = {}\n",
    "\n",
    "# for smp_sz in list(range(20, 251, 10)):\n",
    "# for smp_sz in list(range(15, 76, 5)):       # Toggle on for real ACC  <---------\n",
    "    \n",
    "for smp_sz in list(range(10, 100, 5)):       # Toggle on for synthetic ACC  <---------    \n",
    "    \n",
    "    print(smp_sz)\n",
    "    # print(' ')\n",
    "    \n",
    "    stdev_lst = []\n",
    "    mean_lst = []\n",
    "    \n",
    "    RF_output = []\n",
    "    # DT_output = []\n",
    "    \n",
    "    resmpl_count = 150\n",
    "    for r in list(range(0, resmpl_count)):\n",
    "        \n",
    "        labeled_sample_subset_frame = df_to_clf.sample(smp_sz)\n",
    "        X = labeled_sample_subset_frame.iloc[:, 1:]\n",
    "        y = labeled_sample_subset_frame.iloc[:, 0]\n",
    "        X_train, X_test, y_train, y_test = train_test_split(\n",
    "                    X, y,\n",
    "                        test_size=0.33,\n",
    "                            )\n",
    "        RF_clf = RandomForestClassifier(max_depth=2)\n",
    "        # DT_clf = DecisionTreeClassifier()\n",
    "        RF_clf.fit(X_train, y_train)\n",
    "        # DT_clf.fit(X_train, y_train)\n",
    "\n",
    "        RF_F1_scr = f1_score(y_test, RF_clf.predict(X_test), average='weighted')\n",
    "        # DT_F1_scr = f1_score(y_test, DT_clf.predict(X_test), average='weighted')\n",
    "        RF_output.append(RF_F1_scr)\n",
    "        # DT_output.append(DT_F1_scr)\n",
    "        \n",
    "        # if len(RF_output) > 1:\n",
    "        #     stdev_lst.append(stdev(RF_output))\n",
    "        #     mean_lst.append(mean(RF_output)) # running mean for active learning\n",
    "           \n",
    "    RF_F1_means[smp_sz] = round(mean(RF_output), 3)\n",
    "    # DT_F1_means[smp_sz] = round(mean(DT_output), 3)\n",
    "    \n",
    "    # RF_F1_dct[smp_sz] = RF_output # vestigial storage object, storing the full-resoltion prediction results\n",
    "    \n",
    "print('clf done')"
   ]
  },
  {
   "cell_type": "code",
   "execution_count": 158,
   "id": "e1704085-bf34-4763-8eba-8e13427ae08c",
   "metadata": {},
   "outputs": [],
   "source": [
    "df_to_clf.index.name"
   ]
  },
  {
   "cell_type": "code",
   "execution_count": 159,
   "id": "b2534c6b-c2f0-4a81-9b85-399648b63fac",
   "metadata": {},
   "outputs": [],
   "source": [
    "df_to_clf.index.name = 'ACC' # go back and insert this somewhere"
   ]
  },
  {
   "cell_type": "code",
   "execution_count": 160,
   "id": "2febca40-7f60-4321-b376-70838355730d",
   "metadata": {},
   "outputs": [
    {
     "data": {
      "text/plain": [
       "'ACC'"
      ]
     },
     "execution_count": 160,
     "metadata": {},
     "output_type": "execute_result"
    }
   ],
   "source": [
    "df_to_clf.index.name"
   ]
  },
  {
   "cell_type": "code",
   "execution_count": 161,
   "id": "e0e1b200-98f0-41a6-b162-c14230e2b763",
   "metadata": {},
   "outputs": [
    {
     "data": {
      "image/png": "[encoded data removed]",
      "text/plain": [
       "<Figure size 640x480 with 1 Axes>"
      ]
     },
     "metadata": {},
     "output_type": "display_data"
    }
   ],
   "source": [
    "clf = 'random forest'\n",
    "plt.plot(list(RF_F1_means.keys()),\n",
    "       RF_F1_means.values(),label=clf)\n",
    "# plt.plot(list(DT_F1_means.keys()),\n",
    "#        DT_F1_means.values(),label='dt')\n",
    "plt.suptitle('Learning curves, '+df_to_clf.index.name+', synth, fit on '+\n",
    "             df_to_clf.index.name)\n",
    "# plt.title('VAE input data: MAD 5K GEXP')\n",
    "plt.title('Synth: ' + feature_set) # across or within cohorts\n",
    "plt.ylabel('F1 score')\n",
    "plt.xlabel('Sub-sample size, resampling with replacement')\n",
    "plt.annotate('Resamplings per step size = '+str(resmpl_count),\n",
    "                xy=(.5, .2), xycoords='figure fraction',\n",
    "                horizontalalignment='left', verticalalignment='top',\n",
    "                )\n",
    "plt.legend(loc=\"lower left\")\n",
    "plt.savefig(\n",
    "    'i_o/shuffle/synth_curves/'+\n",
    "    str(df_to_clf.index.name)+'.synth_fit_on.'+fit_on +'_'+feature_set+'_'+\n",
    "    str(list(RF_F1_means.keys())[0])+'-to-'+str(smp_sz)+\n",
    "    '_'+'rsmpls.'+str(resmpl_count)+\n",
    "    '_v0.png', bbox_inches = 'tight')"
   ]
  },
  {
   "cell_type": "code",
   "execution_count": null,
   "id": "fe9af534-2d28-4ee0-92ba-4224f753a4db",
   "metadata": {},
   "outputs": [],
   "source": [
    "# End 2022-11-28, Monday afternoon\n",
    "# Build-out the super position plots\n",
    "    # work on file naming\n",
    "# Last line of paper: can do better\n",
    "\n",
    "# Class imbalance is optimization,\n",
    "    # deal with later\n",
    "    # maintaining class imbalanace could return closer to input F1\n",
    "    # because the larger classes might be better defined"
   ]
  },
  {
   "cell_type": "markdown",
   "id": "60fa9787-462c-4dd6-b944-55330cd7a73d",
   "metadata": {
    "tags": []
   },
   "source": [
    "### Shuffle devel"
   ]
  },
  {
   "cell_type": "code",
   "execution_count": null,
   "id": "2897bd50-b4df-4f65-b754-cdec553ef792",
   "metadata": {},
   "outputs": [],
   "source": [
    "target ouput dir:\n",
    "i_o/shuffle/synthetic_feature_sets"
   ]
  },
  {
   "cell_type": "code",
   "execution_count": 110,
   "id": "30dde3d0-9c84-4800-94f2-e417468ed16d",
   "metadata": {},
   "outputs": [
    {
     "data": {
      "text/plain": [
       "['00000',\n",
       " '00001',\n",
       " '00002',\n",
       " '00003',\n",
       " '00004',\n",
       " '00005',\n",
       " '00006',\n",
       " '00007',\n",
       " '00008',\n",
       " '00009',\n",
       " '00010',\n",
       " '00011',\n",
       " '00012',\n",
       " '00013',\n",
       " '00014',\n",
       " '00015',\n",
       " '00016',\n",
       " '00017',\n",
       " '00018',\n",
       " '00019',\n",
       " '00020',\n",
       " '00021',\n",
       " '00022',\n",
       " '00023',\n",
       " '00024',\n",
       " '00025',\n",
       " '00026',\n",
       " '00027',\n",
       " '00028',\n",
       " '00029',\n",
       " '00030',\n",
       " '00031',\n",
       " '00032',\n",
       " '00033',\n",
       " '00034',\n",
       " '00035',\n",
       " '00036',\n",
       " '00037',\n",
       " '00038',\n",
       " '00039',\n",
       " '00040',\n",
       " '00041',\n",
       " '00042',\n",
       " '00043',\n",
       " '00044',\n",
       " '00045',\n",
       " '00046',\n",
       " '00047',\n",
       " '00048',\n",
       " '00049',\n",
       " '00050',\n",
       " '00051',\n",
       " '00052',\n",
       " '00053',\n",
       " '00054',\n",
       " '00055',\n",
       " '00056',\n",
       " '00057',\n",
       " '00058',\n",
       " '00059',\n",
       " '00060',\n",
       " '00061',\n",
       " '00062',\n",
       " '00063',\n",
       " '00064',\n",
       " '00065',\n",
       " '00066',\n",
       " '00067',\n",
       " '00068',\n",
       " '00069',\n",
       " '00070',\n",
       " '00071',\n",
       " '00072',\n",
       " '00073',\n",
       " '00074',\n",
       " '00075',\n",
       " '00076',\n",
       " '00077',\n",
       " '00078',\n",
       " '00079',\n",
       " '00080',\n",
       " '00081',\n",
       " '00082',\n",
       " '00083',\n",
       " '00084',\n",
       " '00085',\n",
       " '00086',\n",
       " '00087',\n",
       " '00088',\n",
       " '00089',\n",
       " '00090',\n",
       " '00091',\n",
       " '00092',\n",
       " '00093',\n",
       " '00094',\n",
       " '00095',\n",
       " '00096',\n",
       " '00097',\n",
       " '00098',\n",
       " '00099']"
      ]
     },
     "execution_count": 110,
     "metadata": {},
     "output_type": "execute_result"
    }
   ],
   "source": [
    "[str(\n",
    "    item).zfill(\n",
    "    5) for item in list(range(\n",
    "    synth_ndx_strt, synth_samples_per_subtype + synth_ndx_strt,))] # production"
   ]
  },
  {
   "cell_type": "code",
   "execution_count": null,
   "id": "887599c3-bfd4-4d8f-b240-794876daa461",
   "metadata": {},
   "outputs": [],
   "source": []
  }
 ],
 "metadata": {
  "kernelspec": {
   "display_name": "Python 3 (ipykernel)",
   "language": "python",
   "name": "python3"
  },
  "language_info": {
   "codemirror_mode": {
    "name": "ipython",
    "version": 3
   },
   "file_extension": ".py",
   "mimetype": "text/x-python",
   "name": "python",
   "nbconvert_exporter": "python",
   "pygments_lexer": "ipython3",
   "version": "3.9.13"
  }
 },
 "nbformat": 4,
 "nbformat_minor": 5
}
