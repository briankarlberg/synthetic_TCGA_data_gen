{
 "cells": [
  {
   "cell_type": "markdown",
   "id": "dbd0f996-0afd-402c-9e3b-e59e0f00d1c6",
   "metadata": {
    "jp-MarkdownHeadingCollapsed": true,
    "tags": []
   },
   "source": [
    "### Latent space sampling - build superimposed learning curves\n",
    "Intro:  \n",
    "Purpose is to generate synthetic samples that fit within the distribution of each subtype  \n",
    "within a given a given cancer (cohort) primary tumor type"
   ]
  },
  {
   "cell_type": "code",
   "execution_count": null,
   "id": "2b29e141-b8b9-4ebb-a635-c253bafa1214",
   "metadata": {},
   "outputs": [],
   "source": [
    "# VAE latent feature sampling method benchmarks\n",
    "    # focus on one cancer (at a time)\n",
    "        # adrenocortical and breast invasive carcinoma\n",
    "    # make learning curves of input data (step one)\n",
    "        # writing ACC and BRCA learning curves to i_o\n",
    "    # superimpose decoded curves\n",
    "    # superimpose curves derived from decoded synthetic latent samples \n",
    "    \n",
    "    # ilustrate the concept of encoded samples having a label and a TCGA patient index\n",
    "    # Develop method to assign synthetic TCGA patient index in same format"
   ]
  },
  {
   "cell_type": "code",
   "execution_count": 133,
   "id": "5b69ef6f-93c9-418b-98e0-11df7928e4de",
   "metadata": {},
   "outputs": [
    {
     "data": {
      "text/plain": [
       "'/Users/karlberb/Documents/work/sample_count/synthetic_TCGA_data_gen/g_learning_curves'"
      ]
     },
     "execution_count": 133,
     "metadata": {},
     "output_type": "execute_result"
    }
   ],
   "source": [
    "pwd"
   ]
  },
  {
   "cell_type": "code",
   "execution_count": 50,
   "id": "813de48a-d417-4de7-b6fd-8dd8ba6d0ba8",
   "metadata": {
    "tags": []
   },
   "outputs": [
    {
     "name": "stdout",
     "output_type": "stream",
     "text": [
      "Variable                      Type                      Data/Info\n",
      "-----------------------------------------------------------------\n",
      "DecisionTreeClassifier        ABCMeta                   <class 'sklearn.tree._cla<...>.DecisionTreeClassifier'>\n",
      "RF_F1_dct                     dict                      n=1\n",
      "RF_F1_scr                     float64                   0.7892156862745097\n",
      "RF_clf                        RandomForestClassifier    RandomForestClassifier(max_depth=2)\n",
      "RF_output                     list                      n=100\n",
      "RandomForestClassifier        ABCMeta                   <class 'sklearn.ensemble.<...>.RandomForestClassifier'>\n",
      "X                             DataFrame                               N:GEXP::ALB<...>n[50 rows x 5000 columns]\n",
      "X_test                        DataFrame                               N:GEXP::ALB<...>n[17 rows x 5000 columns]\n",
      "X_train                       DataFrame                               N:GEXP::ALB<...>n[33 rows x 5000 columns]\n",
      "acc                           DataFrame                              Labels  N:GE<...>n[76 rows x 5001 columns]\n",
      "ax                            AxesSubplot               AxesSubplot(0.125,0.11;0.775x0.77)\n",
      "brca                          DataFrame                               Labels  N:G<...>[995 rows x 5001 columns]\n",
      "f1_score                      function                  <function f1_score at 0x16a0b1550>\n",
      "fig                           Figure                    Figure(640x480)\n",
      "figure                        function                  <function figure at 0x2855d7160>\n",
      "five_k                        list                      n=25\n",
      "glob                          module                    <module 'glob' from '/Use<...>9/lib/python3.9/glob.py'>\n",
      "labeled_sample_subset_frame   DataFrame                               Labels  N:G<...>n[50 rows x 5001 columns]\n",
      "mean                          function                  <function mean at 0x17feeb040>\n",
      "mean_lst                      list                      n=99\n",
      "pd                            module                    <module 'pandas' from '/U<...>ages/pandas/__init__.py'>\n",
      "plt                           module                    <module 'matplotlib.pyplo<...>es/matplotlib/pyplot.py'>\n",
      "r                             int                       99\n",
      "smp_sz                        int                       50\n",
      "stdev                         function                  <function stdev at 0x17feeb820>\n",
      "stdev_lst                     list                      n=99\n",
      "train_test_split              function                  <function train_test_split at 0x15ffa1670>\n",
      "y                             Series                    BRCA\\nTCGA-BH-A0HP    BRC<...>me: Labels, dtype: object\n",
      "y_test                        Series                    BRCA\\nTCGA-D8-A1X9    BRC<...>me: Labels, dtype: object\n",
      "y_train                       Series                    BRCA\\nTCGA-A7-A6VX    BRC<...>me: Labels, dtype: object\n"
     ]
    }
   ],
   "source": [
    "%whos"
   ]
  },
  {
   "cell_type": "markdown",
   "id": "dda37b46-3c46-4d87-9c07-8eca0b9f9c25",
   "metadata": {
    "tags": []
   },
   "source": [
    "### Imports"
   ]
  },
  {
   "cell_type": "code",
   "execution_count": 1,
   "id": "894a0403-6dfe-4dde-bb21-889ad8b5c4db",
   "metadata": {},
   "outputs": [],
   "source": [
    "import pandas as pd\n",
    "\n",
    "from sklearn.model_selection import train_test_split\n",
    "\n",
    "from sklearn.ensemble import RandomForestClassifier\n",
    "from sklearn.tree import DecisionTreeClassifier\n",
    "\n",
    "from sklearn.metrics import f1_score\n",
    "\n",
    "from statistics import mean\n",
    "from statistics import stdev"
   ]
  },
  {
   "cell_type": "code",
   "execution_count": 7,
   "id": "44d2aa2d-2eb7-4612-9d8f-06e7dee4c979",
   "metadata": {},
   "outputs": [],
   "source": [
    "import pandas as pd\n",
    "import glob as glob\n",
    "\n",
    "import matplotlib.pyplot as plt\n",
    "from matplotlib.pyplot import figure\n",
    "\n",
    "from statistics import mean\n",
    "from statistics import stdev"
   ]
  },
  {
   "cell_type": "markdown",
   "id": "c490bb5e-a7ba-47fe-98e9-4ab150a38fc7",
   "metadata": {
    "jp-MarkdownHeadingCollapsed": true,
    "tags": []
   },
   "source": [
    "### Setup"
   ]
  },
  {
   "cell_type": "code",
   "execution_count": null,
   "id": "e06e843b-c816-4a71-b535-a3a92fb0b9da",
   "metadata": {},
   "outputs": [],
   "source": [
    "plt_v = 18 # Plot set version for file naming\n",
    "re_samp = 5 # Resample at 100%, to train-test splits\n",
    "trn_tst_splts = 5"
   ]
  },
  {
   "cell_type": "code",
   "execution_count": 134,
   "id": "0c87acab-565f-49f7-ae84-797ac8c2b200",
   "metadata": {},
   "outputs": [
    {
     "data": {
      "text/plain": [
       "18"
      ]
     },
     "execution_count": 134,
     "metadata": {},
     "output_type": "execute_result"
    }
   ],
   "source": [
    "plt_v"
   ]
  },
  {
   "cell_type": "code",
   "execution_count": 136,
   "id": "540c1837-9112-4cb2-b852-2c265df592bb",
   "metadata": {},
   "outputs": [
    {
     "ename": "NameError",
     "evalue": "name 're_samp' is not defined",
     "output_type": "error",
     "traceback": [
      "\u001b[0;31m---------------------------------------------------------------------------\u001b[0m",
      "\u001b[0;31mNameError\u001b[0m                                 Traceback (most recent call last)",
      "Cell \u001b[0;32mIn [136], line 1\u001b[0m\n\u001b[0;32m----> 1\u001b[0m \u001b[43mre_samp\u001b[49m\n",
      "\u001b[0;31mNameError\u001b[0m: name 're_samp' is not defined"
     ]
    }
   ],
   "source": [
    "re_samp"
   ]
  },
  {
   "cell_type": "code",
   "execution_count": 3,
   "id": "121450a5-e49a-4308-ba21-e2ece69e0872",
   "metadata": {},
   "outputs": [],
   "source": [
    "five_k = sorted(glob.glob('../g_devel/data_GEXP_5k_col_norm/*.tsv'))"
   ]
  },
  {
   "cell_type": "code",
   "execution_count": 135,
   "id": "027f6888-9128-43f1-ab57-32f34e9c6ddc",
   "metadata": {
    "tags": []
   },
   "outputs": [
    {
     "data": {
      "text/plain": [
       "['../g_devel/data_GEXP_5k_col_norm/ACC_gexp_col_norm_5k.tsv',\n",
       " '../g_devel/data_GEXP_5k_col_norm/BLCA_gexp_col_norm_5k.tsv',\n",
       " '../g_devel/data_GEXP_5k_col_norm/BRCA_gexp_col_norm_5k.tsv',\n",
       " '../g_devel/data_GEXP_5k_col_norm/CESC_gexp_col_norm_5k.tsv',\n",
       " '../g_devel/data_GEXP_5k_col_norm/COADREAD_gexp_col_norm_5k.tsv',\n",
       " '../g_devel/data_GEXP_5k_col_norm/ESCC_gexp_col_norm_5k.tsv',\n",
       " '../g_devel/data_GEXP_5k_col_norm/GEA_gexp_col_norm_5k.tsv',\n",
       " '../g_devel/data_GEXP_5k_col_norm/HNSC_gexp_col_norm_5k.tsv',\n",
       " '../g_devel/data_GEXP_5k_col_norm/KIRCKICH_gexp_col_norm_5k.tsv',\n",
       " '../g_devel/data_GEXP_5k_col_norm/KIRP_gexp_col_norm_5k.tsv',\n",
       " '../g_devel/data_GEXP_5k_col_norm/LIHCCHOL_gexp_col_norm_5k.tsv',\n",
       " '../g_devel/data_GEXP_5k_col_norm/LUAD_gexp_col_norm_5k.tsv',\n",
       " '../g_devel/data_GEXP_5k_col_norm/LUSC_gexp_col_norm_5k.tsv',\n",
       " '../g_devel/data_GEXP_5k_col_norm/MESO_gexp_col_norm_5k.tsv',\n",
       " '../g_devel/data_GEXP_5k_col_norm/OV_gexp_col_norm_5k.tsv',\n",
       " '../g_devel/data_GEXP_5k_col_norm/PAAD_gexp_col_norm_5k.tsv',\n",
       " '../g_devel/data_GEXP_5k_col_norm/PCPG_gexp_col_norm_5k.tsv',\n",
       " '../g_devel/data_GEXP_5k_col_norm/PRAD_gexp_col_norm_5k.tsv',\n",
       " '../g_devel/data_GEXP_5k_col_norm/SARC_gexp_col_norm_5k.tsv',\n",
       " '../g_devel/data_GEXP_5k_col_norm/SKCM_gexp_col_norm_5k.tsv',\n",
       " '../g_devel/data_GEXP_5k_col_norm/TGCT_gexp_col_norm_5k.tsv',\n",
       " '../g_devel/data_GEXP_5k_col_norm/THCA_gexp_col_norm_5k.tsv',\n",
       " '../g_devel/data_GEXP_5k_col_norm/THYM_gexp_col_norm_5k.tsv',\n",
       " '../g_devel/data_GEXP_5k_col_norm/UCEC_gexp_col_norm_5k.tsv',\n",
       " '../g_devel/data_GEXP_5k_col_norm/UVM_gexp_col_norm_5k.tsv']"
      ]
     },
     "execution_count": 135,
     "metadata": {},
     "output_type": "execute_result"
    }
   ],
   "source": [
    "five_k"
   ]
  },
  {
   "cell_type": "code",
   "execution_count": 168,
   "id": "acef0ae9-0ea2-44d4-aedc-43a2fadd8844",
   "metadata": {},
   "outputs": [],
   "source": [
    "brca_5k_across = pd.read_csv(five_k[2], sep=\"\\t\", index_col=0)"
   ]
  },
  {
   "cell_type": "code",
   "execution_count": 139,
   "id": "1f2b5bd7-1728-4447-894a-f7380d96422f",
   "metadata": {},
   "outputs": [
    {
     "data": {
      "text/plain": [
       "Index(['TCGA-3C-AAAU', 'TCGA-3C-AALI', 'TCGA-3C-AALJ', 'TCGA-3C-AALK',\n",
       "       'TCGA-4H-AAAK', 'TCGA-5L-AAT0', 'TCGA-5T-A9QA', 'TCGA-A1-A0SD',\n",
       "       'TCGA-A1-A0SE', 'TCGA-A1-A0SF',\n",
       "       ...\n",
       "       'TCGA-UL-AAZ6', 'TCGA-UU-A93S', 'TCGA-V7-A7HQ', 'TCGA-W8-A86G',\n",
       "       'TCGA-WT-AB41', 'TCGA-WT-AB44', 'TCGA-XX-A899', 'TCGA-XX-A89A',\n",
       "       'TCGA-Z7-A8R5', 'TCGA-Z7-A8R6'],\n",
       "      dtype='object', name='BRCA', length=995)"
      ]
     },
     "execution_count": 139,
     "metadata": {},
     "output_type": "execute_result"
    }
   ],
   "source": [
    "brca.index"
   ]
  },
  {
   "cell_type": "code",
   "execution_count": 140,
   "id": "204bb0f0-b8b7-4bcc-b606-bf5c54aaed7d",
   "metadata": {},
   "outputs": [],
   "source": [
    "synth_index = ['SYNTH-00001', 'SYNTH-00002']"
   ]
  },
  {
   "cell_type": "code",
   "execution_count": 141,
   "id": "609c813d-4612-4589-9a95-e44c376eee64",
   "metadata": {},
   "outputs": [
    {
     "data": {
      "text/plain": [
       "['SYNTH-00001', 'SYNTH-00002']"
      ]
     },
     "execution_count": 141,
     "metadata": {},
     "output_type": "execute_result"
    }
   ],
   "source": [
    "synth_index"
   ]
  },
  {
   "cell_type": "code",
   "execution_count": null,
   "id": "4acd7bec-7975-4818-b58b-093bdea86afa",
   "metadata": {},
   "outputs": [],
   "source": [
    "[str(item).zfill(6) for item in data] # template"
   ]
  },
  {
   "cell_type": "code",
   "execution_count": null,
   "id": "33f87128-a890-4e94-ac62-8226542cfd53",
   "metadata": {
    "tags": []
   },
   "outputs": [],
   "source": [
    "[str(item).zfill(5) for item in list(range(0,995,))] # production"
   ]
  },
  {
   "cell_type": "code",
   "execution_count": null,
   "id": "c849026c-08be-4432-acfb-ca9a297e1d93",
   "metadata": {},
   "outputs": [],
   "source": [
    "synth_index = ['SYNTH-' + jtem  for jtem in [str(item).zfill(5) for item in list(range(0,995,))]]"
   ]
  },
  {
   "cell_type": "code",
   "execution_count": 151,
   "id": "fe949c7d-16f5-434f-88db-b11401b6e1e7",
   "metadata": {},
   "outputs": [],
   "source": [
    "acc_5k_across = pd.read_csv(five_k[0], sep=\"\\t\", index_col=0)"
   ]
  },
  {
   "cell_type": "code",
   "execution_count": 152,
   "id": "720cfc9d-c05b-4e4f-9a78-f6d95669caad",
   "metadata": {
    "tags": []
   },
   "outputs": [],
   "source": [
    "# to F1 mini-plot\n",
    "    # focus-in on the most-comparable input / decoded ACC and BRCA\n",
    "    # Feature set and classifier pairs"
   ]
  },
  {
   "cell_type": "code",
   "execution_count": null,
   "id": "a1a1f53f-20c4-43b4-8541-9d197dc2c0c5",
   "metadata": {},
   "outputs": [],
   "source": [
    "RF_F1_dct = {}"
   ]
  },
  {
   "cell_type": "code",
   "execution_count": null,
   "id": "06223d9a-fd7b-44ad-9e4d-228a59c58f90",
   "metadata": {},
   "outputs": [],
   "source": [
    "re_samp"
   ]
  },
  {
   "cell_type": "code",
   "execution_count": 14,
   "id": "34f52fb5-aef0-45a4-9c15-5a4451a4fb04",
   "metadata": {},
   "outputs": [
    {
     "data": {
      "text/plain": [
       "(995, 5001)"
      ]
     },
     "execution_count": 14,
     "metadata": {},
     "output_type": "execute_result"
    }
   ],
   "source": [
    "brca.shape"
   ]
  },
  {
   "cell_type": "code",
   "execution_count": null,
   "id": "424d4327-1786-4c80-9987-9e212c9888dd",
   "metadata": {},
   "outputs": [],
   "source": [
    "# within"
   ]
  },
  {
   "cell_type": "markdown",
   "id": "aa6cb91d-cd45-4beb-a23b-18523c4a20cd",
   "metadata": {
    "jp-MarkdownHeadingCollapsed": true,
    "tags": []
   },
   "source": [
    "### Main learning curve loop"
   ]
  },
  {
   "cell_type": "code",
   "execution_count": 105,
   "id": "afd0eb47-4aa0-4dc3-9991-109ee20747ba",
   "metadata": {
    "tags": []
   },
   "outputs": [
    {
     "name": "stdout",
     "output_type": "stream",
     "text": [
      "15\n",
      " \n",
      "20\n",
      " \n",
      "25\n",
      " \n",
      "30\n",
      " \n",
      "35\n",
      " \n",
      "40\n",
      " \n",
      "45\n",
      " \n",
      "50\n",
      " \n",
      "55\n",
      " \n",
      "60\n",
      " \n",
      "65\n",
      " \n",
      "70\n",
      " \n",
      "75\n",
      " \n"
     ]
    }
   ],
   "source": [
    "df_to_rf = acc # DataFrame to Random Forest\n",
    "\n",
    "RF_F1_dct = {}\n",
    "RF_F1_means = {}\n",
    "# for smp_sz in list(range(50, 251, 10)):\n",
    "for smp_sz in list(range(15, 76, 5)):\n",
    "    \n",
    "    print(smp_sz)\n",
    "    print(' ')\n",
    "    \n",
    "    stdev_lst = []\n",
    "    mean_lst = []\n",
    "    \n",
    "    RF_output = []\n",
    "    resmpl_count = 150\n",
    "    for r in list(range(0, resmpl_count)):\n",
    "        \n",
    "        labeled_sample_subset_frame = df_to_rf.sample(smp_sz)\n",
    "        X = labeled_sample_subset_frame.iloc[:, 1:]\n",
    "        y = labeled_sample_subset_frame.iloc[:, 0]\n",
    "        X_train, X_test, y_train, y_test = train_test_split(\n",
    "                    X, y,\n",
    "                        test_size=0.33,\n",
    "                            )\n",
    "        RF_clf = RandomForestClassifier(max_depth=2)\n",
    "        RF_clf.fit(X_train, y_train)\n",
    "\n",
    "        RF_F1_scr = f1_score(y_test, RF_clf.predict(X_test), average='weighted')\n",
    "        RF_output.append(RF_F1_scr)\n",
    "        # print(RF_output)\n",
    "        \n",
    "        if len(RF_output) > 1:\n",
    "            stdev_lst.append(stdev(RF_output))\n",
    "            mean_lst.append(mean(RF_output))\n",
    "        # Active learning insertion point    \n",
    "           \n",
    "    RF_F1_means[smp_sz] = round(mean(RF_output), 3)\n",
    "    RF_F1_dct[smp_sz] = RF_output\n",
    "    # break"
   ]
  },
  {
   "cell_type": "code",
   "execution_count": 93,
   "id": "0e9ecf5c-cf8a-4dd5-967d-8924ea0ffcaf",
   "metadata": {},
   "outputs": [
    {
     "data": {
      "text/plain": [
       "dict_keys([30, 40, 50, 60, 70, 80, 90, 100, 110, 120, 130, 140, 150, 160, 170, 180, 190, 200])"
      ]
     },
     "execution_count": 93,
     "metadata": {},
     "output_type": "execute_result"
    }
   ],
   "source": [
    "RF_F1_means.keys()"
   ]
  },
  {
   "cell_type": "code",
   "execution_count": 94,
   "id": "53200e02-e99c-4ba1-860c-9c01329193e9",
   "metadata": {},
   "outputs": [
    {
     "data": {
      "text/plain": [
       "{30: 0.559,\n",
       " 40: 0.612,\n",
       " 50: 0.642,\n",
       " 60: 0.665,\n",
       " 70: 0.677,\n",
       " 80: 0.671,\n",
       " 90: 0.682,\n",
       " 100: 0.682,\n",
       " 110: 0.69,\n",
       " 120: 0.685,\n",
       " 130: 0.693,\n",
       " 140: 0.69,\n",
       " 150: 0.699,\n",
       " 160: 0.702,\n",
       " 170: 0.706,\n",
       " 180: 0.698,\n",
       " 190: 0.7,\n",
       " 200: 0.692}"
      ]
     },
     "execution_count": 94,
     "metadata": {},
     "output_type": "execute_result"
    }
   ],
   "source": [
    "RF_F1_means"
   ]
  },
  {
   "cell_type": "code",
   "execution_count": null,
   "id": "06e1963d-8bda-4d6e-8358-f9a8636dba02",
   "metadata": {},
   "outputs": [],
   "source": [
    "# Plot learning curve"
   ]
  },
  {
   "cell_type": "code",
   "execution_count": null,
   "id": "2ba4ca94-6252-448e-ad1f-6f9dd3aa6a61",
   "metadata": {},
   "outputs": [],
   "source": [
    "df_to_rf"
   ]
  },
  {
   "cell_type": "code",
   "execution_count": 102,
   "id": "eca22eb0-5479-4d63-bac6-eb024217f345",
   "metadata": {},
   "outputs": [
    {
     "data": {
      "text/plain": [
       "'ACC'"
      ]
     },
     "execution_count": 102,
     "metadata": {},
     "output_type": "execute_result"
    }
   ],
   "source": [
    "df_to_rf.index.name"
   ]
  },
  {
   "cell_type": "code",
   "execution_count": 106,
   "id": "c31ca168-631d-4bb3-a6a4-6e9a89719b86",
   "metadata": {},
   "outputs": [
    {
     "data": {
      "image/png": "[encoded data removed]",
      "text/plain": [
       "<Figure size 640x480 with 1 Axes>"
      ]
     },
     "metadata": {},
     "output_type": "display_data"
    }
   ],
   "source": [
    "plt.plot(list(RF_F1_means.keys()),\n",
    "       RF_F1_means.values(), label = 'Stndrd dvtn')\n",
    "plt.suptitle('Learning curve, '+df_to_rf.index.name+', random forest')\n",
    "plt.title('VAE input data: MAD 5K GEXP')\n",
    "plt.ylabel('F1 score')\n",
    "plt.xlabel('Sub-sample size, resampling with replacement')\n",
    "plt.annotate('Resamplings per step size = '+str(resmpl_count),\n",
    "                xy=(.12, .85), xycoords='figure fraction',\n",
    "                horizontalalignment='left', verticalalignment='top',\n",
    "                )\n",
    "plt.savefig(\n",
    "    'i_o/learning_curves/'+\n",
    "    str(df_to_rf.index.name)+'_'+\n",
    "    str(list(RF_F1_means.keys())[0])+'-to-'+str(smp_sz)+\n",
    "    '_'+str(resmpl_count)+'-rsmpls'+\n",
    "    '_v2.png', bbox_inches = 'tight')"
   ]
  },
  {
   "cell_type": "markdown",
   "id": "35a211c3-0a3d-4564-82d5-acbea4d91c90",
   "metadata": {
    "jp-MarkdownHeadingCollapsed": true,
    "tags": []
   },
   "source": [
    "### Active learning"
   ]
  },
  {
   "cell_type": "code",
   "execution_count": 81,
   "id": "a87eb6cd-1c97-40f6-8b0c-0f51a1b8d16b",
   "metadata": {},
   "outputs": [
    {
     "data": {
      "image/png": "[encoded data removed]",
      "text/plain": [
       "<Figure size 640x480 with 1 Axes>"
      ]
     },
     "metadata": {},
     "output_type": "display_data"
    }
   ],
   "source": [
    "# Active learning\n",
    "plt.plot(list(range(0, len(stdev_lst))),\n",
    "        stdev_lst, label = 'Stndrd dvtn')\n",
    "plt.plot(list(range(0, len(mean_lst))),\n",
    "        mean_lst, color = 'grey', label = 'F1 score')\n",
    "plt.suptitle('F1 score and standard deviation, sample size = ' + str(smp_sz))\n",
    "plt.title('BRCA RF MAD 5K GEXP')\n",
    "plt.ylabel('F1 score, standard deviation')\n",
    "plt.xlabel('Resampling with replacement')\n",
    "plt.annotate('F1 score = '+str(round(mean(RF_output),2)),\n",
    "                xy=(.4, .8), xycoords='figure fraction',\n",
    "                horizontalalignment='left', verticalalignment='top',\n",
    "                )\n",
    "plt.legend()\n",
    "plt.savefig(\n",
    "    'i_o/standard_deviation_plots/'+\n",
    "    str(brca.index.name)+'_'+str(smp_sz)+\n",
    "    '_v1.png')"
   ]
  },
  {
   "cell_type": "markdown",
   "id": "a977eed2-38ac-4953-81c1-67ca87264571",
   "metadata": {
    "jp-MarkdownHeadingCollapsed": true,
    "tags": []
   },
   "source": [
    "### Superimpose decoded samples, refer to slide deck to find a baseline training scheme?"
   ]
  },
  {
   "cell_type": "code",
   "execution_count": null,
   "id": "c659ed41-0661-43c0-afe8-5d2b292f60ff",
   "metadata": {},
   "outputs": [],
   "source": [
    "dec = pd.read_csv('decoded samples at each step size?"
   ]
  },
  {
   "cell_type": "code",
   "execution_count": null,
   "id": "168ffa11-54e6-42a2-a72b-2934ca4ab677",
   "metadata": {},
   "outputs": [],
   "source": [
    "# Decode the entire BRCA cohort either BLCA pretrained\n",
    "    # (across-cohort MAD) for BRCA\n",
    "    # with RF\n",
    "    # LUSC?\n",
    "# or decode entire BRCA cohort trained on BRCA with\n",
    "    # within-cohort MAD feature set\n",
    "    \n",
    "# ACC - (?)"
   ]
  },
  {
   "cell_type": "code",
   "execution_count": 107,
   "id": "307902a1-d9ae-4674-8ecb-010da0227478",
   "metadata": {},
   "outputs": [
    {
     "name": "stdout",
     "output_type": "stream",
     "text": [
      "c_latent_sampling.ipynb  \u001b[34mi_o\u001b[m\u001b[m/\n"
     ]
    }
   ],
   "source": [
    "ls"
   ]
  },
  {
   "cell_type": "markdown",
   "id": "b596c99f-3373-46be-ada8-0360b4928cbd",
   "metadata": {},
   "source": [
    "or train VAE on all samples,  \n",
    "get the latent space, decode all,  \n",
    "subset on decoded set,  \n",
    "overlay curve (?)\n",
    "sounds pretty good, run on acc and brca to start\n",
    "\n",
    "In reviewing the slide deck, it looks like training a VAE on UVM 5k then decoding on ACC 5k boosts accuracy with random forest"
   ]
  },
  {
   "cell_type": "code",
   "execution_count": null,
   "id": "c8a0b10d-213a-42ed-8d9f-be400b9b5ea6",
   "metadata": {},
   "outputs": [],
   "source": [
    "# train on all samples\n",
    "    # what feature set?\n",
    "    # not data_5k_stacked; this has across-cohort normalization\n",
    "    # within-cohort MAD 5k: data_5k (also has within-cohort normalzation)\n",
    "        # Done, these are in the mad5k_wthn_pths object below\n",
    "    # across-cohort MAD 5k: data_GEXP_5k_col_norm (within-cohort normalzation)"
   ]
  },
  {
   "cell_type": "code",
   "execution_count": 108,
   "id": "4194b428-f817-47a7-8a37-f0eeddc48fa5",
   "metadata": {},
   "outputs": [
    {
     "data": {
      "text/plain": [
       "'/Users/karlberb/Documents/work/sample_count/synthetic_TCGA_data_gen/g_learning_curves'"
      ]
     },
     "execution_count": 108,
     "metadata": {},
     "output_type": "execute_result"
    }
   ],
   "source": [
    "pwd"
   ]
  },
  {
   "cell_type": "code",
   "execution_count": null,
   "id": "621fe055-9269-4736-bef8-a5890b82eddd",
   "metadata": {},
   "outputs": [],
   "source": [
    "# okay, there are eight data directories in the devel folder, audit above\n",
    "# Options:\n",
    "    # reproduce the files here in the g_learning_curves dir\n",
    "        # if necessary, skip for now\n",
    "    # or just pull existing files for now from the g_devel dir\n",
    "        # yes, go with this for now"
   ]
  },
  {
   "cell_type": "code",
   "execution_count": null,
   "id": "b0b9ade2-6bf3-4552-8801-429b32d35347",
   "metadata": {},
   "outputs": [],
   "source": [
    "/Users/karlberb/Documents/work/sample_count/synthetic_TCGA_data_gen/g_devel/data_5k"
   ]
  },
  {
   "cell_type": "code",
   "execution_count": 111,
   "id": "237dba19-7170-4b31-8a85-aa4b3e483d18",
   "metadata": {},
   "outputs": [],
   "source": [
    "mad5k_wthn_pths = sorted(\n",
    "    glob.glob(\n",
    "        '/Users/karlberb/Documents/work/sample_count/synthetic_TCGA_data_gen/g_devel/data_5k/*.tsv'))"
   ]
  },
  {
   "cell_type": "code",
   "execution_count": 112,
   "id": "082c9636-56cf-49b6-9eb8-d74b243b0edf",
   "metadata": {},
   "outputs": [
    {
     "data": {
      "text/plain": [
       "['/Users/karlberb/Documents/work/sample_count/synthetic_TCGA_data_gen/g_devel/data_5k/ACC_mad_5k.tsv',\n",
       " '/Users/karlberb/Documents/work/sample_count/synthetic_TCGA_data_gen/g_devel/data_5k/BLCA_mad_5k.tsv',\n",
       " '/Users/karlberb/Documents/work/sample_count/synthetic_TCGA_data_gen/g_devel/data_5k/BRCA_mad_5k.tsv',\n",
       " '/Users/karlberb/Documents/work/sample_count/synthetic_TCGA_data_gen/g_devel/data_5k/CESC_mad_5k.tsv',\n",
       " '/Users/karlberb/Documents/work/sample_count/synthetic_TCGA_data_gen/g_devel/data_5k/COADREAD_mad_5k.tsv',\n",
       " '/Users/karlberb/Documents/work/sample_count/synthetic_TCGA_data_gen/g_devel/data_5k/ESCC_mad_5k.tsv',\n",
       " '/Users/karlberb/Documents/work/sample_count/synthetic_TCGA_data_gen/g_devel/data_5k/GEA_mad_5k.tsv',\n",
       " '/Users/karlberb/Documents/work/sample_count/synthetic_TCGA_data_gen/g_devel/data_5k/HNSC_mad_5k.tsv',\n",
       " '/Users/karlberb/Documents/work/sample_count/synthetic_TCGA_data_gen/g_devel/data_5k/KIRCKICH_mad_5k.tsv',\n",
       " '/Users/karlberb/Documents/work/sample_count/synthetic_TCGA_data_gen/g_devel/data_5k/KIRP_mad_5k.tsv',\n",
       " '/Users/karlberb/Documents/work/sample_count/synthetic_TCGA_data_gen/g_devel/data_5k/LIHCCHOL_mad_5k.tsv',\n",
       " '/Users/karlberb/Documents/work/sample_count/synthetic_TCGA_data_gen/g_devel/data_5k/LUAD_mad_5k.tsv',\n",
       " '/Users/karlberb/Documents/work/sample_count/synthetic_TCGA_data_gen/g_devel/data_5k/LUSC_mad_5k.tsv',\n",
       " '/Users/karlberb/Documents/work/sample_count/synthetic_TCGA_data_gen/g_devel/data_5k/MESO_mad_5k.tsv',\n",
       " '/Users/karlberb/Documents/work/sample_count/synthetic_TCGA_data_gen/g_devel/data_5k/OV_mad_5k.tsv',\n",
       " '/Users/karlberb/Documents/work/sample_count/synthetic_TCGA_data_gen/g_devel/data_5k/PAAD_mad_5k.tsv',\n",
       " '/Users/karlberb/Documents/work/sample_count/synthetic_TCGA_data_gen/g_devel/data_5k/PCPG_mad_5k.tsv',\n",
       " '/Users/karlberb/Documents/work/sample_count/synthetic_TCGA_data_gen/g_devel/data_5k/PRAD_mad_5k.tsv',\n",
       " '/Users/karlberb/Documents/work/sample_count/synthetic_TCGA_data_gen/g_devel/data_5k/SARC_mad_5k.tsv',\n",
       " '/Users/karlberb/Documents/work/sample_count/synthetic_TCGA_data_gen/g_devel/data_5k/SKCM_mad_5k.tsv',\n",
       " '/Users/karlberb/Documents/work/sample_count/synthetic_TCGA_data_gen/g_devel/data_5k/TGCT_mad_5k.tsv',\n",
       " '/Users/karlberb/Documents/work/sample_count/synthetic_TCGA_data_gen/g_devel/data_5k/THCA_mad_5k.tsv',\n",
       " '/Users/karlberb/Documents/work/sample_count/synthetic_TCGA_data_gen/g_devel/data_5k/THYM_mad_5k.tsv',\n",
       " '/Users/karlberb/Documents/work/sample_count/synthetic_TCGA_data_gen/g_devel/data_5k/UCEC_mad_5k.tsv',\n",
       " '/Users/karlberb/Documents/work/sample_count/synthetic_TCGA_data_gen/g_devel/data_5k/UVM_mad_5k.tsv']"
      ]
     },
     "execution_count": 112,
     "metadata": {},
     "output_type": "execute_result"
    }
   ],
   "source": [
    "mad5k_wthn_pths"
   ]
  },
  {
   "cell_type": "code",
   "execution_count": 148,
   "id": "795b97e4-25bb-4694-aea9-53601a151b80",
   "metadata": {},
   "outputs": [
    {
     "data": {
      "text/plain": [
       "25"
      ]
     },
     "execution_count": 148,
     "metadata": {},
     "output_type": "execute_result"
    }
   ],
   "source": [
    "len(mad5k_wthn_pths)"
   ]
  },
  {
   "cell_type": "code",
   "execution_count": 114,
   "id": "863d6332-3999-408f-b740-8d9c2b883413",
   "metadata": {},
   "outputs": [
    {
     "data": {
      "text/plain": [
       "'/Users/karlberb/Documents/work/sample_count/synthetic_TCGA_data_gen/g_devel/data_5k/ACC_mad_5k.tsv'"
      ]
     },
     "execution_count": 114,
     "metadata": {},
     "output_type": "execute_result"
    }
   ],
   "source": [
    "mad5k_wthn_pths[0]"
   ]
  },
  {
   "cell_type": "code",
   "execution_count": 115,
   "id": "fcaa77ac-c18e-43b7-83f9-7c140c8dcbf0",
   "metadata": {},
   "outputs": [
    {
     "data": {
      "text/plain": [
       "'/Users/karlberb/Documents/work/sample_count/synthetic_TCGA_data_gen/g_devel/data_5k/UVM_mad_5k.tsv'"
      ]
     },
     "execution_count": 115,
     "metadata": {},
     "output_type": "execute_result"
    }
   ],
   "source": [
    "mad5k_wthn_pths[-1]"
   ]
  },
  {
   "cell_type": "code",
   "execution_count": 116,
   "id": "3c42ed9d-14a9-4a46-91e9-6b98b64e2f98",
   "metadata": {},
   "outputs": [],
   "source": [
    "acc_5k_within = pd.read_csv(\n",
    "    mad5k_wthn_pths[0], sep = '\\t', index_col = 0)"
   ]
  },
  {
   "cell_type": "code",
   "execution_count": 171,
   "id": "756e0d1d-ea98-4131-810e-d7c4cb6af486",
   "metadata": {},
   "outputs": [],
   "source": [
    "brca_5k_within = pd.read_csv(\n",
    "    mad5k_wthn_pths[2], sep = '\\t', index_col = 0)"
   ]
  },
  {
   "cell_type": "code",
   "execution_count": 149,
   "id": "ec000995-e787-4649-947d-4a9a468b75a2",
   "metadata": {
    "collapsed": true,
    "jupyter": {
     "outputs_hidden": true
    },
    "tags": []
   },
   "outputs": [
    {
     "data": {
      "text/html": [
       "<div>\n",
       "<style scoped>\n",
       "    .dataframe tbody tr th:only-of-type {\n",
       "        vertical-align: middle;\n",
       "    }\n",
       "\n",
       "    .dataframe tbody tr th {\n",
       "        vertical-align: top;\n",
       "    }\n",
       "\n",
       "    .dataframe thead th {\n",
       "        text-align: right;\n",
       "    }\n",
       "</style>\n",
       "<table border=\"1\" class=\"dataframe\">\n",
       "  <thead>\n",
       "    <tr style=\"text-align: right;\">\n",
       "      <th></th>\n",
       "      <th>Labels</th>\n",
       "      <th>N:GEXP::IGF2:3481:</th>\n",
       "      <th>N:GEXP::CYP17A1:1586:</th>\n",
       "      <th>N:GEXP::APOE:348:</th>\n",
       "      <th>N:GEXP::STAR:6770:</th>\n",
       "      <th>N:GEXP::GAPDH:2597:</th>\n",
       "      <th>N:GEXP::CYP21A2:1589:</th>\n",
       "      <th>N:GEXP::SPARC:6678:</th>\n",
       "      <th>N:GEXP::DHCR24:1718:</th>\n",
       "      <th>N:GEXP::CLU:1191:</th>\n",
       "      <th>...</th>\n",
       "      <th>N:GEXP::XPR1:9213:</th>\n",
       "      <th>N:GEXP::SOCS2:8835:</th>\n",
       "      <th>N:GEXP::LYRM2:57226:</th>\n",
       "      <th>N:GEXP::ASCC2:84164:</th>\n",
       "      <th>N:GEXP::HIST1H2AC:8334:</th>\n",
       "      <th>N:GEXP::PLAA:9373:</th>\n",
       "      <th>N:GEXP::RANBP2:5903:</th>\n",
       "      <th>N:GEXP::MED24:9862:</th>\n",
       "      <th>N:GEXP::USP38:84640:</th>\n",
       "      <th>N:GEXP::FCER1G:2207:</th>\n",
       "    </tr>\n",
       "    <tr>\n",
       "      <th>ACC</th>\n",
       "      <th></th>\n",
       "      <th></th>\n",
       "      <th></th>\n",
       "      <th></th>\n",
       "      <th></th>\n",
       "      <th></th>\n",
       "      <th></th>\n",
       "      <th></th>\n",
       "      <th></th>\n",
       "      <th></th>\n",
       "      <th></th>\n",
       "      <th></th>\n",
       "      <th></th>\n",
       "      <th></th>\n",
       "      <th></th>\n",
       "      <th></th>\n",
       "      <th></th>\n",
       "      <th></th>\n",
       "      <th></th>\n",
       "      <th></th>\n",
       "      <th></th>\n",
       "    </tr>\n",
       "  </thead>\n",
       "  <tbody>\n",
       "    <tr>\n",
       "      <th>TCGA-OR-A5J1</th>\n",
       "      <td>ACC_2</td>\n",
       "      <td>0.179084</td>\n",
       "      <td>0.021923</td>\n",
       "      <td>0.038378</td>\n",
       "      <td>0.110853</td>\n",
       "      <td>0.163189</td>\n",
       "      <td>0.683056</td>\n",
       "      <td>0.112090</td>\n",
       "      <td>0.210168</td>\n",
       "      <td>0.107624</td>\n",
       "      <td>...</td>\n",
       "      <td>0.207113</td>\n",
       "      <td>0.215359</td>\n",
       "      <td>0.609831</td>\n",
       "      <td>0.646570</td>\n",
       "      <td>0.496937</td>\n",
       "      <td>0.198445</td>\n",
       "      <td>0.569751</td>\n",
       "      <td>0.626997</td>\n",
       "      <td>0.247482</td>\n",
       "      <td>0.137170</td>\n",
       "    </tr>\n",
       "    <tr>\n",
       "      <th>TCGA-OR-A5J2</th>\n",
       "      <td>ACC_2</td>\n",
       "      <td>0.179990</td>\n",
       "      <td>0.005302</td>\n",
       "      <td>0.009819</td>\n",
       "      <td>0.030127</td>\n",
       "      <td>0.126989</td>\n",
       "      <td>0.169569</td>\n",
       "      <td>0.205230</td>\n",
       "      <td>0.223519</td>\n",
       "      <td>0.033492</td>\n",
       "      <td>...</td>\n",
       "      <td>0.411381</td>\n",
       "      <td>0.487871</td>\n",
       "      <td>0.404681</td>\n",
       "      <td>0.371253</td>\n",
       "      <td>0.173060</td>\n",
       "      <td>0.383441</td>\n",
       "      <td>0.698380</td>\n",
       "      <td>0.559833</td>\n",
       "      <td>0.505962</td>\n",
       "      <td>0.037084</td>\n",
       "    </tr>\n",
       "    <tr>\n",
       "      <th>TCGA-OR-A5J3</th>\n",
       "      <td>ACC_3</td>\n",
       "      <td>0.021586</td>\n",
       "      <td>0.372870</td>\n",
       "      <td>0.031040</td>\n",
       "      <td>0.257731</td>\n",
       "      <td>0.762671</td>\n",
       "      <td>0.113664</td>\n",
       "      <td>0.122580</td>\n",
       "      <td>0.364356</td>\n",
       "      <td>0.214217</td>\n",
       "      <td>...</td>\n",
       "      <td>0.140122</td>\n",
       "      <td>0.033530</td>\n",
       "      <td>0.262031</td>\n",
       "      <td>0.438938</td>\n",
       "      <td>0.097858</td>\n",
       "      <td>0.371155</td>\n",
       "      <td>0.504601</td>\n",
       "      <td>0.486207</td>\n",
       "      <td>0.230106</td>\n",
       "      <td>0.023258</td>\n",
       "    </tr>\n",
       "    <tr>\n",
       "      <th>TCGA-OR-A5J5</th>\n",
       "      <td>ACC_3</td>\n",
       "      <td>0.107586</td>\n",
       "      <td>0.288308</td>\n",
       "      <td>0.009218</td>\n",
       "      <td>0.213982</td>\n",
       "      <td>0.359412</td>\n",
       "      <td>0.214880</td>\n",
       "      <td>0.113344</td>\n",
       "      <td>0.084705</td>\n",
       "      <td>0.013289</td>\n",
       "      <td>...</td>\n",
       "      <td>0.065116</td>\n",
       "      <td>0.156334</td>\n",
       "      <td>0.228564</td>\n",
       "      <td>0.578521</td>\n",
       "      <td>0.133438</td>\n",
       "      <td>0.467690</td>\n",
       "      <td>0.454723</td>\n",
       "      <td>0.490579</td>\n",
       "      <td>0.269186</td>\n",
       "      <td>0.056979</td>\n",
       "    </tr>\n",
       "    <tr>\n",
       "      <th>TCGA-OR-A5J6</th>\n",
       "      <td>ACC_1</td>\n",
       "      <td>0.472886</td>\n",
       "      <td>0.647770</td>\n",
       "      <td>0.252118</td>\n",
       "      <td>0.569321</td>\n",
       "      <td>0.128481</td>\n",
       "      <td>0.497277</td>\n",
       "      <td>0.106461</td>\n",
       "      <td>1.000000</td>\n",
       "      <td>0.366393</td>\n",
       "      <td>...</td>\n",
       "      <td>0.069593</td>\n",
       "      <td>0.382833</td>\n",
       "      <td>0.488645</td>\n",
       "      <td>0.312206</td>\n",
       "      <td>0.055606</td>\n",
       "      <td>0.387318</td>\n",
       "      <td>0.849407</td>\n",
       "      <td>0.765389</td>\n",
       "      <td>0.325657</td>\n",
       "      <td>0.215052</td>\n",
       "    </tr>\n",
       "    <tr>\n",
       "      <th>...</th>\n",
       "      <td>...</td>\n",
       "      <td>...</td>\n",
       "      <td>...</td>\n",
       "      <td>...</td>\n",
       "      <td>...</td>\n",
       "      <td>...</td>\n",
       "      <td>...</td>\n",
       "      <td>...</td>\n",
       "      <td>...</td>\n",
       "      <td>...</td>\n",
       "      <td>...</td>\n",
       "      <td>...</td>\n",
       "      <td>...</td>\n",
       "      <td>...</td>\n",
       "      <td>...</td>\n",
       "      <td>...</td>\n",
       "      <td>...</td>\n",
       "      <td>...</td>\n",
       "      <td>...</td>\n",
       "      <td>...</td>\n",
       "      <td>...</td>\n",
       "    </tr>\n",
       "    <tr>\n",
       "      <th>TCGA-OU-A5PI</th>\n",
       "      <td>ACC_3</td>\n",
       "      <td>0.005338</td>\n",
       "      <td>0.092080</td>\n",
       "      <td>0.012522</td>\n",
       "      <td>0.147812</td>\n",
       "      <td>0.251259</td>\n",
       "      <td>0.123380</td>\n",
       "      <td>0.171407</td>\n",
       "      <td>0.502002</td>\n",
       "      <td>0.187673</td>\n",
       "      <td>...</td>\n",
       "      <td>0.174119</td>\n",
       "      <td>0.209830</td>\n",
       "      <td>0.332551</td>\n",
       "      <td>0.341123</td>\n",
       "      <td>0.673402</td>\n",
       "      <td>0.643094</td>\n",
       "      <td>0.493324</td>\n",
       "      <td>0.229620</td>\n",
       "      <td>0.414543</td>\n",
       "      <td>0.027137</td>\n",
       "    </tr>\n",
       "    <tr>\n",
       "      <th>TCGA-PA-A5YG</th>\n",
       "      <td>ACC_1</td>\n",
       "      <td>0.037978</td>\n",
       "      <td>0.000937</td>\n",
       "      <td>0.005917</td>\n",
       "      <td>0.137388</td>\n",
       "      <td>0.278676</td>\n",
       "      <td>0.016930</td>\n",
       "      <td>0.075882</td>\n",
       "      <td>0.076354</td>\n",
       "      <td>0.144661</td>\n",
       "      <td>...</td>\n",
       "      <td>0.292730</td>\n",
       "      <td>0.141426</td>\n",
       "      <td>0.303944</td>\n",
       "      <td>0.475887</td>\n",
       "      <td>0.047880</td>\n",
       "      <td>0.439540</td>\n",
       "      <td>0.591964</td>\n",
       "      <td>0.461640</td>\n",
       "      <td>0.204496</td>\n",
       "      <td>0.256497</td>\n",
       "    </tr>\n",
       "    <tr>\n",
       "      <th>TCGA-PK-A5H9</th>\n",
       "      <td>ACC_1</td>\n",
       "      <td>0.346736</td>\n",
       "      <td>0.150393</td>\n",
       "      <td>0.139675</td>\n",
       "      <td>0.169064</td>\n",
       "      <td>0.054403</td>\n",
       "      <td>0.001877</td>\n",
       "      <td>0.084531</td>\n",
       "      <td>0.117975</td>\n",
       "      <td>0.000963</td>\n",
       "      <td>...</td>\n",
       "      <td>0.322679</td>\n",
       "      <td>0.372852</td>\n",
       "      <td>0.259462</td>\n",
       "      <td>0.461793</td>\n",
       "      <td>0.185890</td>\n",
       "      <td>0.330767</td>\n",
       "      <td>0.785712</td>\n",
       "      <td>0.582427</td>\n",
       "      <td>0.471940</td>\n",
       "      <td>0.046053</td>\n",
       "    </tr>\n",
       "    <tr>\n",
       "      <th>TCGA-PK-A5HA</th>\n",
       "      <td>ACC_1</td>\n",
       "      <td>0.177497</td>\n",
       "      <td>0.000614</td>\n",
       "      <td>0.008947</td>\n",
       "      <td>0.148900</td>\n",
       "      <td>0.197718</td>\n",
       "      <td>0.002743</td>\n",
       "      <td>0.080234</td>\n",
       "      <td>0.039326</td>\n",
       "      <td>0.030432</td>\n",
       "      <td>...</td>\n",
       "      <td>0.298531</td>\n",
       "      <td>0.260920</td>\n",
       "      <td>0.374731</td>\n",
       "      <td>0.450820</td>\n",
       "      <td>0.033210</td>\n",
       "      <td>0.401430</td>\n",
       "      <td>0.336101</td>\n",
       "      <td>0.449375</td>\n",
       "      <td>0.240222</td>\n",
       "      <td>0.317086</td>\n",
       "    </tr>\n",
       "    <tr>\n",
       "      <th>TCGA-PK-A5HB</th>\n",
       "      <td>ACC_2</td>\n",
       "      <td>0.088697</td>\n",
       "      <td>0.324789</td>\n",
       "      <td>0.002129</td>\n",
       "      <td>0.199853</td>\n",
       "      <td>0.120800</td>\n",
       "      <td>0.098339</td>\n",
       "      <td>0.432895</td>\n",
       "      <td>0.180623</td>\n",
       "      <td>0.027616</td>\n",
       "      <td>...</td>\n",
       "      <td>0.159941</td>\n",
       "      <td>0.147252</td>\n",
       "      <td>0.537371</td>\n",
       "      <td>0.616926</td>\n",
       "      <td>0.036369</td>\n",
       "      <td>0.656664</td>\n",
       "      <td>0.605316</td>\n",
       "      <td>0.409525</td>\n",
       "      <td>0.162882</td>\n",
       "      <td>0.044863</td>\n",
       "    </tr>\n",
       "  </tbody>\n",
       "</table>\n",
       "<p>76 rows × 5001 columns</p>\n",
       "</div>"
      ],
      "text/plain": [
       "             Labels  N:GEXP::IGF2:3481:  N:GEXP::CYP17A1:1586:  \\\n",
       "ACC                                                              \n",
       "TCGA-OR-A5J1  ACC_2            0.179084               0.021923   \n",
       "TCGA-OR-A5J2  ACC_2            0.179990               0.005302   \n",
       "TCGA-OR-A5J3  ACC_3            0.021586               0.372870   \n",
       "TCGA-OR-A5J5  ACC_3            0.107586               0.288308   \n",
       "TCGA-OR-A5J6  ACC_1            0.472886               0.647770   \n",
       "...             ...                 ...                    ...   \n",
       "TCGA-OU-A5PI  ACC_3            0.005338               0.092080   \n",
       "TCGA-PA-A5YG  ACC_1            0.037978               0.000937   \n",
       "TCGA-PK-A5H9  ACC_1            0.346736               0.150393   \n",
       "TCGA-PK-A5HA  ACC_1            0.177497               0.000614   \n",
       "TCGA-PK-A5HB  ACC_2            0.088697               0.324789   \n",
       "\n",
       "              N:GEXP::APOE:348:  N:GEXP::STAR:6770:  N:GEXP::GAPDH:2597:  \\\n",
       "ACC                                                                        \n",
       "TCGA-OR-A5J1           0.038378            0.110853             0.163189   \n",
       "TCGA-OR-A5J2           0.009819            0.030127             0.126989   \n",
       "TCGA-OR-A5J3           0.031040            0.257731             0.762671   \n",
       "TCGA-OR-A5J5           0.009218            0.213982             0.359412   \n",
       "TCGA-OR-A5J6           0.252118            0.569321             0.128481   \n",
       "...                         ...                 ...                  ...   \n",
       "TCGA-OU-A5PI           0.012522            0.147812             0.251259   \n",
       "TCGA-PA-A5YG           0.005917            0.137388             0.278676   \n",
       "TCGA-PK-A5H9           0.139675            0.169064             0.054403   \n",
       "TCGA-PK-A5HA           0.008947            0.148900             0.197718   \n",
       "TCGA-PK-A5HB           0.002129            0.199853             0.120800   \n",
       "\n",
       "              N:GEXP::CYP21A2:1589:  N:GEXP::SPARC:6678:  \\\n",
       "ACC                                                        \n",
       "TCGA-OR-A5J1               0.683056             0.112090   \n",
       "TCGA-OR-A5J2               0.169569             0.205230   \n",
       "TCGA-OR-A5J3               0.113664             0.122580   \n",
       "TCGA-OR-A5J5               0.214880             0.113344   \n",
       "TCGA-OR-A5J6               0.497277             0.106461   \n",
       "...                             ...                  ...   \n",
       "TCGA-OU-A5PI               0.123380             0.171407   \n",
       "TCGA-PA-A5YG               0.016930             0.075882   \n",
       "TCGA-PK-A5H9               0.001877             0.084531   \n",
       "TCGA-PK-A5HA               0.002743             0.080234   \n",
       "TCGA-PK-A5HB               0.098339             0.432895   \n",
       "\n",
       "              N:GEXP::DHCR24:1718:  N:GEXP::CLU:1191:  ...  \\\n",
       "ACC                                                    ...   \n",
       "TCGA-OR-A5J1              0.210168           0.107624  ...   \n",
       "TCGA-OR-A5J2              0.223519           0.033492  ...   \n",
       "TCGA-OR-A5J3              0.364356           0.214217  ...   \n",
       "TCGA-OR-A5J5              0.084705           0.013289  ...   \n",
       "TCGA-OR-A5J6              1.000000           0.366393  ...   \n",
       "...                            ...                ...  ...   \n",
       "TCGA-OU-A5PI              0.502002           0.187673  ...   \n",
       "TCGA-PA-A5YG              0.076354           0.144661  ...   \n",
       "TCGA-PK-A5H9              0.117975           0.000963  ...   \n",
       "TCGA-PK-A5HA              0.039326           0.030432  ...   \n",
       "TCGA-PK-A5HB              0.180623           0.027616  ...   \n",
       "\n",
       "              N:GEXP::XPR1:9213:  N:GEXP::SOCS2:8835:  N:GEXP::LYRM2:57226:  \\\n",
       "ACC                                                                           \n",
       "TCGA-OR-A5J1            0.207113             0.215359              0.609831   \n",
       "TCGA-OR-A5J2            0.411381             0.487871              0.404681   \n",
       "TCGA-OR-A5J3            0.140122             0.033530              0.262031   \n",
       "TCGA-OR-A5J5            0.065116             0.156334              0.228564   \n",
       "TCGA-OR-A5J6            0.069593             0.382833              0.488645   \n",
       "...                          ...                  ...                   ...   \n",
       "TCGA-OU-A5PI            0.174119             0.209830              0.332551   \n",
       "TCGA-PA-A5YG            0.292730             0.141426              0.303944   \n",
       "TCGA-PK-A5H9            0.322679             0.372852              0.259462   \n",
       "TCGA-PK-A5HA            0.298531             0.260920              0.374731   \n",
       "TCGA-PK-A5HB            0.159941             0.147252              0.537371   \n",
       "\n",
       "              N:GEXP::ASCC2:84164:  N:GEXP::HIST1H2AC:8334:  \\\n",
       "ACC                                                           \n",
       "TCGA-OR-A5J1              0.646570                 0.496937   \n",
       "TCGA-OR-A5J2              0.371253                 0.173060   \n",
       "TCGA-OR-A5J3              0.438938                 0.097858   \n",
       "TCGA-OR-A5J5              0.578521                 0.133438   \n",
       "TCGA-OR-A5J6              0.312206                 0.055606   \n",
       "...                            ...                      ...   \n",
       "TCGA-OU-A5PI              0.341123                 0.673402   \n",
       "TCGA-PA-A5YG              0.475887                 0.047880   \n",
       "TCGA-PK-A5H9              0.461793                 0.185890   \n",
       "TCGA-PK-A5HA              0.450820                 0.033210   \n",
       "TCGA-PK-A5HB              0.616926                 0.036369   \n",
       "\n",
       "              N:GEXP::PLAA:9373:  N:GEXP::RANBP2:5903:  N:GEXP::MED24:9862:  \\\n",
       "ACC                                                                           \n",
       "TCGA-OR-A5J1            0.198445              0.569751             0.626997   \n",
       "TCGA-OR-A5J2            0.383441              0.698380             0.559833   \n",
       "TCGA-OR-A5J3            0.371155              0.504601             0.486207   \n",
       "TCGA-OR-A5J5            0.467690              0.454723             0.490579   \n",
       "TCGA-OR-A5J6            0.387318              0.849407             0.765389   \n",
       "...                          ...                   ...                  ...   \n",
       "TCGA-OU-A5PI            0.643094              0.493324             0.229620   \n",
       "TCGA-PA-A5YG            0.439540              0.591964             0.461640   \n",
       "TCGA-PK-A5H9            0.330767              0.785712             0.582427   \n",
       "TCGA-PK-A5HA            0.401430              0.336101             0.449375   \n",
       "TCGA-PK-A5HB            0.656664              0.605316             0.409525   \n",
       "\n",
       "              N:GEXP::USP38:84640:  N:GEXP::FCER1G:2207:  \n",
       "ACC                                                       \n",
       "TCGA-OR-A5J1              0.247482              0.137170  \n",
       "TCGA-OR-A5J2              0.505962              0.037084  \n",
       "TCGA-OR-A5J3              0.230106              0.023258  \n",
       "TCGA-OR-A5J5              0.269186              0.056979  \n",
       "TCGA-OR-A5J6              0.325657              0.215052  \n",
       "...                            ...                   ...  \n",
       "TCGA-OU-A5PI              0.414543              0.027137  \n",
       "TCGA-PA-A5YG              0.204496              0.256497  \n",
       "TCGA-PK-A5H9              0.471940              0.046053  \n",
       "TCGA-PK-A5HA              0.240222              0.317086  \n",
       "TCGA-PK-A5HB              0.162882              0.044863  \n",
       "\n",
       "[76 rows x 5001 columns]"
      ]
     },
     "execution_count": 149,
     "metadata": {},
     "output_type": "execute_result"
    }
   ],
   "source": [
    "acc_5k_within"
   ]
  },
  {
   "cell_type": "code",
   "execution_count": null,
   "id": "6ae299d5-c96c-4811-83e0-88534d8c53cc",
   "metadata": {},
   "outputs": [],
   "source": [
    "uvm_5k_within = pd.read_csv(\n",
    "    mad5k_wthn_pths[-1], sep = '\\t', index_col = 0)\n",
    "uvm_5k_within"
   ]
  },
  {
   "cell_type": "code",
   "execution_count": 119,
   "id": "bb8a96bb-33f2-4739-9f68-b4cbedf40c50",
   "metadata": {},
   "outputs": [],
   "source": [
    "# run a VAE and a RF"
   ]
  },
  {
   "cell_type": "code",
   "execution_count": 120,
   "id": "05a4434a-fb8a-4ab3-b99a-bea253c5c67f",
   "metadata": {},
   "outputs": [
    {
     "name": "stdout",
     "output_type": "stream",
     "text": [
      "c_latent_sampling.ipynb              learning_curve_schematic.drawio\n",
      "\u001b[34mi_o\u001b[m\u001b[m/                                 learning_curve_schematic.drawio.png\n"
     ]
    }
   ],
   "source": [
    "ls"
   ]
  },
  {
   "cell_type": "markdown",
   "id": "9e19d848-b44e-4a34-8138-c73c2f39842f",
   "metadata": {
    "tags": []
   },
   "source": [
    "### Schematic"
   ]
  },
  {
   "cell_type": "code",
   "execution_count": 121,
   "id": "a8642a17-22b1-48c1-9cb7-270c1ba22e52",
   "metadata": {},
   "outputs": [
    {
     "data": {
      "image/png": "[encoded data removed]",
      "text/plain": [
       "<IPython.core.display.Image object>"
      ]
     },
     "execution_count": 121,
     "metadata": {},
     "output_type": "execute_result"
    }
   ],
   "source": [
    "from IPython.display import Image\n",
    "Image(filename='learning_curve_schematic.drawio.png') "
   ]
  },
  {
   "cell_type": "code",
   "execution_count": null,
   "id": "1bf5462b-0b25-4c52-a35d-ee2cea495265",
   "metadata": {},
   "outputs": [],
   "source": [
    "# rationale for devel on MAD 5k genes taken from within each cohort:\n",
    "# prioritizing within-cohort performance (accuracy and consistency)\n",
    "# within each cohort to drive toward latent feature sampling scheme comparison"
   ]
  },
  {
   "cell_type": "markdown",
   "id": "bea27cc6-a3ef-40f9-9844-e70877fa48ce",
   "metadata": {
    "jp-MarkdownHeadingCollapsed": true,
    "tags": []
   },
   "source": [
    "### VAE"
   ]
  },
  {
   "cell_type": "code",
   "execution_count": 123,
   "id": "59ba5458-3b9a-4733-b7e3-47331e82ac3a",
   "metadata": {},
   "outputs": [],
   "source": [
    "import time\n",
    "import numpy as np\n",
    "import tensorflow as tf\n",
    "from tensorflow import keras\n",
    "from tensorflow.keras import layers\n",
    "from tensorflow.keras.models import Model\n",
    "from tensorflow.keras import backend as K\n",
    "from tensorflow.keras.layers import BatchNormalization, Activation, Layer\n",
    "from tensorflow.keras import metrics, optimizers\n",
    "from tensorflow.keras.losses import binary_crossentropy\n",
    "from tensorflow.keras.callbacks import Callback\n",
    "import tensorflow.compat.v1.keras.backend as K\n",
    "import tensorflow as tf\n",
    "tf.compat.v1.disable_eager_execution()"
   ]
  },
  {
   "cell_type": "code",
   "execution_count": 150,
   "id": "af0dd4d9-d8c5-414b-a68b-b6d998535c3e",
   "metadata": {
    "collapsed": true,
    "jupyter": {
     "outputs_hidden": true
    },
    "tags": []
   },
   "outputs": [
    {
     "name": "stdout",
     "output_type": "stream",
     "text": [
      "Variable                      Type                      Data/Info\n",
      "-----------------------------------------------------------------\n",
      "Activation                    type                      <class 'keras.layers.core.activation.Activation'>\n",
      "BatchNormalization            type                      <class 'keras.layers.norm<...>tion.BatchNormalization'>\n",
      "Callback                      type                      <class 'keras.callbacks.Callback'>\n",
      "CustomVariationalLayer        type                      <class '__main__.CustomVariationalLayer'>\n",
      "DecisionTreeClassifier        ABCMeta                   <class 'sklearn.tree._cla<...>.DecisionTreeClassifier'>\n",
      "Image                         type                      <class 'IPython.core.display.Image'>\n",
      "K                             TFModuleWrapper           <module 'tensorflow.compa<...>ras/backend/__init__.py'>\n",
      "Layer                         type                      <class 'keras.engine.base_layer.Layer'>\n",
      "Model                         type                      <class 'keras.engine.training.Model'>\n",
      "RF_F1_dct                     dict                      n=13\n",
      "RF_F1_means                   dict                      n=13\n",
      "RF_F1_scr                     float64                   0.5597340153452685\n",
      "RF_clf                        RandomForestClassifier    RandomForestClassifier(max_depth=2)\n",
      "RF_output                     list                      n=150\n",
      "RandomForestClassifier        ABCMeta                   <class 'sklearn.ensemble.<...>.RandomForestClassifier'>\n",
      "WarmUpCallback                type                      <class '__main__.WarmUpCallback'>\n",
      "X                             DataFrame                               N:GEXP::ALB<...>n[75 rows x 5000 columns]\n",
      "X_test                        DataFrame                               N:GEXP::ALB<...>n[25 rows x 5000 columns]\n",
      "X_train                       DataFrame                               N:GEXP::ALB<...>n[50 rows x 5000 columns]\n",
      "acc                           DataFrame                              Labels  N:GE<...>n[76 rows x 5001 columns]\n",
      "acc_5k_within                 DataFrame                              Labels  N:GE<...>n[76 rows x 5001 columns]\n",
      "adam                          Adam                      <keras.optimizers.optimiz<...>am object at 0x2c773f9a0>\n",
      "ax                            AxesSubplot               AxesSubplot(0.125,0.11;0.775x0.77)\n",
      "beta                          ResourceVariable          <tf.Variable 'Variable_5:<...>' shape=() dtype=float32>\n",
      "binary_crossentropy           function                  <function binary_crossentropy at 0x2b69e6040>\n",
      "brca                          DataFrame                               Labels  N:G<...>[995 rows x 5001 columns]\n",
      "c                             str                       ACC\n",
      "compute_latent                function                  <function compute_latent at 0x2a394d280>\n",
      "decode_df                     DataFrame                              Labels  N:GE<...>n[76 rows x 5001 columns]\n",
      "decoded                       DataFrame                               N:GEXP::IGF<...>n[76 rows x 5000 columns]\n",
      "decoded_labeled               DataFrame                              Labels  N:GE<...>n[76 rows x 5001 columns]\n",
      "decoder                       Functional                <keras.engine.functional.<...>al object at 0x2eea28a00>\n",
      "decoder_input                 Tensor                    Tensor(\"input_11:0\", shap<...>one, 100), dtype=float32)\n",
      "decoder_outputs               Tensor                    Tensor(\"dense_5/Sigmoid:0<...>ne, 5000), dtype=float32)\n",
      "decoder_to_reconstruct        Dense                     <keras.layers.core.dense.<...>se object at 0x30b695ac0>\n",
      "df_to_rf                      DataFrame                              Labels  N:GE<...>n[76 rows x 5001 columns]\n",
      "encoder                       Functional                <keras.engine.functional.<...>al object at 0x2eea44160>\n",
      "encoder_inputs                Tensor                    Tensor(\"input_10:0\", shap<...>ne, 5000), dtype=float32)\n",
      "epochs                        int                       100\n",
      "f1_score                      function                  <function f1_score at 0x16a0b1550>\n",
      "feature_dim                   int                       5000\n",
      "features                      Index                     Index(['N:GEXP::IGF2:3481<...>pe='object', length=5000)\n",
      "fig                           Figure                    Figure(640x480)\n",
      "figure                        function                  <function figure at 0x2855d7160>\n",
      "fit_end                       float                     3.614046096801758\n",
      "fit_start                     float                     1668806257.122103\n",
      "five_k                        list                      n=25\n",
      "glob                          module                    <module 'glob' from '/Use<...>9/lib/python3.9/glob.py'>\n",
      "history                       History                   <keras.callbacks.History object at 0x30b7f85b0>\n",
      "kappa                         int                       1\n",
      "keras                         module                    <module 'keras.api._v2.ke<...>i/_v2/keras/__init__.py'>\n",
      "labeled_sample_subset_frame   DataFrame                              Labels  N:GE<...>n[75 rows x 5001 columns]\n",
      "latent_dim                    int                       100\n",
      "latent_object                 DataFrame                                     0    <...>\\n[76 rows x 100 columns]\n",
      "latent_space                  Tensor                    Tensor(\"latent_space_5/ad<...>one, 100), dtype=float32)\n",
      "layers                        module                    <module 'keras.api._v2.ke<...>eras/layers/__init__.py'>\n",
      "learning_rate                 float                     0.0005\n",
      "mad5k_wthn_pths               list                      n=25\n",
      "mean                          function                  <function mean at 0x17feeb040>\n",
      "mean_lst                      list                      n=149\n",
      "metrics                       module                    <module 'keras.api._v2.ke<...>ras/metrics/__init__.py'>\n",
      "np                            module                    <module 'numpy' from '/Us<...>kages/numpy/__init__.py'>\n",
      "optimizers                    module                    <module 'keras.api._v2.ke<...>/optimizers/__init__.py'>\n",
      "original_dim                  int                       5000\n",
      "pd                            module                    <module 'pandas' from '/U<...>ages/pandas/__init__.py'>\n",
      "plt                           module                    <module 'matplotlib.pyplo<...>es/matplotlib/pyplot.py'>\n",
      "plt_v                         int                       18\n",
      "r                             int                       149\n",
      "resmpl_count                  int                       150\n",
      "smp_sz                        int                       75\n",
      "stdev                         function                  <function stdev at 0x17feeb820>\n",
      "stdev_lst                     list                      n=149\n",
      "synth_index                   list                      n=2\n",
      "tf                            module                    <module 'tensorflow' from<...>/tensorflow/__init__.py'>\n",
      "time                          module                    <module 'time' (built-in)>\n",
      "train_test_split              function                  <function train_test_split at 0x15ffa1670>\n",
      "uvm_5k_within                 DataFrame                              Labels  N:GE<...>n[74 rows x 5001 columns]\n",
      "vae                           Functional                <keras.engine.functional.<...>al object at 0x30b70fd90>\n",
      "vae_layer                     Tensor                    Tensor(\"custom_variationa<...>ne, 5000), dtype=float32)\n",
      "y                             Series                    ACC\\nTCGA-OR-A5JY    ACC_<...>Length: 75, dtype: object\n",
      "y_df                          Series                    ACC\\nTCGA-OR-A5J1    ACC_<...>Length: 76, dtype: object\n",
      "y_test                        Series                    ACC\\nTCGA-OR-A5JP    ACC_<...>me: Labels, dtype: object\n",
      "y_train                       Series                    ACC\\nTCGA-OR-A5JG    ACC_<...>me: Labels, dtype: object\n",
      "z_log_var_dense_batchnorm     Tensor                    Tensor(\"batch_normalizati<...>one, 100), dtype=float32)\n",
      "z_log_var_dense_linear        Tensor                    Tensor(\"encoder_2_5/BiasA<...>one, 100), dtype=float32)\n",
      "z_log_var_encoded             Tensor                    Tensor(\"activation_11/Rel<...>one, 100), dtype=float32)\n",
      "z_mean_dense_batchnorm        Tensor                    Tensor(\"batch_normalizati<...>one, 100), dtype=float32)\n",
      "z_mean_dense_linear           Tensor                    Tensor(\"encoder_1_5/BiasA<...>one, 100), dtype=float32)\n",
      "z_mean_encoded                Tensor                    Tensor(\"activation_10/Rel<...>one, 100), dtype=float32)\n"
     ]
    }
   ],
   "source": [
    "%whos"
   ]
  },
  {
   "cell_type": "code",
   "execution_count": 125,
   "id": "3f71859f-5f0d-4a08-8022-0516b3acd44a",
   "metadata": {},
   "outputs": [],
   "source": [
    "# Function set for leave one out loop\n",
    "def compute_latent(x): # x:\n",
    "    mu, sigma = x\n",
    "    batch = K.shape(mu)[0]\n",
    "    dim = K.shape(mu)[1]\n",
    "    eps = K.random_normal(shape=(batch,dim), mean=0., stddev=1.0 )\n",
    "    return mu + K.exp(sigma/2)*eps\n",
    "\n",
    "# Set custom layer , will need all this at start of shell script\n",
    "class CustomVariationalLayer(Layer):\n",
    "    \"\"\"\n",
    "    Define a custom layer\n",
    "    \"\"\"\n",
    "    def __init__(self, **kwargs):\n",
    "        self.is_placeholder = True\n",
    "        super(CustomVariationalLayer, self).__init__(**kwargs)\n",
    "\n",
    "    def vae_loss(self, x_input, x_decoded):\n",
    "        reconstruction_loss = original_dim * metrics.binary_crossentropy(x_input, x_decoded)\n",
    "        kl_loss = - 0.5 * K.sum(1 + z_log_var_encoded - K.square(z_mean_encoded) - \n",
    "                                K.exp(z_log_var_encoded), axis=-1)\n",
    "        return K.mean(reconstruction_loss + (K.get_value(beta) * kl_loss))\n",
    "\n",
    "    def call(self, inputs):\n",
    "        x = inputs[0]\n",
    "        x_decoded = inputs[1]\n",
    "        loss = self.vae_loss(x, x_decoded)\n",
    "        self.add_loss(loss, inputs=inputs)\n",
    "        return x\n",
    "    \n",
    "class WarmUpCallback(Callback):\n",
    "    def __init__(self, beta, kappa):\n",
    "        self.beta = beta\n",
    "        self.kappa = kappa\n",
    "\n",
    "    def on_epoch_end(self, epoch, logs={}):\n",
    "        if K.get_value(self.beta) <= 1:\n",
    "            K.set_value(self.beta, K.get_value(self.beta) + self.kappa)"
   ]
  },
  {
   "cell_type": "markdown",
   "id": "99357fb2-3667-4b6e-bf74-d9d1d0c5e118",
   "metadata": {
    "jp-MarkdownHeadingCollapsed": true,
    "tags": []
   },
   "source": [
    "#### EDA on within vs. across MAD feauture sets"
   ]
  },
  {
   "cell_type": "code",
   "execution_count": 159,
   "id": "a4d239cf-702e-4b3b-9ed2-a6079f642f4d",
   "metadata": {},
   "outputs": [],
   "source": [
    "col_bool = acc_5k_across.columns == acc_5k_within.columns"
   ]
  },
  {
   "cell_type": "code",
   "execution_count": 162,
   "id": "2a59c084-12f2-42cf-843c-f4b15893934c",
   "metadata": {},
   "outputs": [
    {
     "data": {
      "text/plain": [
       "numpy.ndarray"
      ]
     },
     "execution_count": 162,
     "metadata": {},
     "output_type": "execute_result"
    }
   ],
   "source": [
    "type(col_bool)"
   ]
  },
  {
   "cell_type": "code",
   "execution_count": 165,
   "id": "1ac40bea-d20e-4ec1-a83a-fc0d35dcf7db",
   "metadata": {},
   "outputs": [
    {
     "data": {
      "text/plain": [
       "1"
      ]
     },
     "execution_count": 165,
     "metadata": {},
     "output_type": "execute_result"
    }
   ],
   "source": [
    "np.count_nonzero(col_bool == True)"
   ]
  },
  {
   "cell_type": "code",
   "execution_count": 166,
   "id": "8895a45d-1162-46df-9660-8bdb19d6ea0a",
   "metadata": {},
   "outputs": [
    {
     "data": {
      "text/plain": [
       "5000"
      ]
     },
     "execution_count": 166,
     "metadata": {},
     "output_type": "execute_result"
    }
   ],
   "source": [
    "np.count_nonzero(col_bool == False)"
   ]
  },
  {
   "cell_type": "code",
   "execution_count": 170,
   "id": "cc5edfeb-09f8-4592-b1ba-84664529770f",
   "metadata": {
    "collapsed": true,
    "jupyter": {
     "outputs_hidden": true
    },
    "tags": []
   },
   "outputs": [
    {
     "data": {
      "text/html": [
       "<div>\n",
       "<style scoped>\n",
       "    .dataframe tbody tr th:only-of-type {\n",
       "        vertical-align: middle;\n",
       "    }\n",
       "\n",
       "    .dataframe tbody tr th {\n",
       "        vertical-align: top;\n",
       "    }\n",
       "\n",
       "    .dataframe thead th {\n",
       "        text-align: right;\n",
       "    }\n",
       "</style>\n",
       "<table border=\"1\" class=\"dataframe\">\n",
       "  <thead>\n",
       "    <tr style=\"text-align: right;\">\n",
       "      <th></th>\n",
       "      <th>Labels</th>\n",
       "      <th>N:GEXP::ALB:213:</th>\n",
       "      <th>N:GEXP::TG:7038:</th>\n",
       "      <th>N:GEXP::COL1A1:1277:</th>\n",
       "      <th>N:GEXP::FN1:2335:</th>\n",
       "      <th>N:GEXP::KRT5:3852:</th>\n",
       "      <th>N:GEXP::KRT14:3861:</th>\n",
       "      <th>N:GEXP::KRT6A:3853:</th>\n",
       "      <th>N:GEXP::ADAM6:8755:</th>\n",
       "      <th>N:GEXP::SERPINA1:5265:</th>\n",
       "      <th>...</th>\n",
       "      <th>N:GEXP::C14orf1:11161:</th>\n",
       "      <th>N:GEXP::SMCHD1:23347:</th>\n",
       "      <th>N:GEXP::ARL2BP:23568:</th>\n",
       "      <th>N:GEXP::PITPNB:23760:</th>\n",
       "      <th>N:GEXP::KDM5A:5927:</th>\n",
       "      <th>N:GEXP::CNIH:10175:</th>\n",
       "      <th>N:GEXP::ACADS:35:</th>\n",
       "      <th>N:GEXP::YIPF2:78992:</th>\n",
       "      <th>N:GEXP::MEPCE:56257:</th>\n",
       "      <th>N:GEXP::PPARG:5468:</th>\n",
       "    </tr>\n",
       "    <tr>\n",
       "      <th>BRCA</th>\n",
       "      <th></th>\n",
       "      <th></th>\n",
       "      <th></th>\n",
       "      <th></th>\n",
       "      <th></th>\n",
       "      <th></th>\n",
       "      <th></th>\n",
       "      <th></th>\n",
       "      <th></th>\n",
       "      <th></th>\n",
       "      <th></th>\n",
       "      <th></th>\n",
       "      <th></th>\n",
       "      <th></th>\n",
       "      <th></th>\n",
       "      <th></th>\n",
       "      <th></th>\n",
       "      <th></th>\n",
       "      <th></th>\n",
       "      <th></th>\n",
       "      <th></th>\n",
       "    </tr>\n",
       "  </thead>\n",
       "  <tbody>\n",
       "    <tr>\n",
       "      <th>TCGA-3C-AAAU</th>\n",
       "      <td>BRCA_1</td>\n",
       "      <td>0.000037</td>\n",
       "      <td>0.009340</td>\n",
       "      <td>0.031385</td>\n",
       "      <td>0.039359</td>\n",
       "      <td>0.000004</td>\n",
       "      <td>0.000000</td>\n",
       "      <td>0.000001</td>\n",
       "      <td>0.006549</td>\n",
       "      <td>0.046129</td>\n",
       "      <td>...</td>\n",
       "      <td>0.146733</td>\n",
       "      <td>0.378009</td>\n",
       "      <td>0.397913</td>\n",
       "      <td>0.142963</td>\n",
       "      <td>0.177385</td>\n",
       "      <td>0.151151</td>\n",
       "      <td>0.054435</td>\n",
       "      <td>0.171216</td>\n",
       "      <td>0.285434</td>\n",
       "      <td>0.008529</td>\n",
       "    </tr>\n",
       "    <tr>\n",
       "      <th>TCGA-3C-AALI</th>\n",
       "      <td>BRCA_4</td>\n",
       "      <td>0.000056</td>\n",
       "      <td>0.030875</td>\n",
       "      <td>0.101237</td>\n",
       "      <td>0.091098</td>\n",
       "      <td>0.001082</td>\n",
       "      <td>0.000731</td>\n",
       "      <td>0.000005</td>\n",
       "      <td>0.038961</td>\n",
       "      <td>0.028947</td>\n",
       "      <td>...</td>\n",
       "      <td>0.218348</td>\n",
       "      <td>0.148038</td>\n",
       "      <td>0.242784</td>\n",
       "      <td>0.267978</td>\n",
       "      <td>0.104376</td>\n",
       "      <td>0.202719</td>\n",
       "      <td>0.138612</td>\n",
       "      <td>0.143707</td>\n",
       "      <td>0.338390</td>\n",
       "      <td>0.067471</td>\n",
       "    </tr>\n",
       "    <tr>\n",
       "      <th>TCGA-3C-AALJ</th>\n",
       "      <td>BRCA_2</td>\n",
       "      <td>0.000010</td>\n",
       "      <td>0.026908</td>\n",
       "      <td>0.102118</td>\n",
       "      <td>0.102970</td>\n",
       "      <td>0.000007</td>\n",
       "      <td>0.000006</td>\n",
       "      <td>0.000000</td>\n",
       "      <td>0.019658</td>\n",
       "      <td>0.002073</td>\n",
       "      <td>...</td>\n",
       "      <td>0.170624</td>\n",
       "      <td>0.215088</td>\n",
       "      <td>0.274446</td>\n",
       "      <td>0.128449</td>\n",
       "      <td>0.098466</td>\n",
       "      <td>0.112884</td>\n",
       "      <td>0.128195</td>\n",
       "      <td>0.210542</td>\n",
       "      <td>0.172334</td>\n",
       "      <td>0.069492</td>\n",
       "    </tr>\n",
       "    <tr>\n",
       "      <th>TCGA-3C-AALK</th>\n",
       "      <td>BRCA_1</td>\n",
       "      <td>0.000038</td>\n",
       "      <td>0.028296</td>\n",
       "      <td>0.245417</td>\n",
       "      <td>0.116361</td>\n",
       "      <td>0.009403</td>\n",
       "      <td>0.010979</td>\n",
       "      <td>0.000183</td>\n",
       "      <td>0.015994</td>\n",
       "      <td>0.008146</td>\n",
       "      <td>...</td>\n",
       "      <td>0.266908</td>\n",
       "      <td>0.219373</td>\n",
       "      <td>0.197795</td>\n",
       "      <td>0.192867</td>\n",
       "      <td>0.113573</td>\n",
       "      <td>0.209570</td>\n",
       "      <td>0.050047</td>\n",
       "      <td>0.216727</td>\n",
       "      <td>0.178202</td>\n",
       "      <td>0.130405</td>\n",
       "    </tr>\n",
       "    <tr>\n",
       "      <th>TCGA-4H-AAAK</th>\n",
       "      <td>BRCA_1</td>\n",
       "      <td>0.000053</td>\n",
       "      <td>0.015375</td>\n",
       "      <td>0.233795</td>\n",
       "      <td>0.208902</td>\n",
       "      <td>0.007498</td>\n",
       "      <td>0.006769</td>\n",
       "      <td>0.000142</td>\n",
       "      <td>0.009210</td>\n",
       "      <td>0.004443</td>\n",
       "      <td>...</td>\n",
       "      <td>0.172783</td>\n",
       "      <td>0.221944</td>\n",
       "      <td>0.221994</td>\n",
       "      <td>0.250816</td>\n",
       "      <td>0.129642</td>\n",
       "      <td>0.147587</td>\n",
       "      <td>0.164222</td>\n",
       "      <td>0.254220</td>\n",
       "      <td>0.193535</td>\n",
       "      <td>0.020915</td>\n",
       "    </tr>\n",
       "    <tr>\n",
       "      <th>...</th>\n",
       "      <td>...</td>\n",
       "      <td>...</td>\n",
       "      <td>...</td>\n",
       "      <td>...</td>\n",
       "      <td>...</td>\n",
       "      <td>...</td>\n",
       "      <td>...</td>\n",
       "      <td>...</td>\n",
       "      <td>...</td>\n",
       "      <td>...</td>\n",
       "      <td>...</td>\n",
       "      <td>...</td>\n",
       "      <td>...</td>\n",
       "      <td>...</td>\n",
       "      <td>...</td>\n",
       "      <td>...</td>\n",
       "      <td>...</td>\n",
       "      <td>...</td>\n",
       "      <td>...</td>\n",
       "      <td>...</td>\n",
       "      <td>...</td>\n",
       "    </tr>\n",
       "    <tr>\n",
       "      <th>TCGA-WT-AB44</th>\n",
       "      <td>BRCA_1</td>\n",
       "      <td>0.000270</td>\n",
       "      <td>0.008408</td>\n",
       "      <td>0.151985</td>\n",
       "      <td>0.066331</td>\n",
       "      <td>0.002340</td>\n",
       "      <td>0.002423</td>\n",
       "      <td>0.000003</td>\n",
       "      <td>0.009339</td>\n",
       "      <td>0.001252</td>\n",
       "      <td>...</td>\n",
       "      <td>0.323407</td>\n",
       "      <td>0.133397</td>\n",
       "      <td>0.204383</td>\n",
       "      <td>0.218225</td>\n",
       "      <td>0.092523</td>\n",
       "      <td>0.313693</td>\n",
       "      <td>0.085056</td>\n",
       "      <td>0.161550</td>\n",
       "      <td>0.245442</td>\n",
       "      <td>0.077549</td>\n",
       "    </tr>\n",
       "    <tr>\n",
       "      <th>TCGA-XX-A899</th>\n",
       "      <td>BRCA_1</td>\n",
       "      <td>0.000014</td>\n",
       "      <td>0.007113</td>\n",
       "      <td>0.115542</td>\n",
       "      <td>0.087292</td>\n",
       "      <td>0.003768</td>\n",
       "      <td>0.002692</td>\n",
       "      <td>0.000110</td>\n",
       "      <td>0.008042</td>\n",
       "      <td>0.008191</td>\n",
       "      <td>...</td>\n",
       "      <td>0.096283</td>\n",
       "      <td>0.344518</td>\n",
       "      <td>0.211751</td>\n",
       "      <td>0.236458</td>\n",
       "      <td>0.174349</td>\n",
       "      <td>0.185939</td>\n",
       "      <td>0.144916</td>\n",
       "      <td>0.119365</td>\n",
       "      <td>0.122980</td>\n",
       "      <td>0.171991</td>\n",
       "    </tr>\n",
       "    <tr>\n",
       "      <th>TCGA-XX-A89A</th>\n",
       "      <td>BRCA_1</td>\n",
       "      <td>0.003056</td>\n",
       "      <td>0.004876</td>\n",
       "      <td>0.254498</td>\n",
       "      <td>0.150192</td>\n",
       "      <td>0.003515</td>\n",
       "      <td>0.003370</td>\n",
       "      <td>0.000086</td>\n",
       "      <td>0.080189</td>\n",
       "      <td>0.012612</td>\n",
       "      <td>...</td>\n",
       "      <td>0.097096</td>\n",
       "      <td>0.213312</td>\n",
       "      <td>0.294989</td>\n",
       "      <td>0.173609</td>\n",
       "      <td>0.149934</td>\n",
       "      <td>0.185313</td>\n",
       "      <td>0.229788</td>\n",
       "      <td>0.164834</td>\n",
       "      <td>0.184412</td>\n",
       "      <td>0.240940</td>\n",
       "    </tr>\n",
       "    <tr>\n",
       "      <th>TCGA-Z7-A8R5</th>\n",
       "      <td>BRCA_1</td>\n",
       "      <td>0.002840</td>\n",
       "      <td>0.001542</td>\n",
       "      <td>0.040726</td>\n",
       "      <td>0.012097</td>\n",
       "      <td>0.043631</td>\n",
       "      <td>0.088039</td>\n",
       "      <td>0.000222</td>\n",
       "      <td>0.019775</td>\n",
       "      <td>0.046959</td>\n",
       "      <td>...</td>\n",
       "      <td>0.196291</td>\n",
       "      <td>0.110605</td>\n",
       "      <td>0.234731</td>\n",
       "      <td>0.212362</td>\n",
       "      <td>0.096714</td>\n",
       "      <td>0.198151</td>\n",
       "      <td>0.273332</td>\n",
       "      <td>0.177863</td>\n",
       "      <td>0.255314</td>\n",
       "      <td>0.065082</td>\n",
       "    </tr>\n",
       "    <tr>\n",
       "      <th>TCGA-Z7-A8R6</th>\n",
       "      <td>BRCA_2</td>\n",
       "      <td>0.000230</td>\n",
       "      <td>0.001796</td>\n",
       "      <td>0.048551</td>\n",
       "      <td>0.057949</td>\n",
       "      <td>0.002654</td>\n",
       "      <td>0.002920</td>\n",
       "      <td>0.000109</td>\n",
       "      <td>0.003137</td>\n",
       "      <td>0.005304</td>\n",
       "      <td>...</td>\n",
       "      <td>0.290721</td>\n",
       "      <td>0.192552</td>\n",
       "      <td>0.141777</td>\n",
       "      <td>0.173183</td>\n",
       "      <td>0.112575</td>\n",
       "      <td>0.232207</td>\n",
       "      <td>0.070306</td>\n",
       "      <td>0.158965</td>\n",
       "      <td>0.208908</td>\n",
       "      <td>0.065422</td>\n",
       "    </tr>\n",
       "  </tbody>\n",
       "</table>\n",
       "<p>995 rows × 5001 columns</p>\n",
       "</div>"
      ],
      "text/plain": [
       "              Labels  N:GEXP::ALB:213:  N:GEXP::TG:7038:  \\\n",
       "BRCA                                                       \n",
       "TCGA-3C-AAAU  BRCA_1          0.000037          0.009340   \n",
       "TCGA-3C-AALI  BRCA_4          0.000056          0.030875   \n",
       "TCGA-3C-AALJ  BRCA_2          0.000010          0.026908   \n",
       "TCGA-3C-AALK  BRCA_1          0.000038          0.028296   \n",
       "TCGA-4H-AAAK  BRCA_1          0.000053          0.015375   \n",
       "...              ...               ...               ...   \n",
       "TCGA-WT-AB44  BRCA_1          0.000270          0.008408   \n",
       "TCGA-XX-A899  BRCA_1          0.000014          0.007113   \n",
       "TCGA-XX-A89A  BRCA_1          0.003056          0.004876   \n",
       "TCGA-Z7-A8R5  BRCA_1          0.002840          0.001542   \n",
       "TCGA-Z7-A8R6  BRCA_2          0.000230          0.001796   \n",
       "\n",
       "              N:GEXP::COL1A1:1277:  N:GEXP::FN1:2335:  N:GEXP::KRT5:3852:  \\\n",
       "BRCA                                                                        \n",
       "TCGA-3C-AAAU              0.031385           0.039359            0.000004   \n",
       "TCGA-3C-AALI              0.101237           0.091098            0.001082   \n",
       "TCGA-3C-AALJ              0.102118           0.102970            0.000007   \n",
       "TCGA-3C-AALK              0.245417           0.116361            0.009403   \n",
       "TCGA-4H-AAAK              0.233795           0.208902            0.007498   \n",
       "...                            ...                ...                 ...   \n",
       "TCGA-WT-AB44              0.151985           0.066331            0.002340   \n",
       "TCGA-XX-A899              0.115542           0.087292            0.003768   \n",
       "TCGA-XX-A89A              0.254498           0.150192            0.003515   \n",
       "TCGA-Z7-A8R5              0.040726           0.012097            0.043631   \n",
       "TCGA-Z7-A8R6              0.048551           0.057949            0.002654   \n",
       "\n",
       "              N:GEXP::KRT14:3861:  N:GEXP::KRT6A:3853:  N:GEXP::ADAM6:8755:  \\\n",
       "BRCA                                                                          \n",
       "TCGA-3C-AAAU             0.000000             0.000001             0.006549   \n",
       "TCGA-3C-AALI             0.000731             0.000005             0.038961   \n",
       "TCGA-3C-AALJ             0.000006             0.000000             0.019658   \n",
       "TCGA-3C-AALK             0.010979             0.000183             0.015994   \n",
       "TCGA-4H-AAAK             0.006769             0.000142             0.009210   \n",
       "...                           ...                  ...                  ...   \n",
       "TCGA-WT-AB44             0.002423             0.000003             0.009339   \n",
       "TCGA-XX-A899             0.002692             0.000110             0.008042   \n",
       "TCGA-XX-A89A             0.003370             0.000086             0.080189   \n",
       "TCGA-Z7-A8R5             0.088039             0.000222             0.019775   \n",
       "TCGA-Z7-A8R6             0.002920             0.000109             0.003137   \n",
       "\n",
       "              N:GEXP::SERPINA1:5265:  ...  N:GEXP::C14orf1:11161:  \\\n",
       "BRCA                                  ...                           \n",
       "TCGA-3C-AAAU                0.046129  ...                0.146733   \n",
       "TCGA-3C-AALI                0.028947  ...                0.218348   \n",
       "TCGA-3C-AALJ                0.002073  ...                0.170624   \n",
       "TCGA-3C-AALK                0.008146  ...                0.266908   \n",
       "TCGA-4H-AAAK                0.004443  ...                0.172783   \n",
       "...                              ...  ...                     ...   \n",
       "TCGA-WT-AB44                0.001252  ...                0.323407   \n",
       "TCGA-XX-A899                0.008191  ...                0.096283   \n",
       "TCGA-XX-A89A                0.012612  ...                0.097096   \n",
       "TCGA-Z7-A8R5                0.046959  ...                0.196291   \n",
       "TCGA-Z7-A8R6                0.005304  ...                0.290721   \n",
       "\n",
       "              N:GEXP::SMCHD1:23347:  N:GEXP::ARL2BP:23568:  \\\n",
       "BRCA                                                         \n",
       "TCGA-3C-AAAU               0.378009               0.397913   \n",
       "TCGA-3C-AALI               0.148038               0.242784   \n",
       "TCGA-3C-AALJ               0.215088               0.274446   \n",
       "TCGA-3C-AALK               0.219373               0.197795   \n",
       "TCGA-4H-AAAK               0.221944               0.221994   \n",
       "...                             ...                    ...   \n",
       "TCGA-WT-AB44               0.133397               0.204383   \n",
       "TCGA-XX-A899               0.344518               0.211751   \n",
       "TCGA-XX-A89A               0.213312               0.294989   \n",
       "TCGA-Z7-A8R5               0.110605               0.234731   \n",
       "TCGA-Z7-A8R6               0.192552               0.141777   \n",
       "\n",
       "              N:GEXP::PITPNB:23760:  N:GEXP::KDM5A:5927:  N:GEXP::CNIH:10175:  \\\n",
       "BRCA                                                                            \n",
       "TCGA-3C-AAAU               0.142963             0.177385             0.151151   \n",
       "TCGA-3C-AALI               0.267978             0.104376             0.202719   \n",
       "TCGA-3C-AALJ               0.128449             0.098466             0.112884   \n",
       "TCGA-3C-AALK               0.192867             0.113573             0.209570   \n",
       "TCGA-4H-AAAK               0.250816             0.129642             0.147587   \n",
       "...                             ...                  ...                  ...   \n",
       "TCGA-WT-AB44               0.218225             0.092523             0.313693   \n",
       "TCGA-XX-A899               0.236458             0.174349             0.185939   \n",
       "TCGA-XX-A89A               0.173609             0.149934             0.185313   \n",
       "TCGA-Z7-A8R5               0.212362             0.096714             0.198151   \n",
       "TCGA-Z7-A8R6               0.173183             0.112575             0.232207   \n",
       "\n",
       "              N:GEXP::ACADS:35:  N:GEXP::YIPF2:78992:  N:GEXP::MEPCE:56257:  \\\n",
       "BRCA                                                                          \n",
       "TCGA-3C-AAAU           0.054435              0.171216              0.285434   \n",
       "TCGA-3C-AALI           0.138612              0.143707              0.338390   \n",
       "TCGA-3C-AALJ           0.128195              0.210542              0.172334   \n",
       "TCGA-3C-AALK           0.050047              0.216727              0.178202   \n",
       "TCGA-4H-AAAK           0.164222              0.254220              0.193535   \n",
       "...                         ...                   ...                   ...   \n",
       "TCGA-WT-AB44           0.085056              0.161550              0.245442   \n",
       "TCGA-XX-A899           0.144916              0.119365              0.122980   \n",
       "TCGA-XX-A89A           0.229788              0.164834              0.184412   \n",
       "TCGA-Z7-A8R5           0.273332              0.177863              0.255314   \n",
       "TCGA-Z7-A8R6           0.070306              0.158965              0.208908   \n",
       "\n",
       "              N:GEXP::PPARG:5468:  \n",
       "BRCA                               \n",
       "TCGA-3C-AAAU             0.008529  \n",
       "TCGA-3C-AALI             0.067471  \n",
       "TCGA-3C-AALJ             0.069492  \n",
       "TCGA-3C-AALK             0.130405  \n",
       "TCGA-4H-AAAK             0.020915  \n",
       "...                           ...  \n",
       "TCGA-WT-AB44             0.077549  \n",
       "TCGA-XX-A899             0.171991  \n",
       "TCGA-XX-A89A             0.240940  \n",
       "TCGA-Z7-A8R5             0.065082  \n",
       "TCGA-Z7-A8R6             0.065422  \n",
       "\n",
       "[995 rows x 5001 columns]"
      ]
     },
     "execution_count": 170,
     "metadata": {},
     "output_type": "execute_result"
    }
   ],
   "source": [
    "brca_5k_across"
   ]
  },
  {
   "cell_type": "code",
   "execution_count": 172,
   "id": "5ab339ad-7d04-43bf-a594-dca720f94f20",
   "metadata": {},
   "outputs": [],
   "source": [
    "brca_bool = brca_5k_across.columns == brca_5k_within.columns"
   ]
  },
  {
   "cell_type": "code",
   "execution_count": 173,
   "id": "34d420da-939a-4e40-9298-380ffe8a79e1",
   "metadata": {},
   "outputs": [
    {
     "data": {
      "text/plain": [
       "6"
      ]
     },
     "execution_count": 173,
     "metadata": {},
     "output_type": "execute_result"
    }
   ],
   "source": [
    "np.count_nonzero(brca_bool == True)"
   ]
  },
  {
   "cell_type": "code",
   "execution_count": null,
   "id": "5c4266cb-ebff-4232-95c3-2a8065977127",
   "metadata": {},
   "outputs": [],
   "source": [
    "# four feature sets\n",
    "# run VAE\n",
    "# run RF again\n",
    "# superimpose learning curve\n"
   ]
  },
  {
   "cell_type": "code",
   "execution_count": null,
   "id": "6da49104-fb69-4450-8f0e-bae36d388cbf",
   "metadata": {},
   "outputs": [],
   "source": [
    "# Target outputs: loss_plots, latent_feature_objects, decoded"
   ]
  },
  {
   "cell_type": "code",
   "execution_count": 178,
   "id": "d069cb90-cefb-4887-833b-89b364776e4c",
   "metadata": {},
   "outputs": [
    {
     "data": {
      "text/plain": [
       "(995, 5001)"
      ]
     },
     "execution_count": 178,
     "metadata": {},
     "output_type": "execute_result"
    }
   ],
   "source": [
    "brca_5k_within.shape"
   ]
  },
  {
   "cell_type": "code",
   "execution_count": 179,
   "id": "122169a2-3587-4129-9e24-b4419418b2a5",
   "metadata": {},
   "outputs": [
    {
     "data": {
      "text/plain": [
       "'BRCA'"
      ]
     },
     "execution_count": 179,
     "metadata": {},
     "output_type": "execute_result"
    }
   ],
   "source": [
    "brca_5k_within.index.name"
   ]
  },
  {
   "cell_type": "markdown",
   "id": "8ca2adc7-16b5-4e98-a20f-84f8d5b340b8",
   "metadata": {
    "jp-MarkdownHeadingCollapsed": true,
    "tags": []
   },
   "source": [
    "#### Cohort feature toggles"
   ]
  },
  {
   "cell_type": "code",
   "execution_count": 192,
   "id": "a0a61f30-49e4-4269-9a89-fc8a1b324c2b",
   "metadata": {},
   "outputs": [],
   "source": [
    "feature_set = 'mad_5k_within'\n",
    "c = 'ACC'\n",
    "fit_on = 'ACC'\n",
    "decode_df = acc_5k_within"
   ]
  },
  {
   "cell_type": "code",
   "execution_count": 225,
   "id": "5d71cb15-4409-4008-8f00-df8fe02b419c",
   "metadata": {},
   "outputs": [],
   "source": [
    "feature_set = 'mad_5k_across'\n",
    "c = 'ACC'\n",
    "fit_on = 'ACC'\n",
    "decode_df = acc_5k_across"
   ]
  },
  {
   "cell_type": "code",
   "execution_count": 199,
   "id": "3570474b-3997-494c-9fac-65a6b24542a3",
   "metadata": {},
   "outputs": [],
   "source": [
    "feature_set = 'mad_5k_across'\n",
    "decode_df = brca_5k_across\n",
    "c = brca_5k_across.index.name\n",
    "fit_on = 'BRCA'"
   ]
  },
  {
   "cell_type": "code",
   "execution_count": 424,
   "id": "8d0746b9-0dd6-4723-98b7-1f7842c741c5",
   "metadata": {},
   "outputs": [],
   "source": [
    "feature_set = 'mad_5k_within'\n",
    "decode_df = brca_5k_within\n",
    "c = brca_5k_within.index.name\n",
    "fit_on = 'BRCA'"
   ]
  },
  {
   "cell_type": "code",
   "execution_count": 425,
   "id": "5ff6ced2-3c8e-4354-97d3-66d20ab68705",
   "metadata": {},
   "outputs": [
    {
     "data": {
      "text/plain": [
       "'mad_5k_within'"
      ]
     },
     "execution_count": 425,
     "metadata": {},
     "output_type": "execute_result"
    }
   ],
   "source": [
    "feature_set"
   ]
  },
  {
   "cell_type": "code",
   "execution_count": 426,
   "id": "62411155-c4a6-4d47-9164-d27c3b5d8b7d",
   "metadata": {
    "tags": []
   },
   "outputs": [
    {
     "data": {
      "text/html": [
       "<div>\n",
       "<style scoped>\n",
       "    .dataframe tbody tr th:only-of-type {\n",
       "        vertical-align: middle;\n",
       "    }\n",
       "\n",
       "    .dataframe tbody tr th {\n",
       "        vertical-align: top;\n",
       "    }\n",
       "\n",
       "    .dataframe thead th {\n",
       "        text-align: right;\n",
       "    }\n",
       "</style>\n",
       "<table border=\"1\" class=\"dataframe\">\n",
       "  <thead>\n",
       "    <tr style=\"text-align: right;\">\n",
       "      <th></th>\n",
       "      <th>Labels</th>\n",
       "      <th>N:GEXP::COL1A1:1277:</th>\n",
       "      <th>N:GEXP::FN1:2335:</th>\n",
       "      <th>N:GEXP::COL1A2:1278:</th>\n",
       "      <th>N:GEXP::COL3A1:1281:</th>\n",
       "      <th>N:GEXP::ADAM6:8755:</th>\n",
       "      <th>N:GEXP::MGP:4256:</th>\n",
       "      <th>N:GEXP::IGFBP5:3488:</th>\n",
       "      <th>N:GEXP::SPARC:6678:</th>\n",
       "      <th>N:GEXP::LOC96610:96610:</th>\n",
       "      <th>...</th>\n",
       "      <th>N:GEXP::OGFRL1:79627:</th>\n",
       "      <th>N:GEXP::PMM2:5373:</th>\n",
       "      <th>N:GEXP::TATDN2:9797:</th>\n",
       "      <th>N:GEXP::SNAP23:8773:</th>\n",
       "      <th>N:GEXP::IMPACT:55364:</th>\n",
       "      <th>N:GEXP::C7orf68:29923:</th>\n",
       "      <th>N:GEXP::MST4:51765:</th>\n",
       "      <th>N:GEXP::SNAP29:9342:</th>\n",
       "      <th>N:GEXP::MMRN2:79812:</th>\n",
       "      <th>N:GEXP::AKR1B1:231:</th>\n",
       "    </tr>\n",
       "    <tr>\n",
       "      <th>BRCA</th>\n",
       "      <th></th>\n",
       "      <th></th>\n",
       "      <th></th>\n",
       "      <th></th>\n",
       "      <th></th>\n",
       "      <th></th>\n",
       "      <th></th>\n",
       "      <th></th>\n",
       "      <th></th>\n",
       "      <th></th>\n",
       "      <th></th>\n",
       "      <th></th>\n",
       "      <th></th>\n",
       "      <th></th>\n",
       "      <th></th>\n",
       "      <th></th>\n",
       "      <th></th>\n",
       "      <th></th>\n",
       "      <th></th>\n",
       "      <th></th>\n",
       "      <th></th>\n",
       "    </tr>\n",
       "  </thead>\n",
       "  <tbody>\n",
       "    <tr>\n",
       "      <th>TCGA-3C-AAAU</th>\n",
       "      <td>BRCA_1</td>\n",
       "      <td>0.031385</td>\n",
       "      <td>0.039359</td>\n",
       "      <td>0.018842</td>\n",
       "      <td>0.031442</td>\n",
       "      <td>0.006549</td>\n",
       "      <td>0.003060</td>\n",
       "      <td>0.022639</td>\n",
       "      <td>0.020558</td>\n",
       "      <td>0.003330</td>\n",
       "      <td>...</td>\n",
       "      <td>0.008571</td>\n",
       "      <td>0.239441</td>\n",
       "      <td>0.124286</td>\n",
       "      <td>0.236286</td>\n",
       "      <td>0.237124</td>\n",
       "      <td>0.026086</td>\n",
       "      <td>0.082640</td>\n",
       "      <td>0.309121</td>\n",
       "      <td>0.080230</td>\n",
       "      <td>0.098363</td>\n",
       "    </tr>\n",
       "    <tr>\n",
       "      <th>TCGA-3C-AALI</th>\n",
       "      <td>BRCA_4</td>\n",
       "      <td>0.101237</td>\n",
       "      <td>0.091098</td>\n",
       "      <td>0.053656</td>\n",
       "      <td>0.071486</td>\n",
       "      <td>0.038961</td>\n",
       "      <td>0.001611</td>\n",
       "      <td>0.009053</td>\n",
       "      <td>0.040433</td>\n",
       "      <td>0.013666</td>\n",
       "      <td>...</td>\n",
       "      <td>0.013655</td>\n",
       "      <td>0.303725</td>\n",
       "      <td>0.169249</td>\n",
       "      <td>0.128776</td>\n",
       "      <td>0.091827</td>\n",
       "      <td>0.289617</td>\n",
       "      <td>0.010398</td>\n",
       "      <td>0.363113</td>\n",
       "      <td>0.101590</td>\n",
       "      <td>0.070110</td>\n",
       "    </tr>\n",
       "    <tr>\n",
       "      <th>TCGA-3C-AALJ</th>\n",
       "      <td>BRCA_2</td>\n",
       "      <td>0.102118</td>\n",
       "      <td>0.102970</td>\n",
       "      <td>0.051479</td>\n",
       "      <td>0.069342</td>\n",
       "      <td>0.019658</td>\n",
       "      <td>0.016429</td>\n",
       "      <td>0.009545</td>\n",
       "      <td>0.049109</td>\n",
       "      <td>0.027639</td>\n",
       "      <td>...</td>\n",
       "      <td>0.046515</td>\n",
       "      <td>0.584199</td>\n",
       "      <td>0.166972</td>\n",
       "      <td>0.167441</td>\n",
       "      <td>0.171672</td>\n",
       "      <td>0.042127</td>\n",
       "      <td>0.024604</td>\n",
       "      <td>0.183706</td>\n",
       "      <td>0.146704</td>\n",
       "      <td>0.117168</td>\n",
       "    </tr>\n",
       "    <tr>\n",
       "      <th>TCGA-3C-AALK</th>\n",
       "      <td>BRCA_1</td>\n",
       "      <td>0.245417</td>\n",
       "      <td>0.116361</td>\n",
       "      <td>0.128708</td>\n",
       "      <td>0.195194</td>\n",
       "      <td>0.015994</td>\n",
       "      <td>0.097137</td>\n",
       "      <td>0.023039</td>\n",
       "      <td>0.111954</td>\n",
       "      <td>0.015832</td>\n",
       "      <td>...</td>\n",
       "      <td>0.032716</td>\n",
       "      <td>0.333033</td>\n",
       "      <td>0.099449</td>\n",
       "      <td>0.249399</td>\n",
       "      <td>0.168550</td>\n",
       "      <td>0.046800</td>\n",
       "      <td>0.031078</td>\n",
       "      <td>0.315361</td>\n",
       "      <td>0.174845</td>\n",
       "      <td>0.061419</td>\n",
       "    </tr>\n",
       "    <tr>\n",
       "      <th>TCGA-4H-AAAK</th>\n",
       "      <td>BRCA_1</td>\n",
       "      <td>0.233795</td>\n",
       "      <td>0.208902</td>\n",
       "      <td>0.162215</td>\n",
       "      <td>0.238647</td>\n",
       "      <td>0.009210</td>\n",
       "      <td>0.088766</td>\n",
       "      <td>0.354656</td>\n",
       "      <td>0.123492</td>\n",
       "      <td>0.003744</td>\n",
       "      <td>...</td>\n",
       "      <td>0.036679</td>\n",
       "      <td>0.248053</td>\n",
       "      <td>0.131196</td>\n",
       "      <td>0.168916</td>\n",
       "      <td>0.267576</td>\n",
       "      <td>0.054275</td>\n",
       "      <td>0.039614</td>\n",
       "      <td>0.254699</td>\n",
       "      <td>0.107060</td>\n",
       "      <td>0.077553</td>\n",
       "    </tr>\n",
       "    <tr>\n",
       "      <th>...</th>\n",
       "      <td>...</td>\n",
       "      <td>...</td>\n",
       "      <td>...</td>\n",
       "      <td>...</td>\n",
       "      <td>...</td>\n",
       "      <td>...</td>\n",
       "      <td>...</td>\n",
       "      <td>...</td>\n",
       "      <td>...</td>\n",
       "      <td>...</td>\n",
       "      <td>...</td>\n",
       "      <td>...</td>\n",
       "      <td>...</td>\n",
       "      <td>...</td>\n",
       "      <td>...</td>\n",
       "      <td>...</td>\n",
       "      <td>...</td>\n",
       "      <td>...</td>\n",
       "      <td>...</td>\n",
       "      <td>...</td>\n",
       "      <td>...</td>\n",
       "    </tr>\n",
       "    <tr>\n",
       "      <th>TCGA-WT-AB44</th>\n",
       "      <td>BRCA_1</td>\n",
       "      <td>0.151985</td>\n",
       "      <td>0.066331</td>\n",
       "      <td>0.067384</td>\n",
       "      <td>0.068486</td>\n",
       "      <td>0.009339</td>\n",
       "      <td>0.016802</td>\n",
       "      <td>0.047206</td>\n",
       "      <td>0.056279</td>\n",
       "      <td>0.002394</td>\n",
       "      <td>...</td>\n",
       "      <td>0.097934</td>\n",
       "      <td>0.574945</td>\n",
       "      <td>0.102419</td>\n",
       "      <td>0.187534</td>\n",
       "      <td>0.116411</td>\n",
       "      <td>0.050844</td>\n",
       "      <td>0.007741</td>\n",
       "      <td>0.430293</td>\n",
       "      <td>0.060763</td>\n",
       "      <td>0.063427</td>\n",
       "    </tr>\n",
       "    <tr>\n",
       "      <th>TCGA-XX-A899</th>\n",
       "      <td>BRCA_1</td>\n",
       "      <td>0.115542</td>\n",
       "      <td>0.087292</td>\n",
       "      <td>0.066699</td>\n",
       "      <td>0.131443</td>\n",
       "      <td>0.008042</td>\n",
       "      <td>0.047529</td>\n",
       "      <td>0.018829</td>\n",
       "      <td>0.055552</td>\n",
       "      <td>0.005144</td>\n",
       "      <td>...</td>\n",
       "      <td>0.055228</td>\n",
       "      <td>0.222253</td>\n",
       "      <td>0.125060</td>\n",
       "      <td>0.289308</td>\n",
       "      <td>0.194704</td>\n",
       "      <td>0.120155</td>\n",
       "      <td>0.042872</td>\n",
       "      <td>0.294341</td>\n",
       "      <td>0.281497</td>\n",
       "      <td>0.078021</td>\n",
       "    </tr>\n",
       "    <tr>\n",
       "      <th>TCGA-XX-A89A</th>\n",
       "      <td>BRCA_1</td>\n",
       "      <td>0.254498</td>\n",
       "      <td>0.150192</td>\n",
       "      <td>0.130643</td>\n",
       "      <td>0.259711</td>\n",
       "      <td>0.080189</td>\n",
       "      <td>0.027200</td>\n",
       "      <td>0.066639</td>\n",
       "      <td>0.119086</td>\n",
       "      <td>0.018390</td>\n",
       "      <td>...</td>\n",
       "      <td>0.058108</td>\n",
       "      <td>0.392215</td>\n",
       "      <td>0.117537</td>\n",
       "      <td>0.293152</td>\n",
       "      <td>0.155238</td>\n",
       "      <td>0.073995</td>\n",
       "      <td>0.020824</td>\n",
       "      <td>0.220071</td>\n",
       "      <td>0.310483</td>\n",
       "      <td>0.121370</td>\n",
       "    </tr>\n",
       "    <tr>\n",
       "      <th>TCGA-Z7-A8R5</th>\n",
       "      <td>BRCA_1</td>\n",
       "      <td>0.040726</td>\n",
       "      <td>0.012097</td>\n",
       "      <td>0.026626</td>\n",
       "      <td>0.043248</td>\n",
       "      <td>0.019775</td>\n",
       "      <td>0.553064</td>\n",
       "      <td>0.003262</td>\n",
       "      <td>0.039216</td>\n",
       "      <td>0.005878</td>\n",
       "      <td>...</td>\n",
       "      <td>0.069081</td>\n",
       "      <td>0.366052</td>\n",
       "      <td>0.110805</td>\n",
       "      <td>0.212337</td>\n",
       "      <td>0.138934</td>\n",
       "      <td>0.030769</td>\n",
       "      <td>0.025580</td>\n",
       "      <td>0.259272</td>\n",
       "      <td>0.246035</td>\n",
       "      <td>0.184037</td>\n",
       "    </tr>\n",
       "    <tr>\n",
       "      <th>TCGA-Z7-A8R6</th>\n",
       "      <td>BRCA_2</td>\n",
       "      <td>0.048551</td>\n",
       "      <td>0.057949</td>\n",
       "      <td>0.025279</td>\n",
       "      <td>0.037033</td>\n",
       "      <td>0.003137</td>\n",
       "      <td>0.060544</td>\n",
       "      <td>0.039497</td>\n",
       "      <td>0.026175</td>\n",
       "      <td>0.000739</td>\n",
       "      <td>...</td>\n",
       "      <td>0.033984</td>\n",
       "      <td>0.415878</td>\n",
       "      <td>0.108341</td>\n",
       "      <td>0.161411</td>\n",
       "      <td>0.153165</td>\n",
       "      <td>0.102038</td>\n",
       "      <td>0.055862</td>\n",
       "      <td>0.400632</td>\n",
       "      <td>0.091640</td>\n",
       "      <td>0.042005</td>\n",
       "    </tr>\n",
       "  </tbody>\n",
       "</table>\n",
       "<p>995 rows × 5001 columns</p>\n",
       "</div>"
      ],
      "text/plain": [
       "              Labels  N:GEXP::COL1A1:1277:  N:GEXP::FN1:2335:  \\\n",
       "BRCA                                                            \n",
       "TCGA-3C-AAAU  BRCA_1              0.031385           0.039359   \n",
       "TCGA-3C-AALI  BRCA_4              0.101237           0.091098   \n",
       "TCGA-3C-AALJ  BRCA_2              0.102118           0.102970   \n",
       "TCGA-3C-AALK  BRCA_1              0.245417           0.116361   \n",
       "TCGA-4H-AAAK  BRCA_1              0.233795           0.208902   \n",
       "...              ...                   ...                ...   \n",
       "TCGA-WT-AB44  BRCA_1              0.151985           0.066331   \n",
       "TCGA-XX-A899  BRCA_1              0.115542           0.087292   \n",
       "TCGA-XX-A89A  BRCA_1              0.254498           0.150192   \n",
       "TCGA-Z7-A8R5  BRCA_1              0.040726           0.012097   \n",
       "TCGA-Z7-A8R6  BRCA_2              0.048551           0.057949   \n",
       "\n",
       "              N:GEXP::COL1A2:1278:  N:GEXP::COL3A1:1281:  N:GEXP::ADAM6:8755:  \\\n",
       "BRCA                                                                            \n",
       "TCGA-3C-AAAU              0.018842              0.031442             0.006549   \n",
       "TCGA-3C-AALI              0.053656              0.071486             0.038961   \n",
       "TCGA-3C-AALJ              0.051479              0.069342             0.019658   \n",
       "TCGA-3C-AALK              0.128708              0.195194             0.015994   \n",
       "TCGA-4H-AAAK              0.162215              0.238647             0.009210   \n",
       "...                            ...                   ...                  ...   \n",
       "TCGA-WT-AB44              0.067384              0.068486             0.009339   \n",
       "TCGA-XX-A899              0.066699              0.131443             0.008042   \n",
       "TCGA-XX-A89A              0.130643              0.259711             0.080189   \n",
       "TCGA-Z7-A8R5              0.026626              0.043248             0.019775   \n",
       "TCGA-Z7-A8R6              0.025279              0.037033             0.003137   \n",
       "\n",
       "              N:GEXP::MGP:4256:  N:GEXP::IGFBP5:3488:  N:GEXP::SPARC:6678:  \\\n",
       "BRCA                                                                         \n",
       "TCGA-3C-AAAU           0.003060              0.022639             0.020558   \n",
       "TCGA-3C-AALI           0.001611              0.009053             0.040433   \n",
       "TCGA-3C-AALJ           0.016429              0.009545             0.049109   \n",
       "TCGA-3C-AALK           0.097137              0.023039             0.111954   \n",
       "TCGA-4H-AAAK           0.088766              0.354656             0.123492   \n",
       "...                         ...                   ...                  ...   \n",
       "TCGA-WT-AB44           0.016802              0.047206             0.056279   \n",
       "TCGA-XX-A899           0.047529              0.018829             0.055552   \n",
       "TCGA-XX-A89A           0.027200              0.066639             0.119086   \n",
       "TCGA-Z7-A8R5           0.553064              0.003262             0.039216   \n",
       "TCGA-Z7-A8R6           0.060544              0.039497             0.026175   \n",
       "\n",
       "              N:GEXP::LOC96610:96610:  ...  N:GEXP::OGFRL1:79627:  \\\n",
       "BRCA                                   ...                          \n",
       "TCGA-3C-AAAU                 0.003330  ...               0.008571   \n",
       "TCGA-3C-AALI                 0.013666  ...               0.013655   \n",
       "TCGA-3C-AALJ                 0.027639  ...               0.046515   \n",
       "TCGA-3C-AALK                 0.015832  ...               0.032716   \n",
       "TCGA-4H-AAAK                 0.003744  ...               0.036679   \n",
       "...                               ...  ...                    ...   \n",
       "TCGA-WT-AB44                 0.002394  ...               0.097934   \n",
       "TCGA-XX-A899                 0.005144  ...               0.055228   \n",
       "TCGA-XX-A89A                 0.018390  ...               0.058108   \n",
       "TCGA-Z7-A8R5                 0.005878  ...               0.069081   \n",
       "TCGA-Z7-A8R6                 0.000739  ...               0.033984   \n",
       "\n",
       "              N:GEXP::PMM2:5373:  N:GEXP::TATDN2:9797:  N:GEXP::SNAP23:8773:  \\\n",
       "BRCA                                                                           \n",
       "TCGA-3C-AAAU            0.239441              0.124286              0.236286   \n",
       "TCGA-3C-AALI            0.303725              0.169249              0.128776   \n",
       "TCGA-3C-AALJ            0.584199              0.166972              0.167441   \n",
       "TCGA-3C-AALK            0.333033              0.099449              0.249399   \n",
       "TCGA-4H-AAAK            0.248053              0.131196              0.168916   \n",
       "...                          ...                   ...                   ...   \n",
       "TCGA-WT-AB44            0.574945              0.102419              0.187534   \n",
       "TCGA-XX-A899            0.222253              0.125060              0.289308   \n",
       "TCGA-XX-A89A            0.392215              0.117537              0.293152   \n",
       "TCGA-Z7-A8R5            0.366052              0.110805              0.212337   \n",
       "TCGA-Z7-A8R6            0.415878              0.108341              0.161411   \n",
       "\n",
       "              N:GEXP::IMPACT:55364:  N:GEXP::C7orf68:29923:  \\\n",
       "BRCA                                                          \n",
       "TCGA-3C-AAAU               0.237124                0.026086   \n",
       "TCGA-3C-AALI               0.091827                0.289617   \n",
       "TCGA-3C-AALJ               0.171672                0.042127   \n",
       "TCGA-3C-AALK               0.168550                0.046800   \n",
       "TCGA-4H-AAAK               0.267576                0.054275   \n",
       "...                             ...                     ...   \n",
       "TCGA-WT-AB44               0.116411                0.050844   \n",
       "TCGA-XX-A899               0.194704                0.120155   \n",
       "TCGA-XX-A89A               0.155238                0.073995   \n",
       "TCGA-Z7-A8R5               0.138934                0.030769   \n",
       "TCGA-Z7-A8R6               0.153165                0.102038   \n",
       "\n",
       "              N:GEXP::MST4:51765:  N:GEXP::SNAP29:9342:  N:GEXP::MMRN2:79812:  \\\n",
       "BRCA                                                                            \n",
       "TCGA-3C-AAAU             0.082640              0.309121              0.080230   \n",
       "TCGA-3C-AALI             0.010398              0.363113              0.101590   \n",
       "TCGA-3C-AALJ             0.024604              0.183706              0.146704   \n",
       "TCGA-3C-AALK             0.031078              0.315361              0.174845   \n",
       "TCGA-4H-AAAK             0.039614              0.254699              0.107060   \n",
       "...                           ...                   ...                   ...   \n",
       "TCGA-WT-AB44             0.007741              0.430293              0.060763   \n",
       "TCGA-XX-A899             0.042872              0.294341              0.281497   \n",
       "TCGA-XX-A89A             0.020824              0.220071              0.310483   \n",
       "TCGA-Z7-A8R5             0.025580              0.259272              0.246035   \n",
       "TCGA-Z7-A8R6             0.055862              0.400632              0.091640   \n",
       "\n",
       "              N:GEXP::AKR1B1:231:  \n",
       "BRCA                               \n",
       "TCGA-3C-AAAU             0.098363  \n",
       "TCGA-3C-AALI             0.070110  \n",
       "TCGA-3C-AALJ             0.117168  \n",
       "TCGA-3C-AALK             0.061419  \n",
       "TCGA-4H-AAAK             0.077553  \n",
       "...                           ...  \n",
       "TCGA-WT-AB44             0.063427  \n",
       "TCGA-XX-A899             0.078021  \n",
       "TCGA-XX-A89A             0.121370  \n",
       "TCGA-Z7-A8R5             0.184037  \n",
       "TCGA-Z7-A8R6             0.042005  \n",
       "\n",
       "[995 rows x 5001 columns]"
      ]
     },
     "execution_count": 426,
     "metadata": {},
     "output_type": "execute_result"
    }
   ],
   "source": [
    "decode_df"
   ]
  },
  {
   "cell_type": "code",
   "execution_count": 427,
   "id": "f4644d01-a83b-4536-b802-7227956e60d7",
   "metadata": {
    "tags": []
   },
   "outputs": [
    {
     "name": "stderr",
     "output_type": "stream",
     "text": [
      "2022-11-23 09:27:48.939852: I tensorflow/core/grappler/optimizers/custom_graph_optimizer_registry.cc:114] Plugin optimizer for device_type GPU is enabled.\n"
     ]
    },
    {
     "name": "stdout",
     "output_type": "stream",
     "text": [
      "WARNING:tensorflow:Output {0} missing from loss dictionary. We assume this was done on purpose. The fit and evaluate APIs will not be expecting any data to be passed to custom_variational_layer_23.\n"
     ]
    },
    {
     "name": "stderr",
     "output_type": "stream",
     "text": [
      "2022-11-23 09:27:49.269163: I tensorflow/core/grappler/optimizers/custom_graph_optimizer_registry.cc:114] Plugin optimizer for device_type GPU is enabled.\n",
      "2022-11-23 09:27:49.361689: I tensorflow/core/grappler/optimizers/custom_graph_optimizer_registry.cc:114] Plugin optimizer for device_type GPU is enabled.\n",
      "2022-11-23 09:27:49.811830: I tensorflow/core/grappler/optimizers/custom_graph_optimizer_registry.cc:114] Plugin optimizer for device_type GPU is enabled.\n",
      "2022-11-23 09:27:50.139445: I tensorflow/core/grappler/optimizers/custom_graph_optimizer_registry.cc:114] Plugin optimizer for device_type GPU is enabled.\n",
      "2022-11-23 09:27:50.230024: I tensorflow/core/grappler/optimizers/custom_graph_optimizer_registry.cc:114] Plugin optimizer for device_type GPU is enabled.\n",
      "2022-11-23 09:27:51.860543: I tensorflow/core/grappler/optimizers/custom_graph_optimizer_registry.cc:114] Plugin optimizer for device_type GPU is enabled.\n",
      "/Users/karlberb/miniforge3/envs/tf_M1_py3dot9/lib/python3.9/site-packages/keras/engine/training_v1.py:2356: UserWarning: `Model.state_updates` will be removed in a future version. This property should not be used in TensorFlow 2.0, as `updates` are applied automatically.\n",
      "  updates=self.state_updates,\n",
      "2022-11-23 09:28:27.196886: I tensorflow/core/grappler/optimizers/custom_graph_optimizer_registry.cc:114] Plugin optimizer for device_type GPU is enabled.\n",
      "2022-11-23 09:28:27.658876: I tensorflow/core/grappler/optimizers/custom_graph_optimizer_registry.cc:114] Plugin optimizer for device_type GPU is enabled.\n"
     ]
    },
    {
     "name": "stdout",
     "output_type": "stream",
     "text": [
      "Decode ACC trained on ACC using MAD 5K taken within-cohort experiment done\n"
     ]
    },
    {
     "data": {
      "image/png": "[encoded data removed]",
      "text/plain": [
       "<Figure size 640x480 with 1 Axes>"
      ]
     },
     "metadata": {},
     "output_type": "display_data"
    }
   ],
   "source": [
    "# ACC decode all samples after training on self with MAD 5k taken within cohort\n",
    "# adapted from b_train-on-all.ipynb in g_devel\n",
    "\n",
    "features = decode_df.columns[1:] # direct decode, will need fitting / dedoding frames\n",
    "\n",
    "original_dim = len(features)\n",
    "feature_dim = len(features)\n",
    "latent_dim = 10\n",
    "\n",
    "encoder_inputs = keras.Input(shape=(feature_dim,))\n",
    "z_mean_dense_linear = layers.Dense(latent_dim, kernel_initializer='glorot_uniform', name=\"encoder_1\")(encoder_inputs)\n",
    "z_mean_dense_batchnorm = layers.BatchNormalization()(z_mean_dense_linear)\n",
    "z_mean_encoded = layers.Activation('relu')(z_mean_dense_batchnorm)\n",
    "\n",
    "z_log_var_dense_linear = layers.Dense(latent_dim, kernel_initializer='glorot_uniform', name=\"encoder_2\")(encoder_inputs)\n",
    "z_log_var_dense_batchnorm = layers.BatchNormalization()(z_log_var_dense_linear)\n",
    "z_log_var_encoded = layers.Activation('relu')(z_log_var_dense_batchnorm)\n",
    "\n",
    "latent_space = layers.Lambda(compute_latent, output_shape=(latent_dim,), name=\"latent_space\")([z_mean_encoded, z_log_var_encoded])\n",
    "\n",
    "decoder_to_reconstruct = layers.Dense(feature_dim, kernel_initializer='glorot_uniform', activation='sigmoid')\n",
    "decoder_outputs = decoder_to_reconstruct(latent_space)\n",
    "\n",
    "learning_rate = 0.0005\n",
    "kappa = 1\n",
    "\n",
    "beta = K.variable(0)\n",
    "\n",
    "adam = optimizers.Adam(learning_rate=learning_rate)\n",
    "vae_layer = CustomVariationalLayer()([encoder_inputs, decoder_outputs])\n",
    "vae = Model(encoder_inputs, vae_layer)\n",
    "vae.compile(optimizer=adam, loss=None, loss_weights=[beta])\n",
    "\n",
    "epochs=155\n",
    "\n",
    "fit_start = time.time()\n",
    "history = vae.fit(decode_df.iloc[:, 1:],  #       <-------- fit the VAE on object toggled here\n",
    "            epochs=epochs, batch_size=50, shuffle=True,\n",
    "            callbacks=[WarmUpCallback(beta, kappa)],\n",
    "                 verbose=0 #  <---------------------- turn this on for production *************\n",
    "                 )\n",
    "fit_end = time.time() - fit_start\n",
    "\n",
    "plt.plot(history.history['loss'],label=\"loss\")\n",
    "\n",
    "plt.title(\n",
    "    c+' fit '+\n",
    "    '\\nTybalt VAE\\n'\n",
    "         )\n",
    "plt.xlabel('Epoch')\n",
    "plt.ylabel('Loss')\n",
    "plt.annotate('Feature set = '+feature_set+\n",
    "             '\\nLatent dim = '+str(latent_dim)+\n",
    "             '\\nLayer type = dense'+\n",
    "             '\\nNormalization = divide by max(),\\n'+\n",
    "             '                       column-wise,\\n'+\n",
    "             '                       within cohort'+\n",
    "             '\\nFit time = '+str(round(fit_end,2 ))+'s',\n",
    "            xy=(.4, .8), xycoords='figure fraction',\n",
    "            horizontalalignment='left', verticalalignment='top',\n",
    "            )\n",
    "\n",
    "plt.legend(loc=\"lower left\")\n",
    "plt.savefig(\n",
    "    'i_o/'+c+'_'+\n",
    "    'fit_on_'+fit_on+'_latent_dim.'+str(latent_dim)+\n",
    "    # '_pltv-'+str(plt_v)+\n",
    "    '_epochs.'+str(epochs)+'_'+\n",
    "    feature_set+\n",
    "    '.png', bbox_inches='tight') # version 18, norm within cohort\n",
    "# plt.close()\n",
    "\n",
    "encoder = Model(encoder_inputs, z_mean_encoded)\n",
    "decoder_input = keras.Input(shape=(latent_dim, ))\n",
    "_x_decoded_mean = decoder_to_reconstruct(decoder_input)\n",
    "decoder = Model(decoder_input, _x_decoded_mean)\n",
    "\n",
    "y_df = decode_df.Labels\n",
    "\n",
    "decoded = pd.DataFrame(decoder.predict(encoder.predict(decode_df.iloc[:, 1:])),\n",
    "                       index=decode_df.index, columns=decode_df.iloc[:, 1:].columns)\n",
    "\n",
    "latent_object = pd.DataFrame(encoder.predict(decode_df.iloc[:, 1:]),\n",
    "             index=decode_df.index,\n",
    "                # columns=decode_df.iloc[:, 1:].columns # Columns are different because this is latent space\n",
    "        )\n",
    "latent_object.index.name = c\n",
    "latent_object = pd.concat( [pd.DataFrame(y_df), latent_object] , axis =1)\n",
    "latent_object.to_csv('i_o/'+c+'_fit_on.'+fit_on+\n",
    "                     '_latent_object_latent_dim.'+str(latent_dim)+\n",
    "    '_epochs.'+str(epochs)+'_'+feature_set+\n",
    "    '.tsv',\n",
    "    sep = '\\t')\n",
    "# break\n",
    "decoded_labeled = pd.concat( [pd.DataFrame(y_df), decoded] , axis =1)\n",
    "decoded_labeled.to_csv(\n",
    "    'i_o/'+c+'_fit_on.'+fit_on+'_decoded_latent_dim.'+\n",
    "    str(latent_dim)+\n",
    "    '_epochs.'+str(epochs)+'_'+feature_set+\n",
    "    '.tsv',\n",
    "    sep = '\\t')\n",
    "\n",
    "print('Decode ACC trained on ACC using MAD 5K taken within-cohort experiment done')"
   ]
  },
  {
   "cell_type": "code",
   "execution_count": 132,
   "id": "2ae5a429-698f-4dbd-a93d-6167618a743f",
   "metadata": {},
   "outputs": [
    {
     "data": {
      "text/plain": [
       "'/Users/karlberb/Documents/work/sample_count/synthetic_TCGA_data_gen/g_learning_curves'"
      ]
     },
     "execution_count": 132,
     "metadata": {},
     "output_type": "execute_result"
    }
   ],
   "source": [
    "pwd"
   ]
  },
  {
   "cell_type": "code",
   "execution_count": null,
   "id": "5bbace67-ac40-4a69-b8fc-c323cda740da",
   "metadata": {},
   "outputs": [],
   "source": [
    "# End 2022-11-18 Friday\n",
    "# working in g_learning_curves\n",
    "# next action: check read-in on latent space"
   ]
  },
  {
   "cell_type": "code",
   "execution_count": null,
   "id": "432b07e0-c40f-41f6-99eb-9d7589d0aa1e",
   "metadata": {},
   "outputs": [],
   "source": [
    "lt_chk = pd.read_csv("
   ]
  },
  {
   "cell_type": "markdown",
   "id": "e0c9867d-8346-4436-9537-293fc4289d55",
   "metadata": {
    "jp-MarkdownHeadingCollapsed": true,
    "tags": []
   },
   "source": [
    "### RF again"
   ]
  },
  {
   "cell_type": "code",
   "execution_count": 212,
   "id": "898b7998-109d-45d0-8292-4e378da47cab",
   "metadata": {},
   "outputs": [
    {
     "data": {
      "text/html": [
       "<div>\n",
       "<style scoped>\n",
       "    .dataframe tbody tr th:only-of-type {\n",
       "        vertical-align: middle;\n",
       "    }\n",
       "\n",
       "    .dataframe tbody tr th {\n",
       "        vertical-align: top;\n",
       "    }\n",
       "\n",
       "    .dataframe thead th {\n",
       "        text-align: right;\n",
       "    }\n",
       "</style>\n",
       "<table border=\"1\" class=\"dataframe\">\n",
       "  <thead>\n",
       "    <tr style=\"text-align: right;\">\n",
       "      <th></th>\n",
       "      <th>Labels</th>\n",
       "      <th>N:GEXP::ALB:213:</th>\n",
       "      <th>N:GEXP::TG:7038:</th>\n",
       "      <th>N:GEXP::COL1A1:1277:</th>\n",
       "      <th>N:GEXP::FN1:2335:</th>\n",
       "      <th>N:GEXP::KRT5:3852:</th>\n",
       "      <th>N:GEXP::KRT14:3861:</th>\n",
       "      <th>N:GEXP::KRT6A:3853:</th>\n",
       "      <th>N:GEXP::ADAM6:8755:</th>\n",
       "      <th>N:GEXP::SERPINA1:5265:</th>\n",
       "      <th>...</th>\n",
       "      <th>N:GEXP::C14orf1:11161:</th>\n",
       "      <th>N:GEXP::SMCHD1:23347:</th>\n",
       "      <th>N:GEXP::ARL2BP:23568:</th>\n",
       "      <th>N:GEXP::PITPNB:23760:</th>\n",
       "      <th>N:GEXP::KDM5A:5927:</th>\n",
       "      <th>N:GEXP::CNIH:10175:</th>\n",
       "      <th>N:GEXP::ACADS:35:</th>\n",
       "      <th>N:GEXP::YIPF2:78992:</th>\n",
       "      <th>N:GEXP::MEPCE:56257:</th>\n",
       "      <th>N:GEXP::PPARG:5468:</th>\n",
       "    </tr>\n",
       "    <tr>\n",
       "      <th>BRCA</th>\n",
       "      <th></th>\n",
       "      <th></th>\n",
       "      <th></th>\n",
       "      <th></th>\n",
       "      <th></th>\n",
       "      <th></th>\n",
       "      <th></th>\n",
       "      <th></th>\n",
       "      <th></th>\n",
       "      <th></th>\n",
       "      <th></th>\n",
       "      <th></th>\n",
       "      <th></th>\n",
       "      <th></th>\n",
       "      <th></th>\n",
       "      <th></th>\n",
       "      <th></th>\n",
       "      <th></th>\n",
       "      <th></th>\n",
       "      <th></th>\n",
       "      <th></th>\n",
       "    </tr>\n",
       "  </thead>\n",
       "  <tbody>\n",
       "    <tr>\n",
       "      <th>TCGA-3C-AAAU</th>\n",
       "      <td>BRCA_1</td>\n",
       "      <td>0.002023</td>\n",
       "      <td>0.019497</td>\n",
       "      <td>0.035983</td>\n",
       "      <td>0.041203</td>\n",
       "      <td>0.002049</td>\n",
       "      <td>0.001973</td>\n",
       "      <td>0.000195</td>\n",
       "      <td>0.003906</td>\n",
       "      <td>0.041912</td>\n",
       "      <td>...</td>\n",
       "      <td>0.131305</td>\n",
       "      <td>0.380643</td>\n",
       "      <td>0.328481</td>\n",
       "      <td>0.115748</td>\n",
       "      <td>0.202622</td>\n",
       "      <td>0.135027</td>\n",
       "      <td>0.103956</td>\n",
       "      <td>0.198963</td>\n",
       "      <td>0.281025</td>\n",
       "      <td>0.018244</td>\n",
       "    </tr>\n",
       "    <tr>\n",
       "      <th>TCGA-3C-AALI</th>\n",
       "      <td>BRCA_4</td>\n",
       "      <td>0.004586</td>\n",
       "      <td>0.014968</td>\n",
       "      <td>0.112190</td>\n",
       "      <td>0.083792</td>\n",
       "      <td>0.003696</td>\n",
       "      <td>0.003516</td>\n",
       "      <td>0.001485</td>\n",
       "      <td>0.075677</td>\n",
       "      <td>0.003680</td>\n",
       "      <td>...</td>\n",
       "      <td>0.213715</td>\n",
       "      <td>0.175868</td>\n",
       "      <td>0.262543</td>\n",
       "      <td>0.219410</td>\n",
       "      <td>0.134845</td>\n",
       "      <td>0.201502</td>\n",
       "      <td>0.095282</td>\n",
       "      <td>0.148617</td>\n",
       "      <td>0.222396</td>\n",
       "      <td>0.042294</td>\n",
       "    </tr>\n",
       "    <tr>\n",
       "      <th>TCGA-3C-AALJ</th>\n",
       "      <td>BRCA_2</td>\n",
       "      <td>0.002884</td>\n",
       "      <td>0.030373</td>\n",
       "      <td>0.138554</td>\n",
       "      <td>0.106642</td>\n",
       "      <td>0.006046</td>\n",
       "      <td>0.003698</td>\n",
       "      <td>0.001368</td>\n",
       "      <td>0.026137</td>\n",
       "      <td>0.006070</td>\n",
       "      <td>...</td>\n",
       "      <td>0.184961</td>\n",
       "      <td>0.184516</td>\n",
       "      <td>0.323978</td>\n",
       "      <td>0.152755</td>\n",
       "      <td>0.119581</td>\n",
       "      <td>0.146302</td>\n",
       "      <td>0.108194</td>\n",
       "      <td>0.173012</td>\n",
       "      <td>0.252728</td>\n",
       "      <td>0.102907</td>\n",
       "    </tr>\n",
       "    <tr>\n",
       "      <th>TCGA-3C-AALK</th>\n",
       "      <td>BRCA_1</td>\n",
       "      <td>0.001306</td>\n",
       "      <td>0.015748</td>\n",
       "      <td>0.234895</td>\n",
       "      <td>0.147973</td>\n",
       "      <td>0.010655</td>\n",
       "      <td>0.010026</td>\n",
       "      <td>0.002146</td>\n",
       "      <td>0.022013</td>\n",
       "      <td>0.006425</td>\n",
       "      <td>...</td>\n",
       "      <td>0.234188</td>\n",
       "      <td>0.166450</td>\n",
       "      <td>0.214096</td>\n",
       "      <td>0.213482</td>\n",
       "      <td>0.143978</td>\n",
       "      <td>0.208722</td>\n",
       "      <td>0.131184</td>\n",
       "      <td>0.198791</td>\n",
       "      <td>0.224361</td>\n",
       "      <td>0.066834</td>\n",
       "    </tr>\n",
       "    <tr>\n",
       "      <th>TCGA-4H-AAAK</th>\n",
       "      <td>BRCA_1</td>\n",
       "      <td>0.001139</td>\n",
       "      <td>0.013343</td>\n",
       "      <td>0.285334</td>\n",
       "      <td>0.207944</td>\n",
       "      <td>0.007462</td>\n",
       "      <td>0.008313</td>\n",
       "      <td>0.001574</td>\n",
       "      <td>0.018514</td>\n",
       "      <td>0.005285</td>\n",
       "      <td>...</td>\n",
       "      <td>0.154784</td>\n",
       "      <td>0.248751</td>\n",
       "      <td>0.201218</td>\n",
       "      <td>0.217249</td>\n",
       "      <td>0.164757</td>\n",
       "      <td>0.150543</td>\n",
       "      <td>0.141061</td>\n",
       "      <td>0.272362</td>\n",
       "      <td>0.228302</td>\n",
       "      <td>0.042101</td>\n",
       "    </tr>\n",
       "    <tr>\n",
       "      <th>...</th>\n",
       "      <td>...</td>\n",
       "      <td>...</td>\n",
       "      <td>...</td>\n",
       "      <td>...</td>\n",
       "      <td>...</td>\n",
       "      <td>...</td>\n",
       "      <td>...</td>\n",
       "      <td>...</td>\n",
       "      <td>...</td>\n",
       "      <td>...</td>\n",
       "      <td>...</td>\n",
       "      <td>...</td>\n",
       "      <td>...</td>\n",
       "      <td>...</td>\n",
       "      <td>...</td>\n",
       "      <td>...</td>\n",
       "      <td>...</td>\n",
       "      <td>...</td>\n",
       "      <td>...</td>\n",
       "      <td>...</td>\n",
       "      <td>...</td>\n",
       "    </tr>\n",
       "    <tr>\n",
       "      <th>TCGA-WT-AB44</th>\n",
       "      <td>BRCA_1</td>\n",
       "      <td>0.000519</td>\n",
       "      <td>0.009209</td>\n",
       "      <td>0.178580</td>\n",
       "      <td>0.083411</td>\n",
       "      <td>0.004819</td>\n",
       "      <td>0.004660</td>\n",
       "      <td>0.000693</td>\n",
       "      <td>0.024501</td>\n",
       "      <td>0.007319</td>\n",
       "      <td>...</td>\n",
       "      <td>0.335427</td>\n",
       "      <td>0.118346</td>\n",
       "      <td>0.222650</td>\n",
       "      <td>0.156199</td>\n",
       "      <td>0.081631</td>\n",
       "      <td>0.200338</td>\n",
       "      <td>0.147155</td>\n",
       "      <td>0.175695</td>\n",
       "      <td>0.253237</td>\n",
       "      <td>0.056484</td>\n",
       "    </tr>\n",
       "    <tr>\n",
       "      <th>TCGA-XX-A899</th>\n",
       "      <td>BRCA_1</td>\n",
       "      <td>0.005474</td>\n",
       "      <td>0.023038</td>\n",
       "      <td>0.102147</td>\n",
       "      <td>0.079319</td>\n",
       "      <td>0.014210</td>\n",
       "      <td>0.010781</td>\n",
       "      <td>0.002472</td>\n",
       "      <td>0.052311</td>\n",
       "      <td>0.019815</td>\n",
       "      <td>...</td>\n",
       "      <td>0.108181</td>\n",
       "      <td>0.353754</td>\n",
       "      <td>0.198160</td>\n",
       "      <td>0.241522</td>\n",
       "      <td>0.200151</td>\n",
       "      <td>0.188828</td>\n",
       "      <td>0.155300</td>\n",
       "      <td>0.155815</td>\n",
       "      <td>0.167012</td>\n",
       "      <td>0.198564</td>\n",
       "    </tr>\n",
       "    <tr>\n",
       "      <th>TCGA-XX-A89A</th>\n",
       "      <td>BRCA_1</td>\n",
       "      <td>0.008910</td>\n",
       "      <td>0.036006</td>\n",
       "      <td>0.283983</td>\n",
       "      <td>0.144914</td>\n",
       "      <td>0.015388</td>\n",
       "      <td>0.011478</td>\n",
       "      <td>0.003543</td>\n",
       "      <td>0.068392</td>\n",
       "      <td>0.013981</td>\n",
       "      <td>...</td>\n",
       "      <td>0.122463</td>\n",
       "      <td>0.214340</td>\n",
       "      <td>0.246324</td>\n",
       "      <td>0.210478</td>\n",
       "      <td>0.190688</td>\n",
       "      <td>0.175313</td>\n",
       "      <td>0.168632</td>\n",
       "      <td>0.207738</td>\n",
       "      <td>0.177710</td>\n",
       "      <td>0.202824</td>\n",
       "    </tr>\n",
       "    <tr>\n",
       "      <th>TCGA-Z7-A8R5</th>\n",
       "      <td>BRCA_1</td>\n",
       "      <td>0.000848</td>\n",
       "      <td>0.010147</td>\n",
       "      <td>0.065694</td>\n",
       "      <td>0.022864</td>\n",
       "      <td>0.029665</td>\n",
       "      <td>0.027125</td>\n",
       "      <td>0.003302</td>\n",
       "      <td>0.065198</td>\n",
       "      <td>0.028215</td>\n",
       "      <td>...</td>\n",
       "      <td>0.226284</td>\n",
       "      <td>0.156700</td>\n",
       "      <td>0.242644</td>\n",
       "      <td>0.205233</td>\n",
       "      <td>0.110759</td>\n",
       "      <td>0.181127</td>\n",
       "      <td>0.277481</td>\n",
       "      <td>0.181784</td>\n",
       "      <td>0.239640</td>\n",
       "      <td>0.066817</td>\n",
       "    </tr>\n",
       "    <tr>\n",
       "      <th>TCGA-Z7-A8R6</th>\n",
       "      <td>BRCA_2</td>\n",
       "      <td>0.001028</td>\n",
       "      <td>0.009475</td>\n",
       "      <td>0.065267</td>\n",
       "      <td>0.068922</td>\n",
       "      <td>0.005066</td>\n",
       "      <td>0.002708</td>\n",
       "      <td>0.001323</td>\n",
       "      <td>0.006887</td>\n",
       "      <td>0.004340</td>\n",
       "      <td>...</td>\n",
       "      <td>0.245313</td>\n",
       "      <td>0.184538</td>\n",
       "      <td>0.136233</td>\n",
       "      <td>0.195707</td>\n",
       "      <td>0.122964</td>\n",
       "      <td>0.234780</td>\n",
       "      <td>0.117916</td>\n",
       "      <td>0.156173</td>\n",
       "      <td>0.244140</td>\n",
       "      <td>0.041183</td>\n",
       "    </tr>\n",
       "  </tbody>\n",
       "</table>\n",
       "<p>995 rows × 5001 columns</p>\n",
       "</div>"
      ],
      "text/plain": [
       "              Labels  N:GEXP::ALB:213:  N:GEXP::TG:7038:  \\\n",
       "BRCA                                                       \n",
       "TCGA-3C-AAAU  BRCA_1          0.002023          0.019497   \n",
       "TCGA-3C-AALI  BRCA_4          0.004586          0.014968   \n",
       "TCGA-3C-AALJ  BRCA_2          0.002884          0.030373   \n",
       "TCGA-3C-AALK  BRCA_1          0.001306          0.015748   \n",
       "TCGA-4H-AAAK  BRCA_1          0.001139          0.013343   \n",
       "...              ...               ...               ...   \n",
       "TCGA-WT-AB44  BRCA_1          0.000519          0.009209   \n",
       "TCGA-XX-A899  BRCA_1          0.005474          0.023038   \n",
       "TCGA-XX-A89A  BRCA_1          0.008910          0.036006   \n",
       "TCGA-Z7-A8R5  BRCA_1          0.000848          0.010147   \n",
       "TCGA-Z7-A8R6  BRCA_2          0.001028          0.009475   \n",
       "\n",
       "              N:GEXP::COL1A1:1277:  N:GEXP::FN1:2335:  N:GEXP::KRT5:3852:  \\\n",
       "BRCA                                                                        \n",
       "TCGA-3C-AAAU              0.035983           0.041203            0.002049   \n",
       "TCGA-3C-AALI              0.112190           0.083792            0.003696   \n",
       "TCGA-3C-AALJ              0.138554           0.106642            0.006046   \n",
       "TCGA-3C-AALK              0.234895           0.147973            0.010655   \n",
       "TCGA-4H-AAAK              0.285334           0.207944            0.007462   \n",
       "...                            ...                ...                 ...   \n",
       "TCGA-WT-AB44              0.178580           0.083411            0.004819   \n",
       "TCGA-XX-A899              0.102147           0.079319            0.014210   \n",
       "TCGA-XX-A89A              0.283983           0.144914            0.015388   \n",
       "TCGA-Z7-A8R5              0.065694           0.022864            0.029665   \n",
       "TCGA-Z7-A8R6              0.065267           0.068922            0.005066   \n",
       "\n",
       "              N:GEXP::KRT14:3861:  N:GEXP::KRT6A:3853:  N:GEXP::ADAM6:8755:  \\\n",
       "BRCA                                                                          \n",
       "TCGA-3C-AAAU             0.001973             0.000195             0.003906   \n",
       "TCGA-3C-AALI             0.003516             0.001485             0.075677   \n",
       "TCGA-3C-AALJ             0.003698             0.001368             0.026137   \n",
       "TCGA-3C-AALK             0.010026             0.002146             0.022013   \n",
       "TCGA-4H-AAAK             0.008313             0.001574             0.018514   \n",
       "...                           ...                  ...                  ...   \n",
       "TCGA-WT-AB44             0.004660             0.000693             0.024501   \n",
       "TCGA-XX-A899             0.010781             0.002472             0.052311   \n",
       "TCGA-XX-A89A             0.011478             0.003543             0.068392   \n",
       "TCGA-Z7-A8R5             0.027125             0.003302             0.065198   \n",
       "TCGA-Z7-A8R6             0.002708             0.001323             0.006887   \n",
       "\n",
       "              N:GEXP::SERPINA1:5265:  ...  N:GEXP::C14orf1:11161:  \\\n",
       "BRCA                                  ...                           \n",
       "TCGA-3C-AAAU                0.041912  ...                0.131305   \n",
       "TCGA-3C-AALI                0.003680  ...                0.213715   \n",
       "TCGA-3C-AALJ                0.006070  ...                0.184961   \n",
       "TCGA-3C-AALK                0.006425  ...                0.234188   \n",
       "TCGA-4H-AAAK                0.005285  ...                0.154784   \n",
       "...                              ...  ...                     ...   \n",
       "TCGA-WT-AB44                0.007319  ...                0.335427   \n",
       "TCGA-XX-A899                0.019815  ...                0.108181   \n",
       "TCGA-XX-A89A                0.013981  ...                0.122463   \n",
       "TCGA-Z7-A8R5                0.028215  ...                0.226284   \n",
       "TCGA-Z7-A8R6                0.004340  ...                0.245313   \n",
       "\n",
       "              N:GEXP::SMCHD1:23347:  N:GEXP::ARL2BP:23568:  \\\n",
       "BRCA                                                         \n",
       "TCGA-3C-AAAU               0.380643               0.328481   \n",
       "TCGA-3C-AALI               0.175868               0.262543   \n",
       "TCGA-3C-AALJ               0.184516               0.323978   \n",
       "TCGA-3C-AALK               0.166450               0.214096   \n",
       "TCGA-4H-AAAK               0.248751               0.201218   \n",
       "...                             ...                    ...   \n",
       "TCGA-WT-AB44               0.118346               0.222650   \n",
       "TCGA-XX-A899               0.353754               0.198160   \n",
       "TCGA-XX-A89A               0.214340               0.246324   \n",
       "TCGA-Z7-A8R5               0.156700               0.242644   \n",
       "TCGA-Z7-A8R6               0.184538               0.136233   \n",
       "\n",
       "              N:GEXP::PITPNB:23760:  N:GEXP::KDM5A:5927:  N:GEXP::CNIH:10175:  \\\n",
       "BRCA                                                                            \n",
       "TCGA-3C-AAAU               0.115748             0.202622             0.135027   \n",
       "TCGA-3C-AALI               0.219410             0.134845             0.201502   \n",
       "TCGA-3C-AALJ               0.152755             0.119581             0.146302   \n",
       "TCGA-3C-AALK               0.213482             0.143978             0.208722   \n",
       "TCGA-4H-AAAK               0.217249             0.164757             0.150543   \n",
       "...                             ...                  ...                  ...   \n",
       "TCGA-WT-AB44               0.156199             0.081631             0.200338   \n",
       "TCGA-XX-A899               0.241522             0.200151             0.188828   \n",
       "TCGA-XX-A89A               0.210478             0.190688             0.175313   \n",
       "TCGA-Z7-A8R5               0.205233             0.110759             0.181127   \n",
       "TCGA-Z7-A8R6               0.195707             0.122964             0.234780   \n",
       "\n",
       "              N:GEXP::ACADS:35:  N:GEXP::YIPF2:78992:  N:GEXP::MEPCE:56257:  \\\n",
       "BRCA                                                                          \n",
       "TCGA-3C-AAAU           0.103956              0.198963              0.281025   \n",
       "TCGA-3C-AALI           0.095282              0.148617              0.222396   \n",
       "TCGA-3C-AALJ           0.108194              0.173012              0.252728   \n",
       "TCGA-3C-AALK           0.131184              0.198791              0.224361   \n",
       "TCGA-4H-AAAK           0.141061              0.272362              0.228302   \n",
       "...                         ...                   ...                   ...   \n",
       "TCGA-WT-AB44           0.147155              0.175695              0.253237   \n",
       "TCGA-XX-A899           0.155300              0.155815              0.167012   \n",
       "TCGA-XX-A89A           0.168632              0.207738              0.177710   \n",
       "TCGA-Z7-A8R5           0.277481              0.181784              0.239640   \n",
       "TCGA-Z7-A8R6           0.117916              0.156173              0.244140   \n",
       "\n",
       "              N:GEXP::PPARG:5468:  \n",
       "BRCA                               \n",
       "TCGA-3C-AAAU             0.018244  \n",
       "TCGA-3C-AALI             0.042294  \n",
       "TCGA-3C-AALJ             0.102907  \n",
       "TCGA-3C-AALK             0.066834  \n",
       "TCGA-4H-AAAK             0.042101  \n",
       "...                           ...  \n",
       "TCGA-WT-AB44             0.056484  \n",
       "TCGA-XX-A899             0.198564  \n",
       "TCGA-XX-A89A             0.202824  \n",
       "TCGA-Z7-A8R5             0.066817  \n",
       "TCGA-Z7-A8R6             0.041183  \n",
       "\n",
       "[995 rows x 5001 columns]"
      ]
     },
     "execution_count": 212,
     "metadata": {},
     "output_type": "execute_result"
    }
   ],
   "source": [
    "decoded_labeled"
   ]
  },
  {
   "cell_type": "code",
   "execution_count": 213,
   "id": "2867605b-99a7-443f-92e7-893235090036",
   "metadata": {},
   "outputs": [
    {
     "data": {
      "text/plain": [
       "'mad_5k_across'"
      ]
     },
     "execution_count": 213,
     "metadata": {},
     "output_type": "execute_result"
    }
   ],
   "source": [
    "feature_set"
   ]
  },
  {
   "cell_type": "code",
   "execution_count": 215,
   "id": "f37c8e2c-f6a9-4ba8-8d6a-7cf570ecec5f",
   "metadata": {},
   "outputs": [],
   "source": [
    "df_to_clf = decoded_labeled # DataFrame to Random Forest"
   ]
  },
  {
   "cell_type": "code",
   "execution_count": 216,
   "id": "9ee45018-63f5-4118-b5c0-1bf0f5dd935a",
   "metadata": {},
   "outputs": [
    {
     "name": "stdout",
     "output_type": "stream",
     "text": [
      "20\n",
      "30\n",
      "40\n",
      "50\n",
      "60\n",
      "70\n",
      "80\n",
      "90\n",
      "100\n",
      "110\n",
      "120\n",
      "130\n",
      "140\n",
      "150\n",
      "160\n",
      "170\n",
      "180\n",
      "190\n",
      "200\n",
      "210\n",
      "220\n",
      "230\n",
      "240\n",
      "250\n"
     ]
    }
   ],
   "source": [
    "RF_F1_dct = {}\n",
    "RF_F1_means = {}\n",
    "DT_F1_means = {}\n",
    "for smp_sz in list(range(20, 251, 10)):\n",
    "# for smp_sz in list(range(15, 76, 5)):\n",
    "    \n",
    "    print(smp_sz)\n",
    "    # print(' ')\n",
    "    \n",
    "    stdev_lst = []\n",
    "    mean_lst = []\n",
    "    \n",
    "    RF_output = []\n",
    "    DT_output = []\n",
    "    resmpl_count = 150\n",
    "    for r in list(range(0, resmpl_count)):\n",
    "        \n",
    "        labeled_sample_subset_frame = df_to_clf.sample(smp_sz)\n",
    "        X = labeled_sample_subset_frame.iloc[:, 1:]\n",
    "        y = labeled_sample_subset_frame.iloc[:, 0]\n",
    "        X_train, X_test, y_train, y_test = train_test_split(\n",
    "                    X, y,\n",
    "                        test_size=0.33,\n",
    "                            )\n",
    "        RF_clf = RandomForestClassifier(max_depth=2)\n",
    "        DT_clf = DecisionTreeClassifier()\n",
    "        RF_clf.fit(X_train, y_train)\n",
    "        DT_clf.fit(X_train, y_train)\n",
    "\n",
    "        RF_F1_scr = f1_score(y_test, RF_clf.predict(X_test), average='weighted')\n",
    "        DT_F1_scr = f1_score(y_test, DT_clf.predict(X_test), average='weighted')\n",
    "        RF_output.append(RF_F1_scr)\n",
    "        DT_output.append(RF_F1_scr)\n",
    "        \n",
    "        if len(RF_output) > 1:\n",
    "            stdev_lst.append(stdev(RF_output))\n",
    "            mean_lst.append(mean(RF_output)) # running mean for active learning\n",
    "           \n",
    "    RF_F1_means[smp_sz] = round(mean(RF_output), 3)\n",
    "    DT_F1_means[smp_sz] = round(mean(DT_output), 3)\n",
    "    RF_F1_dct[smp_sz] = RF_output"
   ]
  },
  {
   "cell_type": "code",
   "execution_count": 204,
   "id": "67d89c24-0fe6-4bee-80ed-6206a5b5cf8e",
   "metadata": {},
   "outputs": [
    {
     "data": {
      "text/plain": [
       "'BRCA'"
      ]
     },
     "execution_count": 204,
     "metadata": {},
     "output_type": "execute_result"
    }
   ],
   "source": [
    "df_to_rf.index.name"
   ]
  },
  {
   "cell_type": "code",
   "execution_count": null,
   "id": "d4953d89-bb72-4d90-bb9d-0d6c3cb728f8",
   "metadata": {},
   "outputs": [],
   "source": [
    "feature_set = 'mad_5k_across'\n",
    "decode_df = brca_5k_across\n",
    "c = brca_5k_across.index.name\n",
    "fit_on = 'BRCA'"
   ]
  },
  {
   "cell_type": "code",
   "execution_count": 211,
   "id": "5f899ca0-cbf3-4cb6-ac40-b2ca5123704b",
   "metadata": {},
   "outputs": [
    {
     "data": {
      "image/png": "[encoded data removed]",
      "text/plain": [
       "<Figure size 640x480 with 1 Axes>"
      ]
     },
     "metadata": {},
     "output_type": "display_data"
    }
   ],
   "source": [
    "clf = 'random forest'\n",
    "plt.plot(list(RF_F1_means.keys()),\n",
    "       RF_F1_means.values(),label=clf)\n",
    "plt.plot(list(DT_F1_means.keys()),\n",
    "       RF_F1_means.values(),label='dt')\n",
    "plt.suptitle('Learning curves, '+df_to_clf.index.name+', decoded, fit on '+\n",
    "             df_to_rf.index.name)\n",
    "# plt.title('VAE input data: MAD 5K GEXP')\n",
    "plt.title('Decoded: ' + feature_set) # across or within cohorts\n",
    "plt.ylabel('F1 score')\n",
    "plt.xlabel('Sub-sample size, resampling with replacement')\n",
    "plt.annotate('Resamplings per step size = '+str(resmpl_count),\n",
    "                xy=(.5, .2), xycoords='figure fraction',\n",
    "                horizontalalignment='left', verticalalignment='top',\n",
    "                )\n",
    "plt.legend(loc=\"lower left\")\n",
    "plt.savefig(\n",
    "    'i_o/learning_curves/'+\n",
    "    str(df_to_rf.index.name)+'_fit_on.'+fit_on +'_'+\n",
    "    str(list(RF_F1_means.keys())[0])+'-to-'+str(smp_sz)+\n",
    "    '_'+str(resmpl_count)+'-rsmpls'+\n",
    "    '_v4.png', bbox_inches = 'tight')"
   ]
  },
  {
   "cell_type": "code",
   "execution_count": null,
   "id": "d6ffd74b-c29d-477a-9417-9a4148d79197",
   "metadata": {},
   "outputs": [],
   "source": [
    "# ^ superimpose input, decoded, and synthetic"
   ]
  },
  {
   "cell_type": "code",
   "execution_count": null,
   "id": "cb0ea097-896f-42c1-bfed-c73e6f3fc43d",
   "metadata": {},
   "outputs": [],
   "source": [
    "# read latent space object, fit PDF to one latent feature distribution\n",
    "# subset by subtype and compare latent feature distribution stats"
   ]
  },
  {
   "cell_type": "markdown",
   "id": "d3af7951-5690-42c4-873a-ac4f5d4146fa",
   "metadata": {
    "tags": []
   },
   "source": [
    "### Synthetic sample gen, production  \n",
    "- Get a 10 dim latent feature object  \n",
    "- Need to super impose input, decoded, and synthetic  \n",
    "- Outline the cells  "
   ]
  },
  {
   "cell_type": "markdown",
   "id": "bd67e45b-9ae0-4471-9b31-56f6f858c944",
   "metadata": {},
   "source": [
    "#### Imports"
   ]
  },
  {
   "cell_type": "code",
   "execution_count": null,
   "id": "ba887e85-5865-4ba5-8137-a25a6938da06",
   "metadata": {},
   "outputs": [],
   "source": [
    "import scipy.stats\n",
    "import seaborn as sns"
   ]
  },
  {
   "cell_type": "markdown",
   "id": "9c0136e8-bea4-436c-bb67-a0a23657c9bd",
   "metadata": {
    "tags": []
   },
   "source": [
    "#### Main"
   ]
  },
  {
   "cell_type": "code",
   "execution_count": 428,
   "id": "f67ea2b3-c29f-4aea-98de-9755d1f89faf",
   "metadata": {},
   "outputs": [],
   "source": [
    "# Read latent object from file\n",
    "lt_dm_10 = pd.read_csv(\n",
    "    'i_o/dim10/BRCA_fit_on.BRCA_latent_object_latent_dim.10_epochs.155_mad_5k_within.tsv',\n",
    "    sep = '\\t', index_col = 0)"
   ]
  },
  {
   "cell_type": "code",
   "execution_count": 429,
   "id": "f8dfc541-088f-4695-b7e8-fb1373e25229",
   "metadata": {},
   "outputs": [
    {
     "data": {
      "text/html": [
       "<div>\n",
       "<style scoped>\n",
       "    .dataframe tbody tr th:only-of-type {\n",
       "        vertical-align: middle;\n",
       "    }\n",
       "\n",
       "    .dataframe tbody tr th {\n",
       "        vertical-align: top;\n",
       "    }\n",
       "\n",
       "    .dataframe thead th {\n",
       "        text-align: right;\n",
       "    }\n",
       "</style>\n",
       "<table border=\"1\" class=\"dataframe\">\n",
       "  <thead>\n",
       "    <tr style=\"text-align: right;\">\n",
       "      <th></th>\n",
       "      <th>Labels</th>\n",
       "      <th>0</th>\n",
       "      <th>1</th>\n",
       "      <th>2</th>\n",
       "      <th>3</th>\n",
       "      <th>4</th>\n",
       "      <th>5</th>\n",
       "      <th>6</th>\n",
       "      <th>7</th>\n",
       "      <th>8</th>\n",
       "      <th>9</th>\n",
       "    </tr>\n",
       "    <tr>\n",
       "      <th>BRCA</th>\n",
       "      <th></th>\n",
       "      <th></th>\n",
       "      <th></th>\n",
       "      <th></th>\n",
       "      <th></th>\n",
       "      <th></th>\n",
       "      <th></th>\n",
       "      <th></th>\n",
       "      <th></th>\n",
       "      <th></th>\n",
       "      <th></th>\n",
       "    </tr>\n",
       "  </thead>\n",
       "  <tbody>\n",
       "    <tr>\n",
       "      <th>TCGA-3C-AAAU</th>\n",
       "      <td>BRCA_1</td>\n",
       "      <td>0.562085</td>\n",
       "      <td>0.490768</td>\n",
       "      <td>0.000000</td>\n",
       "      <td>1.874362</td>\n",
       "      <td>3.068345</td>\n",
       "      <td>0.579502</td>\n",
       "      <td>2.949710</td>\n",
       "      <td>1.727223</td>\n",
       "      <td>2.129509</td>\n",
       "      <td>0.000000</td>\n",
       "    </tr>\n",
       "    <tr>\n",
       "      <th>TCGA-3C-AALI</th>\n",
       "      <td>BRCA_4</td>\n",
       "      <td>2.519901</td>\n",
       "      <td>1.002619</td>\n",
       "      <td>0.000000</td>\n",
       "      <td>0.000000</td>\n",
       "      <td>1.405262</td>\n",
       "      <td>0.236878</td>\n",
       "      <td>0.000000</td>\n",
       "      <td>3.946528</td>\n",
       "      <td>3.222590</td>\n",
       "      <td>0.041174</td>\n",
       "    </tr>\n",
       "    <tr>\n",
       "      <th>TCGA-3C-AALJ</th>\n",
       "      <td>BRCA_2</td>\n",
       "      <td>2.856601</td>\n",
       "      <td>0.000000</td>\n",
       "      <td>1.367948</td>\n",
       "      <td>0.000000</td>\n",
       "      <td>2.487773</td>\n",
       "      <td>0.000000</td>\n",
       "      <td>0.000000</td>\n",
       "      <td>3.766905</td>\n",
       "      <td>2.520005</td>\n",
       "      <td>0.000000</td>\n",
       "    </tr>\n",
       "    <tr>\n",
       "      <th>TCGA-3C-AALK</th>\n",
       "      <td>BRCA_1</td>\n",
       "      <td>1.557631</td>\n",
       "      <td>0.000000</td>\n",
       "      <td>1.555237</td>\n",
       "      <td>0.000000</td>\n",
       "      <td>1.822672</td>\n",
       "      <td>1.829829</td>\n",
       "      <td>1.196688</td>\n",
       "      <td>3.638763</td>\n",
       "      <td>0.000000</td>\n",
       "      <td>0.000000</td>\n",
       "    </tr>\n",
       "    <tr>\n",
       "      <th>TCGA-4H-AAAK</th>\n",
       "      <td>BRCA_1</td>\n",
       "      <td>1.208051</td>\n",
       "      <td>0.000000</td>\n",
       "      <td>2.190112</td>\n",
       "      <td>1.144623</td>\n",
       "      <td>2.127181</td>\n",
       "      <td>1.980219</td>\n",
       "      <td>0.679095</td>\n",
       "      <td>2.783095</td>\n",
       "      <td>0.000000</td>\n",
       "      <td>0.328545</td>\n",
       "    </tr>\n",
       "    <tr>\n",
       "      <th>...</th>\n",
       "      <td>...</td>\n",
       "      <td>...</td>\n",
       "      <td>...</td>\n",
       "      <td>...</td>\n",
       "      <td>...</td>\n",
       "      <td>...</td>\n",
       "      <td>...</td>\n",
       "      <td>...</td>\n",
       "      <td>...</td>\n",
       "      <td>...</td>\n",
       "      <td>...</td>\n",
       "    </tr>\n",
       "    <tr>\n",
       "      <th>TCGA-WT-AB44</th>\n",
       "      <td>BRCA_1</td>\n",
       "      <td>2.408631</td>\n",
       "      <td>0.000000</td>\n",
       "      <td>3.191171</td>\n",
       "      <td>0.000000</td>\n",
       "      <td>0.000000</td>\n",
       "      <td>0.000000</td>\n",
       "      <td>3.420868</td>\n",
       "      <td>4.073705</td>\n",
       "      <td>0.000000</td>\n",
       "      <td>0.000000</td>\n",
       "    </tr>\n",
       "    <tr>\n",
       "      <th>TCGA-XX-A899</th>\n",
       "      <td>BRCA_1</td>\n",
       "      <td>0.662445</td>\n",
       "      <td>0.328222</td>\n",
       "      <td>2.329464</td>\n",
       "      <td>0.746637</td>\n",
       "      <td>2.046764</td>\n",
       "      <td>3.058497</td>\n",
       "      <td>0.887192</td>\n",
       "      <td>1.812215</td>\n",
       "      <td>0.000000</td>\n",
       "      <td>0.000000</td>\n",
       "    </tr>\n",
       "    <tr>\n",
       "      <th>TCGA-XX-A89A</th>\n",
       "      <td>BRCA_1</td>\n",
       "      <td>0.697733</td>\n",
       "      <td>0.000000</td>\n",
       "      <td>1.979349</td>\n",
       "      <td>0.000000</td>\n",
       "      <td>0.418602</td>\n",
       "      <td>3.986051</td>\n",
       "      <td>0.110404</td>\n",
       "      <td>2.721759</td>\n",
       "      <td>0.000000</td>\n",
       "      <td>0.000000</td>\n",
       "    </tr>\n",
       "    <tr>\n",
       "      <th>TCGA-Z7-A8R5</th>\n",
       "      <td>BRCA_1</td>\n",
       "      <td>3.577980</td>\n",
       "      <td>0.000000</td>\n",
       "      <td>3.304743</td>\n",
       "      <td>0.000000</td>\n",
       "      <td>0.000000</td>\n",
       "      <td>0.000000</td>\n",
       "      <td>2.298533</td>\n",
       "      <td>4.205558</td>\n",
       "      <td>0.000000</td>\n",
       "      <td>0.000000</td>\n",
       "    </tr>\n",
       "    <tr>\n",
       "      <th>TCGA-Z7-A8R6</th>\n",
       "      <td>BRCA_2</td>\n",
       "      <td>2.815516</td>\n",
       "      <td>0.000000</td>\n",
       "      <td>1.179154</td>\n",
       "      <td>0.000000</td>\n",
       "      <td>2.489215</td>\n",
       "      <td>0.000000</td>\n",
       "      <td>1.057558</td>\n",
       "      <td>3.098246</td>\n",
       "      <td>0.737702</td>\n",
       "      <td>2.135804</td>\n",
       "    </tr>\n",
       "  </tbody>\n",
       "</table>\n",
       "<p>995 rows × 11 columns</p>\n",
       "</div>"
      ],
      "text/plain": [
       "              Labels         0         1         2         3         4  \\\n",
       "BRCA                                                                     \n",
       "TCGA-3C-AAAU  BRCA_1  0.562085  0.490768  0.000000  1.874362  3.068345   \n",
       "TCGA-3C-AALI  BRCA_4  2.519901  1.002619  0.000000  0.000000  1.405262   \n",
       "TCGA-3C-AALJ  BRCA_2  2.856601  0.000000  1.367948  0.000000  2.487773   \n",
       "TCGA-3C-AALK  BRCA_1  1.557631  0.000000  1.555237  0.000000  1.822672   \n",
       "TCGA-4H-AAAK  BRCA_1  1.208051  0.000000  2.190112  1.144623  2.127181   \n",
       "...              ...       ...       ...       ...       ...       ...   \n",
       "TCGA-WT-AB44  BRCA_1  2.408631  0.000000  3.191171  0.000000  0.000000   \n",
       "TCGA-XX-A899  BRCA_1  0.662445  0.328222  2.329464  0.746637  2.046764   \n",
       "TCGA-XX-A89A  BRCA_1  0.697733  0.000000  1.979349  0.000000  0.418602   \n",
       "TCGA-Z7-A8R5  BRCA_1  3.577980  0.000000  3.304743  0.000000  0.000000   \n",
       "TCGA-Z7-A8R6  BRCA_2  2.815516  0.000000  1.179154  0.000000  2.489215   \n",
       "\n",
       "                     5         6         7         8         9  \n",
       "BRCA                                                            \n",
       "TCGA-3C-AAAU  0.579502  2.949710  1.727223  2.129509  0.000000  \n",
       "TCGA-3C-AALI  0.236878  0.000000  3.946528  3.222590  0.041174  \n",
       "TCGA-3C-AALJ  0.000000  0.000000  3.766905  2.520005  0.000000  \n",
       "TCGA-3C-AALK  1.829829  1.196688  3.638763  0.000000  0.000000  \n",
       "TCGA-4H-AAAK  1.980219  0.679095  2.783095  0.000000  0.328545  \n",
       "...                ...       ...       ...       ...       ...  \n",
       "TCGA-WT-AB44  0.000000  3.420868  4.073705  0.000000  0.000000  \n",
       "TCGA-XX-A899  3.058497  0.887192  1.812215  0.000000  0.000000  \n",
       "TCGA-XX-A89A  3.986051  0.110404  2.721759  0.000000  0.000000  \n",
       "TCGA-Z7-A8R5  0.000000  2.298533  4.205558  0.000000  0.000000  \n",
       "TCGA-Z7-A8R6  0.000000  1.057558  3.098246  0.737702  2.135804  \n",
       "\n",
       "[995 rows x 11 columns]"
      ]
     },
     "execution_count": 429,
     "metadata": {},
     "output_type": "execute_result"
    }
   ],
   "source": [
    "lt_dm_10"
   ]
  },
  {
   "cell_type": "code",
   "execution_count": 433,
   "id": "e3e95883-5792-47e4-8bb4-b8338251469a",
   "metadata": {},
   "outputs": [
    {
     "name": "stdout",
     "output_type": "stream",
     "text": [
      "BRCA_1\n",
      "BRCA_4\n",
      "BRCA_2\n",
      "BRCA_3\n"
     ]
    },
    {
     "data": {
      "image/png": "[encoded data removed]",
      "text/plain": [
       "<Figure size 640x480 with 1 Axes>"
      ]
     },
     "metadata": {},
     "output_type": "display_data"
    }
   ],
   "source": [
    "for subtype in lt_dm_10.Labels.unique():\n",
    "    print(subtype)\n",
    "    sub = lt_dm_10[lt_dm_10.Labels == subtype]\n",
    "    plt.hist(sub['9'], bins = 12)\n",
    "    plt.savefig('distsumm.png')"
   ]
  },
  {
   "cell_type": "code",
   "execution_count": 434,
   "id": "fc4a0acf-3da6-4d8f-adb3-b525f456c366",
   "metadata": {},
   "outputs": [
    {
     "data": {
      "text/plain": [
       "(Index(['Labels', '0', '1', '2', '3', '4', '5', '6', '7', '8', '9'], dtype='object'),)"
      ]
     },
     "execution_count": 434,
     "metadata": {},
     "output_type": "execute_result"
    }
   ],
   "source": [
    "lt_dm_10.columns,"
   ]
  },
  {
   "cell_type": "code",
   "execution_count": null,
   "id": "0263b5f7-2822-46df-91fc-71d7d43d500e",
   "metadata": {},
   "outputs": [],
   "source": [
    "lt_dm_10"
   ]
  },
  {
   "cell_type": "code",
   "execution_count": 441,
   "id": "43815dc9-b7fe-42d4-8d7b-36d368f113cb",
   "metadata": {},
   "outputs": [
    {
     "data": {
      "text/plain": [
       "535"
      ]
     },
     "execution_count": 441,
     "metadata": {},
     "output_type": "execute_result"
    }
   ],
   "source": [
    "len(lt_dm_10[lt_dm_10.Labels == subtype][feature])"
   ]
  },
  {
   "cell_type": "code",
   "execution_count": 444,
   "id": "489720e8-0363-4f1c-bae8-27795770897a",
   "metadata": {},
   "outputs": [
    {
     "name": "stdout",
     "output_type": "stream",
     "text": [
      "BRCA_1\n"
     ]
    },
    {
     "data": {
      "image/png": "[encoded data removed]",
      "text/plain": [
       "<Figure size 1200x3000 with 10 Axes>"
      ]
     },
     "metadata": {},
     "output_type": "display_data"
    }
   ],
   "source": [
    "features = ['0','1','2','3','4', '5', '6', '7', '8', '9']\n",
    "rows = 5\n",
    "cols = 2\n",
    "for subtype in sorted(lt_dm_10.Labels.unique()):\n",
    "    print(subtype)\n",
    "    fig=plt.figure(figsize=(12,30))\n",
    "    for i, feature in enumerate(features):\n",
    "        ax=fig.add_subplot(rows,cols,i+1)\n",
    "        lt_dm_10[lt_dm_10.Labels == subtype][feature].plot.hist(bins=20,ax=ax,facecolor='green',\n",
    "                                                          ylim = (0,len(lt_dm_10[lt_dm_10.Labels == subtype][feature])))\n",
    "        ax.set_title('Latent feature '+feature+\" Distribution\",color='red')\n",
    "\n",
    "    fig.tight_layout()\n",
    "    plt.suptitle(subtype)\n",
    "    plt.show()\n",
    "    \n",
    "    break"
   ]
  },
  {
   "cell_type": "code",
   "execution_count": null,
   "id": "6ff94c41-c0d9-48c3-8e0c-86d4d1d01d8f",
   "metadata": {},
   "outputs": [],
   "source": [
    "# 2022-11-28, Monday morning, is the VAE biased toward over-represented subtypes?\n",
    "# Compare individual subtype scores (?)\n",
    "    # idea from setting normalized y axis"
   ]
  },
  {
   "cell_type": "code",
   "execution_count": 431,
   "id": "16bfdfab-3fef-4307-a5f3-c2330204c2f6",
   "metadata": {},
   "outputs": [
    {
     "name": "stdout",
     "output_type": "stream",
     "text": [
      "BRCA_1\n",
      "BRCA_4\n",
      "BRCA_2\n",
      "BRCA_3\n"
     ]
    },
    {
     "data": {
      "image/png": "[encoded data removed]",
      "text/plain": [
       "<Figure size 640x480 with 1 Axes>"
      ]
     },
     "metadata": {},
     "output_type": "display_data"
    }
   ],
   "source": [
    "for subtype in lt_dm_10.Labels.unique():\n",
    "    print(subtype)\n",
    "    sub = lt_dm_10[lt_dm_10.Labels == subtype]\n",
    "    plt.hist(sub['8'], bins = 12)"
   ]
  },
  {
   "cell_type": "code",
   "execution_count": 432,
   "id": "1093f989-5362-4328-8775-a55c41991262",
   "metadata": {},
   "outputs": [
    {
     "name": "stdout",
     "output_type": "stream",
     "text": [
      "BRCA_1\n",
      "BRCA_4\n",
      "BRCA_2\n",
      "BRCA_3\n"
     ]
    },
    {
     "data": {
      "image/png": "[encoded data removed]",
      "text/plain": [
       "<Figure size 640x480 with 1 Axes>"
      ]
     },
     "metadata": {},
     "output_type": "display_data"
    }
   ],
   "source": [
    "for subtype in lt_dm_10.Labels.unique():\n",
    "    print(subtype)\n",
    "    sub = lt_dm_10[lt_dm_10.Labels == subtype]\n",
    "    plt.hist(sub['7'], bins = 12)"
   ]
  },
  {
   "cell_type": "code",
   "execution_count": null,
   "id": "0c3f1301-501b-4611-8893-20d23c4791f4",
   "metadata": {},
   "outputs": [],
   "source": [
    "# https://stackoverflow.com/questions/50773877/create-for-loop-to-plot-histograms-for-individual-columns-of-dataframe-with-seab\n",
    "fig=plt.figure(figsize=(20,20))\n",
    "for i, feature in enumerate(features):\n",
    "    ax=fig.add_subplot(rows,cols,i+1)\n",
    "    dataframe[feature].hist(bins=20,ax=ax,facecolor='green')\n",
    "    ax.set_title(feature+\" Distribution\",color='red')\n",
    "\n",
    "fig.tight_layout()  \n",
    "plt.show()"
   ]
  },
  {
   "cell_type": "code",
   "execution_count": null,
   "id": "e50ec0bc-bc3c-4eb2-97cb-c44d794c4251",
   "metadata": {},
   "outputs": [],
   "source": []
  },
  {
   "cell_type": "code",
   "execution_count": null,
   "id": "ce7537cd-8bf1-4e9a-a43a-cc5425b9c920",
   "metadata": {},
   "outputs": [],
   "source": [
    "# Sample the latent feature distributions\n",
    "For get ratio of zeros to sample size\n",
    "Assign probability of zero to synth sample latent feature\n",
    "If not zero, take value from range and density of remaining feature values"
   ]
  },
  {
   "cell_type": "code",
   "execution_count": null,
   "id": "b924d645-b803-4d00-9874-150b3b98b20b",
   "metadata": {},
   "outputs": [],
   "source": [
    "# Super impostion plot\n",
    "# This is a learning curve plot\n",
    "inpt_dct = \n",
    "\n"
   ]
  },
  {
   "cell_type": "markdown",
   "id": "931a2f75-adf7-4a09-9737-3c3b2047509f",
   "metadata": {
    "tags": []
   },
   "source": [
    "### Synthetic sample gen, devel  \n",
    "- move to templates, records, or delete"
   ]
  },
  {
   "cell_type": "code",
   "execution_count": null,
   "id": "dde3036f-fe2d-40de-93e4-c8ede0cdb3ec",
   "metadata": {},
   "outputs": [],
   "source": []
  },
  {
   "cell_type": "markdown",
   "id": "64bb6781-d5ac-48e7-b345-2190c58da67d",
   "metadata": {
    "tags": []
   },
   "source": [
    "#### Synth devel records"
   ]
  },
  {
   "cell_type": "code",
   "execution_count": 227,
   "id": "3b85407a-a268-468f-8fda-d4c6737cdb78",
   "metadata": {
    "tags": []
   },
   "outputs": [],
   "source": [
    "synth_devel_obj = pd.read_csv(\n",
    "    'i_o/latent_feature_objects/BRCA_fit_on.BRCA_latent_object_latent_dim.100_epochs.155_mad_5k_within.tsv',\n",
    "    sep = '\\t', index_col = 0)"
   ]
  },
  {
   "cell_type": "code",
   "execution_count": 239,
   "id": "508a6f18-55ee-4574-b52a-8f0138710061",
   "metadata": {
    "tags": []
   },
   "outputs": [
    {
     "name": "stdout",
     "output_type": "stream",
     "text": [
      "0.0\n",
      "0.8275901941012755\n",
      "1.3055455733023245\n",
      "3.9941650942548432\n"
     ]
    }
   ],
   "source": [
    "print(scipy.stats.moment(synth_devel_obj['0'], moment = 1))\n",
    "print(scipy.stats.moment(synth_devel_obj['0'], moment = 2))\n",
    "print(scipy.stats.moment(synth_devel_obj['0'], moment = 3))\n",
    "print(scipy.stats.moment(synth_devel_obj['0'], moment = 4))"
   ]
  },
  {
   "cell_type": "code",
   "execution_count": 240,
   "id": "ebd0ce33-7930-4024-818b-232a9401e7dd",
   "metadata": {
    "tags": []
   },
   "outputs": [
    {
     "name": "stdout",
     "output_type": "stream",
     "text": [
      "0.0\n",
      "0.6046237118707797\n",
      "0.7471670533600777\n",
      "2.141910538325585\n"
     ]
    }
   ],
   "source": [
    "col = '1'\n",
    "print(scipy.stats.moment(synth_devel_obj[col], moment = 1))\n",
    "print(scipy.stats.moment(synth_devel_obj[col], moment = 2))\n",
    "print(scipy.stats.moment(synth_devel_obj[col], moment = 3))\n",
    "print(scipy.stats.moment(synth_devel_obj[col], moment = 4))"
   ]
  },
  {
   "cell_type": "code",
   "execution_count": 246,
   "id": "c4eed7c5-3996-40d3-bef8-414502964dae",
   "metadata": {},
   "outputs": [
    {
     "data": {
      "text/plain": [
       "0.8261080434448598"
      ]
     },
     "execution_count": 246,
     "metadata": {},
     "output_type": "execute_result"
    }
   ],
   "source": [
    "mean(synth_devel_obj[synth_devel_obj.Labels == 'BRCA_1'][col])"
   ]
  },
  {
   "cell_type": "code",
   "execution_count": 421,
   "id": "5886ed31-3b39-4d48-94c2-f946623ba471",
   "metadata": {},
   "outputs": [
    {
     "name": "stdout",
     "output_type": "stream",
     "text": [
      "BRCA_1\n",
      "BRCA_4\n",
      "BRCA_2\n",
      "BRCA_3\n"
     ]
    }
   ],
   "source": [
    "for subtype in synth_devel_obj.Labels.unique():\n",
    "    print(subtype)\n",
    "    sub = synth_devel_obj[synth_devel_obj.Labels == subtype]\n",
    "    plt.hist(sub['11'], bins = 25)\n",
    "    plt.close()"
   ]
  },
  {
   "cell_type": "code",
   "execution_count": 270,
   "id": "2434eccc-0ad6-4020-917b-190fc6b8b342",
   "metadata": {},
   "outputs": [
    {
     "name": "stdout",
     "output_type": "stream",
     "text": [
      "BRCA_1\n",
      "BRCA_4\n",
      "BRCA_2\n",
      "BRCA_3\n"
     ]
    },
    {
     "data": {
      "image/png": "[encoded data removed]",
      "text/plain": [
       "<Figure size 640x480 with 1 Axes>"
      ]
     },
     "metadata": {},
     "output_type": "display_data"
    }
   ],
   "source": [
    "for subtype in synth_devel_obj.Labels.unique():\n",
    "    print(subtype)\n",
    "    sub = synth_devel_obj[synth_devel_obj.Labels == subtype]\n",
    "    plt.hist(sub['11'], bins = 25)\n",
    "    # break"
   ]
  },
  {
   "cell_type": "code",
   "execution_count": 272,
   "id": "35d96838-f2a5-4a86-975a-b97bffcd93ea",
   "metadata": {
    "collapsed": true,
    "jupyter": {
     "outputs_hidden": true
    },
    "tags": []
   },
   "outputs": [
    {
     "name": "stdout",
     "output_type": "stream",
     "text": [
      "Collecting fitter\n",
      "  Downloading fitter-1.5.1.tar.gz (27 kB)\n",
      "  Preparing metadata (setup.py) ... \u001b[?25ldone\n",
      "\u001b[?25hCollecting click\n",
      "  Downloading click-8.1.3-py3-none-any.whl (96 kB)\n",
      "\u001b[2K     \u001b[90m━━━━━━━━━━━━━━━━━━━━━━━━━━━━━━━━━━━━━━━\u001b[0m \u001b[32m96.6/96.6 kB\u001b[0m \u001b[31m939.2 kB/s\u001b[0m eta \u001b[36m0:00:00\u001b[0m \u001b[36m0:00:01\u001b[0mm\n",
      "\u001b[?25hRequirement already satisfied: joblib in /Users/karlberb/miniforge3/envs/tf_M1_py3dot9/lib/python3.9/site-packages (from fitter) (1.2.0)\n",
      "Requirement already satisfied: matplotlib in /Users/karlberb/miniforge3/envs/tf_M1_py3dot9/lib/python3.9/site-packages (from fitter) (3.6.2)\n",
      "Requirement already satisfied: numpy in /Users/karlberb/miniforge3/envs/tf_M1_py3dot9/lib/python3.9/site-packages (from fitter) (1.23.2)\n",
      "Requirement already satisfied: pandas in /Users/karlberb/miniforge3/envs/tf_M1_py3dot9/lib/python3.9/site-packages (from fitter) (1.5.1)\n",
      "Requirement already satisfied: scipy>=0.18 in /Users/karlberb/miniforge3/envs/tf_M1_py3dot9/lib/python3.9/site-packages (from fitter) (1.9.3)\n",
      "Requirement already satisfied: tqdm in /Users/karlberb/miniforge3/envs/tf_M1_py3dot9/lib/python3.9/site-packages (from fitter) (4.64.1)\n",
      "Requirement already satisfied: fonttools>=4.22.0 in /Users/karlberb/miniforge3/envs/tf_M1_py3dot9/lib/python3.9/site-packages (from matplotlib->fitter) (4.38.0)\n",
      "Requirement already satisfied: cycler>=0.10 in /Users/karlberb/miniforge3/envs/tf_M1_py3dot9/lib/python3.9/site-packages (from matplotlib->fitter) (0.11.0)\n",
      "Requirement already satisfied: pillow>=6.2.0 in /Users/karlberb/miniforge3/envs/tf_M1_py3dot9/lib/python3.9/site-packages (from matplotlib->fitter) (9.3.0)\n",
      "Requirement already satisfied: contourpy>=1.0.1 in /Users/karlberb/miniforge3/envs/tf_M1_py3dot9/lib/python3.9/site-packages (from matplotlib->fitter) (1.0.6)\n",
      "Requirement already satisfied: python-dateutil>=2.7 in /Users/karlberb/miniforge3/envs/tf_M1_py3dot9/lib/python3.9/site-packages (from matplotlib->fitter) (2.8.2)\n",
      "Requirement already satisfied: kiwisolver>=1.0.1 in /Users/karlberb/miniforge3/envs/tf_M1_py3dot9/lib/python3.9/site-packages (from matplotlib->fitter) (1.4.4)\n",
      "Requirement already satisfied: packaging>=20.0 in /Users/karlberb/miniforge3/envs/tf_M1_py3dot9/lib/python3.9/site-packages (from matplotlib->fitter) (21.3)\n",
      "Requirement already satisfied: pyparsing>=2.2.1 in /Users/karlberb/miniforge3/envs/tf_M1_py3dot9/lib/python3.9/site-packages (from matplotlib->fitter) (3.0.9)\n",
      "Requirement already satisfied: pytz>=2020.1 in /Users/karlberb/miniforge3/envs/tf_M1_py3dot9/lib/python3.9/site-packages (from pandas->fitter) (2022.6)\n",
      "Requirement already satisfied: six>=1.5 in /Users/karlberb/miniforge3/envs/tf_M1_py3dot9/lib/python3.9/site-packages (from python-dateutil>=2.7->matplotlib->fitter) (1.16.0)\n",
      "Building wheels for collected packages: fitter\n",
      "  Building wheel for fitter (setup.py) ... \u001b[?25ldone\n",
      "\u001b[?25h  Created wheel for fitter: filename=fitter-1.5.1-py3-none-any.whl size=25596 sha256=5687bbb298fe64f57a79ff4622386e0b337d0e6f2289618d91565d9da8a16b3b\n",
      "  Stored in directory: /Users/karlberb/Library/Caches/pip/wheels/56/00/15/87e8ce355c5e9bf9b8e0983ab0fb62f3c1adc58e70d4e0a7e1\n",
      "Successfully built fitter\n",
      "Installing collected packages: click, fitter\n",
      "Successfully installed click-8.1.3 fitter-1.5.1\n",
      "Note: you may need to restart the kernel to use updated packages.\n"
     ]
    }
   ],
   "source": [
    "pip install fitter"
   ]
  },
  {
   "cell_type": "code",
   "execution_count": 273,
   "id": "5f3954c8-6a2a-4cd2-8f3f-3dd03b2f5ef9",
   "metadata": {},
   "outputs": [],
   "source": [
    "from fitter import Fitter, get_common_distributions, get_distributions"
   ]
  },
  {
   "cell_type": "code",
   "execution_count": 281,
   "id": "31904cdf-94af-4292-93e3-de9797f2b10a",
   "metadata": {
    "collapsed": true,
    "jupyter": {
     "outputs_hidden": true
    },
    "tags": []
   },
   "outputs": [
    {
     "ename": "AttributeError",
     "evalue": "'DataFrame' object has no attribute 'distributions'",
     "output_type": "error",
     "traceback": [
      "\u001b[0;31m---------------------------------------------------------------------------\u001b[0m",
      "\u001b[0;31mAttributeError\u001b[0m                            Traceback (most recent call last)",
      "Cell \u001b[0;32mIn [281], line 1\u001b[0m\n\u001b[0;32m----> 1\u001b[0m fit \u001b[38;5;241m=\u001b[39m \u001b[43mFitter\u001b[49m\u001b[38;5;241;43m.\u001b[39;49m\u001b[43mfit\u001b[49m\u001b[43m(\u001b[49m\u001b[43msub\u001b[49m\u001b[38;5;241;43m.\u001b[39;49m\u001b[43miloc\u001b[49m\u001b[43m[\u001b[49m\u001b[43m:\u001b[49m\u001b[43m,\u001b[49m\u001b[43m \u001b[49m\u001b[38;5;241;43m1\u001b[39;49m\u001b[43m:\u001b[49m\u001b[43m]\u001b[49m\u001b[43m)\u001b[49m\n",
      "File \u001b[0;32m~/miniforge3/envs/tf_M1_py3dot9/lib/python3.9/site-packages/fitter/fitter.py:370\u001b[0m, in \u001b[0;36mFitter.fit\u001b[0;34m(self, progress, n_jobs, max_workers)\u001b[0m\n\u001b[1;32m    366\u001b[0m \u001b[38;5;28;01mimport\u001b[39;00m \u001b[38;5;21;01mwarnings\u001b[39;00m\n\u001b[1;32m    368\u001b[0m warnings\u001b[38;5;241m.\u001b[39mfilterwarnings(\u001b[38;5;124m\"\u001b[39m\u001b[38;5;124mignore\u001b[39m\u001b[38;5;124m\"\u001b[39m, category\u001b[38;5;241m=\u001b[39m\u001b[38;5;167;01mRuntimeWarning\u001b[39;00m)\n\u001b[0;32m--> 370\u001b[0m N \u001b[38;5;241m=\u001b[39m \u001b[38;5;28mlen\u001b[39m(\u001b[38;5;28;43mself\u001b[39;49m\u001b[38;5;241;43m.\u001b[39;49m\u001b[43mdistributions\u001b[49m)\n\u001b[1;32m    371\u001b[0m \u001b[38;5;28;01mwith\u001b[39;00m tqdm_joblib(desc\u001b[38;5;241m=\u001b[39m\u001b[38;5;124mf\u001b[39m\u001b[38;5;124m\"\u001b[39m\u001b[38;5;124mFitting \u001b[39m\u001b[38;5;132;01m{\u001b[39;00mN\u001b[38;5;132;01m}\u001b[39;00m\u001b[38;5;124m distributions\u001b[39m\u001b[38;5;124m\"\u001b[39m, total\u001b[38;5;241m=\u001b[39mN) \u001b[38;5;28;01mas\u001b[39;00m progress_bar:\n\u001b[1;32m    372\u001b[0m     Parallel(n_jobs\u001b[38;5;241m=\u001b[39mmax_workers, backend\u001b[38;5;241m=\u001b[39m\u001b[38;5;124m'\u001b[39m\u001b[38;5;124mthreading\u001b[39m\u001b[38;5;124m'\u001b[39m)(delayed(\u001b[38;5;28mself\u001b[39m\u001b[38;5;241m.\u001b[39m_fit_single_distribution)(dist) \u001b[38;5;28;01mfor\u001b[39;00m dist \u001b[38;5;129;01min\u001b[39;00m \u001b[38;5;28mself\u001b[39m\u001b[38;5;241m.\u001b[39mdistributions)\n",
      "File \u001b[0;32m~/miniforge3/envs/tf_M1_py3dot9/lib/python3.9/site-packages/pandas/core/generic.py:5902\u001b[0m, in \u001b[0;36mNDFrame.__getattr__\u001b[0;34m(self, name)\u001b[0m\n\u001b[1;32m   5895\u001b[0m \u001b[38;5;28;01mif\u001b[39;00m (\n\u001b[1;32m   5896\u001b[0m     name \u001b[38;5;129;01mnot\u001b[39;00m \u001b[38;5;129;01min\u001b[39;00m \u001b[38;5;28mself\u001b[39m\u001b[38;5;241m.\u001b[39m_internal_names_set\n\u001b[1;32m   5897\u001b[0m     \u001b[38;5;129;01mand\u001b[39;00m name \u001b[38;5;129;01mnot\u001b[39;00m \u001b[38;5;129;01min\u001b[39;00m \u001b[38;5;28mself\u001b[39m\u001b[38;5;241m.\u001b[39m_metadata\n\u001b[1;32m   5898\u001b[0m     \u001b[38;5;129;01mand\u001b[39;00m name \u001b[38;5;129;01mnot\u001b[39;00m \u001b[38;5;129;01min\u001b[39;00m \u001b[38;5;28mself\u001b[39m\u001b[38;5;241m.\u001b[39m_accessors\n\u001b[1;32m   5899\u001b[0m     \u001b[38;5;129;01mand\u001b[39;00m \u001b[38;5;28mself\u001b[39m\u001b[38;5;241m.\u001b[39m_info_axis\u001b[38;5;241m.\u001b[39m_can_hold_identifiers_and_holds_name(name)\n\u001b[1;32m   5900\u001b[0m ):\n\u001b[1;32m   5901\u001b[0m     \u001b[38;5;28;01mreturn\u001b[39;00m \u001b[38;5;28mself\u001b[39m[name]\n\u001b[0;32m-> 5902\u001b[0m \u001b[38;5;28;01mreturn\u001b[39;00m \u001b[38;5;28;43mobject\u001b[39;49m\u001b[38;5;241;43m.\u001b[39;49m\u001b[38;5;21;43m__getattribute__\u001b[39;49m\u001b[43m(\u001b[49m\u001b[38;5;28;43mself\u001b[39;49m\u001b[43m,\u001b[49m\u001b[43m \u001b[49m\u001b[43mname\u001b[49m\u001b[43m)\u001b[49m\n",
      "\u001b[0;31mAttributeError\u001b[0m: 'DataFrame' object has no attribute 'distributions'"
     ]
    }
   ],
   "source": [
    "fit = Fitter.fit(sub.iloc[:, 1:])"
   ]
  },
  {
   "cell_type": "code",
   "execution_count": 284,
   "id": "a6d28053-814d-4f5c-8ba1-031d6ecb6de7",
   "metadata": {
    "collapsed": true,
    "jupyter": {
     "outputs_hidden": true
    },
    "tags": []
   },
   "outputs": [
    {
     "name": "stdout",
     "output_type": "stream",
     "text": [
      "Collecting seaborn\n",
      "  Downloading seaborn-0.12.1-py3-none-any.whl (288 kB)\n",
      "\u001b[2K     \u001b[90m━━━━━━━━━━━━━━━━━━━━━━━━━━━━━━━━━━━━━━━\u001b[0m \u001b[32m288.2/288.2 kB\u001b[0m \u001b[31m1.1 MB/s\u001b[0m eta \u001b[36m0:00:00\u001b[0ma \u001b[36m0:00:01\u001b[0m\n",
      "\u001b[?25hRequirement already satisfied: pandas>=0.25 in /Users/karlberb/miniforge3/envs/tf_M1_py3dot9/lib/python3.9/site-packages (from seaborn) (1.5.1)\n",
      "Requirement already satisfied: matplotlib!=3.6.1,>=3.1 in /Users/karlberb/miniforge3/envs/tf_M1_py3dot9/lib/python3.9/site-packages (from seaborn) (3.6.2)\n",
      "Requirement already satisfied: numpy>=1.17 in /Users/karlberb/miniforge3/envs/tf_M1_py3dot9/lib/python3.9/site-packages (from seaborn) (1.23.2)\n",
      "Requirement already satisfied: cycler>=0.10 in /Users/karlberb/miniforge3/envs/tf_M1_py3dot9/lib/python3.9/site-packages (from matplotlib!=3.6.1,>=3.1->seaborn) (0.11.0)\n",
      "Requirement already satisfied: python-dateutil>=2.7 in /Users/karlberb/miniforge3/envs/tf_M1_py3dot9/lib/python3.9/site-packages (from matplotlib!=3.6.1,>=3.1->seaborn) (2.8.2)\n",
      "Requirement already satisfied: contourpy>=1.0.1 in /Users/karlberb/miniforge3/envs/tf_M1_py3dot9/lib/python3.9/site-packages (from matplotlib!=3.6.1,>=3.1->seaborn) (1.0.6)\n",
      "Requirement already satisfied: pyparsing>=2.2.1 in /Users/karlberb/miniforge3/envs/tf_M1_py3dot9/lib/python3.9/site-packages (from matplotlib!=3.6.1,>=3.1->seaborn) (3.0.9)\n",
      "Requirement already satisfied: packaging>=20.0 in /Users/karlberb/miniforge3/envs/tf_M1_py3dot9/lib/python3.9/site-packages (from matplotlib!=3.6.1,>=3.1->seaborn) (21.3)\n",
      "Requirement already satisfied: fonttools>=4.22.0 in /Users/karlberb/miniforge3/envs/tf_M1_py3dot9/lib/python3.9/site-packages (from matplotlib!=3.6.1,>=3.1->seaborn) (4.38.0)\n",
      "Requirement already satisfied: pillow>=6.2.0 in /Users/karlberb/miniforge3/envs/tf_M1_py3dot9/lib/python3.9/site-packages (from matplotlib!=3.6.1,>=3.1->seaborn) (9.3.0)\n",
      "Requirement already satisfied: kiwisolver>=1.0.1 in /Users/karlberb/miniforge3/envs/tf_M1_py3dot9/lib/python3.9/site-packages (from matplotlib!=3.6.1,>=3.1->seaborn) (1.4.4)\n",
      "Requirement already satisfied: pytz>=2020.1 in /Users/karlberb/miniforge3/envs/tf_M1_py3dot9/lib/python3.9/site-packages (from pandas>=0.25->seaborn) (2022.6)\n",
      "Requirement already satisfied: six>=1.5 in /Users/karlberb/miniforge3/envs/tf_M1_py3dot9/lib/python3.9/site-packages (from python-dateutil>=2.7->matplotlib!=3.6.1,>=3.1->seaborn) (1.16.0)\n",
      "Installing collected packages: seaborn\n",
      "Successfully installed seaborn-0.12.1\n",
      "Note: you may need to restart the kernel to use updated packages.\n"
     ]
    }
   ],
   "source": [
    "pip install seaborn"
   ]
  },
  {
   "cell_type": "code",
   "execution_count": 329,
   "id": "2dd2f6c9-d17d-4e01-a7ef-66a0a9591c3c",
   "metadata": {},
   "outputs": [
    {
     "data": {
      "image/png": "[encoded data removed]",
      "text/plain": [
       "<Figure size 750x500 with 1 Axes>"
      ]
     },
     "metadata": {},
     "output_type": "display_data"
    }
   ],
   "source": [
    "l_ft = '75'\n",
    "sns.set_style('white')\n",
    "sns.set_context(\"paper\", font_scale = 2)\n",
    "sns.displot(data=sub, x=l_ft, kind=\"hist\", bins = 100, aspect = 1.5) # 96 BRCA_1 associated\n",
    "plt.title('BRCA_A latent feature no. '+\n",
    "          l_ft)\n",
    "plt.savefig(l_ft+'.png')"
   ]
  },
  {
   "cell_type": "code",
   "execution_count": 369,
   "id": "dc69198c-cf2a-43b6-91a8-09af1ee81325",
   "metadata": {},
   "outputs": [
    {
     "name": "stdout",
     "output_type": "stream",
     "text": [
      "BRCA_3\n"
     ]
    },
    {
     "data": {
      "image/png": "[encoded data removed]",
      "text/plain": [
       "<Figure size 750x500 with 1 Axes>"
      ]
     },
     "metadata": {},
     "output_type": "display_data"
    }
   ],
   "source": [
    "# for subtype in synth_devel_obj.Labels.unique():\n",
    "for subtype in ['BRCA_3']:  \n",
    "    print(subtype)\n",
    "    sub = synth_devel_obj[synth_devel_obj.Labels == subtype]\n",
    "    \n",
    "    l_ft = '79'\n",
    "    sns.set_style('white')\n",
    "    sns.set_context(\"paper\", font_scale = 2)\n",
    "    sns.displot(data=sub, x=l_ft, kind=\"hist\", bins = 200, aspect = 1.5) # 96 BRCA_1 associated\n",
    "    plt.title(subtype+' latent feature no. '+\n",
    "              l_ft)\n",
    "    # plt.savefig(subtype+'_'+l_ft+'.png')\n",
    "    # if subtype == 'BRCA_2'\n",
    "    break"
   ]
  },
  {
   "cell_type": "code",
   "execution_count": 393,
   "id": "49c78e27-87cb-4762-9646-6af938934f24",
   "metadata": {},
   "outputs": [],
   "source": [
    "# https://stackoverflow.com/questions/7805552/fitting-a-histogram-with-python\n",
    "import matplotlib.mlab as mlab"
   ]
  },
  {
   "cell_type": "code",
   "execution_count": 394,
   "id": "ed539d93-8d2a-415a-827f-a391a756e8a2",
   "metadata": {},
   "outputs": [],
   "source": [
    "(mu, sigma) = norm.fit(sub.iloc[:, 1:])"
   ]
  },
  {
   "cell_type": "code",
   "execution_count": 406,
   "id": "0cdbda4c-da55-4ab2-aeda-fac1ce98b8d2",
   "metadata": {},
   "outputs": [
    {
     "data": {
      "text/plain": [
       "0.7009640735681428"
      ]
     },
     "execution_count": 406,
     "metadata": {},
     "output_type": "execute_result"
    }
   ],
   "source": [
    "mu"
   ]
  },
  {
   "cell_type": "code",
   "execution_count": 407,
   "id": "f4c137c5-ef19-4458-a08e-143f1a0abf4b",
   "metadata": {},
   "outputs": [
    {
     "data": {
      "text/plain": [
       "1.0367145419857233"
      ]
     },
     "execution_count": 407,
     "metadata": {},
     "output_type": "execute_result"
    }
   ],
   "source": [
    "sigma"
   ]
  },
  {
   "cell_type": "code",
   "execution_count": 405,
   "id": "9ca15023-0dfb-4039-8475-bc801ddbc4d9",
   "metadata": {},
   "outputs": [
    {
     "data": {
      "text/plain": [
       "'99'"
      ]
     },
     "execution_count": 405,
     "metadata": {},
     "output_type": "execute_result"
    }
   ],
   "source": [
    "max(sub.iloc[:, 1:])"
   ]
  },
  {
   "cell_type": "code",
   "execution_count": 395,
   "id": "327d51e0-c41e-460d-97ea-fd3e56ac758f",
   "metadata": {
    "collapsed": true,
    "jupyter": {
     "outputs_hidden": true
    },
    "tags": []
   },
   "outputs": [
    {
     "ename": "AttributeError",
     "evalue": "module 'matplotlib.mlab' has no attribute 'normpdf'",
     "output_type": "error",
     "traceback": [
      "\u001b[0;31m---------------------------------------------------------------------------\u001b[0m",
      "\u001b[0;31mAttributeError\u001b[0m                            Traceback (most recent call last)",
      "Cell \u001b[0;32mIn [395], line 1\u001b[0m\n\u001b[0;32m----> 1\u001b[0m y \u001b[38;5;241m=\u001b[39m \u001b[43mmlab\u001b[49m\u001b[38;5;241;43m.\u001b[39;49m\u001b[43mnormpdf\u001b[49m( bins, mu, sigma)\n",
      "\u001b[0;31mAttributeError\u001b[0m: module 'matplotlib.mlab' has no attribute 'normpdf'"
     ]
    }
   ],
   "source": [
    "y = mlab.normpdf( bins, mu, sigma)"
   ]
  },
  {
   "cell_type": "code",
   "execution_count": 398,
   "id": "d6a3e166-bff6-490d-8c84-2029e8101f48",
   "metadata": {
    "collapsed": true,
    "jupyter": {
     "outputs_hidden": true
    },
    "tags": []
   },
   "outputs": [
    {
     "ename": "SyntaxError",
     "evalue": "invalid syntax (3474737321.py, line 1)",
     "output_type": "error",
     "traceback": [
      "\u001b[0;36m  Cell \u001b[0;32mIn [398], line 1\u001b[0;36m\u001b[0m\n\u001b[0;31m    from scipy.stats import norm.pdf()\u001b[0m\n\u001b[0m                                ^\u001b[0m\n\u001b[0;31mSyntaxError\u001b[0m\u001b[0;31m:\u001b[0m invalid syntax\n"
     ]
    }
   ],
   "source": [
    "from scipy.stats import norm.pdf()"
   ]
  },
  {
   "cell_type": "code",
   "execution_count": 399,
   "id": "405eb50a-dbd2-4f83-b746-0c6d63814a27",
   "metadata": {
    "collapsed": true,
    "jupyter": {
     "outputs_hidden": true
    },
    "tags": []
   },
   "outputs": [
    {
     "ename": "SyntaxError",
     "evalue": "invalid syntax (595504184.py, line 1)",
     "output_type": "error",
     "traceback": [
      "\u001b[0;36m  Cell \u001b[0;32mIn [399], line 1\u001b[0;36m\u001b[0m\n\u001b[0;31m    from scipy.stats import norm.pdf\u001b[0m\n\u001b[0m                                ^\u001b[0m\n\u001b[0;31mSyntaxError\u001b[0m\u001b[0;31m:\u001b[0m invalid syntax\n"
     ]
    }
   ],
   "source": [
    "from scipy.stats import norm.pdf"
   ]
  },
  {
   "cell_type": "code",
   "execution_count": 400,
   "id": "0cc8d61c-13ea-4ad4-9834-3fb9abc24e93",
   "metadata": {},
   "outputs": [],
   "source": [
    "from scipy.stats import norm"
   ]
  },
  {
   "cell_type": "code",
   "execution_count": 418,
   "id": "7de0f135-72cf-4871-8a27-10786ebdbd19",
   "metadata": {},
   "outputs": [],
   "source": [
    "x_axis = np.arange(0, max(sub[l_ft][sub[l_ft] > 0]), 0.1)"
   ]
  },
  {
   "cell_type": "code",
   "execution_count": 404,
   "id": "f06fb11a-5450-4d0f-9fc9-2bb541101283",
   "metadata": {},
   "outputs": [
    {
     "data": {
      "text/plain": [
       "[<matplotlib.lines.Line2D at 0x31578d640>]"
      ]
     },
     "execution_count": 404,
     "metadata": {},
     "output_type": "execute_result"
    },
    {
     "data": {
      "image/png": "[encoded data removed]",
      "text/plain": [
       "<Figure size 640x480 with 1 Axes>"
      ]
     },
     "metadata": {},
     "output_type": "display_data"
    }
   ],
   "source": [
    "plt.plot(x_axis, norm.pdf(x_axis, mu, sigma))"
   ]
  },
  {
   "cell_type": "code",
   "execution_count": 420,
   "id": "216e0b89-a101-4ac3-a6a9-4897df049644",
   "metadata": {},
   "outputs": [
    {
     "data": {
      "text/plain": [
       "[<matplotlib.lines.Line2D at 0x3a6292c40>]"
      ]
     },
     "execution_count": 420,
     "metadata": {},
     "output_type": "execute_result"
    },
    {
     "data": {
      "image/png": "[encoded data removed]",
      "text/plain": [
       "<Figure size 750x500 with 1 Axes>"
      ]
     },
     "metadata": {},
     "output_type": "display_data"
    }
   ],
   "source": [
    "sns.displot(data=sub, x=l_ft, kind=\"hist\", bins = 200, aspect = 1.5) # 96 BRCA_1 associated\n",
    "plt.title(subtype+' latent feature no. '+\n",
    "              l_ft)\n",
    "plt.plot(x_axis, norm.pdf(x_axis, mu, sigma))"
   ]
  },
  {
   "cell_type": "code",
   "execution_count": 419,
   "id": "bd8177e1-c404-45d5-96ea-71fc5fa85d4f",
   "metadata": {},
   "outputs": [
    {
     "data": {
      "text/plain": [
       "[<matplotlib.lines.Line2D at 0x3a6763be0>]"
      ]
     },
     "execution_count": 419,
     "metadata": {},
     "output_type": "execute_result"
    },
    {
     "data": {
      "image/png": "[encoded data removed]",
      "text/plain": [
       "<Figure size 640x480 with 1 Axes>"
      ]
     },
     "metadata": {},
     "output_type": "display_data"
    }
   ],
   "source": [
    "plt.plot(x_axis, norm.pdf(x_axis, mu, sigma))"
   ]
  },
  {
   "cell_type": "code",
   "execution_count": null,
   "id": "9a83ab62-7a01-45f4-afd3-9916b45079ea",
   "metadata": {},
   "outputs": [],
   "source": [
    "x_axis = np.arange(0, max(sub[l_ft][sub[l_ft] > 0]), 0.1)"
   ]
  },
  {
   "cell_type": "code",
   "execution_count": 417,
   "id": "3bb8589a-bc8e-4ed1-8b3f-d2662ab54aca",
   "metadata": {},
   "outputs": [
    {
     "data": {
      "text/plain": [
       "3.7981637"
      ]
     },
     "execution_count": 417,
     "metadata": {},
     "output_type": "execute_result"
    }
   ],
   "source": [
    "max(sub[l_ft][sub[l_ft] > 0])"
   ]
  },
  {
   "cell_type": "code",
   "execution_count": 414,
   "id": "b067b88c-68e4-4af3-aec7-bfa3443a8539",
   "metadata": {},
   "outputs": [],
   "source": [
    "(mu, sigma) = norm.fit(sub[l_ft][sub[l_ft] > 0])"
   ]
  },
  {
   "cell_type": "code",
   "execution_count": 415,
   "id": "fa35b8ad-0dbf-418e-9a85-8b4732f1e249",
   "metadata": {},
   "outputs": [
    {
     "data": {
      "text/plain": [
       "1.7477094281524392"
      ]
     },
     "execution_count": 415,
     "metadata": {},
     "output_type": "execute_result"
    }
   ],
   "source": [
    "mu"
   ]
  },
  {
   "cell_type": "code",
   "execution_count": 416,
   "id": "833996b7-2ae0-4a15-bcbb-4462fefa8b80",
   "metadata": {},
   "outputs": [
    {
     "data": {
      "text/plain": [
       "0.8354494400636115"
      ]
     },
     "execution_count": 416,
     "metadata": {},
     "output_type": "execute_result"
    }
   ],
   "source": [
    "sigma"
   ]
  },
  {
   "cell_type": "code",
   "execution_count": 413,
   "id": "6fe5c221-b4cb-4c49-b00f-036fd21843be",
   "metadata": {},
   "outputs": [
    {
     "data": {
      "text/plain": [
       "BRCA\n",
       "TCGA-A1-A0SK    0.915650\n",
       "TCGA-A1-A0SO    0.933569\n",
       "TCGA-A1-A0SP    2.659659\n",
       "TCGA-A2-A04P    3.445944\n",
       "TCGA-A2-A04Q    2.501151\n",
       "                  ...   \n",
       "TCGA-OL-A6VO    0.946075\n",
       "TCGA-PL-A8LZ    2.143035\n",
       "TCGA-S3-AA0Z    2.915075\n",
       "TCGA-S3-AA10    1.373268\n",
       "TCGA-S3-AA15    0.629134\n",
       "Name: 79, Length: 164, dtype: float64"
      ]
     },
     "execution_count": 413,
     "metadata": {},
     "output_type": "execute_result"
    }
   ],
   "source": [
    "sub[l_ft][sub[l_ft] > 0]"
   ]
  },
  {
   "cell_type": "code",
   "execution_count": 410,
   "id": "9e82b7f3-2dc7-44b8-a32d-0d94ed656f30",
   "metadata": {},
   "outputs": [
    {
     "data": {
      "text/plain": [
       "BRCA\n",
       "TCGA-A1-A0SK    0.915650\n",
       "TCGA-A1-A0SO    0.933569\n",
       "TCGA-A1-A0SP    2.659659\n",
       "TCGA-A2-A04P    3.445944\n",
       "TCGA-A2-A04Q    2.501151\n",
       "                  ...   \n",
       "TCGA-PL-A8LV    0.000000\n",
       "TCGA-PL-A8LZ    2.143035\n",
       "TCGA-S3-AA0Z    2.915075\n",
       "TCGA-S3-AA10    1.373268\n",
       "TCGA-S3-AA15    0.629134\n",
       "Name: 79, Length: 175, dtype: float64"
      ]
     },
     "execution_count": 410,
     "metadata": {},
     "output_type": "execute_result"
    }
   ],
   "source": [
    "sub[l_ft]"
   ]
  },
  {
   "cell_type": "code",
   "execution_count": 409,
   "id": "a548cbdf-d1f7-4f95-8ef2-cc5f33e62aa9",
   "metadata": {
    "collapsed": true,
    "jupyter": {
     "outputs_hidden": true
    },
    "tags": []
   },
   "outputs": [
    {
     "ename": "AttributeError",
     "evalue": "'Series' object has no attribute 'stats'",
     "output_type": "error",
     "traceback": [
      "\u001b[0;31m---------------------------------------------------------------------------\u001b[0m",
      "\u001b[0;31mAttributeError\u001b[0m                            Traceback (most recent call last)",
      "Cell \u001b[0;32mIn [409], line 1\u001b[0m\n\u001b[0;32m----> 1\u001b[0m \u001b[43msub\u001b[49m\u001b[38;5;241;43m.\u001b[39;49m\u001b[43mloc\u001b[49m\u001b[43m[\u001b[49m\u001b[43m:\u001b[49m\u001b[43m,\u001b[49m\u001b[43m \u001b[49m\u001b[43ml_ft\u001b[49m\u001b[43m]\u001b[49m\u001b[38;5;241;43m.\u001b[39;49m\u001b[43mstats\u001b[49m(moments\u001b[38;5;241m=\u001b[39m\u001b[38;5;124m'\u001b[39m\u001b[38;5;124mmvsk\u001b[39m\u001b[38;5;124m'\u001b[39m)\n",
      "File \u001b[0;32m~/miniforge3/envs/tf_M1_py3dot9/lib/python3.9/site-packages/pandas/core/generic.py:5902\u001b[0m, in \u001b[0;36mNDFrame.__getattr__\u001b[0;34m(self, name)\u001b[0m\n\u001b[1;32m   5895\u001b[0m \u001b[38;5;28;01mif\u001b[39;00m (\n\u001b[1;32m   5896\u001b[0m     name \u001b[38;5;129;01mnot\u001b[39;00m \u001b[38;5;129;01min\u001b[39;00m \u001b[38;5;28mself\u001b[39m\u001b[38;5;241m.\u001b[39m_internal_names_set\n\u001b[1;32m   5897\u001b[0m     \u001b[38;5;129;01mand\u001b[39;00m name \u001b[38;5;129;01mnot\u001b[39;00m \u001b[38;5;129;01min\u001b[39;00m \u001b[38;5;28mself\u001b[39m\u001b[38;5;241m.\u001b[39m_metadata\n\u001b[1;32m   5898\u001b[0m     \u001b[38;5;129;01mand\u001b[39;00m name \u001b[38;5;129;01mnot\u001b[39;00m \u001b[38;5;129;01min\u001b[39;00m \u001b[38;5;28mself\u001b[39m\u001b[38;5;241m.\u001b[39m_accessors\n\u001b[1;32m   5899\u001b[0m     \u001b[38;5;129;01mand\u001b[39;00m \u001b[38;5;28mself\u001b[39m\u001b[38;5;241m.\u001b[39m_info_axis\u001b[38;5;241m.\u001b[39m_can_hold_identifiers_and_holds_name(name)\n\u001b[1;32m   5900\u001b[0m ):\n\u001b[1;32m   5901\u001b[0m     \u001b[38;5;28;01mreturn\u001b[39;00m \u001b[38;5;28mself\u001b[39m[name]\n\u001b[0;32m-> 5902\u001b[0m \u001b[38;5;28;01mreturn\u001b[39;00m \u001b[38;5;28;43mobject\u001b[39;49m\u001b[38;5;241;43m.\u001b[39;49m\u001b[38;5;21;43m__getattribute__\u001b[39;49m\u001b[43m(\u001b[49m\u001b[38;5;28;43mself\u001b[39;49m\u001b[43m,\u001b[49m\u001b[43m \u001b[49m\u001b[43mname\u001b[49m\u001b[43m)\u001b[49m\n",
      "\u001b[0;31mAttributeError\u001b[0m: 'Series' object has no attribute 'stats'"
     ]
    }
   ],
   "source": [
    "sub.loc[:, l_ft].stats(moments='mvsk')"
   ]
  },
  {
   "cell_type": "code",
   "execution_count": 389,
   "id": "a804251f-7b0b-4b43-a863-98f4d0b273fe",
   "metadata": {},
   "outputs": [
    {
     "data": {
      "text/plain": [
       "[<matplotlib.lines.Line2D at 0x3a4ca7160>]"
      ]
     },
     "execution_count": 389,
     "metadata": {},
     "output_type": "execute_result"
    }
   ],
   "source": [
    "rv = norm()\n",
    "ax.plot(x, rv.pdf(x), 'k-', lw=2, label='frozen pdf')"
   ]
  },
  {
   "cell_type": "code",
   "execution_count": 390,
   "id": "67a2f4d7-aa8f-4108-bf7a-53573b4a177d",
   "metadata": {},
   "outputs": [
    {
     "data": {
      "text/plain": [
       "True"
      ]
     },
     "execution_count": 390,
     "metadata": {},
     "output_type": "execute_result"
    }
   ],
   "source": [
    "vals = norm.ppf([0.001, 0.5, 0.999])\n",
    "np.allclose([0.001, 0.5, 0.999], norm.cdf(vals))"
   ]
  },
  {
   "cell_type": "code",
   "execution_count": 391,
   "id": "16ed96e8-dc11-4a4e-93a8-a5bd18913dba",
   "metadata": {},
   "outputs": [],
   "source": [
    "r = norm.rvs(size=1000)"
   ]
  },
  {
   "cell_type": "code",
   "execution_count": 392,
   "id": "0cd5018b-bd0f-4af5-be62-cbb9061f180e",
   "metadata": {},
   "outputs": [],
   "source": [
    "ax.hist(r, density=True, histtype='stepfilled', alpha=0.2)\n",
    "ax.legend(loc='best', frameon=False)\n",
    "plt.show()"
   ]
  },
  {
   "cell_type": "code",
   "execution_count": 387,
   "id": "bd6dbc01-6394-4770-8d0b-7673c64a2f0a",
   "metadata": {},
   "outputs": [
    {
     "data": {
      "text/plain": [
       "scipy.stats._continuous_distns.norm_gen"
      ]
     },
     "execution_count": 387,
     "metadata": {},
     "output_type": "execute_result"
    }
   ],
   "source": [
    "type(norm)"
   ]
  },
  {
   "cell_type": "code",
   "execution_count": 372,
   "id": "b010b338-8c0c-412e-a714-ea2ba717885d",
   "metadata": {},
   "outputs": [
    {
     "data": {
      "text/html": [
       "<div>\n",
       "<style scoped>\n",
       "    .dataframe tbody tr th:only-of-type {\n",
       "        vertical-align: middle;\n",
       "    }\n",
       "\n",
       "    .dataframe tbody tr th {\n",
       "        vertical-align: top;\n",
       "    }\n",
       "\n",
       "    .dataframe thead th {\n",
       "        text-align: right;\n",
       "    }\n",
       "</style>\n",
       "<table border=\"1\" class=\"dataframe\">\n",
       "  <thead>\n",
       "    <tr style=\"text-align: right;\">\n",
       "      <th></th>\n",
       "      <th>Labels</th>\n",
       "      <th>0</th>\n",
       "      <th>1</th>\n",
       "      <th>2</th>\n",
       "      <th>3</th>\n",
       "      <th>4</th>\n",
       "      <th>5</th>\n",
       "      <th>6</th>\n",
       "      <th>7</th>\n",
       "      <th>8</th>\n",
       "      <th>...</th>\n",
       "      <th>90</th>\n",
       "      <th>91</th>\n",
       "      <th>92</th>\n",
       "      <th>93</th>\n",
       "      <th>94</th>\n",
       "      <th>95</th>\n",
       "      <th>96</th>\n",
       "      <th>97</th>\n",
       "      <th>98</th>\n",
       "      <th>99</th>\n",
       "    </tr>\n",
       "    <tr>\n",
       "      <th>BRCA</th>\n",
       "      <th></th>\n",
       "      <th></th>\n",
       "      <th></th>\n",
       "      <th></th>\n",
       "      <th></th>\n",
       "      <th></th>\n",
       "      <th></th>\n",
       "      <th></th>\n",
       "      <th></th>\n",
       "      <th></th>\n",
       "      <th></th>\n",
       "      <th></th>\n",
       "      <th></th>\n",
       "      <th></th>\n",
       "      <th></th>\n",
       "      <th></th>\n",
       "      <th></th>\n",
       "      <th></th>\n",
       "      <th></th>\n",
       "      <th></th>\n",
       "      <th></th>\n",
       "    </tr>\n",
       "  </thead>\n",
       "  <tbody>\n",
       "    <tr>\n",
       "      <th>TCGA-A2-A0D2</th>\n",
       "      <td>BRCA_3</td>\n",
       "      <td>0.000000</td>\n",
       "      <td>0.000000</td>\n",
       "      <td>0.000000</td>\n",
       "      <td>1.941363</td>\n",
       "      <td>1.189606</td>\n",
       "      <td>0.000000</td>\n",
       "      <td>2.831940</td>\n",
       "      <td>2.068757</td>\n",
       "      <td>0.000000</td>\n",
       "      <td>...</td>\n",
       "      <td>1.059698</td>\n",
       "      <td>1.673405</td>\n",
       "      <td>0.000000</td>\n",
       "      <td>2.694274</td>\n",
       "      <td>0.122956</td>\n",
       "      <td>0.000000</td>\n",
       "      <td>1.144928</td>\n",
       "      <td>0.000000</td>\n",
       "      <td>0.000000</td>\n",
       "      <td>0.000000</td>\n",
       "    </tr>\n",
       "    <tr>\n",
       "      <th>TCGA-A2-A25F</th>\n",
       "      <td>BRCA_3</td>\n",
       "      <td>0.000000</td>\n",
       "      <td>0.000000</td>\n",
       "      <td>0.000000</td>\n",
       "      <td>2.240153</td>\n",
       "      <td>0.855076</td>\n",
       "      <td>0.643707</td>\n",
       "      <td>0.000000</td>\n",
       "      <td>0.260133</td>\n",
       "      <td>0.762057</td>\n",
       "      <td>...</td>\n",
       "      <td>0.000000</td>\n",
       "      <td>0.000000</td>\n",
       "      <td>0.514522</td>\n",
       "      <td>0.556112</td>\n",
       "      <td>0.595643</td>\n",
       "      <td>0.000000</td>\n",
       "      <td>1.372540</td>\n",
       "      <td>1.465037</td>\n",
       "      <td>0.000000</td>\n",
       "      <td>1.212652</td>\n",
       "    </tr>\n",
       "    <tr>\n",
       "      <th>TCGA-A7-A26I</th>\n",
       "      <td>BRCA_3</td>\n",
       "      <td>0.383513</td>\n",
       "      <td>0.000000</td>\n",
       "      <td>0.000000</td>\n",
       "      <td>0.647524</td>\n",
       "      <td>4.710294</td>\n",
       "      <td>0.000000</td>\n",
       "      <td>0.000000</td>\n",
       "      <td>1.093157</td>\n",
       "      <td>0.000000</td>\n",
       "      <td>...</td>\n",
       "      <td>0.000000</td>\n",
       "      <td>0.233647</td>\n",
       "      <td>0.000000</td>\n",
       "      <td>1.429431</td>\n",
       "      <td>0.000000</td>\n",
       "      <td>0.000000</td>\n",
       "      <td>1.573499</td>\n",
       "      <td>1.133285</td>\n",
       "      <td>0.000000</td>\n",
       "      <td>0.000000</td>\n",
       "    </tr>\n",
       "    <tr>\n",
       "      <th>TCGA-AC-A2BK</th>\n",
       "      <td>BRCA_3</td>\n",
       "      <td>0.276504</td>\n",
       "      <td>0.000000</td>\n",
       "      <td>0.000000</td>\n",
       "      <td>2.035339</td>\n",
       "      <td>1.709840</td>\n",
       "      <td>0.000000</td>\n",
       "      <td>0.000000</td>\n",
       "      <td>1.146690</td>\n",
       "      <td>0.000000</td>\n",
       "      <td>...</td>\n",
       "      <td>0.638448</td>\n",
       "      <td>3.512018</td>\n",
       "      <td>0.000000</td>\n",
       "      <td>3.138951</td>\n",
       "      <td>0.663732</td>\n",
       "      <td>0.000000</td>\n",
       "      <td>0.855009</td>\n",
       "      <td>2.053906</td>\n",
       "      <td>0.000000</td>\n",
       "      <td>0.000000</td>\n",
       "    </tr>\n",
       "    <tr>\n",
       "      <th>TCGA-AC-A2QH</th>\n",
       "      <td>BRCA_3</td>\n",
       "      <td>0.000000</td>\n",
       "      <td>0.000000</td>\n",
       "      <td>0.000000</td>\n",
       "      <td>4.389088</td>\n",
       "      <td>1.444470</td>\n",
       "      <td>0.265539</td>\n",
       "      <td>3.815686</td>\n",
       "      <td>0.000000</td>\n",
       "      <td>0.000000</td>\n",
       "      <td>...</td>\n",
       "      <td>1.572699</td>\n",
       "      <td>4.894218</td>\n",
       "      <td>0.000000</td>\n",
       "      <td>0.000000</td>\n",
       "      <td>0.872385</td>\n",
       "      <td>0.000000</td>\n",
       "      <td>0.000000</td>\n",
       "      <td>0.000000</td>\n",
       "      <td>0.000000</td>\n",
       "      <td>0.000000</td>\n",
       "    </tr>\n",
       "    <tr>\n",
       "      <th>TCGA-AC-A7VC</th>\n",
       "      <td>BRCA_3</td>\n",
       "      <td>0.000000</td>\n",
       "      <td>0.674108</td>\n",
       "      <td>0.000000</td>\n",
       "      <td>4.188446</td>\n",
       "      <td>1.350661</td>\n",
       "      <td>4.503686</td>\n",
       "      <td>3.148538</td>\n",
       "      <td>1.038544</td>\n",
       "      <td>0.000000</td>\n",
       "      <td>...</td>\n",
       "      <td>2.386989</td>\n",
       "      <td>2.053699</td>\n",
       "      <td>0.000000</td>\n",
       "      <td>1.157421</td>\n",
       "      <td>1.110755</td>\n",
       "      <td>0.000000</td>\n",
       "      <td>0.000000</td>\n",
       "      <td>0.000000</td>\n",
       "      <td>0.013660</td>\n",
       "      <td>0.000000</td>\n",
       "    </tr>\n",
       "    <tr>\n",
       "      <th>TCGA-AC-A8OQ</th>\n",
       "      <td>BRCA_3</td>\n",
       "      <td>1.600256</td>\n",
       "      <td>1.247168</td>\n",
       "      <td>0.000000</td>\n",
       "      <td>0.510711</td>\n",
       "      <td>0.629260</td>\n",
       "      <td>0.000000</td>\n",
       "      <td>1.077249</td>\n",
       "      <td>2.790259</td>\n",
       "      <td>0.000000</td>\n",
       "      <td>...</td>\n",
       "      <td>1.856530</td>\n",
       "      <td>0.881263</td>\n",
       "      <td>0.417811</td>\n",
       "      <td>2.316997</td>\n",
       "      <td>0.163682</td>\n",
       "      <td>0.000000</td>\n",
       "      <td>1.217984</td>\n",
       "      <td>0.599849</td>\n",
       "      <td>0.000000</td>\n",
       "      <td>0.000000</td>\n",
       "    </tr>\n",
       "    <tr>\n",
       "      <th>TCGA-BH-A0E0</th>\n",
       "      <td>BRCA_3</td>\n",
       "      <td>1.019589</td>\n",
       "      <td>0.000000</td>\n",
       "      <td>0.631112</td>\n",
       "      <td>0.000000</td>\n",
       "      <td>2.270371</td>\n",
       "      <td>0.000000</td>\n",
       "      <td>0.000000</td>\n",
       "      <td>2.402304</td>\n",
       "      <td>0.000000</td>\n",
       "      <td>...</td>\n",
       "      <td>0.000000</td>\n",
       "      <td>0.041087</td>\n",
       "      <td>0.000000</td>\n",
       "      <td>0.000000</td>\n",
       "      <td>0.000000</td>\n",
       "      <td>0.000000</td>\n",
       "      <td>4.462541</td>\n",
       "      <td>0.000000</td>\n",
       "      <td>0.000000</td>\n",
       "      <td>0.000000</td>\n",
       "    </tr>\n",
       "    <tr>\n",
       "      <th>TCGA-BH-A1F6</th>\n",
       "      <td>BRCA_3</td>\n",
       "      <td>0.000000</td>\n",
       "      <td>1.659624</td>\n",
       "      <td>0.000000</td>\n",
       "      <td>0.867584</td>\n",
       "      <td>0.929477</td>\n",
       "      <td>0.055224</td>\n",
       "      <td>1.387677</td>\n",
       "      <td>3.080580</td>\n",
       "      <td>0.676576</td>\n",
       "      <td>...</td>\n",
       "      <td>0.617383</td>\n",
       "      <td>0.000000</td>\n",
       "      <td>0.000000</td>\n",
       "      <td>0.151138</td>\n",
       "      <td>0.629146</td>\n",
       "      <td>0.201089</td>\n",
       "      <td>2.896741</td>\n",
       "      <td>1.054227</td>\n",
       "      <td>1.490397</td>\n",
       "      <td>0.000000</td>\n",
       "    </tr>\n",
       "    <tr>\n",
       "      <th>TCGA-E2-A1LL</th>\n",
       "      <td>BRCA_3</td>\n",
       "      <td>2.358158</td>\n",
       "      <td>0.000000</td>\n",
       "      <td>0.000000</td>\n",
       "      <td>1.539322</td>\n",
       "      <td>1.635011</td>\n",
       "      <td>0.000000</td>\n",
       "      <td>3.765667</td>\n",
       "      <td>3.378483</td>\n",
       "      <td>0.000000</td>\n",
       "      <td>...</td>\n",
       "      <td>0.000000</td>\n",
       "      <td>6.603582</td>\n",
       "      <td>0.000000</td>\n",
       "      <td>0.330143</td>\n",
       "      <td>3.372966</td>\n",
       "      <td>1.786691</td>\n",
       "      <td>1.717559</td>\n",
       "      <td>0.000000</td>\n",
       "      <td>0.000000</td>\n",
       "      <td>0.000000</td>\n",
       "    </tr>\n",
       "    <tr>\n",
       "      <th>TCGA-PL-A8LV</th>\n",
       "      <td>BRCA_3</td>\n",
       "      <td>0.693528</td>\n",
       "      <td>1.143868</td>\n",
       "      <td>0.000000</td>\n",
       "      <td>0.000000</td>\n",
       "      <td>2.716368</td>\n",
       "      <td>0.000000</td>\n",
       "      <td>0.000000</td>\n",
       "      <td>3.889685</td>\n",
       "      <td>0.816146</td>\n",
       "      <td>...</td>\n",
       "      <td>0.000000</td>\n",
       "      <td>0.000000</td>\n",
       "      <td>0.000000</td>\n",
       "      <td>0.000000</td>\n",
       "      <td>1.036896</td>\n",
       "      <td>0.568118</td>\n",
       "      <td>1.657342</td>\n",
       "      <td>0.000000</td>\n",
       "      <td>0.000000</td>\n",
       "      <td>0.000000</td>\n",
       "    </tr>\n",
       "  </tbody>\n",
       "</table>\n",
       "<p>11 rows × 101 columns</p>\n",
       "</div>"
      ],
      "text/plain": [
       "              Labels         0         1         2         3         4  \\\n",
       "BRCA                                                                     \n",
       "TCGA-A2-A0D2  BRCA_3  0.000000  0.000000  0.000000  1.941363  1.189606   \n",
       "TCGA-A2-A25F  BRCA_3  0.000000  0.000000  0.000000  2.240153  0.855076   \n",
       "TCGA-A7-A26I  BRCA_3  0.383513  0.000000  0.000000  0.647524  4.710294   \n",
       "TCGA-AC-A2BK  BRCA_3  0.276504  0.000000  0.000000  2.035339  1.709840   \n",
       "TCGA-AC-A2QH  BRCA_3  0.000000  0.000000  0.000000  4.389088  1.444470   \n",
       "TCGA-AC-A7VC  BRCA_3  0.000000  0.674108  0.000000  4.188446  1.350661   \n",
       "TCGA-AC-A8OQ  BRCA_3  1.600256  1.247168  0.000000  0.510711  0.629260   \n",
       "TCGA-BH-A0E0  BRCA_3  1.019589  0.000000  0.631112  0.000000  2.270371   \n",
       "TCGA-BH-A1F6  BRCA_3  0.000000  1.659624  0.000000  0.867584  0.929477   \n",
       "TCGA-E2-A1LL  BRCA_3  2.358158  0.000000  0.000000  1.539322  1.635011   \n",
       "TCGA-PL-A8LV  BRCA_3  0.693528  1.143868  0.000000  0.000000  2.716368   \n",
       "\n",
       "                     5         6         7         8  ...        90        91  \\\n",
       "BRCA                                                  ...                       \n",
       "TCGA-A2-A0D2  0.000000  2.831940  2.068757  0.000000  ...  1.059698  1.673405   \n",
       "TCGA-A2-A25F  0.643707  0.000000  0.260133  0.762057  ...  0.000000  0.000000   \n",
       "TCGA-A7-A26I  0.000000  0.000000  1.093157  0.000000  ...  0.000000  0.233647   \n",
       "TCGA-AC-A2BK  0.000000  0.000000  1.146690  0.000000  ...  0.638448  3.512018   \n",
       "TCGA-AC-A2QH  0.265539  3.815686  0.000000  0.000000  ...  1.572699  4.894218   \n",
       "TCGA-AC-A7VC  4.503686  3.148538  1.038544  0.000000  ...  2.386989  2.053699   \n",
       "TCGA-AC-A8OQ  0.000000  1.077249  2.790259  0.000000  ...  1.856530  0.881263   \n",
       "TCGA-BH-A0E0  0.000000  0.000000  2.402304  0.000000  ...  0.000000  0.041087   \n",
       "TCGA-BH-A1F6  0.055224  1.387677  3.080580  0.676576  ...  0.617383  0.000000   \n",
       "TCGA-E2-A1LL  0.000000  3.765667  3.378483  0.000000  ...  0.000000  6.603582   \n",
       "TCGA-PL-A8LV  0.000000  0.000000  3.889685  0.816146  ...  0.000000  0.000000   \n",
       "\n",
       "                    92        93        94        95        96        97  \\\n",
       "BRCA                                                                       \n",
       "TCGA-A2-A0D2  0.000000  2.694274  0.122956  0.000000  1.144928  0.000000   \n",
       "TCGA-A2-A25F  0.514522  0.556112  0.595643  0.000000  1.372540  1.465037   \n",
       "TCGA-A7-A26I  0.000000  1.429431  0.000000  0.000000  1.573499  1.133285   \n",
       "TCGA-AC-A2BK  0.000000  3.138951  0.663732  0.000000  0.855009  2.053906   \n",
       "TCGA-AC-A2QH  0.000000  0.000000  0.872385  0.000000  0.000000  0.000000   \n",
       "TCGA-AC-A7VC  0.000000  1.157421  1.110755  0.000000  0.000000  0.000000   \n",
       "TCGA-AC-A8OQ  0.417811  2.316997  0.163682  0.000000  1.217984  0.599849   \n",
       "TCGA-BH-A0E0  0.000000  0.000000  0.000000  0.000000  4.462541  0.000000   \n",
       "TCGA-BH-A1F6  0.000000  0.151138  0.629146  0.201089  2.896741  1.054227   \n",
       "TCGA-E2-A1LL  0.000000  0.330143  3.372966  1.786691  1.717559  0.000000   \n",
       "TCGA-PL-A8LV  0.000000  0.000000  1.036896  0.568118  1.657342  0.000000   \n",
       "\n",
       "                    98        99  \n",
       "BRCA                              \n",
       "TCGA-A2-A0D2  0.000000  0.000000  \n",
       "TCGA-A2-A25F  0.000000  1.212652  \n",
       "TCGA-A7-A26I  0.000000  0.000000  \n",
       "TCGA-AC-A2BK  0.000000  0.000000  \n",
       "TCGA-AC-A2QH  0.000000  0.000000  \n",
       "TCGA-AC-A7VC  0.013660  0.000000  \n",
       "TCGA-AC-A8OQ  0.000000  0.000000  \n",
       "TCGA-BH-A0E0  0.000000  0.000000  \n",
       "TCGA-BH-A1F6  1.490397  0.000000  \n",
       "TCGA-E2-A1LL  0.000000  0.000000  \n",
       "TCGA-PL-A8LV  0.000000  0.000000  \n",
       "\n",
       "[11 rows x 101 columns]"
      ]
     },
     "execution_count": 372,
     "metadata": {},
     "output_type": "execute_result"
    }
   ],
   "source": [
    "sub[sub['79'] == 0]"
   ]
  },
  {
   "cell_type": "code",
   "execution_count": 282,
   "id": "2f820c64-4f35-40d2-9c95-2deec06440ff",
   "metadata": {},
   "outputs": [
    {
     "ename": "NameError",
     "evalue": "name 'height' is not defined",
     "output_type": "error",
     "traceback": [
      "\u001b[0;31m---------------------------------------------------------------------------\u001b[0m",
      "\u001b[0;31mNameError\u001b[0m                                 Traceback (most recent call last)",
      "Cell \u001b[0;32mIn [282], line 1\u001b[0m\n\u001b[0;32m----> 1\u001b[0m f \u001b[38;5;241m=\u001b[39m Fitter(\u001b[43mheight\u001b[49m,\n\u001b[1;32m      2\u001b[0m            distributions\u001b[38;5;241m=\u001b[39m[\u001b[38;5;124m'\u001b[39m\u001b[38;5;124mgamma\u001b[39m\u001b[38;5;124m'\u001b[39m,\n\u001b[1;32m      3\u001b[0m                           \u001b[38;5;124m'\u001b[39m\u001b[38;5;124mlognorm\u001b[39m\u001b[38;5;124m'\u001b[39m,\n\u001b[1;32m      4\u001b[0m                           \u001b[38;5;124m\"\u001b[39m\u001b[38;5;124mbeta\u001b[39m\u001b[38;5;124m\"\u001b[39m,\n\u001b[1;32m      5\u001b[0m                           \u001b[38;5;124m\"\u001b[39m\u001b[38;5;124mburr\u001b[39m\u001b[38;5;124m\"\u001b[39m,\n\u001b[1;32m      6\u001b[0m                           \u001b[38;5;124m\"\u001b[39m\u001b[38;5;124mnorm\u001b[39m\u001b[38;5;124m\"\u001b[39m])\n",
      "\u001b[0;31mNameError\u001b[0m: name 'height' is not defined"
     ]
    }
   ],
   "source": [
    "f = Fitter(height,\n",
    "           distributions=['gamma',\n",
    "                          'lognorm',\n",
    "                          \"beta\",\n",
    "                          \"burr\",\n",
    "                          \"norm\"])"
   ]
  },
  {
   "cell_type": "code",
   "execution_count": 280,
   "id": "8fad0a9b-07fd-45de-bbbb-3bb9b0b04469",
   "metadata": {},
   "outputs": [
    {
     "ename": "TypeError",
     "evalue": "'Fitter' object is not subscriptable",
     "output_type": "error",
     "traceback": [
      "\u001b[0;31m---------------------------------------------------------------------------\u001b[0m",
      "\u001b[0;31mTypeError\u001b[0m                                 Traceback (most recent call last)",
      "Cell \u001b[0;32mIn [280], line 1\u001b[0m\n\u001b[0;32m----> 1\u001b[0m \u001b[43mfit\u001b[49m\u001b[43m[\u001b[49m\u001b[38;5;241;43m0\u001b[39;49m\u001b[43m]\u001b[49m\n",
      "\u001b[0;31mTypeError\u001b[0m: 'Fitter' object is not subscriptable"
     ]
    }
   ],
   "source": [
    "fit[0]"
   ]
  },
  {
   "cell_type": "code",
   "execution_count": 256,
   "id": "ac49d166-932d-48a5-af89-a9786a8565ee",
   "metadata": {},
   "outputs": [
    {
     "data": {
      "text/plain": [
       "(array([326.,  74.,  44.,  38.,  14.,  17.,  11.,   5.,   3.,   3.]),\n",
       " array([0.        , 0.45186167, 0.90372334, 1.35558501, 1.80744668,\n",
       "        2.25930835, 2.71117002, 3.16303169, 3.61489336, 4.06675503,\n",
       "        4.5186167 ]),\n",
       " <BarContainer object of 10 artists>)"
      ]
     },
     "execution_count": 256,
     "metadata": {},
     "output_type": "execute_result"
    },
    {
     "data": {
      "image/png": "[encoded data removed]",
      "text/plain": [
       "<Figure size 640x480 with 1 Axes>"
      ]
     },
     "metadata": {},
     "output_type": "display_data"
    }
   ],
   "source": [
    "plt.hist(sub['0'])"
   ]
  },
  {
   "cell_type": "code",
   "execution_count": null,
   "id": "9262f033-66a4-43cd-83c6-6194b2c9c127",
   "metadata": {},
   "outputs": [],
   "source": [
    "# https://docs.scipy.org/doc/scipy/reference/generated/scipy.stats.norm.html"
   ]
  },
  {
   "cell_type": "code",
   "execution_count": 373,
   "id": "b0aa843d-b0e7-4799-8e74-291a6a1305f6",
   "metadata": {},
   "outputs": [
    {
     "data": {
      "image/png": "[encoded data removed]",
      "text/plain": [
       "<Figure size 640x480 with 1 Axes>"
      ]
     },
     "metadata": {},
     "output_type": "display_data"
    }
   ],
   "source": [
    "from scipy.stats import norm\n",
    "import matplotlib.pyplot as plt\n",
    "fig, ax = plt.subplots(1, 1)"
   ]
  },
  {
   "cell_type": "code",
   "execution_count": 374,
   "id": "3047b1fe-4fc5-4b06-a390-992e2c9f628d",
   "metadata": {},
   "outputs": [],
   "source": [
    "mean, var, skew, kurt = norm.stats(moments='mvsk')"
   ]
  },
  {
   "cell_type": "code",
   "execution_count": 382,
   "id": "612e13ca-1e4b-4cfa-9809-3cf343b60332",
   "metadata": {},
   "outputs": [
    {
     "data": {
      "text/plain": [
       "array(0.)"
      ]
     },
     "execution_count": 382,
     "metadata": {},
     "output_type": "execute_result"
    }
   ],
   "source": [
    "mean"
   ]
  },
  {
   "cell_type": "code",
   "execution_count": 383,
   "id": "a481b8b2-e1b2-44c7-a281-cf78e0eae395",
   "metadata": {},
   "outputs": [
    {
     "data": {
      "text/plain": [
       "array(1.)"
      ]
     },
     "execution_count": 383,
     "metadata": {},
     "output_type": "execute_result"
    }
   ],
   "source": [
    "var"
   ]
  },
  {
   "cell_type": "code",
   "execution_count": 384,
   "id": "7eff4b8a-5e9a-46d7-bb77-8484078a79a1",
   "metadata": {},
   "outputs": [
    {
     "data": {
      "text/plain": [
       "array(0.)"
      ]
     },
     "execution_count": 384,
     "metadata": {},
     "output_type": "execute_result"
    }
   ],
   "source": [
    "skew"
   ]
  },
  {
   "cell_type": "code",
   "execution_count": 385,
   "id": "3821d7d9-8051-4784-8397-e6dbec790047",
   "metadata": {},
   "outputs": [
    {
     "data": {
      "text/plain": [
       "array(0.)"
      ]
     },
     "execution_count": 385,
     "metadata": {},
     "output_type": "execute_result"
    }
   ],
   "source": [
    "kurt"
   ]
  },
  {
   "cell_type": "code",
   "execution_count": 375,
   "id": "d926e97f-2b87-44be-9a80-e227d513a4ff",
   "metadata": {},
   "outputs": [],
   "source": [
    "x = np.linspace(norm.ppf(0.01),\n",
    "...                 norm.ppf(0.99), 100)"
   ]
  },
  {
   "cell_type": "code",
   "execution_count": 376,
   "id": "db0bb942-0727-45d9-a56e-607fef3c95d2",
   "metadata": {},
   "outputs": [
    {
     "data": {
      "text/plain": [
       "array([-2.32634787, -2.27935095, -2.23235402, -2.18535709, -2.13836017,\n",
       "       -2.09136324, -2.04436631, -1.99736939, -1.95037246, -1.90337553,\n",
       "       -1.85637861, -1.80938168, -1.76238475, -1.71538783, -1.6683909 ,\n",
       "       -1.62139397, -1.57439705, -1.52740012, -1.48040319, -1.43340627,\n",
       "       -1.38640934, -1.33941241, -1.29241549, -1.24541856, -1.19842163,\n",
       "       -1.15142471, -1.10442778, -1.05743085, -1.01043393, -0.963437  ,\n",
       "       -0.91644007, -0.86944314, -0.82244622, -0.77544929, -0.72845236,\n",
       "       -0.68145544, -0.63445851, -0.58746158, -0.54046466, -0.49346773,\n",
       "       -0.4464708 , -0.39947388, -0.35247695, -0.30548002, -0.2584831 ,\n",
       "       -0.21148617, -0.16448924, -0.11749232, -0.07049539, -0.02349846,\n",
       "        0.02349846,  0.07049539,  0.11749232,  0.16448924,  0.21148617,\n",
       "        0.2584831 ,  0.30548002,  0.35247695,  0.39947388,  0.4464708 ,\n",
       "        0.49346773,  0.54046466,  0.58746158,  0.63445851,  0.68145544,\n",
       "        0.72845236,  0.77544929,  0.82244622,  0.86944314,  0.91644007,\n",
       "        0.963437  ,  1.01043393,  1.05743085,  1.10442778,  1.15142471,\n",
       "        1.19842163,  1.24541856,  1.29241549,  1.33941241,  1.38640934,\n",
       "        1.43340627,  1.48040319,  1.52740012,  1.57439705,  1.62139397,\n",
       "        1.6683909 ,  1.71538783,  1.76238475,  1.80938168,  1.85637861,\n",
       "        1.90337553,  1.95037246,  1.99736939,  2.04436631,  2.09136324,\n",
       "        2.13836017,  2.18535709,  2.23235402,  2.27935095,  2.32634787])"
      ]
     },
     "execution_count": 376,
     "metadata": {},
     "output_type": "execute_result"
    }
   ],
   "source": [
    "x"
   ]
  },
  {
   "cell_type": "code",
   "execution_count": 381,
   "id": "65d6f268-4595-430c-9b1e-908a70fc674a",
   "metadata": {},
   "outputs": [
    {
     "data": {
      "text/plain": [
       "[<matplotlib.lines.Line2D at 0x3a51a0be0>]"
      ]
     },
     "execution_count": 381,
     "metadata": {},
     "output_type": "execute_result"
    }
   ],
   "source": [
    "ax.plot(x, norm.pdf(x),\n",
    "      'r-', lw=5, alpha=0.6, label='norm pdf')\n",
    "# ax.show()"
   ]
  },
  {
   "cell_type": "markdown",
   "id": "5d350f11-8172-4a61-9937-84a5bb408a22",
   "metadata": {
    "jp-MarkdownHeadingCollapsed": true,
    "tags": []
   },
   "source": [
    "### Manuscript notes\n",
    "Each sample in an encoded cancer cohort has a subtype associated with it so I'm subsetting the latent space by each subtype then sampling within that subtype set to generate synthetic samples of a known subtype"
   ]
  },
  {
   "cell_type": "markdown",
   "id": "65d46a7e-6c25-4a67-8bf4-58cb329e06b7",
   "metadata": {
    "tags": []
   },
   "source": [
    "### Notes and template code:"
   ]
  },
  {
   "cell_type": "code",
   "execution_count": null,
   "id": "4443b97d-df7b-4814-abe6-184ab4bef6c3",
   "metadata": {},
   "outputs": [],
   "source": [
    "2022-11-22 v3 was first decoded learning curve plot\n",
    "make two feature sets and two classifiers\n",
    "then do a rational cross training\n",
    "could also try a triple gradient of colors\n",
    "    feature set, classifier, input / decoded \n",
    "    "
   ]
  },
  {
   "cell_type": "code",
   "execution_count": null,
   "id": "2038d6d9-edf0-409e-a3b7-34f4d5474a22",
   "metadata": {},
   "outputs": [],
   "source": [
    "# This is the MAD5k taken across cohorts to facilitate transfer learning\n",
    "# with normalization done within each cohort information leakage\n",
    "nrm_wthn_pths = sorted(glob.glob('data_GEXP_5k_col_norm/*.tsv'))  "
   ]
  },
  {
   "cell_type": "code",
   "execution_count": null,
   "id": "4fa923d3-b7be-4b7b-af7e-0b622b033ae3",
   "metadata": {},
   "outputs": [],
   "source": [
    "fig, ax = plt.subplots()"
   ]
  },
  {
   "cell_type": "code",
   "execution_count": null,
   "id": "76dded06-525f-4cdf-8974-315c8e8ad4ec",
   "metadata": {},
   "outputs": [],
   "source": [
    "# Check that X and y match up:"
   ]
  },
  {
   "cell_type": "code",
   "execution_count": null,
   "id": "e65a226e-b197-48e7-82b0-720672ed624e",
   "metadata": {
    "tags": []
   },
   "outputs": [],
   "source": [
    "sorted(y.index)"
   ]
  },
  {
   "cell_type": "code",
   "execution_count": null,
   "id": "cddc0b44-c197-405c-8e97-c01bf286671a",
   "metadata": {
    "tags": []
   },
   "outputs": [],
   "source": [
    "sorted(X.index)"
   ]
  },
  {
   "cell_type": "code",
   "execution_count": null,
   "id": "d8a5fd35-ed3b-4f14-a884-1e871b907ea0",
   "metadata": {},
   "outputs": [],
   "source": [
    "# Read big results matrix:\n"
   ]
  },
  {
   "cell_type": "code",
   "execution_count": null,
   "id": "d8d26e9f-c856-4a3f-8634-e397314da5e4",
   "metadata": {},
   "outputs": [],
   "source": [
    "# reject code:\n",
    "\n",
    "        RF_F1_dct['mean'+str(j)] = mean(RF_output) # Take the stats on the tt loop\n",
    "        RF_F1_dct['std'+str(j)] = stdev(RF_output)\n",
    "\n",
    "    X = brca.iloc[:, 1:].sample(smp_sz)\n",
    "    y = brca.loc[X.index, :]"
   ]
  },
  {
   "cell_type": "code",
   "execution_count": null,
   "id": "88ed7d58-7093-4cc9-90a1-d6463e3f7cf3",
   "metadata": {},
   "outputs": [],
   "source": [
    "# First running average of standard deviation plot:"
   ]
  },
  {
   "cell_type": "code",
   "execution_count": 34,
   "id": "bb7e27f2-7977-497d-838c-c5d10524b3d6",
   "metadata": {},
   "outputs": [
    {
     "data": {
      "text/plain": [
       "[<matplotlib.lines.Line2D at 0x298fa2700>]"
      ]
     },
     "execution_count": 34,
     "metadata": {},
     "output_type": "execute_result"
    },
    {
     "data": {
      "image/png": "[encoded data removed]",
      "text/plain": [
       "<Figure size 640x480 with 1 Axes>"
      ]
     },
     "metadata": {},
     "output_type": "display_data"
    }
   ],
   "source": [
    "plt.plot(list(range(0, len(stdev_lst))),\n",
    "        stdev_lst)"
   ]
  }
 ],
 "metadata": {
  "kernelspec": {
   "display_name": "Python 3 (ipykernel)",
   "language": "python",
   "name": "python3"
  },
  "language_info": {
   "codemirror_mode": {
    "name": "ipython",
    "version": 3
   },
   "file_extension": ".py",
   "mimetype": "text/x-python",
   "name": "python",
   "nbconvert_exporter": "python",
   "pygments_lexer": "ipython3",
   "version": "3.9.13"
  }
 },
 "nbformat": 4,
 "nbformat_minor": 5
}
